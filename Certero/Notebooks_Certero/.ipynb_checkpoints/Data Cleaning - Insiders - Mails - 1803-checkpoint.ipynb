{
 "cells": [
  {
   "cell_type": "markdown",
   "metadata": {},
   "source": [
    "# 1) Datasets"
   ]
  },
  {
   "cell_type": "markdown",
   "metadata": {},
   "source": [
    "Leemos el dataset"
   ]
  },
  {
   "cell_type": "code",
   "execution_count": 4,
   "metadata": {},
   "outputs": [],
   "source": [
    "import pandas as pd\n",
    "import numpy as np"
   ]
  },
  {
   "cell_type": "code",
   "execution_count": 5,
   "metadata": {},
   "outputs": [],
   "source": [
    "df = pd.read_csv('sumario.csv')"
   ]
  },
  {
   "cell_type": "code",
   "execution_count": 3,
   "metadata": {},
   "outputs": [
    {
     "data": {
      "text/html": [
       "<div>\n",
       "<style scoped>\n",
       "    .dataframe tbody tr th:only-of-type {\n",
       "        vertical-align: middle;\n",
       "    }\n",
       "\n",
       "    .dataframe tbody tr th {\n",
       "        vertical-align: top;\n",
       "    }\n",
       "\n",
       "    .dataframe thead tr th {\n",
       "        text-align: left;\n",
       "    }\n",
       "</style>\n",
       "<table border=\"1\" class=\"dataframe\">\n",
       "  <thead>\n",
       "    <tr>\n",
       "      <th></th>\n",
       "      <th>Unnamed: 0_level_0</th>\n",
       "      <th>Unnamed: 1_level_0</th>\n",
       "      <th>Unnamed: 2_level_0</th>\n",
       "      <th>Unnamed: 3_level_0</th>\n",
       "      <th>Unnamed: 4_level_0</th>\n",
       "      <th>Unnamed: 5_level_0</th>\n",
       "      <th>Unnamed: 6_level_0</th>\n",
       "      <th>Unnamed: 7_level_0</th>\n",
       "      <th>Unnamed: 8_level_0</th>\n",
       "      <th>Unnamed: 9_level_0</th>\n",
       "      <th>...</th>\n",
       "      <th colspan=\"7\" halign=\"left\">Contactacion Opcional (Familiar)</th>\n",
       "      <th colspan=\"3\" halign=\"left\">Contactacion Opcional (Vecino)</th>\n",
       "    </tr>\n",
       "    <tr>\n",
       "      <th></th>\n",
       "      <th>Cuil</th>\n",
       "      <th>Dni</th>\n",
       "      <th>Fecha de Nac.</th>\n",
       "      <th>Fecha de Defuncion</th>\n",
       "      <th>Sexo</th>\n",
       "      <th>Titular</th>\n",
       "      <th>Calle</th>\n",
       "      <th>Numero</th>\n",
       "      <th>Piso y Depto</th>\n",
       "      <th>Codigo Postal</th>\n",
       "      <th>...</th>\n",
       "      <th>Tel Fijo 2</th>\n",
       "      <th>Celular 1</th>\n",
       "      <th>Celular 2</th>\n",
       "      <th>Celular 3</th>\n",
       "      <th>Celular 4</th>\n",
       "      <th>Celular 5</th>\n",
       "      <th>Email</th>\n",
       "      <th>Nombre</th>\n",
       "      <th>Telefono</th>\n",
       "      <th>SCORE</th>\n",
       "    </tr>\n",
       "  </thead>\n",
       "  <tbody>\n",
       "    <tr>\n",
       "      <th>0</th>\n",
       "      <td>2.700187e+10</td>\n",
       "      <td>187386.0</td>\n",
       "      <td>1929-04-02</td>\n",
       "      <td>NaN</td>\n",
       "      <td>F</td>\n",
       "      <td>HERRERA ENA ELSA</td>\n",
       "      <td>REP DE VENEZUELA</td>\n",
       "      <td>3700</td>\n",
       "      <td>NaN</td>\n",
       "      <td>1211.0</td>\n",
       "      <td>...</td>\n",
       "      <td>NaN</td>\n",
       "      <td>NaN</td>\n",
       "      <td>NaN</td>\n",
       "      <td>NaN</td>\n",
       "      <td>NaN</td>\n",
       "      <td>NaN</td>\n",
       "      <td>NaN</td>\n",
       "      <td>NaN</td>\n",
       "      <td>NaN</td>\n",
       "      <td>0.0</td>\n",
       "    </tr>\n",
       "    <tr>\n",
       "      <th>1</th>\n",
       "      <td>2.700508e+10</td>\n",
       "      <td>507550.0</td>\n",
       "      <td>1939-03-05</td>\n",
       "      <td>NaN</td>\n",
       "      <td>F</td>\n",
       "      <td>ENTRATICO IRMA CLARA</td>\n",
       "      <td>AV URUGUAY</td>\n",
       "      <td>875</td>\n",
       "      <td>NaN</td>\n",
       "      <td>4400.0</td>\n",
       "      <td>...</td>\n",
       "      <td>NaN</td>\n",
       "      <td>NaN</td>\n",
       "      <td>NaN</td>\n",
       "      <td>NaN</td>\n",
       "      <td>NaN</td>\n",
       "      <td>NaN</td>\n",
       "      <td>NaN</td>\n",
       "      <td>PATRON COSTAS GUSTAVO</td>\n",
       "      <td>3.874321e+09</td>\n",
       "      <td>34.0</td>\n",
       "    </tr>\n",
       "    <tr>\n",
       "      <th>2</th>\n",
       "      <td>2.704172e+10</td>\n",
       "      <td>4171534.0</td>\n",
       "      <td>1940-06-02</td>\n",
       "      <td>2020-12-15</td>\n",
       "      <td>F</td>\n",
       "      <td>ITUARTE MARGARITA HORTENSIA</td>\n",
       "      <td>PJE GRANDOLI</td>\n",
       "      <td>6100</td>\n",
       "      <td>NaN</td>\n",
       "      <td>1439.0</td>\n",
       "      <td>...</td>\n",
       "      <td>NaN</td>\n",
       "      <td>NaN</td>\n",
       "      <td>NaN</td>\n",
       "      <td>NaN</td>\n",
       "      <td>NaN</td>\n",
       "      <td>NaN</td>\n",
       "      <td>NaN</td>\n",
       "      <td>NaN</td>\n",
       "      <td>NaN</td>\n",
       "      <td>891.0</td>\n",
       "    </tr>\n",
       "    <tr>\n",
       "      <th>3</th>\n",
       "      <td>2.004174e+10</td>\n",
       "      <td>4173550.0</td>\n",
       "      <td>1936-01-28</td>\n",
       "      <td>NaN</td>\n",
       "      <td>M</td>\n",
       "      <td>VISCONTI EDUARDO JUAN</td>\n",
       "      <td>JUAN JOSE VIAMONTE</td>\n",
       "      <td>1592</td>\n",
       "      <td>NaN</td>\n",
       "      <td>1055.0</td>\n",
       "      <td>...</td>\n",
       "      <td>NaN</td>\n",
       "      <td>NaN</td>\n",
       "      <td>NaN</td>\n",
       "      <td>NaN</td>\n",
       "      <td>NaN</td>\n",
       "      <td>NaN</td>\n",
       "      <td>NaN</td>\n",
       "      <td>NaN</td>\n",
       "      <td>NaN</td>\n",
       "      <td>958.0</td>\n",
       "    </tr>\n",
       "    <tr>\n",
       "      <th>4</th>\n",
       "      <td>2.004200e+10</td>\n",
       "      <td>4200228.0</td>\n",
       "      <td>1936-12-08</td>\n",
       "      <td>NaN</td>\n",
       "      <td>M</td>\n",
       "      <td>CACCHIONE MIGUEL ANGEL</td>\n",
       "      <td>BRUNO MARIANO DE ZABALA</td>\n",
       "      <td>1706</td>\n",
       "      <td>NaN</td>\n",
       "      <td>1426.0</td>\n",
       "      <td>...</td>\n",
       "      <td>NaN</td>\n",
       "      <td>NaN</td>\n",
       "      <td>NaN</td>\n",
       "      <td>NaN</td>\n",
       "      <td>NaN</td>\n",
       "      <td>NaN</td>\n",
       "      <td>NaN</td>\n",
       "      <td>NaN</td>\n",
       "      <td>NaN</td>\n",
       "      <td>345.0</td>\n",
       "    </tr>\n",
       "  </tbody>\n",
       "</table>\n",
       "<p>5 rows × 226 columns</p>\n",
       "</div>"
      ],
      "text/plain": [
       "  Unnamed: 0_level_0 Unnamed: 1_level_0 Unnamed: 2_level_0 Unnamed: 3_level_0  \\\n",
       "                Cuil                Dni      Fecha de Nac. Fecha de Defuncion   \n",
       "0       2.700187e+10           187386.0         1929-04-02                NaN   \n",
       "1       2.700508e+10           507550.0         1939-03-05                NaN   \n",
       "2       2.704172e+10          4171534.0         1940-06-02         2020-12-15   \n",
       "3       2.004174e+10          4173550.0         1936-01-28                NaN   \n",
       "4       2.004200e+10          4200228.0         1936-12-08                NaN   \n",
       "\n",
       "  Unnamed: 4_level_0           Unnamed: 5_level_0       Unnamed: 6_level_0  \\\n",
       "                Sexo                      Titular                    Calle   \n",
       "0                  F             HERRERA ENA ELSA         REP DE VENEZUELA   \n",
       "1                  F         ENTRATICO IRMA CLARA               AV URUGUAY   \n",
       "2                  F  ITUARTE MARGARITA HORTENSIA             PJE GRANDOLI   \n",
       "3                  M        VISCONTI EDUARDO JUAN       JUAN JOSE VIAMONTE   \n",
       "4                  M       CACCHIONE MIGUEL ANGEL  BRUNO MARIANO DE ZABALA   \n",
       "\n",
       "  Unnamed: 7_level_0 Unnamed: 8_level_0 Unnamed: 9_level_0  ...  \\\n",
       "              Numero       Piso y Depto      Codigo Postal  ...   \n",
       "0               3700                NaN             1211.0  ...   \n",
       "1                875                NaN             4400.0  ...   \n",
       "2               6100                NaN             1439.0  ...   \n",
       "3               1592                NaN             1055.0  ...   \n",
       "4               1706                NaN             1426.0  ...   \n",
       "\n",
       "  Contactacion Opcional (Familiar)                                          \\\n",
       "                        Tel Fijo 2 Celular 1 Celular 2 Celular 3 Celular 4   \n",
       "0                              NaN       NaN       NaN       NaN       NaN   \n",
       "1                              NaN       NaN       NaN       NaN       NaN   \n",
       "2                              NaN       NaN       NaN       NaN       NaN   \n",
       "3                              NaN       NaN       NaN       NaN       NaN   \n",
       "4                              NaN       NaN       NaN       NaN       NaN   \n",
       "\n",
       "                  Contactacion Opcional (Vecino)                       \n",
       "  Celular 5 Email                         Nombre      Telefono  SCORE  \n",
       "0       NaN   NaN                            NaN           NaN    0.0  \n",
       "1       NaN   NaN          PATRON COSTAS GUSTAVO  3.874321e+09   34.0  \n",
       "2       NaN   NaN                            NaN           NaN  891.0  \n",
       "3       NaN   NaN                            NaN           NaN  958.0  \n",
       "4       NaN   NaN                            NaN           NaN  345.0  \n",
       "\n",
       "[5 rows x 226 columns]"
      ]
     },
     "execution_count": 3,
     "metadata": {},
     "output_type": "execute_result"
    }
   ],
   "source": [
    "df.head()"
   ]
  },
  {
   "cell_type": "code",
   "execution_count": 6,
   "metadata": {},
   "outputs": [
    {
     "data": {
      "text/html": [
       "<div>\n",
       "<style scoped>\n",
       "    .dataframe tbody tr th:only-of-type {\n",
       "        vertical-align: middle;\n",
       "    }\n",
       "\n",
       "    .dataframe tbody tr th {\n",
       "        vertical-align: top;\n",
       "    }\n",
       "\n",
       "    .dataframe thead th {\n",
       "        text-align: right;\n",
       "    }\n",
       "</style>\n",
       "<table border=\"1\" class=\"dataframe\">\n",
       "  <thead>\n",
       "    <tr style=\"text-align: right;\">\n",
       "      <th></th>\n",
       "      <th>#ID</th>\n",
       "      <th>DOCUMENTO</th>\n",
       "      <th>CUIL</th>\n",
       "      <th>APELLIDO</th>\n",
       "      <th>NOMBRE</th>\n",
       "      <th>SEXO</th>\n",
       "      <th>FECHA_NAC</th>\n",
       "      <th>DIFUNTO</th>\n",
       "      <th>PADRON_DOMICILIO</th>\n",
       "      <th>PADRON_LOCALIDAD</th>\n",
       "      <th>...</th>\n",
       "      <th>TELEFONO_FIJO1</th>\n",
       "      <th>TELEFONO_FIJO1_OPERADOR</th>\n",
       "      <th>TELEFONO_FIJO2</th>\n",
       "      <th>TELEFONO_FIJO2_OPERADOR</th>\n",
       "      <th>TELEFONO_FIJO3</th>\n",
       "      <th>TELEFONO_FIJO3_OPERADOR</th>\n",
       "      <th>TELEFONO_FIJO4</th>\n",
       "      <th>TELEFONO_FIJO4_OPERADOR</th>\n",
       "      <th>EMAIL</th>\n",
       "      <th>EMAIL2</th>\n",
       "    </tr>\n",
       "  </thead>\n",
       "  <tbody>\n",
       "    <tr>\n",
       "      <th>0</th>\n",
       "      <td>NaN</td>\n",
       "      <td>14002409</td>\n",
       "      <td>20140024091</td>\n",
       "      <td>CARMONA</td>\n",
       "      <td>CARLOS RUBEN</td>\n",
       "      <td>M</td>\n",
       "      <td>19/06/1961</td>\n",
       "      <td>NO</td>\n",
       "      <td>UJEMVI</td>\n",
       "      <td>EL ZAPALLAR</td>\n",
       "      <td>...</td>\n",
       "      <td>NaN</td>\n",
       "      <td>NaN</td>\n",
       "      <td>NaN</td>\n",
       "      <td>NaN</td>\n",
       "      <td>NaN</td>\n",
       "      <td>NaN</td>\n",
       "      <td>NaN</td>\n",
       "      <td>NaN</td>\n",
       "      <td>NaN</td>\n",
       "      <td>NaN</td>\n",
       "    </tr>\n",
       "    <tr>\n",
       "      <th>1</th>\n",
       "      <td>NaN</td>\n",
       "      <td>14615384</td>\n",
       "      <td>20146153845</td>\n",
       "      <td>LOPEZ</td>\n",
       "      <td>JORGE OSVALDO</td>\n",
       "      <td>M</td>\n",
       "      <td>08/11/1961</td>\n",
       "      <td>NO</td>\n",
       "      <td>ISLANDIA 4030</td>\n",
       "      <td>LANUS</td>\n",
       "      <td>...</td>\n",
       "      <td>NaN</td>\n",
       "      <td>NaN</td>\n",
       "      <td>NaN</td>\n",
       "      <td>NaN</td>\n",
       "      <td>NaN</td>\n",
       "      <td>NaN</td>\n",
       "      <td>NaN</td>\n",
       "      <td>NaN</td>\n",
       "      <td>JORGUITOLOPEZ66@OUTLOOK.COM</td>\n",
       "      <td>jorgeracing@hotmail.com</td>\n",
       "    </tr>\n",
       "    <tr>\n",
       "      <th>2</th>\n",
       "      <td>NaN</td>\n",
       "      <td>16529147</td>\n",
       "      <td>20165291477</td>\n",
       "      <td>OLIVA</td>\n",
       "      <td>MARCELO AGUSTIN</td>\n",
       "      <td>M</td>\n",
       "      <td>30/04/1963</td>\n",
       "      <td>NO</td>\n",
       "      <td>CASTELLI 1605</td>\n",
       "      <td>BILLINGHURST</td>\n",
       "      <td>...</td>\n",
       "      <td>1.147529e+09</td>\n",
       "      <td>Telecom Argentina</td>\n",
       "      <td>NaN</td>\n",
       "      <td>NaN</td>\n",
       "      <td>NaN</td>\n",
       "      <td>NaN</td>\n",
       "      <td>NaN</td>\n",
       "      <td>NaN</td>\n",
       "      <td>MARCELO_A_OLIVA@HOTMAIL.COM</td>\n",
       "      <td>NaN</td>\n",
       "    </tr>\n",
       "    <tr>\n",
       "      <th>3</th>\n",
       "      <td>NaN</td>\n",
       "      <td>19060653</td>\n",
       "      <td>27190606533</td>\n",
       "      <td>FERNANDEZ REBECA NOEMI</td>\n",
       "      <td>NOEMI</td>\n",
       "      <td>F</td>\n",
       "      <td>01/01/0001</td>\n",
       "      <td>NO</td>\n",
       "      <td>NaN</td>\n",
       "      <td>NaN</td>\n",
       "      <td>...</td>\n",
       "      <td>NaN</td>\n",
       "      <td>NaN</td>\n",
       "      <td>NaN</td>\n",
       "      <td>NaN</td>\n",
       "      <td>NaN</td>\n",
       "      <td>NaN</td>\n",
       "      <td>NaN</td>\n",
       "      <td>NaN</td>\n",
       "      <td>REBEF@GMAIL.COM</td>\n",
       "      <td>NaN</td>\n",
       "    </tr>\n",
       "    <tr>\n",
       "      <th>4</th>\n",
       "      <td>NaN</td>\n",
       "      <td>22281497</td>\n",
       "      <td>27222814974</td>\n",
       "      <td>GONZALEZ</td>\n",
       "      <td>MIRIAN MABEL</td>\n",
       "      <td>F</td>\n",
       "      <td>04/03/1972</td>\n",
       "      <td>NO</td>\n",
       "      <td>LAS PIEDRAS 364</td>\n",
       "      <td>RIO GALLEGOS</td>\n",
       "      <td>...</td>\n",
       "      <td>NaN</td>\n",
       "      <td>NaN</td>\n",
       "      <td>NaN</td>\n",
       "      <td>NaN</td>\n",
       "      <td>NaN</td>\n",
       "      <td>NaN</td>\n",
       "      <td>NaN</td>\n",
       "      <td>NaN</td>\n",
       "      <td>NaN</td>\n",
       "      <td>NaN</td>\n",
       "    </tr>\n",
       "  </tbody>\n",
       "</table>\n",
       "<p>5 rows × 33 columns</p>\n",
       "</div>"
      ],
      "text/plain": [
       "   #ID  DOCUMENTO         CUIL                APELLIDO           NOMBRE SEXO  \\\n",
       "0  NaN   14002409  20140024091                 CARMONA     CARLOS RUBEN    M   \n",
       "1  NaN   14615384  20146153845                   LOPEZ    JORGE OSVALDO    M   \n",
       "2  NaN   16529147  20165291477                   OLIVA  MARCELO AGUSTIN    M   \n",
       "3  NaN   19060653  27190606533  FERNANDEZ REBECA NOEMI            NOEMI    F   \n",
       "4  NaN   22281497  27222814974                GONZALEZ     MIRIAN MABEL    F   \n",
       "\n",
       "    FECHA_NAC DIFUNTO PADRON_DOMICILIO PADRON_LOCALIDAD  ... TELEFONO_FIJO1  \\\n",
       "0  19/06/1961      NO           UJEMVI      EL ZAPALLAR  ...            NaN   \n",
       "1  08/11/1961      NO    ISLANDIA 4030            LANUS  ...            NaN   \n",
       "2  30/04/1963      NO    CASTELLI 1605     BILLINGHURST  ...   1.147529e+09   \n",
       "3  01/01/0001      NO              NaN              NaN  ...            NaN   \n",
       "4  04/03/1972      NO  LAS PIEDRAS 364     RIO GALLEGOS  ...            NaN   \n",
       "\n",
       "   TELEFONO_FIJO1_OPERADOR  TELEFONO_FIJO2  TELEFONO_FIJO2_OPERADOR  \\\n",
       "0                      NaN             NaN                      NaN   \n",
       "1                      NaN             NaN                      NaN   \n",
       "2        Telecom Argentina             NaN                      NaN   \n",
       "3                      NaN             NaN                      NaN   \n",
       "4                      NaN             NaN                      NaN   \n",
       "\n",
       "   TELEFONO_FIJO3  TELEFONO_FIJO3_OPERADOR TELEFONO_FIJO4  \\\n",
       "0             NaN                      NaN            NaN   \n",
       "1             NaN                      NaN            NaN   \n",
       "2             NaN                      NaN            NaN   \n",
       "3             NaN                      NaN            NaN   \n",
       "4             NaN                      NaN            NaN   \n",
       "\n",
       "   TELEFONO_FIJO4_OPERADOR                        EMAIL  \\\n",
       "0                      NaN                          NaN   \n",
       "1                      NaN  JORGUITOLOPEZ66@OUTLOOK.COM   \n",
       "2                      NaN  MARCELO_A_OLIVA@HOTMAIL.COM   \n",
       "3                      NaN              REBEF@GMAIL.COM   \n",
       "4                      NaN                          NaN   \n",
       "\n",
       "                    EMAIL2  \n",
       "0                      NaN  \n",
       "1  jorgeracing@hotmail.com  \n",
       "2                      NaN  \n",
       "3                      NaN  \n",
       "4                      NaN  \n",
       "\n",
       "[5 rows x 33 columns]"
      ]
     },
     "execution_count": 6,
     "metadata": {},
     "output_type": "execute_result"
    }
   ],
   "source": [
    "df.head()"
   ]
  },
  {
   "cell_type": "code",
   "execution_count": 7,
   "metadata": {
    "scrolled": true
   },
   "outputs": [
    {
     "data": {
      "text/plain": [
       "(6, 33)"
      ]
     },
     "execution_count": 7,
     "metadata": {},
     "output_type": "execute_result"
    }
   ],
   "source": [
    "df.shape"
   ]
  },
  {
   "cell_type": "markdown",
   "metadata": {},
   "source": [
    "## 1.2) Data Cleaning: Datasets"
   ]
  },
  {
   "cell_type": "markdown",
   "metadata": {},
   "source": [
    "Vamos a dropear aquellas columnas y filas que no tengan ningún valor (es decir, que sean todos NaNs)"
   ]
  },
  {
   "cell_type": "code",
   "execution_count": 8,
   "metadata": {},
   "outputs": [],
   "source": [
    "df = df.dropna(axis=0, how='all')"
   ]
  },
  {
   "cell_type": "code",
   "execution_count": 9,
   "metadata": {},
   "outputs": [],
   "source": [
    "#df = df.dropna(axis=1, how='all')"
   ]
  },
  {
   "cell_type": "code",
   "execution_count": 10,
   "metadata": {},
   "outputs": [
    {
     "data": {
      "text/plain": [
       "(6, 33)"
      ]
     },
     "execution_count": 10,
     "metadata": {},
     "output_type": "execute_result"
    }
   ],
   "source": [
    "df.shape"
   ]
  },
  {
   "cell_type": "markdown",
   "metadata": {},
   "source": [
    "Ahora todas las columnas tienen al menos 1 dato."
   ]
  },
  {
   "cell_type": "markdown",
   "metadata": {},
   "source": [
    "# 2) Mails"
   ]
  },
  {
   "cell_type": "code",
   "execution_count": 11,
   "metadata": {},
   "outputs": [
    {
     "data": {
      "text/html": [
       "<div>\n",
       "<style scoped>\n",
       "    .dataframe tbody tr th:only-of-type {\n",
       "        vertical-align: middle;\n",
       "    }\n",
       "\n",
       "    .dataframe tbody tr th {\n",
       "        vertical-align: top;\n",
       "    }\n",
       "\n",
       "    .dataframe thead th {\n",
       "        text-align: right;\n",
       "    }\n",
       "</style>\n",
       "<table border=\"1\" class=\"dataframe\">\n",
       "  <thead>\n",
       "    <tr style=\"text-align: right;\">\n",
       "      <th></th>\n",
       "      <th>#ID</th>\n",
       "      <th>DOCUMENTO</th>\n",
       "      <th>CUIL</th>\n",
       "      <th>APELLIDO</th>\n",
       "      <th>NOMBRE</th>\n",
       "      <th>SEXO</th>\n",
       "      <th>FECHA_NAC</th>\n",
       "      <th>DIFUNTO</th>\n",
       "      <th>PADRON_DOMICILIO</th>\n",
       "      <th>PADRON_LOCALIDAD</th>\n",
       "      <th>...</th>\n",
       "      <th>TELEFONO_FIJO1</th>\n",
       "      <th>TELEFONO_FIJO1_OPERADOR</th>\n",
       "      <th>TELEFONO_FIJO2</th>\n",
       "      <th>TELEFONO_FIJO2_OPERADOR</th>\n",
       "      <th>TELEFONO_FIJO3</th>\n",
       "      <th>TELEFONO_FIJO3_OPERADOR</th>\n",
       "      <th>TELEFONO_FIJO4</th>\n",
       "      <th>TELEFONO_FIJO4_OPERADOR</th>\n",
       "      <th>EMAIL</th>\n",
       "      <th>EMAIL2</th>\n",
       "    </tr>\n",
       "  </thead>\n",
       "  <tbody>\n",
       "    <tr>\n",
       "      <th>0</th>\n",
       "      <td>NaN</td>\n",
       "      <td>14002409</td>\n",
       "      <td>20140024091</td>\n",
       "      <td>CARMONA</td>\n",
       "      <td>CARLOS RUBEN</td>\n",
       "      <td>M</td>\n",
       "      <td>19/06/1961</td>\n",
       "      <td>NO</td>\n",
       "      <td>UJEMVI</td>\n",
       "      <td>EL ZAPALLAR</td>\n",
       "      <td>...</td>\n",
       "      <td>NaN</td>\n",
       "      <td>NaN</td>\n",
       "      <td>NaN</td>\n",
       "      <td>NaN</td>\n",
       "      <td>NaN</td>\n",
       "      <td>NaN</td>\n",
       "      <td>NaN</td>\n",
       "      <td>NaN</td>\n",
       "      <td>NaN</td>\n",
       "      <td>NaN</td>\n",
       "    </tr>\n",
       "  </tbody>\n",
       "</table>\n",
       "<p>1 rows × 33 columns</p>\n",
       "</div>"
      ],
      "text/plain": [
       "   #ID  DOCUMENTO         CUIL APELLIDO        NOMBRE SEXO   FECHA_NAC  \\\n",
       "0  NaN   14002409  20140024091  CARMONA  CARLOS RUBEN    M  19/06/1961   \n",
       "\n",
       "  DIFUNTO PADRON_DOMICILIO PADRON_LOCALIDAD  ... TELEFONO_FIJO1  \\\n",
       "0      NO           UJEMVI      EL ZAPALLAR  ...            NaN   \n",
       "\n",
       "   TELEFONO_FIJO1_OPERADOR  TELEFONO_FIJO2  TELEFONO_FIJO2_OPERADOR  \\\n",
       "0                      NaN             NaN                      NaN   \n",
       "\n",
       "   TELEFONO_FIJO3  TELEFONO_FIJO3_OPERADOR TELEFONO_FIJO4  \\\n",
       "0             NaN                      NaN            NaN   \n",
       "\n",
       "   TELEFONO_FIJO4_OPERADOR EMAIL  EMAIL2  \n",
       "0                      NaN   NaN     NaN  \n",
       "\n",
       "[1 rows x 33 columns]"
      ]
     },
     "execution_count": 11,
     "metadata": {},
     "output_type": "execute_result"
    }
   ],
   "source": [
    "df.head(1)"
   ]
  },
  {
   "cell_type": "markdown",
   "metadata": {},
   "source": [
    "Vamos a obtener los mails de las columnas donde pueden aparecer, que son:\n",
    "\n",
    "- Mail 1, 2 y 3.\n",
    "- Email Empleador.\n",
    "- Contactacion Opcional (Familiar) - Email."
   ]
  },
  {
   "cell_type": "code",
   "execution_count": 12,
   "metadata": {},
   "outputs": [
    {
     "data": {
      "text/html": [
       "<div>\n",
       "<style scoped>\n",
       "    .dataframe tbody tr th:only-of-type {\n",
       "        vertical-align: middle;\n",
       "    }\n",
       "\n",
       "    .dataframe tbody tr th {\n",
       "        vertical-align: top;\n",
       "    }\n",
       "\n",
       "    .dataframe thead th {\n",
       "        text-align: right;\n",
       "    }\n",
       "</style>\n",
       "<table border=\"1\" class=\"dataframe\">\n",
       "  <thead>\n",
       "    <tr style=\"text-align: right;\">\n",
       "      <th></th>\n",
       "      <th>DOCUMENTO</th>\n",
       "      <th>CUIL</th>\n",
       "      <th>APELLIDO</th>\n",
       "      <th>NOMBRE</th>\n",
       "      <th>EMAIL</th>\n",
       "      <th>EMAIL2</th>\n",
       "    </tr>\n",
       "  </thead>\n",
       "  <tbody>\n",
       "    <tr>\n",
       "      <th>0</th>\n",
       "      <td>14002409</td>\n",
       "      <td>20140024091</td>\n",
       "      <td>CARMONA</td>\n",
       "      <td>CARLOS RUBEN</td>\n",
       "      <td>NaN</td>\n",
       "      <td>NaN</td>\n",
       "    </tr>\n",
       "    <tr>\n",
       "      <th>1</th>\n",
       "      <td>14615384</td>\n",
       "      <td>20146153845</td>\n",
       "      <td>LOPEZ</td>\n",
       "      <td>JORGE OSVALDO</td>\n",
       "      <td>JORGUITOLOPEZ66@OUTLOOK.COM</td>\n",
       "      <td>jorgeracing@hotmail.com</td>\n",
       "    </tr>\n",
       "    <tr>\n",
       "      <th>2</th>\n",
       "      <td>16529147</td>\n",
       "      <td>20165291477</td>\n",
       "      <td>OLIVA</td>\n",
       "      <td>MARCELO AGUSTIN</td>\n",
       "      <td>MARCELO_A_OLIVA@HOTMAIL.COM</td>\n",
       "      <td>NaN</td>\n",
       "    </tr>\n",
       "    <tr>\n",
       "      <th>3</th>\n",
       "      <td>19060653</td>\n",
       "      <td>27190606533</td>\n",
       "      <td>FERNANDEZ REBECA NOEMI</td>\n",
       "      <td>NOEMI</td>\n",
       "      <td>REBEF@GMAIL.COM</td>\n",
       "      <td>NaN</td>\n",
       "    </tr>\n",
       "    <tr>\n",
       "      <th>4</th>\n",
       "      <td>22281497</td>\n",
       "      <td>27222814974</td>\n",
       "      <td>GONZALEZ</td>\n",
       "      <td>MIRIAN MABEL</td>\n",
       "      <td>NaN</td>\n",
       "      <td>NaN</td>\n",
       "    </tr>\n",
       "  </tbody>\n",
       "</table>\n",
       "</div>"
      ],
      "text/plain": [
       "   DOCUMENTO         CUIL                APELLIDO           NOMBRE  \\\n",
       "0   14002409  20140024091                 CARMONA     CARLOS RUBEN   \n",
       "1   14615384  20146153845                   LOPEZ    JORGE OSVALDO   \n",
       "2   16529147  20165291477                   OLIVA  MARCELO AGUSTIN   \n",
       "3   19060653  27190606533  FERNANDEZ REBECA NOEMI            NOEMI   \n",
       "4   22281497  27222814974                GONZALEZ     MIRIAN MABEL   \n",
       "\n",
       "                         EMAIL                   EMAIL2  \n",
       "0                          NaN                      NaN  \n",
       "1  JORGUITOLOPEZ66@OUTLOOK.COM  jorgeracing@hotmail.com  \n",
       "2  MARCELO_A_OLIVA@HOTMAIL.COM                      NaN  \n",
       "3              REBEF@GMAIL.COM                      NaN  \n",
       "4                          NaN                      NaN  "
      ]
     },
     "execution_count": 12,
     "metadata": {},
     "output_type": "execute_result"
    }
   ],
   "source": [
    "df_reduced = df[[\"DOCUMENTO\", \"CUIL\", \"APELLIDO\", \"NOMBRE\", \"EMAIL\",\"EMAIL2\"]]\n",
    "df_reduced.head()"
   ]
  },
  {
   "cell_type": "code",
   "execution_count": 13,
   "metadata": {},
   "outputs": [],
   "source": [
    "df_reduced = df_reduced.rename(columns={\"CUIL\": \"CUIT_CUIL\", 'DOCUMENTO': 'NRO_DOC'})"
   ]
  },
  {
   "cell_type": "code",
   "execution_count": 14,
   "metadata": {},
   "outputs": [
    {
     "data": {
      "text/html": [
       "<div>\n",
       "<style scoped>\n",
       "    .dataframe tbody tr th:only-of-type {\n",
       "        vertical-align: middle;\n",
       "    }\n",
       "\n",
       "    .dataframe tbody tr th {\n",
       "        vertical-align: top;\n",
       "    }\n",
       "\n",
       "    .dataframe thead th {\n",
       "        text-align: right;\n",
       "    }\n",
       "</style>\n",
       "<table border=\"1\" class=\"dataframe\">\n",
       "  <thead>\n",
       "    <tr style=\"text-align: right;\">\n",
       "      <th></th>\n",
       "      <th>NRO_DOC</th>\n",
       "      <th>CUIT_CUIL</th>\n",
       "      <th>APELLIDO</th>\n",
       "      <th>NOMBRE</th>\n",
       "      <th>EMAIL</th>\n",
       "      <th>EMAIL2</th>\n",
       "    </tr>\n",
       "  </thead>\n",
       "  <tbody>\n",
       "    <tr>\n",
       "      <th>0</th>\n",
       "      <td>14002409</td>\n",
       "      <td>20140024091</td>\n",
       "      <td>CARMONA</td>\n",
       "      <td>CARLOS RUBEN</td>\n",
       "      <td>NaN</td>\n",
       "      <td>NaN</td>\n",
       "    </tr>\n",
       "    <tr>\n",
       "      <th>1</th>\n",
       "      <td>14615384</td>\n",
       "      <td>20146153845</td>\n",
       "      <td>LOPEZ</td>\n",
       "      <td>JORGE OSVALDO</td>\n",
       "      <td>JORGUITOLOPEZ66@OUTLOOK.COM</td>\n",
       "      <td>jorgeracing@hotmail.com</td>\n",
       "    </tr>\n",
       "    <tr>\n",
       "      <th>2</th>\n",
       "      <td>16529147</td>\n",
       "      <td>20165291477</td>\n",
       "      <td>OLIVA</td>\n",
       "      <td>MARCELO AGUSTIN</td>\n",
       "      <td>MARCELO_A_OLIVA@HOTMAIL.COM</td>\n",
       "      <td>NaN</td>\n",
       "    </tr>\n",
       "    <tr>\n",
       "      <th>3</th>\n",
       "      <td>19060653</td>\n",
       "      <td>27190606533</td>\n",
       "      <td>FERNANDEZ REBECA NOEMI</td>\n",
       "      <td>NOEMI</td>\n",
       "      <td>REBEF@GMAIL.COM</td>\n",
       "      <td>NaN</td>\n",
       "    </tr>\n",
       "    <tr>\n",
       "      <th>4</th>\n",
       "      <td>22281497</td>\n",
       "      <td>27222814974</td>\n",
       "      <td>GONZALEZ</td>\n",
       "      <td>MIRIAN MABEL</td>\n",
       "      <td>NaN</td>\n",
       "      <td>NaN</td>\n",
       "    </tr>\n",
       "  </tbody>\n",
       "</table>\n",
       "</div>"
      ],
      "text/plain": [
       "    NRO_DOC    CUIT_CUIL                APELLIDO           NOMBRE  \\\n",
       "0  14002409  20140024091                 CARMONA     CARLOS RUBEN   \n",
       "1  14615384  20146153845                   LOPEZ    JORGE OSVALDO   \n",
       "2  16529147  20165291477                   OLIVA  MARCELO AGUSTIN   \n",
       "3  19060653  27190606533  FERNANDEZ REBECA NOEMI            NOEMI   \n",
       "4  22281497  27222814974                GONZALEZ     MIRIAN MABEL   \n",
       "\n",
       "                         EMAIL                   EMAIL2  \n",
       "0                          NaN                      NaN  \n",
       "1  JORGUITOLOPEZ66@OUTLOOK.COM  jorgeracing@hotmail.com  \n",
       "2  MARCELO_A_OLIVA@HOTMAIL.COM                      NaN  \n",
       "3              REBEF@GMAIL.COM                      NaN  \n",
       "4                          NaN                      NaN  "
      ]
     },
     "execution_count": 14,
     "metadata": {},
     "output_type": "execute_result"
    }
   ],
   "source": [
    "df_reduced.head()"
   ]
  },
  {
   "cell_type": "markdown",
   "metadata": {},
   "source": [
    "# 3) Concatenación de Mails"
   ]
  },
  {
   "cell_type": "markdown",
   "metadata": {},
   "source": [
    "Como PyP envía un mail por celda, tengo que concatenar las columnas Mail_propio y Mail_ajeno en una lista dentro de una nueva columna denominada \"Dato\"\n",
    "y luego se ponen todos los mails en minúscula"
   ]
  },
  {
   "cell_type": "code",
   "execution_count": 15,
   "metadata": {},
   "outputs": [],
   "source": [
    "df_melt = pd.melt(df_reduced, id_vars=['CUIT_CUIL', 'NRO_DOC', 'APELLIDO','NOMBRE'], \n",
    "                 value_vars=['EMAIL','EMAIL2'],value_name='Dato')\n",
    "df_melt[\"Dato\"] = df_melt[\"Dato\"].str.lower()"
   ]
  },
  {
   "cell_type": "code",
   "execution_count": 16,
   "metadata": {},
   "outputs": [
    {
     "data": {
      "text/html": [
       "<div>\n",
       "<style scoped>\n",
       "    .dataframe tbody tr th:only-of-type {\n",
       "        vertical-align: middle;\n",
       "    }\n",
       "\n",
       "    .dataframe tbody tr th {\n",
       "        vertical-align: top;\n",
       "    }\n",
       "\n",
       "    .dataframe thead th {\n",
       "        text-align: right;\n",
       "    }\n",
       "</style>\n",
       "<table border=\"1\" class=\"dataframe\">\n",
       "  <thead>\n",
       "    <tr style=\"text-align: right;\">\n",
       "      <th></th>\n",
       "      <th>CUIT_CUIL</th>\n",
       "      <th>NRO_DOC</th>\n",
       "      <th>APELLIDO</th>\n",
       "      <th>NOMBRE</th>\n",
       "      <th>variable</th>\n",
       "      <th>Dato</th>\n",
       "    </tr>\n",
       "  </thead>\n",
       "  <tbody>\n",
       "    <tr>\n",
       "      <th>0</th>\n",
       "      <td>20140024091</td>\n",
       "      <td>14002409</td>\n",
       "      <td>CARMONA</td>\n",
       "      <td>CARLOS RUBEN</td>\n",
       "      <td>EMAIL</td>\n",
       "      <td>NaN</td>\n",
       "    </tr>\n",
       "    <tr>\n",
       "      <th>1</th>\n",
       "      <td>20146153845</td>\n",
       "      <td>14615384</td>\n",
       "      <td>LOPEZ</td>\n",
       "      <td>JORGE OSVALDO</td>\n",
       "      <td>EMAIL</td>\n",
       "      <td>jorguitolopez66@outlook.com</td>\n",
       "    </tr>\n",
       "    <tr>\n",
       "      <th>2</th>\n",
       "      <td>20165291477</td>\n",
       "      <td>16529147</td>\n",
       "      <td>OLIVA</td>\n",
       "      <td>MARCELO AGUSTIN</td>\n",
       "      <td>EMAIL</td>\n",
       "      <td>marcelo_a_oliva@hotmail.com</td>\n",
       "    </tr>\n",
       "    <tr>\n",
       "      <th>3</th>\n",
       "      <td>27190606533</td>\n",
       "      <td>19060653</td>\n",
       "      <td>FERNANDEZ REBECA NOEMI</td>\n",
       "      <td>NOEMI</td>\n",
       "      <td>EMAIL</td>\n",
       "      <td>rebef@gmail.com</td>\n",
       "    </tr>\n",
       "    <tr>\n",
       "      <th>4</th>\n",
       "      <td>27222814974</td>\n",
       "      <td>22281497</td>\n",
       "      <td>GONZALEZ</td>\n",
       "      <td>MIRIAN MABEL</td>\n",
       "      <td>EMAIL</td>\n",
       "      <td>NaN</td>\n",
       "    </tr>\n",
       "  </tbody>\n",
       "</table>\n",
       "</div>"
      ],
      "text/plain": [
       "     CUIT_CUIL   NRO_DOC                APELLIDO           NOMBRE variable  \\\n",
       "0  20140024091  14002409                 CARMONA     CARLOS RUBEN    EMAIL   \n",
       "1  20146153845  14615384                   LOPEZ    JORGE OSVALDO    EMAIL   \n",
       "2  20165291477  16529147                   OLIVA  MARCELO AGUSTIN    EMAIL   \n",
       "3  27190606533  19060653  FERNANDEZ REBECA NOEMI            NOEMI    EMAIL   \n",
       "4  27222814974  22281497                GONZALEZ     MIRIAN MABEL    EMAIL   \n",
       "\n",
       "                          Dato  \n",
       "0                          NaN  \n",
       "1  jorguitolopez66@outlook.com  \n",
       "2  marcelo_a_oliva@hotmail.com  \n",
       "3              rebef@gmail.com  \n",
       "4                          NaN  "
      ]
     },
     "execution_count": 16,
     "metadata": {},
     "output_type": "execute_result"
    }
   ],
   "source": [
    "df_melt.head()"
   ]
  },
  {
   "cell_type": "markdown",
   "metadata": {},
   "source": [
    "# 4) Drop NaNs"
   ]
  },
  {
   "cell_type": "markdown",
   "metadata": {},
   "source": [
    "Dropeamos aquellas filas que tengan NaN en la columna Dato, ya que no nos aporta nada:"
   ]
  },
  {
   "cell_type": "code",
   "execution_count": 17,
   "metadata": {},
   "outputs": [],
   "source": [
    "df_melt = df_melt.dropna(subset=['Dato'])"
   ]
  },
  {
   "cell_type": "code",
   "execution_count": 18,
   "metadata": {},
   "outputs": [
    {
     "data": {
      "text/plain": [
       "(6, 6)"
      ]
     },
     "execution_count": 18,
     "metadata": {},
     "output_type": "execute_result"
    }
   ],
   "source": [
    "df_melt.shape"
   ]
  },
  {
   "cell_type": "code",
   "execution_count": 19,
   "metadata": {},
   "outputs": [
    {
     "data": {
      "text/html": [
       "<div>\n",
       "<style scoped>\n",
       "    .dataframe tbody tr th:only-of-type {\n",
       "        vertical-align: middle;\n",
       "    }\n",
       "\n",
       "    .dataframe tbody tr th {\n",
       "        vertical-align: top;\n",
       "    }\n",
       "\n",
       "    .dataframe thead th {\n",
       "        text-align: right;\n",
       "    }\n",
       "</style>\n",
       "<table border=\"1\" class=\"dataframe\">\n",
       "  <thead>\n",
       "    <tr style=\"text-align: right;\">\n",
       "      <th></th>\n",
       "      <th>CUIT_CUIL</th>\n",
       "      <th>NRO_DOC</th>\n",
       "      <th>APELLIDO</th>\n",
       "      <th>NOMBRE</th>\n",
       "      <th>variable</th>\n",
       "      <th>Dato</th>\n",
       "    </tr>\n",
       "  </thead>\n",
       "  <tbody>\n",
       "    <tr>\n",
       "      <th>1</th>\n",
       "      <td>20146153845</td>\n",
       "      <td>14615384</td>\n",
       "      <td>LOPEZ</td>\n",
       "      <td>JORGE OSVALDO</td>\n",
       "      <td>EMAIL</td>\n",
       "      <td>jorguitolopez66@outlook.com</td>\n",
       "    </tr>\n",
       "    <tr>\n",
       "      <th>2</th>\n",
       "      <td>20165291477</td>\n",
       "      <td>16529147</td>\n",
       "      <td>OLIVA</td>\n",
       "      <td>MARCELO AGUSTIN</td>\n",
       "      <td>EMAIL</td>\n",
       "      <td>marcelo_a_oliva@hotmail.com</td>\n",
       "    </tr>\n",
       "    <tr>\n",
       "      <th>3</th>\n",
       "      <td>27190606533</td>\n",
       "      <td>19060653</td>\n",
       "      <td>FERNANDEZ REBECA NOEMI</td>\n",
       "      <td>NOEMI</td>\n",
       "      <td>EMAIL</td>\n",
       "      <td>rebef@gmail.com</td>\n",
       "    </tr>\n",
       "    <tr>\n",
       "      <th>5</th>\n",
       "      <td>27190606533</td>\n",
       "      <td>12552667</td>\n",
       "      <td>TILLERIA</td>\n",
       "      <td>JORGE</td>\n",
       "      <td>EMAIL</td>\n",
       "      <td>tetotille@gmail.com</td>\n",
       "    </tr>\n",
       "    <tr>\n",
       "      <th>7</th>\n",
       "      <td>20146153845</td>\n",
       "      <td>14615384</td>\n",
       "      <td>LOPEZ</td>\n",
       "      <td>JORGE OSVALDO</td>\n",
       "      <td>EMAIL2</td>\n",
       "      <td>jorgeracing@hotmail.com</td>\n",
       "    </tr>\n",
       "  </tbody>\n",
       "</table>\n",
       "</div>"
      ],
      "text/plain": [
       "     CUIT_CUIL   NRO_DOC                APELLIDO           NOMBRE variable  \\\n",
       "1  20146153845  14615384                   LOPEZ    JORGE OSVALDO    EMAIL   \n",
       "2  20165291477  16529147                   OLIVA  MARCELO AGUSTIN    EMAIL   \n",
       "3  27190606533  19060653  FERNANDEZ REBECA NOEMI            NOEMI    EMAIL   \n",
       "5  27190606533  12552667                TILLERIA            JORGE    EMAIL   \n",
       "7  20146153845  14615384                   LOPEZ    JORGE OSVALDO   EMAIL2   \n",
       "\n",
       "                          Dato  \n",
       "1  jorguitolopez66@outlook.com  \n",
       "2  marcelo_a_oliva@hotmail.com  \n",
       "3              rebef@gmail.com  \n",
       "5          tetotille@gmail.com  \n",
       "7      jorgeracing@hotmail.com  "
      ]
     },
     "execution_count": 19,
     "metadata": {},
     "output_type": "execute_result"
    }
   ],
   "source": [
    "df_melt.head()"
   ]
  },
  {
   "cell_type": "markdown",
   "metadata": {},
   "source": [
    "# 5) Propietario del Dato"
   ]
  },
  {
   "cell_type": "markdown",
   "metadata": {},
   "source": [
    "En función de la columna \"variable\" creamos una nueva columna PROPIETARIO_DATO"
   ]
  },
  {
   "cell_type": "code",
   "execution_count": 20,
   "metadata": {},
   "outputs": [],
   "source": [
    "df_melt.loc[(df_melt['variable'] == 'EMAIL') , 'PROPIETARIO_DATO'] = 'Propio'"
   ]
  },
  {
   "cell_type": "code",
   "execution_count": 21,
   "metadata": {},
   "outputs": [],
   "source": [
    "df_melt.loc[(df_melt['variable'] == 'EMAIL2') , 'PROPIETARIO_DATO'] = 'Propio'"
   ]
  },
  {
   "cell_type": "code",
   "execution_count": 22,
   "metadata": {},
   "outputs": [],
   "source": [
    "#df_melt.loc[(df_melt['variable'] == 'Mail 3') , 'PROPIETARIO_DATO'] = 'Propio'"
   ]
  },
  {
   "cell_type": "code",
   "execution_count": 23,
   "metadata": {},
   "outputs": [],
   "source": [
    "#df_melt.loc[(df_melt['variable'] == 'Mail_ajeno') , 'PROPIETARIO_DATO'] = 'Ajeno_familiar'"
   ]
  },
  {
   "cell_type": "code",
   "execution_count": 24,
   "metadata": {},
   "outputs": [],
   "source": [
    "#df_melt.loc[(df_melt['variable'] == 'Mail_empleador') , 'PROPIETARIO_DATO'] = 'Ajeno_empleador'"
   ]
  },
  {
   "cell_type": "code",
   "execution_count": 25,
   "metadata": {},
   "outputs": [],
   "source": [
    "#df_melt = df_melt.drop(columns=['variable'])"
   ]
  },
  {
   "cell_type": "code",
   "execution_count": 26,
   "metadata": {},
   "outputs": [
    {
     "data": {
      "text/html": [
       "<div>\n",
       "<style scoped>\n",
       "    .dataframe tbody tr th:only-of-type {\n",
       "        vertical-align: middle;\n",
       "    }\n",
       "\n",
       "    .dataframe tbody tr th {\n",
       "        vertical-align: top;\n",
       "    }\n",
       "\n",
       "    .dataframe thead th {\n",
       "        text-align: right;\n",
       "    }\n",
       "</style>\n",
       "<table border=\"1\" class=\"dataframe\">\n",
       "  <thead>\n",
       "    <tr style=\"text-align: right;\">\n",
       "      <th></th>\n",
       "      <th>CUIT_CUIL</th>\n",
       "      <th>NRO_DOC</th>\n",
       "      <th>APELLIDO</th>\n",
       "      <th>NOMBRE</th>\n",
       "      <th>variable</th>\n",
       "      <th>Dato</th>\n",
       "      <th>PROPIETARIO_DATO</th>\n",
       "    </tr>\n",
       "  </thead>\n",
       "  <tbody>\n",
       "    <tr>\n",
       "      <th>1</th>\n",
       "      <td>20146153845</td>\n",
       "      <td>14615384</td>\n",
       "      <td>LOPEZ</td>\n",
       "      <td>JORGE OSVALDO</td>\n",
       "      <td>EMAIL</td>\n",
       "      <td>jorguitolopez66@outlook.com</td>\n",
       "      <td>Propio</td>\n",
       "    </tr>\n",
       "    <tr>\n",
       "      <th>2</th>\n",
       "      <td>20165291477</td>\n",
       "      <td>16529147</td>\n",
       "      <td>OLIVA</td>\n",
       "      <td>MARCELO AGUSTIN</td>\n",
       "      <td>EMAIL</td>\n",
       "      <td>marcelo_a_oliva@hotmail.com</td>\n",
       "      <td>Propio</td>\n",
       "    </tr>\n",
       "    <tr>\n",
       "      <th>3</th>\n",
       "      <td>27190606533</td>\n",
       "      <td>19060653</td>\n",
       "      <td>FERNANDEZ REBECA NOEMI</td>\n",
       "      <td>NOEMI</td>\n",
       "      <td>EMAIL</td>\n",
       "      <td>rebef@gmail.com</td>\n",
       "      <td>Propio</td>\n",
       "    </tr>\n",
       "    <tr>\n",
       "      <th>5</th>\n",
       "      <td>27190606533</td>\n",
       "      <td>12552667</td>\n",
       "      <td>TILLERIA</td>\n",
       "      <td>JORGE</td>\n",
       "      <td>EMAIL</td>\n",
       "      <td>tetotille@gmail.com</td>\n",
       "      <td>Propio</td>\n",
       "    </tr>\n",
       "    <tr>\n",
       "      <th>7</th>\n",
       "      <td>20146153845</td>\n",
       "      <td>14615384</td>\n",
       "      <td>LOPEZ</td>\n",
       "      <td>JORGE OSVALDO</td>\n",
       "      <td>EMAIL2</td>\n",
       "      <td>jorgeracing@hotmail.com</td>\n",
       "      <td>Propio</td>\n",
       "    </tr>\n",
       "  </tbody>\n",
       "</table>\n",
       "</div>"
      ],
      "text/plain": [
       "     CUIT_CUIL   NRO_DOC                APELLIDO           NOMBRE variable  \\\n",
       "1  20146153845  14615384                   LOPEZ    JORGE OSVALDO    EMAIL   \n",
       "2  20165291477  16529147                   OLIVA  MARCELO AGUSTIN    EMAIL   \n",
       "3  27190606533  19060653  FERNANDEZ REBECA NOEMI            NOEMI    EMAIL   \n",
       "5  27190606533  12552667                TILLERIA            JORGE    EMAIL   \n",
       "7  20146153845  14615384                   LOPEZ    JORGE OSVALDO   EMAIL2   \n",
       "\n",
       "                          Dato PROPIETARIO_DATO  \n",
       "1  jorguitolopez66@outlook.com           Propio  \n",
       "2  marcelo_a_oliva@hotmail.com           Propio  \n",
       "3              rebef@gmail.com           Propio  \n",
       "5          tetotille@gmail.com           Propio  \n",
       "7      jorgeracing@hotmail.com           Propio  "
      ]
     },
     "execution_count": 26,
     "metadata": {},
     "output_type": "execute_result"
    }
   ],
   "source": [
    "df_melt.head()"
   ]
  },
  {
   "cell_type": "markdown",
   "metadata": {},
   "source": [
    "# 6) Columna Proveedor"
   ]
  },
  {
   "cell_type": "markdown",
   "metadata": {},
   "source": [
    "Agregamos la columna PROVEEDOR_DATO, con el código correspondiente."
   ]
  },
  {
   "cell_type": "code",
   "execution_count": 27,
   "metadata": {},
   "outputs": [],
   "source": [
    "cod_pyp = 'ZERT'"
   ]
  },
  {
   "cell_type": "code",
   "execution_count": 28,
   "metadata": {},
   "outputs": [],
   "source": [
    "df_clean = df_melt.assign(PROVEEDOR_DATO=cod_pyp)"
   ]
  },
  {
   "cell_type": "code",
   "execution_count": 29,
   "metadata": {},
   "outputs": [
    {
     "data": {
      "text/html": [
       "<div>\n",
       "<style scoped>\n",
       "    .dataframe tbody tr th:only-of-type {\n",
       "        vertical-align: middle;\n",
       "    }\n",
       "\n",
       "    .dataframe tbody tr th {\n",
       "        vertical-align: top;\n",
       "    }\n",
       "\n",
       "    .dataframe thead th {\n",
       "        text-align: right;\n",
       "    }\n",
       "</style>\n",
       "<table border=\"1\" class=\"dataframe\">\n",
       "  <thead>\n",
       "    <tr style=\"text-align: right;\">\n",
       "      <th></th>\n",
       "      <th>CUIT_CUIL</th>\n",
       "      <th>NRO_DOC</th>\n",
       "      <th>APELLIDO</th>\n",
       "      <th>NOMBRE</th>\n",
       "      <th>variable</th>\n",
       "      <th>Dato</th>\n",
       "      <th>PROPIETARIO_DATO</th>\n",
       "      <th>PROVEEDOR_DATO</th>\n",
       "    </tr>\n",
       "  </thead>\n",
       "  <tbody>\n",
       "    <tr>\n",
       "      <th>1</th>\n",
       "      <td>20146153845</td>\n",
       "      <td>14615384</td>\n",
       "      <td>LOPEZ</td>\n",
       "      <td>JORGE OSVALDO</td>\n",
       "      <td>EMAIL</td>\n",
       "      <td>jorguitolopez66@outlook.com</td>\n",
       "      <td>Propio</td>\n",
       "      <td>ZERT</td>\n",
       "    </tr>\n",
       "    <tr>\n",
       "      <th>2</th>\n",
       "      <td>20165291477</td>\n",
       "      <td>16529147</td>\n",
       "      <td>OLIVA</td>\n",
       "      <td>MARCELO AGUSTIN</td>\n",
       "      <td>EMAIL</td>\n",
       "      <td>marcelo_a_oliva@hotmail.com</td>\n",
       "      <td>Propio</td>\n",
       "      <td>ZERT</td>\n",
       "    </tr>\n",
       "    <tr>\n",
       "      <th>3</th>\n",
       "      <td>27190606533</td>\n",
       "      <td>19060653</td>\n",
       "      <td>FERNANDEZ REBECA NOEMI</td>\n",
       "      <td>NOEMI</td>\n",
       "      <td>EMAIL</td>\n",
       "      <td>rebef@gmail.com</td>\n",
       "      <td>Propio</td>\n",
       "      <td>ZERT</td>\n",
       "    </tr>\n",
       "    <tr>\n",
       "      <th>5</th>\n",
       "      <td>27190606533</td>\n",
       "      <td>12552667</td>\n",
       "      <td>TILLERIA</td>\n",
       "      <td>JORGE</td>\n",
       "      <td>EMAIL</td>\n",
       "      <td>tetotille@gmail.com</td>\n",
       "      <td>Propio</td>\n",
       "      <td>ZERT</td>\n",
       "    </tr>\n",
       "    <tr>\n",
       "      <th>7</th>\n",
       "      <td>20146153845</td>\n",
       "      <td>14615384</td>\n",
       "      <td>LOPEZ</td>\n",
       "      <td>JORGE OSVALDO</td>\n",
       "      <td>EMAIL2</td>\n",
       "      <td>jorgeracing@hotmail.com</td>\n",
       "      <td>Propio</td>\n",
       "      <td>ZERT</td>\n",
       "    </tr>\n",
       "  </tbody>\n",
       "</table>\n",
       "</div>"
      ],
      "text/plain": [
       "     CUIT_CUIL   NRO_DOC                APELLIDO           NOMBRE variable  \\\n",
       "1  20146153845  14615384                   LOPEZ    JORGE OSVALDO    EMAIL   \n",
       "2  20165291477  16529147                   OLIVA  MARCELO AGUSTIN    EMAIL   \n",
       "3  27190606533  19060653  FERNANDEZ REBECA NOEMI            NOEMI    EMAIL   \n",
       "5  27190606533  12552667                TILLERIA            JORGE    EMAIL   \n",
       "7  20146153845  14615384                   LOPEZ    JORGE OSVALDO   EMAIL2   \n",
       "\n",
       "                          Dato PROPIETARIO_DATO PROVEEDOR_DATO  \n",
       "1  jorguitolopez66@outlook.com           Propio           ZERT  \n",
       "2  marcelo_a_oliva@hotmail.com           Propio           ZERT  \n",
       "3              rebef@gmail.com           Propio           ZERT  \n",
       "5          tetotille@gmail.com           Propio           ZERT  \n",
       "7      jorgeracing@hotmail.com           Propio           ZERT  "
      ]
     },
     "execution_count": 29,
     "metadata": {},
     "output_type": "execute_result"
    }
   ],
   "source": [
    "df_clean.head()"
   ]
  },
  {
   "cell_type": "markdown",
   "metadata": {},
   "source": [
    "# 7) Columna Tipo"
   ]
  },
  {
   "cell_type": "markdown",
   "metadata": {},
   "source": [
    "Agregamos la columna TIPO, con el código correspondiente"
   ]
  },
  {
   "cell_type": "code",
   "execution_count": 30,
   "metadata": {},
   "outputs": [],
   "source": [
    "tipo_dato = 'EMAIL'"
   ]
  },
  {
   "cell_type": "code",
   "execution_count": 31,
   "metadata": {},
   "outputs": [],
   "source": [
    "df_clean = df_clean.assign(TIPO=tipo_dato)"
   ]
  },
  {
   "cell_type": "code",
   "execution_count": 32,
   "metadata": {},
   "outputs": [
    {
     "data": {
      "text/html": [
       "<div>\n",
       "<style scoped>\n",
       "    .dataframe tbody tr th:only-of-type {\n",
       "        vertical-align: middle;\n",
       "    }\n",
       "\n",
       "    .dataframe tbody tr th {\n",
       "        vertical-align: top;\n",
       "    }\n",
       "\n",
       "    .dataframe thead th {\n",
       "        text-align: right;\n",
       "    }\n",
       "</style>\n",
       "<table border=\"1\" class=\"dataframe\">\n",
       "  <thead>\n",
       "    <tr style=\"text-align: right;\">\n",
       "      <th></th>\n",
       "      <th>CUIT_CUIL</th>\n",
       "      <th>NRO_DOC</th>\n",
       "      <th>APELLIDO</th>\n",
       "      <th>NOMBRE</th>\n",
       "      <th>variable</th>\n",
       "      <th>Dato</th>\n",
       "      <th>PROPIETARIO_DATO</th>\n",
       "      <th>PROVEEDOR_DATO</th>\n",
       "      <th>TIPO</th>\n",
       "    </tr>\n",
       "  </thead>\n",
       "  <tbody>\n",
       "    <tr>\n",
       "      <th>1</th>\n",
       "      <td>20146153845</td>\n",
       "      <td>14615384</td>\n",
       "      <td>LOPEZ</td>\n",
       "      <td>JORGE OSVALDO</td>\n",
       "      <td>EMAIL</td>\n",
       "      <td>jorguitolopez66@outlook.com</td>\n",
       "      <td>Propio</td>\n",
       "      <td>ZERT</td>\n",
       "      <td>EMAIL</td>\n",
       "    </tr>\n",
       "    <tr>\n",
       "      <th>2</th>\n",
       "      <td>20165291477</td>\n",
       "      <td>16529147</td>\n",
       "      <td>OLIVA</td>\n",
       "      <td>MARCELO AGUSTIN</td>\n",
       "      <td>EMAIL</td>\n",
       "      <td>marcelo_a_oliva@hotmail.com</td>\n",
       "      <td>Propio</td>\n",
       "      <td>ZERT</td>\n",
       "      <td>EMAIL</td>\n",
       "    </tr>\n",
       "    <tr>\n",
       "      <th>3</th>\n",
       "      <td>27190606533</td>\n",
       "      <td>19060653</td>\n",
       "      <td>FERNANDEZ REBECA NOEMI</td>\n",
       "      <td>NOEMI</td>\n",
       "      <td>EMAIL</td>\n",
       "      <td>rebef@gmail.com</td>\n",
       "      <td>Propio</td>\n",
       "      <td>ZERT</td>\n",
       "      <td>EMAIL</td>\n",
       "    </tr>\n",
       "    <tr>\n",
       "      <th>5</th>\n",
       "      <td>27190606533</td>\n",
       "      <td>12552667</td>\n",
       "      <td>TILLERIA</td>\n",
       "      <td>JORGE</td>\n",
       "      <td>EMAIL</td>\n",
       "      <td>tetotille@gmail.com</td>\n",
       "      <td>Propio</td>\n",
       "      <td>ZERT</td>\n",
       "      <td>EMAIL</td>\n",
       "    </tr>\n",
       "    <tr>\n",
       "      <th>7</th>\n",
       "      <td>20146153845</td>\n",
       "      <td>14615384</td>\n",
       "      <td>LOPEZ</td>\n",
       "      <td>JORGE OSVALDO</td>\n",
       "      <td>EMAIL2</td>\n",
       "      <td>jorgeracing@hotmail.com</td>\n",
       "      <td>Propio</td>\n",
       "      <td>ZERT</td>\n",
       "      <td>EMAIL</td>\n",
       "    </tr>\n",
       "  </tbody>\n",
       "</table>\n",
       "</div>"
      ],
      "text/plain": [
       "     CUIT_CUIL   NRO_DOC                APELLIDO           NOMBRE variable  \\\n",
       "1  20146153845  14615384                   LOPEZ    JORGE OSVALDO    EMAIL   \n",
       "2  20165291477  16529147                   OLIVA  MARCELO AGUSTIN    EMAIL   \n",
       "3  27190606533  19060653  FERNANDEZ REBECA NOEMI            NOEMI    EMAIL   \n",
       "5  27190606533  12552667                TILLERIA            JORGE    EMAIL   \n",
       "7  20146153845  14615384                   LOPEZ    JORGE OSVALDO   EMAIL2   \n",
       "\n",
       "                          Dato PROPIETARIO_DATO PROVEEDOR_DATO   TIPO  \n",
       "1  jorguitolopez66@outlook.com           Propio           ZERT  EMAIL  \n",
       "2  marcelo_a_oliva@hotmail.com           Propio           ZERT  EMAIL  \n",
       "3              rebef@gmail.com           Propio           ZERT  EMAIL  \n",
       "5          tetotille@gmail.com           Propio           ZERT  EMAIL  \n",
       "7      jorgeracing@hotmail.com           Propio           ZERT  EMAIL  "
      ]
     },
     "execution_count": 32,
     "metadata": {},
     "output_type": "execute_result"
    }
   ],
   "source": [
    "df_clean.head ()"
   ]
  },
  {
   "cell_type": "markdown",
   "metadata": {},
   "source": [
    "# 8) Columna Subtipo"
   ]
  },
  {
   "cell_type": "markdown",
   "metadata": {},
   "source": [
    "Agregamos la columna SUBTIPO, que va a contener información sobre el tipo de mail que se encuentra en el campo Dato.\n",
    "\n",
    "- Personal: @yahoo, @gmail, @hotmail, @outlook, @live.\n",
    "- Laboral: el resto."
   ]
  },
  {
   "cell_type": "markdown",
   "metadata": {},
   "source": [
    "Verificamos que la string contenga esos casos:"
   ]
  },
  {
   "cell_type": "code",
   "execution_count": 33,
   "metadata": {},
   "outputs": [],
   "source": [
    "df_clean.loc[(df_clean['Dato'].str.contains('@yahoo', na=False)) | \n",
    "             (df_clean['Dato'].str.contains('@gmail', na=False)) |\n",
    "             (df_clean['Dato'].str.contains('@outlook', na=False)) |\n",
    "             (df_clean['Dato'].str.contains('@hotmail', na=False)) |\n",
    "             (df_clean['Dato'].str.contains('@live', na=False)) , 'SUBTIPO'] = 'PERSONAL'"
   ]
  },
  {
   "cell_type": "markdown",
   "metadata": {},
   "source": [
    "Para los mails laborales, evaluamos los casos contrarios:"
   ]
  },
  {
   "cell_type": "code",
   "execution_count": 34,
   "metadata": {},
   "outputs": [],
   "source": [
    "df_clean.loc[~(df_clean['Dato'].str.contains('@yahoo', na=False)) & \n",
    "             ~(df_clean['Dato'].str.contains('@gmail', na=False)) &\n",
    "             ~(df_clean['Dato'].str.contains('@outlook', na=False)) &\n",
    "             ~(df_clean['Dato'].str.contains('@hotmail', na=False)) &\n",
    "             ~(df_clean['Dato'].str.contains('@live', na=False)) , 'SUBTIPO'] = 'LABORAL'"
   ]
  },
  {
   "cell_type": "code",
   "execution_count": 35,
   "metadata": {},
   "outputs": [
    {
     "data": {
      "text/html": [
       "<div>\n",
       "<style scoped>\n",
       "    .dataframe tbody tr th:only-of-type {\n",
       "        vertical-align: middle;\n",
       "    }\n",
       "\n",
       "    .dataframe tbody tr th {\n",
       "        vertical-align: top;\n",
       "    }\n",
       "\n",
       "    .dataframe thead th {\n",
       "        text-align: right;\n",
       "    }\n",
       "</style>\n",
       "<table border=\"1\" class=\"dataframe\">\n",
       "  <thead>\n",
       "    <tr style=\"text-align: right;\">\n",
       "      <th></th>\n",
       "      <th>CUIT_CUIL</th>\n",
       "      <th>NRO_DOC</th>\n",
       "      <th>APELLIDO</th>\n",
       "      <th>NOMBRE</th>\n",
       "      <th>variable</th>\n",
       "      <th>Dato</th>\n",
       "      <th>PROPIETARIO_DATO</th>\n",
       "      <th>PROVEEDOR_DATO</th>\n",
       "      <th>TIPO</th>\n",
       "      <th>SUBTIPO</th>\n",
       "    </tr>\n",
       "  </thead>\n",
       "  <tbody>\n",
       "    <tr>\n",
       "      <th>1</th>\n",
       "      <td>20146153845</td>\n",
       "      <td>14615384</td>\n",
       "      <td>LOPEZ</td>\n",
       "      <td>JORGE OSVALDO</td>\n",
       "      <td>EMAIL</td>\n",
       "      <td>jorguitolopez66@outlook.com</td>\n",
       "      <td>Propio</td>\n",
       "      <td>ZERT</td>\n",
       "      <td>EMAIL</td>\n",
       "      <td>PERSONAL</td>\n",
       "    </tr>\n",
       "    <tr>\n",
       "      <th>2</th>\n",
       "      <td>20165291477</td>\n",
       "      <td>16529147</td>\n",
       "      <td>OLIVA</td>\n",
       "      <td>MARCELO AGUSTIN</td>\n",
       "      <td>EMAIL</td>\n",
       "      <td>marcelo_a_oliva@hotmail.com</td>\n",
       "      <td>Propio</td>\n",
       "      <td>ZERT</td>\n",
       "      <td>EMAIL</td>\n",
       "      <td>PERSONAL</td>\n",
       "    </tr>\n",
       "    <tr>\n",
       "      <th>3</th>\n",
       "      <td>27190606533</td>\n",
       "      <td>19060653</td>\n",
       "      <td>FERNANDEZ REBECA NOEMI</td>\n",
       "      <td>NOEMI</td>\n",
       "      <td>EMAIL</td>\n",
       "      <td>rebef@gmail.com</td>\n",
       "      <td>Propio</td>\n",
       "      <td>ZERT</td>\n",
       "      <td>EMAIL</td>\n",
       "      <td>PERSONAL</td>\n",
       "    </tr>\n",
       "    <tr>\n",
       "      <th>5</th>\n",
       "      <td>27190606533</td>\n",
       "      <td>12552667</td>\n",
       "      <td>TILLERIA</td>\n",
       "      <td>JORGE</td>\n",
       "      <td>EMAIL</td>\n",
       "      <td>tetotille@gmail.com</td>\n",
       "      <td>Propio</td>\n",
       "      <td>ZERT</td>\n",
       "      <td>EMAIL</td>\n",
       "      <td>PERSONAL</td>\n",
       "    </tr>\n",
       "    <tr>\n",
       "      <th>7</th>\n",
       "      <td>20146153845</td>\n",
       "      <td>14615384</td>\n",
       "      <td>LOPEZ</td>\n",
       "      <td>JORGE OSVALDO</td>\n",
       "      <td>EMAIL2</td>\n",
       "      <td>jorgeracing@hotmail.com</td>\n",
       "      <td>Propio</td>\n",
       "      <td>ZERT</td>\n",
       "      <td>EMAIL</td>\n",
       "      <td>PERSONAL</td>\n",
       "    </tr>\n",
       "  </tbody>\n",
       "</table>\n",
       "</div>"
      ],
      "text/plain": [
       "     CUIT_CUIL   NRO_DOC                APELLIDO           NOMBRE variable  \\\n",
       "1  20146153845  14615384                   LOPEZ    JORGE OSVALDO    EMAIL   \n",
       "2  20165291477  16529147                   OLIVA  MARCELO AGUSTIN    EMAIL   \n",
       "3  27190606533  19060653  FERNANDEZ REBECA NOEMI            NOEMI    EMAIL   \n",
       "5  27190606533  12552667                TILLERIA            JORGE    EMAIL   \n",
       "7  20146153845  14615384                   LOPEZ    JORGE OSVALDO   EMAIL2   \n",
       "\n",
       "                          Dato PROPIETARIO_DATO PROVEEDOR_DATO   TIPO  \\\n",
       "1  jorguitolopez66@outlook.com           Propio           ZERT  EMAIL   \n",
       "2  marcelo_a_oliva@hotmail.com           Propio           ZERT  EMAIL   \n",
       "3              rebef@gmail.com           Propio           ZERT  EMAIL   \n",
       "5          tetotille@gmail.com           Propio           ZERT  EMAIL   \n",
       "7      jorgeracing@hotmail.com           Propio           ZERT  EMAIL   \n",
       "\n",
       "    SUBTIPO  \n",
       "1  PERSONAL  \n",
       "2  PERSONAL  \n",
       "3  PERSONAL  \n",
       "5  PERSONAL  \n",
       "7  PERSONAL  "
      ]
     },
     "execution_count": 35,
     "metadata": {},
     "output_type": "execute_result"
    }
   ],
   "source": [
    "df_clean.head()"
   ]
  },
  {
   "cell_type": "markdown",
   "metadata": {},
   "source": [
    "# 9) Columna Score"
   ]
  },
  {
   "cell_type": "markdown",
   "metadata": {},
   "source": [
    "El campo **Score** se construye en función de los datos obtenidos:\n",
    "\n",
    "- Nivel 4: Dato que otorga la propia persona.\n",
    "- Nivel 3: Dato que otorgan los clientes (los bancos).\n",
    "- Nivel 2: Dato que otorga un proveedor externo (Informes Digitales en este caso), con subtipo \"Personal\".\n",
    "- Nivel 1: Dato que otorga un proveedor externo, pero tiene como subtipo \"Laboral\"."
   ]
  },
  {
   "cell_type": "code",
   "execution_count": 36,
   "metadata": {},
   "outputs": [],
   "source": [
    "# Nivel 1: Laboral, proveedor externo.\n",
    "\n",
    "df_clean.loc[(df_clean['SUBTIPO'] == 'LABORAL') , 'SCORE_DATO'] = 1"
   ]
  },
  {
   "cell_type": "code",
   "execution_count": 37,
   "metadata": {},
   "outputs": [],
   "source": [
    "# Nivel 2: Personal, proveedor externo.\n",
    "\n",
    "df_clean.loc[(df_clean['SUBTIPO'] == 'PERSONAL') , 'SCORE_DATO'] = 2"
   ]
  },
  {
   "cell_type": "code",
   "execution_count": 38,
   "metadata": {
    "scrolled": true
   },
   "outputs": [
    {
     "data": {
      "text/html": [
       "<div>\n",
       "<style scoped>\n",
       "    .dataframe tbody tr th:only-of-type {\n",
       "        vertical-align: middle;\n",
       "    }\n",
       "\n",
       "    .dataframe tbody tr th {\n",
       "        vertical-align: top;\n",
       "    }\n",
       "\n",
       "    .dataframe thead th {\n",
       "        text-align: right;\n",
       "    }\n",
       "</style>\n",
       "<table border=\"1\" class=\"dataframe\">\n",
       "  <thead>\n",
       "    <tr style=\"text-align: right;\">\n",
       "      <th></th>\n",
       "      <th>CUIT_CUIL</th>\n",
       "      <th>NRO_DOC</th>\n",
       "      <th>APELLIDO</th>\n",
       "      <th>NOMBRE</th>\n",
       "      <th>variable</th>\n",
       "      <th>Dato</th>\n",
       "      <th>PROPIETARIO_DATO</th>\n",
       "      <th>PROVEEDOR_DATO</th>\n",
       "      <th>TIPO</th>\n",
       "      <th>SUBTIPO</th>\n",
       "      <th>SCORE_DATO</th>\n",
       "    </tr>\n",
       "  </thead>\n",
       "  <tbody>\n",
       "    <tr>\n",
       "      <th>1</th>\n",
       "      <td>20146153845</td>\n",
       "      <td>14615384</td>\n",
       "      <td>LOPEZ</td>\n",
       "      <td>JORGE OSVALDO</td>\n",
       "      <td>EMAIL</td>\n",
       "      <td>jorguitolopez66@outlook.com</td>\n",
       "      <td>Propio</td>\n",
       "      <td>ZERT</td>\n",
       "      <td>EMAIL</td>\n",
       "      <td>PERSONAL</td>\n",
       "      <td>2.0</td>\n",
       "    </tr>\n",
       "    <tr>\n",
       "      <th>2</th>\n",
       "      <td>20165291477</td>\n",
       "      <td>16529147</td>\n",
       "      <td>OLIVA</td>\n",
       "      <td>MARCELO AGUSTIN</td>\n",
       "      <td>EMAIL</td>\n",
       "      <td>marcelo_a_oliva@hotmail.com</td>\n",
       "      <td>Propio</td>\n",
       "      <td>ZERT</td>\n",
       "      <td>EMAIL</td>\n",
       "      <td>PERSONAL</td>\n",
       "      <td>2.0</td>\n",
       "    </tr>\n",
       "    <tr>\n",
       "      <th>3</th>\n",
       "      <td>27190606533</td>\n",
       "      <td>19060653</td>\n",
       "      <td>FERNANDEZ REBECA NOEMI</td>\n",
       "      <td>NOEMI</td>\n",
       "      <td>EMAIL</td>\n",
       "      <td>rebef@gmail.com</td>\n",
       "      <td>Propio</td>\n",
       "      <td>ZERT</td>\n",
       "      <td>EMAIL</td>\n",
       "      <td>PERSONAL</td>\n",
       "      <td>2.0</td>\n",
       "    </tr>\n",
       "    <tr>\n",
       "      <th>5</th>\n",
       "      <td>27190606533</td>\n",
       "      <td>12552667</td>\n",
       "      <td>TILLERIA</td>\n",
       "      <td>JORGE</td>\n",
       "      <td>EMAIL</td>\n",
       "      <td>tetotille@gmail.com</td>\n",
       "      <td>Propio</td>\n",
       "      <td>ZERT</td>\n",
       "      <td>EMAIL</td>\n",
       "      <td>PERSONAL</td>\n",
       "      <td>2.0</td>\n",
       "    </tr>\n",
       "    <tr>\n",
       "      <th>7</th>\n",
       "      <td>20146153845</td>\n",
       "      <td>14615384</td>\n",
       "      <td>LOPEZ</td>\n",
       "      <td>JORGE OSVALDO</td>\n",
       "      <td>EMAIL2</td>\n",
       "      <td>jorgeracing@hotmail.com</td>\n",
       "      <td>Propio</td>\n",
       "      <td>ZERT</td>\n",
       "      <td>EMAIL</td>\n",
       "      <td>PERSONAL</td>\n",
       "      <td>2.0</td>\n",
       "    </tr>\n",
       "  </tbody>\n",
       "</table>\n",
       "</div>"
      ],
      "text/plain": [
       "     CUIT_CUIL   NRO_DOC                APELLIDO           NOMBRE variable  \\\n",
       "1  20146153845  14615384                   LOPEZ    JORGE OSVALDO    EMAIL   \n",
       "2  20165291477  16529147                   OLIVA  MARCELO AGUSTIN    EMAIL   \n",
       "3  27190606533  19060653  FERNANDEZ REBECA NOEMI            NOEMI    EMAIL   \n",
       "5  27190606533  12552667                TILLERIA            JORGE    EMAIL   \n",
       "7  20146153845  14615384                   LOPEZ    JORGE OSVALDO   EMAIL2   \n",
       "\n",
       "                          Dato PROPIETARIO_DATO PROVEEDOR_DATO   TIPO  \\\n",
       "1  jorguitolopez66@outlook.com           Propio           ZERT  EMAIL   \n",
       "2  marcelo_a_oliva@hotmail.com           Propio           ZERT  EMAIL   \n",
       "3              rebef@gmail.com           Propio           ZERT  EMAIL   \n",
       "5          tetotille@gmail.com           Propio           ZERT  EMAIL   \n",
       "7      jorgeracing@hotmail.com           Propio           ZERT  EMAIL   \n",
       "\n",
       "    SUBTIPO  SCORE_DATO  \n",
       "1  PERSONAL         2.0  \n",
       "2  PERSONAL         2.0  \n",
       "3  PERSONAL         2.0  \n",
       "5  PERSONAL         2.0  \n",
       "7  PERSONAL         2.0  "
      ]
     },
     "execution_count": 38,
     "metadata": {},
     "output_type": "execute_result"
    }
   ],
   "source": [
    "df_clean.head()"
   ]
  },
  {
   "cell_type": "markdown",
   "metadata": {},
   "source": [
    "# 10) Columna Fecha"
   ]
  },
  {
   "cell_type": "markdown",
   "metadata": {},
   "source": [
    "Para el campo FECHA_INGRESO_DATO, usamos la fecha en la que se hace la inserción de los datos:"
   ]
  },
  {
   "cell_type": "code",
   "execution_count": 39,
   "metadata": {},
   "outputs": [],
   "source": [
    "fecha_ingreso = pd.to_datetime('today')"
   ]
  },
  {
   "cell_type": "code",
   "execution_count": 40,
   "metadata": {},
   "outputs": [],
   "source": [
    "df_clean = df_clean.assign(FECHA_INGRESO_DATO=fecha_ingreso)"
   ]
  },
  {
   "cell_type": "code",
   "execution_count": 41,
   "metadata": {
    "scrolled": true
   },
   "outputs": [
    {
     "data": {
      "text/html": [
       "<div>\n",
       "<style scoped>\n",
       "    .dataframe tbody tr th:only-of-type {\n",
       "        vertical-align: middle;\n",
       "    }\n",
       "\n",
       "    .dataframe tbody tr th {\n",
       "        vertical-align: top;\n",
       "    }\n",
       "\n",
       "    .dataframe thead th {\n",
       "        text-align: right;\n",
       "    }\n",
       "</style>\n",
       "<table border=\"1\" class=\"dataframe\">\n",
       "  <thead>\n",
       "    <tr style=\"text-align: right;\">\n",
       "      <th></th>\n",
       "      <th>CUIT_CUIL</th>\n",
       "      <th>NRO_DOC</th>\n",
       "      <th>APELLIDO</th>\n",
       "      <th>NOMBRE</th>\n",
       "      <th>variable</th>\n",
       "      <th>Dato</th>\n",
       "      <th>PROPIETARIO_DATO</th>\n",
       "      <th>PROVEEDOR_DATO</th>\n",
       "      <th>TIPO</th>\n",
       "      <th>SUBTIPO</th>\n",
       "      <th>SCORE_DATO</th>\n",
       "      <th>FECHA_INGRESO_DATO</th>\n",
       "    </tr>\n",
       "  </thead>\n",
       "  <tbody>\n",
       "    <tr>\n",
       "      <th>1</th>\n",
       "      <td>20146153845</td>\n",
       "      <td>14615384</td>\n",
       "      <td>LOPEZ</td>\n",
       "      <td>JORGE OSVALDO</td>\n",
       "      <td>EMAIL</td>\n",
       "      <td>jorguitolopez66@outlook.com</td>\n",
       "      <td>Propio</td>\n",
       "      <td>ZERT</td>\n",
       "      <td>EMAIL</td>\n",
       "      <td>PERSONAL</td>\n",
       "      <td>2.0</td>\n",
       "      <td>2021-08-25 08:26:29.120434</td>\n",
       "    </tr>\n",
       "    <tr>\n",
       "      <th>2</th>\n",
       "      <td>20165291477</td>\n",
       "      <td>16529147</td>\n",
       "      <td>OLIVA</td>\n",
       "      <td>MARCELO AGUSTIN</td>\n",
       "      <td>EMAIL</td>\n",
       "      <td>marcelo_a_oliva@hotmail.com</td>\n",
       "      <td>Propio</td>\n",
       "      <td>ZERT</td>\n",
       "      <td>EMAIL</td>\n",
       "      <td>PERSONAL</td>\n",
       "      <td>2.0</td>\n",
       "      <td>2021-08-25 08:26:29.120434</td>\n",
       "    </tr>\n",
       "    <tr>\n",
       "      <th>3</th>\n",
       "      <td>27190606533</td>\n",
       "      <td>19060653</td>\n",
       "      <td>FERNANDEZ REBECA NOEMI</td>\n",
       "      <td>NOEMI</td>\n",
       "      <td>EMAIL</td>\n",
       "      <td>rebef@gmail.com</td>\n",
       "      <td>Propio</td>\n",
       "      <td>ZERT</td>\n",
       "      <td>EMAIL</td>\n",
       "      <td>PERSONAL</td>\n",
       "      <td>2.0</td>\n",
       "      <td>2021-08-25 08:26:29.120434</td>\n",
       "    </tr>\n",
       "    <tr>\n",
       "      <th>5</th>\n",
       "      <td>27190606533</td>\n",
       "      <td>12552667</td>\n",
       "      <td>TILLERIA</td>\n",
       "      <td>JORGE</td>\n",
       "      <td>EMAIL</td>\n",
       "      <td>tetotille@gmail.com</td>\n",
       "      <td>Propio</td>\n",
       "      <td>ZERT</td>\n",
       "      <td>EMAIL</td>\n",
       "      <td>PERSONAL</td>\n",
       "      <td>2.0</td>\n",
       "      <td>2021-08-25 08:26:29.120434</td>\n",
       "    </tr>\n",
       "    <tr>\n",
       "      <th>7</th>\n",
       "      <td>20146153845</td>\n",
       "      <td>14615384</td>\n",
       "      <td>LOPEZ</td>\n",
       "      <td>JORGE OSVALDO</td>\n",
       "      <td>EMAIL2</td>\n",
       "      <td>jorgeracing@hotmail.com</td>\n",
       "      <td>Propio</td>\n",
       "      <td>ZERT</td>\n",
       "      <td>EMAIL</td>\n",
       "      <td>PERSONAL</td>\n",
       "      <td>2.0</td>\n",
       "      <td>2021-08-25 08:26:29.120434</td>\n",
       "    </tr>\n",
       "  </tbody>\n",
       "</table>\n",
       "</div>"
      ],
      "text/plain": [
       "     CUIT_CUIL   NRO_DOC                APELLIDO           NOMBRE variable  \\\n",
       "1  20146153845  14615384                   LOPEZ    JORGE OSVALDO    EMAIL   \n",
       "2  20165291477  16529147                   OLIVA  MARCELO AGUSTIN    EMAIL   \n",
       "3  27190606533  19060653  FERNANDEZ REBECA NOEMI            NOEMI    EMAIL   \n",
       "5  27190606533  12552667                TILLERIA            JORGE    EMAIL   \n",
       "7  20146153845  14615384                   LOPEZ    JORGE OSVALDO   EMAIL2   \n",
       "\n",
       "                          Dato PROPIETARIO_DATO PROVEEDOR_DATO   TIPO  \\\n",
       "1  jorguitolopez66@outlook.com           Propio           ZERT  EMAIL   \n",
       "2  marcelo_a_oliva@hotmail.com           Propio           ZERT  EMAIL   \n",
       "3              rebef@gmail.com           Propio           ZERT  EMAIL   \n",
       "5          tetotille@gmail.com           Propio           ZERT  EMAIL   \n",
       "7      jorgeracing@hotmail.com           Propio           ZERT  EMAIL   \n",
       "\n",
       "    SUBTIPO  SCORE_DATO         FECHA_INGRESO_DATO  \n",
       "1  PERSONAL         2.0 2021-08-25 08:26:29.120434  \n",
       "2  PERSONAL         2.0 2021-08-25 08:26:29.120434  \n",
       "3  PERSONAL         2.0 2021-08-25 08:26:29.120434  \n",
       "5  PERSONAL         2.0 2021-08-25 08:26:29.120434  \n",
       "7  PERSONAL         2.0 2021-08-25 08:26:29.120434  "
      ]
     },
     "execution_count": 41,
     "metadata": {},
     "output_type": "execute_result"
    }
   ],
   "source": [
    "df_clean.head()"
   ]
  },
  {
   "cell_type": "markdown",
   "metadata": {},
   "source": [
    "# 11) Campos adicionales"
   ]
  },
  {
   "cell_type": "markdown",
   "metadata": {},
   "source": [
    "Creamos las columnas VERIFICADO, FECHA_VERIFICACION, OPERADOR_VERIFICACION, que en principio van en nulls."
   ]
  },
  {
   "cell_type": "code",
   "execution_count": 42,
   "metadata": {},
   "outputs": [],
   "source": [
    "df_clean['VERIFICADO'] = 0"
   ]
  },
  {
   "cell_type": "code",
   "execution_count": 43,
   "metadata": {},
   "outputs": [],
   "source": [
    "df_clean['FECHA_VERIFICACION'] = np.nan"
   ]
  },
  {
   "cell_type": "code",
   "execution_count": 44,
   "metadata": {},
   "outputs": [],
   "source": [
    "df_clean['OPERADOR_VERIFICACION'] = np.nan"
   ]
  },
  {
   "cell_type": "code",
   "execution_count": 45,
   "metadata": {},
   "outputs": [
    {
     "data": {
      "text/html": [
       "<div>\n",
       "<style scoped>\n",
       "    .dataframe tbody tr th:only-of-type {\n",
       "        vertical-align: middle;\n",
       "    }\n",
       "\n",
       "    .dataframe tbody tr th {\n",
       "        vertical-align: top;\n",
       "    }\n",
       "\n",
       "    .dataframe thead th {\n",
       "        text-align: right;\n",
       "    }\n",
       "</style>\n",
       "<table border=\"1\" class=\"dataframe\">\n",
       "  <thead>\n",
       "    <tr style=\"text-align: right;\">\n",
       "      <th></th>\n",
       "      <th>CUIT_CUIL</th>\n",
       "      <th>NRO_DOC</th>\n",
       "      <th>APELLIDO</th>\n",
       "      <th>NOMBRE</th>\n",
       "      <th>variable</th>\n",
       "      <th>Dato</th>\n",
       "      <th>PROPIETARIO_DATO</th>\n",
       "      <th>PROVEEDOR_DATO</th>\n",
       "      <th>TIPO</th>\n",
       "      <th>SUBTIPO</th>\n",
       "      <th>SCORE_DATO</th>\n",
       "      <th>FECHA_INGRESO_DATO</th>\n",
       "      <th>VERIFICADO</th>\n",
       "      <th>FECHA_VERIFICACION</th>\n",
       "      <th>OPERADOR_VERIFICACION</th>\n",
       "    </tr>\n",
       "  </thead>\n",
       "  <tbody>\n",
       "    <tr>\n",
       "      <th>1</th>\n",
       "      <td>20146153845</td>\n",
       "      <td>14615384</td>\n",
       "      <td>LOPEZ</td>\n",
       "      <td>JORGE OSVALDO</td>\n",
       "      <td>EMAIL</td>\n",
       "      <td>jorguitolopez66@outlook.com</td>\n",
       "      <td>Propio</td>\n",
       "      <td>ZERT</td>\n",
       "      <td>EMAIL</td>\n",
       "      <td>PERSONAL</td>\n",
       "      <td>2.0</td>\n",
       "      <td>2021-08-25 08:26:29.120434</td>\n",
       "      <td>0</td>\n",
       "      <td>NaN</td>\n",
       "      <td>NaN</td>\n",
       "    </tr>\n",
       "    <tr>\n",
       "      <th>2</th>\n",
       "      <td>20165291477</td>\n",
       "      <td>16529147</td>\n",
       "      <td>OLIVA</td>\n",
       "      <td>MARCELO AGUSTIN</td>\n",
       "      <td>EMAIL</td>\n",
       "      <td>marcelo_a_oliva@hotmail.com</td>\n",
       "      <td>Propio</td>\n",
       "      <td>ZERT</td>\n",
       "      <td>EMAIL</td>\n",
       "      <td>PERSONAL</td>\n",
       "      <td>2.0</td>\n",
       "      <td>2021-08-25 08:26:29.120434</td>\n",
       "      <td>0</td>\n",
       "      <td>NaN</td>\n",
       "      <td>NaN</td>\n",
       "    </tr>\n",
       "    <tr>\n",
       "      <th>3</th>\n",
       "      <td>27190606533</td>\n",
       "      <td>19060653</td>\n",
       "      <td>FERNANDEZ REBECA NOEMI</td>\n",
       "      <td>NOEMI</td>\n",
       "      <td>EMAIL</td>\n",
       "      <td>rebef@gmail.com</td>\n",
       "      <td>Propio</td>\n",
       "      <td>ZERT</td>\n",
       "      <td>EMAIL</td>\n",
       "      <td>PERSONAL</td>\n",
       "      <td>2.0</td>\n",
       "      <td>2021-08-25 08:26:29.120434</td>\n",
       "      <td>0</td>\n",
       "      <td>NaN</td>\n",
       "      <td>NaN</td>\n",
       "    </tr>\n",
       "    <tr>\n",
       "      <th>5</th>\n",
       "      <td>27190606533</td>\n",
       "      <td>12552667</td>\n",
       "      <td>TILLERIA</td>\n",
       "      <td>JORGE</td>\n",
       "      <td>EMAIL</td>\n",
       "      <td>tetotille@gmail.com</td>\n",
       "      <td>Propio</td>\n",
       "      <td>ZERT</td>\n",
       "      <td>EMAIL</td>\n",
       "      <td>PERSONAL</td>\n",
       "      <td>2.0</td>\n",
       "      <td>2021-08-25 08:26:29.120434</td>\n",
       "      <td>0</td>\n",
       "      <td>NaN</td>\n",
       "      <td>NaN</td>\n",
       "    </tr>\n",
       "    <tr>\n",
       "      <th>7</th>\n",
       "      <td>20146153845</td>\n",
       "      <td>14615384</td>\n",
       "      <td>LOPEZ</td>\n",
       "      <td>JORGE OSVALDO</td>\n",
       "      <td>EMAIL2</td>\n",
       "      <td>jorgeracing@hotmail.com</td>\n",
       "      <td>Propio</td>\n",
       "      <td>ZERT</td>\n",
       "      <td>EMAIL</td>\n",
       "      <td>PERSONAL</td>\n",
       "      <td>2.0</td>\n",
       "      <td>2021-08-25 08:26:29.120434</td>\n",
       "      <td>0</td>\n",
       "      <td>NaN</td>\n",
       "      <td>NaN</td>\n",
       "    </tr>\n",
       "  </tbody>\n",
       "</table>\n",
       "</div>"
      ],
      "text/plain": [
       "     CUIT_CUIL   NRO_DOC                APELLIDO           NOMBRE variable  \\\n",
       "1  20146153845  14615384                   LOPEZ    JORGE OSVALDO    EMAIL   \n",
       "2  20165291477  16529147                   OLIVA  MARCELO AGUSTIN    EMAIL   \n",
       "3  27190606533  19060653  FERNANDEZ REBECA NOEMI            NOEMI    EMAIL   \n",
       "5  27190606533  12552667                TILLERIA            JORGE    EMAIL   \n",
       "7  20146153845  14615384                   LOPEZ    JORGE OSVALDO   EMAIL2   \n",
       "\n",
       "                          Dato PROPIETARIO_DATO PROVEEDOR_DATO   TIPO  \\\n",
       "1  jorguitolopez66@outlook.com           Propio           ZERT  EMAIL   \n",
       "2  marcelo_a_oliva@hotmail.com           Propio           ZERT  EMAIL   \n",
       "3              rebef@gmail.com           Propio           ZERT  EMAIL   \n",
       "5          tetotille@gmail.com           Propio           ZERT  EMAIL   \n",
       "7      jorgeracing@hotmail.com           Propio           ZERT  EMAIL   \n",
       "\n",
       "    SUBTIPO  SCORE_DATO         FECHA_INGRESO_DATO  VERIFICADO  \\\n",
       "1  PERSONAL         2.0 2021-08-25 08:26:29.120434           0   \n",
       "2  PERSONAL         2.0 2021-08-25 08:26:29.120434           0   \n",
       "3  PERSONAL         2.0 2021-08-25 08:26:29.120434           0   \n",
       "5  PERSONAL         2.0 2021-08-25 08:26:29.120434           0   \n",
       "7  PERSONAL         2.0 2021-08-25 08:26:29.120434           0   \n",
       "\n",
       "   FECHA_VERIFICACION  OPERADOR_VERIFICACION  \n",
       "1                 NaN                    NaN  \n",
       "2                 NaN                    NaN  \n",
       "3                 NaN                    NaN  \n",
       "5                 NaN                    NaN  \n",
       "7                 NaN                    NaN  "
      ]
     },
     "execution_count": 45,
     "metadata": {},
     "output_type": "execute_result"
    }
   ],
   "source": [
    "df_clean.head()"
   ]
  },
  {
   "cell_type": "markdown",
   "metadata": {},
   "source": [
    "# 12) Concatenación con .csv enviado "
   ]
  },
  {
   "cell_type": "markdown",
   "metadata": {},
   "source": [
    "Vamos a concatenar nuestro dataframe con el dataframe enviado para enriquecer. Para esto, vamos a hacer una limpieza inicial de cómo se enviaron esos datos. Finalmente, se uniran ambos dataframes por __DNI__."
   ]
  },
  {
   "cell_type": "markdown",
   "metadata": {},
   "source": [
    "## 12.1) Dataset"
   ]
  },
  {
   "cell_type": "markdown",
   "metadata": {},
   "source": [
    "Vamos a analizar y limpiar el dataset enviado para el enriquecimiento:"
   ]
  },
  {
   "cell_type": "code",
   "execution_count": 46,
   "metadata": {},
   "outputs": [],
   "source": [
    "df_pyp = pd.read_csv('Datos_Enriquecimiento.csv')"
   ]
  },
  {
   "cell_type": "code",
   "execution_count": 47,
   "metadata": {},
   "outputs": [
    {
     "data": {
      "text/html": [
       "<div>\n",
       "<style scoped>\n",
       "    .dataframe tbody tr th:only-of-type {\n",
       "        vertical-align: middle;\n",
       "    }\n",
       "\n",
       "    .dataframe tbody tr th {\n",
       "        vertical-align: top;\n",
       "    }\n",
       "\n",
       "    .dataframe thead th {\n",
       "        text-align: right;\n",
       "    }\n",
       "</style>\n",
       "<table border=\"1\" class=\"dataframe\">\n",
       "  <thead>\n",
       "    <tr style=\"text-align: right;\">\n",
       "      <th></th>\n",
       "      <th>IDMOROSO</th>\n",
       "      <th>NOMBRE</th>\n",
       "      <th>IDCLIENTE</th>\n",
       "      <th>ESTADO</th>\n",
       "      <th>FILTROA</th>\n",
       "      <th>DATOADIC</th>\n",
       "    </tr>\n",
       "  </thead>\n",
       "  <tbody>\n",
       "    <tr>\n",
       "      <th>0</th>\n",
       "      <td>DNI 12694849</td>\n",
       "      <td>PINEYRO IRIS MARGA</td>\n",
       "      <td>FRANCES_2012</td>\n",
       "      <td>COMPROMISO</td>\n",
       "      <td>2 - Ag 2ra</td>\n",
       "      <td></td>\n",
       "    </tr>\n",
       "    <tr>\n",
       "      <th>1</th>\n",
       "      <td>DNI 12712266</td>\n",
       "      <td>CONDORI POLICARPO</td>\n",
       "      <td>FRANCES_2012</td>\n",
       "      <td>NO VISTO</td>\n",
       "      <td>2 - Ag 2ra</td>\n",
       "      <td>NaN</td>\n",
       "    </tr>\n",
       "    <tr>\n",
       "      <th>2</th>\n",
       "      <td>DNI 12722297</td>\n",
       "      <td>BECERRA AMALIA</td>\n",
       "      <td>FRANCES_2012</td>\n",
       "      <td>ASIGNADO</td>\n",
       "      <td>2 - Ag 2ra</td>\n",
       "      <td></td>\n",
       "    </tr>\n",
       "    <tr>\n",
       "      <th>3</th>\n",
       "      <td>DNI 12748441</td>\n",
       "      <td>PERFUMO JORGE</td>\n",
       "      <td>FRANCES_2012</td>\n",
       "      <td>CONVENIO</td>\n",
       "      <td>1 - Ag 1ra</td>\n",
       "      <td></td>\n",
       "    </tr>\n",
       "    <tr>\n",
       "      <th>4</th>\n",
       "      <td>DNI 12755014</td>\n",
       "      <td>GILL ENRIQUE</td>\n",
       "      <td>FRANCES_2012</td>\n",
       "      <td>INTERESADO</td>\n",
       "      <td>2 - Ag 2ra</td>\n",
       "      <td></td>\n",
       "    </tr>\n",
       "  </tbody>\n",
       "</table>\n",
       "</div>"
      ],
      "text/plain": [
       "       IDMOROSO                                    NOMBRE  \\\n",
       "0  DNI 12694849  PINEYRO IRIS MARGA                         \n",
       "1  DNI 12712266  CONDORI POLICARPO                          \n",
       "2  DNI 12722297  BECERRA AMALIA                             \n",
       "3  DNI 12748441  PERFUMO JORGE                              \n",
       "4  DNI 12755014  GILL ENRIQUE                               \n",
       "\n",
       "              IDCLIENTE                ESTADO               FILTROA  \\\n",
       "0  FRANCES_2012          COMPROMISO            2 - Ag 2ra             \n",
       "1  FRANCES_2012          NO VISTO              2 - Ag 2ra             \n",
       "2  FRANCES_2012          ASIGNADO              2 - Ag 2ra             \n",
       "3  FRANCES_2012          CONVENIO              1 - Ag 1ra             \n",
       "4  FRANCES_2012          INTERESADO            2 - Ag 2ra             \n",
       "\n",
       "                         DATOADIC  \n",
       "0                                  \n",
       "1                             NaN  \n",
       "2                                  \n",
       "3                                  \n",
       "4                                  "
      ]
     },
     "execution_count": 47,
     "metadata": {},
     "output_type": "execute_result"
    }
   ],
   "source": [
    "df_pyp=df_pyp.drop([\"DOCUMENTO\",\"TIPO\"],axis=1)\n",
    "df_pyp.head()"
   ]
  },
  {
   "cell_type": "markdown",
   "metadata": {},
   "source": [
    "Creamos una columna que contenga IDMOROSO + DATOADIC según corresponda"
   ]
  },
  {
   "cell_type": "code",
   "execution_count": 48,
   "metadata": {},
   "outputs": [],
   "source": [
    "df_pyp.loc[(df_pyp['IDCLIENTE'].str.startswith('AMEX')) , 'NRO_DOC'] = df_pyp['DATOADIC']"
   ]
  },
  {
   "cell_type": "code",
   "execution_count": 49,
   "metadata": {},
   "outputs": [],
   "source": [
    "df_pyp.loc[(~df_pyp['IDCLIENTE'].str.startswith('AMEX')) , 'NRO_DOC'] = df_pyp['IDMOROSO']"
   ]
  },
  {
   "cell_type": "code",
   "execution_count": 50,
   "metadata": {},
   "outputs": [],
   "source": [
    "#df_pyp ['NRO_DOC'] = df_pyp ['IDMOROSO']"
   ]
  },
  {
   "cell_type": "code",
   "execution_count": 51,
   "metadata": {},
   "outputs": [],
   "source": [
    "#df_pyp = df_pyp [['IDMOROSO','NOMBRE','IDCLIENTE','NRO_DOC']]\n",
    "df_pyp = df_pyp [['IDMOROSO','IDCLIENTE','NRO_DOC']]"
   ]
  },
  {
   "cell_type": "code",
   "execution_count": 52,
   "metadata": {},
   "outputs": [
    {
     "data": {
      "text/html": [
       "<div>\n",
       "<style scoped>\n",
       "    .dataframe tbody tr th:only-of-type {\n",
       "        vertical-align: middle;\n",
       "    }\n",
       "\n",
       "    .dataframe tbody tr th {\n",
       "        vertical-align: top;\n",
       "    }\n",
       "\n",
       "    .dataframe thead th {\n",
       "        text-align: right;\n",
       "    }\n",
       "</style>\n",
       "<table border=\"1\" class=\"dataframe\">\n",
       "  <thead>\n",
       "    <tr style=\"text-align: right;\">\n",
       "      <th></th>\n",
       "      <th>IDMOROSO</th>\n",
       "      <th>IDCLIENTE</th>\n",
       "      <th>NRO_DOC</th>\n",
       "    </tr>\n",
       "  </thead>\n",
       "  <tbody>\n",
       "    <tr>\n",
       "      <th>0</th>\n",
       "      <td>DNI 12694849</td>\n",
       "      <td>FRANCES_2012</td>\n",
       "      <td>DNI 12694849</td>\n",
       "    </tr>\n",
       "    <tr>\n",
       "      <th>1</th>\n",
       "      <td>DNI 12712266</td>\n",
       "      <td>FRANCES_2012</td>\n",
       "      <td>DNI 12712266</td>\n",
       "    </tr>\n",
       "    <tr>\n",
       "      <th>2</th>\n",
       "      <td>DNI 12722297</td>\n",
       "      <td>FRANCES_2012</td>\n",
       "      <td>DNI 12722297</td>\n",
       "    </tr>\n",
       "    <tr>\n",
       "      <th>3</th>\n",
       "      <td>DNI 12748441</td>\n",
       "      <td>FRANCES_2012</td>\n",
       "      <td>DNI 12748441</td>\n",
       "    </tr>\n",
       "    <tr>\n",
       "      <th>4</th>\n",
       "      <td>DNI 12755014</td>\n",
       "      <td>FRANCES_2012</td>\n",
       "      <td>DNI 12755014</td>\n",
       "    </tr>\n",
       "  </tbody>\n",
       "</table>\n",
       "</div>"
      ],
      "text/plain": [
       "       IDMOROSO             IDCLIENTE       NRO_DOC\n",
       "0  DNI 12694849  FRANCES_2012          DNI 12694849\n",
       "1  DNI 12712266  FRANCES_2012          DNI 12712266\n",
       "2  DNI 12722297  FRANCES_2012          DNI 12722297\n",
       "3  DNI 12748441  FRANCES_2012          DNI 12748441\n",
       "4  DNI 12755014  FRANCES_2012          DNI 12755014"
      ]
     },
     "execution_count": 52,
     "metadata": {},
     "output_type": "execute_result"
    }
   ],
   "source": [
    "df_pyp.head()"
   ]
  },
  {
   "cell_type": "code",
   "execution_count": 53,
   "metadata": {},
   "outputs": [],
   "source": [
    "df_pyp = df_pyp.dropna(subset=['NRO_DOC'])"
   ]
  },
  {
   "cell_type": "markdown",
   "metadata": {},
   "source": [
    "## 12.2) DNI Cleaning"
   ]
  },
  {
   "cell_type": "markdown",
   "metadata": {},
   "source": [
    "Limpiamos el dataframe __df_pyp__, ya que dentro de DATO_A_ENVIAR tenemos 9 tipos de casos diferentes de datos:\n",
    "\n",
    "- DNI 12345678\n",
    "- DNI12345678\n",
    "- DNIE1234678\n",
    "- LC  1234567\n",
    "- LE  1234567\n",
    "- CUIT00123456780\n",
    "- 00123456780 --> Es un CUIT.\n",
    "- 00 12345678 0 --> Es un CUIT.\n",
    "- DNI 00123456780 --> Dice DNI pero es un CUIT de una persona __jurídica__ (TO DO)"
   ]
  },
  {
   "cell_type": "markdown",
   "metadata": {},
   "source": [
    "Para eso definimos 5 funciones:\n",
    "\n",
    "- __Tipo_DOC__: Se definen dos funciones para determinar el tipo de DNI. Una inicial, y otra para corregir sobre el dataframe resultante.\n",
    "- __Standard DNI__: Estandariza los DNI para 7 de los casos. Esta función debe ejecutarse en primer lugar.\n",
    "- __DNI Spaces__: Elimina los espacios.\n",
    "- __DNI Zero__: Elimina los ceros iniciales de ciertos CUITs para que coincidan con los DNI.\n",
    "- __Cuit__: Decisión sobre dejar un cuit o volverlo DNI"
   ]
  },
  {
   "cell_type": "code",
   "execution_count": 54,
   "metadata": {},
   "outputs": [],
   "source": [
    "def tipo_doc_1 (string_dni):\n",
    "    \n",
    "    if 'DNI' in string_dni:\n",
    "        tipo = 'DNI'\n",
    "    \n",
    "    elif 'LC' in string_dni:\n",
    "        tipo = 'LC'\n",
    "    \n",
    "    elif 'LE' in string_dni:\n",
    "        tipo = 'LE'\n",
    "    \n",
    "    elif 'DNIE' in string_dni:\n",
    "        tipo = 'DNIE'    \n",
    "    \n",
    "    elif ((string_dni.startswith(('CUIT30','CUIT33','CUIT34'))) & (len(string_dni)>8)):\n",
    "        tipo = 'CUIT'\n",
    "        \n",
    "    elif ((string_dni.startswith(('30','33','34'))) & (len(string_dni)>8)):\n",
    "        tipo = 'CUIT'\n",
    "\n",
    "    elif ((string_dni.startswith(('20','23','24','27'))) & (len(string_dni)>8)):\n",
    "        tipo = 'DNI'\n",
    "\n",
    "    elif ((string_dni.startswith(('CUIT20','CUIT23','CUIT24','CUIT27'))) & (len(string_dni)>8)):\n",
    "        tipo = 'DNI'\n",
    "        \n",
    "    else:\n",
    "        tipo = 'DNI'\n",
    "    \n",
    "    return tipo"
   ]
  },
  {
   "cell_type": "code",
   "execution_count": 55,
   "metadata": {},
   "outputs": [],
   "source": [
    "def tipo_doc_2 (string_dni, tipo_original):\n",
    "    \n",
    "    if (len(string_dni) > 8) & (tipo_original == 'DNI'):\n",
    "        tipo = 'CUIT'\n",
    "    else:\n",
    "        tipo = tipo_original\n",
    "    return tipo"
   ]
  },
  {
   "cell_type": "code",
   "execution_count": 56,
   "metadata": {},
   "outputs": [],
   "source": [
    "def standard_dni (string_dni):\n",
    "    \"\"\"DNI separation by each case.\n",
    "    \"\"\"\n",
    "    \n",
    "    if 'DNI ' in string_dni:\n",
    "        dni = string_dni.split('DNI ')[1]\n",
    "        \n",
    "    elif 'DNIE' in string_dni:\n",
    "        dni = string_dni.split('DNIE')[1]\n",
    "    \n",
    "    elif 'DNI' in string_dni:\n",
    "        dni = string_dni.split('DNI')[1]\n",
    "    \n",
    "    elif 'LC  ' in string_dni:\n",
    "        dni = string_dni.split('LC  ')[1]\n",
    "    \n",
    "    elif 'LE  ' in string_dni:\n",
    "        dni = string_dni.split('LE  ')[1]\n",
    "    \n",
    "    elif 'CUIT' in string_dni:\n",
    "        dni = string_dni.split('CUIT')[1]\n",
    "        \n",
    "    else:\n",
    "        dni = string_dni\n",
    "        \n",
    "    return dni"
   ]
  },
  {
   "cell_type": "code",
   "execution_count": 57,
   "metadata": {},
   "outputs": [],
   "source": [
    "def dni_characters (string_dni):\n",
    "    \n",
    "    if ' ' in string_dni:\n",
    "        dni = string_dni.replace(' ','')\n",
    "        \n",
    "    elif '-' in string_dni:\n",
    "        dni = string_dni.replace('-','')\n",
    "\n",
    "    else:\n",
    "        dni = string_dni\n",
    "    \n",
    "    return dni"
   ]
  },
  {
   "cell_type": "code",
   "execution_count": 58,
   "metadata": {},
   "outputs": [],
   "source": [
    "def cuit (string_dni):\n",
    "    \n",
    "    if ((string_dni.startswith('20')) & (len(string_dni)>8)):\n",
    "        cuit = string_dni [2:-1]\n",
    "        \n",
    "    elif ((string_dni.startswith('23')) & (len(string_dni)>8)):\n",
    "        cuit = string_dni [2:-1]\n",
    "        \n",
    "    elif ((string_dni.startswith('24')) & (len(string_dni)>8)):\n",
    "        cuit = string_dni [2:-1]\n",
    "\n",
    "    elif ((string_dni.startswith('27')) & (len(string_dni)>8)):\n",
    "        cuit = string_dni [2:-1]\n",
    "\n",
    "    else:\n",
    "        cuit = string_dni\n",
    "        \n",
    "    return cuit"
   ]
  },
  {
   "cell_type": "code",
   "execution_count": 59,
   "metadata": {},
   "outputs": [],
   "source": [
    "def dni_zero (string_dni):\n",
    "    \n",
    "    if string_dni.startswith('0'):\n",
    "        dni = string_dni [1:]\n",
    "\n",
    "    else:\n",
    "        dni = string_dni\n",
    "    \n",
    "    return dni"
   ]
  },
  {
   "cell_type": "markdown",
   "metadata": {},
   "source": [
    "En primer lugar, trimmeamos los espacios que sobran:"
   ]
  },
  {
   "cell_type": "code",
   "execution_count": 60,
   "metadata": {},
   "outputs": [],
   "source": [
    "df_pyp['NRO_DOC'] = [(str(df_pyp['NRO_DOC'][i]).strip()) for i in range (df_pyp['NRO_DOC'].count())]"
   ]
  },
  {
   "cell_type": "markdown",
   "metadata": {},
   "source": [
    "Se implementan estas funciones:"
   ]
  },
  {
   "cell_type": "markdown",
   "metadata": {},
   "source": [
    "Para determinar el __TIPO DE DOCUMENTO__ en primer lugar:"
   ]
  },
  {
   "cell_type": "code",
   "execution_count": 61,
   "metadata": {},
   "outputs": [],
   "source": [
    "df_pyp['TIPO_DOC'] = [tipo_doc_1(df_pyp['NRO_DOC'][i]) for i in range (df_pyp['NRO_DOC'].count())]"
   ]
  },
  {
   "cell_type": "markdown",
   "metadata": {},
   "source": [
    "Para la limpieza de DNIs:"
   ]
  },
  {
   "cell_type": "code",
   "execution_count": 62,
   "metadata": {},
   "outputs": [],
   "source": [
    "df_pyp['NRO_DOC'] = [standard_dni(df_pyp['NRO_DOC'][i]) for i in range (df_pyp['NRO_DOC'].count())]"
   ]
  },
  {
   "cell_type": "code",
   "execution_count": 63,
   "metadata": {},
   "outputs": [],
   "source": [
    "df_pyp['NRO_DOC'] = [dni_characters(df_pyp['NRO_DOC'][i]) for i in range (df_pyp['NRO_DOC'].count())]"
   ]
  },
  {
   "cell_type": "code",
   "execution_count": 64,
   "metadata": {},
   "outputs": [],
   "source": [
    "df_pyp['NRO_DOC'] = [cuit(df_pyp['NRO_DOC'][i]) for i in range (df_pyp['NRO_DOC'].count())]"
   ]
  },
  {
   "cell_type": "code",
   "execution_count": 65,
   "metadata": {},
   "outputs": [],
   "source": [
    "df_pyp['NRO_DOC'] = [dni_zero(df_pyp['NRO_DOC'][i]) for i in range (df_pyp['NRO_DOC'].count())]"
   ]
  },
  {
   "cell_type": "markdown",
   "metadata": {},
   "source": [
    "Para corregir el __TIPO DE DOCUMENTO__ sobre el dataframe resultante"
   ]
  },
  {
   "cell_type": "code",
   "execution_count": 66,
   "metadata": {},
   "outputs": [],
   "source": [
    "df_pyp['TIPO_DOC'] = [tipo_doc_2(df_pyp['NRO_DOC'][i],df_pyp['TIPO_DOC'][i]) for i in range (df_pyp['NRO_DOC'].count())]"
   ]
  },
  {
   "cell_type": "code",
   "execution_count": 87,
   "metadata": {
    "scrolled": true
   },
   "outputs": [
    {
     "data": {
      "text/html": [
       "<div>\n",
       "<style scoped>\n",
       "    .dataframe tbody tr th:only-of-type {\n",
       "        vertical-align: middle;\n",
       "    }\n",
       "\n",
       "    .dataframe tbody tr th {\n",
       "        vertical-align: top;\n",
       "    }\n",
       "\n",
       "    .dataframe thead th {\n",
       "        text-align: right;\n",
       "    }\n",
       "</style>\n",
       "<table border=\"1\" class=\"dataframe\">\n",
       "  <thead>\n",
       "    <tr style=\"text-align: right;\">\n",
       "      <th></th>\n",
       "      <th>IDMOROSO</th>\n",
       "      <th>IDCLIENTE</th>\n",
       "      <th>NRO_DOC</th>\n",
       "      <th>TIPO_DOC</th>\n",
       "    </tr>\n",
       "  </thead>\n",
       "  <tbody>\n",
       "  </tbody>\n",
       "</table>\n",
       "</div>"
      ],
      "text/plain": [
       "Empty DataFrame\n",
       "Columns: [IDMOROSO, IDCLIENTE, NRO_DOC, TIPO_DOC]\n",
       "Index: []"
      ]
     },
     "execution_count": 87,
     "metadata": {},
     "output_type": "execute_result"
    }
   ],
   "source": [
    "df_pyp[df_pyp[\"IDMOROSO\"]==\"DNI 14615384\"]"
   ]
  },
  {
   "cell_type": "markdown",
   "metadata": {},
   "source": [
    "# 13) Union de Dataframes"
   ]
  },
  {
   "cell_type": "markdown",
   "metadata": {},
   "source": [
    "Se unen ambos dataframes en la columna NRO_DOC"
   ]
  },
  {
   "cell_type": "markdown",
   "metadata": {},
   "source": [
    "Convertimos la columna NRO_DOC de objeto a INT para hacer la unión"
   ]
  },
  {
   "cell_type": "code",
   "execution_count": 92,
   "metadata": {},
   "outputs": [],
   "source": [
    "df_clean = df_clean.astype({'NRO_DOC': 'str'})"
   ]
  },
  {
   "cell_type": "code",
   "execution_count": 93,
   "metadata": {},
   "outputs": [],
   "source": [
    "df_clean ['NRO_DOC'] = df_clean ['NRO_DOC'].str.split('.').str[0]"
   ]
  },
  {
   "cell_type": "code",
   "execution_count": 94,
   "metadata": {},
   "outputs": [],
   "source": [
    "df_union = pd.merge(df_clean,df_pyp, on='NRO_DOC', how='inner')"
   ]
  },
  {
   "cell_type": "code",
   "execution_count": 95,
   "metadata": {},
   "outputs": [
    {
     "data": {
      "text/plain": [
       "(2, 18)"
      ]
     },
     "execution_count": 95,
     "metadata": {},
     "output_type": "execute_result"
    }
   ],
   "source": [
    "df_union.shape"
   ]
  },
  {
   "cell_type": "code",
   "execution_count": 96,
   "metadata": {
    "scrolled": true
   },
   "outputs": [
    {
     "data": {
      "text/html": [
       "<div>\n",
       "<style scoped>\n",
       "    .dataframe tbody tr th:only-of-type {\n",
       "        vertical-align: middle;\n",
       "    }\n",
       "\n",
       "    .dataframe tbody tr th {\n",
       "        vertical-align: top;\n",
       "    }\n",
       "\n",
       "    .dataframe thead th {\n",
       "        text-align: right;\n",
       "    }\n",
       "</style>\n",
       "<table border=\"1\" class=\"dataframe\">\n",
       "  <thead>\n",
       "    <tr style=\"text-align: right;\">\n",
       "      <th></th>\n",
       "      <th>CUIT_CUIL</th>\n",
       "      <th>NRO_DOC</th>\n",
       "      <th>APELLIDO</th>\n",
       "      <th>NOMBRE</th>\n",
       "      <th>variable</th>\n",
       "      <th>Dato</th>\n",
       "      <th>PROPIETARIO_DATO</th>\n",
       "      <th>PROVEEDOR_DATO</th>\n",
       "      <th>TIPO</th>\n",
       "      <th>SUBTIPO</th>\n",
       "      <th>SCORE_DATO</th>\n",
       "      <th>FECHA_INGRESO_DATO</th>\n",
       "      <th>VERIFICADO</th>\n",
       "      <th>FECHA_VERIFICACION</th>\n",
       "      <th>OPERADOR_VERIFICACION</th>\n",
       "      <th>IDMOROSO</th>\n",
       "      <th>IDCLIENTE</th>\n",
       "      <th>TIPO_DOC</th>\n",
       "    </tr>\n",
       "  </thead>\n",
       "  <tbody>\n",
       "    <tr>\n",
       "      <th>0</th>\n",
       "      <td>27190606533</td>\n",
       "      <td>12552667</td>\n",
       "      <td>TILLERIA</td>\n",
       "      <td>JORGE</td>\n",
       "      <td>EMAIL</td>\n",
       "      <td>tetotille@gmail.com</td>\n",
       "      <td>Propio</td>\n",
       "      <td>ZERT</td>\n",
       "      <td>EMAIL</td>\n",
       "      <td>PERSONAL</td>\n",
       "      <td>2.0</td>\n",
       "      <td>2021-08-25 08:26:29.120434</td>\n",
       "      <td>0</td>\n",
       "      <td>NaN</td>\n",
       "      <td>NaN</td>\n",
       "      <td>DNI 12552667</td>\n",
       "      <td>BSR_TARDIA</td>\n",
       "      <td>DNI</td>\n",
       "    </tr>\n",
       "    <tr>\n",
       "      <th>1</th>\n",
       "      <td>27190606533</td>\n",
       "      <td>12552667</td>\n",
       "      <td>TILLERIA</td>\n",
       "      <td>JORGE</td>\n",
       "      <td>EMAIL2</td>\n",
       "      <td>jorge.tilleria@mopc.cc</td>\n",
       "      <td>Propio</td>\n",
       "      <td>ZERT</td>\n",
       "      <td>EMAIL</td>\n",
       "      <td>LABORAL</td>\n",
       "      <td>1.0</td>\n",
       "      <td>2021-08-25 08:26:29.120434</td>\n",
       "      <td>0</td>\n",
       "      <td>NaN</td>\n",
       "      <td>NaN</td>\n",
       "      <td>DNI 12552667</td>\n",
       "      <td>BSR_TARDIA</td>\n",
       "      <td>DNI</td>\n",
       "    </tr>\n",
       "  </tbody>\n",
       "</table>\n",
       "</div>"
      ],
      "text/plain": [
       "     CUIT_CUIL   NRO_DOC  APELLIDO NOMBRE variable                    Dato  \\\n",
       "0  27190606533  12552667  TILLERIA  JORGE    EMAIL     tetotille@gmail.com   \n",
       "1  27190606533  12552667  TILLERIA  JORGE   EMAIL2  jorge.tilleria@mopc.cc   \n",
       "\n",
       "  PROPIETARIO_DATO PROVEEDOR_DATO   TIPO   SUBTIPO  SCORE_DATO  \\\n",
       "0           Propio           ZERT  EMAIL  PERSONAL         2.0   \n",
       "1           Propio           ZERT  EMAIL   LABORAL         1.0   \n",
       "\n",
       "          FECHA_INGRESO_DATO  VERIFICADO  FECHA_VERIFICACION  \\\n",
       "0 2021-08-25 08:26:29.120434           0                 NaN   \n",
       "1 2021-08-25 08:26:29.120434           0                 NaN   \n",
       "\n",
       "   OPERADOR_VERIFICACION      IDMOROSO             IDCLIENTE TIPO_DOC  \n",
       "0                    NaN  DNI 12552667  BSR_TARDIA                DNI  \n",
       "1                    NaN  DNI 12552667  BSR_TARDIA                DNI  "
      ]
     },
     "execution_count": 96,
     "metadata": {},
     "output_type": "execute_result"
    }
   ],
   "source": [
    "df_union.head()"
   ]
  },
  {
   "cell_type": "markdown",
   "metadata": {},
   "source": [
    "# 14) Export"
   ]
  },
  {
   "cell_type": "markdown",
   "metadata": {},
   "source": [
    "Renombramos, dropeamos y reordenamos las columnas"
   ]
  },
  {
   "cell_type": "code",
   "execution_count": 73,
   "metadata": {},
   "outputs": [],
   "source": [
    "df_union = df_union.rename(columns = {'Dato':'DATO'})"
   ]
  },
  {
   "cell_type": "markdown",
   "metadata": {},
   "source": [
    "Dropeamos columnas que no nos sirven"
   ]
  },
  {
   "cell_type": "code",
   "execution_count": 74,
   "metadata": {},
   "outputs": [],
   "source": [
    "df_export = df_union.drop(columns=['IDCLIENTE'], axis=0)"
   ]
  },
  {
   "cell_type": "code",
   "execution_count": 75,
   "metadata": {
    "scrolled": true
   },
   "outputs": [],
   "source": [
    "df_export = df_export[['IDMOROSO', 'TIPO_DOC','NRO_DOC','CUIT_CUIL','TIPO','SUBTIPO','DATO','PROPIETARIO_DATO','PROVEEDOR_DATO','FECHA_INGRESO_DATO','VERIFICADO','FECHA_VERIFICACION','OPERADOR_VERIFICACION','SCORE_DATO']]"
   ]
  },
  {
   "cell_type": "code",
   "execution_count": 76,
   "metadata": {},
   "outputs": [
    {
     "data": {
      "text/html": [
       "<div>\n",
       "<style scoped>\n",
       "    .dataframe tbody tr th:only-of-type {\n",
       "        vertical-align: middle;\n",
       "    }\n",
       "\n",
       "    .dataframe tbody tr th {\n",
       "        vertical-align: top;\n",
       "    }\n",
       "\n",
       "    .dataframe thead th {\n",
       "        text-align: right;\n",
       "    }\n",
       "</style>\n",
       "<table border=\"1\" class=\"dataframe\">\n",
       "  <thead>\n",
       "    <tr style=\"text-align: right;\">\n",
       "      <th></th>\n",
       "      <th>IDMOROSO</th>\n",
       "      <th>TIPO_DOC</th>\n",
       "      <th>NRO_DOC</th>\n",
       "      <th>CUIT_CUIL</th>\n",
       "      <th>TIPO</th>\n",
       "      <th>SUBTIPO</th>\n",
       "      <th>DATO</th>\n",
       "      <th>PROPIETARIO_DATO</th>\n",
       "      <th>PROVEEDOR_DATO</th>\n",
       "      <th>FECHA_INGRESO_DATO</th>\n",
       "      <th>VERIFICADO</th>\n",
       "      <th>FECHA_VERIFICACION</th>\n",
       "      <th>OPERADOR_VERIFICACION</th>\n",
       "      <th>SCORE_DATO</th>\n",
       "    </tr>\n",
       "  </thead>\n",
       "  <tbody>\n",
       "    <tr>\n",
       "      <th>0</th>\n",
       "      <td>NaN</td>\n",
       "      <td>NaN</td>\n",
       "      <td>14615384</td>\n",
       "      <td>20146153845</td>\n",
       "      <td>EMAIL</td>\n",
       "      <td>PERSONAL</td>\n",
       "      <td>jorguitolopez66@outlook.com</td>\n",
       "      <td>Propio</td>\n",
       "      <td>ZERT</td>\n",
       "      <td>2021-08-25 08:26:29.120434</td>\n",
       "      <td>0</td>\n",
       "      <td>NaN</td>\n",
       "      <td>NaN</td>\n",
       "      <td>2.0</td>\n",
       "    </tr>\n",
       "    <tr>\n",
       "      <th>1</th>\n",
       "      <td>NaN</td>\n",
       "      <td>NaN</td>\n",
       "      <td>16529147</td>\n",
       "      <td>20165291477</td>\n",
       "      <td>EMAIL</td>\n",
       "      <td>PERSONAL</td>\n",
       "      <td>marcelo_a_oliva@hotmail.com</td>\n",
       "      <td>Propio</td>\n",
       "      <td>ZERT</td>\n",
       "      <td>2021-08-25 08:26:29.120434</td>\n",
       "      <td>0</td>\n",
       "      <td>NaN</td>\n",
       "      <td>NaN</td>\n",
       "      <td>2.0</td>\n",
       "    </tr>\n",
       "    <tr>\n",
       "      <th>2</th>\n",
       "      <td>NaN</td>\n",
       "      <td>NaN</td>\n",
       "      <td>19060653</td>\n",
       "      <td>27190606533</td>\n",
       "      <td>EMAIL</td>\n",
       "      <td>PERSONAL</td>\n",
       "      <td>rebef@gmail.com</td>\n",
       "      <td>Propio</td>\n",
       "      <td>ZERT</td>\n",
       "      <td>2021-08-25 08:26:29.120434</td>\n",
       "      <td>0</td>\n",
       "      <td>NaN</td>\n",
       "      <td>NaN</td>\n",
       "      <td>2.0</td>\n",
       "    </tr>\n",
       "    <tr>\n",
       "      <th>3</th>\n",
       "      <td>DNI 12552667</td>\n",
       "      <td>DNI</td>\n",
       "      <td>12552667</td>\n",
       "      <td>27190606533</td>\n",
       "      <td>EMAIL</td>\n",
       "      <td>PERSONAL</td>\n",
       "      <td>tetotille@gmail.com</td>\n",
       "      <td>Propio</td>\n",
       "      <td>ZERT</td>\n",
       "      <td>2021-08-25 08:26:29.120434</td>\n",
       "      <td>0</td>\n",
       "      <td>NaN</td>\n",
       "      <td>NaN</td>\n",
       "      <td>2.0</td>\n",
       "    </tr>\n",
       "    <tr>\n",
       "      <th>4</th>\n",
       "      <td>NaN</td>\n",
       "      <td>NaN</td>\n",
       "      <td>14615384</td>\n",
       "      <td>20146153845</td>\n",
       "      <td>EMAIL</td>\n",
       "      <td>PERSONAL</td>\n",
       "      <td>jorgeracing@hotmail.com</td>\n",
       "      <td>Propio</td>\n",
       "      <td>ZERT</td>\n",
       "      <td>2021-08-25 08:26:29.120434</td>\n",
       "      <td>0</td>\n",
       "      <td>NaN</td>\n",
       "      <td>NaN</td>\n",
       "      <td>2.0</td>\n",
       "    </tr>\n",
       "  </tbody>\n",
       "</table>\n",
       "</div>"
      ],
      "text/plain": [
       "       IDMOROSO TIPO_DOC   NRO_DOC    CUIT_CUIL   TIPO   SUBTIPO  \\\n",
       "0           NaN      NaN  14615384  20146153845  EMAIL  PERSONAL   \n",
       "1           NaN      NaN  16529147  20165291477  EMAIL  PERSONAL   \n",
       "2           NaN      NaN  19060653  27190606533  EMAIL  PERSONAL   \n",
       "3  DNI 12552667      DNI  12552667  27190606533  EMAIL  PERSONAL   \n",
       "4           NaN      NaN  14615384  20146153845  EMAIL  PERSONAL   \n",
       "\n",
       "                          DATO PROPIETARIO_DATO PROVEEDOR_DATO  \\\n",
       "0  jorguitolopez66@outlook.com           Propio           ZERT   \n",
       "1  marcelo_a_oliva@hotmail.com           Propio           ZERT   \n",
       "2              rebef@gmail.com           Propio           ZERT   \n",
       "3          tetotille@gmail.com           Propio           ZERT   \n",
       "4      jorgeracing@hotmail.com           Propio           ZERT   \n",
       "\n",
       "          FECHA_INGRESO_DATO  VERIFICADO  FECHA_VERIFICACION  \\\n",
       "0 2021-08-25 08:26:29.120434           0                 NaN   \n",
       "1 2021-08-25 08:26:29.120434           0                 NaN   \n",
       "2 2021-08-25 08:26:29.120434           0                 NaN   \n",
       "3 2021-08-25 08:26:29.120434           0                 NaN   \n",
       "4 2021-08-25 08:26:29.120434           0                 NaN   \n",
       "\n",
       "   OPERADOR_VERIFICACION  SCORE_DATO  \n",
       "0                    NaN         2.0  \n",
       "1                    NaN         2.0  \n",
       "2                    NaN         2.0  \n",
       "3                    NaN         2.0  \n",
       "4                    NaN         2.0  "
      ]
     },
     "execution_count": 76,
     "metadata": {},
     "output_type": "execute_result"
    }
   ],
   "source": [
    "df_export.head()"
   ]
  },
  {
   "cell_type": "code",
   "execution_count": 79,
   "metadata": {
    "scrolled": true
   },
   "outputs": [
    {
     "data": {
      "text/plain": [
       "(225, 14)"
      ]
     },
     "execution_count": 79,
     "metadata": {},
     "output_type": "execute_result"
    }
   ],
   "source": [
    "df_export.shape"
   ]
  },
  {
   "cell_type": "markdown",
   "metadata": {},
   "source": [
    "Número a str para no tener problemas con la inserción"
   ]
  },
  {
   "cell_type": "code",
   "execution_count": 142,
   "metadata": {},
   "outputs": [],
   "source": [
    "df_export['CUIT_CUIL'] = [(str(int(round(df_export['CUIT_CUIL'][i],0)))) for i in range (df_export['CUIT_CUIL'].count())]"
   ]
  },
  {
   "cell_type": "code",
   "execution_count": 143,
   "metadata": {},
   "outputs": [
    {
     "data": {
      "text/html": [
       "<div>\n",
       "<style scoped>\n",
       "    .dataframe tbody tr th:only-of-type {\n",
       "        vertical-align: middle;\n",
       "    }\n",
       "\n",
       "    .dataframe tbody tr th {\n",
       "        vertical-align: top;\n",
       "    }\n",
       "\n",
       "    .dataframe thead th {\n",
       "        text-align: right;\n",
       "    }\n",
       "</style>\n",
       "<table border=\"1\" class=\"dataframe\">\n",
       "  <thead>\n",
       "    <tr style=\"text-align: right;\">\n",
       "      <th></th>\n",
       "      <th>IDMOROSO</th>\n",
       "      <th>TIPO_DOC</th>\n",
       "      <th>NRO_DOC</th>\n",
       "      <th>CUIT_CUIL</th>\n",
       "      <th>TIPO</th>\n",
       "      <th>SUBTIPO</th>\n",
       "      <th>DATO</th>\n",
       "      <th>PROPIETARIO_DATO</th>\n",
       "      <th>PROVEEDOR_DATO</th>\n",
       "      <th>FECHA_INGRESO_DATO</th>\n",
       "      <th>VERIFICADO</th>\n",
       "      <th>FECHA_VERIFICACION</th>\n",
       "      <th>OPERADOR_VERIFICACION</th>\n",
       "      <th>SCORE_DATO</th>\n",
       "    </tr>\n",
       "  </thead>\n",
       "  <tbody>\n",
       "    <tr>\n",
       "      <th>0</th>\n",
       "      <td>DNI 12552667</td>\n",
       "      <td>DNI</td>\n",
       "      <td>12552667</td>\n",
       "      <td>27190606533</td>\n",
       "      <td>EMAIL</td>\n",
       "      <td>PERSONAL</td>\n",
       "      <td>tetotille@gmail.com</td>\n",
       "      <td>Propio</td>\n",
       "      <td>ZERT</td>\n",
       "      <td>2021-08-24 15:34:10.514802</td>\n",
       "      <td>0</td>\n",
       "      <td>NaN</td>\n",
       "      <td>NaN</td>\n",
       "      <td>2.0</td>\n",
       "    </tr>\n",
       "    <tr>\n",
       "      <th>1</th>\n",
       "      <td>DNI 12552667</td>\n",
       "      <td>DNI</td>\n",
       "      <td>12552667</td>\n",
       "      <td>27190606533</td>\n",
       "      <td>EMAIL</td>\n",
       "      <td>LABORAL</td>\n",
       "      <td>jorge.tilleria@mopc.cc</td>\n",
       "      <td>Propio</td>\n",
       "      <td>ZERT</td>\n",
       "      <td>2021-08-24 15:34:10.514802</td>\n",
       "      <td>0</td>\n",
       "      <td>NaN</td>\n",
       "      <td>NaN</td>\n",
       "      <td>1.0</td>\n",
       "    </tr>\n",
       "  </tbody>\n",
       "</table>\n",
       "</div>"
      ],
      "text/plain": [
       "       IDMOROSO TIPO_DOC   NRO_DOC    CUIT_CUIL   TIPO   SUBTIPO  \\\n",
       "0  DNI 12552667      DNI  12552667  27190606533  EMAIL  PERSONAL   \n",
       "1  DNI 12552667      DNI  12552667  27190606533  EMAIL   LABORAL   \n",
       "\n",
       "                     DATO PROPIETARIO_DATO PROVEEDOR_DATO  \\\n",
       "0     tetotille@gmail.com           Propio           ZERT   \n",
       "1  jorge.tilleria@mopc.cc           Propio           ZERT   \n",
       "\n",
       "          FECHA_INGRESO_DATO  VERIFICADO  FECHA_VERIFICACION  \\\n",
       "0 2021-08-24 15:34:10.514802           0                 NaN   \n",
       "1 2021-08-24 15:34:10.514802           0                 NaN   \n",
       "\n",
       "   OPERADOR_VERIFICACION  SCORE_DATO  \n",
       "0                    NaN         2.0  \n",
       "1                    NaN         1.0  "
      ]
     },
     "execution_count": 143,
     "metadata": {},
     "output_type": "execute_result"
    }
   ],
   "source": [
    "df_export.tail()"
   ]
  },
  {
   "cell_type": "markdown",
   "metadata": {},
   "source": [
    "Dropeamos filas duplicadas"
   ]
  },
  {
   "cell_type": "code",
   "execution_count": 144,
   "metadata": {},
   "outputs": [],
   "source": [
    "df_export = df_export.drop_duplicates()"
   ]
  },
  {
   "cell_type": "code",
   "execution_count": 145,
   "metadata": {},
   "outputs": [
    {
     "data": {
      "text/plain": [
       "(2, 14)"
      ]
     },
     "execution_count": 145,
     "metadata": {},
     "output_type": "execute_result"
    }
   ],
   "source": [
    "df_export.shape"
   ]
  },
  {
   "cell_type": "markdown",
   "metadata": {},
   "source": [
    "## Dato a str + strip()"
   ]
  },
  {
   "cell_type": "code",
   "execution_count": 146,
   "metadata": {},
   "outputs": [],
   "source": [
    "df_export ['DATO'] = df_export['DATO'].str.strip()"
   ]
  },
  {
   "cell_type": "markdown",
   "metadata": {},
   "source": [
    "# Revisión de duplicados"
   ]
  },
  {
   "cell_type": "code",
   "execution_count": 147,
   "metadata": {},
   "outputs": [],
   "source": [
    "duplicates_subset = df_export[df_export.duplicated(subset=['IDMOROSO','DATO','PROVEEDOR_DATO'],keep=False)]"
   ]
  },
  {
   "cell_type": "code",
   "execution_count": 148,
   "metadata": {},
   "outputs": [
    {
     "data": {
      "text/html": [
       "<div>\n",
       "<style scoped>\n",
       "    .dataframe tbody tr th:only-of-type {\n",
       "        vertical-align: middle;\n",
       "    }\n",
       "\n",
       "    .dataframe tbody tr th {\n",
       "        vertical-align: top;\n",
       "    }\n",
       "\n",
       "    .dataframe thead th {\n",
       "        text-align: right;\n",
       "    }\n",
       "</style>\n",
       "<table border=\"1\" class=\"dataframe\">\n",
       "  <thead>\n",
       "    <tr style=\"text-align: right;\">\n",
       "      <th></th>\n",
       "      <th>IDMOROSO</th>\n",
       "      <th>TIPO_DOC</th>\n",
       "      <th>NRO_DOC</th>\n",
       "      <th>CUIT_CUIL</th>\n",
       "      <th>TIPO</th>\n",
       "      <th>SUBTIPO</th>\n",
       "      <th>DATO</th>\n",
       "      <th>PROPIETARIO_DATO</th>\n",
       "      <th>PROVEEDOR_DATO</th>\n",
       "      <th>FECHA_INGRESO_DATO</th>\n",
       "      <th>VERIFICADO</th>\n",
       "      <th>FECHA_VERIFICACION</th>\n",
       "      <th>OPERADOR_VERIFICACION</th>\n",
       "      <th>SCORE_DATO</th>\n",
       "    </tr>\n",
       "  </thead>\n",
       "  <tbody>\n",
       "  </tbody>\n",
       "</table>\n",
       "</div>"
      ],
      "text/plain": [
       "Empty DataFrame\n",
       "Columns: [IDMOROSO, TIPO_DOC, NRO_DOC, CUIT_CUIL, TIPO, SUBTIPO, DATO, PROPIETARIO_DATO, PROVEEDOR_DATO, FECHA_INGRESO_DATO, VERIFICADO, FECHA_VERIFICACION, OPERADOR_VERIFICACION, SCORE_DATO]\n",
       "Index: []"
      ]
     },
     "execution_count": 148,
     "metadata": {},
     "output_type": "execute_result"
    }
   ],
   "source": [
    "duplicates_subset"
   ]
  },
  {
   "cell_type": "markdown",
   "metadata": {},
   "source": [
    "Tenemos pocos duplicados, lo solucionamos manualmente"
   ]
  },
  {
   "cell_type": "code",
   "execution_count": 149,
   "metadata": {
    "scrolled": true
   },
   "outputs": [
    {
     "data": {
      "text/plain": [
       "(0, 14)"
      ]
     },
     "execution_count": 149,
     "metadata": {},
     "output_type": "execute_result"
    }
   ],
   "source": [
    "duplicates_subset.shape"
   ]
  },
  {
   "cell_type": "code",
   "execution_count": null,
   "metadata": {},
   "outputs": [],
   "source": [
    "df_export = df_export.drop([38,60,88,108])"
   ]
  },
  {
   "cell_type": "code",
   "execution_count": 151,
   "metadata": {},
   "outputs": [
    {
     "data": {
      "text/plain": [
       "(2, 14)"
      ]
     },
     "execution_count": 151,
     "metadata": {},
     "output_type": "execute_result"
    }
   ],
   "source": [
    "df_export.shape"
   ]
  },
  {
   "cell_type": "markdown",
   "metadata": {},
   "source": [
    "## 14.2) Insert a tabla DAM_CONTACTABILIDAD:"
   ]
  },
  {
   "cell_type": "code",
   "execution_count": 152,
   "metadata": {},
   "outputs": [],
   "source": [
    "df_export.to_csv('insider.csv',index=False)"
   ]
  },
  {
   "cell_type": "code",
   "execution_count": null,
   "metadata": {},
   "outputs": [],
   "source": []
  }
 ],
 "metadata": {
  "kernelspec": {
   "display_name": "Python 3",
   "language": "python",
   "name": "python3"
  },
  "language_info": {
   "codemirror_mode": {
    "name": "ipython",
    "version": 3
   },
   "file_extension": ".py",
   "mimetype": "text/x-python",
   "name": "python",
   "nbconvert_exporter": "python",
   "pygments_lexer": "ipython3",
   "version": "3.7.11"
  }
 },
 "nbformat": 4,
 "nbformat_minor": 4
}
