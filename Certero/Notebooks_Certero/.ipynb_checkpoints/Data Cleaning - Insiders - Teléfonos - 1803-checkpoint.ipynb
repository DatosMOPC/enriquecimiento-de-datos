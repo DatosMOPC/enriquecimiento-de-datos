{
 "cells": [
  {
   "cell_type": "markdown",
   "metadata": {},
   "source": [
    "# 1) Datasets"
   ]
  },
  {
   "cell_type": "markdown",
   "metadata": {},
   "source": [
    "Vamos a leer el dataset"
   ]
  },
  {
   "cell_type": "code",
   "execution_count": 1,
   "metadata": {},
   "outputs": [],
   "source": [
    "import pandas as pd\n",
    "import numpy as np"
   ]
  },
  {
   "cell_type": "code",
   "execution_count": 2,
   "metadata": {},
   "outputs": [],
   "source": [
    "df = pd.read_csv('sumario.csv')"
   ]
  },
  {
   "cell_type": "code",
   "execution_count": 3,
   "metadata": {},
   "outputs": [
    {
     "data": {
      "text/html": [
       "<div>\n",
       "<style scoped>\n",
       "    .dataframe tbody tr th:only-of-type {\n",
       "        vertical-align: middle;\n",
       "    }\n",
       "\n",
       "    .dataframe tbody tr th {\n",
       "        vertical-align: top;\n",
       "    }\n",
       "\n",
       "    .dataframe thead th {\n",
       "        text-align: right;\n",
       "    }\n",
       "</style>\n",
       "<table border=\"1\" class=\"dataframe\">\n",
       "  <thead>\n",
       "    <tr style=\"text-align: right;\">\n",
       "      <th></th>\n",
       "      <th>#ID</th>\n",
       "      <th>DOCUMENTO</th>\n",
       "      <th>CUIL</th>\n",
       "      <th>APELLIDO</th>\n",
       "      <th>NOMBRE</th>\n",
       "      <th>SEXO</th>\n",
       "      <th>FECHA_NAC</th>\n",
       "      <th>DIFUNTO</th>\n",
       "      <th>PADRON_DOMICILIO</th>\n",
       "      <th>PADRON_LOCALIDAD</th>\n",
       "      <th>...</th>\n",
       "      <th>TELEFONO_FIJO1</th>\n",
       "      <th>TELEFONO_FIJO1_OPERADOR</th>\n",
       "      <th>TELEFONO_FIJO2</th>\n",
       "      <th>TELEFONO_FIJO2_OPERADOR</th>\n",
       "      <th>TELEFONO_FIJO3</th>\n",
       "      <th>TELEFONO_FIJO3_OPERADOR</th>\n",
       "      <th>TELEFONO_FIJO4</th>\n",
       "      <th>TELEFONO_FIJO4_OPERADOR</th>\n",
       "      <th>EMAIL</th>\n",
       "      <th>EMAIL2</th>\n",
       "    </tr>\n",
       "  </thead>\n",
       "  <tbody>\n",
       "    <tr>\n",
       "      <th>0</th>\n",
       "      <td>DNI 10039621</td>\n",
       "      <td>10039621</td>\n",
       "      <td>27100396217</td>\n",
       "      <td>CANO</td>\n",
       "      <td>ANA MARIA</td>\n",
       "      <td>F</td>\n",
       "      <td>30/11/1951</td>\n",
       "      <td>SI</td>\n",
       "      <td>LA PAMPA 1721 3</td>\n",
       "      <td>MAR DEL PLATA</td>\n",
       "      <td>...</td>\n",
       "      <td>2.234747e+09</td>\n",
       "      <td>Telefonica Argentina</td>\n",
       "      <td>NaN</td>\n",
       "      <td>NaN</td>\n",
       "      <td>NaN</td>\n",
       "      <td>NaN</td>\n",
       "      <td>NaN</td>\n",
       "      <td>NaN</td>\n",
       "      <td>adriandario74@HOTMAIL.COM</td>\n",
       "      <td>cristiantejedo-ks@hotmail.com</td>\n",
       "    </tr>\n",
       "    <tr>\n",
       "      <th>1</th>\n",
       "      <td>DNI 10046071</td>\n",
       "      <td>10046071</td>\n",
       "      <td>27100460713</td>\n",
       "      <td>D'ANGELO</td>\n",
       "      <td>ROSA HILDA</td>\n",
       "      <td>F</td>\n",
       "      <td>19/02/1951</td>\n",
       "      <td>NO</td>\n",
       "      <td>PUEYRREDON 1161</td>\n",
       "      <td>OBSERVATORIO</td>\n",
       "      <td>...</td>\n",
       "      <td>NaN</td>\n",
       "      <td>NaN</td>\n",
       "      <td>NaN</td>\n",
       "      <td>NaN</td>\n",
       "      <td>NaN</td>\n",
       "      <td>NaN</td>\n",
       "      <td>NaN</td>\n",
       "      <td>NaN</td>\n",
       "      <td>dieperez@yahoo.com.ar</td>\n",
       "      <td>NaN</td>\n",
       "    </tr>\n",
       "    <tr>\n",
       "      <th>2</th>\n",
       "      <td>DNI 10083637</td>\n",
       "      <td>10083637</td>\n",
       "      <td>27100836373</td>\n",
       "      <td>ROMERO</td>\n",
       "      <td>MARTA ALICIA</td>\n",
       "      <td>F</td>\n",
       "      <td>18/10/1951</td>\n",
       "      <td>NO</td>\n",
       "      <td>SARMIENTO 3940</td>\n",
       "      <td>ALMAGRO</td>\n",
       "      <td>...</td>\n",
       "      <td>1.149839e+09</td>\n",
       "      <td>Telefonica Argentina</td>\n",
       "      <td>NaN</td>\n",
       "      <td>NaN</td>\n",
       "      <td>NaN</td>\n",
       "      <td>NaN</td>\n",
       "      <td>NaN</td>\n",
       "      <td>NaN</td>\n",
       "      <td>romeromartac@yahoo.com</td>\n",
       "      <td>csofiacarla@yahoo.com</td>\n",
       "    </tr>\n",
       "    <tr>\n",
       "      <th>3</th>\n",
       "      <td>DNI 10085866</td>\n",
       "      <td>10085866</td>\n",
       "      <td>20100858666</td>\n",
       "      <td>CHAVEZ</td>\n",
       "      <td>JUAN CRISOTOMO</td>\n",
       "      <td>M</td>\n",
       "      <td>27/01/1952</td>\n",
       "      <td>SI</td>\n",
       "      <td>CUYO 526</td>\n",
       "      <td>LLAVALLOL</td>\n",
       "      <td>...</td>\n",
       "      <td>1.142934e+09</td>\n",
       "      <td>Telefonica Argentina</td>\n",
       "      <td>NaN</td>\n",
       "      <td>NaN</td>\n",
       "      <td>NaN</td>\n",
       "      <td>NaN</td>\n",
       "      <td>NaN</td>\n",
       "      <td>NaN</td>\n",
       "      <td>Analia_vchavez@hotmail.com</td>\n",
       "      <td>NaN</td>\n",
       "    </tr>\n",
       "    <tr>\n",
       "      <th>4</th>\n",
       "      <td>DNI 10117117</td>\n",
       "      <td>10117117</td>\n",
       "      <td>20101171176</td>\n",
       "      <td>FILIPPAZZO</td>\n",
       "      <td>ERNESTO ROBERTO</td>\n",
       "      <td>M</td>\n",
       "      <td>02/01/1952</td>\n",
       "      <td>NO</td>\n",
       "      <td>DIAG.LACROZE 1783</td>\n",
       "      <td>BILLINGHURST</td>\n",
       "      <td>...</td>\n",
       "      <td>1.147346e+09</td>\n",
       "      <td>Telecom Argentina</td>\n",
       "      <td>1.147347e+09</td>\n",
       "      <td>Telecom Argentina</td>\n",
       "      <td>NaN</td>\n",
       "      <td>NaN</td>\n",
       "      <td>NaN</td>\n",
       "      <td>NaN</td>\n",
       "      <td>os-estudio@hotmail.com</td>\n",
       "      <td>yamisanlorenzo777@hotmail.com</td>\n",
       "    </tr>\n",
       "  </tbody>\n",
       "</table>\n",
       "<p>5 rows × 33 columns</p>\n",
       "</div>"
      ],
      "text/plain": [
       "            #ID  DOCUMENTO         CUIL    APELLIDO           NOMBRE SEXO  \\\n",
       "0  DNI 10039621   10039621  27100396217        CANO        ANA MARIA    F   \n",
       "1  DNI 10046071   10046071  27100460713    D'ANGELO       ROSA HILDA    F   \n",
       "2  DNI 10083637   10083637  27100836373      ROMERO     MARTA ALICIA    F   \n",
       "3  DNI 10085866   10085866  20100858666      CHAVEZ   JUAN CRISOTOMO    M   \n",
       "4  DNI 10117117   10117117  20101171176  FILIPPAZZO  ERNESTO ROBERTO    M   \n",
       "\n",
       "    FECHA_NAC DIFUNTO   PADRON_DOMICILIO PADRON_LOCALIDAD  ... TELEFONO_FIJO1  \\\n",
       "0  30/11/1951      SI    LA PAMPA 1721 3    MAR DEL PLATA  ...   2.234747e+09   \n",
       "1  19/02/1951      NO    PUEYRREDON 1161     OBSERVATORIO  ...            NaN   \n",
       "2  18/10/1951      NO     SARMIENTO 3940          ALMAGRO  ...   1.149839e+09   \n",
       "3  27/01/1952      SI           CUYO 526        LLAVALLOL  ...   1.142934e+09   \n",
       "4  02/01/1952      NO  DIAG.LACROZE 1783     BILLINGHURST  ...   1.147346e+09   \n",
       "\n",
       "  TELEFONO_FIJO1_OPERADOR  TELEFONO_FIJO2 TELEFONO_FIJO2_OPERADOR  \\\n",
       "0    Telefonica Argentina             NaN                     NaN   \n",
       "1                     NaN             NaN                     NaN   \n",
       "2    Telefonica Argentina             NaN                     NaN   \n",
       "3    Telefonica Argentina             NaN                     NaN   \n",
       "4       Telecom Argentina    1.147347e+09       Telecom Argentina   \n",
       "\n",
       "   TELEFONO_FIJO3  TELEFONO_FIJO3_OPERADOR TELEFONO_FIJO4  \\\n",
       "0             NaN                      NaN            NaN   \n",
       "1             NaN                      NaN            NaN   \n",
       "2             NaN                      NaN            NaN   \n",
       "3             NaN                      NaN            NaN   \n",
       "4             NaN                      NaN            NaN   \n",
       "\n",
       "   TELEFONO_FIJO4_OPERADOR                       EMAIL  \\\n",
       "0                      NaN   adriandario74@HOTMAIL.COM   \n",
       "1                      NaN       dieperez@yahoo.com.ar   \n",
       "2                      NaN      romeromartac@yahoo.com   \n",
       "3                      NaN  Analia_vchavez@hotmail.com   \n",
       "4                      NaN      os-estudio@hotmail.com   \n",
       "\n",
       "                          EMAIL2  \n",
       "0  cristiantejedo-ks@hotmail.com  \n",
       "1                            NaN  \n",
       "2          csofiacarla@yahoo.com  \n",
       "3                            NaN  \n",
       "4  yamisanlorenzo777@hotmail.com  \n",
       "\n",
       "[5 rows x 33 columns]"
      ]
     },
     "execution_count": 3,
     "metadata": {},
     "output_type": "execute_result"
    }
   ],
   "source": [
    "df.head()"
   ]
  },
  {
   "cell_type": "code",
   "execution_count": 4,
   "metadata": {},
   "outputs": [
    {
     "data": {
      "text/html": [
       "<div>\n",
       "<style scoped>\n",
       "    .dataframe tbody tr th:only-of-type {\n",
       "        vertical-align: middle;\n",
       "    }\n",
       "\n",
       "    .dataframe tbody tr th {\n",
       "        vertical-align: top;\n",
       "    }\n",
       "\n",
       "    .dataframe thead th {\n",
       "        text-align: right;\n",
       "    }\n",
       "</style>\n",
       "<table border=\"1\" class=\"dataframe\">\n",
       "  <thead>\n",
       "    <tr style=\"text-align: right;\">\n",
       "      <th></th>\n",
       "      <th>#ID</th>\n",
       "      <th>DOCUMENTO</th>\n",
       "      <th>CUIL</th>\n",
       "      <th>APELLIDO</th>\n",
       "      <th>NOMBRE</th>\n",
       "      <th>SEXO</th>\n",
       "      <th>FECHA_NAC</th>\n",
       "      <th>DIFUNTO</th>\n",
       "      <th>PADRON_DOMICILIO</th>\n",
       "      <th>PADRON_LOCALIDAD</th>\n",
       "      <th>...</th>\n",
       "      <th>TELEFONO_FIJO1</th>\n",
       "      <th>TELEFONO_FIJO1_OPERADOR</th>\n",
       "      <th>TELEFONO_FIJO2</th>\n",
       "      <th>TELEFONO_FIJO2_OPERADOR</th>\n",
       "      <th>TELEFONO_FIJO3</th>\n",
       "      <th>TELEFONO_FIJO3_OPERADOR</th>\n",
       "      <th>TELEFONO_FIJO4</th>\n",
       "      <th>TELEFONO_FIJO4_OPERADOR</th>\n",
       "      <th>EMAIL</th>\n",
       "      <th>EMAIL2</th>\n",
       "    </tr>\n",
       "  </thead>\n",
       "  <tbody>\n",
       "    <tr>\n",
       "      <th>0</th>\n",
       "      <td>DNI 10039621</td>\n",
       "      <td>10039621</td>\n",
       "      <td>27100396217</td>\n",
       "      <td>CANO</td>\n",
       "      <td>ANA MARIA</td>\n",
       "      <td>F</td>\n",
       "      <td>30/11/1951</td>\n",
       "      <td>SI</td>\n",
       "      <td>LA PAMPA 1721 3</td>\n",
       "      <td>MAR DEL PLATA</td>\n",
       "      <td>...</td>\n",
       "      <td>2.234747e+09</td>\n",
       "      <td>Telefonica Argentina</td>\n",
       "      <td>NaN</td>\n",
       "      <td>NaN</td>\n",
       "      <td>NaN</td>\n",
       "      <td>NaN</td>\n",
       "      <td>NaN</td>\n",
       "      <td>NaN</td>\n",
       "      <td>adriandario74@HOTMAIL.COM</td>\n",
       "      <td>cristiantejedo-ks@hotmail.com</td>\n",
       "    </tr>\n",
       "    <tr>\n",
       "      <th>1</th>\n",
       "      <td>DNI 10046071</td>\n",
       "      <td>10046071</td>\n",
       "      <td>27100460713</td>\n",
       "      <td>D'ANGELO</td>\n",
       "      <td>ROSA HILDA</td>\n",
       "      <td>F</td>\n",
       "      <td>19/02/1951</td>\n",
       "      <td>NO</td>\n",
       "      <td>PUEYRREDON 1161</td>\n",
       "      <td>OBSERVATORIO</td>\n",
       "      <td>...</td>\n",
       "      <td>NaN</td>\n",
       "      <td>NaN</td>\n",
       "      <td>NaN</td>\n",
       "      <td>NaN</td>\n",
       "      <td>NaN</td>\n",
       "      <td>NaN</td>\n",
       "      <td>NaN</td>\n",
       "      <td>NaN</td>\n",
       "      <td>dieperez@yahoo.com.ar</td>\n",
       "      <td>NaN</td>\n",
       "    </tr>\n",
       "    <tr>\n",
       "      <th>2</th>\n",
       "      <td>DNI 10083637</td>\n",
       "      <td>10083637</td>\n",
       "      <td>27100836373</td>\n",
       "      <td>ROMERO</td>\n",
       "      <td>MARTA ALICIA</td>\n",
       "      <td>F</td>\n",
       "      <td>18/10/1951</td>\n",
       "      <td>NO</td>\n",
       "      <td>SARMIENTO 3940</td>\n",
       "      <td>ALMAGRO</td>\n",
       "      <td>...</td>\n",
       "      <td>1.149839e+09</td>\n",
       "      <td>Telefonica Argentina</td>\n",
       "      <td>NaN</td>\n",
       "      <td>NaN</td>\n",
       "      <td>NaN</td>\n",
       "      <td>NaN</td>\n",
       "      <td>NaN</td>\n",
       "      <td>NaN</td>\n",
       "      <td>romeromartac@yahoo.com</td>\n",
       "      <td>csofiacarla@yahoo.com</td>\n",
       "    </tr>\n",
       "    <tr>\n",
       "      <th>3</th>\n",
       "      <td>DNI 10085866</td>\n",
       "      <td>10085866</td>\n",
       "      <td>20100858666</td>\n",
       "      <td>CHAVEZ</td>\n",
       "      <td>JUAN CRISOTOMO</td>\n",
       "      <td>M</td>\n",
       "      <td>27/01/1952</td>\n",
       "      <td>SI</td>\n",
       "      <td>CUYO 526</td>\n",
       "      <td>LLAVALLOL</td>\n",
       "      <td>...</td>\n",
       "      <td>1.142934e+09</td>\n",
       "      <td>Telefonica Argentina</td>\n",
       "      <td>NaN</td>\n",
       "      <td>NaN</td>\n",
       "      <td>NaN</td>\n",
       "      <td>NaN</td>\n",
       "      <td>NaN</td>\n",
       "      <td>NaN</td>\n",
       "      <td>Analia_vchavez@hotmail.com</td>\n",
       "      <td>NaN</td>\n",
       "    </tr>\n",
       "    <tr>\n",
       "      <th>4</th>\n",
       "      <td>DNI 10117117</td>\n",
       "      <td>10117117</td>\n",
       "      <td>20101171176</td>\n",
       "      <td>FILIPPAZZO</td>\n",
       "      <td>ERNESTO ROBERTO</td>\n",
       "      <td>M</td>\n",
       "      <td>02/01/1952</td>\n",
       "      <td>NO</td>\n",
       "      <td>DIAG.LACROZE 1783</td>\n",
       "      <td>BILLINGHURST</td>\n",
       "      <td>...</td>\n",
       "      <td>1.147346e+09</td>\n",
       "      <td>Telecom Argentina</td>\n",
       "      <td>1.147347e+09</td>\n",
       "      <td>Telecom Argentina</td>\n",
       "      <td>NaN</td>\n",
       "      <td>NaN</td>\n",
       "      <td>NaN</td>\n",
       "      <td>NaN</td>\n",
       "      <td>os-estudio@hotmail.com</td>\n",
       "      <td>yamisanlorenzo777@hotmail.com</td>\n",
       "    </tr>\n",
       "  </tbody>\n",
       "</table>\n",
       "<p>5 rows × 33 columns</p>\n",
       "</div>"
      ],
      "text/plain": [
       "            #ID  DOCUMENTO         CUIL    APELLIDO           NOMBRE SEXO  \\\n",
       "0  DNI 10039621   10039621  27100396217        CANO        ANA MARIA    F   \n",
       "1  DNI 10046071   10046071  27100460713    D'ANGELO       ROSA HILDA    F   \n",
       "2  DNI 10083637   10083637  27100836373      ROMERO     MARTA ALICIA    F   \n",
       "3  DNI 10085866   10085866  20100858666      CHAVEZ   JUAN CRISOTOMO    M   \n",
       "4  DNI 10117117   10117117  20101171176  FILIPPAZZO  ERNESTO ROBERTO    M   \n",
       "\n",
       "    FECHA_NAC DIFUNTO   PADRON_DOMICILIO PADRON_LOCALIDAD  ... TELEFONO_FIJO1  \\\n",
       "0  30/11/1951      SI    LA PAMPA 1721 3    MAR DEL PLATA  ...   2.234747e+09   \n",
       "1  19/02/1951      NO    PUEYRREDON 1161     OBSERVATORIO  ...            NaN   \n",
       "2  18/10/1951      NO     SARMIENTO 3940          ALMAGRO  ...   1.149839e+09   \n",
       "3  27/01/1952      SI           CUYO 526        LLAVALLOL  ...   1.142934e+09   \n",
       "4  02/01/1952      NO  DIAG.LACROZE 1783     BILLINGHURST  ...   1.147346e+09   \n",
       "\n",
       "  TELEFONO_FIJO1_OPERADOR  TELEFONO_FIJO2 TELEFONO_FIJO2_OPERADOR  \\\n",
       "0    Telefonica Argentina             NaN                     NaN   \n",
       "1                     NaN             NaN                     NaN   \n",
       "2    Telefonica Argentina             NaN                     NaN   \n",
       "3    Telefonica Argentina             NaN                     NaN   \n",
       "4       Telecom Argentina    1.147347e+09       Telecom Argentina   \n",
       "\n",
       "   TELEFONO_FIJO3  TELEFONO_FIJO3_OPERADOR TELEFONO_FIJO4  \\\n",
       "0             NaN                      NaN            NaN   \n",
       "1             NaN                      NaN            NaN   \n",
       "2             NaN                      NaN            NaN   \n",
       "3             NaN                      NaN            NaN   \n",
       "4             NaN                      NaN            NaN   \n",
       "\n",
       "   TELEFONO_FIJO4_OPERADOR                       EMAIL  \\\n",
       "0                      NaN   adriandario74@HOTMAIL.COM   \n",
       "1                      NaN       dieperez@yahoo.com.ar   \n",
       "2                      NaN      romeromartac@yahoo.com   \n",
       "3                      NaN  Analia_vchavez@hotmail.com   \n",
       "4                      NaN      os-estudio@hotmail.com   \n",
       "\n",
       "                          EMAIL2  \n",
       "0  cristiantejedo-ks@hotmail.com  \n",
       "1                            NaN  \n",
       "2          csofiacarla@yahoo.com  \n",
       "3                            NaN  \n",
       "4  yamisanlorenzo777@hotmail.com  \n",
       "\n",
       "[5 rows x 33 columns]"
      ]
     },
     "execution_count": 4,
     "metadata": {},
     "output_type": "execute_result"
    }
   ],
   "source": [
    "df.head()"
   ]
  },
  {
   "cell_type": "code",
   "execution_count": 5,
   "metadata": {
    "scrolled": true
   },
   "outputs": [
    {
     "data": {
      "text/plain": [
       "(21775, 33)"
      ]
     },
     "execution_count": 5,
     "metadata": {},
     "output_type": "execute_result"
    }
   ],
   "source": [
    "df.shape"
   ]
  },
  {
   "cell_type": "markdown",
   "metadata": {},
   "source": [
    "## 1.2) Data Cleaning: Datasets"
   ]
  },
  {
   "cell_type": "markdown",
   "metadata": {},
   "source": [
    "Vamos a dropear aquellas columnas y filas que no tengan ningún valor (es decir, que sean todos NaNs)"
   ]
  },
  {
   "cell_type": "code",
   "execution_count": 6,
   "metadata": {},
   "outputs": [],
   "source": [
    "df = df.dropna(axis=0, how='all')"
   ]
  },
  {
   "cell_type": "code",
   "execution_count": 7,
   "metadata": {},
   "outputs": [],
   "source": [
    "#df = df.dropna(axis=1, how='all')"
   ]
  },
  {
   "cell_type": "code",
   "execution_count": 8,
   "metadata": {},
   "outputs": [
    {
     "data": {
      "text/plain": [
       "(21775, 33)"
      ]
     },
     "execution_count": 8,
     "metadata": {},
     "output_type": "execute_result"
    }
   ],
   "source": [
    "df.shape"
   ]
  },
  {
   "cell_type": "markdown",
   "metadata": {},
   "source": [
    "Ahora todas las filas tienen al menos 1 dato."
   ]
  },
  {
   "cell_type": "markdown",
   "metadata": {},
   "source": [
    "# 2) Teléfonos"
   ]
  },
  {
   "cell_type": "markdown",
   "metadata": {},
   "source": [
    "Vamos a obtener los teléfonos de las columnas donde pueden aparecer, que son:\n",
    "\n",
    "- Teléfono Fijo 1, 2 y 3.\n",
    "- Teléfono Movil 1, 2, 3, 4, 5, 6 y 7.\n",
    "- Teléfono Laboral 1, 2 y 3.\n",
    "- Contactación Opcional (Familiar): Tel Fijo 1, Tel Fijo 2, Celular 1, Celular 2, Celular 3, Celular 4, Celular 5.\n",
    "- Contactación Opcional (Vecino): Telefono."
   ]
  },
  {
   "cell_type": "code",
   "execution_count": 9,
   "metadata": {},
   "outputs": [],
   "source": [
    "#df.to_excel('columns.xlsx')"
   ]
  },
  {
   "cell_type": "code",
   "execution_count": 10,
   "metadata": {},
   "outputs": [],
   "source": [
    "df_reduced = df[[\"DOCUMENTO\",\"CUIL\",\"APELLIDO\",\"NOMBRE\",\"TELEFONO_CELULAR1\",\"TELEFONO_CELULAR2\",\n",
    "                \"TELEFONO_CELULAR3\",\"TELEFONO_CELULAR4\",\"TELEFONO_FIJO1\",\"TELEFONO_FIJO2\",\n",
    "                \"TELEFONO_FIJO3\",\"TELEFONO_FIJO4\"]]"
   ]
  },
  {
   "cell_type": "code",
   "execution_count": 11,
   "metadata": {},
   "outputs": [
    {
     "data": {
      "text/html": [
       "<div>\n",
       "<style scoped>\n",
       "    .dataframe tbody tr th:only-of-type {\n",
       "        vertical-align: middle;\n",
       "    }\n",
       "\n",
       "    .dataframe tbody tr th {\n",
       "        vertical-align: top;\n",
       "    }\n",
       "\n",
       "    .dataframe thead th {\n",
       "        text-align: right;\n",
       "    }\n",
       "</style>\n",
       "<table border=\"1\" class=\"dataframe\">\n",
       "  <thead>\n",
       "    <tr style=\"text-align: right;\">\n",
       "      <th></th>\n",
       "      <th>DOCUMENTO</th>\n",
       "      <th>CUIL</th>\n",
       "      <th>APELLIDO</th>\n",
       "      <th>NOMBRE</th>\n",
       "      <th>TELEFONO_CELULAR1</th>\n",
       "      <th>TELEFONO_CELULAR2</th>\n",
       "      <th>TELEFONO_CELULAR3</th>\n",
       "      <th>TELEFONO_CELULAR4</th>\n",
       "      <th>TELEFONO_FIJO1</th>\n",
       "      <th>TELEFONO_FIJO2</th>\n",
       "      <th>TELEFONO_FIJO3</th>\n",
       "      <th>TELEFONO_FIJO4</th>\n",
       "    </tr>\n",
       "  </thead>\n",
       "  <tbody>\n",
       "    <tr>\n",
       "      <th>0</th>\n",
       "      <td>10039621</td>\n",
       "      <td>27100396217</td>\n",
       "      <td>CANO</td>\n",
       "      <td>ANA MARIA</td>\n",
       "      <td>2.611561e+11</td>\n",
       "      <td>2.231557e+11</td>\n",
       "      <td>2.231562e+11</td>\n",
       "      <td>NaN</td>\n",
       "      <td>2.234747e+09</td>\n",
       "      <td>NaN</td>\n",
       "      <td>NaN</td>\n",
       "      <td>NaN</td>\n",
       "    </tr>\n",
       "    <tr>\n",
       "      <th>1</th>\n",
       "      <td>10046071</td>\n",
       "      <td>27100460713</td>\n",
       "      <td>D'ANGELO</td>\n",
       "      <td>ROSA HILDA</td>\n",
       "      <td>3.511563e+11</td>\n",
       "      <td>3.511535e+11</td>\n",
       "      <td>NaN</td>\n",
       "      <td>NaN</td>\n",
       "      <td>NaN</td>\n",
       "      <td>NaN</td>\n",
       "      <td>NaN</td>\n",
       "      <td>NaN</td>\n",
       "    </tr>\n",
       "    <tr>\n",
       "      <th>2</th>\n",
       "      <td>10083637</td>\n",
       "      <td>27100836373</td>\n",
       "      <td>ROMERO</td>\n",
       "      <td>MARTA ALICIA</td>\n",
       "      <td>1.115378e+11</td>\n",
       "      <td>NaN</td>\n",
       "      <td>NaN</td>\n",
       "      <td>NaN</td>\n",
       "      <td>1.149839e+09</td>\n",
       "      <td>NaN</td>\n",
       "      <td>NaN</td>\n",
       "      <td>NaN</td>\n",
       "    </tr>\n",
       "    <tr>\n",
       "      <th>3</th>\n",
       "      <td>10085866</td>\n",
       "      <td>20100858666</td>\n",
       "      <td>CHAVEZ</td>\n",
       "      <td>JUAN CRISOTOMO</td>\n",
       "      <td>1.115319e+11</td>\n",
       "      <td>NaN</td>\n",
       "      <td>NaN</td>\n",
       "      <td>NaN</td>\n",
       "      <td>1.142934e+09</td>\n",
       "      <td>NaN</td>\n",
       "      <td>NaN</td>\n",
       "      <td>NaN</td>\n",
       "    </tr>\n",
       "    <tr>\n",
       "      <th>4</th>\n",
       "      <td>10117117</td>\n",
       "      <td>20101171176</td>\n",
       "      <td>FILIPPAZZO</td>\n",
       "      <td>ERNESTO ROBERTO</td>\n",
       "      <td>1.115504e+11</td>\n",
       "      <td>1.115667e+11</td>\n",
       "      <td>NaN</td>\n",
       "      <td>NaN</td>\n",
       "      <td>1.147346e+09</td>\n",
       "      <td>1.147347e+09</td>\n",
       "      <td>NaN</td>\n",
       "      <td>NaN</td>\n",
       "    </tr>\n",
       "  </tbody>\n",
       "</table>\n",
       "</div>"
      ],
      "text/plain": [
       "   DOCUMENTO         CUIL    APELLIDO           NOMBRE  TELEFONO_CELULAR1  \\\n",
       "0   10039621  27100396217        CANO        ANA MARIA       2.611561e+11   \n",
       "1   10046071  27100460713    D'ANGELO       ROSA HILDA       3.511563e+11   \n",
       "2   10083637  27100836373      ROMERO     MARTA ALICIA       1.115378e+11   \n",
       "3   10085866  20100858666      CHAVEZ   JUAN CRISOTOMO       1.115319e+11   \n",
       "4   10117117  20101171176  FILIPPAZZO  ERNESTO ROBERTO       1.115504e+11   \n",
       "\n",
       "   TELEFONO_CELULAR2  TELEFONO_CELULAR3  TELEFONO_CELULAR4  TELEFONO_FIJO1  \\\n",
       "0       2.231557e+11       2.231562e+11                NaN    2.234747e+09   \n",
       "1       3.511535e+11                NaN                NaN             NaN   \n",
       "2                NaN                NaN                NaN    1.149839e+09   \n",
       "3                NaN                NaN                NaN    1.142934e+09   \n",
       "4       1.115667e+11                NaN                NaN    1.147346e+09   \n",
       "\n",
       "   TELEFONO_FIJO2  TELEFONO_FIJO3  TELEFONO_FIJO4  \n",
       "0             NaN             NaN             NaN  \n",
       "1             NaN             NaN             NaN  \n",
       "2             NaN             NaN             NaN  \n",
       "3             NaN             NaN             NaN  \n",
       "4    1.147347e+09             NaN             NaN  "
      ]
     },
     "execution_count": 11,
     "metadata": {},
     "output_type": "execute_result"
    }
   ],
   "source": [
    "df_reduced.head()"
   ]
  },
  {
   "cell_type": "code",
   "execution_count": 12,
   "metadata": {},
   "outputs": [
    {
     "data": {
      "text/plain": [
       "(21775, 12)"
      ]
     },
     "execution_count": 12,
     "metadata": {},
     "output_type": "execute_result"
    }
   ],
   "source": [
    "df_reduced.shape"
   ]
  },
  {
   "cell_type": "markdown",
   "metadata": {},
   "source": [
    "Eliminamos el multilevel de las columnas, y las renombramos:"
   ]
  },
  {
   "cell_type": "code",
   "execution_count": 13,
   "metadata": {},
   "outputs": [
    {
     "data": {
      "text/html": [
       "<div>\n",
       "<style scoped>\n",
       "    .dataframe tbody tr th:only-of-type {\n",
       "        vertical-align: middle;\n",
       "    }\n",
       "\n",
       "    .dataframe tbody tr th {\n",
       "        vertical-align: top;\n",
       "    }\n",
       "\n",
       "    .dataframe thead th {\n",
       "        text-align: right;\n",
       "    }\n",
       "</style>\n",
       "<table border=\"1\" class=\"dataframe\">\n",
       "  <thead>\n",
       "    <tr style=\"text-align: right;\">\n",
       "      <th></th>\n",
       "      <th>DOCUMENTO</th>\n",
       "      <th>CUIL</th>\n",
       "      <th>APELLIDO</th>\n",
       "      <th>NOMBRE</th>\n",
       "      <th>TELEFONO_CELULAR1</th>\n",
       "      <th>TELEFONO_CELULAR2</th>\n",
       "      <th>TELEFONO_CELULAR3</th>\n",
       "      <th>TELEFONO_CELULAR4</th>\n",
       "      <th>TELEFONO_FIJO1</th>\n",
       "      <th>TELEFONO_FIJO2</th>\n",
       "      <th>TELEFONO_FIJO3</th>\n",
       "      <th>TELEFONO_FIJO4</th>\n",
       "    </tr>\n",
       "  </thead>\n",
       "  <tbody>\n",
       "    <tr>\n",
       "      <th>0</th>\n",
       "      <td>10039621</td>\n",
       "      <td>27100396217</td>\n",
       "      <td>CANO</td>\n",
       "      <td>ANA MARIA</td>\n",
       "      <td>2.611561e+11</td>\n",
       "      <td>2.231557e+11</td>\n",
       "      <td>2.231562e+11</td>\n",
       "      <td>NaN</td>\n",
       "      <td>2.234747e+09</td>\n",
       "      <td>NaN</td>\n",
       "      <td>NaN</td>\n",
       "      <td>NaN</td>\n",
       "    </tr>\n",
       "    <tr>\n",
       "      <th>1</th>\n",
       "      <td>10046071</td>\n",
       "      <td>27100460713</td>\n",
       "      <td>D'ANGELO</td>\n",
       "      <td>ROSA HILDA</td>\n",
       "      <td>3.511563e+11</td>\n",
       "      <td>3.511535e+11</td>\n",
       "      <td>NaN</td>\n",
       "      <td>NaN</td>\n",
       "      <td>NaN</td>\n",
       "      <td>NaN</td>\n",
       "      <td>NaN</td>\n",
       "      <td>NaN</td>\n",
       "    </tr>\n",
       "    <tr>\n",
       "      <th>2</th>\n",
       "      <td>10083637</td>\n",
       "      <td>27100836373</td>\n",
       "      <td>ROMERO</td>\n",
       "      <td>MARTA ALICIA</td>\n",
       "      <td>1.115378e+11</td>\n",
       "      <td>NaN</td>\n",
       "      <td>NaN</td>\n",
       "      <td>NaN</td>\n",
       "      <td>1.149839e+09</td>\n",
       "      <td>NaN</td>\n",
       "      <td>NaN</td>\n",
       "      <td>NaN</td>\n",
       "    </tr>\n",
       "    <tr>\n",
       "      <th>3</th>\n",
       "      <td>10085866</td>\n",
       "      <td>20100858666</td>\n",
       "      <td>CHAVEZ</td>\n",
       "      <td>JUAN CRISOTOMO</td>\n",
       "      <td>1.115319e+11</td>\n",
       "      <td>NaN</td>\n",
       "      <td>NaN</td>\n",
       "      <td>NaN</td>\n",
       "      <td>1.142934e+09</td>\n",
       "      <td>NaN</td>\n",
       "      <td>NaN</td>\n",
       "      <td>NaN</td>\n",
       "    </tr>\n",
       "    <tr>\n",
       "      <th>4</th>\n",
       "      <td>10117117</td>\n",
       "      <td>20101171176</td>\n",
       "      <td>FILIPPAZZO</td>\n",
       "      <td>ERNESTO ROBERTO</td>\n",
       "      <td>1.115504e+11</td>\n",
       "      <td>1.115667e+11</td>\n",
       "      <td>NaN</td>\n",
       "      <td>NaN</td>\n",
       "      <td>1.147346e+09</td>\n",
       "      <td>1.147347e+09</td>\n",
       "      <td>NaN</td>\n",
       "      <td>NaN</td>\n",
       "    </tr>\n",
       "  </tbody>\n",
       "</table>\n",
       "</div>"
      ],
      "text/plain": [
       "   DOCUMENTO         CUIL    APELLIDO           NOMBRE  TELEFONO_CELULAR1  \\\n",
       "0   10039621  27100396217        CANO        ANA MARIA       2.611561e+11   \n",
       "1   10046071  27100460713    D'ANGELO       ROSA HILDA       3.511563e+11   \n",
       "2   10083637  27100836373      ROMERO     MARTA ALICIA       1.115378e+11   \n",
       "3   10085866  20100858666      CHAVEZ   JUAN CRISOTOMO       1.115319e+11   \n",
       "4   10117117  20101171176  FILIPPAZZO  ERNESTO ROBERTO       1.115504e+11   \n",
       "\n",
       "   TELEFONO_CELULAR2  TELEFONO_CELULAR3  TELEFONO_CELULAR4  TELEFONO_FIJO1  \\\n",
       "0       2.231557e+11       2.231562e+11                NaN    2.234747e+09   \n",
       "1       3.511535e+11                NaN                NaN             NaN   \n",
       "2                NaN                NaN                NaN    1.149839e+09   \n",
       "3                NaN                NaN                NaN    1.142934e+09   \n",
       "4       1.115667e+11                NaN                NaN    1.147346e+09   \n",
       "\n",
       "   TELEFONO_FIJO2  TELEFONO_FIJO3  TELEFONO_FIJO4  \n",
       "0             NaN             NaN             NaN  \n",
       "1             NaN             NaN             NaN  \n",
       "2             NaN             NaN             NaN  \n",
       "3             NaN             NaN             NaN  \n",
       "4    1.147347e+09             NaN             NaN  "
      ]
     },
     "execution_count": 13,
     "metadata": {},
     "output_type": "execute_result"
    }
   ],
   "source": [
    "df_reduced.head()"
   ]
  },
  {
   "cell_type": "code",
   "execution_count": 14,
   "metadata": {},
   "outputs": [],
   "source": [
    "df_reduced = df_reduced.rename(columns={\"CUIL\": \"CUIT_CUIL\", 'DOCUMENTO': 'NRO_DOC'})"
   ]
  },
  {
   "cell_type": "code",
   "execution_count": 15,
   "metadata": {},
   "outputs": [
    {
     "data": {
      "text/html": [
       "<div>\n",
       "<style scoped>\n",
       "    .dataframe tbody tr th:only-of-type {\n",
       "        vertical-align: middle;\n",
       "    }\n",
       "\n",
       "    .dataframe tbody tr th {\n",
       "        vertical-align: top;\n",
       "    }\n",
       "\n",
       "    .dataframe thead th {\n",
       "        text-align: right;\n",
       "    }\n",
       "</style>\n",
       "<table border=\"1\" class=\"dataframe\">\n",
       "  <thead>\n",
       "    <tr style=\"text-align: right;\">\n",
       "      <th></th>\n",
       "      <th>NRO_DOC</th>\n",
       "      <th>CUIT_CUIL</th>\n",
       "      <th>APELLIDO</th>\n",
       "      <th>NOMBRE</th>\n",
       "      <th>TELEFONO_CELULAR1</th>\n",
       "      <th>TELEFONO_CELULAR2</th>\n",
       "      <th>TELEFONO_CELULAR3</th>\n",
       "      <th>TELEFONO_CELULAR4</th>\n",
       "      <th>TELEFONO_FIJO1</th>\n",
       "      <th>TELEFONO_FIJO2</th>\n",
       "      <th>TELEFONO_FIJO3</th>\n",
       "      <th>TELEFONO_FIJO4</th>\n",
       "    </tr>\n",
       "  </thead>\n",
       "  <tbody>\n",
       "    <tr>\n",
       "      <th>0</th>\n",
       "      <td>10039621</td>\n",
       "      <td>27100396217</td>\n",
       "      <td>CANO</td>\n",
       "      <td>ANA MARIA</td>\n",
       "      <td>2.611561e+11</td>\n",
       "      <td>2.231557e+11</td>\n",
       "      <td>2.231562e+11</td>\n",
       "      <td>NaN</td>\n",
       "      <td>2.234747e+09</td>\n",
       "      <td>NaN</td>\n",
       "      <td>NaN</td>\n",
       "      <td>NaN</td>\n",
       "    </tr>\n",
       "    <tr>\n",
       "      <th>1</th>\n",
       "      <td>10046071</td>\n",
       "      <td>27100460713</td>\n",
       "      <td>D'ANGELO</td>\n",
       "      <td>ROSA HILDA</td>\n",
       "      <td>3.511563e+11</td>\n",
       "      <td>3.511535e+11</td>\n",
       "      <td>NaN</td>\n",
       "      <td>NaN</td>\n",
       "      <td>NaN</td>\n",
       "      <td>NaN</td>\n",
       "      <td>NaN</td>\n",
       "      <td>NaN</td>\n",
       "    </tr>\n",
       "    <tr>\n",
       "      <th>2</th>\n",
       "      <td>10083637</td>\n",
       "      <td>27100836373</td>\n",
       "      <td>ROMERO</td>\n",
       "      <td>MARTA ALICIA</td>\n",
       "      <td>1.115378e+11</td>\n",
       "      <td>NaN</td>\n",
       "      <td>NaN</td>\n",
       "      <td>NaN</td>\n",
       "      <td>1.149839e+09</td>\n",
       "      <td>NaN</td>\n",
       "      <td>NaN</td>\n",
       "      <td>NaN</td>\n",
       "    </tr>\n",
       "    <tr>\n",
       "      <th>3</th>\n",
       "      <td>10085866</td>\n",
       "      <td>20100858666</td>\n",
       "      <td>CHAVEZ</td>\n",
       "      <td>JUAN CRISOTOMO</td>\n",
       "      <td>1.115319e+11</td>\n",
       "      <td>NaN</td>\n",
       "      <td>NaN</td>\n",
       "      <td>NaN</td>\n",
       "      <td>1.142934e+09</td>\n",
       "      <td>NaN</td>\n",
       "      <td>NaN</td>\n",
       "      <td>NaN</td>\n",
       "    </tr>\n",
       "    <tr>\n",
       "      <th>4</th>\n",
       "      <td>10117117</td>\n",
       "      <td>20101171176</td>\n",
       "      <td>FILIPPAZZO</td>\n",
       "      <td>ERNESTO ROBERTO</td>\n",
       "      <td>1.115504e+11</td>\n",
       "      <td>1.115667e+11</td>\n",
       "      <td>NaN</td>\n",
       "      <td>NaN</td>\n",
       "      <td>1.147346e+09</td>\n",
       "      <td>1.147347e+09</td>\n",
       "      <td>NaN</td>\n",
       "      <td>NaN</td>\n",
       "    </tr>\n",
       "  </tbody>\n",
       "</table>\n",
       "</div>"
      ],
      "text/plain": [
       "    NRO_DOC    CUIT_CUIL    APELLIDO           NOMBRE  TELEFONO_CELULAR1  \\\n",
       "0  10039621  27100396217        CANO        ANA MARIA       2.611561e+11   \n",
       "1  10046071  27100460713    D'ANGELO       ROSA HILDA       3.511563e+11   \n",
       "2  10083637  27100836373      ROMERO     MARTA ALICIA       1.115378e+11   \n",
       "3  10085866  20100858666      CHAVEZ   JUAN CRISOTOMO       1.115319e+11   \n",
       "4  10117117  20101171176  FILIPPAZZO  ERNESTO ROBERTO       1.115504e+11   \n",
       "\n",
       "   TELEFONO_CELULAR2  TELEFONO_CELULAR3  TELEFONO_CELULAR4  TELEFONO_FIJO1  \\\n",
       "0       2.231557e+11       2.231562e+11                NaN    2.234747e+09   \n",
       "1       3.511535e+11                NaN                NaN             NaN   \n",
       "2                NaN                NaN                NaN    1.149839e+09   \n",
       "3                NaN                NaN                NaN    1.142934e+09   \n",
       "4       1.115667e+11                NaN                NaN    1.147346e+09   \n",
       "\n",
       "   TELEFONO_FIJO2  TELEFONO_FIJO3  TELEFONO_FIJO4  \n",
       "0             NaN             NaN             NaN  \n",
       "1             NaN             NaN             NaN  \n",
       "2             NaN             NaN             NaN  \n",
       "3             NaN             NaN             NaN  \n",
       "4    1.147347e+09             NaN             NaN  "
      ]
     },
     "execution_count": 15,
     "metadata": {},
     "output_type": "execute_result"
    }
   ],
   "source": [
    "df_reduced.head()"
   ]
  },
  {
   "cell_type": "markdown",
   "metadata": {},
   "source": [
    "# 3) Concatenación de Teléfonos"
   ]
  },
  {
   "cell_type": "markdown",
   "metadata": {},
   "source": [
    "Como PyP envía un teléfono por celda, tengo que concatenar las columnas de teléfonos en una lista dentro de una nueva columna denominada \"Dato\""
   ]
  },
  {
   "cell_type": "code",
   "execution_count": 16,
   "metadata": {},
   "outputs": [
    {
     "data": {
      "text/plain": [
       "Index(['NRO_DOC', 'CUIT_CUIL', 'APELLIDO', 'NOMBRE', 'TELEFONO_CELULAR1',\n",
       "       'TELEFONO_CELULAR2', 'TELEFONO_CELULAR3', 'TELEFONO_CELULAR4',\n",
       "       'TELEFONO_FIJO1', 'TELEFONO_FIJO2', 'TELEFONO_FIJO3', 'TELEFONO_FIJO4'],\n",
       "      dtype='object')"
      ]
     },
     "execution_count": 16,
     "metadata": {},
     "output_type": "execute_result"
    }
   ],
   "source": [
    "df_reduced.columns"
   ]
  },
  {
   "cell_type": "code",
   "execution_count": 17,
   "metadata": {},
   "outputs": [],
   "source": [
    "df_melt = pd.melt(df_reduced, id_vars=['CUIT_CUIL', 'NRO_DOC', 'APELLIDO','NOMBRE']\n",
    "                  , value_vars=['TELEFONO_CELULAR1',\n",
    "       'TELEFONO_CELULAR2', 'TELEFONO_CELULAR3', 'TELEFONO_CELULAR4',\n",
    "       'TELEFONO_FIJO1', 'TELEFONO_FIJO2', 'TELEFONO_FIJO3', 'TELEFONO_FIJO4'],value_name='Dato')"
   ]
  },
  {
   "cell_type": "code",
   "execution_count": 18,
   "metadata": {},
   "outputs": [
    {
     "data": {
      "text/html": [
       "<div>\n",
       "<style scoped>\n",
       "    .dataframe tbody tr th:only-of-type {\n",
       "        vertical-align: middle;\n",
       "    }\n",
       "\n",
       "    .dataframe tbody tr th {\n",
       "        vertical-align: top;\n",
       "    }\n",
       "\n",
       "    .dataframe thead th {\n",
       "        text-align: right;\n",
       "    }\n",
       "</style>\n",
       "<table border=\"1\" class=\"dataframe\">\n",
       "  <thead>\n",
       "    <tr style=\"text-align: right;\">\n",
       "      <th></th>\n",
       "      <th>CUIT_CUIL</th>\n",
       "      <th>NRO_DOC</th>\n",
       "      <th>APELLIDO</th>\n",
       "      <th>NOMBRE</th>\n",
       "      <th>variable</th>\n",
       "      <th>Dato</th>\n",
       "    </tr>\n",
       "  </thead>\n",
       "  <tbody>\n",
       "    <tr>\n",
       "      <th>0</th>\n",
       "      <td>27100396217</td>\n",
       "      <td>10039621</td>\n",
       "      <td>CANO</td>\n",
       "      <td>ANA MARIA</td>\n",
       "      <td>TELEFONO_CELULAR1</td>\n",
       "      <td>2.611561e+11</td>\n",
       "    </tr>\n",
       "    <tr>\n",
       "      <th>1</th>\n",
       "      <td>27100460713</td>\n",
       "      <td>10046071</td>\n",
       "      <td>D'ANGELO</td>\n",
       "      <td>ROSA HILDA</td>\n",
       "      <td>TELEFONO_CELULAR1</td>\n",
       "      <td>3.511563e+11</td>\n",
       "    </tr>\n",
       "    <tr>\n",
       "      <th>2</th>\n",
       "      <td>27100836373</td>\n",
       "      <td>10083637</td>\n",
       "      <td>ROMERO</td>\n",
       "      <td>MARTA ALICIA</td>\n",
       "      <td>TELEFONO_CELULAR1</td>\n",
       "      <td>1.115378e+11</td>\n",
       "    </tr>\n",
       "    <tr>\n",
       "      <th>3</th>\n",
       "      <td>20100858666</td>\n",
       "      <td>10085866</td>\n",
       "      <td>CHAVEZ</td>\n",
       "      <td>JUAN CRISOTOMO</td>\n",
       "      <td>TELEFONO_CELULAR1</td>\n",
       "      <td>1.115319e+11</td>\n",
       "    </tr>\n",
       "    <tr>\n",
       "      <th>4</th>\n",
       "      <td>20101171176</td>\n",
       "      <td>10117117</td>\n",
       "      <td>FILIPPAZZO</td>\n",
       "      <td>ERNESTO ROBERTO</td>\n",
       "      <td>TELEFONO_CELULAR1</td>\n",
       "      <td>1.115504e+11</td>\n",
       "    </tr>\n",
       "  </tbody>\n",
       "</table>\n",
       "</div>"
      ],
      "text/plain": [
       "     CUIT_CUIL   NRO_DOC    APELLIDO           NOMBRE           variable  \\\n",
       "0  27100396217  10039621        CANO        ANA MARIA  TELEFONO_CELULAR1   \n",
       "1  27100460713  10046071    D'ANGELO       ROSA HILDA  TELEFONO_CELULAR1   \n",
       "2  27100836373  10083637      ROMERO     MARTA ALICIA  TELEFONO_CELULAR1   \n",
       "3  20100858666  10085866      CHAVEZ   JUAN CRISOTOMO  TELEFONO_CELULAR1   \n",
       "4  20101171176  10117117  FILIPPAZZO  ERNESTO ROBERTO  TELEFONO_CELULAR1   \n",
       "\n",
       "           Dato  \n",
       "0  2.611561e+11  \n",
       "1  3.511563e+11  \n",
       "2  1.115378e+11  \n",
       "3  1.115319e+11  \n",
       "4  1.115504e+11  "
      ]
     },
     "execution_count": 18,
     "metadata": {},
     "output_type": "execute_result"
    }
   ],
   "source": [
    "df_melt.head()"
   ]
  },
  {
   "cell_type": "code",
   "execution_count": 19,
   "metadata": {},
   "outputs": [],
   "source": [
    "#df_melt.to_excel('df_melt_telefonos.xlsx')"
   ]
  },
  {
   "cell_type": "markdown",
   "metadata": {},
   "source": [
    "# 4) Drop NaNs"
   ]
  },
  {
   "cell_type": "markdown",
   "metadata": {},
   "source": [
    "Dropeamos aquellas filas que tengan NaN en la columna Dato, ya que no nos aporta nada:"
   ]
  },
  {
   "cell_type": "code",
   "execution_count": 20,
   "metadata": {},
   "outputs": [],
   "source": [
    "df_melt = df_melt.dropna(subset=['Dato'])"
   ]
  },
  {
   "cell_type": "code",
   "execution_count": 21,
   "metadata": {},
   "outputs": [
    {
     "data": {
      "text/plain": [
       "(50220, 6)"
      ]
     },
     "execution_count": 21,
     "metadata": {},
     "output_type": "execute_result"
    }
   ],
   "source": [
    "df_melt.shape"
   ]
  },
  {
   "cell_type": "code",
   "execution_count": 22,
   "metadata": {},
   "outputs": [
    {
     "data": {
      "text/html": [
       "<div>\n",
       "<style scoped>\n",
       "    .dataframe tbody tr th:only-of-type {\n",
       "        vertical-align: middle;\n",
       "    }\n",
       "\n",
       "    .dataframe tbody tr th {\n",
       "        vertical-align: top;\n",
       "    }\n",
       "\n",
       "    .dataframe thead th {\n",
       "        text-align: right;\n",
       "    }\n",
       "</style>\n",
       "<table border=\"1\" class=\"dataframe\">\n",
       "  <thead>\n",
       "    <tr style=\"text-align: right;\">\n",
       "      <th></th>\n",
       "      <th>CUIT_CUIL</th>\n",
       "      <th>NRO_DOC</th>\n",
       "      <th>APELLIDO</th>\n",
       "      <th>NOMBRE</th>\n",
       "      <th>variable</th>\n",
       "      <th>Dato</th>\n",
       "    </tr>\n",
       "  </thead>\n",
       "  <tbody>\n",
       "    <tr>\n",
       "      <th>0</th>\n",
       "      <td>27100396217</td>\n",
       "      <td>10039621</td>\n",
       "      <td>CANO</td>\n",
       "      <td>ANA MARIA</td>\n",
       "      <td>TELEFONO_CELULAR1</td>\n",
       "      <td>2.611561e+11</td>\n",
       "    </tr>\n",
       "    <tr>\n",
       "      <th>1</th>\n",
       "      <td>27100460713</td>\n",
       "      <td>10046071</td>\n",
       "      <td>D'ANGELO</td>\n",
       "      <td>ROSA HILDA</td>\n",
       "      <td>TELEFONO_CELULAR1</td>\n",
       "      <td>3.511563e+11</td>\n",
       "    </tr>\n",
       "    <tr>\n",
       "      <th>2</th>\n",
       "      <td>27100836373</td>\n",
       "      <td>10083637</td>\n",
       "      <td>ROMERO</td>\n",
       "      <td>MARTA ALICIA</td>\n",
       "      <td>TELEFONO_CELULAR1</td>\n",
       "      <td>1.115378e+11</td>\n",
       "    </tr>\n",
       "    <tr>\n",
       "      <th>3</th>\n",
       "      <td>20100858666</td>\n",
       "      <td>10085866</td>\n",
       "      <td>CHAVEZ</td>\n",
       "      <td>JUAN CRISOTOMO</td>\n",
       "      <td>TELEFONO_CELULAR1</td>\n",
       "      <td>1.115319e+11</td>\n",
       "    </tr>\n",
       "    <tr>\n",
       "      <th>4</th>\n",
       "      <td>20101171176</td>\n",
       "      <td>10117117</td>\n",
       "      <td>FILIPPAZZO</td>\n",
       "      <td>ERNESTO ROBERTO</td>\n",
       "      <td>TELEFONO_CELULAR1</td>\n",
       "      <td>1.115504e+11</td>\n",
       "    </tr>\n",
       "  </tbody>\n",
       "</table>\n",
       "</div>"
      ],
      "text/plain": [
       "     CUIT_CUIL   NRO_DOC    APELLIDO           NOMBRE           variable  \\\n",
       "0  27100396217  10039621        CANO        ANA MARIA  TELEFONO_CELULAR1   \n",
       "1  27100460713  10046071    D'ANGELO       ROSA HILDA  TELEFONO_CELULAR1   \n",
       "2  27100836373  10083637      ROMERO     MARTA ALICIA  TELEFONO_CELULAR1   \n",
       "3  20100858666  10085866      CHAVEZ   JUAN CRISOTOMO  TELEFONO_CELULAR1   \n",
       "4  20101171176  10117117  FILIPPAZZO  ERNESTO ROBERTO  TELEFONO_CELULAR1   \n",
       "\n",
       "           Dato  \n",
       "0  2.611561e+11  \n",
       "1  3.511563e+11  \n",
       "2  1.115378e+11  \n",
       "3  1.115319e+11  \n",
       "4  1.115504e+11  "
      ]
     },
     "execution_count": 22,
     "metadata": {},
     "output_type": "execute_result"
    }
   ],
   "source": [
    "df_melt.head()"
   ]
  },
  {
   "cell_type": "markdown",
   "metadata": {},
   "source": [
    "# 5) Propietario del Dato"
   ]
  },
  {
   "cell_type": "markdown",
   "metadata": {},
   "source": [
    "En función de la columna \"variable\" creamos una nueva columna PROPIETARIO_DATO"
   ]
  },
  {
   "cell_type": "code",
   "execution_count": 23,
   "metadata": {},
   "outputs": [],
   "source": [
    "df_melt.loc[((df_melt['variable'] == 'TELEFONO_FIJO1') | (df_melt['variable'] == 'TELEFONO_FIJO2')\n",
    "            | (df_melt['variable'] == 'TELEFONO_FIJO3')\n",
    "            | (df_melt['variable'] == 'TELEFONO_FIJO4') | (df_melt['variable'] == 'TELEFONO_CELULAR1')\n",
    "            | (df_melt['variable'] == 'TELEFONO_CELULAR2') | (df_melt['variable'] == 'TELEFONO_CELULAR3')\n",
    "            | (df_melt['variable'] == 'TELEFONO_CELULAR4')\n",
    "            ) , 'PROPIETARIO_DATO'] = 'Propio'"
   ]
  },
  {
   "cell_type": "code",
   "execution_count": 24,
   "metadata": {},
   "outputs": [
    {
     "data": {
      "text/plain": [
       "\"df_melt.loc[((df_melt['variable'] == 'Tel_familiar_fijo_1')\\n            | (df_melt['variable'] == 'Tel_familiar_fijo_2') | (df_melt['variable'] == 'celular_familiar_1')\\n            | (df_melt['variable'] == 'celular_familiar_2') | (df_melt['variable'] == 'celular_familiar_3')\\n            | (df_melt['variable'] == 'celular_familiar_4') | (df_melt['variable'] == 'celular_familiar_5')\\n            ) , 'PROPIETARIO_DATO'] = 'Ajeno_familiar'\\n\""
      ]
     },
     "execution_count": 24,
     "metadata": {},
     "output_type": "execute_result"
    }
   ],
   "source": [
    "\"\"\"df_melt.loc[((df_melt['variable'] == 'Tel_familiar_fijo_1')\n",
    "            | (df_melt['variable'] == 'Tel_familiar_fijo_2') | (df_melt['variable'] == 'celular_familiar_1')\n",
    "            | (df_melt['variable'] == 'celular_familiar_2') | (df_melt['variable'] == 'celular_familiar_3')\n",
    "            | (df_melt['variable'] == 'celular_familiar_4') | (df_melt['variable'] == 'celular_familiar_5')\n",
    "            ) , 'PROPIETARIO_DATO'] = 'Ajeno_familiar'\n",
    "\"\"\""
   ]
  },
  {
   "cell_type": "code",
   "execution_count": 25,
   "metadata": {},
   "outputs": [
    {
     "data": {
      "text/plain": [
       "\"\\ndf_melt.loc[((df_melt['variable'] == 'Telefono_vecino') \\n            ) , 'PROPIETARIO_DATO'] = 'Ajeno'\\n\""
      ]
     },
     "execution_count": 25,
     "metadata": {},
     "output_type": "execute_result"
    }
   ],
   "source": [
    "\"\"\"\n",
    "df_melt.loc[((df_melt['variable'] == 'Telefono_vecino') \n",
    "            ) , 'PROPIETARIO_DATO'] = 'Ajeno'\n",
    "\"\"\"            "
   ]
  },
  {
   "cell_type": "code",
   "execution_count": 26,
   "metadata": {},
   "outputs": [
    {
     "data": {
      "text/plain": [
       "\"\\ndf_melt.loc[((df_melt['variable'] == 'Telefono Laboral 1') | (df_melt['variable'] == 'Telefono Laboral 2')\\n            | (df_melt['variable'] == 'Telefono Laboral 3')\\n            ) , 'PROPIETARIO_DATO'] = 'Ajeno_empleador'\\n\""
      ]
     },
     "execution_count": 26,
     "metadata": {},
     "output_type": "execute_result"
    }
   ],
   "source": [
    "\"\"\"\n",
    "df_melt.loc[((df_melt['variable'] == 'Telefono Laboral 1') | (df_melt['variable'] == 'Telefono Laboral 2')\n",
    "            | (df_melt['variable'] == 'Telefono Laboral 3')\n",
    "            ) , 'PROPIETARIO_DATO'] = 'Ajeno_empleador'\n",
    "\"\"\""
   ]
  },
  {
   "cell_type": "code",
   "execution_count": 27,
   "metadata": {},
   "outputs": [],
   "source": [
    "#df_melt.to_excel('test_tel_v2.xlsx')"
   ]
  },
  {
   "cell_type": "code",
   "execution_count": 28,
   "metadata": {},
   "outputs": [
    {
     "data": {
      "text/html": [
       "<div>\n",
       "<style scoped>\n",
       "    .dataframe tbody tr th:only-of-type {\n",
       "        vertical-align: middle;\n",
       "    }\n",
       "\n",
       "    .dataframe tbody tr th {\n",
       "        vertical-align: top;\n",
       "    }\n",
       "\n",
       "    .dataframe thead th {\n",
       "        text-align: right;\n",
       "    }\n",
       "</style>\n",
       "<table border=\"1\" class=\"dataframe\">\n",
       "  <thead>\n",
       "    <tr style=\"text-align: right;\">\n",
       "      <th></th>\n",
       "      <th>CUIT_CUIL</th>\n",
       "      <th>NRO_DOC</th>\n",
       "      <th>APELLIDO</th>\n",
       "      <th>NOMBRE</th>\n",
       "      <th>variable</th>\n",
       "      <th>Dato</th>\n",
       "      <th>PROPIETARIO_DATO</th>\n",
       "    </tr>\n",
       "  </thead>\n",
       "  <tbody>\n",
       "    <tr>\n",
       "      <th>0</th>\n",
       "      <td>27100396217</td>\n",
       "      <td>10039621</td>\n",
       "      <td>CANO</td>\n",
       "      <td>ANA MARIA</td>\n",
       "      <td>TELEFONO_CELULAR1</td>\n",
       "      <td>2.611561e+11</td>\n",
       "      <td>Propio</td>\n",
       "    </tr>\n",
       "    <tr>\n",
       "      <th>1</th>\n",
       "      <td>27100460713</td>\n",
       "      <td>10046071</td>\n",
       "      <td>D'ANGELO</td>\n",
       "      <td>ROSA HILDA</td>\n",
       "      <td>TELEFONO_CELULAR1</td>\n",
       "      <td>3.511563e+11</td>\n",
       "      <td>Propio</td>\n",
       "    </tr>\n",
       "    <tr>\n",
       "      <th>2</th>\n",
       "      <td>27100836373</td>\n",
       "      <td>10083637</td>\n",
       "      <td>ROMERO</td>\n",
       "      <td>MARTA ALICIA</td>\n",
       "      <td>TELEFONO_CELULAR1</td>\n",
       "      <td>1.115378e+11</td>\n",
       "      <td>Propio</td>\n",
       "    </tr>\n",
       "    <tr>\n",
       "      <th>3</th>\n",
       "      <td>20100858666</td>\n",
       "      <td>10085866</td>\n",
       "      <td>CHAVEZ</td>\n",
       "      <td>JUAN CRISOTOMO</td>\n",
       "      <td>TELEFONO_CELULAR1</td>\n",
       "      <td>1.115319e+11</td>\n",
       "      <td>Propio</td>\n",
       "    </tr>\n",
       "    <tr>\n",
       "      <th>4</th>\n",
       "      <td>20101171176</td>\n",
       "      <td>10117117</td>\n",
       "      <td>FILIPPAZZO</td>\n",
       "      <td>ERNESTO ROBERTO</td>\n",
       "      <td>TELEFONO_CELULAR1</td>\n",
       "      <td>1.115504e+11</td>\n",
       "      <td>Propio</td>\n",
       "    </tr>\n",
       "  </tbody>\n",
       "</table>\n",
       "</div>"
      ],
      "text/plain": [
       "     CUIT_CUIL   NRO_DOC    APELLIDO           NOMBRE           variable  \\\n",
       "0  27100396217  10039621        CANO        ANA MARIA  TELEFONO_CELULAR1   \n",
       "1  27100460713  10046071    D'ANGELO       ROSA HILDA  TELEFONO_CELULAR1   \n",
       "2  27100836373  10083637      ROMERO     MARTA ALICIA  TELEFONO_CELULAR1   \n",
       "3  20100858666  10085866      CHAVEZ   JUAN CRISOTOMO  TELEFONO_CELULAR1   \n",
       "4  20101171176  10117117  FILIPPAZZO  ERNESTO ROBERTO  TELEFONO_CELULAR1   \n",
       "\n",
       "           Dato PROPIETARIO_DATO  \n",
       "0  2.611561e+11           Propio  \n",
       "1  3.511563e+11           Propio  \n",
       "2  1.115378e+11           Propio  \n",
       "3  1.115319e+11           Propio  \n",
       "4  1.115504e+11           Propio  "
      ]
     },
     "execution_count": 28,
     "metadata": {},
     "output_type": "execute_result"
    }
   ],
   "source": [
    "df_melt.head()"
   ]
  },
  {
   "cell_type": "markdown",
   "metadata": {},
   "source": [
    "# 6) Columna Proveedor"
   ]
  },
  {
   "cell_type": "markdown",
   "metadata": {},
   "source": [
    "Agregamos la columna PROVEEDOR_DATO, con el código correspondiente."
   ]
  },
  {
   "cell_type": "code",
   "execution_count": 29,
   "metadata": {},
   "outputs": [],
   "source": [
    "cod_pyp = 'ZERT'"
   ]
  },
  {
   "cell_type": "code",
   "execution_count": 30,
   "metadata": {},
   "outputs": [],
   "source": [
    "df_clean = df_melt.assign(PROVEEDOR_DATO=cod_pyp)"
   ]
  },
  {
   "cell_type": "code",
   "execution_count": 31,
   "metadata": {
    "scrolled": true
   },
   "outputs": [
    {
     "data": {
      "text/html": [
       "<div>\n",
       "<style scoped>\n",
       "    .dataframe tbody tr th:only-of-type {\n",
       "        vertical-align: middle;\n",
       "    }\n",
       "\n",
       "    .dataframe tbody tr th {\n",
       "        vertical-align: top;\n",
       "    }\n",
       "\n",
       "    .dataframe thead th {\n",
       "        text-align: right;\n",
       "    }\n",
       "</style>\n",
       "<table border=\"1\" class=\"dataframe\">\n",
       "  <thead>\n",
       "    <tr style=\"text-align: right;\">\n",
       "      <th></th>\n",
       "      <th>CUIT_CUIL</th>\n",
       "      <th>NRO_DOC</th>\n",
       "      <th>APELLIDO</th>\n",
       "      <th>NOMBRE</th>\n",
       "      <th>variable</th>\n",
       "      <th>Dato</th>\n",
       "      <th>PROPIETARIO_DATO</th>\n",
       "      <th>PROVEEDOR_DATO</th>\n",
       "    </tr>\n",
       "  </thead>\n",
       "  <tbody>\n",
       "    <tr>\n",
       "      <th>173267</th>\n",
       "      <td>27031664743</td>\n",
       "      <td>3166474</td>\n",
       "      <td>MAIDANA</td>\n",
       "      <td>NILDA M</td>\n",
       "      <td>TELEFONO_FIJO4</td>\n",
       "      <td>2.657421e+09</td>\n",
       "      <td>Propio</td>\n",
       "      <td>ZERT</td>\n",
       "    </tr>\n",
       "    <tr>\n",
       "      <th>173268</th>\n",
       "      <td>20031664749</td>\n",
       "      <td>3166474</td>\n",
       "      <td>NaN</td>\n",
       "      <td>DESPOSITO ANTONIO OVIDIO                      ...</td>\n",
       "      <td>TELEFONO_FIJO4</td>\n",
       "      <td>2.657421e+09</td>\n",
       "      <td>Propio</td>\n",
       "      <td>ZERT</td>\n",
       "    </tr>\n",
       "    <tr>\n",
       "      <th>173704</th>\n",
       "      <td>23330837829</td>\n",
       "      <td>33083782</td>\n",
       "      <td>MEZA</td>\n",
       "      <td>JONATAN MARIANO</td>\n",
       "      <td>TELEFONO_FIJO4</td>\n",
       "      <td>1.142710e+09</td>\n",
       "      <td>Propio</td>\n",
       "      <td>ZERT</td>\n",
       "    </tr>\n",
       "    <tr>\n",
       "      <th>174190</th>\n",
       "      <td>27047513923</td>\n",
       "      <td>4751392</td>\n",
       "      <td>CARRERI</td>\n",
       "      <td>MARINA</td>\n",
       "      <td>TELEFONO_FIJO4</td>\n",
       "      <td>2.372375e+09</td>\n",
       "      <td>Propio</td>\n",
       "      <td>ZERT</td>\n",
       "    </tr>\n",
       "    <tr>\n",
       "      <th>174198</th>\n",
       "      <td>20068529949</td>\n",
       "      <td>6852994</td>\n",
       "      <td>SEDERINO</td>\n",
       "      <td>MANUEL ITALO</td>\n",
       "      <td>TELEFONO_FIJO4</td>\n",
       "      <td>2.614203e+09</td>\n",
       "      <td>Propio</td>\n",
       "      <td>ZERT</td>\n",
       "    </tr>\n",
       "  </tbody>\n",
       "</table>\n",
       "</div>"
      ],
      "text/plain": [
       "          CUIT_CUIL   NRO_DOC  APELLIDO  \\\n",
       "173267  27031664743   3166474   MAIDANA   \n",
       "173268  20031664749   3166474       NaN   \n",
       "173704  23330837829  33083782      MEZA   \n",
       "174190  27047513923   4751392   CARRERI   \n",
       "174198  20068529949   6852994  SEDERINO   \n",
       "\n",
       "                                                   NOMBRE        variable  \\\n",
       "173267                                            NILDA M  TELEFONO_FIJO4   \n",
       "173268  DESPOSITO ANTONIO OVIDIO                      ...  TELEFONO_FIJO4   \n",
       "173704                                    JONATAN MARIANO  TELEFONO_FIJO4   \n",
       "174190                                             MARINA  TELEFONO_FIJO4   \n",
       "174198                                       MANUEL ITALO  TELEFONO_FIJO4   \n",
       "\n",
       "                Dato PROPIETARIO_DATO PROVEEDOR_DATO  \n",
       "173267  2.657421e+09           Propio           ZERT  \n",
       "173268  2.657421e+09           Propio           ZERT  \n",
       "173704  1.142710e+09           Propio           ZERT  \n",
       "174190  2.372375e+09           Propio           ZERT  \n",
       "174198  2.614203e+09           Propio           ZERT  "
      ]
     },
     "execution_count": 31,
     "metadata": {},
     "output_type": "execute_result"
    }
   ],
   "source": [
    "df_clean.tail()"
   ]
  },
  {
   "cell_type": "markdown",
   "metadata": {},
   "source": [
    "# 7) Columna Tipo"
   ]
  },
  {
   "cell_type": "markdown",
   "metadata": {},
   "source": [
    "Agregamos la columna TIPO, con el código correspondiente"
   ]
  },
  {
   "cell_type": "code",
   "execution_count": 32,
   "metadata": {},
   "outputs": [],
   "source": [
    "df_clean.loc[((df_melt['variable'] == 'TELEFONO_FIJO1') | (df_melt['variable'] == 'TELEFONO_FIJO2')\n",
    "            | (df_melt['variable'] == 'TELEFONO_FIJO3')\n",
    "            | (df_melt['variable'] == 'TELEFONO_FIJO4')\n",
    "            ) , 'TIPO'] = 'TEL.FIJO'"
   ]
  },
  {
   "cell_type": "code",
   "execution_count": 33,
   "metadata": {},
   "outputs": [],
   "source": [
    "df_clean.loc[((df_melt['variable'] == 'TELEFONO_CELULAR1')\n",
    "            | (df_melt['variable'] == 'TELEFONO_CELULAR2') | (df_melt['variable'] == 'TELEFONO_CELULAR3')\n",
    "            | (df_melt['variable'] == 'TELEFONO_CELULAR4')  \n",
    "            ) , 'TIPO'] = 'TEL.CELULAR'"
   ]
  },
  {
   "cell_type": "code",
   "execution_count": 34,
   "metadata": {},
   "outputs": [
    {
     "data": {
      "text/html": [
       "<div>\n",
       "<style scoped>\n",
       "    .dataframe tbody tr th:only-of-type {\n",
       "        vertical-align: middle;\n",
       "    }\n",
       "\n",
       "    .dataframe tbody tr th {\n",
       "        vertical-align: top;\n",
       "    }\n",
       "\n",
       "    .dataframe thead th {\n",
       "        text-align: right;\n",
       "    }\n",
       "</style>\n",
       "<table border=\"1\" class=\"dataframe\">\n",
       "  <thead>\n",
       "    <tr style=\"text-align: right;\">\n",
       "      <th></th>\n",
       "      <th>CUIT_CUIL</th>\n",
       "      <th>NRO_DOC</th>\n",
       "      <th>APELLIDO</th>\n",
       "      <th>NOMBRE</th>\n",
       "      <th>variable</th>\n",
       "      <th>Dato</th>\n",
       "      <th>PROPIETARIO_DATO</th>\n",
       "      <th>PROVEEDOR_DATO</th>\n",
       "      <th>TIPO</th>\n",
       "    </tr>\n",
       "  </thead>\n",
       "  <tbody>\n",
       "    <tr>\n",
       "      <th>0</th>\n",
       "      <td>27100396217</td>\n",
       "      <td>10039621</td>\n",
       "      <td>CANO</td>\n",
       "      <td>ANA MARIA</td>\n",
       "      <td>TELEFONO_CELULAR1</td>\n",
       "      <td>2.611561e+11</td>\n",
       "      <td>Propio</td>\n",
       "      <td>ZERT</td>\n",
       "      <td>TEL.CELULAR</td>\n",
       "    </tr>\n",
       "    <tr>\n",
       "      <th>1</th>\n",
       "      <td>27100460713</td>\n",
       "      <td>10046071</td>\n",
       "      <td>D'ANGELO</td>\n",
       "      <td>ROSA HILDA</td>\n",
       "      <td>TELEFONO_CELULAR1</td>\n",
       "      <td>3.511563e+11</td>\n",
       "      <td>Propio</td>\n",
       "      <td>ZERT</td>\n",
       "      <td>TEL.CELULAR</td>\n",
       "    </tr>\n",
       "    <tr>\n",
       "      <th>2</th>\n",
       "      <td>27100836373</td>\n",
       "      <td>10083637</td>\n",
       "      <td>ROMERO</td>\n",
       "      <td>MARTA ALICIA</td>\n",
       "      <td>TELEFONO_CELULAR1</td>\n",
       "      <td>1.115378e+11</td>\n",
       "      <td>Propio</td>\n",
       "      <td>ZERT</td>\n",
       "      <td>TEL.CELULAR</td>\n",
       "    </tr>\n",
       "    <tr>\n",
       "      <th>3</th>\n",
       "      <td>20100858666</td>\n",
       "      <td>10085866</td>\n",
       "      <td>CHAVEZ</td>\n",
       "      <td>JUAN CRISOTOMO</td>\n",
       "      <td>TELEFONO_CELULAR1</td>\n",
       "      <td>1.115319e+11</td>\n",
       "      <td>Propio</td>\n",
       "      <td>ZERT</td>\n",
       "      <td>TEL.CELULAR</td>\n",
       "    </tr>\n",
       "    <tr>\n",
       "      <th>4</th>\n",
       "      <td>20101171176</td>\n",
       "      <td>10117117</td>\n",
       "      <td>FILIPPAZZO</td>\n",
       "      <td>ERNESTO ROBERTO</td>\n",
       "      <td>TELEFONO_CELULAR1</td>\n",
       "      <td>1.115504e+11</td>\n",
       "      <td>Propio</td>\n",
       "      <td>ZERT</td>\n",
       "      <td>TEL.CELULAR</td>\n",
       "    </tr>\n",
       "    <tr>\n",
       "      <th>5</th>\n",
       "      <td>27101190361</td>\n",
       "      <td>10119036</td>\n",
       "      <td>CELA</td>\n",
       "      <td>VIVIANA ADELA</td>\n",
       "      <td>TELEFONO_CELULAR1</td>\n",
       "      <td>1.115414e+11</td>\n",
       "      <td>Propio</td>\n",
       "      <td>ZERT</td>\n",
       "      <td>TEL.CELULAR</td>\n",
       "    </tr>\n",
       "    <tr>\n",
       "      <th>6</th>\n",
       "      <td>20101247520</td>\n",
       "      <td>10124752</td>\n",
       "      <td>DODERO</td>\n",
       "      <td>CARLOS RUBEN</td>\n",
       "      <td>TELEFONO_CELULAR1</td>\n",
       "      <td>1.115662e+11</td>\n",
       "      <td>Propio</td>\n",
       "      <td>ZERT</td>\n",
       "      <td>TEL.CELULAR</td>\n",
       "    </tr>\n",
       "    <tr>\n",
       "      <th>7</th>\n",
       "      <td>20101276520</td>\n",
       "      <td>10127652</td>\n",
       "      <td>ROSSI</td>\n",
       "      <td>RAFAEL JOSE</td>\n",
       "      <td>TELEFONO_CELULAR1</td>\n",
       "      <td>3.791541e+11</td>\n",
       "      <td>Propio</td>\n",
       "      <td>ZERT</td>\n",
       "      <td>TEL.CELULAR</td>\n",
       "    </tr>\n",
       "    <tr>\n",
       "      <th>11</th>\n",
       "      <td>27101967722</td>\n",
       "      <td>10196772</td>\n",
       "      <td>MIGNONE</td>\n",
       "      <td>LILIANA INES</td>\n",
       "      <td>TELEFONO_CELULAR1</td>\n",
       "      <td>1.115502e+11</td>\n",
       "      <td>Propio</td>\n",
       "      <td>ZERT</td>\n",
       "      <td>TEL.CELULAR</td>\n",
       "    </tr>\n",
       "    <tr>\n",
       "      <th>12</th>\n",
       "      <td>20102038798</td>\n",
       "      <td>10203879</td>\n",
       "      <td>GOMEZ</td>\n",
       "      <td>CARLOS MANUEL</td>\n",
       "      <td>TELEFONO_CELULAR1</td>\n",
       "      <td>1.115660e+11</td>\n",
       "      <td>Propio</td>\n",
       "      <td>ZERT</td>\n",
       "      <td>TEL.CELULAR</td>\n",
       "    </tr>\n",
       "    <tr>\n",
       "      <th>13</th>\n",
       "      <td>20102038925</td>\n",
       "      <td>10203892</td>\n",
       "      <td>CRESPO</td>\n",
       "      <td>ALEJANDRO JORGE</td>\n",
       "      <td>TELEFONO_CELULAR1</td>\n",
       "      <td>1.115575e+11</td>\n",
       "      <td>Propio</td>\n",
       "      <td>ZERT</td>\n",
       "      <td>TEL.CELULAR</td>\n",
       "    </tr>\n",
       "    <tr>\n",
       "      <th>15</th>\n",
       "      <td>20102115725</td>\n",
       "      <td>10211572</td>\n",
       "      <td>LOPEZ</td>\n",
       "      <td>MIGUEL ANGEL</td>\n",
       "      <td>TELEFONO_CELULAR1</td>\n",
       "      <td>1.115581e+11</td>\n",
       "      <td>Propio</td>\n",
       "      <td>ZERT</td>\n",
       "      <td>TEL.CELULAR</td>\n",
       "    </tr>\n",
       "    <tr>\n",
       "      <th>16</th>\n",
       "      <td>20102262809</td>\n",
       "      <td>10226280</td>\n",
       "      <td>RODRIGUEZ</td>\n",
       "      <td>ORLANDO WASHINGTON</td>\n",
       "      <td>TELEFONO_CELULAR1</td>\n",
       "      <td>1.115326e+11</td>\n",
       "      <td>Propio</td>\n",
       "      <td>ZERT</td>\n",
       "      <td>TEL.CELULAR</td>\n",
       "    </tr>\n",
       "    <tr>\n",
       "      <th>17</th>\n",
       "      <td>20102711077</td>\n",
       "      <td>10271107</td>\n",
       "      <td>BRAVO</td>\n",
       "      <td>ALDO OSCAR</td>\n",
       "      <td>TELEFONO_CELULAR1</td>\n",
       "      <td>2.641548e+11</td>\n",
       "      <td>Propio</td>\n",
       "      <td>ZERT</td>\n",
       "      <td>TEL.CELULAR</td>\n",
       "    </tr>\n",
       "    <tr>\n",
       "      <th>18</th>\n",
       "      <td>20103152004</td>\n",
       "      <td>10315200</td>\n",
       "      <td>ARAGON</td>\n",
       "      <td>ENRIQUE ESTEBAN</td>\n",
       "      <td>TELEFONO_CELULAR1</td>\n",
       "      <td>3.421551e+11</td>\n",
       "      <td>Propio</td>\n",
       "      <td>ZERT</td>\n",
       "      <td>TEL.CELULAR</td>\n",
       "    </tr>\n",
       "  </tbody>\n",
       "</table>\n",
       "</div>"
      ],
      "text/plain": [
       "      CUIT_CUIL   NRO_DOC    APELLIDO              NOMBRE           variable  \\\n",
       "0   27100396217  10039621        CANO           ANA MARIA  TELEFONO_CELULAR1   \n",
       "1   27100460713  10046071    D'ANGELO          ROSA HILDA  TELEFONO_CELULAR1   \n",
       "2   27100836373  10083637      ROMERO        MARTA ALICIA  TELEFONO_CELULAR1   \n",
       "3   20100858666  10085866      CHAVEZ      JUAN CRISOTOMO  TELEFONO_CELULAR1   \n",
       "4   20101171176  10117117  FILIPPAZZO     ERNESTO ROBERTO  TELEFONO_CELULAR1   \n",
       "5   27101190361  10119036        CELA       VIVIANA ADELA  TELEFONO_CELULAR1   \n",
       "6   20101247520  10124752      DODERO        CARLOS RUBEN  TELEFONO_CELULAR1   \n",
       "7   20101276520  10127652       ROSSI         RAFAEL JOSE  TELEFONO_CELULAR1   \n",
       "11  27101967722  10196772     MIGNONE        LILIANA INES  TELEFONO_CELULAR1   \n",
       "12  20102038798  10203879       GOMEZ       CARLOS MANUEL  TELEFONO_CELULAR1   \n",
       "13  20102038925  10203892      CRESPO     ALEJANDRO JORGE  TELEFONO_CELULAR1   \n",
       "15  20102115725  10211572       LOPEZ        MIGUEL ANGEL  TELEFONO_CELULAR1   \n",
       "16  20102262809  10226280   RODRIGUEZ  ORLANDO WASHINGTON  TELEFONO_CELULAR1   \n",
       "17  20102711077  10271107       BRAVO          ALDO OSCAR  TELEFONO_CELULAR1   \n",
       "18  20103152004  10315200      ARAGON     ENRIQUE ESTEBAN  TELEFONO_CELULAR1   \n",
       "\n",
       "            Dato PROPIETARIO_DATO PROVEEDOR_DATO         TIPO  \n",
       "0   2.611561e+11           Propio           ZERT  TEL.CELULAR  \n",
       "1   3.511563e+11           Propio           ZERT  TEL.CELULAR  \n",
       "2   1.115378e+11           Propio           ZERT  TEL.CELULAR  \n",
       "3   1.115319e+11           Propio           ZERT  TEL.CELULAR  \n",
       "4   1.115504e+11           Propio           ZERT  TEL.CELULAR  \n",
       "5   1.115414e+11           Propio           ZERT  TEL.CELULAR  \n",
       "6   1.115662e+11           Propio           ZERT  TEL.CELULAR  \n",
       "7   3.791541e+11           Propio           ZERT  TEL.CELULAR  \n",
       "11  1.115502e+11           Propio           ZERT  TEL.CELULAR  \n",
       "12  1.115660e+11           Propio           ZERT  TEL.CELULAR  \n",
       "13  1.115575e+11           Propio           ZERT  TEL.CELULAR  \n",
       "15  1.115581e+11           Propio           ZERT  TEL.CELULAR  \n",
       "16  1.115326e+11           Propio           ZERT  TEL.CELULAR  \n",
       "17  2.641548e+11           Propio           ZERT  TEL.CELULAR  \n",
       "18  3.421551e+11           Propio           ZERT  TEL.CELULAR  "
      ]
     },
     "execution_count": 34,
     "metadata": {},
     "output_type": "execute_result"
    }
   ],
   "source": [
    "df_clean.head(15)"
   ]
  },
  {
   "cell_type": "markdown",
   "metadata": {},
   "source": [
    "# 8) Columna Subtipo"
   ]
  },
  {
   "cell_type": "markdown",
   "metadata": {},
   "source": [
    "Agregamos la columna SUBTIPO, que va a contener información sobre el tipo de teléfono que se encuentra en el campo Dato.\n",
    "\n",
    "- Personal: si es propio.\n",
    "- Laboral: si es ajeno."
   ]
  },
  {
   "cell_type": "code",
   "execution_count": 35,
   "metadata": {},
   "outputs": [
    {
     "data": {
      "text/plain": [
       "\"\\ndf_clean.loc[((df_clean['variable'] == 'Telefono Laboral 1') | (df_clean['variable'] == 'Telefono Laboral 2')\\n            | (df_clean['variable'] == 'Telefono Laboral 3')\\n            ) , 'SUBTIPO'] = 'LABORAL'\\n\""
      ]
     },
     "execution_count": 35,
     "metadata": {},
     "output_type": "execute_result"
    }
   ],
   "source": [
    "\"\"\"\n",
    "df_clean.loc[((df_clean['variable'] == 'Telefono Laboral 1') | (df_clean['variable'] == 'Telefono Laboral 2')\n",
    "            | (df_clean['variable'] == 'Telefono Laboral 3')\n",
    "            ) , 'SUBTIPO'] = 'LABORAL'\n",
    "\"\"\""
   ]
  },
  {
   "cell_type": "code",
   "execution_count": 36,
   "metadata": {},
   "outputs": [],
   "source": [
    "df_clean.loc[((df_melt['variable'] == 'TELEFONO_FIJO1') | (df_melt['variable'] == 'TELEFONO_FIJO2')\n",
    "            | (df_melt['variable'] == 'TELEFONO_FIJO3')\n",
    "            | (df_melt['variable'] == 'TELEFONO_FIJO4') | (df_melt['variable'] == 'TELEFONO_CELULAR1')\n",
    "            | (df_melt['variable'] == 'TELEFONO_CELULAR2') | (df_melt['variable'] == 'TELEFONO_CELULAR3')\n",
    "            | (df_melt['variable'] == 'TELEFONO_CELULAR4')             \n",
    "            ) , 'SUBTIPO'] = 'PERSONAL'"
   ]
  },
  {
   "cell_type": "code",
   "execution_count": 37,
   "metadata": {},
   "outputs": [],
   "source": [
    "#df_clean.to_excel('df_refuerzo_test_1.xlsx')"
   ]
  },
  {
   "cell_type": "code",
   "execution_count": 38,
   "metadata": {},
   "outputs": [],
   "source": [
    "df_clean = df_clean.drop(columns=['variable'])"
   ]
  },
  {
   "cell_type": "code",
   "execution_count": 39,
   "metadata": {},
   "outputs": [
    {
     "data": {
      "text/html": [
       "<div>\n",
       "<style scoped>\n",
       "    .dataframe tbody tr th:only-of-type {\n",
       "        vertical-align: middle;\n",
       "    }\n",
       "\n",
       "    .dataframe tbody tr th {\n",
       "        vertical-align: top;\n",
       "    }\n",
       "\n",
       "    .dataframe thead th {\n",
       "        text-align: right;\n",
       "    }\n",
       "</style>\n",
       "<table border=\"1\" class=\"dataframe\">\n",
       "  <thead>\n",
       "    <tr style=\"text-align: right;\">\n",
       "      <th></th>\n",
       "      <th>CUIT_CUIL</th>\n",
       "      <th>NRO_DOC</th>\n",
       "      <th>APELLIDO</th>\n",
       "      <th>NOMBRE</th>\n",
       "      <th>Dato</th>\n",
       "      <th>PROPIETARIO_DATO</th>\n",
       "      <th>PROVEEDOR_DATO</th>\n",
       "      <th>TIPO</th>\n",
       "      <th>SUBTIPO</th>\n",
       "    </tr>\n",
       "  </thead>\n",
       "  <tbody>\n",
       "    <tr>\n",
       "      <th>0</th>\n",
       "      <td>27100396217</td>\n",
       "      <td>10039621</td>\n",
       "      <td>CANO</td>\n",
       "      <td>ANA MARIA</td>\n",
       "      <td>2.611561e+11</td>\n",
       "      <td>Propio</td>\n",
       "      <td>ZERT</td>\n",
       "      <td>TEL.CELULAR</td>\n",
       "      <td>PERSONAL</td>\n",
       "    </tr>\n",
       "    <tr>\n",
       "      <th>1</th>\n",
       "      <td>27100460713</td>\n",
       "      <td>10046071</td>\n",
       "      <td>D'ANGELO</td>\n",
       "      <td>ROSA HILDA</td>\n",
       "      <td>3.511563e+11</td>\n",
       "      <td>Propio</td>\n",
       "      <td>ZERT</td>\n",
       "      <td>TEL.CELULAR</td>\n",
       "      <td>PERSONAL</td>\n",
       "    </tr>\n",
       "    <tr>\n",
       "      <th>2</th>\n",
       "      <td>27100836373</td>\n",
       "      <td>10083637</td>\n",
       "      <td>ROMERO</td>\n",
       "      <td>MARTA ALICIA</td>\n",
       "      <td>1.115378e+11</td>\n",
       "      <td>Propio</td>\n",
       "      <td>ZERT</td>\n",
       "      <td>TEL.CELULAR</td>\n",
       "      <td>PERSONAL</td>\n",
       "    </tr>\n",
       "    <tr>\n",
       "      <th>3</th>\n",
       "      <td>20100858666</td>\n",
       "      <td>10085866</td>\n",
       "      <td>CHAVEZ</td>\n",
       "      <td>JUAN CRISOTOMO</td>\n",
       "      <td>1.115319e+11</td>\n",
       "      <td>Propio</td>\n",
       "      <td>ZERT</td>\n",
       "      <td>TEL.CELULAR</td>\n",
       "      <td>PERSONAL</td>\n",
       "    </tr>\n",
       "    <tr>\n",
       "      <th>4</th>\n",
       "      <td>20101171176</td>\n",
       "      <td>10117117</td>\n",
       "      <td>FILIPPAZZO</td>\n",
       "      <td>ERNESTO ROBERTO</td>\n",
       "      <td>1.115504e+11</td>\n",
       "      <td>Propio</td>\n",
       "      <td>ZERT</td>\n",
       "      <td>TEL.CELULAR</td>\n",
       "      <td>PERSONAL</td>\n",
       "    </tr>\n",
       "  </tbody>\n",
       "</table>\n",
       "</div>"
      ],
      "text/plain": [
       "     CUIT_CUIL   NRO_DOC    APELLIDO           NOMBRE          Dato  \\\n",
       "0  27100396217  10039621        CANO        ANA MARIA  2.611561e+11   \n",
       "1  27100460713  10046071    D'ANGELO       ROSA HILDA  3.511563e+11   \n",
       "2  27100836373  10083637      ROMERO     MARTA ALICIA  1.115378e+11   \n",
       "3  20100858666  10085866      CHAVEZ   JUAN CRISOTOMO  1.115319e+11   \n",
       "4  20101171176  10117117  FILIPPAZZO  ERNESTO ROBERTO  1.115504e+11   \n",
       "\n",
       "  PROPIETARIO_DATO PROVEEDOR_DATO         TIPO   SUBTIPO  \n",
       "0           Propio           ZERT  TEL.CELULAR  PERSONAL  \n",
       "1           Propio           ZERT  TEL.CELULAR  PERSONAL  \n",
       "2           Propio           ZERT  TEL.CELULAR  PERSONAL  \n",
       "3           Propio           ZERT  TEL.CELULAR  PERSONAL  \n",
       "4           Propio           ZERT  TEL.CELULAR  PERSONAL  "
      ]
     },
     "execution_count": 39,
     "metadata": {},
     "output_type": "execute_result"
    }
   ],
   "source": [
    "df_clean.head()"
   ]
  },
  {
   "cell_type": "markdown",
   "metadata": {},
   "source": [
    "# 9) Columna Score"
   ]
  },
  {
   "cell_type": "markdown",
   "metadata": {},
   "source": [
    "El campo **Score** se construye en función de los datos obtenidos:\n",
    "\n",
    "- Nivel 4: Dato que otorga la propia persona.\n",
    "- Nivel 3: Dato que otorgan los clientes (los bancos).\n",
    "- Nivel 2: Dato que otorga un proveedor externo (Informes Digitales en este caso), con subtipo \"Personal\".\n",
    "- Nivel 1: Dato que otorga un proveedor externo, pero tiene como subtipo \"Laboral\"."
   ]
  },
  {
   "cell_type": "code",
   "execution_count": 40,
   "metadata": {},
   "outputs": [],
   "source": [
    "# Nivel 1: Laboral, proveedor externo.\n",
    "\n",
    "df_clean.loc[(df_clean['SUBTIPO'] == 'LABORAL') , 'SCORE_DATO'] = 1"
   ]
  },
  {
   "cell_type": "code",
   "execution_count": 41,
   "metadata": {},
   "outputs": [],
   "source": [
    "# Nivel 2: Personal, proveedor externo.\n",
    "\n",
    "df_clean.loc[(df_clean['SUBTIPO'] == 'PERSONAL') , 'SCORE_DATO'] = 2"
   ]
  },
  {
   "cell_type": "code",
   "execution_count": 42,
   "metadata": {},
   "outputs": [
    {
     "data": {
      "text/html": [
       "<div>\n",
       "<style scoped>\n",
       "    .dataframe tbody tr th:only-of-type {\n",
       "        vertical-align: middle;\n",
       "    }\n",
       "\n",
       "    .dataframe tbody tr th {\n",
       "        vertical-align: top;\n",
       "    }\n",
       "\n",
       "    .dataframe thead th {\n",
       "        text-align: right;\n",
       "    }\n",
       "</style>\n",
       "<table border=\"1\" class=\"dataframe\">\n",
       "  <thead>\n",
       "    <tr style=\"text-align: right;\">\n",
       "      <th></th>\n",
       "      <th>CUIT_CUIL</th>\n",
       "      <th>NRO_DOC</th>\n",
       "      <th>APELLIDO</th>\n",
       "      <th>NOMBRE</th>\n",
       "      <th>Dato</th>\n",
       "      <th>PROPIETARIO_DATO</th>\n",
       "      <th>PROVEEDOR_DATO</th>\n",
       "      <th>TIPO</th>\n",
       "      <th>SUBTIPO</th>\n",
       "      <th>SCORE_DATO</th>\n",
       "    </tr>\n",
       "  </thead>\n",
       "  <tbody>\n",
       "    <tr>\n",
       "      <th>0</th>\n",
       "      <td>27100396217</td>\n",
       "      <td>10039621</td>\n",
       "      <td>CANO</td>\n",
       "      <td>ANA MARIA</td>\n",
       "      <td>2.611561e+11</td>\n",
       "      <td>Propio</td>\n",
       "      <td>ZERT</td>\n",
       "      <td>TEL.CELULAR</td>\n",
       "      <td>PERSONAL</td>\n",
       "      <td>2.0</td>\n",
       "    </tr>\n",
       "    <tr>\n",
       "      <th>1</th>\n",
       "      <td>27100460713</td>\n",
       "      <td>10046071</td>\n",
       "      <td>D'ANGELO</td>\n",
       "      <td>ROSA HILDA</td>\n",
       "      <td>3.511563e+11</td>\n",
       "      <td>Propio</td>\n",
       "      <td>ZERT</td>\n",
       "      <td>TEL.CELULAR</td>\n",
       "      <td>PERSONAL</td>\n",
       "      <td>2.0</td>\n",
       "    </tr>\n",
       "    <tr>\n",
       "      <th>2</th>\n",
       "      <td>27100836373</td>\n",
       "      <td>10083637</td>\n",
       "      <td>ROMERO</td>\n",
       "      <td>MARTA ALICIA</td>\n",
       "      <td>1.115378e+11</td>\n",
       "      <td>Propio</td>\n",
       "      <td>ZERT</td>\n",
       "      <td>TEL.CELULAR</td>\n",
       "      <td>PERSONAL</td>\n",
       "      <td>2.0</td>\n",
       "    </tr>\n",
       "    <tr>\n",
       "      <th>3</th>\n",
       "      <td>20100858666</td>\n",
       "      <td>10085866</td>\n",
       "      <td>CHAVEZ</td>\n",
       "      <td>JUAN CRISOTOMO</td>\n",
       "      <td>1.115319e+11</td>\n",
       "      <td>Propio</td>\n",
       "      <td>ZERT</td>\n",
       "      <td>TEL.CELULAR</td>\n",
       "      <td>PERSONAL</td>\n",
       "      <td>2.0</td>\n",
       "    </tr>\n",
       "    <tr>\n",
       "      <th>4</th>\n",
       "      <td>20101171176</td>\n",
       "      <td>10117117</td>\n",
       "      <td>FILIPPAZZO</td>\n",
       "      <td>ERNESTO ROBERTO</td>\n",
       "      <td>1.115504e+11</td>\n",
       "      <td>Propio</td>\n",
       "      <td>ZERT</td>\n",
       "      <td>TEL.CELULAR</td>\n",
       "      <td>PERSONAL</td>\n",
       "      <td>2.0</td>\n",
       "    </tr>\n",
       "  </tbody>\n",
       "</table>\n",
       "</div>"
      ],
      "text/plain": [
       "     CUIT_CUIL   NRO_DOC    APELLIDO           NOMBRE          Dato  \\\n",
       "0  27100396217  10039621        CANO        ANA MARIA  2.611561e+11   \n",
       "1  27100460713  10046071    D'ANGELO       ROSA HILDA  3.511563e+11   \n",
       "2  27100836373  10083637      ROMERO     MARTA ALICIA  1.115378e+11   \n",
       "3  20100858666  10085866      CHAVEZ   JUAN CRISOTOMO  1.115319e+11   \n",
       "4  20101171176  10117117  FILIPPAZZO  ERNESTO ROBERTO  1.115504e+11   \n",
       "\n",
       "  PROPIETARIO_DATO PROVEEDOR_DATO         TIPO   SUBTIPO  SCORE_DATO  \n",
       "0           Propio           ZERT  TEL.CELULAR  PERSONAL         2.0  \n",
       "1           Propio           ZERT  TEL.CELULAR  PERSONAL         2.0  \n",
       "2           Propio           ZERT  TEL.CELULAR  PERSONAL         2.0  \n",
       "3           Propio           ZERT  TEL.CELULAR  PERSONAL         2.0  \n",
       "4           Propio           ZERT  TEL.CELULAR  PERSONAL         2.0  "
      ]
     },
     "execution_count": 42,
     "metadata": {},
     "output_type": "execute_result"
    }
   ],
   "source": [
    "df_clean.head()"
   ]
  },
  {
   "cell_type": "markdown",
   "metadata": {},
   "source": [
    "# 10) Columna Fecha"
   ]
  },
  {
   "cell_type": "markdown",
   "metadata": {},
   "source": [
    "Para el campo FECHA_INGRESO_DATO, usamos la fecha en la que se hace la inserción de los datos:"
   ]
  },
  {
   "cell_type": "code",
   "execution_count": 43,
   "metadata": {},
   "outputs": [],
   "source": [
    "fecha_ingreso = pd.to_datetime('today')"
   ]
  },
  {
   "cell_type": "code",
   "execution_count": 44,
   "metadata": {},
   "outputs": [],
   "source": [
    "df_clean = df_clean.assign(FECHA_INGRESO_DATO=fecha_ingreso)"
   ]
  },
  {
   "cell_type": "code",
   "execution_count": 45,
   "metadata": {
    "scrolled": true
   },
   "outputs": [
    {
     "data": {
      "text/html": [
       "<div>\n",
       "<style scoped>\n",
       "    .dataframe tbody tr th:only-of-type {\n",
       "        vertical-align: middle;\n",
       "    }\n",
       "\n",
       "    .dataframe tbody tr th {\n",
       "        vertical-align: top;\n",
       "    }\n",
       "\n",
       "    .dataframe thead th {\n",
       "        text-align: right;\n",
       "    }\n",
       "</style>\n",
       "<table border=\"1\" class=\"dataframe\">\n",
       "  <thead>\n",
       "    <tr style=\"text-align: right;\">\n",
       "      <th></th>\n",
       "      <th>CUIT_CUIL</th>\n",
       "      <th>NRO_DOC</th>\n",
       "      <th>APELLIDO</th>\n",
       "      <th>NOMBRE</th>\n",
       "      <th>Dato</th>\n",
       "      <th>PROPIETARIO_DATO</th>\n",
       "      <th>PROVEEDOR_DATO</th>\n",
       "      <th>TIPO</th>\n",
       "      <th>SUBTIPO</th>\n",
       "      <th>SCORE_DATO</th>\n",
       "      <th>FECHA_INGRESO_DATO</th>\n",
       "    </tr>\n",
       "  </thead>\n",
       "  <tbody>\n",
       "    <tr>\n",
       "      <th>0</th>\n",
       "      <td>27100396217</td>\n",
       "      <td>10039621</td>\n",
       "      <td>CANO</td>\n",
       "      <td>ANA MARIA</td>\n",
       "      <td>2.611561e+11</td>\n",
       "      <td>Propio</td>\n",
       "      <td>ZERT</td>\n",
       "      <td>TEL.CELULAR</td>\n",
       "      <td>PERSONAL</td>\n",
       "      <td>2.0</td>\n",
       "      <td>2021-08-27 11:46:36.410642</td>\n",
       "    </tr>\n",
       "    <tr>\n",
       "      <th>1</th>\n",
       "      <td>27100460713</td>\n",
       "      <td>10046071</td>\n",
       "      <td>D'ANGELO</td>\n",
       "      <td>ROSA HILDA</td>\n",
       "      <td>3.511563e+11</td>\n",
       "      <td>Propio</td>\n",
       "      <td>ZERT</td>\n",
       "      <td>TEL.CELULAR</td>\n",
       "      <td>PERSONAL</td>\n",
       "      <td>2.0</td>\n",
       "      <td>2021-08-27 11:46:36.410642</td>\n",
       "    </tr>\n",
       "    <tr>\n",
       "      <th>2</th>\n",
       "      <td>27100836373</td>\n",
       "      <td>10083637</td>\n",
       "      <td>ROMERO</td>\n",
       "      <td>MARTA ALICIA</td>\n",
       "      <td>1.115378e+11</td>\n",
       "      <td>Propio</td>\n",
       "      <td>ZERT</td>\n",
       "      <td>TEL.CELULAR</td>\n",
       "      <td>PERSONAL</td>\n",
       "      <td>2.0</td>\n",
       "      <td>2021-08-27 11:46:36.410642</td>\n",
       "    </tr>\n",
       "    <tr>\n",
       "      <th>3</th>\n",
       "      <td>20100858666</td>\n",
       "      <td>10085866</td>\n",
       "      <td>CHAVEZ</td>\n",
       "      <td>JUAN CRISOTOMO</td>\n",
       "      <td>1.115319e+11</td>\n",
       "      <td>Propio</td>\n",
       "      <td>ZERT</td>\n",
       "      <td>TEL.CELULAR</td>\n",
       "      <td>PERSONAL</td>\n",
       "      <td>2.0</td>\n",
       "      <td>2021-08-27 11:46:36.410642</td>\n",
       "    </tr>\n",
       "    <tr>\n",
       "      <th>4</th>\n",
       "      <td>20101171176</td>\n",
       "      <td>10117117</td>\n",
       "      <td>FILIPPAZZO</td>\n",
       "      <td>ERNESTO ROBERTO</td>\n",
       "      <td>1.115504e+11</td>\n",
       "      <td>Propio</td>\n",
       "      <td>ZERT</td>\n",
       "      <td>TEL.CELULAR</td>\n",
       "      <td>PERSONAL</td>\n",
       "      <td>2.0</td>\n",
       "      <td>2021-08-27 11:46:36.410642</td>\n",
       "    </tr>\n",
       "  </tbody>\n",
       "</table>\n",
       "</div>"
      ],
      "text/plain": [
       "     CUIT_CUIL   NRO_DOC    APELLIDO           NOMBRE          Dato  \\\n",
       "0  27100396217  10039621        CANO        ANA MARIA  2.611561e+11   \n",
       "1  27100460713  10046071    D'ANGELO       ROSA HILDA  3.511563e+11   \n",
       "2  27100836373  10083637      ROMERO     MARTA ALICIA  1.115378e+11   \n",
       "3  20100858666  10085866      CHAVEZ   JUAN CRISOTOMO  1.115319e+11   \n",
       "4  20101171176  10117117  FILIPPAZZO  ERNESTO ROBERTO  1.115504e+11   \n",
       "\n",
       "  PROPIETARIO_DATO PROVEEDOR_DATO         TIPO   SUBTIPO  SCORE_DATO  \\\n",
       "0           Propio           ZERT  TEL.CELULAR  PERSONAL         2.0   \n",
       "1           Propio           ZERT  TEL.CELULAR  PERSONAL         2.0   \n",
       "2           Propio           ZERT  TEL.CELULAR  PERSONAL         2.0   \n",
       "3           Propio           ZERT  TEL.CELULAR  PERSONAL         2.0   \n",
       "4           Propio           ZERT  TEL.CELULAR  PERSONAL         2.0   \n",
       "\n",
       "          FECHA_INGRESO_DATO  \n",
       "0 2021-08-27 11:46:36.410642  \n",
       "1 2021-08-27 11:46:36.410642  \n",
       "2 2021-08-27 11:46:36.410642  \n",
       "3 2021-08-27 11:46:36.410642  \n",
       "4 2021-08-27 11:46:36.410642  "
      ]
     },
     "execution_count": 45,
     "metadata": {},
     "output_type": "execute_result"
    }
   ],
   "source": [
    "df_clean.head()"
   ]
  },
  {
   "cell_type": "markdown",
   "metadata": {},
   "source": [
    "# 11) Campos adicionales"
   ]
  },
  {
   "cell_type": "markdown",
   "metadata": {},
   "source": [
    "Creamos las columnas VERIFICADO, FECHA_VERIFICACION, OPERADOR_VERIFICACION, que en principio van en nulls."
   ]
  },
  {
   "cell_type": "code",
   "execution_count": 46,
   "metadata": {},
   "outputs": [],
   "source": [
    "df_clean['VERIFICADO'] = 0"
   ]
  },
  {
   "cell_type": "code",
   "execution_count": 47,
   "metadata": {},
   "outputs": [],
   "source": [
    "df_clean['FECHA_VERIFICACION'] = np.nan"
   ]
  },
  {
   "cell_type": "code",
   "execution_count": 48,
   "metadata": {},
   "outputs": [],
   "source": [
    "df_clean['OPERADOR_VERIFICACION'] = np.nan"
   ]
  },
  {
   "cell_type": "markdown",
   "metadata": {},
   "source": [
    "# 12) Concatenación con .csv enviado "
   ]
  },
  {
   "cell_type": "markdown",
   "metadata": {},
   "source": [
    "Vamos a concatenar nuestro dataframe con el dataframe enviado para enriquecer. Para esto, vamos a hacer una limpieza inicial de cómo se enviaron esos datos. Finalmente, se uniran ambos dataframes por __DNI__."
   ]
  },
  {
   "cell_type": "markdown",
   "metadata": {},
   "source": [
    "## 12.1) Dataset"
   ]
  },
  {
   "cell_type": "markdown",
   "metadata": {},
   "source": [
    "Vamos a analizar y limpiar el dataset enviado para el enriquecimiento:"
   ]
  },
  {
   "cell_type": "code",
   "execution_count": 49,
   "metadata": {},
   "outputs": [],
   "source": [
    "df_pyp = pd.read_csv('Datos_Enriquecimiento.csv')"
   ]
  },
  {
   "cell_type": "code",
   "execution_count": 50,
   "metadata": {},
   "outputs": [
    {
     "data": {
      "text/plain": [
       "(20110, 8)"
      ]
     },
     "execution_count": 50,
     "metadata": {},
     "output_type": "execute_result"
    }
   ],
   "source": [
    "df_pyp.shape"
   ]
  },
  {
   "cell_type": "markdown",
   "metadata": {},
   "source": [
    "Creamos una columna que contenga IDMOROSO + DATOADIC según corresponda"
   ]
  },
  {
   "cell_type": "code",
   "execution_count": 51,
   "metadata": {},
   "outputs": [
    {
     "data": {
      "text/html": [
       "<div>\n",
       "<style scoped>\n",
       "    .dataframe tbody tr th:only-of-type {\n",
       "        vertical-align: middle;\n",
       "    }\n",
       "\n",
       "    .dataframe tbody tr th {\n",
       "        vertical-align: top;\n",
       "    }\n",
       "\n",
       "    .dataframe thead th {\n",
       "        text-align: right;\n",
       "    }\n",
       "</style>\n",
       "<table border=\"1\" class=\"dataframe\">\n",
       "  <thead>\n",
       "    <tr style=\"text-align: right;\">\n",
       "      <th></th>\n",
       "      <th>IDMOROSO</th>\n",
       "      <th>NOMBRE</th>\n",
       "      <th>IDCLIENTE</th>\n",
       "      <th>ESTADO</th>\n",
       "      <th>FILTROA</th>\n",
       "      <th>DATOADIC</th>\n",
       "      <th>DOCUMENTO</th>\n",
       "      <th>TIPO</th>\n",
       "    </tr>\n",
       "  </thead>\n",
       "  <tbody>\n",
       "    <tr>\n",
       "      <th>0</th>\n",
       "      <td>CI  62933702</td>\n",
       "      <td>JOSE LUIS,FERNANDEZ FERNANDEZ</td>\n",
       "      <td>BSR_TARDIA</td>\n",
       "      <td>EN GESTION_PORTAL</td>\n",
       "      <td>Campana Extrajud Emp</td>\n",
       "      <td></td>\n",
       "      <td>CI62933702</td>\n",
       "      <td>CUIT</td>\n",
       "    </tr>\n",
       "    <tr>\n",
       "      <th>1</th>\n",
       "      <td>CUIT30607032978</td>\n",
       "      <td>,MARCOS FERNANDEZ SRL</td>\n",
       "      <td>BSR_TARDIA</td>\n",
       "      <td>EN GESTION_PORTAL</td>\n",
       "      <td>Campana Extrajud Emp</td>\n",
       "      <td>30607032978</td>\n",
       "      <td>30607032978</td>\n",
       "      <td>CUIT</td>\n",
       "    </tr>\n",
       "    <tr>\n",
       "      <th>2</th>\n",
       "      <td>CUIT30698087648</td>\n",
       "      <td>,ITACUA CONSTRUCCIONES SRL</td>\n",
       "      <td>BSR_TARDIA</td>\n",
       "      <td>NO UBICADO</td>\n",
       "      <td>Campana Extrajud Emp</td>\n",
       "      <td>30698087648</td>\n",
       "      <td>30698087648</td>\n",
       "      <td>CUIT</td>\n",
       "    </tr>\n",
       "    <tr>\n",
       "      <th>3</th>\n",
       "      <td>CUIT30703557674</td>\n",
       "      <td>,IONES COMUNICACIONES SRL</td>\n",
       "      <td>BSR_TARDIA</td>\n",
       "      <td>NO UBICADO</td>\n",
       "      <td>Campana Extrajud Emp</td>\n",
       "      <td>30703557674</td>\n",
       "      <td>30703557674</td>\n",
       "      <td>CUIT</td>\n",
       "    </tr>\n",
       "    <tr>\n",
       "      <th>4</th>\n",
       "      <td>CUIT30707047085</td>\n",
       "      <td>,PATER SHOW SRL</td>\n",
       "      <td>BSR_TARDIA</td>\n",
       "      <td>NO UBICADO</td>\n",
       "      <td>Campana Extrajud Emp</td>\n",
       "      <td>30707047085</td>\n",
       "      <td>30707047085</td>\n",
       "      <td>CUIT</td>\n",
       "    </tr>\n",
       "  </tbody>\n",
       "</table>\n",
       "</div>"
      ],
      "text/plain": [
       "          IDMOROSO                                    NOMBRE  \\\n",
       "0     CI  62933702  JOSE LUIS,FERNANDEZ FERNANDEZ              \n",
       "1  CUIT30607032978  ,MARCOS FERNANDEZ SRL                      \n",
       "2  CUIT30698087648  ,ITACUA CONSTRUCCIONES SRL                 \n",
       "3  CUIT30703557674  ,IONES COMUNICACIONES SRL                  \n",
       "4  CUIT30707047085  ,PATER SHOW SRL                            \n",
       "\n",
       "              IDCLIENTE                ESTADO               FILTROA  \\\n",
       "0  BSR_TARDIA            EN GESTION_PORTAL     Campana Extrajud Emp   \n",
       "1  BSR_TARDIA            EN GESTION_PORTAL     Campana Extrajud Emp   \n",
       "2  BSR_TARDIA            NO UBICADO            Campana Extrajud Emp   \n",
       "3  BSR_TARDIA            NO UBICADO            Campana Extrajud Emp   \n",
       "4  BSR_TARDIA            NO UBICADO            Campana Extrajud Emp   \n",
       "\n",
       "                         DATOADIC    DOCUMENTO  TIPO  \n",
       "0                                   CI62933702  CUIT  \n",
       "1  30607032978                     30607032978  CUIT  \n",
       "2  30698087648                     30698087648  CUIT  \n",
       "3  30703557674                     30703557674  CUIT  \n",
       "4  30707047085                     30707047085  CUIT  "
      ]
     },
     "execution_count": 51,
     "metadata": {},
     "output_type": "execute_result"
    }
   ],
   "source": [
    "df_pyp.head()"
   ]
  },
  {
   "cell_type": "code",
   "execution_count": 52,
   "metadata": {},
   "outputs": [],
   "source": [
    "df_pyp.loc[(df_pyp['IDCLIENTE'].str.startswith('AMEX')) , 'NRO_DOC'] = df_pyp['DATOADIC']\n",
    "df_pyp.loc[(~df_pyp['IDCLIENTE'].str.startswith('AMEX')) , 'NRO_DOC'] = df_pyp['IDMOROSO']\n",
    "#df_pyp ['NRO_DOC'] = df_pyp ['IDMOROSO']"
   ]
  },
  {
   "cell_type": "code",
   "execution_count": 53,
   "metadata": {
    "scrolled": true
   },
   "outputs": [
    {
     "data": {
      "text/html": [
       "<div>\n",
       "<style scoped>\n",
       "    .dataframe tbody tr th:only-of-type {\n",
       "        vertical-align: middle;\n",
       "    }\n",
       "\n",
       "    .dataframe tbody tr th {\n",
       "        vertical-align: top;\n",
       "    }\n",
       "\n",
       "    .dataframe thead th {\n",
       "        text-align: right;\n",
       "    }\n",
       "</style>\n",
       "<table border=\"1\" class=\"dataframe\">\n",
       "  <thead>\n",
       "    <tr style=\"text-align: right;\">\n",
       "      <th></th>\n",
       "      <th>IDMOROSO</th>\n",
       "      <th>NOMBRE</th>\n",
       "      <th>IDCLIENTE</th>\n",
       "      <th>ESTADO</th>\n",
       "      <th>FILTROA</th>\n",
       "      <th>DATOADIC</th>\n",
       "      <th>DOCUMENTO</th>\n",
       "      <th>TIPO</th>\n",
       "      <th>NRO_DOC</th>\n",
       "    </tr>\n",
       "  </thead>\n",
       "  <tbody>\n",
       "    <tr>\n",
       "      <th>0</th>\n",
       "      <td>CI  62933702</td>\n",
       "      <td>JOSE LUIS,FERNANDEZ FERNANDEZ</td>\n",
       "      <td>BSR_TARDIA</td>\n",
       "      <td>EN GESTION_PORTAL</td>\n",
       "      <td>Campana Extrajud Emp</td>\n",
       "      <td></td>\n",
       "      <td>CI62933702</td>\n",
       "      <td>CUIT</td>\n",
       "      <td>CI  62933702</td>\n",
       "    </tr>\n",
       "    <tr>\n",
       "      <th>1</th>\n",
       "      <td>CUIT30607032978</td>\n",
       "      <td>,MARCOS FERNANDEZ SRL</td>\n",
       "      <td>BSR_TARDIA</td>\n",
       "      <td>EN GESTION_PORTAL</td>\n",
       "      <td>Campana Extrajud Emp</td>\n",
       "      <td>30607032978</td>\n",
       "      <td>30607032978</td>\n",
       "      <td>CUIT</td>\n",
       "      <td>CUIT30607032978</td>\n",
       "    </tr>\n",
       "    <tr>\n",
       "      <th>2</th>\n",
       "      <td>CUIT30698087648</td>\n",
       "      <td>,ITACUA CONSTRUCCIONES SRL</td>\n",
       "      <td>BSR_TARDIA</td>\n",
       "      <td>NO UBICADO</td>\n",
       "      <td>Campana Extrajud Emp</td>\n",
       "      <td>30698087648</td>\n",
       "      <td>30698087648</td>\n",
       "      <td>CUIT</td>\n",
       "      <td>CUIT30698087648</td>\n",
       "    </tr>\n",
       "    <tr>\n",
       "      <th>3</th>\n",
       "      <td>CUIT30703557674</td>\n",
       "      <td>,IONES COMUNICACIONES SRL</td>\n",
       "      <td>BSR_TARDIA</td>\n",
       "      <td>NO UBICADO</td>\n",
       "      <td>Campana Extrajud Emp</td>\n",
       "      <td>30703557674</td>\n",
       "      <td>30703557674</td>\n",
       "      <td>CUIT</td>\n",
       "      <td>CUIT30703557674</td>\n",
       "    </tr>\n",
       "    <tr>\n",
       "      <th>4</th>\n",
       "      <td>CUIT30707047085</td>\n",
       "      <td>,PATER SHOW SRL</td>\n",
       "      <td>BSR_TARDIA</td>\n",
       "      <td>NO UBICADO</td>\n",
       "      <td>Campana Extrajud Emp</td>\n",
       "      <td>30707047085</td>\n",
       "      <td>30707047085</td>\n",
       "      <td>CUIT</td>\n",
       "      <td>CUIT30707047085</td>\n",
       "    </tr>\n",
       "  </tbody>\n",
       "</table>\n",
       "</div>"
      ],
      "text/plain": [
       "          IDMOROSO                                    NOMBRE  \\\n",
       "0     CI  62933702  JOSE LUIS,FERNANDEZ FERNANDEZ              \n",
       "1  CUIT30607032978  ,MARCOS FERNANDEZ SRL                      \n",
       "2  CUIT30698087648  ,ITACUA CONSTRUCCIONES SRL                 \n",
       "3  CUIT30703557674  ,IONES COMUNICACIONES SRL                  \n",
       "4  CUIT30707047085  ,PATER SHOW SRL                            \n",
       "\n",
       "              IDCLIENTE                ESTADO               FILTROA  \\\n",
       "0  BSR_TARDIA            EN GESTION_PORTAL     Campana Extrajud Emp   \n",
       "1  BSR_TARDIA            EN GESTION_PORTAL     Campana Extrajud Emp   \n",
       "2  BSR_TARDIA            NO UBICADO            Campana Extrajud Emp   \n",
       "3  BSR_TARDIA            NO UBICADO            Campana Extrajud Emp   \n",
       "4  BSR_TARDIA            NO UBICADO            Campana Extrajud Emp   \n",
       "\n",
       "                         DATOADIC    DOCUMENTO  TIPO          NRO_DOC  \n",
       "0                                   CI62933702  CUIT     CI  62933702  \n",
       "1  30607032978                     30607032978  CUIT  CUIT30607032978  \n",
       "2  30698087648                     30698087648  CUIT  CUIT30698087648  \n",
       "3  30703557674                     30703557674  CUIT  CUIT30703557674  \n",
       "4  30707047085                     30707047085  CUIT  CUIT30707047085  "
      ]
     },
     "execution_count": 53,
     "metadata": {},
     "output_type": "execute_result"
    }
   ],
   "source": [
    "df_pyp.head()"
   ]
  },
  {
   "cell_type": "code",
   "execution_count": 54,
   "metadata": {},
   "outputs": [],
   "source": [
    "#df_pyp = df_pyp [['IDMOROSO','NOMBRE','IDCLIENTE','NRO_DOC']]\n",
    "df_pyp = df_pyp [['IDMOROSO','IDCLIENTE','NRO_DOC']]"
   ]
  },
  {
   "cell_type": "code",
   "execution_count": 55,
   "metadata": {
    "scrolled": true
   },
   "outputs": [
    {
     "data": {
      "text/html": [
       "<div>\n",
       "<style scoped>\n",
       "    .dataframe tbody tr th:only-of-type {\n",
       "        vertical-align: middle;\n",
       "    }\n",
       "\n",
       "    .dataframe tbody tr th {\n",
       "        vertical-align: top;\n",
       "    }\n",
       "\n",
       "    .dataframe thead th {\n",
       "        text-align: right;\n",
       "    }\n",
       "</style>\n",
       "<table border=\"1\" class=\"dataframe\">\n",
       "  <thead>\n",
       "    <tr style=\"text-align: right;\">\n",
       "      <th></th>\n",
       "      <th>IDMOROSO</th>\n",
       "      <th>IDCLIENTE</th>\n",
       "      <th>NRO_DOC</th>\n",
       "    </tr>\n",
       "  </thead>\n",
       "  <tbody>\n",
       "    <tr>\n",
       "      <th>0</th>\n",
       "      <td>CI  62933702</td>\n",
       "      <td>BSR_TARDIA</td>\n",
       "      <td>CI  62933702</td>\n",
       "    </tr>\n",
       "    <tr>\n",
       "      <th>1</th>\n",
       "      <td>CUIT30607032978</td>\n",
       "      <td>BSR_TARDIA</td>\n",
       "      <td>CUIT30607032978</td>\n",
       "    </tr>\n",
       "    <tr>\n",
       "      <th>2</th>\n",
       "      <td>CUIT30698087648</td>\n",
       "      <td>BSR_TARDIA</td>\n",
       "      <td>CUIT30698087648</td>\n",
       "    </tr>\n",
       "    <tr>\n",
       "      <th>3</th>\n",
       "      <td>CUIT30703557674</td>\n",
       "      <td>BSR_TARDIA</td>\n",
       "      <td>CUIT30703557674</td>\n",
       "    </tr>\n",
       "    <tr>\n",
       "      <th>4</th>\n",
       "      <td>CUIT30707047085</td>\n",
       "      <td>BSR_TARDIA</td>\n",
       "      <td>CUIT30707047085</td>\n",
       "    </tr>\n",
       "  </tbody>\n",
       "</table>\n",
       "</div>"
      ],
      "text/plain": [
       "          IDMOROSO             IDCLIENTE          NRO_DOC\n",
       "0     CI  62933702  BSR_TARDIA               CI  62933702\n",
       "1  CUIT30607032978  BSR_TARDIA            CUIT30607032978\n",
       "2  CUIT30698087648  BSR_TARDIA            CUIT30698087648\n",
       "3  CUIT30703557674  BSR_TARDIA            CUIT30703557674\n",
       "4  CUIT30707047085  BSR_TARDIA            CUIT30707047085"
      ]
     },
     "execution_count": 55,
     "metadata": {},
     "output_type": "execute_result"
    }
   ],
   "source": [
    "df_pyp.head()"
   ]
  },
  {
   "cell_type": "code",
   "execution_count": 56,
   "metadata": {},
   "outputs": [],
   "source": [
    "df_pyp = df_pyp.dropna(subset=['NRO_DOC'])"
   ]
  },
  {
   "cell_type": "code",
   "execution_count": 57,
   "metadata": {},
   "outputs": [
    {
     "data": {
      "text/html": [
       "<div>\n",
       "<style scoped>\n",
       "    .dataframe tbody tr th:only-of-type {\n",
       "        vertical-align: middle;\n",
       "    }\n",
       "\n",
       "    .dataframe tbody tr th {\n",
       "        vertical-align: top;\n",
       "    }\n",
       "\n",
       "    .dataframe thead th {\n",
       "        text-align: right;\n",
       "    }\n",
       "</style>\n",
       "<table border=\"1\" class=\"dataframe\">\n",
       "  <thead>\n",
       "    <tr style=\"text-align: right;\">\n",
       "      <th></th>\n",
       "      <th>IDMOROSO</th>\n",
       "      <th>IDCLIENTE</th>\n",
       "      <th>NRO_DOC</th>\n",
       "    </tr>\n",
       "  </thead>\n",
       "  <tbody>\n",
       "    <tr>\n",
       "      <th>20105</th>\n",
       "      <td>LE  6305211</td>\n",
       "      <td>FRANCES_2012</td>\n",
       "      <td>LE  6305211</td>\n",
       "    </tr>\n",
       "    <tr>\n",
       "      <th>20106</th>\n",
       "      <td>LE  6305512</td>\n",
       "      <td>FRANCES_2012</td>\n",
       "      <td>LE  6305512</td>\n",
       "    </tr>\n",
       "    <tr>\n",
       "      <th>20107</th>\n",
       "      <td>LE  6434675</td>\n",
       "      <td>FRANCES_2012</td>\n",
       "      <td>LE  6434675</td>\n",
       "    </tr>\n",
       "    <tr>\n",
       "      <th>20108</th>\n",
       "      <td>LE  6852994</td>\n",
       "      <td>FRANCES_2012</td>\n",
       "      <td>LE  6852994</td>\n",
       "    </tr>\n",
       "    <tr>\n",
       "      <th>20109</th>\n",
       "      <td>LE  7007498</td>\n",
       "      <td>FRANCES_2012</td>\n",
       "      <td>LE  7007498</td>\n",
       "    </tr>\n",
       "  </tbody>\n",
       "</table>\n",
       "</div>"
      ],
      "text/plain": [
       "          IDMOROSO             IDCLIENTE      NRO_DOC\n",
       "20105  LE  6305211  FRANCES_2012          LE  6305211\n",
       "20106  LE  6305512  FRANCES_2012          LE  6305512\n",
       "20107  LE  6434675  FRANCES_2012          LE  6434675\n",
       "20108  LE  6852994  FRANCES_2012          LE  6852994\n",
       "20109  LE  7007498  FRANCES_2012          LE  7007498"
      ]
     },
     "execution_count": 57,
     "metadata": {},
     "output_type": "execute_result"
    }
   ],
   "source": [
    "df_pyp.tail()"
   ]
  },
  {
   "cell_type": "markdown",
   "metadata": {},
   "source": [
    "## 12.2) DNI Cleaning"
   ]
  },
  {
   "cell_type": "markdown",
   "metadata": {},
   "source": [
    "Limpiamos el dataframe __df_pyp__, ya que dentro de DATO_A_ENVIAR tenemos 9 tipos de casos diferentes de datos:\n",
    "\n",
    "- DNI 12345678\n",
    "- DNI12345678\n",
    "- DNIE1234678\n",
    "- LC  1234567\n",
    "- LE  1234567\n",
    "- CUIT00123456780\n",
    "- 00123456780 --> Es un CUIT.\n",
    "- 00 12345678 0 --> Es un CUIT.\n",
    "- DNI 00123456780 --> Dice DNI pero es un CUIT de una persona __jurídica__ (TO DO)"
   ]
  },
  {
   "cell_type": "markdown",
   "metadata": {},
   "source": [
    "Para eso definimos 5 funciones:\n",
    "\n",
    "- __Tipo_DOC__: Se definen dos funciones para determinar el tipo de DNI. Una inicial, y otra para corregir sobre el dataframe resultante.\n",
    "- __Standard DNI__: Estandariza los DNI para 7 de los casos. Esta función debe ejecutarse en primer lugar.\n",
    "- __DNI Spaces__: Elimina los espacios.\n",
    "- __DNI Zero__: Elimina los ceros iniciales de ciertos CUITs para que coincidan con los DNI.\n",
    "- __Cuit__: Decisión sobre dejar un cuit o volverlo DNI"
   ]
  },
  {
   "cell_type": "code",
   "execution_count": 58,
   "metadata": {},
   "outputs": [],
   "source": [
    "def tipo_doc_1 (string_dni):\n",
    "    \n",
    "    if 'DNI' in string_dni:\n",
    "        tipo = 'DNI'\n",
    "    \n",
    "    elif 'LC' in string_dni:\n",
    "        tipo = 'LC'\n",
    "    \n",
    "    elif 'LE' in string_dni:\n",
    "        tipo = 'LE'\n",
    "    \n",
    "    elif 'DNIE' in string_dni:\n",
    "        tipo = 'DNIE'    \n",
    "    \n",
    "    elif ((string_dni.startswith(('CUIT30','CUIT33','CUIT34'))) & (len(string_dni)>8)):\n",
    "        tipo = 'CUIT'\n",
    "        \n",
    "    elif ((string_dni.startswith(('30','33','34'))) & (len(string_dni)>8)):\n",
    "        tipo = 'CUIT'\n",
    "\n",
    "    elif ((string_dni.startswith(('20','23','24','27'))) & (len(string_dni)>8)):\n",
    "        tipo = 'DNI'\n",
    "\n",
    "    elif ((string_dni.startswith(('CUIT20','CUIT23','CUIT24','CUIT27'))) & (len(string_dni)>8)):\n",
    "        tipo = 'DNI'\n",
    "        \n",
    "    else:\n",
    "        tipo = 'DNI'\n",
    "    \n",
    "    return tipo"
   ]
  },
  {
   "cell_type": "code",
   "execution_count": 59,
   "metadata": {},
   "outputs": [],
   "source": [
    "def tipo_doc_2 (string_dni, tipo_original):\n",
    "    \n",
    "    if (len(string_dni) > 8) & (tipo_original == 'DNI'):\n",
    "        tipo = 'CUIT'\n",
    "    else:\n",
    "        tipo = tipo_original\n",
    "    return tipo"
   ]
  },
  {
   "cell_type": "code",
   "execution_count": 60,
   "metadata": {},
   "outputs": [],
   "source": [
    "def standard_dni (string_dni):\n",
    "    \"\"\"DNI separation by each case.\n",
    "    \"\"\"\n",
    "    \n",
    "    if 'DNI ' in string_dni:\n",
    "        dni = string_dni.split('DNI ')[1]\n",
    "        \n",
    "    elif 'DNIE' in string_dni:\n",
    "        dni = string_dni.split('DNIE')[1]\n",
    "    \n",
    "    elif 'DNI' in string_dni:\n",
    "        dni = string_dni.split('DNI')[1]\n",
    "    \n",
    "    elif 'LC  ' in string_dni:\n",
    "        dni = string_dni.split('LC  ')[1]\n",
    "    \n",
    "    elif 'LE  ' in string_dni:\n",
    "        dni = string_dni.split('LE  ')[1]\n",
    "    \n",
    "    elif 'CUIT' in string_dni:\n",
    "        dni = string_dni.split('CUIT')[1]\n",
    "        \n",
    "    else:\n",
    "        dni = string_dni\n",
    "        \n",
    "    return dni"
   ]
  },
  {
   "cell_type": "code",
   "execution_count": 61,
   "metadata": {},
   "outputs": [],
   "source": [
    "def dni_characters (string_dni):\n",
    "    \n",
    "    if ' ' in string_dni:\n",
    "        dni = string_dni.replace(' ','')\n",
    "        \n",
    "    elif '-' in string_dni:\n",
    "        dni = string_dni.replace('-','')\n",
    "\n",
    "    else:\n",
    "        dni = string_dni\n",
    "    \n",
    "    return dni"
   ]
  },
  {
   "cell_type": "code",
   "execution_count": 62,
   "metadata": {},
   "outputs": [],
   "source": [
    "def cuit (string_dni):\n",
    "    \n",
    "    if ((string_dni.startswith('20')) & (len(string_dni)>8)):\n",
    "        cuit = string_dni [2:-1]\n",
    "        \n",
    "    elif ((string_dni.startswith('23')) & (len(string_dni)>8)):\n",
    "        cuit = string_dni [2:-1]\n",
    "        \n",
    "    elif ((string_dni.startswith('24')) & (len(string_dni)>8)):\n",
    "        cuit = string_dni [2:-1]\n",
    "\n",
    "    elif ((string_dni.startswith('27')) & (len(string_dni)>8)):\n",
    "        cuit = string_dni [2:-1]\n",
    "\n",
    "    else:\n",
    "        cuit = string_dni\n",
    "        \n",
    "    return cuit"
   ]
  },
  {
   "cell_type": "code",
   "execution_count": 63,
   "metadata": {},
   "outputs": [],
   "source": [
    "def dni_zero (string_dni):\n",
    "    \n",
    "    if string_dni.startswith('0'):\n",
    "        dni = string_dni [1:]\n",
    "\n",
    "    else:\n",
    "        dni = string_dni\n",
    "    \n",
    "    return dni"
   ]
  },
  {
   "cell_type": "markdown",
   "metadata": {},
   "source": [
    "En primer lugar, trimmeamos los espacios que sobran:"
   ]
  },
  {
   "cell_type": "code",
   "execution_count": 64,
   "metadata": {},
   "outputs": [],
   "source": [
    "df_pyp['NRO_DOC'] = [(str(df_pyp['NRO_DOC'][i]).strip()) for i in range (df_pyp['NRO_DOC'].count())]"
   ]
  },
  {
   "cell_type": "markdown",
   "metadata": {},
   "source": [
    "Se implementan estas funciones:"
   ]
  },
  {
   "cell_type": "markdown",
   "metadata": {},
   "source": [
    "Para determinar el __TIPO DE DOCUMENTO__ en primer lugar:"
   ]
  },
  {
   "cell_type": "code",
   "execution_count": 65,
   "metadata": {},
   "outputs": [],
   "source": [
    "df_pyp['TIPO_DOC'] = [tipo_doc_1(df_pyp['NRO_DOC'][i]) for i in range (df_pyp['NRO_DOC'].count())]"
   ]
  },
  {
   "cell_type": "markdown",
   "metadata": {},
   "source": [
    "Para la limpieza de DNIs:"
   ]
  },
  {
   "cell_type": "code",
   "execution_count": 66,
   "metadata": {},
   "outputs": [],
   "source": [
    "df_pyp['NRO_DOC'] = [standard_dni(df_pyp['NRO_DOC'][i]) for i in range (df_pyp['NRO_DOC'].count())]"
   ]
  },
  {
   "cell_type": "code",
   "execution_count": 67,
   "metadata": {},
   "outputs": [],
   "source": [
    "df_pyp['NRO_DOC'] = [dni_characters(df_pyp['NRO_DOC'][i]) for i in range (df_pyp['NRO_DOC'].count())]"
   ]
  },
  {
   "cell_type": "code",
   "execution_count": 68,
   "metadata": {},
   "outputs": [],
   "source": [
    "df_pyp['NRO_DOC'] = [cuit(df_pyp['NRO_DOC'][i]) for i in range (df_pyp['NRO_DOC'].count())]"
   ]
  },
  {
   "cell_type": "code",
   "execution_count": 69,
   "metadata": {},
   "outputs": [],
   "source": [
    "df_pyp['NRO_DOC'] = [dni_zero(df_pyp['NRO_DOC'][i]) for i in range (df_pyp['NRO_DOC'].count())]"
   ]
  },
  {
   "cell_type": "markdown",
   "metadata": {},
   "source": [
    "Para corregir el __TIPO DE DOCUMENTO__ sobre el dataframe resultante"
   ]
  },
  {
   "cell_type": "code",
   "execution_count": 70,
   "metadata": {},
   "outputs": [],
   "source": [
    "df_pyp['TIPO_DOC'] = [tipo_doc_2(df_pyp['NRO_DOC'][i],df_pyp['TIPO_DOC'][i]) for i in range (df_pyp['NRO_DOC'].count())]"
   ]
  },
  {
   "cell_type": "code",
   "execution_count": 71,
   "metadata": {
    "scrolled": true
   },
   "outputs": [
    {
     "data": {
      "text/html": [
       "<div>\n",
       "<style scoped>\n",
       "    .dataframe tbody tr th:only-of-type {\n",
       "        vertical-align: middle;\n",
       "    }\n",
       "\n",
       "    .dataframe tbody tr th {\n",
       "        vertical-align: top;\n",
       "    }\n",
       "\n",
       "    .dataframe thead th {\n",
       "        text-align: right;\n",
       "    }\n",
       "</style>\n",
       "<table border=\"1\" class=\"dataframe\">\n",
       "  <thead>\n",
       "    <tr style=\"text-align: right;\">\n",
       "      <th></th>\n",
       "      <th>IDMOROSO</th>\n",
       "      <th>IDCLIENTE</th>\n",
       "      <th>NRO_DOC</th>\n",
       "      <th>TIPO_DOC</th>\n",
       "    </tr>\n",
       "  </thead>\n",
       "  <tbody>\n",
       "    <tr>\n",
       "      <th>0</th>\n",
       "      <td>CI  62933702</td>\n",
       "      <td>BSR_TARDIA</td>\n",
       "      <td>CI62933702</td>\n",
       "      <td>CUIT</td>\n",
       "    </tr>\n",
       "    <tr>\n",
       "      <th>1</th>\n",
       "      <td>CUIT30607032978</td>\n",
       "      <td>BSR_TARDIA</td>\n",
       "      <td>30607032978</td>\n",
       "      <td>CUIT</td>\n",
       "    </tr>\n",
       "    <tr>\n",
       "      <th>2</th>\n",
       "      <td>CUIT30698087648</td>\n",
       "      <td>BSR_TARDIA</td>\n",
       "      <td>30698087648</td>\n",
       "      <td>CUIT</td>\n",
       "    </tr>\n",
       "    <tr>\n",
       "      <th>3</th>\n",
       "      <td>CUIT30703557674</td>\n",
       "      <td>BSR_TARDIA</td>\n",
       "      <td>30703557674</td>\n",
       "      <td>CUIT</td>\n",
       "    </tr>\n",
       "    <tr>\n",
       "      <th>4</th>\n",
       "      <td>CUIT30707047085</td>\n",
       "      <td>BSR_TARDIA</td>\n",
       "      <td>30707047085</td>\n",
       "      <td>CUIT</td>\n",
       "    </tr>\n",
       "  </tbody>\n",
       "</table>\n",
       "</div>"
      ],
      "text/plain": [
       "          IDMOROSO             IDCLIENTE      NRO_DOC TIPO_DOC\n",
       "0     CI  62933702  BSR_TARDIA             CI62933702     CUIT\n",
       "1  CUIT30607032978  BSR_TARDIA            30607032978     CUIT\n",
       "2  CUIT30698087648  BSR_TARDIA            30698087648     CUIT\n",
       "3  CUIT30703557674  BSR_TARDIA            30703557674     CUIT\n",
       "4  CUIT30707047085  BSR_TARDIA            30707047085     CUIT"
      ]
     },
     "execution_count": 71,
     "metadata": {},
     "output_type": "execute_result"
    }
   ],
   "source": [
    "df_pyp.head()"
   ]
  },
  {
   "cell_type": "code",
   "execution_count": 72,
   "metadata": {},
   "outputs": [
    {
     "data": {
      "text/html": [
       "<div>\n",
       "<style scoped>\n",
       "    .dataframe tbody tr th:only-of-type {\n",
       "        vertical-align: middle;\n",
       "    }\n",
       "\n",
       "    .dataframe tbody tr th {\n",
       "        vertical-align: top;\n",
       "    }\n",
       "\n",
       "    .dataframe thead th {\n",
       "        text-align: right;\n",
       "    }\n",
       "</style>\n",
       "<table border=\"1\" class=\"dataframe\">\n",
       "  <thead>\n",
       "    <tr style=\"text-align: right;\">\n",
       "      <th></th>\n",
       "      <th>IDMOROSO</th>\n",
       "      <th>IDCLIENTE</th>\n",
       "      <th>NRO_DOC</th>\n",
       "      <th>TIPO_DOC</th>\n",
       "    </tr>\n",
       "  </thead>\n",
       "  <tbody>\n",
       "    <tr>\n",
       "      <th>20105</th>\n",
       "      <td>LE  6305211</td>\n",
       "      <td>FRANCES_2012</td>\n",
       "      <td>6305211</td>\n",
       "      <td>LE</td>\n",
       "    </tr>\n",
       "    <tr>\n",
       "      <th>20106</th>\n",
       "      <td>LE  6305512</td>\n",
       "      <td>FRANCES_2012</td>\n",
       "      <td>6305512</td>\n",
       "      <td>LE</td>\n",
       "    </tr>\n",
       "    <tr>\n",
       "      <th>20107</th>\n",
       "      <td>LE  6434675</td>\n",
       "      <td>FRANCES_2012</td>\n",
       "      <td>6434675</td>\n",
       "      <td>LE</td>\n",
       "    </tr>\n",
       "    <tr>\n",
       "      <th>20108</th>\n",
       "      <td>LE  6852994</td>\n",
       "      <td>FRANCES_2012</td>\n",
       "      <td>6852994</td>\n",
       "      <td>LE</td>\n",
       "    </tr>\n",
       "    <tr>\n",
       "      <th>20109</th>\n",
       "      <td>LE  7007498</td>\n",
       "      <td>FRANCES_2012</td>\n",
       "      <td>7007498</td>\n",
       "      <td>LE</td>\n",
       "    </tr>\n",
       "  </tbody>\n",
       "</table>\n",
       "</div>"
      ],
      "text/plain": [
       "          IDMOROSO             IDCLIENTE  NRO_DOC TIPO_DOC\n",
       "20105  LE  6305211  FRANCES_2012          6305211       LE\n",
       "20106  LE  6305512  FRANCES_2012          6305512       LE\n",
       "20107  LE  6434675  FRANCES_2012          6434675       LE\n",
       "20108  LE  6852994  FRANCES_2012          6852994       LE\n",
       "20109  LE  7007498  FRANCES_2012          7007498       LE"
      ]
     },
     "execution_count": 72,
     "metadata": {},
     "output_type": "execute_result"
    }
   ],
   "source": [
    "df_pyp.tail()"
   ]
  },
  {
   "cell_type": "markdown",
   "metadata": {},
   "source": [
    "# 13) Union de Dataframes"
   ]
  },
  {
   "cell_type": "markdown",
   "metadata": {},
   "source": [
    "Se unen ambos dataframes en la columna NRO_DOC"
   ]
  },
  {
   "cell_type": "markdown",
   "metadata": {},
   "source": [
    "Convertimos la columna NRO_DOC de objeto a INT para hacer la unión"
   ]
  },
  {
   "cell_type": "code",
   "execution_count": 73,
   "metadata": {},
   "outputs": [],
   "source": [
    "df_clean = df_clean.astype({'NRO_DOC': 'str'})"
   ]
  },
  {
   "cell_type": "code",
   "execution_count": 74,
   "metadata": {},
   "outputs": [],
   "source": [
    "df_clean ['NRO_DOC'] = df_clean ['NRO_DOC'].str.split('.').str[0]"
   ]
  },
  {
   "cell_type": "code",
   "execution_count": 75,
   "metadata": {},
   "outputs": [],
   "source": [
    "df_union = pd.merge(df_clean,df_pyp, on='NRO_DOC', how='inner')"
   ]
  },
  {
   "cell_type": "code",
   "execution_count": 76,
   "metadata": {},
   "outputs": [
    {
     "data": {
      "text/plain": [
       "(49775, 17)"
      ]
     },
     "execution_count": 76,
     "metadata": {},
     "output_type": "execute_result"
    }
   ],
   "source": [
    "df_union.shape"
   ]
  },
  {
   "cell_type": "code",
   "execution_count": 77,
   "metadata": {
    "scrolled": true
   },
   "outputs": [
    {
     "data": {
      "text/html": [
       "<div>\n",
       "<style scoped>\n",
       "    .dataframe tbody tr th:only-of-type {\n",
       "        vertical-align: middle;\n",
       "    }\n",
       "\n",
       "    .dataframe tbody tr th {\n",
       "        vertical-align: top;\n",
       "    }\n",
       "\n",
       "    .dataframe thead th {\n",
       "        text-align: right;\n",
       "    }\n",
       "</style>\n",
       "<table border=\"1\" class=\"dataframe\">\n",
       "  <thead>\n",
       "    <tr style=\"text-align: right;\">\n",
       "      <th></th>\n",
       "      <th>CUIT_CUIL</th>\n",
       "      <th>NRO_DOC</th>\n",
       "      <th>APELLIDO</th>\n",
       "      <th>NOMBRE</th>\n",
       "      <th>Dato</th>\n",
       "      <th>PROPIETARIO_DATO</th>\n",
       "      <th>PROVEEDOR_DATO</th>\n",
       "      <th>TIPO</th>\n",
       "      <th>SUBTIPO</th>\n",
       "      <th>SCORE_DATO</th>\n",
       "      <th>FECHA_INGRESO_DATO</th>\n",
       "      <th>VERIFICADO</th>\n",
       "      <th>FECHA_VERIFICACION</th>\n",
       "      <th>OPERADOR_VERIFICACION</th>\n",
       "      <th>IDMOROSO</th>\n",
       "      <th>IDCLIENTE</th>\n",
       "      <th>TIPO_DOC</th>\n",
       "    </tr>\n",
       "  </thead>\n",
       "  <tbody>\n",
       "    <tr>\n",
       "      <th>0</th>\n",
       "      <td>27100396217</td>\n",
       "      <td>10039621</td>\n",
       "      <td>CANO</td>\n",
       "      <td>ANA MARIA</td>\n",
       "      <td>2.611561e+11</td>\n",
       "      <td>Propio</td>\n",
       "      <td>ZERT</td>\n",
       "      <td>TEL.CELULAR</td>\n",
       "      <td>PERSONAL</td>\n",
       "      <td>2.0</td>\n",
       "      <td>2021-08-27 11:46:36.410642</td>\n",
       "      <td>0</td>\n",
       "      <td>NaN</td>\n",
       "      <td>NaN</td>\n",
       "      <td>DNI 10039621</td>\n",
       "      <td>BSR_TARDIA</td>\n",
       "      <td>DNI</td>\n",
       "    </tr>\n",
       "    <tr>\n",
       "      <th>1</th>\n",
       "      <td>27100396217</td>\n",
       "      <td>10039621</td>\n",
       "      <td>CANO</td>\n",
       "      <td>ANA MARIA</td>\n",
       "      <td>2.231557e+11</td>\n",
       "      <td>Propio</td>\n",
       "      <td>ZERT</td>\n",
       "      <td>TEL.CELULAR</td>\n",
       "      <td>PERSONAL</td>\n",
       "      <td>2.0</td>\n",
       "      <td>2021-08-27 11:46:36.410642</td>\n",
       "      <td>0</td>\n",
       "      <td>NaN</td>\n",
       "      <td>NaN</td>\n",
       "      <td>DNI 10039621</td>\n",
       "      <td>BSR_TARDIA</td>\n",
       "      <td>DNI</td>\n",
       "    </tr>\n",
       "    <tr>\n",
       "      <th>2</th>\n",
       "      <td>27100396217</td>\n",
       "      <td>10039621</td>\n",
       "      <td>CANO</td>\n",
       "      <td>ANA MARIA</td>\n",
       "      <td>2.231562e+11</td>\n",
       "      <td>Propio</td>\n",
       "      <td>ZERT</td>\n",
       "      <td>TEL.CELULAR</td>\n",
       "      <td>PERSONAL</td>\n",
       "      <td>2.0</td>\n",
       "      <td>2021-08-27 11:46:36.410642</td>\n",
       "      <td>0</td>\n",
       "      <td>NaN</td>\n",
       "      <td>NaN</td>\n",
       "      <td>DNI 10039621</td>\n",
       "      <td>BSR_TARDIA</td>\n",
       "      <td>DNI</td>\n",
       "    </tr>\n",
       "    <tr>\n",
       "      <th>3</th>\n",
       "      <td>27100396217</td>\n",
       "      <td>10039621</td>\n",
       "      <td>CANO</td>\n",
       "      <td>ANA MARIA</td>\n",
       "      <td>2.234747e+09</td>\n",
       "      <td>Propio</td>\n",
       "      <td>ZERT</td>\n",
       "      <td>TEL.FIJO</td>\n",
       "      <td>PERSONAL</td>\n",
       "      <td>2.0</td>\n",
       "      <td>2021-08-27 11:46:36.410642</td>\n",
       "      <td>0</td>\n",
       "      <td>NaN</td>\n",
       "      <td>NaN</td>\n",
       "      <td>DNI 10039621</td>\n",
       "      <td>BSR_TARDIA</td>\n",
       "      <td>DNI</td>\n",
       "    </tr>\n",
       "    <tr>\n",
       "      <th>4</th>\n",
       "      <td>27100460713</td>\n",
       "      <td>10046071</td>\n",
       "      <td>D'ANGELO</td>\n",
       "      <td>ROSA HILDA</td>\n",
       "      <td>3.511563e+11</td>\n",
       "      <td>Propio</td>\n",
       "      <td>ZERT</td>\n",
       "      <td>TEL.CELULAR</td>\n",
       "      <td>PERSONAL</td>\n",
       "      <td>2.0</td>\n",
       "      <td>2021-08-27 11:46:36.410642</td>\n",
       "      <td>0</td>\n",
       "      <td>NaN</td>\n",
       "      <td>NaN</td>\n",
       "      <td>DNI 10046071</td>\n",
       "      <td>BSR_TARDIA</td>\n",
       "      <td>DNI</td>\n",
       "    </tr>\n",
       "  </tbody>\n",
       "</table>\n",
       "</div>"
      ],
      "text/plain": [
       "     CUIT_CUIL   NRO_DOC  APELLIDO      NOMBRE          Dato PROPIETARIO_DATO  \\\n",
       "0  27100396217  10039621      CANO   ANA MARIA  2.611561e+11           Propio   \n",
       "1  27100396217  10039621      CANO   ANA MARIA  2.231557e+11           Propio   \n",
       "2  27100396217  10039621      CANO   ANA MARIA  2.231562e+11           Propio   \n",
       "3  27100396217  10039621      CANO   ANA MARIA  2.234747e+09           Propio   \n",
       "4  27100460713  10046071  D'ANGELO  ROSA HILDA  3.511563e+11           Propio   \n",
       "\n",
       "  PROVEEDOR_DATO         TIPO   SUBTIPO  SCORE_DATO  \\\n",
       "0           ZERT  TEL.CELULAR  PERSONAL         2.0   \n",
       "1           ZERT  TEL.CELULAR  PERSONAL         2.0   \n",
       "2           ZERT  TEL.CELULAR  PERSONAL         2.0   \n",
       "3           ZERT     TEL.FIJO  PERSONAL         2.0   \n",
       "4           ZERT  TEL.CELULAR  PERSONAL         2.0   \n",
       "\n",
       "          FECHA_INGRESO_DATO  VERIFICADO  FECHA_VERIFICACION  \\\n",
       "0 2021-08-27 11:46:36.410642           0                 NaN   \n",
       "1 2021-08-27 11:46:36.410642           0                 NaN   \n",
       "2 2021-08-27 11:46:36.410642           0                 NaN   \n",
       "3 2021-08-27 11:46:36.410642           0                 NaN   \n",
       "4 2021-08-27 11:46:36.410642           0                 NaN   \n",
       "\n",
       "   OPERADOR_VERIFICACION      IDMOROSO             IDCLIENTE TIPO_DOC  \n",
       "0                    NaN  DNI 10039621  BSR_TARDIA                DNI  \n",
       "1                    NaN  DNI 10039621  BSR_TARDIA                DNI  \n",
       "2                    NaN  DNI 10039621  BSR_TARDIA                DNI  \n",
       "3                    NaN  DNI 10039621  BSR_TARDIA                DNI  \n",
       "4                    NaN  DNI 10046071  BSR_TARDIA                DNI  "
      ]
     },
     "execution_count": 77,
     "metadata": {},
     "output_type": "execute_result"
    }
   ],
   "source": [
    "df_union.head()"
   ]
  },
  {
   "cell_type": "markdown",
   "metadata": {},
   "source": [
    "# 14) Export"
   ]
  },
  {
   "cell_type": "markdown",
   "metadata": {},
   "source": [
    "Renombramos, dropeamos y reordenamos las columnas"
   ]
  },
  {
   "cell_type": "code",
   "execution_count": 78,
   "metadata": {},
   "outputs": [],
   "source": [
    "df_union = df_union.rename(columns = {'Dato':'DATO'})"
   ]
  },
  {
   "cell_type": "markdown",
   "metadata": {},
   "source": [
    "Dropeamos columnas que no nos sirven"
   ]
  },
  {
   "cell_type": "code",
   "execution_count": 79,
   "metadata": {},
   "outputs": [],
   "source": [
    "df_export = df_union.drop(columns=['IDCLIENTE'], axis=0)"
   ]
  },
  {
   "cell_type": "code",
   "execution_count": 80,
   "metadata": {},
   "outputs": [],
   "source": [
    "df_export = df_export[['IDMOROSO', 'TIPO_DOC','NRO_DOC','CUIT_CUIL','TIPO','SUBTIPO','DATO','PROPIETARIO_DATO','PROVEEDOR_DATO','FECHA_INGRESO_DATO','VERIFICADO','FECHA_VERIFICACION','OPERADOR_VERIFICACION','SCORE_DATO']]"
   ]
  },
  {
   "cell_type": "code",
   "execution_count": 81,
   "metadata": {},
   "outputs": [
    {
     "data": {
      "text/html": [
       "<div>\n",
       "<style scoped>\n",
       "    .dataframe tbody tr th:only-of-type {\n",
       "        vertical-align: middle;\n",
       "    }\n",
       "\n",
       "    .dataframe tbody tr th {\n",
       "        vertical-align: top;\n",
       "    }\n",
       "\n",
       "    .dataframe thead th {\n",
       "        text-align: right;\n",
       "    }\n",
       "</style>\n",
       "<table border=\"1\" class=\"dataframe\">\n",
       "  <thead>\n",
       "    <tr style=\"text-align: right;\">\n",
       "      <th></th>\n",
       "      <th>IDMOROSO</th>\n",
       "      <th>TIPO_DOC</th>\n",
       "      <th>NRO_DOC</th>\n",
       "      <th>CUIT_CUIL</th>\n",
       "      <th>TIPO</th>\n",
       "      <th>SUBTIPO</th>\n",
       "      <th>DATO</th>\n",
       "      <th>PROPIETARIO_DATO</th>\n",
       "      <th>PROVEEDOR_DATO</th>\n",
       "      <th>FECHA_INGRESO_DATO</th>\n",
       "      <th>VERIFICADO</th>\n",
       "      <th>FECHA_VERIFICACION</th>\n",
       "      <th>OPERADOR_VERIFICACION</th>\n",
       "      <th>SCORE_DATO</th>\n",
       "    </tr>\n",
       "  </thead>\n",
       "  <tbody>\n",
       "    <tr>\n",
       "      <th>0</th>\n",
       "      <td>DNI 10039621</td>\n",
       "      <td>DNI</td>\n",
       "      <td>10039621</td>\n",
       "      <td>27100396217</td>\n",
       "      <td>TEL.CELULAR</td>\n",
       "      <td>PERSONAL</td>\n",
       "      <td>2.611561e+11</td>\n",
       "      <td>Propio</td>\n",
       "      <td>ZERT</td>\n",
       "      <td>2021-08-27 11:46:36.410642</td>\n",
       "      <td>0</td>\n",
       "      <td>NaN</td>\n",
       "      <td>NaN</td>\n",
       "      <td>2.0</td>\n",
       "    </tr>\n",
       "    <tr>\n",
       "      <th>1</th>\n",
       "      <td>DNI 10039621</td>\n",
       "      <td>DNI</td>\n",
       "      <td>10039621</td>\n",
       "      <td>27100396217</td>\n",
       "      <td>TEL.CELULAR</td>\n",
       "      <td>PERSONAL</td>\n",
       "      <td>2.231557e+11</td>\n",
       "      <td>Propio</td>\n",
       "      <td>ZERT</td>\n",
       "      <td>2021-08-27 11:46:36.410642</td>\n",
       "      <td>0</td>\n",
       "      <td>NaN</td>\n",
       "      <td>NaN</td>\n",
       "      <td>2.0</td>\n",
       "    </tr>\n",
       "    <tr>\n",
       "      <th>2</th>\n",
       "      <td>DNI 10039621</td>\n",
       "      <td>DNI</td>\n",
       "      <td>10039621</td>\n",
       "      <td>27100396217</td>\n",
       "      <td>TEL.CELULAR</td>\n",
       "      <td>PERSONAL</td>\n",
       "      <td>2.231562e+11</td>\n",
       "      <td>Propio</td>\n",
       "      <td>ZERT</td>\n",
       "      <td>2021-08-27 11:46:36.410642</td>\n",
       "      <td>0</td>\n",
       "      <td>NaN</td>\n",
       "      <td>NaN</td>\n",
       "      <td>2.0</td>\n",
       "    </tr>\n",
       "    <tr>\n",
       "      <th>3</th>\n",
       "      <td>DNI 10039621</td>\n",
       "      <td>DNI</td>\n",
       "      <td>10039621</td>\n",
       "      <td>27100396217</td>\n",
       "      <td>TEL.FIJO</td>\n",
       "      <td>PERSONAL</td>\n",
       "      <td>2.234747e+09</td>\n",
       "      <td>Propio</td>\n",
       "      <td>ZERT</td>\n",
       "      <td>2021-08-27 11:46:36.410642</td>\n",
       "      <td>0</td>\n",
       "      <td>NaN</td>\n",
       "      <td>NaN</td>\n",
       "      <td>2.0</td>\n",
       "    </tr>\n",
       "    <tr>\n",
       "      <th>4</th>\n",
       "      <td>DNI 10046071</td>\n",
       "      <td>DNI</td>\n",
       "      <td>10046071</td>\n",
       "      <td>27100460713</td>\n",
       "      <td>TEL.CELULAR</td>\n",
       "      <td>PERSONAL</td>\n",
       "      <td>3.511563e+11</td>\n",
       "      <td>Propio</td>\n",
       "      <td>ZERT</td>\n",
       "      <td>2021-08-27 11:46:36.410642</td>\n",
       "      <td>0</td>\n",
       "      <td>NaN</td>\n",
       "      <td>NaN</td>\n",
       "      <td>2.0</td>\n",
       "    </tr>\n",
       "  </tbody>\n",
       "</table>\n",
       "</div>"
      ],
      "text/plain": [
       "       IDMOROSO TIPO_DOC   NRO_DOC    CUIT_CUIL         TIPO   SUBTIPO  \\\n",
       "0  DNI 10039621      DNI  10039621  27100396217  TEL.CELULAR  PERSONAL   \n",
       "1  DNI 10039621      DNI  10039621  27100396217  TEL.CELULAR  PERSONAL   \n",
       "2  DNI 10039621      DNI  10039621  27100396217  TEL.CELULAR  PERSONAL   \n",
       "3  DNI 10039621      DNI  10039621  27100396217     TEL.FIJO  PERSONAL   \n",
       "4  DNI 10046071      DNI  10046071  27100460713  TEL.CELULAR  PERSONAL   \n",
       "\n",
       "           DATO PROPIETARIO_DATO PROVEEDOR_DATO         FECHA_INGRESO_DATO  \\\n",
       "0  2.611561e+11           Propio           ZERT 2021-08-27 11:46:36.410642   \n",
       "1  2.231557e+11           Propio           ZERT 2021-08-27 11:46:36.410642   \n",
       "2  2.231562e+11           Propio           ZERT 2021-08-27 11:46:36.410642   \n",
       "3  2.234747e+09           Propio           ZERT 2021-08-27 11:46:36.410642   \n",
       "4  3.511563e+11           Propio           ZERT 2021-08-27 11:46:36.410642   \n",
       "\n",
       "   VERIFICADO  FECHA_VERIFICACION  OPERADOR_VERIFICACION  SCORE_DATO  \n",
       "0           0                 NaN                    NaN         2.0  \n",
       "1           0                 NaN                    NaN         2.0  \n",
       "2           0                 NaN                    NaN         2.0  \n",
       "3           0                 NaN                    NaN         2.0  \n",
       "4           0                 NaN                    NaN         2.0  "
      ]
     },
     "execution_count": 81,
     "metadata": {},
     "output_type": "execute_result"
    }
   ],
   "source": [
    "df_export.head()"
   ]
  },
  {
   "cell_type": "code",
   "execution_count": 82,
   "metadata": {},
   "outputs": [],
   "source": [
    "#df_export.to_csv('test.csv')"
   ]
  },
  {
   "cell_type": "code",
   "execution_count": 84,
   "metadata": {},
   "outputs": [],
   "source": [
    "#df_export['DATO'] = [(str(int(round(df_export['DATO'][i],0)))) for i in range (df_export['DATO'].count())]\n",
    "df_export ['DATO'] = df_export ['DATO'].astype(str)\n",
    "df_export ['DATO'] = df_export ['DATO'].str.strip()\n",
    "df_export ['DATO'] = df_export ['DATO'].str.split('.').str[0]"
   ]
  },
  {
   "cell_type": "code",
   "execution_count": 85,
   "metadata": {},
   "outputs": [],
   "source": [
    "df_export['CUIT_CUIL'] = [(str(int(round(df_export['CUIT_CUIL'][i],0)))) for i in range (df_export['CUIT_CUIL'].count())]"
   ]
  },
  {
   "cell_type": "code",
   "execution_count": 88,
   "metadata": {
    "scrolled": true
   },
   "outputs": [
    {
     "data": {
      "text/plain": [
       "(49775, 14)"
      ]
     },
     "execution_count": 88,
     "metadata": {},
     "output_type": "execute_result"
    }
   ],
   "source": [
    "df_export.shape"
   ]
  },
  {
   "cell_type": "code",
   "execution_count": 89,
   "metadata": {},
   "outputs": [],
   "source": [
    "df_export = df_export[[int(i)>10000000 for i in df_export[\"NRO_DOC\"].tolist()]]"
   ]
  },
  {
   "cell_type": "code",
   "execution_count": 90,
   "metadata": {},
   "outputs": [
    {
     "data": {
      "text/plain": [
       "(45435, 14)"
      ]
     },
     "execution_count": 90,
     "metadata": {},
     "output_type": "execute_result"
    }
   ],
   "source": [
    "df_export.shape"
   ]
  },
  {
   "cell_type": "code",
   "execution_count": 91,
   "metadata": {},
   "outputs": [
    {
     "data": {
      "text/html": [
       "<div>\n",
       "<style scoped>\n",
       "    .dataframe tbody tr th:only-of-type {\n",
       "        vertical-align: middle;\n",
       "    }\n",
       "\n",
       "    .dataframe tbody tr th {\n",
       "        vertical-align: top;\n",
       "    }\n",
       "\n",
       "    .dataframe thead th {\n",
       "        text-align: right;\n",
       "    }\n",
       "</style>\n",
       "<table border=\"1\" class=\"dataframe\">\n",
       "  <thead>\n",
       "    <tr style=\"text-align: right;\">\n",
       "      <th></th>\n",
       "      <th>IDMOROSO</th>\n",
       "      <th>TIPO_DOC</th>\n",
       "      <th>NRO_DOC</th>\n",
       "      <th>CUIT_CUIL</th>\n",
       "      <th>TIPO</th>\n",
       "      <th>SUBTIPO</th>\n",
       "      <th>DATO</th>\n",
       "      <th>PROPIETARIO_DATO</th>\n",
       "      <th>PROVEEDOR_DATO</th>\n",
       "      <th>FECHA_INGRESO_DATO</th>\n",
       "      <th>VERIFICADO</th>\n",
       "      <th>FECHA_VERIFICACION</th>\n",
       "      <th>OPERADOR_VERIFICACION</th>\n",
       "      <th>SCORE_DATO</th>\n",
       "    </tr>\n",
       "  </thead>\n",
       "  <tbody>\n",
       "    <tr>\n",
       "      <th>0</th>\n",
       "      <td>DNI 10039621</td>\n",
       "      <td>DNI</td>\n",
       "      <td>10039621</td>\n",
       "      <td>27100396217</td>\n",
       "      <td>TEL.CELULAR</td>\n",
       "      <td>PERSONAL</td>\n",
       "      <td>261156113429</td>\n",
       "      <td>Propio</td>\n",
       "      <td>ZERT</td>\n",
       "      <td>2021-08-27 11:46:36.410642</td>\n",
       "      <td>0</td>\n",
       "      <td>NaN</td>\n",
       "      <td>NaN</td>\n",
       "      <td>2.0</td>\n",
       "    </tr>\n",
       "    <tr>\n",
       "      <th>1</th>\n",
       "      <td>DNI 10039621</td>\n",
       "      <td>DNI</td>\n",
       "      <td>10039621</td>\n",
       "      <td>27100396217</td>\n",
       "      <td>TEL.CELULAR</td>\n",
       "      <td>PERSONAL</td>\n",
       "      <td>223155707846</td>\n",
       "      <td>Propio</td>\n",
       "      <td>ZERT</td>\n",
       "      <td>2021-08-27 11:46:36.410642</td>\n",
       "      <td>0</td>\n",
       "      <td>NaN</td>\n",
       "      <td>NaN</td>\n",
       "      <td>2.0</td>\n",
       "    </tr>\n",
       "    <tr>\n",
       "      <th>2</th>\n",
       "      <td>DNI 10039621</td>\n",
       "      <td>DNI</td>\n",
       "      <td>10039621</td>\n",
       "      <td>27100396217</td>\n",
       "      <td>TEL.CELULAR</td>\n",
       "      <td>PERSONAL</td>\n",
       "      <td>223156168996</td>\n",
       "      <td>Propio</td>\n",
       "      <td>ZERT</td>\n",
       "      <td>2021-08-27 11:46:36.410642</td>\n",
       "      <td>0</td>\n",
       "      <td>NaN</td>\n",
       "      <td>NaN</td>\n",
       "      <td>2.0</td>\n",
       "    </tr>\n",
       "    <tr>\n",
       "      <th>3</th>\n",
       "      <td>DNI 10039621</td>\n",
       "      <td>DNI</td>\n",
       "      <td>10039621</td>\n",
       "      <td>27100396217</td>\n",
       "      <td>TEL.FIJO</td>\n",
       "      <td>PERSONAL</td>\n",
       "      <td>2234746758</td>\n",
       "      <td>Propio</td>\n",
       "      <td>ZERT</td>\n",
       "      <td>2021-08-27 11:46:36.410642</td>\n",
       "      <td>0</td>\n",
       "      <td>NaN</td>\n",
       "      <td>NaN</td>\n",
       "      <td>2.0</td>\n",
       "    </tr>\n",
       "    <tr>\n",
       "      <th>4</th>\n",
       "      <td>DNI 10046071</td>\n",
       "      <td>DNI</td>\n",
       "      <td>10046071</td>\n",
       "      <td>27100460713</td>\n",
       "      <td>TEL.CELULAR</td>\n",
       "      <td>PERSONAL</td>\n",
       "      <td>351156257130</td>\n",
       "      <td>Propio</td>\n",
       "      <td>ZERT</td>\n",
       "      <td>2021-08-27 11:46:36.410642</td>\n",
       "      <td>0</td>\n",
       "      <td>NaN</td>\n",
       "      <td>NaN</td>\n",
       "      <td>2.0</td>\n",
       "    </tr>\n",
       "  </tbody>\n",
       "</table>\n",
       "</div>"
      ],
      "text/plain": [
       "       IDMOROSO TIPO_DOC   NRO_DOC    CUIT_CUIL         TIPO   SUBTIPO  \\\n",
       "0  DNI 10039621      DNI  10039621  27100396217  TEL.CELULAR  PERSONAL   \n",
       "1  DNI 10039621      DNI  10039621  27100396217  TEL.CELULAR  PERSONAL   \n",
       "2  DNI 10039621      DNI  10039621  27100396217  TEL.CELULAR  PERSONAL   \n",
       "3  DNI 10039621      DNI  10039621  27100396217     TEL.FIJO  PERSONAL   \n",
       "4  DNI 10046071      DNI  10046071  27100460713  TEL.CELULAR  PERSONAL   \n",
       "\n",
       "           DATO PROPIETARIO_DATO PROVEEDOR_DATO         FECHA_INGRESO_DATO  \\\n",
       "0  261156113429           Propio           ZERT 2021-08-27 11:46:36.410642   \n",
       "1  223155707846           Propio           ZERT 2021-08-27 11:46:36.410642   \n",
       "2  223156168996           Propio           ZERT 2021-08-27 11:46:36.410642   \n",
       "3    2234746758           Propio           ZERT 2021-08-27 11:46:36.410642   \n",
       "4  351156257130           Propio           ZERT 2021-08-27 11:46:36.410642   \n",
       "\n",
       "   VERIFICADO  FECHA_VERIFICACION  OPERADOR_VERIFICACION  SCORE_DATO  \n",
       "0           0                 NaN                    NaN         2.0  \n",
       "1           0                 NaN                    NaN         2.0  \n",
       "2           0                 NaN                    NaN         2.0  \n",
       "3           0                 NaN                    NaN         2.0  \n",
       "4           0                 NaN                    NaN         2.0  "
      ]
     },
     "execution_count": 91,
     "metadata": {},
     "output_type": "execute_result"
    }
   ],
   "source": [
    "df_export.head()"
   ]
  },
  {
   "cell_type": "code",
   "execution_count": 94,
   "metadata": {},
   "outputs": [],
   "source": [
    "df_export = df_export.drop_duplicates()\n",
    "df_duplicates = df_export[df_export.duplicated(keep=False)]"
   ]
  },
  {
   "cell_type": "code",
   "execution_count": 95,
   "metadata": {
    "scrolled": true
   },
   "outputs": [
    {
     "data": {
      "text/html": [
       "<div>\n",
       "<style scoped>\n",
       "    .dataframe tbody tr th:only-of-type {\n",
       "        vertical-align: middle;\n",
       "    }\n",
       "\n",
       "    .dataframe tbody tr th {\n",
       "        vertical-align: top;\n",
       "    }\n",
       "\n",
       "    .dataframe thead th {\n",
       "        text-align: right;\n",
       "    }\n",
       "</style>\n",
       "<table border=\"1\" class=\"dataframe\">\n",
       "  <thead>\n",
       "    <tr style=\"text-align: right;\">\n",
       "      <th></th>\n",
       "      <th>IDMOROSO</th>\n",
       "      <th>TIPO_DOC</th>\n",
       "      <th>NRO_DOC</th>\n",
       "      <th>CUIT_CUIL</th>\n",
       "      <th>TIPO</th>\n",
       "      <th>SUBTIPO</th>\n",
       "      <th>DATO</th>\n",
       "      <th>PROPIETARIO_DATO</th>\n",
       "      <th>PROVEEDOR_DATO</th>\n",
       "      <th>FECHA_INGRESO_DATO</th>\n",
       "      <th>VERIFICADO</th>\n",
       "      <th>FECHA_VERIFICACION</th>\n",
       "      <th>OPERADOR_VERIFICACION</th>\n",
       "      <th>SCORE_DATO</th>\n",
       "    </tr>\n",
       "  </thead>\n",
       "  <tbody>\n",
       "  </tbody>\n",
       "</table>\n",
       "</div>"
      ],
      "text/plain": [
       "Empty DataFrame\n",
       "Columns: [IDMOROSO, TIPO_DOC, NRO_DOC, CUIT_CUIL, TIPO, SUBTIPO, DATO, PROPIETARIO_DATO, PROVEEDOR_DATO, FECHA_INGRESO_DATO, VERIFICADO, FECHA_VERIFICACION, OPERADOR_VERIFICACION, SCORE_DATO]\n",
       "Index: []"
      ]
     },
     "execution_count": 95,
     "metadata": {},
     "output_type": "execute_result"
    }
   ],
   "source": [
    "df_duplicates"
   ]
  },
  {
   "cell_type": "code",
   "execution_count": 96,
   "metadata": {
    "scrolled": true
   },
   "outputs": [
    {
     "data": {
      "text/plain": [
       "(45371, 14)"
      ]
     },
     "execution_count": 96,
     "metadata": {},
     "output_type": "execute_result"
    }
   ],
   "source": [
    "df_export.shape"
   ]
  },
  {
   "cell_type": "markdown",
   "metadata": {},
   "source": [
    "## Dato a str + strip()"
   ]
  },
  {
   "cell_type": "code",
   "execution_count": 97,
   "metadata": {},
   "outputs": [],
   "source": [
    "df_export ['DATO'] = df_export['DATO'].str.strip()"
   ]
  },
  {
   "cell_type": "markdown",
   "metadata": {},
   "source": [
    "# Revisión de duplicados"
   ]
  },
  {
   "cell_type": "markdown",
   "metadata": {},
   "source": [
    "<font size=4>Se eliminan los mails duplicados para un mismo NRO_DOC pero le quitamos el CUIL porque nos pasan varios</font>"
   ]
  },
  {
   "cell_type": "code",
   "execution_count": 114,
   "metadata": {},
   "outputs": [],
   "source": [
    "df_export.loc[(df_export.duplicated(subset=['IDMOROSO','DATO','PROVEEDOR_DATO'],keep=False)) , 'CUIT_CUIL'] = None\n",
    "df_export = df_export.drop_duplicates()"
   ]
  },
  {
   "cell_type": "code",
   "execution_count": 115,
   "metadata": {},
   "outputs": [
    {
     "name": "stdout",
     "output_type": "stream",
     "text": [
      "27100396217\n",
      "27100396217.0\n"
     ]
    },
    {
     "data": {
      "text/html": [
       "<div>\n",
       "<style scoped>\n",
       "    .dataframe tbody tr th:only-of-type {\n",
       "        vertical-align: middle;\n",
       "    }\n",
       "\n",
       "    .dataframe tbody tr th {\n",
       "        vertical-align: top;\n",
       "    }\n",
       "\n",
       "    .dataframe thead th {\n",
       "        text-align: right;\n",
       "    }\n",
       "</style>\n",
       "<table border=\"1\" class=\"dataframe\">\n",
       "  <thead>\n",
       "    <tr style=\"text-align: right;\">\n",
       "      <th></th>\n",
       "      <th>IDMOROSO</th>\n",
       "      <th>TIPO_DOC</th>\n",
       "      <th>NRO_DOC</th>\n",
       "      <th>CUIT_CUIL</th>\n",
       "      <th>TIPO</th>\n",
       "      <th>SUBTIPO</th>\n",
       "      <th>DATO</th>\n",
       "      <th>PROPIETARIO_DATO</th>\n",
       "      <th>PROVEEDOR_DATO</th>\n",
       "      <th>FECHA_INGRESO_DATO</th>\n",
       "      <th>VERIFICADO</th>\n",
       "      <th>FECHA_VERIFICACION</th>\n",
       "      <th>OPERADOR_VERIFICACION</th>\n",
       "      <th>SCORE_DATO</th>\n",
       "    </tr>\n",
       "  </thead>\n",
       "  <tbody>\n",
       "    <tr>\n",
       "      <th>0</th>\n",
       "      <td>DNI 10039621</td>\n",
       "      <td>DNI</td>\n",
       "      <td>10039621</td>\n",
       "      <td>2.710040e+10</td>\n",
       "      <td>TEL.CELULAR</td>\n",
       "      <td>PERSONAL</td>\n",
       "      <td>261156113429</td>\n",
       "      <td>Propio</td>\n",
       "      <td>ZERT</td>\n",
       "      <td>2021-08-27 11:46:36.410642</td>\n",
       "      <td>0</td>\n",
       "      <td>NaN</td>\n",
       "      <td>NaN</td>\n",
       "      <td>2.0</td>\n",
       "    </tr>\n",
       "    <tr>\n",
       "      <th>1</th>\n",
       "      <td>DNI 10039621</td>\n",
       "      <td>DNI</td>\n",
       "      <td>10039621</td>\n",
       "      <td>2.710040e+10</td>\n",
       "      <td>TEL.CELULAR</td>\n",
       "      <td>PERSONAL</td>\n",
       "      <td>223155707846</td>\n",
       "      <td>Propio</td>\n",
       "      <td>ZERT</td>\n",
       "      <td>2021-08-27 11:46:36.410642</td>\n",
       "      <td>0</td>\n",
       "      <td>NaN</td>\n",
       "      <td>NaN</td>\n",
       "      <td>2.0</td>\n",
       "    </tr>\n",
       "    <tr>\n",
       "      <th>2</th>\n",
       "      <td>DNI 10039621</td>\n",
       "      <td>DNI</td>\n",
       "      <td>10039621</td>\n",
       "      <td>2.710040e+10</td>\n",
       "      <td>TEL.CELULAR</td>\n",
       "      <td>PERSONAL</td>\n",
       "      <td>223156168996</td>\n",
       "      <td>Propio</td>\n",
       "      <td>ZERT</td>\n",
       "      <td>2021-08-27 11:46:36.410642</td>\n",
       "      <td>0</td>\n",
       "      <td>NaN</td>\n",
       "      <td>NaN</td>\n",
       "      <td>2.0</td>\n",
       "    </tr>\n",
       "    <tr>\n",
       "      <th>3</th>\n",
       "      <td>DNI 10039621</td>\n",
       "      <td>DNI</td>\n",
       "      <td>10039621</td>\n",
       "      <td>2.710040e+10</td>\n",
       "      <td>TEL.FIJO</td>\n",
       "      <td>PERSONAL</td>\n",
       "      <td>2234746758</td>\n",
       "      <td>Propio</td>\n",
       "      <td>ZERT</td>\n",
       "      <td>2021-08-27 11:46:36.410642</td>\n",
       "      <td>0</td>\n",
       "      <td>NaN</td>\n",
       "      <td>NaN</td>\n",
       "      <td>2.0</td>\n",
       "    </tr>\n",
       "    <tr>\n",
       "      <th>4</th>\n",
       "      <td>DNI 10046071</td>\n",
       "      <td>DNI</td>\n",
       "      <td>10046071</td>\n",
       "      <td>2.710046e+10</td>\n",
       "      <td>TEL.CELULAR</td>\n",
       "      <td>PERSONAL</td>\n",
       "      <td>351156257130</td>\n",
       "      <td>Propio</td>\n",
       "      <td>ZERT</td>\n",
       "      <td>2021-08-27 11:46:36.410642</td>\n",
       "      <td>0</td>\n",
       "      <td>NaN</td>\n",
       "      <td>NaN</td>\n",
       "      <td>2.0</td>\n",
       "    </tr>\n",
       "  </tbody>\n",
       "</table>\n",
       "</div>"
      ],
      "text/plain": [
       "       IDMOROSO TIPO_DOC   NRO_DOC     CUIT_CUIL         TIPO   SUBTIPO  \\\n",
       "0  DNI 10039621      DNI  10039621  2.710040e+10  TEL.CELULAR  PERSONAL   \n",
       "1  DNI 10039621      DNI  10039621  2.710040e+10  TEL.CELULAR  PERSONAL   \n",
       "2  DNI 10039621      DNI  10039621  2.710040e+10  TEL.CELULAR  PERSONAL   \n",
       "3  DNI 10039621      DNI  10039621  2.710040e+10     TEL.FIJO  PERSONAL   \n",
       "4  DNI 10046071      DNI  10046071  2.710046e+10  TEL.CELULAR  PERSONAL   \n",
       "\n",
       "           DATO PROPIETARIO_DATO PROVEEDOR_DATO         FECHA_INGRESO_DATO  \\\n",
       "0  261156113429           Propio           ZERT 2021-08-27 11:46:36.410642   \n",
       "1  223155707846           Propio           ZERT 2021-08-27 11:46:36.410642   \n",
       "2  223156168996           Propio           ZERT 2021-08-27 11:46:36.410642   \n",
       "3    2234746758           Propio           ZERT 2021-08-27 11:46:36.410642   \n",
       "4  351156257130           Propio           ZERT 2021-08-27 11:46:36.410642   \n",
       "\n",
       "   VERIFICADO  FECHA_VERIFICACION  OPERADOR_VERIFICACION  SCORE_DATO  \n",
       "0           0                 NaN                    NaN         2.0  \n",
       "1           0                 NaN                    NaN         2.0  \n",
       "2           0                 NaN                    NaN         2.0  \n",
       "3           0                 NaN                    NaN         2.0  \n",
       "4           0                 NaN                    NaN         2.0  "
      ]
     },
     "execution_count": 115,
     "metadata": {},
     "output_type": "execute_result"
    }
   ],
   "source": [
    "df_export[\"CUIT_CUIL\"]= df_export[\"CUIT_CUIL\"].fillna(0.0)\n",
    "df_export1 = df_export.copy()\n",
    "df_export1[\"CUIT_CUIL\"] = [int(i) for i in df_export1[\"CUIT_CUIL\"].tolist()]\n",
    "print(df_export1[\"CUIT_CUIL\"][0])\n",
    "df_export1.loc[(df_export1[\"CUIT_CUIL\"]==0), 'CUIT_CUIL'] = None\n",
    "print(df_export1[\"CUIT_CUIL\"][0])\n",
    "df_export1.head()"
   ]
  },
  {
   "cell_type": "markdown",
   "metadata": {},
   "source": [
    "Tenemos duplicados en la tríada IDMOROSO-DATO-PROVEEDOR_DATO. Exportamos e inicializamos el pipeline de duplicados:"
   ]
  },
  {
   "cell_type": "markdown",
   "metadata": {},
   "source": [
    "## Insert a tabla DAM_CONTACTABILIDAD:"
   ]
  },
  {
   "cell_type": "code",
   "execution_count": 94,
   "metadata": {},
   "outputs": [],
   "source": [
    "#df_export.to_excel('D:\\MOPC\\Enriquecimiento de Datos\\Data Cleaning\\PyP\\Exports\\DAM_CONTACTABILIDAD\\PyP_DAM_CONTACTABILIDAD_telefonos_refuerzo.xlsx',index=False)\n",
    "#df_export.to_csv('D:\\MOPC\\Enriquecimiento de Datos\\Data Cleaning\\PyP\\Exports\\DAM_CONTACTABILIDAD\\PyP_DAM_CONTACTABILIDAD_telefonos_refuerzo.csv',index=False)"
   ]
  },
  {
   "cell_type": "markdown",
   "metadata": {},
   "source": [
    "# Filtrado de datos\n",
    "Tenemos que filtrar los datos basura que nos insertan"
   ]
  },
  {
   "cell_type": "code",
   "execution_count": 134,
   "metadata": {},
   "outputs": [],
   "source": [
    "lista_filtrado = [\"11111111\",\"111111111\",\"1111111111\"\n",
    "                 ]\n",
    "df_export1 = df_export1[~df_export1.DATO.isin(lista_filtrado)]\n",
    "df_export2 = df_export1.drop_duplicates(subset=[\"DATO\"],keep=False)"
   ]
  },
  {
   "cell_type": "code",
   "execution_count": 135,
   "metadata": {},
   "outputs": [],
   "source": [
    "duplicates_subset = df_export2[df_export2.duplicated(subset=['DATO','PROVEEDOR_DATO'],keep=False)]"
   ]
  },
  {
   "cell_type": "code",
   "execution_count": 136,
   "metadata": {},
   "outputs": [
    {
     "data": {
      "text/html": [
       "<div>\n",
       "<style scoped>\n",
       "    .dataframe tbody tr th:only-of-type {\n",
       "        vertical-align: middle;\n",
       "    }\n",
       "\n",
       "    .dataframe tbody tr th {\n",
       "        vertical-align: top;\n",
       "    }\n",
       "\n",
       "    .dataframe thead th {\n",
       "        text-align: right;\n",
       "    }\n",
       "</style>\n",
       "<table border=\"1\" class=\"dataframe\">\n",
       "  <thead>\n",
       "    <tr style=\"text-align: right;\">\n",
       "      <th></th>\n",
       "      <th>IDMOROSO</th>\n",
       "      <th>TIPO_DOC</th>\n",
       "      <th>NRO_DOC</th>\n",
       "      <th>CUIT_CUIL</th>\n",
       "      <th>TIPO</th>\n",
       "      <th>SUBTIPO</th>\n",
       "      <th>DATO</th>\n",
       "      <th>PROPIETARIO_DATO</th>\n",
       "      <th>PROVEEDOR_DATO</th>\n",
       "      <th>FECHA_INGRESO_DATO</th>\n",
       "      <th>VERIFICADO</th>\n",
       "      <th>FECHA_VERIFICACION</th>\n",
       "      <th>OPERADOR_VERIFICACION</th>\n",
       "      <th>SCORE_DATO</th>\n",
       "    </tr>\n",
       "  </thead>\n",
       "  <tbody>\n",
       "  </tbody>\n",
       "</table>\n",
       "</div>"
      ],
      "text/plain": [
       "Empty DataFrame\n",
       "Columns: [IDMOROSO, TIPO_DOC, NRO_DOC, CUIT_CUIL, TIPO, SUBTIPO, DATO, PROPIETARIO_DATO, PROVEEDOR_DATO, FECHA_INGRESO_DATO, VERIFICADO, FECHA_VERIFICACION, OPERADOR_VERIFICACION, SCORE_DATO]\n",
       "Index: []"
      ]
     },
     "execution_count": 136,
     "metadata": {},
     "output_type": "execute_result"
    }
   ],
   "source": [
    "duplicates_subset"
   ]
  },
  {
   "cell_type": "markdown",
   "metadata": {},
   "source": [
    "# Export a Pipeline: Duplicados"
   ]
  },
  {
   "cell_type": "code",
   "execution_count": 137,
   "metadata": {},
   "outputs": [],
   "source": [
    "df_export2.to_csv('insider_telefono.csv',index=False)"
   ]
  },
  {
   "cell_type": "code",
   "execution_count": null,
   "metadata": {},
   "outputs": [],
   "source": []
  }
 ],
 "metadata": {
  "kernelspec": {
   "display_name": "Python 3",
   "language": "python",
   "name": "python3"
  },
  "language_info": {
   "codemirror_mode": {
    "name": "ipython",
    "version": 3
   },
   "file_extension": ".py",
   "mimetype": "text/x-python",
   "name": "python",
   "nbconvert_exporter": "python",
   "pygments_lexer": "ipython3",
   "version": "3.7.11"
  }
 },
 "nbformat": 4,
 "nbformat_minor": 4
}
