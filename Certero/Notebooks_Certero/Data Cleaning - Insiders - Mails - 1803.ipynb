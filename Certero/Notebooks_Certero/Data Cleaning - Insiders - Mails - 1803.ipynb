{
 "cells": [
  {
   "cell_type": "markdown",
   "metadata": {},
   "source": [
    "# 1) Datasets"
   ]
  },
  {
   "cell_type": "markdown",
   "metadata": {},
   "source": [
    "Leemos el dataset"
   ]
  },
  {
   "cell_type": "code",
   "execution_count": 156,
   "metadata": {},
   "outputs": [],
   "source": [
    "import pandas as pd\n",
    "import numpy as np"
   ]
  },
  {
   "cell_type": "code",
   "execution_count": 157,
   "metadata": {},
   "outputs": [],
   "source": [
    "df = pd.read_csv('sumario.csv')"
   ]
  },
  {
   "cell_type": "code",
   "execution_count": 158,
   "metadata": {},
   "outputs": [
    {
     "data": {
      "text/html": [
       "<div>\n",
       "<style scoped>\n",
       "    .dataframe tbody tr th:only-of-type {\n",
       "        vertical-align: middle;\n",
       "    }\n",
       "\n",
       "    .dataframe tbody tr th {\n",
       "        vertical-align: top;\n",
       "    }\n",
       "\n",
       "    .dataframe thead th {\n",
       "        text-align: right;\n",
       "    }\n",
       "</style>\n",
       "<table border=\"1\" class=\"dataframe\">\n",
       "  <thead>\n",
       "    <tr style=\"text-align: right;\">\n",
       "      <th></th>\n",
       "      <th>#ID</th>\n",
       "      <th>DOCUMENTO</th>\n",
       "      <th>CUIL</th>\n",
       "      <th>APELLIDO</th>\n",
       "      <th>NOMBRE</th>\n",
       "      <th>SEXO</th>\n",
       "      <th>FECHA_NAC</th>\n",
       "      <th>DIFUNTO</th>\n",
       "      <th>PADRON_DOMICILIO</th>\n",
       "      <th>PADRON_LOCALIDAD</th>\n",
       "      <th>...</th>\n",
       "      <th>TELEFONO_FIJO1</th>\n",
       "      <th>TELEFONO_FIJO1_OPERADOR</th>\n",
       "      <th>TELEFONO_FIJO2</th>\n",
       "      <th>TELEFONO_FIJO2_OPERADOR</th>\n",
       "      <th>TELEFONO_FIJO3</th>\n",
       "      <th>TELEFONO_FIJO3_OPERADOR</th>\n",
       "      <th>TELEFONO_FIJO4</th>\n",
       "      <th>TELEFONO_FIJO4_OPERADOR</th>\n",
       "      <th>EMAIL</th>\n",
       "      <th>EMAIL2</th>\n",
       "    </tr>\n",
       "  </thead>\n",
       "  <tbody>\n",
       "    <tr>\n",
       "      <th>0</th>\n",
       "      <td>DNI 10039621</td>\n",
       "      <td>10039621</td>\n",
       "      <td>27100396217</td>\n",
       "      <td>CANO</td>\n",
       "      <td>ANA MARIA</td>\n",
       "      <td>F</td>\n",
       "      <td>30/11/1951</td>\n",
       "      <td>SI</td>\n",
       "      <td>LA PAMPA 1721 3</td>\n",
       "      <td>MAR DEL PLATA</td>\n",
       "      <td>...</td>\n",
       "      <td>2.234747e+09</td>\n",
       "      <td>Telefonica Argentina</td>\n",
       "      <td>NaN</td>\n",
       "      <td>NaN</td>\n",
       "      <td>NaN</td>\n",
       "      <td>NaN</td>\n",
       "      <td>NaN</td>\n",
       "      <td>NaN</td>\n",
       "      <td>adriandario74@HOTMAIL.COM</td>\n",
       "      <td>cristiantejedo-ks@hotmail.com</td>\n",
       "    </tr>\n",
       "    <tr>\n",
       "      <th>1</th>\n",
       "      <td>DNI 10046071</td>\n",
       "      <td>10046071</td>\n",
       "      <td>27100460713</td>\n",
       "      <td>D'ANGELO</td>\n",
       "      <td>ROSA HILDA</td>\n",
       "      <td>F</td>\n",
       "      <td>19/02/1951</td>\n",
       "      <td>NO</td>\n",
       "      <td>PUEYRREDON 1161</td>\n",
       "      <td>OBSERVATORIO</td>\n",
       "      <td>...</td>\n",
       "      <td>NaN</td>\n",
       "      <td>NaN</td>\n",
       "      <td>NaN</td>\n",
       "      <td>NaN</td>\n",
       "      <td>NaN</td>\n",
       "      <td>NaN</td>\n",
       "      <td>NaN</td>\n",
       "      <td>NaN</td>\n",
       "      <td>dieperez@yahoo.com.ar</td>\n",
       "      <td>NaN</td>\n",
       "    </tr>\n",
       "    <tr>\n",
       "      <th>2</th>\n",
       "      <td>DNI 10083637</td>\n",
       "      <td>10083637</td>\n",
       "      <td>27100836373</td>\n",
       "      <td>ROMERO</td>\n",
       "      <td>MARTA ALICIA</td>\n",
       "      <td>F</td>\n",
       "      <td>18/10/1951</td>\n",
       "      <td>NO</td>\n",
       "      <td>SARMIENTO 3940</td>\n",
       "      <td>ALMAGRO</td>\n",
       "      <td>...</td>\n",
       "      <td>1.149839e+09</td>\n",
       "      <td>Telefonica Argentina</td>\n",
       "      <td>NaN</td>\n",
       "      <td>NaN</td>\n",
       "      <td>NaN</td>\n",
       "      <td>NaN</td>\n",
       "      <td>NaN</td>\n",
       "      <td>NaN</td>\n",
       "      <td>romeromartac@yahoo.com</td>\n",
       "      <td>csofiacarla@yahoo.com</td>\n",
       "    </tr>\n",
       "    <tr>\n",
       "      <th>3</th>\n",
       "      <td>DNI 10085866</td>\n",
       "      <td>10085866</td>\n",
       "      <td>20100858666</td>\n",
       "      <td>CHAVEZ</td>\n",
       "      <td>JUAN CRISOTOMO</td>\n",
       "      <td>M</td>\n",
       "      <td>27/01/1952</td>\n",
       "      <td>SI</td>\n",
       "      <td>CUYO 526</td>\n",
       "      <td>LLAVALLOL</td>\n",
       "      <td>...</td>\n",
       "      <td>1.142934e+09</td>\n",
       "      <td>Telefonica Argentina</td>\n",
       "      <td>NaN</td>\n",
       "      <td>NaN</td>\n",
       "      <td>NaN</td>\n",
       "      <td>NaN</td>\n",
       "      <td>NaN</td>\n",
       "      <td>NaN</td>\n",
       "      <td>Analia_vchavez@hotmail.com</td>\n",
       "      <td>NaN</td>\n",
       "    </tr>\n",
       "    <tr>\n",
       "      <th>4</th>\n",
       "      <td>DNI 10117117</td>\n",
       "      <td>10117117</td>\n",
       "      <td>20101171176</td>\n",
       "      <td>FILIPPAZZO</td>\n",
       "      <td>ERNESTO ROBERTO</td>\n",
       "      <td>M</td>\n",
       "      <td>02/01/1952</td>\n",
       "      <td>NO</td>\n",
       "      <td>DIAG.LACROZE 1783</td>\n",
       "      <td>BILLINGHURST</td>\n",
       "      <td>...</td>\n",
       "      <td>1.147346e+09</td>\n",
       "      <td>Telecom Argentina</td>\n",
       "      <td>1.147347e+09</td>\n",
       "      <td>Telecom Argentina</td>\n",
       "      <td>NaN</td>\n",
       "      <td>NaN</td>\n",
       "      <td>NaN</td>\n",
       "      <td>NaN</td>\n",
       "      <td>os-estudio@hotmail.com</td>\n",
       "      <td>yamisanlorenzo777@hotmail.com</td>\n",
       "    </tr>\n",
       "  </tbody>\n",
       "</table>\n",
       "<p>5 rows × 33 columns</p>\n",
       "</div>"
      ],
      "text/plain": [
       "            #ID  DOCUMENTO         CUIL    APELLIDO           NOMBRE SEXO  \\\n",
       "0  DNI 10039621   10039621  27100396217        CANO        ANA MARIA    F   \n",
       "1  DNI 10046071   10046071  27100460713    D'ANGELO       ROSA HILDA    F   \n",
       "2  DNI 10083637   10083637  27100836373      ROMERO     MARTA ALICIA    F   \n",
       "3  DNI 10085866   10085866  20100858666      CHAVEZ   JUAN CRISOTOMO    M   \n",
       "4  DNI 10117117   10117117  20101171176  FILIPPAZZO  ERNESTO ROBERTO    M   \n",
       "\n",
       "    FECHA_NAC DIFUNTO   PADRON_DOMICILIO PADRON_LOCALIDAD  ... TELEFONO_FIJO1  \\\n",
       "0  30/11/1951      SI    LA PAMPA 1721 3    MAR DEL PLATA  ...   2.234747e+09   \n",
       "1  19/02/1951      NO    PUEYRREDON 1161     OBSERVATORIO  ...            NaN   \n",
       "2  18/10/1951      NO     SARMIENTO 3940          ALMAGRO  ...   1.149839e+09   \n",
       "3  27/01/1952      SI           CUYO 526        LLAVALLOL  ...   1.142934e+09   \n",
       "4  02/01/1952      NO  DIAG.LACROZE 1783     BILLINGHURST  ...   1.147346e+09   \n",
       "\n",
       "  TELEFONO_FIJO1_OPERADOR  TELEFONO_FIJO2 TELEFONO_FIJO2_OPERADOR  \\\n",
       "0    Telefonica Argentina             NaN                     NaN   \n",
       "1                     NaN             NaN                     NaN   \n",
       "2    Telefonica Argentina             NaN                     NaN   \n",
       "3    Telefonica Argentina             NaN                     NaN   \n",
       "4       Telecom Argentina    1.147347e+09       Telecom Argentina   \n",
       "\n",
       "   TELEFONO_FIJO3  TELEFONO_FIJO3_OPERADOR TELEFONO_FIJO4  \\\n",
       "0             NaN                      NaN            NaN   \n",
       "1             NaN                      NaN            NaN   \n",
       "2             NaN                      NaN            NaN   \n",
       "3             NaN                      NaN            NaN   \n",
       "4             NaN                      NaN            NaN   \n",
       "\n",
       "   TELEFONO_FIJO4_OPERADOR                       EMAIL  \\\n",
       "0                      NaN   adriandario74@HOTMAIL.COM   \n",
       "1                      NaN       dieperez@yahoo.com.ar   \n",
       "2                      NaN      romeromartac@yahoo.com   \n",
       "3                      NaN  Analia_vchavez@hotmail.com   \n",
       "4                      NaN      os-estudio@hotmail.com   \n",
       "\n",
       "                          EMAIL2  \n",
       "0  cristiantejedo-ks@hotmail.com  \n",
       "1                            NaN  \n",
       "2          csofiacarla@yahoo.com  \n",
       "3                            NaN  \n",
       "4  yamisanlorenzo777@hotmail.com  \n",
       "\n",
       "[5 rows x 33 columns]"
      ]
     },
     "execution_count": 158,
     "metadata": {},
     "output_type": "execute_result"
    }
   ],
   "source": [
    "df.head()"
   ]
  },
  {
   "cell_type": "code",
   "execution_count": 159,
   "metadata": {},
   "outputs": [
    {
     "data": {
      "text/html": [
       "<div>\n",
       "<style scoped>\n",
       "    .dataframe tbody tr th:only-of-type {\n",
       "        vertical-align: middle;\n",
       "    }\n",
       "\n",
       "    .dataframe tbody tr th {\n",
       "        vertical-align: top;\n",
       "    }\n",
       "\n",
       "    .dataframe thead th {\n",
       "        text-align: right;\n",
       "    }\n",
       "</style>\n",
       "<table border=\"1\" class=\"dataframe\">\n",
       "  <thead>\n",
       "    <tr style=\"text-align: right;\">\n",
       "      <th></th>\n",
       "      <th>#ID</th>\n",
       "      <th>DOCUMENTO</th>\n",
       "      <th>CUIL</th>\n",
       "      <th>APELLIDO</th>\n",
       "      <th>NOMBRE</th>\n",
       "      <th>SEXO</th>\n",
       "      <th>FECHA_NAC</th>\n",
       "      <th>DIFUNTO</th>\n",
       "      <th>PADRON_DOMICILIO</th>\n",
       "      <th>PADRON_LOCALIDAD</th>\n",
       "      <th>...</th>\n",
       "      <th>TELEFONO_FIJO1</th>\n",
       "      <th>TELEFONO_FIJO1_OPERADOR</th>\n",
       "      <th>TELEFONO_FIJO2</th>\n",
       "      <th>TELEFONO_FIJO2_OPERADOR</th>\n",
       "      <th>TELEFONO_FIJO3</th>\n",
       "      <th>TELEFONO_FIJO3_OPERADOR</th>\n",
       "      <th>TELEFONO_FIJO4</th>\n",
       "      <th>TELEFONO_FIJO4_OPERADOR</th>\n",
       "      <th>EMAIL</th>\n",
       "      <th>EMAIL2</th>\n",
       "    </tr>\n",
       "  </thead>\n",
       "  <tbody>\n",
       "    <tr>\n",
       "      <th>0</th>\n",
       "      <td>DNI 10039621</td>\n",
       "      <td>10039621</td>\n",
       "      <td>27100396217</td>\n",
       "      <td>CANO</td>\n",
       "      <td>ANA MARIA</td>\n",
       "      <td>F</td>\n",
       "      <td>30/11/1951</td>\n",
       "      <td>SI</td>\n",
       "      <td>LA PAMPA 1721 3</td>\n",
       "      <td>MAR DEL PLATA</td>\n",
       "      <td>...</td>\n",
       "      <td>2.234747e+09</td>\n",
       "      <td>Telefonica Argentina</td>\n",
       "      <td>NaN</td>\n",
       "      <td>NaN</td>\n",
       "      <td>NaN</td>\n",
       "      <td>NaN</td>\n",
       "      <td>NaN</td>\n",
       "      <td>NaN</td>\n",
       "      <td>adriandario74@HOTMAIL.COM</td>\n",
       "      <td>cristiantejedo-ks@hotmail.com</td>\n",
       "    </tr>\n",
       "    <tr>\n",
       "      <th>1</th>\n",
       "      <td>DNI 10046071</td>\n",
       "      <td>10046071</td>\n",
       "      <td>27100460713</td>\n",
       "      <td>D'ANGELO</td>\n",
       "      <td>ROSA HILDA</td>\n",
       "      <td>F</td>\n",
       "      <td>19/02/1951</td>\n",
       "      <td>NO</td>\n",
       "      <td>PUEYRREDON 1161</td>\n",
       "      <td>OBSERVATORIO</td>\n",
       "      <td>...</td>\n",
       "      <td>NaN</td>\n",
       "      <td>NaN</td>\n",
       "      <td>NaN</td>\n",
       "      <td>NaN</td>\n",
       "      <td>NaN</td>\n",
       "      <td>NaN</td>\n",
       "      <td>NaN</td>\n",
       "      <td>NaN</td>\n",
       "      <td>dieperez@yahoo.com.ar</td>\n",
       "      <td>NaN</td>\n",
       "    </tr>\n",
       "    <tr>\n",
       "      <th>2</th>\n",
       "      <td>DNI 10083637</td>\n",
       "      <td>10083637</td>\n",
       "      <td>27100836373</td>\n",
       "      <td>ROMERO</td>\n",
       "      <td>MARTA ALICIA</td>\n",
       "      <td>F</td>\n",
       "      <td>18/10/1951</td>\n",
       "      <td>NO</td>\n",
       "      <td>SARMIENTO 3940</td>\n",
       "      <td>ALMAGRO</td>\n",
       "      <td>...</td>\n",
       "      <td>1.149839e+09</td>\n",
       "      <td>Telefonica Argentina</td>\n",
       "      <td>NaN</td>\n",
       "      <td>NaN</td>\n",
       "      <td>NaN</td>\n",
       "      <td>NaN</td>\n",
       "      <td>NaN</td>\n",
       "      <td>NaN</td>\n",
       "      <td>romeromartac@yahoo.com</td>\n",
       "      <td>csofiacarla@yahoo.com</td>\n",
       "    </tr>\n",
       "    <tr>\n",
       "      <th>3</th>\n",
       "      <td>DNI 10085866</td>\n",
       "      <td>10085866</td>\n",
       "      <td>20100858666</td>\n",
       "      <td>CHAVEZ</td>\n",
       "      <td>JUAN CRISOTOMO</td>\n",
       "      <td>M</td>\n",
       "      <td>27/01/1952</td>\n",
       "      <td>SI</td>\n",
       "      <td>CUYO 526</td>\n",
       "      <td>LLAVALLOL</td>\n",
       "      <td>...</td>\n",
       "      <td>1.142934e+09</td>\n",
       "      <td>Telefonica Argentina</td>\n",
       "      <td>NaN</td>\n",
       "      <td>NaN</td>\n",
       "      <td>NaN</td>\n",
       "      <td>NaN</td>\n",
       "      <td>NaN</td>\n",
       "      <td>NaN</td>\n",
       "      <td>Analia_vchavez@hotmail.com</td>\n",
       "      <td>NaN</td>\n",
       "    </tr>\n",
       "    <tr>\n",
       "      <th>4</th>\n",
       "      <td>DNI 10117117</td>\n",
       "      <td>10117117</td>\n",
       "      <td>20101171176</td>\n",
       "      <td>FILIPPAZZO</td>\n",
       "      <td>ERNESTO ROBERTO</td>\n",
       "      <td>M</td>\n",
       "      <td>02/01/1952</td>\n",
       "      <td>NO</td>\n",
       "      <td>DIAG.LACROZE 1783</td>\n",
       "      <td>BILLINGHURST</td>\n",
       "      <td>...</td>\n",
       "      <td>1.147346e+09</td>\n",
       "      <td>Telecom Argentina</td>\n",
       "      <td>1.147347e+09</td>\n",
       "      <td>Telecom Argentina</td>\n",
       "      <td>NaN</td>\n",
       "      <td>NaN</td>\n",
       "      <td>NaN</td>\n",
       "      <td>NaN</td>\n",
       "      <td>os-estudio@hotmail.com</td>\n",
       "      <td>yamisanlorenzo777@hotmail.com</td>\n",
       "    </tr>\n",
       "  </tbody>\n",
       "</table>\n",
       "<p>5 rows × 33 columns</p>\n",
       "</div>"
      ],
      "text/plain": [
       "            #ID  DOCUMENTO         CUIL    APELLIDO           NOMBRE SEXO  \\\n",
       "0  DNI 10039621   10039621  27100396217        CANO        ANA MARIA    F   \n",
       "1  DNI 10046071   10046071  27100460713    D'ANGELO       ROSA HILDA    F   \n",
       "2  DNI 10083637   10083637  27100836373      ROMERO     MARTA ALICIA    F   \n",
       "3  DNI 10085866   10085866  20100858666      CHAVEZ   JUAN CRISOTOMO    M   \n",
       "4  DNI 10117117   10117117  20101171176  FILIPPAZZO  ERNESTO ROBERTO    M   \n",
       "\n",
       "    FECHA_NAC DIFUNTO   PADRON_DOMICILIO PADRON_LOCALIDAD  ... TELEFONO_FIJO1  \\\n",
       "0  30/11/1951      SI    LA PAMPA 1721 3    MAR DEL PLATA  ...   2.234747e+09   \n",
       "1  19/02/1951      NO    PUEYRREDON 1161     OBSERVATORIO  ...            NaN   \n",
       "2  18/10/1951      NO     SARMIENTO 3940          ALMAGRO  ...   1.149839e+09   \n",
       "3  27/01/1952      SI           CUYO 526        LLAVALLOL  ...   1.142934e+09   \n",
       "4  02/01/1952      NO  DIAG.LACROZE 1783     BILLINGHURST  ...   1.147346e+09   \n",
       "\n",
       "  TELEFONO_FIJO1_OPERADOR  TELEFONO_FIJO2 TELEFONO_FIJO2_OPERADOR  \\\n",
       "0    Telefonica Argentina             NaN                     NaN   \n",
       "1                     NaN             NaN                     NaN   \n",
       "2    Telefonica Argentina             NaN                     NaN   \n",
       "3    Telefonica Argentina             NaN                     NaN   \n",
       "4       Telecom Argentina    1.147347e+09       Telecom Argentina   \n",
       "\n",
       "   TELEFONO_FIJO3  TELEFONO_FIJO3_OPERADOR TELEFONO_FIJO4  \\\n",
       "0             NaN                      NaN            NaN   \n",
       "1             NaN                      NaN            NaN   \n",
       "2             NaN                      NaN            NaN   \n",
       "3             NaN                      NaN            NaN   \n",
       "4             NaN                      NaN            NaN   \n",
       "\n",
       "   TELEFONO_FIJO4_OPERADOR                       EMAIL  \\\n",
       "0                      NaN   adriandario74@HOTMAIL.COM   \n",
       "1                      NaN       dieperez@yahoo.com.ar   \n",
       "2                      NaN      romeromartac@yahoo.com   \n",
       "3                      NaN  Analia_vchavez@hotmail.com   \n",
       "4                      NaN      os-estudio@hotmail.com   \n",
       "\n",
       "                          EMAIL2  \n",
       "0  cristiantejedo-ks@hotmail.com  \n",
       "1                            NaN  \n",
       "2          csofiacarla@yahoo.com  \n",
       "3                            NaN  \n",
       "4  yamisanlorenzo777@hotmail.com  \n",
       "\n",
       "[5 rows x 33 columns]"
      ]
     },
     "execution_count": 159,
     "metadata": {},
     "output_type": "execute_result"
    }
   ],
   "source": [
    "df.head()"
   ]
  },
  {
   "cell_type": "code",
   "execution_count": 160,
   "metadata": {
    "scrolled": true
   },
   "outputs": [
    {
     "data": {
      "text/plain": [
       "(21775, 33)"
      ]
     },
     "execution_count": 160,
     "metadata": {},
     "output_type": "execute_result"
    }
   ],
   "source": [
    "df.shape"
   ]
  },
  {
   "cell_type": "markdown",
   "metadata": {},
   "source": [
    "## 1.2) Data Cleaning: Datasets"
   ]
  },
  {
   "cell_type": "markdown",
   "metadata": {},
   "source": [
    "Vamos a dropear aquellas columnas y filas que no tengan ningún valor (es decir, que sean todos NaNs)"
   ]
  },
  {
   "cell_type": "code",
   "execution_count": 161,
   "metadata": {},
   "outputs": [],
   "source": [
    "df = df.dropna(axis=0, how='all')"
   ]
  },
  {
   "cell_type": "code",
   "execution_count": 162,
   "metadata": {},
   "outputs": [],
   "source": [
    "#df = df.dropna(axis=1, how='all')"
   ]
  },
  {
   "cell_type": "code",
   "execution_count": 163,
   "metadata": {},
   "outputs": [
    {
     "data": {
      "text/plain": [
       "(21775, 33)"
      ]
     },
     "execution_count": 163,
     "metadata": {},
     "output_type": "execute_result"
    }
   ],
   "source": [
    "df.shape"
   ]
  },
  {
   "cell_type": "markdown",
   "metadata": {},
   "source": [
    "Ahora todas las columnas tienen al menos 1 dato."
   ]
  },
  {
   "cell_type": "markdown",
   "metadata": {},
   "source": [
    "# 2) Mails"
   ]
  },
  {
   "cell_type": "code",
   "execution_count": 164,
   "metadata": {},
   "outputs": [
    {
     "data": {
      "text/html": [
       "<div>\n",
       "<style scoped>\n",
       "    .dataframe tbody tr th:only-of-type {\n",
       "        vertical-align: middle;\n",
       "    }\n",
       "\n",
       "    .dataframe tbody tr th {\n",
       "        vertical-align: top;\n",
       "    }\n",
       "\n",
       "    .dataframe thead th {\n",
       "        text-align: right;\n",
       "    }\n",
       "</style>\n",
       "<table border=\"1\" class=\"dataframe\">\n",
       "  <thead>\n",
       "    <tr style=\"text-align: right;\">\n",
       "      <th></th>\n",
       "      <th>#ID</th>\n",
       "      <th>DOCUMENTO</th>\n",
       "      <th>CUIL</th>\n",
       "      <th>APELLIDO</th>\n",
       "      <th>NOMBRE</th>\n",
       "      <th>SEXO</th>\n",
       "      <th>FECHA_NAC</th>\n",
       "      <th>DIFUNTO</th>\n",
       "      <th>PADRON_DOMICILIO</th>\n",
       "      <th>PADRON_LOCALIDAD</th>\n",
       "      <th>...</th>\n",
       "      <th>TELEFONO_FIJO1</th>\n",
       "      <th>TELEFONO_FIJO1_OPERADOR</th>\n",
       "      <th>TELEFONO_FIJO2</th>\n",
       "      <th>TELEFONO_FIJO2_OPERADOR</th>\n",
       "      <th>TELEFONO_FIJO3</th>\n",
       "      <th>TELEFONO_FIJO3_OPERADOR</th>\n",
       "      <th>TELEFONO_FIJO4</th>\n",
       "      <th>TELEFONO_FIJO4_OPERADOR</th>\n",
       "      <th>EMAIL</th>\n",
       "      <th>EMAIL2</th>\n",
       "    </tr>\n",
       "  </thead>\n",
       "  <tbody>\n",
       "    <tr>\n",
       "      <th>0</th>\n",
       "      <td>DNI 10039621</td>\n",
       "      <td>10039621</td>\n",
       "      <td>27100396217</td>\n",
       "      <td>CANO</td>\n",
       "      <td>ANA MARIA</td>\n",
       "      <td>F</td>\n",
       "      <td>30/11/1951</td>\n",
       "      <td>SI</td>\n",
       "      <td>LA PAMPA 1721 3</td>\n",
       "      <td>MAR DEL PLATA</td>\n",
       "      <td>...</td>\n",
       "      <td>2.234747e+09</td>\n",
       "      <td>Telefonica Argentina</td>\n",
       "      <td>NaN</td>\n",
       "      <td>NaN</td>\n",
       "      <td>NaN</td>\n",
       "      <td>NaN</td>\n",
       "      <td>NaN</td>\n",
       "      <td>NaN</td>\n",
       "      <td>adriandario74@HOTMAIL.COM</td>\n",
       "      <td>cristiantejedo-ks@hotmail.com</td>\n",
       "    </tr>\n",
       "  </tbody>\n",
       "</table>\n",
       "<p>1 rows × 33 columns</p>\n",
       "</div>"
      ],
      "text/plain": [
       "            #ID  DOCUMENTO         CUIL APELLIDO     NOMBRE SEXO   FECHA_NAC  \\\n",
       "0  DNI 10039621   10039621  27100396217     CANO  ANA MARIA    F  30/11/1951   \n",
       "\n",
       "  DIFUNTO PADRON_DOMICILIO PADRON_LOCALIDAD  ... TELEFONO_FIJO1  \\\n",
       "0      SI  LA PAMPA 1721 3    MAR DEL PLATA  ...   2.234747e+09   \n",
       "\n",
       "  TELEFONO_FIJO1_OPERADOR  TELEFONO_FIJO2 TELEFONO_FIJO2_OPERADOR  \\\n",
       "0    Telefonica Argentina             NaN                     NaN   \n",
       "\n",
       "   TELEFONO_FIJO3  TELEFONO_FIJO3_OPERADOR TELEFONO_FIJO4  \\\n",
       "0             NaN                      NaN            NaN   \n",
       "\n",
       "   TELEFONO_FIJO4_OPERADOR                      EMAIL  \\\n",
       "0                      NaN  adriandario74@HOTMAIL.COM   \n",
       "\n",
       "                          EMAIL2  \n",
       "0  cristiantejedo-ks@hotmail.com  \n",
       "\n",
       "[1 rows x 33 columns]"
      ]
     },
     "execution_count": 164,
     "metadata": {},
     "output_type": "execute_result"
    }
   ],
   "source": [
    "df.head(1)"
   ]
  },
  {
   "cell_type": "markdown",
   "metadata": {},
   "source": [
    "Vamos a obtener los mails de las columnas donde pueden aparecer, que son:\n",
    "\n",
    "- Mail 1, 2 y 3.\n",
    "- Email Empleador.\n",
    "- Contactacion Opcional (Familiar) - Email."
   ]
  },
  {
   "cell_type": "code",
   "execution_count": 165,
   "metadata": {},
   "outputs": [
    {
     "data": {
      "text/html": [
       "<div>\n",
       "<style scoped>\n",
       "    .dataframe tbody tr th:only-of-type {\n",
       "        vertical-align: middle;\n",
       "    }\n",
       "\n",
       "    .dataframe tbody tr th {\n",
       "        vertical-align: top;\n",
       "    }\n",
       "\n",
       "    .dataframe thead th {\n",
       "        text-align: right;\n",
       "    }\n",
       "</style>\n",
       "<table border=\"1\" class=\"dataframe\">\n",
       "  <thead>\n",
       "    <tr style=\"text-align: right;\">\n",
       "      <th></th>\n",
       "      <th>DOCUMENTO</th>\n",
       "      <th>CUIL</th>\n",
       "      <th>APELLIDO</th>\n",
       "      <th>NOMBRE</th>\n",
       "      <th>EMAIL</th>\n",
       "      <th>EMAIL2</th>\n",
       "    </tr>\n",
       "  </thead>\n",
       "  <tbody>\n",
       "    <tr>\n",
       "      <th>0</th>\n",
       "      <td>10039621</td>\n",
       "      <td>27100396217</td>\n",
       "      <td>CANO</td>\n",
       "      <td>ANA MARIA</td>\n",
       "      <td>adriandario74@HOTMAIL.COM</td>\n",
       "      <td>cristiantejedo-ks@hotmail.com</td>\n",
       "    </tr>\n",
       "    <tr>\n",
       "      <th>1</th>\n",
       "      <td>10046071</td>\n",
       "      <td>27100460713</td>\n",
       "      <td>D'ANGELO</td>\n",
       "      <td>ROSA HILDA</td>\n",
       "      <td>dieperez@yahoo.com.ar</td>\n",
       "      <td>NaN</td>\n",
       "    </tr>\n",
       "    <tr>\n",
       "      <th>2</th>\n",
       "      <td>10083637</td>\n",
       "      <td>27100836373</td>\n",
       "      <td>ROMERO</td>\n",
       "      <td>MARTA ALICIA</td>\n",
       "      <td>romeromartac@yahoo.com</td>\n",
       "      <td>csofiacarla@yahoo.com</td>\n",
       "    </tr>\n",
       "    <tr>\n",
       "      <th>3</th>\n",
       "      <td>10085866</td>\n",
       "      <td>20100858666</td>\n",
       "      <td>CHAVEZ</td>\n",
       "      <td>JUAN CRISOTOMO</td>\n",
       "      <td>Analia_vchavez@hotmail.com</td>\n",
       "      <td>NaN</td>\n",
       "    </tr>\n",
       "    <tr>\n",
       "      <th>4</th>\n",
       "      <td>10117117</td>\n",
       "      <td>20101171176</td>\n",
       "      <td>FILIPPAZZO</td>\n",
       "      <td>ERNESTO ROBERTO</td>\n",
       "      <td>os-estudio@hotmail.com</td>\n",
       "      <td>yamisanlorenzo777@hotmail.com</td>\n",
       "    </tr>\n",
       "  </tbody>\n",
       "</table>\n",
       "</div>"
      ],
      "text/plain": [
       "   DOCUMENTO         CUIL    APELLIDO           NOMBRE  \\\n",
       "0   10039621  27100396217        CANO        ANA MARIA   \n",
       "1   10046071  27100460713    D'ANGELO       ROSA HILDA   \n",
       "2   10083637  27100836373      ROMERO     MARTA ALICIA   \n",
       "3   10085866  20100858666      CHAVEZ   JUAN CRISOTOMO   \n",
       "4   10117117  20101171176  FILIPPAZZO  ERNESTO ROBERTO   \n",
       "\n",
       "                        EMAIL                         EMAIL2  \n",
       "0   adriandario74@HOTMAIL.COM  cristiantejedo-ks@hotmail.com  \n",
       "1       dieperez@yahoo.com.ar                            NaN  \n",
       "2      romeromartac@yahoo.com          csofiacarla@yahoo.com  \n",
       "3  Analia_vchavez@hotmail.com                            NaN  \n",
       "4      os-estudio@hotmail.com  yamisanlorenzo777@hotmail.com  "
      ]
     },
     "execution_count": 165,
     "metadata": {},
     "output_type": "execute_result"
    }
   ],
   "source": [
    "df_reduced = df[[\"DOCUMENTO\", \"CUIL\", \"APELLIDO\", \"NOMBRE\", \"EMAIL\",\"EMAIL2\"]]\n",
    "df_reduced.head()"
   ]
  },
  {
   "cell_type": "code",
   "execution_count": 166,
   "metadata": {},
   "outputs": [],
   "source": [
    "df_reduced = df_reduced.rename(columns={\"CUIL\": \"CUIT_CUIL\", 'DOCUMENTO': 'NRO_DOC'})"
   ]
  },
  {
   "cell_type": "code",
   "execution_count": 167,
   "metadata": {},
   "outputs": [
    {
     "data": {
      "text/html": [
       "<div>\n",
       "<style scoped>\n",
       "    .dataframe tbody tr th:only-of-type {\n",
       "        vertical-align: middle;\n",
       "    }\n",
       "\n",
       "    .dataframe tbody tr th {\n",
       "        vertical-align: top;\n",
       "    }\n",
       "\n",
       "    .dataframe thead th {\n",
       "        text-align: right;\n",
       "    }\n",
       "</style>\n",
       "<table border=\"1\" class=\"dataframe\">\n",
       "  <thead>\n",
       "    <tr style=\"text-align: right;\">\n",
       "      <th></th>\n",
       "      <th>NRO_DOC</th>\n",
       "      <th>CUIT_CUIL</th>\n",
       "      <th>APELLIDO</th>\n",
       "      <th>NOMBRE</th>\n",
       "      <th>EMAIL</th>\n",
       "      <th>EMAIL2</th>\n",
       "    </tr>\n",
       "  </thead>\n",
       "  <tbody>\n",
       "    <tr>\n",
       "      <th>0</th>\n",
       "      <td>10039621</td>\n",
       "      <td>27100396217</td>\n",
       "      <td>CANO</td>\n",
       "      <td>ANA MARIA</td>\n",
       "      <td>adriandario74@HOTMAIL.COM</td>\n",
       "      <td>cristiantejedo-ks@hotmail.com</td>\n",
       "    </tr>\n",
       "    <tr>\n",
       "      <th>1</th>\n",
       "      <td>10046071</td>\n",
       "      <td>27100460713</td>\n",
       "      <td>D'ANGELO</td>\n",
       "      <td>ROSA HILDA</td>\n",
       "      <td>dieperez@yahoo.com.ar</td>\n",
       "      <td>NaN</td>\n",
       "    </tr>\n",
       "    <tr>\n",
       "      <th>2</th>\n",
       "      <td>10083637</td>\n",
       "      <td>27100836373</td>\n",
       "      <td>ROMERO</td>\n",
       "      <td>MARTA ALICIA</td>\n",
       "      <td>romeromartac@yahoo.com</td>\n",
       "      <td>csofiacarla@yahoo.com</td>\n",
       "    </tr>\n",
       "    <tr>\n",
       "      <th>3</th>\n",
       "      <td>10085866</td>\n",
       "      <td>20100858666</td>\n",
       "      <td>CHAVEZ</td>\n",
       "      <td>JUAN CRISOTOMO</td>\n",
       "      <td>Analia_vchavez@hotmail.com</td>\n",
       "      <td>NaN</td>\n",
       "    </tr>\n",
       "    <tr>\n",
       "      <th>4</th>\n",
       "      <td>10117117</td>\n",
       "      <td>20101171176</td>\n",
       "      <td>FILIPPAZZO</td>\n",
       "      <td>ERNESTO ROBERTO</td>\n",
       "      <td>os-estudio@hotmail.com</td>\n",
       "      <td>yamisanlorenzo777@hotmail.com</td>\n",
       "    </tr>\n",
       "  </tbody>\n",
       "</table>\n",
       "</div>"
      ],
      "text/plain": [
       "    NRO_DOC    CUIT_CUIL    APELLIDO           NOMBRE  \\\n",
       "0  10039621  27100396217        CANO        ANA MARIA   \n",
       "1  10046071  27100460713    D'ANGELO       ROSA HILDA   \n",
       "2  10083637  27100836373      ROMERO     MARTA ALICIA   \n",
       "3  10085866  20100858666      CHAVEZ   JUAN CRISOTOMO   \n",
       "4  10117117  20101171176  FILIPPAZZO  ERNESTO ROBERTO   \n",
       "\n",
       "                        EMAIL                         EMAIL2  \n",
       "0   adriandario74@HOTMAIL.COM  cristiantejedo-ks@hotmail.com  \n",
       "1       dieperez@yahoo.com.ar                            NaN  \n",
       "2      romeromartac@yahoo.com          csofiacarla@yahoo.com  \n",
       "3  Analia_vchavez@hotmail.com                            NaN  \n",
       "4      os-estudio@hotmail.com  yamisanlorenzo777@hotmail.com  "
      ]
     },
     "execution_count": 167,
     "metadata": {},
     "output_type": "execute_result"
    }
   ],
   "source": [
    "df_reduced.head()"
   ]
  },
  {
   "cell_type": "markdown",
   "metadata": {},
   "source": [
    "# 3) Concatenación de Mails"
   ]
  },
  {
   "cell_type": "markdown",
   "metadata": {},
   "source": [
    "Como PyP envía un mail por celda, tengo que concatenar las columnas Mail_propio y Mail_ajeno en una lista dentro de una nueva columna denominada \"Dato\"\n",
    "y luego se ponen todos los mails en minúscula"
   ]
  },
  {
   "cell_type": "code",
   "execution_count": 168,
   "metadata": {},
   "outputs": [],
   "source": [
    "df_melt = pd.melt(df_reduced, id_vars=['CUIT_CUIL', 'NRO_DOC', 'APELLIDO','NOMBRE'], \n",
    "                 value_vars=['EMAIL','EMAIL2'],value_name='Dato')\n",
    "df_melt[\"Dato\"] = df_melt[\"Dato\"].str.lower()"
   ]
  },
  {
   "cell_type": "code",
   "execution_count": 169,
   "metadata": {},
   "outputs": [
    {
     "data": {
      "text/html": [
       "<div>\n",
       "<style scoped>\n",
       "    .dataframe tbody tr th:only-of-type {\n",
       "        vertical-align: middle;\n",
       "    }\n",
       "\n",
       "    .dataframe tbody tr th {\n",
       "        vertical-align: top;\n",
       "    }\n",
       "\n",
       "    .dataframe thead th {\n",
       "        text-align: right;\n",
       "    }\n",
       "</style>\n",
       "<table border=\"1\" class=\"dataframe\">\n",
       "  <thead>\n",
       "    <tr style=\"text-align: right;\">\n",
       "      <th></th>\n",
       "      <th>CUIT_CUIL</th>\n",
       "      <th>NRO_DOC</th>\n",
       "      <th>APELLIDO</th>\n",
       "      <th>NOMBRE</th>\n",
       "      <th>variable</th>\n",
       "      <th>Dato</th>\n",
       "    </tr>\n",
       "  </thead>\n",
       "  <tbody>\n",
       "    <tr>\n",
       "      <th>0</th>\n",
       "      <td>27100396217</td>\n",
       "      <td>10039621</td>\n",
       "      <td>CANO</td>\n",
       "      <td>ANA MARIA</td>\n",
       "      <td>EMAIL</td>\n",
       "      <td>adriandario74@hotmail.com</td>\n",
       "    </tr>\n",
       "    <tr>\n",
       "      <th>1</th>\n",
       "      <td>27100460713</td>\n",
       "      <td>10046071</td>\n",
       "      <td>D'ANGELO</td>\n",
       "      <td>ROSA HILDA</td>\n",
       "      <td>EMAIL</td>\n",
       "      <td>dieperez@yahoo.com.ar</td>\n",
       "    </tr>\n",
       "    <tr>\n",
       "      <th>2</th>\n",
       "      <td>27100836373</td>\n",
       "      <td>10083637</td>\n",
       "      <td>ROMERO</td>\n",
       "      <td>MARTA ALICIA</td>\n",
       "      <td>EMAIL</td>\n",
       "      <td>romeromartac@yahoo.com</td>\n",
       "    </tr>\n",
       "    <tr>\n",
       "      <th>3</th>\n",
       "      <td>20100858666</td>\n",
       "      <td>10085866</td>\n",
       "      <td>CHAVEZ</td>\n",
       "      <td>JUAN CRISOTOMO</td>\n",
       "      <td>EMAIL</td>\n",
       "      <td>analia_vchavez@hotmail.com</td>\n",
       "    </tr>\n",
       "    <tr>\n",
       "      <th>4</th>\n",
       "      <td>20101171176</td>\n",
       "      <td>10117117</td>\n",
       "      <td>FILIPPAZZO</td>\n",
       "      <td>ERNESTO ROBERTO</td>\n",
       "      <td>EMAIL</td>\n",
       "      <td>os-estudio@hotmail.com</td>\n",
       "    </tr>\n",
       "  </tbody>\n",
       "</table>\n",
       "</div>"
      ],
      "text/plain": [
       "     CUIT_CUIL   NRO_DOC    APELLIDO           NOMBRE variable  \\\n",
       "0  27100396217  10039621        CANO        ANA MARIA    EMAIL   \n",
       "1  27100460713  10046071    D'ANGELO       ROSA HILDA    EMAIL   \n",
       "2  27100836373  10083637      ROMERO     MARTA ALICIA    EMAIL   \n",
       "3  20100858666  10085866      CHAVEZ   JUAN CRISOTOMO    EMAIL   \n",
       "4  20101171176  10117117  FILIPPAZZO  ERNESTO ROBERTO    EMAIL   \n",
       "\n",
       "                         Dato  \n",
       "0   adriandario74@hotmail.com  \n",
       "1       dieperez@yahoo.com.ar  \n",
       "2      romeromartac@yahoo.com  \n",
       "3  analia_vchavez@hotmail.com  \n",
       "4      os-estudio@hotmail.com  "
      ]
     },
     "execution_count": 169,
     "metadata": {},
     "output_type": "execute_result"
    }
   ],
   "source": [
    "df_melt.head()"
   ]
  },
  {
   "cell_type": "markdown",
   "metadata": {},
   "source": [
    "# 4) Drop NaNs"
   ]
  },
  {
   "cell_type": "markdown",
   "metadata": {},
   "source": [
    "Dropeamos aquellas filas que tengan NaN en la columna Dato, ya que no nos aporta nada:"
   ]
  },
  {
   "cell_type": "code",
   "execution_count": 170,
   "metadata": {},
   "outputs": [],
   "source": [
    "df_melt = df_melt.dropna(subset=['Dato'])"
   ]
  },
  {
   "cell_type": "code",
   "execution_count": 171,
   "metadata": {},
   "outputs": [
    {
     "data": {
      "text/plain": [
       "(18710, 6)"
      ]
     },
     "execution_count": 171,
     "metadata": {},
     "output_type": "execute_result"
    }
   ],
   "source": [
    "df_melt.shape"
   ]
  },
  {
   "cell_type": "code",
   "execution_count": 172,
   "metadata": {},
   "outputs": [
    {
     "data": {
      "text/html": [
       "<div>\n",
       "<style scoped>\n",
       "    .dataframe tbody tr th:only-of-type {\n",
       "        vertical-align: middle;\n",
       "    }\n",
       "\n",
       "    .dataframe tbody tr th {\n",
       "        vertical-align: top;\n",
       "    }\n",
       "\n",
       "    .dataframe thead th {\n",
       "        text-align: right;\n",
       "    }\n",
       "</style>\n",
       "<table border=\"1\" class=\"dataframe\">\n",
       "  <thead>\n",
       "    <tr style=\"text-align: right;\">\n",
       "      <th></th>\n",
       "      <th>CUIT_CUIL</th>\n",
       "      <th>NRO_DOC</th>\n",
       "      <th>APELLIDO</th>\n",
       "      <th>NOMBRE</th>\n",
       "      <th>variable</th>\n",
       "      <th>Dato</th>\n",
       "    </tr>\n",
       "  </thead>\n",
       "  <tbody>\n",
       "    <tr>\n",
       "      <th>0</th>\n",
       "      <td>27100396217</td>\n",
       "      <td>10039621</td>\n",
       "      <td>CANO</td>\n",
       "      <td>ANA MARIA</td>\n",
       "      <td>EMAIL</td>\n",
       "      <td>adriandario74@hotmail.com</td>\n",
       "    </tr>\n",
       "    <tr>\n",
       "      <th>1</th>\n",
       "      <td>27100460713</td>\n",
       "      <td>10046071</td>\n",
       "      <td>D'ANGELO</td>\n",
       "      <td>ROSA HILDA</td>\n",
       "      <td>EMAIL</td>\n",
       "      <td>dieperez@yahoo.com.ar</td>\n",
       "    </tr>\n",
       "    <tr>\n",
       "      <th>2</th>\n",
       "      <td>27100836373</td>\n",
       "      <td>10083637</td>\n",
       "      <td>ROMERO</td>\n",
       "      <td>MARTA ALICIA</td>\n",
       "      <td>EMAIL</td>\n",
       "      <td>romeromartac@yahoo.com</td>\n",
       "    </tr>\n",
       "    <tr>\n",
       "      <th>3</th>\n",
       "      <td>20100858666</td>\n",
       "      <td>10085866</td>\n",
       "      <td>CHAVEZ</td>\n",
       "      <td>JUAN CRISOTOMO</td>\n",
       "      <td>EMAIL</td>\n",
       "      <td>analia_vchavez@hotmail.com</td>\n",
       "    </tr>\n",
       "    <tr>\n",
       "      <th>4</th>\n",
       "      <td>20101171176</td>\n",
       "      <td>10117117</td>\n",
       "      <td>FILIPPAZZO</td>\n",
       "      <td>ERNESTO ROBERTO</td>\n",
       "      <td>EMAIL</td>\n",
       "      <td>os-estudio@hotmail.com</td>\n",
       "    </tr>\n",
       "  </tbody>\n",
       "</table>\n",
       "</div>"
      ],
      "text/plain": [
       "     CUIT_CUIL   NRO_DOC    APELLIDO           NOMBRE variable  \\\n",
       "0  27100396217  10039621        CANO        ANA MARIA    EMAIL   \n",
       "1  27100460713  10046071    D'ANGELO       ROSA HILDA    EMAIL   \n",
       "2  27100836373  10083637      ROMERO     MARTA ALICIA    EMAIL   \n",
       "3  20100858666  10085866      CHAVEZ   JUAN CRISOTOMO    EMAIL   \n",
       "4  20101171176  10117117  FILIPPAZZO  ERNESTO ROBERTO    EMAIL   \n",
       "\n",
       "                         Dato  \n",
       "0   adriandario74@hotmail.com  \n",
       "1       dieperez@yahoo.com.ar  \n",
       "2      romeromartac@yahoo.com  \n",
       "3  analia_vchavez@hotmail.com  \n",
       "4      os-estudio@hotmail.com  "
      ]
     },
     "execution_count": 172,
     "metadata": {},
     "output_type": "execute_result"
    }
   ],
   "source": [
    "df_melt.head()"
   ]
  },
  {
   "cell_type": "markdown",
   "metadata": {},
   "source": [
    "# 5) Propietario del Dato"
   ]
  },
  {
   "cell_type": "markdown",
   "metadata": {},
   "source": [
    "En función de la columna \"variable\" creamos una nueva columna PROPIETARIO_DATO"
   ]
  },
  {
   "cell_type": "code",
   "execution_count": 173,
   "metadata": {},
   "outputs": [],
   "source": [
    "df_melt.loc[(df_melt['variable'] == 'EMAIL') , 'PROPIETARIO_DATO'] = 'Propio'"
   ]
  },
  {
   "cell_type": "code",
   "execution_count": 174,
   "metadata": {},
   "outputs": [],
   "source": [
    "df_melt.loc[(df_melt['variable'] == 'EMAIL2') , 'PROPIETARIO_DATO'] = 'Propio'"
   ]
  },
  {
   "cell_type": "code",
   "execution_count": 175,
   "metadata": {},
   "outputs": [],
   "source": [
    "#df_melt.loc[(df_melt['variable'] == 'Mail 3') , 'PROPIETARIO_DATO'] = 'Propio'"
   ]
  },
  {
   "cell_type": "code",
   "execution_count": 176,
   "metadata": {},
   "outputs": [],
   "source": [
    "#df_melt.loc[(df_melt['variable'] == 'Mail_ajeno') , 'PROPIETARIO_DATO'] = 'Ajeno_familiar'"
   ]
  },
  {
   "cell_type": "code",
   "execution_count": 177,
   "metadata": {},
   "outputs": [],
   "source": [
    "#df_melt.loc[(df_melt['variable'] == 'Mail_empleador') , 'PROPIETARIO_DATO'] = 'Ajeno_empleador'"
   ]
  },
  {
   "cell_type": "code",
   "execution_count": 178,
   "metadata": {},
   "outputs": [],
   "source": [
    "#df_melt = df_melt.drop(columns=['variable'])"
   ]
  },
  {
   "cell_type": "code",
   "execution_count": 179,
   "metadata": {},
   "outputs": [
    {
     "data": {
      "text/html": [
       "<div>\n",
       "<style scoped>\n",
       "    .dataframe tbody tr th:only-of-type {\n",
       "        vertical-align: middle;\n",
       "    }\n",
       "\n",
       "    .dataframe tbody tr th {\n",
       "        vertical-align: top;\n",
       "    }\n",
       "\n",
       "    .dataframe thead th {\n",
       "        text-align: right;\n",
       "    }\n",
       "</style>\n",
       "<table border=\"1\" class=\"dataframe\">\n",
       "  <thead>\n",
       "    <tr style=\"text-align: right;\">\n",
       "      <th></th>\n",
       "      <th>CUIT_CUIL</th>\n",
       "      <th>NRO_DOC</th>\n",
       "      <th>APELLIDO</th>\n",
       "      <th>NOMBRE</th>\n",
       "      <th>variable</th>\n",
       "      <th>Dato</th>\n",
       "      <th>PROPIETARIO_DATO</th>\n",
       "    </tr>\n",
       "  </thead>\n",
       "  <tbody>\n",
       "    <tr>\n",
       "      <th>0</th>\n",
       "      <td>27100396217</td>\n",
       "      <td>10039621</td>\n",
       "      <td>CANO</td>\n",
       "      <td>ANA MARIA</td>\n",
       "      <td>EMAIL</td>\n",
       "      <td>adriandario74@hotmail.com</td>\n",
       "      <td>Propio</td>\n",
       "    </tr>\n",
       "    <tr>\n",
       "      <th>1</th>\n",
       "      <td>27100460713</td>\n",
       "      <td>10046071</td>\n",
       "      <td>D'ANGELO</td>\n",
       "      <td>ROSA HILDA</td>\n",
       "      <td>EMAIL</td>\n",
       "      <td>dieperez@yahoo.com.ar</td>\n",
       "      <td>Propio</td>\n",
       "    </tr>\n",
       "    <tr>\n",
       "      <th>2</th>\n",
       "      <td>27100836373</td>\n",
       "      <td>10083637</td>\n",
       "      <td>ROMERO</td>\n",
       "      <td>MARTA ALICIA</td>\n",
       "      <td>EMAIL</td>\n",
       "      <td>romeromartac@yahoo.com</td>\n",
       "      <td>Propio</td>\n",
       "    </tr>\n",
       "    <tr>\n",
       "      <th>3</th>\n",
       "      <td>20100858666</td>\n",
       "      <td>10085866</td>\n",
       "      <td>CHAVEZ</td>\n",
       "      <td>JUAN CRISOTOMO</td>\n",
       "      <td>EMAIL</td>\n",
       "      <td>analia_vchavez@hotmail.com</td>\n",
       "      <td>Propio</td>\n",
       "    </tr>\n",
       "    <tr>\n",
       "      <th>4</th>\n",
       "      <td>20101171176</td>\n",
       "      <td>10117117</td>\n",
       "      <td>FILIPPAZZO</td>\n",
       "      <td>ERNESTO ROBERTO</td>\n",
       "      <td>EMAIL</td>\n",
       "      <td>os-estudio@hotmail.com</td>\n",
       "      <td>Propio</td>\n",
       "    </tr>\n",
       "  </tbody>\n",
       "</table>\n",
       "</div>"
      ],
      "text/plain": [
       "     CUIT_CUIL   NRO_DOC    APELLIDO           NOMBRE variable  \\\n",
       "0  27100396217  10039621        CANO        ANA MARIA    EMAIL   \n",
       "1  27100460713  10046071    D'ANGELO       ROSA HILDA    EMAIL   \n",
       "2  27100836373  10083637      ROMERO     MARTA ALICIA    EMAIL   \n",
       "3  20100858666  10085866      CHAVEZ   JUAN CRISOTOMO    EMAIL   \n",
       "4  20101171176  10117117  FILIPPAZZO  ERNESTO ROBERTO    EMAIL   \n",
       "\n",
       "                         Dato PROPIETARIO_DATO  \n",
       "0   adriandario74@hotmail.com           Propio  \n",
       "1       dieperez@yahoo.com.ar           Propio  \n",
       "2      romeromartac@yahoo.com           Propio  \n",
       "3  analia_vchavez@hotmail.com           Propio  \n",
       "4      os-estudio@hotmail.com           Propio  "
      ]
     },
     "execution_count": 179,
     "metadata": {},
     "output_type": "execute_result"
    }
   ],
   "source": [
    "df_melt.head()"
   ]
  },
  {
   "cell_type": "markdown",
   "metadata": {},
   "source": [
    "# 6) Columna Proveedor"
   ]
  },
  {
   "cell_type": "markdown",
   "metadata": {},
   "source": [
    "Agregamos la columna PROVEEDOR_DATO, con el código correspondiente."
   ]
  },
  {
   "cell_type": "code",
   "execution_count": 180,
   "metadata": {},
   "outputs": [],
   "source": [
    "cod_pyp = 'ZERT'"
   ]
  },
  {
   "cell_type": "code",
   "execution_count": 181,
   "metadata": {},
   "outputs": [],
   "source": [
    "df_clean = df_melt.assign(PROVEEDOR_DATO=cod_pyp)"
   ]
  },
  {
   "cell_type": "code",
   "execution_count": 182,
   "metadata": {},
   "outputs": [
    {
     "data": {
      "text/html": [
       "<div>\n",
       "<style scoped>\n",
       "    .dataframe tbody tr th:only-of-type {\n",
       "        vertical-align: middle;\n",
       "    }\n",
       "\n",
       "    .dataframe tbody tr th {\n",
       "        vertical-align: top;\n",
       "    }\n",
       "\n",
       "    .dataframe thead th {\n",
       "        text-align: right;\n",
       "    }\n",
       "</style>\n",
       "<table border=\"1\" class=\"dataframe\">\n",
       "  <thead>\n",
       "    <tr style=\"text-align: right;\">\n",
       "      <th></th>\n",
       "      <th>CUIT_CUIL</th>\n",
       "      <th>NRO_DOC</th>\n",
       "      <th>APELLIDO</th>\n",
       "      <th>NOMBRE</th>\n",
       "      <th>variable</th>\n",
       "      <th>Dato</th>\n",
       "      <th>PROPIETARIO_DATO</th>\n",
       "      <th>PROVEEDOR_DATO</th>\n",
       "    </tr>\n",
       "  </thead>\n",
       "  <tbody>\n",
       "    <tr>\n",
       "      <th>0</th>\n",
       "      <td>27100396217</td>\n",
       "      <td>10039621</td>\n",
       "      <td>CANO</td>\n",
       "      <td>ANA MARIA</td>\n",
       "      <td>EMAIL</td>\n",
       "      <td>adriandario74@hotmail.com</td>\n",
       "      <td>Propio</td>\n",
       "      <td>ZERT</td>\n",
       "    </tr>\n",
       "    <tr>\n",
       "      <th>1</th>\n",
       "      <td>27100460713</td>\n",
       "      <td>10046071</td>\n",
       "      <td>D'ANGELO</td>\n",
       "      <td>ROSA HILDA</td>\n",
       "      <td>EMAIL</td>\n",
       "      <td>dieperez@yahoo.com.ar</td>\n",
       "      <td>Propio</td>\n",
       "      <td>ZERT</td>\n",
       "    </tr>\n",
       "    <tr>\n",
       "      <th>2</th>\n",
       "      <td>27100836373</td>\n",
       "      <td>10083637</td>\n",
       "      <td>ROMERO</td>\n",
       "      <td>MARTA ALICIA</td>\n",
       "      <td>EMAIL</td>\n",
       "      <td>romeromartac@yahoo.com</td>\n",
       "      <td>Propio</td>\n",
       "      <td>ZERT</td>\n",
       "    </tr>\n",
       "    <tr>\n",
       "      <th>3</th>\n",
       "      <td>20100858666</td>\n",
       "      <td>10085866</td>\n",
       "      <td>CHAVEZ</td>\n",
       "      <td>JUAN CRISOTOMO</td>\n",
       "      <td>EMAIL</td>\n",
       "      <td>analia_vchavez@hotmail.com</td>\n",
       "      <td>Propio</td>\n",
       "      <td>ZERT</td>\n",
       "    </tr>\n",
       "    <tr>\n",
       "      <th>4</th>\n",
       "      <td>20101171176</td>\n",
       "      <td>10117117</td>\n",
       "      <td>FILIPPAZZO</td>\n",
       "      <td>ERNESTO ROBERTO</td>\n",
       "      <td>EMAIL</td>\n",
       "      <td>os-estudio@hotmail.com</td>\n",
       "      <td>Propio</td>\n",
       "      <td>ZERT</td>\n",
       "    </tr>\n",
       "  </tbody>\n",
       "</table>\n",
       "</div>"
      ],
      "text/plain": [
       "     CUIT_CUIL   NRO_DOC    APELLIDO           NOMBRE variable  \\\n",
       "0  27100396217  10039621        CANO        ANA MARIA    EMAIL   \n",
       "1  27100460713  10046071    D'ANGELO       ROSA HILDA    EMAIL   \n",
       "2  27100836373  10083637      ROMERO     MARTA ALICIA    EMAIL   \n",
       "3  20100858666  10085866      CHAVEZ   JUAN CRISOTOMO    EMAIL   \n",
       "4  20101171176  10117117  FILIPPAZZO  ERNESTO ROBERTO    EMAIL   \n",
       "\n",
       "                         Dato PROPIETARIO_DATO PROVEEDOR_DATO  \n",
       "0   adriandario74@hotmail.com           Propio           ZERT  \n",
       "1       dieperez@yahoo.com.ar           Propio           ZERT  \n",
       "2      romeromartac@yahoo.com           Propio           ZERT  \n",
       "3  analia_vchavez@hotmail.com           Propio           ZERT  \n",
       "4      os-estudio@hotmail.com           Propio           ZERT  "
      ]
     },
     "execution_count": 182,
     "metadata": {},
     "output_type": "execute_result"
    }
   ],
   "source": [
    "df_clean.head()"
   ]
  },
  {
   "cell_type": "markdown",
   "metadata": {},
   "source": [
    "# 7) Columna Tipo"
   ]
  },
  {
   "cell_type": "markdown",
   "metadata": {},
   "source": [
    "Agregamos la columna TIPO, con el código correspondiente"
   ]
  },
  {
   "cell_type": "code",
   "execution_count": 183,
   "metadata": {},
   "outputs": [],
   "source": [
    "tipo_dato = 'EMAIL'"
   ]
  },
  {
   "cell_type": "code",
   "execution_count": 184,
   "metadata": {},
   "outputs": [],
   "source": [
    "df_clean = df_clean.assign(TIPO=tipo_dato)"
   ]
  },
  {
   "cell_type": "code",
   "execution_count": 185,
   "metadata": {},
   "outputs": [
    {
     "data": {
      "text/html": [
       "<div>\n",
       "<style scoped>\n",
       "    .dataframe tbody tr th:only-of-type {\n",
       "        vertical-align: middle;\n",
       "    }\n",
       "\n",
       "    .dataframe tbody tr th {\n",
       "        vertical-align: top;\n",
       "    }\n",
       "\n",
       "    .dataframe thead th {\n",
       "        text-align: right;\n",
       "    }\n",
       "</style>\n",
       "<table border=\"1\" class=\"dataframe\">\n",
       "  <thead>\n",
       "    <tr style=\"text-align: right;\">\n",
       "      <th></th>\n",
       "      <th>CUIT_CUIL</th>\n",
       "      <th>NRO_DOC</th>\n",
       "      <th>APELLIDO</th>\n",
       "      <th>NOMBRE</th>\n",
       "      <th>variable</th>\n",
       "      <th>Dato</th>\n",
       "      <th>PROPIETARIO_DATO</th>\n",
       "      <th>PROVEEDOR_DATO</th>\n",
       "      <th>TIPO</th>\n",
       "    </tr>\n",
       "  </thead>\n",
       "  <tbody>\n",
       "    <tr>\n",
       "      <th>0</th>\n",
       "      <td>27100396217</td>\n",
       "      <td>10039621</td>\n",
       "      <td>CANO</td>\n",
       "      <td>ANA MARIA</td>\n",
       "      <td>EMAIL</td>\n",
       "      <td>adriandario74@hotmail.com</td>\n",
       "      <td>Propio</td>\n",
       "      <td>ZERT</td>\n",
       "      <td>EMAIL</td>\n",
       "    </tr>\n",
       "    <tr>\n",
       "      <th>1</th>\n",
       "      <td>27100460713</td>\n",
       "      <td>10046071</td>\n",
       "      <td>D'ANGELO</td>\n",
       "      <td>ROSA HILDA</td>\n",
       "      <td>EMAIL</td>\n",
       "      <td>dieperez@yahoo.com.ar</td>\n",
       "      <td>Propio</td>\n",
       "      <td>ZERT</td>\n",
       "      <td>EMAIL</td>\n",
       "    </tr>\n",
       "    <tr>\n",
       "      <th>2</th>\n",
       "      <td>27100836373</td>\n",
       "      <td>10083637</td>\n",
       "      <td>ROMERO</td>\n",
       "      <td>MARTA ALICIA</td>\n",
       "      <td>EMAIL</td>\n",
       "      <td>romeromartac@yahoo.com</td>\n",
       "      <td>Propio</td>\n",
       "      <td>ZERT</td>\n",
       "      <td>EMAIL</td>\n",
       "    </tr>\n",
       "    <tr>\n",
       "      <th>3</th>\n",
       "      <td>20100858666</td>\n",
       "      <td>10085866</td>\n",
       "      <td>CHAVEZ</td>\n",
       "      <td>JUAN CRISOTOMO</td>\n",
       "      <td>EMAIL</td>\n",
       "      <td>analia_vchavez@hotmail.com</td>\n",
       "      <td>Propio</td>\n",
       "      <td>ZERT</td>\n",
       "      <td>EMAIL</td>\n",
       "    </tr>\n",
       "    <tr>\n",
       "      <th>4</th>\n",
       "      <td>20101171176</td>\n",
       "      <td>10117117</td>\n",
       "      <td>FILIPPAZZO</td>\n",
       "      <td>ERNESTO ROBERTO</td>\n",
       "      <td>EMAIL</td>\n",
       "      <td>os-estudio@hotmail.com</td>\n",
       "      <td>Propio</td>\n",
       "      <td>ZERT</td>\n",
       "      <td>EMAIL</td>\n",
       "    </tr>\n",
       "  </tbody>\n",
       "</table>\n",
       "</div>"
      ],
      "text/plain": [
       "     CUIT_CUIL   NRO_DOC    APELLIDO           NOMBRE variable  \\\n",
       "0  27100396217  10039621        CANO        ANA MARIA    EMAIL   \n",
       "1  27100460713  10046071    D'ANGELO       ROSA HILDA    EMAIL   \n",
       "2  27100836373  10083637      ROMERO     MARTA ALICIA    EMAIL   \n",
       "3  20100858666  10085866      CHAVEZ   JUAN CRISOTOMO    EMAIL   \n",
       "4  20101171176  10117117  FILIPPAZZO  ERNESTO ROBERTO    EMAIL   \n",
       "\n",
       "                         Dato PROPIETARIO_DATO PROVEEDOR_DATO   TIPO  \n",
       "0   adriandario74@hotmail.com           Propio           ZERT  EMAIL  \n",
       "1       dieperez@yahoo.com.ar           Propio           ZERT  EMAIL  \n",
       "2      romeromartac@yahoo.com           Propio           ZERT  EMAIL  \n",
       "3  analia_vchavez@hotmail.com           Propio           ZERT  EMAIL  \n",
       "4      os-estudio@hotmail.com           Propio           ZERT  EMAIL  "
      ]
     },
     "execution_count": 185,
     "metadata": {},
     "output_type": "execute_result"
    }
   ],
   "source": [
    "df_clean.head ()"
   ]
  },
  {
   "cell_type": "markdown",
   "metadata": {},
   "source": [
    "# 8) Columna Subtipo"
   ]
  },
  {
   "cell_type": "markdown",
   "metadata": {},
   "source": [
    "Agregamos la columna SUBTIPO, que va a contener información sobre el tipo de mail que se encuentra en el campo Dato.\n",
    "\n",
    "- Personal: @yahoo, @gmail, @hotmail, @outlook, @live.\n",
    "- Laboral: el resto."
   ]
  },
  {
   "cell_type": "markdown",
   "metadata": {},
   "source": [
    "Verificamos que la string contenga esos casos:"
   ]
  },
  {
   "cell_type": "code",
   "execution_count": 186,
   "metadata": {},
   "outputs": [],
   "source": [
    "df_clean.loc[(df_clean['Dato'].str.contains('@yahoo', na=False)) | \n",
    "             (df_clean['Dato'].str.contains('@gmail', na=False)) |\n",
    "             (df_clean['Dato'].str.contains('@outlook', na=False)) |\n",
    "             (df_clean['Dato'].str.contains('@hotmail', na=False)) |\n",
    "             (df_clean['Dato'].str.contains('@live', na=False)) , 'SUBTIPO'] = 'PERSONAL'"
   ]
  },
  {
   "cell_type": "markdown",
   "metadata": {},
   "source": [
    "Para los mails laborales, evaluamos los casos contrarios:"
   ]
  },
  {
   "cell_type": "code",
   "execution_count": 187,
   "metadata": {},
   "outputs": [],
   "source": [
    "df_clean.loc[~(df_clean['Dato'].str.contains('@yahoo', na=False)) & \n",
    "             ~(df_clean['Dato'].str.contains('@gmail', na=False)) &\n",
    "             ~(df_clean['Dato'].str.contains('@outlook', na=False)) &\n",
    "             ~(df_clean['Dato'].str.contains('@hotmail', na=False)) &\n",
    "             ~(df_clean['Dato'].str.contains('@live', na=False)) , 'SUBTIPO'] = 'LABORAL'"
   ]
  },
  {
   "cell_type": "code",
   "execution_count": 188,
   "metadata": {},
   "outputs": [
    {
     "data": {
      "text/html": [
       "<div>\n",
       "<style scoped>\n",
       "    .dataframe tbody tr th:only-of-type {\n",
       "        vertical-align: middle;\n",
       "    }\n",
       "\n",
       "    .dataframe tbody tr th {\n",
       "        vertical-align: top;\n",
       "    }\n",
       "\n",
       "    .dataframe thead th {\n",
       "        text-align: right;\n",
       "    }\n",
       "</style>\n",
       "<table border=\"1\" class=\"dataframe\">\n",
       "  <thead>\n",
       "    <tr style=\"text-align: right;\">\n",
       "      <th></th>\n",
       "      <th>CUIT_CUIL</th>\n",
       "      <th>NRO_DOC</th>\n",
       "      <th>APELLIDO</th>\n",
       "      <th>NOMBRE</th>\n",
       "      <th>variable</th>\n",
       "      <th>Dato</th>\n",
       "      <th>PROPIETARIO_DATO</th>\n",
       "      <th>PROVEEDOR_DATO</th>\n",
       "      <th>TIPO</th>\n",
       "      <th>SUBTIPO</th>\n",
       "    </tr>\n",
       "  </thead>\n",
       "  <tbody>\n",
       "    <tr>\n",
       "      <th>0</th>\n",
       "      <td>27100396217</td>\n",
       "      <td>10039621</td>\n",
       "      <td>CANO</td>\n",
       "      <td>ANA MARIA</td>\n",
       "      <td>EMAIL</td>\n",
       "      <td>adriandario74@hotmail.com</td>\n",
       "      <td>Propio</td>\n",
       "      <td>ZERT</td>\n",
       "      <td>EMAIL</td>\n",
       "      <td>PERSONAL</td>\n",
       "    </tr>\n",
       "    <tr>\n",
       "      <th>1</th>\n",
       "      <td>27100460713</td>\n",
       "      <td>10046071</td>\n",
       "      <td>D'ANGELO</td>\n",
       "      <td>ROSA HILDA</td>\n",
       "      <td>EMAIL</td>\n",
       "      <td>dieperez@yahoo.com.ar</td>\n",
       "      <td>Propio</td>\n",
       "      <td>ZERT</td>\n",
       "      <td>EMAIL</td>\n",
       "      <td>PERSONAL</td>\n",
       "    </tr>\n",
       "    <tr>\n",
       "      <th>2</th>\n",
       "      <td>27100836373</td>\n",
       "      <td>10083637</td>\n",
       "      <td>ROMERO</td>\n",
       "      <td>MARTA ALICIA</td>\n",
       "      <td>EMAIL</td>\n",
       "      <td>romeromartac@yahoo.com</td>\n",
       "      <td>Propio</td>\n",
       "      <td>ZERT</td>\n",
       "      <td>EMAIL</td>\n",
       "      <td>PERSONAL</td>\n",
       "    </tr>\n",
       "    <tr>\n",
       "      <th>3</th>\n",
       "      <td>20100858666</td>\n",
       "      <td>10085866</td>\n",
       "      <td>CHAVEZ</td>\n",
       "      <td>JUAN CRISOTOMO</td>\n",
       "      <td>EMAIL</td>\n",
       "      <td>analia_vchavez@hotmail.com</td>\n",
       "      <td>Propio</td>\n",
       "      <td>ZERT</td>\n",
       "      <td>EMAIL</td>\n",
       "      <td>PERSONAL</td>\n",
       "    </tr>\n",
       "    <tr>\n",
       "      <th>4</th>\n",
       "      <td>20101171176</td>\n",
       "      <td>10117117</td>\n",
       "      <td>FILIPPAZZO</td>\n",
       "      <td>ERNESTO ROBERTO</td>\n",
       "      <td>EMAIL</td>\n",
       "      <td>os-estudio@hotmail.com</td>\n",
       "      <td>Propio</td>\n",
       "      <td>ZERT</td>\n",
       "      <td>EMAIL</td>\n",
       "      <td>PERSONAL</td>\n",
       "    </tr>\n",
       "  </tbody>\n",
       "</table>\n",
       "</div>"
      ],
      "text/plain": [
       "     CUIT_CUIL   NRO_DOC    APELLIDO           NOMBRE variable  \\\n",
       "0  27100396217  10039621        CANO        ANA MARIA    EMAIL   \n",
       "1  27100460713  10046071    D'ANGELO       ROSA HILDA    EMAIL   \n",
       "2  27100836373  10083637      ROMERO     MARTA ALICIA    EMAIL   \n",
       "3  20100858666  10085866      CHAVEZ   JUAN CRISOTOMO    EMAIL   \n",
       "4  20101171176  10117117  FILIPPAZZO  ERNESTO ROBERTO    EMAIL   \n",
       "\n",
       "                         Dato PROPIETARIO_DATO PROVEEDOR_DATO   TIPO   SUBTIPO  \n",
       "0   adriandario74@hotmail.com           Propio           ZERT  EMAIL  PERSONAL  \n",
       "1       dieperez@yahoo.com.ar           Propio           ZERT  EMAIL  PERSONAL  \n",
       "2      romeromartac@yahoo.com           Propio           ZERT  EMAIL  PERSONAL  \n",
       "3  analia_vchavez@hotmail.com           Propio           ZERT  EMAIL  PERSONAL  \n",
       "4      os-estudio@hotmail.com           Propio           ZERT  EMAIL  PERSONAL  "
      ]
     },
     "execution_count": 188,
     "metadata": {},
     "output_type": "execute_result"
    }
   ],
   "source": [
    "df_clean.head()"
   ]
  },
  {
   "cell_type": "markdown",
   "metadata": {},
   "source": [
    "# 9) Columna Score"
   ]
  },
  {
   "cell_type": "markdown",
   "metadata": {},
   "source": [
    "El campo **Score** se construye en función de los datos obtenidos:\n",
    "\n",
    "- Nivel 4: Dato que otorga la propia persona.\n",
    "- Nivel 3: Dato que otorgan los clientes (los bancos).\n",
    "- Nivel 2: Dato que otorga un proveedor externo (Informes Digitales en este caso), con subtipo \"Personal\".\n",
    "- Nivel 1: Dato que otorga un proveedor externo, pero tiene como subtipo \"Laboral\"."
   ]
  },
  {
   "cell_type": "code",
   "execution_count": 189,
   "metadata": {},
   "outputs": [],
   "source": [
    "# Nivel 1: Laboral, proveedor externo.\n",
    "\n",
    "df_clean.loc[(df_clean['SUBTIPO'] == 'LABORAL') , 'SCORE_DATO'] = 1"
   ]
  },
  {
   "cell_type": "code",
   "execution_count": 190,
   "metadata": {},
   "outputs": [],
   "source": [
    "# Nivel 2: Personal, proveedor externo.\n",
    "\n",
    "df_clean.loc[(df_clean['SUBTIPO'] == 'PERSONAL') , 'SCORE_DATO'] = 2"
   ]
  },
  {
   "cell_type": "code",
   "execution_count": 191,
   "metadata": {
    "scrolled": true
   },
   "outputs": [
    {
     "data": {
      "text/html": [
       "<div>\n",
       "<style scoped>\n",
       "    .dataframe tbody tr th:only-of-type {\n",
       "        vertical-align: middle;\n",
       "    }\n",
       "\n",
       "    .dataframe tbody tr th {\n",
       "        vertical-align: top;\n",
       "    }\n",
       "\n",
       "    .dataframe thead th {\n",
       "        text-align: right;\n",
       "    }\n",
       "</style>\n",
       "<table border=\"1\" class=\"dataframe\">\n",
       "  <thead>\n",
       "    <tr style=\"text-align: right;\">\n",
       "      <th></th>\n",
       "      <th>CUIT_CUIL</th>\n",
       "      <th>NRO_DOC</th>\n",
       "      <th>APELLIDO</th>\n",
       "      <th>NOMBRE</th>\n",
       "      <th>variable</th>\n",
       "      <th>Dato</th>\n",
       "      <th>PROPIETARIO_DATO</th>\n",
       "      <th>PROVEEDOR_DATO</th>\n",
       "      <th>TIPO</th>\n",
       "      <th>SUBTIPO</th>\n",
       "      <th>SCORE_DATO</th>\n",
       "    </tr>\n",
       "  </thead>\n",
       "  <tbody>\n",
       "    <tr>\n",
       "      <th>0</th>\n",
       "      <td>27100396217</td>\n",
       "      <td>10039621</td>\n",
       "      <td>CANO</td>\n",
       "      <td>ANA MARIA</td>\n",
       "      <td>EMAIL</td>\n",
       "      <td>adriandario74@hotmail.com</td>\n",
       "      <td>Propio</td>\n",
       "      <td>ZERT</td>\n",
       "      <td>EMAIL</td>\n",
       "      <td>PERSONAL</td>\n",
       "      <td>2.0</td>\n",
       "    </tr>\n",
       "    <tr>\n",
       "      <th>1</th>\n",
       "      <td>27100460713</td>\n",
       "      <td>10046071</td>\n",
       "      <td>D'ANGELO</td>\n",
       "      <td>ROSA HILDA</td>\n",
       "      <td>EMAIL</td>\n",
       "      <td>dieperez@yahoo.com.ar</td>\n",
       "      <td>Propio</td>\n",
       "      <td>ZERT</td>\n",
       "      <td>EMAIL</td>\n",
       "      <td>PERSONAL</td>\n",
       "      <td>2.0</td>\n",
       "    </tr>\n",
       "    <tr>\n",
       "      <th>2</th>\n",
       "      <td>27100836373</td>\n",
       "      <td>10083637</td>\n",
       "      <td>ROMERO</td>\n",
       "      <td>MARTA ALICIA</td>\n",
       "      <td>EMAIL</td>\n",
       "      <td>romeromartac@yahoo.com</td>\n",
       "      <td>Propio</td>\n",
       "      <td>ZERT</td>\n",
       "      <td>EMAIL</td>\n",
       "      <td>PERSONAL</td>\n",
       "      <td>2.0</td>\n",
       "    </tr>\n",
       "    <tr>\n",
       "      <th>3</th>\n",
       "      <td>20100858666</td>\n",
       "      <td>10085866</td>\n",
       "      <td>CHAVEZ</td>\n",
       "      <td>JUAN CRISOTOMO</td>\n",
       "      <td>EMAIL</td>\n",
       "      <td>analia_vchavez@hotmail.com</td>\n",
       "      <td>Propio</td>\n",
       "      <td>ZERT</td>\n",
       "      <td>EMAIL</td>\n",
       "      <td>PERSONAL</td>\n",
       "      <td>2.0</td>\n",
       "    </tr>\n",
       "    <tr>\n",
       "      <th>4</th>\n",
       "      <td>20101171176</td>\n",
       "      <td>10117117</td>\n",
       "      <td>FILIPPAZZO</td>\n",
       "      <td>ERNESTO ROBERTO</td>\n",
       "      <td>EMAIL</td>\n",
       "      <td>os-estudio@hotmail.com</td>\n",
       "      <td>Propio</td>\n",
       "      <td>ZERT</td>\n",
       "      <td>EMAIL</td>\n",
       "      <td>PERSONAL</td>\n",
       "      <td>2.0</td>\n",
       "    </tr>\n",
       "  </tbody>\n",
       "</table>\n",
       "</div>"
      ],
      "text/plain": [
       "     CUIT_CUIL   NRO_DOC    APELLIDO           NOMBRE variable  \\\n",
       "0  27100396217  10039621        CANO        ANA MARIA    EMAIL   \n",
       "1  27100460713  10046071    D'ANGELO       ROSA HILDA    EMAIL   \n",
       "2  27100836373  10083637      ROMERO     MARTA ALICIA    EMAIL   \n",
       "3  20100858666  10085866      CHAVEZ   JUAN CRISOTOMO    EMAIL   \n",
       "4  20101171176  10117117  FILIPPAZZO  ERNESTO ROBERTO    EMAIL   \n",
       "\n",
       "                         Dato PROPIETARIO_DATO PROVEEDOR_DATO   TIPO  \\\n",
       "0   adriandario74@hotmail.com           Propio           ZERT  EMAIL   \n",
       "1       dieperez@yahoo.com.ar           Propio           ZERT  EMAIL   \n",
       "2      romeromartac@yahoo.com           Propio           ZERT  EMAIL   \n",
       "3  analia_vchavez@hotmail.com           Propio           ZERT  EMAIL   \n",
       "4      os-estudio@hotmail.com           Propio           ZERT  EMAIL   \n",
       "\n",
       "    SUBTIPO  SCORE_DATO  \n",
       "0  PERSONAL         2.0  \n",
       "1  PERSONAL         2.0  \n",
       "2  PERSONAL         2.0  \n",
       "3  PERSONAL         2.0  \n",
       "4  PERSONAL         2.0  "
      ]
     },
     "execution_count": 191,
     "metadata": {},
     "output_type": "execute_result"
    }
   ],
   "source": [
    "df_clean.head()"
   ]
  },
  {
   "cell_type": "markdown",
   "metadata": {},
   "source": [
    "# 10) Columna Fecha"
   ]
  },
  {
   "cell_type": "markdown",
   "metadata": {},
   "source": [
    "Para el campo FECHA_INGRESO_DATO, usamos la fecha en la que se hace la inserción de los datos:"
   ]
  },
  {
   "cell_type": "code",
   "execution_count": 192,
   "metadata": {},
   "outputs": [],
   "source": [
    "fecha_ingreso = pd.to_datetime('today')"
   ]
  },
  {
   "cell_type": "code",
   "execution_count": 193,
   "metadata": {},
   "outputs": [],
   "source": [
    "df_clean = df_clean.assign(FECHA_INGRESO_DATO=fecha_ingreso)"
   ]
  },
  {
   "cell_type": "code",
   "execution_count": 194,
   "metadata": {
    "scrolled": true
   },
   "outputs": [
    {
     "data": {
      "text/html": [
       "<div>\n",
       "<style scoped>\n",
       "    .dataframe tbody tr th:only-of-type {\n",
       "        vertical-align: middle;\n",
       "    }\n",
       "\n",
       "    .dataframe tbody tr th {\n",
       "        vertical-align: top;\n",
       "    }\n",
       "\n",
       "    .dataframe thead th {\n",
       "        text-align: right;\n",
       "    }\n",
       "</style>\n",
       "<table border=\"1\" class=\"dataframe\">\n",
       "  <thead>\n",
       "    <tr style=\"text-align: right;\">\n",
       "      <th></th>\n",
       "      <th>CUIT_CUIL</th>\n",
       "      <th>NRO_DOC</th>\n",
       "      <th>APELLIDO</th>\n",
       "      <th>NOMBRE</th>\n",
       "      <th>variable</th>\n",
       "      <th>Dato</th>\n",
       "      <th>PROPIETARIO_DATO</th>\n",
       "      <th>PROVEEDOR_DATO</th>\n",
       "      <th>TIPO</th>\n",
       "      <th>SUBTIPO</th>\n",
       "      <th>SCORE_DATO</th>\n",
       "      <th>FECHA_INGRESO_DATO</th>\n",
       "    </tr>\n",
       "  </thead>\n",
       "  <tbody>\n",
       "    <tr>\n",
       "      <th>0</th>\n",
       "      <td>27100396217</td>\n",
       "      <td>10039621</td>\n",
       "      <td>CANO</td>\n",
       "      <td>ANA MARIA</td>\n",
       "      <td>EMAIL</td>\n",
       "      <td>adriandario74@hotmail.com</td>\n",
       "      <td>Propio</td>\n",
       "      <td>ZERT</td>\n",
       "      <td>EMAIL</td>\n",
       "      <td>PERSONAL</td>\n",
       "      <td>2.0</td>\n",
       "      <td>2021-08-27 11:03:33.798355</td>\n",
       "    </tr>\n",
       "    <tr>\n",
       "      <th>1</th>\n",
       "      <td>27100460713</td>\n",
       "      <td>10046071</td>\n",
       "      <td>D'ANGELO</td>\n",
       "      <td>ROSA HILDA</td>\n",
       "      <td>EMAIL</td>\n",
       "      <td>dieperez@yahoo.com.ar</td>\n",
       "      <td>Propio</td>\n",
       "      <td>ZERT</td>\n",
       "      <td>EMAIL</td>\n",
       "      <td>PERSONAL</td>\n",
       "      <td>2.0</td>\n",
       "      <td>2021-08-27 11:03:33.798355</td>\n",
       "    </tr>\n",
       "    <tr>\n",
       "      <th>2</th>\n",
       "      <td>27100836373</td>\n",
       "      <td>10083637</td>\n",
       "      <td>ROMERO</td>\n",
       "      <td>MARTA ALICIA</td>\n",
       "      <td>EMAIL</td>\n",
       "      <td>romeromartac@yahoo.com</td>\n",
       "      <td>Propio</td>\n",
       "      <td>ZERT</td>\n",
       "      <td>EMAIL</td>\n",
       "      <td>PERSONAL</td>\n",
       "      <td>2.0</td>\n",
       "      <td>2021-08-27 11:03:33.798355</td>\n",
       "    </tr>\n",
       "    <tr>\n",
       "      <th>3</th>\n",
       "      <td>20100858666</td>\n",
       "      <td>10085866</td>\n",
       "      <td>CHAVEZ</td>\n",
       "      <td>JUAN CRISOTOMO</td>\n",
       "      <td>EMAIL</td>\n",
       "      <td>analia_vchavez@hotmail.com</td>\n",
       "      <td>Propio</td>\n",
       "      <td>ZERT</td>\n",
       "      <td>EMAIL</td>\n",
       "      <td>PERSONAL</td>\n",
       "      <td>2.0</td>\n",
       "      <td>2021-08-27 11:03:33.798355</td>\n",
       "    </tr>\n",
       "    <tr>\n",
       "      <th>4</th>\n",
       "      <td>20101171176</td>\n",
       "      <td>10117117</td>\n",
       "      <td>FILIPPAZZO</td>\n",
       "      <td>ERNESTO ROBERTO</td>\n",
       "      <td>EMAIL</td>\n",
       "      <td>os-estudio@hotmail.com</td>\n",
       "      <td>Propio</td>\n",
       "      <td>ZERT</td>\n",
       "      <td>EMAIL</td>\n",
       "      <td>PERSONAL</td>\n",
       "      <td>2.0</td>\n",
       "      <td>2021-08-27 11:03:33.798355</td>\n",
       "    </tr>\n",
       "  </tbody>\n",
       "</table>\n",
       "</div>"
      ],
      "text/plain": [
       "     CUIT_CUIL   NRO_DOC    APELLIDO           NOMBRE variable  \\\n",
       "0  27100396217  10039621        CANO        ANA MARIA    EMAIL   \n",
       "1  27100460713  10046071    D'ANGELO       ROSA HILDA    EMAIL   \n",
       "2  27100836373  10083637      ROMERO     MARTA ALICIA    EMAIL   \n",
       "3  20100858666  10085866      CHAVEZ   JUAN CRISOTOMO    EMAIL   \n",
       "4  20101171176  10117117  FILIPPAZZO  ERNESTO ROBERTO    EMAIL   \n",
       "\n",
       "                         Dato PROPIETARIO_DATO PROVEEDOR_DATO   TIPO  \\\n",
       "0   adriandario74@hotmail.com           Propio           ZERT  EMAIL   \n",
       "1       dieperez@yahoo.com.ar           Propio           ZERT  EMAIL   \n",
       "2      romeromartac@yahoo.com           Propio           ZERT  EMAIL   \n",
       "3  analia_vchavez@hotmail.com           Propio           ZERT  EMAIL   \n",
       "4      os-estudio@hotmail.com           Propio           ZERT  EMAIL   \n",
       "\n",
       "    SUBTIPO  SCORE_DATO         FECHA_INGRESO_DATO  \n",
       "0  PERSONAL         2.0 2021-08-27 11:03:33.798355  \n",
       "1  PERSONAL         2.0 2021-08-27 11:03:33.798355  \n",
       "2  PERSONAL         2.0 2021-08-27 11:03:33.798355  \n",
       "3  PERSONAL         2.0 2021-08-27 11:03:33.798355  \n",
       "4  PERSONAL         2.0 2021-08-27 11:03:33.798355  "
      ]
     },
     "execution_count": 194,
     "metadata": {},
     "output_type": "execute_result"
    }
   ],
   "source": [
    "df_clean.head()"
   ]
  },
  {
   "cell_type": "markdown",
   "metadata": {},
   "source": [
    "# 11) Campos adicionales"
   ]
  },
  {
   "cell_type": "markdown",
   "metadata": {},
   "source": [
    "Creamos las columnas VERIFICADO, FECHA_VERIFICACION, OPERADOR_VERIFICACION, que en principio van en nulls."
   ]
  },
  {
   "cell_type": "code",
   "execution_count": 195,
   "metadata": {},
   "outputs": [],
   "source": [
    "df_clean['VERIFICADO'] = 0"
   ]
  },
  {
   "cell_type": "code",
   "execution_count": 196,
   "metadata": {},
   "outputs": [],
   "source": [
    "df_clean['FECHA_VERIFICACION'] = np.nan"
   ]
  },
  {
   "cell_type": "code",
   "execution_count": 197,
   "metadata": {},
   "outputs": [],
   "source": [
    "df_clean['OPERADOR_VERIFICACION'] = np.nan"
   ]
  },
  {
   "cell_type": "code",
   "execution_count": 198,
   "metadata": {},
   "outputs": [
    {
     "data": {
      "text/html": [
       "<div>\n",
       "<style scoped>\n",
       "    .dataframe tbody tr th:only-of-type {\n",
       "        vertical-align: middle;\n",
       "    }\n",
       "\n",
       "    .dataframe tbody tr th {\n",
       "        vertical-align: top;\n",
       "    }\n",
       "\n",
       "    .dataframe thead th {\n",
       "        text-align: right;\n",
       "    }\n",
       "</style>\n",
       "<table border=\"1\" class=\"dataframe\">\n",
       "  <thead>\n",
       "    <tr style=\"text-align: right;\">\n",
       "      <th></th>\n",
       "      <th>CUIT_CUIL</th>\n",
       "      <th>NRO_DOC</th>\n",
       "      <th>APELLIDO</th>\n",
       "      <th>NOMBRE</th>\n",
       "      <th>variable</th>\n",
       "      <th>Dato</th>\n",
       "      <th>PROPIETARIO_DATO</th>\n",
       "      <th>PROVEEDOR_DATO</th>\n",
       "      <th>TIPO</th>\n",
       "      <th>SUBTIPO</th>\n",
       "      <th>SCORE_DATO</th>\n",
       "      <th>FECHA_INGRESO_DATO</th>\n",
       "      <th>VERIFICADO</th>\n",
       "      <th>FECHA_VERIFICACION</th>\n",
       "      <th>OPERADOR_VERIFICACION</th>\n",
       "    </tr>\n",
       "  </thead>\n",
       "  <tbody>\n",
       "    <tr>\n",
       "      <th>0</th>\n",
       "      <td>27100396217</td>\n",
       "      <td>10039621</td>\n",
       "      <td>CANO</td>\n",
       "      <td>ANA MARIA</td>\n",
       "      <td>EMAIL</td>\n",
       "      <td>adriandario74@hotmail.com</td>\n",
       "      <td>Propio</td>\n",
       "      <td>ZERT</td>\n",
       "      <td>EMAIL</td>\n",
       "      <td>PERSONAL</td>\n",
       "      <td>2.0</td>\n",
       "      <td>2021-08-27 11:03:33.798355</td>\n",
       "      <td>0</td>\n",
       "      <td>NaN</td>\n",
       "      <td>NaN</td>\n",
       "    </tr>\n",
       "    <tr>\n",
       "      <th>1</th>\n",
       "      <td>27100460713</td>\n",
       "      <td>10046071</td>\n",
       "      <td>D'ANGELO</td>\n",
       "      <td>ROSA HILDA</td>\n",
       "      <td>EMAIL</td>\n",
       "      <td>dieperez@yahoo.com.ar</td>\n",
       "      <td>Propio</td>\n",
       "      <td>ZERT</td>\n",
       "      <td>EMAIL</td>\n",
       "      <td>PERSONAL</td>\n",
       "      <td>2.0</td>\n",
       "      <td>2021-08-27 11:03:33.798355</td>\n",
       "      <td>0</td>\n",
       "      <td>NaN</td>\n",
       "      <td>NaN</td>\n",
       "    </tr>\n",
       "    <tr>\n",
       "      <th>2</th>\n",
       "      <td>27100836373</td>\n",
       "      <td>10083637</td>\n",
       "      <td>ROMERO</td>\n",
       "      <td>MARTA ALICIA</td>\n",
       "      <td>EMAIL</td>\n",
       "      <td>romeromartac@yahoo.com</td>\n",
       "      <td>Propio</td>\n",
       "      <td>ZERT</td>\n",
       "      <td>EMAIL</td>\n",
       "      <td>PERSONAL</td>\n",
       "      <td>2.0</td>\n",
       "      <td>2021-08-27 11:03:33.798355</td>\n",
       "      <td>0</td>\n",
       "      <td>NaN</td>\n",
       "      <td>NaN</td>\n",
       "    </tr>\n",
       "    <tr>\n",
       "      <th>3</th>\n",
       "      <td>20100858666</td>\n",
       "      <td>10085866</td>\n",
       "      <td>CHAVEZ</td>\n",
       "      <td>JUAN CRISOTOMO</td>\n",
       "      <td>EMAIL</td>\n",
       "      <td>analia_vchavez@hotmail.com</td>\n",
       "      <td>Propio</td>\n",
       "      <td>ZERT</td>\n",
       "      <td>EMAIL</td>\n",
       "      <td>PERSONAL</td>\n",
       "      <td>2.0</td>\n",
       "      <td>2021-08-27 11:03:33.798355</td>\n",
       "      <td>0</td>\n",
       "      <td>NaN</td>\n",
       "      <td>NaN</td>\n",
       "    </tr>\n",
       "    <tr>\n",
       "      <th>4</th>\n",
       "      <td>20101171176</td>\n",
       "      <td>10117117</td>\n",
       "      <td>FILIPPAZZO</td>\n",
       "      <td>ERNESTO ROBERTO</td>\n",
       "      <td>EMAIL</td>\n",
       "      <td>os-estudio@hotmail.com</td>\n",
       "      <td>Propio</td>\n",
       "      <td>ZERT</td>\n",
       "      <td>EMAIL</td>\n",
       "      <td>PERSONAL</td>\n",
       "      <td>2.0</td>\n",
       "      <td>2021-08-27 11:03:33.798355</td>\n",
       "      <td>0</td>\n",
       "      <td>NaN</td>\n",
       "      <td>NaN</td>\n",
       "    </tr>\n",
       "  </tbody>\n",
       "</table>\n",
       "</div>"
      ],
      "text/plain": [
       "     CUIT_CUIL   NRO_DOC    APELLIDO           NOMBRE variable  \\\n",
       "0  27100396217  10039621        CANO        ANA MARIA    EMAIL   \n",
       "1  27100460713  10046071    D'ANGELO       ROSA HILDA    EMAIL   \n",
       "2  27100836373  10083637      ROMERO     MARTA ALICIA    EMAIL   \n",
       "3  20100858666  10085866      CHAVEZ   JUAN CRISOTOMO    EMAIL   \n",
       "4  20101171176  10117117  FILIPPAZZO  ERNESTO ROBERTO    EMAIL   \n",
       "\n",
       "                         Dato PROPIETARIO_DATO PROVEEDOR_DATO   TIPO  \\\n",
       "0   adriandario74@hotmail.com           Propio           ZERT  EMAIL   \n",
       "1       dieperez@yahoo.com.ar           Propio           ZERT  EMAIL   \n",
       "2      romeromartac@yahoo.com           Propio           ZERT  EMAIL   \n",
       "3  analia_vchavez@hotmail.com           Propio           ZERT  EMAIL   \n",
       "4      os-estudio@hotmail.com           Propio           ZERT  EMAIL   \n",
       "\n",
       "    SUBTIPO  SCORE_DATO         FECHA_INGRESO_DATO  VERIFICADO  \\\n",
       "0  PERSONAL         2.0 2021-08-27 11:03:33.798355           0   \n",
       "1  PERSONAL         2.0 2021-08-27 11:03:33.798355           0   \n",
       "2  PERSONAL         2.0 2021-08-27 11:03:33.798355           0   \n",
       "3  PERSONAL         2.0 2021-08-27 11:03:33.798355           0   \n",
       "4  PERSONAL         2.0 2021-08-27 11:03:33.798355           0   \n",
       "\n",
       "   FECHA_VERIFICACION  OPERADOR_VERIFICACION  \n",
       "0                 NaN                    NaN  \n",
       "1                 NaN                    NaN  \n",
       "2                 NaN                    NaN  \n",
       "3                 NaN                    NaN  \n",
       "4                 NaN                    NaN  "
      ]
     },
     "execution_count": 198,
     "metadata": {},
     "output_type": "execute_result"
    }
   ],
   "source": [
    "df_clean.head()"
   ]
  },
  {
   "cell_type": "markdown",
   "metadata": {},
   "source": [
    "# 12) Concatenación con .csv enviado "
   ]
  },
  {
   "cell_type": "markdown",
   "metadata": {},
   "source": [
    "Vamos a concatenar nuestro dataframe con el dataframe enviado para enriquecer. Para esto, vamos a hacer una limpieza inicial de cómo se enviaron esos datos. Finalmente, se uniran ambos dataframes por __DNI__."
   ]
  },
  {
   "cell_type": "markdown",
   "metadata": {},
   "source": [
    "## 12.1) Dataset"
   ]
  },
  {
   "cell_type": "markdown",
   "metadata": {},
   "source": [
    "Vamos a analizar y limpiar el dataset enviado para el enriquecimiento:"
   ]
  },
  {
   "cell_type": "code",
   "execution_count": 199,
   "metadata": {},
   "outputs": [],
   "source": [
    "df_pyp = pd.read_csv('Datos_Enriquecimiento.csv')"
   ]
  },
  {
   "cell_type": "code",
   "execution_count": 200,
   "metadata": {},
   "outputs": [
    {
     "data": {
      "text/plain": [
       "(20110, 8)"
      ]
     },
     "execution_count": 200,
     "metadata": {},
     "output_type": "execute_result"
    }
   ],
   "source": [
    "df_pyp.shape"
   ]
  },
  {
   "cell_type": "code",
   "execution_count": 201,
   "metadata": {},
   "outputs": [
    {
     "data": {
      "text/html": [
       "<div>\n",
       "<style scoped>\n",
       "    .dataframe tbody tr th:only-of-type {\n",
       "        vertical-align: middle;\n",
       "    }\n",
       "\n",
       "    .dataframe tbody tr th {\n",
       "        vertical-align: top;\n",
       "    }\n",
       "\n",
       "    .dataframe thead th {\n",
       "        text-align: right;\n",
       "    }\n",
       "</style>\n",
       "<table border=\"1\" class=\"dataframe\">\n",
       "  <thead>\n",
       "    <tr style=\"text-align: right;\">\n",
       "      <th></th>\n",
       "      <th>IDMOROSO</th>\n",
       "      <th>NOMBRE</th>\n",
       "      <th>IDCLIENTE</th>\n",
       "      <th>ESTADO</th>\n",
       "      <th>FILTROA</th>\n",
       "      <th>DATOADIC</th>\n",
       "    </tr>\n",
       "  </thead>\n",
       "  <tbody>\n",
       "    <tr>\n",
       "      <th>0</th>\n",
       "      <td>CI  62933702</td>\n",
       "      <td>JOSE LUIS,FERNANDEZ FERNANDEZ</td>\n",
       "      <td>BSR_TARDIA</td>\n",
       "      <td>EN GESTION_PORTAL</td>\n",
       "      <td>Campana Extrajud Emp</td>\n",
       "      <td></td>\n",
       "    </tr>\n",
       "    <tr>\n",
       "      <th>1</th>\n",
       "      <td>CUIT30607032978</td>\n",
       "      <td>,MARCOS FERNANDEZ SRL</td>\n",
       "      <td>BSR_TARDIA</td>\n",
       "      <td>EN GESTION_PORTAL</td>\n",
       "      <td>Campana Extrajud Emp</td>\n",
       "      <td>30607032978</td>\n",
       "    </tr>\n",
       "    <tr>\n",
       "      <th>2</th>\n",
       "      <td>CUIT30698087648</td>\n",
       "      <td>,ITACUA CONSTRUCCIONES SRL</td>\n",
       "      <td>BSR_TARDIA</td>\n",
       "      <td>NO UBICADO</td>\n",
       "      <td>Campana Extrajud Emp</td>\n",
       "      <td>30698087648</td>\n",
       "    </tr>\n",
       "    <tr>\n",
       "      <th>3</th>\n",
       "      <td>CUIT30703557674</td>\n",
       "      <td>,IONES COMUNICACIONES SRL</td>\n",
       "      <td>BSR_TARDIA</td>\n",
       "      <td>NO UBICADO</td>\n",
       "      <td>Campana Extrajud Emp</td>\n",
       "      <td>30703557674</td>\n",
       "    </tr>\n",
       "    <tr>\n",
       "      <th>4</th>\n",
       "      <td>CUIT30707047085</td>\n",
       "      <td>,PATER SHOW SRL</td>\n",
       "      <td>BSR_TARDIA</td>\n",
       "      <td>NO UBICADO</td>\n",
       "      <td>Campana Extrajud Emp</td>\n",
       "      <td>30707047085</td>\n",
       "    </tr>\n",
       "  </tbody>\n",
       "</table>\n",
       "</div>"
      ],
      "text/plain": [
       "          IDMOROSO                                    NOMBRE  \\\n",
       "0     CI  62933702  JOSE LUIS,FERNANDEZ FERNANDEZ              \n",
       "1  CUIT30607032978  ,MARCOS FERNANDEZ SRL                      \n",
       "2  CUIT30698087648  ,ITACUA CONSTRUCCIONES SRL                 \n",
       "3  CUIT30703557674  ,IONES COMUNICACIONES SRL                  \n",
       "4  CUIT30707047085  ,PATER SHOW SRL                            \n",
       "\n",
       "              IDCLIENTE                ESTADO               FILTROA  \\\n",
       "0  BSR_TARDIA            EN GESTION_PORTAL     Campana Extrajud Emp   \n",
       "1  BSR_TARDIA            EN GESTION_PORTAL     Campana Extrajud Emp   \n",
       "2  BSR_TARDIA            NO UBICADO            Campana Extrajud Emp   \n",
       "3  BSR_TARDIA            NO UBICADO            Campana Extrajud Emp   \n",
       "4  BSR_TARDIA            NO UBICADO            Campana Extrajud Emp   \n",
       "\n",
       "                         DATOADIC  \n",
       "0                                  \n",
       "1  30607032978                     \n",
       "2  30698087648                     \n",
       "3  30703557674                     \n",
       "4  30707047085                     "
      ]
     },
     "execution_count": 201,
     "metadata": {},
     "output_type": "execute_result"
    }
   ],
   "source": [
    "df_pyp=df_pyp.drop([\"DOCUMENTO\",\"TIPO\"],axis=1)\n",
    "\n",
    "df_pyp.head()"
   ]
  },
  {
   "cell_type": "markdown",
   "metadata": {},
   "source": [
    "Creamos una columna que contenga IDMOROSO + DATOADIC según corresponda"
   ]
  },
  {
   "cell_type": "code",
   "execution_count": 202,
   "metadata": {},
   "outputs": [],
   "source": [
    "df_pyp.loc[(df_pyp['IDCLIENTE'].str.startswith('AMEX')) , 'NRO_DOC'] = df_pyp['DATOADIC']"
   ]
  },
  {
   "cell_type": "code",
   "execution_count": 203,
   "metadata": {},
   "outputs": [],
   "source": [
    "df_pyp.loc[(~df_pyp['IDCLIENTE'].str.startswith('AMEX')) , 'NRO_DOC'] = df_pyp['IDMOROSO']"
   ]
  },
  {
   "cell_type": "code",
   "execution_count": 204,
   "metadata": {},
   "outputs": [],
   "source": [
    "#df_pyp ['NRO_DOC'] = df_pyp ['IDMOROSO']"
   ]
  },
  {
   "cell_type": "code",
   "execution_count": 205,
   "metadata": {},
   "outputs": [],
   "source": [
    "#df_pyp = df_pyp [['IDMOROSO','NOMBRE','IDCLIENTE','NRO_DOC']]\n",
    "df_pyp = df_pyp [['IDMOROSO','IDCLIENTE','NRO_DOC']]"
   ]
  },
  {
   "cell_type": "code",
   "execution_count": 206,
   "metadata": {},
   "outputs": [
    {
     "data": {
      "text/html": [
       "<div>\n",
       "<style scoped>\n",
       "    .dataframe tbody tr th:only-of-type {\n",
       "        vertical-align: middle;\n",
       "    }\n",
       "\n",
       "    .dataframe tbody tr th {\n",
       "        vertical-align: top;\n",
       "    }\n",
       "\n",
       "    .dataframe thead th {\n",
       "        text-align: right;\n",
       "    }\n",
       "</style>\n",
       "<table border=\"1\" class=\"dataframe\">\n",
       "  <thead>\n",
       "    <tr style=\"text-align: right;\">\n",
       "      <th></th>\n",
       "      <th>IDMOROSO</th>\n",
       "      <th>IDCLIENTE</th>\n",
       "      <th>NRO_DOC</th>\n",
       "    </tr>\n",
       "  </thead>\n",
       "  <tbody>\n",
       "    <tr>\n",
       "      <th>0</th>\n",
       "      <td>CI  62933702</td>\n",
       "      <td>BSR_TARDIA</td>\n",
       "      <td>CI  62933702</td>\n",
       "    </tr>\n",
       "    <tr>\n",
       "      <th>1</th>\n",
       "      <td>CUIT30607032978</td>\n",
       "      <td>BSR_TARDIA</td>\n",
       "      <td>CUIT30607032978</td>\n",
       "    </tr>\n",
       "    <tr>\n",
       "      <th>2</th>\n",
       "      <td>CUIT30698087648</td>\n",
       "      <td>BSR_TARDIA</td>\n",
       "      <td>CUIT30698087648</td>\n",
       "    </tr>\n",
       "    <tr>\n",
       "      <th>3</th>\n",
       "      <td>CUIT30703557674</td>\n",
       "      <td>BSR_TARDIA</td>\n",
       "      <td>CUIT30703557674</td>\n",
       "    </tr>\n",
       "    <tr>\n",
       "      <th>4</th>\n",
       "      <td>CUIT30707047085</td>\n",
       "      <td>BSR_TARDIA</td>\n",
       "      <td>CUIT30707047085</td>\n",
       "    </tr>\n",
       "  </tbody>\n",
       "</table>\n",
       "</div>"
      ],
      "text/plain": [
       "          IDMOROSO             IDCLIENTE          NRO_DOC\n",
       "0     CI  62933702  BSR_TARDIA               CI  62933702\n",
       "1  CUIT30607032978  BSR_TARDIA            CUIT30607032978\n",
       "2  CUIT30698087648  BSR_TARDIA            CUIT30698087648\n",
       "3  CUIT30703557674  BSR_TARDIA            CUIT30703557674\n",
       "4  CUIT30707047085  BSR_TARDIA            CUIT30707047085"
      ]
     },
     "execution_count": 206,
     "metadata": {},
     "output_type": "execute_result"
    }
   ],
   "source": [
    "df_pyp.head()"
   ]
  },
  {
   "cell_type": "code",
   "execution_count": 207,
   "metadata": {},
   "outputs": [],
   "source": [
    "df_pyp = df_pyp.dropna(subset=['NRO_DOC'])"
   ]
  },
  {
   "cell_type": "markdown",
   "metadata": {},
   "source": [
    "## 12.2) DNI Cleaning"
   ]
  },
  {
   "cell_type": "markdown",
   "metadata": {},
   "source": [
    "Limpiamos el dataframe __df_pyp__, ya que dentro de DATO_A_ENVIAR tenemos 9 tipos de casos diferentes de datos:\n",
    "\n",
    "- DNI 12345678\n",
    "- DNI12345678\n",
    "- DNIE1234678\n",
    "- LC  1234567\n",
    "- LE  1234567\n",
    "- CUIT00123456780\n",
    "- 00123456780 --> Es un CUIT.\n",
    "- 00 12345678 0 --> Es un CUIT.\n",
    "- DNI 00123456780 --> Dice DNI pero es un CUIT de una persona __jurídica__ (TO DO)"
   ]
  },
  {
   "cell_type": "markdown",
   "metadata": {},
   "source": [
    "Para eso definimos 5 funciones:\n",
    "\n",
    "- __Tipo_DOC__: Se definen dos funciones para determinar el tipo de DNI. Una inicial, y otra para corregir sobre el dataframe resultante.\n",
    "- __Standard DNI__: Estandariza los DNI para 7 de los casos. Esta función debe ejecutarse en primer lugar.\n",
    "- __DNI Spaces__: Elimina los espacios.\n",
    "- __DNI Zero__: Elimina los ceros iniciales de ciertos CUITs para que coincidan con los DNI.\n",
    "- __Cuit__: Decisión sobre dejar un cuit o volverlo DNI"
   ]
  },
  {
   "cell_type": "code",
   "execution_count": 208,
   "metadata": {},
   "outputs": [],
   "source": [
    "def tipo_doc_1 (string_dni):\n",
    "    \n",
    "    if 'DNI' in string_dni:\n",
    "        tipo = 'DNI'\n",
    "    \n",
    "    elif 'LC' in string_dni:\n",
    "        tipo = 'LC'\n",
    "    \n",
    "    elif 'LE' in string_dni:\n",
    "        tipo = 'LE'\n",
    "    \n",
    "    elif 'DNIE' in string_dni:\n",
    "        tipo = 'DNIE'    \n",
    "    \n",
    "    elif ((string_dni.startswith(('CUIT30','CUIT33','CUIT34'))) & (len(string_dni)>8)):\n",
    "        tipo = 'CUIT'\n",
    "        \n",
    "    elif ((string_dni.startswith(('30','33','34'))) & (len(string_dni)>8)):\n",
    "        tipo = 'CUIT'\n",
    "\n",
    "    elif ((string_dni.startswith(('20','23','24','27'))) & (len(string_dni)>8)):\n",
    "        tipo = 'DNI'\n",
    "\n",
    "    elif ((string_dni.startswith(('CUIT20','CUIT23','CUIT24','CUIT27'))) & (len(string_dni)>8)):\n",
    "        tipo = 'DNI'\n",
    "        \n",
    "    else:\n",
    "        tipo = 'DNI'\n",
    "    \n",
    "    return tipo"
   ]
  },
  {
   "cell_type": "code",
   "execution_count": 209,
   "metadata": {},
   "outputs": [],
   "source": [
    "def tipo_doc_2 (string_dni, tipo_original):\n",
    "    \n",
    "    if (len(string_dni) > 8) & (tipo_original == 'DNI'):\n",
    "        tipo = 'CUIT'\n",
    "    else:\n",
    "        tipo = tipo_original\n",
    "    return tipo"
   ]
  },
  {
   "cell_type": "code",
   "execution_count": 210,
   "metadata": {},
   "outputs": [],
   "source": [
    "def standard_dni (string_dni):\n",
    "    \"\"\"DNI separation by each case.\n",
    "    \"\"\"\n",
    "    \n",
    "    if 'DNI ' in string_dni:\n",
    "        dni = string_dni.split('DNI ')[1]\n",
    "        \n",
    "    elif 'DNIE' in string_dni:\n",
    "        dni = string_dni.split('DNIE')[1]\n",
    "    \n",
    "    elif 'DNI' in string_dni:\n",
    "        dni = string_dni.split('DNI')[1]\n",
    "    \n",
    "    elif 'LC  ' in string_dni:\n",
    "        dni = string_dni.split('LC  ')[1]\n",
    "    \n",
    "    elif 'LE  ' in string_dni:\n",
    "        dni = string_dni.split('LE  ')[1]\n",
    "    \n",
    "    elif 'CUIT' in string_dni:\n",
    "        dni = string_dni.split('CUIT')[1]\n",
    "        \n",
    "    else:\n",
    "        dni = string_dni\n",
    "        \n",
    "    return dni"
   ]
  },
  {
   "cell_type": "code",
   "execution_count": 211,
   "metadata": {},
   "outputs": [],
   "source": [
    "def dni_characters (string_dni):\n",
    "    \n",
    "    if ' ' in string_dni:\n",
    "        dni = string_dni.replace(' ','')\n",
    "        \n",
    "    elif '-' in string_dni:\n",
    "        dni = string_dni.replace('-','')\n",
    "\n",
    "    else:\n",
    "        dni = string_dni\n",
    "    \n",
    "    return dni"
   ]
  },
  {
   "cell_type": "code",
   "execution_count": 212,
   "metadata": {},
   "outputs": [],
   "source": [
    "def cuit (string_dni):\n",
    "    \n",
    "    if ((string_dni.startswith('20')) & (len(string_dni)>8)):\n",
    "        cuit = string_dni [2:-1]\n",
    "        \n",
    "    elif ((string_dni.startswith('23')) & (len(string_dni)>8)):\n",
    "        cuit = string_dni [2:-1]\n",
    "        \n",
    "    elif ((string_dni.startswith('24')) & (len(string_dni)>8)):\n",
    "        cuit = string_dni [2:-1]\n",
    "\n",
    "    elif ((string_dni.startswith('27')) & (len(string_dni)>8)):\n",
    "        cuit = string_dni [2:-1]\n",
    "\n",
    "    else:\n",
    "        cuit = string_dni\n",
    "        \n",
    "    return cuit"
   ]
  },
  {
   "cell_type": "code",
   "execution_count": 213,
   "metadata": {},
   "outputs": [],
   "source": [
    "def dni_zero (string_dni):\n",
    "    \n",
    "    if string_dni.startswith('0'):\n",
    "        dni = string_dni [1:]\n",
    "\n",
    "    else:\n",
    "        dni = string_dni\n",
    "    \n",
    "    return dni"
   ]
  },
  {
   "cell_type": "markdown",
   "metadata": {},
   "source": [
    "En primer lugar, trimmeamos los espacios que sobran:"
   ]
  },
  {
   "cell_type": "code",
   "execution_count": 214,
   "metadata": {},
   "outputs": [],
   "source": [
    "df_pyp['NRO_DOC'] = [(str(df_pyp['NRO_DOC'][i]).strip()) for i in range (df_pyp['NRO_DOC'].count())]"
   ]
  },
  {
   "cell_type": "markdown",
   "metadata": {},
   "source": [
    "Se implementan estas funciones:"
   ]
  },
  {
   "cell_type": "markdown",
   "metadata": {},
   "source": [
    "Para determinar el __TIPO DE DOCUMENTO__ en primer lugar:"
   ]
  },
  {
   "cell_type": "code",
   "execution_count": 215,
   "metadata": {},
   "outputs": [],
   "source": [
    "df_pyp['TIPO_DOC'] = [tipo_doc_1(df_pyp['NRO_DOC'][i]) for i in range (df_pyp['NRO_DOC'].count())]"
   ]
  },
  {
   "cell_type": "markdown",
   "metadata": {},
   "source": [
    "Para la limpieza de DNIs:"
   ]
  },
  {
   "cell_type": "code",
   "execution_count": 216,
   "metadata": {},
   "outputs": [],
   "source": [
    "df_pyp['NRO_DOC'] = [standard_dni(df_pyp['NRO_DOC'][i]) for i in range (df_pyp['NRO_DOC'].count())]"
   ]
  },
  {
   "cell_type": "code",
   "execution_count": 217,
   "metadata": {},
   "outputs": [],
   "source": [
    "df_pyp['NRO_DOC'] = [dni_characters(df_pyp['NRO_DOC'][i]) for i in range (df_pyp['NRO_DOC'].count())]"
   ]
  },
  {
   "cell_type": "code",
   "execution_count": 218,
   "metadata": {},
   "outputs": [],
   "source": [
    "df_pyp['NRO_DOC'] = [cuit(df_pyp['NRO_DOC'][i]) for i in range (df_pyp['NRO_DOC'].count())]"
   ]
  },
  {
   "cell_type": "code",
   "execution_count": 219,
   "metadata": {},
   "outputs": [],
   "source": [
    "df_pyp['NRO_DOC'] = [dni_zero(df_pyp['NRO_DOC'][i]) for i in range (df_pyp['NRO_DOC'].count())]"
   ]
  },
  {
   "cell_type": "markdown",
   "metadata": {},
   "source": [
    "Para corregir el __TIPO DE DOCUMENTO__ sobre el dataframe resultante"
   ]
  },
  {
   "cell_type": "code",
   "execution_count": 220,
   "metadata": {},
   "outputs": [],
   "source": [
    "df_pyp['TIPO_DOC'] = [tipo_doc_2(df_pyp['NRO_DOC'][i],df_pyp['TIPO_DOC'][i]) for i in range (df_pyp['NRO_DOC'].count())]"
   ]
  },
  {
   "cell_type": "markdown",
   "metadata": {},
   "source": [
    "# 13) Union de Dataframes"
   ]
  },
  {
   "cell_type": "markdown",
   "metadata": {},
   "source": [
    "Se unen ambos dataframes en la columna NRO_DOC"
   ]
  },
  {
   "cell_type": "markdown",
   "metadata": {},
   "source": [
    "Convertimos la columna NRO_DOC de objeto a INT para hacer la unión"
   ]
  },
  {
   "cell_type": "code",
   "execution_count": 221,
   "metadata": {},
   "outputs": [],
   "source": [
    "df_clean = df_clean.astype({'NRO_DOC': 'str'})"
   ]
  },
  {
   "cell_type": "code",
   "execution_count": 222,
   "metadata": {},
   "outputs": [],
   "source": [
    "df_clean ['NRO_DOC'] = df_clean ['NRO_DOC'].str.split('.').str[0]"
   ]
  },
  {
   "cell_type": "code",
   "execution_count": 223,
   "metadata": {},
   "outputs": [],
   "source": [
    "df_union = pd.merge(df_clean,df_pyp, on='NRO_DOC', how='inner')"
   ]
  },
  {
   "cell_type": "code",
   "execution_count": 224,
   "metadata": {},
   "outputs": [
    {
     "data": {
      "text/plain": [
       "(18514, 18)"
      ]
     },
     "execution_count": 224,
     "metadata": {},
     "output_type": "execute_result"
    }
   ],
   "source": [
    "df_union.shape"
   ]
  },
  {
   "cell_type": "code",
   "execution_count": 225,
   "metadata": {
    "scrolled": true
   },
   "outputs": [
    {
     "data": {
      "text/html": [
       "<div>\n",
       "<style scoped>\n",
       "    .dataframe tbody tr th:only-of-type {\n",
       "        vertical-align: middle;\n",
       "    }\n",
       "\n",
       "    .dataframe tbody tr th {\n",
       "        vertical-align: top;\n",
       "    }\n",
       "\n",
       "    .dataframe thead th {\n",
       "        text-align: right;\n",
       "    }\n",
       "</style>\n",
       "<table border=\"1\" class=\"dataframe\">\n",
       "  <thead>\n",
       "    <tr style=\"text-align: right;\">\n",
       "      <th></th>\n",
       "      <th>CUIT_CUIL</th>\n",
       "      <th>NRO_DOC</th>\n",
       "      <th>APELLIDO</th>\n",
       "      <th>NOMBRE</th>\n",
       "      <th>variable</th>\n",
       "      <th>Dato</th>\n",
       "      <th>PROPIETARIO_DATO</th>\n",
       "      <th>PROVEEDOR_DATO</th>\n",
       "      <th>TIPO</th>\n",
       "      <th>SUBTIPO</th>\n",
       "      <th>SCORE_DATO</th>\n",
       "      <th>FECHA_INGRESO_DATO</th>\n",
       "      <th>VERIFICADO</th>\n",
       "      <th>FECHA_VERIFICACION</th>\n",
       "      <th>OPERADOR_VERIFICACION</th>\n",
       "      <th>IDMOROSO</th>\n",
       "      <th>IDCLIENTE</th>\n",
       "      <th>TIPO_DOC</th>\n",
       "    </tr>\n",
       "  </thead>\n",
       "  <tbody>\n",
       "    <tr>\n",
       "      <th>0</th>\n",
       "      <td>27100396217</td>\n",
       "      <td>10039621</td>\n",
       "      <td>CANO</td>\n",
       "      <td>ANA MARIA</td>\n",
       "      <td>EMAIL</td>\n",
       "      <td>adriandario74@hotmail.com</td>\n",
       "      <td>Propio</td>\n",
       "      <td>ZERT</td>\n",
       "      <td>EMAIL</td>\n",
       "      <td>PERSONAL</td>\n",
       "      <td>2.0</td>\n",
       "      <td>2021-08-27 11:03:33.798355</td>\n",
       "      <td>0</td>\n",
       "      <td>NaN</td>\n",
       "      <td>NaN</td>\n",
       "      <td>DNI 10039621</td>\n",
       "      <td>BSR_TARDIA</td>\n",
       "      <td>DNI</td>\n",
       "    </tr>\n",
       "    <tr>\n",
       "      <th>1</th>\n",
       "      <td>27100396217</td>\n",
       "      <td>10039621</td>\n",
       "      <td>CANO</td>\n",
       "      <td>ANA MARIA</td>\n",
       "      <td>EMAIL2</td>\n",
       "      <td>cristiantejedo-ks@hotmail.com</td>\n",
       "      <td>Propio</td>\n",
       "      <td>ZERT</td>\n",
       "      <td>EMAIL</td>\n",
       "      <td>PERSONAL</td>\n",
       "      <td>2.0</td>\n",
       "      <td>2021-08-27 11:03:33.798355</td>\n",
       "      <td>0</td>\n",
       "      <td>NaN</td>\n",
       "      <td>NaN</td>\n",
       "      <td>DNI 10039621</td>\n",
       "      <td>BSR_TARDIA</td>\n",
       "      <td>DNI</td>\n",
       "    </tr>\n",
       "    <tr>\n",
       "      <th>2</th>\n",
       "      <td>27100460713</td>\n",
       "      <td>10046071</td>\n",
       "      <td>D'ANGELO</td>\n",
       "      <td>ROSA HILDA</td>\n",
       "      <td>EMAIL</td>\n",
       "      <td>dieperez@yahoo.com.ar</td>\n",
       "      <td>Propio</td>\n",
       "      <td>ZERT</td>\n",
       "      <td>EMAIL</td>\n",
       "      <td>PERSONAL</td>\n",
       "      <td>2.0</td>\n",
       "      <td>2021-08-27 11:03:33.798355</td>\n",
       "      <td>0</td>\n",
       "      <td>NaN</td>\n",
       "      <td>NaN</td>\n",
       "      <td>DNI 10046071</td>\n",
       "      <td>BSR_TARDIA</td>\n",
       "      <td>DNI</td>\n",
       "    </tr>\n",
       "    <tr>\n",
       "      <th>3</th>\n",
       "      <td>27100836373</td>\n",
       "      <td>10083637</td>\n",
       "      <td>ROMERO</td>\n",
       "      <td>MARTA ALICIA</td>\n",
       "      <td>EMAIL</td>\n",
       "      <td>romeromartac@yahoo.com</td>\n",
       "      <td>Propio</td>\n",
       "      <td>ZERT</td>\n",
       "      <td>EMAIL</td>\n",
       "      <td>PERSONAL</td>\n",
       "      <td>2.0</td>\n",
       "      <td>2021-08-27 11:03:33.798355</td>\n",
       "      <td>0</td>\n",
       "      <td>NaN</td>\n",
       "      <td>NaN</td>\n",
       "      <td>DNI 10083637</td>\n",
       "      <td>BSR_TARDIA</td>\n",
       "      <td>DNI</td>\n",
       "    </tr>\n",
       "    <tr>\n",
       "      <th>4</th>\n",
       "      <td>27100836373</td>\n",
       "      <td>10083637</td>\n",
       "      <td>ROMERO</td>\n",
       "      <td>MARTA ALICIA</td>\n",
       "      <td>EMAIL2</td>\n",
       "      <td>csofiacarla@yahoo.com</td>\n",
       "      <td>Propio</td>\n",
       "      <td>ZERT</td>\n",
       "      <td>EMAIL</td>\n",
       "      <td>PERSONAL</td>\n",
       "      <td>2.0</td>\n",
       "      <td>2021-08-27 11:03:33.798355</td>\n",
       "      <td>0</td>\n",
       "      <td>NaN</td>\n",
       "      <td>NaN</td>\n",
       "      <td>DNI 10083637</td>\n",
       "      <td>BSR_TARDIA</td>\n",
       "      <td>DNI</td>\n",
       "    </tr>\n",
       "  </tbody>\n",
       "</table>\n",
       "</div>"
      ],
      "text/plain": [
       "     CUIT_CUIL   NRO_DOC  APELLIDO        NOMBRE variable  \\\n",
       "0  27100396217  10039621      CANO     ANA MARIA    EMAIL   \n",
       "1  27100396217  10039621      CANO     ANA MARIA   EMAIL2   \n",
       "2  27100460713  10046071  D'ANGELO    ROSA HILDA    EMAIL   \n",
       "3  27100836373  10083637    ROMERO  MARTA ALICIA    EMAIL   \n",
       "4  27100836373  10083637    ROMERO  MARTA ALICIA   EMAIL2   \n",
       "\n",
       "                            Dato PROPIETARIO_DATO PROVEEDOR_DATO   TIPO  \\\n",
       "0      adriandario74@hotmail.com           Propio           ZERT  EMAIL   \n",
       "1  cristiantejedo-ks@hotmail.com           Propio           ZERT  EMAIL   \n",
       "2          dieperez@yahoo.com.ar           Propio           ZERT  EMAIL   \n",
       "3         romeromartac@yahoo.com           Propio           ZERT  EMAIL   \n",
       "4          csofiacarla@yahoo.com           Propio           ZERT  EMAIL   \n",
       "\n",
       "    SUBTIPO  SCORE_DATO         FECHA_INGRESO_DATO  VERIFICADO  \\\n",
       "0  PERSONAL         2.0 2021-08-27 11:03:33.798355           0   \n",
       "1  PERSONAL         2.0 2021-08-27 11:03:33.798355           0   \n",
       "2  PERSONAL         2.0 2021-08-27 11:03:33.798355           0   \n",
       "3  PERSONAL         2.0 2021-08-27 11:03:33.798355           0   \n",
       "4  PERSONAL         2.0 2021-08-27 11:03:33.798355           0   \n",
       "\n",
       "   FECHA_VERIFICACION  OPERADOR_VERIFICACION      IDMOROSO  \\\n",
       "0                 NaN                    NaN  DNI 10039621   \n",
       "1                 NaN                    NaN  DNI 10039621   \n",
       "2                 NaN                    NaN  DNI 10046071   \n",
       "3                 NaN                    NaN  DNI 10083637   \n",
       "4                 NaN                    NaN  DNI 10083637   \n",
       "\n",
       "              IDCLIENTE TIPO_DOC  \n",
       "0  BSR_TARDIA                DNI  \n",
       "1  BSR_TARDIA                DNI  \n",
       "2  BSR_TARDIA                DNI  \n",
       "3  BSR_TARDIA                DNI  \n",
       "4  BSR_TARDIA                DNI  "
      ]
     },
     "execution_count": 225,
     "metadata": {},
     "output_type": "execute_result"
    }
   ],
   "source": [
    "df_union.head()"
   ]
  },
  {
   "cell_type": "markdown",
   "metadata": {},
   "source": [
    "# 14) Export"
   ]
  },
  {
   "cell_type": "markdown",
   "metadata": {},
   "source": [
    "Renombramos, dropeamos y reordenamos las columnas"
   ]
  },
  {
   "cell_type": "code",
   "execution_count": 226,
   "metadata": {},
   "outputs": [],
   "source": [
    "df_union = df_union.rename(columns = {'Dato':'DATO'})"
   ]
  },
  {
   "cell_type": "markdown",
   "metadata": {},
   "source": [
    "Dropeamos columnas que no nos sirven"
   ]
  },
  {
   "cell_type": "code",
   "execution_count": 227,
   "metadata": {},
   "outputs": [],
   "source": [
    "df_export = df_union.drop(columns=['IDCLIENTE'], axis=0)"
   ]
  },
  {
   "cell_type": "code",
   "execution_count": 228,
   "metadata": {
    "scrolled": true
   },
   "outputs": [],
   "source": [
    "df_export = df_export[['IDMOROSO', 'TIPO_DOC','NRO_DOC','CUIT_CUIL','TIPO','SUBTIPO','DATO','PROPIETARIO_DATO','PROVEEDOR_DATO','FECHA_INGRESO_DATO','VERIFICADO','FECHA_VERIFICACION','OPERADOR_VERIFICACION','SCORE_DATO']]"
   ]
  },
  {
   "cell_type": "code",
   "execution_count": 229,
   "metadata": {},
   "outputs": [
    {
     "data": {
      "text/html": [
       "<div>\n",
       "<style scoped>\n",
       "    .dataframe tbody tr th:only-of-type {\n",
       "        vertical-align: middle;\n",
       "    }\n",
       "\n",
       "    .dataframe tbody tr th {\n",
       "        vertical-align: top;\n",
       "    }\n",
       "\n",
       "    .dataframe thead th {\n",
       "        text-align: right;\n",
       "    }\n",
       "</style>\n",
       "<table border=\"1\" class=\"dataframe\">\n",
       "  <thead>\n",
       "    <tr style=\"text-align: right;\">\n",
       "      <th></th>\n",
       "      <th>IDMOROSO</th>\n",
       "      <th>TIPO_DOC</th>\n",
       "      <th>NRO_DOC</th>\n",
       "      <th>CUIT_CUIL</th>\n",
       "      <th>TIPO</th>\n",
       "      <th>SUBTIPO</th>\n",
       "      <th>DATO</th>\n",
       "      <th>PROPIETARIO_DATO</th>\n",
       "      <th>PROVEEDOR_DATO</th>\n",
       "      <th>FECHA_INGRESO_DATO</th>\n",
       "      <th>VERIFICADO</th>\n",
       "      <th>FECHA_VERIFICACION</th>\n",
       "      <th>OPERADOR_VERIFICACION</th>\n",
       "      <th>SCORE_DATO</th>\n",
       "    </tr>\n",
       "  </thead>\n",
       "  <tbody>\n",
       "    <tr>\n",
       "      <th>0</th>\n",
       "      <td>DNI 10039621</td>\n",
       "      <td>DNI</td>\n",
       "      <td>10039621</td>\n",
       "      <td>27100396217</td>\n",
       "      <td>EMAIL</td>\n",
       "      <td>PERSONAL</td>\n",
       "      <td>adriandario74@hotmail.com</td>\n",
       "      <td>Propio</td>\n",
       "      <td>ZERT</td>\n",
       "      <td>2021-08-27 11:03:33.798355</td>\n",
       "      <td>0</td>\n",
       "      <td>NaN</td>\n",
       "      <td>NaN</td>\n",
       "      <td>2.0</td>\n",
       "    </tr>\n",
       "    <tr>\n",
       "      <th>1</th>\n",
       "      <td>DNI 10039621</td>\n",
       "      <td>DNI</td>\n",
       "      <td>10039621</td>\n",
       "      <td>27100396217</td>\n",
       "      <td>EMAIL</td>\n",
       "      <td>PERSONAL</td>\n",
       "      <td>cristiantejedo-ks@hotmail.com</td>\n",
       "      <td>Propio</td>\n",
       "      <td>ZERT</td>\n",
       "      <td>2021-08-27 11:03:33.798355</td>\n",
       "      <td>0</td>\n",
       "      <td>NaN</td>\n",
       "      <td>NaN</td>\n",
       "      <td>2.0</td>\n",
       "    </tr>\n",
       "    <tr>\n",
       "      <th>2</th>\n",
       "      <td>DNI 10046071</td>\n",
       "      <td>DNI</td>\n",
       "      <td>10046071</td>\n",
       "      <td>27100460713</td>\n",
       "      <td>EMAIL</td>\n",
       "      <td>PERSONAL</td>\n",
       "      <td>dieperez@yahoo.com.ar</td>\n",
       "      <td>Propio</td>\n",
       "      <td>ZERT</td>\n",
       "      <td>2021-08-27 11:03:33.798355</td>\n",
       "      <td>0</td>\n",
       "      <td>NaN</td>\n",
       "      <td>NaN</td>\n",
       "      <td>2.0</td>\n",
       "    </tr>\n",
       "    <tr>\n",
       "      <th>3</th>\n",
       "      <td>DNI 10083637</td>\n",
       "      <td>DNI</td>\n",
       "      <td>10083637</td>\n",
       "      <td>27100836373</td>\n",
       "      <td>EMAIL</td>\n",
       "      <td>PERSONAL</td>\n",
       "      <td>romeromartac@yahoo.com</td>\n",
       "      <td>Propio</td>\n",
       "      <td>ZERT</td>\n",
       "      <td>2021-08-27 11:03:33.798355</td>\n",
       "      <td>0</td>\n",
       "      <td>NaN</td>\n",
       "      <td>NaN</td>\n",
       "      <td>2.0</td>\n",
       "    </tr>\n",
       "    <tr>\n",
       "      <th>4</th>\n",
       "      <td>DNI 10083637</td>\n",
       "      <td>DNI</td>\n",
       "      <td>10083637</td>\n",
       "      <td>27100836373</td>\n",
       "      <td>EMAIL</td>\n",
       "      <td>PERSONAL</td>\n",
       "      <td>csofiacarla@yahoo.com</td>\n",
       "      <td>Propio</td>\n",
       "      <td>ZERT</td>\n",
       "      <td>2021-08-27 11:03:33.798355</td>\n",
       "      <td>0</td>\n",
       "      <td>NaN</td>\n",
       "      <td>NaN</td>\n",
       "      <td>2.0</td>\n",
       "    </tr>\n",
       "  </tbody>\n",
       "</table>\n",
       "</div>"
      ],
      "text/plain": [
       "       IDMOROSO TIPO_DOC   NRO_DOC    CUIT_CUIL   TIPO   SUBTIPO  \\\n",
       "0  DNI 10039621      DNI  10039621  27100396217  EMAIL  PERSONAL   \n",
       "1  DNI 10039621      DNI  10039621  27100396217  EMAIL  PERSONAL   \n",
       "2  DNI 10046071      DNI  10046071  27100460713  EMAIL  PERSONAL   \n",
       "3  DNI 10083637      DNI  10083637  27100836373  EMAIL  PERSONAL   \n",
       "4  DNI 10083637      DNI  10083637  27100836373  EMAIL  PERSONAL   \n",
       "\n",
       "                            DATO PROPIETARIO_DATO PROVEEDOR_DATO  \\\n",
       "0      adriandario74@hotmail.com           Propio           ZERT   \n",
       "1  cristiantejedo-ks@hotmail.com           Propio           ZERT   \n",
       "2          dieperez@yahoo.com.ar           Propio           ZERT   \n",
       "3         romeromartac@yahoo.com           Propio           ZERT   \n",
       "4          csofiacarla@yahoo.com           Propio           ZERT   \n",
       "\n",
       "          FECHA_INGRESO_DATO  VERIFICADO  FECHA_VERIFICACION  \\\n",
       "0 2021-08-27 11:03:33.798355           0                 NaN   \n",
       "1 2021-08-27 11:03:33.798355           0                 NaN   \n",
       "2 2021-08-27 11:03:33.798355           0                 NaN   \n",
       "3 2021-08-27 11:03:33.798355           0                 NaN   \n",
       "4 2021-08-27 11:03:33.798355           0                 NaN   \n",
       "\n",
       "   OPERADOR_VERIFICACION  SCORE_DATO  \n",
       "0                    NaN         2.0  \n",
       "1                    NaN         2.0  \n",
       "2                    NaN         2.0  \n",
       "3                    NaN         2.0  \n",
       "4                    NaN         2.0  "
      ]
     },
     "execution_count": 229,
     "metadata": {},
     "output_type": "execute_result"
    }
   ],
   "source": [
    "df_export.head()"
   ]
  },
  {
   "cell_type": "code",
   "execution_count": 230,
   "metadata": {
    "scrolled": true
   },
   "outputs": [
    {
     "data": {
      "text/plain": [
       "(18514, 14)"
      ]
     },
     "execution_count": 230,
     "metadata": {},
     "output_type": "execute_result"
    }
   ],
   "source": [
    "df_export.shape"
   ]
  },
  {
   "cell_type": "markdown",
   "metadata": {},
   "source": [
    "Número a str para no tener problemas con la inserción"
   ]
  },
  {
   "cell_type": "code",
   "execution_count": 231,
   "metadata": {},
   "outputs": [
    {
     "data": {
      "text/html": [
       "<div>\n",
       "<style scoped>\n",
       "    .dataframe tbody tr th:only-of-type {\n",
       "        vertical-align: middle;\n",
       "    }\n",
       "\n",
       "    .dataframe tbody tr th {\n",
       "        vertical-align: top;\n",
       "    }\n",
       "\n",
       "    .dataframe thead th {\n",
       "        text-align: right;\n",
       "    }\n",
       "</style>\n",
       "<table border=\"1\" class=\"dataframe\">\n",
       "  <thead>\n",
       "    <tr style=\"text-align: right;\">\n",
       "      <th></th>\n",
       "      <th>IDMOROSO</th>\n",
       "      <th>TIPO_DOC</th>\n",
       "      <th>NRO_DOC</th>\n",
       "      <th>CUIT_CUIL</th>\n",
       "      <th>TIPO</th>\n",
       "      <th>SUBTIPO</th>\n",
       "      <th>DATO</th>\n",
       "      <th>PROPIETARIO_DATO</th>\n",
       "      <th>PROVEEDOR_DATO</th>\n",
       "      <th>FECHA_INGRESO_DATO</th>\n",
       "      <th>VERIFICADO</th>\n",
       "      <th>FECHA_VERIFICACION</th>\n",
       "      <th>OPERADOR_VERIFICACION</th>\n",
       "      <th>SCORE_DATO</th>\n",
       "    </tr>\n",
       "  </thead>\n",
       "  <tbody>\n",
       "    <tr>\n",
       "      <th>18509</th>\n",
       "      <td>LE  6434675</td>\n",
       "      <td>LE</td>\n",
       "      <td>6434675</td>\n",
       "      <td>27064346755</td>\n",
       "      <td>EMAIL</td>\n",
       "      <td>PERSONAL</td>\n",
       "      <td>janicolli@yahoo.com.ar</td>\n",
       "      <td>Propio</td>\n",
       "      <td>ZERT</td>\n",
       "      <td>2021-08-27 11:03:33.798355</td>\n",
       "      <td>0</td>\n",
       "      <td>NaN</td>\n",
       "      <td>NaN</td>\n",
       "      <td>2.0</td>\n",
       "    </tr>\n",
       "    <tr>\n",
       "      <th>18510</th>\n",
       "      <td>LE  6434675</td>\n",
       "      <td>LE</td>\n",
       "      <td>6434675</td>\n",
       "      <td>24064346756</td>\n",
       "      <td>EMAIL</td>\n",
       "      <td>PERSONAL</td>\n",
       "      <td>janicolli@yahoo.com.ar</td>\n",
       "      <td>Propio</td>\n",
       "      <td>ZERT</td>\n",
       "      <td>2021-08-27 11:03:33.798355</td>\n",
       "      <td>0</td>\n",
       "      <td>NaN</td>\n",
       "      <td>NaN</td>\n",
       "      <td>2.0</td>\n",
       "    </tr>\n",
       "    <tr>\n",
       "      <th>18511</th>\n",
       "      <td>LE  6434675</td>\n",
       "      <td>LE</td>\n",
       "      <td>6434675</td>\n",
       "      <td>20064346750</td>\n",
       "      <td>EMAIL</td>\n",
       "      <td>PERSONAL</td>\n",
       "      <td>janicolli@yahoo.com.ar</td>\n",
       "      <td>Propio</td>\n",
       "      <td>ZERT</td>\n",
       "      <td>2021-08-27 11:03:33.798355</td>\n",
       "      <td>0</td>\n",
       "      <td>NaN</td>\n",
       "      <td>NaN</td>\n",
       "      <td>2.0</td>\n",
       "    </tr>\n",
       "    <tr>\n",
       "      <th>18512</th>\n",
       "      <td>LE  6852994</td>\n",
       "      <td>LE</td>\n",
       "      <td>6852994</td>\n",
       "      <td>20068529949</td>\n",
       "      <td>EMAIL</td>\n",
       "      <td>PERSONAL</td>\n",
       "      <td>juansederino@gmail.com</td>\n",
       "      <td>Propio</td>\n",
       "      <td>ZERT</td>\n",
       "      <td>2021-08-27 11:03:33.798355</td>\n",
       "      <td>0</td>\n",
       "      <td>NaN</td>\n",
       "      <td>NaN</td>\n",
       "      <td>2.0</td>\n",
       "    </tr>\n",
       "    <tr>\n",
       "      <th>18513</th>\n",
       "      <td>LE  7007498</td>\n",
       "      <td>LE</td>\n",
       "      <td>7007498</td>\n",
       "      <td>20070074983</td>\n",
       "      <td>EMAIL</td>\n",
       "      <td>PERSONAL</td>\n",
       "      <td>elenacervan@hotmail.com</td>\n",
       "      <td>Propio</td>\n",
       "      <td>ZERT</td>\n",
       "      <td>2021-08-27 11:03:33.798355</td>\n",
       "      <td>0</td>\n",
       "      <td>NaN</td>\n",
       "      <td>NaN</td>\n",
       "      <td>2.0</td>\n",
       "    </tr>\n",
       "  </tbody>\n",
       "</table>\n",
       "</div>"
      ],
      "text/plain": [
       "          IDMOROSO TIPO_DOC  NRO_DOC    CUIT_CUIL   TIPO   SUBTIPO  \\\n",
       "18509  LE  6434675       LE  6434675  27064346755  EMAIL  PERSONAL   \n",
       "18510  LE  6434675       LE  6434675  24064346756  EMAIL  PERSONAL   \n",
       "18511  LE  6434675       LE  6434675  20064346750  EMAIL  PERSONAL   \n",
       "18512  LE  6852994       LE  6852994  20068529949  EMAIL  PERSONAL   \n",
       "18513  LE  7007498       LE  7007498  20070074983  EMAIL  PERSONAL   \n",
       "\n",
       "                          DATO PROPIETARIO_DATO PROVEEDOR_DATO  \\\n",
       "18509   janicolli@yahoo.com.ar           Propio           ZERT   \n",
       "18510   janicolli@yahoo.com.ar           Propio           ZERT   \n",
       "18511   janicolli@yahoo.com.ar           Propio           ZERT   \n",
       "18512   juansederino@gmail.com           Propio           ZERT   \n",
       "18513  elenacervan@hotmail.com           Propio           ZERT   \n",
       "\n",
       "              FECHA_INGRESO_DATO  VERIFICADO  FECHA_VERIFICACION  \\\n",
       "18509 2021-08-27 11:03:33.798355           0                 NaN   \n",
       "18510 2021-08-27 11:03:33.798355           0                 NaN   \n",
       "18511 2021-08-27 11:03:33.798355           0                 NaN   \n",
       "18512 2021-08-27 11:03:33.798355           0                 NaN   \n",
       "18513 2021-08-27 11:03:33.798355           0                 NaN   \n",
       "\n",
       "       OPERADOR_VERIFICACION  SCORE_DATO  \n",
       "18509                    NaN         2.0  \n",
       "18510                    NaN         2.0  \n",
       "18511                    NaN         2.0  \n",
       "18512                    NaN         2.0  \n",
       "18513                    NaN         2.0  "
      ]
     },
     "execution_count": 231,
     "metadata": {},
     "output_type": "execute_result"
    }
   ],
   "source": [
    "df_export.tail()"
   ]
  },
  {
   "cell_type": "markdown",
   "metadata": {},
   "source": [
    "Dropeamos filas duplicadas"
   ]
  },
  {
   "cell_type": "code",
   "execution_count": 232,
   "metadata": {},
   "outputs": [],
   "source": [
    "df_export = df_export.drop_duplicates()"
   ]
  },
  {
   "cell_type": "code",
   "execution_count": 233,
   "metadata": {},
   "outputs": [
    {
     "data": {
      "text/plain": [
       "(18486, 14)"
      ]
     },
     "execution_count": 233,
     "metadata": {},
     "output_type": "execute_result"
    }
   ],
   "source": [
    "df_export.shape"
   ]
  },
  {
   "cell_type": "markdown",
   "metadata": {},
   "source": [
    "### DNI\n",
    "Acá se les hace volar a los LE y LC porque hay muchos errores en lo que devolvió certero"
   ]
  },
  {
   "cell_type": "code",
   "execution_count": 234,
   "metadata": {},
   "outputs": [],
   "source": [
    "df_export = df_export[[int(i)>10000000 for i in df_export[\"NRO_DOC\"].tolist()]]"
   ]
  },
  {
   "cell_type": "markdown",
   "metadata": {},
   "source": [
    "## Dato a str + strip()"
   ]
  },
  {
   "cell_type": "code",
   "execution_count": 235,
   "metadata": {},
   "outputs": [],
   "source": [
    "df_export ['DATO'] = df_export['DATO'].str.strip()"
   ]
  },
  {
   "cell_type": "markdown",
   "metadata": {},
   "source": [
    "# Revisión de duplicados"
   ]
  },
  {
   "cell_type": "code",
   "execution_count": 236,
   "metadata": {},
   "outputs": [],
   "source": [
    "#df_export[df_export.duplicated(subset=['IDMOROSO','DATO','PROVEEDOR_DATO'],keep=False)]\n",
    "df_export.loc[(df_export.duplicated(subset=['IDMOROSO','DATO','PROVEEDOR_DATO'],keep=False)) , 'CUIT_CUIL'] = None\n",
    "df_export = df_export.drop_duplicates()"
   ]
  },
  {
   "cell_type": "code",
   "execution_count": 237,
   "metadata": {},
   "outputs": [
    {
     "data": {
      "text/html": [
       "<div>\n",
       "<style scoped>\n",
       "    .dataframe tbody tr th:only-of-type {\n",
       "        vertical-align: middle;\n",
       "    }\n",
       "\n",
       "    .dataframe tbody tr th {\n",
       "        vertical-align: top;\n",
       "    }\n",
       "\n",
       "    .dataframe thead th {\n",
       "        text-align: right;\n",
       "    }\n",
       "</style>\n",
       "<table border=\"1\" class=\"dataframe\">\n",
       "  <thead>\n",
       "    <tr style=\"text-align: right;\">\n",
       "      <th></th>\n",
       "      <th>IDMOROSO</th>\n",
       "      <th>TIPO_DOC</th>\n",
       "      <th>NRO_DOC</th>\n",
       "      <th>CUIT_CUIL</th>\n",
       "      <th>TIPO</th>\n",
       "      <th>SUBTIPO</th>\n",
       "      <th>DATO</th>\n",
       "      <th>PROPIETARIO_DATO</th>\n",
       "      <th>PROVEEDOR_DATO</th>\n",
       "      <th>FECHA_INGRESO_DATO</th>\n",
       "      <th>VERIFICADO</th>\n",
       "      <th>FECHA_VERIFICACION</th>\n",
       "      <th>OPERADOR_VERIFICACION</th>\n",
       "      <th>SCORE_DATO</th>\n",
       "    </tr>\n",
       "  </thead>\n",
       "  <tbody>\n",
       "  </tbody>\n",
       "</table>\n",
       "</div>"
      ],
      "text/plain": [
       "Empty DataFrame\n",
       "Columns: [IDMOROSO, TIPO_DOC, NRO_DOC, CUIT_CUIL, TIPO, SUBTIPO, DATO, PROPIETARIO_DATO, PROVEEDOR_DATO, FECHA_INGRESO_DATO, VERIFICADO, FECHA_VERIFICACION, OPERADOR_VERIFICACION, SCORE_DATO]\n",
       "Index: []"
      ]
     },
     "execution_count": 237,
     "metadata": {},
     "output_type": "execute_result"
    }
   ],
   "source": [
    "duplicated_subset = df_export[df_export.duplicated(subset=['IDMOROSO','DATO','PROVEEDOR_DATO'],keep=False)]\n",
    "duplicated_subset.head()"
   ]
  },
  {
   "cell_type": "markdown",
   "metadata": {},
   "source": [
    "<font size=4>Se eliminan los mails duplicados para un mismo NRO_DOC pero le quitamos el CUIL porque nos pasan varios</font>"
   ]
  },
  {
   "cell_type": "code",
   "execution_count": 274,
   "metadata": {
    "scrolled": true
   },
   "outputs": [
    {
     "name": "stdout",
     "output_type": "stream",
     "text": [
      "27100396217\n",
      "27100396217.0\n"
     ]
    },
    {
     "data": {
      "text/html": [
       "<div>\n",
       "<style scoped>\n",
       "    .dataframe tbody tr th:only-of-type {\n",
       "        vertical-align: middle;\n",
       "    }\n",
       "\n",
       "    .dataframe tbody tr th {\n",
       "        vertical-align: top;\n",
       "    }\n",
       "\n",
       "    .dataframe thead th {\n",
       "        text-align: right;\n",
       "    }\n",
       "</style>\n",
       "<table border=\"1\" class=\"dataframe\">\n",
       "  <thead>\n",
       "    <tr style=\"text-align: right;\">\n",
       "      <th></th>\n",
       "      <th>IDMOROSO</th>\n",
       "      <th>TIPO_DOC</th>\n",
       "      <th>NRO_DOC</th>\n",
       "      <th>CUIT_CUIL</th>\n",
       "      <th>TIPO</th>\n",
       "      <th>SUBTIPO</th>\n",
       "      <th>DATO</th>\n",
       "      <th>PROPIETARIO_DATO</th>\n",
       "      <th>PROVEEDOR_DATO</th>\n",
       "      <th>FECHA_INGRESO_DATO</th>\n",
       "      <th>VERIFICADO</th>\n",
       "      <th>FECHA_VERIFICACION</th>\n",
       "      <th>OPERADOR_VERIFICACION</th>\n",
       "      <th>SCORE_DATO</th>\n",
       "    </tr>\n",
       "  </thead>\n",
       "  <tbody>\n",
       "    <tr>\n",
       "      <th>0</th>\n",
       "      <td>DNI 10039621</td>\n",
       "      <td>DNI</td>\n",
       "      <td>10039621</td>\n",
       "      <td>2.710040e+10</td>\n",
       "      <td>EMAIL</td>\n",
       "      <td>PERSONAL</td>\n",
       "      <td>adriandario74@hotmail.com</td>\n",
       "      <td>Propio</td>\n",
       "      <td>ZERT</td>\n",
       "      <td>2021-08-27 11:03:33.798355</td>\n",
       "      <td>0</td>\n",
       "      <td>NaN</td>\n",
       "      <td>NaN</td>\n",
       "      <td>2.0</td>\n",
       "    </tr>\n",
       "    <tr>\n",
       "      <th>1</th>\n",
       "      <td>DNI 10039621</td>\n",
       "      <td>DNI</td>\n",
       "      <td>10039621</td>\n",
       "      <td>2.710040e+10</td>\n",
       "      <td>EMAIL</td>\n",
       "      <td>PERSONAL</td>\n",
       "      <td>cristiantejedo-ks@hotmail.com</td>\n",
       "      <td>Propio</td>\n",
       "      <td>ZERT</td>\n",
       "      <td>2021-08-27 11:03:33.798355</td>\n",
       "      <td>0</td>\n",
       "      <td>NaN</td>\n",
       "      <td>NaN</td>\n",
       "      <td>2.0</td>\n",
       "    </tr>\n",
       "    <tr>\n",
       "      <th>2</th>\n",
       "      <td>DNI 10046071</td>\n",
       "      <td>DNI</td>\n",
       "      <td>10046071</td>\n",
       "      <td>2.710046e+10</td>\n",
       "      <td>EMAIL</td>\n",
       "      <td>PERSONAL</td>\n",
       "      <td>dieperez@yahoo.com.ar</td>\n",
       "      <td>Propio</td>\n",
       "      <td>ZERT</td>\n",
       "      <td>2021-08-27 11:03:33.798355</td>\n",
       "      <td>0</td>\n",
       "      <td>NaN</td>\n",
       "      <td>NaN</td>\n",
       "      <td>2.0</td>\n",
       "    </tr>\n",
       "    <tr>\n",
       "      <th>3</th>\n",
       "      <td>DNI 10083637</td>\n",
       "      <td>DNI</td>\n",
       "      <td>10083637</td>\n",
       "      <td>2.710084e+10</td>\n",
       "      <td>EMAIL</td>\n",
       "      <td>PERSONAL</td>\n",
       "      <td>romeromartac@yahoo.com</td>\n",
       "      <td>Propio</td>\n",
       "      <td>ZERT</td>\n",
       "      <td>2021-08-27 11:03:33.798355</td>\n",
       "      <td>0</td>\n",
       "      <td>NaN</td>\n",
       "      <td>NaN</td>\n",
       "      <td>2.0</td>\n",
       "    </tr>\n",
       "    <tr>\n",
       "      <th>4</th>\n",
       "      <td>DNI 10083637</td>\n",
       "      <td>DNI</td>\n",
       "      <td>10083637</td>\n",
       "      <td>2.710084e+10</td>\n",
       "      <td>EMAIL</td>\n",
       "      <td>PERSONAL</td>\n",
       "      <td>csofiacarla@yahoo.com</td>\n",
       "      <td>Propio</td>\n",
       "      <td>ZERT</td>\n",
       "      <td>2021-08-27 11:03:33.798355</td>\n",
       "      <td>0</td>\n",
       "      <td>NaN</td>\n",
       "      <td>NaN</td>\n",
       "      <td>2.0</td>\n",
       "    </tr>\n",
       "  </tbody>\n",
       "</table>\n",
       "</div>"
      ],
      "text/plain": [
       "       IDMOROSO TIPO_DOC   NRO_DOC     CUIT_CUIL   TIPO   SUBTIPO  \\\n",
       "0  DNI 10039621      DNI  10039621  2.710040e+10  EMAIL  PERSONAL   \n",
       "1  DNI 10039621      DNI  10039621  2.710040e+10  EMAIL  PERSONAL   \n",
       "2  DNI 10046071      DNI  10046071  2.710046e+10  EMAIL  PERSONAL   \n",
       "3  DNI 10083637      DNI  10083637  2.710084e+10  EMAIL  PERSONAL   \n",
       "4  DNI 10083637      DNI  10083637  2.710084e+10  EMAIL  PERSONAL   \n",
       "\n",
       "                            DATO PROPIETARIO_DATO PROVEEDOR_DATO  \\\n",
       "0      adriandario74@hotmail.com           Propio           ZERT   \n",
       "1  cristiantejedo-ks@hotmail.com           Propio           ZERT   \n",
       "2          dieperez@yahoo.com.ar           Propio           ZERT   \n",
       "3         romeromartac@yahoo.com           Propio           ZERT   \n",
       "4          csofiacarla@yahoo.com           Propio           ZERT   \n",
       "\n",
       "          FECHA_INGRESO_DATO  VERIFICADO  FECHA_VERIFICACION  \\\n",
       "0 2021-08-27 11:03:33.798355           0                 NaN   \n",
       "1 2021-08-27 11:03:33.798355           0                 NaN   \n",
       "2 2021-08-27 11:03:33.798355           0                 NaN   \n",
       "3 2021-08-27 11:03:33.798355           0                 NaN   \n",
       "4 2021-08-27 11:03:33.798355           0                 NaN   \n",
       "\n",
       "   OPERADOR_VERIFICACION  SCORE_DATO  \n",
       "0                    NaN         2.0  \n",
       "1                    NaN         2.0  \n",
       "2                    NaN         2.0  \n",
       "3                    NaN         2.0  \n",
       "4                    NaN         2.0  "
      ]
     },
     "execution_count": 274,
     "metadata": {},
     "output_type": "execute_result"
    }
   ],
   "source": [
    "df_export[\"CUIT_CUIL\"]= df_export[\"CUIT_CUIL\"].fillna(0.0)\n",
    "df_export1 = df_export.copy()\n",
    "df_export1[\"CUIT_CUIL\"] = [int(i) for i in df_export1[\"CUIT_CUIL\"].tolist()]\n",
    "print(df_export1[\"CUIT_CUIL\"][0])\n",
    "df_export1.loc[(df_export1[\"CUIT_CUIL\"]==0), 'CUIT_CUIL'] = None\n",
    "print(df_export1[\"CUIT_CUIL\"][0])\n",
    "df_export1.head()"
   ]
  },
  {
   "cell_type": "code",
   "execution_count": 275,
   "metadata": {},
   "outputs": [
    {
     "data": {
      "text/plain": [
       "(16368, 14)"
      ]
     },
     "execution_count": 275,
     "metadata": {},
     "output_type": "execute_result"
    }
   ],
   "source": [
    "df_export1.shape"
   ]
  },
  {
   "cell_type": "markdown",
   "metadata": {},
   "source": [
    "# Filtrado de datos\n",
    "se sacan los datos basura que nos inserta CERTERO"
   ]
  },
  {
   "cell_type": "code",
   "execution_count": 323,
   "metadata": {},
   "outputs": [],
   "source": [
    "lista_filtrado = [\"no_posee@hotmail.com\", \"1.1@hotmail.com\",\"r@r.com\",\"no_posee123@hotmail.com\",\n",
    "                  \"no_posee29@gmail.com\", \"no_posee1@hotmail.com\", \"no@no.com\", \"no@yahoo.com.ar\",\n",
    "                  \"no1@gmail.com\", \"nodispone@gmail.com\", \"nodispone@hotmail.com\", \"inexsistente@hotmail.com\",\n",
    "                  \"nopose@gmail.com\", \"nopo@gmail.com\", \"noo@hotmail.com\", \"nombre@hotmail.com\", \"nolosabe@gmail.com\",\n",
    "                  \"noinformaemail@hotmail.com\", \"nohaymail@hotmail.com\", \"nohaymail@gmail.com\", \"nohay@hotmail.com\",\n",
    "                  \"nohay@email.com\",\"noexiste@noexiste.com.ar\", \"noexiste@gmail.com\", \"noexiste@hotmail.com\",\n",
    "                  \"noexistente@gmail.com\",\"no_poseo@hotmail.com\",\"no_posse@hotmail.com\",\"no_tengo@hotmail.com\",\n",
    "                  \"no_tieme@hotmail.com\",\"no_utiliza@correo.com\",\"no-mail@nomail.com\",\"xx@hotmail.com\",\n",
    "                  \"xxx@hotmail.com\",\"xxx@yahoo.com\",\"xxxx@gmail.com\",\"xxxx@gmail.com\",\"xxxx@hotmail.com\",\n",
    "                  \"xxxx@hotmail.com\",\"xxxx@hotmail.com\",\"xxxxx@gmail.com\",\"xxxxx@gmail.com\",\"xxxxxx@hotmail.com\",\n",
    "                  \"xxxxxxxxx@hotmail.com\"\n",
    "                 ]\n",
    "df_export1 = df_export1[~df_export1.DATO.isin(lista_filtrado)]\n",
    "df_export2 = df_export1.drop_duplicates(subset=[\"DATO\"],keep=False)"
   ]
  },
  {
   "cell_type": "code",
   "execution_count": 324,
   "metadata": {},
   "outputs": [],
   "source": [
    "duplicates_subset = df_export2[df_export2.duplicated(subset=['DATO','PROVEEDOR_DATO'],keep=False)]"
   ]
  },
  {
   "cell_type": "code",
   "execution_count": 325,
   "metadata": {},
   "outputs": [
    {
     "data": {
      "text/html": [
       "<div>\n",
       "<style scoped>\n",
       "    .dataframe tbody tr th:only-of-type {\n",
       "        vertical-align: middle;\n",
       "    }\n",
       "\n",
       "    .dataframe tbody tr th {\n",
       "        vertical-align: top;\n",
       "    }\n",
       "\n",
       "    .dataframe thead th {\n",
       "        text-align: right;\n",
       "    }\n",
       "</style>\n",
       "<table border=\"1\" class=\"dataframe\">\n",
       "  <thead>\n",
       "    <tr style=\"text-align: right;\">\n",
       "      <th></th>\n",
       "      <th>IDMOROSO</th>\n",
       "      <th>TIPO_DOC</th>\n",
       "      <th>NRO_DOC</th>\n",
       "      <th>CUIT_CUIL</th>\n",
       "      <th>TIPO</th>\n",
       "      <th>SUBTIPO</th>\n",
       "      <th>DATO</th>\n",
       "      <th>PROPIETARIO_DATO</th>\n",
       "      <th>PROVEEDOR_DATO</th>\n",
       "      <th>FECHA_INGRESO_DATO</th>\n",
       "      <th>VERIFICADO</th>\n",
       "      <th>FECHA_VERIFICACION</th>\n",
       "      <th>OPERADOR_VERIFICACION</th>\n",
       "      <th>SCORE_DATO</th>\n",
       "    </tr>\n",
       "  </thead>\n",
       "  <tbody>\n",
       "  </tbody>\n",
       "</table>\n",
       "</div>"
      ],
      "text/plain": [
       "Empty DataFrame\n",
       "Columns: [IDMOROSO, TIPO_DOC, NRO_DOC, CUIT_CUIL, TIPO, SUBTIPO, DATO, PROPIETARIO_DATO, PROVEEDOR_DATO, FECHA_INGRESO_DATO, VERIFICADO, FECHA_VERIFICACION, OPERADOR_VERIFICACION, SCORE_DATO]\n",
       "Index: []"
      ]
     },
     "execution_count": 325,
     "metadata": {},
     "output_type": "execute_result"
    }
   ],
   "source": [
    "duplicates_subset"
   ]
  },
  {
   "cell_type": "markdown",
   "metadata": {},
   "source": [
    "## 14.2) Insert a tabla DAM_CONTACTABILIDAD:"
   ]
  },
  {
   "cell_type": "code",
   "execution_count": 326,
   "metadata": {},
   "outputs": [],
   "source": [
    "df_export1.to_csv('insider.csv',index=False)"
   ]
  },
  {
   "cell_type": "code",
   "execution_count": null,
   "metadata": {},
   "outputs": [],
   "source": []
  }
 ],
 "metadata": {
  "kernelspec": {
   "display_name": "Python 3",
   "language": "python",
   "name": "python3"
  },
  "language_info": {
   "codemirror_mode": {
    "name": "ipython",
    "version": 3
   },
   "file_extension": ".py",
   "mimetype": "text/x-python",
   "name": "python",
   "nbconvert_exporter": "python",
   "pygments_lexer": "ipython3",
   "version": "3.7.11"
  }
 },
 "nbformat": 4,
 "nbformat_minor": 4
}
