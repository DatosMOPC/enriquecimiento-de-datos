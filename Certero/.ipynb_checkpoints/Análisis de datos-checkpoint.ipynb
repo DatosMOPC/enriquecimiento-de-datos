{
 "cells": [
  {
   "cell_type": "code",
   "execution_count": 7,
   "metadata": {},
   "outputs": [],
   "source": [
    "import pandas as pd\n",
    "import sys\n",
    "import datetime\n",
    "import numpy as np\n"
   ]
  },
  {
   "cell_type": "markdown",
   "metadata": {},
   "source": [
    "# Preprocesamiento de los datos de Certero\n",
    "Anexamos los datos que nos dió el proveedor para luego poder compararlos"
   ]
  },
  {
   "cell_type": "code",
   "execution_count": 241,
   "metadata": {},
   "outputs": [
    {
     "data": {
      "text/html": [
       "<div>\n",
       "<style scoped>\n",
       "    .dataframe tbody tr th:only-of-type {\n",
       "        vertical-align: middle;\n",
       "    }\n",
       "\n",
       "    .dataframe tbody tr th {\n",
       "        vertical-align: top;\n",
       "    }\n",
       "\n",
       "    .dataframe thead th {\n",
       "        text-align: right;\n",
       "    }\n",
       "</style>\n",
       "<table border=\"1\" class=\"dataframe\">\n",
       "  <thead>\n",
       "    <tr style=\"text-align: right;\">\n",
       "      <th></th>\n",
       "      <th>IDMOROSO</th>\n",
       "      <th>PROVEEDOR_DATO</th>\n",
       "      <th>FECHA_INGRESO_DATO</th>\n",
       "      <th>TIPO</th>\n",
       "      <th>DATO</th>\n",
       "      <th>SCORE_DATO_100</th>\n",
       "    </tr>\n",
       "  </thead>\n",
       "  <tbody>\n",
       "    <tr>\n",
       "      <th>0</th>\n",
       "      <td>DNI 33004351</td>\n",
       "      <td>IX</td>\n",
       "      <td>2021-01-26 17:59:09.790</td>\n",
       "      <td>TEL.CELULAR</td>\n",
       "      <td>(11) 5755-8865</td>\n",
       "      <td>50.0</td>\n",
       "    </tr>\n",
       "    <tr>\n",
       "      <th>1</th>\n",
       "      <td>DNI 33154216</td>\n",
       "      <td>IX</td>\n",
       "      <td>2021-01-26 17:59:09.790</td>\n",
       "      <td>TEL.CELULAR</td>\n",
       "      <td>(11) 5112-4922</td>\n",
       "      <td>50.0</td>\n",
       "    </tr>\n",
       "    <tr>\n",
       "      <th>2</th>\n",
       "      <td>DNI 28719579</td>\n",
       "      <td>IX</td>\n",
       "      <td>2021-01-26 17:59:09.790</td>\n",
       "      <td>TEL.CELULAR</td>\n",
       "      <td>(11) 4031-3230</td>\n",
       "      <td>50.0</td>\n",
       "    </tr>\n",
       "    <tr>\n",
       "      <th>3</th>\n",
       "      <td>DNI 31824168</td>\n",
       "      <td>IX</td>\n",
       "      <td>2021-01-26 17:59:09.790</td>\n",
       "      <td>TEL.CELULAR</td>\n",
       "      <td>(11) 4031-2279</td>\n",
       "      <td>50.0</td>\n",
       "    </tr>\n",
       "    <tr>\n",
       "      <th>4</th>\n",
       "      <td>DNI 31824168</td>\n",
       "      <td>IX</td>\n",
       "      <td>2021-01-26 17:59:09.790</td>\n",
       "      <td>TEL.CELULAR</td>\n",
       "      <td>(11) 6464-9689</td>\n",
       "      <td>50.0</td>\n",
       "    </tr>\n",
       "  </tbody>\n",
       "</table>\n",
       "</div>"
      ],
      "text/plain": [
       "       IDMOROSO PROVEEDOR_DATO       FECHA_INGRESO_DATO         TIPO  \\\n",
       "0  DNI 33004351             IX  2021-01-26 17:59:09.790  TEL.CELULAR   \n",
       "1  DNI 33154216             IX  2021-01-26 17:59:09.790  TEL.CELULAR   \n",
       "2  DNI 28719579             IX  2021-01-26 17:59:09.790  TEL.CELULAR   \n",
       "3  DNI 31824168             IX  2021-01-26 17:59:09.790  TEL.CELULAR   \n",
       "4  DNI 31824168             IX  2021-01-26 17:59:09.790  TEL.CELULAR   \n",
       "\n",
       "             DATO  SCORE_DATO_100  \n",
       "0  (11) 5755-8865            50.0  \n",
       "1  (11) 5112-4922            50.0  \n",
       "2  (11) 4031-3230            50.0  \n",
       "3  (11) 4031-2279            50.0  \n",
       "4  (11) 6464-9689            50.0  "
      ]
     },
     "execution_count": 241,
     "metadata": {},
     "output_type": "execute_result"
    }
   ],
   "source": [
    "df = pd.read_csv('Datos_para_análisis.csv')\n",
    "df[\"IDMOROSO\"] = df[\"IDMOROSO\"].str.strip()\n",
    "df[\"DATO\"] = df[\"DATO\"].str.upper()\n",
    "df.head()"
   ]
  },
  {
   "cell_type": "code",
   "execution_count": 242,
   "metadata": {},
   "outputs": [
    {
     "data": {
      "text/html": [
       "<div>\n",
       "<style scoped>\n",
       "    .dataframe tbody tr th:only-of-type {\n",
       "        vertical-align: middle;\n",
       "    }\n",
       "\n",
       "    .dataframe tbody tr th {\n",
       "        vertical-align: top;\n",
       "    }\n",
       "\n",
       "    .dataframe thead th {\n",
       "        text-align: right;\n",
       "    }\n",
       "</style>\n",
       "<table border=\"1\" class=\"dataframe\">\n",
       "  <thead>\n",
       "    <tr style=\"text-align: right;\">\n",
       "      <th></th>\n",
       "      <th>IDMOROSO</th>\n",
       "      <th>NOMBRE</th>\n",
       "      <th>IDCLIENTE</th>\n",
       "      <th>ESTADO</th>\n",
       "      <th>FILTROA</th>\n",
       "      <th>DATOADIC</th>\n",
       "      <th>DOCUMENTO</th>\n",
       "      <th>TIPO</th>\n",
       "      <th>PROVEEDOR</th>\n",
       "      <th>FECHA</th>\n",
       "    </tr>\n",
       "  </thead>\n",
       "  <tbody>\n",
       "    <tr>\n",
       "      <th>0</th>\n",
       "      <td>CI  62933702</td>\n",
       "      <td>JOSE LUIS,FERNANDEZ FERNANDEZ</td>\n",
       "      <td>BSR_TARDIA</td>\n",
       "      <td>EN GESTION_PORTAL</td>\n",
       "      <td>Campana Extrajud Emp</td>\n",
       "      <td></td>\n",
       "      <td>CI62933702</td>\n",
       "      <td>CUIT</td>\n",
       "      <td>None</td>\n",
       "      <td>2021-09-03 00:00:00.000</td>\n",
       "    </tr>\n",
       "    <tr>\n",
       "      <th>1</th>\n",
       "      <td>CUIT30607032978</td>\n",
       "      <td>,MARCOS FERNANDEZ SRL</td>\n",
       "      <td>BSR_TARDIA</td>\n",
       "      <td>EN GESTION_PORTAL</td>\n",
       "      <td>Campana Extrajud Emp</td>\n",
       "      <td>30607032978</td>\n",
       "      <td>30607032978</td>\n",
       "      <td>CUIT</td>\n",
       "      <td>None</td>\n",
       "      <td>2021-09-03 00:00:00.000</td>\n",
       "    </tr>\n",
       "    <tr>\n",
       "      <th>2</th>\n",
       "      <td>CUIT30698087648</td>\n",
       "      <td>,ITACUA CONSTRUCCIONES SRL</td>\n",
       "      <td>BSR_TARDIA</td>\n",
       "      <td>NO UBICADO</td>\n",
       "      <td>Campana Extrajud Emp</td>\n",
       "      <td>30698087648</td>\n",
       "      <td>30698087648</td>\n",
       "      <td>CUIT</td>\n",
       "      <td>None</td>\n",
       "      <td>2021-09-03 00:00:00.000</td>\n",
       "    </tr>\n",
       "    <tr>\n",
       "      <th>3</th>\n",
       "      <td>CUIT30703557674</td>\n",
       "      <td>,IONES COMUNICACIONES SRL</td>\n",
       "      <td>BSR_TARDIA</td>\n",
       "      <td>NO UBICADO</td>\n",
       "      <td>Campana Extrajud Emp</td>\n",
       "      <td>30703557674</td>\n",
       "      <td>30703557674</td>\n",
       "      <td>CUIT</td>\n",
       "      <td>None</td>\n",
       "      <td>2021-09-03 00:00:00.000</td>\n",
       "    </tr>\n",
       "    <tr>\n",
       "      <th>4</th>\n",
       "      <td>CUIT30707047085</td>\n",
       "      <td>,PATER SHOW SRL</td>\n",
       "      <td>BSR_TARDIA</td>\n",
       "      <td>NO UBICADO</td>\n",
       "      <td>Campana Extrajud Emp</td>\n",
       "      <td>30707047085</td>\n",
       "      <td>30707047085</td>\n",
       "      <td>CUIT</td>\n",
       "      <td>None</td>\n",
       "      <td>2021-09-03 00:00:00.000</td>\n",
       "    </tr>\n",
       "  </tbody>\n",
       "</table>\n",
       "</div>"
      ],
      "text/plain": [
       "          IDMOROSO                                    NOMBRE  \\\n",
       "0     CI  62933702  JOSE LUIS,FERNANDEZ FERNANDEZ              \n",
       "1  CUIT30607032978  ,MARCOS FERNANDEZ SRL                      \n",
       "2  CUIT30698087648  ,ITACUA CONSTRUCCIONES SRL                 \n",
       "3  CUIT30703557674  ,IONES COMUNICACIONES SRL                  \n",
       "4  CUIT30707047085  ,PATER SHOW SRL                            \n",
       "\n",
       "              IDCLIENTE                ESTADO               FILTROA  \\\n",
       "0  BSR_TARDIA            EN GESTION_PORTAL     Campana Extrajud Emp   \n",
       "1  BSR_TARDIA            EN GESTION_PORTAL     Campana Extrajud Emp   \n",
       "2  BSR_TARDIA            NO UBICADO            Campana Extrajud Emp   \n",
       "3  BSR_TARDIA            NO UBICADO            Campana Extrajud Emp   \n",
       "4  BSR_TARDIA            NO UBICADO            Campana Extrajud Emp   \n",
       "\n",
       "                         DATOADIC    DOCUMENTO  TIPO PROVEEDOR  \\\n",
       "0                                   CI62933702  CUIT      None   \n",
       "1  30607032978                     30607032978  CUIT      None   \n",
       "2  30698087648                     30698087648  CUIT      None   \n",
       "3  30703557674                     30703557674  CUIT      None   \n",
       "4  30707047085                     30707047085  CUIT      None   \n",
       "\n",
       "                     FECHA  \n",
       "0  2021-09-03 00:00:00.000  \n",
       "1  2021-09-03 00:00:00.000  \n",
       "2  2021-09-03 00:00:00.000  \n",
       "3  2021-09-03 00:00:00.000  \n",
       "4  2021-09-03 00:00:00.000  "
      ]
     },
     "execution_count": 242,
     "metadata": {},
     "output_type": "execute_result"
    }
   ],
   "source": [
    "de = pd.read_csv('Datos_Enriquecimiento/Datos_Enriquecimiento_2021-08-25.csv')\n",
    "de['PROVEEDOR'] = None\n",
    "de['FECHA'] = '2021-09-03 00:00:00.000'\n",
    "de.head()"
   ]
  },
  {
   "cell_type": "code",
   "execution_count": null,
   "metadata": {},
   "outputs": [],
   "source": []
  },
  {
   "cell_type": "code",
   "execution_count": 278,
   "metadata": {},
   "outputs": [
    {
     "data": {
      "text/html": [
       "<div>\n",
       "<style scoped>\n",
       "    .dataframe tbody tr th:only-of-type {\n",
       "        vertical-align: middle;\n",
       "    }\n",
       "\n",
       "    .dataframe tbody tr th {\n",
       "        vertical-align: top;\n",
       "    }\n",
       "\n",
       "    .dataframe thead th {\n",
       "        text-align: right;\n",
       "    }\n",
       "</style>\n",
       "<table border=\"1\" class=\"dataframe\">\n",
       "  <thead>\n",
       "    <tr style=\"text-align: right;\">\n",
       "      <th></th>\n",
       "      <th>IDMOROSO</th>\n",
       "      <th>NOMBRE</th>\n",
       "      <th>IDCLIENTE</th>\n",
       "      <th>ESTADO</th>\n",
       "      <th>FILTROA</th>\n",
       "      <th>DATOADIC</th>\n",
       "      <th>DOCUMENTO</th>\n",
       "      <th>TIPO</th>\n",
       "      <th>PROVEEDOR</th>\n",
       "      <th>FECHA</th>\n",
       "    </tr>\n",
       "  </thead>\n",
       "  <tbody>\n",
       "    <tr>\n",
       "      <th>87</th>\n",
       "      <td>DNI 1035628</td>\n",
       "      <td>DAVID NATALIO,MUCHENIK</td>\n",
       "      <td>BSR_TARDIA</td>\n",
       "      <td>FALLECIDO</td>\n",
       "      <td>Campana Extrajud Ind</td>\n",
       "      <td></td>\n",
       "      <td>1035628</td>\n",
       "      <td>DNI</td>\n",
       "      <td>None</td>\n",
       "      <td>2021-09-03 00:00:00.000</td>\n",
       "    </tr>\n",
       "    <tr>\n",
       "      <th>504</th>\n",
       "      <td>DNI 1775574</td>\n",
       "      <td>BERTA,AMAYA</td>\n",
       "      <td>BSR_TARDIA</td>\n",
       "      <td>FALLECIDO</td>\n",
       "      <td>Campana Extrajud Ind</td>\n",
       "      <td></td>\n",
       "      <td>1775574</td>\n",
       "      <td>DNI</td>\n",
       "      <td>None</td>\n",
       "      <td>2021-09-03 00:00:00.000</td>\n",
       "    </tr>\n",
       "    <tr>\n",
       "      <th>999</th>\n",
       "      <td>DNI 1153524</td>\n",
       "      <td>PAREDES  JULIA MARINA</td>\n",
       "      <td>COTO_TARDIA</td>\n",
       "      <td>NO VISTO</td>\n",
       "      <td>TRAMO3</td>\n",
       "      <td></td>\n",
       "      <td>1153524</td>\n",
       "      <td>DNI</td>\n",
       "      <td>None</td>\n",
       "      <td>2021-09-03 00:00:00.000</td>\n",
       "    </tr>\n",
       "    <tr>\n",
       "      <th>1187</th>\n",
       "      <td>DNI 1539113</td>\n",
       "      <td>ELDA ELSA MAGDALENA,ROSETTI</td>\n",
       "      <td>BSR_TARDIA</td>\n",
       "      <td>NO UBICADO</td>\n",
       "      <td>Campana Extrajud Ind</td>\n",
       "      <td>27015391133</td>\n",
       "      <td>1539113</td>\n",
       "      <td>DNI</td>\n",
       "      <td>None</td>\n",
       "      <td>2021-09-03 00:00:00.000</td>\n",
       "    </tr>\n",
       "    <tr>\n",
       "      <th>1625</th>\n",
       "      <td>LC  5212858</td>\n",
       "      <td>BERNERI ALODIA LUISA</td>\n",
       "      <td>BBVA_LEGALES_PREJU_5</td>\n",
       "      <td>EN GESTION</td>\n",
       "      <td>NaN</td>\n",
       "      <td></td>\n",
       "      <td>5212858</td>\n",
       "      <td>LC</td>\n",
       "      <td>None</td>\n",
       "      <td>2021-09-03 00:00:00.000</td>\n",
       "    </tr>\n",
       "    <tr>\n",
       "      <th>...</th>\n",
       "      <td>...</td>\n",
       "      <td>...</td>\n",
       "      <td>...</td>\n",
       "      <td>...</td>\n",
       "      <td>...</td>\n",
       "      <td>...</td>\n",
       "      <td>...</td>\n",
       "      <td>...</td>\n",
       "      <td>...</td>\n",
       "      <td>...</td>\n",
       "    </tr>\n",
       "    <tr>\n",
       "      <th>20105</th>\n",
       "      <td>LE  6305211</td>\n",
       "      <td>ULLUA JUAN LUIS</td>\n",
       "      <td>FRANCES_2012</td>\n",
       "      <td>PLAN DE PAGOS</td>\n",
       "      <td>3 - Ag 3ra</td>\n",
       "      <td></td>\n",
       "      <td>6305211</td>\n",
       "      <td>LE</td>\n",
       "      <td>None</td>\n",
       "      <td>2021-09-03 00:00:00.000</td>\n",
       "    </tr>\n",
       "    <tr>\n",
       "      <th>20106</th>\n",
       "      <td>LE  6305512</td>\n",
       "      <td>MARCOLINI ALFREDO LILIE</td>\n",
       "      <td>FRANCES_2012</td>\n",
       "      <td>ASIGNADO</td>\n",
       "      <td>1 - Ag 1ra</td>\n",
       "      <td></td>\n",
       "      <td>6305512</td>\n",
       "      <td>LE</td>\n",
       "      <td>None</td>\n",
       "      <td>2021-09-03 00:00:00.000</td>\n",
       "    </tr>\n",
       "    <tr>\n",
       "      <th>20107</th>\n",
       "      <td>LE  6434675</td>\n",
       "      <td>NICOLLI JOSE AGUSTIN</td>\n",
       "      <td>FRANCES_2012</td>\n",
       "      <td>FALLECIDO</td>\n",
       "      <td>2 - Ag 2ra</td>\n",
       "      <td></td>\n",
       "      <td>6434675</td>\n",
       "      <td>LE</td>\n",
       "      <td>None</td>\n",
       "      <td>2021-09-03 00:00:00.000</td>\n",
       "    </tr>\n",
       "    <tr>\n",
       "      <th>20108</th>\n",
       "      <td>LE  6852994</td>\n",
       "      <td>SEDERINO MANUEL ITALO</td>\n",
       "      <td>FRANCES_2012</td>\n",
       "      <td>FALLECIDO</td>\n",
       "      <td>1 - Ag 1ra</td>\n",
       "      <td></td>\n",
       "      <td>6852994</td>\n",
       "      <td>LE</td>\n",
       "      <td>None</td>\n",
       "      <td>2021-09-03 00:00:00.000</td>\n",
       "    </tr>\n",
       "    <tr>\n",
       "      <th>20109</th>\n",
       "      <td>LE  7007498</td>\n",
       "      <td>ROMANO ANGEL EVANGELISTO</td>\n",
       "      <td>FRANCES_2012</td>\n",
       "      <td>FALLECIDO</td>\n",
       "      <td>1 - Ag 1ra</td>\n",
       "      <td></td>\n",
       "      <td>7007498</td>\n",
       "      <td>LE</td>\n",
       "      <td>None</td>\n",
       "      <td>2021-09-03 00:00:00.000</td>\n",
       "    </tr>\n",
       "  </tbody>\n",
       "</table>\n",
       "<p>1168 rows × 10 columns</p>\n",
       "</div>"
      ],
      "text/plain": [
       "          IDMOROSO                                    NOMBRE  \\\n",
       "87     DNI 1035628  DAVID NATALIO,MUCHENIK                     \n",
       "504    DNI 1775574  BERTA,AMAYA                                \n",
       "999    DNI 1153524  PAREDES  JULIA MARINA                      \n",
       "1187   DNI 1539113  ELDA ELSA MAGDALENA,ROSETTI                \n",
       "1625   LC  5212858  BERNERI ALODIA LUISA                       \n",
       "...            ...                                       ...   \n",
       "20105  LE  6305211  ULLUA JUAN LUIS                            \n",
       "20106  LE  6305512  MARCOLINI ALFREDO LILIE                    \n",
       "20107  LE  6434675  NICOLLI JOSE AGUSTIN                       \n",
       "20108  LE  6852994  SEDERINO MANUEL ITALO                      \n",
       "20109  LE  7007498  ROMANO ANGEL EVANGELISTO                   \n",
       "\n",
       "                  IDCLIENTE                ESTADO               FILTROA  \\\n",
       "87     BSR_TARDIA            FALLECIDO             Campana Extrajud Ind   \n",
       "504    BSR_TARDIA            FALLECIDO             Campana Extrajud Ind   \n",
       "999    COTO_TARDIA           NO VISTO              TRAMO3                 \n",
       "1187   BSR_TARDIA            NO UBICADO            Campana Extrajud Ind   \n",
       "1625   BBVA_LEGALES_PREJU_5  EN GESTION                             NaN   \n",
       "...                     ...                   ...                   ...   \n",
       "20105  FRANCES_2012          PLAN DE PAGOS         3 - Ag 3ra             \n",
       "20106  FRANCES_2012          ASIGNADO              1 - Ag 1ra             \n",
       "20107  FRANCES_2012          FALLECIDO             2 - Ag 2ra             \n",
       "20108  FRANCES_2012          FALLECIDO             1 - Ag 1ra             \n",
       "20109  FRANCES_2012          FALLECIDO             1 - Ag 1ra             \n",
       "\n",
       "                             DATOADIC  DOCUMENTO TIPO PROVEEDOR  \\\n",
       "87                                       1035628  DNI      None   \n",
       "504                                      1775574  DNI      None   \n",
       "999                                      1153524  DNI      None   \n",
       "1187   27015391133                       1539113  DNI      None   \n",
       "1625                                     5212858   LC      None   \n",
       "...                               ...        ...  ...       ...   \n",
       "20105                                    6305211   LE      None   \n",
       "20106                                    6305512   LE      None   \n",
       "20107                                    6434675   LE      None   \n",
       "20108                                    6852994   LE      None   \n",
       "20109                                    7007498   LE      None   \n",
       "\n",
       "                         FECHA  \n",
       "87     2021-09-03 00:00:00.000  \n",
       "504    2021-09-03 00:00:00.000  \n",
       "999    2021-09-03 00:00:00.000  \n",
       "1187   2021-09-03 00:00:00.000  \n",
       "1625   2021-09-03 00:00:00.000  \n",
       "...                        ...  \n",
       "20105  2021-09-03 00:00:00.000  \n",
       "20106  2021-09-03 00:00:00.000  \n",
       "20107  2021-09-03 00:00:00.000  \n",
       "20108  2021-09-03 00:00:00.000  \n",
       "20109  2021-09-03 00:00:00.000  \n",
       "\n",
       "[1168 rows x 10 columns]"
      ]
     },
     "execution_count": 278,
     "metadata": {},
     "output_type": "execute_result"
    }
   ],
   "source": [
    "dea = de.drop(0)\n",
    "dea[\"DOCUMENTO\"]=dea[\"DOCUMENTO\"].str.replace(\"LC\",\"\")\n",
    "dea[\"DOCUMENTO\"]=dea[\"DOCUMENTO\"].str.replace(\"LE\",\"\")\n",
    "dea = dea.dropna(subset=[\"DOCUMENTO\"])\n",
    "dea[\"DOCUMENTO\"] = dea[\"DOCUMENTO\"].astype(int)\n",
    "dea[dea[\"DOCUMENTO\"]<8000000]"
   ]
  },
  {
   "cell_type": "code",
   "execution_count": 197,
   "metadata": {},
   "outputs": [
    {
     "name": "stdout",
     "output_type": "stream",
     "text": [
      "0\n",
      "1000\n",
      "2000\n",
      "3000\n",
      "4000\n",
      "5000\n",
      "6000\n",
      "7000\n",
      "8000\n",
      "9000\n",
      "10000\n",
      "11000\n",
      "12000\n",
      "13000\n",
      "14000\n",
      "15000\n",
      "16000\n",
      "17000\n",
      "18000\n",
      "19000\n",
      "20000\n"
     ]
    },
    {
     "data": {
      "text/html": [
       "<div>\n",
       "<style scoped>\n",
       "    .dataframe tbody tr th:only-of-type {\n",
       "        vertical-align: middle;\n",
       "    }\n",
       "\n",
       "    .dataframe tbody tr th {\n",
       "        vertical-align: top;\n",
       "    }\n",
       "\n",
       "    .dataframe thead th {\n",
       "        text-align: right;\n",
       "    }\n",
       "</style>\n",
       "<table border=\"1\" class=\"dataframe\">\n",
       "  <thead>\n",
       "    <tr style=\"text-align: right;\">\n",
       "      <th></th>\n",
       "      <th>IDMOROSO</th>\n",
       "      <th>NOMBRE</th>\n",
       "      <th>IDCLIENTE</th>\n",
       "      <th>ESTADO</th>\n",
       "      <th>FILTROA</th>\n",
       "      <th>DATOADIC</th>\n",
       "      <th>DOCUMENTO</th>\n",
       "      <th>TIPO</th>\n",
       "      <th>PROVEEDOR</th>\n",
       "      <th>FECHA</th>\n",
       "    </tr>\n",
       "  </thead>\n",
       "  <tbody>\n",
       "    <tr>\n",
       "      <th>0</th>\n",
       "      <td>CI  62933702</td>\n",
       "      <td>JOSE LUIS,FERNANDEZ FERNANDEZ</td>\n",
       "      <td>BSR_TARDIA</td>\n",
       "      <td>EN GESTION_PORTAL</td>\n",
       "      <td>Campana Extrajud Emp</td>\n",
       "      <td></td>\n",
       "      <td>CI62933702</td>\n",
       "      <td>CUIT</td>\n",
       "      <td>C_SAN</td>\n",
       "      <td>2021-08-03 15:19:53.833</td>\n",
       "    </tr>\n",
       "    <tr>\n",
       "      <th>1</th>\n",
       "      <td>CUIT30607032978</td>\n",
       "      <td>,MARCOS FERNANDEZ SRL</td>\n",
       "      <td>BSR_TARDIA</td>\n",
       "      <td>EN GESTION_PORTAL</td>\n",
       "      <td>Campana Extrajud Emp</td>\n",
       "      <td>30607032978</td>\n",
       "      <td>30607032978</td>\n",
       "      <td>CUIT</td>\n",
       "      <td>C_SAN</td>\n",
       "      <td>2021-08-02 11:56:27.097</td>\n",
       "    </tr>\n",
       "    <tr>\n",
       "      <th>2</th>\n",
       "      <td>CUIT30698087648</td>\n",
       "      <td>,ITACUA CONSTRUCCIONES SRL</td>\n",
       "      <td>BSR_TARDIA</td>\n",
       "      <td>NO UBICADO</td>\n",
       "      <td>Campana Extrajud Emp</td>\n",
       "      <td>30698087648</td>\n",
       "      <td>30698087648</td>\n",
       "      <td>CUIT</td>\n",
       "      <td>C_SAN</td>\n",
       "      <td>2021-04-30 12:09:33.347</td>\n",
       "    </tr>\n",
       "    <tr>\n",
       "      <th>3</th>\n",
       "      <td>CUIT30703557674</td>\n",
       "      <td>,IONES COMUNICACIONES SRL</td>\n",
       "      <td>BSR_TARDIA</td>\n",
       "      <td>NO UBICADO</td>\n",
       "      <td>Campana Extrajud Emp</td>\n",
       "      <td>30703557674</td>\n",
       "      <td>30703557674</td>\n",
       "      <td>CUIT</td>\n",
       "      <td>C_SAN</td>\n",
       "      <td>2021-04-30 12:09:33.347</td>\n",
       "    </tr>\n",
       "    <tr>\n",
       "      <th>4</th>\n",
       "      <td>CUIT30707047085</td>\n",
       "      <td>,PATER SHOW SRL</td>\n",
       "      <td>BSR_TARDIA</td>\n",
       "      <td>NO UBICADO</td>\n",
       "      <td>Campana Extrajud Emp</td>\n",
       "      <td>30707047085</td>\n",
       "      <td>30707047085</td>\n",
       "      <td>CUIT</td>\n",
       "      <td>C_SAN</td>\n",
       "      <td>2021-04-30 12:09:33.347</td>\n",
       "    </tr>\n",
       "  </tbody>\n",
       "</table>\n",
       "</div>"
      ],
      "text/plain": [
       "          IDMOROSO                                    NOMBRE  \\\n",
       "0     CI  62933702  JOSE LUIS,FERNANDEZ FERNANDEZ              \n",
       "1  CUIT30607032978  ,MARCOS FERNANDEZ SRL                      \n",
       "2  CUIT30698087648  ,ITACUA CONSTRUCCIONES SRL                 \n",
       "3  CUIT30703557674  ,IONES COMUNICACIONES SRL                  \n",
       "4  CUIT30707047085  ,PATER SHOW SRL                            \n",
       "\n",
       "              IDCLIENTE                ESTADO               FILTROA  \\\n",
       "0  BSR_TARDIA            EN GESTION_PORTAL     Campana Extrajud Emp   \n",
       "1  BSR_TARDIA            EN GESTION_PORTAL     Campana Extrajud Emp   \n",
       "2  BSR_TARDIA            NO UBICADO            Campana Extrajud Emp   \n",
       "3  BSR_TARDIA            NO UBICADO            Campana Extrajud Emp   \n",
       "4  BSR_TARDIA            NO UBICADO            Campana Extrajud Emp   \n",
       "\n",
       "                         DATOADIC    DOCUMENTO  TIPO PROVEEDOR  \\\n",
       "0                                   CI62933702  CUIT     C_SAN   \n",
       "1  30607032978                     30607032978  CUIT     C_SAN   \n",
       "2  30698087648                     30698087648  CUIT     C_SAN   \n",
       "3  30703557674                     30703557674  CUIT     C_SAN   \n",
       "4  30707047085                     30707047085  CUIT     C_SAN   \n",
       "\n",
       "                     FECHA  \n",
       "0  2021-08-03 15:19:53.833  \n",
       "1  2021-08-02 11:56:27.097  \n",
       "2  2021-04-30 12:09:33.347  \n",
       "3  2021-04-30 12:09:33.347  \n",
       "4  2021-04-30 12:09:33.347  "
      ]
     },
     "execution_count": 197,
     "metadata": {},
     "output_type": "execute_result"
    }
   ],
   "source": [
    "\"\"\"\n",
    "%%time\n",
    "c = -1\n",
    "lista1 = df[\"IDMOROSO\"].tolist()\n",
    "lista = [(i, lista1[i]) for i in range(len(lista1))]\n",
    "for i in range(len(de)):\n",
    "    lista_aux = np.where(df['IDMOROSO'] == de['IDMOROSO'][i])[0]\n",
    "    for j in lista_aux:\n",
    "        if de['FECHA'][i] > df['FECHA_INGRESO_DATO'][j]:\n",
    "            de['FECHA'][i] = df['FECHA_INGRESO_DATO'][j]\n",
    "            de['PROVEEDOR'][i] = df['PROVEEDOR_DATO'][j]\n",
    "    if i%1000==0:\n",
    "        print(i)\n",
    "de.head()\n",
    "\"\"\""
   ]
  },
  {
   "cell_type": "code",
   "execution_count": 198,
   "metadata": {},
   "outputs": [
    {
     "data": {
      "text/plain": [
       "array([197133, 199840, 199846, 199848, 219305, 236268, 255580, 256258])"
      ]
     },
     "execution_count": 198,
     "metadata": {},
     "output_type": "execute_result"
    }
   ],
   "source": [
    "np.where(df['IDMOROSO'] == de['IDMOROSO'][0])[0]"
   ]
  },
  {
   "cell_type": "code",
   "execution_count": 199,
   "metadata": {},
   "outputs": [
    {
     "data": {
      "text/html": [
       "<div>\n",
       "<style scoped>\n",
       "    .dataframe tbody tr th:only-of-type {\n",
       "        vertical-align: middle;\n",
       "    }\n",
       "\n",
       "    .dataframe tbody tr th {\n",
       "        vertical-align: top;\n",
       "    }\n",
       "\n",
       "    .dataframe thead th {\n",
       "        text-align: right;\n",
       "    }\n",
       "</style>\n",
       "<table border=\"1\" class=\"dataframe\">\n",
       "  <thead>\n",
       "    <tr style=\"text-align: right;\">\n",
       "      <th></th>\n",
       "      <th>IDMOROSO</th>\n",
       "      <th>PROVEEDOR_DATO</th>\n",
       "      <th>FECHA_INGRESO_DATO</th>\n",
       "      <th>TIPO</th>\n",
       "      <th>DATO</th>\n",
       "      <th>SCORE_DATO_100</th>\n",
       "    </tr>\n",
       "  </thead>\n",
       "  <tbody>\n",
       "    <tr>\n",
       "      <th>40354</th>\n",
       "      <td>DNI 22819915</td>\n",
       "      <td>ZERT</td>\n",
       "      <td>2021-08-27 15:28:47.440</td>\n",
       "      <td>EMAIL</td>\n",
       "      <td>WALTERYMARITA2015@GMAIL.COM</td>\n",
       "      <td>47.0</td>\n",
       "    </tr>\n",
       "    <tr>\n",
       "      <th>40355</th>\n",
       "      <td>DNI 32405656</td>\n",
       "      <td>ZERT</td>\n",
       "      <td>2021-08-27 15:28:47.440</td>\n",
       "      <td>EMAIL</td>\n",
       "      <td>MELU_DEMATTIA@HOTMAIL.COM</td>\n",
       "      <td>50.0</td>\n",
       "    </tr>\n",
       "    <tr>\n",
       "      <th>40356</th>\n",
       "      <td>DNI 32405656</td>\n",
       "      <td>ZERT</td>\n",
       "      <td>2021-08-27 15:28:47.440</td>\n",
       "      <td>EMAIL</td>\n",
       "      <td>MELIDEMATTIA@GMAIL.COM</td>\n",
       "      <td>35.0</td>\n",
       "    </tr>\n",
       "    <tr>\n",
       "      <th>40357</th>\n",
       "      <td>DNI 35208287</td>\n",
       "      <td>ZERT</td>\n",
       "      <td>2021-08-27 15:28:47.440</td>\n",
       "      <td>EMAIL</td>\n",
       "      <td>MAR_BRI2011@HOTMAIL.COM</td>\n",
       "      <td>47.0</td>\n",
       "    </tr>\n",
       "    <tr>\n",
       "      <th>40358</th>\n",
       "      <td>DNI 12861097</td>\n",
       "      <td>ZERT</td>\n",
       "      <td>2021-08-27 15:28:47.440</td>\n",
       "      <td>EMAIL</td>\n",
       "      <td>AINDALEN@HOTMAIL.COM</td>\n",
       "      <td>47.0</td>\n",
       "    </tr>\n",
       "  </tbody>\n",
       "</table>\n",
       "</div>"
      ],
      "text/plain": [
       "           IDMOROSO PROVEEDOR_DATO       FECHA_INGRESO_DATO   TIPO  \\\n",
       "40354  DNI 22819915           ZERT  2021-08-27 15:28:47.440  EMAIL   \n",
       "40355  DNI 32405656           ZERT  2021-08-27 15:28:47.440  EMAIL   \n",
       "40356  DNI 32405656           ZERT  2021-08-27 15:28:47.440  EMAIL   \n",
       "40357  DNI 35208287           ZERT  2021-08-27 15:28:47.440  EMAIL   \n",
       "40358  DNI 12861097           ZERT  2021-08-27 15:28:47.440  EMAIL   \n",
       "\n",
       "                              DATO  SCORE_DATO_100  \n",
       "40354  WALTERYMARITA2015@GMAIL.COM            47.0  \n",
       "40355    MELU_DEMATTIA@HOTMAIL.COM            50.0  \n",
       "40356       MELIDEMATTIA@GMAIL.COM            35.0  \n",
       "40357      MAR_BRI2011@HOTMAIL.COM            47.0  \n",
       "40358         AINDALEN@HOTMAIL.COM            47.0  "
      ]
     },
     "execution_count": 199,
     "metadata": {},
     "output_type": "execute_result"
    }
   ],
   "source": [
    "df_zert = df[df[\"PROVEEDOR_DATO\"]=='ZERT']\n",
    "df_otros = df[df[\"PROVEEDOR_DATO\"]!='ZERT']\n",
    "df_zert.head()"
   ]
  },
  {
   "cell_type": "code",
   "execution_count": 200,
   "metadata": {},
   "outputs": [
    {
     "data": {
      "text/html": [
       "<div>\n",
       "<style scoped>\n",
       "    .dataframe tbody tr th:only-of-type {\n",
       "        vertical-align: middle;\n",
       "    }\n",
       "\n",
       "    .dataframe tbody tr th {\n",
       "        vertical-align: top;\n",
       "    }\n",
       "\n",
       "    .dataframe thead th {\n",
       "        text-align: right;\n",
       "    }\n",
       "</style>\n",
       "<table border=\"1\" class=\"dataframe\">\n",
       "  <thead>\n",
       "    <tr style=\"text-align: right;\">\n",
       "      <th></th>\n",
       "      <th>IDMOROSO</th>\n",
       "      <th>PROVEEDOR_DATO</th>\n",
       "      <th>FECHA_INGRESO_DATO</th>\n",
       "      <th>TIPO</th>\n",
       "      <th>DATO</th>\n",
       "      <th>SCORE_DATO_100</th>\n",
       "    </tr>\n",
       "  </thead>\n",
       "  <tbody>\n",
       "    <tr>\n",
       "      <th>0</th>\n",
       "      <td>DNI 33004351</td>\n",
       "      <td>IX</td>\n",
       "      <td>2021-01-26 17:59:09.790</td>\n",
       "      <td>TEL.CELULAR</td>\n",
       "      <td>(11) 5755-8865</td>\n",
       "      <td>50.0</td>\n",
       "    </tr>\n",
       "    <tr>\n",
       "      <th>1</th>\n",
       "      <td>DNI 33154216</td>\n",
       "      <td>IX</td>\n",
       "      <td>2021-01-26 17:59:09.790</td>\n",
       "      <td>TEL.CELULAR</td>\n",
       "      <td>(11) 5112-4922</td>\n",
       "      <td>50.0</td>\n",
       "    </tr>\n",
       "    <tr>\n",
       "      <th>2</th>\n",
       "      <td>DNI 28719579</td>\n",
       "      <td>IX</td>\n",
       "      <td>2021-01-26 17:59:09.790</td>\n",
       "      <td>TEL.CELULAR</td>\n",
       "      <td>(11) 4031-3230</td>\n",
       "      <td>50.0</td>\n",
       "    </tr>\n",
       "    <tr>\n",
       "      <th>3</th>\n",
       "      <td>DNI 31824168</td>\n",
       "      <td>IX</td>\n",
       "      <td>2021-01-26 17:59:09.790</td>\n",
       "      <td>TEL.CELULAR</td>\n",
       "      <td>(11) 4031-2279</td>\n",
       "      <td>50.0</td>\n",
       "    </tr>\n",
       "    <tr>\n",
       "      <th>4</th>\n",
       "      <td>DNI 31824168</td>\n",
       "      <td>IX</td>\n",
       "      <td>2021-01-26 17:59:09.790</td>\n",
       "      <td>TEL.CELULAR</td>\n",
       "      <td>(11) 6464-9689</td>\n",
       "      <td>50.0</td>\n",
       "    </tr>\n",
       "  </tbody>\n",
       "</table>\n",
       "</div>"
      ],
      "text/plain": [
       "       IDMOROSO PROVEEDOR_DATO       FECHA_INGRESO_DATO         TIPO  \\\n",
       "0  DNI 33004351             IX  2021-01-26 17:59:09.790  TEL.CELULAR   \n",
       "1  DNI 33154216             IX  2021-01-26 17:59:09.790  TEL.CELULAR   \n",
       "2  DNI 28719579             IX  2021-01-26 17:59:09.790  TEL.CELULAR   \n",
       "3  DNI 31824168             IX  2021-01-26 17:59:09.790  TEL.CELULAR   \n",
       "4  DNI 31824168             IX  2021-01-26 17:59:09.790  TEL.CELULAR   \n",
       "\n",
       "             DATO  SCORE_DATO_100  \n",
       "0  (11) 5755-8865            50.0  \n",
       "1  (11) 5112-4922            50.0  \n",
       "2  (11) 4031-3230            50.0  \n",
       "3  (11) 4031-2279            50.0  \n",
       "4  (11) 6464-9689            50.0  "
      ]
     },
     "execution_count": 200,
     "metadata": {},
     "output_type": "execute_result"
    }
   ],
   "source": [
    "df_otros.head()"
   ]
  },
  {
   "cell_type": "markdown",
   "metadata": {},
   "source": [
    "<font size='3'>Primero verificamos cuántos datos de certero fueron enriquecidos</font>"
   ]
  },
  {
   "cell_type": "code",
   "execution_count": 201,
   "metadata": {},
   "outputs": [
    {
     "name": "stdout",
     "output_type": "stream",
     "text": [
      "Cantidad de datos mandados: 20110\n",
      "Cantidad de datos enriquecidos: 17048\n"
     ]
    }
   ],
   "source": [
    "datos_mandados = de['IDMOROSO'].count()\n",
    "datos_enriquecidos = df_zert[\"IDMOROSO\"].drop_duplicates().count()\n",
    "print(f\"\"\"Cantidad de datos mandados: {datos_mandados}\n",
    "Cantidad de datos enriquecidos: {datos_enriquecidos}\"\"\")"
   ]
  },
  {
   "cell_type": "markdown",
   "metadata": {},
   "source": [
    "<font size='3'>Ahora veamos la cantidad de datos que no tenía enriquecimiento y fueron enriquecidos con Certero</font>"
   ]
  },
  {
   "cell_type": "code",
   "execution_count": 202,
   "metadata": {},
   "outputs": [
    {
     "name": "stdout",
     "output_type": "stream",
     "text": [
      "Cantidad sin enriquecer antes de certero: 122\n",
      "Cantidad de enriquecidos por certero: 122\n"
     ]
    }
   ],
   "source": [
    "#Hacemos una tabla de los enriquecidos\n",
    "enriquecidos = de[de['PROVEEDOR']=='ZERT']['IDCLIENTE'].count()\n",
    "sin_enriquecer = de[de['PROVEEDOR'] == \"None\"]['IDCLIENTE'].count()\n",
    "print(\"Cantidad sin enriquecer antes de certero:\",enriquecidos+sin_enriquecer)\n",
    "print(\"Cantidad de enriquecidos por certero:\",enriquecidos)"
   ]
  },
  {
   "cell_type": "markdown",
   "metadata": {},
   "source": [
    "# Análisis por moroso"
   ]
  },
  {
   "cell_type": "code",
   "execution_count": 203,
   "metadata": {},
   "outputs": [
    {
     "data": {
      "text/plain": [
       "(20110, 10)"
      ]
     },
     "execution_count": 203,
     "metadata": {},
     "output_type": "execute_result"
    }
   ],
   "source": [
    "de.shape"
   ]
  },
  {
   "cell_type": "markdown",
   "metadata": {},
   "source": [
    "# Mails"
   ]
  },
  {
   "cell_type": "code",
   "execution_count": 219,
   "metadata": {},
   "outputs": [
    {
     "data": {
      "text/plain": [
       "(44115, 6)"
      ]
     },
     "execution_count": 219,
     "metadata": {},
     "output_type": "execute_result"
    }
   ],
   "source": [
    "mails = df[df[\"TIPO\"]=='EMAIL']\n",
    "mails = mails.reset_index(drop=True)\n",
    "mails.shape"
   ]
  },
  {
   "cell_type": "code",
   "execution_count": 220,
   "metadata": {},
   "outputs": [
    {
     "data": {
      "text/html": [
       "<div>\n",
       "<style scoped>\n",
       "    .dataframe tbody tr th:only-of-type {\n",
       "        vertical-align: middle;\n",
       "    }\n",
       "\n",
       "    .dataframe tbody tr th {\n",
       "        vertical-align: top;\n",
       "    }\n",
       "\n",
       "    .dataframe thead th {\n",
       "        text-align: right;\n",
       "    }\n",
       "</style>\n",
       "<table border=\"1\" class=\"dataframe\">\n",
       "  <thead>\n",
       "    <tr style=\"text-align: right;\">\n",
       "      <th></th>\n",
       "      <th>IDMOROSO</th>\n",
       "      <th>PROVEEDOR_DATO</th>\n",
       "      <th>FECHA_INGRESO_DATO</th>\n",
       "      <th>TIPO</th>\n",
       "      <th>DATO</th>\n",
       "      <th>SCORE_DATO_100</th>\n",
       "    </tr>\n",
       "  </thead>\n",
       "  <tbody>\n",
       "    <tr>\n",
       "      <th>0</th>\n",
       "      <td>DNI 11031218</td>\n",
       "      <td>IX</td>\n",
       "      <td>2021-01-26 17:38:29.743</td>\n",
       "      <td>EMAIL</td>\n",
       "      <td>JAVIERPAULOFERNANDEZ@GMAIL.COM</td>\n",
       "      <td>50.0</td>\n",
       "    </tr>\n",
       "    <tr>\n",
       "      <th>1</th>\n",
       "      <td>DNI 11123772</td>\n",
       "      <td>IX</td>\n",
       "      <td>2021-01-26 17:38:29.743</td>\n",
       "      <td>EMAIL</td>\n",
       "      <td>PAZNADIA13@GMAIL.COM</td>\n",
       "      <td>61.0</td>\n",
       "    </tr>\n",
       "    <tr>\n",
       "      <th>2</th>\n",
       "      <td>DNI 11553556</td>\n",
       "      <td>IX</td>\n",
       "      <td>2021-01-26 17:38:29.743</td>\n",
       "      <td>EMAIL</td>\n",
       "      <td>DANIEL230255@YAHOO.COM.AR</td>\n",
       "      <td>78.0</td>\n",
       "    </tr>\n",
       "    <tr>\n",
       "      <th>3</th>\n",
       "      <td>DNI 11802297</td>\n",
       "      <td>IX</td>\n",
       "      <td>2021-01-26 17:38:29.743</td>\n",
       "      <td>EMAIL</td>\n",
       "      <td>ALICIADEEROSA@HOTMAIL.COM</td>\n",
       "      <td>36.0</td>\n",
       "    </tr>\n",
       "    <tr>\n",
       "      <th>4</th>\n",
       "      <td>DNI 14825782</td>\n",
       "      <td>IX</td>\n",
       "      <td>2021-01-26 17:38:29.743</td>\n",
       "      <td>EMAIL</td>\n",
       "      <td>FACUNDO.PAGLIARDI@HOTMAIL.COM</td>\n",
       "      <td>50.0</td>\n",
       "    </tr>\n",
       "  </tbody>\n",
       "</table>\n",
       "</div>"
      ],
      "text/plain": [
       "       IDMOROSO PROVEEDOR_DATO       FECHA_INGRESO_DATO   TIPO  \\\n",
       "0  DNI 11031218             IX  2021-01-26 17:38:29.743  EMAIL   \n",
       "1  DNI 11123772             IX  2021-01-26 17:38:29.743  EMAIL   \n",
       "2  DNI 11553556             IX  2021-01-26 17:38:29.743  EMAIL   \n",
       "3  DNI 11802297             IX  2021-01-26 17:38:29.743  EMAIL   \n",
       "4  DNI 14825782             IX  2021-01-26 17:38:29.743  EMAIL   \n",
       "\n",
       "                             DATO  SCORE_DATO_100  \n",
       "0  JAVIERPAULOFERNANDEZ@GMAIL.COM            50.0  \n",
       "1            PAZNADIA13@GMAIL.COM            61.0  \n",
       "2       DANIEL230255@YAHOO.COM.AR            78.0  \n",
       "3       ALICIADEEROSA@HOTMAIL.COM            36.0  \n",
       "4   FACUNDO.PAGLIARDI@HOTMAIL.COM            50.0  "
      ]
     },
     "execution_count": 220,
     "metadata": {},
     "output_type": "execute_result"
    }
   ],
   "source": [
    "\"\"\"mails_ordenado = mails.sort_values(\"FECHA_INGRESO_DATO\")\n",
    "mails_ordenado = mails.drop_duplicates(subset=[\"IDMOROSO\"]).reset_index(drop=True)\n",
    "mails_ordenado.head()\n",
    "\"\"\""
   ]
  },
  {
   "cell_type": "code",
   "execution_count": 221,
   "metadata": {},
   "outputs": [
    {
     "data": {
      "text/plain": [
       "(18155, 6)"
      ]
     },
     "execution_count": 221,
     "metadata": {},
     "output_type": "execute_result"
    }
   ],
   "source": [
    "mails_ordenado.shape"
   ]
  },
  {
   "cell_type": "code",
   "execution_count": 229,
   "metadata": {},
   "outputs": [
    {
     "name": "stdout",
     "output_type": "stream",
     "text": [
      "0 %\n",
      "5 %\n",
      "10 %\n",
      "15 %\n",
      "20 %\n",
      "25 %\n",
      "30 %\n",
      "35 %\n",
      "40 %\n",
      "45 %\n",
      "50 %\n",
      "55 %\n",
      "60 %\n",
      "65 %\n",
      "70 %\n",
      "75 %\n",
      "80 %\n",
      "85 %\n",
      "90 %\n",
      "95 %\n",
      "100 %\n"
     ]
    },
    {
     "data": {
      "text/html": [
       "<div>\n",
       "<style scoped>\n",
       "    .dataframe tbody tr th:only-of-type {\n",
       "        vertical-align: middle;\n",
       "    }\n",
       "\n",
       "    .dataframe tbody tr th {\n",
       "        vertical-align: top;\n",
       "    }\n",
       "\n",
       "    .dataframe thead th {\n",
       "        text-align: right;\n",
       "    }\n",
       "</style>\n",
       "<table border=\"1\" class=\"dataframe\">\n",
       "  <thead>\n",
       "    <tr style=\"text-align: right;\">\n",
       "      <th></th>\n",
       "      <th>IDMOROSO</th>\n",
       "      <th>NOMBRE</th>\n",
       "      <th>IDCLIENTE</th>\n",
       "      <th>ESTADO</th>\n",
       "      <th>FILTROA</th>\n",
       "      <th>DATOADIC</th>\n",
       "      <th>DOCUMENTO</th>\n",
       "      <th>TIPO</th>\n",
       "      <th>PROVEEDOR</th>\n",
       "      <th>FECHA</th>\n",
       "    </tr>\n",
       "  </thead>\n",
       "  <tbody>\n",
       "    <tr>\n",
       "      <th>0</th>\n",
       "      <td>CI  62933702</td>\n",
       "      <td>JOSE LUIS,FERNANDEZ FERNANDEZ</td>\n",
       "      <td>BSR_TARDIA</td>\n",
       "      <td>EN GESTION_PORTAL</td>\n",
       "      <td>Campana Extrajud Emp</td>\n",
       "      <td></td>\n",
       "      <td>CI62933702</td>\n",
       "      <td>CUIT</td>\n",
       "      <td>C_SAN</td>\n",
       "      <td>2021-08-03 15:19:53.833</td>\n",
       "    </tr>\n",
       "    <tr>\n",
       "      <th>1</th>\n",
       "      <td>CUIT30607032978</td>\n",
       "      <td>,MARCOS FERNANDEZ SRL</td>\n",
       "      <td>BSR_TARDIA</td>\n",
       "      <td>EN GESTION_PORTAL</td>\n",
       "      <td>Campana Extrajud Emp</td>\n",
       "      <td>30607032978</td>\n",
       "      <td>30607032978</td>\n",
       "      <td>CUIT</td>\n",
       "      <td>AD</td>\n",
       "      <td>2021-08-04 09:01:41.000</td>\n",
       "    </tr>\n",
       "    <tr>\n",
       "      <th>2</th>\n",
       "      <td>CUIT30698087648</td>\n",
       "      <td>,ITACUA CONSTRUCCIONES SRL</td>\n",
       "      <td>BSR_TARDIA</td>\n",
       "      <td>NO UBICADO</td>\n",
       "      <td>Campana Extrajud Emp</td>\n",
       "      <td>30698087648</td>\n",
       "      <td>30698087648</td>\n",
       "      <td>CUIT</td>\n",
       "      <td>C_SAN</td>\n",
       "      <td>2021-08-03 15:19:53.833</td>\n",
       "    </tr>\n",
       "    <tr>\n",
       "      <th>3</th>\n",
       "      <td>CUIT30703557674</td>\n",
       "      <td>,IONES COMUNICACIONES SRL</td>\n",
       "      <td>BSR_TARDIA</td>\n",
       "      <td>NO UBICADO</td>\n",
       "      <td>Campana Extrajud Emp</td>\n",
       "      <td>30703557674</td>\n",
       "      <td>30703557674</td>\n",
       "      <td>CUIT</td>\n",
       "      <td>AD</td>\n",
       "      <td>2021-05-05 20:04:54.373</td>\n",
       "    </tr>\n",
       "    <tr>\n",
       "      <th>4</th>\n",
       "      <td>CUIT30707047085</td>\n",
       "      <td>,PATER SHOW SRL</td>\n",
       "      <td>BSR_TARDIA</td>\n",
       "      <td>NO UBICADO</td>\n",
       "      <td>Campana Extrajud Emp</td>\n",
       "      <td>30707047085</td>\n",
       "      <td>30707047085</td>\n",
       "      <td>CUIT</td>\n",
       "      <td>C_SAN</td>\n",
       "      <td>2021-08-03 15:19:53.833</td>\n",
       "    </tr>\n",
       "  </tbody>\n",
       "</table>\n",
       "</div>"
      ],
      "text/plain": [
       "          IDMOROSO                                    NOMBRE  \\\n",
       "0     CI  62933702  JOSE LUIS,FERNANDEZ FERNANDEZ              \n",
       "1  CUIT30607032978  ,MARCOS FERNANDEZ SRL                      \n",
       "2  CUIT30698087648  ,ITACUA CONSTRUCCIONES SRL                 \n",
       "3  CUIT30703557674  ,IONES COMUNICACIONES SRL                  \n",
       "4  CUIT30707047085  ,PATER SHOW SRL                            \n",
       "\n",
       "              IDCLIENTE                ESTADO               FILTROA  \\\n",
       "0  BSR_TARDIA            EN GESTION_PORTAL     Campana Extrajud Emp   \n",
       "1  BSR_TARDIA            EN GESTION_PORTAL     Campana Extrajud Emp   \n",
       "2  BSR_TARDIA            NO UBICADO            Campana Extrajud Emp   \n",
       "3  BSR_TARDIA            NO UBICADO            Campana Extrajud Emp   \n",
       "4  BSR_TARDIA            NO UBICADO            Campana Extrajud Emp   \n",
       "\n",
       "                         DATOADIC    DOCUMENTO  TIPO PROVEEDOR  \\\n",
       "0                                   CI62933702  CUIT     C_SAN   \n",
       "1  30607032978                     30607032978  CUIT        AD   \n",
       "2  30698087648                     30698087648  CUIT     C_SAN   \n",
       "3  30703557674                     30703557674  CUIT        AD   \n",
       "4  30707047085                     30707047085  CUIT     C_SAN   \n",
       "\n",
       "                     FECHA  \n",
       "0  2021-08-03 15:19:53.833  \n",
       "1  2021-08-04 09:01:41.000  \n",
       "2  2021-08-03 15:19:53.833  \n",
       "3  2021-05-05 20:04:54.373  \n",
       "4  2021-08-03 15:19:53.833  "
      ]
     },
     "execution_count": 229,
     "metadata": {},
     "output_type": "execute_result"
    }
   ],
   "source": [
    "c = -1\n",
    "lista1 = mails[\"IDMOROSO\"].tolist()\n",
    "lista = [(i, lista1[i]) for i in range(len(lista1))]\n",
    "de['FECHA'] = '2021-09-03 00:00:00.000'\n",
    "for i in range(len(de)):\n",
    "    lista_aux = np.where(mails['IDMOROSO'] == de['IDMOROSO'][i])[0]\n",
    "    for j in lista_aux:\n",
    "        if de['FECHA'][i] > mails['FECHA_INGRESO_DATO'][j]:\n",
    "            de['FECHA'][i] = mails['FECHA_INGRESO_DATO'][j]\n",
    "            de['PROVEEDOR'][i] = mails['PROVEEDOR_DATO'][j]\n",
    "    if i%1000==0:\n",
    "        print(int(i/200),\"%\")\n",
    "de.head()"
   ]
  },
  {
   "cell_type": "code",
   "execution_count": 230,
   "metadata": {},
   "outputs": [
    {
     "data": {
      "text/plain": [
       "IDMOROSO     1796\n",
       "NOMBRE       1796\n",
       "IDCLIENTE    1796\n",
       "ESTADO       1796\n",
       "FILTROA      1778\n",
       "DATOADIC     1770\n",
       "DOCUMENTO    1796\n",
       "TIPO         1796\n",
       "PROVEEDOR    1796\n",
       "FECHA        1796\n",
       "dtype: int64"
      ]
     },
     "execution_count": 230,
     "metadata": {},
     "output_type": "execute_result"
    }
   ],
   "source": [
    "de[de[\"PROVEEDOR\"]=='ZERT'].count()"
   ]
  },
  {
   "cell_type": "code",
   "execution_count": 227,
   "metadata": {},
   "outputs": [
    {
     "data": {
      "text/plain": [
       "IDMOROSO              4956\n",
       "PROVEEDOR_DATO        4956\n",
       "FECHA_INGRESO_DATO    4956\n",
       "TIPO                  4956\n",
       "DATO                  4956\n",
       "SCORE_DATO_100        4939\n",
       "dtype: int64"
      ]
     },
     "execution_count": 227,
     "metadata": {},
     "output_type": "execute_result"
    }
   ],
   "source": [
    "mails_ordenado[mails_ordenado[\"PROVEEDOR_DATO\"]==\"ZERT\"].count()"
   ]
  },
  {
   "cell_type": "code",
   "execution_count": 207,
   "metadata": {},
   "outputs": [
    {
     "name": "stdout",
     "output_type": "stream",
     "text": [
      "Hay sin mail 2168\n"
     ]
    }
   ],
   "source": [
    "idmails = mails[\"IDMOROSO\"].drop_duplicates()\n",
    "idmorosos = de[\"IDMOROSO\"].drop_duplicates()\n",
    "idresul = idmorosos[[x not in idmails.tolist() for x in idmorosos]]\n",
    "print(\"Hay sin mail\",idresul.count())"
   ]
  },
  {
   "cell_type": "code",
   "execution_count": 208,
   "metadata": {},
   "outputs": [
    {
     "name": "stdout",
     "output_type": "stream",
     "text": [
      "Datos proveídos por certero 15560\n",
      "Morosos proveídos por certero 13122\n"
     ]
    }
   ],
   "source": [
    "mails_zert = mails[mails[\"PROVEEDOR_DATO\"]==\"ZERT\"]\n",
    "mails_otros = mails[mails[\"PROVEEDOR_DATO\"]!=\"ZERT\"]\n",
    "mails_otros = mails_otros[mails_otros[\"FECHA_INGRESO_DATO\"]<\"2021-08-26 00:00:00:000\"]\n",
    "print(\"Datos proveídos por certero\",mails_zert[\"DATO\"].drop_duplicates().count())\n",
    "print(\"Morosos proveídos por certero\",mails_zert[\"IDMOROSO\"].drop_duplicates().count())"
   ]
  },
  {
   "cell_type": "markdown",
   "metadata": {},
   "source": [
    "<font size=4>Acá se comparan los datos que ya habían luego en la base de datos\n",
    "para este caso Mails</font>"
   ]
  },
  {
   "cell_type": "code",
   "execution_count": 209,
   "metadata": {
    "scrolled": true
   },
   "outputs": [
    {
     "name": "stdout",
     "output_type": "stream",
     "text": [
      "La cantidad de datos repetidos que provee certero: 6405\n"
     ]
    }
   ],
   "source": [
    "lista_mailz = mails_zert[\"DATO\"].tolist()\n",
    "habíanm = mails_otros[[x in lista_mailz for x in mails_otros[\"DATO\"].tolist()]]\n",
    "print(\"La cantidad de datos repetidos que provee certero:\",habíanm[\"DATO\"].drop_duplicates().count())"
   ]
  },
  {
   "cell_type": "code",
   "execution_count": 210,
   "metadata": {},
   "outputs": [
    {
     "name": "stdout",
     "output_type": "stream",
     "text": [
      "Cantidad de morosos repetidos 6308\n"
     ]
    }
   ],
   "source": [
    "print(\"Cantidad de morosos repetidos\",habíanm[\"IDMOROSO\"].drop_duplicates().count())\n"
   ]
  },
  {
   "cell_type": "markdown",
   "metadata": {},
   "source": [
    "De los que ya habían hay que ver la calidad de esos datos\n",
    "\n",
    "Hay que hacer promedio de df para un mismo dato\n",
    "y de eso hacer por rangos\n",
    "\n",
    "Rango     Cantidad\n"
   ]
  },
  {
   "cell_type": "markdown",
   "metadata": {},
   "source": [
    "Se preparan un poquito los datos antes de hacer el promedio"
   ]
  },
  {
   "cell_type": "code",
   "execution_count": 211,
   "metadata": {},
   "outputs": [],
   "source": [
    "lista = habíanm[\"DATO\"].tolist()\n",
    "repetidosm = mails_otros[[x in lista for x in mails_otros[\"DATO\"].tolist()]][[\"IDMOROSO\",\"DATO\",\"SCORE_DATO_100\"]]\n",
    "repetidosm = repetidosm.dropna()"
   ]
  },
  {
   "cell_type": "code",
   "execution_count": 212,
   "metadata": {},
   "outputs": [
    {
     "data": {
      "text/plain": [
       "0        50.0\n",
       "1        61.0\n",
       "2        78.0\n",
       "4        50.0\n",
       "6        61.0\n",
       "         ... \n",
       "43878    56.0\n",
       "43883    64.0\n",
       "43885    56.0\n",
       "43890    80.0\n",
       "43920    78.0\n",
       "Name: SCORE_DATO_100, Length: 8449, dtype: float64"
      ]
     },
     "execution_count": 212,
     "metadata": {},
     "output_type": "execute_result"
    }
   ],
   "source": [
    "repetidosm[\"SCORE_DATO_100\"]"
   ]
  },
  {
   "cell_type": "markdown",
   "metadata": {},
   "source": [
    "mediapd=pd.DataFrame(media)"
   ]
  },
  {
   "cell_type": "code",
   "execution_count": 213,
   "metadata": {},
   "outputs": [
    {
     "data": {
      "text/html": [
       "<div>\n",
       "<style scoped>\n",
       "    .dataframe tbody tr th:only-of-type {\n",
       "        vertical-align: middle;\n",
       "    }\n",
       "\n",
       "    .dataframe tbody tr th {\n",
       "        vertical-align: top;\n",
       "    }\n",
       "\n",
       "    .dataframe thead th {\n",
       "        text-align: right;\n",
       "    }\n",
       "</style>\n",
       "<table border=\"1\" class=\"dataframe\">\n",
       "  <thead>\n",
       "    <tr style=\"text-align: right;\">\n",
       "      <th></th>\n",
       "      <th>DATO</th>\n",
       "    </tr>\n",
       "    <tr>\n",
       "      <th>posi</th>\n",
       "      <th></th>\n",
       "    </tr>\n",
       "  </thead>\n",
       "  <tbody>\n",
       "    <tr>\n",
       "      <th>2</th>\n",
       "      <td>36</td>\n",
       "    </tr>\n",
       "    <tr>\n",
       "      <th>3</th>\n",
       "      <td>1285</td>\n",
       "    </tr>\n",
       "    <tr>\n",
       "      <th>4</th>\n",
       "      <td>713</td>\n",
       "    </tr>\n",
       "    <tr>\n",
       "      <th>5</th>\n",
       "      <td>2511</td>\n",
       "    </tr>\n",
       "    <tr>\n",
       "      <th>6</th>\n",
       "      <td>1035</td>\n",
       "    </tr>\n",
       "    <tr>\n",
       "      <th>7</th>\n",
       "      <td>400</td>\n",
       "    </tr>\n",
       "    <tr>\n",
       "      <th>8</th>\n",
       "      <td>335</td>\n",
       "    </tr>\n",
       "    <tr>\n",
       "      <th>9</th>\n",
       "      <td>35</td>\n",
       "    </tr>\n",
       "  </tbody>\n",
       "</table>\n",
       "</div>"
      ],
      "text/plain": [
       "      DATO\n",
       "posi      \n",
       "2       36\n",
       "3     1285\n",
       "4      713\n",
       "5     2511\n",
       "6     1035\n",
       "7      400\n",
       "8      335\n",
       "9       35"
      ]
     },
     "execution_count": 213,
     "metadata": {},
     "output_type": "execute_result"
    }
   ],
   "source": [
    "media = repetidosm.groupby(['DATO'])[\"SCORE_DATO_100\"].mean()\n",
    "hola = pd.DataFrame()\n",
    "hola[\"DATO\"]=media.tolist()\n",
    "hola[\"posi\"]=10\n",
    "hola[\"posi\"]=hola[\"DATO\"].map(def_rango)\n",
    "scor = hola.groupby([\"posi\"])[\"DATO\"].count()\n",
    "pd.DataFrame(scor)"
   ]
  },
  {
   "cell_type": "markdown",
   "metadata": {},
   "source": [
    "# Teléfono"
   ]
  },
  {
   "cell_type": "code",
   "execution_count": 236,
   "metadata": {},
   "outputs": [
    {
     "data": {
      "text/plain": [
       "(88013, 7)"
      ]
     },
     "execution_count": 236,
     "metadata": {},
     "output_type": "execute_result"
    }
   ],
   "source": [
    "telefono = df[df[\"TIPO\"]=='TEL.FIJO'] #TEL.CELULAR o TEL.FIJO\n",
    "telefono = telefono.reset_index()\n",
    "telefono.shape"
   ]
  },
  {
   "cell_type": "code",
   "execution_count": 237,
   "metadata": {},
   "outputs": [
    {
     "name": "stdout",
     "output_type": "stream",
     "text": [
      "0 %\n",
      "5 %\n",
      "10 %\n",
      "15 %\n",
      "20 %\n",
      "25 %\n",
      "30 %\n",
      "35 %\n",
      "40 %\n",
      "45 %\n",
      "50 %\n",
      "55 %\n",
      "60 %\n",
      "65 %\n",
      "70 %\n",
      "75 %\n",
      "80 %\n",
      "85 %\n",
      "90 %\n",
      "95 %\n",
      "100 %\n"
     ]
    },
    {
     "data": {
      "text/html": [
       "<div>\n",
       "<style scoped>\n",
       "    .dataframe tbody tr th:only-of-type {\n",
       "        vertical-align: middle;\n",
       "    }\n",
       "\n",
       "    .dataframe tbody tr th {\n",
       "        vertical-align: top;\n",
       "    }\n",
       "\n",
       "    .dataframe thead th {\n",
       "        text-align: right;\n",
       "    }\n",
       "</style>\n",
       "<table border=\"1\" class=\"dataframe\">\n",
       "  <thead>\n",
       "    <tr style=\"text-align: right;\">\n",
       "      <th></th>\n",
       "      <th>IDMOROSO</th>\n",
       "      <th>NOMBRE</th>\n",
       "      <th>IDCLIENTE</th>\n",
       "      <th>ESTADO</th>\n",
       "      <th>FILTROA</th>\n",
       "      <th>DATOADIC</th>\n",
       "      <th>DOCUMENTO</th>\n",
       "      <th>TIPO</th>\n",
       "      <th>PROVEEDOR</th>\n",
       "      <th>FECHA</th>\n",
       "    </tr>\n",
       "  </thead>\n",
       "  <tbody>\n",
       "    <tr>\n",
       "      <th>0</th>\n",
       "      <td>CI  62933702</td>\n",
       "      <td>JOSE LUIS,FERNANDEZ FERNANDEZ</td>\n",
       "      <td>BSR_TARDIA</td>\n",
       "      <td>EN GESTION_PORTAL</td>\n",
       "      <td>Campana Extrajud Emp</td>\n",
       "      <td></td>\n",
       "      <td>CI62933702</td>\n",
       "      <td>CUIT</td>\n",
       "      <td>OP_MCARDOZO</td>\n",
       "      <td>2021-09-03 00:00:00.000</td>\n",
       "    </tr>\n",
       "    <tr>\n",
       "      <th>1</th>\n",
       "      <td>CUIT30607032978</td>\n",
       "      <td>,MARCOS FERNANDEZ SRL</td>\n",
       "      <td>BSR_TARDIA</td>\n",
       "      <td>EN GESTION_PORTAL</td>\n",
       "      <td>Campana Extrajud Emp</td>\n",
       "      <td>30607032978</td>\n",
       "      <td>30607032978</td>\n",
       "      <td>CUIT</td>\n",
       "      <td>OP_ORTELLADOG</td>\n",
       "      <td>2021-08-09 09:29:35.500</td>\n",
       "    </tr>\n",
       "    <tr>\n",
       "      <th>2</th>\n",
       "      <td>CUIT30698087648</td>\n",
       "      <td>,ITACUA CONSTRUCCIONES SRL</td>\n",
       "      <td>BSR_TARDIA</td>\n",
       "      <td>NO UBICADO</td>\n",
       "      <td>Campana Extrajud Emp</td>\n",
       "      <td>30698087648</td>\n",
       "      <td>30698087648</td>\n",
       "      <td>CUIT</td>\n",
       "      <td>C_SAN</td>\n",
       "      <td>2021-09-03 00:00:00.000</td>\n",
       "    </tr>\n",
       "    <tr>\n",
       "      <th>3</th>\n",
       "      <td>CUIT30703557674</td>\n",
       "      <td>,IONES COMUNICACIONES SRL</td>\n",
       "      <td>BSR_TARDIA</td>\n",
       "      <td>NO UBICADO</td>\n",
       "      <td>Campana Extrajud Emp</td>\n",
       "      <td>30703557674</td>\n",
       "      <td>30703557674</td>\n",
       "      <td>CUIT</td>\n",
       "      <td>AD</td>\n",
       "      <td>2021-05-05 20:08:19.803</td>\n",
       "    </tr>\n",
       "    <tr>\n",
       "      <th>4</th>\n",
       "      <td>CUIT30707047085</td>\n",
       "      <td>,PATER SHOW SRL</td>\n",
       "      <td>BSR_TARDIA</td>\n",
       "      <td>NO UBICADO</td>\n",
       "      <td>Campana Extrajud Emp</td>\n",
       "      <td>30707047085</td>\n",
       "      <td>30707047085</td>\n",
       "      <td>CUIT</td>\n",
       "      <td>C_SAN</td>\n",
       "      <td>2021-09-03 00:00:00.000</td>\n",
       "    </tr>\n",
       "  </tbody>\n",
       "</table>\n",
       "</div>"
      ],
      "text/plain": [
       "          IDMOROSO                                    NOMBRE  \\\n",
       "0     CI  62933702  JOSE LUIS,FERNANDEZ FERNANDEZ              \n",
       "1  CUIT30607032978  ,MARCOS FERNANDEZ SRL                      \n",
       "2  CUIT30698087648  ,ITACUA CONSTRUCCIONES SRL                 \n",
       "3  CUIT30703557674  ,IONES COMUNICACIONES SRL                  \n",
       "4  CUIT30707047085  ,PATER SHOW SRL                            \n",
       "\n",
       "              IDCLIENTE                ESTADO               FILTROA  \\\n",
       "0  BSR_TARDIA            EN GESTION_PORTAL     Campana Extrajud Emp   \n",
       "1  BSR_TARDIA            EN GESTION_PORTAL     Campana Extrajud Emp   \n",
       "2  BSR_TARDIA            NO UBICADO            Campana Extrajud Emp   \n",
       "3  BSR_TARDIA            NO UBICADO            Campana Extrajud Emp   \n",
       "4  BSR_TARDIA            NO UBICADO            Campana Extrajud Emp   \n",
       "\n",
       "                         DATOADIC    DOCUMENTO  TIPO      PROVEEDOR  \\\n",
       "0                                   CI62933702  CUIT    OP_MCARDOZO   \n",
       "1  30607032978                     30607032978  CUIT  OP_ORTELLADOG   \n",
       "2  30698087648                     30698087648  CUIT          C_SAN   \n",
       "3  30703557674                     30703557674  CUIT             AD   \n",
       "4  30707047085                     30707047085  CUIT          C_SAN   \n",
       "\n",
       "                     FECHA  \n",
       "0  2021-09-03 00:00:00.000  \n",
       "1  2021-08-09 09:29:35.500  \n",
       "2  2021-09-03 00:00:00.000  \n",
       "3  2021-05-05 20:08:19.803  \n",
       "4  2021-09-03 00:00:00.000  "
      ]
     },
     "execution_count": 237,
     "metadata": {},
     "output_type": "execute_result"
    }
   ],
   "source": [
    "c = -1\n",
    "de['FECHA'] = '2021-09-03 00:00:00.000'\n",
    "lista1 = telefono[\"IDMOROSO\"].tolist()\n",
    "lista = [(i, lista1[i]) for i in range(len(lista1))]\n",
    "for i in range(len(de)):\n",
    "    lista_aux = np.where(telefono['IDMOROSO'] == de['IDMOROSO'][i])[0]\n",
    "    for j in lista_aux:\n",
    "        if de['FECHA'][i] > telefono['FECHA_INGRESO_DATO'][j]:\n",
    "            de['FECHA'][i] = telefono['FECHA_INGRESO_DATO'][j]\n",
    "            de['PROVEEDOR'][i] = telefono['PROVEEDOR_DATO'][j]\n",
    "    if i%1000==0:\n",
    "        print(int(i/200),\"%\")\n",
    "de.head()"
   ]
  },
  {
   "cell_type": "code",
   "execution_count": 238,
   "metadata": {},
   "outputs": [
    {
     "data": {
      "text/plain": [
       "IDMOROSO     611\n",
       "NOMBRE       611\n",
       "IDCLIENTE    611\n",
       "ESTADO       611\n",
       "FILTROA      600\n",
       "DATOADIC     564\n",
       "DOCUMENTO    611\n",
       "TIPO         611\n",
       "PROVEEDOR    611\n",
       "FECHA        611\n",
       "dtype: int64"
      ]
     },
     "execution_count": 238,
     "metadata": {},
     "output_type": "execute_result"
    }
   ],
   "source": [
    "de[de[\"PROVEEDOR\"]=='ZERT'].count()"
   ]
  },
  {
   "cell_type": "markdown",
   "metadata": {},
   "source": [
    "### Unificación de formato"
   ]
  },
  {
   "cell_type": "code",
   "execution_count": 239,
   "metadata": {},
   "outputs": [
    {
     "name": "stderr",
     "output_type": "stream",
     "text": [
      "/home/tetotille/miniconda3/envs/mopc/lib/python3.7/site-packages/ipykernel_launcher.py:2: FutureWarning: The default value of regex will change from True to False in a future version. In addition, single character regular expressions will *not* be treated as literal strings when regex=True.\n",
      "  \n",
      "/home/tetotille/miniconda3/envs/mopc/lib/python3.7/site-packages/ipykernel_launcher.py:3: FutureWarning: The default value of regex will change from True to False in a future version. In addition, single character regular expressions will *not* be treated as literal strings when regex=True.\n",
      "  This is separate from the ipykernel package so we can avoid doing imports until\n"
     ]
    },
    {
     "data": {
      "text/html": [
       "<div>\n",
       "<style scoped>\n",
       "    .dataframe tbody tr th:only-of-type {\n",
       "        vertical-align: middle;\n",
       "    }\n",
       "\n",
       "    .dataframe tbody tr th {\n",
       "        vertical-align: top;\n",
       "    }\n",
       "\n",
       "    .dataframe thead th {\n",
       "        text-align: right;\n",
       "    }\n",
       "</style>\n",
       "<table border=\"1\" class=\"dataframe\">\n",
       "  <thead>\n",
       "    <tr style=\"text-align: right;\">\n",
       "      <th></th>\n",
       "      <th>CODIGO</th>\n",
       "      <th>PROVINCIA</th>\n",
       "    </tr>\n",
       "  </thead>\n",
       "  <tbody>\n",
       "    <tr>\n",
       "      <th>0</th>\n",
       "      <td>11</td>\n",
       "      <td>Ciudad Autónoma de Buenos Aires/\\nProvincia de...</td>\n",
       "    </tr>\n",
       "    <tr>\n",
       "      <th>1</th>\n",
       "      <td>220</td>\n",
       "      <td>Buenos Aires</td>\n",
       "    </tr>\n",
       "    <tr>\n",
       "      <th>2</th>\n",
       "      <td>221</td>\n",
       "      <td>Buenos Aires</td>\n",
       "    </tr>\n",
       "    <tr>\n",
       "      <th>3</th>\n",
       "      <td>223</td>\n",
       "      <td>Buenos Aires</td>\n",
       "    </tr>\n",
       "    <tr>\n",
       "      <th>4</th>\n",
       "      <td>230</td>\n",
       "      <td>Buenos Aires</td>\n",
       "    </tr>\n",
       "  </tbody>\n",
       "</table>\n",
       "</div>"
      ],
      "text/plain": [
       "   CODIGO                                          PROVINCIA\n",
       "0      11  Ciudad Autónoma de Buenos Aires/\\nProvincia de...\n",
       "1     220                                       Buenos Aires\n",
       "2     221                                       Buenos Aires\n",
       "3     223                                       Buenos Aires\n",
       "4     230                                       Buenos Aires"
      ]
     },
     "execution_count": 239,
     "metadata": {},
     "output_type": "execute_result"
    }
   ],
   "source": [
    "telefono[\"DATO\"] = telefono[\"DATO\"].str.replace(' ','')\n",
    "telefono[\"DATO\"] = telefono[\"DATO\"].str.replace('(','')\n",
    "telefono[\"DATO\"] = telefono[\"DATO\"].str.replace(')','')\n",
    "telefono[\"DATO\"] = telefono[\"DATO\"].str.replace('-','')\n",
    "ca = pd.read_csv(\"codigos_area.csv\")\n",
    "ca.head()"
   ]
  },
  {
   "cell_type": "code",
   "execution_count": 240,
   "metadata": {},
   "outputs": [
    {
     "name": "stdout",
     "output_type": "stream",
     "text": [
      "Hay sin telefono 3364\n"
     ]
    }
   ],
   "source": [
    "idtelefono = telefono[\"IDMOROSO\"].drop_duplicates()\n",
    "idmorosos = de[\"IDMOROSO\"].drop_duplicates()\n",
    "idresul = idmorosos[[x not in idtelefono.tolist() for x in idmorosos]]\n",
    "print(\"Hay sin telefono\",idresul.count())"
   ]
  },
  {
   "cell_type": "code",
   "execution_count": 140,
   "metadata": {},
   "outputs": [],
   "source": [
    "ca2 = ca[[len(str(x))==2 for x in ca[\"CODIGO\"].tolist()]][\"CODIGO\"].astype(str).tolist()\n",
    "ca3 = ca[[len(str(x))==3 for x in ca[\"CODIGO\"].tolist()]][\"CODIGO\"].astype(str).tolist()\n",
    "ca4 = ca[[len(str(x))==4 for x in ca[\"CODIGO\"].tolist()]][\"CODIGO\"].astype(str).tolist()\n",
    "def codificador(dato):\n",
    "    if dato[0:2] in ca2:\n",
    "        if dato[2:4]!='15': return dato\n",
    "        return dato[0:2]+dato[4:len(dato)]\n",
    "    elif dato[0:3] in ca3:\n",
    "        if dato[3:5]!='15': return dato\n",
    "        return dato[0:3]+dato[5:len(dato)]\n",
    "    elif dato[0:4] in ca4:\n",
    "        if dato[4:6]!='15': return dato\n",
    "        return dato[0:4]+dato[6:len(dato)]\n",
    "    return dato"
   ]
  },
  {
   "cell_type": "code",
   "execution_count": 173,
   "metadata": {},
   "outputs": [
    {
     "data": {
      "text/html": [
       "<div>\n",
       "<style scoped>\n",
       "    .dataframe tbody tr th:only-of-type {\n",
       "        vertical-align: middle;\n",
       "    }\n",
       "\n",
       "    .dataframe tbody tr th {\n",
       "        vertical-align: top;\n",
       "    }\n",
       "\n",
       "    .dataframe thead th {\n",
       "        text-align: right;\n",
       "    }\n",
       "</style>\n",
       "<table border=\"1\" class=\"dataframe\">\n",
       "  <thead>\n",
       "    <tr style=\"text-align: right;\">\n",
       "      <th></th>\n",
       "      <th>index</th>\n",
       "      <th>IDMOROSO</th>\n",
       "      <th>PROVEEDOR_DATO</th>\n",
       "      <th>FECHA_INGRESO_DATO</th>\n",
       "      <th>TIPO</th>\n",
       "      <th>DATO</th>\n",
       "      <th>SCORE_DATO_100</th>\n",
       "    </tr>\n",
       "  </thead>\n",
       "  <tbody>\n",
       "    <tr>\n",
       "      <th>0</th>\n",
       "      <td>177</td>\n",
       "      <td>DNI 28185807</td>\n",
       "      <td>IX</td>\n",
       "      <td>2021-01-26 17:40:54.500</td>\n",
       "      <td>TEL.FIJO</td>\n",
       "      <td>2320441109</td>\n",
       "      <td>50.0</td>\n",
       "    </tr>\n",
       "    <tr>\n",
       "      <th>1</th>\n",
       "      <td>178</td>\n",
       "      <td>DNI 12180476</td>\n",
       "      <td>IX</td>\n",
       "      <td>2021-01-26 17:40:54.500</td>\n",
       "      <td>TEL.FIJO</td>\n",
       "      <td>2011\\n1143</td>\n",
       "      <td>50.0</td>\n",
       "    </tr>\n",
       "    <tr>\n",
       "      <th>2</th>\n",
       "      <td>179</td>\n",
       "      <td>DNI 92582845</td>\n",
       "      <td>IX</td>\n",
       "      <td>2021-01-26 17:40:54.500</td>\n",
       "      <td>TEL.FIJO</td>\n",
       "      <td>2252491012</td>\n",
       "      <td>50.0</td>\n",
       "    </tr>\n",
       "    <tr>\n",
       "      <th>3</th>\n",
       "      <td>180</td>\n",
       "      <td>DNI 13776535</td>\n",
       "      <td>IX</td>\n",
       "      <td>2021-01-26 17:40:54.500</td>\n",
       "      <td>TEL.FIJO</td>\n",
       "      <td>1148647368</td>\n",
       "      <td>50.0</td>\n",
       "    </tr>\n",
       "    <tr>\n",
       "      <th>4</th>\n",
       "      <td>181</td>\n",
       "      <td>DNI 17819842</td>\n",
       "      <td>IX</td>\n",
       "      <td>2021-01-26 17:40:54.500</td>\n",
       "      <td>TEL.FIJO</td>\n",
       "      <td>1147959147</td>\n",
       "      <td>50.0</td>\n",
       "    </tr>\n",
       "  </tbody>\n",
       "</table>\n",
       "</div>"
      ],
      "text/plain": [
       "   index      IDMOROSO PROVEEDOR_DATO       FECHA_INGRESO_DATO      TIPO  \\\n",
       "0    177  DNI 28185807             IX  2021-01-26 17:40:54.500  TEL.FIJO   \n",
       "1    178  DNI 12180476             IX  2021-01-26 17:40:54.500  TEL.FIJO   \n",
       "2    179  DNI 92582845             IX  2021-01-26 17:40:54.500  TEL.FIJO   \n",
       "3    180  DNI 13776535             IX  2021-01-26 17:40:54.500  TEL.FIJO   \n",
       "4    181  DNI 17819842             IX  2021-01-26 17:40:54.500  TEL.FIJO   \n",
       "\n",
       "         DATO  SCORE_DATO_100  \n",
       "0  2320441109            50.0  \n",
       "1  2011\\n1143            50.0  \n",
       "2  2252491012            50.0  \n",
       "3  1148647368            50.0  \n",
       "4  1147959147            50.0  "
      ]
     },
     "execution_count": 173,
     "metadata": {},
     "output_type": "execute_result"
    }
   ],
   "source": [
    "telefonoZ = telefono[telefono[\"PROVEEDOR_DATO\"]=='ZERT']\n",
    "#telefonoZ[\"DATO\"] = telefonoZ[\"DATO\"].map(codificador)\n",
    "telefonoOtros = telefono[telefono[\"PROVEEDOR_DATO\"]!='ZERT']\n",
    "telefonoOtros.head()"
   ]
  },
  {
   "cell_type": "code",
   "execution_count": 174,
   "metadata": {},
   "outputs": [
    {
     "data": {
      "text/html": [
       "<div>\n",
       "<style scoped>\n",
       "    .dataframe tbody tr th:only-of-type {\n",
       "        vertical-align: middle;\n",
       "    }\n",
       "\n",
       "    .dataframe tbody tr th {\n",
       "        vertical-align: top;\n",
       "    }\n",
       "\n",
       "    .dataframe thead th {\n",
       "        text-align: right;\n",
       "    }\n",
       "</style>\n",
       "<table border=\"1\" class=\"dataframe\">\n",
       "  <thead>\n",
       "    <tr style=\"text-align: right;\">\n",
       "      <th></th>\n",
       "      <th>index</th>\n",
       "      <th>IDMOROSO</th>\n",
       "      <th>PROVEEDOR_DATO</th>\n",
       "      <th>FECHA_INGRESO_DATO</th>\n",
       "      <th>TIPO</th>\n",
       "      <th>DATO</th>\n",
       "      <th>SCORE_DATO_100</th>\n",
       "    </tr>\n",
       "  </thead>\n",
       "  <tbody>\n",
       "    <tr>\n",
       "      <th>27023</th>\n",
       "      <td>41210</td>\n",
       "      <td>DNI 27534464</td>\n",
       "      <td>ZERT</td>\n",
       "      <td>2021-08-27 15:32:20.700</td>\n",
       "      <td>TEL.FIJO</td>\n",
       "      <td>1120738903</td>\n",
       "      <td>50.0</td>\n",
       "    </tr>\n",
       "    <tr>\n",
       "      <th>27024</th>\n",
       "      <td>41220</td>\n",
       "      <td>DNI 12589794</td>\n",
       "      <td>ZERT</td>\n",
       "      <td>2021-08-27 15:32:20.700</td>\n",
       "      <td>TEL.FIJO</td>\n",
       "      <td>1142946012</td>\n",
       "      <td>47.0</td>\n",
       "    </tr>\n",
       "    <tr>\n",
       "      <th>27025</th>\n",
       "      <td>41224</td>\n",
       "      <td>DNI 22327989</td>\n",
       "      <td>ZERT</td>\n",
       "      <td>2021-08-27 15:32:20.700</td>\n",
       "      <td>TEL.FIJO</td>\n",
       "      <td>1144620523</td>\n",
       "      <td>47.0</td>\n",
       "    </tr>\n",
       "    <tr>\n",
       "      <th>27545</th>\n",
       "      <td>42042</td>\n",
       "      <td>DNI 28147632</td>\n",
       "      <td>ZERT</td>\n",
       "      <td>2021-08-27 15:32:20.700</td>\n",
       "      <td>TEL.FIJO</td>\n",
       "      <td>2914860896</td>\n",
       "      <td>52.0</td>\n",
       "    </tr>\n",
       "    <tr>\n",
       "      <th>27546</th>\n",
       "      <td>42043</td>\n",
       "      <td>DNI 11884547</td>\n",
       "      <td>ZERT</td>\n",
       "      <td>2021-08-27 15:32:20.700</td>\n",
       "      <td>TEL.FIJO</td>\n",
       "      <td>2229453818</td>\n",
       "      <td>50.0</td>\n",
       "    </tr>\n",
       "  </tbody>\n",
       "</table>\n",
       "</div>"
      ],
      "text/plain": [
       "       index      IDMOROSO PROVEEDOR_DATO       FECHA_INGRESO_DATO      TIPO  \\\n",
       "27023  41210  DNI 27534464           ZERT  2021-08-27 15:32:20.700  TEL.FIJO   \n",
       "27024  41220  DNI 12589794           ZERT  2021-08-27 15:32:20.700  TEL.FIJO   \n",
       "27025  41224  DNI 22327989           ZERT  2021-08-27 15:32:20.700  TEL.FIJO   \n",
       "27545  42042  DNI 28147632           ZERT  2021-08-27 15:32:20.700  TEL.FIJO   \n",
       "27546  42043  DNI 11884547           ZERT  2021-08-27 15:32:20.700  TEL.FIJO   \n",
       "\n",
       "             DATO  SCORE_DATO_100  \n",
       "27023  1120738903            50.0  \n",
       "27024  1142946012            47.0  \n",
       "27025  1144620523            47.0  \n",
       "27545  2914860896            52.0  \n",
       "27546  2229453818            50.0  "
      ]
     },
     "execution_count": 174,
     "metadata": {},
     "output_type": "execute_result"
    }
   ],
   "source": [
    "telefonoZ.head()"
   ]
  },
  {
   "cell_type": "code",
   "execution_count": 175,
   "metadata": {},
   "outputs": [
    {
     "name": "stdout",
     "output_type": "stream",
     "text": [
      "Cantidad de datos de certero: 6350\n",
      "Cantidad de datos por moroso de certero 5416\n"
     ]
    }
   ],
   "source": [
    "datosz = telefonoZ[\"DATO\"].drop_duplicates().count()\n",
    "print(\"Cantidad de datos de certero:\",datosz)\n",
    "datoszm = telefonoZ[\"IDMOROSO\"].drop_duplicates().count()\n",
    "print(\"Cantidad de datos por moroso de certero\",datoszm)"
   ]
  },
  {
   "cell_type": "code",
   "execution_count": 176,
   "metadata": {},
   "outputs": [
    {
     "name": "stdout",
     "output_type": "stream",
     "text": [
      "La cantidad de datos repetidos que provee certero: 2086\n",
      "Cantidad de morosos repetidos 2047\n"
     ]
    }
   ],
   "source": [
    "lista_telZ = telefonoZ[\"DATO\"].tolist()\n",
    "habían = telefonoOtros[[x in lista_telZ for x in telefonoOtros[\"DATO\"].tolist()]]\n",
    "print(\"La cantidad de datos repetidos que provee certero:\",habían[\"DATO\"].drop_duplicates().count())\n",
    "print(\"Cantidad de morosos repetidos\",habían[\"IDMOROSO\"].drop_duplicates().count())\n"
   ]
  },
  {
   "cell_type": "code",
   "execution_count": 177,
   "metadata": {},
   "outputs": [
    {
     "data": {
      "text/plain": [
       "IDMOROSO          2709\n",
       "DATO              2709\n",
       "SCORE_DATO_100    2709\n",
       "dtype: int64"
      ]
     },
     "execution_count": 177,
     "metadata": {},
     "output_type": "execute_result"
    }
   ],
   "source": [
    "lista = habían[\"DATO\"].tolist()\n",
    "repetidos = telefonoOtros[[x in lista for x in telefonoOtros[\"DATO\"].tolist()]][[\"IDMOROSO\",\"DATO\",\"SCORE_DATO_100\"]]\n",
    "repetidos = repetidos.dropna()\n",
    "repetidos.count()"
   ]
  },
  {
   "cell_type": "code",
   "execution_count": 178,
   "metadata": {},
   "outputs": [
    {
     "data": {
      "text/plain": [
       "IDMOROSO          2313\n",
       "DATO              2313\n",
       "SCORE_DATO_100    2313\n",
       "dtype: int64"
      ]
     },
     "execution_count": 178,
     "metadata": {},
     "output_type": "execute_result"
    }
   ],
   "source": [
    "repetidos.drop_duplicates().count()"
   ]
  },
  {
   "cell_type": "code",
   "execution_count": 179,
   "metadata": {},
   "outputs": [],
   "source": [
    "def def_rango(i):\n",
    "    if 0<=i<10:\n",
    "        return 0\n",
    "    elif 10<=i<20:\n",
    "        return 1\n",
    "    elif 20<=i<30:\n",
    "        return 2\n",
    "    elif 30<=i<40:\n",
    "        return 3\n",
    "    elif 40<=i<50:\n",
    "        return 4\n",
    "    elif 50<=i<60:\n",
    "        return 5\n",
    "    elif 60<=i<70:\n",
    "        return 6\n",
    "    elif 70<=i<80:\n",
    "        return 7\n",
    "    elif 80<=i<90:\n",
    "        return 8\n",
    "    elif 90<=i<=100:\n",
    "        return 9\n",
    "    return 10"
   ]
  },
  {
   "cell_type": "code",
   "execution_count": 180,
   "metadata": {},
   "outputs": [
    {
     "data": {
      "text/html": [
       "<div>\n",
       "<style scoped>\n",
       "    .dataframe tbody tr th:only-of-type {\n",
       "        vertical-align: middle;\n",
       "    }\n",
       "\n",
       "    .dataframe tbody tr th {\n",
       "        vertical-align: top;\n",
       "    }\n",
       "\n",
       "    .dataframe thead th {\n",
       "        text-align: right;\n",
       "    }\n",
       "</style>\n",
       "<table border=\"1\" class=\"dataframe\">\n",
       "  <thead>\n",
       "    <tr style=\"text-align: right;\">\n",
       "      <th></th>\n",
       "      <th>DATO</th>\n",
       "    </tr>\n",
       "    <tr>\n",
       "      <th>posi</th>\n",
       "      <th></th>\n",
       "    </tr>\n",
       "  </thead>\n",
       "  <tbody>\n",
       "    <tr>\n",
       "      <th>2</th>\n",
       "      <td>5</td>\n",
       "    </tr>\n",
       "    <tr>\n",
       "      <th>3</th>\n",
       "      <td>72</td>\n",
       "    </tr>\n",
       "    <tr>\n",
       "      <th>4</th>\n",
       "      <td>385</td>\n",
       "    </tr>\n",
       "    <tr>\n",
       "      <th>5</th>\n",
       "      <td>1576</td>\n",
       "    </tr>\n",
       "    <tr>\n",
       "      <th>6</th>\n",
       "      <td>42</td>\n",
       "    </tr>\n",
       "    <tr>\n",
       "      <th>7</th>\n",
       "      <td>6</td>\n",
       "    </tr>\n",
       "  </tbody>\n",
       "</table>\n",
       "</div>"
      ],
      "text/plain": [
       "      DATO\n",
       "posi      \n",
       "2        5\n",
       "3       72\n",
       "4      385\n",
       "5     1576\n",
       "6       42\n",
       "7        6"
      ]
     },
     "execution_count": 180,
     "metadata": {},
     "output_type": "execute_result"
    }
   ],
   "source": [
    "media = repetidos.groupby(['DATO'])[\"SCORE_DATO_100\"].mean()\n",
    "hola = pd.DataFrame()\n",
    "hola[\"DATO\"]=media.tolist()\n",
    "hola[\"posi\"]=10\n",
    "hola[\"posi\"]=hola[\"DATO\"].map(def_rango)\n",
    "scor = hola.groupby([\"posi\"])[\"DATO\"].count()\n",
    "pd.DataFrame(scor)"
   ]
  },
  {
   "cell_type": "code",
   "execution_count": 193,
   "metadata": {},
   "outputs": [
    {
     "name": "stdout",
     "output_type": "stream",
     "text": [
      "73.0\n",
      "70.0\n",
      "70.0\n",
      "71.0\n",
      "70.0\n",
      "73.0\n",
      "ä\n"
     ]
    }
   ],
   "source": [
    "[print(x) for x in media.tolist() if 70 <= x <= 80]\n",
    "print(\"ä\")"
   ]
  }
 ],
 "metadata": {
  "kernelspec": {
   "display_name": "Python 3",
   "language": "python",
   "name": "python3"
  },
  "language_info": {
   "codemirror_mode": {
    "name": "ipython",
    "version": 3
   },
   "file_extension": ".py",
   "mimetype": "text/x-python",
   "name": "python",
   "nbconvert_exporter": "python",
   "pygments_lexer": "ipython3",
   "version": "3.7.11"
  }
 },
 "nbformat": 4,
 "nbformat_minor": 4
}
