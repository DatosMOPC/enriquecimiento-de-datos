{
 "cells": [
  {
   "cell_type": "markdown",
   "metadata": {},
   "source": [
    "# 1) Datasets"
   ]
  },
  {
   "cell_type": "markdown",
   "metadata": {},
   "source": [
    "Vamos a leer el dataset que envía PyP"
   ]
  },
  {
   "cell_type": "code",
   "execution_count": 1,
   "metadata": {},
   "outputs": [],
   "source": [
    "import pandas as pd\n",
    "import numpy as np\n",
    "import re"
   ]
  },
  {
   "cell_type": "code",
   "execution_count": 2,
   "metadata": {},
   "outputs": [],
   "source": [
    "df = pd.read_csv('D:/MOPC/Enriquecimiento de Datos/Data Cleaning/Active/Datasets/Active_actual_mails_1201.csv')"
   ]
  },
  {
   "cell_type": "code",
   "execution_count": 3,
   "metadata": {},
   "outputs": [
    {
     "data": {
      "text/html": [
       "<div>\n",
       "<style scoped>\n",
       "    .dataframe tbody tr th:only-of-type {\n",
       "        vertical-align: middle;\n",
       "    }\n",
       "\n",
       "    .dataframe tbody tr th {\n",
       "        vertical-align: top;\n",
       "    }\n",
       "\n",
       "    .dataframe thead th {\n",
       "        text-align: right;\n",
       "    }\n",
       "</style>\n",
       "<table border=\"1\" class=\"dataframe\">\n",
       "  <thead>\n",
       "    <tr style=\"text-align: right;\">\n",
       "      <th></th>\n",
       "      <th>IDMOROSO</th>\n",
       "      <th>NRO_DOC</th>\n",
       "      <th>NOMBRE</th>\n",
       "      <th>DATO</th>\n",
       "      <th>TIPO</th>\n",
       "      <th>IDCLIENTE</th>\n",
       "      <th>PROVEEDOR_DATO</th>\n",
       "    </tr>\n",
       "  </thead>\n",
       "  <tbody>\n",
       "    <tr>\n",
       "      <th>0</th>\n",
       "      <td>RMS376418336611009</td>\n",
       "      <td>20126429380</td>\n",
       "      <td>OSCAR R CARLES</td>\n",
       "      <td>oscarles09@hotmail.com                        ...</td>\n",
       "      <td>MAIL</td>\n",
       "      <td>AMEX_PARM</td>\n",
       "      <td>AT</td>\n",
       "    </tr>\n",
       "    <tr>\n",
       "      <th>1</th>\n",
       "      <td>RMS376418336611009</td>\n",
       "      <td>20126429380</td>\n",
       "      <td>OSCAR R CARLES</td>\n",
       "      <td>oscarles09@hotmail.com                        ...</td>\n",
       "      <td>MAIL</td>\n",
       "      <td>AMEX_QRPM</td>\n",
       "      <td>AT</td>\n",
       "    </tr>\n",
       "    <tr>\n",
       "      <th>2</th>\n",
       "      <td>RMS376418336611009</td>\n",
       "      <td>20126429380</td>\n",
       "      <td>OSCAR R CARLES</td>\n",
       "      <td>oscarles09@hotmail.com                        ...</td>\n",
       "      <td>MAIL</td>\n",
       "      <td>AMEX_TNCM</td>\n",
       "      <td>AT</td>\n",
       "    </tr>\n",
       "    <tr>\n",
       "      <th>3</th>\n",
       "      <td>RMS376686432352005</td>\n",
       "      <td>27172327759</td>\n",
       "      <td>LIC ADRIANA M BOSCO</td>\n",
       "      <td>abosco@estudiobosco.com.ar                    ...</td>\n",
       "      <td>MAIL</td>\n",
       "      <td>AMEX_PALM</td>\n",
       "      <td>AT</td>\n",
       "    </tr>\n",
       "    <tr>\n",
       "      <th>4</th>\n",
       "      <td>RMS376686339282008</td>\n",
       "      <td>20118625367</td>\n",
       "      <td>LUIS APOGLESSI</td>\n",
       "      <td>luis_apoglessi@hotmail.com                    ...</td>\n",
       "      <td>MAIL</td>\n",
       "      <td>AMEX_PALM</td>\n",
       "      <td>AT</td>\n",
       "    </tr>\n",
       "  </tbody>\n",
       "</table>\n",
       "</div>"
      ],
      "text/plain": [
       "             IDMOROSO                         NRO_DOC  \\\n",
       "0  RMS376418336611009  20126429380                      \n",
       "1  RMS376418336611009  20126429380                      \n",
       "2  RMS376418336611009  20126429380                      \n",
       "3  RMS376686432352005  27172327759                      \n",
       "4  RMS376686339282008  20118625367                      \n",
       "\n",
       "                                     NOMBRE  \\\n",
       "0  OSCAR R CARLES                             \n",
       "1  OSCAR R CARLES                             \n",
       "2  OSCAR R CARLES                             \n",
       "3  LIC ADRIANA M BOSCO                        \n",
       "4  LUIS APOGLESSI                             \n",
       "\n",
       "                                                DATO  TIPO  \\\n",
       "0  oscarles09@hotmail.com                        ...  MAIL   \n",
       "1  oscarles09@hotmail.com                        ...  MAIL   \n",
       "2  oscarles09@hotmail.com                        ...  MAIL   \n",
       "3  abosco@estudiobosco.com.ar                    ...  MAIL   \n",
       "4  luis_apoglessi@hotmail.com                    ...  MAIL   \n",
       "\n",
       "              IDCLIENTE PROVEEDOR_DATO  \n",
       "0  AMEX_PARM                        AT  \n",
       "1  AMEX_QRPM                        AT  \n",
       "2  AMEX_TNCM                        AT  \n",
       "3  AMEX_PALM                        AT  \n",
       "4  AMEX_PALM                        AT  "
      ]
     },
     "execution_count": 3,
     "metadata": {},
     "output_type": "execute_result"
    }
   ],
   "source": [
    "df.head()"
   ]
  },
  {
   "cell_type": "code",
   "execution_count": 4,
   "metadata": {
    "scrolled": true
   },
   "outputs": [
    {
     "data": {
      "text/plain": [
       "(446717, 7)"
      ]
     },
     "execution_count": 4,
     "metadata": {},
     "output_type": "execute_result"
    }
   ],
   "source": [
    "df.shape"
   ]
  },
  {
   "cell_type": "markdown",
   "metadata": {},
   "source": [
    "## 1.2) Data Cleaning: Datasets"
   ]
  },
  {
   "cell_type": "markdown",
   "metadata": {},
   "source": [
    "Vamos a dropear aquellas columnas y filas que no tengan ningún valor (es decir, que sean todos NaNs)"
   ]
  },
  {
   "cell_type": "code",
   "execution_count": 5,
   "metadata": {},
   "outputs": [],
   "source": [
    "df = df.dropna(axis=0, how='all')"
   ]
  },
  {
   "cell_type": "code",
   "execution_count": 6,
   "metadata": {},
   "outputs": [],
   "source": [
    "df = df.dropna(axis=1, how='all')"
   ]
  },
  {
   "cell_type": "code",
   "execution_count": 7,
   "metadata": {},
   "outputs": [
    {
     "data": {
      "text/plain": [
       "(446717, 7)"
      ]
     },
     "execution_count": 7,
     "metadata": {},
     "output_type": "execute_result"
    }
   ],
   "source": [
    "df.shape"
   ]
  },
  {
   "cell_type": "markdown",
   "metadata": {},
   "source": [
    "Ahora todas las columnas tienen al menos 1 dato."
   ]
  },
  {
   "cell_type": "markdown",
   "metadata": {},
   "source": [
    "# 2) Cleaning: Mails"
   ]
  },
  {
   "cell_type": "markdown",
   "metadata": {},
   "source": [
    "Verificar teléfonos if DF TIPO is TELEFONO"
   ]
  },
  {
   "cell_type": "code",
   "execution_count": 8,
   "metadata": {},
   "outputs": [
    {
     "data": {
      "text/plain": [
       "MAIL    446717\n",
       "Name: TIPO, dtype: int64"
      ]
     },
     "execution_count": 8,
     "metadata": {},
     "output_type": "execute_result"
    }
   ],
   "source": [
    "df ['TIPO'].value_counts()"
   ]
  },
  {
   "cell_type": "code",
   "execution_count": 9,
   "metadata": {},
   "outputs": [],
   "source": [
    "df_mails = df[df['TIPO']== 'MAIL']"
   ]
  },
  {
   "cell_type": "code",
   "execution_count": 10,
   "metadata": {
    "scrolled": true
   },
   "outputs": [
    {
     "data": {
      "text/html": [
       "<div>\n",
       "<style scoped>\n",
       "    .dataframe tbody tr th:only-of-type {\n",
       "        vertical-align: middle;\n",
       "    }\n",
       "\n",
       "    .dataframe tbody tr th {\n",
       "        vertical-align: top;\n",
       "    }\n",
       "\n",
       "    .dataframe thead th {\n",
       "        text-align: right;\n",
       "    }\n",
       "</style>\n",
       "<table border=\"1\" class=\"dataframe\">\n",
       "  <thead>\n",
       "    <tr style=\"text-align: right;\">\n",
       "      <th></th>\n",
       "      <th>IDMOROSO</th>\n",
       "      <th>NRO_DOC</th>\n",
       "      <th>NOMBRE</th>\n",
       "      <th>DATO</th>\n",
       "      <th>TIPO</th>\n",
       "      <th>IDCLIENTE</th>\n",
       "      <th>PROVEEDOR_DATO</th>\n",
       "    </tr>\n",
       "  </thead>\n",
       "  <tbody>\n",
       "    <tr>\n",
       "      <th>0</th>\n",
       "      <td>RMS376418336611009</td>\n",
       "      <td>20126429380</td>\n",
       "      <td>OSCAR R CARLES</td>\n",
       "      <td>oscarles09@hotmail.com                        ...</td>\n",
       "      <td>MAIL</td>\n",
       "      <td>AMEX_PARM</td>\n",
       "      <td>AT</td>\n",
       "    </tr>\n",
       "    <tr>\n",
       "      <th>1</th>\n",
       "      <td>RMS376418336611009</td>\n",
       "      <td>20126429380</td>\n",
       "      <td>OSCAR R CARLES</td>\n",
       "      <td>oscarles09@hotmail.com                        ...</td>\n",
       "      <td>MAIL</td>\n",
       "      <td>AMEX_QRPM</td>\n",
       "      <td>AT</td>\n",
       "    </tr>\n",
       "    <tr>\n",
       "      <th>2</th>\n",
       "      <td>RMS376418336611009</td>\n",
       "      <td>20126429380</td>\n",
       "      <td>OSCAR R CARLES</td>\n",
       "      <td>oscarles09@hotmail.com                        ...</td>\n",
       "      <td>MAIL</td>\n",
       "      <td>AMEX_TNCM</td>\n",
       "      <td>AT</td>\n",
       "    </tr>\n",
       "    <tr>\n",
       "      <th>3</th>\n",
       "      <td>RMS376686432352005</td>\n",
       "      <td>27172327759</td>\n",
       "      <td>LIC ADRIANA M BOSCO</td>\n",
       "      <td>abosco@estudiobosco.com.ar                    ...</td>\n",
       "      <td>MAIL</td>\n",
       "      <td>AMEX_PALM</td>\n",
       "      <td>AT</td>\n",
       "    </tr>\n",
       "    <tr>\n",
       "      <th>4</th>\n",
       "      <td>RMS376686339282008</td>\n",
       "      <td>20118625367</td>\n",
       "      <td>LUIS APOGLESSI</td>\n",
       "      <td>luis_apoglessi@hotmail.com                    ...</td>\n",
       "      <td>MAIL</td>\n",
       "      <td>AMEX_PALM</td>\n",
       "      <td>AT</td>\n",
       "    </tr>\n",
       "  </tbody>\n",
       "</table>\n",
       "</div>"
      ],
      "text/plain": [
       "             IDMOROSO                         NRO_DOC  \\\n",
       "0  RMS376418336611009  20126429380                      \n",
       "1  RMS376418336611009  20126429380                      \n",
       "2  RMS376418336611009  20126429380                      \n",
       "3  RMS376686432352005  27172327759                      \n",
       "4  RMS376686339282008  20118625367                      \n",
       "\n",
       "                                     NOMBRE  \\\n",
       "0  OSCAR R CARLES                             \n",
       "1  OSCAR R CARLES                             \n",
       "2  OSCAR R CARLES                             \n",
       "3  LIC ADRIANA M BOSCO                        \n",
       "4  LUIS APOGLESSI                             \n",
       "\n",
       "                                                DATO  TIPO  \\\n",
       "0  oscarles09@hotmail.com                        ...  MAIL   \n",
       "1  oscarles09@hotmail.com                        ...  MAIL   \n",
       "2  oscarles09@hotmail.com                        ...  MAIL   \n",
       "3  abosco@estudiobosco.com.ar                    ...  MAIL   \n",
       "4  luis_apoglessi@hotmail.com                    ...  MAIL   \n",
       "\n",
       "              IDCLIENTE PROVEEDOR_DATO  \n",
       "0  AMEX_PARM                        AT  \n",
       "1  AMEX_QRPM                        AT  \n",
       "2  AMEX_TNCM                        AT  \n",
       "3  AMEX_PALM                        AT  \n",
       "4  AMEX_PALM                        AT  "
      ]
     },
     "execution_count": 10,
     "metadata": {},
     "output_type": "execute_result"
    }
   ],
   "source": [
    "df_mails.head()"
   ]
  },
  {
   "cell_type": "code",
   "execution_count": 11,
   "metadata": {},
   "outputs": [
    {
     "data": {
      "text/plain": [
       "(446717, 7)"
      ]
     },
     "execution_count": 11,
     "metadata": {},
     "output_type": "execute_result"
    }
   ],
   "source": [
    "df_mails.shape"
   ]
  },
  {
   "cell_type": "markdown",
   "metadata": {},
   "source": [
    "## Condiciones"
   ]
  },
  {
   "cell_type": "code",
   "execution_count": 12,
   "metadata": {},
   "outputs": [],
   "source": [
    "df_mails = df_mails[df_mails['DATO'].str.contains(\"@\")]"
   ]
  },
  {
   "cell_type": "code",
   "execution_count": 13,
   "metadata": {
    "scrolled": true
   },
   "outputs": [
    {
     "data": {
      "text/plain": [
       "(446260, 7)"
      ]
     },
     "execution_count": 13,
     "metadata": {},
     "output_type": "execute_result"
    }
   ],
   "source": [
    "df_mails.shape"
   ]
  },
  {
   "cell_type": "code",
   "execution_count": 14,
   "metadata": {
    "scrolled": true
   },
   "outputs": [
    {
     "data": {
      "text/html": [
       "<div>\n",
       "<style scoped>\n",
       "    .dataframe tbody tr th:only-of-type {\n",
       "        vertical-align: middle;\n",
       "    }\n",
       "\n",
       "    .dataframe tbody tr th {\n",
       "        vertical-align: top;\n",
       "    }\n",
       "\n",
       "    .dataframe thead th {\n",
       "        text-align: right;\n",
       "    }\n",
       "</style>\n",
       "<table border=\"1\" class=\"dataframe\">\n",
       "  <thead>\n",
       "    <tr style=\"text-align: right;\">\n",
       "      <th></th>\n",
       "      <th>IDMOROSO</th>\n",
       "      <th>NRO_DOC</th>\n",
       "      <th>NOMBRE</th>\n",
       "      <th>DATO</th>\n",
       "      <th>TIPO</th>\n",
       "      <th>IDCLIENTE</th>\n",
       "      <th>PROVEEDOR_DATO</th>\n",
       "    </tr>\n",
       "  </thead>\n",
       "  <tbody>\n",
       "    <tr>\n",
       "      <th>0</th>\n",
       "      <td>RMS376418336611009</td>\n",
       "      <td>20126429380</td>\n",
       "      <td>OSCAR R CARLES</td>\n",
       "      <td>oscarles09@hotmail.com                        ...</td>\n",
       "      <td>MAIL</td>\n",
       "      <td>AMEX_PARM</td>\n",
       "      <td>AT</td>\n",
       "    </tr>\n",
       "    <tr>\n",
       "      <th>1</th>\n",
       "      <td>RMS376418336611009</td>\n",
       "      <td>20126429380</td>\n",
       "      <td>OSCAR R CARLES</td>\n",
       "      <td>oscarles09@hotmail.com                        ...</td>\n",
       "      <td>MAIL</td>\n",
       "      <td>AMEX_QRPM</td>\n",
       "      <td>AT</td>\n",
       "    </tr>\n",
       "    <tr>\n",
       "      <th>2</th>\n",
       "      <td>RMS376418336611009</td>\n",
       "      <td>20126429380</td>\n",
       "      <td>OSCAR R CARLES</td>\n",
       "      <td>oscarles09@hotmail.com                        ...</td>\n",
       "      <td>MAIL</td>\n",
       "      <td>AMEX_TNCM</td>\n",
       "      <td>AT</td>\n",
       "    </tr>\n",
       "    <tr>\n",
       "      <th>3</th>\n",
       "      <td>RMS376686432352005</td>\n",
       "      <td>27172327759</td>\n",
       "      <td>LIC ADRIANA M BOSCO</td>\n",
       "      <td>abosco@estudiobosco.com.ar                    ...</td>\n",
       "      <td>MAIL</td>\n",
       "      <td>AMEX_PALM</td>\n",
       "      <td>AT</td>\n",
       "    </tr>\n",
       "    <tr>\n",
       "      <th>4</th>\n",
       "      <td>RMS376686339282008</td>\n",
       "      <td>20118625367</td>\n",
       "      <td>LUIS APOGLESSI</td>\n",
       "      <td>luis_apoglessi@hotmail.com                    ...</td>\n",
       "      <td>MAIL</td>\n",
       "      <td>AMEX_PALM</td>\n",
       "      <td>AT</td>\n",
       "    </tr>\n",
       "    <tr>\n",
       "      <th>5</th>\n",
       "      <td>RMS376686766461000</td>\n",
       "      <td>20280263622</td>\n",
       "      <td>HUGO RODRIGUEZ</td>\n",
       "      <td>hugo_chevi@hotmail.com                        ...</td>\n",
       "      <td>MAIL</td>\n",
       "      <td>AMEX_PALM</td>\n",
       "      <td>AT</td>\n",
       "    </tr>\n",
       "    <tr>\n",
       "      <th>6</th>\n",
       "      <td>RMS376711256072008</td>\n",
       "      <td>23 22007910 4</td>\n",
       "      <td>MARTA VIDAL</td>\n",
       "      <td>kvidalmdq@gmail.com                           ...</td>\n",
       "      <td>MAIL</td>\n",
       "      <td>AMEX_TNLM</td>\n",
       "      <td>AT</td>\n",
       "    </tr>\n",
       "    <tr>\n",
       "      <th>7</th>\n",
       "      <td>RMS376686872491008</td>\n",
       "      <td>27148442180</td>\n",
       "      <td>ELICIA FLAMENCO</td>\n",
       "      <td>rollercica@hotmail.com                        ...</td>\n",
       "      <td>MAIL</td>\n",
       "      <td>AMEX_PALM</td>\n",
       "      <td>AT</td>\n",
       "    </tr>\n",
       "    <tr>\n",
       "      <th>8</th>\n",
       "      <td>DNI 35973322</td>\n",
       "      <td>DNI 35973322</td>\n",
       "      <td>SAN PEDRO GASTON</td>\n",
       "      <td>gastonsp@hotmail.com                          ...</td>\n",
       "      <td>MAIL</td>\n",
       "      <td>HSBC_LEGALES14</td>\n",
       "      <td>AT</td>\n",
       "    </tr>\n",
       "    <tr>\n",
       "      <th>9</th>\n",
       "      <td>DNI 35973322</td>\n",
       "      <td>DNI 35973322</td>\n",
       "      <td>SAN PEDRO GASTON</td>\n",
       "      <td>gastonsp@hotmail.com                          ...</td>\n",
       "      <td>MAIL</td>\n",
       "      <td>HSBC_LEGALES2016</td>\n",
       "      <td>AT</td>\n",
       "    </tr>\n",
       "    <tr>\n",
       "      <th>10</th>\n",
       "      <td>RMS376711575121007</td>\n",
       "      <td>27211417302</td>\n",
       "      <td>ANDREA CROCHE</td>\n",
       "      <td>andreacroche@hotmail.com                      ...</td>\n",
       "      <td>MAIL</td>\n",
       "      <td>AMEX_PALM</td>\n",
       "      <td>AT</td>\n",
       "    </tr>\n",
       "    <tr>\n",
       "      <th>11</th>\n",
       "      <td>RMS376686156762009</td>\n",
       "      <td>23179646889</td>\n",
       "      <td>MARCELO ROMANGNOLI</td>\n",
       "      <td>marceroma01@hotmail.com                       ...</td>\n",
       "      <td>MAIL</td>\n",
       "      <td>AMEX_PALM</td>\n",
       "      <td>AT</td>\n",
       "    </tr>\n",
       "    <tr>\n",
       "      <th>12</th>\n",
       "      <td>RMS376687474732005</td>\n",
       "      <td>20177361993</td>\n",
       "      <td>LUIS A CORDOBA</td>\n",
       "      <td>ing.alfredo.cordoba@gmail.com                 ...</td>\n",
       "      <td>MAIL</td>\n",
       "      <td>AMEX_TNLM</td>\n",
       "      <td>AT</td>\n",
       "    </tr>\n",
       "    <tr>\n",
       "      <th>13</th>\n",
       "      <td>RMS376686887441006</td>\n",
       "      <td>23057490454</td>\n",
       "      <td>RAMONA BEATRIZ BAZAN</td>\n",
       "      <td>bea.bazan@gmail.com                           ...</td>\n",
       "      <td>MAIL</td>\n",
       "      <td>AMEX_PALM</td>\n",
       "      <td>AT</td>\n",
       "    </tr>\n",
       "    <tr>\n",
       "      <th>14</th>\n",
       "      <td>RMS376686049212006</td>\n",
       "      <td>20131373857</td>\n",
       "      <td>EDUARDO JORGE FERRO</td>\n",
       "      <td>ejferro@gmail.com                             ...</td>\n",
       "      <td>MAIL</td>\n",
       "      <td>AMEX_TNLM</td>\n",
       "      <td>AT</td>\n",
       "    </tr>\n",
       "    <tr>\n",
       "      <th>15</th>\n",
       "      <td>RMS376633477623007</td>\n",
       "      <td>20044371252</td>\n",
       "      <td>NORBERTO J M SEVERO</td>\n",
       "      <td>NORBERTO.SEVERO@GMAIL.COM                     ...</td>\n",
       "      <td>MAIL</td>\n",
       "      <td>AMEX_TNLM</td>\n",
       "      <td>AT</td>\n",
       "    </tr>\n",
       "    <tr>\n",
       "      <th>16</th>\n",
       "      <td>RMS376686104731007</td>\n",
       "      <td>20161284557</td>\n",
       "      <td>RAUL WALTER OCHOA</td>\n",
       "      <td>RAULWALTEROCHOA@YAHOO.COM.AR                  ...</td>\n",
       "      <td>MAIL</td>\n",
       "      <td>AMEX_PALM</td>\n",
       "      <td>AT</td>\n",
       "    </tr>\n",
       "    <tr>\n",
       "      <th>17</th>\n",
       "      <td>RMS376408482081008</td>\n",
       "      <td>20245386614</td>\n",
       "      <td>GABRIEL VIAMONTE</td>\n",
       "      <td>guimonte@hotmail.com                          ...</td>\n",
       "      <td>MAIL</td>\n",
       "      <td>AMEX_PBRM</td>\n",
       "      <td>AT</td>\n",
       "    </tr>\n",
       "    <tr>\n",
       "      <th>18</th>\n",
       "      <td>RMS376408482081008</td>\n",
       "      <td>20245386614</td>\n",
       "      <td>GABRIEL VIAMONTE</td>\n",
       "      <td>guimonte@hotmail.com                          ...</td>\n",
       "      <td>MAIL</td>\n",
       "      <td>AMEX_TNRM</td>\n",
       "      <td>AT</td>\n",
       "    </tr>\n",
       "    <tr>\n",
       "      <th>19</th>\n",
       "      <td>RMS376711588171007</td>\n",
       "      <td>20246464287</td>\n",
       "      <td>ROBERTO FLORES</td>\n",
       "      <td>robertoflores1975@yahoo.com.ar                ...</td>\n",
       "      <td>MAIL</td>\n",
       "      <td>AMEX_PALM</td>\n",
       "      <td>AT</td>\n",
       "    </tr>\n",
       "  </tbody>\n",
       "</table>\n",
       "</div>"
      ],
      "text/plain": [
       "              IDMOROSO                         NRO_DOC  \\\n",
       "0   RMS376418336611009  20126429380                      \n",
       "1   RMS376418336611009  20126429380                      \n",
       "2   RMS376418336611009  20126429380                      \n",
       "3   RMS376686432352005  27172327759                      \n",
       "4   RMS376686339282008  20118625367                      \n",
       "5   RMS376686766461000  20280263622                      \n",
       "6   RMS376711256072008  23 22007910 4                    \n",
       "7   RMS376686872491008  27148442180                      \n",
       "8   DNI 35973322        DNI 35973322                     \n",
       "9   DNI 35973322        DNI 35973322                     \n",
       "10  RMS376711575121007  27211417302                      \n",
       "11  RMS376686156762009  23179646889                      \n",
       "12  RMS376687474732005  20177361993                      \n",
       "13  RMS376686887441006  23057490454                      \n",
       "14  RMS376686049212006  20131373857                      \n",
       "15  RMS376633477623007  20044371252                      \n",
       "16  RMS376686104731007  20161284557                      \n",
       "17  RMS376408482081008  20245386614                      \n",
       "18  RMS376408482081008  20245386614                      \n",
       "19  RMS376711588171007  20246464287                      \n",
       "\n",
       "                                      NOMBRE  \\\n",
       "0   OSCAR R CARLES                             \n",
       "1   OSCAR R CARLES                             \n",
       "2   OSCAR R CARLES                             \n",
       "3   LIC ADRIANA M BOSCO                        \n",
       "4   LUIS APOGLESSI                             \n",
       "5   HUGO RODRIGUEZ                             \n",
       "6   MARTA VIDAL                                \n",
       "7   ELICIA FLAMENCO                            \n",
       "8   SAN PEDRO GASTON                           \n",
       "9   SAN PEDRO GASTON                           \n",
       "10  ANDREA CROCHE                              \n",
       "11  MARCELO ROMANGNOLI                         \n",
       "12  LUIS A CORDOBA                             \n",
       "13  RAMONA BEATRIZ BAZAN                       \n",
       "14  EDUARDO JORGE FERRO                        \n",
       "15  NORBERTO J M SEVERO                        \n",
       "16  RAUL WALTER OCHOA                          \n",
       "17  GABRIEL VIAMONTE                           \n",
       "18  GABRIEL VIAMONTE                           \n",
       "19  ROBERTO FLORES                             \n",
       "\n",
       "                                                 DATO  TIPO  \\\n",
       "0   oscarles09@hotmail.com                        ...  MAIL   \n",
       "1   oscarles09@hotmail.com                        ...  MAIL   \n",
       "2   oscarles09@hotmail.com                        ...  MAIL   \n",
       "3   abosco@estudiobosco.com.ar                    ...  MAIL   \n",
       "4   luis_apoglessi@hotmail.com                    ...  MAIL   \n",
       "5   hugo_chevi@hotmail.com                        ...  MAIL   \n",
       "6   kvidalmdq@gmail.com                           ...  MAIL   \n",
       "7   rollercica@hotmail.com                        ...  MAIL   \n",
       "8   gastonsp@hotmail.com                          ...  MAIL   \n",
       "9   gastonsp@hotmail.com                          ...  MAIL   \n",
       "10  andreacroche@hotmail.com                      ...  MAIL   \n",
       "11  marceroma01@hotmail.com                       ...  MAIL   \n",
       "12  ing.alfredo.cordoba@gmail.com                 ...  MAIL   \n",
       "13  bea.bazan@gmail.com                           ...  MAIL   \n",
       "14  ejferro@gmail.com                             ...  MAIL   \n",
       "15  NORBERTO.SEVERO@GMAIL.COM                     ...  MAIL   \n",
       "16  RAULWALTEROCHOA@YAHOO.COM.AR                  ...  MAIL   \n",
       "17  guimonte@hotmail.com                          ...  MAIL   \n",
       "18  guimonte@hotmail.com                          ...  MAIL   \n",
       "19  robertoflores1975@yahoo.com.ar                ...  MAIL   \n",
       "\n",
       "               IDCLIENTE PROVEEDOR_DATO  \n",
       "0   AMEX_PARM                        AT  \n",
       "1   AMEX_QRPM                        AT  \n",
       "2   AMEX_TNCM                        AT  \n",
       "3   AMEX_PALM                        AT  \n",
       "4   AMEX_PALM                        AT  \n",
       "5   AMEX_PALM                        AT  \n",
       "6   AMEX_TNLM                        AT  \n",
       "7   AMEX_PALM                        AT  \n",
       "8   HSBC_LEGALES14                   AT  \n",
       "9   HSBC_LEGALES2016                 AT  \n",
       "10  AMEX_PALM                        AT  \n",
       "11  AMEX_PALM                        AT  \n",
       "12  AMEX_TNLM                        AT  \n",
       "13  AMEX_PALM                        AT  \n",
       "14  AMEX_TNLM                        AT  \n",
       "15  AMEX_TNLM                        AT  \n",
       "16  AMEX_PALM                        AT  \n",
       "17  AMEX_PBRM                        AT  \n",
       "18  AMEX_TNRM                        AT  \n",
       "19  AMEX_PALM                        AT  "
      ]
     },
     "execution_count": 14,
     "metadata": {},
     "output_type": "execute_result"
    }
   ],
   "source": [
    "df_mails.head(20)"
   ]
  },
  {
   "cell_type": "code",
   "execution_count": 15,
   "metadata": {},
   "outputs": [],
   "source": [
    "#df_mails.to_csv('df_mails_test.csv')"
   ]
  },
  {
   "cell_type": "markdown",
   "metadata": {},
   "source": [
    "## Columna Tipo"
   ]
  },
  {
   "cell_type": "code",
   "execution_count": 16,
   "metadata": {},
   "outputs": [],
   "source": [
    "tipo_dato = 'EMAIL'"
   ]
  },
  {
   "cell_type": "code",
   "execution_count": 17,
   "metadata": {},
   "outputs": [],
   "source": [
    "df_mails = df_mails.assign(TIPO=tipo_dato)"
   ]
  },
  {
   "cell_type": "markdown",
   "metadata": {},
   "source": [
    "# 8) Columna Subtipo"
   ]
  },
  {
   "cell_type": "markdown",
   "metadata": {},
   "source": [
    "Agregamos la columna SUBTIPO, que va a contener información sobre el tipo de mail que se encuentra en el campo Dato.\n",
    "\n",
    "- Personal: @yahoo, @gmail, @hotmail, @outlook, @live.\n",
    "- Laboral: el resto."
   ]
  },
  {
   "cell_type": "markdown",
   "metadata": {},
   "source": [
    "Llevamos toda la columna DATO a Lowercase"
   ]
  },
  {
   "cell_type": "code",
   "execution_count": 18,
   "metadata": {},
   "outputs": [],
   "source": [
    "df_mails['DATO'] = df_mails['DATO'].str.lower()"
   ]
  },
  {
   "cell_type": "markdown",
   "metadata": {},
   "source": [
    "Verificamos que la string contenga esos casos:"
   ]
  },
  {
   "cell_type": "code",
   "execution_count": 19,
   "metadata": {},
   "outputs": [],
   "source": [
    "df_mails.loc[(df_mails['DATO'].str.contains('@yahoo', na=False)) | \n",
    "             (df_mails['DATO'].str.contains('@gmail', na=False)) |\n",
    "             (df_mails['DATO'].str.contains('@outlook', na=False)) |\n",
    "             (df_mails['DATO'].str.contains('@hotmail', na=False)) |\n",
    "             (df_mails['DATO'].str.contains('@live', na=False)) , 'SUBTIPO'] = 'PERSONAL'"
   ]
  },
  {
   "cell_type": "markdown",
   "metadata": {},
   "source": [
    "Para los mails laborales, evaluamos los casos contrarios:"
   ]
  },
  {
   "cell_type": "code",
   "execution_count": 20,
   "metadata": {},
   "outputs": [],
   "source": [
    "df_mails.loc[~(df_mails['DATO'].str.contains('@yahoo', na=False)) & \n",
    "             ~(df_mails['DATO'].str.contains('@gmail', na=False)) &\n",
    "             ~(df_mails['DATO'].str.contains('@outlook', na=False)) &\n",
    "             ~(df_mails['DATO'].str.contains('@hotmail', na=False)) &\n",
    "             ~(df_mails['DATO'].str.contains('@live', na=False)) , 'SUBTIPO'] = 'LABORAL'"
   ]
  },
  {
   "cell_type": "code",
   "execution_count": 21,
   "metadata": {
    "scrolled": true
   },
   "outputs": [
    {
     "data": {
      "text/html": [
       "<div>\n",
       "<style scoped>\n",
       "    .dataframe tbody tr th:only-of-type {\n",
       "        vertical-align: middle;\n",
       "    }\n",
       "\n",
       "    .dataframe tbody tr th {\n",
       "        vertical-align: top;\n",
       "    }\n",
       "\n",
       "    .dataframe thead th {\n",
       "        text-align: right;\n",
       "    }\n",
       "</style>\n",
       "<table border=\"1\" class=\"dataframe\">\n",
       "  <thead>\n",
       "    <tr style=\"text-align: right;\">\n",
       "      <th></th>\n",
       "      <th>IDMOROSO</th>\n",
       "      <th>NRO_DOC</th>\n",
       "      <th>NOMBRE</th>\n",
       "      <th>DATO</th>\n",
       "      <th>TIPO</th>\n",
       "      <th>IDCLIENTE</th>\n",
       "      <th>PROVEEDOR_DATO</th>\n",
       "      <th>SUBTIPO</th>\n",
       "    </tr>\n",
       "  </thead>\n",
       "  <tbody>\n",
       "    <tr>\n",
       "      <th>0</th>\n",
       "      <td>RMS376418336611009</td>\n",
       "      <td>20126429380</td>\n",
       "      <td>OSCAR R CARLES</td>\n",
       "      <td>oscarles09@hotmail.com                        ...</td>\n",
       "      <td>EMAIL</td>\n",
       "      <td>AMEX_PARM</td>\n",
       "      <td>AT</td>\n",
       "      <td>PERSONAL</td>\n",
       "    </tr>\n",
       "    <tr>\n",
       "      <th>1</th>\n",
       "      <td>RMS376418336611009</td>\n",
       "      <td>20126429380</td>\n",
       "      <td>OSCAR R CARLES</td>\n",
       "      <td>oscarles09@hotmail.com                        ...</td>\n",
       "      <td>EMAIL</td>\n",
       "      <td>AMEX_QRPM</td>\n",
       "      <td>AT</td>\n",
       "      <td>PERSONAL</td>\n",
       "    </tr>\n",
       "    <tr>\n",
       "      <th>2</th>\n",
       "      <td>RMS376418336611009</td>\n",
       "      <td>20126429380</td>\n",
       "      <td>OSCAR R CARLES</td>\n",
       "      <td>oscarles09@hotmail.com                        ...</td>\n",
       "      <td>EMAIL</td>\n",
       "      <td>AMEX_TNCM</td>\n",
       "      <td>AT</td>\n",
       "      <td>PERSONAL</td>\n",
       "    </tr>\n",
       "    <tr>\n",
       "      <th>3</th>\n",
       "      <td>RMS376686432352005</td>\n",
       "      <td>27172327759</td>\n",
       "      <td>LIC ADRIANA M BOSCO</td>\n",
       "      <td>abosco@estudiobosco.com.ar                    ...</td>\n",
       "      <td>EMAIL</td>\n",
       "      <td>AMEX_PALM</td>\n",
       "      <td>AT</td>\n",
       "      <td>LABORAL</td>\n",
       "    </tr>\n",
       "    <tr>\n",
       "      <th>4</th>\n",
       "      <td>RMS376686339282008</td>\n",
       "      <td>20118625367</td>\n",
       "      <td>LUIS APOGLESSI</td>\n",
       "      <td>luis_apoglessi@hotmail.com                    ...</td>\n",
       "      <td>EMAIL</td>\n",
       "      <td>AMEX_PALM</td>\n",
       "      <td>AT</td>\n",
       "      <td>PERSONAL</td>\n",
       "    </tr>\n",
       "  </tbody>\n",
       "</table>\n",
       "</div>"
      ],
      "text/plain": [
       "             IDMOROSO                         NRO_DOC  \\\n",
       "0  RMS376418336611009  20126429380                      \n",
       "1  RMS376418336611009  20126429380                      \n",
       "2  RMS376418336611009  20126429380                      \n",
       "3  RMS376686432352005  27172327759                      \n",
       "4  RMS376686339282008  20118625367                      \n",
       "\n",
       "                                     NOMBRE  \\\n",
       "0  OSCAR R CARLES                             \n",
       "1  OSCAR R CARLES                             \n",
       "2  OSCAR R CARLES                             \n",
       "3  LIC ADRIANA M BOSCO                        \n",
       "4  LUIS APOGLESSI                             \n",
       "\n",
       "                                                DATO   TIPO  \\\n",
       "0  oscarles09@hotmail.com                        ...  EMAIL   \n",
       "1  oscarles09@hotmail.com                        ...  EMAIL   \n",
       "2  oscarles09@hotmail.com                        ...  EMAIL   \n",
       "3  abosco@estudiobosco.com.ar                    ...  EMAIL   \n",
       "4  luis_apoglessi@hotmail.com                    ...  EMAIL   \n",
       "\n",
       "              IDCLIENTE PROVEEDOR_DATO   SUBTIPO  \n",
       "0  AMEX_PARM                        AT  PERSONAL  \n",
       "1  AMEX_QRPM                        AT  PERSONAL  \n",
       "2  AMEX_TNCM                        AT  PERSONAL  \n",
       "3  AMEX_PALM                        AT   LABORAL  \n",
       "4  AMEX_PALM                        AT  PERSONAL  "
      ]
     },
     "execution_count": 21,
     "metadata": {},
     "output_type": "execute_result"
    }
   ],
   "source": [
    "df_mails.head()"
   ]
  },
  {
   "cell_type": "markdown",
   "metadata": {},
   "source": [
    "# 9) Columna Score"
   ]
  },
  {
   "cell_type": "markdown",
   "metadata": {},
   "source": [
    "El campo **Score** se construye en función de los datos obtenidos:\n",
    "\n",
    "- Nivel 5: Dato que otorga la propia persona.\n",
    "- Nivel 4: Dato que otorgan los clientes (los bancos) con subtipo Personal.\n",
    "- Nivel 3: Dato que otorgan los clientes (los bancos) con subtipo Laboral.\n",
    "- Nivel 2: Dato que otorga un proveedor externo (Informes Digitales en este caso), con subtipo \"Personal\".\n",
    "- Nivel 1: Dato que otorga un proveedor externo, pero tiene como subtipo \"Laboral\"."
   ]
  },
  {
   "cell_type": "code",
   "execution_count": 22,
   "metadata": {},
   "outputs": [],
   "source": [
    "# Nivel 1: Laboral, proveedor externo.\n",
    "\n",
    "df_mails.loc[(df_mails['SUBTIPO'] == 'LABORAL') , 'SCORE_DATO'] = 3"
   ]
  },
  {
   "cell_type": "code",
   "execution_count": 23,
   "metadata": {},
   "outputs": [],
   "source": [
    "# Nivel 2: Personal, proveedor externo.\n",
    "\n",
    "df_mails.loc[(df_mails['SUBTIPO'] == 'PERSONAL') , 'SCORE_DATO'] = 4"
   ]
  },
  {
   "cell_type": "code",
   "execution_count": 24,
   "metadata": {
    "scrolled": false
   },
   "outputs": [
    {
     "data": {
      "text/html": [
       "<div>\n",
       "<style scoped>\n",
       "    .dataframe tbody tr th:only-of-type {\n",
       "        vertical-align: middle;\n",
       "    }\n",
       "\n",
       "    .dataframe tbody tr th {\n",
       "        vertical-align: top;\n",
       "    }\n",
       "\n",
       "    .dataframe thead th {\n",
       "        text-align: right;\n",
       "    }\n",
       "</style>\n",
       "<table border=\"1\" class=\"dataframe\">\n",
       "  <thead>\n",
       "    <tr style=\"text-align: right;\">\n",
       "      <th></th>\n",
       "      <th>IDMOROSO</th>\n",
       "      <th>NRO_DOC</th>\n",
       "      <th>NOMBRE</th>\n",
       "      <th>DATO</th>\n",
       "      <th>TIPO</th>\n",
       "      <th>IDCLIENTE</th>\n",
       "      <th>PROVEEDOR_DATO</th>\n",
       "      <th>SUBTIPO</th>\n",
       "      <th>SCORE_DATO</th>\n",
       "    </tr>\n",
       "  </thead>\n",
       "  <tbody>\n",
       "    <tr>\n",
       "      <th>0</th>\n",
       "      <td>RMS376418336611009</td>\n",
       "      <td>20126429380</td>\n",
       "      <td>OSCAR R CARLES</td>\n",
       "      <td>oscarles09@hotmail.com                        ...</td>\n",
       "      <td>EMAIL</td>\n",
       "      <td>AMEX_PARM</td>\n",
       "      <td>AT</td>\n",
       "      <td>PERSONAL</td>\n",
       "      <td>4.0</td>\n",
       "    </tr>\n",
       "    <tr>\n",
       "      <th>1</th>\n",
       "      <td>RMS376418336611009</td>\n",
       "      <td>20126429380</td>\n",
       "      <td>OSCAR R CARLES</td>\n",
       "      <td>oscarles09@hotmail.com                        ...</td>\n",
       "      <td>EMAIL</td>\n",
       "      <td>AMEX_QRPM</td>\n",
       "      <td>AT</td>\n",
       "      <td>PERSONAL</td>\n",
       "      <td>4.0</td>\n",
       "    </tr>\n",
       "    <tr>\n",
       "      <th>2</th>\n",
       "      <td>RMS376418336611009</td>\n",
       "      <td>20126429380</td>\n",
       "      <td>OSCAR R CARLES</td>\n",
       "      <td>oscarles09@hotmail.com                        ...</td>\n",
       "      <td>EMAIL</td>\n",
       "      <td>AMEX_TNCM</td>\n",
       "      <td>AT</td>\n",
       "      <td>PERSONAL</td>\n",
       "      <td>4.0</td>\n",
       "    </tr>\n",
       "    <tr>\n",
       "      <th>3</th>\n",
       "      <td>RMS376686432352005</td>\n",
       "      <td>27172327759</td>\n",
       "      <td>LIC ADRIANA M BOSCO</td>\n",
       "      <td>abosco@estudiobosco.com.ar                    ...</td>\n",
       "      <td>EMAIL</td>\n",
       "      <td>AMEX_PALM</td>\n",
       "      <td>AT</td>\n",
       "      <td>LABORAL</td>\n",
       "      <td>3.0</td>\n",
       "    </tr>\n",
       "    <tr>\n",
       "      <th>4</th>\n",
       "      <td>RMS376686339282008</td>\n",
       "      <td>20118625367</td>\n",
       "      <td>LUIS APOGLESSI</td>\n",
       "      <td>luis_apoglessi@hotmail.com                    ...</td>\n",
       "      <td>EMAIL</td>\n",
       "      <td>AMEX_PALM</td>\n",
       "      <td>AT</td>\n",
       "      <td>PERSONAL</td>\n",
       "      <td>4.0</td>\n",
       "    </tr>\n",
       "  </tbody>\n",
       "</table>\n",
       "</div>"
      ],
      "text/plain": [
       "             IDMOROSO                         NRO_DOC  \\\n",
       "0  RMS376418336611009  20126429380                      \n",
       "1  RMS376418336611009  20126429380                      \n",
       "2  RMS376418336611009  20126429380                      \n",
       "3  RMS376686432352005  27172327759                      \n",
       "4  RMS376686339282008  20118625367                      \n",
       "\n",
       "                                     NOMBRE  \\\n",
       "0  OSCAR R CARLES                             \n",
       "1  OSCAR R CARLES                             \n",
       "2  OSCAR R CARLES                             \n",
       "3  LIC ADRIANA M BOSCO                        \n",
       "4  LUIS APOGLESSI                             \n",
       "\n",
       "                                                DATO   TIPO  \\\n",
       "0  oscarles09@hotmail.com                        ...  EMAIL   \n",
       "1  oscarles09@hotmail.com                        ...  EMAIL   \n",
       "2  oscarles09@hotmail.com                        ...  EMAIL   \n",
       "3  abosco@estudiobosco.com.ar                    ...  EMAIL   \n",
       "4  luis_apoglessi@hotmail.com                    ...  EMAIL   \n",
       "\n",
       "              IDCLIENTE PROVEEDOR_DATO   SUBTIPO  SCORE_DATO  \n",
       "0  AMEX_PARM                        AT  PERSONAL         4.0  \n",
       "1  AMEX_QRPM                        AT  PERSONAL         4.0  \n",
       "2  AMEX_TNCM                        AT  PERSONAL         4.0  \n",
       "3  AMEX_PALM                        AT   LABORAL         3.0  \n",
       "4  AMEX_PALM                        AT  PERSONAL         4.0  "
      ]
     },
     "execution_count": 24,
     "metadata": {},
     "output_type": "execute_result"
    }
   ],
   "source": [
    "df_mails.head()"
   ]
  },
  {
   "cell_type": "markdown",
   "metadata": {},
   "source": [
    "# 10) Columna Fecha"
   ]
  },
  {
   "cell_type": "markdown",
   "metadata": {},
   "source": [
    "Para el campo FECHA_INGRESO_DATO, usamos la fecha en la que se hace la inserción de los datos:"
   ]
  },
  {
   "cell_type": "code",
   "execution_count": 25,
   "metadata": {},
   "outputs": [],
   "source": [
    "fecha_ingreso = pd.to_datetime('today')"
   ]
  },
  {
   "cell_type": "code",
   "execution_count": 26,
   "metadata": {},
   "outputs": [],
   "source": [
    "df_mails = df_mails.assign(FECHA_INGRESO_DATO=fecha_ingreso)"
   ]
  },
  {
   "cell_type": "code",
   "execution_count": 27,
   "metadata": {
    "scrolled": true
   },
   "outputs": [
    {
     "data": {
      "text/html": [
       "<div>\n",
       "<style scoped>\n",
       "    .dataframe tbody tr th:only-of-type {\n",
       "        vertical-align: middle;\n",
       "    }\n",
       "\n",
       "    .dataframe tbody tr th {\n",
       "        vertical-align: top;\n",
       "    }\n",
       "\n",
       "    .dataframe thead th {\n",
       "        text-align: right;\n",
       "    }\n",
       "</style>\n",
       "<table border=\"1\" class=\"dataframe\">\n",
       "  <thead>\n",
       "    <tr style=\"text-align: right;\">\n",
       "      <th></th>\n",
       "      <th>IDMOROSO</th>\n",
       "      <th>NRO_DOC</th>\n",
       "      <th>NOMBRE</th>\n",
       "      <th>DATO</th>\n",
       "      <th>TIPO</th>\n",
       "      <th>IDCLIENTE</th>\n",
       "      <th>PROVEEDOR_DATO</th>\n",
       "      <th>SUBTIPO</th>\n",
       "      <th>SCORE_DATO</th>\n",
       "      <th>FECHA_INGRESO_DATO</th>\n",
       "    </tr>\n",
       "  </thead>\n",
       "  <tbody>\n",
       "    <tr>\n",
       "      <th>0</th>\n",
       "      <td>RMS376418336611009</td>\n",
       "      <td>20126429380</td>\n",
       "      <td>OSCAR R CARLES</td>\n",
       "      <td>oscarles09@hotmail.com                        ...</td>\n",
       "      <td>EMAIL</td>\n",
       "      <td>AMEX_PARM</td>\n",
       "      <td>AT</td>\n",
       "      <td>PERSONAL</td>\n",
       "      <td>4.0</td>\n",
       "      <td>2021-01-15 13:51:42.812793</td>\n",
       "    </tr>\n",
       "    <tr>\n",
       "      <th>1</th>\n",
       "      <td>RMS376418336611009</td>\n",
       "      <td>20126429380</td>\n",
       "      <td>OSCAR R CARLES</td>\n",
       "      <td>oscarles09@hotmail.com                        ...</td>\n",
       "      <td>EMAIL</td>\n",
       "      <td>AMEX_QRPM</td>\n",
       "      <td>AT</td>\n",
       "      <td>PERSONAL</td>\n",
       "      <td>4.0</td>\n",
       "      <td>2021-01-15 13:51:42.812793</td>\n",
       "    </tr>\n",
       "    <tr>\n",
       "      <th>2</th>\n",
       "      <td>RMS376418336611009</td>\n",
       "      <td>20126429380</td>\n",
       "      <td>OSCAR R CARLES</td>\n",
       "      <td>oscarles09@hotmail.com                        ...</td>\n",
       "      <td>EMAIL</td>\n",
       "      <td>AMEX_TNCM</td>\n",
       "      <td>AT</td>\n",
       "      <td>PERSONAL</td>\n",
       "      <td>4.0</td>\n",
       "      <td>2021-01-15 13:51:42.812793</td>\n",
       "    </tr>\n",
       "    <tr>\n",
       "      <th>3</th>\n",
       "      <td>RMS376686432352005</td>\n",
       "      <td>27172327759</td>\n",
       "      <td>LIC ADRIANA M BOSCO</td>\n",
       "      <td>abosco@estudiobosco.com.ar                    ...</td>\n",
       "      <td>EMAIL</td>\n",
       "      <td>AMEX_PALM</td>\n",
       "      <td>AT</td>\n",
       "      <td>LABORAL</td>\n",
       "      <td>3.0</td>\n",
       "      <td>2021-01-15 13:51:42.812793</td>\n",
       "    </tr>\n",
       "    <tr>\n",
       "      <th>4</th>\n",
       "      <td>RMS376686339282008</td>\n",
       "      <td>20118625367</td>\n",
       "      <td>LUIS APOGLESSI</td>\n",
       "      <td>luis_apoglessi@hotmail.com                    ...</td>\n",
       "      <td>EMAIL</td>\n",
       "      <td>AMEX_PALM</td>\n",
       "      <td>AT</td>\n",
       "      <td>PERSONAL</td>\n",
       "      <td>4.0</td>\n",
       "      <td>2021-01-15 13:51:42.812793</td>\n",
       "    </tr>\n",
       "  </tbody>\n",
       "</table>\n",
       "</div>"
      ],
      "text/plain": [
       "             IDMOROSO                         NRO_DOC  \\\n",
       "0  RMS376418336611009  20126429380                      \n",
       "1  RMS376418336611009  20126429380                      \n",
       "2  RMS376418336611009  20126429380                      \n",
       "3  RMS376686432352005  27172327759                      \n",
       "4  RMS376686339282008  20118625367                      \n",
       "\n",
       "                                     NOMBRE  \\\n",
       "0  OSCAR R CARLES                             \n",
       "1  OSCAR R CARLES                             \n",
       "2  OSCAR R CARLES                             \n",
       "3  LIC ADRIANA M BOSCO                        \n",
       "4  LUIS APOGLESSI                             \n",
       "\n",
       "                                                DATO   TIPO  \\\n",
       "0  oscarles09@hotmail.com                        ...  EMAIL   \n",
       "1  oscarles09@hotmail.com                        ...  EMAIL   \n",
       "2  oscarles09@hotmail.com                        ...  EMAIL   \n",
       "3  abosco@estudiobosco.com.ar                    ...  EMAIL   \n",
       "4  luis_apoglessi@hotmail.com                    ...  EMAIL   \n",
       "\n",
       "              IDCLIENTE PROVEEDOR_DATO   SUBTIPO  SCORE_DATO  \\\n",
       "0  AMEX_PARM                        AT  PERSONAL         4.0   \n",
       "1  AMEX_QRPM                        AT  PERSONAL         4.0   \n",
       "2  AMEX_TNCM                        AT  PERSONAL         4.0   \n",
       "3  AMEX_PALM                        AT   LABORAL         3.0   \n",
       "4  AMEX_PALM                        AT  PERSONAL         4.0   \n",
       "\n",
       "          FECHA_INGRESO_DATO  \n",
       "0 2021-01-15 13:51:42.812793  \n",
       "1 2021-01-15 13:51:42.812793  \n",
       "2 2021-01-15 13:51:42.812793  \n",
       "3 2021-01-15 13:51:42.812793  \n",
       "4 2021-01-15 13:51:42.812793  "
      ]
     },
     "execution_count": 27,
     "metadata": {},
     "output_type": "execute_result"
    }
   ],
   "source": [
    "df_mails.head()"
   ]
  },
  {
   "cell_type": "markdown",
   "metadata": {},
   "source": [
    "# 11) Campos adicionales"
   ]
  },
  {
   "cell_type": "markdown",
   "metadata": {},
   "source": [
    "Creamos las columnas VERIFICADO, FECHA_VERIFICACION, OPERADOR_VERIFICACION, que en principio van en nulls."
   ]
  },
  {
   "cell_type": "code",
   "execution_count": 28,
   "metadata": {},
   "outputs": [],
   "source": [
    "df_mails['VERIFICADO'] = False"
   ]
  },
  {
   "cell_type": "code",
   "execution_count": 29,
   "metadata": {},
   "outputs": [],
   "source": [
    "df_mails['FECHA_VERIFICACION'] = np.nan"
   ]
  },
  {
   "cell_type": "code",
   "execution_count": 30,
   "metadata": {},
   "outputs": [],
   "source": [
    "df_mails['OPERADOR_VERIFICACION'] = np.nan"
   ]
  },
  {
   "cell_type": "code",
   "execution_count": 31,
   "metadata": {},
   "outputs": [
    {
     "data": {
      "text/html": [
       "<div>\n",
       "<style scoped>\n",
       "    .dataframe tbody tr th:only-of-type {\n",
       "        vertical-align: middle;\n",
       "    }\n",
       "\n",
       "    .dataframe tbody tr th {\n",
       "        vertical-align: top;\n",
       "    }\n",
       "\n",
       "    .dataframe thead th {\n",
       "        text-align: right;\n",
       "    }\n",
       "</style>\n",
       "<table border=\"1\" class=\"dataframe\">\n",
       "  <thead>\n",
       "    <tr style=\"text-align: right;\">\n",
       "      <th></th>\n",
       "      <th>IDMOROSO</th>\n",
       "      <th>NRO_DOC</th>\n",
       "      <th>NOMBRE</th>\n",
       "      <th>DATO</th>\n",
       "      <th>TIPO</th>\n",
       "      <th>IDCLIENTE</th>\n",
       "      <th>PROVEEDOR_DATO</th>\n",
       "      <th>SUBTIPO</th>\n",
       "      <th>SCORE_DATO</th>\n",
       "      <th>FECHA_INGRESO_DATO</th>\n",
       "      <th>VERIFICADO</th>\n",
       "      <th>FECHA_VERIFICACION</th>\n",
       "      <th>OPERADOR_VERIFICACION</th>\n",
       "    </tr>\n",
       "  </thead>\n",
       "  <tbody>\n",
       "    <tr>\n",
       "      <th>0</th>\n",
       "      <td>RMS376418336611009</td>\n",
       "      <td>20126429380</td>\n",
       "      <td>OSCAR R CARLES</td>\n",
       "      <td>oscarles09@hotmail.com                        ...</td>\n",
       "      <td>EMAIL</td>\n",
       "      <td>AMEX_PARM</td>\n",
       "      <td>AT</td>\n",
       "      <td>PERSONAL</td>\n",
       "      <td>4.0</td>\n",
       "      <td>2021-01-15 13:51:42.812793</td>\n",
       "      <td>False</td>\n",
       "      <td>NaN</td>\n",
       "      <td>NaN</td>\n",
       "    </tr>\n",
       "    <tr>\n",
       "      <th>1</th>\n",
       "      <td>RMS376418336611009</td>\n",
       "      <td>20126429380</td>\n",
       "      <td>OSCAR R CARLES</td>\n",
       "      <td>oscarles09@hotmail.com                        ...</td>\n",
       "      <td>EMAIL</td>\n",
       "      <td>AMEX_QRPM</td>\n",
       "      <td>AT</td>\n",
       "      <td>PERSONAL</td>\n",
       "      <td>4.0</td>\n",
       "      <td>2021-01-15 13:51:42.812793</td>\n",
       "      <td>False</td>\n",
       "      <td>NaN</td>\n",
       "      <td>NaN</td>\n",
       "    </tr>\n",
       "    <tr>\n",
       "      <th>2</th>\n",
       "      <td>RMS376418336611009</td>\n",
       "      <td>20126429380</td>\n",
       "      <td>OSCAR R CARLES</td>\n",
       "      <td>oscarles09@hotmail.com                        ...</td>\n",
       "      <td>EMAIL</td>\n",
       "      <td>AMEX_TNCM</td>\n",
       "      <td>AT</td>\n",
       "      <td>PERSONAL</td>\n",
       "      <td>4.0</td>\n",
       "      <td>2021-01-15 13:51:42.812793</td>\n",
       "      <td>False</td>\n",
       "      <td>NaN</td>\n",
       "      <td>NaN</td>\n",
       "    </tr>\n",
       "    <tr>\n",
       "      <th>3</th>\n",
       "      <td>RMS376686432352005</td>\n",
       "      <td>27172327759</td>\n",
       "      <td>LIC ADRIANA M BOSCO</td>\n",
       "      <td>abosco@estudiobosco.com.ar                    ...</td>\n",
       "      <td>EMAIL</td>\n",
       "      <td>AMEX_PALM</td>\n",
       "      <td>AT</td>\n",
       "      <td>LABORAL</td>\n",
       "      <td>3.0</td>\n",
       "      <td>2021-01-15 13:51:42.812793</td>\n",
       "      <td>False</td>\n",
       "      <td>NaN</td>\n",
       "      <td>NaN</td>\n",
       "    </tr>\n",
       "    <tr>\n",
       "      <th>4</th>\n",
       "      <td>RMS376686339282008</td>\n",
       "      <td>20118625367</td>\n",
       "      <td>LUIS APOGLESSI</td>\n",
       "      <td>luis_apoglessi@hotmail.com                    ...</td>\n",
       "      <td>EMAIL</td>\n",
       "      <td>AMEX_PALM</td>\n",
       "      <td>AT</td>\n",
       "      <td>PERSONAL</td>\n",
       "      <td>4.0</td>\n",
       "      <td>2021-01-15 13:51:42.812793</td>\n",
       "      <td>False</td>\n",
       "      <td>NaN</td>\n",
       "      <td>NaN</td>\n",
       "    </tr>\n",
       "  </tbody>\n",
       "</table>\n",
       "</div>"
      ],
      "text/plain": [
       "             IDMOROSO                         NRO_DOC  \\\n",
       "0  RMS376418336611009  20126429380                      \n",
       "1  RMS376418336611009  20126429380                      \n",
       "2  RMS376418336611009  20126429380                      \n",
       "3  RMS376686432352005  27172327759                      \n",
       "4  RMS376686339282008  20118625367                      \n",
       "\n",
       "                                     NOMBRE  \\\n",
       "0  OSCAR R CARLES                             \n",
       "1  OSCAR R CARLES                             \n",
       "2  OSCAR R CARLES                             \n",
       "3  LIC ADRIANA M BOSCO                        \n",
       "4  LUIS APOGLESSI                             \n",
       "\n",
       "                                                DATO   TIPO  \\\n",
       "0  oscarles09@hotmail.com                        ...  EMAIL   \n",
       "1  oscarles09@hotmail.com                        ...  EMAIL   \n",
       "2  oscarles09@hotmail.com                        ...  EMAIL   \n",
       "3  abosco@estudiobosco.com.ar                    ...  EMAIL   \n",
       "4  luis_apoglessi@hotmail.com                    ...  EMAIL   \n",
       "\n",
       "              IDCLIENTE PROVEEDOR_DATO   SUBTIPO  SCORE_DATO  \\\n",
       "0  AMEX_PARM                        AT  PERSONAL         4.0   \n",
       "1  AMEX_QRPM                        AT  PERSONAL         4.0   \n",
       "2  AMEX_TNCM                        AT  PERSONAL         4.0   \n",
       "3  AMEX_PALM                        AT   LABORAL         3.0   \n",
       "4  AMEX_PALM                        AT  PERSONAL         4.0   \n",
       "\n",
       "          FECHA_INGRESO_DATO  VERIFICADO  FECHA_VERIFICACION  \\\n",
       "0 2021-01-15 13:51:42.812793       False                 NaN   \n",
       "1 2021-01-15 13:51:42.812793       False                 NaN   \n",
       "2 2021-01-15 13:51:42.812793       False                 NaN   \n",
       "3 2021-01-15 13:51:42.812793       False                 NaN   \n",
       "4 2021-01-15 13:51:42.812793       False                 NaN   \n",
       "\n",
       "   OPERADOR_VERIFICACION  \n",
       "0                    NaN  \n",
       "1                    NaN  \n",
       "2                    NaN  \n",
       "3                    NaN  \n",
       "4                    NaN  "
      ]
     },
     "execution_count": 31,
     "metadata": {},
     "output_type": "execute_result"
    }
   ],
   "source": [
    "df_mails.head()"
   ]
  },
  {
   "cell_type": "markdown",
   "metadata": {},
   "source": [
    "# 12) Propietario del Dato"
   ]
  },
  {
   "cell_type": "code",
   "execution_count": 32,
   "metadata": {},
   "outputs": [],
   "source": [
    "df_mails = df_mails.assign(PROPIETARIO_DATO='Propio')"
   ]
  },
  {
   "cell_type": "markdown",
   "metadata": {},
   "source": [
    "Dropeamos aquellos que tengan NaN en la columna Telefono"
   ]
  },
  {
   "cell_type": "code",
   "execution_count": 33,
   "metadata": {},
   "outputs": [],
   "source": [
    "df_mails = df_mails.dropna(subset=['DATO'])"
   ]
  },
  {
   "cell_type": "code",
   "execution_count": 34,
   "metadata": {},
   "outputs": [
    {
     "data": {
      "text/plain": [
       "(446260, 14)"
      ]
     },
     "execution_count": 34,
     "metadata": {},
     "output_type": "execute_result"
    }
   ],
   "source": [
    "df_mails.shape"
   ]
  },
  {
   "cell_type": "markdown",
   "metadata": {},
   "source": [
    "## 12.2) DNI Cleaning"
   ]
  },
  {
   "cell_type": "markdown",
   "metadata": {},
   "source": [
    "Limpiamos el dataframe __df_pyp__, ya que dentro de DATO_A_ENVIAR tenemos 9 tipos de casos diferentes de datos:\n",
    "\n",
    "- DNI 12345678\n",
    "- DNI12345678\n",
    "- DNIE1234678\n",
    "- LC  1234567\n",
    "- LE  1234567\n",
    "- CUIT00123456780\n",
    "- 00123456780 --> Es un CUIT.\n",
    "- 00 12345678 0 --> Es un CUIT.\n",
    "- DNI 00123456780 --> Dice DNI pero es un CUIT de una persona __jurídica__ (TO DO)"
   ]
  },
  {
   "cell_type": "markdown",
   "metadata": {},
   "source": [
    "Para eso definimos 5 funciones:\n",
    "\n",
    "- __Tipo_DOC__: Se definen dos funciones para determinar el tipo de DNI. Una inicial, y otra para corregir sobre el dataframe resultante.\n",
    "- __Standard DNI__: Estandariza los DNI para 7 de los casos. Esta función debe ejecutarse en primer lugar.\n",
    "- __DNI Spaces__: Elimina los espacios.\n",
    "- __DNI Zero__: Elimina los ceros iniciales de ciertos CUITs para que coincidan con los DNI.\n",
    "- __Cuit__: Decisión sobre dejar un cuit o volverlo DNI"
   ]
  },
  {
   "cell_type": "code",
   "execution_count": 35,
   "metadata": {},
   "outputs": [],
   "source": [
    "def tipo_doc_1 (string_dni):\n",
    "    \n",
    "    if 'DNI' in string_dni:\n",
    "        tipo = 'DNI'\n",
    "    \n",
    "    elif 'LC' in string_dni:\n",
    "        tipo = 'LC'\n",
    "    \n",
    "    elif 'LE' in string_dni:\n",
    "        tipo = 'LE'\n",
    "    \n",
    "    elif 'DNIE' in string_dni:\n",
    "        tipo = 'DNIE'    \n",
    "    \n",
    "    elif ((string_dni.startswith(('CUIT30','CUIT33','CUIT34'))) & (len(string_dni)>8)):\n",
    "        tipo = 'CUIT'\n",
    "        \n",
    "    elif ((string_dni.startswith(('30','33','34'))) & (len(string_dni)>8)):\n",
    "        tipo = 'CUIT'\n",
    "\n",
    "    elif ((string_dni.startswith(('20','23','24','27'))) & (len(string_dni)>8)):\n",
    "        tipo = 'DNI'\n",
    "\n",
    "    elif ((string_dni.startswith(('CUIT20','CUIT23','CUIT24','CUIT27'))) & (len(string_dni)>8)):\n",
    "        tipo = 'DNI'\n",
    "        \n",
    "    else:\n",
    "        tipo = 'DNI'\n",
    "    \n",
    "    return tipo"
   ]
  },
  {
   "cell_type": "code",
   "execution_count": 36,
   "metadata": {},
   "outputs": [],
   "source": [
    "def tipo_doc_2 (string_dni, tipo_original):\n",
    "    \n",
    "    if (len(string_dni) > 8) & (tipo_original == 'DNI'):\n",
    "        tipo = 'CUIT'\n",
    "    else:\n",
    "        tipo = tipo_original\n",
    "    return tipo"
   ]
  },
  {
   "cell_type": "code",
   "execution_count": 37,
   "metadata": {},
   "outputs": [],
   "source": [
    "def standard_dni (string_dni):\n",
    "    \"\"\"DNI separation by each case.\n",
    "    \"\"\"\n",
    "    \n",
    "    if 'DNI ' in string_dni:\n",
    "        dni = string_dni.split('DNI ')[1]\n",
    "        \n",
    "    elif 'DNIE' in string_dni:\n",
    "        dni = string_dni.split('DNIE')[1]\n",
    "    \n",
    "    elif 'DNI' in string_dni:\n",
    "        dni = string_dni.split('DNI')[1]\n",
    "    \n",
    "    elif 'LC  ' in string_dni:\n",
    "        dni = string_dni.split('LC  ')[1]\n",
    "    \n",
    "    elif 'LE  ' in string_dni:\n",
    "        dni = string_dni.split('LE  ')[1]\n",
    "    \n",
    "    elif 'CUIT' in string_dni:\n",
    "        dni = string_dni.split('CUIT')[1]\n",
    "    \n",
    "    elif 'COL ' in string_dni:\n",
    "        dni = string_dni.split('COL ')[1]\n",
    "        \n",
    "    elif 'BBVA' in string_dni:\n",
    "        dni = string_dni.split('BBVA')[1]\n",
    "                \n",
    "        \n",
    "    else:\n",
    "        dni = string_dni\n",
    "        \n",
    "    return dni"
   ]
  },
  {
   "cell_type": "code",
   "execution_count": 38,
   "metadata": {},
   "outputs": [],
   "source": [
    "def dni_characters (string_dni):\n",
    "    \n",
    "    if ' ' in string_dni:\n",
    "        dni = string_dni.replace(' ','')\n",
    "        \n",
    "    elif '-' in string_dni:\n",
    "        dni = string_dni.replace('-','')\n",
    "\n",
    "    else:\n",
    "        dni = string_dni\n",
    "    \n",
    "    return dni"
   ]
  },
  {
   "cell_type": "code",
   "execution_count": 39,
   "metadata": {},
   "outputs": [],
   "source": [
    "def cuit (string_dni):\n",
    "    \n",
    "    if ((string_dni.startswith('20')) & (len(string_dni)>8)):\n",
    "        cuit = string_dni [2:-1]\n",
    "        \n",
    "    elif ((string_dni.startswith('23')) & (len(string_dni)>8)):\n",
    "        cuit = string_dni [2:-1]\n",
    "        \n",
    "    elif ((string_dni.startswith('24')) & (len(string_dni)>8)):\n",
    "        cuit = string_dni [2:-1]\n",
    "\n",
    "    elif ((string_dni.startswith('27')) & (len(string_dni)>8)):\n",
    "        cuit = string_dni [2:-1]\n",
    "\n",
    "    else:\n",
    "        cuit = string_dni\n",
    "        \n",
    "    return cuit"
   ]
  },
  {
   "cell_type": "code",
   "execution_count": 40,
   "metadata": {},
   "outputs": [],
   "source": [
    "def dni_zero (string_dni):\n",
    "    \n",
    "    if string_dni.startswith('0'):\n",
    "        dni = string_dni [1:]\n",
    "\n",
    "    else:\n",
    "        dni = string_dni\n",
    "    \n",
    "    return dni"
   ]
  },
  {
   "cell_type": "markdown",
   "metadata": {},
   "source": [
    "En primer lugar, trimmeamos los espacios que sobran:"
   ]
  },
  {
   "cell_type": "code",
   "execution_count": 41,
   "metadata": {
    "scrolled": true
   },
   "outputs": [
    {
     "data": {
      "text/plain": [
       "FRANCES_2012            163037\n",
       "AMEX_PLATINUM            55282\n",
       "BSR_TARDIA               39691\n",
       "PRISMA                   38323\n",
       "FRANCES_IVR              27096\n",
       "                         ...  \n",
       "GIGARED_VENTAS               2\n",
       "BBVA_CEPO                    2\n",
       "BACS_INSOLUTO                1\n",
       "BBVA_ANSES                   1\n",
       "PATAGONIA                    1\n",
       "Name: IDCLIENTE, Length: 97, dtype: int64"
      ]
     },
     "execution_count": 41,
     "metadata": {},
     "output_type": "execute_result"
    }
   ],
   "source": [
    "df_mails ['IDCLIENTE'].value_counts()"
   ]
  },
  {
   "cell_type": "markdown",
   "metadata": {},
   "source": [
    "**Dropeo los que no tienen IDCLIENTE**"
   ]
  },
  {
   "cell_type": "code",
   "execution_count": 42,
   "metadata": {},
   "outputs": [],
   "source": [
    "#df_mails = df_mails.dropna (subset=['IDCLIENTE'])"
   ]
  },
  {
   "cell_type": "code",
   "execution_count": 43,
   "metadata": {},
   "outputs": [],
   "source": [
    "df_mails.loc[df_mails['IDMOROSO'].str.startswith('BSOL',na=False), 'NRO_DOC'] = df_mails['IDMOROSO'].str.slice(start=4)"
   ]
  },
  {
   "cell_type": "code",
   "execution_count": 44,
   "metadata": {},
   "outputs": [],
   "source": [
    "df_mails.loc[df_mails['IDMOROSO'].str.startswith('BRAIN',na=False), 'NRO_DOC'] = df_mails['IDMOROSO'].str.slice(start=5)"
   ]
  },
  {
   "cell_type": "code",
   "execution_count": 45,
   "metadata": {},
   "outputs": [],
   "source": [
    "df_mails.loc[(df_mails['IDCLIENTE'].str.startswith('AMEX')) | \n",
    "             (df_mails['IDCLIENTE'].str.startswith ('CHUBB')), 'CUIT_CUIL'] = df_mails['NRO_DOC']"
   ]
  },
  {
   "cell_type": "code",
   "execution_count": 46,
   "metadata": {},
   "outputs": [],
   "source": [
    "df_mails['NRO_DOC'] = df_mails['NRO_DOC'].str.strip()"
   ]
  },
  {
   "cell_type": "markdown",
   "metadata": {},
   "source": [
    "Se implementan estas funciones:"
   ]
  },
  {
   "cell_type": "markdown",
   "metadata": {},
   "source": [
    "Para determinar el __TIPO DE DOCUMENTO__ en primer lugar:"
   ]
  },
  {
   "cell_type": "code",
   "execution_count": 47,
   "metadata": {},
   "outputs": [],
   "source": [
    "df_mails = df_mails.astype({'NRO_DOC': 'str'})"
   ]
  },
  {
   "cell_type": "code",
   "execution_count": 48,
   "metadata": {},
   "outputs": [],
   "source": [
    "df_mails['TIPO_DOC'] = df_mails['NRO_DOC'].apply(tipo_doc_1)"
   ]
  },
  {
   "cell_type": "markdown",
   "metadata": {},
   "source": [
    "Para la limpieza de DNIs:"
   ]
  },
  {
   "cell_type": "code",
   "execution_count": 49,
   "metadata": {},
   "outputs": [],
   "source": [
    "df_mails['NRO_DOC'] = df_mails['NRO_DOC'].apply(standard_dni)"
   ]
  },
  {
   "cell_type": "code",
   "execution_count": 50,
   "metadata": {},
   "outputs": [],
   "source": [
    "df_mails['NRO_DOC'] = df_mails['NRO_DOC'].apply(dni_characters)"
   ]
  },
  {
   "cell_type": "code",
   "execution_count": 51,
   "metadata": {},
   "outputs": [],
   "source": [
    "df_mails['NRO_DOC'] = df_mails['NRO_DOC'].apply(cuit)"
   ]
  },
  {
   "cell_type": "code",
   "execution_count": 52,
   "metadata": {},
   "outputs": [],
   "source": [
    "df_mails['NRO_DOC'] = df_mails['NRO_DOC'].apply(dni_zero)"
   ]
  },
  {
   "cell_type": "markdown",
   "metadata": {},
   "source": [
    "Para corregir el __TIPO DE DOCUMENTO__ sobre el dataframe resultante"
   ]
  },
  {
   "cell_type": "code",
   "execution_count": 53,
   "metadata": {},
   "outputs": [],
   "source": [
    "df_mails['TIPO_DOC'] = df_mails.apply(lambda x: tipo_doc_2(x['NRO_DOC'], x['TIPO_DOC']), axis=1)"
   ]
  },
  {
   "cell_type": "code",
   "execution_count": 54,
   "metadata": {
    "scrolled": true
   },
   "outputs": [
    {
     "data": {
      "text/html": [
       "<div>\n",
       "<style scoped>\n",
       "    .dataframe tbody tr th:only-of-type {\n",
       "        vertical-align: middle;\n",
       "    }\n",
       "\n",
       "    .dataframe tbody tr th {\n",
       "        vertical-align: top;\n",
       "    }\n",
       "\n",
       "    .dataframe thead th {\n",
       "        text-align: right;\n",
       "    }\n",
       "</style>\n",
       "<table border=\"1\" class=\"dataframe\">\n",
       "  <thead>\n",
       "    <tr style=\"text-align: right;\">\n",
       "      <th></th>\n",
       "      <th>IDMOROSO</th>\n",
       "      <th>NRO_DOC</th>\n",
       "      <th>NOMBRE</th>\n",
       "      <th>DATO</th>\n",
       "      <th>TIPO</th>\n",
       "      <th>IDCLIENTE</th>\n",
       "      <th>PROVEEDOR_DATO</th>\n",
       "      <th>SUBTIPO</th>\n",
       "      <th>SCORE_DATO</th>\n",
       "      <th>FECHA_INGRESO_DATO</th>\n",
       "      <th>VERIFICADO</th>\n",
       "      <th>FECHA_VERIFICACION</th>\n",
       "      <th>OPERADOR_VERIFICACION</th>\n",
       "      <th>PROPIETARIO_DATO</th>\n",
       "      <th>CUIT_CUIL</th>\n",
       "      <th>TIPO_DOC</th>\n",
       "    </tr>\n",
       "  </thead>\n",
       "  <tbody>\n",
       "    <tr>\n",
       "      <th>0</th>\n",
       "      <td>RMS376418336611009</td>\n",
       "      <td>12642938</td>\n",
       "      <td>OSCAR R CARLES</td>\n",
       "      <td>oscarles09@hotmail.com                        ...</td>\n",
       "      <td>EMAIL</td>\n",
       "      <td>AMEX_PARM</td>\n",
       "      <td>AT</td>\n",
       "      <td>PERSONAL</td>\n",
       "      <td>4.0</td>\n",
       "      <td>2021-01-15 13:51:42.812793</td>\n",
       "      <td>False</td>\n",
       "      <td>NaN</td>\n",
       "      <td>NaN</td>\n",
       "      <td>Propio</td>\n",
       "      <td>20126429380</td>\n",
       "      <td>DNI</td>\n",
       "    </tr>\n",
       "    <tr>\n",
       "      <th>1</th>\n",
       "      <td>RMS376418336611009</td>\n",
       "      <td>12642938</td>\n",
       "      <td>OSCAR R CARLES</td>\n",
       "      <td>oscarles09@hotmail.com                        ...</td>\n",
       "      <td>EMAIL</td>\n",
       "      <td>AMEX_QRPM</td>\n",
       "      <td>AT</td>\n",
       "      <td>PERSONAL</td>\n",
       "      <td>4.0</td>\n",
       "      <td>2021-01-15 13:51:42.812793</td>\n",
       "      <td>False</td>\n",
       "      <td>NaN</td>\n",
       "      <td>NaN</td>\n",
       "      <td>Propio</td>\n",
       "      <td>20126429380</td>\n",
       "      <td>DNI</td>\n",
       "    </tr>\n",
       "    <tr>\n",
       "      <th>2</th>\n",
       "      <td>RMS376418336611009</td>\n",
       "      <td>12642938</td>\n",
       "      <td>OSCAR R CARLES</td>\n",
       "      <td>oscarles09@hotmail.com                        ...</td>\n",
       "      <td>EMAIL</td>\n",
       "      <td>AMEX_TNCM</td>\n",
       "      <td>AT</td>\n",
       "      <td>PERSONAL</td>\n",
       "      <td>4.0</td>\n",
       "      <td>2021-01-15 13:51:42.812793</td>\n",
       "      <td>False</td>\n",
       "      <td>NaN</td>\n",
       "      <td>NaN</td>\n",
       "      <td>Propio</td>\n",
       "      <td>20126429380</td>\n",
       "      <td>DNI</td>\n",
       "    </tr>\n",
       "    <tr>\n",
       "      <th>3</th>\n",
       "      <td>RMS376686432352005</td>\n",
       "      <td>17232775</td>\n",
       "      <td>LIC ADRIANA M BOSCO</td>\n",
       "      <td>abosco@estudiobosco.com.ar                    ...</td>\n",
       "      <td>EMAIL</td>\n",
       "      <td>AMEX_PALM</td>\n",
       "      <td>AT</td>\n",
       "      <td>LABORAL</td>\n",
       "      <td>3.0</td>\n",
       "      <td>2021-01-15 13:51:42.812793</td>\n",
       "      <td>False</td>\n",
       "      <td>NaN</td>\n",
       "      <td>NaN</td>\n",
       "      <td>Propio</td>\n",
       "      <td>27172327759</td>\n",
       "      <td>DNI</td>\n",
       "    </tr>\n",
       "    <tr>\n",
       "      <th>4</th>\n",
       "      <td>RMS376686339282008</td>\n",
       "      <td>11862536</td>\n",
       "      <td>LUIS APOGLESSI</td>\n",
       "      <td>luis_apoglessi@hotmail.com                    ...</td>\n",
       "      <td>EMAIL</td>\n",
       "      <td>AMEX_PALM</td>\n",
       "      <td>AT</td>\n",
       "      <td>PERSONAL</td>\n",
       "      <td>4.0</td>\n",
       "      <td>2021-01-15 13:51:42.812793</td>\n",
       "      <td>False</td>\n",
       "      <td>NaN</td>\n",
       "      <td>NaN</td>\n",
       "      <td>Propio</td>\n",
       "      <td>20118625367</td>\n",
       "      <td>DNI</td>\n",
       "    </tr>\n",
       "  </tbody>\n",
       "</table>\n",
       "</div>"
      ],
      "text/plain": [
       "             IDMOROSO   NRO_DOC                                    NOMBRE  \\\n",
       "0  RMS376418336611009  12642938  OSCAR R CARLES                             \n",
       "1  RMS376418336611009  12642938  OSCAR R CARLES                             \n",
       "2  RMS376418336611009  12642938  OSCAR R CARLES                             \n",
       "3  RMS376686432352005  17232775  LIC ADRIANA M BOSCO                        \n",
       "4  RMS376686339282008  11862536  LUIS APOGLESSI                             \n",
       "\n",
       "                                                DATO   TIPO  \\\n",
       "0  oscarles09@hotmail.com                        ...  EMAIL   \n",
       "1  oscarles09@hotmail.com                        ...  EMAIL   \n",
       "2  oscarles09@hotmail.com                        ...  EMAIL   \n",
       "3  abosco@estudiobosco.com.ar                    ...  EMAIL   \n",
       "4  luis_apoglessi@hotmail.com                    ...  EMAIL   \n",
       "\n",
       "              IDCLIENTE PROVEEDOR_DATO   SUBTIPO  SCORE_DATO  \\\n",
       "0  AMEX_PARM                        AT  PERSONAL         4.0   \n",
       "1  AMEX_QRPM                        AT  PERSONAL         4.0   \n",
       "2  AMEX_TNCM                        AT  PERSONAL         4.0   \n",
       "3  AMEX_PALM                        AT   LABORAL         3.0   \n",
       "4  AMEX_PALM                        AT  PERSONAL         4.0   \n",
       "\n",
       "          FECHA_INGRESO_DATO  VERIFICADO  FECHA_VERIFICACION  \\\n",
       "0 2021-01-15 13:51:42.812793       False                 NaN   \n",
       "1 2021-01-15 13:51:42.812793       False                 NaN   \n",
       "2 2021-01-15 13:51:42.812793       False                 NaN   \n",
       "3 2021-01-15 13:51:42.812793       False                 NaN   \n",
       "4 2021-01-15 13:51:42.812793       False                 NaN   \n",
       "\n",
       "   OPERADOR_VERIFICACION PROPIETARIO_DATO                       CUIT_CUIL  \\\n",
       "0                    NaN           Propio  20126429380                      \n",
       "1                    NaN           Propio  20126429380                      \n",
       "2                    NaN           Propio  20126429380                      \n",
       "3                    NaN           Propio  27172327759                      \n",
       "4                    NaN           Propio  20118625367                      \n",
       "\n",
       "  TIPO_DOC  \n",
       "0      DNI  \n",
       "1      DNI  \n",
       "2      DNI  \n",
       "3      DNI  \n",
       "4      DNI  "
      ]
     },
     "execution_count": 54,
     "metadata": {},
     "output_type": "execute_result"
    }
   ],
   "source": [
    "df_mails.head()"
   ]
  },
  {
   "cell_type": "code",
   "execution_count": 55,
   "metadata": {},
   "outputs": [
    {
     "data": {
      "text/plain": [
       "(446260, 16)"
      ]
     },
     "execution_count": 55,
     "metadata": {},
     "output_type": "execute_result"
    }
   ],
   "source": [
    "df_mails.shape"
   ]
  },
  {
   "cell_type": "markdown",
   "metadata": {},
   "source": [
    "## Campos adicionales"
   ]
  },
  {
   "cell_type": "markdown",
   "metadata": {},
   "source": [
    "Asigno campos adicionales que no tengo"
   ]
  },
  {
   "cell_type": "code",
   "execution_count": 56,
   "metadata": {},
   "outputs": [],
   "source": [
    "#df_mails = df_mails.assign(CUIT_CUIL=np.nan)"
   ]
  },
  {
   "cell_type": "code",
   "execution_count": 57,
   "metadata": {
    "scrolled": false
   },
   "outputs": [
    {
     "data": {
      "text/html": [
       "<div>\n",
       "<style scoped>\n",
       "    .dataframe tbody tr th:only-of-type {\n",
       "        vertical-align: middle;\n",
       "    }\n",
       "\n",
       "    .dataframe tbody tr th {\n",
       "        vertical-align: top;\n",
       "    }\n",
       "\n",
       "    .dataframe thead th {\n",
       "        text-align: right;\n",
       "    }\n",
       "</style>\n",
       "<table border=\"1\" class=\"dataframe\">\n",
       "  <thead>\n",
       "    <tr style=\"text-align: right;\">\n",
       "      <th></th>\n",
       "      <th>IDMOROSO</th>\n",
       "      <th>NRO_DOC</th>\n",
       "      <th>NOMBRE</th>\n",
       "      <th>DATO</th>\n",
       "      <th>TIPO</th>\n",
       "      <th>IDCLIENTE</th>\n",
       "      <th>PROVEEDOR_DATO</th>\n",
       "      <th>SUBTIPO</th>\n",
       "      <th>SCORE_DATO</th>\n",
       "      <th>FECHA_INGRESO_DATO</th>\n",
       "      <th>VERIFICADO</th>\n",
       "      <th>FECHA_VERIFICACION</th>\n",
       "      <th>OPERADOR_VERIFICACION</th>\n",
       "      <th>PROPIETARIO_DATO</th>\n",
       "      <th>CUIT_CUIL</th>\n",
       "      <th>TIPO_DOC</th>\n",
       "    </tr>\n",
       "  </thead>\n",
       "  <tbody>\n",
       "    <tr>\n",
       "      <th>0</th>\n",
       "      <td>RMS376418336611009</td>\n",
       "      <td>12642938</td>\n",
       "      <td>OSCAR R CARLES</td>\n",
       "      <td>oscarles09@hotmail.com                        ...</td>\n",
       "      <td>EMAIL</td>\n",
       "      <td>AMEX_PARM</td>\n",
       "      <td>AT</td>\n",
       "      <td>PERSONAL</td>\n",
       "      <td>4.0</td>\n",
       "      <td>2021-01-15 13:51:42.812793</td>\n",
       "      <td>False</td>\n",
       "      <td>NaN</td>\n",
       "      <td>NaN</td>\n",
       "      <td>Propio</td>\n",
       "      <td>20126429380</td>\n",
       "      <td>DNI</td>\n",
       "    </tr>\n",
       "    <tr>\n",
       "      <th>1</th>\n",
       "      <td>RMS376418336611009</td>\n",
       "      <td>12642938</td>\n",
       "      <td>OSCAR R CARLES</td>\n",
       "      <td>oscarles09@hotmail.com                        ...</td>\n",
       "      <td>EMAIL</td>\n",
       "      <td>AMEX_QRPM</td>\n",
       "      <td>AT</td>\n",
       "      <td>PERSONAL</td>\n",
       "      <td>4.0</td>\n",
       "      <td>2021-01-15 13:51:42.812793</td>\n",
       "      <td>False</td>\n",
       "      <td>NaN</td>\n",
       "      <td>NaN</td>\n",
       "      <td>Propio</td>\n",
       "      <td>20126429380</td>\n",
       "      <td>DNI</td>\n",
       "    </tr>\n",
       "    <tr>\n",
       "      <th>2</th>\n",
       "      <td>RMS376418336611009</td>\n",
       "      <td>12642938</td>\n",
       "      <td>OSCAR R CARLES</td>\n",
       "      <td>oscarles09@hotmail.com                        ...</td>\n",
       "      <td>EMAIL</td>\n",
       "      <td>AMEX_TNCM</td>\n",
       "      <td>AT</td>\n",
       "      <td>PERSONAL</td>\n",
       "      <td>4.0</td>\n",
       "      <td>2021-01-15 13:51:42.812793</td>\n",
       "      <td>False</td>\n",
       "      <td>NaN</td>\n",
       "      <td>NaN</td>\n",
       "      <td>Propio</td>\n",
       "      <td>20126429380</td>\n",
       "      <td>DNI</td>\n",
       "    </tr>\n",
       "    <tr>\n",
       "      <th>3</th>\n",
       "      <td>RMS376686432352005</td>\n",
       "      <td>17232775</td>\n",
       "      <td>LIC ADRIANA M BOSCO</td>\n",
       "      <td>abosco@estudiobosco.com.ar                    ...</td>\n",
       "      <td>EMAIL</td>\n",
       "      <td>AMEX_PALM</td>\n",
       "      <td>AT</td>\n",
       "      <td>LABORAL</td>\n",
       "      <td>3.0</td>\n",
       "      <td>2021-01-15 13:51:42.812793</td>\n",
       "      <td>False</td>\n",
       "      <td>NaN</td>\n",
       "      <td>NaN</td>\n",
       "      <td>Propio</td>\n",
       "      <td>27172327759</td>\n",
       "      <td>DNI</td>\n",
       "    </tr>\n",
       "    <tr>\n",
       "      <th>4</th>\n",
       "      <td>RMS376686339282008</td>\n",
       "      <td>11862536</td>\n",
       "      <td>LUIS APOGLESSI</td>\n",
       "      <td>luis_apoglessi@hotmail.com                    ...</td>\n",
       "      <td>EMAIL</td>\n",
       "      <td>AMEX_PALM</td>\n",
       "      <td>AT</td>\n",
       "      <td>PERSONAL</td>\n",
       "      <td>4.0</td>\n",
       "      <td>2021-01-15 13:51:42.812793</td>\n",
       "      <td>False</td>\n",
       "      <td>NaN</td>\n",
       "      <td>NaN</td>\n",
       "      <td>Propio</td>\n",
       "      <td>20118625367</td>\n",
       "      <td>DNI</td>\n",
       "    </tr>\n",
       "  </tbody>\n",
       "</table>\n",
       "</div>"
      ],
      "text/plain": [
       "             IDMOROSO   NRO_DOC                                    NOMBRE  \\\n",
       "0  RMS376418336611009  12642938  OSCAR R CARLES                             \n",
       "1  RMS376418336611009  12642938  OSCAR R CARLES                             \n",
       "2  RMS376418336611009  12642938  OSCAR R CARLES                             \n",
       "3  RMS376686432352005  17232775  LIC ADRIANA M BOSCO                        \n",
       "4  RMS376686339282008  11862536  LUIS APOGLESSI                             \n",
       "\n",
       "                                                DATO   TIPO  \\\n",
       "0  oscarles09@hotmail.com                        ...  EMAIL   \n",
       "1  oscarles09@hotmail.com                        ...  EMAIL   \n",
       "2  oscarles09@hotmail.com                        ...  EMAIL   \n",
       "3  abosco@estudiobosco.com.ar                    ...  EMAIL   \n",
       "4  luis_apoglessi@hotmail.com                    ...  EMAIL   \n",
       "\n",
       "              IDCLIENTE PROVEEDOR_DATO   SUBTIPO  SCORE_DATO  \\\n",
       "0  AMEX_PARM                        AT  PERSONAL         4.0   \n",
       "1  AMEX_QRPM                        AT  PERSONAL         4.0   \n",
       "2  AMEX_TNCM                        AT  PERSONAL         4.0   \n",
       "3  AMEX_PALM                        AT   LABORAL         3.0   \n",
       "4  AMEX_PALM                        AT  PERSONAL         4.0   \n",
       "\n",
       "          FECHA_INGRESO_DATO  VERIFICADO  FECHA_VERIFICACION  \\\n",
       "0 2021-01-15 13:51:42.812793       False                 NaN   \n",
       "1 2021-01-15 13:51:42.812793       False                 NaN   \n",
       "2 2021-01-15 13:51:42.812793       False                 NaN   \n",
       "3 2021-01-15 13:51:42.812793       False                 NaN   \n",
       "4 2021-01-15 13:51:42.812793       False                 NaN   \n",
       "\n",
       "   OPERADOR_VERIFICACION PROPIETARIO_DATO                       CUIT_CUIL  \\\n",
       "0                    NaN           Propio  20126429380                      \n",
       "1                    NaN           Propio  20126429380                      \n",
       "2                    NaN           Propio  20126429380                      \n",
       "3                    NaN           Propio  27172327759                      \n",
       "4                    NaN           Propio  20118625367                      \n",
       "\n",
       "  TIPO_DOC  \n",
       "0      DNI  \n",
       "1      DNI  \n",
       "2      DNI  \n",
       "3      DNI  \n",
       "4      DNI  "
      ]
     },
     "execution_count": 57,
     "metadata": {},
     "output_type": "execute_result"
    }
   ],
   "source": [
    "df_mails.head()"
   ]
  },
  {
   "cell_type": "markdown",
   "metadata": {},
   "source": [
    "# Export"
   ]
  },
  {
   "cell_type": "code",
   "execution_count": 58,
   "metadata": {},
   "outputs": [],
   "source": [
    "df_export = df_mails[['IDMOROSO','TIPO_DOC','NRO_DOC','CUIT_CUIL','TIPO','SUBTIPO','DATO','PROPIETARIO_DATO','PROVEEDOR_DATO','FECHA_INGRESO_DATO','VERIFICADO','FECHA_VERIFICACION','OPERADOR_VERIFICACION','SCORE_DATO']]"
   ]
  },
  {
   "cell_type": "code",
   "execution_count": 59,
   "metadata": {},
   "outputs": [],
   "source": [
    "df_export = df_export.drop_duplicates()"
   ]
  },
  {
   "cell_type": "code",
   "execution_count": 60,
   "metadata": {
    "scrolled": true
   },
   "outputs": [
    {
     "data": {
      "text/plain": [
       "(277329, 14)"
      ]
     },
     "execution_count": 60,
     "metadata": {},
     "output_type": "execute_result"
    }
   ],
   "source": [
    "df_export.shape"
   ]
  },
  {
   "cell_type": "code",
   "execution_count": 61,
   "metadata": {},
   "outputs": [],
   "source": [
    "duplicates = df_export [df_export.duplicated(subset=['IDMOROSO','DATO'],keep=False)]"
   ]
  },
  {
   "cell_type": "code",
   "execution_count": 62,
   "metadata": {},
   "outputs": [
    {
     "data": {
      "text/plain": [
       "(0, 14)"
      ]
     },
     "execution_count": 62,
     "metadata": {},
     "output_type": "execute_result"
    }
   ],
   "source": [
    "duplicates.shape"
   ]
  },
  {
   "cell_type": "code",
   "execution_count": 63,
   "metadata": {},
   "outputs": [],
   "source": [
    "#non_duplicates = df_export[~df_export.duplicated(subset=['IDMOROSO','DATO','PROVEEDOR_DATO'],keep=False)]"
   ]
  },
  {
   "cell_type": "code",
   "execution_count": 64,
   "metadata": {},
   "outputs": [],
   "source": [
    "#non_duplicates.shape"
   ]
  },
  {
   "cell_type": "code",
   "execution_count": 65,
   "metadata": {},
   "outputs": [],
   "source": [
    "#df_export_at = pd.concat([non_duplicates,duplicates])\n",
    "df_export_at = df_export"
   ]
  },
  {
   "cell_type": "code",
   "execution_count": 66,
   "metadata": {},
   "outputs": [],
   "source": [
    "#df_export_at.shape"
   ]
  },
  {
   "cell_type": "code",
   "execution_count": 67,
   "metadata": {
    "scrolled": false
   },
   "outputs": [],
   "source": [
    "#df_export_at [df_export_at.duplicated(subset=['IDMOROSO','DATO'],keep=False)]"
   ]
  },
  {
   "cell_type": "code",
   "execution_count": 68,
   "metadata": {
    "scrolled": true
   },
   "outputs": [],
   "source": [
    "#df_export_at[df_export_at['IDMOROSO'] == 'DNIE95405894      ']"
   ]
  },
  {
   "cell_type": "markdown",
   "metadata": {},
   "source": [
    "# Issue: quedarme con la string que tenga @"
   ]
  },
  {
   "cell_type": "code",
   "execution_count": 69,
   "metadata": {},
   "outputs": [],
   "source": [
    "df_export_at ['DATO'] = df_export_at['DATO'].str.strip().str.split(' ')"
   ]
  },
  {
   "cell_type": "code",
   "execution_count": 70,
   "metadata": {},
   "outputs": [],
   "source": [
    "df_export_at = df_export_at.explode('DATO')"
   ]
  },
  {
   "cell_type": "code",
   "execution_count": 71,
   "metadata": {},
   "outputs": [],
   "source": [
    "df_export_at = df_export_at[df_export_at.DATO.str.contains(\"@\")]"
   ]
  },
  {
   "cell_type": "code",
   "execution_count": 72,
   "metadata": {
    "scrolled": true
   },
   "outputs": [
    {
     "data": {
      "text/html": [
       "<div>\n",
       "<style scoped>\n",
       "    .dataframe tbody tr th:only-of-type {\n",
       "        vertical-align: middle;\n",
       "    }\n",
       "\n",
       "    .dataframe tbody tr th {\n",
       "        vertical-align: top;\n",
       "    }\n",
       "\n",
       "    .dataframe thead th {\n",
       "        text-align: right;\n",
       "    }\n",
       "</style>\n",
       "<table border=\"1\" class=\"dataframe\">\n",
       "  <thead>\n",
       "    <tr style=\"text-align: right;\">\n",
       "      <th></th>\n",
       "      <th>IDMOROSO</th>\n",
       "      <th>TIPO_DOC</th>\n",
       "      <th>NRO_DOC</th>\n",
       "      <th>CUIT_CUIL</th>\n",
       "      <th>TIPO</th>\n",
       "      <th>SUBTIPO</th>\n",
       "      <th>DATO</th>\n",
       "      <th>PROPIETARIO_DATO</th>\n",
       "      <th>PROVEEDOR_DATO</th>\n",
       "      <th>FECHA_INGRESO_DATO</th>\n",
       "      <th>VERIFICADO</th>\n",
       "      <th>FECHA_VERIFICACION</th>\n",
       "      <th>OPERADOR_VERIFICACION</th>\n",
       "      <th>SCORE_DATO</th>\n",
       "    </tr>\n",
       "  </thead>\n",
       "  <tbody>\n",
       "    <tr>\n",
       "      <th>116409</th>\n",
       "      <td>DNIE95405894</td>\n",
       "      <td>DNI</td>\n",
       "      <td>95405894</td>\n",
       "      <td>NaN</td>\n",
       "      <td>EMAIL</td>\n",
       "      <td>LABORAL</td>\n",
       "      <td>\\tjerecundinocuero@gmai</td>\n",
       "      <td>Propio</td>\n",
       "      <td>AT</td>\n",
       "      <td>2021-01-15 13:51:42.812793</td>\n",
       "      <td>False</td>\n",
       "      <td>NaN</td>\n",
       "      <td>NaN</td>\n",
       "      <td>3.0</td>\n",
       "    </tr>\n",
       "  </tbody>\n",
       "</table>\n",
       "</div>"
      ],
      "text/plain": [
       "                  IDMOROSO TIPO_DOC   NRO_DOC CUIT_CUIL   TIPO  SUBTIPO  \\\n",
       "116409  DNIE95405894            DNI  95405894       NaN  EMAIL  LABORAL   \n",
       "\n",
       "                           DATO PROPIETARIO_DATO PROVEEDOR_DATO  \\\n",
       "116409  \\tjerecundinocuero@gmai           Propio             AT   \n",
       "\n",
       "               FECHA_INGRESO_DATO  VERIFICADO  FECHA_VERIFICACION  \\\n",
       "116409 2021-01-15 13:51:42.812793       False                 NaN   \n",
       "\n",
       "        OPERADOR_VERIFICACION  SCORE_DATO  \n",
       "116409                    NaN         3.0  "
      ]
     },
     "execution_count": 72,
     "metadata": {},
     "output_type": "execute_result"
    }
   ],
   "source": [
    "df_export_at[df_export_at['IDMOROSO'] == 'DNIE95405894      ']"
   ]
  },
  {
   "cell_type": "markdown",
   "metadata": {},
   "source": [
    "## Duplicados"
   ]
  },
  {
   "cell_type": "code",
   "execution_count": 73,
   "metadata": {},
   "outputs": [],
   "source": [
    "df_export_at = df_export_at.drop_duplicates()"
   ]
  },
  {
   "cell_type": "code",
   "execution_count": 74,
   "metadata": {},
   "outputs": [
    {
     "data": {
      "text/html": [
       "<div>\n",
       "<style scoped>\n",
       "    .dataframe tbody tr th:only-of-type {\n",
       "        vertical-align: middle;\n",
       "    }\n",
       "\n",
       "    .dataframe tbody tr th {\n",
       "        vertical-align: top;\n",
       "    }\n",
       "\n",
       "    .dataframe thead th {\n",
       "        text-align: right;\n",
       "    }\n",
       "</style>\n",
       "<table border=\"1\" class=\"dataframe\">\n",
       "  <thead>\n",
       "    <tr style=\"text-align: right;\">\n",
       "      <th></th>\n",
       "      <th>IDMOROSO</th>\n",
       "      <th>TIPO_DOC</th>\n",
       "      <th>NRO_DOC</th>\n",
       "      <th>CUIT_CUIL</th>\n",
       "      <th>TIPO</th>\n",
       "      <th>SUBTIPO</th>\n",
       "      <th>DATO</th>\n",
       "      <th>PROPIETARIO_DATO</th>\n",
       "      <th>PROVEEDOR_DATO</th>\n",
       "      <th>FECHA_INGRESO_DATO</th>\n",
       "      <th>VERIFICADO</th>\n",
       "      <th>FECHA_VERIFICACION</th>\n",
       "      <th>OPERADOR_VERIFICACION</th>\n",
       "      <th>SCORE_DATO</th>\n",
       "    </tr>\n",
       "  </thead>\n",
       "  <tbody>\n",
       "    <tr>\n",
       "      <th>83416</th>\n",
       "      <td>DNI 29492319</td>\n",
       "      <td>DNI</td>\n",
       "      <td>29492319</td>\n",
       "      <td>NaN</td>\n",
       "      <td>EMAIL</td>\n",
       "      <td>LABORAL</td>\n",
       "      <td>abartolome@expresooronegro.com</td>\n",
       "      <td>Propio</td>\n",
       "      <td>AT</td>\n",
       "      <td>2021-01-15 13:51:42.812793</td>\n",
       "      <td>False</td>\n",
       "      <td>NaN</td>\n",
       "      <td>NaN</td>\n",
       "      <td>3.0</td>\n",
       "    </tr>\n",
       "    <tr>\n",
       "      <th>85804</th>\n",
       "      <td>DNI 12623904</td>\n",
       "      <td>DNI</td>\n",
       "      <td>12623904</td>\n",
       "      <td>NaN</td>\n",
       "      <td>EMAIL</td>\n",
       "      <td>LABORAL</td>\n",
       "      <td>mledesma@unimoron.edu.ar</td>\n",
       "      <td>Propio</td>\n",
       "      <td>AT</td>\n",
       "      <td>2021-01-15 13:51:42.812793</td>\n",
       "      <td>False</td>\n",
       "      <td>NaN</td>\n",
       "      <td>NaN</td>\n",
       "      <td>3.0</td>\n",
       "    </tr>\n",
       "    <tr>\n",
       "      <th>109593</th>\n",
       "      <td>DNI 26218371</td>\n",
       "      <td>DNI</td>\n",
       "      <td>26218371</td>\n",
       "      <td>NaN</td>\n",
       "      <td>EMAIL</td>\n",
       "      <td>LABORAL</td>\n",
       "      <td>martin.chuquer@mastergarden.com.ar</td>\n",
       "      <td>Propio</td>\n",
       "      <td>AT</td>\n",
       "      <td>2021-01-15 13:51:42.812793</td>\n",
       "      <td>False</td>\n",
       "      <td>NaN</td>\n",
       "      <td>NaN</td>\n",
       "      <td>3.0</td>\n",
       "    </tr>\n",
       "    <tr>\n",
       "      <th>181353</th>\n",
       "      <td>DNI 25597304</td>\n",
       "      <td>DNI</td>\n",
       "      <td>25597304</td>\n",
       "      <td>NaN</td>\n",
       "      <td>EMAIL</td>\n",
       "      <td>LABORAL</td>\n",
       "      <td>jmurua@mymultilevel.com</td>\n",
       "      <td>Propio</td>\n",
       "      <td>AT</td>\n",
       "      <td>2021-01-15 13:51:42.812793</td>\n",
       "      <td>False</td>\n",
       "      <td>NaN</td>\n",
       "      <td>NaN</td>\n",
       "      <td>3.0</td>\n",
       "    </tr>\n",
       "    <tr>\n",
       "      <th>257942</th>\n",
       "      <td>LE  6755082</td>\n",
       "      <td>LE</td>\n",
       "      <td>6755082</td>\n",
       "      <td>NaN</td>\n",
       "      <td>EMAIL</td>\n",
       "      <td>LABORAL</td>\n",
       "      <td>efpisatti@speedy.com.ar</td>\n",
       "      <td>Propio</td>\n",
       "      <td>AT</td>\n",
       "      <td>2021-01-15 13:51:42.812793</td>\n",
       "      <td>False</td>\n",
       "      <td>NaN</td>\n",
       "      <td>NaN</td>\n",
       "      <td>3.0</td>\n",
       "    </tr>\n",
       "    <tr>\n",
       "      <th>328206</th>\n",
       "      <td>DNI 31595915</td>\n",
       "      <td>DNI</td>\n",
       "      <td>31595915</td>\n",
       "      <td>NaN</td>\n",
       "      <td>EMAIL</td>\n",
       "      <td>LABORAL</td>\n",
       "      <td>epmartinez@cnc.gov.ar</td>\n",
       "      <td>Propio</td>\n",
       "      <td>AT</td>\n",
       "      <td>2021-01-15 13:51:42.812793</td>\n",
       "      <td>False</td>\n",
       "      <td>NaN</td>\n",
       "      <td>NaN</td>\n",
       "      <td>3.0</td>\n",
       "    </tr>\n",
       "    <tr>\n",
       "      <th>337597</th>\n",
       "      <td>DNI 34317644</td>\n",
       "      <td>DNI</td>\n",
       "      <td>34317644</td>\n",
       "      <td>NaN</td>\n",
       "      <td>EMAIL</td>\n",
       "      <td>LABORAL</td>\n",
       "      <td>jimenamari@ggmail.com</td>\n",
       "      <td>Propio</td>\n",
       "      <td>AT</td>\n",
       "      <td>2021-01-15 13:51:42.812793</td>\n",
       "      <td>False</td>\n",
       "      <td>NaN</td>\n",
       "      <td>NaN</td>\n",
       "      <td>3.0</td>\n",
       "    </tr>\n",
       "    <tr>\n",
       "      <th>339246</th>\n",
       "      <td>DNI 19040588</td>\n",
       "      <td>DNI</td>\n",
       "      <td>19040588</td>\n",
       "      <td>NaN</td>\n",
       "      <td>EMAIL</td>\n",
       "      <td>LABORAL</td>\n",
       "      <td>rdiaz@securitasargentina.com</td>\n",
       "      <td>Propio</td>\n",
       "      <td>AT</td>\n",
       "      <td>2021-01-15 13:51:42.812793</td>\n",
       "      <td>False</td>\n",
       "      <td>NaN</td>\n",
       "      <td>NaN</td>\n",
       "      <td>3.0</td>\n",
       "    </tr>\n",
       "    <tr>\n",
       "      <th>359895</th>\n",
       "      <td>DNI 42006682</td>\n",
       "      <td>DNI</td>\n",
       "      <td>42006682</td>\n",
       "      <td>NaN</td>\n",
       "      <td>EMAIL</td>\n",
       "      <td>LABORAL</td>\n",
       "      <td>nobrinda@nobrinda.com</td>\n",
       "      <td>Propio</td>\n",
       "      <td>AT</td>\n",
       "      <td>2021-01-15 13:51:42.812793</td>\n",
       "      <td>False</td>\n",
       "      <td>NaN</td>\n",
       "      <td>NaN</td>\n",
       "      <td>3.0</td>\n",
       "    </tr>\n",
       "    <tr>\n",
       "      <th>370659</th>\n",
       "      <td>DNI 27434972</td>\n",
       "      <td>DNI</td>\n",
       "      <td>27434972</td>\n",
       "      <td>NaN</td>\n",
       "      <td>EMAIL</td>\n",
       "      <td>LABORAL</td>\n",
       "      <td>briela@iclaro.com.ar</td>\n",
       "      <td>Propio</td>\n",
       "      <td>AT</td>\n",
       "      <td>2021-01-15 13:51:42.812793</td>\n",
       "      <td>False</td>\n",
       "      <td>NaN</td>\n",
       "      <td>NaN</td>\n",
       "      <td>3.0</td>\n",
       "    </tr>\n",
       "    <tr>\n",
       "      <th>374613</th>\n",
       "      <td>DNI 33747009</td>\n",
       "      <td>DNI</td>\n",
       "      <td>33747009</td>\n",
       "      <td>NaN</td>\n",
       "      <td>EMAIL</td>\n",
       "      <td>LABORAL</td>\n",
       "      <td>glopez@devspark.com</td>\n",
       "      <td>Propio</td>\n",
       "      <td>AT</td>\n",
       "      <td>2021-01-15 13:51:42.812793</td>\n",
       "      <td>False</td>\n",
       "      <td>NaN</td>\n",
       "      <td>NaN</td>\n",
       "      <td>3.0</td>\n",
       "    </tr>\n",
       "  </tbody>\n",
       "</table>\n",
       "</div>"
      ],
      "text/plain": [
       "                  IDMOROSO TIPO_DOC   NRO_DOC CUIT_CUIL   TIPO  SUBTIPO  \\\n",
       "83416   DNI 29492319            DNI  29492319       NaN  EMAIL  LABORAL   \n",
       "85804   DNI 12623904            DNI  12623904       NaN  EMAIL  LABORAL   \n",
       "109593  DNI 26218371            DNI  26218371       NaN  EMAIL  LABORAL   \n",
       "181353  DNI 25597304            DNI  25597304       NaN  EMAIL  LABORAL   \n",
       "257942  LE  6755082              LE   6755082       NaN  EMAIL  LABORAL   \n",
       "328206  DNI 31595915            DNI  31595915       NaN  EMAIL  LABORAL   \n",
       "337597  DNI 34317644            DNI  34317644       NaN  EMAIL  LABORAL   \n",
       "339246  DNI 19040588            DNI  19040588       NaN  EMAIL  LABORAL   \n",
       "359895  DNI 42006682            DNI  42006682       NaN  EMAIL  LABORAL   \n",
       "370659  DNI 27434972            DNI  27434972       NaN  EMAIL  LABORAL   \n",
       "374613  DNI 33747009            DNI  33747009       NaN  EMAIL  LABORAL   \n",
       "\n",
       "                                      DATO PROPIETARIO_DATO PROVEEDOR_DATO  \\\n",
       "83416       abartolome@expresooronegro.com           Propio             AT   \n",
       "85804             mledesma@unimoron.edu.ar           Propio             AT   \n",
       "109593  martin.chuquer@mastergarden.com.ar           Propio             AT   \n",
       "181353             jmurua@mymultilevel.com           Propio             AT   \n",
       "257942             efpisatti@speedy.com.ar           Propio             AT   \n",
       "328206               epmartinez@cnc.gov.ar           Propio             AT   \n",
       "337597               jimenamari@ggmail.com           Propio             AT   \n",
       "339246        rdiaz@securitasargentina.com           Propio             AT   \n",
       "359895               nobrinda@nobrinda.com           Propio             AT   \n",
       "370659                briela@iclaro.com.ar           Propio             AT   \n",
       "374613                 glopez@devspark.com           Propio             AT   \n",
       "\n",
       "               FECHA_INGRESO_DATO  VERIFICADO  FECHA_VERIFICACION  \\\n",
       "83416  2021-01-15 13:51:42.812793       False                 NaN   \n",
       "85804  2021-01-15 13:51:42.812793       False                 NaN   \n",
       "109593 2021-01-15 13:51:42.812793       False                 NaN   \n",
       "181353 2021-01-15 13:51:42.812793       False                 NaN   \n",
       "257942 2021-01-15 13:51:42.812793       False                 NaN   \n",
       "328206 2021-01-15 13:51:42.812793       False                 NaN   \n",
       "337597 2021-01-15 13:51:42.812793       False                 NaN   \n",
       "339246 2021-01-15 13:51:42.812793       False                 NaN   \n",
       "359895 2021-01-15 13:51:42.812793       False                 NaN   \n",
       "370659 2021-01-15 13:51:42.812793       False                 NaN   \n",
       "374613 2021-01-15 13:51:42.812793       False                 NaN   \n",
       "\n",
       "        OPERADOR_VERIFICACION  SCORE_DATO  \n",
       "83416                     NaN         3.0  \n",
       "85804                     NaN         3.0  \n",
       "109593                    NaN         3.0  \n",
       "181353                    NaN         3.0  \n",
       "257942                    NaN         3.0  \n",
       "328206                    NaN         3.0  \n",
       "337597                    NaN         3.0  \n",
       "339246                    NaN         3.0  \n",
       "359895                    NaN         3.0  \n",
       "370659                    NaN         3.0  \n",
       "374613                    NaN         3.0  "
      ]
     },
     "execution_count": 74,
     "metadata": {},
     "output_type": "execute_result"
    }
   ],
   "source": [
    "df_export_at[df_export_at.duplicated(subset=['IDMOROSO','DATO'])]"
   ]
  },
  {
   "cell_type": "code",
   "execution_count": null,
   "metadata": {},
   "outputs": [],
   "source": []
  },
  {
   "cell_type": "code",
   "execution_count": 75,
   "metadata": {},
   "outputs": [],
   "source": [
    "dups_mail = df_export_at[df_export_at.duplicated(subset=['IDMOROSO','DATO'], keep=False)]"
   ]
  },
  {
   "cell_type": "code",
   "execution_count": 76,
   "metadata": {},
   "outputs": [],
   "source": [
    "dups_mail.to_csv('dups_mail.csv',index=False)"
   ]
  },
  {
   "cell_type": "code",
   "execution_count": 77,
   "metadata": {},
   "outputs": [
    {
     "data": {
      "text/html": [
       "<div>\n",
       "<style scoped>\n",
       "    .dataframe tbody tr th:only-of-type {\n",
       "        vertical-align: middle;\n",
       "    }\n",
       "\n",
       "    .dataframe tbody tr th {\n",
       "        vertical-align: top;\n",
       "    }\n",
       "\n",
       "    .dataframe thead th {\n",
       "        text-align: right;\n",
       "    }\n",
       "</style>\n",
       "<table border=\"1\" class=\"dataframe\">\n",
       "  <thead>\n",
       "    <tr style=\"text-align: right;\">\n",
       "      <th></th>\n",
       "      <th>IDMOROSO</th>\n",
       "      <th>NRO_DOC</th>\n",
       "      <th>NOMBRE</th>\n",
       "      <th>DATO</th>\n",
       "      <th>TIPO</th>\n",
       "      <th>IDCLIENTE</th>\n",
       "      <th>PROVEEDOR_DATO</th>\n",
       "      <th>SUBTIPO</th>\n",
       "      <th>SCORE_DATO</th>\n",
       "      <th>FECHA_INGRESO_DATO</th>\n",
       "      <th>VERIFICADO</th>\n",
       "      <th>FECHA_VERIFICACION</th>\n",
       "      <th>OPERADOR_VERIFICACION</th>\n",
       "      <th>PROPIETARIO_DATO</th>\n",
       "      <th>CUIT_CUIL</th>\n",
       "      <th>TIPO_DOC</th>\n",
       "    </tr>\n",
       "  </thead>\n",
       "  <tbody>\n",
       "    <tr>\n",
       "      <th>66717</th>\n",
       "      <td>DNI 12623904</td>\n",
       "      <td>12623904</td>\n",
       "      <td>LEDESMA MIRTA ESTER</td>\n",
       "      <td>mledesma@unimoron.edu.ar  eledesma@hotmail.com...</td>\n",
       "      <td>EMAIL</td>\n",
       "      <td>FRANCES_2012</td>\n",
       "      <td>AT</td>\n",
       "      <td>PERSONAL</td>\n",
       "      <td>4.0</td>\n",
       "      <td>2021-01-15 13:51:42.812793</td>\n",
       "      <td>False</td>\n",
       "      <td>NaN</td>\n",
       "      <td>NaN</td>\n",
       "      <td>Propio</td>\n",
       "      <td>NaN</td>\n",
       "      <td>DNI</td>\n",
       "    </tr>\n",
       "    <tr>\n",
       "      <th>85804</th>\n",
       "      <td>DNI 12623904</td>\n",
       "      <td>12623904</td>\n",
       "      <td>LEDESMA MIRTA ESTER</td>\n",
       "      <td>mledesma@unimoron.edu.ar                      ...</td>\n",
       "      <td>EMAIL</td>\n",
       "      <td>FRANCES_2012</td>\n",
       "      <td>AT</td>\n",
       "      <td>LABORAL</td>\n",
       "      <td>3.0</td>\n",
       "      <td>2021-01-15 13:51:42.812793</td>\n",
       "      <td>False</td>\n",
       "      <td>NaN</td>\n",
       "      <td>NaN</td>\n",
       "      <td>Propio</td>\n",
       "      <td>NaN</td>\n",
       "      <td>DNI</td>\n",
       "    </tr>\n",
       "  </tbody>\n",
       "</table>\n",
       "</div>"
      ],
      "text/plain": [
       "                 IDMOROSO   NRO_DOC                                    NOMBRE  \\\n",
       "66717  DNI 12623904        12623904  LEDESMA MIRTA ESTER                        \n",
       "85804  DNI 12623904        12623904  LEDESMA MIRTA ESTER                        \n",
       "\n",
       "                                                    DATO   TIPO  \\\n",
       "66717  mledesma@unimoron.edu.ar  eledesma@hotmail.com...  EMAIL   \n",
       "85804  mledesma@unimoron.edu.ar                      ...  EMAIL   \n",
       "\n",
       "                  IDCLIENTE PROVEEDOR_DATO   SUBTIPO  SCORE_DATO  \\\n",
       "66717  FRANCES_2012                     AT  PERSONAL         4.0   \n",
       "85804  FRANCES_2012                     AT   LABORAL         3.0   \n",
       "\n",
       "              FECHA_INGRESO_DATO  VERIFICADO  FECHA_VERIFICACION  \\\n",
       "66717 2021-01-15 13:51:42.812793       False                 NaN   \n",
       "85804 2021-01-15 13:51:42.812793       False                 NaN   \n",
       "\n",
       "       OPERADOR_VERIFICACION PROPIETARIO_DATO CUIT_CUIL TIPO_DOC  \n",
       "66717                    NaN           Propio       NaN      DNI  \n",
       "85804                    NaN           Propio       NaN      DNI  "
      ]
     },
     "execution_count": 77,
     "metadata": {},
     "output_type": "execute_result"
    }
   ],
   "source": [
    "df_mails[df_mails['IDMOROSO']== 'DNI 12623904      ']"
   ]
  },
  {
   "cell_type": "code",
   "execution_count": 78,
   "metadata": {},
   "outputs": [
    {
     "data": {
      "text/html": [
       "<div>\n",
       "<style scoped>\n",
       "    .dataframe tbody tr th:only-of-type {\n",
       "        vertical-align: middle;\n",
       "    }\n",
       "\n",
       "    .dataframe tbody tr th {\n",
       "        vertical-align: top;\n",
       "    }\n",
       "\n",
       "    .dataframe thead th {\n",
       "        text-align: right;\n",
       "    }\n",
       "</style>\n",
       "<table border=\"1\" class=\"dataframe\">\n",
       "  <thead>\n",
       "    <tr style=\"text-align: right;\">\n",
       "      <th></th>\n",
       "      <th>IDMOROSO</th>\n",
       "      <th>NRO_DOC</th>\n",
       "      <th>NOMBRE</th>\n",
       "      <th>DATO</th>\n",
       "      <th>TIPO</th>\n",
       "      <th>IDCLIENTE</th>\n",
       "      <th>PROVEEDOR_DATO</th>\n",
       "    </tr>\n",
       "  </thead>\n",
       "  <tbody>\n",
       "    <tr>\n",
       "      <th>66717</th>\n",
       "      <td>DNI 12623904</td>\n",
       "      <td>DNI 12623904</td>\n",
       "      <td>LEDESMA MIRTA ESTER</td>\n",
       "      <td>MLEDESMA@UNIMORON.EDU.AR  ELEDESMA@HOTMAIL.COM...</td>\n",
       "      <td>MAIL</td>\n",
       "      <td>FRANCES_2012</td>\n",
       "      <td>AT</td>\n",
       "    </tr>\n",
       "    <tr>\n",
       "      <th>85804</th>\n",
       "      <td>DNI 12623904</td>\n",
       "      <td>DNI 12623904</td>\n",
       "      <td>LEDESMA MIRTA ESTER</td>\n",
       "      <td>MLEDESMA@UNIMORON.EDU.AR                      ...</td>\n",
       "      <td>MAIL</td>\n",
       "      <td>FRANCES_2012</td>\n",
       "      <td>AT</td>\n",
       "    </tr>\n",
       "  </tbody>\n",
       "</table>\n",
       "</div>"
      ],
      "text/plain": [
       "                 IDMOROSO                         NRO_DOC  \\\n",
       "66717  DNI 12623904        DNI 12623904                     \n",
       "85804  DNI 12623904        DNI 12623904                     \n",
       "\n",
       "                                         NOMBRE  \\\n",
       "66717  LEDESMA MIRTA ESTER                        \n",
       "85804  LEDESMA MIRTA ESTER                        \n",
       "\n",
       "                                                    DATO  TIPO  \\\n",
       "66717  MLEDESMA@UNIMORON.EDU.AR  ELEDESMA@HOTMAIL.COM...  MAIL   \n",
       "85804  MLEDESMA@UNIMORON.EDU.AR                      ...  MAIL   \n",
       "\n",
       "                  IDCLIENTE PROVEEDOR_DATO  \n",
       "66717  FRANCES_2012                     AT  \n",
       "85804  FRANCES_2012                     AT  "
      ]
     },
     "execution_count": 78,
     "metadata": {},
     "output_type": "execute_result"
    }
   ],
   "source": [
    "df[df['IDMOROSO']== 'DNI 12623904      ']"
   ]
  },
  {
   "cell_type": "code",
   "execution_count": 79,
   "metadata": {
    "scrolled": false
   },
   "outputs": [
    {
     "data": {
      "text/plain": [
       "(277589, 14)"
      ]
     },
     "execution_count": 79,
     "metadata": {},
     "output_type": "execute_result"
    }
   ],
   "source": [
    "df_export_at.shape"
   ]
  },
  {
   "cell_type": "code",
   "execution_count": 80,
   "metadata": {
    "scrolled": true
   },
   "outputs": [
    {
     "data": {
      "text/plain": [
       "(22, 14)"
      ]
     },
     "execution_count": 80,
     "metadata": {},
     "output_type": "execute_result"
    }
   ],
   "source": [
    "dups_mail.shape"
   ]
  },
  {
   "cell_type": "markdown",
   "metadata": {},
   "source": [
    "Exportamos al pipeline de duplicados."
   ]
  },
  {
   "cell_type": "markdown",
   "metadata": {},
   "source": [
    "### Post pipeline Duplicados"
   ]
  },
  {
   "cell_type": "code",
   "execution_count": 81,
   "metadata": {},
   "outputs": [],
   "source": [
    "subset_add_1 = pd.read_csv('D:\\MOPC\\Enriquecimiento de Datos\\Data Cleaning\\Active\\Exports\\DAM_CONTACTABILIDAD\\subset_mails_non_dups.csv')"
   ]
  },
  {
   "cell_type": "code",
   "execution_count": 82,
   "metadata": {
    "scrolled": true
   },
   "outputs": [
    {
     "data": {
      "text/html": [
       "<div>\n",
       "<style scoped>\n",
       "    .dataframe tbody tr th:only-of-type {\n",
       "        vertical-align: middle;\n",
       "    }\n",
       "\n",
       "    .dataframe tbody tr th {\n",
       "        vertical-align: top;\n",
       "    }\n",
       "\n",
       "    .dataframe thead th {\n",
       "        text-align: right;\n",
       "    }\n",
       "</style>\n",
       "<table border=\"1\" class=\"dataframe\">\n",
       "  <thead>\n",
       "    <tr style=\"text-align: right;\">\n",
       "      <th></th>\n",
       "      <th>IDMOROSO</th>\n",
       "      <th>TIPO_DOC</th>\n",
       "      <th>NRO_DOC</th>\n",
       "      <th>CUIT_CUIL</th>\n",
       "      <th>TIPO</th>\n",
       "      <th>SUBTIPO</th>\n",
       "      <th>DATO</th>\n",
       "      <th>PROPIETARIO_DATO</th>\n",
       "      <th>PROVEEDOR_DATO</th>\n",
       "      <th>FECHA_INGRESO_DATO</th>\n",
       "      <th>VERIFICADO</th>\n",
       "      <th>FECHA_VERIFICACION</th>\n",
       "      <th>OPERADOR_VERIFICACION</th>\n",
       "      <th>SCORE_DATO</th>\n",
       "    </tr>\n",
       "  </thead>\n",
       "  <tbody>\n",
       "    <tr>\n",
       "      <th>0</th>\n",
       "      <td>DNI 29492319</td>\n",
       "      <td>DNI</td>\n",
       "      <td>29492319</td>\n",
       "      <td>NaN</td>\n",
       "      <td>EMAIL</td>\n",
       "      <td>PERSONAL</td>\n",
       "      <td>abartolome@expresooronegro.com</td>\n",
       "      <td>Propio</td>\n",
       "      <td>AT</td>\n",
       "      <td>2021-01-14 15:44:04.774014</td>\n",
       "      <td>False</td>\n",
       "      <td>NaN</td>\n",
       "      <td>NaN</td>\n",
       "      <td>4.0</td>\n",
       "    </tr>\n",
       "    <tr>\n",
       "      <th>1</th>\n",
       "      <td>DNI 12623904</td>\n",
       "      <td>DNI</td>\n",
       "      <td>12623904</td>\n",
       "      <td>NaN</td>\n",
       "      <td>EMAIL</td>\n",
       "      <td>PERSONAL</td>\n",
       "      <td>mledesma@unimoron.edu.ar</td>\n",
       "      <td>Propio</td>\n",
       "      <td>AT</td>\n",
       "      <td>2021-01-14 15:44:04.774014</td>\n",
       "      <td>False</td>\n",
       "      <td>NaN</td>\n",
       "      <td>NaN</td>\n",
       "      <td>4.0</td>\n",
       "    </tr>\n",
       "    <tr>\n",
       "      <th>2</th>\n",
       "      <td>DNI 26218371</td>\n",
       "      <td>DNI</td>\n",
       "      <td>26218371</td>\n",
       "      <td>NaN</td>\n",
       "      <td>EMAIL</td>\n",
       "      <td>PERSONAL</td>\n",
       "      <td>martin.chuquer@mastergarden.com.ar</td>\n",
       "      <td>Propio</td>\n",
       "      <td>AT</td>\n",
       "      <td>2021-01-14 15:44:04.774014</td>\n",
       "      <td>False</td>\n",
       "      <td>NaN</td>\n",
       "      <td>NaN</td>\n",
       "      <td>4.0</td>\n",
       "    </tr>\n",
       "    <tr>\n",
       "      <th>3</th>\n",
       "      <td>DNI 25597304</td>\n",
       "      <td>DNI</td>\n",
       "      <td>25597304</td>\n",
       "      <td>NaN</td>\n",
       "      <td>EMAIL</td>\n",
       "      <td>PERSONAL</td>\n",
       "      <td>jmurua@mymultilevel.com</td>\n",
       "      <td>Propio</td>\n",
       "      <td>AT</td>\n",
       "      <td>2021-01-14 15:44:04.774014</td>\n",
       "      <td>False</td>\n",
       "      <td>NaN</td>\n",
       "      <td>NaN</td>\n",
       "      <td>4.0</td>\n",
       "    </tr>\n",
       "    <tr>\n",
       "      <th>4</th>\n",
       "      <td>LE  6755082</td>\n",
       "      <td>LE</td>\n",
       "      <td>6755082</td>\n",
       "      <td>NaN</td>\n",
       "      <td>EMAIL</td>\n",
       "      <td>PERSONAL</td>\n",
       "      <td>efpisatti@speedy.com.ar</td>\n",
       "      <td>Propio</td>\n",
       "      <td>AT</td>\n",
       "      <td>2021-01-14 15:44:04.774014</td>\n",
       "      <td>False</td>\n",
       "      <td>NaN</td>\n",
       "      <td>NaN</td>\n",
       "      <td>4.0</td>\n",
       "    </tr>\n",
       "  </tbody>\n",
       "</table>\n",
       "</div>"
      ],
      "text/plain": [
       "             IDMOROSO TIPO_DOC   NRO_DOC  CUIT_CUIL   TIPO   SUBTIPO  \\\n",
       "0  DNI 29492319            DNI  29492319        NaN  EMAIL  PERSONAL   \n",
       "1  DNI 12623904            DNI  12623904        NaN  EMAIL  PERSONAL   \n",
       "2  DNI 26218371            DNI  26218371        NaN  EMAIL  PERSONAL   \n",
       "3  DNI 25597304            DNI  25597304        NaN  EMAIL  PERSONAL   \n",
       "4  LE  6755082              LE   6755082        NaN  EMAIL  PERSONAL   \n",
       "\n",
       "                                 DATO PROPIETARIO_DATO PROVEEDOR_DATO  \\\n",
       "0      abartolome@expresooronegro.com           Propio             AT   \n",
       "1            mledesma@unimoron.edu.ar           Propio             AT   \n",
       "2  martin.chuquer@mastergarden.com.ar           Propio             AT   \n",
       "3             jmurua@mymultilevel.com           Propio             AT   \n",
       "4             efpisatti@speedy.com.ar           Propio             AT   \n",
       "\n",
       "           FECHA_INGRESO_DATO  VERIFICADO  FECHA_VERIFICACION  \\\n",
       "0  2021-01-14 15:44:04.774014       False                 NaN   \n",
       "1  2021-01-14 15:44:04.774014       False                 NaN   \n",
       "2  2021-01-14 15:44:04.774014       False                 NaN   \n",
       "3  2021-01-14 15:44:04.774014       False                 NaN   \n",
       "4  2021-01-14 15:44:04.774014       False                 NaN   \n",
       "\n",
       "   OPERADOR_VERIFICACION  SCORE_DATO  \n",
       "0                    NaN         4.0  \n",
       "1                    NaN         4.0  \n",
       "2                    NaN         4.0  \n",
       "3                    NaN         4.0  \n",
       "4                    NaN         4.0  "
      ]
     },
     "execution_count": 82,
     "metadata": {},
     "output_type": "execute_result"
    }
   ],
   "source": [
    "subset_add_1.head()"
   ]
  },
  {
   "cell_type": "code",
   "execution_count": 83,
   "metadata": {},
   "outputs": [],
   "source": [
    "non_duplicates = df_export_at[~df_export_at.duplicated(subset=['IDMOROSO','DATO','PROVEEDOR_DATO'],keep=False)]"
   ]
  },
  {
   "cell_type": "code",
   "execution_count": 84,
   "metadata": {},
   "outputs": [],
   "source": [
    "df_export_mails = pd.concat([subset_add_1,non_duplicates],ignore_index=True)"
   ]
  },
  {
   "cell_type": "code",
   "execution_count": 85,
   "metadata": {},
   "outputs": [
    {
     "data": {
      "text/plain": [
       "(277578, 14)"
      ]
     },
     "execution_count": 85,
     "metadata": {},
     "output_type": "execute_result"
    }
   ],
   "source": [
    "df_export_mails.shape"
   ]
  },
  {
   "cell_type": "code",
   "execution_count": 86,
   "metadata": {},
   "outputs": [
    {
     "data": {
      "text/html": [
       "<div>\n",
       "<style scoped>\n",
       "    .dataframe tbody tr th:only-of-type {\n",
       "        vertical-align: middle;\n",
       "    }\n",
       "\n",
       "    .dataframe tbody tr th {\n",
       "        vertical-align: top;\n",
       "    }\n",
       "\n",
       "    .dataframe thead th {\n",
       "        text-align: right;\n",
       "    }\n",
       "</style>\n",
       "<table border=\"1\" class=\"dataframe\">\n",
       "  <thead>\n",
       "    <tr style=\"text-align: right;\">\n",
       "      <th></th>\n",
       "      <th>IDMOROSO</th>\n",
       "      <th>TIPO_DOC</th>\n",
       "      <th>NRO_DOC</th>\n",
       "      <th>CUIT_CUIL</th>\n",
       "      <th>TIPO</th>\n",
       "      <th>SUBTIPO</th>\n",
       "      <th>DATO</th>\n",
       "      <th>PROPIETARIO_DATO</th>\n",
       "      <th>PROVEEDOR_DATO</th>\n",
       "      <th>FECHA_INGRESO_DATO</th>\n",
       "      <th>VERIFICADO</th>\n",
       "      <th>FECHA_VERIFICACION</th>\n",
       "      <th>OPERADOR_VERIFICACION</th>\n",
       "      <th>SCORE_DATO</th>\n",
       "    </tr>\n",
       "  </thead>\n",
       "  <tbody>\n",
       "  </tbody>\n",
       "</table>\n",
       "</div>"
      ],
      "text/plain": [
       "Empty DataFrame\n",
       "Columns: [IDMOROSO, TIPO_DOC, NRO_DOC, CUIT_CUIL, TIPO, SUBTIPO, DATO, PROPIETARIO_DATO, PROVEEDOR_DATO, FECHA_INGRESO_DATO, VERIFICADO, FECHA_VERIFICACION, OPERADOR_VERIFICACION, SCORE_DATO]\n",
       "Index: []"
      ]
     },
     "execution_count": 86,
     "metadata": {},
     "output_type": "execute_result"
    }
   ],
   "source": [
    "df_export_mails[df_export_mails.duplicated(subset=['IDMOROSO','DATO'],keep = False)]"
   ]
  },
  {
   "cell_type": "markdown",
   "metadata": {},
   "source": [
    "## Final Cleaning"
   ]
  },
  {
   "cell_type": "markdown",
   "metadata": {},
   "source": [
    "IF BSOL en NRO_DOC, trimmear los primeros 4 caracteres."
   ]
  },
  {
   "cell_type": "code",
   "execution_count": 87,
   "metadata": {
    "scrolled": true
   },
   "outputs": [],
   "source": [
    "#df_export_mails.loc[df_export_mails['IDMOROSO'].str.startswith('BSOL',na=False), 'NRO_DOC'] = df_export_mails['IDMOROSO'].str.slice(start=4)"
   ]
  },
  {
   "cell_type": "code",
   "execution_count": 88,
   "metadata": {},
   "outputs": [],
   "source": [
    "df_export_mails.loc[df_export_mails['NRO_DOC'].str.startswith('Ing',na=False), 'NRO_DOC'] = np.nan"
   ]
  },
  {
   "cell_type": "code",
   "execution_count": 89,
   "metadata": {},
   "outputs": [],
   "source": [
    "df_export_mails = df_export_mails.astype({'CUIT_CUIL': 'str'})"
   ]
  },
  {
   "cell_type": "code",
   "execution_count": 90,
   "metadata": {},
   "outputs": [],
   "source": [
    "df_export_mails['CUIT_CUIL'] = df_export_mails['CUIT_CUIL'].str.strip()"
   ]
  },
  {
   "cell_type": "code",
   "execution_count": 91,
   "metadata": {},
   "outputs": [],
   "source": [
    "df_export_mails.loc[df_export_mails['CUIT_CUIL'].str.startswith('Ing',na=False), 'CUIT_CUIL'] = np.nan"
   ]
  },
  {
   "cell_type": "code",
   "execution_count": 92,
   "metadata": {},
   "outputs": [
    {
     "data": {
      "text/plain": [
       "8"
      ]
     },
     "execution_count": 92,
     "metadata": {},
     "output_type": "execute_result"
    }
   ],
   "source": [
    "len(df_export_mails['CUIT_CUIL'][132678])"
   ]
  },
  {
   "cell_type": "code",
   "execution_count": 93,
   "metadata": {
    "scrolled": true
   },
   "outputs": [
    {
     "data": {
      "text/html": [
       "<div>\n",
       "<style scoped>\n",
       "    .dataframe tbody tr th:only-of-type {\n",
       "        vertical-align: middle;\n",
       "    }\n",
       "\n",
       "    .dataframe tbody tr th {\n",
       "        vertical-align: top;\n",
       "    }\n",
       "\n",
       "    .dataframe thead th {\n",
       "        text-align: right;\n",
       "    }\n",
       "</style>\n",
       "<table border=\"1\" class=\"dataframe\">\n",
       "  <thead>\n",
       "    <tr style=\"text-align: right;\">\n",
       "      <th></th>\n",
       "      <th>IDMOROSO</th>\n",
       "      <th>TIPO_DOC</th>\n",
       "      <th>NRO_DOC</th>\n",
       "      <th>CUIT_CUIL</th>\n",
       "      <th>TIPO</th>\n",
       "      <th>SUBTIPO</th>\n",
       "      <th>DATO</th>\n",
       "      <th>PROPIETARIO_DATO</th>\n",
       "      <th>PROVEEDOR_DATO</th>\n",
       "      <th>FECHA_INGRESO_DATO</th>\n",
       "      <th>VERIFICADO</th>\n",
       "      <th>FECHA_VERIFICACION</th>\n",
       "      <th>OPERADOR_VERIFICACION</th>\n",
       "      <th>SCORE_DATO</th>\n",
       "    </tr>\n",
       "  </thead>\n",
       "  <tbody>\n",
       "    <tr>\n",
       "      <th>132652</th>\n",
       "      <td>RMS376408462261000</td>\n",
       "      <td>DNI</td>\n",
       "      <td>6719393</td>\n",
       "      <td>6719393</td>\n",
       "      <td>EMAIL</td>\n",
       "      <td>PERSONAL</td>\n",
       "      <td>leobressi@gmail.com</td>\n",
       "      <td>Propio</td>\n",
       "      <td>AT</td>\n",
       "      <td>2021-01-15 13:51:42.812793</td>\n",
       "      <td>False</td>\n",
       "      <td>NaN</td>\n",
       "      <td>NaN</td>\n",
       "      <td>4.0</td>\n",
       "    </tr>\n",
       "  </tbody>\n",
       "</table>\n",
       "</div>"
      ],
      "text/plain": [
       "                  IDMOROSO TIPO_DOC  NRO_DOC CUIT_CUIL   TIPO   SUBTIPO  \\\n",
       "132652  RMS376408462261000      DNI  6719393   6719393  EMAIL  PERSONAL   \n",
       "\n",
       "                       DATO PROPIETARIO_DATO PROVEEDOR_DATO  \\\n",
       "132652  leobressi@gmail.com           Propio             AT   \n",
       "\n",
       "                FECHA_INGRESO_DATO  VERIFICADO  FECHA_VERIFICACION  \\\n",
       "132652  2021-01-15 13:51:42.812793       False                 NaN   \n",
       "\n",
       "        OPERADOR_VERIFICACION  SCORE_DATO  \n",
       "132652                    NaN         4.0  "
      ]
     },
     "execution_count": 93,
     "metadata": {},
     "output_type": "execute_result"
    }
   ],
   "source": [
    "df_export_mails[df_export_mails['IDMOROSO']== 'RMS376408462261000']"
   ]
  },
  {
   "cell_type": "code",
   "execution_count": 94,
   "metadata": {},
   "outputs": [],
   "source": [
    "#df_export_mails.loc[df_export_mails['CUIT_CUIL'].str.len() < 11, 'CUIT_CUIL'] = np.nan"
   ]
  },
  {
   "cell_type": "code",
   "execution_count": 95,
   "metadata": {},
   "outputs": [],
   "source": [
    "df_export_mails.loc[df_export_mails['IDMOROSO'].str.startswith('CUIT',na=False), 'CUIT_CUIL'] = df_export_mails['NRO_DOC']"
   ]
  },
  {
   "cell_type": "code",
   "execution_count": 96,
   "metadata": {},
   "outputs": [
    {
     "data": {
      "text/html": [
       "<div>\n",
       "<style scoped>\n",
       "    .dataframe tbody tr th:only-of-type {\n",
       "        vertical-align: middle;\n",
       "    }\n",
       "\n",
       "    .dataframe tbody tr th {\n",
       "        vertical-align: top;\n",
       "    }\n",
       "\n",
       "    .dataframe thead th {\n",
       "        text-align: right;\n",
       "    }\n",
       "</style>\n",
       "<table border=\"1\" class=\"dataframe\">\n",
       "  <thead>\n",
       "    <tr style=\"text-align: right;\">\n",
       "      <th></th>\n",
       "      <th>IDMOROSO</th>\n",
       "      <th>TIPO_DOC</th>\n",
       "      <th>NRO_DOC</th>\n",
       "      <th>CUIT_CUIL</th>\n",
       "      <th>TIPO</th>\n",
       "      <th>SUBTIPO</th>\n",
       "      <th>DATO</th>\n",
       "      <th>PROPIETARIO_DATO</th>\n",
       "      <th>PROVEEDOR_DATO</th>\n",
       "      <th>FECHA_INGRESO_DATO</th>\n",
       "      <th>VERIFICADO</th>\n",
       "      <th>FECHA_VERIFICACION</th>\n",
       "      <th>OPERADOR_VERIFICACION</th>\n",
       "      <th>SCORE_DATO</th>\n",
       "    </tr>\n",
       "  </thead>\n",
       "  <tbody>\n",
       "    <tr>\n",
       "      <th>132652</th>\n",
       "      <td>RMS376408462261000</td>\n",
       "      <td>DNI</td>\n",
       "      <td>6719393</td>\n",
       "      <td>6719393</td>\n",
       "      <td>EMAIL</td>\n",
       "      <td>PERSONAL</td>\n",
       "      <td>leobressi@gmail.com</td>\n",
       "      <td>Propio</td>\n",
       "      <td>AT</td>\n",
       "      <td>2021-01-15 13:51:42.812793</td>\n",
       "      <td>False</td>\n",
       "      <td>NaN</td>\n",
       "      <td>NaN</td>\n",
       "      <td>4.0</td>\n",
       "    </tr>\n",
       "  </tbody>\n",
       "</table>\n",
       "</div>"
      ],
      "text/plain": [
       "                  IDMOROSO TIPO_DOC  NRO_DOC CUIT_CUIL   TIPO   SUBTIPO  \\\n",
       "132652  RMS376408462261000      DNI  6719393   6719393  EMAIL  PERSONAL   \n",
       "\n",
       "                       DATO PROPIETARIO_DATO PROVEEDOR_DATO  \\\n",
       "132652  leobressi@gmail.com           Propio             AT   \n",
       "\n",
       "                FECHA_INGRESO_DATO  VERIFICADO  FECHA_VERIFICACION  \\\n",
       "132652  2021-01-15 13:51:42.812793       False                 NaN   \n",
       "\n",
       "        OPERADOR_VERIFICACION  SCORE_DATO  \n",
       "132652                    NaN         4.0  "
      ]
     },
     "execution_count": 96,
     "metadata": {},
     "output_type": "execute_result"
    }
   ],
   "source": [
    "df_export_mails[df_export_mails['IDMOROSO']== 'RMS376408462261000']"
   ]
  },
  {
   "cell_type": "code",
   "execution_count": 97,
   "metadata": {},
   "outputs": [
    {
     "data": {
      "text/html": [
       "<div>\n",
       "<style scoped>\n",
       "    .dataframe tbody tr th:only-of-type {\n",
       "        vertical-align: middle;\n",
       "    }\n",
       "\n",
       "    .dataframe tbody tr th {\n",
       "        vertical-align: top;\n",
       "    }\n",
       "\n",
       "    .dataframe thead th {\n",
       "        text-align: right;\n",
       "    }\n",
       "</style>\n",
       "<table border=\"1\" class=\"dataframe\">\n",
       "  <thead>\n",
       "    <tr style=\"text-align: right;\">\n",
       "      <th></th>\n",
       "      <th>IDMOROSO</th>\n",
       "      <th>TIPO_DOC</th>\n",
       "      <th>NRO_DOC</th>\n",
       "      <th>CUIT_CUIL</th>\n",
       "      <th>TIPO</th>\n",
       "      <th>SUBTIPO</th>\n",
       "      <th>DATO</th>\n",
       "      <th>PROPIETARIO_DATO</th>\n",
       "      <th>PROVEEDOR_DATO</th>\n",
       "      <th>FECHA_INGRESO_DATO</th>\n",
       "      <th>VERIFICADO</th>\n",
       "      <th>FECHA_VERIFICACION</th>\n",
       "      <th>OPERADOR_VERIFICACION</th>\n",
       "      <th>SCORE_DATO</th>\n",
       "    </tr>\n",
       "  </thead>\n",
       "  <tbody>\n",
       "  </tbody>\n",
       "</table>\n",
       "</div>"
      ],
      "text/plain": [
       "Empty DataFrame\n",
       "Columns: [IDMOROSO, TIPO_DOC, NRO_DOC, CUIT_CUIL, TIPO, SUBTIPO, DATO, PROPIETARIO_DATO, PROVEEDOR_DATO, FECHA_INGRESO_DATO, VERIFICADO, FECHA_VERIFICACION, OPERADOR_VERIFICACION, SCORE_DATO]\n",
       "Index: []"
      ]
     },
     "execution_count": 97,
     "metadata": {},
     "output_type": "execute_result"
    }
   ],
   "source": [
    "df_export_mails[df_export_mails.index.duplicated()] #indices duplicados al hacer el concat"
   ]
  },
  {
   "cell_type": "code",
   "execution_count": 98,
   "metadata": {},
   "outputs": [],
   "source": [
    "df_export_mails.loc[df_export_mails['NRO_DOC'].str.contains('$',regex=False,na=False), 'NRO_DOC'] = np.nan"
   ]
  },
  {
   "cell_type": "code",
   "execution_count": 99,
   "metadata": {},
   "outputs": [],
   "source": [
    "df_export_mails.loc[df_export_mails['NRO_DOC'].str.contains('-',regex=False,na=False), 'NRO_DOC'] = np.nan"
   ]
  },
  {
   "cell_type": "code",
   "execution_count": 100,
   "metadata": {},
   "outputs": [],
   "source": [
    "df_export_mails.loc[df_export_mails['CUIT_CUIL'].str.contains('$',regex=False,na=False), 'CUIT_CUIL'] = np.nan"
   ]
  },
  {
   "cell_type": "code",
   "execution_count": 101,
   "metadata": {},
   "outputs": [],
   "source": [
    "df_export_mails.loc[df_export_mails['CUIT_CUIL'].str.contains('-',regex=False,na=False), 'CUIT_CUIL'] = np.nan"
   ]
  },
  {
   "cell_type": "code",
   "execution_count": 102,
   "metadata": {},
   "outputs": [],
   "source": [
    "df_export_mails.loc[df_export_mails['NRO_DOC'] == 'nan', 'NRO_DOC'] = np.nan"
   ]
  },
  {
   "cell_type": "code",
   "execution_count": 103,
   "metadata": {},
   "outputs": [],
   "source": [
    "df_export_mails.loc[df_export_mails['CUIT_CUIL'] == 'nan', 'CUIT_CUIL'] = np.nan"
   ]
  },
  {
   "cell_type": "code",
   "execution_count": 104,
   "metadata": {},
   "outputs": [],
   "source": [
    "prefijos_dni = ('DNIF','DNIM')"
   ]
  },
  {
   "cell_type": "code",
   "execution_count": 105,
   "metadata": {},
   "outputs": [],
   "source": [
    "df_export_mails.loc[df_export_mails['IDMOROSO'].str.startswith(prefijos_dni,na=False), 'TIPO_DOC'] = 'DNI'"
   ]
  },
  {
   "cell_type": "code",
   "execution_count": 106,
   "metadata": {},
   "outputs": [],
   "source": [
    "def subst_char (string):\n",
    "    x = re.sub(\"[^0-9]\", \"\", str(string))\n",
    "    return x"
   ]
  },
  {
   "cell_type": "code",
   "execution_count": 107,
   "metadata": {},
   "outputs": [],
   "source": [
    "df_export_mails['NRO_DOC'] = df_export_mails.apply(lambda x: subst_char(x['NRO_DOC']), axis=1)"
   ]
  },
  {
   "cell_type": "code",
   "execution_count": 108,
   "metadata": {},
   "outputs": [],
   "source": [
    "df_export_mails['CUIT_CUIL'] = df_export_mails.apply(lambda x: subst_char(x['CUIT_CUIL']), axis=1)"
   ]
  },
  {
   "cell_type": "code",
   "execution_count": 109,
   "metadata": {},
   "outputs": [
    {
     "data": {
      "text/plain": [
       "(277578, 14)"
      ]
     },
     "execution_count": 109,
     "metadata": {},
     "output_type": "execute_result"
    }
   ],
   "source": [
    "df_export_mails.shape"
   ]
  },
  {
   "cell_type": "code",
   "execution_count": 110,
   "metadata": {},
   "outputs": [],
   "source": [
    "df_export_mails.loc[df_export_mails['CUIT_CUIL'].str.len() < 11, 'CUIT_CUIL'] = np.nan"
   ]
  },
  {
   "cell_type": "markdown",
   "metadata": {},
   "source": [
    "## No tiene mail"
   ]
  },
  {
   "cell_type": "code",
   "execution_count": 111,
   "metadata": {},
   "outputs": [],
   "source": [
    "df_export_mails.loc[df_export_mails['DATO'].str.contains('notiene',regex=False,na=False), 'DATO'] = np.nan"
   ]
  },
  {
   "cell_type": "code",
   "execution_count": 112,
   "metadata": {},
   "outputs": [],
   "source": [
    "df_export_mails.loc[df_export_mails['DATO'].str.contains('sinmail',regex=False,na=False), 'DATO'] = np.nan"
   ]
  },
  {
   "cell_type": "code",
   "execution_count": 113,
   "metadata": {},
   "outputs": [],
   "source": [
    "df_export_mails.loc[df_export_mails['DATO'] == 'no@no.com', 'DATO'] = np.nan"
   ]
  },
  {
   "cell_type": "code",
   "execution_count": 114,
   "metadata": {},
   "outputs": [],
   "source": [
    "df_export_mails.loc[df_export_mails['DATO'] == 'nono@no.com', 'DATO'] = np.nan"
   ]
  },
  {
   "cell_type": "code",
   "execution_count": 115,
   "metadata": {},
   "outputs": [],
   "source": [
    "df_export_mails.loc[df_export_mails['DATO'] == 'nono@nono.com', 'DATO'] = np.nan"
   ]
  },
  {
   "cell_type": "code",
   "execution_count": 116,
   "metadata": {},
   "outputs": [],
   "source": [
    "df_export_mails.loc[df_export_mails['DATO'] == 'nonono@no.com', 'DATO'] = np.nan"
   ]
  },
  {
   "cell_type": "code",
   "execution_count": 117,
   "metadata": {},
   "outputs": [],
   "source": [
    "df_export_mails.loc[df_export_mails['DATO'] == 'no@no.com.ar', 'DATO'] = np.nan"
   ]
  },
  {
   "cell_type": "code",
   "execution_count": 118,
   "metadata": {},
   "outputs": [],
   "source": [
    "df_export_mails = df_export_mails.dropna(subset=['DATO'])"
   ]
  },
  {
   "cell_type": "code",
   "execution_count": 119,
   "metadata": {},
   "outputs": [],
   "source": [
    "df_export_mails['DATO'] = df_export_mails['DATO'].str.slice(stop=100)"
   ]
  },
  {
   "cell_type": "code",
   "execution_count": 120,
   "metadata": {},
   "outputs": [
    {
     "data": {
      "text/plain": [
       "(276496, 14)"
      ]
     },
     "execution_count": 120,
     "metadata": {},
     "output_type": "execute_result"
    }
   ],
   "source": [
    "df_export_mails.shape"
   ]
  },
  {
   "cell_type": "markdown",
   "metadata": {},
   "source": [
    "# Issue"
   ]
  },
  {
   "cell_type": "markdown",
   "metadata": {},
   "source": [
    "Hay 36 casos que tienen una string demasiado larga y hay problemas con la inserción."
   ]
  },
  {
   "cell_type": "code",
   "execution_count": 121,
   "metadata": {},
   "outputs": [],
   "source": [
    "issued_data = df_export_mails[df_export_mails['DATO'].str.len()>50]"
   ]
  },
  {
   "cell_type": "code",
   "execution_count": 122,
   "metadata": {},
   "outputs": [],
   "source": [
    "df_export_mails = df_export_mails[df_export_mails['DATO'].str.len()<=50]"
   ]
  },
  {
   "cell_type": "code",
   "execution_count": 123,
   "metadata": {},
   "outputs": [
    {
     "data": {
      "text/plain": [
       "(276460, 14)"
      ]
     },
     "execution_count": 123,
     "metadata": {},
     "output_type": "execute_result"
    }
   ],
   "source": [
    "df_export_mails.shape"
   ]
  },
  {
   "cell_type": "code",
   "execution_count": 124,
   "metadata": {},
   "outputs": [
    {
     "data": {
      "text/plain": [
       "(36, 14)"
      ]
     },
     "execution_count": 124,
     "metadata": {},
     "output_type": "execute_result"
    }
   ],
   "source": [
    "issued_data.shape"
   ]
  },
  {
   "cell_type": "code",
   "execution_count": 125,
   "metadata": {},
   "outputs": [
    {
     "data": {
      "text/html": [
       "<div>\n",
       "<style scoped>\n",
       "    .dataframe tbody tr th:only-of-type {\n",
       "        vertical-align: middle;\n",
       "    }\n",
       "\n",
       "    .dataframe tbody tr th {\n",
       "        vertical-align: top;\n",
       "    }\n",
       "\n",
       "    .dataframe thead th {\n",
       "        text-align: right;\n",
       "    }\n",
       "</style>\n",
       "<table border=\"1\" class=\"dataframe\">\n",
       "  <thead>\n",
       "    <tr style=\"text-align: right;\">\n",
       "      <th></th>\n",
       "      <th>IDMOROSO</th>\n",
       "      <th>TIPO_DOC</th>\n",
       "      <th>NRO_DOC</th>\n",
       "      <th>CUIT_CUIL</th>\n",
       "      <th>TIPO</th>\n",
       "      <th>SUBTIPO</th>\n",
       "      <th>DATO</th>\n",
       "      <th>PROPIETARIO_DATO</th>\n",
       "      <th>PROVEEDOR_DATO</th>\n",
       "      <th>FECHA_INGRESO_DATO</th>\n",
       "      <th>VERIFICADO</th>\n",
       "      <th>FECHA_VERIFICACION</th>\n",
       "      <th>OPERADOR_VERIFICACION</th>\n",
       "      <th>SCORE_DATO</th>\n",
       "    </tr>\n",
       "  </thead>\n",
       "  <tbody>\n",
       "    <tr>\n",
       "      <th>0</th>\n",
       "      <td>DNI 29492319</td>\n",
       "      <td>DNI</td>\n",
       "      <td>29492319</td>\n",
       "      <td>NaN</td>\n",
       "      <td>EMAIL</td>\n",
       "      <td>PERSONAL</td>\n",
       "      <td>abartolome@expresooronegro.com</td>\n",
       "      <td>Propio</td>\n",
       "      <td>AT</td>\n",
       "      <td>2021-01-14 15:44:04.774014</td>\n",
       "      <td>False</td>\n",
       "      <td>NaN</td>\n",
       "      <td>NaN</td>\n",
       "      <td>4.0</td>\n",
       "    </tr>\n",
       "    <tr>\n",
       "      <th>1</th>\n",
       "      <td>DNI 12623904</td>\n",
       "      <td>DNI</td>\n",
       "      <td>12623904</td>\n",
       "      <td>NaN</td>\n",
       "      <td>EMAIL</td>\n",
       "      <td>PERSONAL</td>\n",
       "      <td>mledesma@unimoron.edu.ar</td>\n",
       "      <td>Propio</td>\n",
       "      <td>AT</td>\n",
       "      <td>2021-01-14 15:44:04.774014</td>\n",
       "      <td>False</td>\n",
       "      <td>NaN</td>\n",
       "      <td>NaN</td>\n",
       "      <td>4.0</td>\n",
       "    </tr>\n",
       "    <tr>\n",
       "      <th>2</th>\n",
       "      <td>DNI 26218371</td>\n",
       "      <td>DNI</td>\n",
       "      <td>26218371</td>\n",
       "      <td>NaN</td>\n",
       "      <td>EMAIL</td>\n",
       "      <td>PERSONAL</td>\n",
       "      <td>martin.chuquer@mastergarden.com.ar</td>\n",
       "      <td>Propio</td>\n",
       "      <td>AT</td>\n",
       "      <td>2021-01-14 15:44:04.774014</td>\n",
       "      <td>False</td>\n",
       "      <td>NaN</td>\n",
       "      <td>NaN</td>\n",
       "      <td>4.0</td>\n",
       "    </tr>\n",
       "    <tr>\n",
       "      <th>3</th>\n",
       "      <td>DNI 25597304</td>\n",
       "      <td>DNI</td>\n",
       "      <td>25597304</td>\n",
       "      <td>NaN</td>\n",
       "      <td>EMAIL</td>\n",
       "      <td>PERSONAL</td>\n",
       "      <td>jmurua@mymultilevel.com</td>\n",
       "      <td>Propio</td>\n",
       "      <td>AT</td>\n",
       "      <td>2021-01-14 15:44:04.774014</td>\n",
       "      <td>False</td>\n",
       "      <td>NaN</td>\n",
       "      <td>NaN</td>\n",
       "      <td>4.0</td>\n",
       "    </tr>\n",
       "    <tr>\n",
       "      <th>4</th>\n",
       "      <td>LE  6755082</td>\n",
       "      <td>LE</td>\n",
       "      <td>6755082</td>\n",
       "      <td>NaN</td>\n",
       "      <td>EMAIL</td>\n",
       "      <td>PERSONAL</td>\n",
       "      <td>efpisatti@speedy.com.ar</td>\n",
       "      <td>Propio</td>\n",
       "      <td>AT</td>\n",
       "      <td>2021-01-14 15:44:04.774014</td>\n",
       "      <td>False</td>\n",
       "      <td>NaN</td>\n",
       "      <td>NaN</td>\n",
       "      <td>4.0</td>\n",
       "    </tr>\n",
       "  </tbody>\n",
       "</table>\n",
       "</div>"
      ],
      "text/plain": [
       "             IDMOROSO TIPO_DOC   NRO_DOC CUIT_CUIL   TIPO   SUBTIPO  \\\n",
       "0  DNI 29492319            DNI  29492319       NaN  EMAIL  PERSONAL   \n",
       "1  DNI 12623904            DNI  12623904       NaN  EMAIL  PERSONAL   \n",
       "2  DNI 26218371            DNI  26218371       NaN  EMAIL  PERSONAL   \n",
       "3  DNI 25597304            DNI  25597304       NaN  EMAIL  PERSONAL   \n",
       "4  LE  6755082              LE   6755082       NaN  EMAIL  PERSONAL   \n",
       "\n",
       "                                 DATO PROPIETARIO_DATO PROVEEDOR_DATO  \\\n",
       "0      abartolome@expresooronegro.com           Propio             AT   \n",
       "1            mledesma@unimoron.edu.ar           Propio             AT   \n",
       "2  martin.chuquer@mastergarden.com.ar           Propio             AT   \n",
       "3             jmurua@mymultilevel.com           Propio             AT   \n",
       "4             efpisatti@speedy.com.ar           Propio             AT   \n",
       "\n",
       "           FECHA_INGRESO_DATO  VERIFICADO  FECHA_VERIFICACION  \\\n",
       "0  2021-01-14 15:44:04.774014       False                 NaN   \n",
       "1  2021-01-14 15:44:04.774014       False                 NaN   \n",
       "2  2021-01-14 15:44:04.774014       False                 NaN   \n",
       "3  2021-01-14 15:44:04.774014       False                 NaN   \n",
       "4  2021-01-14 15:44:04.774014       False                 NaN   \n",
       "\n",
       "   OPERADOR_VERIFICACION  SCORE_DATO  \n",
       "0                    NaN         4.0  \n",
       "1                    NaN         4.0  \n",
       "2                    NaN         4.0  \n",
       "3                    NaN         4.0  \n",
       "4                    NaN         4.0  "
      ]
     },
     "execution_count": 125,
     "metadata": {},
     "output_type": "execute_result"
    }
   ],
   "source": [
    "df_export_mails.head()"
   ]
  },
  {
   "cell_type": "code",
   "execution_count": 126,
   "metadata": {},
   "outputs": [],
   "source": [
    "df_export_mails.to_csv('D:\\MOPC\\Enriquecimiento de Datos\\Data Cleaning\\Active\\Exports\\DAM_CONTACTABILIDAD\\AT_DAM_CONTACTABILIDAD_mails_1501.csv',index=False)"
   ]
  },
  {
   "cell_type": "code",
   "execution_count": 127,
   "metadata": {},
   "outputs": [],
   "source": [
    "issued_data.to_csv('D:\\MOPC\\Enriquecimiento de Datos\\Data Cleaning\\Active\\Exports\\DAM_CONTACTABILIDAD\\AT_DAM_CONTACTABILIDAD_mails_1501_2.csv',index=False)"
   ]
  },
  {
   "cell_type": "code",
   "execution_count": null,
   "metadata": {},
   "outputs": [],
   "source": []
  }
 ],
 "metadata": {
  "kernelspec": {
   "display_name": "Python 3",
   "language": "python",
   "name": "python3"
  },
  "language_info": {
   "codemirror_mode": {
    "name": "ipython",
    "version": 3
   },
   "file_extension": ".py",
   "mimetype": "text/x-python",
   "name": "python",
   "nbconvert_exporter": "python",
   "pygments_lexer": "ipython3",
   "version": "3.8.6"
  }
 },
 "nbformat": 4,
 "nbformat_minor": 4
}
