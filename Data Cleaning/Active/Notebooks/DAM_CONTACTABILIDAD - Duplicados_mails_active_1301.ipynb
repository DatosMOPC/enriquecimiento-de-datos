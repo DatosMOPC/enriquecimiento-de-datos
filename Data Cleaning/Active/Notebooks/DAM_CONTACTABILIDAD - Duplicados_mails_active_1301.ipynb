{
 "cells": [
  {
   "cell_type": "code",
   "execution_count": 1,
   "metadata": {},
   "outputs": [],
   "source": [
    "import pandas as pd\n",
    "import numpy as np"
   ]
  },
  {
   "cell_type": "code",
   "execution_count": 2,
   "metadata": {},
   "outputs": [],
   "source": [
    "df = pd.read_csv('dups_mail.csv')"
   ]
  },
  {
   "cell_type": "code",
   "execution_count": 3,
   "metadata": {},
   "outputs": [
    {
     "data": {
      "text/html": [
       "<div>\n",
       "<style scoped>\n",
       "    .dataframe tbody tr th:only-of-type {\n",
       "        vertical-align: middle;\n",
       "    }\n",
       "\n",
       "    .dataframe tbody tr th {\n",
       "        vertical-align: top;\n",
       "    }\n",
       "\n",
       "    .dataframe thead th {\n",
       "        text-align: right;\n",
       "    }\n",
       "</style>\n",
       "<table border=\"1\" class=\"dataframe\">\n",
       "  <thead>\n",
       "    <tr style=\"text-align: right;\">\n",
       "      <th></th>\n",
       "      <th>IDMOROSO</th>\n",
       "      <th>TIPO_DOC</th>\n",
       "      <th>NRO_DOC</th>\n",
       "      <th>CUIT_CUIL</th>\n",
       "      <th>TIPO</th>\n",
       "      <th>SUBTIPO</th>\n",
       "      <th>DATO</th>\n",
       "      <th>PROPIETARIO_DATO</th>\n",
       "      <th>PROVEEDOR_DATO</th>\n",
       "      <th>FECHA_INGRESO_DATO</th>\n",
       "      <th>VERIFICADO</th>\n",
       "      <th>FECHA_VERIFICACION</th>\n",
       "      <th>OPERADOR_VERIFICACION</th>\n",
       "      <th>SCORE_DATO</th>\n",
       "    </tr>\n",
       "  </thead>\n",
       "  <tbody>\n",
       "    <tr>\n",
       "      <th>0</th>\n",
       "      <td>DNI 29492319</td>\n",
       "      <td>DNI</td>\n",
       "      <td>29492319</td>\n",
       "      <td>NaN</td>\n",
       "      <td>EMAIL</td>\n",
       "      <td>PERSONAL</td>\n",
       "      <td>abartolome@expresooronegro.com</td>\n",
       "      <td>Propio</td>\n",
       "      <td>AT</td>\n",
       "      <td>2021-01-14 15:44:04.774014</td>\n",
       "      <td>False</td>\n",
       "      <td>NaN</td>\n",
       "      <td>NaN</td>\n",
       "      <td>4.0</td>\n",
       "    </tr>\n",
       "    <tr>\n",
       "      <th>1</th>\n",
       "      <td>DNI 12623904</td>\n",
       "      <td>DNI</td>\n",
       "      <td>12623904</td>\n",
       "      <td>NaN</td>\n",
       "      <td>EMAIL</td>\n",
       "      <td>PERSONAL</td>\n",
       "      <td>mledesma@unimoron.edu.ar</td>\n",
       "      <td>Propio</td>\n",
       "      <td>AT</td>\n",
       "      <td>2021-01-14 15:44:04.774014</td>\n",
       "      <td>False</td>\n",
       "      <td>NaN</td>\n",
       "      <td>NaN</td>\n",
       "      <td>4.0</td>\n",
       "    </tr>\n",
       "    <tr>\n",
       "      <th>2</th>\n",
       "      <td>DNI 29492319</td>\n",
       "      <td>DNI</td>\n",
       "      <td>29492319</td>\n",
       "      <td>NaN</td>\n",
       "      <td>EMAIL</td>\n",
       "      <td>LABORAL</td>\n",
       "      <td>abartolome@expresooronegro.com</td>\n",
       "      <td>Propio</td>\n",
       "      <td>AT</td>\n",
       "      <td>2021-01-14 15:44:04.774014</td>\n",
       "      <td>False</td>\n",
       "      <td>NaN</td>\n",
       "      <td>NaN</td>\n",
       "      <td>3.0</td>\n",
       "    </tr>\n",
       "    <tr>\n",
       "      <th>3</th>\n",
       "      <td>DNI 12623904</td>\n",
       "      <td>DNI</td>\n",
       "      <td>12623904</td>\n",
       "      <td>NaN</td>\n",
       "      <td>EMAIL</td>\n",
       "      <td>LABORAL</td>\n",
       "      <td>mledesma@unimoron.edu.ar</td>\n",
       "      <td>Propio</td>\n",
       "      <td>AT</td>\n",
       "      <td>2021-01-14 15:44:04.774014</td>\n",
       "      <td>False</td>\n",
       "      <td>NaN</td>\n",
       "      <td>NaN</td>\n",
       "      <td>3.0</td>\n",
       "    </tr>\n",
       "    <tr>\n",
       "      <th>4</th>\n",
       "      <td>DNI 26218371</td>\n",
       "      <td>DNI</td>\n",
       "      <td>26218371</td>\n",
       "      <td>NaN</td>\n",
       "      <td>EMAIL</td>\n",
       "      <td>PERSONAL</td>\n",
       "      <td>martin.chuquer@mastergarden.com.ar</td>\n",
       "      <td>Propio</td>\n",
       "      <td>AT</td>\n",
       "      <td>2021-01-14 15:44:04.774014</td>\n",
       "      <td>False</td>\n",
       "      <td>NaN</td>\n",
       "      <td>NaN</td>\n",
       "      <td>4.0</td>\n",
       "    </tr>\n",
       "  </tbody>\n",
       "</table>\n",
       "</div>"
      ],
      "text/plain": [
       "             IDMOROSO TIPO_DOC   NRO_DOC  CUIT_CUIL   TIPO   SUBTIPO  \\\n",
       "0  DNI 29492319            DNI  29492319        NaN  EMAIL  PERSONAL   \n",
       "1  DNI 12623904            DNI  12623904        NaN  EMAIL  PERSONAL   \n",
       "2  DNI 29492319            DNI  29492319        NaN  EMAIL   LABORAL   \n",
       "3  DNI 12623904            DNI  12623904        NaN  EMAIL   LABORAL   \n",
       "4  DNI 26218371            DNI  26218371        NaN  EMAIL  PERSONAL   \n",
       "\n",
       "                                 DATO PROPIETARIO_DATO PROVEEDOR_DATO  \\\n",
       "0      abartolome@expresooronegro.com           Propio             AT   \n",
       "1            mledesma@unimoron.edu.ar           Propio             AT   \n",
       "2      abartolome@expresooronegro.com           Propio             AT   \n",
       "3            mledesma@unimoron.edu.ar           Propio             AT   \n",
       "4  martin.chuquer@mastergarden.com.ar           Propio             AT   \n",
       "\n",
       "           FECHA_INGRESO_DATO  VERIFICADO  FECHA_VERIFICACION  \\\n",
       "0  2021-01-14 15:44:04.774014       False                 NaN   \n",
       "1  2021-01-14 15:44:04.774014       False                 NaN   \n",
       "2  2021-01-14 15:44:04.774014       False                 NaN   \n",
       "3  2021-01-14 15:44:04.774014       False                 NaN   \n",
       "4  2021-01-14 15:44:04.774014       False                 NaN   \n",
       "\n",
       "   OPERADOR_VERIFICACION  SCORE_DATO  \n",
       "0                    NaN         4.0  \n",
       "1                    NaN         4.0  \n",
       "2                    NaN         3.0  \n",
       "3                    NaN         3.0  \n",
       "4                    NaN         4.0  "
      ]
     },
     "execution_count": 3,
     "metadata": {},
     "output_type": "execute_result"
    }
   ],
   "source": [
    "df.head()"
   ]
  },
  {
   "cell_type": "code",
   "execution_count": 4,
   "metadata": {},
   "outputs": [
    {
     "data": {
      "text/plain": [
       "(22, 14)"
      ]
     },
     "execution_count": 4,
     "metadata": {},
     "output_type": "execute_result"
    }
   ],
   "source": [
    "df.shape"
   ]
  },
  {
   "cell_type": "code",
   "execution_count": 5,
   "metadata": {},
   "outputs": [],
   "source": [
    "#df = df.drop_duplicates(subset=['IDMOROSO','TIPO_DOC','NRO_DOC','CUIT_CUIL','TIPO','SUBTIPO','DATO','PROPIETARIO_DATO'\n",
    "#                               ,'PROVEEDOR_DATO','FECHA_INGRESO_DATO','VERIFICADO','FECHA_VERIFICACION'\n",
    "#                               ,'OPERADOR_VERIFICACION','SCORE_DATO'])"
   ]
  },
  {
   "cell_type": "code",
   "execution_count": 6,
   "metadata": {},
   "outputs": [],
   "source": [
    "df = df.drop_duplicates()"
   ]
  },
  {
   "cell_type": "code",
   "execution_count": 7,
   "metadata": {},
   "outputs": [
    {
     "data": {
      "text/plain": [
       "(22, 14)"
      ]
     },
     "execution_count": 7,
     "metadata": {},
     "output_type": "execute_result"
    }
   ],
   "source": [
    "df.shape"
   ]
  },
  {
   "cell_type": "code",
   "execution_count": 8,
   "metadata": {},
   "outputs": [],
   "source": [
    "#df.groupby(['IDMOROSO', 'PROVEEDOR_DATO', 'DATO']).count()"
   ]
  },
  {
   "cell_type": "markdown",
   "metadata": {},
   "source": [
    "## Dato a str + strip()"
   ]
  },
  {
   "cell_type": "code",
   "execution_count": 9,
   "metadata": {},
   "outputs": [],
   "source": [
    "df ['DATO'] = df['DATO'].astype(str)"
   ]
  },
  {
   "cell_type": "code",
   "execution_count": 10,
   "metadata": {},
   "outputs": [],
   "source": [
    "df['DATO'] = df['DATO'].str.strip()"
   ]
  },
  {
   "cell_type": "markdown",
   "metadata": {},
   "source": [
    "## Verificados"
   ]
  },
  {
   "cell_type": "markdown",
   "metadata": {},
   "source": [
    "Si verificado es false, pasamos a NaN la fecha de verificación"
   ]
  },
  {
   "cell_type": "code",
   "execution_count": 11,
   "metadata": {},
   "outputs": [],
   "source": [
    "df.loc[df['VERIFICADO'] == False, 'FECHA_VERIFICACION'] = np.nan"
   ]
  },
  {
   "cell_type": "code",
   "execution_count": 12,
   "metadata": {
    "scrolled": true
   },
   "outputs": [
    {
     "data": {
      "text/html": [
       "<div>\n",
       "<style scoped>\n",
       "    .dataframe tbody tr th:only-of-type {\n",
       "        vertical-align: middle;\n",
       "    }\n",
       "\n",
       "    .dataframe tbody tr th {\n",
       "        vertical-align: top;\n",
       "    }\n",
       "\n",
       "    .dataframe thead th {\n",
       "        text-align: right;\n",
       "    }\n",
       "</style>\n",
       "<table border=\"1\" class=\"dataframe\">\n",
       "  <thead>\n",
       "    <tr style=\"text-align: right;\">\n",
       "      <th></th>\n",
       "      <th>IDMOROSO</th>\n",
       "      <th>TIPO_DOC</th>\n",
       "      <th>NRO_DOC</th>\n",
       "      <th>CUIT_CUIL</th>\n",
       "      <th>TIPO</th>\n",
       "      <th>SUBTIPO</th>\n",
       "      <th>DATO</th>\n",
       "      <th>PROPIETARIO_DATO</th>\n",
       "      <th>PROVEEDOR_DATO</th>\n",
       "      <th>FECHA_INGRESO_DATO</th>\n",
       "      <th>VERIFICADO</th>\n",
       "      <th>FECHA_VERIFICACION</th>\n",
       "      <th>OPERADOR_VERIFICACION</th>\n",
       "      <th>SCORE_DATO</th>\n",
       "    </tr>\n",
       "  </thead>\n",
       "  <tbody>\n",
       "    <tr>\n",
       "      <th>17</th>\n",
       "      <td>DNI 19040588</td>\n",
       "      <td>DNI</td>\n",
       "      <td>19040588</td>\n",
       "      <td>NaN</td>\n",
       "      <td>EMAIL</td>\n",
       "      <td>LABORAL</td>\n",
       "      <td>rdiaz@securitasargentina.com</td>\n",
       "      <td>Propio</td>\n",
       "      <td>AT</td>\n",
       "      <td>2021-01-14 15:44:04.774014</td>\n",
       "      <td>False</td>\n",
       "      <td>NaN</td>\n",
       "      <td>NaN</td>\n",
       "      <td>3.0</td>\n",
       "    </tr>\n",
       "    <tr>\n",
       "      <th>18</th>\n",
       "      <td>DNI 42006682</td>\n",
       "      <td>DNI</td>\n",
       "      <td>42006682</td>\n",
       "      <td>NaN</td>\n",
       "      <td>EMAIL</td>\n",
       "      <td>LABORAL</td>\n",
       "      <td>nobrinda@nobrinda.com</td>\n",
       "      <td>Propio</td>\n",
       "      <td>AT</td>\n",
       "      <td>2021-01-14 15:44:04.774014</td>\n",
       "      <td>False</td>\n",
       "      <td>NaN</td>\n",
       "      <td>NaN</td>\n",
       "      <td>3.0</td>\n",
       "    </tr>\n",
       "    <tr>\n",
       "      <th>19</th>\n",
       "      <td>DNI 33747009</td>\n",
       "      <td>DNI</td>\n",
       "      <td>33747009</td>\n",
       "      <td>NaN</td>\n",
       "      <td>EMAIL</td>\n",
       "      <td>PERSONAL</td>\n",
       "      <td>glopez@devspark.com</td>\n",
       "      <td>Propio</td>\n",
       "      <td>AT</td>\n",
       "      <td>2021-01-14 15:44:04.774014</td>\n",
       "      <td>False</td>\n",
       "      <td>NaN</td>\n",
       "      <td>NaN</td>\n",
       "      <td>4.0</td>\n",
       "    </tr>\n",
       "    <tr>\n",
       "      <th>20</th>\n",
       "      <td>DNI 27434972</td>\n",
       "      <td>DNI</td>\n",
       "      <td>27434972</td>\n",
       "      <td>NaN</td>\n",
       "      <td>EMAIL</td>\n",
       "      <td>LABORAL</td>\n",
       "      <td>briela@iclaro.com.ar</td>\n",
       "      <td>Propio</td>\n",
       "      <td>AT</td>\n",
       "      <td>2021-01-14 15:44:04.774014</td>\n",
       "      <td>False</td>\n",
       "      <td>NaN</td>\n",
       "      <td>NaN</td>\n",
       "      <td>3.0</td>\n",
       "    </tr>\n",
       "    <tr>\n",
       "      <th>21</th>\n",
       "      <td>DNI 33747009</td>\n",
       "      <td>DNI</td>\n",
       "      <td>33747009</td>\n",
       "      <td>NaN</td>\n",
       "      <td>EMAIL</td>\n",
       "      <td>LABORAL</td>\n",
       "      <td>glopez@devspark.com</td>\n",
       "      <td>Propio</td>\n",
       "      <td>AT</td>\n",
       "      <td>2021-01-14 15:44:04.774014</td>\n",
       "      <td>False</td>\n",
       "      <td>NaN</td>\n",
       "      <td>NaN</td>\n",
       "      <td>3.0</td>\n",
       "    </tr>\n",
       "  </tbody>\n",
       "</table>\n",
       "</div>"
      ],
      "text/plain": [
       "              IDMOROSO TIPO_DOC   NRO_DOC  CUIT_CUIL   TIPO   SUBTIPO  \\\n",
       "17  DNI 19040588            DNI  19040588        NaN  EMAIL   LABORAL   \n",
       "18  DNI 42006682            DNI  42006682        NaN  EMAIL   LABORAL   \n",
       "19  DNI 33747009            DNI  33747009        NaN  EMAIL  PERSONAL   \n",
       "20  DNI 27434972            DNI  27434972        NaN  EMAIL   LABORAL   \n",
       "21  DNI 33747009            DNI  33747009        NaN  EMAIL   LABORAL   \n",
       "\n",
       "                            DATO PROPIETARIO_DATO PROVEEDOR_DATO  \\\n",
       "17  rdiaz@securitasargentina.com           Propio             AT   \n",
       "18         nobrinda@nobrinda.com           Propio             AT   \n",
       "19           glopez@devspark.com           Propio             AT   \n",
       "20          briela@iclaro.com.ar           Propio             AT   \n",
       "21           glopez@devspark.com           Propio             AT   \n",
       "\n",
       "            FECHA_INGRESO_DATO  VERIFICADO  FECHA_VERIFICACION  \\\n",
       "17  2021-01-14 15:44:04.774014       False                 NaN   \n",
       "18  2021-01-14 15:44:04.774014       False                 NaN   \n",
       "19  2021-01-14 15:44:04.774014       False                 NaN   \n",
       "20  2021-01-14 15:44:04.774014       False                 NaN   \n",
       "21  2021-01-14 15:44:04.774014       False                 NaN   \n",
       "\n",
       "    OPERADOR_VERIFICACION  SCORE_DATO  \n",
       "17                    NaN         3.0  \n",
       "18                    NaN         3.0  \n",
       "19                    NaN         4.0  \n",
       "20                    NaN         3.0  \n",
       "21                    NaN         3.0  "
      ]
     },
     "execution_count": 12,
     "metadata": {},
     "output_type": "execute_result"
    }
   ],
   "source": [
    "df.tail()"
   ]
  },
  {
   "cell_type": "markdown",
   "metadata": {},
   "source": [
    "# Subset: Duplicados"
   ]
  },
  {
   "cell_type": "markdown",
   "metadata": {},
   "source": [
    "Me quedo con los todos los que tienen duplicados la combinatoria IDMOROSO, DATO y PROVEEDOR DATO, y reviso qué pasa en cada caso"
   ]
  },
  {
   "cell_type": "code",
   "execution_count": 13,
   "metadata": {},
   "outputs": [],
   "source": [
    "duplicates_subset = df[df.duplicated(subset=['IDMOROSO','DATO','PROVEEDOR_DATO'],keep=False)]"
   ]
  },
  {
   "cell_type": "code",
   "execution_count": 14,
   "metadata": {},
   "outputs": [
    {
     "data": {
      "text/html": [
       "<div>\n",
       "<style scoped>\n",
       "    .dataframe tbody tr th:only-of-type {\n",
       "        vertical-align: middle;\n",
       "    }\n",
       "\n",
       "    .dataframe tbody tr th {\n",
       "        vertical-align: top;\n",
       "    }\n",
       "\n",
       "    .dataframe thead th {\n",
       "        text-align: right;\n",
       "    }\n",
       "</style>\n",
       "<table border=\"1\" class=\"dataframe\">\n",
       "  <thead>\n",
       "    <tr style=\"text-align: right;\">\n",
       "      <th></th>\n",
       "      <th>IDMOROSO</th>\n",
       "      <th>TIPO_DOC</th>\n",
       "      <th>NRO_DOC</th>\n",
       "      <th>CUIT_CUIL</th>\n",
       "      <th>TIPO</th>\n",
       "      <th>SUBTIPO</th>\n",
       "      <th>DATO</th>\n",
       "      <th>PROPIETARIO_DATO</th>\n",
       "      <th>PROVEEDOR_DATO</th>\n",
       "      <th>FECHA_INGRESO_DATO</th>\n",
       "      <th>VERIFICADO</th>\n",
       "      <th>FECHA_VERIFICACION</th>\n",
       "      <th>OPERADOR_VERIFICACION</th>\n",
       "      <th>SCORE_DATO</th>\n",
       "    </tr>\n",
       "  </thead>\n",
       "  <tbody>\n",
       "    <tr>\n",
       "      <th>0</th>\n",
       "      <td>DNI 29492319</td>\n",
       "      <td>DNI</td>\n",
       "      <td>29492319</td>\n",
       "      <td>NaN</td>\n",
       "      <td>EMAIL</td>\n",
       "      <td>PERSONAL</td>\n",
       "      <td>abartolome@expresooronegro.com</td>\n",
       "      <td>Propio</td>\n",
       "      <td>AT</td>\n",
       "      <td>2021-01-14 15:44:04.774014</td>\n",
       "      <td>False</td>\n",
       "      <td>NaN</td>\n",
       "      <td>NaN</td>\n",
       "      <td>4.0</td>\n",
       "    </tr>\n",
       "    <tr>\n",
       "      <th>1</th>\n",
       "      <td>DNI 12623904</td>\n",
       "      <td>DNI</td>\n",
       "      <td>12623904</td>\n",
       "      <td>NaN</td>\n",
       "      <td>EMAIL</td>\n",
       "      <td>PERSONAL</td>\n",
       "      <td>mledesma@unimoron.edu.ar</td>\n",
       "      <td>Propio</td>\n",
       "      <td>AT</td>\n",
       "      <td>2021-01-14 15:44:04.774014</td>\n",
       "      <td>False</td>\n",
       "      <td>NaN</td>\n",
       "      <td>NaN</td>\n",
       "      <td>4.0</td>\n",
       "    </tr>\n",
       "    <tr>\n",
       "      <th>2</th>\n",
       "      <td>DNI 29492319</td>\n",
       "      <td>DNI</td>\n",
       "      <td>29492319</td>\n",
       "      <td>NaN</td>\n",
       "      <td>EMAIL</td>\n",
       "      <td>LABORAL</td>\n",
       "      <td>abartolome@expresooronegro.com</td>\n",
       "      <td>Propio</td>\n",
       "      <td>AT</td>\n",
       "      <td>2021-01-14 15:44:04.774014</td>\n",
       "      <td>False</td>\n",
       "      <td>NaN</td>\n",
       "      <td>NaN</td>\n",
       "      <td>3.0</td>\n",
       "    </tr>\n",
       "    <tr>\n",
       "      <th>3</th>\n",
       "      <td>DNI 12623904</td>\n",
       "      <td>DNI</td>\n",
       "      <td>12623904</td>\n",
       "      <td>NaN</td>\n",
       "      <td>EMAIL</td>\n",
       "      <td>LABORAL</td>\n",
       "      <td>mledesma@unimoron.edu.ar</td>\n",
       "      <td>Propio</td>\n",
       "      <td>AT</td>\n",
       "      <td>2021-01-14 15:44:04.774014</td>\n",
       "      <td>False</td>\n",
       "      <td>NaN</td>\n",
       "      <td>NaN</td>\n",
       "      <td>3.0</td>\n",
       "    </tr>\n",
       "    <tr>\n",
       "      <th>4</th>\n",
       "      <td>DNI 26218371</td>\n",
       "      <td>DNI</td>\n",
       "      <td>26218371</td>\n",
       "      <td>NaN</td>\n",
       "      <td>EMAIL</td>\n",
       "      <td>PERSONAL</td>\n",
       "      <td>martin.chuquer@mastergarden.com.ar</td>\n",
       "      <td>Propio</td>\n",
       "      <td>AT</td>\n",
       "      <td>2021-01-14 15:44:04.774014</td>\n",
       "      <td>False</td>\n",
       "      <td>NaN</td>\n",
       "      <td>NaN</td>\n",
       "      <td>4.0</td>\n",
       "    </tr>\n",
       "  </tbody>\n",
       "</table>\n",
       "</div>"
      ],
      "text/plain": [
       "             IDMOROSO TIPO_DOC   NRO_DOC  CUIT_CUIL   TIPO   SUBTIPO  \\\n",
       "0  DNI 29492319            DNI  29492319        NaN  EMAIL  PERSONAL   \n",
       "1  DNI 12623904            DNI  12623904        NaN  EMAIL  PERSONAL   \n",
       "2  DNI 29492319            DNI  29492319        NaN  EMAIL   LABORAL   \n",
       "3  DNI 12623904            DNI  12623904        NaN  EMAIL   LABORAL   \n",
       "4  DNI 26218371            DNI  26218371        NaN  EMAIL  PERSONAL   \n",
       "\n",
       "                                 DATO PROPIETARIO_DATO PROVEEDOR_DATO  \\\n",
       "0      abartolome@expresooronegro.com           Propio             AT   \n",
       "1            mledesma@unimoron.edu.ar           Propio             AT   \n",
       "2      abartolome@expresooronegro.com           Propio             AT   \n",
       "3            mledesma@unimoron.edu.ar           Propio             AT   \n",
       "4  martin.chuquer@mastergarden.com.ar           Propio             AT   \n",
       "\n",
       "           FECHA_INGRESO_DATO  VERIFICADO  FECHA_VERIFICACION  \\\n",
       "0  2021-01-14 15:44:04.774014       False                 NaN   \n",
       "1  2021-01-14 15:44:04.774014       False                 NaN   \n",
       "2  2021-01-14 15:44:04.774014       False                 NaN   \n",
       "3  2021-01-14 15:44:04.774014       False                 NaN   \n",
       "4  2021-01-14 15:44:04.774014       False                 NaN   \n",
       "\n",
       "   OPERADOR_VERIFICACION  SCORE_DATO  \n",
       "0                    NaN         4.0  \n",
       "1                    NaN         4.0  \n",
       "2                    NaN         3.0  \n",
       "3                    NaN         3.0  \n",
       "4                    NaN         4.0  "
      ]
     },
     "execution_count": 14,
     "metadata": {},
     "output_type": "execute_result"
    }
   ],
   "source": [
    "duplicates_subset.head()"
   ]
  },
  {
   "cell_type": "code",
   "execution_count": 15,
   "metadata": {
    "scrolled": false
   },
   "outputs": [
    {
     "data": {
      "text/plain": [
       "(22, 14)"
      ]
     },
     "execution_count": 15,
     "metadata": {},
     "output_type": "execute_result"
    }
   ],
   "source": [
    "duplicates_subset.shape"
   ]
  },
  {
   "cell_type": "code",
   "execution_count": 16,
   "metadata": {},
   "outputs": [],
   "source": [
    "#duplicates_subset[duplicates_subset['VERIFICADO'] == True]"
   ]
  },
  {
   "cell_type": "markdown",
   "metadata": {},
   "source": [
    "# 1. Puntajes"
   ]
  },
  {
   "cell_type": "markdown",
   "metadata": {},
   "source": [
    "Asignamos puntajes a cada posible dato que aparezca en las categorías:\n",
    "\n",
    "- Tipo.\n",
    "- Subtipo.\n",
    "- Propietario\n",
    "- Verificación"
   ]
  },
  {
   "cell_type": "code",
   "execution_count": 17,
   "metadata": {},
   "outputs": [],
   "source": [
    "duplicates_subset.loc[duplicates_subset['VERIFICADO'] == True, 'PUNTAJE_VERIFICADO'] = 6 "
   ]
  },
  {
   "cell_type": "code",
   "execution_count": 18,
   "metadata": {},
   "outputs": [],
   "source": [
    "duplicates_subset.loc[duplicates_subset['VERIFICADO'] == False, 'PUNTAJE_VERIFICADO'] = 0"
   ]
  },
  {
   "cell_type": "code",
   "execution_count": 19,
   "metadata": {},
   "outputs": [],
   "source": [
    "duplicates_subset.loc[duplicates_subset['PROPIETARIO_DATO'] == 'Propio', 'PUNTAJE_PROPIETARIO'] = 5"
   ]
  },
  {
   "cell_type": "code",
   "execution_count": 20,
   "metadata": {},
   "outputs": [],
   "source": [
    "duplicates_subset.loc[duplicates_subset['PROPIETARIO_DATO'] == 'Ajeno_familiar', 'PUNTAJE_PROPIETARIO'] = 4"
   ]
  },
  {
   "cell_type": "code",
   "execution_count": 21,
   "metadata": {},
   "outputs": [],
   "source": [
    "duplicates_subset.loc[duplicates_subset['PROPIETARIO_DATO'] == 'Ajeno_empleador', 'PUNTAJE_PROPIETARIO'] = 3"
   ]
  },
  {
   "cell_type": "code",
   "execution_count": 22,
   "metadata": {},
   "outputs": [],
   "source": [
    "duplicates_subset.loc[duplicates_subset['PROPIETARIO_DATO'] == 'Ajeno', 'PUNTAJE_PROPIETARIO'] = 2"
   ]
  },
  {
   "cell_type": "code",
   "execution_count": 23,
   "metadata": {},
   "outputs": [],
   "source": [
    "duplicates_subset.loc[duplicates_subset['SUBTIPO'] == 'PERSONAL', 'PUNTAJE_TIPO'] = 2"
   ]
  },
  {
   "cell_type": "code",
   "execution_count": 24,
   "metadata": {},
   "outputs": [],
   "source": [
    "duplicates_subset.loc[duplicates_subset['SUBTIPO'] == 'LABORAL', 'PUNTAJE_TIPO'] = 0"
   ]
  },
  {
   "cell_type": "code",
   "execution_count": 25,
   "metadata": {},
   "outputs": [],
   "source": [
    "duplicates_subset.loc[duplicates_subset['TIPO'] == 'EMAIL', 'PUNTAJE_SUBTIPO'] = 4"
   ]
  },
  {
   "cell_type": "code",
   "execution_count": 26,
   "metadata": {},
   "outputs": [],
   "source": [
    "duplicates_subset.loc[duplicates_subset['TIPO'] == 'TEL.FIJO', 'PUNTAJE_SUBTIPO'] = 2"
   ]
  },
  {
   "cell_type": "code",
   "execution_count": 27,
   "metadata": {},
   "outputs": [],
   "source": [
    "duplicates_subset.loc[duplicates_subset['TIPO'] == 'TEL.CELULAR', 'PUNTAJE_SUBTIPO'] = 4"
   ]
  },
  {
   "cell_type": "markdown",
   "metadata": {},
   "source": [
    "## Suma de Puntajes"
   ]
  },
  {
   "cell_type": "code",
   "execution_count": 28,
   "metadata": {},
   "outputs": [],
   "source": [
    "columns_to_sum = ['PUNTAJE_VERIFICADO','PUNTAJE_PROPIETARIO','PUNTAJE_TIPO','PUNTAJE_SUBTIPO']"
   ]
  },
  {
   "cell_type": "code",
   "execution_count": 29,
   "metadata": {},
   "outputs": [],
   "source": [
    "duplicates_subset['PUNTAJE_TOTAL'] = duplicates_subset[columns_to_sum].sum(axis=1)"
   ]
  },
  {
   "cell_type": "code",
   "execution_count": 30,
   "metadata": {
    "scrolled": true
   },
   "outputs": [
    {
     "data": {
      "text/html": [
       "<div>\n",
       "<style scoped>\n",
       "    .dataframe tbody tr th:only-of-type {\n",
       "        vertical-align: middle;\n",
       "    }\n",
       "\n",
       "    .dataframe tbody tr th {\n",
       "        vertical-align: top;\n",
       "    }\n",
       "\n",
       "    .dataframe thead th {\n",
       "        text-align: right;\n",
       "    }\n",
       "</style>\n",
       "<table border=\"1\" class=\"dataframe\">\n",
       "  <thead>\n",
       "    <tr style=\"text-align: right;\">\n",
       "      <th></th>\n",
       "      <th>IDMOROSO</th>\n",
       "      <th>TIPO_DOC</th>\n",
       "      <th>NRO_DOC</th>\n",
       "      <th>CUIT_CUIL</th>\n",
       "      <th>TIPO</th>\n",
       "      <th>SUBTIPO</th>\n",
       "      <th>DATO</th>\n",
       "      <th>PROPIETARIO_DATO</th>\n",
       "      <th>PROVEEDOR_DATO</th>\n",
       "      <th>FECHA_INGRESO_DATO</th>\n",
       "      <th>VERIFICADO</th>\n",
       "      <th>FECHA_VERIFICACION</th>\n",
       "      <th>OPERADOR_VERIFICACION</th>\n",
       "      <th>SCORE_DATO</th>\n",
       "      <th>PUNTAJE_VERIFICADO</th>\n",
       "      <th>PUNTAJE_PROPIETARIO</th>\n",
       "      <th>PUNTAJE_TIPO</th>\n",
       "      <th>PUNTAJE_SUBTIPO</th>\n",
       "      <th>PUNTAJE_TOTAL</th>\n",
       "    </tr>\n",
       "  </thead>\n",
       "  <tbody>\n",
       "    <tr>\n",
       "      <th>0</th>\n",
       "      <td>DNI 29492319</td>\n",
       "      <td>DNI</td>\n",
       "      <td>29492319</td>\n",
       "      <td>NaN</td>\n",
       "      <td>EMAIL</td>\n",
       "      <td>PERSONAL</td>\n",
       "      <td>abartolome@expresooronegro.com</td>\n",
       "      <td>Propio</td>\n",
       "      <td>AT</td>\n",
       "      <td>2021-01-14 15:44:04.774014</td>\n",
       "      <td>False</td>\n",
       "      <td>NaN</td>\n",
       "      <td>NaN</td>\n",
       "      <td>4.0</td>\n",
       "      <td>0.0</td>\n",
       "      <td>5.0</td>\n",
       "      <td>2.0</td>\n",
       "      <td>4.0</td>\n",
       "      <td>11.0</td>\n",
       "    </tr>\n",
       "    <tr>\n",
       "      <th>1</th>\n",
       "      <td>DNI 12623904</td>\n",
       "      <td>DNI</td>\n",
       "      <td>12623904</td>\n",
       "      <td>NaN</td>\n",
       "      <td>EMAIL</td>\n",
       "      <td>PERSONAL</td>\n",
       "      <td>mledesma@unimoron.edu.ar</td>\n",
       "      <td>Propio</td>\n",
       "      <td>AT</td>\n",
       "      <td>2021-01-14 15:44:04.774014</td>\n",
       "      <td>False</td>\n",
       "      <td>NaN</td>\n",
       "      <td>NaN</td>\n",
       "      <td>4.0</td>\n",
       "      <td>0.0</td>\n",
       "      <td>5.0</td>\n",
       "      <td>2.0</td>\n",
       "      <td>4.0</td>\n",
       "      <td>11.0</td>\n",
       "    </tr>\n",
       "    <tr>\n",
       "      <th>2</th>\n",
       "      <td>DNI 29492319</td>\n",
       "      <td>DNI</td>\n",
       "      <td>29492319</td>\n",
       "      <td>NaN</td>\n",
       "      <td>EMAIL</td>\n",
       "      <td>LABORAL</td>\n",
       "      <td>abartolome@expresooronegro.com</td>\n",
       "      <td>Propio</td>\n",
       "      <td>AT</td>\n",
       "      <td>2021-01-14 15:44:04.774014</td>\n",
       "      <td>False</td>\n",
       "      <td>NaN</td>\n",
       "      <td>NaN</td>\n",
       "      <td>3.0</td>\n",
       "      <td>0.0</td>\n",
       "      <td>5.0</td>\n",
       "      <td>0.0</td>\n",
       "      <td>4.0</td>\n",
       "      <td>9.0</td>\n",
       "    </tr>\n",
       "    <tr>\n",
       "      <th>3</th>\n",
       "      <td>DNI 12623904</td>\n",
       "      <td>DNI</td>\n",
       "      <td>12623904</td>\n",
       "      <td>NaN</td>\n",
       "      <td>EMAIL</td>\n",
       "      <td>LABORAL</td>\n",
       "      <td>mledesma@unimoron.edu.ar</td>\n",
       "      <td>Propio</td>\n",
       "      <td>AT</td>\n",
       "      <td>2021-01-14 15:44:04.774014</td>\n",
       "      <td>False</td>\n",
       "      <td>NaN</td>\n",
       "      <td>NaN</td>\n",
       "      <td>3.0</td>\n",
       "      <td>0.0</td>\n",
       "      <td>5.0</td>\n",
       "      <td>0.0</td>\n",
       "      <td>4.0</td>\n",
       "      <td>9.0</td>\n",
       "    </tr>\n",
       "    <tr>\n",
       "      <th>4</th>\n",
       "      <td>DNI 26218371</td>\n",
       "      <td>DNI</td>\n",
       "      <td>26218371</td>\n",
       "      <td>NaN</td>\n",
       "      <td>EMAIL</td>\n",
       "      <td>PERSONAL</td>\n",
       "      <td>martin.chuquer@mastergarden.com.ar</td>\n",
       "      <td>Propio</td>\n",
       "      <td>AT</td>\n",
       "      <td>2021-01-14 15:44:04.774014</td>\n",
       "      <td>False</td>\n",
       "      <td>NaN</td>\n",
       "      <td>NaN</td>\n",
       "      <td>4.0</td>\n",
       "      <td>0.0</td>\n",
       "      <td>5.0</td>\n",
       "      <td>2.0</td>\n",
       "      <td>4.0</td>\n",
       "      <td>11.0</td>\n",
       "    </tr>\n",
       "  </tbody>\n",
       "</table>\n",
       "</div>"
      ],
      "text/plain": [
       "             IDMOROSO TIPO_DOC   NRO_DOC  CUIT_CUIL   TIPO   SUBTIPO  \\\n",
       "0  DNI 29492319            DNI  29492319        NaN  EMAIL  PERSONAL   \n",
       "1  DNI 12623904            DNI  12623904        NaN  EMAIL  PERSONAL   \n",
       "2  DNI 29492319            DNI  29492319        NaN  EMAIL   LABORAL   \n",
       "3  DNI 12623904            DNI  12623904        NaN  EMAIL   LABORAL   \n",
       "4  DNI 26218371            DNI  26218371        NaN  EMAIL  PERSONAL   \n",
       "\n",
       "                                 DATO PROPIETARIO_DATO PROVEEDOR_DATO  \\\n",
       "0      abartolome@expresooronegro.com           Propio             AT   \n",
       "1            mledesma@unimoron.edu.ar           Propio             AT   \n",
       "2      abartolome@expresooronegro.com           Propio             AT   \n",
       "3            mledesma@unimoron.edu.ar           Propio             AT   \n",
       "4  martin.chuquer@mastergarden.com.ar           Propio             AT   \n",
       "\n",
       "           FECHA_INGRESO_DATO  VERIFICADO  FECHA_VERIFICACION  \\\n",
       "0  2021-01-14 15:44:04.774014       False                 NaN   \n",
       "1  2021-01-14 15:44:04.774014       False                 NaN   \n",
       "2  2021-01-14 15:44:04.774014       False                 NaN   \n",
       "3  2021-01-14 15:44:04.774014       False                 NaN   \n",
       "4  2021-01-14 15:44:04.774014       False                 NaN   \n",
       "\n",
       "   OPERADOR_VERIFICACION  SCORE_DATO  PUNTAJE_VERIFICADO  PUNTAJE_PROPIETARIO  \\\n",
       "0                    NaN         4.0                 0.0                  5.0   \n",
       "1                    NaN         4.0                 0.0                  5.0   \n",
       "2                    NaN         3.0                 0.0                  5.0   \n",
       "3                    NaN         3.0                 0.0                  5.0   \n",
       "4                    NaN         4.0                 0.0                  5.0   \n",
       "\n",
       "   PUNTAJE_TIPO  PUNTAJE_SUBTIPO  PUNTAJE_TOTAL  \n",
       "0           2.0              4.0           11.0  \n",
       "1           2.0              4.0           11.0  \n",
       "2           0.0              4.0            9.0  \n",
       "3           0.0              4.0            9.0  \n",
       "4           2.0              4.0           11.0  "
      ]
     },
     "execution_count": 30,
     "metadata": {},
     "output_type": "execute_result"
    }
   ],
   "source": [
    "duplicates_subset.head()"
   ]
  },
  {
   "cell_type": "code",
   "execution_count": 31,
   "metadata": {
    "scrolled": true
   },
   "outputs": [
    {
     "data": {
      "text/plain": [
       "(22, 19)"
      ]
     },
     "execution_count": 31,
     "metadata": {},
     "output_type": "execute_result"
    }
   ],
   "source": [
    "duplicates_subset.shape"
   ]
  },
  {
   "cell_type": "code",
   "execution_count": 32,
   "metadata": {},
   "outputs": [
    {
     "data": {
      "text/html": [
       "<div>\n",
       "<style scoped>\n",
       "    .dataframe tbody tr th:only-of-type {\n",
       "        vertical-align: middle;\n",
       "    }\n",
       "\n",
       "    .dataframe tbody tr th {\n",
       "        vertical-align: top;\n",
       "    }\n",
       "\n",
       "    .dataframe thead th {\n",
       "        text-align: right;\n",
       "    }\n",
       "</style>\n",
       "<table border=\"1\" class=\"dataframe\">\n",
       "  <thead>\n",
       "    <tr style=\"text-align: right;\">\n",
       "      <th></th>\n",
       "      <th>IDMOROSO</th>\n",
       "      <th>TIPO_DOC</th>\n",
       "      <th>NRO_DOC</th>\n",
       "      <th>CUIT_CUIL</th>\n",
       "      <th>TIPO</th>\n",
       "      <th>SUBTIPO</th>\n",
       "      <th>DATO</th>\n",
       "      <th>PROPIETARIO_DATO</th>\n",
       "      <th>PROVEEDOR_DATO</th>\n",
       "      <th>FECHA_INGRESO_DATO</th>\n",
       "      <th>VERIFICADO</th>\n",
       "      <th>FECHA_VERIFICACION</th>\n",
       "      <th>OPERADOR_VERIFICACION</th>\n",
       "      <th>SCORE_DATO</th>\n",
       "      <th>PUNTAJE_VERIFICADO</th>\n",
       "      <th>PUNTAJE_PROPIETARIO</th>\n",
       "      <th>PUNTAJE_TIPO</th>\n",
       "      <th>PUNTAJE_SUBTIPO</th>\n",
       "      <th>PUNTAJE_TOTAL</th>\n",
       "    </tr>\n",
       "  </thead>\n",
       "  <tbody>\n",
       "  </tbody>\n",
       "</table>\n",
       "</div>"
      ],
      "text/plain": [
       "Empty DataFrame\n",
       "Columns: [IDMOROSO, TIPO_DOC, NRO_DOC, CUIT_CUIL, TIPO, SUBTIPO, DATO, PROPIETARIO_DATO, PROVEEDOR_DATO, FECHA_INGRESO_DATO, VERIFICADO, FECHA_VERIFICACION, OPERADOR_VERIFICACION, SCORE_DATO, PUNTAJE_VERIFICADO, PUNTAJE_PROPIETARIO, PUNTAJE_TIPO, PUNTAJE_SUBTIPO, PUNTAJE_TOTAL]\n",
       "Index: []"
      ]
     },
     "execution_count": 32,
     "metadata": {},
     "output_type": "execute_result"
    }
   ],
   "source": [
    "duplicates_subset[duplicates_subset['IDMOROSO'] == 'DNI 4558814       ']"
   ]
  },
  {
   "cell_type": "markdown",
   "metadata": {},
   "source": [
    "## Agrupo"
   ]
  },
  {
   "cell_type": "code",
   "execution_count": 33,
   "metadata": {},
   "outputs": [],
   "source": [
    "#duplicates_subset['ID'] = duplicates_subset['ID'].astype(str)"
   ]
  },
  {
   "cell_type": "code",
   "execution_count": 34,
   "metadata": {},
   "outputs": [],
   "source": [
    "df_best = duplicates_subset.groupby(['IDMOROSO','DATO','PROVEEDOR_DATO'], as_index = False).max(numeric_only=True)"
   ]
  },
  {
   "cell_type": "code",
   "execution_count": 35,
   "metadata": {},
   "outputs": [
    {
     "data": {
      "text/html": [
       "<div>\n",
       "<style scoped>\n",
       "    .dataframe tbody tr th:only-of-type {\n",
       "        vertical-align: middle;\n",
       "    }\n",
       "\n",
       "    .dataframe tbody tr th {\n",
       "        vertical-align: top;\n",
       "    }\n",
       "\n",
       "    .dataframe thead th {\n",
       "        text-align: right;\n",
       "    }\n",
       "</style>\n",
       "<table border=\"1\" class=\"dataframe\">\n",
       "  <thead>\n",
       "    <tr style=\"text-align: right;\">\n",
       "      <th></th>\n",
       "      <th>IDMOROSO</th>\n",
       "      <th>DATO</th>\n",
       "      <th>PROVEEDOR_DATO</th>\n",
       "      <th>NRO_DOC</th>\n",
       "      <th>CUIT_CUIL</th>\n",
       "      <th>VERIFICADO</th>\n",
       "      <th>FECHA_VERIFICACION</th>\n",
       "      <th>OPERADOR_VERIFICACION</th>\n",
       "      <th>SCORE_DATO</th>\n",
       "      <th>PUNTAJE_VERIFICADO</th>\n",
       "      <th>PUNTAJE_PROPIETARIO</th>\n",
       "      <th>PUNTAJE_TIPO</th>\n",
       "      <th>PUNTAJE_SUBTIPO</th>\n",
       "      <th>PUNTAJE_TOTAL</th>\n",
       "    </tr>\n",
       "  </thead>\n",
       "  <tbody>\n",
       "    <tr>\n",
       "      <th>0</th>\n",
       "      <td>DNI 12623904</td>\n",
       "      <td>mledesma@unimoron.edu.ar</td>\n",
       "      <td>AT</td>\n",
       "      <td>12623904</td>\n",
       "      <td>NaN</td>\n",
       "      <td>False</td>\n",
       "      <td>NaN</td>\n",
       "      <td>NaN</td>\n",
       "      <td>4.0</td>\n",
       "      <td>0.0</td>\n",
       "      <td>5.0</td>\n",
       "      <td>2.0</td>\n",
       "      <td>4.0</td>\n",
       "      <td>11.0</td>\n",
       "    </tr>\n",
       "    <tr>\n",
       "      <th>1</th>\n",
       "      <td>DNI 19040588</td>\n",
       "      <td>rdiaz@securitasargentina.com</td>\n",
       "      <td>AT</td>\n",
       "      <td>19040588</td>\n",
       "      <td>NaN</td>\n",
       "      <td>False</td>\n",
       "      <td>NaN</td>\n",
       "      <td>NaN</td>\n",
       "      <td>4.0</td>\n",
       "      <td>0.0</td>\n",
       "      <td>5.0</td>\n",
       "      <td>2.0</td>\n",
       "      <td>4.0</td>\n",
       "      <td>11.0</td>\n",
       "    </tr>\n",
       "    <tr>\n",
       "      <th>2</th>\n",
       "      <td>DNI 25597304</td>\n",
       "      <td>jmurua@mymultilevel.com</td>\n",
       "      <td>AT</td>\n",
       "      <td>25597304</td>\n",
       "      <td>NaN</td>\n",
       "      <td>False</td>\n",
       "      <td>NaN</td>\n",
       "      <td>NaN</td>\n",
       "      <td>4.0</td>\n",
       "      <td>0.0</td>\n",
       "      <td>5.0</td>\n",
       "      <td>2.0</td>\n",
       "      <td>4.0</td>\n",
       "      <td>11.0</td>\n",
       "    </tr>\n",
       "    <tr>\n",
       "      <th>3</th>\n",
       "      <td>DNI 26218371</td>\n",
       "      <td>martin.chuquer@mastergarden.com.ar</td>\n",
       "      <td>AT</td>\n",
       "      <td>26218371</td>\n",
       "      <td>NaN</td>\n",
       "      <td>False</td>\n",
       "      <td>NaN</td>\n",
       "      <td>NaN</td>\n",
       "      <td>4.0</td>\n",
       "      <td>0.0</td>\n",
       "      <td>5.0</td>\n",
       "      <td>2.0</td>\n",
       "      <td>4.0</td>\n",
       "      <td>11.0</td>\n",
       "    </tr>\n",
       "    <tr>\n",
       "      <th>4</th>\n",
       "      <td>DNI 27434972</td>\n",
       "      <td>briela@iclaro.com.ar</td>\n",
       "      <td>AT</td>\n",
       "      <td>27434972</td>\n",
       "      <td>NaN</td>\n",
       "      <td>False</td>\n",
       "      <td>NaN</td>\n",
       "      <td>NaN</td>\n",
       "      <td>4.0</td>\n",
       "      <td>0.0</td>\n",
       "      <td>5.0</td>\n",
       "      <td>2.0</td>\n",
       "      <td>4.0</td>\n",
       "      <td>11.0</td>\n",
       "    </tr>\n",
       "    <tr>\n",
       "      <th>5</th>\n",
       "      <td>DNI 29492319</td>\n",
       "      <td>abartolome@expresooronegro.com</td>\n",
       "      <td>AT</td>\n",
       "      <td>29492319</td>\n",
       "      <td>NaN</td>\n",
       "      <td>False</td>\n",
       "      <td>NaN</td>\n",
       "      <td>NaN</td>\n",
       "      <td>4.0</td>\n",
       "      <td>0.0</td>\n",
       "      <td>5.0</td>\n",
       "      <td>2.0</td>\n",
       "      <td>4.0</td>\n",
       "      <td>11.0</td>\n",
       "    </tr>\n",
       "    <tr>\n",
       "      <th>6</th>\n",
       "      <td>DNI 31595915</td>\n",
       "      <td>epmartinez@cnc.gov.ar</td>\n",
       "      <td>AT</td>\n",
       "      <td>31595915</td>\n",
       "      <td>NaN</td>\n",
       "      <td>False</td>\n",
       "      <td>NaN</td>\n",
       "      <td>NaN</td>\n",
       "      <td>4.0</td>\n",
       "      <td>0.0</td>\n",
       "      <td>5.0</td>\n",
       "      <td>2.0</td>\n",
       "      <td>4.0</td>\n",
       "      <td>11.0</td>\n",
       "    </tr>\n",
       "    <tr>\n",
       "      <th>7</th>\n",
       "      <td>DNI 33747009</td>\n",
       "      <td>glopez@devspark.com</td>\n",
       "      <td>AT</td>\n",
       "      <td>33747009</td>\n",
       "      <td>NaN</td>\n",
       "      <td>False</td>\n",
       "      <td>NaN</td>\n",
       "      <td>NaN</td>\n",
       "      <td>4.0</td>\n",
       "      <td>0.0</td>\n",
       "      <td>5.0</td>\n",
       "      <td>2.0</td>\n",
       "      <td>4.0</td>\n",
       "      <td>11.0</td>\n",
       "    </tr>\n",
       "    <tr>\n",
       "      <th>8</th>\n",
       "      <td>DNI 34317644</td>\n",
       "      <td>jimenamari@ggmail.com</td>\n",
       "      <td>AT</td>\n",
       "      <td>34317644</td>\n",
       "      <td>NaN</td>\n",
       "      <td>False</td>\n",
       "      <td>NaN</td>\n",
       "      <td>NaN</td>\n",
       "      <td>4.0</td>\n",
       "      <td>0.0</td>\n",
       "      <td>5.0</td>\n",
       "      <td>2.0</td>\n",
       "      <td>4.0</td>\n",
       "      <td>11.0</td>\n",
       "    </tr>\n",
       "    <tr>\n",
       "      <th>9</th>\n",
       "      <td>DNI 42006682</td>\n",
       "      <td>nobrinda@nobrinda.com</td>\n",
       "      <td>AT</td>\n",
       "      <td>42006682</td>\n",
       "      <td>NaN</td>\n",
       "      <td>False</td>\n",
       "      <td>NaN</td>\n",
       "      <td>NaN</td>\n",
       "      <td>4.0</td>\n",
       "      <td>0.0</td>\n",
       "      <td>5.0</td>\n",
       "      <td>2.0</td>\n",
       "      <td>4.0</td>\n",
       "      <td>11.0</td>\n",
       "    </tr>\n",
       "    <tr>\n",
       "      <th>10</th>\n",
       "      <td>LE  6755082</td>\n",
       "      <td>efpisatti@speedy.com.ar</td>\n",
       "      <td>AT</td>\n",
       "      <td>6755082</td>\n",
       "      <td>NaN</td>\n",
       "      <td>False</td>\n",
       "      <td>NaN</td>\n",
       "      <td>NaN</td>\n",
       "      <td>4.0</td>\n",
       "      <td>0.0</td>\n",
       "      <td>5.0</td>\n",
       "      <td>2.0</td>\n",
       "      <td>4.0</td>\n",
       "      <td>11.0</td>\n",
       "    </tr>\n",
       "  </tbody>\n",
       "</table>\n",
       "</div>"
      ],
      "text/plain": [
       "              IDMOROSO                                DATO PROVEEDOR_DATO  \\\n",
       "0   DNI 12623904                  mledesma@unimoron.edu.ar             AT   \n",
       "1   DNI 19040588              rdiaz@securitasargentina.com             AT   \n",
       "2   DNI 25597304                   jmurua@mymultilevel.com             AT   \n",
       "3   DNI 26218371        martin.chuquer@mastergarden.com.ar             AT   \n",
       "4   DNI 27434972                      briela@iclaro.com.ar             AT   \n",
       "5   DNI 29492319            abartolome@expresooronegro.com             AT   \n",
       "6   DNI 31595915                     epmartinez@cnc.gov.ar             AT   \n",
       "7   DNI 33747009                       glopez@devspark.com             AT   \n",
       "8   DNI 34317644                     jimenamari@ggmail.com             AT   \n",
       "9   DNI 42006682                     nobrinda@nobrinda.com             AT   \n",
       "10  LE  6755082                    efpisatti@speedy.com.ar             AT   \n",
       "\n",
       "     NRO_DOC  CUIT_CUIL  VERIFICADO  FECHA_VERIFICACION  \\\n",
       "0   12623904        NaN       False                 NaN   \n",
       "1   19040588        NaN       False                 NaN   \n",
       "2   25597304        NaN       False                 NaN   \n",
       "3   26218371        NaN       False                 NaN   \n",
       "4   27434972        NaN       False                 NaN   \n",
       "5   29492319        NaN       False                 NaN   \n",
       "6   31595915        NaN       False                 NaN   \n",
       "7   33747009        NaN       False                 NaN   \n",
       "8   34317644        NaN       False                 NaN   \n",
       "9   42006682        NaN       False                 NaN   \n",
       "10   6755082        NaN       False                 NaN   \n",
       "\n",
       "    OPERADOR_VERIFICACION  SCORE_DATO  PUNTAJE_VERIFICADO  \\\n",
       "0                     NaN         4.0                 0.0   \n",
       "1                     NaN         4.0                 0.0   \n",
       "2                     NaN         4.0                 0.0   \n",
       "3                     NaN         4.0                 0.0   \n",
       "4                     NaN         4.0                 0.0   \n",
       "5                     NaN         4.0                 0.0   \n",
       "6                     NaN         4.0                 0.0   \n",
       "7                     NaN         4.0                 0.0   \n",
       "8                     NaN         4.0                 0.0   \n",
       "9                     NaN         4.0                 0.0   \n",
       "10                    NaN         4.0                 0.0   \n",
       "\n",
       "    PUNTAJE_PROPIETARIO  PUNTAJE_TIPO  PUNTAJE_SUBTIPO  PUNTAJE_TOTAL  \n",
       "0                   5.0           2.0              4.0           11.0  \n",
       "1                   5.0           2.0              4.0           11.0  \n",
       "2                   5.0           2.0              4.0           11.0  \n",
       "3                   5.0           2.0              4.0           11.0  \n",
       "4                   5.0           2.0              4.0           11.0  \n",
       "5                   5.0           2.0              4.0           11.0  \n",
       "6                   5.0           2.0              4.0           11.0  \n",
       "7                   5.0           2.0              4.0           11.0  \n",
       "8                   5.0           2.0              4.0           11.0  \n",
       "9                   5.0           2.0              4.0           11.0  \n",
       "10                  5.0           2.0              4.0           11.0  "
      ]
     },
     "execution_count": 35,
     "metadata": {},
     "output_type": "execute_result"
    }
   ],
   "source": [
    "df_best"
   ]
  },
  {
   "cell_type": "markdown",
   "metadata": {},
   "source": [
    "# Join"
   ]
  },
  {
   "cell_type": "code",
   "execution_count": 36,
   "metadata": {},
   "outputs": [],
   "source": [
    "df_joined = pd.merge(duplicates_subset,df_best,on=['IDMOROSO','DATO','PROVEEDOR_DATO','PUNTAJE_TOTAL'])"
   ]
  },
  {
   "cell_type": "code",
   "execution_count": 37,
   "metadata": {},
   "outputs": [
    {
     "data": {
      "text/plain": [
       "(11, 29)"
      ]
     },
     "execution_count": 37,
     "metadata": {},
     "output_type": "execute_result"
    }
   ],
   "source": [
    "df_joined.shape"
   ]
  },
  {
   "cell_type": "code",
   "execution_count": 38,
   "metadata": {
    "scrolled": false
   },
   "outputs": [
    {
     "data": {
      "text/html": [
       "<div>\n",
       "<style scoped>\n",
       "    .dataframe tbody tr th:only-of-type {\n",
       "        vertical-align: middle;\n",
       "    }\n",
       "\n",
       "    .dataframe tbody tr th {\n",
       "        vertical-align: top;\n",
       "    }\n",
       "\n",
       "    .dataframe thead th {\n",
       "        text-align: right;\n",
       "    }\n",
       "</style>\n",
       "<table border=\"1\" class=\"dataframe\">\n",
       "  <thead>\n",
       "    <tr style=\"text-align: right;\">\n",
       "      <th></th>\n",
       "      <th>IDMOROSO</th>\n",
       "      <th>TIPO_DOC</th>\n",
       "      <th>NRO_DOC_x</th>\n",
       "      <th>CUIT_CUIL_x</th>\n",
       "      <th>TIPO</th>\n",
       "      <th>SUBTIPO</th>\n",
       "      <th>DATO</th>\n",
       "      <th>PROPIETARIO_DATO</th>\n",
       "      <th>PROVEEDOR_DATO</th>\n",
       "      <th>FECHA_INGRESO_DATO</th>\n",
       "      <th>...</th>\n",
       "      <th>NRO_DOC_y</th>\n",
       "      <th>CUIT_CUIL_y</th>\n",
       "      <th>VERIFICADO_y</th>\n",
       "      <th>FECHA_VERIFICACION_y</th>\n",
       "      <th>OPERADOR_VERIFICACION_y</th>\n",
       "      <th>SCORE_DATO_y</th>\n",
       "      <th>PUNTAJE_VERIFICADO_y</th>\n",
       "      <th>PUNTAJE_PROPIETARIO_y</th>\n",
       "      <th>PUNTAJE_TIPO_y</th>\n",
       "      <th>PUNTAJE_SUBTIPO_y</th>\n",
       "    </tr>\n",
       "  </thead>\n",
       "  <tbody>\n",
       "    <tr>\n",
       "      <th>0</th>\n",
       "      <td>DNI 29492319</td>\n",
       "      <td>DNI</td>\n",
       "      <td>29492319</td>\n",
       "      <td>NaN</td>\n",
       "      <td>EMAIL</td>\n",
       "      <td>PERSONAL</td>\n",
       "      <td>abartolome@expresooronegro.com</td>\n",
       "      <td>Propio</td>\n",
       "      <td>AT</td>\n",
       "      <td>2021-01-14 15:44:04.774014</td>\n",
       "      <td>...</td>\n",
       "      <td>29492319</td>\n",
       "      <td>NaN</td>\n",
       "      <td>False</td>\n",
       "      <td>NaN</td>\n",
       "      <td>NaN</td>\n",
       "      <td>4.0</td>\n",
       "      <td>0.0</td>\n",
       "      <td>5.0</td>\n",
       "      <td>2.0</td>\n",
       "      <td>4.0</td>\n",
       "    </tr>\n",
       "    <tr>\n",
       "      <th>1</th>\n",
       "      <td>DNI 12623904</td>\n",
       "      <td>DNI</td>\n",
       "      <td>12623904</td>\n",
       "      <td>NaN</td>\n",
       "      <td>EMAIL</td>\n",
       "      <td>PERSONAL</td>\n",
       "      <td>mledesma@unimoron.edu.ar</td>\n",
       "      <td>Propio</td>\n",
       "      <td>AT</td>\n",
       "      <td>2021-01-14 15:44:04.774014</td>\n",
       "      <td>...</td>\n",
       "      <td>12623904</td>\n",
       "      <td>NaN</td>\n",
       "      <td>False</td>\n",
       "      <td>NaN</td>\n",
       "      <td>NaN</td>\n",
       "      <td>4.0</td>\n",
       "      <td>0.0</td>\n",
       "      <td>5.0</td>\n",
       "      <td>2.0</td>\n",
       "      <td>4.0</td>\n",
       "    </tr>\n",
       "    <tr>\n",
       "      <th>2</th>\n",
       "      <td>DNI 26218371</td>\n",
       "      <td>DNI</td>\n",
       "      <td>26218371</td>\n",
       "      <td>NaN</td>\n",
       "      <td>EMAIL</td>\n",
       "      <td>PERSONAL</td>\n",
       "      <td>martin.chuquer@mastergarden.com.ar</td>\n",
       "      <td>Propio</td>\n",
       "      <td>AT</td>\n",
       "      <td>2021-01-14 15:44:04.774014</td>\n",
       "      <td>...</td>\n",
       "      <td>26218371</td>\n",
       "      <td>NaN</td>\n",
       "      <td>False</td>\n",
       "      <td>NaN</td>\n",
       "      <td>NaN</td>\n",
       "      <td>4.0</td>\n",
       "      <td>0.0</td>\n",
       "      <td>5.0</td>\n",
       "      <td>2.0</td>\n",
       "      <td>4.0</td>\n",
       "    </tr>\n",
       "    <tr>\n",
       "      <th>3</th>\n",
       "      <td>DNI 25597304</td>\n",
       "      <td>DNI</td>\n",
       "      <td>25597304</td>\n",
       "      <td>NaN</td>\n",
       "      <td>EMAIL</td>\n",
       "      <td>PERSONAL</td>\n",
       "      <td>jmurua@mymultilevel.com</td>\n",
       "      <td>Propio</td>\n",
       "      <td>AT</td>\n",
       "      <td>2021-01-14 15:44:04.774014</td>\n",
       "      <td>...</td>\n",
       "      <td>25597304</td>\n",
       "      <td>NaN</td>\n",
       "      <td>False</td>\n",
       "      <td>NaN</td>\n",
       "      <td>NaN</td>\n",
       "      <td>4.0</td>\n",
       "      <td>0.0</td>\n",
       "      <td>5.0</td>\n",
       "      <td>2.0</td>\n",
       "      <td>4.0</td>\n",
       "    </tr>\n",
       "    <tr>\n",
       "      <th>4</th>\n",
       "      <td>LE  6755082</td>\n",
       "      <td>LE</td>\n",
       "      <td>6755082</td>\n",
       "      <td>NaN</td>\n",
       "      <td>EMAIL</td>\n",
       "      <td>PERSONAL</td>\n",
       "      <td>efpisatti@speedy.com.ar</td>\n",
       "      <td>Propio</td>\n",
       "      <td>AT</td>\n",
       "      <td>2021-01-14 15:44:04.774014</td>\n",
       "      <td>...</td>\n",
       "      <td>6755082</td>\n",
       "      <td>NaN</td>\n",
       "      <td>False</td>\n",
       "      <td>NaN</td>\n",
       "      <td>NaN</td>\n",
       "      <td>4.0</td>\n",
       "      <td>0.0</td>\n",
       "      <td>5.0</td>\n",
       "      <td>2.0</td>\n",
       "      <td>4.0</td>\n",
       "    </tr>\n",
       "    <tr>\n",
       "      <th>5</th>\n",
       "      <td>DNI 27434972</td>\n",
       "      <td>DNI</td>\n",
       "      <td>27434972</td>\n",
       "      <td>NaN</td>\n",
       "      <td>EMAIL</td>\n",
       "      <td>PERSONAL</td>\n",
       "      <td>briela@iclaro.com.ar</td>\n",
       "      <td>Propio</td>\n",
       "      <td>AT</td>\n",
       "      <td>2021-01-14 15:44:04.774014</td>\n",
       "      <td>...</td>\n",
       "      <td>27434972</td>\n",
       "      <td>NaN</td>\n",
       "      <td>False</td>\n",
       "      <td>NaN</td>\n",
       "      <td>NaN</td>\n",
       "      <td>4.0</td>\n",
       "      <td>0.0</td>\n",
       "      <td>5.0</td>\n",
       "      <td>2.0</td>\n",
       "      <td>4.0</td>\n",
       "    </tr>\n",
       "    <tr>\n",
       "      <th>6</th>\n",
       "      <td>DNI 19040588</td>\n",
       "      <td>DNI</td>\n",
       "      <td>19040588</td>\n",
       "      <td>NaN</td>\n",
       "      <td>EMAIL</td>\n",
       "      <td>PERSONAL</td>\n",
       "      <td>rdiaz@securitasargentina.com</td>\n",
       "      <td>Propio</td>\n",
       "      <td>AT</td>\n",
       "      <td>2021-01-14 15:44:04.774014</td>\n",
       "      <td>...</td>\n",
       "      <td>19040588</td>\n",
       "      <td>NaN</td>\n",
       "      <td>False</td>\n",
       "      <td>NaN</td>\n",
       "      <td>NaN</td>\n",
       "      <td>4.0</td>\n",
       "      <td>0.0</td>\n",
       "      <td>5.0</td>\n",
       "      <td>2.0</td>\n",
       "      <td>4.0</td>\n",
       "    </tr>\n",
       "    <tr>\n",
       "      <th>7</th>\n",
       "      <td>DNI 31595915</td>\n",
       "      <td>DNI</td>\n",
       "      <td>31595915</td>\n",
       "      <td>NaN</td>\n",
       "      <td>EMAIL</td>\n",
       "      <td>PERSONAL</td>\n",
       "      <td>epmartinez@cnc.gov.ar</td>\n",
       "      <td>Propio</td>\n",
       "      <td>AT</td>\n",
       "      <td>2021-01-14 15:44:04.774014</td>\n",
       "      <td>...</td>\n",
       "      <td>31595915</td>\n",
       "      <td>NaN</td>\n",
       "      <td>False</td>\n",
       "      <td>NaN</td>\n",
       "      <td>NaN</td>\n",
       "      <td>4.0</td>\n",
       "      <td>0.0</td>\n",
       "      <td>5.0</td>\n",
       "      <td>2.0</td>\n",
       "      <td>4.0</td>\n",
       "    </tr>\n",
       "    <tr>\n",
       "      <th>8</th>\n",
       "      <td>DNI 42006682</td>\n",
       "      <td>DNI</td>\n",
       "      <td>42006682</td>\n",
       "      <td>NaN</td>\n",
       "      <td>EMAIL</td>\n",
       "      <td>PERSONAL</td>\n",
       "      <td>nobrinda@nobrinda.com</td>\n",
       "      <td>Propio</td>\n",
       "      <td>AT</td>\n",
       "      <td>2021-01-14 15:44:04.774014</td>\n",
       "      <td>...</td>\n",
       "      <td>42006682</td>\n",
       "      <td>NaN</td>\n",
       "      <td>False</td>\n",
       "      <td>NaN</td>\n",
       "      <td>NaN</td>\n",
       "      <td>4.0</td>\n",
       "      <td>0.0</td>\n",
       "      <td>5.0</td>\n",
       "      <td>2.0</td>\n",
       "      <td>4.0</td>\n",
       "    </tr>\n",
       "    <tr>\n",
       "      <th>9</th>\n",
       "      <td>DNI 34317644</td>\n",
       "      <td>DNI</td>\n",
       "      <td>34317644</td>\n",
       "      <td>NaN</td>\n",
       "      <td>EMAIL</td>\n",
       "      <td>PERSONAL</td>\n",
       "      <td>jimenamari@ggmail.com</td>\n",
       "      <td>Propio</td>\n",
       "      <td>AT</td>\n",
       "      <td>2021-01-14 15:44:04.774014</td>\n",
       "      <td>...</td>\n",
       "      <td>34317644</td>\n",
       "      <td>NaN</td>\n",
       "      <td>False</td>\n",
       "      <td>NaN</td>\n",
       "      <td>NaN</td>\n",
       "      <td>4.0</td>\n",
       "      <td>0.0</td>\n",
       "      <td>5.0</td>\n",
       "      <td>2.0</td>\n",
       "      <td>4.0</td>\n",
       "    </tr>\n",
       "  </tbody>\n",
       "</table>\n",
       "<p>10 rows × 29 columns</p>\n",
       "</div>"
      ],
      "text/plain": [
       "             IDMOROSO TIPO_DOC  NRO_DOC_x  CUIT_CUIL_x   TIPO   SUBTIPO  \\\n",
       "0  DNI 29492319            DNI   29492319          NaN  EMAIL  PERSONAL   \n",
       "1  DNI 12623904            DNI   12623904          NaN  EMAIL  PERSONAL   \n",
       "2  DNI 26218371            DNI   26218371          NaN  EMAIL  PERSONAL   \n",
       "3  DNI 25597304            DNI   25597304          NaN  EMAIL  PERSONAL   \n",
       "4  LE  6755082              LE    6755082          NaN  EMAIL  PERSONAL   \n",
       "5  DNI 27434972            DNI   27434972          NaN  EMAIL  PERSONAL   \n",
       "6  DNI 19040588            DNI   19040588          NaN  EMAIL  PERSONAL   \n",
       "7  DNI 31595915            DNI   31595915          NaN  EMAIL  PERSONAL   \n",
       "8  DNI 42006682            DNI   42006682          NaN  EMAIL  PERSONAL   \n",
       "9  DNI 34317644            DNI   34317644          NaN  EMAIL  PERSONAL   \n",
       "\n",
       "                                 DATO PROPIETARIO_DATO PROVEEDOR_DATO  \\\n",
       "0      abartolome@expresooronegro.com           Propio             AT   \n",
       "1            mledesma@unimoron.edu.ar           Propio             AT   \n",
       "2  martin.chuquer@mastergarden.com.ar           Propio             AT   \n",
       "3             jmurua@mymultilevel.com           Propio             AT   \n",
       "4             efpisatti@speedy.com.ar           Propio             AT   \n",
       "5                briela@iclaro.com.ar           Propio             AT   \n",
       "6        rdiaz@securitasargentina.com           Propio             AT   \n",
       "7               epmartinez@cnc.gov.ar           Propio             AT   \n",
       "8               nobrinda@nobrinda.com           Propio             AT   \n",
       "9               jimenamari@ggmail.com           Propio             AT   \n",
       "\n",
       "           FECHA_INGRESO_DATO  ...  NRO_DOC_y  CUIT_CUIL_y  VERIFICADO_y  \\\n",
       "0  2021-01-14 15:44:04.774014  ...   29492319          NaN         False   \n",
       "1  2021-01-14 15:44:04.774014  ...   12623904          NaN         False   \n",
       "2  2021-01-14 15:44:04.774014  ...   26218371          NaN         False   \n",
       "3  2021-01-14 15:44:04.774014  ...   25597304          NaN         False   \n",
       "4  2021-01-14 15:44:04.774014  ...    6755082          NaN         False   \n",
       "5  2021-01-14 15:44:04.774014  ...   27434972          NaN         False   \n",
       "6  2021-01-14 15:44:04.774014  ...   19040588          NaN         False   \n",
       "7  2021-01-14 15:44:04.774014  ...   31595915          NaN         False   \n",
       "8  2021-01-14 15:44:04.774014  ...   42006682          NaN         False   \n",
       "9  2021-01-14 15:44:04.774014  ...   34317644          NaN         False   \n",
       "\n",
       "   FECHA_VERIFICACION_y  OPERADOR_VERIFICACION_y  SCORE_DATO_y  \\\n",
       "0                   NaN                      NaN           4.0   \n",
       "1                   NaN                      NaN           4.0   \n",
       "2                   NaN                      NaN           4.0   \n",
       "3                   NaN                      NaN           4.0   \n",
       "4                   NaN                      NaN           4.0   \n",
       "5                   NaN                      NaN           4.0   \n",
       "6                   NaN                      NaN           4.0   \n",
       "7                   NaN                      NaN           4.0   \n",
       "8                   NaN                      NaN           4.0   \n",
       "9                   NaN                      NaN           4.0   \n",
       "\n",
       "   PUNTAJE_VERIFICADO_y  PUNTAJE_PROPIETARIO_y  PUNTAJE_TIPO_y  \\\n",
       "0                   0.0                    5.0             2.0   \n",
       "1                   0.0                    5.0             2.0   \n",
       "2                   0.0                    5.0             2.0   \n",
       "3                   0.0                    5.0             2.0   \n",
       "4                   0.0                    5.0             2.0   \n",
       "5                   0.0                    5.0             2.0   \n",
       "6                   0.0                    5.0             2.0   \n",
       "7                   0.0                    5.0             2.0   \n",
       "8                   0.0                    5.0             2.0   \n",
       "9                   0.0                    5.0             2.0   \n",
       "\n",
       "   PUNTAJE_SUBTIPO_y  \n",
       "0                4.0  \n",
       "1                4.0  \n",
       "2                4.0  \n",
       "3                4.0  \n",
       "4                4.0  \n",
       "5                4.0  \n",
       "6                4.0  \n",
       "7                4.0  \n",
       "8                4.0  \n",
       "9                4.0  \n",
       "\n",
       "[10 rows x 29 columns]"
      ]
     },
     "execution_count": 38,
     "metadata": {},
     "output_type": "execute_result"
    }
   ],
   "source": [
    "df_joined.head(10)"
   ]
  },
  {
   "cell_type": "markdown",
   "metadata": {},
   "source": [
    "# Duplicados con diferentes fechas de ingreso"
   ]
  },
  {
   "cell_type": "code",
   "execution_count": 39,
   "metadata": {},
   "outputs": [
    {
     "data": {
      "text/html": [
       "<div>\n",
       "<style scoped>\n",
       "    .dataframe tbody tr th:only-of-type {\n",
       "        vertical-align: middle;\n",
       "    }\n",
       "\n",
       "    .dataframe tbody tr th {\n",
       "        vertical-align: top;\n",
       "    }\n",
       "\n",
       "    .dataframe thead th {\n",
       "        text-align: right;\n",
       "    }\n",
       "</style>\n",
       "<table border=\"1\" class=\"dataframe\">\n",
       "  <thead>\n",
       "    <tr style=\"text-align: right;\">\n",
       "      <th></th>\n",
       "      <th>IDMOROSO</th>\n",
       "      <th>TIPO_DOC</th>\n",
       "      <th>NRO_DOC</th>\n",
       "      <th>CUIT_CUIL</th>\n",
       "      <th>TIPO</th>\n",
       "      <th>SUBTIPO</th>\n",
       "      <th>DATO</th>\n",
       "      <th>PROPIETARIO_DATO</th>\n",
       "      <th>PROVEEDOR_DATO</th>\n",
       "      <th>FECHA_INGRESO_DATO</th>\n",
       "      <th>VERIFICADO</th>\n",
       "      <th>FECHA_VERIFICACION</th>\n",
       "      <th>OPERADOR_VERIFICACION</th>\n",
       "      <th>SCORE_DATO</th>\n",
       "      <th>PUNTAJE_VERIFICADO</th>\n",
       "      <th>PUNTAJE_PROPIETARIO</th>\n",
       "      <th>PUNTAJE_TIPO</th>\n",
       "      <th>PUNTAJE_SUBTIPO</th>\n",
       "      <th>PUNTAJE_TOTAL</th>\n",
       "    </tr>\n",
       "  </thead>\n",
       "  <tbody>\n",
       "  </tbody>\n",
       "</table>\n",
       "</div>"
      ],
      "text/plain": [
       "Empty DataFrame\n",
       "Columns: [IDMOROSO, TIPO_DOC, NRO_DOC, CUIT_CUIL, TIPO, SUBTIPO, DATO, PROPIETARIO_DATO, PROVEEDOR_DATO, FECHA_INGRESO_DATO, VERIFICADO, FECHA_VERIFICACION, OPERADOR_VERIFICACION, SCORE_DATO, PUNTAJE_VERIFICADO, PUNTAJE_PROPIETARIO, PUNTAJE_TIPO, PUNTAJE_SUBTIPO, PUNTAJE_TOTAL]\n",
       "Index: []"
      ]
     },
     "execution_count": 39,
     "metadata": {},
     "output_type": "execute_result"
    }
   ],
   "source": [
    "duplicates_subset[duplicates_subset['IDMOROSO'] == 'COL 14961623      ']"
   ]
  },
  {
   "cell_type": "code",
   "execution_count": 40,
   "metadata": {},
   "outputs": [],
   "source": [
    "duplicates_fecha = df_joined[df_joined.duplicated(subset=['IDMOROSO','DATO','PROVEEDOR_DATO'],keep=False)]"
   ]
  },
  {
   "cell_type": "code",
   "execution_count": 41,
   "metadata": {},
   "outputs": [],
   "source": [
    "duplicates_fecha = duplicates_fecha.sort_values('FECHA_INGRESO_DATO').drop_duplicates('IDMOROSO',keep='first')"
   ]
  },
  {
   "cell_type": "markdown",
   "metadata": {},
   "source": [
    "# Append"
   ]
  },
  {
   "cell_type": "code",
   "execution_count": 42,
   "metadata": {},
   "outputs": [],
   "source": [
    "df_joined = df_joined[['IDMOROSO','TIPO_DOC','NRO_DOC_x','CUIT_CUIL_x','TIPO','SUBTIPO','DATO','PROPIETARIO_DATO'\n",
    "                               ,'PROVEEDOR_DATO','FECHA_INGRESO_DATO','VERIFICADO_x','FECHA_VERIFICACION_x'\n",
    "                               ,'OPERADOR_VERIFICACION_x','SCORE_DATO_x']]"
   ]
  },
  {
   "cell_type": "code",
   "execution_count": 43,
   "metadata": {},
   "outputs": [
    {
     "data": {
      "text/html": [
       "<div>\n",
       "<style scoped>\n",
       "    .dataframe tbody tr th:only-of-type {\n",
       "        vertical-align: middle;\n",
       "    }\n",
       "\n",
       "    .dataframe tbody tr th {\n",
       "        vertical-align: top;\n",
       "    }\n",
       "\n",
       "    .dataframe thead th {\n",
       "        text-align: right;\n",
       "    }\n",
       "</style>\n",
       "<table border=\"1\" class=\"dataframe\">\n",
       "  <thead>\n",
       "    <tr style=\"text-align: right;\">\n",
       "      <th></th>\n",
       "      <th>IDMOROSO</th>\n",
       "      <th>TIPO_DOC</th>\n",
       "      <th>NRO_DOC_x</th>\n",
       "      <th>CUIT_CUIL_x</th>\n",
       "      <th>TIPO</th>\n",
       "      <th>SUBTIPO</th>\n",
       "      <th>DATO</th>\n",
       "      <th>PROPIETARIO_DATO</th>\n",
       "      <th>PROVEEDOR_DATO</th>\n",
       "      <th>FECHA_INGRESO_DATO</th>\n",
       "      <th>VERIFICADO_x</th>\n",
       "      <th>FECHA_VERIFICACION_x</th>\n",
       "      <th>OPERADOR_VERIFICACION_x</th>\n",
       "      <th>SCORE_DATO_x</th>\n",
       "    </tr>\n",
       "  </thead>\n",
       "  <tbody>\n",
       "    <tr>\n",
       "      <th>0</th>\n",
       "      <td>DNI 29492319</td>\n",
       "      <td>DNI</td>\n",
       "      <td>29492319</td>\n",
       "      <td>NaN</td>\n",
       "      <td>EMAIL</td>\n",
       "      <td>PERSONAL</td>\n",
       "      <td>abartolome@expresooronegro.com</td>\n",
       "      <td>Propio</td>\n",
       "      <td>AT</td>\n",
       "      <td>2021-01-14 15:44:04.774014</td>\n",
       "      <td>False</td>\n",
       "      <td>NaN</td>\n",
       "      <td>NaN</td>\n",
       "      <td>4.0</td>\n",
       "    </tr>\n",
       "    <tr>\n",
       "      <th>1</th>\n",
       "      <td>DNI 12623904</td>\n",
       "      <td>DNI</td>\n",
       "      <td>12623904</td>\n",
       "      <td>NaN</td>\n",
       "      <td>EMAIL</td>\n",
       "      <td>PERSONAL</td>\n",
       "      <td>mledesma@unimoron.edu.ar</td>\n",
       "      <td>Propio</td>\n",
       "      <td>AT</td>\n",
       "      <td>2021-01-14 15:44:04.774014</td>\n",
       "      <td>False</td>\n",
       "      <td>NaN</td>\n",
       "      <td>NaN</td>\n",
       "      <td>4.0</td>\n",
       "    </tr>\n",
       "    <tr>\n",
       "      <th>2</th>\n",
       "      <td>DNI 26218371</td>\n",
       "      <td>DNI</td>\n",
       "      <td>26218371</td>\n",
       "      <td>NaN</td>\n",
       "      <td>EMAIL</td>\n",
       "      <td>PERSONAL</td>\n",
       "      <td>martin.chuquer@mastergarden.com.ar</td>\n",
       "      <td>Propio</td>\n",
       "      <td>AT</td>\n",
       "      <td>2021-01-14 15:44:04.774014</td>\n",
       "      <td>False</td>\n",
       "      <td>NaN</td>\n",
       "      <td>NaN</td>\n",
       "      <td>4.0</td>\n",
       "    </tr>\n",
       "    <tr>\n",
       "      <th>3</th>\n",
       "      <td>DNI 25597304</td>\n",
       "      <td>DNI</td>\n",
       "      <td>25597304</td>\n",
       "      <td>NaN</td>\n",
       "      <td>EMAIL</td>\n",
       "      <td>PERSONAL</td>\n",
       "      <td>jmurua@mymultilevel.com</td>\n",
       "      <td>Propio</td>\n",
       "      <td>AT</td>\n",
       "      <td>2021-01-14 15:44:04.774014</td>\n",
       "      <td>False</td>\n",
       "      <td>NaN</td>\n",
       "      <td>NaN</td>\n",
       "      <td>4.0</td>\n",
       "    </tr>\n",
       "    <tr>\n",
       "      <th>4</th>\n",
       "      <td>LE  6755082</td>\n",
       "      <td>LE</td>\n",
       "      <td>6755082</td>\n",
       "      <td>NaN</td>\n",
       "      <td>EMAIL</td>\n",
       "      <td>PERSONAL</td>\n",
       "      <td>efpisatti@speedy.com.ar</td>\n",
       "      <td>Propio</td>\n",
       "      <td>AT</td>\n",
       "      <td>2021-01-14 15:44:04.774014</td>\n",
       "      <td>False</td>\n",
       "      <td>NaN</td>\n",
       "      <td>NaN</td>\n",
       "      <td>4.0</td>\n",
       "    </tr>\n",
       "  </tbody>\n",
       "</table>\n",
       "</div>"
      ],
      "text/plain": [
       "             IDMOROSO TIPO_DOC  NRO_DOC_x  CUIT_CUIL_x   TIPO   SUBTIPO  \\\n",
       "0  DNI 29492319            DNI   29492319          NaN  EMAIL  PERSONAL   \n",
       "1  DNI 12623904            DNI   12623904          NaN  EMAIL  PERSONAL   \n",
       "2  DNI 26218371            DNI   26218371          NaN  EMAIL  PERSONAL   \n",
       "3  DNI 25597304            DNI   25597304          NaN  EMAIL  PERSONAL   \n",
       "4  LE  6755082              LE    6755082          NaN  EMAIL  PERSONAL   \n",
       "\n",
       "                                 DATO PROPIETARIO_DATO PROVEEDOR_DATO  \\\n",
       "0      abartolome@expresooronegro.com           Propio             AT   \n",
       "1            mledesma@unimoron.edu.ar           Propio             AT   \n",
       "2  martin.chuquer@mastergarden.com.ar           Propio             AT   \n",
       "3             jmurua@mymultilevel.com           Propio             AT   \n",
       "4             efpisatti@speedy.com.ar           Propio             AT   \n",
       "\n",
       "           FECHA_INGRESO_DATO  VERIFICADO_x  FECHA_VERIFICACION_x  \\\n",
       "0  2021-01-14 15:44:04.774014         False                   NaN   \n",
       "1  2021-01-14 15:44:04.774014         False                   NaN   \n",
       "2  2021-01-14 15:44:04.774014         False                   NaN   \n",
       "3  2021-01-14 15:44:04.774014         False                   NaN   \n",
       "4  2021-01-14 15:44:04.774014         False                   NaN   \n",
       "\n",
       "   OPERADOR_VERIFICACION_x  SCORE_DATO_x  \n",
       "0                      NaN           4.0  \n",
       "1                      NaN           4.0  \n",
       "2                      NaN           4.0  \n",
       "3                      NaN           4.0  \n",
       "4                      NaN           4.0  "
      ]
     },
     "execution_count": 43,
     "metadata": {},
     "output_type": "execute_result"
    }
   ],
   "source": [
    "df_joined.head()"
   ]
  },
  {
   "cell_type": "code",
   "execution_count": 44,
   "metadata": {},
   "outputs": [
    {
     "data": {
      "text/plain": [
       "(11, 14)"
      ]
     },
     "execution_count": 44,
     "metadata": {},
     "output_type": "execute_result"
    }
   ],
   "source": [
    "df_joined.shape"
   ]
  },
  {
   "cell_type": "code",
   "execution_count": 45,
   "metadata": {},
   "outputs": [],
   "source": [
    "df_joined = df_joined.rename(columns={\"VERIFICADO_x\": \"VERIFICADO\", \"SCORE_DATO_x\": \"SCORE_DATO\"\n",
    "                                     ,'NRO_DOC_x': 'NRO_DOC','CUIT_CUIL_x':'CUIT_CUIL'\n",
    "                                     ,'FECHA_VERIFICACION_x':'FECHA_VERIFICACION'})"
   ]
  },
  {
   "cell_type": "code",
   "execution_count": 46,
   "metadata": {},
   "outputs": [],
   "source": [
    "df_joined = df_joined[~df_joined.duplicated(subset=['IDMOROSO','DATO','PROVEEDOR_DATO'],keep=False)]"
   ]
  },
  {
   "cell_type": "code",
   "execution_count": 47,
   "metadata": {},
   "outputs": [
    {
     "data": {
      "text/plain": [
       "(11, 14)"
      ]
     },
     "execution_count": 47,
     "metadata": {},
     "output_type": "execute_result"
    }
   ],
   "source": [
    "df_joined.shape"
   ]
  },
  {
   "cell_type": "code",
   "execution_count": 48,
   "metadata": {},
   "outputs": [],
   "source": [
    "duplicates_fecha = duplicates_fecha[['IDMOROSO','TIPO_DOC','NRO_DOC_x','CUIT_CUIL_x','TIPO','SUBTIPO','DATO','PROPIETARIO_DATO'\n",
    "                               ,'PROVEEDOR_DATO','FECHA_INGRESO_DATO','VERIFICADO_x','FECHA_VERIFICACION_x'\n",
    "                               ,'OPERADOR_VERIFICACION_x','SCORE_DATO_x']]"
   ]
  },
  {
   "cell_type": "code",
   "execution_count": 49,
   "metadata": {},
   "outputs": [
    {
     "data": {
      "text/plain": [
       "(0, 14)"
      ]
     },
     "execution_count": 49,
     "metadata": {},
     "output_type": "execute_result"
    }
   ],
   "source": [
    "duplicates_fecha.shape"
   ]
  },
  {
   "cell_type": "code",
   "execution_count": 50,
   "metadata": {},
   "outputs": [],
   "source": [
    "duplicates_fecha = duplicates_fecha.rename(columns={\"VERIFICADO_x\": \"VERIFICADO\", \"SCORE_DATO_x\": \"SCORE_DATO\"})"
   ]
  },
  {
   "cell_type": "markdown",
   "metadata": {},
   "source": [
    "Dataframe inicial sin los duplicados"
   ]
  },
  {
   "cell_type": "code",
   "execution_count": 51,
   "metadata": {},
   "outputs": [
    {
     "data": {
      "text/plain": [
       "(22, 14)"
      ]
     },
     "execution_count": 51,
     "metadata": {},
     "output_type": "execute_result"
    }
   ],
   "source": [
    "df.shape"
   ]
  },
  {
   "cell_type": "code",
   "execution_count": 52,
   "metadata": {},
   "outputs": [],
   "source": [
    "non_duplicates = df[~df.duplicated(subset=['IDMOROSO','DATO','PROVEEDOR_DATO'],keep=False)]"
   ]
  },
  {
   "cell_type": "code",
   "execution_count": 53,
   "metadata": {},
   "outputs": [
    {
     "data": {
      "text/plain": [
       "(0, 14)"
      ]
     },
     "execution_count": 53,
     "metadata": {},
     "output_type": "execute_result"
    }
   ],
   "source": [
    "non_duplicates.shape"
   ]
  },
  {
   "cell_type": "markdown",
   "metadata": {},
   "source": [
    "Unimos los 3 dataframes y revisamos que no haya duplicados en el mismo subset IDMOROSO-DATO-PROVEEDOR"
   ]
  },
  {
   "cell_type": "code",
   "execution_count": 54,
   "metadata": {},
   "outputs": [],
   "source": [
    "non_duplicates = non_duplicates.dropna(subset=['DATO'])"
   ]
  },
  {
   "cell_type": "code",
   "execution_count": 55,
   "metadata": {},
   "outputs": [
    {
     "data": {
      "text/html": [
       "<div>\n",
       "<style scoped>\n",
       "    .dataframe tbody tr th:only-of-type {\n",
       "        vertical-align: middle;\n",
       "    }\n",
       "\n",
       "    .dataframe tbody tr th {\n",
       "        vertical-align: top;\n",
       "    }\n",
       "\n",
       "    .dataframe thead th {\n",
       "        text-align: right;\n",
       "    }\n",
       "</style>\n",
       "<table border=\"1\" class=\"dataframe\">\n",
       "  <thead>\n",
       "    <tr style=\"text-align: right;\">\n",
       "      <th></th>\n",
       "      <th>IDMOROSO</th>\n",
       "      <th>TIPO_DOC</th>\n",
       "      <th>NRO_DOC</th>\n",
       "      <th>CUIT_CUIL</th>\n",
       "      <th>TIPO</th>\n",
       "      <th>SUBTIPO</th>\n",
       "      <th>DATO</th>\n",
       "      <th>PROPIETARIO_DATO</th>\n",
       "      <th>PROVEEDOR_DATO</th>\n",
       "      <th>FECHA_INGRESO_DATO</th>\n",
       "      <th>VERIFICADO</th>\n",
       "      <th>FECHA_VERIFICACION</th>\n",
       "      <th>OPERADOR_VERIFICACION</th>\n",
       "      <th>SCORE_DATO</th>\n",
       "    </tr>\n",
       "  </thead>\n",
       "  <tbody>\n",
       "  </tbody>\n",
       "</table>\n",
       "</div>"
      ],
      "text/plain": [
       "Empty DataFrame\n",
       "Columns: [IDMOROSO, TIPO_DOC, NRO_DOC, CUIT_CUIL, TIPO, SUBTIPO, DATO, PROPIETARIO_DATO, PROVEEDOR_DATO, FECHA_INGRESO_DATO, VERIFICADO, FECHA_VERIFICACION, OPERADOR_VERIFICACION, SCORE_DATO]\n",
       "Index: []"
      ]
     },
     "execution_count": 55,
     "metadata": {},
     "output_type": "execute_result"
    }
   ],
   "source": [
    "non_duplicates [non_duplicates['NRO_DOC'].isnull()]"
   ]
  },
  {
   "cell_type": "code",
   "execution_count": 56,
   "metadata": {},
   "outputs": [
    {
     "data": {
      "text/html": [
       "<div>\n",
       "<style scoped>\n",
       "    .dataframe tbody tr th:only-of-type {\n",
       "        vertical-align: middle;\n",
       "    }\n",
       "\n",
       "    .dataframe tbody tr th {\n",
       "        vertical-align: top;\n",
       "    }\n",
       "\n",
       "    .dataframe thead th {\n",
       "        text-align: right;\n",
       "    }\n",
       "</style>\n",
       "<table border=\"1\" class=\"dataframe\">\n",
       "  <thead>\n",
       "    <tr style=\"text-align: right;\">\n",
       "      <th></th>\n",
       "      <th>IDMOROSO</th>\n",
       "      <th>TIPO_DOC</th>\n",
       "      <th>NRO_DOC</th>\n",
       "      <th>CUIT_CUIL</th>\n",
       "      <th>TIPO</th>\n",
       "      <th>SUBTIPO</th>\n",
       "      <th>DATO</th>\n",
       "      <th>PROPIETARIO_DATO</th>\n",
       "      <th>PROVEEDOR_DATO</th>\n",
       "      <th>FECHA_INGRESO_DATO</th>\n",
       "      <th>VERIFICADO</th>\n",
       "      <th>FECHA_VERIFICACION</th>\n",
       "      <th>OPERADOR_VERIFICACION</th>\n",
       "      <th>SCORE_DATO</th>\n",
       "    </tr>\n",
       "  </thead>\n",
       "  <tbody>\n",
       "  </tbody>\n",
       "</table>\n",
       "</div>"
      ],
      "text/plain": [
       "Empty DataFrame\n",
       "Columns: [IDMOROSO, TIPO_DOC, NRO_DOC, CUIT_CUIL, TIPO, SUBTIPO, DATO, PROPIETARIO_DATO, PROVEEDOR_DATO, FECHA_INGRESO_DATO, VERIFICADO, FECHA_VERIFICACION, OPERADOR_VERIFICACION, SCORE_DATO]\n",
       "Index: []"
      ]
     },
     "execution_count": 56,
     "metadata": {},
     "output_type": "execute_result"
    }
   ],
   "source": [
    "non_duplicates.head()"
   ]
  },
  {
   "cell_type": "code",
   "execution_count": 57,
   "metadata": {},
   "outputs": [],
   "source": [
    "#df_export = pd.concat([non_duplicates,df_joined,duplicates_fecha])\n",
    "df_export = pd.concat([non_duplicates,df_joined])"
   ]
  },
  {
   "cell_type": "code",
   "execution_count": 58,
   "metadata": {},
   "outputs": [
    {
     "data": {
      "text/html": [
       "<div>\n",
       "<style scoped>\n",
       "    .dataframe tbody tr th:only-of-type {\n",
       "        vertical-align: middle;\n",
       "    }\n",
       "\n",
       "    .dataframe tbody tr th {\n",
       "        vertical-align: top;\n",
       "    }\n",
       "\n",
       "    .dataframe thead th {\n",
       "        text-align: right;\n",
       "    }\n",
       "</style>\n",
       "<table border=\"1\" class=\"dataframe\">\n",
       "  <thead>\n",
       "    <tr style=\"text-align: right;\">\n",
       "      <th></th>\n",
       "      <th>IDMOROSO</th>\n",
       "      <th>TIPO_DOC</th>\n",
       "      <th>NRO_DOC</th>\n",
       "      <th>CUIT_CUIL</th>\n",
       "      <th>TIPO</th>\n",
       "      <th>SUBTIPO</th>\n",
       "      <th>DATO</th>\n",
       "      <th>PROPIETARIO_DATO</th>\n",
       "      <th>PROVEEDOR_DATO</th>\n",
       "      <th>FECHA_INGRESO_DATO</th>\n",
       "      <th>VERIFICADO</th>\n",
       "      <th>FECHA_VERIFICACION</th>\n",
       "      <th>OPERADOR_VERIFICACION</th>\n",
       "      <th>SCORE_DATO</th>\n",
       "      <th>OPERADOR_VERIFICACION_x</th>\n",
       "    </tr>\n",
       "  </thead>\n",
       "  <tbody>\n",
       "    <tr>\n",
       "      <th>0</th>\n",
       "      <td>DNI 29492319</td>\n",
       "      <td>DNI</td>\n",
       "      <td>29492319</td>\n",
       "      <td>NaN</td>\n",
       "      <td>EMAIL</td>\n",
       "      <td>PERSONAL</td>\n",
       "      <td>abartolome@expresooronegro.com</td>\n",
       "      <td>Propio</td>\n",
       "      <td>AT</td>\n",
       "      <td>2021-01-14 15:44:04.774014</td>\n",
       "      <td>False</td>\n",
       "      <td>NaN</td>\n",
       "      <td>NaN</td>\n",
       "      <td>4.0</td>\n",
       "      <td>NaN</td>\n",
       "    </tr>\n",
       "    <tr>\n",
       "      <th>1</th>\n",
       "      <td>DNI 12623904</td>\n",
       "      <td>DNI</td>\n",
       "      <td>12623904</td>\n",
       "      <td>NaN</td>\n",
       "      <td>EMAIL</td>\n",
       "      <td>PERSONAL</td>\n",
       "      <td>mledesma@unimoron.edu.ar</td>\n",
       "      <td>Propio</td>\n",
       "      <td>AT</td>\n",
       "      <td>2021-01-14 15:44:04.774014</td>\n",
       "      <td>False</td>\n",
       "      <td>NaN</td>\n",
       "      <td>NaN</td>\n",
       "      <td>4.0</td>\n",
       "      <td>NaN</td>\n",
       "    </tr>\n",
       "    <tr>\n",
       "      <th>2</th>\n",
       "      <td>DNI 26218371</td>\n",
       "      <td>DNI</td>\n",
       "      <td>26218371</td>\n",
       "      <td>NaN</td>\n",
       "      <td>EMAIL</td>\n",
       "      <td>PERSONAL</td>\n",
       "      <td>martin.chuquer@mastergarden.com.ar</td>\n",
       "      <td>Propio</td>\n",
       "      <td>AT</td>\n",
       "      <td>2021-01-14 15:44:04.774014</td>\n",
       "      <td>False</td>\n",
       "      <td>NaN</td>\n",
       "      <td>NaN</td>\n",
       "      <td>4.0</td>\n",
       "      <td>NaN</td>\n",
       "    </tr>\n",
       "    <tr>\n",
       "      <th>3</th>\n",
       "      <td>DNI 25597304</td>\n",
       "      <td>DNI</td>\n",
       "      <td>25597304</td>\n",
       "      <td>NaN</td>\n",
       "      <td>EMAIL</td>\n",
       "      <td>PERSONAL</td>\n",
       "      <td>jmurua@mymultilevel.com</td>\n",
       "      <td>Propio</td>\n",
       "      <td>AT</td>\n",
       "      <td>2021-01-14 15:44:04.774014</td>\n",
       "      <td>False</td>\n",
       "      <td>NaN</td>\n",
       "      <td>NaN</td>\n",
       "      <td>4.0</td>\n",
       "      <td>NaN</td>\n",
       "    </tr>\n",
       "    <tr>\n",
       "      <th>4</th>\n",
       "      <td>LE  6755082</td>\n",
       "      <td>LE</td>\n",
       "      <td>6755082</td>\n",
       "      <td>NaN</td>\n",
       "      <td>EMAIL</td>\n",
       "      <td>PERSONAL</td>\n",
       "      <td>efpisatti@speedy.com.ar</td>\n",
       "      <td>Propio</td>\n",
       "      <td>AT</td>\n",
       "      <td>2021-01-14 15:44:04.774014</td>\n",
       "      <td>False</td>\n",
       "      <td>NaN</td>\n",
       "      <td>NaN</td>\n",
       "      <td>4.0</td>\n",
       "      <td>NaN</td>\n",
       "    </tr>\n",
       "  </tbody>\n",
       "</table>\n",
       "</div>"
      ],
      "text/plain": [
       "             IDMOROSO TIPO_DOC   NRO_DOC  CUIT_CUIL   TIPO   SUBTIPO  \\\n",
       "0  DNI 29492319            DNI  29492319        NaN  EMAIL  PERSONAL   \n",
       "1  DNI 12623904            DNI  12623904        NaN  EMAIL  PERSONAL   \n",
       "2  DNI 26218371            DNI  26218371        NaN  EMAIL  PERSONAL   \n",
       "3  DNI 25597304            DNI  25597304        NaN  EMAIL  PERSONAL   \n",
       "4  LE  6755082              LE   6755082        NaN  EMAIL  PERSONAL   \n",
       "\n",
       "                                 DATO PROPIETARIO_DATO PROVEEDOR_DATO  \\\n",
       "0      abartolome@expresooronegro.com           Propio             AT   \n",
       "1            mledesma@unimoron.edu.ar           Propio             AT   \n",
       "2  martin.chuquer@mastergarden.com.ar           Propio             AT   \n",
       "3             jmurua@mymultilevel.com           Propio             AT   \n",
       "4             efpisatti@speedy.com.ar           Propio             AT   \n",
       "\n",
       "           FECHA_INGRESO_DATO  VERIFICADO  FECHA_VERIFICACION  \\\n",
       "0  2021-01-14 15:44:04.774014       False                 NaN   \n",
       "1  2021-01-14 15:44:04.774014       False                 NaN   \n",
       "2  2021-01-14 15:44:04.774014       False                 NaN   \n",
       "3  2021-01-14 15:44:04.774014       False                 NaN   \n",
       "4  2021-01-14 15:44:04.774014       False                 NaN   \n",
       "\n",
       "   OPERADOR_VERIFICACION  SCORE_DATO  OPERADOR_VERIFICACION_x  \n",
       "0                    NaN         4.0                      NaN  \n",
       "1                    NaN         4.0                      NaN  \n",
       "2                    NaN         4.0                      NaN  \n",
       "3                    NaN         4.0                      NaN  \n",
       "4                    NaN         4.0                      NaN  "
      ]
     },
     "execution_count": 58,
     "metadata": {},
     "output_type": "execute_result"
    }
   ],
   "source": [
    "df_export.head()"
   ]
  },
  {
   "cell_type": "code",
   "execution_count": 59,
   "metadata": {},
   "outputs": [
    {
     "data": {
      "text/plain": [
       "(11, 15)"
      ]
     },
     "execution_count": 59,
     "metadata": {},
     "output_type": "execute_result"
    }
   ],
   "source": [
    "df_export.shape"
   ]
  },
  {
   "cell_type": "markdown",
   "metadata": {},
   "source": [
    "# QA Duplicados"
   ]
  },
  {
   "cell_type": "code",
   "execution_count": 60,
   "metadata": {},
   "outputs": [],
   "source": [
    "qa_duplicados = df_export[df_export.duplicated(subset=['IDMOROSO','DATO','PROVEEDOR_DATO'],keep=False)]"
   ]
  },
  {
   "cell_type": "code",
   "execution_count": 61,
   "metadata": {},
   "outputs": [
    {
     "data": {
      "text/html": [
       "<div>\n",
       "<style scoped>\n",
       "    .dataframe tbody tr th:only-of-type {\n",
       "        vertical-align: middle;\n",
       "    }\n",
       "\n",
       "    .dataframe tbody tr th {\n",
       "        vertical-align: top;\n",
       "    }\n",
       "\n",
       "    .dataframe thead th {\n",
       "        text-align: right;\n",
       "    }\n",
       "</style>\n",
       "<table border=\"1\" class=\"dataframe\">\n",
       "  <thead>\n",
       "    <tr style=\"text-align: right;\">\n",
       "      <th></th>\n",
       "      <th>IDMOROSO</th>\n",
       "      <th>TIPO_DOC</th>\n",
       "      <th>NRO_DOC</th>\n",
       "      <th>CUIT_CUIL</th>\n",
       "      <th>TIPO</th>\n",
       "      <th>SUBTIPO</th>\n",
       "      <th>DATO</th>\n",
       "      <th>PROPIETARIO_DATO</th>\n",
       "      <th>PROVEEDOR_DATO</th>\n",
       "      <th>FECHA_INGRESO_DATO</th>\n",
       "      <th>VERIFICADO</th>\n",
       "      <th>FECHA_VERIFICACION</th>\n",
       "      <th>OPERADOR_VERIFICACION</th>\n",
       "      <th>SCORE_DATO</th>\n",
       "      <th>OPERADOR_VERIFICACION_x</th>\n",
       "    </tr>\n",
       "  </thead>\n",
       "  <tbody>\n",
       "  </tbody>\n",
       "</table>\n",
       "</div>"
      ],
      "text/plain": [
       "Empty DataFrame\n",
       "Columns: [IDMOROSO, TIPO_DOC, NRO_DOC, CUIT_CUIL, TIPO, SUBTIPO, DATO, PROPIETARIO_DATO, PROVEEDOR_DATO, FECHA_INGRESO_DATO, VERIFICADO, FECHA_VERIFICACION, OPERADOR_VERIFICACION, SCORE_DATO, OPERADOR_VERIFICACION_x]\n",
       "Index: []"
      ]
     },
     "execution_count": 61,
     "metadata": {},
     "output_type": "execute_result"
    }
   ],
   "source": [
    "qa_duplicados"
   ]
  },
  {
   "cell_type": "code",
   "execution_count": 62,
   "metadata": {},
   "outputs": [
    {
     "data": {
      "text/html": [
       "<div>\n",
       "<style scoped>\n",
       "    .dataframe tbody tr th:only-of-type {\n",
       "        vertical-align: middle;\n",
       "    }\n",
       "\n",
       "    .dataframe tbody tr th {\n",
       "        vertical-align: top;\n",
       "    }\n",
       "\n",
       "    .dataframe thead th {\n",
       "        text-align: right;\n",
       "    }\n",
       "</style>\n",
       "<table border=\"1\" class=\"dataframe\">\n",
       "  <thead>\n",
       "    <tr style=\"text-align: right;\">\n",
       "      <th></th>\n",
       "      <th>IDMOROSO</th>\n",
       "      <th>TIPO_DOC</th>\n",
       "      <th>NRO_DOC</th>\n",
       "      <th>CUIT_CUIL</th>\n",
       "      <th>TIPO</th>\n",
       "      <th>SUBTIPO</th>\n",
       "      <th>DATO</th>\n",
       "      <th>PROPIETARIO_DATO</th>\n",
       "      <th>PROVEEDOR_DATO</th>\n",
       "      <th>FECHA_INGRESO_DATO</th>\n",
       "      <th>VERIFICADO</th>\n",
       "      <th>FECHA_VERIFICACION</th>\n",
       "      <th>OPERADOR_VERIFICACION</th>\n",
       "      <th>SCORE_DATO</th>\n",
       "      <th>OPERADOR_VERIFICACION_x</th>\n",
       "    </tr>\n",
       "  </thead>\n",
       "  <tbody>\n",
       "    <tr>\n",
       "      <th>0</th>\n",
       "      <td>DNI 29492319</td>\n",
       "      <td>DNI</td>\n",
       "      <td>29492319</td>\n",
       "      <td>NaN</td>\n",
       "      <td>EMAIL</td>\n",
       "      <td>PERSONAL</td>\n",
       "      <td>abartolome@expresooronegro.com</td>\n",
       "      <td>Propio</td>\n",
       "      <td>AT</td>\n",
       "      <td>2021-01-14 15:44:04.774014</td>\n",
       "      <td>False</td>\n",
       "      <td>NaN</td>\n",
       "      <td>NaN</td>\n",
       "      <td>4.0</td>\n",
       "      <td>NaN</td>\n",
       "    </tr>\n",
       "    <tr>\n",
       "      <th>1</th>\n",
       "      <td>DNI 12623904</td>\n",
       "      <td>DNI</td>\n",
       "      <td>12623904</td>\n",
       "      <td>NaN</td>\n",
       "      <td>EMAIL</td>\n",
       "      <td>PERSONAL</td>\n",
       "      <td>mledesma@unimoron.edu.ar</td>\n",
       "      <td>Propio</td>\n",
       "      <td>AT</td>\n",
       "      <td>2021-01-14 15:44:04.774014</td>\n",
       "      <td>False</td>\n",
       "      <td>NaN</td>\n",
       "      <td>NaN</td>\n",
       "      <td>4.0</td>\n",
       "      <td>NaN</td>\n",
       "    </tr>\n",
       "    <tr>\n",
       "      <th>2</th>\n",
       "      <td>DNI 26218371</td>\n",
       "      <td>DNI</td>\n",
       "      <td>26218371</td>\n",
       "      <td>NaN</td>\n",
       "      <td>EMAIL</td>\n",
       "      <td>PERSONAL</td>\n",
       "      <td>martin.chuquer@mastergarden.com.ar</td>\n",
       "      <td>Propio</td>\n",
       "      <td>AT</td>\n",
       "      <td>2021-01-14 15:44:04.774014</td>\n",
       "      <td>False</td>\n",
       "      <td>NaN</td>\n",
       "      <td>NaN</td>\n",
       "      <td>4.0</td>\n",
       "      <td>NaN</td>\n",
       "    </tr>\n",
       "    <tr>\n",
       "      <th>3</th>\n",
       "      <td>DNI 25597304</td>\n",
       "      <td>DNI</td>\n",
       "      <td>25597304</td>\n",
       "      <td>NaN</td>\n",
       "      <td>EMAIL</td>\n",
       "      <td>PERSONAL</td>\n",
       "      <td>jmurua@mymultilevel.com</td>\n",
       "      <td>Propio</td>\n",
       "      <td>AT</td>\n",
       "      <td>2021-01-14 15:44:04.774014</td>\n",
       "      <td>False</td>\n",
       "      <td>NaN</td>\n",
       "      <td>NaN</td>\n",
       "      <td>4.0</td>\n",
       "      <td>NaN</td>\n",
       "    </tr>\n",
       "    <tr>\n",
       "      <th>4</th>\n",
       "      <td>LE  6755082</td>\n",
       "      <td>LE</td>\n",
       "      <td>6755082</td>\n",
       "      <td>NaN</td>\n",
       "      <td>EMAIL</td>\n",
       "      <td>PERSONAL</td>\n",
       "      <td>efpisatti@speedy.com.ar</td>\n",
       "      <td>Propio</td>\n",
       "      <td>AT</td>\n",
       "      <td>2021-01-14 15:44:04.774014</td>\n",
       "      <td>False</td>\n",
       "      <td>NaN</td>\n",
       "      <td>NaN</td>\n",
       "      <td>4.0</td>\n",
       "      <td>NaN</td>\n",
       "    </tr>\n",
       "  </tbody>\n",
       "</table>\n",
       "</div>"
      ],
      "text/plain": [
       "             IDMOROSO TIPO_DOC   NRO_DOC  CUIT_CUIL   TIPO   SUBTIPO  \\\n",
       "0  DNI 29492319            DNI  29492319        NaN  EMAIL  PERSONAL   \n",
       "1  DNI 12623904            DNI  12623904        NaN  EMAIL  PERSONAL   \n",
       "2  DNI 26218371            DNI  26218371        NaN  EMAIL  PERSONAL   \n",
       "3  DNI 25597304            DNI  25597304        NaN  EMAIL  PERSONAL   \n",
       "4  LE  6755082              LE   6755082        NaN  EMAIL  PERSONAL   \n",
       "\n",
       "                                 DATO PROPIETARIO_DATO PROVEEDOR_DATO  \\\n",
       "0      abartolome@expresooronegro.com           Propio             AT   \n",
       "1            mledesma@unimoron.edu.ar           Propio             AT   \n",
       "2  martin.chuquer@mastergarden.com.ar           Propio             AT   \n",
       "3             jmurua@mymultilevel.com           Propio             AT   \n",
       "4             efpisatti@speedy.com.ar           Propio             AT   \n",
       "\n",
       "           FECHA_INGRESO_DATO  VERIFICADO  FECHA_VERIFICACION  \\\n",
       "0  2021-01-14 15:44:04.774014       False                 NaN   \n",
       "1  2021-01-14 15:44:04.774014       False                 NaN   \n",
       "2  2021-01-14 15:44:04.774014       False                 NaN   \n",
       "3  2021-01-14 15:44:04.774014       False                 NaN   \n",
       "4  2021-01-14 15:44:04.774014       False                 NaN   \n",
       "\n",
       "   OPERADOR_VERIFICACION  SCORE_DATO  OPERADOR_VERIFICACION_x  \n",
       "0                    NaN         4.0                      NaN  \n",
       "1                    NaN         4.0                      NaN  \n",
       "2                    NaN         4.0                      NaN  \n",
       "3                    NaN         4.0                      NaN  \n",
       "4                    NaN         4.0                      NaN  "
      ]
     },
     "execution_count": 62,
     "metadata": {},
     "output_type": "execute_result"
    }
   ],
   "source": [
    "df_export.head()"
   ]
  },
  {
   "cell_type": "code",
   "execution_count": 63,
   "metadata": {},
   "outputs": [
    {
     "data": {
      "text/plain": [
       "False    11\n",
       "Name: VERIFICADO, dtype: int64"
      ]
     },
     "execution_count": 63,
     "metadata": {},
     "output_type": "execute_result"
    }
   ],
   "source": [
    "df_export['VERIFICADO'].value_counts()"
   ]
  },
  {
   "cell_type": "code",
   "execution_count": 64,
   "metadata": {},
   "outputs": [
    {
     "data": {
      "text/plain": [
       "Series([], Name: VERIFICADO, dtype: int64)"
      ]
     },
     "execution_count": 64,
     "metadata": {},
     "output_type": "execute_result"
    }
   ],
   "source": [
    "non_duplicates['VERIFICADO'].value_counts()"
   ]
  },
  {
   "cell_type": "code",
   "execution_count": 65,
   "metadata": {},
   "outputs": [
    {
     "data": {
      "text/plain": [
       "False    11\n",
       "Name: VERIFICADO, dtype: int64"
      ]
     },
     "execution_count": 65,
     "metadata": {},
     "output_type": "execute_result"
    }
   ],
   "source": [
    "df_joined['VERIFICADO'].value_counts()"
   ]
  },
  {
   "cell_type": "code",
   "execution_count": 66,
   "metadata": {},
   "outputs": [
    {
     "data": {
      "text/plain": [
       "Series([], Name: VERIFICADO, dtype: int64)"
      ]
     },
     "execution_count": 66,
     "metadata": {},
     "output_type": "execute_result"
    }
   ],
   "source": [
    "duplicates_fecha['VERIFICADO'].value_counts()"
   ]
  },
  {
   "cell_type": "code",
   "execution_count": 67,
   "metadata": {},
   "outputs": [
    {
     "data": {
      "text/html": [
       "<div>\n",
       "<style scoped>\n",
       "    .dataframe tbody tr th:only-of-type {\n",
       "        vertical-align: middle;\n",
       "    }\n",
       "\n",
       "    .dataframe tbody tr th {\n",
       "        vertical-align: top;\n",
       "    }\n",
       "\n",
       "    .dataframe thead th {\n",
       "        text-align: right;\n",
       "    }\n",
       "</style>\n",
       "<table border=\"1\" class=\"dataframe\">\n",
       "  <thead>\n",
       "    <tr style=\"text-align: right;\">\n",
       "      <th></th>\n",
       "      <th>IDMOROSO</th>\n",
       "      <th>TIPO_DOC</th>\n",
       "      <th>NRO_DOC</th>\n",
       "      <th>CUIT_CUIL</th>\n",
       "      <th>TIPO</th>\n",
       "      <th>SUBTIPO</th>\n",
       "      <th>DATO</th>\n",
       "      <th>PROPIETARIO_DATO</th>\n",
       "      <th>PROVEEDOR_DATO</th>\n",
       "      <th>FECHA_INGRESO_DATO</th>\n",
       "      <th>VERIFICADO</th>\n",
       "      <th>FECHA_VERIFICACION</th>\n",
       "      <th>OPERADOR_VERIFICACION</th>\n",
       "      <th>SCORE_DATO</th>\n",
       "      <th>OPERADOR_VERIFICACION_x</th>\n",
       "    </tr>\n",
       "  </thead>\n",
       "  <tbody>\n",
       "  </tbody>\n",
       "</table>\n",
       "</div>"
      ],
      "text/plain": [
       "Empty DataFrame\n",
       "Columns: [IDMOROSO, TIPO_DOC, NRO_DOC, CUIT_CUIL, TIPO, SUBTIPO, DATO, PROPIETARIO_DATO, PROVEEDOR_DATO, FECHA_INGRESO_DATO, VERIFICADO, FECHA_VERIFICACION, OPERADOR_VERIFICACION, SCORE_DATO, OPERADOR_VERIFICACION_x]\n",
       "Index: []"
      ]
     },
     "execution_count": 67,
     "metadata": {},
     "output_type": "execute_result"
    }
   ],
   "source": [
    "df_export[df_export['IDMOROSO'] == 'DNI 4558814       ']"
   ]
  },
  {
   "cell_type": "code",
   "execution_count": 68,
   "metadata": {
    "scrolled": false
   },
   "outputs": [
    {
     "data": {
      "text/html": [
       "<div>\n",
       "<style scoped>\n",
       "    .dataframe tbody tr th:only-of-type {\n",
       "        vertical-align: middle;\n",
       "    }\n",
       "\n",
       "    .dataframe tbody tr th {\n",
       "        vertical-align: top;\n",
       "    }\n",
       "\n",
       "    .dataframe thead th {\n",
       "        text-align: right;\n",
       "    }\n",
       "</style>\n",
       "<table border=\"1\" class=\"dataframe\">\n",
       "  <thead>\n",
       "    <tr style=\"text-align: right;\">\n",
       "      <th></th>\n",
       "      <th>IDMOROSO</th>\n",
       "      <th>TIPO_DOC</th>\n",
       "      <th>NRO_DOC</th>\n",
       "      <th>CUIT_CUIL</th>\n",
       "      <th>TIPO</th>\n",
       "      <th>SUBTIPO</th>\n",
       "      <th>DATO</th>\n",
       "      <th>PROPIETARIO_DATO</th>\n",
       "      <th>PROVEEDOR_DATO</th>\n",
       "      <th>FECHA_INGRESO_DATO</th>\n",
       "      <th>VERIFICADO</th>\n",
       "      <th>FECHA_VERIFICACION</th>\n",
       "      <th>OPERADOR_VERIFICACION</th>\n",
       "      <th>SCORE_DATO</th>\n",
       "    </tr>\n",
       "  </thead>\n",
       "  <tbody>\n",
       "  </tbody>\n",
       "</table>\n",
       "</div>"
      ],
      "text/plain": [
       "Empty DataFrame\n",
       "Columns: [IDMOROSO, TIPO_DOC, NRO_DOC, CUIT_CUIL, TIPO, SUBTIPO, DATO, PROPIETARIO_DATO, PROVEEDOR_DATO, FECHA_INGRESO_DATO, VERIFICADO, FECHA_VERIFICACION, OPERADOR_VERIFICACION, SCORE_DATO]\n",
       "Index: []"
      ]
     },
     "execution_count": 68,
     "metadata": {},
     "output_type": "execute_result"
    }
   ],
   "source": [
    "df[df['IDMOROSO'] == 'DNI 4558814       ']"
   ]
  },
  {
   "cell_type": "markdown",
   "metadata": {},
   "source": [
    "# Export a DAM_CONTACTABILIDAD"
   ]
  },
  {
   "cell_type": "code",
   "execution_count": 69,
   "metadata": {},
   "outputs": [],
   "source": [
    "df_export = df_export[['IDMOROSO', 'TIPO_DOC','NRO_DOC','CUIT_CUIL','TIPO','SUBTIPO','DATO','PROPIETARIO_DATO','PROVEEDOR_DATO','FECHA_INGRESO_DATO','VERIFICADO','FECHA_VERIFICACION','OPERADOR_VERIFICACION','SCORE_DATO']]"
   ]
  },
  {
   "cell_type": "code",
   "execution_count": 70,
   "metadata": {},
   "outputs": [],
   "source": [
    "df_export.to_csv('D:\\MOPC\\Enriquecimiento de Datos\\Data Cleaning\\Active\\Exports\\DAM_CONTACTABILIDAD\\subset_mails_non_dups.csv',index=False)"
   ]
  },
  {
   "cell_type": "code",
   "execution_count": null,
   "metadata": {},
   "outputs": [],
   "source": []
  }
 ],
 "metadata": {
  "kernelspec": {
   "display_name": "Python 3",
   "language": "python",
   "name": "python3"
  },
  "language_info": {
   "codemirror_mode": {
    "name": "ipython",
    "version": 3
   },
   "file_extension": ".py",
   "mimetype": "text/x-python",
   "name": "python",
   "nbconvert_exporter": "python",
   "pygments_lexer": "ipython3",
   "version": "3.8.3"
  }
 },
 "nbformat": 4,
 "nbformat_minor": 4
}
