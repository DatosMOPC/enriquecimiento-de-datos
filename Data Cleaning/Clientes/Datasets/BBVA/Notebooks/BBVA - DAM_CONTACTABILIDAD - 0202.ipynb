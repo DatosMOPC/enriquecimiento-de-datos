{
 "cells": [
  {
   "cell_type": "code",
   "execution_count": 1,
   "id": "stone-selling",
   "metadata": {},
   "outputs": [],
   "source": [
    "import pandas as pd\n",
    "import numpy as np\n",
    "import re"
   ]
  },
  {
   "cell_type": "code",
   "execution_count": 2,
   "id": "determined-housing",
   "metadata": {},
   "outputs": [],
   "source": [
    "df_sg = pd.read_csv('/mnt/c/Users/Dleg/Data/MOPC/MOPC/Enriquecimiento de Datos/Data Cleaning/Clientes/BBVA/Datasets/0202/INFO_MOPCRC_BBVA_210201.csv', sep=';')"
   ]
  },
  {
   "cell_type": "markdown",
   "id": "prerequisite-farming",
   "metadata": {},
   "source": [
    "## Sal_Gestor"
   ]
  },
  {
   "cell_type": "code",
   "execution_count": 3,
   "id": "together-netherlands",
   "metadata": {},
   "outputs": [
    {
     "data": {
      "text/html": [
       "<div>\n",
       "<style scoped>\n",
       "    .dataframe tbody tr th:only-of-type {\n",
       "        vertical-align: middle;\n",
       "    }\n",
       "\n",
       "    .dataframe tbody tr th {\n",
       "        vertical-align: top;\n",
       "    }\n",
       "\n",
       "    .dataframe thead th {\n",
       "        text-align: right;\n",
       "    }\n",
       "</style>\n",
       "<table border=\"1\" class=\"dataframe\">\n",
       "  <thead>\n",
       "    <tr style=\"text-align: right;\">\n",
       "      <th></th>\n",
       "      <th>Tr�mite</th>\n",
       "      <th>DNI</th>\n",
       "      <th>Operaci�n</th>\n",
       "      <th>Producto</th>\n",
       "      <th>Subproducto</th>\n",
       "      <th>Desc_Subproducto</th>\n",
       "      <th>Nombre_Cliente</th>\n",
       "      <th>Domicilio</th>\n",
       "      <th>numero</th>\n",
       "      <th>piso</th>\n",
       "      <th>...</th>\n",
       "      <th>Cotitulares</th>\n",
       "      <th>F33</th>\n",
       "      <th>F34</th>\n",
       "      <th>F35</th>\n",
       "      <th>ID_AGENCIA</th>\n",
       "      <th>MOPC</th>\n",
       "      <th>FECHA</th>\n",
       "      <th>DEUDA_NETA</th>\n",
       "      <th>SALDO_CONT</th>\n",
       "      <th>DEUDA_CLIENTE</th>\n",
       "    </tr>\n",
       "  </thead>\n",
       "  <tbody>\n",
       "    <tr>\n",
       "      <th>0</th>\n",
       "      <td>151095739</td>\n",
       "      <td>00-00000029014827</td>\n",
       "      <td>0017-0147-79-00114001</td>\n",
       "      <td>79-CUENTA VISA</td>\n",
       "      <td>P</td>\n",
       "      <td>ORO</td>\n",
       "      <td>LEMOS JORGE CARLOS</td>\n",
       "      <td>CLAUDIO MAMERTO CUENCA</td>\n",
       "      <td>1612</td>\n",
       "      <td>NaN</td>\n",
       "      <td>...</td>\n",
       "      <td>NaN</td>\n",
       "      <td>7</td>\n",
       "      <td>0</td>\n",
       "      <td>NaN</td>\n",
       "      <td>NaN</td>\n",
       "      <td>NaN</td>\n",
       "      <td>NaN</td>\n",
       "      <td>0.0</td>\n",
       "      <td>5341</td>\n",
       "      <td>5340,67</td>\n",
       "    </tr>\n",
       "    <tr>\n",
       "      <th>1</th>\n",
       "      <td>153614456</td>\n",
       "      <td>00-00000014590547</td>\n",
       "      <td>0017-0311-79-00217372</td>\n",
       "      <td>79-CUENTA VISA</td>\n",
       "      <td>C</td>\n",
       "      <td>CLASIC</td>\n",
       "      <td>COLASSO MARTA NIEVES</td>\n",
       "      <td>TANDIL</td>\n",
       "      <td>4255</td>\n",
       "      <td>NaN</td>\n",
       "      <td>...</td>\n",
       "      <td>NaN</td>\n",
       "      <td>7</td>\n",
       "      <td>0</td>\n",
       "      <td>NaN</td>\n",
       "      <td>NaN</td>\n",
       "      <td>NaN</td>\n",
       "      <td>NaN</td>\n",
       "      <td>0.0</td>\n",
       "      <td>0</td>\n",
       "      <td>0</td>\n",
       "    </tr>\n",
       "    <tr>\n",
       "      <th>2</th>\n",
       "      <td>154245409</td>\n",
       "      <td>00-00000038230228</td>\n",
       "      <td>0017-0322-79-00355019</td>\n",
       "      <td>79-CUENTA VISA</td>\n",
       "      <td>C</td>\n",
       "      <td>CLASIC</td>\n",
       "      <td>PEREZ MICAELA</td>\n",
       "      <td>PRES JUAN DOMINGO PERON</td>\n",
       "      <td>2575</td>\n",
       "      <td>1</td>\n",
       "      <td>...</td>\n",
       "      <td>NaN</td>\n",
       "      <td>7</td>\n",
       "      <td>0</td>\n",
       "      <td>NaN</td>\n",
       "      <td>NaN</td>\n",
       "      <td>NaN</td>\n",
       "      <td>NaN</td>\n",
       "      <td>0.0</td>\n",
       "      <td>1</td>\n",
       "      <td>0,7</td>\n",
       "    </tr>\n",
       "    <tr>\n",
       "      <th>3</th>\n",
       "      <td>154247520</td>\n",
       "      <td>00-00000022308096</td>\n",
       "      <td>0017-0288-79-00055542</td>\n",
       "      <td>79-CUENTA VISA</td>\n",
       "      <td>C</td>\n",
       "      <td>CLASIC</td>\n",
       "      <td>MONDOTEGUY MIRTA LILIANA</td>\n",
       "      <td>CALLE 62 BIS</td>\n",
       "      <td>1032</td>\n",
       "      <td>NaN</td>\n",
       "      <td>...</td>\n",
       "      <td>NaN</td>\n",
       "      <td>7</td>\n",
       "      <td>0</td>\n",
       "      <td>NaN</td>\n",
       "      <td>NaN</td>\n",
       "      <td>NaN</td>\n",
       "      <td>NaN</td>\n",
       "      <td>0.0</td>\n",
       "      <td>0</td>\n",
       "      <td>0</td>\n",
       "    </tr>\n",
       "    <tr>\n",
       "      <th>4</th>\n",
       "      <td>156311554</td>\n",
       "      <td>00-00000017999492</td>\n",
       "      <td>0017-0264-01-00084529</td>\n",
       "      <td>01-CUENTA CORRIENTE PESOS</td>\n",
       "      <td>2010</td>\n",
       "      <td>NaN</td>\n",
       "      <td>FERNANDEZ RAIMUNDO JAVIER</td>\n",
       "      <td>CORONA MARTINEZ CASA1393</td>\n",
       "      <td>0</td>\n",
       "      <td>NaN</td>\n",
       "      <td>...</td>\n",
       "      <td>NaN</td>\n",
       "      <td>7</td>\n",
       "      <td>0</td>\n",
       "      <td>NaN</td>\n",
       "      <td>NaN</td>\n",
       "      <td>NaN</td>\n",
       "      <td>NaN</td>\n",
       "      <td>0.0</td>\n",
       "      <td>16272</td>\n",
       "      <td>16272,49</td>\n",
       "    </tr>\n",
       "  </tbody>\n",
       "</table>\n",
       "<p>5 rows × 41 columns</p>\n",
       "</div>"
      ],
      "text/plain": [
       "     Tr�mite                DNI              Operaci�n  \\\n",
       "0  151095739  00-00000029014827  0017-0147-79-00114001   \n",
       "1  153614456  00-00000014590547  0017-0311-79-00217372   \n",
       "2  154245409  00-00000038230228  0017-0322-79-00355019   \n",
       "3  154247520  00-00000022308096  0017-0288-79-00055542   \n",
       "4  156311554  00-00000017999492  0017-0264-01-00084529   \n",
       "\n",
       "                    Producto Subproducto Desc_Subproducto  \\\n",
       "0             79-CUENTA VISA           P              ORO   \n",
       "1             79-CUENTA VISA           C           CLASIC   \n",
       "2             79-CUENTA VISA           C           CLASIC   \n",
       "3             79-CUENTA VISA           C           CLASIC   \n",
       "4  01-CUENTA CORRIENTE PESOS        2010              NaN   \n",
       "\n",
       "              Nombre_Cliente                 Domicilio  numero piso  ...  \\\n",
       "0         LEMOS JORGE CARLOS    CLAUDIO MAMERTO CUENCA    1612  NaN  ...   \n",
       "1       COLASSO MARTA NIEVES                    TANDIL    4255  NaN  ...   \n",
       "2              PEREZ MICAELA   PRES JUAN DOMINGO PERON    2575    1  ...   \n",
       "3   MONDOTEGUY MIRTA LILIANA              CALLE 62 BIS    1032  NaN  ...   \n",
       "4  FERNANDEZ RAIMUNDO JAVIER  CORONA MARTINEZ CASA1393       0  NaN  ...   \n",
       "\n",
       "  Cotitulares F33 F34 F35 ID_AGENCIA MOPC FECHA DEUDA_NETA SALDO_CONT  \\\n",
       "0         NaN   7   0 NaN        NaN  NaN   NaN        0.0       5341   \n",
       "1         NaN   7   0 NaN        NaN  NaN   NaN        0.0          0   \n",
       "2         NaN   7   0 NaN        NaN  NaN   NaN        0.0          1   \n",
       "3         NaN   7   0 NaN        NaN  NaN   NaN        0.0          0   \n",
       "4         NaN   7   0 NaN        NaN  NaN   NaN        0.0      16272   \n",
       "\n",
       "  DEUDA_CLIENTE  \n",
       "0       5340,67  \n",
       "1             0  \n",
       "2           0,7  \n",
       "3             0  \n",
       "4      16272,49  \n",
       "\n",
       "[5 rows x 41 columns]"
      ]
     },
     "execution_count": 3,
     "metadata": {},
     "output_type": "execute_result"
    }
   ],
   "source": [
    "df_sg.head()"
   ]
  },
  {
   "cell_type": "code",
   "execution_count": 4,
   "id": "moderate-paint",
   "metadata": {},
   "outputs": [],
   "source": [
    "df_reduced_sg = df_sg [['DNI','Cotitulares']]"
   ]
  },
  {
   "cell_type": "markdown",
   "id": "smaller-kentucky",
   "metadata": {},
   "source": [
    "- IDMOROSO, TIPO_DOC, NRO_DOC, NOMBRE, :  0102.xlsx\n",
    "- CUIT no lo tengo\n",
    "- Datos Cotitular: Sal_Gestor\n",
    "\n",
    "Join por DNI"
   ]
  },
  {
   "cell_type": "code",
   "execution_count": 5,
   "id": "civilian-trace",
   "metadata": {},
   "outputs": [
    {
     "data": {
      "text/html": [
       "<div>\n",
       "<style scoped>\n",
       "    .dataframe tbody tr th:only-of-type {\n",
       "        vertical-align: middle;\n",
       "    }\n",
       "\n",
       "    .dataframe tbody tr th {\n",
       "        vertical-align: top;\n",
       "    }\n",
       "\n",
       "    .dataframe thead th {\n",
       "        text-align: right;\n",
       "    }\n",
       "</style>\n",
       "<table border=\"1\" class=\"dataframe\">\n",
       "  <thead>\n",
       "    <tr style=\"text-align: right;\">\n",
       "      <th></th>\n",
       "      <th>DNI</th>\n",
       "      <th>Cotitulares</th>\n",
       "    </tr>\n",
       "  </thead>\n",
       "  <tbody>\n",
       "    <tr>\n",
       "      <th>0</th>\n",
       "      <td>00-00000029014827</td>\n",
       "      <td>NaN</td>\n",
       "    </tr>\n",
       "    <tr>\n",
       "      <th>1</th>\n",
       "      <td>00-00000014590547</td>\n",
       "      <td>NaN</td>\n",
       "    </tr>\n",
       "    <tr>\n",
       "      <th>2</th>\n",
       "      <td>00-00000038230228</td>\n",
       "      <td>NaN</td>\n",
       "    </tr>\n",
       "    <tr>\n",
       "      <th>3</th>\n",
       "      <td>00-00000022308096</td>\n",
       "      <td>NaN</td>\n",
       "    </tr>\n",
       "    <tr>\n",
       "      <th>4</th>\n",
       "      <td>00-00000017999492</td>\n",
       "      <td>NaN</td>\n",
       "    </tr>\n",
       "  </tbody>\n",
       "</table>\n",
       "</div>"
      ],
      "text/plain": [
       "                 DNI Cotitulares\n",
       "0  00-00000029014827         NaN\n",
       "1  00-00000014590547         NaN\n",
       "2  00-00000038230228         NaN\n",
       "3  00-00000022308096         NaN\n",
       "4  00-00000017999492         NaN"
      ]
     },
     "execution_count": 5,
     "metadata": {},
     "output_type": "execute_result"
    }
   ],
   "source": [
    "df_reduced_sg.head()"
   ]
  },
  {
   "cell_type": "markdown",
   "id": "otherwise-bahrain",
   "metadata": {},
   "source": [
    "## DNI Cleaning"
   ]
  },
  {
   "cell_type": "code",
   "execution_count": 6,
   "id": "electronic-command",
   "metadata": {},
   "outputs": [
    {
     "name": "stderr",
     "output_type": "stream",
     "text": [
      "<ipython-input-6-987d781af3fb>:1: SettingWithCopyWarning: \n",
      "A value is trying to be set on a copy of a slice from a DataFrame.\n",
      "Try using .loc[row_indexer,col_indexer] = value instead\n",
      "\n",
      "See the caveats in the documentation: https://pandas.pydata.org/pandas-docs/stable/user_guide/indexing.html#returning-a-view-versus-a-copy\n",
      "  df_reduced_sg ['DNI'] = df_reduced_sg ['DNI'].str.split('-').str[1]\n"
     ]
    }
   ],
   "source": [
    "df_reduced_sg ['DNI'] = df_reduced_sg ['DNI'].str.split('-').str[1]"
   ]
  },
  {
   "cell_type": "code",
   "execution_count": 7,
   "id": "incoming-equity",
   "metadata": {
    "scrolled": true
   },
   "outputs": [
    {
     "data": {
      "text/html": [
       "<div>\n",
       "<style scoped>\n",
       "    .dataframe tbody tr th:only-of-type {\n",
       "        vertical-align: middle;\n",
       "    }\n",
       "\n",
       "    .dataframe tbody tr th {\n",
       "        vertical-align: top;\n",
       "    }\n",
       "\n",
       "    .dataframe thead th {\n",
       "        text-align: right;\n",
       "    }\n",
       "</style>\n",
       "<table border=\"1\" class=\"dataframe\">\n",
       "  <thead>\n",
       "    <tr style=\"text-align: right;\">\n",
       "      <th></th>\n",
       "      <th>DNI</th>\n",
       "      <th>Cotitulares</th>\n",
       "    </tr>\n",
       "  </thead>\n",
       "  <tbody>\n",
       "    <tr>\n",
       "      <th>0</th>\n",
       "      <td>00000029014827</td>\n",
       "      <td>NaN</td>\n",
       "    </tr>\n",
       "    <tr>\n",
       "      <th>1</th>\n",
       "      <td>00000014590547</td>\n",
       "      <td>NaN</td>\n",
       "    </tr>\n",
       "    <tr>\n",
       "      <th>2</th>\n",
       "      <td>00000038230228</td>\n",
       "      <td>NaN</td>\n",
       "    </tr>\n",
       "    <tr>\n",
       "      <th>3</th>\n",
       "      <td>00000022308096</td>\n",
       "      <td>NaN</td>\n",
       "    </tr>\n",
       "    <tr>\n",
       "      <th>4</th>\n",
       "      <td>00000017999492</td>\n",
       "      <td>NaN</td>\n",
       "    </tr>\n",
       "  </tbody>\n",
       "</table>\n",
       "</div>"
      ],
      "text/plain": [
       "              DNI Cotitulares\n",
       "0  00000029014827         NaN\n",
       "1  00000014590547         NaN\n",
       "2  00000038230228         NaN\n",
       "3  00000022308096         NaN\n",
       "4  00000017999492         NaN"
      ]
     },
     "execution_count": 7,
     "metadata": {},
     "output_type": "execute_result"
    }
   ],
   "source": [
    "df_reduced_sg.head()"
   ]
  },
  {
   "cell_type": "markdown",
   "id": "neutral-photograph",
   "metadata": {},
   "source": [
    "Pasamos a int para volar esos 0s"
   ]
  },
  {
   "cell_type": "code",
   "execution_count": 8,
   "id": "passive-difficulty",
   "metadata": {},
   "outputs": [
    {
     "name": "stderr",
     "output_type": "stream",
     "text": [
      "<ipython-input-8-ce4575868871>:1: SettingWithCopyWarning: \n",
      "A value is trying to be set on a copy of a slice from a DataFrame.\n",
      "Try using .loc[row_indexer,col_indexer] = value instead\n",
      "\n",
      "See the caveats in the documentation: https://pandas.pydata.org/pandas-docs/stable/user_guide/indexing.html#returning-a-view-versus-a-copy\n",
      "  df_reduced_sg ['DNI'] = df_reduced_sg ['DNI'].astype(int)\n"
     ]
    }
   ],
   "source": [
    "df_reduced_sg ['DNI'] = df_reduced_sg ['DNI'].astype(int)"
   ]
  },
  {
   "cell_type": "code",
   "execution_count": 9,
   "id": "perfect-support",
   "metadata": {},
   "outputs": [
    {
     "data": {
      "text/html": [
       "<div>\n",
       "<style scoped>\n",
       "    .dataframe tbody tr th:only-of-type {\n",
       "        vertical-align: middle;\n",
       "    }\n",
       "\n",
       "    .dataframe tbody tr th {\n",
       "        vertical-align: top;\n",
       "    }\n",
       "\n",
       "    .dataframe thead th {\n",
       "        text-align: right;\n",
       "    }\n",
       "</style>\n",
       "<table border=\"1\" class=\"dataframe\">\n",
       "  <thead>\n",
       "    <tr style=\"text-align: right;\">\n",
       "      <th></th>\n",
       "      <th>DNI</th>\n",
       "      <th>Cotitulares</th>\n",
       "    </tr>\n",
       "  </thead>\n",
       "  <tbody>\n",
       "    <tr>\n",
       "      <th>0</th>\n",
       "      <td>29014827</td>\n",
       "      <td>NaN</td>\n",
       "    </tr>\n",
       "    <tr>\n",
       "      <th>1</th>\n",
       "      <td>14590547</td>\n",
       "      <td>NaN</td>\n",
       "    </tr>\n",
       "    <tr>\n",
       "      <th>2</th>\n",
       "      <td>38230228</td>\n",
       "      <td>NaN</td>\n",
       "    </tr>\n",
       "    <tr>\n",
       "      <th>3</th>\n",
       "      <td>22308096</td>\n",
       "      <td>NaN</td>\n",
       "    </tr>\n",
       "    <tr>\n",
       "      <th>4</th>\n",
       "      <td>17999492</td>\n",
       "      <td>NaN</td>\n",
       "    </tr>\n",
       "  </tbody>\n",
       "</table>\n",
       "</div>"
      ],
      "text/plain": [
       "        DNI Cotitulares\n",
       "0  29014827         NaN\n",
       "1  14590547         NaN\n",
       "2  38230228         NaN\n",
       "3  22308096         NaN\n",
       "4  17999492         NaN"
      ]
     },
     "execution_count": 9,
     "metadata": {},
     "output_type": "execute_result"
    }
   ],
   "source": [
    "df_reduced_sg.head()"
   ]
  },
  {
   "cell_type": "markdown",
   "id": "robust-republican",
   "metadata": {},
   "source": [
    "Volvemos a str para luego hacer el join"
   ]
  },
  {
   "cell_type": "code",
   "execution_count": 10,
   "id": "limiting-plymouth",
   "metadata": {},
   "outputs": [
    {
     "name": "stderr",
     "output_type": "stream",
     "text": [
      "<ipython-input-10-41a1021061c1>:1: SettingWithCopyWarning: \n",
      "A value is trying to be set on a copy of a slice from a DataFrame.\n",
      "Try using .loc[row_indexer,col_indexer] = value instead\n",
      "\n",
      "See the caveats in the documentation: https://pandas.pydata.org/pandas-docs/stable/user_guide/indexing.html#returning-a-view-versus-a-copy\n",
      "  df_reduced_sg ['DNI'] = df_reduced_sg ['DNI'].astype(str)\n"
     ]
    }
   ],
   "source": [
    "df_reduced_sg ['DNI'] = df_reduced_sg ['DNI'].astype(str)"
   ]
  },
  {
   "cell_type": "code",
   "execution_count": 11,
   "id": "enormous-commodity",
   "metadata": {
    "scrolled": false
   },
   "outputs": [
    {
     "data": {
      "text/html": [
       "<div>\n",
       "<style scoped>\n",
       "    .dataframe tbody tr th:only-of-type {\n",
       "        vertical-align: middle;\n",
       "    }\n",
       "\n",
       "    .dataframe tbody tr th {\n",
       "        vertical-align: top;\n",
       "    }\n",
       "\n",
       "    .dataframe thead th {\n",
       "        text-align: right;\n",
       "    }\n",
       "</style>\n",
       "<table border=\"1\" class=\"dataframe\">\n",
       "  <thead>\n",
       "    <tr style=\"text-align: right;\">\n",
       "      <th></th>\n",
       "      <th>DNI</th>\n",
       "      <th>Cotitulares</th>\n",
       "    </tr>\n",
       "  </thead>\n",
       "  <tbody>\n",
       "    <tr>\n",
       "      <th>0</th>\n",
       "      <td>29014827</td>\n",
       "      <td>NaN</td>\n",
       "    </tr>\n",
       "    <tr>\n",
       "      <th>1</th>\n",
       "      <td>14590547</td>\n",
       "      <td>NaN</td>\n",
       "    </tr>\n",
       "    <tr>\n",
       "      <th>2</th>\n",
       "      <td>38230228</td>\n",
       "      <td>NaN</td>\n",
       "    </tr>\n",
       "    <tr>\n",
       "      <th>3</th>\n",
       "      <td>22308096</td>\n",
       "      <td>NaN</td>\n",
       "    </tr>\n",
       "    <tr>\n",
       "      <th>4</th>\n",
       "      <td>17999492</td>\n",
       "      <td>NaN</td>\n",
       "    </tr>\n",
       "  </tbody>\n",
       "</table>\n",
       "</div>"
      ],
      "text/plain": [
       "        DNI Cotitulares\n",
       "0  29014827         NaN\n",
       "1  14590547         NaN\n",
       "2  38230228         NaN\n",
       "3  22308096         NaN\n",
       "4  17999492         NaN"
      ]
     },
     "execution_count": 11,
     "metadata": {},
     "output_type": "execute_result"
    }
   ],
   "source": [
    "df_reduced_sg.head()"
   ]
  },
  {
   "cell_type": "markdown",
   "id": "collected-circulation",
   "metadata": {},
   "source": [
    "## Datos Cotitular"
   ]
  },
  {
   "cell_type": "code",
   "execution_count": 12,
   "id": "informative-solid",
   "metadata": {},
   "outputs": [
    {
     "name": "stderr",
     "output_type": "stream",
     "text": [
      "<ipython-input-12-1426c4d468e7>:1: SettingWithCopyWarning: \n",
      "A value is trying to be set on a copy of a slice from a DataFrame.\n",
      "Try using .loc[row_indexer,col_indexer] = value instead\n",
      "\n",
      "See the caveats in the documentation: https://pandas.pydata.org/pandas-docs/stable/user_guide/indexing.html#returning-a-view-versus-a-copy\n",
      "  df_reduced_sg ['Cotitulares'] = df_reduced_sg ['Cotitulares'].str.split('/')\n"
     ]
    }
   ],
   "source": [
    "df_reduced_sg ['Cotitulares'] = df_reduced_sg ['Cotitulares'].str.split('/')"
   ]
  },
  {
   "cell_type": "code",
   "execution_count": 13,
   "id": "silent-idaho",
   "metadata": {
    "scrolled": true
   },
   "outputs": [
    {
     "data": {
      "text/html": [
       "<div>\n",
       "<style scoped>\n",
       "    .dataframe tbody tr th:only-of-type {\n",
       "        vertical-align: middle;\n",
       "    }\n",
       "\n",
       "    .dataframe tbody tr th {\n",
       "        vertical-align: top;\n",
       "    }\n",
       "\n",
       "    .dataframe thead th {\n",
       "        text-align: right;\n",
       "    }\n",
       "</style>\n",
       "<table border=\"1\" class=\"dataframe\">\n",
       "  <thead>\n",
       "    <tr style=\"text-align: right;\">\n",
       "      <th></th>\n",
       "      <th>DNI</th>\n",
       "      <th>Cotitulares</th>\n",
       "    </tr>\n",
       "  </thead>\n",
       "  <tbody>\n",
       "    <tr>\n",
       "      <th>6700</th>\n",
       "      <td>22718853</td>\n",
       "      <td>[ADICIONAL TARJETA                            ...</td>\n",
       "    </tr>\n",
       "    <tr>\n",
       "      <th>6701</th>\n",
       "      <td>22718853</td>\n",
       "      <td>NaN</td>\n",
       "    </tr>\n",
       "  </tbody>\n",
       "</table>\n",
       "</div>"
      ],
      "text/plain": [
       "           DNI                                        Cotitulares\n",
       "6700  22718853  [ADICIONAL TARJETA                            ...\n",
       "6701  22718853                                                NaN"
      ]
     },
     "execution_count": 13,
     "metadata": {},
     "output_type": "execute_result"
    }
   ],
   "source": [
    "df_reduced_sg[df_reduced_sg ['DNI'] == '22718853']"
   ]
  },
  {
   "cell_type": "code",
   "execution_count": 14,
   "id": "objective-discipline",
   "metadata": {
    "scrolled": true
   },
   "outputs": [],
   "source": [
    "#df_reduced_sg.explode('Datos cotitular')"
   ]
  },
  {
   "cell_type": "code",
   "execution_count": 15,
   "id": "local-mediterranean",
   "metadata": {
    "scrolled": true
   },
   "outputs": [],
   "source": [
    "#df_reduced_sg ['Datos_cotitular_clean'] = [df_reduced_sg['Cotitulares'][i][10:] if len(str(df_reduced_sg['Cotitulares'][i])> 8 else np.nan for i in range (df_reduced_sg['Cotitulares'].count())]"
   ]
  },
  {
   "cell_type": "code",
   "execution_count": 16,
   "id": "increased-section",
   "metadata": {},
   "outputs": [
    {
     "name": "stderr",
     "output_type": "stream",
     "text": [
      "<ipython-input-16-ddd32459e4f0>:1: SettingWithCopyWarning: \n",
      "A value is trying to be set on a copy of a slice from a DataFrame.\n",
      "Try using .loc[row_indexer,col_indexer] = value instead\n",
      "\n",
      "See the caveats in the documentation: https://pandas.pydata.org/pandas-docs/stable/user_guide/indexing.html#returning-a-view-versus-a-copy\n",
      "  df_reduced_sg ['Datos_cotitular_clean'] = df_reduced_sg['Cotitulares']\n"
     ]
    }
   ],
   "source": [
    "df_reduced_sg ['Datos_cotitular_clean'] = df_reduced_sg['Cotitulares']"
   ]
  },
  {
   "cell_type": "code",
   "execution_count": 17,
   "id": "national-benjamin",
   "metadata": {},
   "outputs": [],
   "source": [
    "df_reduced_sg = df_reduced_sg [['DNI','Datos_cotitular_clean']]"
   ]
  },
  {
   "cell_type": "code",
   "execution_count": 18,
   "id": "pressed-stylus",
   "metadata": {},
   "outputs": [],
   "source": [
    "df_reduced_sg = df_reduced_sg.explode('Datos_cotitular_clean')"
   ]
  },
  {
   "cell_type": "code",
   "execution_count": 19,
   "id": "stretch-ordering",
   "metadata": {},
   "outputs": [
    {
     "data": {
      "text/html": [
       "<div>\n",
       "<style scoped>\n",
       "    .dataframe tbody tr th:only-of-type {\n",
       "        vertical-align: middle;\n",
       "    }\n",
       "\n",
       "    .dataframe tbody tr th {\n",
       "        vertical-align: top;\n",
       "    }\n",
       "\n",
       "    .dataframe thead th {\n",
       "        text-align: right;\n",
       "    }\n",
       "</style>\n",
       "<table border=\"1\" class=\"dataframe\">\n",
       "  <thead>\n",
       "    <tr style=\"text-align: right;\">\n",
       "      <th></th>\n",
       "      <th>DNI</th>\n",
       "      <th>Datos_cotitular_clean</th>\n",
       "    </tr>\n",
       "  </thead>\n",
       "  <tbody>\n",
       "    <tr>\n",
       "      <th>0</th>\n",
       "      <td>29014827</td>\n",
       "      <td>NaN</td>\n",
       "    </tr>\n",
       "    <tr>\n",
       "      <th>1</th>\n",
       "      <td>14590547</td>\n",
       "      <td>NaN</td>\n",
       "    </tr>\n",
       "    <tr>\n",
       "      <th>2</th>\n",
       "      <td>38230228</td>\n",
       "      <td>NaN</td>\n",
       "    </tr>\n",
       "    <tr>\n",
       "      <th>3</th>\n",
       "      <td>22308096</td>\n",
       "      <td>NaN</td>\n",
       "    </tr>\n",
       "    <tr>\n",
       "      <th>4</th>\n",
       "      <td>17999492</td>\n",
       "      <td>NaN</td>\n",
       "    </tr>\n",
       "  </tbody>\n",
       "</table>\n",
       "</div>"
      ],
      "text/plain": [
       "        DNI Datos_cotitular_clean\n",
       "0  29014827                   NaN\n",
       "1  14590547                   NaN\n",
       "2  38230228                   NaN\n",
       "3  22308096                   NaN\n",
       "4  17999492                   NaN"
      ]
     },
     "execution_count": 19,
     "metadata": {},
     "output_type": "execute_result"
    }
   ],
   "source": [
    "df_reduced_sg.head()"
   ]
  },
  {
   "cell_type": "code",
   "execution_count": 20,
   "id": "italic-phoenix",
   "metadata": {},
   "outputs": [
    {
     "data": {
      "text/plain": [
       "(17546, 2)"
      ]
     },
     "execution_count": 20,
     "metadata": {},
     "output_type": "execute_result"
    }
   ],
   "source": [
    "df_reduced_sg.shape"
   ]
  },
  {
   "cell_type": "code",
   "execution_count": 21,
   "id": "seven-lawrence",
   "metadata": {},
   "outputs": [],
   "source": [
    "df_reduced_sg ['Datos_cotitular_clean'] = df_reduced_sg['Datos_cotitular_clean'].str.strip()"
   ]
  },
  {
   "cell_type": "markdown",
   "id": "korean-measurement",
   "metadata": {},
   "source": [
    "### Dropeamos NaNs"
   ]
  },
  {
   "cell_type": "code",
   "execution_count": 22,
   "id": "coordinate-starter",
   "metadata": {},
   "outputs": [],
   "source": [
    "df_reduced_sg = df_reduced_sg.dropna(axis=0)"
   ]
  },
  {
   "cell_type": "code",
   "execution_count": 23,
   "id": "intermediate-solution",
   "metadata": {},
   "outputs": [
    {
     "data": {
      "text/html": [
       "<div>\n",
       "<style scoped>\n",
       "    .dataframe tbody tr th:only-of-type {\n",
       "        vertical-align: middle;\n",
       "    }\n",
       "\n",
       "    .dataframe tbody tr th {\n",
       "        vertical-align: top;\n",
       "    }\n",
       "\n",
       "    .dataframe thead th {\n",
       "        text-align: right;\n",
       "    }\n",
       "</style>\n",
       "<table border=\"1\" class=\"dataframe\">\n",
       "  <thead>\n",
       "    <tr style=\"text-align: right;\">\n",
       "      <th></th>\n",
       "      <th>DNI</th>\n",
       "      <th>Datos_cotitular_clean</th>\n",
       "    </tr>\n",
       "  </thead>\n",
       "  <tbody>\n",
       "    <tr>\n",
       "      <th>10620</th>\n",
       "      <td>25277262</td>\n",
       "      <td>02994440500</td>\n",
       "    </tr>\n",
       "    <tr>\n",
       "      <th>10620</th>\n",
       "      <td>25277262</td>\n",
       "      <td>02994982436</td>\n",
       "    </tr>\n",
       "    <tr>\n",
       "      <th>10620</th>\n",
       "      <td>25277262</td>\n",
       "      <td>02994401010</td>\n",
       "    </tr>\n",
       "    <tr>\n",
       "      <th>10620</th>\n",
       "      <td>25277262</td>\n",
       "      <td></td>\n",
       "    </tr>\n",
       "    <tr>\n",
       "      <th>10620</th>\n",
       "      <td>25277262</td>\n",
       "      <td>-</td>\n",
       "    </tr>\n",
       "  </tbody>\n",
       "</table>\n",
       "</div>"
      ],
      "text/plain": [
       "            DNI Datos_cotitular_clean\n",
       "10620  25277262           02994440500\n",
       "10620  25277262           02994982436\n",
       "10620  25277262           02994401010\n",
       "10620  25277262                      \n",
       "10620  25277262                     -"
      ]
     },
     "execution_count": 23,
     "metadata": {},
     "output_type": "execute_result"
    }
   ],
   "source": [
    "df_reduced_sg.tail()"
   ]
  },
  {
   "cell_type": "code",
   "execution_count": 24,
   "id": "smoking-hindu",
   "metadata": {},
   "outputs": [
    {
     "data": {
      "text/plain": [
       "(7291, 2)"
      ]
     },
     "execution_count": 24,
     "metadata": {},
     "output_type": "execute_result"
    }
   ],
   "source": [
    "df_reduced_sg.shape"
   ]
  },
  {
   "cell_type": "code",
   "execution_count": 25,
   "id": "geographic-cleaners",
   "metadata": {},
   "outputs": [],
   "source": [
    "#df_reduced_sg[df_reduced_sg['DNI'] == '27535549']"
   ]
  },
  {
   "cell_type": "code",
   "execution_count": 26,
   "id": "intelligent-montgomery",
   "metadata": {},
   "outputs": [],
   "source": [
    "#s = df_reduced_sg[df_reduced_sg['DNI'] == '27535549']"
   ]
  },
  {
   "cell_type": "markdown",
   "id": "abstract-source",
   "metadata": {},
   "source": [
    "Nos quedamos sólo con los números de teléfono"
   ]
  },
  {
   "cell_type": "code",
   "execution_count": 27,
   "id": "unlikely-comparison",
   "metadata": {},
   "outputs": [],
   "source": [
    "df_clean = df_reduced_sg[(df_reduced_sg['Datos_cotitular_clean'].str.isdigit()) & (df_reduced_sg['Datos_cotitular_clean'].str.len() >=8)]"
   ]
  },
  {
   "cell_type": "code",
   "execution_count": 28,
   "id": "necessary-hygiene",
   "metadata": {
    "scrolled": true
   },
   "outputs": [
    {
     "data": {
      "text/html": [
       "<div>\n",
       "<style scoped>\n",
       "    .dataframe tbody tr th:only-of-type {\n",
       "        vertical-align: middle;\n",
       "    }\n",
       "\n",
       "    .dataframe tbody tr th {\n",
       "        vertical-align: top;\n",
       "    }\n",
       "\n",
       "    .dataframe thead th {\n",
       "        text-align: right;\n",
       "    }\n",
       "</style>\n",
       "<table border=\"1\" class=\"dataframe\">\n",
       "  <thead>\n",
       "    <tr style=\"text-align: right;\">\n",
       "      <th></th>\n",
       "      <th>DNI</th>\n",
       "      <th>Datos_cotitular_clean</th>\n",
       "    </tr>\n",
       "  </thead>\n",
       "  <tbody>\n",
       "    <tr>\n",
       "      <th>5</th>\n",
       "      <td>17999492</td>\n",
       "      <td>1559436976</td>\n",
       "    </tr>\n",
       "    <tr>\n",
       "      <th>5</th>\n",
       "      <td>17999492</td>\n",
       "      <td>48053932</td>\n",
       "    </tr>\n",
       "    <tr>\n",
       "      <th>5</th>\n",
       "      <td>17999492</td>\n",
       "      <td>48280546</td>\n",
       "    </tr>\n",
       "    <tr>\n",
       "      <th>6</th>\n",
       "      <td>17999492</td>\n",
       "      <td>1559436976</td>\n",
       "    </tr>\n",
       "    <tr>\n",
       "      <th>6</th>\n",
       "      <td>17999492</td>\n",
       "      <td>48053932</td>\n",
       "    </tr>\n",
       "  </tbody>\n",
       "</table>\n",
       "</div>"
      ],
      "text/plain": [
       "        DNI Datos_cotitular_clean\n",
       "5  17999492            1559436976\n",
       "5  17999492              48053932\n",
       "5  17999492              48280546\n",
       "6  17999492            1559436976\n",
       "6  17999492              48053932"
      ]
     },
     "execution_count": 28,
     "metadata": {},
     "output_type": "execute_result"
    }
   ],
   "source": [
    "df_clean.head()"
   ]
  },
  {
   "cell_type": "code",
   "execution_count": 29,
   "id": "missing-fetish",
   "metadata": {},
   "outputs": [],
   "source": [
    "df_clean = df_clean.rename(columns = {'DNI':'NRO_DOC','Datos_cotitular_clean': 'DATO'})"
   ]
  },
  {
   "cell_type": "code",
   "execution_count": 30,
   "id": "little-happening",
   "metadata": {
    "scrolled": true
   },
   "outputs": [
    {
     "data": {
      "text/plain": [
       "(1092, 2)"
      ]
     },
     "execution_count": 30,
     "metadata": {},
     "output_type": "execute_result"
    }
   ],
   "source": [
    "df_clean.shape"
   ]
  },
  {
   "cell_type": "code",
   "execution_count": 31,
   "id": "included-football",
   "metadata": {},
   "outputs": [],
   "source": [
    "df_clean = df_clean.astype({'NRO_DOC': 'str'})"
   ]
  },
  {
   "cell_type": "markdown",
   "id": "canadian-commodity",
   "metadata": {},
   "source": [
    "## Concatenación con el archivo 0102.xlsx"
   ]
  },
  {
   "cell_type": "code",
   "execution_count": 32,
   "id": "latin-maintenance",
   "metadata": {},
   "outputs": [],
   "source": [
    "df2 = pd.read_excel('/mnt/c/Users/Dleg/Data/MOPC/MOPC/Enriquecimiento de Datos/Data Cleaning/Clientes/BBVA/Datasets/0202/0102.xlsx', sheet_name = 'dynamic (2)')"
   ]
  },
  {
   "cell_type": "code",
   "execution_count": 33,
   "id": "delayed-month",
   "metadata": {
    "scrolled": true
   },
   "outputs": [
    {
     "data": {
      "text/html": [
       "<div>\n",
       "<style scoped>\n",
       "    .dataframe tbody tr th:only-of-type {\n",
       "        vertical-align: middle;\n",
       "    }\n",
       "\n",
       "    .dataframe tbody tr th {\n",
       "        vertical-align: top;\n",
       "    }\n",
       "\n",
       "    .dataframe thead th {\n",
       "        text-align: right;\n",
       "    }\n",
       "</style>\n",
       "<table border=\"1\" class=\"dataframe\">\n",
       "  <thead>\n",
       "    <tr style=\"text-align: right;\">\n",
       "      <th></th>\n",
       "      <th>CLIENTE</th>\n",
       "      <th>T_DOC</th>\n",
       "      <th>NRO_DOC</th>\n",
       "      <th>NOMBRE</th>\n",
       "      <th>RESP_PRINCIPAL</th>\n",
       "      <th>RESP_CPMERCIAL</th>\n",
       "      <th>RESP_DIRECTO</th>\n",
       "      <th>AGENTE_ASIGNADO</th>\n",
       "      <th>LISTA</th>\n",
       "      <th>FEC_ULT_COBRO</th>\n",
       "      <th>...</th>\n",
       "      <th>DIAS_ATRASO</th>\n",
       "      <th>FEC_RADICA</th>\n",
       "      <th>BANCA</th>\n",
       "      <th>ZONA</th>\n",
       "      <th>DESC_ZONA</th>\n",
       "      <th>IMP_ASIGNADO</th>\n",
       "      <th>IMP_COBROS_DD_ASIGNAC</th>\n",
       "      <th>SOLVENCIA</th>\n",
       "      <th>FECHA_SOLVENCIA</th>\n",
       "      <th>S_CONTENCIOSO</th>\n",
       "    </tr>\n",
       "  </thead>\n",
       "  <tbody>\n",
       "    <tr>\n",
       "      <th>0</th>\n",
       "      <td>24329259</td>\n",
       "      <td>0</td>\n",
       "      <td>32238752</td>\n",
       "      <td>CHISELINO RAFAEL ENRIQUE</td>\n",
       "      <td>RASSORI COSTA, FERNANDO (47)</td>\n",
       "      <td>NaN</td>\n",
       "      <td>MOPC</td>\n",
       "      <td>NaN</td>\n",
       "      <td>Ag 1ra MOPC</td>\n",
       "      <td>2021-01-15</td>\n",
       "      <td>...</td>\n",
       "      <td>263</td>\n",
       "      <td>2020-08-11</td>\n",
       "      <td>34</td>\n",
       "      <td>9012</td>\n",
       "      <td>CORDOBA (9012)</td>\n",
       "      <td>76661.95</td>\n",
       "      <td>15000.0</td>\n",
       "      <td>0.0</td>\n",
       "      <td>2020-09-03</td>\n",
       "      <td>61662</td>\n",
       "    </tr>\n",
       "    <tr>\n",
       "      <th>1</th>\n",
       "      <td>24332285</td>\n",
       "      <td>0</td>\n",
       "      <td>23597329</td>\n",
       "      <td>MASLUP ABRAHAM CARLOS</td>\n",
       "      <td>RASSORI COSTA, FERNANDO (47)</td>\n",
       "      <td>NaN</td>\n",
       "      <td>MOPC</td>\n",
       "      <td>NaN</td>\n",
       "      <td>Ag 1ra MOPC</td>\n",
       "      <td>2020-05-07</td>\n",
       "      <td>...</td>\n",
       "      <td>116</td>\n",
       "      <td>2021-01-05</td>\n",
       "      <td>30</td>\n",
       "      <td>9014</td>\n",
       "      <td>CUYO (9014)</td>\n",
       "      <td>12198.59</td>\n",
       "      <td>0.0</td>\n",
       "      <td>NaN</td>\n",
       "      <td>1899-12-31</td>\n",
       "      <td>12199</td>\n",
       "    </tr>\n",
       "    <tr>\n",
       "      <th>2</th>\n",
       "      <td>24336032</td>\n",
       "      <td>0</td>\n",
       "      <td>29357614</td>\n",
       "      <td>ARTAZA HECTOR</td>\n",
       "      <td>RASSORI COSTA, FERNANDO (47)</td>\n",
       "      <td>NaN</td>\n",
       "      <td>MOPC</td>\n",
       "      <td>NaN</td>\n",
       "      <td>Ag 1ra MOPC</td>\n",
       "      <td>2020-08-19</td>\n",
       "      <td>...</td>\n",
       "      <td>263</td>\n",
       "      <td>2020-05-12</td>\n",
       "      <td>34</td>\n",
       "      <td>9001</td>\n",
       "      <td>SUR (9001)</td>\n",
       "      <td>0.00</td>\n",
       "      <td>0.0</td>\n",
       "      <td>NaN</td>\n",
       "      <td>1899-12-31</td>\n",
       "      <td>40397</td>\n",
       "    </tr>\n",
       "    <tr>\n",
       "      <th>3</th>\n",
       "      <td>24339339</td>\n",
       "      <td>0</td>\n",
       "      <td>34108519</td>\n",
       "      <td>CARRIZO MARIANO GERARDO</td>\n",
       "      <td>RASSORI COSTA, FERNANDO (47)</td>\n",
       "      <td>NaN</td>\n",
       "      <td>MOPC</td>\n",
       "      <td>NaN</td>\n",
       "      <td>Ag 1ra MOPC</td>\n",
       "      <td>2020-08-19</td>\n",
       "      <td>...</td>\n",
       "      <td>263</td>\n",
       "      <td>2020-05-12</td>\n",
       "      <td>34</td>\n",
       "      <td>9084</td>\n",
       "      <td>MICROCENTRO SUR (9084)</td>\n",
       "      <td>0.00</td>\n",
       "      <td>0.0</td>\n",
       "      <td>NaN</td>\n",
       "      <td>1899-12-31</td>\n",
       "      <td>45639</td>\n",
       "    </tr>\n",
       "    <tr>\n",
       "      <th>4</th>\n",
       "      <td>24347299</td>\n",
       "      <td>0</td>\n",
       "      <td>24930124</td>\n",
       "      <td>SUAREZ PAULA LORENA</td>\n",
       "      <td>RASSORI COSTA, FERNANDO (47)</td>\n",
       "      <td>NaN</td>\n",
       "      <td>MOPC</td>\n",
       "      <td>NaN</td>\n",
       "      <td>Ag 1ra MOPC</td>\n",
       "      <td>2020-09-14</td>\n",
       "      <td>...</td>\n",
       "      <td>263</td>\n",
       "      <td>2020-05-12</td>\n",
       "      <td>34</td>\n",
       "      <td>9001</td>\n",
       "      <td>SUR (9001)</td>\n",
       "      <td>0.00</td>\n",
       "      <td>0.0</td>\n",
       "      <td>NaN</td>\n",
       "      <td>1899-12-31</td>\n",
       "      <td>22151</td>\n",
       "    </tr>\n",
       "  </tbody>\n",
       "</table>\n",
       "<p>5 rows × 40 columns</p>\n",
       "</div>"
      ],
      "text/plain": [
       "    CLIENTE  T_DOC   NRO_DOC                    NOMBRE  \\\n",
       "0  24329259      0  32238752  CHISELINO RAFAEL ENRIQUE   \n",
       "1  24332285      0  23597329     MASLUP ABRAHAM CARLOS   \n",
       "2  24336032      0  29357614             ARTAZA HECTOR   \n",
       "3  24339339      0  34108519   CARRIZO MARIANO GERARDO   \n",
       "4  24347299      0  24930124       SUAREZ PAULA LORENA   \n",
       "\n",
       "                 RESP_PRINCIPAL  RESP_CPMERCIAL RESP_DIRECTO  AGENTE_ASIGNADO  \\\n",
       "0  RASSORI COSTA, FERNANDO (47)             NaN        MOPC               NaN   \n",
       "1  RASSORI COSTA, FERNANDO (47)             NaN        MOPC               NaN   \n",
       "2  RASSORI COSTA, FERNANDO (47)             NaN        MOPC               NaN   \n",
       "3  RASSORI COSTA, FERNANDO (47)             NaN        MOPC               NaN   \n",
       "4  RASSORI COSTA, FERNANDO (47)             NaN        MOPC               NaN   \n",
       "\n",
       "         LISTA FEC_ULT_COBRO  ...  DIAS_ATRASO FEC_RADICA  BANCA  ZONA  \\\n",
       "0  Ag 1ra MOPC    2021-01-15  ...          263 2020-08-11     34  9012   \n",
       "1  Ag 1ra MOPC    2020-05-07  ...          116 2021-01-05     30  9014   \n",
       "2  Ag 1ra MOPC    2020-08-19  ...          263 2020-05-12     34  9001   \n",
       "3  Ag 1ra MOPC    2020-08-19  ...          263 2020-05-12     34  9084   \n",
       "4  Ag 1ra MOPC    2020-09-14  ...          263 2020-05-12     34  9001   \n",
       "\n",
       "                DESC_ZONA  IMP_ASIGNADO  IMP_COBROS_DD_ASIGNAC SOLVENCIA  \\\n",
       "0          CORDOBA (9012)      76661.95                15000.0       0.0   \n",
       "1             CUYO (9014)      12198.59                    0.0       NaN   \n",
       "2              SUR (9001)          0.00                    0.0       NaN   \n",
       "3  MICROCENTRO SUR (9084)          0.00                    0.0       NaN   \n",
       "4              SUR (9001)          0.00                    0.0       NaN   \n",
       "\n",
       "  FECHA_SOLVENCIA S_CONTENCIOSO  \n",
       "0      2020-09-03         61662  \n",
       "1      1899-12-31         12199  \n",
       "2      1899-12-31         40397  \n",
       "3      1899-12-31         45639  \n",
       "4      1899-12-31         22151  \n",
       "\n",
       "[5 rows x 40 columns]"
      ]
     },
     "execution_count": 33,
     "metadata": {},
     "output_type": "execute_result"
    }
   ],
   "source": [
    "df2.head()"
   ]
  },
  {
   "cell_type": "code",
   "execution_count": 34,
   "id": "brave-removal",
   "metadata": {},
   "outputs": [],
   "source": [
    "df2 = df2 [['T_DOC','NRO_DOC']]"
   ]
  },
  {
   "cell_type": "code",
   "execution_count": 35,
   "id": "stainless-wheel",
   "metadata": {},
   "outputs": [],
   "source": [
    "df2 = df2.astype({'NRO_DOC': 'str'})"
   ]
  },
  {
   "cell_type": "code",
   "execution_count": 36,
   "id": "durable-mouth",
   "metadata": {},
   "outputs": [
    {
     "data": {
      "text/plain": [
       "(7967, 2)"
      ]
     },
     "execution_count": 36,
     "metadata": {},
     "output_type": "execute_result"
    }
   ],
   "source": [
    "df2.shape"
   ]
  },
  {
   "cell_type": "code",
   "execution_count": 37,
   "id": "worse-credits",
   "metadata": {
    "scrolled": true
   },
   "outputs": [
    {
     "data": {
      "text/html": [
       "<div>\n",
       "<style scoped>\n",
       "    .dataframe tbody tr th:only-of-type {\n",
       "        vertical-align: middle;\n",
       "    }\n",
       "\n",
       "    .dataframe tbody tr th {\n",
       "        vertical-align: top;\n",
       "    }\n",
       "\n",
       "    .dataframe thead th {\n",
       "        text-align: right;\n",
       "    }\n",
       "</style>\n",
       "<table border=\"1\" class=\"dataframe\">\n",
       "  <thead>\n",
       "    <tr style=\"text-align: right;\">\n",
       "      <th></th>\n",
       "      <th>T_DOC</th>\n",
       "      <th>NRO_DOC</th>\n",
       "    </tr>\n",
       "  </thead>\n",
       "  <tbody>\n",
       "    <tr>\n",
       "      <th>0</th>\n",
       "      <td>0</td>\n",
       "      <td>32238752</td>\n",
       "    </tr>\n",
       "    <tr>\n",
       "      <th>1</th>\n",
       "      <td>0</td>\n",
       "      <td>23597329</td>\n",
       "    </tr>\n",
       "    <tr>\n",
       "      <th>2</th>\n",
       "      <td>0</td>\n",
       "      <td>29357614</td>\n",
       "    </tr>\n",
       "    <tr>\n",
       "      <th>3</th>\n",
       "      <td>0</td>\n",
       "      <td>34108519</td>\n",
       "    </tr>\n",
       "    <tr>\n",
       "      <th>4</th>\n",
       "      <td>0</td>\n",
       "      <td>24930124</td>\n",
       "    </tr>\n",
       "  </tbody>\n",
       "</table>\n",
       "</div>"
      ],
      "text/plain": [
       "   T_DOC   NRO_DOC\n",
       "0      0  32238752\n",
       "1      0  23597329\n",
       "2      0  29357614\n",
       "3      0  34108519\n",
       "4      0  24930124"
      ]
     },
     "execution_count": 37,
     "metadata": {},
     "output_type": "execute_result"
    }
   ],
   "source": [
    "df2.head()"
   ]
  },
  {
   "cell_type": "code",
   "execution_count": 38,
   "id": "fatty-intellectual",
   "metadata": {},
   "outputs": [],
   "source": [
    "df2['T_DOC'] = df2['T_DOC'].astype(str)"
   ]
  },
  {
   "cell_type": "code",
   "execution_count": 39,
   "id": "central-horizon",
   "metadata": {},
   "outputs": [],
   "source": [
    "df2.loc[df2['T_DOC'] == '0', 'TIPO_DOC'] =  'DNI '\n",
    "df2.loc[df2['T_DOC'] == '02', 'TIPO_DOC'] = 'DNI '\n",
    "df2.loc[df2['T_DOC'] == '95', 'TIPO_DOC'] = 'DNI '\n",
    "df2.loc[df2['T_DOC'] == '25', 'TIPO_DOC'] = 'LE  '\n",
    "df2.loc[df2['T_DOC'] == '27', 'TIPO_DOC'] = 'LE  '\n",
    "df2.loc[df2['T_DOC'] == '26', 'TIPO_DOC'] = 'LC  '\n",
    "df2.loc[df2['T_DOC'] == '28', 'TIPO_DOC'] = 'LC  '\n",
    "df2.loc[df2['T_DOC'] == '31', 'TIPO_DOC'] = 'DNIE'\n",
    "df2.loc[df2['T_DOC'] == '30', 'TIPO_DOC'] = 'PAS '\n",
    "df2.loc[df2['T_DOC'] == '50', 'TIPO_DOC'] = 'CUIT'\n",
    "df2.loc[df2['T_DOC'] == '01', 'TIPO_DOC'] = 'CI  '"
   ]
  },
  {
   "cell_type": "code",
   "execution_count": 40,
   "id": "swiss-korea",
   "metadata": {},
   "outputs": [
    {
     "data": {
      "text/html": [
       "<div>\n",
       "<style scoped>\n",
       "    .dataframe tbody tr th:only-of-type {\n",
       "        vertical-align: middle;\n",
       "    }\n",
       "\n",
       "    .dataframe tbody tr th {\n",
       "        vertical-align: top;\n",
       "    }\n",
       "\n",
       "    .dataframe thead th {\n",
       "        text-align: right;\n",
       "    }\n",
       "</style>\n",
       "<table border=\"1\" class=\"dataframe\">\n",
       "  <thead>\n",
       "    <tr style=\"text-align: right;\">\n",
       "      <th></th>\n",
       "      <th>T_DOC</th>\n",
       "      <th>NRO_DOC</th>\n",
       "      <th>TIPO_DOC</th>\n",
       "    </tr>\n",
       "  </thead>\n",
       "  <tbody>\n",
       "    <tr>\n",
       "      <th>0</th>\n",
       "      <td>0</td>\n",
       "      <td>32238752</td>\n",
       "      <td>DNI</td>\n",
       "    </tr>\n",
       "    <tr>\n",
       "      <th>1</th>\n",
       "      <td>0</td>\n",
       "      <td>23597329</td>\n",
       "      <td>DNI</td>\n",
       "    </tr>\n",
       "    <tr>\n",
       "      <th>2</th>\n",
       "      <td>0</td>\n",
       "      <td>29357614</td>\n",
       "      <td>DNI</td>\n",
       "    </tr>\n",
       "    <tr>\n",
       "      <th>3</th>\n",
       "      <td>0</td>\n",
       "      <td>34108519</td>\n",
       "      <td>DNI</td>\n",
       "    </tr>\n",
       "    <tr>\n",
       "      <th>4</th>\n",
       "      <td>0</td>\n",
       "      <td>24930124</td>\n",
       "      <td>DNI</td>\n",
       "    </tr>\n",
       "  </tbody>\n",
       "</table>\n",
       "</div>"
      ],
      "text/plain": [
       "  T_DOC   NRO_DOC TIPO_DOC\n",
       "0     0  32238752     DNI \n",
       "1     0  23597329     DNI \n",
       "2     0  29357614     DNI \n",
       "3     0  34108519     DNI \n",
       "4     0  24930124     DNI "
      ]
     },
     "execution_count": 40,
     "metadata": {},
     "output_type": "execute_result"
    }
   ],
   "source": [
    "df2.head()"
   ]
  },
  {
   "cell_type": "code",
   "execution_count": 41,
   "id": "taken-quick",
   "metadata": {},
   "outputs": [],
   "source": [
    "df2 ['IDMOROSO'] = df2['TIPO_DOC'] + df2 ['NRO_DOC']"
   ]
  },
  {
   "cell_type": "code",
   "execution_count": 42,
   "id": "photographic-surgery",
   "metadata": {},
   "outputs": [
    {
     "data": {
      "text/html": [
       "<div>\n",
       "<style scoped>\n",
       "    .dataframe tbody tr th:only-of-type {\n",
       "        vertical-align: middle;\n",
       "    }\n",
       "\n",
       "    .dataframe tbody tr th {\n",
       "        vertical-align: top;\n",
       "    }\n",
       "\n",
       "    .dataframe thead th {\n",
       "        text-align: right;\n",
       "    }\n",
       "</style>\n",
       "<table border=\"1\" class=\"dataframe\">\n",
       "  <thead>\n",
       "    <tr style=\"text-align: right;\">\n",
       "      <th></th>\n",
       "      <th>T_DOC</th>\n",
       "      <th>NRO_DOC</th>\n",
       "      <th>TIPO_DOC</th>\n",
       "      <th>IDMOROSO</th>\n",
       "    </tr>\n",
       "  </thead>\n",
       "  <tbody>\n",
       "    <tr>\n",
       "      <th>7962</th>\n",
       "      <td>0</td>\n",
       "      <td>43862360</td>\n",
       "      <td>DNI</td>\n",
       "      <td>DNI 43862360</td>\n",
       "    </tr>\n",
       "    <tr>\n",
       "      <th>7963</th>\n",
       "      <td>0</td>\n",
       "      <td>35462066</td>\n",
       "      <td>DNI</td>\n",
       "      <td>DNI 35462066</td>\n",
       "    </tr>\n",
       "    <tr>\n",
       "      <th>7964</th>\n",
       "      <td>0</td>\n",
       "      <td>34977500</td>\n",
       "      <td>DNI</td>\n",
       "      <td>DNI 34977500</td>\n",
       "    </tr>\n",
       "    <tr>\n",
       "      <th>7965</th>\n",
       "      <td>0</td>\n",
       "      <td>40952678</td>\n",
       "      <td>DNI</td>\n",
       "      <td>DNI 40952678</td>\n",
       "    </tr>\n",
       "    <tr>\n",
       "      <th>7966</th>\n",
       "      <td>0</td>\n",
       "      <td>38678299</td>\n",
       "      <td>DNI</td>\n",
       "      <td>DNI 38678299</td>\n",
       "    </tr>\n",
       "  </tbody>\n",
       "</table>\n",
       "</div>"
      ],
      "text/plain": [
       "     T_DOC   NRO_DOC TIPO_DOC      IDMOROSO\n",
       "7962     0  43862360     DNI   DNI 43862360\n",
       "7963     0  35462066     DNI   DNI 35462066\n",
       "7964     0  34977500     DNI   DNI 34977500\n",
       "7965     0  40952678     DNI   DNI 40952678\n",
       "7966     0  38678299     DNI   DNI 38678299"
      ]
     },
     "execution_count": 42,
     "metadata": {},
     "output_type": "execute_result"
    }
   ],
   "source": [
    "df2.tail()"
   ]
  },
  {
   "cell_type": "code",
   "execution_count": 43,
   "id": "sporting-seller",
   "metadata": {},
   "outputs": [],
   "source": [
    "df2['TIPO_DOC'] = df2['TIPO_DOC'].str.strip()"
   ]
  },
  {
   "cell_type": "code",
   "execution_count": 44,
   "id": "improved-anatomy",
   "metadata": {},
   "outputs": [
    {
     "data": {
      "text/html": [
       "<div>\n",
       "<style scoped>\n",
       "    .dataframe tbody tr th:only-of-type {\n",
       "        vertical-align: middle;\n",
       "    }\n",
       "\n",
       "    .dataframe tbody tr th {\n",
       "        vertical-align: top;\n",
       "    }\n",
       "\n",
       "    .dataframe thead th {\n",
       "        text-align: right;\n",
       "    }\n",
       "</style>\n",
       "<table border=\"1\" class=\"dataframe\">\n",
       "  <thead>\n",
       "    <tr style=\"text-align: right;\">\n",
       "      <th></th>\n",
       "      <th>T_DOC</th>\n",
       "      <th>NRO_DOC</th>\n",
       "      <th>TIPO_DOC</th>\n",
       "      <th>IDMOROSO</th>\n",
       "    </tr>\n",
       "  </thead>\n",
       "  <tbody>\n",
       "    <tr>\n",
       "      <th>7962</th>\n",
       "      <td>0</td>\n",
       "      <td>43862360</td>\n",
       "      <td>DNI</td>\n",
       "      <td>DNI 43862360</td>\n",
       "    </tr>\n",
       "    <tr>\n",
       "      <th>7963</th>\n",
       "      <td>0</td>\n",
       "      <td>35462066</td>\n",
       "      <td>DNI</td>\n",
       "      <td>DNI 35462066</td>\n",
       "    </tr>\n",
       "    <tr>\n",
       "      <th>7964</th>\n",
       "      <td>0</td>\n",
       "      <td>34977500</td>\n",
       "      <td>DNI</td>\n",
       "      <td>DNI 34977500</td>\n",
       "    </tr>\n",
       "    <tr>\n",
       "      <th>7965</th>\n",
       "      <td>0</td>\n",
       "      <td>40952678</td>\n",
       "      <td>DNI</td>\n",
       "      <td>DNI 40952678</td>\n",
       "    </tr>\n",
       "    <tr>\n",
       "      <th>7966</th>\n",
       "      <td>0</td>\n",
       "      <td>38678299</td>\n",
       "      <td>DNI</td>\n",
       "      <td>DNI 38678299</td>\n",
       "    </tr>\n",
       "  </tbody>\n",
       "</table>\n",
       "</div>"
      ],
      "text/plain": [
       "     T_DOC   NRO_DOC TIPO_DOC      IDMOROSO\n",
       "7962     0  43862360      DNI  DNI 43862360\n",
       "7963     0  35462066      DNI  DNI 35462066\n",
       "7964     0  34977500      DNI  DNI 34977500\n",
       "7965     0  40952678      DNI  DNI 40952678\n",
       "7966     0  38678299      DNI  DNI 38678299"
      ]
     },
     "execution_count": 44,
     "metadata": {},
     "output_type": "execute_result"
    }
   ],
   "source": [
    "df2.tail()"
   ]
  },
  {
   "cell_type": "code",
   "execution_count": 45,
   "id": "vulnerable-former",
   "metadata": {},
   "outputs": [
    {
     "data": {
      "text/plain": [
       "(7967, 4)"
      ]
     },
     "execution_count": 45,
     "metadata": {},
     "output_type": "execute_result"
    }
   ],
   "source": [
    "df2.shape"
   ]
  },
  {
   "cell_type": "markdown",
   "id": "fossil-organizer",
   "metadata": {},
   "source": [
    "### Concatenación"
   ]
  },
  {
   "cell_type": "code",
   "execution_count": 46,
   "id": "younger-essence",
   "metadata": {},
   "outputs": [],
   "source": [
    "df_union = pd.merge(df_clean,df2, on='NRO_DOC', how='inner')"
   ]
  },
  {
   "cell_type": "code",
   "execution_count": 47,
   "id": "elect-fifty",
   "metadata": {},
   "outputs": [
    {
     "data": {
      "text/plain": [
       "(1092, 5)"
      ]
     },
     "execution_count": 47,
     "metadata": {},
     "output_type": "execute_result"
    }
   ],
   "source": [
    "df_union.shape"
   ]
  },
  {
   "cell_type": "code",
   "execution_count": 48,
   "id": "representative-negative",
   "metadata": {},
   "outputs": [
    {
     "data": {
      "text/html": [
       "<div>\n",
       "<style scoped>\n",
       "    .dataframe tbody tr th:only-of-type {\n",
       "        vertical-align: middle;\n",
       "    }\n",
       "\n",
       "    .dataframe tbody tr th {\n",
       "        vertical-align: top;\n",
       "    }\n",
       "\n",
       "    .dataframe thead th {\n",
       "        text-align: right;\n",
       "    }\n",
       "</style>\n",
       "<table border=\"1\" class=\"dataframe\">\n",
       "  <thead>\n",
       "    <tr style=\"text-align: right;\">\n",
       "      <th></th>\n",
       "      <th>NRO_DOC</th>\n",
       "      <th>DATO</th>\n",
       "      <th>T_DOC</th>\n",
       "      <th>TIPO_DOC</th>\n",
       "      <th>IDMOROSO</th>\n",
       "    </tr>\n",
       "  </thead>\n",
       "  <tbody>\n",
       "    <tr>\n",
       "      <th>0</th>\n",
       "      <td>17999492</td>\n",
       "      <td>1559436976</td>\n",
       "      <td>0</td>\n",
       "      <td>DNI</td>\n",
       "      <td>DNI 17999492</td>\n",
       "    </tr>\n",
       "    <tr>\n",
       "      <th>1</th>\n",
       "      <td>17999492</td>\n",
       "      <td>48053932</td>\n",
       "      <td>0</td>\n",
       "      <td>DNI</td>\n",
       "      <td>DNI 17999492</td>\n",
       "    </tr>\n",
       "    <tr>\n",
       "      <th>2</th>\n",
       "      <td>17999492</td>\n",
       "      <td>48280546</td>\n",
       "      <td>0</td>\n",
       "      <td>DNI</td>\n",
       "      <td>DNI 17999492</td>\n",
       "    </tr>\n",
       "    <tr>\n",
       "      <th>3</th>\n",
       "      <td>17999492</td>\n",
       "      <td>1559436976</td>\n",
       "      <td>0</td>\n",
       "      <td>DNI</td>\n",
       "      <td>DNI 17999492</td>\n",
       "    </tr>\n",
       "    <tr>\n",
       "      <th>4</th>\n",
       "      <td>17999492</td>\n",
       "      <td>48053932</td>\n",
       "      <td>0</td>\n",
       "      <td>DNI</td>\n",
       "      <td>DNI 17999492</td>\n",
       "    </tr>\n",
       "  </tbody>\n",
       "</table>\n",
       "</div>"
      ],
      "text/plain": [
       "    NRO_DOC        DATO T_DOC TIPO_DOC      IDMOROSO\n",
       "0  17999492  1559436976     0      DNI  DNI 17999492\n",
       "1  17999492    48053932     0      DNI  DNI 17999492\n",
       "2  17999492    48280546     0      DNI  DNI 17999492\n",
       "3  17999492  1559436976     0      DNI  DNI 17999492\n",
       "4  17999492    48053932     0      DNI  DNI 17999492"
      ]
     },
     "execution_count": 48,
     "metadata": {},
     "output_type": "execute_result"
    }
   ],
   "source": [
    "df_union.head()"
   ]
  },
  {
   "cell_type": "markdown",
   "id": "modular-frontier",
   "metadata": {},
   "source": [
    "## Campos adicionales"
   ]
  },
  {
   "cell_type": "code",
   "execution_count": 49,
   "id": "biblical-solomon",
   "metadata": {},
   "outputs": [],
   "source": [
    "df_union = df_union.assign(PROVEEDOR_DATO='C_F12')"
   ]
  },
  {
   "cell_type": "code",
   "execution_count": 50,
   "id": "light-serbia",
   "metadata": {},
   "outputs": [],
   "source": [
    "df_union.loc[df_union['DATO'].str.startswith('11'), 'TIPO'] = 'TEL.CELULAR'\n",
    "df_union.loc[df_union['DATO'].str.startswith('15'), 'TIPO'] = 'TEL.CELULAR'"
   ]
  },
  {
   "cell_type": "code",
   "execution_count": 51,
   "id": "wired-smile",
   "metadata": {},
   "outputs": [
    {
     "data": {
      "text/html": [
       "<div>\n",
       "<style scoped>\n",
       "    .dataframe tbody tr th:only-of-type {\n",
       "        vertical-align: middle;\n",
       "    }\n",
       "\n",
       "    .dataframe tbody tr th {\n",
       "        vertical-align: top;\n",
       "    }\n",
       "\n",
       "    .dataframe thead th {\n",
       "        text-align: right;\n",
       "    }\n",
       "</style>\n",
       "<table border=\"1\" class=\"dataframe\">\n",
       "  <thead>\n",
       "    <tr style=\"text-align: right;\">\n",
       "      <th></th>\n",
       "      <th>NRO_DOC</th>\n",
       "      <th>DATO</th>\n",
       "      <th>T_DOC</th>\n",
       "      <th>TIPO_DOC</th>\n",
       "      <th>IDMOROSO</th>\n",
       "      <th>PROVEEDOR_DATO</th>\n",
       "      <th>TIPO</th>\n",
       "    </tr>\n",
       "  </thead>\n",
       "  <tbody>\n",
       "    <tr>\n",
       "      <th>0</th>\n",
       "      <td>17999492</td>\n",
       "      <td>1559436976</td>\n",
       "      <td>0</td>\n",
       "      <td>DNI</td>\n",
       "      <td>DNI 17999492</td>\n",
       "      <td>C_F12</td>\n",
       "      <td>TEL.CELULAR</td>\n",
       "    </tr>\n",
       "    <tr>\n",
       "      <th>1</th>\n",
       "      <td>17999492</td>\n",
       "      <td>48053932</td>\n",
       "      <td>0</td>\n",
       "      <td>DNI</td>\n",
       "      <td>DNI 17999492</td>\n",
       "      <td>C_F12</td>\n",
       "      <td>NaN</td>\n",
       "    </tr>\n",
       "    <tr>\n",
       "      <th>2</th>\n",
       "      <td>17999492</td>\n",
       "      <td>48280546</td>\n",
       "      <td>0</td>\n",
       "      <td>DNI</td>\n",
       "      <td>DNI 17999492</td>\n",
       "      <td>C_F12</td>\n",
       "      <td>NaN</td>\n",
       "    </tr>\n",
       "    <tr>\n",
       "      <th>3</th>\n",
       "      <td>17999492</td>\n",
       "      <td>1559436976</td>\n",
       "      <td>0</td>\n",
       "      <td>DNI</td>\n",
       "      <td>DNI 17999492</td>\n",
       "      <td>C_F12</td>\n",
       "      <td>TEL.CELULAR</td>\n",
       "    </tr>\n",
       "    <tr>\n",
       "      <th>4</th>\n",
       "      <td>17999492</td>\n",
       "      <td>48053932</td>\n",
       "      <td>0</td>\n",
       "      <td>DNI</td>\n",
       "      <td>DNI 17999492</td>\n",
       "      <td>C_F12</td>\n",
       "      <td>NaN</td>\n",
       "    </tr>\n",
       "  </tbody>\n",
       "</table>\n",
       "</div>"
      ],
      "text/plain": [
       "    NRO_DOC        DATO T_DOC TIPO_DOC      IDMOROSO PROVEEDOR_DATO  \\\n",
       "0  17999492  1559436976     0      DNI  DNI 17999492          C_F12   \n",
       "1  17999492    48053932     0      DNI  DNI 17999492          C_F12   \n",
       "2  17999492    48280546     0      DNI  DNI 17999492          C_F12   \n",
       "3  17999492  1559436976     0      DNI  DNI 17999492          C_F12   \n",
       "4  17999492    48053932     0      DNI  DNI 17999492          C_F12   \n",
       "\n",
       "          TIPO  \n",
       "0  TEL.CELULAR  \n",
       "1          NaN  \n",
       "2          NaN  \n",
       "3  TEL.CELULAR  \n",
       "4          NaN  "
      ]
     },
     "execution_count": 51,
     "metadata": {},
     "output_type": "execute_result"
    }
   ],
   "source": [
    "df_union.head()"
   ]
  },
  {
   "cell_type": "code",
   "execution_count": 52,
   "id": "apparent-indiana",
   "metadata": {},
   "outputs": [],
   "source": [
    "df_union.loc[(df_union['TIPO'] != 'TEL.CELULAR') , 'TIPO'] = 'TEL.FIJO'"
   ]
  },
  {
   "cell_type": "code",
   "execution_count": 53,
   "id": "naughty-coaching",
   "metadata": {},
   "outputs": [
    {
     "data": {
      "text/html": [
       "<div>\n",
       "<style scoped>\n",
       "    .dataframe tbody tr th:only-of-type {\n",
       "        vertical-align: middle;\n",
       "    }\n",
       "\n",
       "    .dataframe tbody tr th {\n",
       "        vertical-align: top;\n",
       "    }\n",
       "\n",
       "    .dataframe thead th {\n",
       "        text-align: right;\n",
       "    }\n",
       "</style>\n",
       "<table border=\"1\" class=\"dataframe\">\n",
       "  <thead>\n",
       "    <tr style=\"text-align: right;\">\n",
       "      <th></th>\n",
       "      <th>NRO_DOC</th>\n",
       "      <th>DATO</th>\n",
       "      <th>T_DOC</th>\n",
       "      <th>TIPO_DOC</th>\n",
       "      <th>IDMOROSO</th>\n",
       "      <th>PROVEEDOR_DATO</th>\n",
       "      <th>TIPO</th>\n",
       "    </tr>\n",
       "  </thead>\n",
       "  <tbody>\n",
       "    <tr>\n",
       "      <th>0</th>\n",
       "      <td>17999492</td>\n",
       "      <td>1559436976</td>\n",
       "      <td>0</td>\n",
       "      <td>DNI</td>\n",
       "      <td>DNI 17999492</td>\n",
       "      <td>C_F12</td>\n",
       "      <td>TEL.CELULAR</td>\n",
       "    </tr>\n",
       "    <tr>\n",
       "      <th>1</th>\n",
       "      <td>17999492</td>\n",
       "      <td>48053932</td>\n",
       "      <td>0</td>\n",
       "      <td>DNI</td>\n",
       "      <td>DNI 17999492</td>\n",
       "      <td>C_F12</td>\n",
       "      <td>TEL.FIJO</td>\n",
       "    </tr>\n",
       "    <tr>\n",
       "      <th>2</th>\n",
       "      <td>17999492</td>\n",
       "      <td>48280546</td>\n",
       "      <td>0</td>\n",
       "      <td>DNI</td>\n",
       "      <td>DNI 17999492</td>\n",
       "      <td>C_F12</td>\n",
       "      <td>TEL.FIJO</td>\n",
       "    </tr>\n",
       "    <tr>\n",
       "      <th>3</th>\n",
       "      <td>17999492</td>\n",
       "      <td>1559436976</td>\n",
       "      <td>0</td>\n",
       "      <td>DNI</td>\n",
       "      <td>DNI 17999492</td>\n",
       "      <td>C_F12</td>\n",
       "      <td>TEL.CELULAR</td>\n",
       "    </tr>\n",
       "    <tr>\n",
       "      <th>4</th>\n",
       "      <td>17999492</td>\n",
       "      <td>48053932</td>\n",
       "      <td>0</td>\n",
       "      <td>DNI</td>\n",
       "      <td>DNI 17999492</td>\n",
       "      <td>C_F12</td>\n",
       "      <td>TEL.FIJO</td>\n",
       "    </tr>\n",
       "  </tbody>\n",
       "</table>\n",
       "</div>"
      ],
      "text/plain": [
       "    NRO_DOC        DATO T_DOC TIPO_DOC      IDMOROSO PROVEEDOR_DATO  \\\n",
       "0  17999492  1559436976     0      DNI  DNI 17999492          C_F12   \n",
       "1  17999492    48053932     0      DNI  DNI 17999492          C_F12   \n",
       "2  17999492    48280546     0      DNI  DNI 17999492          C_F12   \n",
       "3  17999492  1559436976     0      DNI  DNI 17999492          C_F12   \n",
       "4  17999492    48053932     0      DNI  DNI 17999492          C_F12   \n",
       "\n",
       "          TIPO  \n",
       "0  TEL.CELULAR  \n",
       "1     TEL.FIJO  \n",
       "2     TEL.FIJO  \n",
       "3  TEL.CELULAR  \n",
       "4     TEL.FIJO  "
      ]
     },
     "execution_count": 53,
     "metadata": {},
     "output_type": "execute_result"
    }
   ],
   "source": [
    "df_union.head()"
   ]
  },
  {
   "cell_type": "code",
   "execution_count": 54,
   "id": "graphic-qualification",
   "metadata": {},
   "outputs": [],
   "source": [
    "df_union = df_union.assign(SUBTIPO='PERSONAL')"
   ]
  },
  {
   "cell_type": "code",
   "execution_count": 55,
   "id": "standing-smooth",
   "metadata": {},
   "outputs": [],
   "source": [
    "df_union = df_union.assign(PROPIETARIO_DATO='Ajeno_cotitular')"
   ]
  },
  {
   "cell_type": "code",
   "execution_count": 56,
   "id": "formal-richmond",
   "metadata": {},
   "outputs": [],
   "source": [
    "# Nivel 1: Laboral, proveedor externo.\n",
    "\n",
    "df_union.loc[(df_union['SUBTIPO'] == 'LABORAL') , 'SCORE_DATO'] = 1"
   ]
  },
  {
   "cell_type": "code",
   "execution_count": 57,
   "id": "suitable-mortality",
   "metadata": {},
   "outputs": [],
   "source": [
    "# Nivel 2: Personal, proveedor externo.\n",
    "\n",
    "df_union.loc[(df_union['SUBTIPO'] == 'PERSONAL') , 'SCORE_DATO'] = 2"
   ]
  },
  {
   "cell_type": "code",
   "execution_count": 58,
   "id": "western-overview",
   "metadata": {
    "scrolled": true
   },
   "outputs": [
    {
     "data": {
      "text/html": [
       "<div>\n",
       "<style scoped>\n",
       "    .dataframe tbody tr th:only-of-type {\n",
       "        vertical-align: middle;\n",
       "    }\n",
       "\n",
       "    .dataframe tbody tr th {\n",
       "        vertical-align: top;\n",
       "    }\n",
       "\n",
       "    .dataframe thead th {\n",
       "        text-align: right;\n",
       "    }\n",
       "</style>\n",
       "<table border=\"1\" class=\"dataframe\">\n",
       "  <thead>\n",
       "    <tr style=\"text-align: right;\">\n",
       "      <th></th>\n",
       "      <th>NRO_DOC</th>\n",
       "      <th>DATO</th>\n",
       "      <th>T_DOC</th>\n",
       "      <th>TIPO_DOC</th>\n",
       "      <th>IDMOROSO</th>\n",
       "      <th>PROVEEDOR_DATO</th>\n",
       "      <th>TIPO</th>\n",
       "      <th>SUBTIPO</th>\n",
       "      <th>PROPIETARIO_DATO</th>\n",
       "      <th>SCORE_DATO</th>\n",
       "    </tr>\n",
       "  </thead>\n",
       "  <tbody>\n",
       "    <tr>\n",
       "      <th>0</th>\n",
       "      <td>17999492</td>\n",
       "      <td>1559436976</td>\n",
       "      <td>0</td>\n",
       "      <td>DNI</td>\n",
       "      <td>DNI 17999492</td>\n",
       "      <td>C_F12</td>\n",
       "      <td>TEL.CELULAR</td>\n",
       "      <td>PERSONAL</td>\n",
       "      <td>Ajeno_cotitular</td>\n",
       "      <td>2.0</td>\n",
       "    </tr>\n",
       "    <tr>\n",
       "      <th>1</th>\n",
       "      <td>17999492</td>\n",
       "      <td>48053932</td>\n",
       "      <td>0</td>\n",
       "      <td>DNI</td>\n",
       "      <td>DNI 17999492</td>\n",
       "      <td>C_F12</td>\n",
       "      <td>TEL.FIJO</td>\n",
       "      <td>PERSONAL</td>\n",
       "      <td>Ajeno_cotitular</td>\n",
       "      <td>2.0</td>\n",
       "    </tr>\n",
       "    <tr>\n",
       "      <th>2</th>\n",
       "      <td>17999492</td>\n",
       "      <td>48280546</td>\n",
       "      <td>0</td>\n",
       "      <td>DNI</td>\n",
       "      <td>DNI 17999492</td>\n",
       "      <td>C_F12</td>\n",
       "      <td>TEL.FIJO</td>\n",
       "      <td>PERSONAL</td>\n",
       "      <td>Ajeno_cotitular</td>\n",
       "      <td>2.0</td>\n",
       "    </tr>\n",
       "    <tr>\n",
       "      <th>3</th>\n",
       "      <td>17999492</td>\n",
       "      <td>1559436976</td>\n",
       "      <td>0</td>\n",
       "      <td>DNI</td>\n",
       "      <td>DNI 17999492</td>\n",
       "      <td>C_F12</td>\n",
       "      <td>TEL.CELULAR</td>\n",
       "      <td>PERSONAL</td>\n",
       "      <td>Ajeno_cotitular</td>\n",
       "      <td>2.0</td>\n",
       "    </tr>\n",
       "    <tr>\n",
       "      <th>4</th>\n",
       "      <td>17999492</td>\n",
       "      <td>48053932</td>\n",
       "      <td>0</td>\n",
       "      <td>DNI</td>\n",
       "      <td>DNI 17999492</td>\n",
       "      <td>C_F12</td>\n",
       "      <td>TEL.FIJO</td>\n",
       "      <td>PERSONAL</td>\n",
       "      <td>Ajeno_cotitular</td>\n",
       "      <td>2.0</td>\n",
       "    </tr>\n",
       "  </tbody>\n",
       "</table>\n",
       "</div>"
      ],
      "text/plain": [
       "    NRO_DOC        DATO T_DOC TIPO_DOC      IDMOROSO PROVEEDOR_DATO  \\\n",
       "0  17999492  1559436976     0      DNI  DNI 17999492          C_F12   \n",
       "1  17999492    48053932     0      DNI  DNI 17999492          C_F12   \n",
       "2  17999492    48280546     0      DNI  DNI 17999492          C_F12   \n",
       "3  17999492  1559436976     0      DNI  DNI 17999492          C_F12   \n",
       "4  17999492    48053932     0      DNI  DNI 17999492          C_F12   \n",
       "\n",
       "          TIPO   SUBTIPO PROPIETARIO_DATO  SCORE_DATO  \n",
       "0  TEL.CELULAR  PERSONAL  Ajeno_cotitular         2.0  \n",
       "1     TEL.FIJO  PERSONAL  Ajeno_cotitular         2.0  \n",
       "2     TEL.FIJO  PERSONAL  Ajeno_cotitular         2.0  \n",
       "3  TEL.CELULAR  PERSONAL  Ajeno_cotitular         2.0  \n",
       "4     TEL.FIJO  PERSONAL  Ajeno_cotitular         2.0  "
      ]
     },
     "execution_count": 58,
     "metadata": {},
     "output_type": "execute_result"
    }
   ],
   "source": [
    "df_union.head()"
   ]
  },
  {
   "cell_type": "markdown",
   "id": "hundred-federal",
   "metadata": {},
   "source": [
    "# 10) Columna Fecha"
   ]
  },
  {
   "cell_type": "markdown",
   "id": "median-footage",
   "metadata": {},
   "source": [
    "Para el campo FECHA_INGRESO_DATO, usamos la fecha en la que se hace la inserción de los datos:"
   ]
  },
  {
   "cell_type": "code",
   "execution_count": 59,
   "id": "welcome-month",
   "metadata": {},
   "outputs": [],
   "source": [
    "fecha_ingreso = pd.to_datetime('today')"
   ]
  },
  {
   "cell_type": "code",
   "execution_count": 60,
   "id": "thirty-connectivity",
   "metadata": {},
   "outputs": [],
   "source": [
    "df_union = df_union.assign(FECHA_INGRESO_DATO=fecha_ingreso)"
   ]
  },
  {
   "cell_type": "code",
   "execution_count": 61,
   "id": "victorian-superintendent",
   "metadata": {
    "scrolled": true
   },
   "outputs": [
    {
     "data": {
      "text/html": [
       "<div>\n",
       "<style scoped>\n",
       "    .dataframe tbody tr th:only-of-type {\n",
       "        vertical-align: middle;\n",
       "    }\n",
       "\n",
       "    .dataframe tbody tr th {\n",
       "        vertical-align: top;\n",
       "    }\n",
       "\n",
       "    .dataframe thead th {\n",
       "        text-align: right;\n",
       "    }\n",
       "</style>\n",
       "<table border=\"1\" class=\"dataframe\">\n",
       "  <thead>\n",
       "    <tr style=\"text-align: right;\">\n",
       "      <th></th>\n",
       "      <th>NRO_DOC</th>\n",
       "      <th>DATO</th>\n",
       "      <th>T_DOC</th>\n",
       "      <th>TIPO_DOC</th>\n",
       "      <th>IDMOROSO</th>\n",
       "      <th>PROVEEDOR_DATO</th>\n",
       "      <th>TIPO</th>\n",
       "      <th>SUBTIPO</th>\n",
       "      <th>PROPIETARIO_DATO</th>\n",
       "      <th>SCORE_DATO</th>\n",
       "      <th>FECHA_INGRESO_DATO</th>\n",
       "    </tr>\n",
       "  </thead>\n",
       "  <tbody>\n",
       "    <tr>\n",
       "      <th>0</th>\n",
       "      <td>17999492</td>\n",
       "      <td>1559436976</td>\n",
       "      <td>0</td>\n",
       "      <td>DNI</td>\n",
       "      <td>DNI 17999492</td>\n",
       "      <td>C_F12</td>\n",
       "      <td>TEL.CELULAR</td>\n",
       "      <td>PERSONAL</td>\n",
       "      <td>Ajeno_cotitular</td>\n",
       "      <td>2.0</td>\n",
       "      <td>2021-02-08 12:12:35.888386</td>\n",
       "    </tr>\n",
       "    <tr>\n",
       "      <th>1</th>\n",
       "      <td>17999492</td>\n",
       "      <td>48053932</td>\n",
       "      <td>0</td>\n",
       "      <td>DNI</td>\n",
       "      <td>DNI 17999492</td>\n",
       "      <td>C_F12</td>\n",
       "      <td>TEL.FIJO</td>\n",
       "      <td>PERSONAL</td>\n",
       "      <td>Ajeno_cotitular</td>\n",
       "      <td>2.0</td>\n",
       "      <td>2021-02-08 12:12:35.888386</td>\n",
       "    </tr>\n",
       "    <tr>\n",
       "      <th>2</th>\n",
       "      <td>17999492</td>\n",
       "      <td>48280546</td>\n",
       "      <td>0</td>\n",
       "      <td>DNI</td>\n",
       "      <td>DNI 17999492</td>\n",
       "      <td>C_F12</td>\n",
       "      <td>TEL.FIJO</td>\n",
       "      <td>PERSONAL</td>\n",
       "      <td>Ajeno_cotitular</td>\n",
       "      <td>2.0</td>\n",
       "      <td>2021-02-08 12:12:35.888386</td>\n",
       "    </tr>\n",
       "    <tr>\n",
       "      <th>3</th>\n",
       "      <td>17999492</td>\n",
       "      <td>1559436976</td>\n",
       "      <td>0</td>\n",
       "      <td>DNI</td>\n",
       "      <td>DNI 17999492</td>\n",
       "      <td>C_F12</td>\n",
       "      <td>TEL.CELULAR</td>\n",
       "      <td>PERSONAL</td>\n",
       "      <td>Ajeno_cotitular</td>\n",
       "      <td>2.0</td>\n",
       "      <td>2021-02-08 12:12:35.888386</td>\n",
       "    </tr>\n",
       "    <tr>\n",
       "      <th>4</th>\n",
       "      <td>17999492</td>\n",
       "      <td>48053932</td>\n",
       "      <td>0</td>\n",
       "      <td>DNI</td>\n",
       "      <td>DNI 17999492</td>\n",
       "      <td>C_F12</td>\n",
       "      <td>TEL.FIJO</td>\n",
       "      <td>PERSONAL</td>\n",
       "      <td>Ajeno_cotitular</td>\n",
       "      <td>2.0</td>\n",
       "      <td>2021-02-08 12:12:35.888386</td>\n",
       "    </tr>\n",
       "  </tbody>\n",
       "</table>\n",
       "</div>"
      ],
      "text/plain": [
       "    NRO_DOC        DATO T_DOC TIPO_DOC      IDMOROSO PROVEEDOR_DATO  \\\n",
       "0  17999492  1559436976     0      DNI  DNI 17999492          C_F12   \n",
       "1  17999492    48053932     0      DNI  DNI 17999492          C_F12   \n",
       "2  17999492    48280546     0      DNI  DNI 17999492          C_F12   \n",
       "3  17999492  1559436976     0      DNI  DNI 17999492          C_F12   \n",
       "4  17999492    48053932     0      DNI  DNI 17999492          C_F12   \n",
       "\n",
       "          TIPO   SUBTIPO PROPIETARIO_DATO  SCORE_DATO  \\\n",
       "0  TEL.CELULAR  PERSONAL  Ajeno_cotitular         2.0   \n",
       "1     TEL.FIJO  PERSONAL  Ajeno_cotitular         2.0   \n",
       "2     TEL.FIJO  PERSONAL  Ajeno_cotitular         2.0   \n",
       "3  TEL.CELULAR  PERSONAL  Ajeno_cotitular         2.0   \n",
       "4     TEL.FIJO  PERSONAL  Ajeno_cotitular         2.0   \n",
       "\n",
       "          FECHA_INGRESO_DATO  \n",
       "0 2021-02-08 12:12:35.888386  \n",
       "1 2021-02-08 12:12:35.888386  \n",
       "2 2021-02-08 12:12:35.888386  \n",
       "3 2021-02-08 12:12:35.888386  \n",
       "4 2021-02-08 12:12:35.888386  "
      ]
     },
     "execution_count": 61,
     "metadata": {},
     "output_type": "execute_result"
    }
   ],
   "source": [
    "df_union.head()"
   ]
  },
  {
   "cell_type": "markdown",
   "id": "diagnostic-humor",
   "metadata": {},
   "source": [
    "# 11) Campos adicionales"
   ]
  },
  {
   "cell_type": "markdown",
   "id": "subject-andrews",
   "metadata": {},
   "source": [
    "Creamos las columnas VERIFICADO, FECHA_VERIFICACION, OPERADOR_VERIFICACION, que en principio van en nulls."
   ]
  },
  {
   "cell_type": "code",
   "execution_count": 62,
   "id": "trying-benjamin",
   "metadata": {},
   "outputs": [],
   "source": [
    "df_union['VERIFICADO'] = 0"
   ]
  },
  {
   "cell_type": "code",
   "execution_count": 63,
   "id": "adaptive-winner",
   "metadata": {},
   "outputs": [],
   "source": [
    "df_union['FECHA_VERIFICACION'] = np.nan"
   ]
  },
  {
   "cell_type": "code",
   "execution_count": 64,
   "id": "varied-dominant",
   "metadata": {},
   "outputs": [],
   "source": [
    "df_union['OPERADOR_VERIFICACION'] = np.nan"
   ]
  },
  {
   "cell_type": "code",
   "execution_count": 65,
   "id": "effective-government",
   "metadata": {},
   "outputs": [],
   "source": [
    "df_union['CUIT_CUIL'] = np.nan"
   ]
  },
  {
   "cell_type": "markdown",
   "id": "utility-clearance",
   "metadata": {},
   "source": [
    "# Export"
   ]
  },
  {
   "cell_type": "code",
   "execution_count": 66,
   "id": "touched-press",
   "metadata": {},
   "outputs": [],
   "source": [
    "df_export = df_union[['IDMOROSO', 'TIPO_DOC','NRO_DOC','CUIT_CUIL','TIPO','SUBTIPO','DATO','PROPIETARIO_DATO','PROVEEDOR_DATO','FECHA_INGRESO_DATO','VERIFICADO','FECHA_VERIFICACION','OPERADOR_VERIFICACION','SCORE_DATO']]"
   ]
  },
  {
   "cell_type": "code",
   "execution_count": 67,
   "id": "mature-livestock",
   "metadata": {
    "scrolled": true
   },
   "outputs": [
    {
     "data": {
      "text/html": [
       "<div>\n",
       "<style scoped>\n",
       "    .dataframe tbody tr th:only-of-type {\n",
       "        vertical-align: middle;\n",
       "    }\n",
       "\n",
       "    .dataframe tbody tr th {\n",
       "        vertical-align: top;\n",
       "    }\n",
       "\n",
       "    .dataframe thead th {\n",
       "        text-align: right;\n",
       "    }\n",
       "</style>\n",
       "<table border=\"1\" class=\"dataframe\">\n",
       "  <thead>\n",
       "    <tr style=\"text-align: right;\">\n",
       "      <th></th>\n",
       "      <th>IDMOROSO</th>\n",
       "      <th>TIPO_DOC</th>\n",
       "      <th>NRO_DOC</th>\n",
       "      <th>CUIT_CUIL</th>\n",
       "      <th>TIPO</th>\n",
       "      <th>SUBTIPO</th>\n",
       "      <th>DATO</th>\n",
       "      <th>PROPIETARIO_DATO</th>\n",
       "      <th>PROVEEDOR_DATO</th>\n",
       "      <th>FECHA_INGRESO_DATO</th>\n",
       "      <th>VERIFICADO</th>\n",
       "      <th>FECHA_VERIFICACION</th>\n",
       "      <th>OPERADOR_VERIFICACION</th>\n",
       "      <th>SCORE_DATO</th>\n",
       "    </tr>\n",
       "  </thead>\n",
       "  <tbody>\n",
       "    <tr>\n",
       "      <th>0</th>\n",
       "      <td>DNI 17999492</td>\n",
       "      <td>DNI</td>\n",
       "      <td>17999492</td>\n",
       "      <td>NaN</td>\n",
       "      <td>TEL.CELULAR</td>\n",
       "      <td>PERSONAL</td>\n",
       "      <td>1559436976</td>\n",
       "      <td>Ajeno_cotitular</td>\n",
       "      <td>C_F12</td>\n",
       "      <td>2021-02-08 12:12:35.888386</td>\n",
       "      <td>0</td>\n",
       "      <td>NaN</td>\n",
       "      <td>NaN</td>\n",
       "      <td>2.0</td>\n",
       "    </tr>\n",
       "    <tr>\n",
       "      <th>1</th>\n",
       "      <td>DNI 17999492</td>\n",
       "      <td>DNI</td>\n",
       "      <td>17999492</td>\n",
       "      <td>NaN</td>\n",
       "      <td>TEL.FIJO</td>\n",
       "      <td>PERSONAL</td>\n",
       "      <td>48053932</td>\n",
       "      <td>Ajeno_cotitular</td>\n",
       "      <td>C_F12</td>\n",
       "      <td>2021-02-08 12:12:35.888386</td>\n",
       "      <td>0</td>\n",
       "      <td>NaN</td>\n",
       "      <td>NaN</td>\n",
       "      <td>2.0</td>\n",
       "    </tr>\n",
       "    <tr>\n",
       "      <th>2</th>\n",
       "      <td>DNI 17999492</td>\n",
       "      <td>DNI</td>\n",
       "      <td>17999492</td>\n",
       "      <td>NaN</td>\n",
       "      <td>TEL.FIJO</td>\n",
       "      <td>PERSONAL</td>\n",
       "      <td>48280546</td>\n",
       "      <td>Ajeno_cotitular</td>\n",
       "      <td>C_F12</td>\n",
       "      <td>2021-02-08 12:12:35.888386</td>\n",
       "      <td>0</td>\n",
       "      <td>NaN</td>\n",
       "      <td>NaN</td>\n",
       "      <td>2.0</td>\n",
       "    </tr>\n",
       "    <tr>\n",
       "      <th>3</th>\n",
       "      <td>DNI 17999492</td>\n",
       "      <td>DNI</td>\n",
       "      <td>17999492</td>\n",
       "      <td>NaN</td>\n",
       "      <td>TEL.CELULAR</td>\n",
       "      <td>PERSONAL</td>\n",
       "      <td>1559436976</td>\n",
       "      <td>Ajeno_cotitular</td>\n",
       "      <td>C_F12</td>\n",
       "      <td>2021-02-08 12:12:35.888386</td>\n",
       "      <td>0</td>\n",
       "      <td>NaN</td>\n",
       "      <td>NaN</td>\n",
       "      <td>2.0</td>\n",
       "    </tr>\n",
       "    <tr>\n",
       "      <th>4</th>\n",
       "      <td>DNI 17999492</td>\n",
       "      <td>DNI</td>\n",
       "      <td>17999492</td>\n",
       "      <td>NaN</td>\n",
       "      <td>TEL.FIJO</td>\n",
       "      <td>PERSONAL</td>\n",
       "      <td>48053932</td>\n",
       "      <td>Ajeno_cotitular</td>\n",
       "      <td>C_F12</td>\n",
       "      <td>2021-02-08 12:12:35.888386</td>\n",
       "      <td>0</td>\n",
       "      <td>NaN</td>\n",
       "      <td>NaN</td>\n",
       "      <td>2.0</td>\n",
       "    </tr>\n",
       "  </tbody>\n",
       "</table>\n",
       "</div>"
      ],
      "text/plain": [
       "       IDMOROSO TIPO_DOC   NRO_DOC  CUIT_CUIL         TIPO   SUBTIPO  \\\n",
       "0  DNI 17999492      DNI  17999492        NaN  TEL.CELULAR  PERSONAL   \n",
       "1  DNI 17999492      DNI  17999492        NaN     TEL.FIJO  PERSONAL   \n",
       "2  DNI 17999492      DNI  17999492        NaN     TEL.FIJO  PERSONAL   \n",
       "3  DNI 17999492      DNI  17999492        NaN  TEL.CELULAR  PERSONAL   \n",
       "4  DNI 17999492      DNI  17999492        NaN     TEL.FIJO  PERSONAL   \n",
       "\n",
       "         DATO PROPIETARIO_DATO PROVEEDOR_DATO         FECHA_INGRESO_DATO  \\\n",
       "0  1559436976  Ajeno_cotitular          C_F12 2021-02-08 12:12:35.888386   \n",
       "1    48053932  Ajeno_cotitular          C_F12 2021-02-08 12:12:35.888386   \n",
       "2    48280546  Ajeno_cotitular          C_F12 2021-02-08 12:12:35.888386   \n",
       "3  1559436976  Ajeno_cotitular          C_F12 2021-02-08 12:12:35.888386   \n",
       "4    48053932  Ajeno_cotitular          C_F12 2021-02-08 12:12:35.888386   \n",
       "\n",
       "   VERIFICADO  FECHA_VERIFICACION  OPERADOR_VERIFICACION  SCORE_DATO  \n",
       "0           0                 NaN                    NaN         2.0  \n",
       "1           0                 NaN                    NaN         2.0  \n",
       "2           0                 NaN                    NaN         2.0  \n",
       "3           0                 NaN                    NaN         2.0  \n",
       "4           0                 NaN                    NaN         2.0  "
      ]
     },
     "execution_count": 67,
     "metadata": {},
     "output_type": "execute_result"
    }
   ],
   "source": [
    "df_export.head()"
   ]
  },
  {
   "cell_type": "markdown",
   "id": "arranged-tomorrow",
   "metadata": {},
   "source": [
    "# Revisión de duplicados"
   ]
  },
  {
   "cell_type": "code",
   "execution_count": 68,
   "id": "changing-enhancement",
   "metadata": {},
   "outputs": [],
   "source": [
    "duplicates_subset = df_export[df_export.duplicated(subset=['IDMOROSO','DATO','PROVEEDOR_DATO'],keep=False)]"
   ]
  },
  {
   "cell_type": "code",
   "execution_count": 69,
   "id": "eligible-dressing",
   "metadata": {},
   "outputs": [
    {
     "data": {
      "text/html": [
       "<div>\n",
       "<style scoped>\n",
       "    .dataframe tbody tr th:only-of-type {\n",
       "        vertical-align: middle;\n",
       "    }\n",
       "\n",
       "    .dataframe tbody tr th {\n",
       "        vertical-align: top;\n",
       "    }\n",
       "\n",
       "    .dataframe thead th {\n",
       "        text-align: right;\n",
       "    }\n",
       "</style>\n",
       "<table border=\"1\" class=\"dataframe\">\n",
       "  <thead>\n",
       "    <tr style=\"text-align: right;\">\n",
       "      <th></th>\n",
       "      <th>IDMOROSO</th>\n",
       "      <th>TIPO_DOC</th>\n",
       "      <th>NRO_DOC</th>\n",
       "      <th>CUIT_CUIL</th>\n",
       "      <th>TIPO</th>\n",
       "      <th>SUBTIPO</th>\n",
       "      <th>DATO</th>\n",
       "      <th>PROPIETARIO_DATO</th>\n",
       "      <th>PROVEEDOR_DATO</th>\n",
       "      <th>FECHA_INGRESO_DATO</th>\n",
       "      <th>VERIFICADO</th>\n",
       "      <th>FECHA_VERIFICACION</th>\n",
       "      <th>OPERADOR_VERIFICACION</th>\n",
       "      <th>SCORE_DATO</th>\n",
       "    </tr>\n",
       "  </thead>\n",
       "  <tbody>\n",
       "    <tr>\n",
       "      <th>0</th>\n",
       "      <td>DNI 17999492</td>\n",
       "      <td>DNI</td>\n",
       "      <td>17999492</td>\n",
       "      <td>NaN</td>\n",
       "      <td>TEL.CELULAR</td>\n",
       "      <td>PERSONAL</td>\n",
       "      <td>1559436976</td>\n",
       "      <td>Ajeno_cotitular</td>\n",
       "      <td>C_F12</td>\n",
       "      <td>2021-02-08 12:12:35.888386</td>\n",
       "      <td>0</td>\n",
       "      <td>NaN</td>\n",
       "      <td>NaN</td>\n",
       "      <td>2.0</td>\n",
       "    </tr>\n",
       "    <tr>\n",
       "      <th>1</th>\n",
       "      <td>DNI 17999492</td>\n",
       "      <td>DNI</td>\n",
       "      <td>17999492</td>\n",
       "      <td>NaN</td>\n",
       "      <td>TEL.FIJO</td>\n",
       "      <td>PERSONAL</td>\n",
       "      <td>48053932</td>\n",
       "      <td>Ajeno_cotitular</td>\n",
       "      <td>C_F12</td>\n",
       "      <td>2021-02-08 12:12:35.888386</td>\n",
       "      <td>0</td>\n",
       "      <td>NaN</td>\n",
       "      <td>NaN</td>\n",
       "      <td>2.0</td>\n",
       "    </tr>\n",
       "    <tr>\n",
       "      <th>2</th>\n",
       "      <td>DNI 17999492</td>\n",
       "      <td>DNI</td>\n",
       "      <td>17999492</td>\n",
       "      <td>NaN</td>\n",
       "      <td>TEL.FIJO</td>\n",
       "      <td>PERSONAL</td>\n",
       "      <td>48280546</td>\n",
       "      <td>Ajeno_cotitular</td>\n",
       "      <td>C_F12</td>\n",
       "      <td>2021-02-08 12:12:35.888386</td>\n",
       "      <td>0</td>\n",
       "      <td>NaN</td>\n",
       "      <td>NaN</td>\n",
       "      <td>2.0</td>\n",
       "    </tr>\n",
       "    <tr>\n",
       "      <th>3</th>\n",
       "      <td>DNI 17999492</td>\n",
       "      <td>DNI</td>\n",
       "      <td>17999492</td>\n",
       "      <td>NaN</td>\n",
       "      <td>TEL.CELULAR</td>\n",
       "      <td>PERSONAL</td>\n",
       "      <td>1559436976</td>\n",
       "      <td>Ajeno_cotitular</td>\n",
       "      <td>C_F12</td>\n",
       "      <td>2021-02-08 12:12:35.888386</td>\n",
       "      <td>0</td>\n",
       "      <td>NaN</td>\n",
       "      <td>NaN</td>\n",
       "      <td>2.0</td>\n",
       "    </tr>\n",
       "    <tr>\n",
       "      <th>4</th>\n",
       "      <td>DNI 17999492</td>\n",
       "      <td>DNI</td>\n",
       "      <td>17999492</td>\n",
       "      <td>NaN</td>\n",
       "      <td>TEL.FIJO</td>\n",
       "      <td>PERSONAL</td>\n",
       "      <td>48053932</td>\n",
       "      <td>Ajeno_cotitular</td>\n",
       "      <td>C_F12</td>\n",
       "      <td>2021-02-08 12:12:35.888386</td>\n",
       "      <td>0</td>\n",
       "      <td>NaN</td>\n",
       "      <td>NaN</td>\n",
       "      <td>2.0</td>\n",
       "    </tr>\n",
       "    <tr>\n",
       "      <th>...</th>\n",
       "      <td>...</td>\n",
       "      <td>...</td>\n",
       "      <td>...</td>\n",
       "      <td>...</td>\n",
       "      <td>...</td>\n",
       "      <td>...</td>\n",
       "      <td>...</td>\n",
       "      <td>...</td>\n",
       "      <td>...</td>\n",
       "      <td>...</td>\n",
       "      <td>...</td>\n",
       "      <td>...</td>\n",
       "      <td>...</td>\n",
       "      <td>...</td>\n",
       "    </tr>\n",
       "    <tr>\n",
       "      <th>1080</th>\n",
       "      <td>DNI 12518371</td>\n",
       "      <td>DNI</td>\n",
       "      <td>12518371</td>\n",
       "      <td>NaN</td>\n",
       "      <td>TEL.FIJO</td>\n",
       "      <td>PERSONAL</td>\n",
       "      <td>02984430970</td>\n",
       "      <td>Ajeno_cotitular</td>\n",
       "      <td>C_F12</td>\n",
       "      <td>2021-02-08 12:12:35.888386</td>\n",
       "      <td>0</td>\n",
       "      <td>NaN</td>\n",
       "      <td>NaN</td>\n",
       "      <td>2.0</td>\n",
       "    </tr>\n",
       "    <tr>\n",
       "      <th>1088</th>\n",
       "      <td>DNI 16499129</td>\n",
       "      <td>DNI</td>\n",
       "      <td>16499129</td>\n",
       "      <td>NaN</td>\n",
       "      <td>TEL.FIJO</td>\n",
       "      <td>PERSONAL</td>\n",
       "      <td>03564488892</td>\n",
       "      <td>Ajeno_cotitular</td>\n",
       "      <td>C_F12</td>\n",
       "      <td>2021-02-08 12:12:35.888386</td>\n",
       "      <td>0</td>\n",
       "      <td>NaN</td>\n",
       "      <td>NaN</td>\n",
       "      <td>2.0</td>\n",
       "    </tr>\n",
       "    <tr>\n",
       "      <th>1089</th>\n",
       "      <td>DNI 16499129</td>\n",
       "      <td>DNI</td>\n",
       "      <td>16499129</td>\n",
       "      <td>NaN</td>\n",
       "      <td>TEL.FIJO</td>\n",
       "      <td>PERSONAL</td>\n",
       "      <td>03564488892</td>\n",
       "      <td>Ajeno_cotitular</td>\n",
       "      <td>C_F12</td>\n",
       "      <td>2021-02-08 12:12:35.888386</td>\n",
       "      <td>0</td>\n",
       "      <td>NaN</td>\n",
       "      <td>NaN</td>\n",
       "      <td>2.0</td>\n",
       "    </tr>\n",
       "    <tr>\n",
       "      <th>1090</th>\n",
       "      <td>DNI 34347608</td>\n",
       "      <td>DNI</td>\n",
       "      <td>34347608</td>\n",
       "      <td>NaN</td>\n",
       "      <td>TEL.FIJO</td>\n",
       "      <td>PERSONAL</td>\n",
       "      <td>03329438230</td>\n",
       "      <td>Ajeno_cotitular</td>\n",
       "      <td>C_F12</td>\n",
       "      <td>2021-02-08 12:12:35.888386</td>\n",
       "      <td>0</td>\n",
       "      <td>NaN</td>\n",
       "      <td>NaN</td>\n",
       "      <td>2.0</td>\n",
       "    </tr>\n",
       "    <tr>\n",
       "      <th>1091</th>\n",
       "      <td>DNI 34347608</td>\n",
       "      <td>DNI</td>\n",
       "      <td>34347608</td>\n",
       "      <td>NaN</td>\n",
       "      <td>TEL.FIJO</td>\n",
       "      <td>PERSONAL</td>\n",
       "      <td>03329438230</td>\n",
       "      <td>Ajeno_cotitular</td>\n",
       "      <td>C_F12</td>\n",
       "      <td>2021-02-08 12:12:35.888386</td>\n",
       "      <td>0</td>\n",
       "      <td>NaN</td>\n",
       "      <td>NaN</td>\n",
       "      <td>2.0</td>\n",
       "    </tr>\n",
       "  </tbody>\n",
       "</table>\n",
       "<p>550 rows × 14 columns</p>\n",
       "</div>"
      ],
      "text/plain": [
       "          IDMOROSO TIPO_DOC   NRO_DOC  CUIT_CUIL         TIPO   SUBTIPO  \\\n",
       "0     DNI 17999492      DNI  17999492        NaN  TEL.CELULAR  PERSONAL   \n",
       "1     DNI 17999492      DNI  17999492        NaN     TEL.FIJO  PERSONAL   \n",
       "2     DNI 17999492      DNI  17999492        NaN     TEL.FIJO  PERSONAL   \n",
       "3     DNI 17999492      DNI  17999492        NaN  TEL.CELULAR  PERSONAL   \n",
       "4     DNI 17999492      DNI  17999492        NaN     TEL.FIJO  PERSONAL   \n",
       "...            ...      ...       ...        ...          ...       ...   \n",
       "1080  DNI 12518371      DNI  12518371        NaN     TEL.FIJO  PERSONAL   \n",
       "1088  DNI 16499129      DNI  16499129        NaN     TEL.FIJO  PERSONAL   \n",
       "1089  DNI 16499129      DNI  16499129        NaN     TEL.FIJO  PERSONAL   \n",
       "1090  DNI 34347608      DNI  34347608        NaN     TEL.FIJO  PERSONAL   \n",
       "1091  DNI 34347608      DNI  34347608        NaN     TEL.FIJO  PERSONAL   \n",
       "\n",
       "             DATO PROPIETARIO_DATO PROVEEDOR_DATO         FECHA_INGRESO_DATO  \\\n",
       "0      1559436976  Ajeno_cotitular          C_F12 2021-02-08 12:12:35.888386   \n",
       "1        48053932  Ajeno_cotitular          C_F12 2021-02-08 12:12:35.888386   \n",
       "2        48280546  Ajeno_cotitular          C_F12 2021-02-08 12:12:35.888386   \n",
       "3      1559436976  Ajeno_cotitular          C_F12 2021-02-08 12:12:35.888386   \n",
       "4        48053932  Ajeno_cotitular          C_F12 2021-02-08 12:12:35.888386   \n",
       "...           ...              ...            ...                        ...   \n",
       "1080  02984430970  Ajeno_cotitular          C_F12 2021-02-08 12:12:35.888386   \n",
       "1088  03564488892  Ajeno_cotitular          C_F12 2021-02-08 12:12:35.888386   \n",
       "1089  03564488892  Ajeno_cotitular          C_F12 2021-02-08 12:12:35.888386   \n",
       "1090  03329438230  Ajeno_cotitular          C_F12 2021-02-08 12:12:35.888386   \n",
       "1091  03329438230  Ajeno_cotitular          C_F12 2021-02-08 12:12:35.888386   \n",
       "\n",
       "      VERIFICADO  FECHA_VERIFICACION  OPERADOR_VERIFICACION  SCORE_DATO  \n",
       "0              0                 NaN                    NaN         2.0  \n",
       "1              0                 NaN                    NaN         2.0  \n",
       "2              0                 NaN                    NaN         2.0  \n",
       "3              0                 NaN                    NaN         2.0  \n",
       "4              0                 NaN                    NaN         2.0  \n",
       "...          ...                 ...                    ...         ...  \n",
       "1080           0                 NaN                    NaN         2.0  \n",
       "1088           0                 NaN                    NaN         2.0  \n",
       "1089           0                 NaN                    NaN         2.0  \n",
       "1090           0                 NaN                    NaN         2.0  \n",
       "1091           0                 NaN                    NaN         2.0  \n",
       "\n",
       "[550 rows x 14 columns]"
      ]
     },
     "execution_count": 69,
     "metadata": {},
     "output_type": "execute_result"
    }
   ],
   "source": [
    "duplicates_subset"
   ]
  },
  {
   "cell_type": "markdown",
   "id": "portable-observation",
   "metadata": {},
   "source": [
    "Tenemos duplicados en la tríada IDMOROSO-DATO-PROVEEDOR_DATO. Exportamos e inicializamos el pipeline de duplicados:"
   ]
  },
  {
   "cell_type": "code",
   "execution_count": 70,
   "id": "designing-owner",
   "metadata": {},
   "outputs": [],
   "source": [
    "df_export = df_export.drop_duplicates()"
   ]
  },
  {
   "cell_type": "code",
   "execution_count": 71,
   "id": "vocational-engine",
   "metadata": {},
   "outputs": [
    {
     "data": {
      "text/html": [
       "<div>\n",
       "<style scoped>\n",
       "    .dataframe tbody tr th:only-of-type {\n",
       "        vertical-align: middle;\n",
       "    }\n",
       "\n",
       "    .dataframe tbody tr th {\n",
       "        vertical-align: top;\n",
       "    }\n",
       "\n",
       "    .dataframe thead th {\n",
       "        text-align: right;\n",
       "    }\n",
       "</style>\n",
       "<table border=\"1\" class=\"dataframe\">\n",
       "  <thead>\n",
       "    <tr style=\"text-align: right;\">\n",
       "      <th></th>\n",
       "      <th>IDMOROSO</th>\n",
       "      <th>TIPO_DOC</th>\n",
       "      <th>NRO_DOC</th>\n",
       "      <th>CUIT_CUIL</th>\n",
       "      <th>TIPO</th>\n",
       "      <th>SUBTIPO</th>\n",
       "      <th>DATO</th>\n",
       "      <th>PROPIETARIO_DATO</th>\n",
       "      <th>PROVEEDOR_DATO</th>\n",
       "      <th>FECHA_INGRESO_DATO</th>\n",
       "      <th>VERIFICADO</th>\n",
       "      <th>FECHA_VERIFICACION</th>\n",
       "      <th>OPERADOR_VERIFICACION</th>\n",
       "      <th>SCORE_DATO</th>\n",
       "    </tr>\n",
       "  </thead>\n",
       "  <tbody>\n",
       "  </tbody>\n",
       "</table>\n",
       "</div>"
      ],
      "text/plain": [
       "Empty DataFrame\n",
       "Columns: [IDMOROSO, TIPO_DOC, NRO_DOC, CUIT_CUIL, TIPO, SUBTIPO, DATO, PROPIETARIO_DATO, PROVEEDOR_DATO, FECHA_INGRESO_DATO, VERIFICADO, FECHA_VERIFICACION, OPERADOR_VERIFICACION, SCORE_DATO]\n",
       "Index: []"
      ]
     },
     "execution_count": 71,
     "metadata": {},
     "output_type": "execute_result"
    }
   ],
   "source": [
    "df_export[df_export.duplicated(subset=['IDMOROSO','DATO','PROVEEDOR_DATO'],keep=False)]"
   ]
  },
  {
   "cell_type": "code",
   "execution_count": 72,
   "id": "daily-jacksonville",
   "metadata": {},
   "outputs": [
    {
     "data": {
      "text/plain": [
       "(772, 14)"
      ]
     },
     "execution_count": 72,
     "metadata": {},
     "output_type": "execute_result"
    }
   ],
   "source": [
    "df_export.shape"
   ]
  },
  {
   "cell_type": "markdown",
   "id": "initial-circulation",
   "metadata": {},
   "source": [
    "# Export"
   ]
  },
  {
   "cell_type": "code",
   "execution_count": 73,
   "id": "grand-protest",
   "metadata": {},
   "outputs": [],
   "source": [
    "df_export.to_csv('/mnt/c/Users/Dleg/Data/MOPC/MOPC/Enriquecimiento de Datos/Data Cleaning/Clientes/BBVA/Exports/DAM_CONTACTABILIDAD/F12_DAM_CONTACTABILIDAD_telefonos_0802.csv',index=False)"
   ]
  },
  {
   "cell_type": "code",
   "execution_count": null,
   "id": "sapphire-vessel",
   "metadata": {},
   "outputs": [],
   "source": []
  }
 ],
 "metadata": {
  "kernelspec": {
   "display_name": "Python 3",
   "language": "python",
   "name": "python3"
  },
  "language_info": {
   "codemirror_mode": {
    "name": "ipython",
    "version": 3
   },
   "file_extension": ".py",
   "mimetype": "text/x-python",
   "name": "python",
   "nbconvert_exporter": "python",
   "pygments_lexer": "ipython3",
   "version": "3.8.6"
  }
 },
 "nbformat": 4,
 "nbformat_minor": 5
}
