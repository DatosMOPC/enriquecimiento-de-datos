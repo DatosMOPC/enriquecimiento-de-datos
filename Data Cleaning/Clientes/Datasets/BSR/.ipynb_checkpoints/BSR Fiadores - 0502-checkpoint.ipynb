{
 "cells": [
  {
   "cell_type": "code",
   "execution_count": 1,
   "id": "statistical-scholarship",
   "metadata": {},
   "outputs": [],
   "source": [
    "import pandas as pd\n",
    "import numpy as np"
   ]
  },
  {
   "cell_type": "code",
   "execution_count": 2,
   "id": "engaged-armstrong",
   "metadata": {},
   "outputs": [],
   "source": [
    "df1 = pd.read_excel ('Datos a Enriquecer - BSR Fiadores.xlsx')"
   ]
  },
  {
   "cell_type": "code",
   "execution_count": 3,
   "id": "classified-interview",
   "metadata": {},
   "outputs": [
    {
     "data": {
      "text/plain": [
       "(271, 5)"
      ]
     },
     "execution_count": 3,
     "metadata": {},
     "output_type": "execute_result"
    }
   ],
   "source": [
    "df1.shape"
   ]
  },
  {
   "cell_type": "code",
   "execution_count": 4,
   "id": "reduced-speaker",
   "metadata": {
    "scrolled": true
   },
   "outputs": [
    {
     "data": {
      "text/html": [
       "<div>\n",
       "<style scoped>\n",
       "    .dataframe tbody tr th:only-of-type {\n",
       "        vertical-align: middle;\n",
       "    }\n",
       "\n",
       "    .dataframe tbody tr th {\n",
       "        vertical-align: top;\n",
       "    }\n",
       "\n",
       "    .dataframe thead th {\n",
       "        text-align: right;\n",
       "    }\n",
       "</style>\n",
       "<table border=\"1\" class=\"dataframe\">\n",
       "  <thead>\n",
       "    <tr style=\"text-align: right;\">\n",
       "      <th></th>\n",
       "      <th>IDMOROSO</th>\n",
       "      <th>DATO A ENVIAR</th>\n",
       "      <th>NOMBRE</th>\n",
       "      <th>ENTIDAD A ENRIQUECER</th>\n",
       "      <th>IDMOROSO ENRIQUECIDO POR</th>\n",
       "    </tr>\n",
       "  </thead>\n",
       "  <tbody>\n",
       "    <tr>\n",
       "      <th>0</th>\n",
       "      <td>CUIT30516256385</td>\n",
       "      <td>N - 00004392034</td>\n",
       "      <td>GROISMAN,ANIBAL OSVALDO</td>\n",
       "      <td>REFERENTE</td>\n",
       "      <td>PyP</td>\n",
       "    </tr>\n",
       "    <tr>\n",
       "      <th>1</th>\n",
       "      <td>CUIT30516256385</td>\n",
       "      <td>N - 00004392034</td>\n",
       "      <td>GROISMAN,ANIBAL OSVALDO</td>\n",
       "      <td>REFERENTE</td>\n",
       "      <td>PyP</td>\n",
       "    </tr>\n",
       "    <tr>\n",
       "      <th>2</th>\n",
       "      <td>CUIT30516256385</td>\n",
       "      <td>N - 00010136848</td>\n",
       "      <td>GROISMAN,BEATRIZ RUT</td>\n",
       "      <td>REFERENTE</td>\n",
       "      <td>PyP</td>\n",
       "    </tr>\n",
       "    <tr>\n",
       "      <th>3</th>\n",
       "      <td>CUIT30516256385</td>\n",
       "      <td>N - 00010136848</td>\n",
       "      <td>GROISMAN,BEATRIZ RUT</td>\n",
       "      <td>REFERENTE</td>\n",
       "      <td>PyP</td>\n",
       "    </tr>\n",
       "    <tr>\n",
       "      <th>4</th>\n",
       "      <td>CUIT33592559639</td>\n",
       "      <td>CUIT33592559639</td>\n",
       "      <td>MITSU CAR SA</td>\n",
       "      <td>EMPRESA</td>\n",
       "      <td>AT</td>\n",
       "    </tr>\n",
       "  </tbody>\n",
       "</table>\n",
       "</div>"
      ],
      "text/plain": [
       "          IDMOROSO    DATO A ENVIAR                   NOMBRE  \\\n",
       "0  CUIT30516256385  N - 00004392034  GROISMAN,ANIBAL OSVALDO   \n",
       "1  CUIT30516256385  N - 00004392034  GROISMAN,ANIBAL OSVALDO   \n",
       "2  CUIT30516256385  N - 00010136848     GROISMAN,BEATRIZ RUT   \n",
       "3  CUIT30516256385  N - 00010136848     GROISMAN,BEATRIZ RUT   \n",
       "4  CUIT33592559639  CUIT33592559639           MITSU CAR SA     \n",
       "\n",
       "  ENTIDAD A ENRIQUECER IDMOROSO ENRIQUECIDO POR  \n",
       "0            REFERENTE                      PyP  \n",
       "1            REFERENTE                      PyP  \n",
       "2            REFERENTE                      PyP  \n",
       "3            REFERENTE                      PyP  \n",
       "4              EMPRESA                       AT  "
      ]
     },
     "execution_count": 4,
     "metadata": {},
     "output_type": "execute_result"
    }
   ],
   "source": [
    "df1.head()"
   ]
  },
  {
   "cell_type": "code",
   "execution_count": 5,
   "id": "fundamental-longer",
   "metadata": {},
   "outputs": [],
   "source": [
    "df1 = df1.drop_duplicates()"
   ]
  },
  {
   "cell_type": "code",
   "execution_count": 6,
   "id": "informal-pregnancy",
   "metadata": {},
   "outputs": [
    {
     "data": {
      "text/plain": [
       "(97, 5)"
      ]
     },
     "execution_count": 6,
     "metadata": {},
     "output_type": "execute_result"
    }
   ],
   "source": [
    "df1.shape"
   ]
  },
  {
   "cell_type": "code",
   "execution_count": 7,
   "id": "offshore-database",
   "metadata": {
    "scrolled": true
   },
   "outputs": [
    {
     "data": {
      "text/html": [
       "<div>\n",
       "<style scoped>\n",
       "    .dataframe tbody tr th:only-of-type {\n",
       "        vertical-align: middle;\n",
       "    }\n",
       "\n",
       "    .dataframe tbody tr th {\n",
       "        vertical-align: top;\n",
       "    }\n",
       "\n",
       "    .dataframe thead th {\n",
       "        text-align: right;\n",
       "    }\n",
       "</style>\n",
       "<table border=\"1\" class=\"dataframe\">\n",
       "  <thead>\n",
       "    <tr style=\"text-align: right;\">\n",
       "      <th></th>\n",
       "      <th>IDMOROSO</th>\n",
       "      <th>DATO A ENVIAR</th>\n",
       "      <th>NOMBRE</th>\n",
       "      <th>ENTIDAD A ENRIQUECER</th>\n",
       "      <th>IDMOROSO ENRIQUECIDO POR</th>\n",
       "    </tr>\n",
       "  </thead>\n",
       "  <tbody>\n",
       "    <tr>\n",
       "      <th>0</th>\n",
       "      <td>CUIT30516256385</td>\n",
       "      <td>N - 00004392034</td>\n",
       "      <td>GROISMAN,ANIBAL OSVALDO</td>\n",
       "      <td>REFERENTE</td>\n",
       "      <td>PyP</td>\n",
       "    </tr>\n",
       "    <tr>\n",
       "      <th>2</th>\n",
       "      <td>CUIT30516256385</td>\n",
       "      <td>N - 00010136848</td>\n",
       "      <td>GROISMAN,BEATRIZ RUT</td>\n",
       "      <td>REFERENTE</td>\n",
       "      <td>PyP</td>\n",
       "    </tr>\n",
       "    <tr>\n",
       "      <th>4</th>\n",
       "      <td>CUIT33592559639</td>\n",
       "      <td>CUIT33592559639</td>\n",
       "      <td>MITSU CAR SA</td>\n",
       "      <td>EMPRESA</td>\n",
       "      <td>AT</td>\n",
       "    </tr>\n",
       "    <tr>\n",
       "      <th>8</th>\n",
       "      <td>CUIT30504244721</td>\n",
       "      <td>CUIT30504244721</td>\n",
       "      <td>OROPEL SACIYA</td>\n",
       "      <td>EMPRESA</td>\n",
       "      <td>AT</td>\n",
       "    </tr>\n",
       "    <tr>\n",
       "      <th>9</th>\n",
       "      <td>CUIT30663021466</td>\n",
       "      <td>CUIT30663021466</td>\n",
       "      <td>ROEDER SRL</td>\n",
       "      <td>EMPRESA</td>\n",
       "      <td>AT</td>\n",
       "    </tr>\n",
       "  </tbody>\n",
       "</table>\n",
       "</div>"
      ],
      "text/plain": [
       "          IDMOROSO    DATO A ENVIAR                   NOMBRE  \\\n",
       "0  CUIT30516256385  N - 00004392034  GROISMAN,ANIBAL OSVALDO   \n",
       "2  CUIT30516256385  N - 00010136848     GROISMAN,BEATRIZ RUT   \n",
       "4  CUIT33592559639  CUIT33592559639           MITSU CAR SA     \n",
       "8  CUIT30504244721  CUIT30504244721          OROPEL SACIYA     \n",
       "9  CUIT30663021466  CUIT30663021466             ROEDER SRL     \n",
       "\n",
       "  ENTIDAD A ENRIQUECER IDMOROSO ENRIQUECIDO POR  \n",
       "0            REFERENTE                      PyP  \n",
       "2            REFERENTE                      PyP  \n",
       "4              EMPRESA                       AT  \n",
       "8              EMPRESA                       AT  \n",
       "9              EMPRESA                       AT  "
      ]
     },
     "execution_count": 7,
     "metadata": {},
     "output_type": "execute_result"
    }
   ],
   "source": [
    "df1.head()"
   ]
  },
  {
   "cell_type": "code",
   "execution_count": 8,
   "id": "unsigned-peninsula",
   "metadata": {},
   "outputs": [],
   "source": [
    "df2 = pd.read_excel('BSR Fiadores - Active - 0502.xlsx')"
   ]
  },
  {
   "cell_type": "code",
   "execution_count": 9,
   "id": "tribal-liverpool",
   "metadata": {},
   "outputs": [
    {
     "data": {
      "text/plain": [
       "(122, 6)"
      ]
     },
     "execution_count": 9,
     "metadata": {},
     "output_type": "execute_result"
    }
   ],
   "source": [
    "df2.shape"
   ]
  },
  {
   "cell_type": "code",
   "execution_count": 10,
   "id": "legitimate-check",
   "metadata": {},
   "outputs": [
    {
     "data": {
      "text/html": [
       "<div>\n",
       "<style scoped>\n",
       "    .dataframe tbody tr th:only-of-type {\n",
       "        vertical-align: middle;\n",
       "    }\n",
       "\n",
       "    .dataframe tbody tr th {\n",
       "        vertical-align: top;\n",
       "    }\n",
       "\n",
       "    .dataframe thead th {\n",
       "        text-align: right;\n",
       "    }\n",
       "</style>\n",
       "<table border=\"1\" class=\"dataframe\">\n",
       "  <thead>\n",
       "    <tr style=\"text-align: right;\">\n",
       "      <th></th>\n",
       "      <th>IDMOROSO</th>\n",
       "      <th>DATO</th>\n",
       "      <th>PROVEEDOR_DATO</th>\n",
       "      <th>ESTADO</th>\n",
       "      <th>IDCLIENTE</th>\n",
       "      <th>Unnamed: 5</th>\n",
       "    </tr>\n",
       "  </thead>\n",
       "  <tbody>\n",
       "    <tr>\n",
       "      <th>0</th>\n",
       "      <td>CUIT30504244721</td>\n",
       "      <td>asantos@oropet.com.ar</td>\n",
       "      <td>AT</td>\n",
       "      <td>NO INTERESADO</td>\n",
       "      <td>BSR_TARDIA</td>\n",
       "      <td>NaN</td>\n",
       "    </tr>\n",
       "    <tr>\n",
       "      <th>1</th>\n",
       "      <td>CUIT30516256385</td>\n",
       "      <td>agroisman@gmail.com</td>\n",
       "      <td>P2</td>\n",
       "      <td>NO INTERESADO</td>\n",
       "      <td>BSR_TARDIA</td>\n",
       "      <td>NaN</td>\n",
       "    </tr>\n",
       "    <tr>\n",
       "      <th>2</th>\n",
       "      <td>CUIT30516256385</td>\n",
       "      <td>agroisman@groisman.com.ar</td>\n",
       "      <td>AT</td>\n",
       "      <td>NO INTERESADO</td>\n",
       "      <td>BSR_TARDIA</td>\n",
       "      <td>NaN</td>\n",
       "    </tr>\n",
       "    <tr>\n",
       "      <th>3</th>\n",
       "      <td>CUIT30663021466</td>\n",
       "      <td>roedersrl@mail.com</td>\n",
       "      <td>AT</td>\n",
       "      <td>SKIP LEVEL 2</td>\n",
       "      <td>BSR_TARDIA</td>\n",
       "      <td>NaN</td>\n",
       "    </tr>\n",
       "    <tr>\n",
       "      <th>4</th>\n",
       "      <td>CUIT30684947407</td>\n",
       "      <td>eugenio@next-work.com.ar</td>\n",
       "      <td>AT</td>\n",
       "      <td>SKIP LEVEL</td>\n",
       "      <td>BSR_TARDIA</td>\n",
       "      <td>NaN</td>\n",
       "    </tr>\n",
       "  </tbody>\n",
       "</table>\n",
       "</div>"
      ],
      "text/plain": [
       "             IDMOROSO                       DATO PROVEEDOR_DATO  \\\n",
       "0  CUIT30504244721         asantos@oropet.com.ar             AT   \n",
       "1     CUIT30516256385        agroisman@gmail.com             P2   \n",
       "2  CUIT30516256385     agroisman@groisman.com.ar             AT   \n",
       "3  CUIT30663021466            roedersrl@mail.com             AT   \n",
       "4  CUIT30684947407      eugenio@next-work.com.ar             AT   \n",
       "\n",
       "                 ESTADO             IDCLIENTE  Unnamed: 5  \n",
       "0  NO INTERESADO         BSR_TARDIA                   NaN  \n",
       "1  NO INTERESADO         BSR_TARDIA                   NaN  \n",
       "2  NO INTERESADO         BSR_TARDIA                   NaN  \n",
       "3  SKIP LEVEL 2          BSR_TARDIA                   NaN  \n",
       "4  SKIP LEVEL            BSR_TARDIA                   NaN  "
      ]
     },
     "execution_count": 10,
     "metadata": {},
     "output_type": "execute_result"
    }
   ],
   "source": [
    "df2.head()"
   ]
  },
  {
   "cell_type": "code",
   "execution_count": 11,
   "id": "effective-container",
   "metadata": {},
   "outputs": [],
   "source": [
    "df2 = df2 [['IDMOROSO','ESTADO']]"
   ]
  },
  {
   "cell_type": "code",
   "execution_count": 12,
   "id": "blessed-support",
   "metadata": {},
   "outputs": [],
   "source": [
    "df2 ['IDMOROSO'] = df2['IDMOROSO'].str.strip()"
   ]
  },
  {
   "cell_type": "code",
   "execution_count": 13,
   "id": "traditional-citizen",
   "metadata": {},
   "outputs": [
    {
     "data": {
      "text/html": [
       "<div>\n",
       "<style scoped>\n",
       "    .dataframe tbody tr th:only-of-type {\n",
       "        vertical-align: middle;\n",
       "    }\n",
       "\n",
       "    .dataframe tbody tr th {\n",
       "        vertical-align: top;\n",
       "    }\n",
       "\n",
       "    .dataframe thead th {\n",
       "        text-align: right;\n",
       "    }\n",
       "</style>\n",
       "<table border=\"1\" class=\"dataframe\">\n",
       "  <thead>\n",
       "    <tr style=\"text-align: right;\">\n",
       "      <th></th>\n",
       "      <th>IDMOROSO</th>\n",
       "      <th>ESTADO</th>\n",
       "    </tr>\n",
       "  </thead>\n",
       "  <tbody>\n",
       "    <tr>\n",
       "      <th>0</th>\n",
       "      <td>CUIT30504244721</td>\n",
       "      <td>NO INTERESADO</td>\n",
       "    </tr>\n",
       "    <tr>\n",
       "      <th>1</th>\n",
       "      <td>CUIT30516256385</td>\n",
       "      <td>NO INTERESADO</td>\n",
       "    </tr>\n",
       "    <tr>\n",
       "      <th>2</th>\n",
       "      <td>CUIT30516256385</td>\n",
       "      <td>NO INTERESADO</td>\n",
       "    </tr>\n",
       "    <tr>\n",
       "      <th>3</th>\n",
       "      <td>CUIT30663021466</td>\n",
       "      <td>SKIP LEVEL 2</td>\n",
       "    </tr>\n",
       "    <tr>\n",
       "      <th>4</th>\n",
       "      <td>CUIT30684947407</td>\n",
       "      <td>SKIP LEVEL</td>\n",
       "    </tr>\n",
       "  </tbody>\n",
       "</table>\n",
       "</div>"
      ],
      "text/plain": [
       "          IDMOROSO                ESTADO\n",
       "0  CUIT30504244721  NO INTERESADO       \n",
       "1  CUIT30516256385  NO INTERESADO       \n",
       "2  CUIT30516256385  NO INTERESADO       \n",
       "3  CUIT30663021466  SKIP LEVEL 2        \n",
       "4  CUIT30684947407  SKIP LEVEL          "
      ]
     },
     "execution_count": 13,
     "metadata": {},
     "output_type": "execute_result"
    }
   ],
   "source": [
    "df2.head()"
   ]
  },
  {
   "cell_type": "code",
   "execution_count": 14,
   "id": "finite-address",
   "metadata": {},
   "outputs": [],
   "source": [
    "df2 = df2.drop_duplicates()"
   ]
  },
  {
   "cell_type": "code",
   "execution_count": 15,
   "id": "otherwise-canberra",
   "metadata": {},
   "outputs": [
    {
     "data": {
      "text/plain": [
       "(89, 2)"
      ]
     },
     "execution_count": 15,
     "metadata": {},
     "output_type": "execute_result"
    }
   ],
   "source": [
    "df2.shape"
   ]
  },
  {
   "cell_type": "code",
   "execution_count": 16,
   "id": "cheap-example",
   "metadata": {},
   "outputs": [],
   "source": [
    "df1 ['IDMOROSO'] = df1['IDMOROSO'].astype(str)\n",
    "df2 ['IDMOROSO'] = df2['IDMOROSO'].astype(str)"
   ]
  },
  {
   "cell_type": "code",
   "execution_count": 30,
   "id": "recovered-monday",
   "metadata": {},
   "outputs": [],
   "source": [
    "df = pd.merge(df1,df2, on='IDMOROSO', how='left')"
   ]
  },
  {
   "cell_type": "code",
   "execution_count": 31,
   "id": "stupid-ethernet",
   "metadata": {},
   "outputs": [
    {
     "data": {
      "text/plain": [
       "(97, 6)"
      ]
     },
     "execution_count": 31,
     "metadata": {},
     "output_type": "execute_result"
    }
   ],
   "source": [
    "df.shape"
   ]
  },
  {
   "cell_type": "code",
   "execution_count": 32,
   "id": "bizarre-defensive",
   "metadata": {},
   "outputs": [
    {
     "data": {
      "text/html": [
       "<div>\n",
       "<style scoped>\n",
       "    .dataframe tbody tr th:only-of-type {\n",
       "        vertical-align: middle;\n",
       "    }\n",
       "\n",
       "    .dataframe tbody tr th {\n",
       "        vertical-align: top;\n",
       "    }\n",
       "\n",
       "    .dataframe thead th {\n",
       "        text-align: right;\n",
       "    }\n",
       "</style>\n",
       "<table border=\"1\" class=\"dataframe\">\n",
       "  <thead>\n",
       "    <tr style=\"text-align: right;\">\n",
       "      <th></th>\n",
       "      <th>IDMOROSO</th>\n",
       "      <th>DATO A ENVIAR</th>\n",
       "      <th>NOMBRE</th>\n",
       "      <th>ENTIDAD A ENRIQUECER</th>\n",
       "      <th>IDMOROSO ENRIQUECIDO POR</th>\n",
       "      <th>ESTADO</th>\n",
       "    </tr>\n",
       "  </thead>\n",
       "  <tbody>\n",
       "    <tr>\n",
       "      <th>0</th>\n",
       "      <td>CUIT30516256385</td>\n",
       "      <td>N - 00004392034</td>\n",
       "      <td>GROISMAN,ANIBAL OSVALDO</td>\n",
       "      <td>REFERENTE</td>\n",
       "      <td>PyP</td>\n",
       "      <td>NO INTERESADO</td>\n",
       "    </tr>\n",
       "    <tr>\n",
       "      <th>1</th>\n",
       "      <td>CUIT30516256385</td>\n",
       "      <td>N - 00010136848</td>\n",
       "      <td>GROISMAN,BEATRIZ RUT</td>\n",
       "      <td>REFERENTE</td>\n",
       "      <td>PyP</td>\n",
       "      <td>NO INTERESADO</td>\n",
       "    </tr>\n",
       "    <tr>\n",
       "      <th>2</th>\n",
       "      <td>CUIT33592559639</td>\n",
       "      <td>CUIT33592559639</td>\n",
       "      <td>MITSU CAR SA</td>\n",
       "      <td>EMPRESA</td>\n",
       "      <td>AT</td>\n",
       "      <td>PROBLEMA</td>\n",
       "    </tr>\n",
       "    <tr>\n",
       "      <th>3</th>\n",
       "      <td>CUIT30504244721</td>\n",
       "      <td>CUIT30504244721</td>\n",
       "      <td>OROPEL SACIYA</td>\n",
       "      <td>EMPRESA</td>\n",
       "      <td>AT</td>\n",
       "      <td>NO INTERESADO</td>\n",
       "    </tr>\n",
       "    <tr>\n",
       "      <th>4</th>\n",
       "      <td>CUIT30663021466</td>\n",
       "      <td>CUIT30663021466</td>\n",
       "      <td>ROEDER SRL</td>\n",
       "      <td>EMPRESA</td>\n",
       "      <td>AT</td>\n",
       "      <td>SKIP LEVEL 2</td>\n",
       "    </tr>\n",
       "  </tbody>\n",
       "</table>\n",
       "</div>"
      ],
      "text/plain": [
       "          IDMOROSO    DATO A ENVIAR                   NOMBRE  \\\n",
       "0  CUIT30516256385  N - 00004392034  GROISMAN,ANIBAL OSVALDO   \n",
       "1  CUIT30516256385  N - 00010136848     GROISMAN,BEATRIZ RUT   \n",
       "2  CUIT33592559639  CUIT33592559639           MITSU CAR SA     \n",
       "3  CUIT30504244721  CUIT30504244721          OROPEL SACIYA     \n",
       "4  CUIT30663021466  CUIT30663021466             ROEDER SRL     \n",
       "\n",
       "  ENTIDAD A ENRIQUECER IDMOROSO ENRIQUECIDO POR                ESTADO  \n",
       "0            REFERENTE                      PyP  NO INTERESADO         \n",
       "1            REFERENTE                      PyP  NO INTERESADO         \n",
       "2              EMPRESA                       AT  PROBLEMA              \n",
       "3              EMPRESA                       AT  NO INTERESADO         \n",
       "4              EMPRESA                       AT  SKIP LEVEL 2          "
      ]
     },
     "execution_count": 32,
     "metadata": {},
     "output_type": "execute_result"
    }
   ],
   "source": [
    "df.head()"
   ]
  },
  {
   "cell_type": "code",
   "execution_count": 33,
   "id": "federal-frost",
   "metadata": {},
   "outputs": [
    {
     "data": {
      "text/html": [
       "<div>\n",
       "<style scoped>\n",
       "    .dataframe tbody tr th:only-of-type {\n",
       "        vertical-align: middle;\n",
       "    }\n",
       "\n",
       "    .dataframe tbody tr th {\n",
       "        vertical-align: top;\n",
       "    }\n",
       "\n",
       "    .dataframe thead th {\n",
       "        text-align: right;\n",
       "    }\n",
       "</style>\n",
       "<table border=\"1\" class=\"dataframe\">\n",
       "  <thead>\n",
       "    <tr style=\"text-align: right;\">\n",
       "      <th></th>\n",
       "      <th>IDMOROSO</th>\n",
       "      <th>DATO A ENVIAR</th>\n",
       "      <th>NOMBRE</th>\n",
       "      <th>ENTIDAD A ENRIQUECER</th>\n",
       "      <th>IDMOROSO ENRIQUECIDO POR</th>\n",
       "      <th>ESTADO</th>\n",
       "    </tr>\n",
       "  </thead>\n",
       "  <tbody>\n",
       "    <tr>\n",
       "      <th>2</th>\n",
       "      <td>CUIT33592559639</td>\n",
       "      <td>CUIT33592559639</td>\n",
       "      <td>MITSU CAR SA</td>\n",
       "      <td>EMPRESA</td>\n",
       "      <td>AT</td>\n",
       "      <td>PROBLEMA</td>\n",
       "    </tr>\n",
       "  </tbody>\n",
       "</table>\n",
       "</div>"
      ],
      "text/plain": [
       "          IDMOROSO    DATO A ENVIAR          NOMBRE ENTIDAD A ENRIQUECER  \\\n",
       "2  CUIT33592559639  CUIT33592559639  MITSU CAR SA                EMPRESA   \n",
       "\n",
       "  IDMOROSO ENRIQUECIDO POR                ESTADO  \n",
       "2                       AT  PROBLEMA              "
      ]
     },
     "execution_count": 33,
     "metadata": {},
     "output_type": "execute_result"
    }
   ],
   "source": [
    "df[df['IDMOROSO']=='CUIT33592559639']"
   ]
  },
  {
   "cell_type": "code",
   "execution_count": 34,
   "id": "capable-singles",
   "metadata": {},
   "outputs": [
    {
     "data": {
      "text/html": [
       "<div>\n",
       "<style scoped>\n",
       "    .dataframe tbody tr th:only-of-type {\n",
       "        vertical-align: middle;\n",
       "    }\n",
       "\n",
       "    .dataframe tbody tr th {\n",
       "        vertical-align: top;\n",
       "    }\n",
       "\n",
       "    .dataframe thead th {\n",
       "        text-align: right;\n",
       "    }\n",
       "</style>\n",
       "<table border=\"1\" class=\"dataframe\">\n",
       "  <thead>\n",
       "    <tr style=\"text-align: right;\">\n",
       "      <th></th>\n",
       "      <th>IDMOROSO</th>\n",
       "      <th>ESTADO</th>\n",
       "    </tr>\n",
       "  </thead>\n",
       "  <tbody>\n",
       "    <tr>\n",
       "      <th>111</th>\n",
       "      <td>CUIT33592559639</td>\n",
       "      <td>PROBLEMA</td>\n",
       "    </tr>\n",
       "  </tbody>\n",
       "</table>\n",
       "</div>"
      ],
      "text/plain": [
       "            IDMOROSO                ESTADO\n",
       "111  CUIT33592559639  PROBLEMA            "
      ]
     },
     "execution_count": 34,
     "metadata": {},
     "output_type": "execute_result"
    }
   ],
   "source": [
    "df2[df2['IDMOROSO']=='CUIT33592559639']"
   ]
  },
  {
   "cell_type": "code",
   "execution_count": 29,
   "id": "reverse-scale",
   "metadata": {},
   "outputs": [
    {
     "data": {
      "text/html": [
       "<div>\n",
       "<style scoped>\n",
       "    .dataframe tbody tr th:only-of-type {\n",
       "        vertical-align: middle;\n",
       "    }\n",
       "\n",
       "    .dataframe tbody tr th {\n",
       "        vertical-align: top;\n",
       "    }\n",
       "\n",
       "    .dataframe thead th {\n",
       "        text-align: right;\n",
       "    }\n",
       "</style>\n",
       "<table border=\"1\" class=\"dataframe\">\n",
       "  <thead>\n",
       "    <tr style=\"text-align: right;\">\n",
       "      <th></th>\n",
       "      <th>IDMOROSO</th>\n",
       "      <th>DATO A ENVIAR</th>\n",
       "      <th>NOMBRE</th>\n",
       "      <th>ENTIDAD A ENRIQUECER</th>\n",
       "      <th>IDMOROSO ENRIQUECIDO POR</th>\n",
       "    </tr>\n",
       "  </thead>\n",
       "  <tbody>\n",
       "    <tr>\n",
       "      <th>4</th>\n",
       "      <td>CUIT33592559639</td>\n",
       "      <td>CUIT33592559639</td>\n",
       "      <td>MITSU CAR SA</td>\n",
       "      <td>EMPRESA</td>\n",
       "      <td>AT</td>\n",
       "    </tr>\n",
       "  </tbody>\n",
       "</table>\n",
       "</div>"
      ],
      "text/plain": [
       "          IDMOROSO    DATO A ENVIAR          NOMBRE ENTIDAD A ENRIQUECER  \\\n",
       "4  CUIT33592559639  CUIT33592559639  MITSU CAR SA                EMPRESA   \n",
       "\n",
       "  IDMOROSO ENRIQUECIDO POR  \n",
       "4                       AT  "
      ]
     },
     "execution_count": 29,
     "metadata": {},
     "output_type": "execute_result"
    }
   ],
   "source": [
    "df1[df1['IDMOROSO']=='CUIT33592559639']"
   ]
  },
  {
   "cell_type": "code",
   "execution_count": 39,
   "id": "expensive-slide",
   "metadata": {},
   "outputs": [],
   "source": [
    "df.to_excel('BSR - Datos a Enviar - 0502.xlsx',index=False)"
   ]
  },
  {
   "cell_type": "code",
   "execution_count": null,
   "id": "chief-third",
   "metadata": {},
   "outputs": [],
   "source": []
  }
 ],
 "metadata": {
  "kernelspec": {
   "display_name": "Python 3",
   "language": "python",
   "name": "python3"
  },
  "language_info": {
   "codemirror_mode": {
    "name": "ipython",
    "version": 3
   },
   "file_extension": ".py",
   "mimetype": "text/x-python",
   "name": "python",
   "nbconvert_exporter": "python",
   "pygments_lexer": "ipython3",
   "version": "3.8.6"
  }
 },
 "nbformat": 4,
 "nbformat_minor": 5
}
