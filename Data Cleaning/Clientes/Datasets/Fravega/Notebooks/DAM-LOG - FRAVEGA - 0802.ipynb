{
 "cells": [
  {
   "cell_type": "code",
   "execution_count": 1,
   "metadata": {},
   "outputs": [],
   "source": [
    "import pandas as pd\n",
    "import numpy as np"
   ]
  },
  {
   "cell_type": "markdown",
   "metadata": {},
   "source": [
    "# LOG"
   ]
  },
  {
   "cell_type": "markdown",
   "metadata": {},
   "source": [
    "# 1. Datos enviados"
   ]
  },
  {
   "cell_type": "code",
   "execution_count": 2,
   "metadata": {},
   "outputs": [],
   "source": [
    "df_log = pd.read_csv('/mnt/c/users/Dleg/Data/MOPC/MOPC/Enriquecimiento de Datos/Data Cleaning/Clientes/Fravega/Datasets/FRAVEGA_Datos_Enviados_2602.csv')"
   ]
  },
  {
   "cell_type": "code",
   "execution_count": 3,
   "metadata": {
    "scrolled": true
   },
   "outputs": [
    {
     "data": {
      "text/html": [
       "<div>\n",
       "<style scoped>\n",
       "    .dataframe tbody tr th:only-of-type {\n",
       "        vertical-align: middle;\n",
       "    }\n",
       "\n",
       "    .dataframe tbody tr th {\n",
       "        vertical-align: top;\n",
       "    }\n",
       "\n",
       "    .dataframe thead th {\n",
       "        text-align: right;\n",
       "    }\n",
       "</style>\n",
       "<table border=\"1\" class=\"dataframe\">\n",
       "  <thead>\n",
       "    <tr style=\"text-align: right;\">\n",
       "      <th></th>\n",
       "      <th>IDMOROSO</th>\n",
       "      <th>IDCLIENTE</th>\n",
       "      <th>ESTADO</th>\n",
       "    </tr>\n",
       "  </thead>\n",
       "  <tbody>\n",
       "    <tr>\n",
       "      <th>0</th>\n",
       "      <td>DNI 10122690</td>\n",
       "      <td>FRAVEGA_LEGALES548</td>\n",
       "      <td>EN GESTION</td>\n",
       "    </tr>\n",
       "    <tr>\n",
       "      <th>1</th>\n",
       "      <td>DNI 10126780</td>\n",
       "      <td>FRAVEGA_LEGALES548</td>\n",
       "      <td>COMPROMISO</td>\n",
       "    </tr>\n",
       "    <tr>\n",
       "      <th>2</th>\n",
       "      <td>DNI 10138702</td>\n",
       "      <td>FRAVEGA_LEGALES548</td>\n",
       "      <td>EN GESTION</td>\n",
       "    </tr>\n",
       "    <tr>\n",
       "      <th>3</th>\n",
       "      <td>DNI 10327923</td>\n",
       "      <td>FRAVEGA_LEGALES548</td>\n",
       "      <td>EN GESTION</td>\n",
       "    </tr>\n",
       "    <tr>\n",
       "      <th>4</th>\n",
       "      <td>DNI 10335724</td>\n",
       "      <td>FRAVEGA_LEGALES548</td>\n",
       "      <td>CANCELO</td>\n",
       "    </tr>\n",
       "  </tbody>\n",
       "</table>\n",
       "</div>"
      ],
      "text/plain": [
       "             IDMOROSO             IDCLIENTE                ESTADO\n",
       "0  DNI 10122690        FRAVEGA_LEGALES548    EN GESTION          \n",
       "1  DNI 10126780        FRAVEGA_LEGALES548    COMPROMISO          \n",
       "2  DNI 10138702        FRAVEGA_LEGALES548    EN GESTION          \n",
       "3  DNI 10327923        FRAVEGA_LEGALES548    EN GESTION          \n",
       "4  DNI 10335724        FRAVEGA_LEGALES548    CANCELO             "
      ]
     },
     "execution_count": 3,
     "metadata": {},
     "output_type": "execute_result"
    }
   ],
   "source": [
    "df_log.head()"
   ]
  },
  {
   "cell_type": "code",
   "execution_count": 4,
   "metadata": {},
   "outputs": [],
   "source": [
    "df_log = df_log.rename(columns={\"ESTADO\": \"ESTADO_ANTERIOR\"})"
   ]
  },
  {
   "cell_type": "code",
   "execution_count": 5,
   "metadata": {},
   "outputs": [],
   "source": [
    "#df_log = df_log [['IDMOROSO','IDCLIENTE','DATOADIC','ESTADO_ANTERIOR']]\n",
    "df_log = df_log [['IDMOROSO','IDCLIENTE','ESTADO_ANTERIOR']]"
   ]
  },
  {
   "cell_type": "code",
   "execution_count": 6,
   "metadata": {},
   "outputs": [],
   "source": [
    "fecha_envio_log = '2021-02-02'"
   ]
  },
  {
   "cell_type": "code",
   "execution_count": 7,
   "metadata": {},
   "outputs": [],
   "source": [
    "fecha_insercion_log = '2021-02-08'"
   ]
  },
  {
   "cell_type": "code",
   "execution_count": 8,
   "metadata": {},
   "outputs": [],
   "source": [
    "fecha_estados_log = '2021-02-08'"
   ]
  },
  {
   "cell_type": "code",
   "execution_count": 9,
   "metadata": {},
   "outputs": [],
   "source": [
    "df_log = df_log.assign(FECHA_ENVIO_ENRIQUECIMIENTO=fecha_envio_log)"
   ]
  },
  {
   "cell_type": "code",
   "execution_count": 10,
   "metadata": {},
   "outputs": [],
   "source": [
    "df_log = df_log.assign(FECHA_INSERCION_DATO=fecha_insercion_log)"
   ]
  },
  {
   "cell_type": "code",
   "execution_count": 11,
   "metadata": {},
   "outputs": [],
   "source": [
    "df_log = df_log.assign(FECHA_CAMBIO_ESTADO=fecha_estados_log)"
   ]
  },
  {
   "cell_type": "code",
   "execution_count": 12,
   "metadata": {
    "scrolled": true
   },
   "outputs": [
    {
     "data": {
      "text/html": [
       "<div>\n",
       "<style scoped>\n",
       "    .dataframe tbody tr th:only-of-type {\n",
       "        vertical-align: middle;\n",
       "    }\n",
       "\n",
       "    .dataframe tbody tr th {\n",
       "        vertical-align: top;\n",
       "    }\n",
       "\n",
       "    .dataframe thead th {\n",
       "        text-align: right;\n",
       "    }\n",
       "</style>\n",
       "<table border=\"1\" class=\"dataframe\">\n",
       "  <thead>\n",
       "    <tr style=\"text-align: right;\">\n",
       "      <th></th>\n",
       "      <th>IDMOROSO</th>\n",
       "      <th>IDCLIENTE</th>\n",
       "      <th>ESTADO_ANTERIOR</th>\n",
       "      <th>FECHA_ENVIO_ENRIQUECIMIENTO</th>\n",
       "      <th>FECHA_INSERCION_DATO</th>\n",
       "      <th>FECHA_CAMBIO_ESTADO</th>\n",
       "    </tr>\n",
       "  </thead>\n",
       "  <tbody>\n",
       "    <tr>\n",
       "      <th>0</th>\n",
       "      <td>DNI 10122690</td>\n",
       "      <td>FRAVEGA_LEGALES548</td>\n",
       "      <td>EN GESTION</td>\n",
       "      <td>2021-02-02</td>\n",
       "      <td>2021-02-08</td>\n",
       "      <td>2021-02-08</td>\n",
       "    </tr>\n",
       "    <tr>\n",
       "      <th>1</th>\n",
       "      <td>DNI 10126780</td>\n",
       "      <td>FRAVEGA_LEGALES548</td>\n",
       "      <td>COMPROMISO</td>\n",
       "      <td>2021-02-02</td>\n",
       "      <td>2021-02-08</td>\n",
       "      <td>2021-02-08</td>\n",
       "    </tr>\n",
       "    <tr>\n",
       "      <th>2</th>\n",
       "      <td>DNI 10138702</td>\n",
       "      <td>FRAVEGA_LEGALES548</td>\n",
       "      <td>EN GESTION</td>\n",
       "      <td>2021-02-02</td>\n",
       "      <td>2021-02-08</td>\n",
       "      <td>2021-02-08</td>\n",
       "    </tr>\n",
       "    <tr>\n",
       "      <th>3</th>\n",
       "      <td>DNI 10327923</td>\n",
       "      <td>FRAVEGA_LEGALES548</td>\n",
       "      <td>EN GESTION</td>\n",
       "      <td>2021-02-02</td>\n",
       "      <td>2021-02-08</td>\n",
       "      <td>2021-02-08</td>\n",
       "    </tr>\n",
       "    <tr>\n",
       "      <th>4</th>\n",
       "      <td>DNI 10335724</td>\n",
       "      <td>FRAVEGA_LEGALES548</td>\n",
       "      <td>CANCELO</td>\n",
       "      <td>2021-02-02</td>\n",
       "      <td>2021-02-08</td>\n",
       "      <td>2021-02-08</td>\n",
       "    </tr>\n",
       "  </tbody>\n",
       "</table>\n",
       "</div>"
      ],
      "text/plain": [
       "             IDMOROSO             IDCLIENTE       ESTADO_ANTERIOR  \\\n",
       "0  DNI 10122690        FRAVEGA_LEGALES548    EN GESTION             \n",
       "1  DNI 10126780        FRAVEGA_LEGALES548    COMPROMISO             \n",
       "2  DNI 10138702        FRAVEGA_LEGALES548    EN GESTION             \n",
       "3  DNI 10327923        FRAVEGA_LEGALES548    EN GESTION             \n",
       "4  DNI 10335724        FRAVEGA_LEGALES548    CANCELO                \n",
       "\n",
       "  FECHA_ENVIO_ENRIQUECIMIENTO FECHA_INSERCION_DATO FECHA_CAMBIO_ESTADO  \n",
       "0                  2021-02-02           2021-02-08          2021-02-08  \n",
       "1                  2021-02-02           2021-02-08          2021-02-08  \n",
       "2                  2021-02-02           2021-02-08          2021-02-08  \n",
       "3                  2021-02-02           2021-02-08          2021-02-08  \n",
       "4                  2021-02-02           2021-02-08          2021-02-08  "
      ]
     },
     "execution_count": 12,
     "metadata": {},
     "output_type": "execute_result"
    }
   ],
   "source": [
    "df_log.head()"
   ]
  },
  {
   "cell_type": "code",
   "execution_count": 13,
   "metadata": {},
   "outputs": [],
   "source": [
    "df_log = df_log.assign(PROVEEDOR='C_FRV')"
   ]
  },
  {
   "cell_type": "code",
   "execution_count": 14,
   "metadata": {},
   "outputs": [],
   "source": [
    "df_log['ESTADO_ANTERIOR'] = [(str(df_log['ESTADO_ANTERIOR'][i]).strip()) for i in range (df_log['ESTADO_ANTERIOR'].count())]"
   ]
  },
  {
   "cell_type": "code",
   "execution_count": 15,
   "metadata": {},
   "outputs": [],
   "source": [
    "df_log.loc[(df_log['ESTADO_ANTERIOR'] == 'INTERESADO') | \n",
    "           (df_log['ESTADO_ANTERIOR'] == 'NO VISTO') | \n",
    "           (df_log['ESTADO_ANTERIOR'] == 'EN GESTION') |\n",
    "           (df_log['ESTADO_ANTERIOR'] == 'ASIGNADO') |\n",
    "           (df_log['ESTADO_ANTERIOR'] == 'ROTACION') |\n",
    "           (df_log['ESTADO_ANTERIOR'] == 'ASIGNADO') |\n",
    "           (df_log['ESTADO_ANTERIOR'] == 'PLAN V') |\n",
    "           (df_log['ESTADO_ANTERIOR'] == 'NO INTERESADO') |\n",
    "           (df_log['ESTADO_ANTERIOR'] == 'ACUERDO CAIDO') |\n",
    "           (df_log['ESTADO_ANTERIOR'] == 'CANCELO_RECHAZADA') \n",
    "           , 'CATEGORIA'] = 'NEUTRO'"
   ]
  },
  {
   "cell_type": "code",
   "execution_count": 16,
   "metadata": {},
   "outputs": [],
   "source": [
    "df_log.loc[(df_log['ESTADO_ANTERIOR'] == 'NO UBICADO') | \n",
    "           (df_log['ESTADO_ANTERIOR'] == 'SKIP LEVEL') |\n",
    "           (df_log['ESTADO_ANTERIOR'] == 'SKIP LEVEL 1') |\n",
    "           (df_log['ESTADO_ANTERIOR'] == 'SKIP LEVEL 1 OK') |\n",
    "           (df_log['ESTADO_ANTERIOR'] == 'SKIP LEVEL 2') |\n",
    "           (df_log['ESTADO_ANTERIOR'] == 'SKIP LEVEL 3') |\n",
    "           (df_log['ESTADO_ANTERIOR'] == 'SKIP LEVEL 3 OK') |\n",
    "           (df_log['ESTADO_ANTERIOR'] == 'SKIP LEVEL3 OK') |\n",
    "           (df_log['ESTADO_ANTERIOR'] == 'SKIP LEVEL1 OK') |\n",
    "           (df_log['ESTADO_ANTERIOR'] == 'SKIP LEVEL1') |\n",
    "           (df_log['ESTADO_ANTERIOR'] == 'NO_VISTO_CONTACTABLE') |\n",
    "           (df_log['ESTADO_ANTERIOR'] == 'NO_VISTO_MASIVO') \n",
    "           , 'CATEGORIA'] = 'NEGATIVO POR CONTACTABILIDAD'"
   ]
  },
  {
   "cell_type": "code",
   "execution_count": 17,
   "metadata": {},
   "outputs": [],
   "source": [
    "df_log.loc[(df_log['ESTADO_ANTERIOR'] == 'PAGO PARCIAL') | \n",
    "           (df_log['ESTADO_ANTERIOR'] == 'PLAN DE PAGOS') |\n",
    "           (df_log['ESTADO_ANTERIOR'] == 'POSIBLE REFI') |\n",
    "           (df_log['ESTADO_ANTERIOR'] == 'REFINANCIACION') |\n",
    "           (df_log['ESTADO_ANTERIOR'] == 'PROPUESTA') |\n",
    "           (df_log['ESTADO_ANTERIOR'] == 'PROPUESTA OK') |\n",
    "           (df_log['ESTADO_ANTERIOR'] == 'COMPROMISO') |\n",
    "           (df_log['ESTADO_ANTERIOR'] == 'CANCELO') |\n",
    "           (df_log['ESTADO_ANTERIOR'] == 'CANCELO_DEVUELTO') |\n",
    "           (df_log['ESTADO_ANTERIOR'] == 'CANCELO DEVUELTO') |\n",
    "           (df_log['ESTADO_ANTERIOR'] == 'CANCELO FULL') |\n",
    "           (df_log['ESTADO_ANTERIOR'] == 'CANCELO SIN ACP') \n",
    "           , 'CATEGORIA'] = 'POSITIVO CON CAJA'"
   ]
  },
  {
   "cell_type": "code",
   "execution_count": 18,
   "metadata": {},
   "outputs": [],
   "source": [
    "df_log.loc[(df_log['ESTADO_ANTERIOR'] == 'CONVENIO') | \n",
    "           (df_log['ESTADO_ANTERIOR'] == 'CONVENIO QUITA') |\n",
    "           (df_log['ESTADO_ANTERIOR'] == 'NUEVOS CARGOS') |\n",
    "           (df_log['ESTADO_ANTERIOR'] == 'CONVENIO_QUITA') \n",
    "           , 'CATEGORIA'] = 'POSITIVO CON CAJA SOBRE COUTA'"
   ]
  },
  {
   "cell_type": "code",
   "execution_count": 19,
   "metadata": {},
   "outputs": [],
   "source": [
    "df_log.loc[(df_log['ESTADO_ANTERIOR'] == 'PROPUESTA REFI') | \n",
    "           (df_log['ESTADO_ANTERIOR'] == 'REFI ARMADA') |\n",
    "           (df_log['ESTADO_ANTERIOR'] == 'REFI EN TRAMITE') |\n",
    "           (df_log['ESTADO_ANTERIOR'] == 'REFI A LIQUIDAR') \n",
    "           , 'CATEGORIA'] = 'POSITIVO CON CAJA CON REFI PENDIENTE DE LIQUIDACIO'"
   ]
  },
  {
   "cell_type": "code",
   "execution_count": 20,
   "metadata": {},
   "outputs": [],
   "source": [
    "df_log.loc[(df_log['ESTADO_ANTERIOR'] == 'REFI APROBADA') | \n",
    "           (df_log['ESTADO_ANTERIOR'] == 'DEVUELTO/CANCELO CON COBRO DE HONORARIO PENDIENTE')\n",
    "           , 'CATEGORIA'] = 'POSITIVO CON CAJA CON REFI/CANCELACIÓN LIQUIDADA'"
   ]
  },
  {
   "cell_type": "code",
   "execution_count": 21,
   "metadata": {},
   "outputs": [],
   "source": [
    "df_log.loc[(df_log['ESTADO_ANTERIOR'] == 'DEVUELTO') | \n",
    "           (df_log['ESTADO_ANTERIOR'] == 'FALLECIDO') |\n",
    "           (df_log['ESTADO_ANTERIOR'] == 'PROBLEMA') |\n",
    "           (df_log['ESTADO_ANTERIOR'] == 'SALDO INSOLUTO') |\n",
    "           (df_log['ESTADO_ANTERIOR'] == 'NO GESTIONAR') \n",
    "           , 'CATEGORIA'] = 'INACTIVO'"
   ]
  },
  {
   "cell_type": "code",
   "execution_count": 22,
   "metadata": {
    "scrolled": true
   },
   "outputs": [
    {
     "data": {
      "text/plain": [
       "(761, 8)"
      ]
     },
     "execution_count": 22,
     "metadata": {},
     "output_type": "execute_result"
    }
   ],
   "source": [
    "df_log.shape"
   ]
  },
  {
   "cell_type": "code",
   "execution_count": 23,
   "metadata": {},
   "outputs": [
    {
     "data": {
      "text/html": [
       "<div>\n",
       "<style scoped>\n",
       "    .dataframe tbody tr th:only-of-type {\n",
       "        vertical-align: middle;\n",
       "    }\n",
       "\n",
       "    .dataframe tbody tr th {\n",
       "        vertical-align: top;\n",
       "    }\n",
       "\n",
       "    .dataframe thead th {\n",
       "        text-align: right;\n",
       "    }\n",
       "</style>\n",
       "<table border=\"1\" class=\"dataframe\">\n",
       "  <thead>\n",
       "    <tr style=\"text-align: right;\">\n",
       "      <th></th>\n",
       "      <th>IDMOROSO</th>\n",
       "      <th>IDCLIENTE</th>\n",
       "      <th>ESTADO_ANTERIOR</th>\n",
       "      <th>FECHA_ENVIO_ENRIQUECIMIENTO</th>\n",
       "      <th>FECHA_INSERCION_DATO</th>\n",
       "      <th>FECHA_CAMBIO_ESTADO</th>\n",
       "      <th>PROVEEDOR</th>\n",
       "      <th>CATEGORIA</th>\n",
       "    </tr>\n",
       "  </thead>\n",
       "  <tbody>\n",
       "    <tr>\n",
       "      <th>0</th>\n",
       "      <td>DNI 10122690</td>\n",
       "      <td>FRAVEGA_LEGALES548</td>\n",
       "      <td>EN GESTION</td>\n",
       "      <td>2021-02-02</td>\n",
       "      <td>2021-02-08</td>\n",
       "      <td>2021-02-08</td>\n",
       "      <td>C_FRV</td>\n",
       "      <td>NEUTRO</td>\n",
       "    </tr>\n",
       "    <tr>\n",
       "      <th>1</th>\n",
       "      <td>DNI 10126780</td>\n",
       "      <td>FRAVEGA_LEGALES548</td>\n",
       "      <td>COMPROMISO</td>\n",
       "      <td>2021-02-02</td>\n",
       "      <td>2021-02-08</td>\n",
       "      <td>2021-02-08</td>\n",
       "      <td>C_FRV</td>\n",
       "      <td>POSITIVO CON CAJA</td>\n",
       "    </tr>\n",
       "    <tr>\n",
       "      <th>2</th>\n",
       "      <td>DNI 10138702</td>\n",
       "      <td>FRAVEGA_LEGALES548</td>\n",
       "      <td>EN GESTION</td>\n",
       "      <td>2021-02-02</td>\n",
       "      <td>2021-02-08</td>\n",
       "      <td>2021-02-08</td>\n",
       "      <td>C_FRV</td>\n",
       "      <td>NEUTRO</td>\n",
       "    </tr>\n",
       "    <tr>\n",
       "      <th>3</th>\n",
       "      <td>DNI 10327923</td>\n",
       "      <td>FRAVEGA_LEGALES548</td>\n",
       "      <td>EN GESTION</td>\n",
       "      <td>2021-02-02</td>\n",
       "      <td>2021-02-08</td>\n",
       "      <td>2021-02-08</td>\n",
       "      <td>C_FRV</td>\n",
       "      <td>NEUTRO</td>\n",
       "    </tr>\n",
       "    <tr>\n",
       "      <th>4</th>\n",
       "      <td>DNI 10335724</td>\n",
       "      <td>FRAVEGA_LEGALES548</td>\n",
       "      <td>CANCELO</td>\n",
       "      <td>2021-02-02</td>\n",
       "      <td>2021-02-08</td>\n",
       "      <td>2021-02-08</td>\n",
       "      <td>C_FRV</td>\n",
       "      <td>POSITIVO CON CAJA</td>\n",
       "    </tr>\n",
       "  </tbody>\n",
       "</table>\n",
       "</div>"
      ],
      "text/plain": [
       "             IDMOROSO             IDCLIENTE ESTADO_ANTERIOR  \\\n",
       "0  DNI 10122690        FRAVEGA_LEGALES548        EN GESTION   \n",
       "1  DNI 10126780        FRAVEGA_LEGALES548        COMPROMISO   \n",
       "2  DNI 10138702        FRAVEGA_LEGALES548        EN GESTION   \n",
       "3  DNI 10327923        FRAVEGA_LEGALES548        EN GESTION   \n",
       "4  DNI 10335724        FRAVEGA_LEGALES548           CANCELO   \n",
       "\n",
       "  FECHA_ENVIO_ENRIQUECIMIENTO FECHA_INSERCION_DATO FECHA_CAMBIO_ESTADO  \\\n",
       "0                  2021-02-02           2021-02-08          2021-02-08   \n",
       "1                  2021-02-02           2021-02-08          2021-02-08   \n",
       "2                  2021-02-02           2021-02-08          2021-02-08   \n",
       "3                  2021-02-02           2021-02-08          2021-02-08   \n",
       "4                  2021-02-02           2021-02-08          2021-02-08   \n",
       "\n",
       "  PROVEEDOR          CATEGORIA  \n",
       "0     C_FRV             NEUTRO  \n",
       "1     C_FRV  POSITIVO CON CAJA  \n",
       "2     C_FRV             NEUTRO  \n",
       "3     C_FRV             NEUTRO  \n",
       "4     C_FRV  POSITIVO CON CAJA  "
      ]
     },
     "execution_count": 23,
     "metadata": {},
     "output_type": "execute_result"
    }
   ],
   "source": [
    "df_log.head()"
   ]
  },
  {
   "cell_type": "markdown",
   "metadata": {},
   "source": [
    "Creamos una columna que contenga IDMOROSO + DATOADIC según corresponda"
   ]
  },
  {
   "cell_type": "code",
   "execution_count": 24,
   "metadata": {},
   "outputs": [],
   "source": [
    "df_log ['NRO_DOC'] = df_log ['IDMOROSO']"
   ]
  },
  {
   "cell_type": "code",
   "execution_count": 25,
   "metadata": {
    "scrolled": true
   },
   "outputs": [
    {
     "data": {
      "text/html": [
       "<div>\n",
       "<style scoped>\n",
       "    .dataframe tbody tr th:only-of-type {\n",
       "        vertical-align: middle;\n",
       "    }\n",
       "\n",
       "    .dataframe tbody tr th {\n",
       "        vertical-align: top;\n",
       "    }\n",
       "\n",
       "    .dataframe thead th {\n",
       "        text-align: right;\n",
       "    }\n",
       "</style>\n",
       "<table border=\"1\" class=\"dataframe\">\n",
       "  <thead>\n",
       "    <tr style=\"text-align: right;\">\n",
       "      <th></th>\n",
       "      <th>IDMOROSO</th>\n",
       "      <th>IDCLIENTE</th>\n",
       "      <th>ESTADO_ANTERIOR</th>\n",
       "      <th>FECHA_ENVIO_ENRIQUECIMIENTO</th>\n",
       "      <th>FECHA_INSERCION_DATO</th>\n",
       "      <th>FECHA_CAMBIO_ESTADO</th>\n",
       "      <th>PROVEEDOR</th>\n",
       "      <th>CATEGORIA</th>\n",
       "      <th>NRO_DOC</th>\n",
       "    </tr>\n",
       "  </thead>\n",
       "  <tbody>\n",
       "    <tr>\n",
       "      <th>756</th>\n",
       "      <td>DNI 94971314</td>\n",
       "      <td>FRAVEGA_LEGALES548</td>\n",
       "      <td>NO UBICADO</td>\n",
       "      <td>2021-02-02</td>\n",
       "      <td>2021-02-08</td>\n",
       "      <td>2021-02-08</td>\n",
       "      <td>C_FRV</td>\n",
       "      <td>NEGATIVO POR CONTACTABILIDAD</td>\n",
       "      <td>DNI 94971314</td>\n",
       "    </tr>\n",
       "    <tr>\n",
       "      <th>757</th>\n",
       "      <td>DNI 94992695</td>\n",
       "      <td>FRAVEGA_LEGALES548</td>\n",
       "      <td>CONVENIO</td>\n",
       "      <td>2021-02-02</td>\n",
       "      <td>2021-02-08</td>\n",
       "      <td>2021-02-08</td>\n",
       "      <td>C_FRV</td>\n",
       "      <td>POSITIVO CON CAJA SOBRE COUTA</td>\n",
       "      <td>DNI 94992695</td>\n",
       "    </tr>\n",
       "    <tr>\n",
       "      <th>758</th>\n",
       "      <td>DNI 95131058</td>\n",
       "      <td>FRAVEGA_LEGALES548</td>\n",
       "      <td>EN GESTION</td>\n",
       "      <td>2021-02-02</td>\n",
       "      <td>2021-02-08</td>\n",
       "      <td>2021-02-08</td>\n",
       "      <td>C_FRV</td>\n",
       "      <td>NEUTRO</td>\n",
       "      <td>DNI 95131058</td>\n",
       "    </tr>\n",
       "    <tr>\n",
       "      <th>759</th>\n",
       "      <td>DNI 95545311</td>\n",
       "      <td>FRAVEGA_LEGALES548</td>\n",
       "      <td>CONVENIO</td>\n",
       "      <td>2021-02-02</td>\n",
       "      <td>2021-02-08</td>\n",
       "      <td>2021-02-08</td>\n",
       "      <td>C_FRV</td>\n",
       "      <td>POSITIVO CON CAJA SOBRE COUTA</td>\n",
       "      <td>DNI 95545311</td>\n",
       "    </tr>\n",
       "    <tr>\n",
       "      <th>760</th>\n",
       "      <td>DNI 9985136</td>\n",
       "      <td>FRAVEGA_LEGALES548</td>\n",
       "      <td>NO UBICADO</td>\n",
       "      <td>2021-02-02</td>\n",
       "      <td>2021-02-08</td>\n",
       "      <td>2021-02-08</td>\n",
       "      <td>C_FRV</td>\n",
       "      <td>NEGATIVO POR CONTACTABILIDAD</td>\n",
       "      <td>DNI 9985136</td>\n",
       "    </tr>\n",
       "  </tbody>\n",
       "</table>\n",
       "</div>"
      ],
      "text/plain": [
       "               IDMOROSO             IDCLIENTE ESTADO_ANTERIOR  \\\n",
       "756  DNI 94971314        FRAVEGA_LEGALES548        NO UBICADO   \n",
       "757  DNI 94992695        FRAVEGA_LEGALES548          CONVENIO   \n",
       "758  DNI 95131058        FRAVEGA_LEGALES548        EN GESTION   \n",
       "759  DNI 95545311        FRAVEGA_LEGALES548          CONVENIO   \n",
       "760  DNI 9985136         FRAVEGA_LEGALES548        NO UBICADO   \n",
       "\n",
       "    FECHA_ENVIO_ENRIQUECIMIENTO FECHA_INSERCION_DATO FECHA_CAMBIO_ESTADO  \\\n",
       "756                  2021-02-02           2021-02-08          2021-02-08   \n",
       "757                  2021-02-02           2021-02-08          2021-02-08   \n",
       "758                  2021-02-02           2021-02-08          2021-02-08   \n",
       "759                  2021-02-02           2021-02-08          2021-02-08   \n",
       "760                  2021-02-02           2021-02-08          2021-02-08   \n",
       "\n",
       "    PROVEEDOR                      CATEGORIA             NRO_DOC  \n",
       "756     C_FRV   NEGATIVO POR CONTACTABILIDAD  DNI 94971314        \n",
       "757     C_FRV  POSITIVO CON CAJA SOBRE COUTA  DNI 94992695        \n",
       "758     C_FRV                         NEUTRO  DNI 95131058        \n",
       "759     C_FRV  POSITIVO CON CAJA SOBRE COUTA  DNI 95545311        \n",
       "760     C_FRV   NEGATIVO POR CONTACTABILIDAD  DNI 9985136         "
      ]
     },
     "execution_count": 25,
     "metadata": {},
     "output_type": "execute_result"
    }
   ],
   "source": [
    "df_log.tail()"
   ]
  },
  {
   "cell_type": "markdown",
   "metadata": {},
   "source": [
    "## 12.2) DNI Cleaning"
   ]
  },
  {
   "cell_type": "markdown",
   "metadata": {},
   "source": [
    "Limpiamos el dataframe __df_pyp__, ya que dentro de DATO_A_ENVIAR tenemos 9 tipos de casos diferentes de datos:\n",
    "\n",
    "- DNI 12345678\n",
    "- DNI12345678\n",
    "- DNIE1234678\n",
    "- LC  1234567\n",
    "- LE  1234567\n",
    "- CUIT00123456780\n",
    "- 00123456780 --> Es un CUIT.\n",
    "- 00 12345678 0 --> Es un CUIT.\n",
    "- DNI 00123456780 --> Dice DNI pero es un CUIT de una persona __jurídica__ (TO DO)"
   ]
  },
  {
   "cell_type": "markdown",
   "metadata": {},
   "source": [
    "Para eso definimos 5 funciones:\n",
    "\n",
    "- __Tipo_DOC__: Se definen dos funciones para determinar el tipo de DNI. Una inicial, y otra para corregir sobre el dataframe resultante.\n",
    "- __Standard DNI__: Estandariza los DNI para 7 de los casos. Esta función debe ejecutarse en primer lugar.\n",
    "- __DNI Spaces__: Elimina los espacios.\n",
    "- __DNI Zero__: Elimina los ceros iniciales de ciertos CUITs para que coincidan con los DNI.\n",
    "- __Cuit__: Decisión sobre dejar un cuit o volverlo DNI"
   ]
  },
  {
   "cell_type": "code",
   "execution_count": 26,
   "metadata": {},
   "outputs": [],
   "source": [
    "def tipo_doc_1 (string_dni):\n",
    "    \n",
    "    if 'DNI' in string_dni:\n",
    "        tipo = 'DNI'\n",
    "    \n",
    "    elif 'LC' in string_dni:\n",
    "        tipo = 'LC'\n",
    "    \n",
    "    elif 'LE' in string_dni:\n",
    "        tipo = 'LE'\n",
    "    \n",
    "    elif 'DNIE' in string_dni:\n",
    "        tipo = 'DNIE'    \n",
    "    \n",
    "    elif ((string_dni.startswith(('CUIT30','CUIT33','CUIT34'))) & (len(string_dni)>8)):\n",
    "        tipo = 'CUIT'\n",
    "        \n",
    "    elif ((string_dni.startswith(('30','33','34'))) & (len(string_dni)>8)):\n",
    "        tipo = 'CUIT'\n",
    "\n",
    "    elif ((string_dni.startswith(('20','23','24','27'))) & (len(string_dni)>8)):\n",
    "        tipo = 'DNI'\n",
    "\n",
    "    elif ((string_dni.startswith(('CUIT20','CUIT23','CUIT24','CUIT27'))) & (len(string_dni)>8)):\n",
    "        tipo = 'DNI'\n",
    "        \n",
    "    else:\n",
    "        tipo = 'DNI'\n",
    "    \n",
    "    return tipo"
   ]
  },
  {
   "cell_type": "code",
   "execution_count": 27,
   "metadata": {},
   "outputs": [],
   "source": [
    "def tipo_doc_2 (string_dni, tipo_original):\n",
    "    \n",
    "    if (len(string_dni) > 8) & (tipo_original == 'DNI'):\n",
    "        tipo = 'CUIT'\n",
    "    else:\n",
    "        tipo = tipo_original\n",
    "    return tipo"
   ]
  },
  {
   "cell_type": "code",
   "execution_count": 28,
   "metadata": {},
   "outputs": [],
   "source": [
    "def standard_dni (string_dni):\n",
    "    \"\"\"DNI separation by each case.\n",
    "    \"\"\"\n",
    "    \n",
    "    if 'DNI ' in string_dni:\n",
    "        dni = string_dni.split('DNI ')[1]\n",
    "        \n",
    "    elif 'DNIE' in string_dni:\n",
    "        dni = string_dni.split('DNIE')[1]\n",
    "    \n",
    "    elif 'DNI' in string_dni:\n",
    "        dni = string_dni.split('DNI')[1]\n",
    "    \n",
    "    elif 'LC  ' in string_dni:\n",
    "        dni = string_dni.split('LC  ')[1]\n",
    "    \n",
    "    elif 'LE  ' in string_dni:\n",
    "        dni = string_dni.split('LE  ')[1]\n",
    "    \n",
    "    elif 'CUIT' in string_dni:\n",
    "        dni = string_dni.split('CUIT')[1]\n",
    "        \n",
    "    else:\n",
    "        dni = string_dni\n",
    "        \n",
    "    return dni"
   ]
  },
  {
   "cell_type": "code",
   "execution_count": 29,
   "metadata": {},
   "outputs": [],
   "source": [
    "def dni_characters (string_dni):\n",
    "    \n",
    "    if ' ' in string_dni:\n",
    "        dni = string_dni.replace(' ','')\n",
    "        \n",
    "    elif '-' in string_dni:\n",
    "        dni = string_dni.replace('-','')\n",
    "\n",
    "    else:\n",
    "        dni = string_dni\n",
    "    \n",
    "    return dni"
   ]
  },
  {
   "cell_type": "code",
   "execution_count": 30,
   "metadata": {},
   "outputs": [],
   "source": [
    "def cuit (string_dni):\n",
    "    \n",
    "    if ((string_dni.startswith('20')) & (len(string_dni)>8)):\n",
    "        cuit = string_dni [2:-1]\n",
    "        \n",
    "    elif ((string_dni.startswith('23')) & (len(string_dni)>8)):\n",
    "        cuit = string_dni [2:-1]\n",
    "        \n",
    "    elif ((string_dni.startswith('24')) & (len(string_dni)>8)):\n",
    "        cuit = string_dni [2:-1]\n",
    "\n",
    "    elif ((string_dni.startswith('27')) & (len(string_dni)>8)):\n",
    "        cuit = string_dni [2:-1]\n",
    "\n",
    "    else:\n",
    "        cuit = string_dni\n",
    "        \n",
    "    return cuit"
   ]
  },
  {
   "cell_type": "code",
   "execution_count": 31,
   "metadata": {},
   "outputs": [],
   "source": [
    "def dni_zero (string_dni):\n",
    "    \n",
    "    if string_dni.startswith('0'):\n",
    "        dni = string_dni [1:]\n",
    "\n",
    "    else:\n",
    "        dni = string_dni\n",
    "    \n",
    "    return dni"
   ]
  },
  {
   "cell_type": "markdown",
   "metadata": {},
   "source": [
    "En primer lugar, trimmeamos los espacios que sobran:"
   ]
  },
  {
   "cell_type": "code",
   "execution_count": 32,
   "metadata": {},
   "outputs": [],
   "source": [
    "df_log['NRO_DOC'] = [(str(df_log['NRO_DOC'][i]).strip()) for i in range (df_log['NRO_DOC'].count())]"
   ]
  },
  {
   "cell_type": "markdown",
   "metadata": {},
   "source": [
    "Se implementan estas funciones:"
   ]
  },
  {
   "cell_type": "markdown",
   "metadata": {},
   "source": [
    "Para determinar el __TIPO DE DOCUMENTO__ en primer lugar:"
   ]
  },
  {
   "cell_type": "code",
   "execution_count": 33,
   "metadata": {},
   "outputs": [],
   "source": [
    "df_log['TIPO_DOC'] = [tipo_doc_1(df_log['NRO_DOC'][i]) for i in range (df_log['NRO_DOC'].count())]"
   ]
  },
  {
   "cell_type": "markdown",
   "metadata": {},
   "source": [
    "Para la limpieza de DNIs:"
   ]
  },
  {
   "cell_type": "code",
   "execution_count": 34,
   "metadata": {},
   "outputs": [],
   "source": [
    "df_log['NRO_DOC'] = [standard_dni(df_log['NRO_DOC'][i]) for i in range (df_log['NRO_DOC'].count())]"
   ]
  },
  {
   "cell_type": "code",
   "execution_count": 35,
   "metadata": {},
   "outputs": [],
   "source": [
    "df_log['NRO_DOC'] = [dni_characters(df_log['NRO_DOC'][i]) for i in range (df_log['NRO_DOC'].count())]"
   ]
  },
  {
   "cell_type": "code",
   "execution_count": 36,
   "metadata": {},
   "outputs": [],
   "source": [
    "df_log['NRO_DOC'] = [cuit(df_log['NRO_DOC'][i]) for i in range (df_log['NRO_DOC'].count())]"
   ]
  },
  {
   "cell_type": "code",
   "execution_count": 37,
   "metadata": {},
   "outputs": [],
   "source": [
    "df_log['NRO_DOC'] = [dni_zero(df_log['NRO_DOC'][i]) for i in range (df_log['NRO_DOC'].count())]"
   ]
  },
  {
   "cell_type": "markdown",
   "metadata": {},
   "source": [
    "Para corregir el __TIPO DE DOCUMENTO__ sobre el dataframe resultante"
   ]
  },
  {
   "cell_type": "code",
   "execution_count": 38,
   "metadata": {},
   "outputs": [],
   "source": [
    "df_log['TIPO_DOC'] = [tipo_doc_2(df_log['NRO_DOC'][i],df_log['TIPO_DOC'][i]) for i in range (df_log['NRO_DOC'].count())]"
   ]
  },
  {
   "cell_type": "code",
   "execution_count": 39,
   "metadata": {
    "scrolled": false
   },
   "outputs": [
    {
     "data": {
      "text/html": [
       "<div>\n",
       "<style scoped>\n",
       "    .dataframe tbody tr th:only-of-type {\n",
       "        vertical-align: middle;\n",
       "    }\n",
       "\n",
       "    .dataframe tbody tr th {\n",
       "        vertical-align: top;\n",
       "    }\n",
       "\n",
       "    .dataframe thead th {\n",
       "        text-align: right;\n",
       "    }\n",
       "</style>\n",
       "<table border=\"1\" class=\"dataframe\">\n",
       "  <thead>\n",
       "    <tr style=\"text-align: right;\">\n",
       "      <th></th>\n",
       "      <th>IDMOROSO</th>\n",
       "      <th>IDCLIENTE</th>\n",
       "      <th>ESTADO_ANTERIOR</th>\n",
       "      <th>FECHA_ENVIO_ENRIQUECIMIENTO</th>\n",
       "      <th>FECHA_INSERCION_DATO</th>\n",
       "      <th>FECHA_CAMBIO_ESTADO</th>\n",
       "      <th>PROVEEDOR</th>\n",
       "      <th>CATEGORIA</th>\n",
       "      <th>NRO_DOC</th>\n",
       "      <th>TIPO_DOC</th>\n",
       "    </tr>\n",
       "  </thead>\n",
       "  <tbody>\n",
       "    <tr>\n",
       "      <th>0</th>\n",
       "      <td>DNI 10122690</td>\n",
       "      <td>FRAVEGA_LEGALES548</td>\n",
       "      <td>EN GESTION</td>\n",
       "      <td>2021-02-02</td>\n",
       "      <td>2021-02-08</td>\n",
       "      <td>2021-02-08</td>\n",
       "      <td>C_FRV</td>\n",
       "      <td>NEUTRO</td>\n",
       "      <td>10122690</td>\n",
       "      <td>DNI</td>\n",
       "    </tr>\n",
       "    <tr>\n",
       "      <th>1</th>\n",
       "      <td>DNI 10126780</td>\n",
       "      <td>FRAVEGA_LEGALES548</td>\n",
       "      <td>COMPROMISO</td>\n",
       "      <td>2021-02-02</td>\n",
       "      <td>2021-02-08</td>\n",
       "      <td>2021-02-08</td>\n",
       "      <td>C_FRV</td>\n",
       "      <td>POSITIVO CON CAJA</td>\n",
       "      <td>10126780</td>\n",
       "      <td>DNI</td>\n",
       "    </tr>\n",
       "    <tr>\n",
       "      <th>2</th>\n",
       "      <td>DNI 10138702</td>\n",
       "      <td>FRAVEGA_LEGALES548</td>\n",
       "      <td>EN GESTION</td>\n",
       "      <td>2021-02-02</td>\n",
       "      <td>2021-02-08</td>\n",
       "      <td>2021-02-08</td>\n",
       "      <td>C_FRV</td>\n",
       "      <td>NEUTRO</td>\n",
       "      <td>10138702</td>\n",
       "      <td>DNI</td>\n",
       "    </tr>\n",
       "    <tr>\n",
       "      <th>3</th>\n",
       "      <td>DNI 10327923</td>\n",
       "      <td>FRAVEGA_LEGALES548</td>\n",
       "      <td>EN GESTION</td>\n",
       "      <td>2021-02-02</td>\n",
       "      <td>2021-02-08</td>\n",
       "      <td>2021-02-08</td>\n",
       "      <td>C_FRV</td>\n",
       "      <td>NEUTRO</td>\n",
       "      <td>10327923</td>\n",
       "      <td>DNI</td>\n",
       "    </tr>\n",
       "    <tr>\n",
       "      <th>4</th>\n",
       "      <td>DNI 10335724</td>\n",
       "      <td>FRAVEGA_LEGALES548</td>\n",
       "      <td>CANCELO</td>\n",
       "      <td>2021-02-02</td>\n",
       "      <td>2021-02-08</td>\n",
       "      <td>2021-02-08</td>\n",
       "      <td>C_FRV</td>\n",
       "      <td>POSITIVO CON CAJA</td>\n",
       "      <td>10335724</td>\n",
       "      <td>DNI</td>\n",
       "    </tr>\n",
       "  </tbody>\n",
       "</table>\n",
       "</div>"
      ],
      "text/plain": [
       "             IDMOROSO             IDCLIENTE ESTADO_ANTERIOR  \\\n",
       "0  DNI 10122690        FRAVEGA_LEGALES548        EN GESTION   \n",
       "1  DNI 10126780        FRAVEGA_LEGALES548        COMPROMISO   \n",
       "2  DNI 10138702        FRAVEGA_LEGALES548        EN GESTION   \n",
       "3  DNI 10327923        FRAVEGA_LEGALES548        EN GESTION   \n",
       "4  DNI 10335724        FRAVEGA_LEGALES548           CANCELO   \n",
       "\n",
       "  FECHA_ENVIO_ENRIQUECIMIENTO FECHA_INSERCION_DATO FECHA_CAMBIO_ESTADO  \\\n",
       "0                  2021-02-02           2021-02-08          2021-02-08   \n",
       "1                  2021-02-02           2021-02-08          2021-02-08   \n",
       "2                  2021-02-02           2021-02-08          2021-02-08   \n",
       "3                  2021-02-02           2021-02-08          2021-02-08   \n",
       "4                  2021-02-02           2021-02-08          2021-02-08   \n",
       "\n",
       "  PROVEEDOR          CATEGORIA   NRO_DOC TIPO_DOC  \n",
       "0     C_FRV             NEUTRO  10122690      DNI  \n",
       "1     C_FRV  POSITIVO CON CAJA  10126780      DNI  \n",
       "2     C_FRV             NEUTRO  10138702      DNI  \n",
       "3     C_FRV             NEUTRO  10327923      DNI  \n",
       "4     C_FRV  POSITIVO CON CAJA  10335724      DNI  "
      ]
     },
     "execution_count": 39,
     "metadata": {},
     "output_type": "execute_result"
    }
   ],
   "source": [
    "df_log.head()"
   ]
  },
  {
   "cell_type": "code",
   "execution_count": 40,
   "metadata": {},
   "outputs": [
    {
     "data": {
      "text/plain": [
       "(761, 10)"
      ]
     },
     "execution_count": 40,
     "metadata": {},
     "output_type": "execute_result"
    }
   ],
   "source": [
    "df_log.shape"
   ]
  },
  {
   "cell_type": "code",
   "execution_count": 41,
   "metadata": {},
   "outputs": [],
   "source": [
    "df_clean = df_log.drop_duplicates()"
   ]
  },
  {
   "cell_type": "code",
   "execution_count": 42,
   "metadata": {},
   "outputs": [
    {
     "data": {
      "text/plain": [
       "(761, 10)"
      ]
     },
     "execution_count": 42,
     "metadata": {},
     "output_type": "execute_result"
    }
   ],
   "source": [
    "df_clean.shape"
   ]
  },
  {
   "cell_type": "code",
   "execution_count": 43,
   "metadata": {},
   "outputs": [],
   "source": [
    "duplicateRowsDF = df_clean[df_clean.duplicated(subset=['IDMOROSO'], keep=False)]"
   ]
  },
  {
   "cell_type": "code",
   "execution_count": 44,
   "metadata": {
    "scrolled": true
   },
   "outputs": [
    {
     "data": {
      "text/html": [
       "<div>\n",
       "<style scoped>\n",
       "    .dataframe tbody tr th:only-of-type {\n",
       "        vertical-align: middle;\n",
       "    }\n",
       "\n",
       "    .dataframe tbody tr th {\n",
       "        vertical-align: top;\n",
       "    }\n",
       "\n",
       "    .dataframe thead th {\n",
       "        text-align: right;\n",
       "    }\n",
       "</style>\n",
       "<table border=\"1\" class=\"dataframe\">\n",
       "  <thead>\n",
       "    <tr style=\"text-align: right;\">\n",
       "      <th></th>\n",
       "      <th>IDMOROSO</th>\n",
       "      <th>IDCLIENTE</th>\n",
       "      <th>ESTADO_ANTERIOR</th>\n",
       "      <th>FECHA_ENVIO_ENRIQUECIMIENTO</th>\n",
       "      <th>FECHA_INSERCION_DATO</th>\n",
       "      <th>FECHA_CAMBIO_ESTADO</th>\n",
       "      <th>PROVEEDOR</th>\n",
       "      <th>CATEGORIA</th>\n",
       "      <th>NRO_DOC</th>\n",
       "      <th>TIPO_DOC</th>\n",
       "    </tr>\n",
       "  </thead>\n",
       "  <tbody>\n",
       "  </tbody>\n",
       "</table>\n",
       "</div>"
      ],
      "text/plain": [
       "Empty DataFrame\n",
       "Columns: [IDMOROSO, IDCLIENTE, ESTADO_ANTERIOR, FECHA_ENVIO_ENRIQUECIMIENTO, FECHA_INSERCION_DATO, FECHA_CAMBIO_ESTADO, PROVEEDOR, CATEGORIA, NRO_DOC, TIPO_DOC]\n",
       "Index: []"
      ]
     },
     "execution_count": 44,
     "metadata": {},
     "output_type": "execute_result"
    }
   ],
   "source": [
    "duplicateRowsDF"
   ]
  },
  {
   "cell_type": "markdown",
   "metadata": {},
   "source": [
    "## Nuevo Estado"
   ]
  },
  {
   "cell_type": "markdown",
   "metadata": {
    "scrolled": true
   },
   "source": [
    "Como no se usaron nuevos estados, se deja en nulo"
   ]
  },
  {
   "cell_type": "code",
   "execution_count": 45,
   "metadata": {},
   "outputs": [],
   "source": [
    "df_clean = df_clean.assign(NUEVO_ESTADO=np.nan)"
   ]
  },
  {
   "cell_type": "markdown",
   "metadata": {},
   "source": [
    "## Enriquecido"
   ]
  },
  {
   "cell_type": "code",
   "execution_count": 46,
   "metadata": {},
   "outputs": [],
   "source": [
    "df_clean = df_clean.assign(ENRIQUECIDO=1)"
   ]
  },
  {
   "cell_type": "code",
   "execution_count": 47,
   "metadata": {},
   "outputs": [
    {
     "data": {
      "text/html": [
       "<div>\n",
       "<style scoped>\n",
       "    .dataframe tbody tr th:only-of-type {\n",
       "        vertical-align: middle;\n",
       "    }\n",
       "\n",
       "    .dataframe tbody tr th {\n",
       "        vertical-align: top;\n",
       "    }\n",
       "\n",
       "    .dataframe thead th {\n",
       "        text-align: right;\n",
       "    }\n",
       "</style>\n",
       "<table border=\"1\" class=\"dataframe\">\n",
       "  <thead>\n",
       "    <tr style=\"text-align: right;\">\n",
       "      <th></th>\n",
       "      <th>IDMOROSO</th>\n",
       "      <th>IDCLIENTE</th>\n",
       "      <th>ESTADO_ANTERIOR</th>\n",
       "      <th>FECHA_ENVIO_ENRIQUECIMIENTO</th>\n",
       "      <th>FECHA_INSERCION_DATO</th>\n",
       "      <th>FECHA_CAMBIO_ESTADO</th>\n",
       "      <th>PROVEEDOR</th>\n",
       "      <th>CATEGORIA</th>\n",
       "      <th>NRO_DOC</th>\n",
       "      <th>TIPO_DOC</th>\n",
       "      <th>NUEVO_ESTADO</th>\n",
       "      <th>ENRIQUECIDO</th>\n",
       "    </tr>\n",
       "  </thead>\n",
       "  <tbody>\n",
       "    <tr>\n",
       "      <th>0</th>\n",
       "      <td>DNI 10122690</td>\n",
       "      <td>FRAVEGA_LEGALES548</td>\n",
       "      <td>EN GESTION</td>\n",
       "      <td>2021-02-02</td>\n",
       "      <td>2021-02-08</td>\n",
       "      <td>2021-02-08</td>\n",
       "      <td>C_FRV</td>\n",
       "      <td>NEUTRO</td>\n",
       "      <td>10122690</td>\n",
       "      <td>DNI</td>\n",
       "      <td>NaN</td>\n",
       "      <td>1</td>\n",
       "    </tr>\n",
       "    <tr>\n",
       "      <th>1</th>\n",
       "      <td>DNI 10126780</td>\n",
       "      <td>FRAVEGA_LEGALES548</td>\n",
       "      <td>COMPROMISO</td>\n",
       "      <td>2021-02-02</td>\n",
       "      <td>2021-02-08</td>\n",
       "      <td>2021-02-08</td>\n",
       "      <td>C_FRV</td>\n",
       "      <td>POSITIVO CON CAJA</td>\n",
       "      <td>10126780</td>\n",
       "      <td>DNI</td>\n",
       "      <td>NaN</td>\n",
       "      <td>1</td>\n",
       "    </tr>\n",
       "    <tr>\n",
       "      <th>2</th>\n",
       "      <td>DNI 10138702</td>\n",
       "      <td>FRAVEGA_LEGALES548</td>\n",
       "      <td>EN GESTION</td>\n",
       "      <td>2021-02-02</td>\n",
       "      <td>2021-02-08</td>\n",
       "      <td>2021-02-08</td>\n",
       "      <td>C_FRV</td>\n",
       "      <td>NEUTRO</td>\n",
       "      <td>10138702</td>\n",
       "      <td>DNI</td>\n",
       "      <td>NaN</td>\n",
       "      <td>1</td>\n",
       "    </tr>\n",
       "    <tr>\n",
       "      <th>3</th>\n",
       "      <td>DNI 10327923</td>\n",
       "      <td>FRAVEGA_LEGALES548</td>\n",
       "      <td>EN GESTION</td>\n",
       "      <td>2021-02-02</td>\n",
       "      <td>2021-02-08</td>\n",
       "      <td>2021-02-08</td>\n",
       "      <td>C_FRV</td>\n",
       "      <td>NEUTRO</td>\n",
       "      <td>10327923</td>\n",
       "      <td>DNI</td>\n",
       "      <td>NaN</td>\n",
       "      <td>1</td>\n",
       "    </tr>\n",
       "    <tr>\n",
       "      <th>4</th>\n",
       "      <td>DNI 10335724</td>\n",
       "      <td>FRAVEGA_LEGALES548</td>\n",
       "      <td>CANCELO</td>\n",
       "      <td>2021-02-02</td>\n",
       "      <td>2021-02-08</td>\n",
       "      <td>2021-02-08</td>\n",
       "      <td>C_FRV</td>\n",
       "      <td>POSITIVO CON CAJA</td>\n",
       "      <td>10335724</td>\n",
       "      <td>DNI</td>\n",
       "      <td>NaN</td>\n",
       "      <td>1</td>\n",
       "    </tr>\n",
       "  </tbody>\n",
       "</table>\n",
       "</div>"
      ],
      "text/plain": [
       "             IDMOROSO             IDCLIENTE ESTADO_ANTERIOR  \\\n",
       "0  DNI 10122690        FRAVEGA_LEGALES548        EN GESTION   \n",
       "1  DNI 10126780        FRAVEGA_LEGALES548        COMPROMISO   \n",
       "2  DNI 10138702        FRAVEGA_LEGALES548        EN GESTION   \n",
       "3  DNI 10327923        FRAVEGA_LEGALES548        EN GESTION   \n",
       "4  DNI 10335724        FRAVEGA_LEGALES548           CANCELO   \n",
       "\n",
       "  FECHA_ENVIO_ENRIQUECIMIENTO FECHA_INSERCION_DATO FECHA_CAMBIO_ESTADO  \\\n",
       "0                  2021-02-02           2021-02-08          2021-02-08   \n",
       "1                  2021-02-02           2021-02-08          2021-02-08   \n",
       "2                  2021-02-02           2021-02-08          2021-02-08   \n",
       "3                  2021-02-02           2021-02-08          2021-02-08   \n",
       "4                  2021-02-02           2021-02-08          2021-02-08   \n",
       "\n",
       "  PROVEEDOR          CATEGORIA   NRO_DOC TIPO_DOC  NUEVO_ESTADO  ENRIQUECIDO  \n",
       "0     C_FRV             NEUTRO  10122690      DNI           NaN            1  \n",
       "1     C_FRV  POSITIVO CON CAJA  10126780      DNI           NaN            1  \n",
       "2     C_FRV             NEUTRO  10138702      DNI           NaN            1  \n",
       "3     C_FRV             NEUTRO  10327923      DNI           NaN            1  \n",
       "4     C_FRV  POSITIVO CON CAJA  10335724      DNI           NaN            1  "
      ]
     },
     "execution_count": 47,
     "metadata": {},
     "output_type": "execute_result"
    }
   ],
   "source": [
    "df_clean.head()"
   ]
  },
  {
   "cell_type": "code",
   "execution_count": 48,
   "metadata": {},
   "outputs": [],
   "source": [
    "df_clean = df_clean [['IDMOROSO','IDCLIENTE','ESTADO_ANTERIOR','CATEGORIA','NUEVO_ESTADO','ENRIQUECIDO','FECHA_ENVIO_ENRIQUECIMIENTO','FECHA_INSERCION_DATO','FECHA_CAMBIO_ESTADO','PROVEEDOR']]"
   ]
  },
  {
   "cell_type": "code",
   "execution_count": 49,
   "metadata": {
    "scrolled": true
   },
   "outputs": [
    {
     "data": {
      "text/html": [
       "<div>\n",
       "<style scoped>\n",
       "    .dataframe tbody tr th:only-of-type {\n",
       "        vertical-align: middle;\n",
       "    }\n",
       "\n",
       "    .dataframe tbody tr th {\n",
       "        vertical-align: top;\n",
       "    }\n",
       "\n",
       "    .dataframe thead th {\n",
       "        text-align: right;\n",
       "    }\n",
       "</style>\n",
       "<table border=\"1\" class=\"dataframe\">\n",
       "  <thead>\n",
       "    <tr style=\"text-align: right;\">\n",
       "      <th></th>\n",
       "      <th>IDMOROSO</th>\n",
       "      <th>IDCLIENTE</th>\n",
       "      <th>ESTADO_ANTERIOR</th>\n",
       "      <th>CATEGORIA</th>\n",
       "      <th>NUEVO_ESTADO</th>\n",
       "      <th>ENRIQUECIDO</th>\n",
       "      <th>FECHA_ENVIO_ENRIQUECIMIENTO</th>\n",
       "      <th>FECHA_INSERCION_DATO</th>\n",
       "      <th>FECHA_CAMBIO_ESTADO</th>\n",
       "      <th>PROVEEDOR</th>\n",
       "    </tr>\n",
       "  </thead>\n",
       "  <tbody>\n",
       "    <tr>\n",
       "      <th>0</th>\n",
       "      <td>DNI 10122690</td>\n",
       "      <td>FRAVEGA_LEGALES548</td>\n",
       "      <td>EN GESTION</td>\n",
       "      <td>NEUTRO</td>\n",
       "      <td>NaN</td>\n",
       "      <td>1</td>\n",
       "      <td>2021-02-02</td>\n",
       "      <td>2021-02-08</td>\n",
       "      <td>2021-02-08</td>\n",
       "      <td>C_FRV</td>\n",
       "    </tr>\n",
       "    <tr>\n",
       "      <th>1</th>\n",
       "      <td>DNI 10126780</td>\n",
       "      <td>FRAVEGA_LEGALES548</td>\n",
       "      <td>COMPROMISO</td>\n",
       "      <td>POSITIVO CON CAJA</td>\n",
       "      <td>NaN</td>\n",
       "      <td>1</td>\n",
       "      <td>2021-02-02</td>\n",
       "      <td>2021-02-08</td>\n",
       "      <td>2021-02-08</td>\n",
       "      <td>C_FRV</td>\n",
       "    </tr>\n",
       "    <tr>\n",
       "      <th>2</th>\n",
       "      <td>DNI 10138702</td>\n",
       "      <td>FRAVEGA_LEGALES548</td>\n",
       "      <td>EN GESTION</td>\n",
       "      <td>NEUTRO</td>\n",
       "      <td>NaN</td>\n",
       "      <td>1</td>\n",
       "      <td>2021-02-02</td>\n",
       "      <td>2021-02-08</td>\n",
       "      <td>2021-02-08</td>\n",
       "      <td>C_FRV</td>\n",
       "    </tr>\n",
       "    <tr>\n",
       "      <th>3</th>\n",
       "      <td>DNI 10327923</td>\n",
       "      <td>FRAVEGA_LEGALES548</td>\n",
       "      <td>EN GESTION</td>\n",
       "      <td>NEUTRO</td>\n",
       "      <td>NaN</td>\n",
       "      <td>1</td>\n",
       "      <td>2021-02-02</td>\n",
       "      <td>2021-02-08</td>\n",
       "      <td>2021-02-08</td>\n",
       "      <td>C_FRV</td>\n",
       "    </tr>\n",
       "    <tr>\n",
       "      <th>4</th>\n",
       "      <td>DNI 10335724</td>\n",
       "      <td>FRAVEGA_LEGALES548</td>\n",
       "      <td>CANCELO</td>\n",
       "      <td>POSITIVO CON CAJA</td>\n",
       "      <td>NaN</td>\n",
       "      <td>1</td>\n",
       "      <td>2021-02-02</td>\n",
       "      <td>2021-02-08</td>\n",
       "      <td>2021-02-08</td>\n",
       "      <td>C_FRV</td>\n",
       "    </tr>\n",
       "  </tbody>\n",
       "</table>\n",
       "</div>"
      ],
      "text/plain": [
       "             IDMOROSO             IDCLIENTE ESTADO_ANTERIOR  \\\n",
       "0  DNI 10122690        FRAVEGA_LEGALES548        EN GESTION   \n",
       "1  DNI 10126780        FRAVEGA_LEGALES548        COMPROMISO   \n",
       "2  DNI 10138702        FRAVEGA_LEGALES548        EN GESTION   \n",
       "3  DNI 10327923        FRAVEGA_LEGALES548        EN GESTION   \n",
       "4  DNI 10335724        FRAVEGA_LEGALES548           CANCELO   \n",
       "\n",
       "           CATEGORIA  NUEVO_ESTADO  ENRIQUECIDO FECHA_ENVIO_ENRIQUECIMIENTO  \\\n",
       "0             NEUTRO           NaN            1                  2021-02-02   \n",
       "1  POSITIVO CON CAJA           NaN            1                  2021-02-02   \n",
       "2             NEUTRO           NaN            1                  2021-02-02   \n",
       "3             NEUTRO           NaN            1                  2021-02-02   \n",
       "4  POSITIVO CON CAJA           NaN            1                  2021-02-02   \n",
       "\n",
       "  FECHA_INSERCION_DATO FECHA_CAMBIO_ESTADO PROVEEDOR  \n",
       "0           2021-02-08          2021-02-08     C_FRV  \n",
       "1           2021-02-08          2021-02-08     C_FRV  \n",
       "2           2021-02-08          2021-02-08     C_FRV  \n",
       "3           2021-02-08          2021-02-08     C_FRV  \n",
       "4           2021-02-08          2021-02-08     C_FRV  "
      ]
     },
     "execution_count": 49,
     "metadata": {},
     "output_type": "execute_result"
    }
   ],
   "source": [
    "df_clean.head()"
   ]
  },
  {
   "cell_type": "code",
   "execution_count": 50,
   "metadata": {},
   "outputs": [
    {
     "data": {
      "text/plain": [
       "(761, 10)"
      ]
     },
     "execution_count": 50,
     "metadata": {},
     "output_type": "execute_result"
    }
   ],
   "source": [
    "df_clean.shape"
   ]
  },
  {
   "cell_type": "markdown",
   "metadata": {},
   "source": [
    "# Export"
   ]
  },
  {
   "cell_type": "code",
   "execution_count": 51,
   "metadata": {},
   "outputs": [],
   "source": [
    "df_clean.to_csv('/mnt/c/Users/Dleg/Data/MOPC/MOPC/Enriquecimiento de Datos/Data Cleaning/Clientes/Fravega/Exports/FRAVEGA_ENRIQUECIDOS_DAM_LOG - 2602.csv',index=False)"
   ]
  },
  {
   "cell_type": "code",
   "execution_count": null,
   "metadata": {},
   "outputs": [],
   "source": []
  }
 ],
 "metadata": {
  "kernelspec": {
   "display_name": "Python 3",
   "language": "python",
   "name": "python3"
  },
  "language_info": {
   "codemirror_mode": {
    "name": "ipython",
    "version": 3
   },
   "file_extension": ".py",
   "mimetype": "text/x-python",
   "name": "python",
   "nbconvert_exporter": "python",
   "pygments_lexer": "ipython3",
   "version": "3.8.6"
  }
 },
 "nbformat": 4,
 "nbformat_minor": 4
}
