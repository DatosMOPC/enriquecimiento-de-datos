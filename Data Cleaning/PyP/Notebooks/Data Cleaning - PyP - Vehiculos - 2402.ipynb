{
 "cells": [
  {
   "cell_type": "markdown",
   "metadata": {},
   "source": [
    "# 1) Datasets"
   ]
  },
  {
   "cell_type": "markdown",
   "metadata": {},
   "source": [
    "Vamos a leer el dataset que envía PyP"
   ]
  },
  {
   "cell_type": "code",
   "execution_count": 1,
   "metadata": {},
   "outputs": [],
   "source": [
    "import pandas as pd\n",
    "import numpy as np"
   ]
  },
  {
   "cell_type": "code",
   "execution_count": 2,
   "metadata": {},
   "outputs": [],
   "source": [
    "df = pd.read_excel('/mnt/c/users/Dleg/Data/MOPC/MOPC/Enriquecimiento de Datos/Data Cleaning/PyP/Datasets/Datasets recibidos/MOP - 11022021 -Enriquecido - Copy.xlsx',skiprows=2, header=[0,1])"
   ]
  },
  {
   "cell_type": "code",
   "execution_count": 3,
   "metadata": {},
   "outputs": [
    {
     "data": {
      "text/html": [
       "<div>\n",
       "<style scoped>\n",
       "    .dataframe tbody tr th:only-of-type {\n",
       "        vertical-align: middle;\n",
       "    }\n",
       "\n",
       "    .dataframe tbody tr th {\n",
       "        vertical-align: top;\n",
       "    }\n",
       "\n",
       "    .dataframe thead tr th {\n",
       "        text-align: left;\n",
       "    }\n",
       "</style>\n",
       "<table border=\"1\" class=\"dataframe\">\n",
       "  <thead>\n",
       "    <tr>\n",
       "      <th></th>\n",
       "      <th>Unnamed: 0_level_0</th>\n",
       "      <th>Unnamed: 1_level_0</th>\n",
       "      <th>Unnamed: 2_level_0</th>\n",
       "      <th>Unnamed: 3_level_0</th>\n",
       "      <th>Unnamed: 4_level_0</th>\n",
       "      <th>Unnamed: 5_level_0</th>\n",
       "      <th>Unnamed: 6_level_0</th>\n",
       "      <th>Unnamed: 7_level_0</th>\n",
       "      <th>Unnamed: 8_level_0</th>\n",
       "      <th>Unnamed: 9_level_0</th>\n",
       "      <th>...</th>\n",
       "      <th colspan=\"7\" halign=\"left\">Contactacion Opcional (Familiar)</th>\n",
       "      <th colspan=\"3\" halign=\"left\">Contactacion Opcional (Vecino)</th>\n",
       "    </tr>\n",
       "    <tr>\n",
       "      <th></th>\n",
       "      <th>Cuil</th>\n",
       "      <th>Dni</th>\n",
       "      <th>Fecha de Nac.</th>\n",
       "      <th>Fecha de Defuncion</th>\n",
       "      <th>Sexo</th>\n",
       "      <th>Titular</th>\n",
       "      <th>Calle</th>\n",
       "      <th>Numero</th>\n",
       "      <th>Piso y Depto</th>\n",
       "      <th>Codigo Postal</th>\n",
       "      <th>...</th>\n",
       "      <th>Tel Fijo 2</th>\n",
       "      <th>Celular 1</th>\n",
       "      <th>Celular 2</th>\n",
       "      <th>Celular 3</th>\n",
       "      <th>Celular 4</th>\n",
       "      <th>Celular 5</th>\n",
       "      <th>Email</th>\n",
       "      <th>Nombre</th>\n",
       "      <th>Telefono</th>\n",
       "      <th>SCORE</th>\n",
       "    </tr>\n",
       "  </thead>\n",
       "  <tbody>\n",
       "    <tr>\n",
       "      <th>0</th>\n",
       "      <td>20140531562</td>\n",
       "      <td>14053156</td>\n",
       "      <td>1959-10-12</td>\n",
       "      <td>NaN</td>\n",
       "      <td>M</td>\n",
       "      <td>CALDERON JUAN DOMINGO</td>\n",
       "      <td>CALLE 8</td>\n",
       "      <td>378</td>\n",
       "      <td>NaN</td>\n",
       "      <td>2555</td>\n",
       "      <td>...</td>\n",
       "      <td>NaN</td>\n",
       "      <td>NaN</td>\n",
       "      <td>NaN</td>\n",
       "      <td>NaN</td>\n",
       "      <td>NaN</td>\n",
       "      <td>NaN</td>\n",
       "      <td>NaN</td>\n",
       "      <td>NaN</td>\n",
       "      <td>NaN</td>\n",
       "      <td>345</td>\n",
       "    </tr>\n",
       "    <tr>\n",
       "      <th>1</th>\n",
       "      <td>27281648867</td>\n",
       "      <td>28164886</td>\n",
       "      <td>1980-09-14</td>\n",
       "      <td>NaN</td>\n",
       "      <td>F</td>\n",
       "      <td>BAEZ CECILIA LUJAN</td>\n",
       "      <td>VILLAGUAY</td>\n",
       "      <td>2130</td>\n",
       "      <td>NaN</td>\n",
       "      <td>1849</td>\n",
       "      <td>...</td>\n",
       "      <td>NaN</td>\n",
       "      <td>NaN</td>\n",
       "      <td>NaN</td>\n",
       "      <td>NaN</td>\n",
       "      <td>NaN</td>\n",
       "      <td>NaN</td>\n",
       "      <td>NaN</td>\n",
       "      <td>LUJAN OLGA Y</td>\n",
       "      <td>1.142688e+09</td>\n",
       "      <td>34</td>\n",
       "    </tr>\n",
       "    <tr>\n",
       "      <th>2</th>\n",
       "      <td>20398295383</td>\n",
       "      <td>39829538</td>\n",
       "      <td>1996-07-25</td>\n",
       "      <td>NaN</td>\n",
       "      <td>M</td>\n",
       "      <td>CARDOZO SANTIAGO EDUARDO</td>\n",
       "      <td>PRES QUINTANA</td>\n",
       "      <td>1723</td>\n",
       "      <td>NaN</td>\n",
       "      <td>1615</td>\n",
       "      <td>...</td>\n",
       "      <td>NaN</td>\n",
       "      <td>NaN</td>\n",
       "      <td>NaN</td>\n",
       "      <td>NaN</td>\n",
       "      <td>NaN</td>\n",
       "      <td>NaN</td>\n",
       "      <td>NaN</td>\n",
       "      <td>NaN</td>\n",
       "      <td>NaN</td>\n",
       "      <td>345</td>\n",
       "    </tr>\n",
       "    <tr>\n",
       "      <th>3</th>\n",
       "      <td>20359239530</td>\n",
       "      <td>35923953</td>\n",
       "      <td>1992-02-12</td>\n",
       "      <td>NaN</td>\n",
       "      <td>M</td>\n",
       "      <td>BUSTOS CLEVERS CARLOS OCTAVIO</td>\n",
       "      <td>CARLOS M ALVEAR NORTE</td>\n",
       "      <td>143</td>\n",
       "      <td>NaN</td>\n",
       "      <td>5400</td>\n",
       "      <td>...</td>\n",
       "      <td>NaN</td>\n",
       "      <td>2.646737e+09</td>\n",
       "      <td>NaN</td>\n",
       "      <td>NaN</td>\n",
       "      <td>NaN</td>\n",
       "      <td>NaN</td>\n",
       "      <td>NaN</td>\n",
       "      <td>NaN</td>\n",
       "      <td>NaN</td>\n",
       "      <td>345</td>\n",
       "    </tr>\n",
       "    <tr>\n",
       "      <th>4</th>\n",
       "      <td>20939121383</td>\n",
       "      <td>93912138</td>\n",
       "      <td>1992-12-11</td>\n",
       "      <td>NaN</td>\n",
       "      <td>M</td>\n",
       "      <td>BENEGA LOPEZ ARNALDO ARIEL</td>\n",
       "      <td>CALLE 22</td>\n",
       "      <td>170</td>\n",
       "      <td>NaN</td>\n",
       "      <td>1743</td>\n",
       "      <td>...</td>\n",
       "      <td>NaN</td>\n",
       "      <td>NaN</td>\n",
       "      <td>NaN</td>\n",
       "      <td>NaN</td>\n",
       "      <td>NaN</td>\n",
       "      <td>NaN</td>\n",
       "      <td>NaN</td>\n",
       "      <td>NaN</td>\n",
       "      <td>NaN</td>\n",
       "      <td>345</td>\n",
       "    </tr>\n",
       "  </tbody>\n",
       "</table>\n",
       "<p>5 rows × 229 columns</p>\n",
       "</div>"
      ],
      "text/plain": [
       "  Unnamed: 0_level_0 Unnamed: 1_level_0 Unnamed: 2_level_0 Unnamed: 3_level_0  \\\n",
       "                Cuil                Dni      Fecha de Nac. Fecha de Defuncion   \n",
       "0        20140531562           14053156         1959-10-12                NaN   \n",
       "1        27281648867           28164886         1980-09-14                NaN   \n",
       "2        20398295383           39829538         1996-07-25                NaN   \n",
       "3        20359239530           35923953         1992-02-12                NaN   \n",
       "4        20939121383           93912138         1992-12-11                NaN   \n",
       "\n",
       "  Unnamed: 4_level_0             Unnamed: 5_level_0     Unnamed: 6_level_0  \\\n",
       "                Sexo                        Titular                  Calle   \n",
       "0                  M          CALDERON JUAN DOMINGO                CALLE 8   \n",
       "1                  F             BAEZ CECILIA LUJAN              VILLAGUAY   \n",
       "2                  M       CARDOZO SANTIAGO EDUARDO          PRES QUINTANA   \n",
       "3                  M  BUSTOS CLEVERS CARLOS OCTAVIO  CARLOS M ALVEAR NORTE   \n",
       "4                  M     BENEGA LOPEZ ARNALDO ARIEL               CALLE 22   \n",
       "\n",
       "  Unnamed: 7_level_0 Unnamed: 8_level_0 Unnamed: 9_level_0  ...  \\\n",
       "              Numero       Piso y Depto      Codigo Postal  ...   \n",
       "0                378                NaN               2555  ...   \n",
       "1               2130                NaN               1849  ...   \n",
       "2               1723                NaN               1615  ...   \n",
       "3                143                NaN               5400  ...   \n",
       "4                170                NaN               1743  ...   \n",
       "\n",
       "  Contactacion Opcional (Familiar)                                    \\\n",
       "                        Tel Fijo 2     Celular 1 Celular 2 Celular 3   \n",
       "0                              NaN           NaN       NaN       NaN   \n",
       "1                              NaN           NaN       NaN       NaN   \n",
       "2                              NaN           NaN       NaN       NaN   \n",
       "3                              NaN  2.646737e+09       NaN       NaN   \n",
       "4                              NaN           NaN       NaN       NaN   \n",
       "\n",
       "                            Contactacion Opcional (Vecino)                      \n",
       "  Celular 4 Celular 5 Email                         Nombre      Telefono SCORE  \n",
       "0       NaN       NaN   NaN                            NaN           NaN   345  \n",
       "1       NaN       NaN   NaN                   LUJAN OLGA Y  1.142688e+09    34  \n",
       "2       NaN       NaN   NaN                            NaN           NaN   345  \n",
       "3       NaN       NaN   NaN                            NaN           NaN   345  \n",
       "4       NaN       NaN   NaN                            NaN           NaN   345  \n",
       "\n",
       "[5 rows x 229 columns]"
      ]
     },
     "execution_count": 3,
     "metadata": {},
     "output_type": "execute_result"
    }
   ],
   "source": [
    "df.head()"
   ]
  },
  {
   "cell_type": "code",
   "execution_count": 4,
   "metadata": {
    "scrolled": true
   },
   "outputs": [
    {
     "data": {
      "text/plain": [
       "(1348, 229)"
      ]
     },
     "execution_count": 4,
     "metadata": {},
     "output_type": "execute_result"
    }
   ],
   "source": [
    "df.shape"
   ]
  },
  {
   "cell_type": "markdown",
   "metadata": {},
   "source": [
    "## 1.2) Data Cleaning: Datasets"
   ]
  },
  {
   "cell_type": "markdown",
   "metadata": {},
   "source": [
    "Vamos a dropear aquellas columnas y filas que no tengan ningún valor (es decir, que sean todos NaNs)"
   ]
  },
  {
   "cell_type": "code",
   "execution_count": 5,
   "metadata": {},
   "outputs": [],
   "source": [
    "df = df.dropna(axis=0, how='all')"
   ]
  },
  {
   "cell_type": "code",
   "execution_count": 6,
   "metadata": {},
   "outputs": [],
   "source": [
    "#df = df.dropna(axis=1, how='all')"
   ]
  },
  {
   "cell_type": "code",
   "execution_count": 7,
   "metadata": {},
   "outputs": [
    {
     "data": {
      "text/plain": [
       "(1348, 229)"
      ]
     },
     "execution_count": 7,
     "metadata": {},
     "output_type": "execute_result"
    }
   ],
   "source": [
    "df.shape"
   ]
  },
  {
   "cell_type": "markdown",
   "metadata": {},
   "source": [
    "Ahora todas las columnas tienen al menos 1 dato."
   ]
  },
  {
   "cell_type": "markdown",
   "metadata": {},
   "source": [
    "# 2) Vehículos"
   ]
  },
  {
   "cell_type": "markdown",
   "metadata": {},
   "source": [
    "Vamos a obtener los teléfonos de las columnas donde pueden aparecer, que son:\n",
    "\n",
    "Bienes registrados (Titular): \n",
    "- Patentados 2020-2001, Patentados menor al año 2001. __No__ me sirve tener la cantidad de patentados por el momento, ya que tengo sólo datos del último vehículo patentado.\n",
    "- Dominio: corresponde al dominio del último vehículo patentado.\n",
    "- Fecha Automotor (año de fabricación del vehículo).\n",
    "- Fecha de Compra.\n",
    "- Marca.\n",
    "- Modelo.\n"
   ]
  },
  {
   "cell_type": "code",
   "execution_count": 8,
   "metadata": {},
   "outputs": [],
   "source": [
    "df_reduced = df [[('Unnamed: 0_level_0','Cuil'),('Unnamed: 1_level_0','Dni'), ('Unnamed: 5_level_0','Titular')\n",
    "                  ,('Dominio','DdOMIN'),('Fecha Automotor','Unnamed: 134_level_1')\n",
    "                  ,('Fecha de Compra','Unnamed: 135_level_1'),('Marca','Unnamed: 136_level_1')\n",
    "                  ,('Modelo','Unnamed: 137_level_1')\n",
    "                  ]]"
   ]
  },
  {
   "cell_type": "code",
   "execution_count": 9,
   "metadata": {},
   "outputs": [
    {
     "data": {
      "text/html": [
       "<div>\n",
       "<style scoped>\n",
       "    .dataframe tbody tr th:only-of-type {\n",
       "        vertical-align: middle;\n",
       "    }\n",
       "\n",
       "    .dataframe tbody tr th {\n",
       "        vertical-align: top;\n",
       "    }\n",
       "\n",
       "    .dataframe thead tr th {\n",
       "        text-align: left;\n",
       "    }\n",
       "</style>\n",
       "<table border=\"1\" class=\"dataframe\">\n",
       "  <thead>\n",
       "    <tr>\n",
       "      <th></th>\n",
       "      <th>Unnamed: 0_level_0</th>\n",
       "      <th>Unnamed: 1_level_0</th>\n",
       "      <th>Unnamed: 5_level_0</th>\n",
       "      <th>Dominio</th>\n",
       "      <th>Fecha Automotor</th>\n",
       "      <th>Fecha de Compra</th>\n",
       "      <th>Marca</th>\n",
       "      <th>Modelo</th>\n",
       "    </tr>\n",
       "    <tr>\n",
       "      <th></th>\n",
       "      <th>Cuil</th>\n",
       "      <th>Dni</th>\n",
       "      <th>Titular</th>\n",
       "      <th>DdOMIN</th>\n",
       "      <th>Unnamed: 134_level_1</th>\n",
       "      <th>Unnamed: 135_level_1</th>\n",
       "      <th>Unnamed: 136_level_1</th>\n",
       "      <th>Unnamed: 137_level_1</th>\n",
       "    </tr>\n",
       "  </thead>\n",
       "  <tbody>\n",
       "    <tr>\n",
       "      <th>0</th>\n",
       "      <td>20140531562</td>\n",
       "      <td>14053156</td>\n",
       "      <td>CALDERON JUAN DOMINGO</td>\n",
       "      <td>NaN</td>\n",
       "      <td>-   -</td>\n",
       "      <td>-   -</td>\n",
       "      <td>NaN</td>\n",
       "      <td>NaN</td>\n",
       "    </tr>\n",
       "    <tr>\n",
       "      <th>1</th>\n",
       "      <td>27281648867</td>\n",
       "      <td>28164886</td>\n",
       "      <td>BAEZ CECILIA LUJAN</td>\n",
       "      <td>NaN</td>\n",
       "      <td>-   -</td>\n",
       "      <td>-   -</td>\n",
       "      <td>NaN</td>\n",
       "      <td>NaN</td>\n",
       "    </tr>\n",
       "    <tr>\n",
       "      <th>2</th>\n",
       "      <td>20398295383</td>\n",
       "      <td>39829538</td>\n",
       "      <td>CARDOZO SANTIAGO EDUARDO</td>\n",
       "      <td>NaN</td>\n",
       "      <td>-   -</td>\n",
       "      <td>-   -</td>\n",
       "      <td>NaN</td>\n",
       "      <td>NaN</td>\n",
       "    </tr>\n",
       "    <tr>\n",
       "      <th>3</th>\n",
       "      <td>20359239530</td>\n",
       "      <td>35923953</td>\n",
       "      <td>BUSTOS CLEVERS CARLOS OCTAVIO</td>\n",
       "      <td>JUQ012</td>\n",
       "      <td>40624</td>\n",
       "      <td>43410</td>\n",
       "      <td>PEUGEOT</td>\n",
       "      <td>207 COMPACT XS 1 4</td>\n",
       "    </tr>\n",
       "    <tr>\n",
       "      <th>4</th>\n",
       "      <td>20939121383</td>\n",
       "      <td>93912138</td>\n",
       "      <td>BENEGA LOPEZ ARNALDO ARIEL</td>\n",
       "      <td>NaN</td>\n",
       "      <td>-   -</td>\n",
       "      <td>-   -</td>\n",
       "      <td>NaN</td>\n",
       "      <td>NaN</td>\n",
       "    </tr>\n",
       "  </tbody>\n",
       "</table>\n",
       "</div>"
      ],
      "text/plain": [
       "  Unnamed: 0_level_0 Unnamed: 1_level_0             Unnamed: 5_level_0  \\\n",
       "                Cuil                Dni                        Titular   \n",
       "0        20140531562           14053156          CALDERON JUAN DOMINGO   \n",
       "1        27281648867           28164886             BAEZ CECILIA LUJAN   \n",
       "2        20398295383           39829538       CARDOZO SANTIAGO EDUARDO   \n",
       "3        20359239530           35923953  BUSTOS CLEVERS CARLOS OCTAVIO   \n",
       "4        20939121383           93912138     BENEGA LOPEZ ARNALDO ARIEL   \n",
       "\n",
       "  Dominio      Fecha Automotor      Fecha de Compra                Marca  \\\n",
       "   DdOMIN Unnamed: 134_level_1 Unnamed: 135_level_1 Unnamed: 136_level_1   \n",
       "0     NaN                -   -                -   -                  NaN   \n",
       "1     NaN                -   -                -   -                  NaN   \n",
       "2     NaN                -   -                -   -                  NaN   \n",
       "3  JUQ012                40624                43410              PEUGEOT   \n",
       "4     NaN                -   -                -   -                  NaN   \n",
       "\n",
       "                Modelo  \n",
       "  Unnamed: 137_level_1  \n",
       "0                  NaN  \n",
       "1                  NaN  \n",
       "2                  NaN  \n",
       "3   207 COMPACT XS 1 4  \n",
       "4                  NaN  "
      ]
     },
     "execution_count": 9,
     "metadata": {},
     "output_type": "execute_result"
    }
   ],
   "source": [
    "df_reduced.head()"
   ]
  },
  {
   "cell_type": "code",
   "execution_count": 10,
   "metadata": {},
   "outputs": [
    {
     "data": {
      "text/plain": [
       "(1348, 8)"
      ]
     },
     "execution_count": 10,
     "metadata": {},
     "output_type": "execute_result"
    }
   ],
   "source": [
    "df_reduced.shape"
   ]
  },
  {
   "cell_type": "markdown",
   "metadata": {},
   "source": [
    "Eliminamos el multilevel de las columnas, y las renombramos:"
   ]
  },
  {
   "cell_type": "code",
   "execution_count": 11,
   "metadata": {},
   "outputs": [],
   "source": [
    "df_reduced.columns = df_reduced.columns.droplevel()"
   ]
  },
  {
   "cell_type": "code",
   "execution_count": 12,
   "metadata": {},
   "outputs": [
    {
     "data": {
      "text/html": [
       "<div>\n",
       "<style scoped>\n",
       "    .dataframe tbody tr th:only-of-type {\n",
       "        vertical-align: middle;\n",
       "    }\n",
       "\n",
       "    .dataframe tbody tr th {\n",
       "        vertical-align: top;\n",
       "    }\n",
       "\n",
       "    .dataframe thead th {\n",
       "        text-align: right;\n",
       "    }\n",
       "</style>\n",
       "<table border=\"1\" class=\"dataframe\">\n",
       "  <thead>\n",
       "    <tr style=\"text-align: right;\">\n",
       "      <th></th>\n",
       "      <th>Cuil</th>\n",
       "      <th>Dni</th>\n",
       "      <th>Titular</th>\n",
       "      <th>DdOMIN</th>\n",
       "      <th>Unnamed: 134_level_1</th>\n",
       "      <th>Unnamed: 135_level_1</th>\n",
       "      <th>Unnamed: 136_level_1</th>\n",
       "      <th>Unnamed: 137_level_1</th>\n",
       "    </tr>\n",
       "  </thead>\n",
       "  <tbody>\n",
       "    <tr>\n",
       "      <th>0</th>\n",
       "      <td>20140531562</td>\n",
       "      <td>14053156</td>\n",
       "      <td>CALDERON JUAN DOMINGO</td>\n",
       "      <td>NaN</td>\n",
       "      <td>-   -</td>\n",
       "      <td>-   -</td>\n",
       "      <td>NaN</td>\n",
       "      <td>NaN</td>\n",
       "    </tr>\n",
       "    <tr>\n",
       "      <th>1</th>\n",
       "      <td>27281648867</td>\n",
       "      <td>28164886</td>\n",
       "      <td>BAEZ CECILIA LUJAN</td>\n",
       "      <td>NaN</td>\n",
       "      <td>-   -</td>\n",
       "      <td>-   -</td>\n",
       "      <td>NaN</td>\n",
       "      <td>NaN</td>\n",
       "    </tr>\n",
       "    <tr>\n",
       "      <th>2</th>\n",
       "      <td>20398295383</td>\n",
       "      <td>39829538</td>\n",
       "      <td>CARDOZO SANTIAGO EDUARDO</td>\n",
       "      <td>NaN</td>\n",
       "      <td>-   -</td>\n",
       "      <td>-   -</td>\n",
       "      <td>NaN</td>\n",
       "      <td>NaN</td>\n",
       "    </tr>\n",
       "    <tr>\n",
       "      <th>3</th>\n",
       "      <td>20359239530</td>\n",
       "      <td>35923953</td>\n",
       "      <td>BUSTOS CLEVERS CARLOS OCTAVIO</td>\n",
       "      <td>JUQ012</td>\n",
       "      <td>40624</td>\n",
       "      <td>43410</td>\n",
       "      <td>PEUGEOT</td>\n",
       "      <td>207 COMPACT XS 1 4</td>\n",
       "    </tr>\n",
       "    <tr>\n",
       "      <th>4</th>\n",
       "      <td>20939121383</td>\n",
       "      <td>93912138</td>\n",
       "      <td>BENEGA LOPEZ ARNALDO ARIEL</td>\n",
       "      <td>NaN</td>\n",
       "      <td>-   -</td>\n",
       "      <td>-   -</td>\n",
       "      <td>NaN</td>\n",
       "      <td>NaN</td>\n",
       "    </tr>\n",
       "  </tbody>\n",
       "</table>\n",
       "</div>"
      ],
      "text/plain": [
       "          Cuil       Dni                        Titular  DdOMIN  \\\n",
       "0  20140531562  14053156          CALDERON JUAN DOMINGO     NaN   \n",
       "1  27281648867  28164886             BAEZ CECILIA LUJAN     NaN   \n",
       "2  20398295383  39829538       CARDOZO SANTIAGO EDUARDO     NaN   \n",
       "3  20359239530  35923953  BUSTOS CLEVERS CARLOS OCTAVIO  JUQ012   \n",
       "4  20939121383  93912138     BENEGA LOPEZ ARNALDO ARIEL     NaN   \n",
       "\n",
       "  Unnamed: 134_level_1 Unnamed: 135_level_1 Unnamed: 136_level_1  \\\n",
       "0                -   -                -   -                  NaN   \n",
       "1                -   -                -   -                  NaN   \n",
       "2                -   -                -   -                  NaN   \n",
       "3                40624                43410              PEUGEOT   \n",
       "4                -   -                -   -                  NaN   \n",
       "\n",
       "  Unnamed: 137_level_1  \n",
       "0                  NaN  \n",
       "1                  NaN  \n",
       "2                  NaN  \n",
       "3   207 COMPACT XS 1 4  \n",
       "4                  NaN  "
      ]
     },
     "execution_count": 12,
     "metadata": {},
     "output_type": "execute_result"
    }
   ],
   "source": [
    "df_reduced.head()"
   ]
  },
  {
   "cell_type": "code",
   "execution_count": 13,
   "metadata": {},
   "outputs": [],
   "source": [
    "df_reduced = df_reduced.rename(columns={\"Cuil\": \"CUIT_CUIL\", 'Dni': 'NRO_DOC', 'DdOMIN':'PATENTE', 'Unnamed: 134_level_1':'ANO'\n",
    "                                       ,'Unnamed: 135_level_1':'FECHA_DE_COMPRA','Unnamed: 136_level_1':'MARCA'\n",
    "                                       ,'Unnamed: 137_level_1':'MODELO'})"
   ]
  },
  {
   "cell_type": "code",
   "execution_count": 14,
   "metadata": {},
   "outputs": [
    {
     "data": {
      "text/html": [
       "<div>\n",
       "<style scoped>\n",
       "    .dataframe tbody tr th:only-of-type {\n",
       "        vertical-align: middle;\n",
       "    }\n",
       "\n",
       "    .dataframe tbody tr th {\n",
       "        vertical-align: top;\n",
       "    }\n",
       "\n",
       "    .dataframe thead th {\n",
       "        text-align: right;\n",
       "    }\n",
       "</style>\n",
       "<table border=\"1\" class=\"dataframe\">\n",
       "  <thead>\n",
       "    <tr style=\"text-align: right;\">\n",
       "      <th></th>\n",
       "      <th>CUIT_CUIL</th>\n",
       "      <th>NRO_DOC</th>\n",
       "      <th>Titular</th>\n",
       "      <th>PATENTE</th>\n",
       "      <th>ANO</th>\n",
       "      <th>FECHA_DE_COMPRA</th>\n",
       "      <th>MARCA</th>\n",
       "      <th>MODELO</th>\n",
       "    </tr>\n",
       "  </thead>\n",
       "  <tbody>\n",
       "    <tr>\n",
       "      <th>0</th>\n",
       "      <td>20140531562</td>\n",
       "      <td>14053156</td>\n",
       "      <td>CALDERON JUAN DOMINGO</td>\n",
       "      <td>NaN</td>\n",
       "      <td>-   -</td>\n",
       "      <td>-   -</td>\n",
       "      <td>NaN</td>\n",
       "      <td>NaN</td>\n",
       "    </tr>\n",
       "    <tr>\n",
       "      <th>1</th>\n",
       "      <td>27281648867</td>\n",
       "      <td>28164886</td>\n",
       "      <td>BAEZ CECILIA LUJAN</td>\n",
       "      <td>NaN</td>\n",
       "      <td>-   -</td>\n",
       "      <td>-   -</td>\n",
       "      <td>NaN</td>\n",
       "      <td>NaN</td>\n",
       "    </tr>\n",
       "    <tr>\n",
       "      <th>2</th>\n",
       "      <td>20398295383</td>\n",
       "      <td>39829538</td>\n",
       "      <td>CARDOZO SANTIAGO EDUARDO</td>\n",
       "      <td>NaN</td>\n",
       "      <td>-   -</td>\n",
       "      <td>-   -</td>\n",
       "      <td>NaN</td>\n",
       "      <td>NaN</td>\n",
       "    </tr>\n",
       "    <tr>\n",
       "      <th>3</th>\n",
       "      <td>20359239530</td>\n",
       "      <td>35923953</td>\n",
       "      <td>BUSTOS CLEVERS CARLOS OCTAVIO</td>\n",
       "      <td>JUQ012</td>\n",
       "      <td>40624</td>\n",
       "      <td>43410</td>\n",
       "      <td>PEUGEOT</td>\n",
       "      <td>207 COMPACT XS 1 4</td>\n",
       "    </tr>\n",
       "    <tr>\n",
       "      <th>4</th>\n",
       "      <td>20939121383</td>\n",
       "      <td>93912138</td>\n",
       "      <td>BENEGA LOPEZ ARNALDO ARIEL</td>\n",
       "      <td>NaN</td>\n",
       "      <td>-   -</td>\n",
       "      <td>-   -</td>\n",
       "      <td>NaN</td>\n",
       "      <td>NaN</td>\n",
       "    </tr>\n",
       "  </tbody>\n",
       "</table>\n",
       "</div>"
      ],
      "text/plain": [
       "     CUIT_CUIL   NRO_DOC                        Titular PATENTE      ANO  \\\n",
       "0  20140531562  14053156          CALDERON JUAN DOMINGO     NaN    -   -   \n",
       "1  27281648867  28164886             BAEZ CECILIA LUJAN     NaN    -   -   \n",
       "2  20398295383  39829538       CARDOZO SANTIAGO EDUARDO     NaN    -   -   \n",
       "3  20359239530  35923953  BUSTOS CLEVERS CARLOS OCTAVIO  JUQ012    40624   \n",
       "4  20939121383  93912138     BENEGA LOPEZ ARNALDO ARIEL     NaN    -   -   \n",
       "\n",
       "  FECHA_DE_COMPRA    MARCA              MODELO  \n",
       "0           -   -      NaN                 NaN  \n",
       "1           -   -      NaN                 NaN  \n",
       "2           -   -      NaN                 NaN  \n",
       "3           43410  PEUGEOT  207 COMPACT XS 1 4  \n",
       "4           -   -      NaN                 NaN  "
      ]
     },
     "execution_count": 14,
     "metadata": {},
     "output_type": "execute_result"
    }
   ],
   "source": [
    "df_reduced.head()"
   ]
  },
  {
   "cell_type": "markdown",
   "metadata": {},
   "source": [
    "# 3) Concatenación de Marca - Modelo"
   ]
  },
  {
   "cell_type": "markdown",
   "metadata": {},
   "source": [
    "Como PyP envía un teléfono por celda, tengo que concatenar las columnas de teléfonos en una lista dentro de una nueva columna denominada \"Dato\""
   ]
  },
  {
   "cell_type": "code",
   "execution_count": 15,
   "metadata": {
    "scrolled": true
   },
   "outputs": [
    {
     "data": {
      "text/plain": [
       "Index(['CUIT_CUIL', 'NRO_DOC', 'Titular', 'PATENTE', 'ANO', 'FECHA_DE_COMPRA',\n",
       "       'MARCA', 'MODELO'],\n",
       "      dtype='object')"
      ]
     },
     "execution_count": 15,
     "metadata": {},
     "output_type": "execute_result"
    }
   ],
   "source": [
    "df_reduced.columns"
   ]
  },
  {
   "cell_type": "code",
   "execution_count": 16,
   "metadata": {},
   "outputs": [],
   "source": [
    "marca_modelo = df_reduced['MARCA'] + ' ' +df_reduced ['MODELO']"
   ]
  },
  {
   "cell_type": "code",
   "execution_count": 17,
   "metadata": {},
   "outputs": [],
   "source": [
    "df_reduced = df_reduced.assign(FABRICANTE=marca_modelo)"
   ]
  },
  {
   "cell_type": "code",
   "execution_count": 18,
   "metadata": {},
   "outputs": [
    {
     "data": {
      "text/html": [
       "<div>\n",
       "<style scoped>\n",
       "    .dataframe tbody tr th:only-of-type {\n",
       "        vertical-align: middle;\n",
       "    }\n",
       "\n",
       "    .dataframe tbody tr th {\n",
       "        vertical-align: top;\n",
       "    }\n",
       "\n",
       "    .dataframe thead th {\n",
       "        text-align: right;\n",
       "    }\n",
       "</style>\n",
       "<table border=\"1\" class=\"dataframe\">\n",
       "  <thead>\n",
       "    <tr style=\"text-align: right;\">\n",
       "      <th></th>\n",
       "      <th>CUIT_CUIL</th>\n",
       "      <th>NRO_DOC</th>\n",
       "      <th>Titular</th>\n",
       "      <th>PATENTE</th>\n",
       "      <th>ANO</th>\n",
       "      <th>FECHA_DE_COMPRA</th>\n",
       "      <th>MARCA</th>\n",
       "      <th>MODELO</th>\n",
       "      <th>FABRICANTE</th>\n",
       "    </tr>\n",
       "  </thead>\n",
       "  <tbody>\n",
       "    <tr>\n",
       "      <th>0</th>\n",
       "      <td>20140531562</td>\n",
       "      <td>14053156</td>\n",
       "      <td>CALDERON JUAN DOMINGO</td>\n",
       "      <td>NaN</td>\n",
       "      <td>-   -</td>\n",
       "      <td>-   -</td>\n",
       "      <td>NaN</td>\n",
       "      <td>NaN</td>\n",
       "      <td>NaN</td>\n",
       "    </tr>\n",
       "    <tr>\n",
       "      <th>1</th>\n",
       "      <td>27281648867</td>\n",
       "      <td>28164886</td>\n",
       "      <td>BAEZ CECILIA LUJAN</td>\n",
       "      <td>NaN</td>\n",
       "      <td>-   -</td>\n",
       "      <td>-   -</td>\n",
       "      <td>NaN</td>\n",
       "      <td>NaN</td>\n",
       "      <td>NaN</td>\n",
       "    </tr>\n",
       "    <tr>\n",
       "      <th>2</th>\n",
       "      <td>20398295383</td>\n",
       "      <td>39829538</td>\n",
       "      <td>CARDOZO SANTIAGO EDUARDO</td>\n",
       "      <td>NaN</td>\n",
       "      <td>-   -</td>\n",
       "      <td>-   -</td>\n",
       "      <td>NaN</td>\n",
       "      <td>NaN</td>\n",
       "      <td>NaN</td>\n",
       "    </tr>\n",
       "    <tr>\n",
       "      <th>3</th>\n",
       "      <td>20359239530</td>\n",
       "      <td>35923953</td>\n",
       "      <td>BUSTOS CLEVERS CARLOS OCTAVIO</td>\n",
       "      <td>JUQ012</td>\n",
       "      <td>40624</td>\n",
       "      <td>43410</td>\n",
       "      <td>PEUGEOT</td>\n",
       "      <td>207 COMPACT XS 1 4</td>\n",
       "      <td>PEUGEOT 207 COMPACT XS 1 4</td>\n",
       "    </tr>\n",
       "    <tr>\n",
       "      <th>4</th>\n",
       "      <td>20939121383</td>\n",
       "      <td>93912138</td>\n",
       "      <td>BENEGA LOPEZ ARNALDO ARIEL</td>\n",
       "      <td>NaN</td>\n",
       "      <td>-   -</td>\n",
       "      <td>-   -</td>\n",
       "      <td>NaN</td>\n",
       "      <td>NaN</td>\n",
       "      <td>NaN</td>\n",
       "    </tr>\n",
       "  </tbody>\n",
       "</table>\n",
       "</div>"
      ],
      "text/plain": [
       "     CUIT_CUIL   NRO_DOC                        Titular PATENTE      ANO  \\\n",
       "0  20140531562  14053156          CALDERON JUAN DOMINGO     NaN    -   -   \n",
       "1  27281648867  28164886             BAEZ CECILIA LUJAN     NaN    -   -   \n",
       "2  20398295383  39829538       CARDOZO SANTIAGO EDUARDO     NaN    -   -   \n",
       "3  20359239530  35923953  BUSTOS CLEVERS CARLOS OCTAVIO  JUQ012    40624   \n",
       "4  20939121383  93912138     BENEGA LOPEZ ARNALDO ARIEL     NaN    -   -   \n",
       "\n",
       "  FECHA_DE_COMPRA    MARCA              MODELO                  FABRICANTE  \n",
       "0           -   -      NaN                 NaN                         NaN  \n",
       "1           -   -      NaN                 NaN                         NaN  \n",
       "2           -   -      NaN                 NaN                         NaN  \n",
       "3           43410  PEUGEOT  207 COMPACT XS 1 4  PEUGEOT 207 COMPACT XS 1 4  \n",
       "4           -   -      NaN                 NaN                         NaN  "
      ]
     },
     "execution_count": 18,
     "metadata": {},
     "output_type": "execute_result"
    }
   ],
   "source": [
    "df_reduced.head()"
   ]
  },
  {
   "cell_type": "code",
   "execution_count": 19,
   "metadata": {},
   "outputs": [],
   "source": [
    "#df_reduced.to_excel('test_marca_modelo.xlsx')"
   ]
  },
  {
   "cell_type": "markdown",
   "metadata": {},
   "source": [
    "# 4) Drop NaNs"
   ]
  },
  {
   "cell_type": "markdown",
   "metadata": {},
   "source": [
    "Dropeamos aquellas filas que tengan NaN en la columna Dato, ya que no nos aporta nada:"
   ]
  },
  {
   "cell_type": "code",
   "execution_count": 20,
   "metadata": {},
   "outputs": [],
   "source": [
    "df_reduced = df_reduced.dropna(subset=['PATENTE'])"
   ]
  },
  {
   "cell_type": "code",
   "execution_count": 21,
   "metadata": {},
   "outputs": [
    {
     "data": {
      "text/plain": [
       "(466, 9)"
      ]
     },
     "execution_count": 21,
     "metadata": {},
     "output_type": "execute_result"
    }
   ],
   "source": [
    "df_reduced.shape"
   ]
  },
  {
   "cell_type": "code",
   "execution_count": 22,
   "metadata": {},
   "outputs": [
    {
     "data": {
      "text/html": [
       "<div>\n",
       "<style scoped>\n",
       "    .dataframe tbody tr th:only-of-type {\n",
       "        vertical-align: middle;\n",
       "    }\n",
       "\n",
       "    .dataframe tbody tr th {\n",
       "        vertical-align: top;\n",
       "    }\n",
       "\n",
       "    .dataframe thead th {\n",
       "        text-align: right;\n",
       "    }\n",
       "</style>\n",
       "<table border=\"1\" class=\"dataframe\">\n",
       "  <thead>\n",
       "    <tr style=\"text-align: right;\">\n",
       "      <th></th>\n",
       "      <th>CUIT_CUIL</th>\n",
       "      <th>NRO_DOC</th>\n",
       "      <th>Titular</th>\n",
       "      <th>PATENTE</th>\n",
       "      <th>ANO</th>\n",
       "      <th>FECHA_DE_COMPRA</th>\n",
       "      <th>MARCA</th>\n",
       "      <th>MODELO</th>\n",
       "      <th>FABRICANTE</th>\n",
       "    </tr>\n",
       "  </thead>\n",
       "  <tbody>\n",
       "    <tr>\n",
       "      <th>1338</th>\n",
       "      <td>27123902446</td>\n",
       "      <td>12390244</td>\n",
       "      <td>BARRIOS NORMA ALICIA</td>\n",
       "      <td>HVF056</td>\n",
       "      <td>2009-02-02 00:00:00</td>\n",
       "      <td>2009-02-02 00:00:00</td>\n",
       "      <td>VOLKSWAGEN</td>\n",
       "      <td>GOL TREND 1 6</td>\n",
       "      <td>VOLKSWAGEN GOL TREND 1 6</td>\n",
       "    </tr>\n",
       "    <tr>\n",
       "      <th>1343</th>\n",
       "      <td>27302627830</td>\n",
       "      <td>30262783</td>\n",
       "      <td>CASAS LORENA ELISABET</td>\n",
       "      <td>SZW309</td>\n",
       "      <td>34170</td>\n",
       "      <td>42048</td>\n",
       "      <td>FIAT</td>\n",
       "      <td>SPAZIO TR</td>\n",
       "      <td>FIAT SPAZIO TR</td>\n",
       "    </tr>\n",
       "    <tr>\n",
       "      <th>1344</th>\n",
       "      <td>20102706960</td>\n",
       "      <td>10270696</td>\n",
       "      <td>BELMONTE CARLOS OSCAR</td>\n",
       "      <td>DWH971</td>\n",
       "      <td>2002-01-03 00:00:00</td>\n",
       "      <td>2015-03-06 00:00:00</td>\n",
       "      <td>SEAT</td>\n",
       "      <td>LEON 1 6</td>\n",
       "      <td>SEAT LEON 1 6</td>\n",
       "    </tr>\n",
       "    <tr>\n",
       "      <th>1346</th>\n",
       "      <td>20344403997</td>\n",
       "      <td>34440399</td>\n",
       "      <td>CABRERA LUIS GUSTAVO</td>\n",
       "      <td>UKG977</td>\n",
       "      <td>27992</td>\n",
       "      <td>42104</td>\n",
       "      <td>RENAULT</td>\n",
       "      <td>R 12</td>\n",
       "      <td>RENAULT R 12</td>\n",
       "    </tr>\n",
       "    <tr>\n",
       "      <th>1347</th>\n",
       "      <td>20294121227</td>\n",
       "      <td>29412122</td>\n",
       "      <td>CALLORDA ALBERTO JESUS</td>\n",
       "      <td>GWC037</td>\n",
       "      <td>39464</td>\n",
       "      <td>42752</td>\n",
       "      <td>FORD</td>\n",
       "      <td>FIESTA AMBIENTE MP3</td>\n",
       "      <td>FORD FIESTA AMBIENTE MP3</td>\n",
       "    </tr>\n",
       "  </tbody>\n",
       "</table>\n",
       "</div>"
      ],
      "text/plain": [
       "        CUIT_CUIL   NRO_DOC                 Titular PATENTE  \\\n",
       "1338  27123902446  12390244    BARRIOS NORMA ALICIA  HVF056   \n",
       "1343  27302627830  30262783   CASAS LORENA ELISABET  SZW309   \n",
       "1344  20102706960  10270696   BELMONTE CARLOS OSCAR  DWH971   \n",
       "1346  20344403997  34440399    CABRERA LUIS GUSTAVO  UKG977   \n",
       "1347  20294121227  29412122  CALLORDA ALBERTO JESUS  GWC037   \n",
       "\n",
       "                      ANO      FECHA_DE_COMPRA       MARCA  \\\n",
       "1338  2009-02-02 00:00:00  2009-02-02 00:00:00  VOLKSWAGEN   \n",
       "1343                34170                42048        FIAT   \n",
       "1344  2002-01-03 00:00:00  2015-03-06 00:00:00        SEAT   \n",
       "1346                27992                42104     RENAULT   \n",
       "1347                39464                42752        FORD   \n",
       "\n",
       "                   MODELO                FABRICANTE  \n",
       "1338        GOL TREND 1 6  VOLKSWAGEN GOL TREND 1 6  \n",
       "1343            SPAZIO TR            FIAT SPAZIO TR  \n",
       "1344             LEON 1 6             SEAT LEON 1 6  \n",
       "1346                 R 12              RENAULT R 12  \n",
       "1347  FIESTA AMBIENTE MP3  FORD FIESTA AMBIENTE MP3  "
      ]
     },
     "execution_count": 22,
     "metadata": {},
     "output_type": "execute_result"
    }
   ],
   "source": [
    "df_reduced.tail()"
   ]
  },
  {
   "cell_type": "markdown",
   "metadata": {},
   "source": [
    "# 5) Columna Proveedor"
   ]
  },
  {
   "cell_type": "markdown",
   "metadata": {},
   "source": [
    "Agregamos la columna PROVEEDOR_DATO, con el código correspondiente.\n",
    "\n",
    "PyP = P2"
   ]
  },
  {
   "cell_type": "code",
   "execution_count": 23,
   "metadata": {},
   "outputs": [],
   "source": [
    "cod_pyp = 'P2'"
   ]
  },
  {
   "cell_type": "code",
   "execution_count": 24,
   "metadata": {},
   "outputs": [],
   "source": [
    "df_clean = df_reduced.assign(PROVEEDOR_DATO=cod_pyp)"
   ]
  },
  {
   "cell_type": "code",
   "execution_count": 25,
   "metadata": {
    "scrolled": true
   },
   "outputs": [
    {
     "data": {
      "text/html": [
       "<div>\n",
       "<style scoped>\n",
       "    .dataframe tbody tr th:only-of-type {\n",
       "        vertical-align: middle;\n",
       "    }\n",
       "\n",
       "    .dataframe tbody tr th {\n",
       "        vertical-align: top;\n",
       "    }\n",
       "\n",
       "    .dataframe thead th {\n",
       "        text-align: right;\n",
       "    }\n",
       "</style>\n",
       "<table border=\"1\" class=\"dataframe\">\n",
       "  <thead>\n",
       "    <tr style=\"text-align: right;\">\n",
       "      <th></th>\n",
       "      <th>CUIT_CUIL</th>\n",
       "      <th>NRO_DOC</th>\n",
       "      <th>Titular</th>\n",
       "      <th>PATENTE</th>\n",
       "      <th>ANO</th>\n",
       "      <th>FECHA_DE_COMPRA</th>\n",
       "      <th>MARCA</th>\n",
       "      <th>MODELO</th>\n",
       "      <th>FABRICANTE</th>\n",
       "      <th>PROVEEDOR_DATO</th>\n",
       "    </tr>\n",
       "  </thead>\n",
       "  <tbody>\n",
       "    <tr>\n",
       "      <th>3</th>\n",
       "      <td>20359239530</td>\n",
       "      <td>35923953</td>\n",
       "      <td>BUSTOS CLEVERS CARLOS OCTAVIO</td>\n",
       "      <td>JUQ012</td>\n",
       "      <td>40624</td>\n",
       "      <td>43410</td>\n",
       "      <td>PEUGEOT</td>\n",
       "      <td>207 COMPACT XS 1 4</td>\n",
       "      <td>PEUGEOT 207 COMPACT XS 1 4</td>\n",
       "      <td>P2</td>\n",
       "    </tr>\n",
       "    <tr>\n",
       "      <th>6</th>\n",
       "      <td>20277192293</td>\n",
       "      <td>27719229</td>\n",
       "      <td>BENITEZ CRISTIAN GABRIEL</td>\n",
       "      <td>FFO891</td>\n",
       "      <td>38652</td>\n",
       "      <td>42474</td>\n",
       "      <td>HYUNDAI</td>\n",
       "      <td>ELANTRA 2 0 GLS</td>\n",
       "      <td>HYUNDAI ELANTRA 2 0 GLS</td>\n",
       "      <td>P2</td>\n",
       "    </tr>\n",
       "    <tr>\n",
       "      <th>7</th>\n",
       "      <td>23222757339</td>\n",
       "      <td>22275733</td>\n",
       "      <td>BONOMETTI CESAR ADRIAN</td>\n",
       "      <td>JUY799</td>\n",
       "      <td>40637</td>\n",
       "      <td>43196</td>\n",
       "      <td>VOLKSWAGEN</td>\n",
       "      <td>TIGUAN 2 0 TSI 4 MOTION</td>\n",
       "      <td>VOLKSWAGEN TIGUAN 2 0 TSI 4 MOTION</td>\n",
       "      <td>P2</td>\n",
       "    </tr>\n",
       "    <tr>\n",
       "      <th>15</th>\n",
       "      <td>27176578926</td>\n",
       "      <td>17657892</td>\n",
       "      <td>REBOLLIDO MARCELA ALEJANDRA</td>\n",
       "      <td>KYV415</td>\n",
       "      <td>40973</td>\n",
       "      <td>40973</td>\n",
       "      <td>FORD</td>\n",
       "      <td>ECOSPORT 1 6 L 4X2 XLS</td>\n",
       "      <td>FORD ECOSPORT 1 6 L 4X2 XLS</td>\n",
       "      <td>P2</td>\n",
       "    </tr>\n",
       "    <tr>\n",
       "      <th>17</th>\n",
       "      <td>20923312006</td>\n",
       "      <td>92331200</td>\n",
       "      <td>CASTRO PENAYO ANGEL EULALIO</td>\n",
       "      <td>SFI305</td>\n",
       "      <td>34040</td>\n",
       "      <td>40675</td>\n",
       "      <td>MITSUBISHI</td>\n",
       "      <td>LANCER 1500 GLX</td>\n",
       "      <td>MITSUBISHI LANCER 1500 GLX</td>\n",
       "      <td>P2</td>\n",
       "    </tr>\n",
       "  </tbody>\n",
       "</table>\n",
       "</div>"
      ],
      "text/plain": [
       "      CUIT_CUIL   NRO_DOC                        Titular PATENTE    ANO  \\\n",
       "3   20359239530  35923953  BUSTOS CLEVERS CARLOS OCTAVIO  JUQ012  40624   \n",
       "6   20277192293  27719229       BENITEZ CRISTIAN GABRIEL  FFO891  38652   \n",
       "7   23222757339  22275733         BONOMETTI CESAR ADRIAN  JUY799  40637   \n",
       "15  27176578926  17657892    REBOLLIDO MARCELA ALEJANDRA  KYV415  40973   \n",
       "17  20923312006  92331200    CASTRO PENAYO ANGEL EULALIO  SFI305  34040   \n",
       "\n",
       "   FECHA_DE_COMPRA       MARCA                   MODELO  \\\n",
       "3            43410     PEUGEOT       207 COMPACT XS 1 4   \n",
       "6            42474     HYUNDAI          ELANTRA 2 0 GLS   \n",
       "7            43196  VOLKSWAGEN  TIGUAN 2 0 TSI 4 MOTION   \n",
       "15           40973        FORD   ECOSPORT 1 6 L 4X2 XLS   \n",
       "17           40675  MITSUBISHI          LANCER 1500 GLX   \n",
       "\n",
       "                            FABRICANTE PROVEEDOR_DATO  \n",
       "3           PEUGEOT 207 COMPACT XS 1 4             P2  \n",
       "6              HYUNDAI ELANTRA 2 0 GLS             P2  \n",
       "7   VOLKSWAGEN TIGUAN 2 0 TSI 4 MOTION             P2  \n",
       "15         FORD ECOSPORT 1 6 L 4X2 XLS             P2  \n",
       "17          MITSUBISHI LANCER 1500 GLX             P2  "
      ]
     },
     "execution_count": 25,
     "metadata": {},
     "output_type": "execute_result"
    }
   ],
   "source": [
    "df_clean.head()"
   ]
  },
  {
   "cell_type": "markdown",
   "metadata": {},
   "source": [
    "# 6) Columna Porcentaje"
   ]
  },
  {
   "cell_type": "markdown",
   "metadata": {},
   "source": [
    "Como no tenemos datos sobre el porcentaje de posesión del vehículo, se asigna 100% a todos los casos"
   ]
  },
  {
   "cell_type": "code",
   "execution_count": 26,
   "metadata": {},
   "outputs": [],
   "source": [
    "df_clean = df_clean.assign(PORCENTAJE=100)"
   ]
  },
  {
   "cell_type": "code",
   "execution_count": 27,
   "metadata": {
    "scrolled": true
   },
   "outputs": [
    {
     "data": {
      "text/html": [
       "<div>\n",
       "<style scoped>\n",
       "    .dataframe tbody tr th:only-of-type {\n",
       "        vertical-align: middle;\n",
       "    }\n",
       "\n",
       "    .dataframe tbody tr th {\n",
       "        vertical-align: top;\n",
       "    }\n",
       "\n",
       "    .dataframe thead th {\n",
       "        text-align: right;\n",
       "    }\n",
       "</style>\n",
       "<table border=\"1\" class=\"dataframe\">\n",
       "  <thead>\n",
       "    <tr style=\"text-align: right;\">\n",
       "      <th></th>\n",
       "      <th>CUIT_CUIL</th>\n",
       "      <th>NRO_DOC</th>\n",
       "      <th>Titular</th>\n",
       "      <th>PATENTE</th>\n",
       "      <th>ANO</th>\n",
       "      <th>FECHA_DE_COMPRA</th>\n",
       "      <th>MARCA</th>\n",
       "      <th>MODELO</th>\n",
       "      <th>FABRICANTE</th>\n",
       "      <th>PROVEEDOR_DATO</th>\n",
       "      <th>PORCENTAJE</th>\n",
       "    </tr>\n",
       "  </thead>\n",
       "  <tbody>\n",
       "    <tr>\n",
       "      <th>3</th>\n",
       "      <td>20359239530</td>\n",
       "      <td>35923953</td>\n",
       "      <td>BUSTOS CLEVERS CARLOS OCTAVIO</td>\n",
       "      <td>JUQ012</td>\n",
       "      <td>40624</td>\n",
       "      <td>43410</td>\n",
       "      <td>PEUGEOT</td>\n",
       "      <td>207 COMPACT XS 1 4</td>\n",
       "      <td>PEUGEOT 207 COMPACT XS 1 4</td>\n",
       "      <td>P2</td>\n",
       "      <td>100</td>\n",
       "    </tr>\n",
       "    <tr>\n",
       "      <th>6</th>\n",
       "      <td>20277192293</td>\n",
       "      <td>27719229</td>\n",
       "      <td>BENITEZ CRISTIAN GABRIEL</td>\n",
       "      <td>FFO891</td>\n",
       "      <td>38652</td>\n",
       "      <td>42474</td>\n",
       "      <td>HYUNDAI</td>\n",
       "      <td>ELANTRA 2 0 GLS</td>\n",
       "      <td>HYUNDAI ELANTRA 2 0 GLS</td>\n",
       "      <td>P2</td>\n",
       "      <td>100</td>\n",
       "    </tr>\n",
       "    <tr>\n",
       "      <th>7</th>\n",
       "      <td>23222757339</td>\n",
       "      <td>22275733</td>\n",
       "      <td>BONOMETTI CESAR ADRIAN</td>\n",
       "      <td>JUY799</td>\n",
       "      <td>40637</td>\n",
       "      <td>43196</td>\n",
       "      <td>VOLKSWAGEN</td>\n",
       "      <td>TIGUAN 2 0 TSI 4 MOTION</td>\n",
       "      <td>VOLKSWAGEN TIGUAN 2 0 TSI 4 MOTION</td>\n",
       "      <td>P2</td>\n",
       "      <td>100</td>\n",
       "    </tr>\n",
       "    <tr>\n",
       "      <th>15</th>\n",
       "      <td>27176578926</td>\n",
       "      <td>17657892</td>\n",
       "      <td>REBOLLIDO MARCELA ALEJANDRA</td>\n",
       "      <td>KYV415</td>\n",
       "      <td>40973</td>\n",
       "      <td>40973</td>\n",
       "      <td>FORD</td>\n",
       "      <td>ECOSPORT 1 6 L 4X2 XLS</td>\n",
       "      <td>FORD ECOSPORT 1 6 L 4X2 XLS</td>\n",
       "      <td>P2</td>\n",
       "      <td>100</td>\n",
       "    </tr>\n",
       "    <tr>\n",
       "      <th>17</th>\n",
       "      <td>20923312006</td>\n",
       "      <td>92331200</td>\n",
       "      <td>CASTRO PENAYO ANGEL EULALIO</td>\n",
       "      <td>SFI305</td>\n",
       "      <td>34040</td>\n",
       "      <td>40675</td>\n",
       "      <td>MITSUBISHI</td>\n",
       "      <td>LANCER 1500 GLX</td>\n",
       "      <td>MITSUBISHI LANCER 1500 GLX</td>\n",
       "      <td>P2</td>\n",
       "      <td>100</td>\n",
       "    </tr>\n",
       "  </tbody>\n",
       "</table>\n",
       "</div>"
      ],
      "text/plain": [
       "      CUIT_CUIL   NRO_DOC                        Titular PATENTE    ANO  \\\n",
       "3   20359239530  35923953  BUSTOS CLEVERS CARLOS OCTAVIO  JUQ012  40624   \n",
       "6   20277192293  27719229       BENITEZ CRISTIAN GABRIEL  FFO891  38652   \n",
       "7   23222757339  22275733         BONOMETTI CESAR ADRIAN  JUY799  40637   \n",
       "15  27176578926  17657892    REBOLLIDO MARCELA ALEJANDRA  KYV415  40973   \n",
       "17  20923312006  92331200    CASTRO PENAYO ANGEL EULALIO  SFI305  34040   \n",
       "\n",
       "   FECHA_DE_COMPRA       MARCA                   MODELO  \\\n",
       "3            43410     PEUGEOT       207 COMPACT XS 1 4   \n",
       "6            42474     HYUNDAI          ELANTRA 2 0 GLS   \n",
       "7            43196  VOLKSWAGEN  TIGUAN 2 0 TSI 4 MOTION   \n",
       "15           40973        FORD   ECOSPORT 1 6 L 4X2 XLS   \n",
       "17           40675  MITSUBISHI          LANCER 1500 GLX   \n",
       "\n",
       "                            FABRICANTE PROVEEDOR_DATO  PORCENTAJE  \n",
       "3           PEUGEOT 207 COMPACT XS 1 4             P2         100  \n",
       "6              HYUNDAI ELANTRA 2 0 GLS             P2         100  \n",
       "7   VOLKSWAGEN TIGUAN 2 0 TSI 4 MOTION             P2         100  \n",
       "15         FORD ECOSPORT 1 6 L 4X2 XLS             P2         100  \n",
       "17          MITSUBISHI LANCER 1500 GLX             P2         100  "
      ]
     },
     "execution_count": 27,
     "metadata": {},
     "output_type": "execute_result"
    }
   ],
   "source": [
    "df_clean.head()"
   ]
  },
  {
   "cell_type": "markdown",
   "metadata": {},
   "source": [
    "# 7) Columna Fecha"
   ]
  },
  {
   "cell_type": "markdown",
   "metadata": {},
   "source": [
    "Para el campo FECHA_INGRESO_DATO, usamos la fecha en la que se hace la inserción de los datos:"
   ]
  },
  {
   "cell_type": "code",
   "execution_count": 28,
   "metadata": {},
   "outputs": [],
   "source": [
    "fecha_ingreso = pd.to_datetime('today')"
   ]
  },
  {
   "cell_type": "code",
   "execution_count": 29,
   "metadata": {},
   "outputs": [],
   "source": [
    "df_clean = df_clean.assign(FECHA_INGRESO=fecha_ingreso)"
   ]
  },
  {
   "cell_type": "code",
   "execution_count": 30,
   "metadata": {
    "scrolled": true
   },
   "outputs": [
    {
     "data": {
      "text/html": [
       "<div>\n",
       "<style scoped>\n",
       "    .dataframe tbody tr th:only-of-type {\n",
       "        vertical-align: middle;\n",
       "    }\n",
       "\n",
       "    .dataframe tbody tr th {\n",
       "        vertical-align: top;\n",
       "    }\n",
       "\n",
       "    .dataframe thead th {\n",
       "        text-align: right;\n",
       "    }\n",
       "</style>\n",
       "<table border=\"1\" class=\"dataframe\">\n",
       "  <thead>\n",
       "    <tr style=\"text-align: right;\">\n",
       "      <th></th>\n",
       "      <th>CUIT_CUIL</th>\n",
       "      <th>NRO_DOC</th>\n",
       "      <th>Titular</th>\n",
       "      <th>PATENTE</th>\n",
       "      <th>ANO</th>\n",
       "      <th>FECHA_DE_COMPRA</th>\n",
       "      <th>MARCA</th>\n",
       "      <th>MODELO</th>\n",
       "      <th>FABRICANTE</th>\n",
       "      <th>PROVEEDOR_DATO</th>\n",
       "      <th>PORCENTAJE</th>\n",
       "      <th>FECHA_INGRESO</th>\n",
       "    </tr>\n",
       "  </thead>\n",
       "  <tbody>\n",
       "    <tr>\n",
       "      <th>3</th>\n",
       "      <td>20359239530</td>\n",
       "      <td>35923953</td>\n",
       "      <td>BUSTOS CLEVERS CARLOS OCTAVIO</td>\n",
       "      <td>JUQ012</td>\n",
       "      <td>40624</td>\n",
       "      <td>43410</td>\n",
       "      <td>PEUGEOT</td>\n",
       "      <td>207 COMPACT XS 1 4</td>\n",
       "      <td>PEUGEOT 207 COMPACT XS 1 4</td>\n",
       "      <td>P2</td>\n",
       "      <td>100</td>\n",
       "      <td>2021-02-24 12:54:16.344810</td>\n",
       "    </tr>\n",
       "    <tr>\n",
       "      <th>6</th>\n",
       "      <td>20277192293</td>\n",
       "      <td>27719229</td>\n",
       "      <td>BENITEZ CRISTIAN GABRIEL</td>\n",
       "      <td>FFO891</td>\n",
       "      <td>38652</td>\n",
       "      <td>42474</td>\n",
       "      <td>HYUNDAI</td>\n",
       "      <td>ELANTRA 2 0 GLS</td>\n",
       "      <td>HYUNDAI ELANTRA 2 0 GLS</td>\n",
       "      <td>P2</td>\n",
       "      <td>100</td>\n",
       "      <td>2021-02-24 12:54:16.344810</td>\n",
       "    </tr>\n",
       "    <tr>\n",
       "      <th>7</th>\n",
       "      <td>23222757339</td>\n",
       "      <td>22275733</td>\n",
       "      <td>BONOMETTI CESAR ADRIAN</td>\n",
       "      <td>JUY799</td>\n",
       "      <td>40637</td>\n",
       "      <td>43196</td>\n",
       "      <td>VOLKSWAGEN</td>\n",
       "      <td>TIGUAN 2 0 TSI 4 MOTION</td>\n",
       "      <td>VOLKSWAGEN TIGUAN 2 0 TSI 4 MOTION</td>\n",
       "      <td>P2</td>\n",
       "      <td>100</td>\n",
       "      <td>2021-02-24 12:54:16.344810</td>\n",
       "    </tr>\n",
       "    <tr>\n",
       "      <th>15</th>\n",
       "      <td>27176578926</td>\n",
       "      <td>17657892</td>\n",
       "      <td>REBOLLIDO MARCELA ALEJANDRA</td>\n",
       "      <td>KYV415</td>\n",
       "      <td>40973</td>\n",
       "      <td>40973</td>\n",
       "      <td>FORD</td>\n",
       "      <td>ECOSPORT 1 6 L 4X2 XLS</td>\n",
       "      <td>FORD ECOSPORT 1 6 L 4X2 XLS</td>\n",
       "      <td>P2</td>\n",
       "      <td>100</td>\n",
       "      <td>2021-02-24 12:54:16.344810</td>\n",
       "    </tr>\n",
       "    <tr>\n",
       "      <th>17</th>\n",
       "      <td>20923312006</td>\n",
       "      <td>92331200</td>\n",
       "      <td>CASTRO PENAYO ANGEL EULALIO</td>\n",
       "      <td>SFI305</td>\n",
       "      <td>34040</td>\n",
       "      <td>40675</td>\n",
       "      <td>MITSUBISHI</td>\n",
       "      <td>LANCER 1500 GLX</td>\n",
       "      <td>MITSUBISHI LANCER 1500 GLX</td>\n",
       "      <td>P2</td>\n",
       "      <td>100</td>\n",
       "      <td>2021-02-24 12:54:16.344810</td>\n",
       "    </tr>\n",
       "  </tbody>\n",
       "</table>\n",
       "</div>"
      ],
      "text/plain": [
       "      CUIT_CUIL   NRO_DOC                        Titular PATENTE    ANO  \\\n",
       "3   20359239530  35923953  BUSTOS CLEVERS CARLOS OCTAVIO  JUQ012  40624   \n",
       "6   20277192293  27719229       BENITEZ CRISTIAN GABRIEL  FFO891  38652   \n",
       "7   23222757339  22275733         BONOMETTI CESAR ADRIAN  JUY799  40637   \n",
       "15  27176578926  17657892    REBOLLIDO MARCELA ALEJANDRA  KYV415  40973   \n",
       "17  20923312006  92331200    CASTRO PENAYO ANGEL EULALIO  SFI305  34040   \n",
       "\n",
       "   FECHA_DE_COMPRA       MARCA                   MODELO  \\\n",
       "3            43410     PEUGEOT       207 COMPACT XS 1 4   \n",
       "6            42474     HYUNDAI          ELANTRA 2 0 GLS   \n",
       "7            43196  VOLKSWAGEN  TIGUAN 2 0 TSI 4 MOTION   \n",
       "15           40973        FORD   ECOSPORT 1 6 L 4X2 XLS   \n",
       "17           40675  MITSUBISHI          LANCER 1500 GLX   \n",
       "\n",
       "                            FABRICANTE PROVEEDOR_DATO  PORCENTAJE  \\\n",
       "3           PEUGEOT 207 COMPACT XS 1 4             P2         100   \n",
       "6              HYUNDAI ELANTRA 2 0 GLS             P2         100   \n",
       "7   VOLKSWAGEN TIGUAN 2 0 TSI 4 MOTION             P2         100   \n",
       "15         FORD ECOSPORT 1 6 L 4X2 XLS             P2         100   \n",
       "17          MITSUBISHI LANCER 1500 GLX             P2         100   \n",
       "\n",
       "                FECHA_INGRESO  \n",
       "3  2021-02-24 12:54:16.344810  \n",
       "6  2021-02-24 12:54:16.344810  \n",
       "7  2021-02-24 12:54:16.344810  \n",
       "15 2021-02-24 12:54:16.344810  \n",
       "17 2021-02-24 12:54:16.344810  "
      ]
     },
     "execution_count": 30,
     "metadata": {},
     "output_type": "execute_result"
    }
   ],
   "source": [
    "df_clean.head()"
   ]
  },
  {
   "cell_type": "markdown",
   "metadata": {},
   "source": [
    "# 8) Columna Fabricante"
   ]
  },
  {
   "cell_type": "markdown",
   "metadata": {},
   "source": [
    "Se realiza la limpieza de la columna Fabricante, ya que se observan los siguientes problemas:"
   ]
  },
  {
   "cell_type": "markdown",
   "metadata": {},
   "source": [
    "- Cuando no tiene modelo o marca, se escribe \"No Consta\". Eso va a parar a Fabricante.\n",
    "- Al concatenar, se repite el nombre de la Marca en modelo."
   ]
  },
  {
   "cell_type": "code",
   "execution_count": 31,
   "metadata": {},
   "outputs": [],
   "source": [
    "df_clean.loc[((df_clean['MARCA'] == 'NO CONSTA')), 'FABRICANTE'] = 'NO CONSTA'"
   ]
  },
  {
   "cell_type": "code",
   "execution_count": 32,
   "metadata": {},
   "outputs": [
    {
     "name": "stderr",
     "output_type": "stream",
     "text": [
      "<ipython-input-32-17b773d9a13b>:1: FutureWarning: The default value of regex will change from True to False in a future version.\n",
      "  df_clean['FABRICANTE'] = df_clean['FABRICANTE'].str.replace(r'\\b(\\w+)(\\s+\\1)+\\b', r'\\1')\n"
     ]
    }
   ],
   "source": [
    "df_clean['FABRICANTE'] = df_clean['FABRICANTE'].str.replace(r'\\b(\\w+)(\\s+\\1)+\\b', r'\\1')"
   ]
  },
  {
   "cell_type": "code",
   "execution_count": 33,
   "metadata": {
    "scrolled": true
   },
   "outputs": [
    {
     "data": {
      "text/html": [
       "<div>\n",
       "<style scoped>\n",
       "    .dataframe tbody tr th:only-of-type {\n",
       "        vertical-align: middle;\n",
       "    }\n",
       "\n",
       "    .dataframe tbody tr th {\n",
       "        vertical-align: top;\n",
       "    }\n",
       "\n",
       "    .dataframe thead th {\n",
       "        text-align: right;\n",
       "    }\n",
       "</style>\n",
       "<table border=\"1\" class=\"dataframe\">\n",
       "  <thead>\n",
       "    <tr style=\"text-align: right;\">\n",
       "      <th></th>\n",
       "      <th>CUIT_CUIL</th>\n",
       "      <th>NRO_DOC</th>\n",
       "      <th>Titular</th>\n",
       "      <th>PATENTE</th>\n",
       "      <th>ANO</th>\n",
       "      <th>FECHA_DE_COMPRA</th>\n",
       "      <th>MARCA</th>\n",
       "      <th>MODELO</th>\n",
       "      <th>FABRICANTE</th>\n",
       "      <th>PROVEEDOR_DATO</th>\n",
       "      <th>PORCENTAJE</th>\n",
       "      <th>FECHA_INGRESO</th>\n",
       "    </tr>\n",
       "  </thead>\n",
       "  <tbody>\n",
       "    <tr>\n",
       "      <th>3</th>\n",
       "      <td>20359239530</td>\n",
       "      <td>35923953</td>\n",
       "      <td>BUSTOS CLEVERS CARLOS OCTAVIO</td>\n",
       "      <td>JUQ012</td>\n",
       "      <td>40624</td>\n",
       "      <td>43410</td>\n",
       "      <td>PEUGEOT</td>\n",
       "      <td>207 COMPACT XS 1 4</td>\n",
       "      <td>PEUGEOT 207 COMPACT XS 1 4</td>\n",
       "      <td>P2</td>\n",
       "      <td>100</td>\n",
       "      <td>2021-02-24 12:54:16.344810</td>\n",
       "    </tr>\n",
       "    <tr>\n",
       "      <th>6</th>\n",
       "      <td>20277192293</td>\n",
       "      <td>27719229</td>\n",
       "      <td>BENITEZ CRISTIAN GABRIEL</td>\n",
       "      <td>FFO891</td>\n",
       "      <td>38652</td>\n",
       "      <td>42474</td>\n",
       "      <td>HYUNDAI</td>\n",
       "      <td>ELANTRA 2 0 GLS</td>\n",
       "      <td>HYUNDAI ELANTRA 2 0 GLS</td>\n",
       "      <td>P2</td>\n",
       "      <td>100</td>\n",
       "      <td>2021-02-24 12:54:16.344810</td>\n",
       "    </tr>\n",
       "    <tr>\n",
       "      <th>7</th>\n",
       "      <td>23222757339</td>\n",
       "      <td>22275733</td>\n",
       "      <td>BONOMETTI CESAR ADRIAN</td>\n",
       "      <td>JUY799</td>\n",
       "      <td>40637</td>\n",
       "      <td>43196</td>\n",
       "      <td>VOLKSWAGEN</td>\n",
       "      <td>TIGUAN 2 0 TSI 4 MOTION</td>\n",
       "      <td>VOLKSWAGEN TIGUAN 2 0 TSI 4 MOTION</td>\n",
       "      <td>P2</td>\n",
       "      <td>100</td>\n",
       "      <td>2021-02-24 12:54:16.344810</td>\n",
       "    </tr>\n",
       "    <tr>\n",
       "      <th>15</th>\n",
       "      <td>27176578926</td>\n",
       "      <td>17657892</td>\n",
       "      <td>REBOLLIDO MARCELA ALEJANDRA</td>\n",
       "      <td>KYV415</td>\n",
       "      <td>40973</td>\n",
       "      <td>40973</td>\n",
       "      <td>FORD</td>\n",
       "      <td>ECOSPORT 1 6 L 4X2 XLS</td>\n",
       "      <td>FORD ECOSPORT 1 6 L 4X2 XLS</td>\n",
       "      <td>P2</td>\n",
       "      <td>100</td>\n",
       "      <td>2021-02-24 12:54:16.344810</td>\n",
       "    </tr>\n",
       "    <tr>\n",
       "      <th>17</th>\n",
       "      <td>20923312006</td>\n",
       "      <td>92331200</td>\n",
       "      <td>CASTRO PENAYO ANGEL EULALIO</td>\n",
       "      <td>SFI305</td>\n",
       "      <td>34040</td>\n",
       "      <td>40675</td>\n",
       "      <td>MITSUBISHI</td>\n",
       "      <td>LANCER 1500 GLX</td>\n",
       "      <td>MITSUBISHI LANCER 1500 GLX</td>\n",
       "      <td>P2</td>\n",
       "      <td>100</td>\n",
       "      <td>2021-02-24 12:54:16.344810</td>\n",
       "    </tr>\n",
       "  </tbody>\n",
       "</table>\n",
       "</div>"
      ],
      "text/plain": [
       "      CUIT_CUIL   NRO_DOC                        Titular PATENTE    ANO  \\\n",
       "3   20359239530  35923953  BUSTOS CLEVERS CARLOS OCTAVIO  JUQ012  40624   \n",
       "6   20277192293  27719229       BENITEZ CRISTIAN GABRIEL  FFO891  38652   \n",
       "7   23222757339  22275733         BONOMETTI CESAR ADRIAN  JUY799  40637   \n",
       "15  27176578926  17657892    REBOLLIDO MARCELA ALEJANDRA  KYV415  40973   \n",
       "17  20923312006  92331200    CASTRO PENAYO ANGEL EULALIO  SFI305  34040   \n",
       "\n",
       "   FECHA_DE_COMPRA       MARCA                   MODELO  \\\n",
       "3            43410     PEUGEOT       207 COMPACT XS 1 4   \n",
       "6            42474     HYUNDAI          ELANTRA 2 0 GLS   \n",
       "7            43196  VOLKSWAGEN  TIGUAN 2 0 TSI 4 MOTION   \n",
       "15           40973        FORD   ECOSPORT 1 6 L 4X2 XLS   \n",
       "17           40675  MITSUBISHI          LANCER 1500 GLX   \n",
       "\n",
       "                            FABRICANTE PROVEEDOR_DATO  PORCENTAJE  \\\n",
       "3           PEUGEOT 207 COMPACT XS 1 4             P2         100   \n",
       "6              HYUNDAI ELANTRA 2 0 GLS             P2         100   \n",
       "7   VOLKSWAGEN TIGUAN 2 0 TSI 4 MOTION             P2         100   \n",
       "15         FORD ECOSPORT 1 6 L 4X2 XLS             P2         100   \n",
       "17          MITSUBISHI LANCER 1500 GLX             P2         100   \n",
       "\n",
       "                FECHA_INGRESO  \n",
       "3  2021-02-24 12:54:16.344810  \n",
       "6  2021-02-24 12:54:16.344810  \n",
       "7  2021-02-24 12:54:16.344810  \n",
       "15 2021-02-24 12:54:16.344810  \n",
       "17 2021-02-24 12:54:16.344810  "
      ]
     },
     "execution_count": 33,
     "metadata": {},
     "output_type": "execute_result"
    }
   ],
   "source": [
    "df_clean.head()"
   ]
  },
  {
   "cell_type": "code",
   "execution_count": 34,
   "metadata": {},
   "outputs": [],
   "source": [
    "#df_clean.to_excel('test_marca_modelo_v2.xlsx')"
   ]
  },
  {
   "cell_type": "markdown",
   "metadata": {},
   "source": [
    "# 9) Concatenación con .csv enviado "
   ]
  },
  {
   "cell_type": "markdown",
   "metadata": {},
   "source": [
    "Vamos a concatenar nuestro dataframe con el dataframe enviado para enriquecer. Para esto, vamos a hacer una limpieza inicial de cómo se enviaron esos datos. Finalmente, se uniran ambos dataframes por __DNI__."
   ]
  },
  {
   "cell_type": "markdown",
   "metadata": {},
   "source": [
    "## 9.1) Dataset: PyP"
   ]
  },
  {
   "cell_type": "markdown",
   "metadata": {},
   "source": [
    "Vamos a analizar y limpiar el dataset enviado a PyP para el enriquecimiento:"
   ]
  },
  {
   "cell_type": "code",
   "execution_count": 35,
   "metadata": {},
   "outputs": [],
   "source": [
    "df_pyp = pd.read_excel('/mnt/c/users/Dleg/Data/MOPC/MOPC/Enriquecimiento de Datos/Data Cleaning/PyP/Datasets/Datasets enviados/0209-MOPC-PEDIDO DE DATOS.xlsx')"
   ]
  },
  {
   "cell_type": "code",
   "execution_count": 36,
   "metadata": {},
   "outputs": [
    {
     "data": {
      "text/html": [
       "<div>\n",
       "<style scoped>\n",
       "    .dataframe tbody tr th:only-of-type {\n",
       "        vertical-align: middle;\n",
       "    }\n",
       "\n",
       "    .dataframe tbody tr th {\n",
       "        vertical-align: top;\n",
       "    }\n",
       "\n",
       "    .dataframe thead th {\n",
       "        text-align: right;\n",
       "    }\n",
       "</style>\n",
       "<table border=\"1\" class=\"dataframe\">\n",
       "  <thead>\n",
       "    <tr style=\"text-align: right;\">\n",
       "      <th></th>\n",
       "      <th>DNI</th>\n",
       "      <th>NOMBRE</th>\n",
       "      <th>IDCLIENTE</th>\n",
       "    </tr>\n",
       "  </thead>\n",
       "  <tbody>\n",
       "    <tr>\n",
       "      <th>0</th>\n",
       "      <td>DNI 10039621</td>\n",
       "      <td>ANA MARIA,CANO</td>\n",
       "      <td>BSR_TARDIA</td>\n",
       "    </tr>\n",
       "    <tr>\n",
       "      <th>1</th>\n",
       "      <td>DNI 10197951</td>\n",
       "      <td>BERNARDO,CHAUQUE</td>\n",
       "      <td>BSR_TARDIA</td>\n",
       "    </tr>\n",
       "    <tr>\n",
       "      <th>2</th>\n",
       "      <td>DNI 10248810</td>\n",
       "      <td>CIRO EMIR,BIANCHIMANI</td>\n",
       "      <td>BSR_TARDIA</td>\n",
       "    </tr>\n",
       "    <tr>\n",
       "      <th>3</th>\n",
       "      <td>DNI 10270696</td>\n",
       "      <td>CARLOS OSCARBELMONTE</td>\n",
       "      <td>BSR_TARDIA</td>\n",
       "    </tr>\n",
       "    <tr>\n",
       "      <th>4</th>\n",
       "      <td>DNI 10363397</td>\n",
       "      <td>CALDAS ROSA HAYDEE</td>\n",
       "      <td>BSR_TARDIA</td>\n",
       "    </tr>\n",
       "  </tbody>\n",
       "</table>\n",
       "</div>"
      ],
      "text/plain": [
       "                  DNI                                    NOMBRE   IDCLIENTE\n",
       "0  DNI 10039621        ANA MARIA,CANO                            BSR_TARDIA\n",
       "1  DNI 10197951        BERNARDO,CHAUQUE                          BSR_TARDIA\n",
       "2  DNI 10248810        CIRO EMIR,BIANCHIMANI                     BSR_TARDIA\n",
       "3  DNI 10270696        CARLOS OSCARBELMONTE                      BSR_TARDIA\n",
       "4  DNI 10363397        CALDAS ROSA HAYDEE                        BSR_TARDIA"
      ]
     },
     "execution_count": 36,
     "metadata": {},
     "output_type": "execute_result"
    }
   ],
   "source": [
    "df_pyp.head()"
   ]
  },
  {
   "cell_type": "markdown",
   "metadata": {},
   "source": [
    "Dropeamos la última columna que no tiene datos"
   ]
  },
  {
   "cell_type": "code",
   "execution_count": 37,
   "metadata": {},
   "outputs": [],
   "source": [
    "#df_pyp = df_pyp.drop(columns=['FILTROA'])"
   ]
  },
  {
   "cell_type": "code",
   "execution_count": 38,
   "metadata": {},
   "outputs": [
    {
     "data": {
      "text/html": [
       "<div>\n",
       "<style scoped>\n",
       "    .dataframe tbody tr th:only-of-type {\n",
       "        vertical-align: middle;\n",
       "    }\n",
       "\n",
       "    .dataframe tbody tr th {\n",
       "        vertical-align: top;\n",
       "    }\n",
       "\n",
       "    .dataframe thead th {\n",
       "        text-align: right;\n",
       "    }\n",
       "</style>\n",
       "<table border=\"1\" class=\"dataframe\">\n",
       "  <thead>\n",
       "    <tr style=\"text-align: right;\">\n",
       "      <th></th>\n",
       "      <th>DNI</th>\n",
       "      <th>NOMBRE</th>\n",
       "      <th>IDCLIENTE</th>\n",
       "    </tr>\n",
       "  </thead>\n",
       "  <tbody>\n",
       "    <tr>\n",
       "      <th>0</th>\n",
       "      <td>DNI 10039621</td>\n",
       "      <td>ANA MARIA,CANO</td>\n",
       "      <td>BSR_TARDIA</td>\n",
       "    </tr>\n",
       "    <tr>\n",
       "      <th>1</th>\n",
       "      <td>DNI 10197951</td>\n",
       "      <td>BERNARDO,CHAUQUE</td>\n",
       "      <td>BSR_TARDIA</td>\n",
       "    </tr>\n",
       "    <tr>\n",
       "      <th>2</th>\n",
       "      <td>DNI 10248810</td>\n",
       "      <td>CIRO EMIR,BIANCHIMANI</td>\n",
       "      <td>BSR_TARDIA</td>\n",
       "    </tr>\n",
       "    <tr>\n",
       "      <th>3</th>\n",
       "      <td>DNI 10270696</td>\n",
       "      <td>CARLOS OSCARBELMONTE</td>\n",
       "      <td>BSR_TARDIA</td>\n",
       "    </tr>\n",
       "    <tr>\n",
       "      <th>4</th>\n",
       "      <td>DNI 10363397</td>\n",
       "      <td>CALDAS ROSA HAYDEE</td>\n",
       "      <td>BSR_TARDIA</td>\n",
       "    </tr>\n",
       "  </tbody>\n",
       "</table>\n",
       "</div>"
      ],
      "text/plain": [
       "                  DNI                                    NOMBRE   IDCLIENTE\n",
       "0  DNI 10039621        ANA MARIA,CANO                            BSR_TARDIA\n",
       "1  DNI 10197951        BERNARDO,CHAUQUE                          BSR_TARDIA\n",
       "2  DNI 10248810        CIRO EMIR,BIANCHIMANI                     BSR_TARDIA\n",
       "3  DNI 10270696        CARLOS OSCARBELMONTE                      BSR_TARDIA\n",
       "4  DNI 10363397        CALDAS ROSA HAYDEE                        BSR_TARDIA"
      ]
     },
     "execution_count": 38,
     "metadata": {},
     "output_type": "execute_result"
    }
   ],
   "source": [
    "df_pyp.head()"
   ]
  },
  {
   "cell_type": "markdown",
   "metadata": {},
   "source": [
    "Creamos una columna que contenga IDMOROSO + DATOADIC según corresponda"
   ]
  },
  {
   "cell_type": "code",
   "execution_count": 39,
   "metadata": {},
   "outputs": [],
   "source": [
    "#df_pyp.loc[(df_pyp['IDCLIENTE'].str.startswith('AMEX')) , 'NRO_DOC'] = df_pyp['DATOADIC']"
   ]
  },
  {
   "cell_type": "code",
   "execution_count": 40,
   "metadata": {},
   "outputs": [],
   "source": [
    "df_pyp = df_pyp.rename(columns={'DNI':'IDMOROSO'})"
   ]
  },
  {
   "cell_type": "code",
   "execution_count": 41,
   "metadata": {},
   "outputs": [],
   "source": [
    "df_pyp['NRO_DOC'] = df_pyp['IDMOROSO']"
   ]
  },
  {
   "cell_type": "code",
   "execution_count": 42,
   "metadata": {},
   "outputs": [
    {
     "data": {
      "text/html": [
       "<div>\n",
       "<style scoped>\n",
       "    .dataframe tbody tr th:only-of-type {\n",
       "        vertical-align: middle;\n",
       "    }\n",
       "\n",
       "    .dataframe tbody tr th {\n",
       "        vertical-align: top;\n",
       "    }\n",
       "\n",
       "    .dataframe thead th {\n",
       "        text-align: right;\n",
       "    }\n",
       "</style>\n",
       "<table border=\"1\" class=\"dataframe\">\n",
       "  <thead>\n",
       "    <tr style=\"text-align: right;\">\n",
       "      <th></th>\n",
       "      <th>IDMOROSO</th>\n",
       "      <th>NOMBRE</th>\n",
       "      <th>IDCLIENTE</th>\n",
       "      <th>NRO_DOC</th>\n",
       "    </tr>\n",
       "  </thead>\n",
       "  <tbody>\n",
       "    <tr>\n",
       "      <th>0</th>\n",
       "      <td>DNI 10039621</td>\n",
       "      <td>ANA MARIA,CANO</td>\n",
       "      <td>BSR_TARDIA</td>\n",
       "      <td>DNI 10039621</td>\n",
       "    </tr>\n",
       "    <tr>\n",
       "      <th>1</th>\n",
       "      <td>DNI 10197951</td>\n",
       "      <td>BERNARDO,CHAUQUE</td>\n",
       "      <td>BSR_TARDIA</td>\n",
       "      <td>DNI 10197951</td>\n",
       "    </tr>\n",
       "    <tr>\n",
       "      <th>2</th>\n",
       "      <td>DNI 10248810</td>\n",
       "      <td>CIRO EMIR,BIANCHIMANI</td>\n",
       "      <td>BSR_TARDIA</td>\n",
       "      <td>DNI 10248810</td>\n",
       "    </tr>\n",
       "    <tr>\n",
       "      <th>3</th>\n",
       "      <td>DNI 10270696</td>\n",
       "      <td>CARLOS OSCARBELMONTE</td>\n",
       "      <td>BSR_TARDIA</td>\n",
       "      <td>DNI 10270696</td>\n",
       "    </tr>\n",
       "    <tr>\n",
       "      <th>4</th>\n",
       "      <td>DNI 10363397</td>\n",
       "      <td>CALDAS ROSA HAYDEE</td>\n",
       "      <td>BSR_TARDIA</td>\n",
       "      <td>DNI 10363397</td>\n",
       "    </tr>\n",
       "  </tbody>\n",
       "</table>\n",
       "</div>"
      ],
      "text/plain": [
       "             IDMOROSO                                    NOMBRE   IDCLIENTE  \\\n",
       "0  DNI 10039621        ANA MARIA,CANO                            BSR_TARDIA   \n",
       "1  DNI 10197951        BERNARDO,CHAUQUE                          BSR_TARDIA   \n",
       "2  DNI 10248810        CIRO EMIR,BIANCHIMANI                     BSR_TARDIA   \n",
       "3  DNI 10270696        CARLOS OSCARBELMONTE                      BSR_TARDIA   \n",
       "4  DNI 10363397        CALDAS ROSA HAYDEE                        BSR_TARDIA   \n",
       "\n",
       "              NRO_DOC  \n",
       "0  DNI 10039621        \n",
       "1  DNI 10197951        \n",
       "2  DNI 10248810        \n",
       "3  DNI 10270696        \n",
       "4  DNI 10363397        "
      ]
     },
     "execution_count": 42,
     "metadata": {},
     "output_type": "execute_result"
    }
   ],
   "source": [
    "df_pyp.head()"
   ]
  },
  {
   "cell_type": "markdown",
   "metadata": {},
   "source": [
    "## 8.2) DNI Cleaning"
   ]
  },
  {
   "cell_type": "markdown",
   "metadata": {},
   "source": [
    "Limpiamos el dataframe __df_pyp__, ya que dentro de DATO_A_ENVIAR tenemos 9 tipos de casos diferentes de datos:\n",
    "\n",
    "- DNI 12345678\n",
    "- DNI12345678\n",
    "- DNIE1234678\n",
    "- LC  1234567\n",
    "- LE  1234567\n",
    "- CUIT00123456780\n",
    "- 00123456780 --> Es un CUIT.\n",
    "- 00 12345678 0 --> Es un CUIT.\n",
    "- DNI 00123456780 --> Dice DNI pero es un CUIT de una persona __jurídica__ (TO DO)"
   ]
  },
  {
   "cell_type": "markdown",
   "metadata": {},
   "source": [
    "Para eso definimos 5 funciones:\n",
    "\n",
    "- __Tipo_DOC__: Se definen dos funciones para determinar el tipo de DNI. Una inicial, y otra para corregir sobre el dataframe resultante.\n",
    "- __Standard DNI__: Estandariza los DNI para 7 de los casos. Esta función debe ejecutarse en primer lugar.\n",
    "- __DNI Spaces__: Elimina los espacios.\n",
    "- __DNI Zero__: Elimina los ceros iniciales de ciertos CUITs para que coincidan con los DNI.\n",
    "- __Cuit__: Decisión sobre dejar un cuit o volverlo DNI"
   ]
  },
  {
   "cell_type": "code",
   "execution_count": 43,
   "metadata": {},
   "outputs": [],
   "source": [
    "def tipo_doc_1 (string_dni):\n",
    "    \n",
    "    if 'DNI' in string_dni:\n",
    "        tipo = 'DNI'\n",
    "    \n",
    "    elif 'LC' in string_dni:\n",
    "        tipo = 'LC'\n",
    "    \n",
    "    elif 'LE' in string_dni:\n",
    "        tipo = 'LE'\n",
    "    \n",
    "    elif 'DNIE' in string_dni:\n",
    "        tipo = 'DNIE'    \n",
    "    \n",
    "    elif ((string_dni.startswith(('CUIT30','CUIT33','CUIT34'))) & (len(string_dni)>8)):\n",
    "        tipo = 'CUIT'\n",
    "        \n",
    "    elif ((string_dni.startswith(('30','33','34'))) & (len(string_dni)>8)):\n",
    "        tipo = 'CUIT'\n",
    "\n",
    "    elif ((string_dni.startswith(('20','23','24','27'))) & (len(string_dni)>8)):\n",
    "        tipo = 'DNI'\n",
    "\n",
    "    elif ((string_dni.startswith(('CUIT20','CUIT23','CUIT24','CUIT27'))) & (len(string_dni)>8)):\n",
    "        tipo = 'DNI'\n",
    "        \n",
    "    else:\n",
    "        tipo = 'DNI'\n",
    "    \n",
    "    return tipo"
   ]
  },
  {
   "cell_type": "code",
   "execution_count": 44,
   "metadata": {},
   "outputs": [],
   "source": [
    "def tipo_doc_2 (string_dni, tipo_original):\n",
    "    \n",
    "    if (len(string_dni) > 8) & (tipo_original == 'DNI'):\n",
    "        tipo = 'CUIT'\n",
    "    else:\n",
    "        tipo = tipo_original\n",
    "    return tipo"
   ]
  },
  {
   "cell_type": "code",
   "execution_count": 45,
   "metadata": {},
   "outputs": [],
   "source": [
    "def standard_dni (string_dni):\n",
    "    \"\"\"DNI separation by each case.\n",
    "    \"\"\"\n",
    "    \n",
    "    if 'DNI ' in string_dni:\n",
    "        dni = string_dni.split('DNI ')[1]\n",
    "        \n",
    "    elif 'DNIE' in string_dni:\n",
    "        dni = string_dni.split('DNIE')[1]\n",
    "    \n",
    "    elif 'DNI' in string_dni:\n",
    "        dni = string_dni.split('DNI')[1]\n",
    "    \n",
    "    elif 'LC  ' in string_dni:\n",
    "        dni = string_dni.split('LC  ')[1]\n",
    "    \n",
    "    elif 'LE  ' in string_dni:\n",
    "        dni = string_dni.split('LE  ')[1]\n",
    "    \n",
    "    elif 'CUIT' in string_dni:\n",
    "        dni = string_dni.split('CUIT')[1]\n",
    "        \n",
    "    else:\n",
    "        dni = string_dni\n",
    "        \n",
    "    return dni"
   ]
  },
  {
   "cell_type": "code",
   "execution_count": 46,
   "metadata": {},
   "outputs": [],
   "source": [
    "def dni_characters (string_dni):\n",
    "    \n",
    "    if ' ' in string_dni:\n",
    "        dni = string_dni.replace(' ','')\n",
    "        \n",
    "    elif '-' in string_dni:\n",
    "        dni = string_dni.replace('-','')\n",
    "\n",
    "    else:\n",
    "        dni = string_dni\n",
    "    \n",
    "    return dni"
   ]
  },
  {
   "cell_type": "code",
   "execution_count": 47,
   "metadata": {},
   "outputs": [],
   "source": [
    "def cuit (string_dni):\n",
    "    \n",
    "    if ((string_dni.startswith('20')) & (len(string_dni)>8)):\n",
    "        cuit = string_dni [2:-1]\n",
    "        \n",
    "    elif ((string_dni.startswith('23')) & (len(string_dni)>8)):\n",
    "        cuit = string_dni [2:-1]\n",
    "        \n",
    "    elif ((string_dni.startswith('24')) & (len(string_dni)>8)):\n",
    "        cuit = string_dni [2:-1]\n",
    "\n",
    "    elif ((string_dni.startswith('27')) & (len(string_dni)>8)):\n",
    "        cuit = string_dni [2:-1]\n",
    "\n",
    "    else:\n",
    "        cuit = string_dni\n",
    "        \n",
    "    return cuit"
   ]
  },
  {
   "cell_type": "code",
   "execution_count": 48,
   "metadata": {},
   "outputs": [],
   "source": [
    "def dni_zero (string_dni):\n",
    "    \n",
    "    if string_dni.startswith('0'):\n",
    "        dni = string_dni [1:]\n",
    "\n",
    "    else:\n",
    "        dni = string_dni\n",
    "    \n",
    "    return dni"
   ]
  },
  {
   "cell_type": "markdown",
   "metadata": {},
   "source": [
    "En primer lugar, trimmeamos los espacios que sobran:"
   ]
  },
  {
   "cell_type": "code",
   "execution_count": 49,
   "metadata": {},
   "outputs": [],
   "source": [
    "df_pyp['NRO_DOC'] = [(str(df_pyp['NRO_DOC'][i]).strip()) for i in range (df_pyp['NRO_DOC'].count())]"
   ]
  },
  {
   "cell_type": "markdown",
   "metadata": {},
   "source": [
    "Se implementan estas funciones:"
   ]
  },
  {
   "cell_type": "markdown",
   "metadata": {},
   "source": [
    "Para determinar el __TIPO DE DOCUMENTO__ en primer lugar:"
   ]
  },
  {
   "cell_type": "code",
   "execution_count": 50,
   "metadata": {},
   "outputs": [],
   "source": [
    "df_pyp['TIPO_DOC'] = [tipo_doc_1(df_pyp['NRO_DOC'][i]) for i in range (df_pyp['NRO_DOC'].count())]"
   ]
  },
  {
   "cell_type": "markdown",
   "metadata": {},
   "source": [
    "Para la limpieza de DNIs:"
   ]
  },
  {
   "cell_type": "code",
   "execution_count": 51,
   "metadata": {},
   "outputs": [],
   "source": [
    "df_pyp['NRO_DOC'] = [standard_dni(df_pyp['NRO_DOC'][i]) for i in range (df_pyp['NRO_DOC'].count())]"
   ]
  },
  {
   "cell_type": "code",
   "execution_count": 52,
   "metadata": {},
   "outputs": [],
   "source": [
    "df_pyp['NRO_DOC'] = [dni_characters(df_pyp['NRO_DOC'][i]) for i in range (df_pyp['NRO_DOC'].count())]"
   ]
  },
  {
   "cell_type": "code",
   "execution_count": 53,
   "metadata": {},
   "outputs": [],
   "source": [
    "df_pyp['NRO_DOC'] = [cuit(df_pyp['NRO_DOC'][i]) for i in range (df_pyp['NRO_DOC'].count())]"
   ]
  },
  {
   "cell_type": "code",
   "execution_count": 54,
   "metadata": {},
   "outputs": [],
   "source": [
    "df_pyp['NRO_DOC'] = [dni_zero(df_pyp['NRO_DOC'][i]) for i in range (df_pyp['NRO_DOC'].count())]"
   ]
  },
  {
   "cell_type": "markdown",
   "metadata": {},
   "source": [
    "Para corregir el __TIPO DE DOCUMENTO__ sobre el dataframe resultante"
   ]
  },
  {
   "cell_type": "code",
   "execution_count": 55,
   "metadata": {},
   "outputs": [],
   "source": [
    "df_pyp['TIPO_DOC'] = [tipo_doc_2(df_pyp['NRO_DOC'][i],df_pyp['TIPO_DOC'][i]) for i in range (df_pyp['NRO_DOC'].count())]"
   ]
  },
  {
   "cell_type": "code",
   "execution_count": 56,
   "metadata": {},
   "outputs": [
    {
     "data": {
      "text/html": [
       "<div>\n",
       "<style scoped>\n",
       "    .dataframe tbody tr th:only-of-type {\n",
       "        vertical-align: middle;\n",
       "    }\n",
       "\n",
       "    .dataframe tbody tr th {\n",
       "        vertical-align: top;\n",
       "    }\n",
       "\n",
       "    .dataframe thead th {\n",
       "        text-align: right;\n",
       "    }\n",
       "</style>\n",
       "<table border=\"1\" class=\"dataframe\">\n",
       "  <thead>\n",
       "    <tr style=\"text-align: right;\">\n",
       "      <th></th>\n",
       "      <th>IDMOROSO</th>\n",
       "      <th>NOMBRE</th>\n",
       "      <th>IDCLIENTE</th>\n",
       "      <th>NRO_DOC</th>\n",
       "      <th>TIPO_DOC</th>\n",
       "    </tr>\n",
       "  </thead>\n",
       "  <tbody>\n",
       "    <tr>\n",
       "      <th>0</th>\n",
       "      <td>DNI 10039621</td>\n",
       "      <td>ANA MARIA,CANO</td>\n",
       "      <td>BSR_TARDIA</td>\n",
       "      <td>10039621</td>\n",
       "      <td>DNI</td>\n",
       "    </tr>\n",
       "    <tr>\n",
       "      <th>1</th>\n",
       "      <td>DNI 10197951</td>\n",
       "      <td>BERNARDO,CHAUQUE</td>\n",
       "      <td>BSR_TARDIA</td>\n",
       "      <td>10197951</td>\n",
       "      <td>DNI</td>\n",
       "    </tr>\n",
       "    <tr>\n",
       "      <th>2</th>\n",
       "      <td>DNI 10248810</td>\n",
       "      <td>CIRO EMIR,BIANCHIMANI</td>\n",
       "      <td>BSR_TARDIA</td>\n",
       "      <td>10248810</td>\n",
       "      <td>DNI</td>\n",
       "    </tr>\n",
       "    <tr>\n",
       "      <th>3</th>\n",
       "      <td>DNI 10270696</td>\n",
       "      <td>CARLOS OSCARBELMONTE</td>\n",
       "      <td>BSR_TARDIA</td>\n",
       "      <td>10270696</td>\n",
       "      <td>DNI</td>\n",
       "    </tr>\n",
       "    <tr>\n",
       "      <th>4</th>\n",
       "      <td>DNI 10363397</td>\n",
       "      <td>CALDAS ROSA HAYDEE</td>\n",
       "      <td>BSR_TARDIA</td>\n",
       "      <td>10363397</td>\n",
       "      <td>DNI</td>\n",
       "    </tr>\n",
       "  </tbody>\n",
       "</table>\n",
       "</div>"
      ],
      "text/plain": [
       "             IDMOROSO                                    NOMBRE   IDCLIENTE  \\\n",
       "0  DNI 10039621        ANA MARIA,CANO                            BSR_TARDIA   \n",
       "1  DNI 10197951        BERNARDO,CHAUQUE                          BSR_TARDIA   \n",
       "2  DNI 10248810        CIRO EMIR,BIANCHIMANI                     BSR_TARDIA   \n",
       "3  DNI 10270696        CARLOS OSCARBELMONTE                      BSR_TARDIA   \n",
       "4  DNI 10363397        CALDAS ROSA HAYDEE                        BSR_TARDIA   \n",
       "\n",
       "    NRO_DOC TIPO_DOC  \n",
       "0  10039621      DNI  \n",
       "1  10197951      DNI  \n",
       "2  10248810      DNI  \n",
       "3  10270696      DNI  \n",
       "4  10363397      DNI  "
      ]
     },
     "execution_count": 56,
     "metadata": {},
     "output_type": "execute_result"
    }
   ],
   "source": [
    "df_pyp.head()"
   ]
  },
  {
   "cell_type": "markdown",
   "metadata": {},
   "source": [
    "# 9) Union de Dataframes"
   ]
  },
  {
   "cell_type": "markdown",
   "metadata": {},
   "source": [
    "Se unen ambos dataframes en la columna NRO_DOC"
   ]
  },
  {
   "cell_type": "markdown",
   "metadata": {},
   "source": [
    "Convertimos la columna NRO_DOC de objeto a INT para hacer la unión"
   ]
  },
  {
   "cell_type": "code",
   "execution_count": 57,
   "metadata": {},
   "outputs": [],
   "source": [
    "df_clean = df_clean.astype({'NRO_DOC': 'str'})"
   ]
  },
  {
   "cell_type": "code",
   "execution_count": 58,
   "metadata": {},
   "outputs": [],
   "source": [
    "df_union = pd.merge(df_clean,df_pyp, on='NRO_DOC', how='inner')"
   ]
  },
  {
   "cell_type": "code",
   "execution_count": 59,
   "metadata": {},
   "outputs": [
    {
     "data": {
      "text/plain": [
       "(466, 16)"
      ]
     },
     "execution_count": 59,
     "metadata": {},
     "output_type": "execute_result"
    }
   ],
   "source": [
    "df_union.shape"
   ]
  },
  {
   "cell_type": "code",
   "execution_count": 60,
   "metadata": {
    "scrolled": true
   },
   "outputs": [
    {
     "data": {
      "text/html": [
       "<div>\n",
       "<style scoped>\n",
       "    .dataframe tbody tr th:only-of-type {\n",
       "        vertical-align: middle;\n",
       "    }\n",
       "\n",
       "    .dataframe tbody tr th {\n",
       "        vertical-align: top;\n",
       "    }\n",
       "\n",
       "    .dataframe thead th {\n",
       "        text-align: right;\n",
       "    }\n",
       "</style>\n",
       "<table border=\"1\" class=\"dataframe\">\n",
       "  <thead>\n",
       "    <tr style=\"text-align: right;\">\n",
       "      <th></th>\n",
       "      <th>CUIT_CUIL</th>\n",
       "      <th>NRO_DOC</th>\n",
       "      <th>Titular</th>\n",
       "      <th>PATENTE</th>\n",
       "      <th>ANO</th>\n",
       "      <th>FECHA_DE_COMPRA</th>\n",
       "      <th>MARCA</th>\n",
       "      <th>MODELO</th>\n",
       "      <th>FABRICANTE</th>\n",
       "      <th>PROVEEDOR_DATO</th>\n",
       "      <th>PORCENTAJE</th>\n",
       "      <th>FECHA_INGRESO</th>\n",
       "      <th>IDMOROSO</th>\n",
       "      <th>NOMBRE</th>\n",
       "      <th>IDCLIENTE</th>\n",
       "      <th>TIPO_DOC</th>\n",
       "    </tr>\n",
       "  </thead>\n",
       "  <tbody>\n",
       "    <tr>\n",
       "      <th>0</th>\n",
       "      <td>20359239530</td>\n",
       "      <td>35923953</td>\n",
       "      <td>BUSTOS CLEVERS CARLOS OCTAVIO</td>\n",
       "      <td>JUQ012</td>\n",
       "      <td>40624</td>\n",
       "      <td>43410</td>\n",
       "      <td>PEUGEOT</td>\n",
       "      <td>207 COMPACT XS 1 4</td>\n",
       "      <td>PEUGEOT 207 COMPACT XS 1 4</td>\n",
       "      <td>P2</td>\n",
       "      <td>100</td>\n",
       "      <td>2021-02-24 12:54:16.344810</td>\n",
       "      <td>DNI 35923953</td>\n",
       "      <td>CARLOS,BUSTOS CLEVERS</td>\n",
       "      <td>BSR_TARDIA</td>\n",
       "      <td>DNI</td>\n",
       "    </tr>\n",
       "    <tr>\n",
       "      <th>1</th>\n",
       "      <td>20277192293</td>\n",
       "      <td>27719229</td>\n",
       "      <td>BENITEZ CRISTIAN GABRIEL</td>\n",
       "      <td>FFO891</td>\n",
       "      <td>38652</td>\n",
       "      <td>42474</td>\n",
       "      <td>HYUNDAI</td>\n",
       "      <td>ELANTRA 2 0 GLS</td>\n",
       "      <td>HYUNDAI ELANTRA 2 0 GLS</td>\n",
       "      <td>P2</td>\n",
       "      <td>100</td>\n",
       "      <td>2021-02-24 12:54:16.344810</td>\n",
       "      <td>DNI 27719229</td>\n",
       "      <td>CRISTIAN GABRIEL,BENITEZ</td>\n",
       "      <td>BSR_TARDIA</td>\n",
       "      <td>DNI</td>\n",
       "    </tr>\n",
       "    <tr>\n",
       "      <th>2</th>\n",
       "      <td>23222757339</td>\n",
       "      <td>22275733</td>\n",
       "      <td>BONOMETTI CESAR ADRIAN</td>\n",
       "      <td>JUY799</td>\n",
       "      <td>40637</td>\n",
       "      <td>43196</td>\n",
       "      <td>VOLKSWAGEN</td>\n",
       "      <td>TIGUAN 2 0 TSI 4 MOTION</td>\n",
       "      <td>VOLKSWAGEN TIGUAN 2 0 TSI 4 MOTION</td>\n",
       "      <td>P2</td>\n",
       "      <td>100</td>\n",
       "      <td>2021-02-24 12:54:16.344810</td>\n",
       "      <td>DNI 22275733</td>\n",
       "      <td>BONOMETTI CESAR ADRIAN</td>\n",
       "      <td>BSR_TARDIA</td>\n",
       "      <td>DNI</td>\n",
       "    </tr>\n",
       "    <tr>\n",
       "      <th>3</th>\n",
       "      <td>27176578926</td>\n",
       "      <td>17657892</td>\n",
       "      <td>REBOLLIDO MARCELA ALEJANDRA</td>\n",
       "      <td>KYV415</td>\n",
       "      <td>40973</td>\n",
       "      <td>40973</td>\n",
       "      <td>FORD</td>\n",
       "      <td>ECOSPORT 1 6 L 4X2 XLS</td>\n",
       "      <td>FORD ECOSPORT 1 6 L 4X2 XLS</td>\n",
       "      <td>P2</td>\n",
       "      <td>100</td>\n",
       "      <td>2021-02-24 12:54:16.344810</td>\n",
       "      <td>DNI 17657892</td>\n",
       "      <td>MARCELA ALEJANDRA,REBOLLIDO</td>\n",
       "      <td>BSR_TARDIA</td>\n",
       "      <td>DNI</td>\n",
       "    </tr>\n",
       "    <tr>\n",
       "      <th>4</th>\n",
       "      <td>20923312006</td>\n",
       "      <td>92331200</td>\n",
       "      <td>CASTRO PENAYO ANGEL EULALIO</td>\n",
       "      <td>SFI305</td>\n",
       "      <td>34040</td>\n",
       "      <td>40675</td>\n",
       "      <td>MITSUBISHI</td>\n",
       "      <td>LANCER 1500 GLX</td>\n",
       "      <td>MITSUBISHI LANCER 1500 GLX</td>\n",
       "      <td>P2</td>\n",
       "      <td>100</td>\n",
       "      <td>2021-02-24 12:54:16.344810</td>\n",
       "      <td>DNIE92331200</td>\n",
       "      <td>ANGEL EULALIO,CASTRO PENAYO</td>\n",
       "      <td>BSR_TARDIA</td>\n",
       "      <td>DNI</td>\n",
       "    </tr>\n",
       "  </tbody>\n",
       "</table>\n",
       "</div>"
      ],
      "text/plain": [
       "     CUIT_CUIL   NRO_DOC                        Titular PATENTE    ANO  \\\n",
       "0  20359239530  35923953  BUSTOS CLEVERS CARLOS OCTAVIO  JUQ012  40624   \n",
       "1  20277192293  27719229       BENITEZ CRISTIAN GABRIEL  FFO891  38652   \n",
       "2  23222757339  22275733         BONOMETTI CESAR ADRIAN  JUY799  40637   \n",
       "3  27176578926  17657892    REBOLLIDO MARCELA ALEJANDRA  KYV415  40973   \n",
       "4  20923312006  92331200    CASTRO PENAYO ANGEL EULALIO  SFI305  34040   \n",
       "\n",
       "  FECHA_DE_COMPRA       MARCA                   MODELO  \\\n",
       "0           43410     PEUGEOT       207 COMPACT XS 1 4   \n",
       "1           42474     HYUNDAI          ELANTRA 2 0 GLS   \n",
       "2           43196  VOLKSWAGEN  TIGUAN 2 0 TSI 4 MOTION   \n",
       "3           40973        FORD   ECOSPORT 1 6 L 4X2 XLS   \n",
       "4           40675  MITSUBISHI          LANCER 1500 GLX   \n",
       "\n",
       "                           FABRICANTE PROVEEDOR_DATO  PORCENTAJE  \\\n",
       "0          PEUGEOT 207 COMPACT XS 1 4             P2         100   \n",
       "1             HYUNDAI ELANTRA 2 0 GLS             P2         100   \n",
       "2  VOLKSWAGEN TIGUAN 2 0 TSI 4 MOTION             P2         100   \n",
       "3         FORD ECOSPORT 1 6 L 4X2 XLS             P2         100   \n",
       "4          MITSUBISHI LANCER 1500 GLX             P2         100   \n",
       "\n",
       "               FECHA_INGRESO            IDMOROSO  \\\n",
       "0 2021-02-24 12:54:16.344810  DNI 35923953         \n",
       "1 2021-02-24 12:54:16.344810  DNI 27719229         \n",
       "2 2021-02-24 12:54:16.344810  DNI 22275733         \n",
       "3 2021-02-24 12:54:16.344810  DNI 17657892         \n",
       "4 2021-02-24 12:54:16.344810  DNIE92331200         \n",
       "\n",
       "                                     NOMBRE   IDCLIENTE TIPO_DOC  \n",
       "0  CARLOS,BUSTOS CLEVERS                     BSR_TARDIA      DNI  \n",
       "1  CRISTIAN GABRIEL,BENITEZ                  BSR_TARDIA      DNI  \n",
       "2  BONOMETTI CESAR ADRIAN                    BSR_TARDIA      DNI  \n",
       "3  MARCELA ALEJANDRA,REBOLLIDO               BSR_TARDIA      DNI  \n",
       "4  ANGEL EULALIO,CASTRO PENAYO               BSR_TARDIA      DNI  "
      ]
     },
     "execution_count": 60,
     "metadata": {},
     "output_type": "execute_result"
    }
   ],
   "source": [
    "df_union.head()"
   ]
  },
  {
   "cell_type": "markdown",
   "metadata": {},
   "source": [
    "# 10) Export"
   ]
  },
  {
   "cell_type": "markdown",
   "metadata": {},
   "source": [
    "Renombramos, dropeamos y reordenamos las columnas"
   ]
  },
  {
   "cell_type": "code",
   "execution_count": 61,
   "metadata": {},
   "outputs": [],
   "source": [
    "df_union = df_union.rename(columns = {'PROVEEDOR_DATO':'PROVEEDOR'})"
   ]
  },
  {
   "cell_type": "markdown",
   "metadata": {},
   "source": [
    "Dropeamos columnas que no nos sirven"
   ]
  },
  {
   "cell_type": "code",
   "execution_count": 62,
   "metadata": {},
   "outputs": [],
   "source": [
    "#df_export = df_union.drop(columns=['IDCLIENTE','Titular','ESTADO','NOMBRE','MARCA','MODELO','CUIT_CUIL','NRO_DOC','TIPO_DOC'], axis=0)"
   ]
  },
  {
   "cell_type": "code",
   "execution_count": 63,
   "metadata": {},
   "outputs": [],
   "source": [
    "df_export = df_union[['IDMOROSO','PATENTE','ANO','FABRICANTE','PORCENTAJE','FECHA_INGRESO','PROVEEDOR','FECHA_DE_COMPRA']]"
   ]
  },
  {
   "cell_type": "code",
   "execution_count": 64,
   "metadata": {},
   "outputs": [
    {
     "name": "stderr",
     "output_type": "stream",
     "text": [
      "/home/dleg/.pyenv/versions/3.8.6/envs/lewagon/lib/python3.8/site-packages/pandas/core/indexing.py:1720: SettingWithCopyWarning: \n",
      "A value is trying to be set on a copy of a slice from a DataFrame.\n",
      "Try using .loc[row_indexer,col_indexer] = value instead\n",
      "\n",
      "See the caveats in the documentation: https://pandas.pydata.org/pandas-docs/stable/user_guide/indexing.html#returning-a-view-versus-a-copy\n",
      "  self._setitem_single_column(loc, value, pi)\n"
     ]
    }
   ],
   "source": [
    "df_export.loc[df_export['FECHA_DE_COMPRA'] == '  -   -','FECHA_DE_COMPRA'] = np.nan"
   ]
  },
  {
   "cell_type": "code",
   "execution_count": 65,
   "metadata": {},
   "outputs": [],
   "source": [
    "df_export.loc[df_export['ANO'] == '  -   -','ANO'] = np.nan"
   ]
  },
  {
   "cell_type": "code",
   "execution_count": 66,
   "metadata": {},
   "outputs": [],
   "source": [
    "m = df_export['FECHA_DE_COMPRA'].astype(str).str.isdigit()"
   ]
  },
  {
   "cell_type": "code",
   "execution_count": 67,
   "metadata": {},
   "outputs": [],
   "source": [
    "n = df_export['ANO'].astype(str).str.isdigit()"
   ]
  },
  {
   "cell_type": "code",
   "execution_count": 68,
   "metadata": {},
   "outputs": [],
   "source": [
    "from datetime import datetime, timedelta\n",
    "\n",
    "def from_excel_ordinal(ordinal, _epoch0=datetime(1899, 12, 31)):\n",
    "    if ordinal >= 60:\n",
    "        ordinal -= 1  # Excel leap year bug, 1900 is not a leap year!\n",
    "    return (_epoch0 + timedelta(days=ordinal)).replace(microsecond=0)"
   ]
  },
  {
   "cell_type": "code",
   "execution_count": 69,
   "metadata": {
    "scrolled": true
   },
   "outputs": [
    {
     "name": "stderr",
     "output_type": "stream",
     "text": [
      "/home/dleg/.pyenv/versions/3.8.6/envs/lewagon/lib/python3.8/site-packages/pandas/core/indexing.py:1676: SettingWithCopyWarning: \n",
      "A value is trying to be set on a copy of a slice from a DataFrame.\n",
      "Try using .loc[row_indexer,col_indexer] = value instead\n",
      "\n",
      "See the caveats in the documentation: https://pandas.pydata.org/pandas-docs/stable/user_guide/indexing.html#returning-a-view-versus-a-copy\n",
      "  self._setitem_single_column(ilocs[0], value, pi)\n"
     ]
    }
   ],
   "source": [
    "df_export.loc[m, 'FECHA_DE_COMPRA'] = df_export.loc[m, 'FECHA_DE_COMPRA'].astype(int).apply(from_excel_ordinal)"
   ]
  },
  {
   "cell_type": "code",
   "execution_count": 70,
   "metadata": {},
   "outputs": [],
   "source": [
    "df_export.loc[n, 'ANO'] = df_export.loc[n, 'ANO'].astype(int).apply(from_excel_ordinal)"
   ]
  },
  {
   "cell_type": "code",
   "execution_count": 71,
   "metadata": {},
   "outputs": [
    {
     "data": {
      "text/html": [
       "<div>\n",
       "<style scoped>\n",
       "    .dataframe tbody tr th:only-of-type {\n",
       "        vertical-align: middle;\n",
       "    }\n",
       "\n",
       "    .dataframe tbody tr th {\n",
       "        vertical-align: top;\n",
       "    }\n",
       "\n",
       "    .dataframe thead th {\n",
       "        text-align: right;\n",
       "    }\n",
       "</style>\n",
       "<table border=\"1\" class=\"dataframe\">\n",
       "  <thead>\n",
       "    <tr style=\"text-align: right;\">\n",
       "      <th></th>\n",
       "      <th>IDMOROSO</th>\n",
       "      <th>PATENTE</th>\n",
       "      <th>ANO</th>\n",
       "      <th>FABRICANTE</th>\n",
       "      <th>PORCENTAJE</th>\n",
       "      <th>FECHA_INGRESO</th>\n",
       "      <th>PROVEEDOR</th>\n",
       "      <th>FECHA_DE_COMPRA</th>\n",
       "    </tr>\n",
       "  </thead>\n",
       "  <tbody>\n",
       "    <tr>\n",
       "      <th>0</th>\n",
       "      <td>DNI 35923953</td>\n",
       "      <td>JUQ012</td>\n",
       "      <td>2011-03-22 00:00:00</td>\n",
       "      <td>PEUGEOT 207 COMPACT XS 1 4</td>\n",
       "      <td>100</td>\n",
       "      <td>2021-02-24 12:54:16.344810</td>\n",
       "      <td>P2</td>\n",
       "      <td>2018-11-06 00:00:00</td>\n",
       "    </tr>\n",
       "    <tr>\n",
       "      <th>1</th>\n",
       "      <td>DNI 27719229</td>\n",
       "      <td>FFO891</td>\n",
       "      <td>2005-10-27 00:00:00</td>\n",
       "      <td>HYUNDAI ELANTRA 2 0 GLS</td>\n",
       "      <td>100</td>\n",
       "      <td>2021-02-24 12:54:16.344810</td>\n",
       "      <td>P2</td>\n",
       "      <td>2016-04-14 00:00:00</td>\n",
       "    </tr>\n",
       "    <tr>\n",
       "      <th>2</th>\n",
       "      <td>DNI 22275733</td>\n",
       "      <td>JUY799</td>\n",
       "      <td>2011-04-04 00:00:00</td>\n",
       "      <td>VOLKSWAGEN TIGUAN 2 0 TSI 4 MOTION</td>\n",
       "      <td>100</td>\n",
       "      <td>2021-02-24 12:54:16.344810</td>\n",
       "      <td>P2</td>\n",
       "      <td>2018-04-06 00:00:00</td>\n",
       "    </tr>\n",
       "    <tr>\n",
       "      <th>3</th>\n",
       "      <td>DNI 17657892</td>\n",
       "      <td>KYV415</td>\n",
       "      <td>2012-03-05 00:00:00</td>\n",
       "      <td>FORD ECOSPORT 1 6 L 4X2 XLS</td>\n",
       "      <td>100</td>\n",
       "      <td>2021-02-24 12:54:16.344810</td>\n",
       "      <td>P2</td>\n",
       "      <td>2012-03-05 00:00:00</td>\n",
       "    </tr>\n",
       "    <tr>\n",
       "      <th>4</th>\n",
       "      <td>DNIE92331200</td>\n",
       "      <td>SFI305</td>\n",
       "      <td>1993-03-12 00:00:00</td>\n",
       "      <td>MITSUBISHI LANCER 1500 GLX</td>\n",
       "      <td>100</td>\n",
       "      <td>2021-02-24 12:54:16.344810</td>\n",
       "      <td>P2</td>\n",
       "      <td>2011-05-12 00:00:00</td>\n",
       "    </tr>\n",
       "  </tbody>\n",
       "</table>\n",
       "</div>"
      ],
      "text/plain": [
       "             IDMOROSO PATENTE                  ANO  \\\n",
       "0  DNI 35923953        JUQ012  2011-03-22 00:00:00   \n",
       "1  DNI 27719229        FFO891  2005-10-27 00:00:00   \n",
       "2  DNI 22275733        JUY799  2011-04-04 00:00:00   \n",
       "3  DNI 17657892        KYV415  2012-03-05 00:00:00   \n",
       "4  DNIE92331200        SFI305  1993-03-12 00:00:00   \n",
       "\n",
       "                           FABRICANTE  PORCENTAJE              FECHA_INGRESO  \\\n",
       "0          PEUGEOT 207 COMPACT XS 1 4         100 2021-02-24 12:54:16.344810   \n",
       "1             HYUNDAI ELANTRA 2 0 GLS         100 2021-02-24 12:54:16.344810   \n",
       "2  VOLKSWAGEN TIGUAN 2 0 TSI 4 MOTION         100 2021-02-24 12:54:16.344810   \n",
       "3         FORD ECOSPORT 1 6 L 4X2 XLS         100 2021-02-24 12:54:16.344810   \n",
       "4          MITSUBISHI LANCER 1500 GLX         100 2021-02-24 12:54:16.344810   \n",
       "\n",
       "  PROVEEDOR      FECHA_DE_COMPRA  \n",
       "0        P2  2018-11-06 00:00:00  \n",
       "1        P2  2016-04-14 00:00:00  \n",
       "2        P2  2018-04-06 00:00:00  \n",
       "3        P2  2012-03-05 00:00:00  \n",
       "4        P2  2011-05-12 00:00:00  "
      ]
     },
     "execution_count": 71,
     "metadata": {},
     "output_type": "execute_result"
    }
   ],
   "source": [
    "df_export.head()"
   ]
  },
  {
   "cell_type": "code",
   "execution_count": 72,
   "metadata": {},
   "outputs": [
    {
     "data": {
      "text/plain": [
       "(466, 8)"
      ]
     },
     "execution_count": 72,
     "metadata": {},
     "output_type": "execute_result"
    }
   ],
   "source": [
    "df_export.shape"
   ]
  },
  {
   "cell_type": "code",
   "execution_count": 73,
   "metadata": {},
   "outputs": [
    {
     "name": "stderr",
     "output_type": "stream",
     "text": [
      "<ipython-input-73-b45448763e53>:1: SettingWithCopyWarning: \n",
      "A value is trying to be set on a copy of a slice from a DataFrame.\n",
      "Try using .loc[row_indexer,col_indexer] = value instead\n",
      "\n",
      "See the caveats in the documentation: https://pandas.pydata.org/pandas-docs/stable/user_guide/indexing.html#returning-a-view-versus-a-copy\n",
      "  df_export ['FECHA_INGRESO'] = pd.to_datetime(df_export['FECHA_INGRESO'])\n"
     ]
    }
   ],
   "source": [
    "df_export ['FECHA_INGRESO'] = pd.to_datetime(df_export['FECHA_INGRESO'])"
   ]
  },
  {
   "cell_type": "code",
   "execution_count": 74,
   "metadata": {},
   "outputs": [
    {
     "name": "stderr",
     "output_type": "stream",
     "text": [
      "<ipython-input-74-cff992b9c024>:1: SettingWithCopyWarning: \n",
      "A value is trying to be set on a copy of a slice from a DataFrame.\n",
      "Try using .loc[row_indexer,col_indexer] = value instead\n",
      "\n",
      "See the caveats in the documentation: https://pandas.pydata.org/pandas-docs/stable/user_guide/indexing.html#returning-a-view-versus-a-copy\n",
      "  df_export ['FECHA_DE_COMPRA'] = pd.to_datetime(df_export['FECHA_DE_COMPRA'])\n"
     ]
    }
   ],
   "source": [
    "df_export ['FECHA_DE_COMPRA'] = pd.to_datetime(df_export['FECHA_DE_COMPRA'])"
   ]
  },
  {
   "cell_type": "code",
   "execution_count": 75,
   "metadata": {
    "scrolled": true
   },
   "outputs": [
    {
     "data": {
      "text/html": [
       "<div>\n",
       "<style scoped>\n",
       "    .dataframe tbody tr th:only-of-type {\n",
       "        vertical-align: middle;\n",
       "    }\n",
       "\n",
       "    .dataframe tbody tr th {\n",
       "        vertical-align: top;\n",
       "    }\n",
       "\n",
       "    .dataframe thead th {\n",
       "        text-align: right;\n",
       "    }\n",
       "</style>\n",
       "<table border=\"1\" class=\"dataframe\">\n",
       "  <thead>\n",
       "    <tr style=\"text-align: right;\">\n",
       "      <th></th>\n",
       "      <th>IDMOROSO</th>\n",
       "      <th>PATENTE</th>\n",
       "      <th>ANO</th>\n",
       "      <th>FABRICANTE</th>\n",
       "      <th>PORCENTAJE</th>\n",
       "      <th>FECHA_INGRESO</th>\n",
       "      <th>PROVEEDOR</th>\n",
       "      <th>FECHA_DE_COMPRA</th>\n",
       "    </tr>\n",
       "  </thead>\n",
       "  <tbody>\n",
       "    <tr>\n",
       "      <th>0</th>\n",
       "      <td>DNI 35923953</td>\n",
       "      <td>JUQ012</td>\n",
       "      <td>2011-03-22 00:00:00</td>\n",
       "      <td>PEUGEOT 207 COMPACT XS 1 4</td>\n",
       "      <td>100</td>\n",
       "      <td>2021-02-24 12:54:16.344810</td>\n",
       "      <td>P2</td>\n",
       "      <td>2018-11-06</td>\n",
       "    </tr>\n",
       "    <tr>\n",
       "      <th>1</th>\n",
       "      <td>DNI 27719229</td>\n",
       "      <td>FFO891</td>\n",
       "      <td>2005-10-27 00:00:00</td>\n",
       "      <td>HYUNDAI ELANTRA 2 0 GLS</td>\n",
       "      <td>100</td>\n",
       "      <td>2021-02-24 12:54:16.344810</td>\n",
       "      <td>P2</td>\n",
       "      <td>2016-04-14</td>\n",
       "    </tr>\n",
       "    <tr>\n",
       "      <th>2</th>\n",
       "      <td>DNI 22275733</td>\n",
       "      <td>JUY799</td>\n",
       "      <td>2011-04-04 00:00:00</td>\n",
       "      <td>VOLKSWAGEN TIGUAN 2 0 TSI 4 MOTION</td>\n",
       "      <td>100</td>\n",
       "      <td>2021-02-24 12:54:16.344810</td>\n",
       "      <td>P2</td>\n",
       "      <td>2018-04-06</td>\n",
       "    </tr>\n",
       "    <tr>\n",
       "      <th>3</th>\n",
       "      <td>DNI 17657892</td>\n",
       "      <td>KYV415</td>\n",
       "      <td>2012-03-05 00:00:00</td>\n",
       "      <td>FORD ECOSPORT 1 6 L 4X2 XLS</td>\n",
       "      <td>100</td>\n",
       "      <td>2021-02-24 12:54:16.344810</td>\n",
       "      <td>P2</td>\n",
       "      <td>2012-03-05</td>\n",
       "    </tr>\n",
       "    <tr>\n",
       "      <th>4</th>\n",
       "      <td>DNIE92331200</td>\n",
       "      <td>SFI305</td>\n",
       "      <td>1993-03-12 00:00:00</td>\n",
       "      <td>MITSUBISHI LANCER 1500 GLX</td>\n",
       "      <td>100</td>\n",
       "      <td>2021-02-24 12:54:16.344810</td>\n",
       "      <td>P2</td>\n",
       "      <td>2011-05-12</td>\n",
       "    </tr>\n",
       "  </tbody>\n",
       "</table>\n",
       "</div>"
      ],
      "text/plain": [
       "             IDMOROSO PATENTE                  ANO  \\\n",
       "0  DNI 35923953        JUQ012  2011-03-22 00:00:00   \n",
       "1  DNI 27719229        FFO891  2005-10-27 00:00:00   \n",
       "2  DNI 22275733        JUY799  2011-04-04 00:00:00   \n",
       "3  DNI 17657892        KYV415  2012-03-05 00:00:00   \n",
       "4  DNIE92331200        SFI305  1993-03-12 00:00:00   \n",
       "\n",
       "                           FABRICANTE  PORCENTAJE              FECHA_INGRESO  \\\n",
       "0          PEUGEOT 207 COMPACT XS 1 4         100 2021-02-24 12:54:16.344810   \n",
       "1             HYUNDAI ELANTRA 2 0 GLS         100 2021-02-24 12:54:16.344810   \n",
       "2  VOLKSWAGEN TIGUAN 2 0 TSI 4 MOTION         100 2021-02-24 12:54:16.344810   \n",
       "3         FORD ECOSPORT 1 6 L 4X2 XLS         100 2021-02-24 12:54:16.344810   \n",
       "4          MITSUBISHI LANCER 1500 GLX         100 2021-02-24 12:54:16.344810   \n",
       "\n",
       "  PROVEEDOR FECHA_DE_COMPRA  \n",
       "0        P2      2018-11-06  \n",
       "1        P2      2016-04-14  \n",
       "2        P2      2018-04-06  \n",
       "3        P2      2012-03-05  \n",
       "4        P2      2011-05-12  "
      ]
     },
     "execution_count": 75,
     "metadata": {},
     "output_type": "execute_result"
    }
   ],
   "source": [
    "df_export.head()"
   ]
  },
  {
   "cell_type": "code",
   "execution_count": 76,
   "metadata": {
    "scrolled": true
   },
   "outputs": [
    {
     "name": "stderr",
     "output_type": "stream",
     "text": [
      "<ipython-input-76-9f2911c79429>:1: SettingWithCopyWarning: \n",
      "A value is trying to be set on a copy of a slice from a DataFrame.\n",
      "Try using .loc[row_indexer,col_indexer] = value instead\n",
      "\n",
      "See the caveats in the documentation: https://pandas.pydata.org/pandas-docs/stable/user_guide/indexing.html#returning-a-view-versus-a-copy\n",
      "  df_export['ANO'] = pd.DatetimeIndex(df_export['ANO']).year\n"
     ]
    }
   ],
   "source": [
    "df_export['ANO'] = pd.DatetimeIndex(df_export['ANO']).year"
   ]
  },
  {
   "cell_type": "code",
   "execution_count": 77,
   "metadata": {},
   "outputs": [
    {
     "name": "stderr",
     "output_type": "stream",
     "text": [
      "<ipython-input-77-9618756fbbae>:1: SettingWithCopyWarning: \n",
      "A value is trying to be set on a copy of a slice from a DataFrame.\n",
      "Try using .loc[row_indexer,col_indexer] = value instead\n",
      "\n",
      "See the caveats in the documentation: https://pandas.pydata.org/pandas-docs/stable/user_guide/indexing.html#returning-a-view-versus-a-copy\n",
      "  df_export['ANO'] = df_export['ANO'].astype('Int64')\n"
     ]
    }
   ],
   "source": [
    "df_export['ANO'] = df_export['ANO'].astype('Int64')"
   ]
  },
  {
   "cell_type": "code",
   "execution_count": 78,
   "metadata": {},
   "outputs": [],
   "source": [
    "#df_export['ANO'] = df_export['ANO'].astype(int, errors='ignore')"
   ]
  },
  {
   "cell_type": "code",
   "execution_count": 79,
   "metadata": {
    "scrolled": true
   },
   "outputs": [
    {
     "data": {
      "text/html": [
       "<div>\n",
       "<style scoped>\n",
       "    .dataframe tbody tr th:only-of-type {\n",
       "        vertical-align: middle;\n",
       "    }\n",
       "\n",
       "    .dataframe tbody tr th {\n",
       "        vertical-align: top;\n",
       "    }\n",
       "\n",
       "    .dataframe thead th {\n",
       "        text-align: right;\n",
       "    }\n",
       "</style>\n",
       "<table border=\"1\" class=\"dataframe\">\n",
       "  <thead>\n",
       "    <tr style=\"text-align: right;\">\n",
       "      <th></th>\n",
       "      <th>IDMOROSO</th>\n",
       "      <th>PATENTE</th>\n",
       "      <th>ANO</th>\n",
       "      <th>FABRICANTE</th>\n",
       "      <th>PORCENTAJE</th>\n",
       "      <th>FECHA_INGRESO</th>\n",
       "      <th>PROVEEDOR</th>\n",
       "      <th>FECHA_DE_COMPRA</th>\n",
       "    </tr>\n",
       "  </thead>\n",
       "  <tbody>\n",
       "    <tr>\n",
       "      <th>0</th>\n",
       "      <td>DNI 35923953</td>\n",
       "      <td>JUQ012</td>\n",
       "      <td>2011</td>\n",
       "      <td>PEUGEOT 207 COMPACT XS 1 4</td>\n",
       "      <td>100</td>\n",
       "      <td>2021-02-24 12:54:16.344810</td>\n",
       "      <td>P2</td>\n",
       "      <td>2018-11-06</td>\n",
       "    </tr>\n",
       "    <tr>\n",
       "      <th>1</th>\n",
       "      <td>DNI 27719229</td>\n",
       "      <td>FFO891</td>\n",
       "      <td>2005</td>\n",
       "      <td>HYUNDAI ELANTRA 2 0 GLS</td>\n",
       "      <td>100</td>\n",
       "      <td>2021-02-24 12:54:16.344810</td>\n",
       "      <td>P2</td>\n",
       "      <td>2016-04-14</td>\n",
       "    </tr>\n",
       "    <tr>\n",
       "      <th>2</th>\n",
       "      <td>DNI 22275733</td>\n",
       "      <td>JUY799</td>\n",
       "      <td>2011</td>\n",
       "      <td>VOLKSWAGEN TIGUAN 2 0 TSI 4 MOTION</td>\n",
       "      <td>100</td>\n",
       "      <td>2021-02-24 12:54:16.344810</td>\n",
       "      <td>P2</td>\n",
       "      <td>2018-04-06</td>\n",
       "    </tr>\n",
       "    <tr>\n",
       "      <th>3</th>\n",
       "      <td>DNI 17657892</td>\n",
       "      <td>KYV415</td>\n",
       "      <td>2012</td>\n",
       "      <td>FORD ECOSPORT 1 6 L 4X2 XLS</td>\n",
       "      <td>100</td>\n",
       "      <td>2021-02-24 12:54:16.344810</td>\n",
       "      <td>P2</td>\n",
       "      <td>2012-03-05</td>\n",
       "    </tr>\n",
       "    <tr>\n",
       "      <th>4</th>\n",
       "      <td>DNIE92331200</td>\n",
       "      <td>SFI305</td>\n",
       "      <td>1993</td>\n",
       "      <td>MITSUBISHI LANCER 1500 GLX</td>\n",
       "      <td>100</td>\n",
       "      <td>2021-02-24 12:54:16.344810</td>\n",
       "      <td>P2</td>\n",
       "      <td>2011-05-12</td>\n",
       "    </tr>\n",
       "  </tbody>\n",
       "</table>\n",
       "</div>"
      ],
      "text/plain": [
       "             IDMOROSO PATENTE   ANO                          FABRICANTE  \\\n",
       "0  DNI 35923953        JUQ012  2011          PEUGEOT 207 COMPACT XS 1 4   \n",
       "1  DNI 27719229        FFO891  2005             HYUNDAI ELANTRA 2 0 GLS   \n",
       "2  DNI 22275733        JUY799  2011  VOLKSWAGEN TIGUAN 2 0 TSI 4 MOTION   \n",
       "3  DNI 17657892        KYV415  2012         FORD ECOSPORT 1 6 L 4X2 XLS   \n",
       "4  DNIE92331200        SFI305  1993          MITSUBISHI LANCER 1500 GLX   \n",
       "\n",
       "   PORCENTAJE              FECHA_INGRESO PROVEEDOR FECHA_DE_COMPRA  \n",
       "0         100 2021-02-24 12:54:16.344810        P2      2018-11-06  \n",
       "1         100 2021-02-24 12:54:16.344810        P2      2016-04-14  \n",
       "2         100 2021-02-24 12:54:16.344810        P2      2018-04-06  \n",
       "3         100 2021-02-24 12:54:16.344810        P2      2012-03-05  \n",
       "4         100 2021-02-24 12:54:16.344810        P2      2011-05-12  "
      ]
     },
     "execution_count": 79,
     "metadata": {},
     "output_type": "execute_result"
    }
   ],
   "source": [
    "df_export.head()"
   ]
  },
  {
   "cell_type": "code",
   "execution_count": 80,
   "metadata": {},
   "outputs": [
    {
     "data": {
      "text/html": [
       "<div>\n",
       "<style scoped>\n",
       "    .dataframe tbody tr th:only-of-type {\n",
       "        vertical-align: middle;\n",
       "    }\n",
       "\n",
       "    .dataframe tbody tr th {\n",
       "        vertical-align: top;\n",
       "    }\n",
       "\n",
       "    .dataframe thead th {\n",
       "        text-align: right;\n",
       "    }\n",
       "</style>\n",
       "<table border=\"1\" class=\"dataframe\">\n",
       "  <thead>\n",
       "    <tr style=\"text-align: right;\">\n",
       "      <th></th>\n",
       "      <th>IDMOROSO</th>\n",
       "      <th>PATENTE</th>\n",
       "      <th>ANO</th>\n",
       "      <th>FABRICANTE</th>\n",
       "      <th>PORCENTAJE</th>\n",
       "      <th>FECHA_INGRESO</th>\n",
       "      <th>PROVEEDOR</th>\n",
       "      <th>FECHA_DE_COMPRA</th>\n",
       "    </tr>\n",
       "  </thead>\n",
       "  <tbody>\n",
       "    <tr>\n",
       "      <th>0</th>\n",
       "      <td>DNI 35923953</td>\n",
       "      <td>JUQ012</td>\n",
       "      <td>2011</td>\n",
       "      <td>PEUGEOT 207 COMPACT XS 1 4</td>\n",
       "      <td>100</td>\n",
       "      <td>2021-02-24 12:54:16.344810</td>\n",
       "      <td>P2</td>\n",
       "      <td>2018-11-06</td>\n",
       "    </tr>\n",
       "    <tr>\n",
       "      <th>1</th>\n",
       "      <td>DNI 27719229</td>\n",
       "      <td>FFO891</td>\n",
       "      <td>2005</td>\n",
       "      <td>HYUNDAI ELANTRA 2 0 GLS</td>\n",
       "      <td>100</td>\n",
       "      <td>2021-02-24 12:54:16.344810</td>\n",
       "      <td>P2</td>\n",
       "      <td>2016-04-14</td>\n",
       "    </tr>\n",
       "    <tr>\n",
       "      <th>2</th>\n",
       "      <td>DNI 22275733</td>\n",
       "      <td>JUY799</td>\n",
       "      <td>2011</td>\n",
       "      <td>VOLKSWAGEN TIGUAN 2 0 TSI 4 MOTION</td>\n",
       "      <td>100</td>\n",
       "      <td>2021-02-24 12:54:16.344810</td>\n",
       "      <td>P2</td>\n",
       "      <td>2018-04-06</td>\n",
       "    </tr>\n",
       "    <tr>\n",
       "      <th>3</th>\n",
       "      <td>DNI 17657892</td>\n",
       "      <td>KYV415</td>\n",
       "      <td>2012</td>\n",
       "      <td>FORD ECOSPORT 1 6 L 4X2 XLS</td>\n",
       "      <td>100</td>\n",
       "      <td>2021-02-24 12:54:16.344810</td>\n",
       "      <td>P2</td>\n",
       "      <td>2012-03-05</td>\n",
       "    </tr>\n",
       "    <tr>\n",
       "      <th>4</th>\n",
       "      <td>DNIE92331200</td>\n",
       "      <td>SFI305</td>\n",
       "      <td>1993</td>\n",
       "      <td>MITSUBISHI LANCER 1500 GLX</td>\n",
       "      <td>100</td>\n",
       "      <td>2021-02-24 12:54:16.344810</td>\n",
       "      <td>P2</td>\n",
       "      <td>2011-05-12</td>\n",
       "    </tr>\n",
       "  </tbody>\n",
       "</table>\n",
       "</div>"
      ],
      "text/plain": [
       "             IDMOROSO PATENTE   ANO                          FABRICANTE  \\\n",
       "0  DNI 35923953        JUQ012  2011          PEUGEOT 207 COMPACT XS 1 4   \n",
       "1  DNI 27719229        FFO891  2005             HYUNDAI ELANTRA 2 0 GLS   \n",
       "2  DNI 22275733        JUY799  2011  VOLKSWAGEN TIGUAN 2 0 TSI 4 MOTION   \n",
       "3  DNI 17657892        KYV415  2012         FORD ECOSPORT 1 6 L 4X2 XLS   \n",
       "4  DNIE92331200        SFI305  1993          MITSUBISHI LANCER 1500 GLX   \n",
       "\n",
       "   PORCENTAJE              FECHA_INGRESO PROVEEDOR FECHA_DE_COMPRA  \n",
       "0         100 2021-02-24 12:54:16.344810        P2      2018-11-06  \n",
       "1         100 2021-02-24 12:54:16.344810        P2      2016-04-14  \n",
       "2         100 2021-02-24 12:54:16.344810        P2      2018-04-06  \n",
       "3         100 2021-02-24 12:54:16.344810        P2      2012-03-05  \n",
       "4         100 2021-02-24 12:54:16.344810        P2      2011-05-12  "
      ]
     },
     "execution_count": 80,
     "metadata": {},
     "output_type": "execute_result"
    }
   ],
   "source": [
    "df_export.head()"
   ]
  },
  {
   "cell_type": "markdown",
   "metadata": {},
   "source": [
    "## 14.1) Export de dataframe + IDCLIENTE para análisis"
   ]
  },
  {
   "cell_type": "code",
   "execution_count": 81,
   "metadata": {},
   "outputs": [],
   "source": [
    "#df_union.to_excel('D:/MOPC/Enriquecimiento de Datos/Data Cleaning/PyP/Exports/Vehiculos para analisis/PyP_vehiculos_3012.xlsx')\n",
    "#df_union.to_csv('D:/MOPC/Enriquecimiento de Datos/Data Cleaning/PyP/Exports/Vehiculos para analisis/PyP_vehiculos_3012.csv')"
   ]
  },
  {
   "cell_type": "markdown",
   "metadata": {},
   "source": [
    "## 14.2) Insert a tabla DAM_CONTACTABILIDAD:"
   ]
  },
  {
   "cell_type": "code",
   "execution_count": 82,
   "metadata": {},
   "outputs": [],
   "source": [
    "df_export.to_csv('/mnt/c/Users/Dleg/Data/MOPC/MOPC/Enriquecimiento de Datos/Data Cleaning/PyP/Exports/DAM_VEHICULOS/PyP_DAM_VEHICULOS_2402.csv',index=False)"
   ]
  },
  {
   "cell_type": "code",
   "execution_count": null,
   "metadata": {},
   "outputs": [],
   "source": []
  }
 ],
 "metadata": {
  "kernelspec": {
   "display_name": "Python 3",
   "language": "python",
   "name": "python3"
  },
  "language_info": {
   "codemirror_mode": {
    "name": "ipython",
    "version": 3
   },
   "file_extension": ".py",
   "mimetype": "text/x-python",
   "name": "python",
   "nbconvert_exporter": "python",
   "pygments_lexer": "ipython3",
   "version": "3.8.6"
  }
 },
 "nbformat": 4,
 "nbformat_minor": 4
}
