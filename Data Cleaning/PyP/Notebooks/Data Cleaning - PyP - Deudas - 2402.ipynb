{
 "cells": [
  {
   "cell_type": "markdown",
   "metadata": {},
   "source": [
    "# 1) Datasets"
   ]
  },
  {
   "cell_type": "markdown",
   "metadata": {},
   "source": [
    "Vamos a leer el dataset que envía PyP"
   ]
  },
  {
   "cell_type": "code",
   "execution_count": 14,
   "metadata": {},
   "outputs": [],
   "source": [
    "import pandas as pd\n",
    "import numpy as np"
   ]
  },
  {
   "cell_type": "code",
   "execution_count": 15,
   "metadata": {},
   "outputs": [],
   "source": [
    "df = pd.read_excel('/mnt/c/users/Dleg/Data/MOPC/MOPC/Enriquecimiento de Datos/Data Cleaning/PyP/Datasets/Datasets recibidos/MOP - 11022021 -Enriquecido - Copy - Deudas_score.xlsx',skiprows=2, header=[0,1])"
   ]
  },
  {
   "cell_type": "code",
   "execution_count": 16,
   "metadata": {},
   "outputs": [
    {
     "data": {
      "text/html": [
       "<div>\n",
       "<style scoped>\n",
       "    .dataframe tbody tr th:only-of-type {\n",
       "        vertical-align: middle;\n",
       "    }\n",
       "\n",
       "    .dataframe tbody tr th {\n",
       "        vertical-align: top;\n",
       "    }\n",
       "\n",
       "    .dataframe thead tr th {\n",
       "        text-align: left;\n",
       "    }\n",
       "</style>\n",
       "<table border=\"1\" class=\"dataframe\">\n",
       "  <thead>\n",
       "    <tr>\n",
       "      <th></th>\n",
       "      <th>Unnamed: 0_level_0</th>\n",
       "      <th>Unnamed: 1_level_0</th>\n",
       "      <th>Unnamed: 2_level_0</th>\n",
       "      <th>Unnamed: 3_level_0</th>\n",
       "      <th>Unnamed: 4_level_0</th>\n",
       "      <th>Unnamed: 5_level_0</th>\n",
       "      <th>Unnamed: 6_level_0</th>\n",
       "      <th>Unnamed: 7_level_0</th>\n",
       "      <th>Unnamed: 8_level_0</th>\n",
       "      <th>Unnamed: 9_level_0</th>\n",
       "      <th>...</th>\n",
       "      <th colspan=\"7\" halign=\"left\">Contactacion Opcional (Familiar)</th>\n",
       "      <th colspan=\"3\" halign=\"left\">Contactacion Opcional (Vecino)</th>\n",
       "    </tr>\n",
       "    <tr>\n",
       "      <th></th>\n",
       "      <th>Cuil</th>\n",
       "      <th>Dni</th>\n",
       "      <th>Fecha de Nac.</th>\n",
       "      <th>Fecha de Defuncion</th>\n",
       "      <th>Sexo</th>\n",
       "      <th>Titular</th>\n",
       "      <th>Calle</th>\n",
       "      <th>Numero</th>\n",
       "      <th>Piso y Depto</th>\n",
       "      <th>Codigo Postal</th>\n",
       "      <th>...</th>\n",
       "      <th>Tel Fijo 2</th>\n",
       "      <th>Celular 1</th>\n",
       "      <th>Celular 2</th>\n",
       "      <th>Celular 3</th>\n",
       "      <th>Celular 4</th>\n",
       "      <th>Celular 5</th>\n",
       "      <th>Email</th>\n",
       "      <th>Nombre</th>\n",
       "      <th>Telefono</th>\n",
       "      <th>SCORE</th>\n",
       "    </tr>\n",
       "  </thead>\n",
       "  <tbody>\n",
       "    <tr>\n",
       "      <th>0</th>\n",
       "      <td>20140531562</td>\n",
       "      <td>14053156</td>\n",
       "      <td>1959-10-12</td>\n",
       "      <td>NaN</td>\n",
       "      <td>M</td>\n",
       "      <td>CALDERON JUAN DOMINGO</td>\n",
       "      <td>CALLE 8</td>\n",
       "      <td>378</td>\n",
       "      <td>NaN</td>\n",
       "      <td>2555</td>\n",
       "      <td>...</td>\n",
       "      <td>NaN</td>\n",
       "      <td>NaN</td>\n",
       "      <td>NaN</td>\n",
       "      <td>NaN</td>\n",
       "      <td>NaN</td>\n",
       "      <td>NaN</td>\n",
       "      <td>NaN</td>\n",
       "      <td>NaN</td>\n",
       "      <td>NaN</td>\n",
       "      <td>345</td>\n",
       "    </tr>\n",
       "    <tr>\n",
       "      <th>1</th>\n",
       "      <td>27281648867</td>\n",
       "      <td>28164886</td>\n",
       "      <td>1980-09-14</td>\n",
       "      <td>NaN</td>\n",
       "      <td>F</td>\n",
       "      <td>BAEZ CECILIA LUJAN</td>\n",
       "      <td>VILLAGUAY</td>\n",
       "      <td>2130</td>\n",
       "      <td>NaN</td>\n",
       "      <td>1849</td>\n",
       "      <td>...</td>\n",
       "      <td>NaN</td>\n",
       "      <td>NaN</td>\n",
       "      <td>NaN</td>\n",
       "      <td>NaN</td>\n",
       "      <td>NaN</td>\n",
       "      <td>NaN</td>\n",
       "      <td>NaN</td>\n",
       "      <td>LUJAN OLGA Y</td>\n",
       "      <td>1.142688e+09</td>\n",
       "      <td>34</td>\n",
       "    </tr>\n",
       "    <tr>\n",
       "      <th>2</th>\n",
       "      <td>20398295383</td>\n",
       "      <td>39829538</td>\n",
       "      <td>1996-07-25</td>\n",
       "      <td>NaN</td>\n",
       "      <td>M</td>\n",
       "      <td>CARDOZO SANTIAGO EDUARDO</td>\n",
       "      <td>PRES QUINTANA</td>\n",
       "      <td>1723</td>\n",
       "      <td>NaN</td>\n",
       "      <td>1615</td>\n",
       "      <td>...</td>\n",
       "      <td>NaN</td>\n",
       "      <td>NaN</td>\n",
       "      <td>NaN</td>\n",
       "      <td>NaN</td>\n",
       "      <td>NaN</td>\n",
       "      <td>NaN</td>\n",
       "      <td>NaN</td>\n",
       "      <td>NaN</td>\n",
       "      <td>NaN</td>\n",
       "      <td>345</td>\n",
       "    </tr>\n",
       "    <tr>\n",
       "      <th>3</th>\n",
       "      <td>20359239530</td>\n",
       "      <td>35923953</td>\n",
       "      <td>1992-02-12</td>\n",
       "      <td>NaN</td>\n",
       "      <td>M</td>\n",
       "      <td>BUSTOS CLEVERS CARLOS OCTAVIO</td>\n",
       "      <td>CARLOS M ALVEAR NORTE</td>\n",
       "      <td>143</td>\n",
       "      <td>NaN</td>\n",
       "      <td>5400</td>\n",
       "      <td>...</td>\n",
       "      <td>NaN</td>\n",
       "      <td>2.646737e+09</td>\n",
       "      <td>NaN</td>\n",
       "      <td>NaN</td>\n",
       "      <td>NaN</td>\n",
       "      <td>NaN</td>\n",
       "      <td>NaN</td>\n",
       "      <td>NaN</td>\n",
       "      <td>NaN</td>\n",
       "      <td>345</td>\n",
       "    </tr>\n",
       "    <tr>\n",
       "      <th>4</th>\n",
       "      <td>20939121383</td>\n",
       "      <td>93912138</td>\n",
       "      <td>1992-12-11</td>\n",
       "      <td>NaN</td>\n",
       "      <td>M</td>\n",
       "      <td>BENEGA LOPEZ ARNALDO ARIEL</td>\n",
       "      <td>CALLE 22</td>\n",
       "      <td>170</td>\n",
       "      <td>NaN</td>\n",
       "      <td>1743</td>\n",
       "      <td>...</td>\n",
       "      <td>NaN</td>\n",
       "      <td>NaN</td>\n",
       "      <td>NaN</td>\n",
       "      <td>NaN</td>\n",
       "      <td>NaN</td>\n",
       "      <td>NaN</td>\n",
       "      <td>NaN</td>\n",
       "      <td>NaN</td>\n",
       "      <td>NaN</td>\n",
       "      <td>345</td>\n",
       "    </tr>\n",
       "  </tbody>\n",
       "</table>\n",
       "<p>5 rows × 229 columns</p>\n",
       "</div>"
      ],
      "text/plain": [
       "  Unnamed: 0_level_0 Unnamed: 1_level_0 Unnamed: 2_level_0 Unnamed: 3_level_0  \\\n",
       "                Cuil                Dni      Fecha de Nac. Fecha de Defuncion   \n",
       "0        20140531562           14053156         1959-10-12                NaN   \n",
       "1        27281648867           28164886         1980-09-14                NaN   \n",
       "2        20398295383           39829538         1996-07-25                NaN   \n",
       "3        20359239530           35923953         1992-02-12                NaN   \n",
       "4        20939121383           93912138         1992-12-11                NaN   \n",
       "\n",
       "  Unnamed: 4_level_0             Unnamed: 5_level_0     Unnamed: 6_level_0  \\\n",
       "                Sexo                        Titular                  Calle   \n",
       "0                  M          CALDERON JUAN DOMINGO                CALLE 8   \n",
       "1                  F             BAEZ CECILIA LUJAN              VILLAGUAY   \n",
       "2                  M       CARDOZO SANTIAGO EDUARDO          PRES QUINTANA   \n",
       "3                  M  BUSTOS CLEVERS CARLOS OCTAVIO  CARLOS M ALVEAR NORTE   \n",
       "4                  M     BENEGA LOPEZ ARNALDO ARIEL               CALLE 22   \n",
       "\n",
       "  Unnamed: 7_level_0 Unnamed: 8_level_0 Unnamed: 9_level_0  ...  \\\n",
       "              Numero       Piso y Depto      Codigo Postal  ...   \n",
       "0                378                NaN               2555  ...   \n",
       "1               2130                NaN               1849  ...   \n",
       "2               1723                NaN               1615  ...   \n",
       "3                143                NaN               5400  ...   \n",
       "4                170                NaN               1743  ...   \n",
       "\n",
       "  Contactacion Opcional (Familiar)                                    \\\n",
       "                        Tel Fijo 2     Celular 1 Celular 2 Celular 3   \n",
       "0                              NaN           NaN       NaN       NaN   \n",
       "1                              NaN           NaN       NaN       NaN   \n",
       "2                              NaN           NaN       NaN       NaN   \n",
       "3                              NaN  2.646737e+09       NaN       NaN   \n",
       "4                              NaN           NaN       NaN       NaN   \n",
       "\n",
       "                            Contactacion Opcional (Vecino)                      \n",
       "  Celular 4 Celular 5 Email                         Nombre      Telefono SCORE  \n",
       "0       NaN       NaN   NaN                            NaN           NaN   345  \n",
       "1       NaN       NaN   NaN                   LUJAN OLGA Y  1.142688e+09    34  \n",
       "2       NaN       NaN   NaN                            NaN           NaN   345  \n",
       "3       NaN       NaN   NaN                            NaN           NaN   345  \n",
       "4       NaN       NaN   NaN                            NaN           NaN   345  \n",
       "\n",
       "[5 rows x 229 columns]"
      ]
     },
     "execution_count": 16,
     "metadata": {},
     "output_type": "execute_result"
    }
   ],
   "source": [
    "df.head()"
   ]
  },
  {
   "cell_type": "code",
   "execution_count": 17,
   "metadata": {
    "scrolled": true
   },
   "outputs": [
    {
     "data": {
      "text/plain": [
       "(1348, 229)"
      ]
     },
     "execution_count": 17,
     "metadata": {},
     "output_type": "execute_result"
    }
   ],
   "source": [
    "df.shape"
   ]
  },
  {
   "cell_type": "markdown",
   "metadata": {},
   "source": [
    "## 1.2) Data Cleaning: Datasets"
   ]
  },
  {
   "cell_type": "markdown",
   "metadata": {},
   "source": [
    "Vamos a dropear aquellas columnas y filas que no tengan ningún valor (es decir, que sean todos NaNs)"
   ]
  },
  {
   "cell_type": "code",
   "execution_count": 18,
   "metadata": {},
   "outputs": [],
   "source": [
    "df = df.dropna(axis=0, how='all')"
   ]
  },
  {
   "cell_type": "code",
   "execution_count": 19,
   "metadata": {},
   "outputs": [],
   "source": [
    "#df = df.dropna(axis=1, how='all')"
   ]
  },
  {
   "cell_type": "code",
   "execution_count": 20,
   "metadata": {},
   "outputs": [
    {
     "data": {
      "text/plain": [
       "(1348, 229)"
      ]
     },
     "execution_count": 20,
     "metadata": {},
     "output_type": "execute_result"
    }
   ],
   "source": [
    "df.shape"
   ]
  },
  {
   "cell_type": "markdown",
   "metadata": {},
   "source": [
    "Ahora todas las columnas tienen al menos 1 dato."
   ]
  },
  {
   "cell_type": "markdown",
   "metadata": {},
   "source": [
    "# 2) Deudas"
   ]
  },
  {
   "cell_type": "markdown",
   "metadata": {},
   "source": [
    "Vamos a obtener las deudas de las columnas donde pueden aparecer, que son:\n",
    "\n",
    "Dentro de Comportamiento en Banco Central del Titular:\n",
    "\n",
    "- Cant. Sit 1,2,3,4 y 5.\n",
    "- Entidad 1,2,3 y 4.\n",
    "- Deuda 1,2,3 y 4."
   ]
  },
  {
   "cell_type": "code",
   "execution_count": 21,
   "metadata": {},
   "outputs": [],
   "source": [
    "#df.to_excel('columns_dataset_copia.xlsx')"
   ]
  },
  {
   "cell_type": "code",
   "execution_count": 22,
   "metadata": {},
   "outputs": [],
   "source": [
    "df.columns = df.columns.droplevel()"
   ]
  },
  {
   "cell_type": "code",
   "execution_count": 23,
   "metadata": {},
   "outputs": [],
   "source": [
    "df_reduced = df [['Cuil','Dni','Cant. Sit 1 Titular', 'Cant. Sit 2 Titular','Cant. Sit 3 Titular','Cant. Sit 4 Titular'\n",
    "                 , 'Cant. Sit 5 Titular','Entidad 1 Titular','Deuda 1 Titular', 'Entidad 2 Titular','Deuda 2 Titular'\n",
    "                 ,'Entidad 3 Titular','Deuda 3 Titular', 'Entidad 4 Titular','Deuda 4 Titular'\n",
    "                 ]]"
   ]
  },
  {
   "cell_type": "code",
   "execution_count": 24,
   "metadata": {},
   "outputs": [
    {
     "data": {
      "text/html": [
       "<div>\n",
       "<style scoped>\n",
       "    .dataframe tbody tr th:only-of-type {\n",
       "        vertical-align: middle;\n",
       "    }\n",
       "\n",
       "    .dataframe tbody tr th {\n",
       "        vertical-align: top;\n",
       "    }\n",
       "\n",
       "    .dataframe thead th {\n",
       "        text-align: right;\n",
       "    }\n",
       "</style>\n",
       "<table border=\"1\" class=\"dataframe\">\n",
       "  <thead>\n",
       "    <tr style=\"text-align: right;\">\n",
       "      <th></th>\n",
       "      <th>Cuil</th>\n",
       "      <th>Dni</th>\n",
       "      <th>Cant. Sit 1 Titular</th>\n",
       "      <th>Cant. Sit 2 Titular</th>\n",
       "      <th>Cant. Sit 3 Titular</th>\n",
       "      <th>Cant. Sit 4 Titular</th>\n",
       "      <th>Cant. Sit 5 Titular</th>\n",
       "      <th>Entidad 1 Titular</th>\n",
       "      <th>Deuda 1 Titular</th>\n",
       "      <th>Entidad 2 Titular</th>\n",
       "      <th>Deuda 2 Titular</th>\n",
       "      <th>Entidad 3 Titular</th>\n",
       "      <th>Deuda 3 Titular</th>\n",
       "      <th>Entidad 4 Titular</th>\n",
       "      <th>Deuda 4 Titular</th>\n",
       "    </tr>\n",
       "  </thead>\n",
       "  <tbody>\n",
       "    <tr>\n",
       "      <th>0</th>\n",
       "      <td>20140531562</td>\n",
       "      <td>14053156</td>\n",
       "      <td>0</td>\n",
       "      <td>0</td>\n",
       "      <td>0</td>\n",
       "      <td>0</td>\n",
       "      <td>4</td>\n",
       "      <td>MONTEMAR COMPAÑIA FINANCIERA S.A.</td>\n",
       "      <td>108</td>\n",
       "      <td>TARJETA NARANJA S.A.</td>\n",
       "      <td>95</td>\n",
       "      <td>BANCO DE GALICIA Y BUENOS AIRES S.A.U.</td>\n",
       "      <td>48</td>\n",
       "      <td>BANCO SANTANDER RIO S.A.</td>\n",
       "      <td>0</td>\n",
       "    </tr>\n",
       "    <tr>\n",
       "      <th>1</th>\n",
       "      <td>27281648867</td>\n",
       "      <td>28164886</td>\n",
       "      <td>0</td>\n",
       "      <td>0</td>\n",
       "      <td>0</td>\n",
       "      <td>0</td>\n",
       "      <td>1</td>\n",
       "      <td>BANCO SANTANDER RIO S.A.</td>\n",
       "      <td>0</td>\n",
       "      <td>NaN</td>\n",
       "      <td>0</td>\n",
       "      <td>NaN</td>\n",
       "      <td>0</td>\n",
       "      <td>NaN</td>\n",
       "      <td>0</td>\n",
       "    </tr>\n",
       "    <tr>\n",
       "      <th>2</th>\n",
       "      <td>20398295383</td>\n",
       "      <td>39829538</td>\n",
       "      <td>0</td>\n",
       "      <td>0</td>\n",
       "      <td>0</td>\n",
       "      <td>0</td>\n",
       "      <td>1</td>\n",
       "      <td>BANCO SANTANDER RIO S.A.</td>\n",
       "      <td>0</td>\n",
       "      <td>NaN</td>\n",
       "      <td>0</td>\n",
       "      <td>NaN</td>\n",
       "      <td>0</td>\n",
       "      <td>NaN</td>\n",
       "      <td>0</td>\n",
       "    </tr>\n",
       "    <tr>\n",
       "      <th>3</th>\n",
       "      <td>20359239530</td>\n",
       "      <td>35923953</td>\n",
       "      <td>0</td>\n",
       "      <td>0</td>\n",
       "      <td>0</td>\n",
       "      <td>0</td>\n",
       "      <td>1</td>\n",
       "      <td>BANCO SANTANDER RIO S.A.</td>\n",
       "      <td>0</td>\n",
       "      <td>NaN</td>\n",
       "      <td>0</td>\n",
       "      <td>NaN</td>\n",
       "      <td>0</td>\n",
       "      <td>NaN</td>\n",
       "      <td>0</td>\n",
       "    </tr>\n",
       "    <tr>\n",
       "      <th>4</th>\n",
       "      <td>20939121383</td>\n",
       "      <td>93912138</td>\n",
       "      <td>0</td>\n",
       "      <td>0</td>\n",
       "      <td>0</td>\n",
       "      <td>0</td>\n",
       "      <td>2</td>\n",
       "      <td>BANCO COMAFI SOCIEDAD ANONIMA</td>\n",
       "      <td>7</td>\n",
       "      <td>BANCO SANTANDER RIO S.A.</td>\n",
       "      <td>0</td>\n",
       "      <td>NaN</td>\n",
       "      <td>0</td>\n",
       "      <td>NaN</td>\n",
       "      <td>0</td>\n",
       "    </tr>\n",
       "  </tbody>\n",
       "</table>\n",
       "</div>"
      ],
      "text/plain": [
       "          Cuil       Dni  Cant. Sit 1 Titular  Cant. Sit 2 Titular  \\\n",
       "0  20140531562  14053156                    0                    0   \n",
       "1  27281648867  28164886                    0                    0   \n",
       "2  20398295383  39829538                    0                    0   \n",
       "3  20359239530  35923953                    0                    0   \n",
       "4  20939121383  93912138                    0                    0   \n",
       "\n",
       "   Cant. Sit 3 Titular  Cant. Sit 4 Titular  Cant. Sit 5 Titular  \\\n",
       "0                    0                    0                    4   \n",
       "1                    0                    0                    1   \n",
       "2                    0                    0                    1   \n",
       "3                    0                    0                    1   \n",
       "4                    0                    0                    2   \n",
       "\n",
       "                   Entidad 1 Titular  Deuda 1 Titular  \\\n",
       "0  MONTEMAR COMPAÑIA FINANCIERA S.A.              108   \n",
       "1           BANCO SANTANDER RIO S.A.                0   \n",
       "2           BANCO SANTANDER RIO S.A.                0   \n",
       "3           BANCO SANTANDER RIO S.A.                0   \n",
       "4      BANCO COMAFI SOCIEDAD ANONIMA                7   \n",
       "\n",
       "          Entidad 2 Titular  Deuda 2 Titular  \\\n",
       "0      TARJETA NARANJA S.A.               95   \n",
       "1                       NaN                0   \n",
       "2                       NaN                0   \n",
       "3                       NaN                0   \n",
       "4  BANCO SANTANDER RIO S.A.                0   \n",
       "\n",
       "                        Entidad 3 Titular  Deuda 3 Titular  \\\n",
       "0  BANCO DE GALICIA Y BUENOS AIRES S.A.U.               48   \n",
       "1                                     NaN                0   \n",
       "2                                     NaN                0   \n",
       "3                                     NaN                0   \n",
       "4                                     NaN                0   \n",
       "\n",
       "          Entidad 4 Titular  Deuda 4 Titular  \n",
       "0  BANCO SANTANDER RIO S.A.                0  \n",
       "1                       NaN                0  \n",
       "2                       NaN                0  \n",
       "3                       NaN                0  \n",
       "4                       NaN                0  "
      ]
     },
     "execution_count": 24,
     "metadata": {},
     "output_type": "execute_result"
    }
   ],
   "source": [
    "df_reduced.head()"
   ]
  },
  {
   "cell_type": "code",
   "execution_count": 25,
   "metadata": {},
   "outputs": [
    {
     "data": {
      "text/plain": [
       "(1348, 15)"
      ]
     },
     "execution_count": 25,
     "metadata": {},
     "output_type": "execute_result"
    }
   ],
   "source": [
    "df_reduced.shape"
   ]
  },
  {
   "cell_type": "code",
   "execution_count": 26,
   "metadata": {},
   "outputs": [],
   "source": [
    "df_reduced.to_csv('test.csv')"
   ]
  },
  {
   "cell_type": "markdown",
   "metadata": {},
   "source": [
    "Eliminamos el multilevel de las columnas, y las renombramos:"
   ]
  },
  {
   "cell_type": "markdown",
   "metadata": {},
   "source": [
    "# 4) Dataframe: Entidades + Cantidad"
   ]
  },
  {
   "cell_type": "markdown",
   "metadata": {},
   "source": [
    "Dropeamos aquellas filas que tengan NaN en la columna Dato, ya que no nos aporta nada:"
   ]
  },
  {
   "cell_type": "markdown",
   "metadata": {},
   "source": [
    "Definimos las listas de columnas de interés"
   ]
  },
  {
   "cell_type": "code",
   "execution_count": 27,
   "metadata": {},
   "outputs": [],
   "source": [
    "cantidad_situacion_columns = ['Cant. Sit 1 Titular', 'Cant. Sit 2 Titular',\n",
    "                              'Cant. Sit 3 Titular', 'Cant. Sit 4 Titular',\n",
    "                              'Cant. Sit 5 Titular']\n",
    "entidades_columns = ['Entidad 1 Titular', 'Entidad 2 Titular', 'Entidad 3 Titular', 'Entidad 4 Titular']\n",
    "deudas_columns = ['Deuda 1 Titular','Deuda 2 Titular','Deuda 3 Titular','Deuda 4 Titular']"
   ]
  },
  {
   "cell_type": "markdown",
   "metadata": {},
   "source": [
    "Aplicamos las funciones correspondientes"
   ]
  },
  {
   "cell_type": "code",
   "execution_count": 28,
   "metadata": {
    "scrolled": true
   },
   "outputs": [
    {
     "name": "stderr",
     "output_type": "stream",
     "text": [
      "<ipython-input-28-059b002e3bda>:1: SettingWithCopyWarning: \n",
      "A value is trying to be set on a copy of a slice from a DataFrame.\n",
      "Try using .loc[row_indexer,col_indexer] = value instead\n",
      "\n",
      "See the caveats in the documentation: https://pandas.pydata.org/pandas-docs/stable/user_guide/indexing.html#returning-a-view-versus-a-copy\n",
      "  df_reduced[\"Situacion\"] = df_reduced.apply(\n"
     ]
    }
   ],
   "source": [
    "df_reduced[\"Situacion\"] = df_reduced.apply(\n",
    "    lambda row: sum([[cantidad_situacion_columns[n]\n",
    "                      for _ in range(row[cantidad_situacion_columns[n]])]\n",
    "                     for n in range(len(cantidad_situacion_columns))], []), axis=1)\n",
    "\n",
    "ent_sit = df_reduced.apply(\n",
    "    lambda row: [(row[entidades_columns[idx]], row[\"Situacion\"][idx])\n",
    "                     for idx in range(len(row[\"Situacion\"]))], axis=1)\n",
    "\n",
    "deuda_sit = df_reduced.apply(\n",
    "    lambda row: [(row[deudas_columns[idx]], row[\"Situacion\"][idx])\n",
    "                     for idx in range(len(row[\"Situacion\"]))], axis=1)"
   ]
  },
  {
   "cell_type": "code",
   "execution_count": 37,
   "metadata": {},
   "outputs": [
    {
     "data": {
      "text/plain": [
       "[('MONTEMAR COMPAÑIA FINANCIERA S.A.', 'Cant. Sit 5 Titular'),\n",
       " ('TARJETA NARANJA S.A.', 'Cant. Sit 5 Titular'),\n",
       " ('BANCO DE GALICIA Y BUENOS AIRES S.A.U.', 'Cant. Sit 5 Titular'),\n",
       " ('BANCO SANTANDER RIO S.A.', 'Cant. Sit 5 Titular')]"
      ]
     },
     "execution_count": 37,
     "metadata": {},
     "output_type": "execute_result"
    }
   ],
   "source": [
    "ent_sit[0]"
   ]
  },
  {
   "cell_type": "markdown",
   "metadata": {},
   "source": [
    "Definimos los nuevos dataframes"
   ]
  },
  {
   "cell_type": "code",
   "execution_count": null,
   "metadata": {},
   "outputs": [],
   "source": [
    "ent_sit = ent_sit.explode()\n",
    "ent_sit = ent_sit.to_frame().apply(lambda x: pd.Series(x[0], index=['Entidad', 'Situacion']), axis=1, result_type='expand')\n",
    "\n",
    "deuda_sit = deuda_sit.explode()\n",
    "deuda_sit = deuda_sit.to_frame().apply(lambda x: pd.Series(x[0], index=['Deuda', 'Situacion']), axis=1, result_type='expand')"
   ]
  },
  {
   "cell_type": "markdown",
   "metadata": {},
   "source": [
    "Reseteamos los indices"
   ]
  },
  {
   "cell_type": "code",
   "execution_count": null,
   "metadata": {},
   "outputs": [],
   "source": [
    "deuda_sit_reset = deuda_sit.reset_index()"
   ]
  },
  {
   "cell_type": "code",
   "execution_count": null,
   "metadata": {},
   "outputs": [],
   "source": [
    "ent_sit_reset = ent_sit.reset_index()"
   ]
  },
  {
   "cell_type": "markdown",
   "metadata": {},
   "source": [
    "### Join"
   ]
  },
  {
   "cell_type": "markdown",
   "metadata": {},
   "source": [
    "Unimos por index"
   ]
  },
  {
   "cell_type": "code",
   "execution_count": null,
   "metadata": {},
   "outputs": [],
   "source": [
    "df_join = ent_sit_reset.join(deuda_sit_reset,lsuffix='_left',rsuffix = '_right')"
   ]
  },
  {
   "cell_type": "code",
   "execution_count": null,
   "metadata": {},
   "outputs": [],
   "source": [
    "df_join.head(10)"
   ]
  },
  {
   "cell_type": "markdown",
   "metadata": {},
   "source": [
    "# Concatenación de Dataframes"
   ]
  },
  {
   "cell_type": "code",
   "execution_count": null,
   "metadata": {},
   "outputs": [],
   "source": [
    "df_short = df_reduced[['Cuil','Dni']]"
   ]
  },
  {
   "cell_type": "code",
   "execution_count": null,
   "metadata": {},
   "outputs": [],
   "source": [
    "df_final = df_join.join(df_short,on='index_left',lsuffix='_left',rsuffix = '_right')"
   ]
  },
  {
   "cell_type": "code",
   "execution_count": null,
   "metadata": {},
   "outputs": [],
   "source": [
    "df_final.head(10)"
   ]
  },
  {
   "cell_type": "code",
   "execution_count": null,
   "metadata": {},
   "outputs": [],
   "source": [
    "#df_final.to_excel('df_deudas_test_final.xlsx')"
   ]
  },
  {
   "cell_type": "markdown",
   "metadata": {},
   "source": [
    "# 6) Columna Proveedor"
   ]
  },
  {
   "cell_type": "markdown",
   "metadata": {},
   "source": [
    "Agregamos la columna PROVEEDOR_DATO, con el código correspondiente.\n",
    "\n",
    "PyP = P2"
   ]
  },
  {
   "cell_type": "code",
   "execution_count": null,
   "metadata": {},
   "outputs": [],
   "source": [
    "cod_pyp = 'P2'"
   ]
  },
  {
   "cell_type": "code",
   "execution_count": null,
   "metadata": {},
   "outputs": [],
   "source": [
    "df_final = df_final.assign(PROVEEDOR=cod_pyp)"
   ]
  },
  {
   "cell_type": "code",
   "execution_count": null,
   "metadata": {},
   "outputs": [],
   "source": [
    "df_final.head()"
   ]
  },
  {
   "cell_type": "markdown",
   "metadata": {},
   "source": [
    "# 7) Columna Fuente"
   ]
  },
  {
   "cell_type": "markdown",
   "metadata": {},
   "source": [
    "Agregamos la columna TIPO, con el código correspondiente"
   ]
  },
  {
   "cell_type": "code",
   "execution_count": null,
   "metadata": {},
   "outputs": [],
   "source": [
    "fuente = 'BCRA'"
   ]
  },
  {
   "cell_type": "code",
   "execution_count": null,
   "metadata": {},
   "outputs": [],
   "source": [
    "df_final = df_final.assign(FUENTE=fuente)"
   ]
  },
  {
   "cell_type": "code",
   "execution_count": null,
   "metadata": {},
   "outputs": [],
   "source": [
    "df_final.head ()"
   ]
  },
  {
   "cell_type": "markdown",
   "metadata": {},
   "source": [
    "# 10) Columna Fecha"
   ]
  },
  {
   "cell_type": "markdown",
   "metadata": {},
   "source": [
    "Para el campo FECHA_INGRESO_DATO, usamos la fecha en la que se hace la inserción de los datos:"
   ]
  },
  {
   "cell_type": "code",
   "execution_count": null,
   "metadata": {},
   "outputs": [],
   "source": [
    "fecha_ingreso = pd.to_datetime('today')"
   ]
  },
  {
   "cell_type": "code",
   "execution_count": null,
   "metadata": {},
   "outputs": [],
   "source": [
    "df_final = df_final.assign(FECHA_INGRESO=fecha_ingreso)"
   ]
  },
  {
   "cell_type": "code",
   "execution_count": null,
   "metadata": {
    "scrolled": true
   },
   "outputs": [],
   "source": [
    "df_final.head()"
   ]
  },
  {
   "cell_type": "markdown",
   "metadata": {},
   "source": [
    "# 12) Concatenación con .csv enviado "
   ]
  },
  {
   "cell_type": "markdown",
   "metadata": {},
   "source": [
    "Vamos a concatenar nuestro dataframe con el dataframe enviado para enriquecer. Para esto, vamos a hacer una limpieza inicial de cómo se enviaron esos datos. Finalmente, se uniran ambos dataframes por __DNI__."
   ]
  },
  {
   "cell_type": "markdown",
   "metadata": {},
   "source": [
    "## 12.1) Dataset: PyP"
   ]
  },
  {
   "cell_type": "markdown",
   "metadata": {},
   "source": [
    "Vamos a analizar y limpiar el dataset enviado a PyP para el enriquecimiento:"
   ]
  },
  {
   "cell_type": "code",
   "execution_count": null,
   "metadata": {},
   "outputs": [],
   "source": [
    "df_pyp = pd.read_excel('/mnt/c/users/Dleg/Data/MOPC/MOPC/Enriquecimiento de Datos/Data Cleaning/PyP/Datasets/Datasets enviados/0209-MOPC-PEDIDO DE DATOS.xlsx')"
   ]
  },
  {
   "cell_type": "code",
   "execution_count": null,
   "metadata": {
    "scrolled": false
   },
   "outputs": [],
   "source": [
    "df_pyp.head()"
   ]
  },
  {
   "cell_type": "markdown",
   "metadata": {},
   "source": [
    "Dropeamos las últimas columnas que no tienen datos"
   ]
  },
  {
   "cell_type": "code",
   "execution_count": null,
   "metadata": {},
   "outputs": [],
   "source": [
    "#df_pyp = df_pyp.drop(columns=['FILTROA'])"
   ]
  },
  {
   "cell_type": "code",
   "execution_count": null,
   "metadata": {
    "scrolled": true
   },
   "outputs": [],
   "source": [
    "df_pyp.head()"
   ]
  },
  {
   "cell_type": "markdown",
   "metadata": {},
   "source": [
    "Creamos una columna que contenga IDMOROSO + DATOADIC según corresponda"
   ]
  },
  {
   "cell_type": "code",
   "execution_count": null,
   "metadata": {},
   "outputs": [],
   "source": [
    "#df_pyp.loc[(df_pyp['IDCLIENTE'].str.startswith('AMEX')) , 'NRO_DOC'] = df_pyp['DATOADIC']"
   ]
  },
  {
   "cell_type": "code",
   "execution_count": null,
   "metadata": {},
   "outputs": [],
   "source": [
    "df_pyp = df_pyp.rename(columns={'DNI':'IDMOROSO'})"
   ]
  },
  {
   "cell_type": "code",
   "execution_count": null,
   "metadata": {},
   "outputs": [],
   "source": [
    "df_pyp['NRO_DOC'] = df_pyp['IDMOROSO']"
   ]
  },
  {
   "cell_type": "code",
   "execution_count": null,
   "metadata": {},
   "outputs": [],
   "source": [
    "df_pyp.head()"
   ]
  },
  {
   "cell_type": "markdown",
   "metadata": {},
   "source": [
    "## 12.2) DNI Cleaning"
   ]
  },
  {
   "cell_type": "markdown",
   "metadata": {},
   "source": [
    "Limpiamos el dataframe __df_pyp__, ya que dentro de DATO_A_ENVIAR tenemos 9 tipos de casos diferentes de datos:\n",
    "\n",
    "- DNI 12345678\n",
    "- DNI12345678\n",
    "- DNIE1234678\n",
    "- LC  1234567\n",
    "- LE  1234567\n",
    "- CUIT00123456780\n",
    "- 00123456780 --> Es un CUIT.\n",
    "- 00 12345678 0 --> Es un CUIT.\n",
    "- DNI 00123456780 --> Dice DNI pero es un CUIT de una persona __jurídica__ (TO DO)"
   ]
  },
  {
   "cell_type": "markdown",
   "metadata": {},
   "source": [
    "Para eso definimos 5 funciones:\n",
    "\n",
    "- __Tipo_DOC__: Se definen dos funciones para determinar el tipo de DNI. Una inicial, y otra para corregir sobre el dataframe resultante.\n",
    "- __Standard DNI__: Estandariza los DNI para 7 de los casos. Esta función debe ejecutarse en primer lugar.\n",
    "- __DNI Spaces__: Elimina los espacios.\n",
    "- __DNI Zero__: Elimina los ceros iniciales de ciertos CUITs para que coincidan con los DNI.\n",
    "- __Cuit__: Decisión sobre dejar un cuit o volverlo DNI"
   ]
  },
  {
   "cell_type": "code",
   "execution_count": null,
   "metadata": {},
   "outputs": [],
   "source": [
    "def tipo_doc_1 (string_dni):\n",
    "    \n",
    "    if 'DNI' in string_dni:\n",
    "        tipo = 'DNI'\n",
    "    \n",
    "    elif 'LC' in string_dni:\n",
    "        tipo = 'LC'\n",
    "    \n",
    "    elif 'LE' in string_dni:\n",
    "        tipo = 'LE'\n",
    "    \n",
    "    elif 'DNIE' in string_dni:\n",
    "        tipo = 'DNIE'    \n",
    "    \n",
    "    elif ((string_dni.startswith(('CUIT30','CUIT33','CUIT34'))) & (len(string_dni)>8)):\n",
    "        tipo = 'CUIT'\n",
    "        \n",
    "    elif ((string_dni.startswith(('30','33','34'))) & (len(string_dni)>8)):\n",
    "        tipo = 'CUIT'\n",
    "\n",
    "    elif ((string_dni.startswith(('20','23','24','27'))) & (len(string_dni)>8)):\n",
    "        tipo = 'DNI'\n",
    "\n",
    "    elif ((string_dni.startswith(('CUIT20','CUIT23','CUIT24','CUIT27'))) & (len(string_dni)>8)):\n",
    "        tipo = 'DNI'\n",
    "        \n",
    "    else:\n",
    "        tipo = 'DNI'\n",
    "    \n",
    "    return tipo"
   ]
  },
  {
   "cell_type": "code",
   "execution_count": null,
   "metadata": {},
   "outputs": [],
   "source": [
    "def tipo_doc_2 (string_dni, tipo_original):\n",
    "    \n",
    "    if (len(string_dni) > 8) & (tipo_original == 'DNI'):\n",
    "        tipo = 'CUIT'\n",
    "    else:\n",
    "        tipo = tipo_original\n",
    "    return tipo"
   ]
  },
  {
   "cell_type": "code",
   "execution_count": null,
   "metadata": {},
   "outputs": [],
   "source": [
    "def standard_dni (string_dni):\n",
    "    \"\"\"DNI separation by each case.\n",
    "    \"\"\"\n",
    "    \n",
    "    if 'DNI ' in string_dni:\n",
    "        dni = string_dni.split('DNI ')[1]\n",
    "        \n",
    "    elif 'DNIE' in string_dni:\n",
    "        dni = string_dni.split('DNIE')[1]\n",
    "    \n",
    "    elif 'DNI' in string_dni:\n",
    "        dni = string_dni.split('DNI')[1]\n",
    "    \n",
    "    elif 'LC  ' in string_dni:\n",
    "        dni = string_dni.split('LC  ')[1]\n",
    "    \n",
    "    elif 'LE  ' in string_dni:\n",
    "        dni = string_dni.split('LE  ')[1]\n",
    "    \n",
    "    elif 'CUIT' in string_dni:\n",
    "        dni = string_dni.split('CUIT')[1]\n",
    "        \n",
    "    else:\n",
    "        dni = string_dni\n",
    "        \n",
    "    return dni"
   ]
  },
  {
   "cell_type": "code",
   "execution_count": null,
   "metadata": {},
   "outputs": [],
   "source": [
    "def dni_characters (string_dni):\n",
    "    \n",
    "    if ' ' in string_dni:\n",
    "        dni = string_dni.replace(' ','')\n",
    "        \n",
    "    elif '-' in string_dni:\n",
    "        dni = string_dni.replace('-','')\n",
    "\n",
    "    else:\n",
    "        dni = string_dni\n",
    "    \n",
    "    return dni"
   ]
  },
  {
   "cell_type": "code",
   "execution_count": null,
   "metadata": {},
   "outputs": [],
   "source": [
    "def cuit (string_dni):\n",
    "    \n",
    "    if ((string_dni.startswith('20')) & (len(string_dni)>8)):\n",
    "        cuit = string_dni [2:-1]\n",
    "        \n",
    "    elif ((string_dni.startswith('23')) & (len(string_dni)>8)):\n",
    "        cuit = string_dni [2:-1]\n",
    "        \n",
    "    elif ((string_dni.startswith('24')) & (len(string_dni)>8)):\n",
    "        cuit = string_dni [2:-1]\n",
    "\n",
    "    elif ((string_dni.startswith('27')) & (len(string_dni)>8)):\n",
    "        cuit = string_dni [2:-1]\n",
    "\n",
    "    else:\n",
    "        cuit = string_dni\n",
    "        \n",
    "    return cuit"
   ]
  },
  {
   "cell_type": "code",
   "execution_count": null,
   "metadata": {},
   "outputs": [],
   "source": [
    "def dni_zero (string_dni):\n",
    "    \n",
    "    if string_dni.startswith('0'):\n",
    "        dni = string_dni [1:]\n",
    "\n",
    "    else:\n",
    "        dni = string_dni\n",
    "    \n",
    "    return dni"
   ]
  },
  {
   "cell_type": "markdown",
   "metadata": {},
   "source": [
    "En primer lugar, trimmeamos los espacios que sobran:"
   ]
  },
  {
   "cell_type": "code",
   "execution_count": null,
   "metadata": {},
   "outputs": [],
   "source": [
    "df_pyp['NRO_DOC'] = [(str(df_pyp['NRO_DOC'][i]).strip()) for i in range (df_pyp['NRO_DOC'].count())]"
   ]
  },
  {
   "cell_type": "markdown",
   "metadata": {},
   "source": [
    "Se implementan estas funciones:"
   ]
  },
  {
   "cell_type": "markdown",
   "metadata": {},
   "source": [
    "Para determinar el __TIPO DE DOCUMENTO__ en primer lugar:"
   ]
  },
  {
   "cell_type": "code",
   "execution_count": null,
   "metadata": {},
   "outputs": [],
   "source": [
    "df_pyp['TIPO_DOC'] = [tipo_doc_1(df_pyp['NRO_DOC'][i]) for i in range (df_pyp['NRO_DOC'].count())]"
   ]
  },
  {
   "cell_type": "markdown",
   "metadata": {},
   "source": [
    "Para la limpieza de DNIs:"
   ]
  },
  {
   "cell_type": "code",
   "execution_count": null,
   "metadata": {},
   "outputs": [],
   "source": [
    "df_pyp['NRO_DOC'] = [standard_dni(df_pyp['NRO_DOC'][i]) for i in range (df_pyp['NRO_DOC'].count())]"
   ]
  },
  {
   "cell_type": "code",
   "execution_count": null,
   "metadata": {},
   "outputs": [],
   "source": [
    "df_pyp['NRO_DOC'] = [dni_characters(df_pyp['NRO_DOC'][i]) for i in range (df_pyp['NRO_DOC'].count())]"
   ]
  },
  {
   "cell_type": "code",
   "execution_count": null,
   "metadata": {},
   "outputs": [],
   "source": [
    "df_pyp['NRO_DOC'] = [cuit(df_pyp['NRO_DOC'][i]) for i in range (df_pyp['NRO_DOC'].count())]"
   ]
  },
  {
   "cell_type": "code",
   "execution_count": null,
   "metadata": {},
   "outputs": [],
   "source": [
    "df_pyp['NRO_DOC'] = [dni_zero(df_pyp['NRO_DOC'][i]) for i in range (df_pyp['NRO_DOC'].count())]"
   ]
  },
  {
   "cell_type": "markdown",
   "metadata": {},
   "source": [
    "Para corregir el __TIPO DE DOCUMENTO__ sobre el dataframe resultante"
   ]
  },
  {
   "cell_type": "code",
   "execution_count": null,
   "metadata": {},
   "outputs": [],
   "source": [
    "df_pyp['TIPO_DOC'] = [tipo_doc_2(df_pyp['NRO_DOC'][i],df_pyp['TIPO_DOC'][i]) for i in range (df_pyp['NRO_DOC'].count())]"
   ]
  },
  {
   "cell_type": "code",
   "execution_count": null,
   "metadata": {
    "scrolled": true
   },
   "outputs": [],
   "source": [
    "df_pyp.head()"
   ]
  },
  {
   "cell_type": "markdown",
   "metadata": {},
   "source": [
    "# 13) Union de Dataframes"
   ]
  },
  {
   "cell_type": "markdown",
   "metadata": {},
   "source": [
    "Se unen ambos dataframes en la columna NRO_DOC"
   ]
  },
  {
   "cell_type": "markdown",
   "metadata": {},
   "source": [
    "Convertimos la columna NRO_DOC de objeto a INT para hacer la unión"
   ]
  },
  {
   "cell_type": "code",
   "execution_count": null,
   "metadata": {},
   "outputs": [],
   "source": [
    "df_final = df_final.rename(columns = {'Dni':'NRO_DOC'})"
   ]
  },
  {
   "cell_type": "code",
   "execution_count": null,
   "metadata": {},
   "outputs": [],
   "source": [
    "df_final = df_final.astype({'NRO_DOC': 'str'})"
   ]
  },
  {
   "cell_type": "code",
   "execution_count": null,
   "metadata": {},
   "outputs": [],
   "source": [
    "df_union = pd.merge(df_final,df_pyp, on='NRO_DOC', how='inner')"
   ]
  },
  {
   "cell_type": "code",
   "execution_count": null,
   "metadata": {},
   "outputs": [],
   "source": [
    "df_union.shape"
   ]
  },
  {
   "cell_type": "code",
   "execution_count": null,
   "metadata": {
    "scrolled": false
   },
   "outputs": [],
   "source": [
    "df_union.head()"
   ]
  },
  {
   "cell_type": "markdown",
   "metadata": {},
   "source": [
    "### Revisamos equivalencias"
   ]
  },
  {
   "cell_type": "code",
   "execution_count": null,
   "metadata": {},
   "outputs": [],
   "source": [
    "df_union['index_left'].equals(df_union['index_right'])"
   ]
  },
  {
   "cell_type": "code",
   "execution_count": null,
   "metadata": {},
   "outputs": [],
   "source": [
    "df_union['Situacion_left'].equals(df_union['Situacion_right'])"
   ]
  },
  {
   "cell_type": "markdown",
   "metadata": {},
   "source": [
    "# Columna Situación"
   ]
  },
  {
   "cell_type": "markdown",
   "metadata": {},
   "source": [
    "Renombramos y dropeamos columnas acorde a las tablas de la db."
   ]
  },
  {
   "cell_type": "code",
   "execution_count": null,
   "metadata": {},
   "outputs": [],
   "source": [
    "df_union = df_union.rename(columns = {'Situacion_left':'SITUACION', 'Entidad':'BANCO','Deuda':'MONTO'})"
   ]
  },
  {
   "cell_type": "code",
   "execution_count": null,
   "metadata": {},
   "outputs": [],
   "source": [
    "df_union.loc[(df_union['SITUACION'] == 'Cant. Sit 1 Titular') , 'SITUACION'] = 1"
   ]
  },
  {
   "cell_type": "code",
   "execution_count": null,
   "metadata": {},
   "outputs": [],
   "source": [
    "df_union.loc[(df_union['SITUACION'] == 'Cant. Sit 2 Titular') , 'SITUACION'] = 2"
   ]
  },
  {
   "cell_type": "code",
   "execution_count": null,
   "metadata": {},
   "outputs": [],
   "source": [
    "df_union.loc[(df_union['SITUACION'] == 'Cant. Sit 3 Titular') , 'SITUACION'] = 3"
   ]
  },
  {
   "cell_type": "code",
   "execution_count": null,
   "metadata": {},
   "outputs": [],
   "source": [
    "df_union.loc[(df_union['SITUACION'] == 'Cant. Sit 4 Titular') , 'SITUACION'] = 4"
   ]
  },
  {
   "cell_type": "code",
   "execution_count": null,
   "metadata": {},
   "outputs": [],
   "source": [
    "df_union.loc[(df_union['SITUACION'] == 'Cant. Sit 5 Titular') , 'SITUACION'] = 5"
   ]
  },
  {
   "cell_type": "code",
   "execution_count": null,
   "metadata": {
    "scrolled": true
   },
   "outputs": [],
   "source": [
    "df_union.head()"
   ]
  },
  {
   "cell_type": "markdown",
   "metadata": {},
   "source": [
    "# Columna Período"
   ]
  },
  {
   "cell_type": "markdown",
   "metadata": {},
   "source": [
    "Como PyP no nos devuelve el período, lo dejamos en nulo"
   ]
  },
  {
   "cell_type": "code",
   "execution_count": null,
   "metadata": {},
   "outputs": [],
   "source": [
    "df_union = df_union.assign(PERIODO=np.nan)"
   ]
  },
  {
   "cell_type": "markdown",
   "metadata": {},
   "source": [
    "# Final Drop"
   ]
  },
  {
   "cell_type": "markdown",
   "metadata": {},
   "source": [
    "Dropeamos los que no tengan nada en entidad:"
   ]
  },
  {
   "cell_type": "code",
   "execution_count": null,
   "metadata": {},
   "outputs": [],
   "source": [
    "df_union = df_union.dropna(subset=['BANCO'])"
   ]
  },
  {
   "cell_type": "code",
   "execution_count": null,
   "metadata": {},
   "outputs": [],
   "source": [
    "df_union.shape"
   ]
  },
  {
   "cell_type": "markdown",
   "metadata": {},
   "source": [
    "# 14) Export"
   ]
  },
  {
   "cell_type": "markdown",
   "metadata": {},
   "source": [
    "Renombramos, dropeamos y reordenamos las columnas"
   ]
  },
  {
   "cell_type": "code",
   "execution_count": null,
   "metadata": {
    "scrolled": true
   },
   "outputs": [],
   "source": [
    "df_export = df_union[['IDMOROSO', 'FUENTE','BANCO','SITUACION','PERIODO','MONTO','FECHA_INGRESO','PROVEEDOR']]"
   ]
  },
  {
   "cell_type": "code",
   "execution_count": null,
   "metadata": {},
   "outputs": [],
   "source": [
    "df_export.head()"
   ]
  },
  {
   "cell_type": "code",
   "execution_count": null,
   "metadata": {},
   "outputs": [],
   "source": [
    "df_export.shape"
   ]
  },
  {
   "cell_type": "markdown",
   "metadata": {},
   "source": [
    "Revisamos y dropeamos filas duplicadas"
   ]
  },
  {
   "cell_type": "code",
   "execution_count": null,
   "metadata": {},
   "outputs": [],
   "source": [
    "df_duplicates = df_export[df_export.duplicated(keep=False)]"
   ]
  },
  {
   "cell_type": "code",
   "execution_count": null,
   "metadata": {},
   "outputs": [],
   "source": [
    "df_duplicates.shape"
   ]
  },
  {
   "cell_type": "code",
   "execution_count": null,
   "metadata": {},
   "outputs": [],
   "source": [
    "#df_duplicates.to_excel('deudas_duplicates.xlsx')"
   ]
  },
  {
   "cell_type": "code",
   "execution_count": null,
   "metadata": {},
   "outputs": [],
   "source": [
    "df_export = df_export.drop_duplicates()"
   ]
  },
  {
   "cell_type": "code",
   "execution_count": null,
   "metadata": {
    "scrolled": true
   },
   "outputs": [],
   "source": [
    "df_export.shape"
   ]
  },
  {
   "cell_type": "markdown",
   "metadata": {},
   "source": [
    "### Monto * 1000"
   ]
  },
  {
   "cell_type": "code",
   "execution_count": null,
   "metadata": {},
   "outputs": [],
   "source": [
    "df_export['MONTO'] *= 1000"
   ]
  },
  {
   "cell_type": "code",
   "execution_count": null,
   "metadata": {
    "scrolled": true
   },
   "outputs": [],
   "source": [
    "df_export.head()"
   ]
  },
  {
   "cell_type": "code",
   "execution_count": null,
   "metadata": {},
   "outputs": [],
   "source": [
    "df_export.tail()"
   ]
  },
  {
   "cell_type": "markdown",
   "metadata": {},
   "source": [
    "## 14.1) Export de dataframe + IDCLIENTE para análisis"
   ]
  },
  {
   "cell_type": "code",
   "execution_count": null,
   "metadata": {},
   "outputs": [],
   "source": [
    "#df_union.to_excel('/mnt/c/Users/Dleg/Data/MOPC/MOPC/Enriquecimiento de Datos/Data Cleaning/PyP/Exports/Deudas para analisis/PyP_deudas_1401.xlsx')\n",
    "#df_union.to_csv('/mnt/c/Users/Dleg/Data/MOPC/MOPC/Enriquecimiento de Datos/Data Cleaning/PyP/Exports/Deudas para analisis/PyP_deudas_1401.csv')"
   ]
  },
  {
   "cell_type": "markdown",
   "metadata": {},
   "source": [
    "## 14.2) Insert a tabla DAM_DEUDAS:"
   ]
  },
  {
   "cell_type": "code",
   "execution_count": null,
   "metadata": {},
   "outputs": [],
   "source": [
    "#df_export.to_csv('/mnt/c/Users/Dleg/Data/MOPC/MOPC/Enriquecimiento de Datos/Data Cleaning/PyP/Exports/DAM_DEUDAS/PyP_DAM_DEUDAS_2402.csv', encoding = 'utf-8-sig',index=False)"
   ]
  },
  {
   "cell_type": "code",
   "execution_count": null,
   "metadata": {},
   "outputs": [],
   "source": [
    "df_export.loc[0,:]"
   ]
  },
  {
   "cell_type": "code",
   "execution_count": null,
   "metadata": {},
   "outputs": [],
   "source": []
  }
 ],
 "metadata": {
  "kernelspec": {
   "display_name": "Python 3",
   "language": "python",
   "name": "python3"
  },
  "language_info": {
   "codemirror_mode": {
    "name": "ipython",
    "version": 3
   },
   "file_extension": ".py",
   "mimetype": "text/x-python",
   "name": "python",
   "nbconvert_exporter": "python",
   "pygments_lexer": "ipython3",
   "version": "3.8.6"
  }
 },
 "nbformat": 4,
 "nbformat_minor": 4
}
