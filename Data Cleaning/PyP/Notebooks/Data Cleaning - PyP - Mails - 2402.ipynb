{
 "cells": [
  {
   "cell_type": "markdown",
   "metadata": {},
   "source": [
    "# 1) Datasets"
   ]
  },
  {
   "cell_type": "markdown",
   "metadata": {},
   "source": [
    "Vamos a leer el dataset que envía PyP"
   ]
  },
  {
   "cell_type": "code",
   "execution_count": 1,
   "metadata": {},
   "outputs": [],
   "source": [
    "import pandas as pd\n",
    "import numpy as np"
   ]
  },
  {
   "cell_type": "code",
   "execution_count": 2,
   "metadata": {},
   "outputs": [],
   "source": [
    "df = pd.read_excel('/mnt/c/users/Dleg/Data/MOPC/MOPC/Enriquecimiento de Datos/Data Cleaning/PyP/Datasets/Datasets recibidos/MOP - 11022021 -Enriquecido - Copy.xlsx',skiprows=2, header=[0,1])"
   ]
  },
  {
   "cell_type": "code",
   "execution_count": 3,
   "metadata": {},
   "outputs": [
    {
     "data": {
      "text/html": [
       "<div>\n",
       "<style scoped>\n",
       "    .dataframe tbody tr th:only-of-type {\n",
       "        vertical-align: middle;\n",
       "    }\n",
       "\n",
       "    .dataframe tbody tr th {\n",
       "        vertical-align: top;\n",
       "    }\n",
       "\n",
       "    .dataframe thead tr th {\n",
       "        text-align: left;\n",
       "    }\n",
       "</style>\n",
       "<table border=\"1\" class=\"dataframe\">\n",
       "  <thead>\n",
       "    <tr>\n",
       "      <th></th>\n",
       "      <th>Unnamed: 0_level_0</th>\n",
       "      <th>Unnamed: 1_level_0</th>\n",
       "      <th>Unnamed: 2_level_0</th>\n",
       "      <th>Unnamed: 3_level_0</th>\n",
       "      <th>Unnamed: 4_level_0</th>\n",
       "      <th>Unnamed: 5_level_0</th>\n",
       "      <th>Unnamed: 6_level_0</th>\n",
       "      <th>Unnamed: 7_level_0</th>\n",
       "      <th>Unnamed: 8_level_0</th>\n",
       "      <th>Unnamed: 9_level_0</th>\n",
       "      <th>...</th>\n",
       "      <th colspan=\"7\" halign=\"left\">Contactacion Opcional (Familiar)</th>\n",
       "      <th colspan=\"3\" halign=\"left\">Contactacion Opcional (Vecino)</th>\n",
       "    </tr>\n",
       "    <tr>\n",
       "      <th></th>\n",
       "      <th>Cuil</th>\n",
       "      <th>Dni</th>\n",
       "      <th>Fecha de Nac.</th>\n",
       "      <th>Fecha de Defuncion</th>\n",
       "      <th>Sexo</th>\n",
       "      <th>Titular</th>\n",
       "      <th>Calle</th>\n",
       "      <th>Numero</th>\n",
       "      <th>Piso y Depto</th>\n",
       "      <th>Codigo Postal</th>\n",
       "      <th>...</th>\n",
       "      <th>Tel Fijo 2</th>\n",
       "      <th>Celular 1</th>\n",
       "      <th>Celular 2</th>\n",
       "      <th>Celular 3</th>\n",
       "      <th>Celular 4</th>\n",
       "      <th>Celular 5</th>\n",
       "      <th>Email</th>\n",
       "      <th>Nombre</th>\n",
       "      <th>Telefono</th>\n",
       "      <th>SCORE</th>\n",
       "    </tr>\n",
       "  </thead>\n",
       "  <tbody>\n",
       "    <tr>\n",
       "      <th>0</th>\n",
       "      <td>20140531562</td>\n",
       "      <td>14053156</td>\n",
       "      <td>1959-10-12</td>\n",
       "      <td>NaN</td>\n",
       "      <td>M</td>\n",
       "      <td>CALDERON JUAN DOMINGO</td>\n",
       "      <td>CALLE 8</td>\n",
       "      <td>378</td>\n",
       "      <td>NaN</td>\n",
       "      <td>2555</td>\n",
       "      <td>...</td>\n",
       "      <td>NaN</td>\n",
       "      <td>NaN</td>\n",
       "      <td>NaN</td>\n",
       "      <td>NaN</td>\n",
       "      <td>NaN</td>\n",
       "      <td>NaN</td>\n",
       "      <td>NaN</td>\n",
       "      <td>NaN</td>\n",
       "      <td>NaN</td>\n",
       "      <td>345</td>\n",
       "    </tr>\n",
       "    <tr>\n",
       "      <th>1</th>\n",
       "      <td>27281648867</td>\n",
       "      <td>28164886</td>\n",
       "      <td>1980-09-14</td>\n",
       "      <td>NaN</td>\n",
       "      <td>F</td>\n",
       "      <td>BAEZ CECILIA LUJAN</td>\n",
       "      <td>VILLAGUAY</td>\n",
       "      <td>2130</td>\n",
       "      <td>NaN</td>\n",
       "      <td>1849</td>\n",
       "      <td>...</td>\n",
       "      <td>NaN</td>\n",
       "      <td>NaN</td>\n",
       "      <td>NaN</td>\n",
       "      <td>NaN</td>\n",
       "      <td>NaN</td>\n",
       "      <td>NaN</td>\n",
       "      <td>NaN</td>\n",
       "      <td>LUJAN OLGA Y</td>\n",
       "      <td>1.142688e+09</td>\n",
       "      <td>34</td>\n",
       "    </tr>\n",
       "    <tr>\n",
       "      <th>2</th>\n",
       "      <td>20398295383</td>\n",
       "      <td>39829538</td>\n",
       "      <td>1996-07-25</td>\n",
       "      <td>NaN</td>\n",
       "      <td>M</td>\n",
       "      <td>CARDOZO SANTIAGO EDUARDO</td>\n",
       "      <td>PRES QUINTANA</td>\n",
       "      <td>1723</td>\n",
       "      <td>NaN</td>\n",
       "      <td>1615</td>\n",
       "      <td>...</td>\n",
       "      <td>NaN</td>\n",
       "      <td>NaN</td>\n",
       "      <td>NaN</td>\n",
       "      <td>NaN</td>\n",
       "      <td>NaN</td>\n",
       "      <td>NaN</td>\n",
       "      <td>NaN</td>\n",
       "      <td>NaN</td>\n",
       "      <td>NaN</td>\n",
       "      <td>345</td>\n",
       "    </tr>\n",
       "    <tr>\n",
       "      <th>3</th>\n",
       "      <td>20359239530</td>\n",
       "      <td>35923953</td>\n",
       "      <td>1992-02-12</td>\n",
       "      <td>NaN</td>\n",
       "      <td>M</td>\n",
       "      <td>BUSTOS CLEVERS CARLOS OCTAVIO</td>\n",
       "      <td>CARLOS M ALVEAR NORTE</td>\n",
       "      <td>143</td>\n",
       "      <td>NaN</td>\n",
       "      <td>5400</td>\n",
       "      <td>...</td>\n",
       "      <td>NaN</td>\n",
       "      <td>2.646737e+09</td>\n",
       "      <td>NaN</td>\n",
       "      <td>NaN</td>\n",
       "      <td>NaN</td>\n",
       "      <td>NaN</td>\n",
       "      <td>NaN</td>\n",
       "      <td>NaN</td>\n",
       "      <td>NaN</td>\n",
       "      <td>345</td>\n",
       "    </tr>\n",
       "    <tr>\n",
       "      <th>4</th>\n",
       "      <td>20939121383</td>\n",
       "      <td>93912138</td>\n",
       "      <td>1992-12-11</td>\n",
       "      <td>NaN</td>\n",
       "      <td>M</td>\n",
       "      <td>BENEGA LOPEZ ARNALDO ARIEL</td>\n",
       "      <td>CALLE 22</td>\n",
       "      <td>170</td>\n",
       "      <td>NaN</td>\n",
       "      <td>1743</td>\n",
       "      <td>...</td>\n",
       "      <td>NaN</td>\n",
       "      <td>NaN</td>\n",
       "      <td>NaN</td>\n",
       "      <td>NaN</td>\n",
       "      <td>NaN</td>\n",
       "      <td>NaN</td>\n",
       "      <td>NaN</td>\n",
       "      <td>NaN</td>\n",
       "      <td>NaN</td>\n",
       "      <td>345</td>\n",
       "    </tr>\n",
       "  </tbody>\n",
       "</table>\n",
       "<p>5 rows × 229 columns</p>\n",
       "</div>"
      ],
      "text/plain": [
       "  Unnamed: 0_level_0 Unnamed: 1_level_0 Unnamed: 2_level_0 Unnamed: 3_level_0  \\\n",
       "                Cuil                Dni      Fecha de Nac. Fecha de Defuncion   \n",
       "0        20140531562           14053156         1959-10-12                NaN   \n",
       "1        27281648867           28164886         1980-09-14                NaN   \n",
       "2        20398295383           39829538         1996-07-25                NaN   \n",
       "3        20359239530           35923953         1992-02-12                NaN   \n",
       "4        20939121383           93912138         1992-12-11                NaN   \n",
       "\n",
       "  Unnamed: 4_level_0             Unnamed: 5_level_0     Unnamed: 6_level_0  \\\n",
       "                Sexo                        Titular                  Calle   \n",
       "0                  M          CALDERON JUAN DOMINGO                CALLE 8   \n",
       "1                  F             BAEZ CECILIA LUJAN              VILLAGUAY   \n",
       "2                  M       CARDOZO SANTIAGO EDUARDO          PRES QUINTANA   \n",
       "3                  M  BUSTOS CLEVERS CARLOS OCTAVIO  CARLOS M ALVEAR NORTE   \n",
       "4                  M     BENEGA LOPEZ ARNALDO ARIEL               CALLE 22   \n",
       "\n",
       "  Unnamed: 7_level_0 Unnamed: 8_level_0 Unnamed: 9_level_0  ...  \\\n",
       "              Numero       Piso y Depto      Codigo Postal  ...   \n",
       "0                378                NaN               2555  ...   \n",
       "1               2130                NaN               1849  ...   \n",
       "2               1723                NaN               1615  ...   \n",
       "3                143                NaN               5400  ...   \n",
       "4                170                NaN               1743  ...   \n",
       "\n",
       "  Contactacion Opcional (Familiar)                                    \\\n",
       "                        Tel Fijo 2     Celular 1 Celular 2 Celular 3   \n",
       "0                              NaN           NaN       NaN       NaN   \n",
       "1                              NaN           NaN       NaN       NaN   \n",
       "2                              NaN           NaN       NaN       NaN   \n",
       "3                              NaN  2.646737e+09       NaN       NaN   \n",
       "4                              NaN           NaN       NaN       NaN   \n",
       "\n",
       "                            Contactacion Opcional (Vecino)                      \n",
       "  Celular 4 Celular 5 Email                         Nombre      Telefono SCORE  \n",
       "0       NaN       NaN   NaN                            NaN           NaN   345  \n",
       "1       NaN       NaN   NaN                   LUJAN OLGA Y  1.142688e+09    34  \n",
       "2       NaN       NaN   NaN                            NaN           NaN   345  \n",
       "3       NaN       NaN   NaN                            NaN           NaN   345  \n",
       "4       NaN       NaN   NaN                            NaN           NaN   345  \n",
       "\n",
       "[5 rows x 229 columns]"
      ]
     },
     "execution_count": 3,
     "metadata": {},
     "output_type": "execute_result"
    }
   ],
   "source": [
    "df.head()"
   ]
  },
  {
   "cell_type": "code",
   "execution_count": 4,
   "metadata": {
    "scrolled": true
   },
   "outputs": [
    {
     "data": {
      "text/plain": [
       "(1348, 229)"
      ]
     },
     "execution_count": 4,
     "metadata": {},
     "output_type": "execute_result"
    }
   ],
   "source": [
    "df.shape"
   ]
  },
  {
   "cell_type": "markdown",
   "metadata": {},
   "source": [
    "## 1.2) Data Cleaning: Datasets"
   ]
  },
  {
   "cell_type": "markdown",
   "metadata": {},
   "source": [
    "Vamos a dropear aquellas columnas y filas que no tengan ningún valor (es decir, que sean todos NaNs)"
   ]
  },
  {
   "cell_type": "code",
   "execution_count": 5,
   "metadata": {},
   "outputs": [],
   "source": [
    "df = df.dropna(axis=0, how='all')"
   ]
  },
  {
   "cell_type": "code",
   "execution_count": 6,
   "metadata": {},
   "outputs": [],
   "source": [
    "#df = df.dropna(axis=1, how='all')"
   ]
  },
  {
   "cell_type": "code",
   "execution_count": 7,
   "metadata": {},
   "outputs": [
    {
     "data": {
      "text/plain": [
       "(1348, 229)"
      ]
     },
     "execution_count": 7,
     "metadata": {},
     "output_type": "execute_result"
    }
   ],
   "source": [
    "df.shape"
   ]
  },
  {
   "cell_type": "markdown",
   "metadata": {},
   "source": [
    "Ahora todas las columnas tienen al menos 1 dato."
   ]
  },
  {
   "cell_type": "markdown",
   "metadata": {},
   "source": [
    "# 2) Mails"
   ]
  },
  {
   "cell_type": "markdown",
   "metadata": {},
   "source": [
    "Vamos a obtener los mails de las columnas donde pueden aparecer, que son:\n",
    "\n",
    "- Mail 1, 2 y 3.\n",
    "- Email Empleador.\n",
    "- Contactacion Opcional (Familiar) - Email."
   ]
  },
  {
   "cell_type": "code",
   "execution_count": 8,
   "metadata": {},
   "outputs": [],
   "source": [
    "#df.to_excel('columns.xlsx')"
   ]
  },
  {
   "cell_type": "code",
   "execution_count": 9,
   "metadata": {},
   "outputs": [],
   "source": [
    "df_reduced = df [[('Unnamed: 0_level_0','Cuil'),('Unnamed: 1_level_0','Dni'), ('Unnamed: 5_level_0','Titular'),('Unnamed: 25_level_0','Mail'),('Unnamed: 26_level_0','Mail2'),('Unnamed: 27_level_0','Mail 3'),('Email Empleador', 'Unnamed: 169_level_1'), ('Contactacion Opcional (Familiar)','Email')]]"
   ]
  },
  {
   "cell_type": "code",
   "execution_count": 10,
   "metadata": {},
   "outputs": [
    {
     "data": {
      "text/html": [
       "<div>\n",
       "<style scoped>\n",
       "    .dataframe tbody tr th:only-of-type {\n",
       "        vertical-align: middle;\n",
       "    }\n",
       "\n",
       "    .dataframe tbody tr th {\n",
       "        vertical-align: top;\n",
       "    }\n",
       "\n",
       "    .dataframe thead tr th {\n",
       "        text-align: left;\n",
       "    }\n",
       "</style>\n",
       "<table border=\"1\" class=\"dataframe\">\n",
       "  <thead>\n",
       "    <tr>\n",
       "      <th></th>\n",
       "      <th>Unnamed: 0_level_0</th>\n",
       "      <th>Unnamed: 1_level_0</th>\n",
       "      <th>Unnamed: 5_level_0</th>\n",
       "      <th>Unnamed: 25_level_0</th>\n",
       "      <th>Unnamed: 26_level_0</th>\n",
       "      <th>Unnamed: 27_level_0</th>\n",
       "      <th>Email Empleador</th>\n",
       "      <th>Contactacion Opcional (Familiar)</th>\n",
       "    </tr>\n",
       "    <tr>\n",
       "      <th></th>\n",
       "      <th>Cuil</th>\n",
       "      <th>Dni</th>\n",
       "      <th>Titular</th>\n",
       "      <th>Mail</th>\n",
       "      <th>Mail2</th>\n",
       "      <th>Mail 3</th>\n",
       "      <th>Unnamed: 169_level_1</th>\n",
       "      <th>Email</th>\n",
       "    </tr>\n",
       "  </thead>\n",
       "  <tbody>\n",
       "    <tr>\n",
       "      <th>0</th>\n",
       "      <td>20140531562</td>\n",
       "      <td>14053156</td>\n",
       "      <td>CALDERON JUAN DOMINGO</td>\n",
       "      <td>NaN</td>\n",
       "      <td>NaN</td>\n",
       "      <td>NaN</td>\n",
       "      <td>dalila862005@hotmail.com</td>\n",
       "      <td>NaN</td>\n",
       "    </tr>\n",
       "    <tr>\n",
       "      <th>1</th>\n",
       "      <td>27281648867</td>\n",
       "      <td>28164886</td>\n",
       "      <td>BAEZ CECILIA LUJAN</td>\n",
       "      <td>NaN</td>\n",
       "      <td>NaN</td>\n",
       "      <td>NaN</td>\n",
       "      <td>NaN</td>\n",
       "      <td>NaN</td>\n",
       "    </tr>\n",
       "    <tr>\n",
       "      <th>2</th>\n",
       "      <td>20398295383</td>\n",
       "      <td>39829538</td>\n",
       "      <td>CARDOZO SANTIAGO EDUARDO</td>\n",
       "      <td>NaN</td>\n",
       "      <td>NaN</td>\n",
       "      <td>NaN</td>\n",
       "      <td>NaN</td>\n",
       "      <td>NaN</td>\n",
       "    </tr>\n",
       "    <tr>\n",
       "      <th>3</th>\n",
       "      <td>20359239530</td>\n",
       "      <td>35923953</td>\n",
       "      <td>BUSTOS CLEVERS CARLOS OCTAVIO</td>\n",
       "      <td>NaN</td>\n",
       "      <td>NaN</td>\n",
       "      <td>NaN</td>\n",
       "      <td>estudiomattler@gmail.com</td>\n",
       "      <td>NaN</td>\n",
       "    </tr>\n",
       "    <tr>\n",
       "      <th>4</th>\n",
       "      <td>20939121383</td>\n",
       "      <td>93912138</td>\n",
       "      <td>BENEGA LOPEZ ARNALDO ARIEL</td>\n",
       "      <td>NaN</td>\n",
       "      <td>NaN</td>\n",
       "      <td>NaN</td>\n",
       "      <td>NaN</td>\n",
       "      <td>NaN</td>\n",
       "    </tr>\n",
       "  </tbody>\n",
       "</table>\n",
       "</div>"
      ],
      "text/plain": [
       "  Unnamed: 0_level_0 Unnamed: 1_level_0             Unnamed: 5_level_0  \\\n",
       "                Cuil                Dni                        Titular   \n",
       "0        20140531562           14053156          CALDERON JUAN DOMINGO   \n",
       "1        27281648867           28164886             BAEZ CECILIA LUJAN   \n",
       "2        20398295383           39829538       CARDOZO SANTIAGO EDUARDO   \n",
       "3        20359239530           35923953  BUSTOS CLEVERS CARLOS OCTAVIO   \n",
       "4        20939121383           93912138     BENEGA LOPEZ ARNALDO ARIEL   \n",
       "\n",
       "  Unnamed: 25_level_0 Unnamed: 26_level_0 Unnamed: 27_level_0  \\\n",
       "                 Mail               Mail2              Mail 3   \n",
       "0                 NaN                 NaN                 NaN   \n",
       "1                 NaN                 NaN                 NaN   \n",
       "2                 NaN                 NaN                 NaN   \n",
       "3                 NaN                 NaN                 NaN   \n",
       "4                 NaN                 NaN                 NaN   \n",
       "\n",
       "            Email Empleador Contactacion Opcional (Familiar)  \n",
       "       Unnamed: 169_level_1                            Email  \n",
       "0  dalila862005@hotmail.com                              NaN  \n",
       "1                       NaN                              NaN  \n",
       "2                       NaN                              NaN  \n",
       "3  estudiomattler@gmail.com                              NaN  \n",
       "4                       NaN                              NaN  "
      ]
     },
     "execution_count": 10,
     "metadata": {},
     "output_type": "execute_result"
    }
   ],
   "source": [
    "df_reduced.head()"
   ]
  },
  {
   "cell_type": "code",
   "execution_count": 11,
   "metadata": {},
   "outputs": [
    {
     "data": {
      "text/plain": [
       "(1348, 8)"
      ]
     },
     "execution_count": 11,
     "metadata": {},
     "output_type": "execute_result"
    }
   ],
   "source": [
    "df_reduced.shape"
   ]
  },
  {
   "cell_type": "markdown",
   "metadata": {},
   "source": [
    "Eliminamos el multilevel de las columnas, y las renombramos:"
   ]
  },
  {
   "cell_type": "code",
   "execution_count": 12,
   "metadata": {},
   "outputs": [],
   "source": [
    "df_reduced.columns = df_reduced.columns.droplevel()"
   ]
  },
  {
   "cell_type": "code",
   "execution_count": 13,
   "metadata": {},
   "outputs": [
    {
     "data": {
      "text/html": [
       "<div>\n",
       "<style scoped>\n",
       "    .dataframe tbody tr th:only-of-type {\n",
       "        vertical-align: middle;\n",
       "    }\n",
       "\n",
       "    .dataframe tbody tr th {\n",
       "        vertical-align: top;\n",
       "    }\n",
       "\n",
       "    .dataframe thead th {\n",
       "        text-align: right;\n",
       "    }\n",
       "</style>\n",
       "<table border=\"1\" class=\"dataframe\">\n",
       "  <thead>\n",
       "    <tr style=\"text-align: right;\">\n",
       "      <th></th>\n",
       "      <th>Cuil</th>\n",
       "      <th>Dni</th>\n",
       "      <th>Titular</th>\n",
       "      <th>Mail</th>\n",
       "      <th>Mail2</th>\n",
       "      <th>Mail 3</th>\n",
       "      <th>Unnamed: 169_level_1</th>\n",
       "      <th>Email</th>\n",
       "    </tr>\n",
       "  </thead>\n",
       "  <tbody>\n",
       "    <tr>\n",
       "      <th>0</th>\n",
       "      <td>20140531562</td>\n",
       "      <td>14053156</td>\n",
       "      <td>CALDERON JUAN DOMINGO</td>\n",
       "      <td>NaN</td>\n",
       "      <td>NaN</td>\n",
       "      <td>NaN</td>\n",
       "      <td>dalila862005@hotmail.com</td>\n",
       "      <td>NaN</td>\n",
       "    </tr>\n",
       "    <tr>\n",
       "      <th>1</th>\n",
       "      <td>27281648867</td>\n",
       "      <td>28164886</td>\n",
       "      <td>BAEZ CECILIA LUJAN</td>\n",
       "      <td>NaN</td>\n",
       "      <td>NaN</td>\n",
       "      <td>NaN</td>\n",
       "      <td>NaN</td>\n",
       "      <td>NaN</td>\n",
       "    </tr>\n",
       "    <tr>\n",
       "      <th>2</th>\n",
       "      <td>20398295383</td>\n",
       "      <td>39829538</td>\n",
       "      <td>CARDOZO SANTIAGO EDUARDO</td>\n",
       "      <td>NaN</td>\n",
       "      <td>NaN</td>\n",
       "      <td>NaN</td>\n",
       "      <td>NaN</td>\n",
       "      <td>NaN</td>\n",
       "    </tr>\n",
       "    <tr>\n",
       "      <th>3</th>\n",
       "      <td>20359239530</td>\n",
       "      <td>35923953</td>\n",
       "      <td>BUSTOS CLEVERS CARLOS OCTAVIO</td>\n",
       "      <td>NaN</td>\n",
       "      <td>NaN</td>\n",
       "      <td>NaN</td>\n",
       "      <td>estudiomattler@gmail.com</td>\n",
       "      <td>NaN</td>\n",
       "    </tr>\n",
       "    <tr>\n",
       "      <th>4</th>\n",
       "      <td>20939121383</td>\n",
       "      <td>93912138</td>\n",
       "      <td>BENEGA LOPEZ ARNALDO ARIEL</td>\n",
       "      <td>NaN</td>\n",
       "      <td>NaN</td>\n",
       "      <td>NaN</td>\n",
       "      <td>NaN</td>\n",
       "      <td>NaN</td>\n",
       "    </tr>\n",
       "  </tbody>\n",
       "</table>\n",
       "</div>"
      ],
      "text/plain": [
       "          Cuil       Dni                        Titular Mail  Mail2  Mail 3  \\\n",
       "0  20140531562  14053156          CALDERON JUAN DOMINGO  NaN    NaN     NaN   \n",
       "1  27281648867  28164886             BAEZ CECILIA LUJAN  NaN    NaN     NaN   \n",
       "2  20398295383  39829538       CARDOZO SANTIAGO EDUARDO  NaN    NaN     NaN   \n",
       "3  20359239530  35923953  BUSTOS CLEVERS CARLOS OCTAVIO  NaN    NaN     NaN   \n",
       "4  20939121383  93912138     BENEGA LOPEZ ARNALDO ARIEL  NaN    NaN     NaN   \n",
       "\n",
       "       Unnamed: 169_level_1 Email  \n",
       "0  dalila862005@hotmail.com   NaN  \n",
       "1                       NaN   NaN  \n",
       "2                       NaN   NaN  \n",
       "3  estudiomattler@gmail.com   NaN  \n",
       "4                       NaN   NaN  "
      ]
     },
     "execution_count": 13,
     "metadata": {},
     "output_type": "execute_result"
    }
   ],
   "source": [
    "df_reduced.head()"
   ]
  },
  {
   "cell_type": "code",
   "execution_count": 14,
   "metadata": {},
   "outputs": [],
   "source": [
    "df_reduced = df_reduced.rename(columns={\"Cuil\": \"CUIT_CUIL\", 'Dni': 'NRO_DOC','Unnamed: 169_level_1':'Mail_empleador','Email':'Mail_ajeno'})"
   ]
  },
  {
   "cell_type": "code",
   "execution_count": 15,
   "metadata": {},
   "outputs": [
    {
     "data": {
      "text/html": [
       "<div>\n",
       "<style scoped>\n",
       "    .dataframe tbody tr th:only-of-type {\n",
       "        vertical-align: middle;\n",
       "    }\n",
       "\n",
       "    .dataframe tbody tr th {\n",
       "        vertical-align: top;\n",
       "    }\n",
       "\n",
       "    .dataframe thead th {\n",
       "        text-align: right;\n",
       "    }\n",
       "</style>\n",
       "<table border=\"1\" class=\"dataframe\">\n",
       "  <thead>\n",
       "    <tr style=\"text-align: right;\">\n",
       "      <th></th>\n",
       "      <th>CUIT_CUIL</th>\n",
       "      <th>NRO_DOC</th>\n",
       "      <th>Titular</th>\n",
       "      <th>Mail</th>\n",
       "      <th>Mail2</th>\n",
       "      <th>Mail 3</th>\n",
       "      <th>Mail_empleador</th>\n",
       "      <th>Mail_ajeno</th>\n",
       "    </tr>\n",
       "  </thead>\n",
       "  <tbody>\n",
       "    <tr>\n",
       "      <th>0</th>\n",
       "      <td>20140531562</td>\n",
       "      <td>14053156</td>\n",
       "      <td>CALDERON JUAN DOMINGO</td>\n",
       "      <td>NaN</td>\n",
       "      <td>NaN</td>\n",
       "      <td>NaN</td>\n",
       "      <td>dalila862005@hotmail.com</td>\n",
       "      <td>NaN</td>\n",
       "    </tr>\n",
       "    <tr>\n",
       "      <th>1</th>\n",
       "      <td>27281648867</td>\n",
       "      <td>28164886</td>\n",
       "      <td>BAEZ CECILIA LUJAN</td>\n",
       "      <td>NaN</td>\n",
       "      <td>NaN</td>\n",
       "      <td>NaN</td>\n",
       "      <td>NaN</td>\n",
       "      <td>NaN</td>\n",
       "    </tr>\n",
       "    <tr>\n",
       "      <th>2</th>\n",
       "      <td>20398295383</td>\n",
       "      <td>39829538</td>\n",
       "      <td>CARDOZO SANTIAGO EDUARDO</td>\n",
       "      <td>NaN</td>\n",
       "      <td>NaN</td>\n",
       "      <td>NaN</td>\n",
       "      <td>NaN</td>\n",
       "      <td>NaN</td>\n",
       "    </tr>\n",
       "    <tr>\n",
       "      <th>3</th>\n",
       "      <td>20359239530</td>\n",
       "      <td>35923953</td>\n",
       "      <td>BUSTOS CLEVERS CARLOS OCTAVIO</td>\n",
       "      <td>NaN</td>\n",
       "      <td>NaN</td>\n",
       "      <td>NaN</td>\n",
       "      <td>estudiomattler@gmail.com</td>\n",
       "      <td>NaN</td>\n",
       "    </tr>\n",
       "    <tr>\n",
       "      <th>4</th>\n",
       "      <td>20939121383</td>\n",
       "      <td>93912138</td>\n",
       "      <td>BENEGA LOPEZ ARNALDO ARIEL</td>\n",
       "      <td>NaN</td>\n",
       "      <td>NaN</td>\n",
       "      <td>NaN</td>\n",
       "      <td>NaN</td>\n",
       "      <td>NaN</td>\n",
       "    </tr>\n",
       "  </tbody>\n",
       "</table>\n",
       "</div>"
      ],
      "text/plain": [
       "     CUIT_CUIL   NRO_DOC                        Titular Mail  Mail2  Mail 3  \\\n",
       "0  20140531562  14053156          CALDERON JUAN DOMINGO  NaN    NaN     NaN   \n",
       "1  27281648867  28164886             BAEZ CECILIA LUJAN  NaN    NaN     NaN   \n",
       "2  20398295383  39829538       CARDOZO SANTIAGO EDUARDO  NaN    NaN     NaN   \n",
       "3  20359239530  35923953  BUSTOS CLEVERS CARLOS OCTAVIO  NaN    NaN     NaN   \n",
       "4  20939121383  93912138     BENEGA LOPEZ ARNALDO ARIEL  NaN    NaN     NaN   \n",
       "\n",
       "             Mail_empleador Mail_ajeno  \n",
       "0  dalila862005@hotmail.com        NaN  \n",
       "1                       NaN        NaN  \n",
       "2                       NaN        NaN  \n",
       "3  estudiomattler@gmail.com        NaN  \n",
       "4                       NaN        NaN  "
      ]
     },
     "execution_count": 15,
     "metadata": {},
     "output_type": "execute_result"
    }
   ],
   "source": [
    "df_reduced.head()"
   ]
  },
  {
   "cell_type": "code",
   "execution_count": 16,
   "metadata": {},
   "outputs": [],
   "source": [
    "df_reduced = df_reduced.rename(columns={'Mail':'Mail 1','Mail2':'Mail 2'})"
   ]
  },
  {
   "cell_type": "markdown",
   "metadata": {},
   "source": [
    "# 3) Concatenación de Mails"
   ]
  },
  {
   "cell_type": "markdown",
   "metadata": {},
   "source": [
    "Como PyP envía un mail por celda, tengo que concatenar las columnas Mail_propio y Mail_ajeno en una lista dentro de una nueva columna denominada \"Dato\""
   ]
  },
  {
   "cell_type": "code",
   "execution_count": 17,
   "metadata": {},
   "outputs": [],
   "source": [
    "df_melt= pd.melt(df_reduced, id_vars=['CUIT_CUIL', 'NRO_DOC', 'Titular'], value_vars=['Mail 1','Mail 2','Mail 3','Mail_empleador' ,'Mail_ajeno'],value_name='Dato')"
   ]
  },
  {
   "cell_type": "code",
   "execution_count": 18,
   "metadata": {},
   "outputs": [
    {
     "data": {
      "text/html": [
       "<div>\n",
       "<style scoped>\n",
       "    .dataframe tbody tr th:only-of-type {\n",
       "        vertical-align: middle;\n",
       "    }\n",
       "\n",
       "    .dataframe tbody tr th {\n",
       "        vertical-align: top;\n",
       "    }\n",
       "\n",
       "    .dataframe thead th {\n",
       "        text-align: right;\n",
       "    }\n",
       "</style>\n",
       "<table border=\"1\" class=\"dataframe\">\n",
       "  <thead>\n",
       "    <tr style=\"text-align: right;\">\n",
       "      <th></th>\n",
       "      <th>CUIT_CUIL</th>\n",
       "      <th>NRO_DOC</th>\n",
       "      <th>Titular</th>\n",
       "      <th>variable</th>\n",
       "      <th>Dato</th>\n",
       "    </tr>\n",
       "  </thead>\n",
       "  <tbody>\n",
       "    <tr>\n",
       "      <th>0</th>\n",
       "      <td>20140531562</td>\n",
       "      <td>14053156</td>\n",
       "      <td>CALDERON JUAN DOMINGO</td>\n",
       "      <td>Mail 1</td>\n",
       "      <td>NaN</td>\n",
       "    </tr>\n",
       "    <tr>\n",
       "      <th>1</th>\n",
       "      <td>27281648867</td>\n",
       "      <td>28164886</td>\n",
       "      <td>BAEZ CECILIA LUJAN</td>\n",
       "      <td>Mail 1</td>\n",
       "      <td>NaN</td>\n",
       "    </tr>\n",
       "    <tr>\n",
       "      <th>2</th>\n",
       "      <td>20398295383</td>\n",
       "      <td>39829538</td>\n",
       "      <td>CARDOZO SANTIAGO EDUARDO</td>\n",
       "      <td>Mail 1</td>\n",
       "      <td>NaN</td>\n",
       "    </tr>\n",
       "    <tr>\n",
       "      <th>3</th>\n",
       "      <td>20359239530</td>\n",
       "      <td>35923953</td>\n",
       "      <td>BUSTOS CLEVERS CARLOS OCTAVIO</td>\n",
       "      <td>Mail 1</td>\n",
       "      <td>NaN</td>\n",
       "    </tr>\n",
       "    <tr>\n",
       "      <th>4</th>\n",
       "      <td>20939121383</td>\n",
       "      <td>93912138</td>\n",
       "      <td>BENEGA LOPEZ ARNALDO ARIEL</td>\n",
       "      <td>Mail 1</td>\n",
       "      <td>NaN</td>\n",
       "    </tr>\n",
       "  </tbody>\n",
       "</table>\n",
       "</div>"
      ],
      "text/plain": [
       "     CUIT_CUIL   NRO_DOC                        Titular variable Dato\n",
       "0  20140531562  14053156          CALDERON JUAN DOMINGO   Mail 1  NaN\n",
       "1  27281648867  28164886             BAEZ CECILIA LUJAN   Mail 1  NaN\n",
       "2  20398295383  39829538       CARDOZO SANTIAGO EDUARDO   Mail 1  NaN\n",
       "3  20359239530  35923953  BUSTOS CLEVERS CARLOS OCTAVIO   Mail 1  NaN\n",
       "4  20939121383  93912138     BENEGA LOPEZ ARNALDO ARIEL   Mail 1  NaN"
      ]
     },
     "execution_count": 18,
     "metadata": {},
     "output_type": "execute_result"
    }
   ],
   "source": [
    "df_melt.head()"
   ]
  },
  {
   "cell_type": "code",
   "execution_count": 19,
   "metadata": {},
   "outputs": [],
   "source": [
    "#df_melt.to_excel('df_melt.xlsx')"
   ]
  },
  {
   "cell_type": "markdown",
   "metadata": {},
   "source": [
    "# 4) Drop NaNs"
   ]
  },
  {
   "cell_type": "markdown",
   "metadata": {},
   "source": [
    "Dropeamos aquellas filas que tengan NaN en la columna Dato, ya que no nos aporta nada:"
   ]
  },
  {
   "cell_type": "code",
   "execution_count": 20,
   "metadata": {},
   "outputs": [],
   "source": [
    "df_melt = df_melt.dropna(subset=['Dato'])"
   ]
  },
  {
   "cell_type": "code",
   "execution_count": 21,
   "metadata": {},
   "outputs": [
    {
     "data": {
      "text/plain": [
       "(613, 5)"
      ]
     },
     "execution_count": 21,
     "metadata": {},
     "output_type": "execute_result"
    }
   ],
   "source": [
    "df_melt.shape"
   ]
  },
  {
   "cell_type": "code",
   "execution_count": 22,
   "metadata": {},
   "outputs": [
    {
     "data": {
      "text/html": [
       "<div>\n",
       "<style scoped>\n",
       "    .dataframe tbody tr th:only-of-type {\n",
       "        vertical-align: middle;\n",
       "    }\n",
       "\n",
       "    .dataframe tbody tr th {\n",
       "        vertical-align: top;\n",
       "    }\n",
       "\n",
       "    .dataframe thead th {\n",
       "        text-align: right;\n",
       "    }\n",
       "</style>\n",
       "<table border=\"1\" class=\"dataframe\">\n",
       "  <thead>\n",
       "    <tr style=\"text-align: right;\">\n",
       "      <th></th>\n",
       "      <th>CUIT_CUIL</th>\n",
       "      <th>NRO_DOC</th>\n",
       "      <th>Titular</th>\n",
       "      <th>variable</th>\n",
       "      <th>Dato</th>\n",
       "    </tr>\n",
       "  </thead>\n",
       "  <tbody>\n",
       "    <tr>\n",
       "      <th>7</th>\n",
       "      <td>23222757339</td>\n",
       "      <td>22275733</td>\n",
       "      <td>BONOMETTI CESAR ADRIAN</td>\n",
       "      <td>Mail 1</td>\n",
       "      <td>cesarbonometti@gmail.com</td>\n",
       "    </tr>\n",
       "    <tr>\n",
       "      <th>15</th>\n",
       "      <td>27176578926</td>\n",
       "      <td>17657892</td>\n",
       "      <td>REBOLLIDO MARCELA ALEJANDRA</td>\n",
       "      <td>Mail 1</td>\n",
       "      <td>marcelarebollido@yahoo.com</td>\n",
       "    </tr>\n",
       "    <tr>\n",
       "      <th>17</th>\n",
       "      <td>20923312006</td>\n",
       "      <td>92331200</td>\n",
       "      <td>CASTRO PENAYO ANGEL EULALIO</td>\n",
       "      <td>Mail 1</td>\n",
       "      <td>edu_urquiza@hotmail.com</td>\n",
       "    </tr>\n",
       "    <tr>\n",
       "      <th>22</th>\n",
       "      <td>20188973524</td>\n",
       "      <td>18897352</td>\n",
       "      <td>BITAR RAUAD</td>\n",
       "      <td>Mail 1</td>\n",
       "      <td>eliasbitar69@hotmail.com</td>\n",
       "    </tr>\n",
       "    <tr>\n",
       "      <th>25</th>\n",
       "      <td>27246807294</td>\n",
       "      <td>24680729</td>\n",
       "      <td>CARDINALI CECILIA ELOISA</td>\n",
       "      <td>Mail 1</td>\n",
       "      <td>laugfg@gmail.com</td>\n",
       "    </tr>\n",
       "  </tbody>\n",
       "</table>\n",
       "</div>"
      ],
      "text/plain": [
       "      CUIT_CUIL   NRO_DOC                      Titular variable  \\\n",
       "7   23222757339  22275733       BONOMETTI CESAR ADRIAN   Mail 1   \n",
       "15  27176578926  17657892  REBOLLIDO MARCELA ALEJANDRA   Mail 1   \n",
       "17  20923312006  92331200  CASTRO PENAYO ANGEL EULALIO   Mail 1   \n",
       "22  20188973524  18897352                  BITAR RAUAD   Mail 1   \n",
       "25  27246807294  24680729     CARDINALI CECILIA ELOISA   Mail 1   \n",
       "\n",
       "                          Dato  \n",
       "7     cesarbonometti@gmail.com  \n",
       "15  marcelarebollido@yahoo.com  \n",
       "17     edu_urquiza@hotmail.com  \n",
       "22    eliasbitar69@hotmail.com  \n",
       "25            laugfg@gmail.com  "
      ]
     },
     "execution_count": 22,
     "metadata": {},
     "output_type": "execute_result"
    }
   ],
   "source": [
    "df_melt.head()"
   ]
  },
  {
   "cell_type": "markdown",
   "metadata": {},
   "source": [
    "# 5) Propietario del Dato"
   ]
  },
  {
   "cell_type": "markdown",
   "metadata": {},
   "source": [
    "En función de la columna \"variable\" creamos una nueva columna PROPIETARIO_DATO"
   ]
  },
  {
   "cell_type": "code",
   "execution_count": 23,
   "metadata": {},
   "outputs": [],
   "source": [
    "df_melt.loc[(df_melt['variable'] == 'Mail 1') , 'PROPIETARIO_DATO'] = 'Propio'"
   ]
  },
  {
   "cell_type": "code",
   "execution_count": 24,
   "metadata": {},
   "outputs": [],
   "source": [
    "df_melt.loc[(df_melt['variable'] == 'Mail 2') , 'PROPIETARIO_DATO'] = 'Propio'"
   ]
  },
  {
   "cell_type": "code",
   "execution_count": 25,
   "metadata": {},
   "outputs": [],
   "source": [
    "df_melt.loc[(df_melt['variable'] == 'Mail 3') , 'PROPIETARIO_DATO'] = 'Propio'"
   ]
  },
  {
   "cell_type": "code",
   "execution_count": 26,
   "metadata": {},
   "outputs": [],
   "source": [
    "df_melt.loc[(df_melt['variable'] == 'Mail_ajeno') , 'PROPIETARIO_DATO'] = 'Ajeno_familiar'"
   ]
  },
  {
   "cell_type": "code",
   "execution_count": 27,
   "metadata": {},
   "outputs": [],
   "source": [
    "df_melt.loc[(df_melt['variable'] == 'Mail_empleador') , 'PROPIETARIO_DATO'] = 'Ajeno_empleador'"
   ]
  },
  {
   "cell_type": "code",
   "execution_count": 28,
   "metadata": {},
   "outputs": [],
   "source": [
    "df_melt = df_melt.drop(columns=['variable'])"
   ]
  },
  {
   "cell_type": "code",
   "execution_count": 29,
   "metadata": {},
   "outputs": [
    {
     "data": {
      "text/html": [
       "<div>\n",
       "<style scoped>\n",
       "    .dataframe tbody tr th:only-of-type {\n",
       "        vertical-align: middle;\n",
       "    }\n",
       "\n",
       "    .dataframe tbody tr th {\n",
       "        vertical-align: top;\n",
       "    }\n",
       "\n",
       "    .dataframe thead th {\n",
       "        text-align: right;\n",
       "    }\n",
       "</style>\n",
       "<table border=\"1\" class=\"dataframe\">\n",
       "  <thead>\n",
       "    <tr style=\"text-align: right;\">\n",
       "      <th></th>\n",
       "      <th>CUIT_CUIL</th>\n",
       "      <th>NRO_DOC</th>\n",
       "      <th>Titular</th>\n",
       "      <th>Dato</th>\n",
       "      <th>PROPIETARIO_DATO</th>\n",
       "    </tr>\n",
       "  </thead>\n",
       "  <tbody>\n",
       "    <tr>\n",
       "      <th>7</th>\n",
       "      <td>23222757339</td>\n",
       "      <td>22275733</td>\n",
       "      <td>BONOMETTI CESAR ADRIAN</td>\n",
       "      <td>cesarbonometti@gmail.com</td>\n",
       "      <td>Propio</td>\n",
       "    </tr>\n",
       "    <tr>\n",
       "      <th>15</th>\n",
       "      <td>27176578926</td>\n",
       "      <td>17657892</td>\n",
       "      <td>REBOLLIDO MARCELA ALEJANDRA</td>\n",
       "      <td>marcelarebollido@yahoo.com</td>\n",
       "      <td>Propio</td>\n",
       "    </tr>\n",
       "    <tr>\n",
       "      <th>17</th>\n",
       "      <td>20923312006</td>\n",
       "      <td>92331200</td>\n",
       "      <td>CASTRO PENAYO ANGEL EULALIO</td>\n",
       "      <td>edu_urquiza@hotmail.com</td>\n",
       "      <td>Propio</td>\n",
       "    </tr>\n",
       "    <tr>\n",
       "      <th>22</th>\n",
       "      <td>20188973524</td>\n",
       "      <td>18897352</td>\n",
       "      <td>BITAR RAUAD</td>\n",
       "      <td>eliasbitar69@hotmail.com</td>\n",
       "      <td>Propio</td>\n",
       "    </tr>\n",
       "    <tr>\n",
       "      <th>25</th>\n",
       "      <td>27246807294</td>\n",
       "      <td>24680729</td>\n",
       "      <td>CARDINALI CECILIA ELOISA</td>\n",
       "      <td>laugfg@gmail.com</td>\n",
       "      <td>Propio</td>\n",
       "    </tr>\n",
       "  </tbody>\n",
       "</table>\n",
       "</div>"
      ],
      "text/plain": [
       "      CUIT_CUIL   NRO_DOC                      Titular  \\\n",
       "7   23222757339  22275733       BONOMETTI CESAR ADRIAN   \n",
       "15  27176578926  17657892  REBOLLIDO MARCELA ALEJANDRA   \n",
       "17  20923312006  92331200  CASTRO PENAYO ANGEL EULALIO   \n",
       "22  20188973524  18897352                  BITAR RAUAD   \n",
       "25  27246807294  24680729     CARDINALI CECILIA ELOISA   \n",
       "\n",
       "                          Dato PROPIETARIO_DATO  \n",
       "7     cesarbonometti@gmail.com           Propio  \n",
       "15  marcelarebollido@yahoo.com           Propio  \n",
       "17     edu_urquiza@hotmail.com           Propio  \n",
       "22    eliasbitar69@hotmail.com           Propio  \n",
       "25            laugfg@gmail.com           Propio  "
      ]
     },
     "execution_count": 29,
     "metadata": {},
     "output_type": "execute_result"
    }
   ],
   "source": [
    "df_melt.head()"
   ]
  },
  {
   "cell_type": "markdown",
   "metadata": {},
   "source": [
    "# 6) Columna Proveedor"
   ]
  },
  {
   "cell_type": "markdown",
   "metadata": {},
   "source": [
    "Agregamos la columna PROVEEDOR_DATO, con el código correspondiente.\n",
    "\n",
    "PyP = P2"
   ]
  },
  {
   "cell_type": "code",
   "execution_count": 30,
   "metadata": {},
   "outputs": [],
   "source": [
    "cod_pyp = 'P2'"
   ]
  },
  {
   "cell_type": "code",
   "execution_count": 31,
   "metadata": {},
   "outputs": [],
   "source": [
    "df_clean = df_melt.assign(PROVEEDOR_DATO=cod_pyp)"
   ]
  },
  {
   "cell_type": "code",
   "execution_count": 32,
   "metadata": {},
   "outputs": [
    {
     "data": {
      "text/html": [
       "<div>\n",
       "<style scoped>\n",
       "    .dataframe tbody tr th:only-of-type {\n",
       "        vertical-align: middle;\n",
       "    }\n",
       "\n",
       "    .dataframe tbody tr th {\n",
       "        vertical-align: top;\n",
       "    }\n",
       "\n",
       "    .dataframe thead th {\n",
       "        text-align: right;\n",
       "    }\n",
       "</style>\n",
       "<table border=\"1\" class=\"dataframe\">\n",
       "  <thead>\n",
       "    <tr style=\"text-align: right;\">\n",
       "      <th></th>\n",
       "      <th>CUIT_CUIL</th>\n",
       "      <th>NRO_DOC</th>\n",
       "      <th>Titular</th>\n",
       "      <th>Dato</th>\n",
       "      <th>PROPIETARIO_DATO</th>\n",
       "      <th>PROVEEDOR_DATO</th>\n",
       "    </tr>\n",
       "  </thead>\n",
       "  <tbody>\n",
       "    <tr>\n",
       "      <th>7</th>\n",
       "      <td>23222757339</td>\n",
       "      <td>22275733</td>\n",
       "      <td>BONOMETTI CESAR ADRIAN</td>\n",
       "      <td>cesarbonometti@gmail.com</td>\n",
       "      <td>Propio</td>\n",
       "      <td>P2</td>\n",
       "    </tr>\n",
       "    <tr>\n",
       "      <th>15</th>\n",
       "      <td>27176578926</td>\n",
       "      <td>17657892</td>\n",
       "      <td>REBOLLIDO MARCELA ALEJANDRA</td>\n",
       "      <td>marcelarebollido@yahoo.com</td>\n",
       "      <td>Propio</td>\n",
       "      <td>P2</td>\n",
       "    </tr>\n",
       "    <tr>\n",
       "      <th>17</th>\n",
       "      <td>20923312006</td>\n",
       "      <td>92331200</td>\n",
       "      <td>CASTRO PENAYO ANGEL EULALIO</td>\n",
       "      <td>edu_urquiza@hotmail.com</td>\n",
       "      <td>Propio</td>\n",
       "      <td>P2</td>\n",
       "    </tr>\n",
       "    <tr>\n",
       "      <th>22</th>\n",
       "      <td>20188973524</td>\n",
       "      <td>18897352</td>\n",
       "      <td>BITAR RAUAD</td>\n",
       "      <td>eliasbitar69@hotmail.com</td>\n",
       "      <td>Propio</td>\n",
       "      <td>P2</td>\n",
       "    </tr>\n",
       "    <tr>\n",
       "      <th>25</th>\n",
       "      <td>27246807294</td>\n",
       "      <td>24680729</td>\n",
       "      <td>CARDINALI CECILIA ELOISA</td>\n",
       "      <td>laugfg@gmail.com</td>\n",
       "      <td>Propio</td>\n",
       "      <td>P2</td>\n",
       "    </tr>\n",
       "  </tbody>\n",
       "</table>\n",
       "</div>"
      ],
      "text/plain": [
       "      CUIT_CUIL   NRO_DOC                      Titular  \\\n",
       "7   23222757339  22275733       BONOMETTI CESAR ADRIAN   \n",
       "15  27176578926  17657892  REBOLLIDO MARCELA ALEJANDRA   \n",
       "17  20923312006  92331200  CASTRO PENAYO ANGEL EULALIO   \n",
       "22  20188973524  18897352                  BITAR RAUAD   \n",
       "25  27246807294  24680729     CARDINALI CECILIA ELOISA   \n",
       "\n",
       "                          Dato PROPIETARIO_DATO PROVEEDOR_DATO  \n",
       "7     cesarbonometti@gmail.com           Propio             P2  \n",
       "15  marcelarebollido@yahoo.com           Propio             P2  \n",
       "17     edu_urquiza@hotmail.com           Propio             P2  \n",
       "22    eliasbitar69@hotmail.com           Propio             P2  \n",
       "25            laugfg@gmail.com           Propio             P2  "
      ]
     },
     "execution_count": 32,
     "metadata": {},
     "output_type": "execute_result"
    }
   ],
   "source": [
    "df_clean.head()"
   ]
  },
  {
   "cell_type": "markdown",
   "metadata": {},
   "source": [
    "# 7) Columna Tipo"
   ]
  },
  {
   "cell_type": "markdown",
   "metadata": {},
   "source": [
    "Agregamos la columna TIPO, con el código correspondiente"
   ]
  },
  {
   "cell_type": "code",
   "execution_count": 33,
   "metadata": {},
   "outputs": [],
   "source": [
    "tipo_dato = 'EMAIL'"
   ]
  },
  {
   "cell_type": "code",
   "execution_count": 34,
   "metadata": {},
   "outputs": [],
   "source": [
    "df_clean = df_clean.assign(TIPO=tipo_dato)"
   ]
  },
  {
   "cell_type": "code",
   "execution_count": 35,
   "metadata": {},
   "outputs": [
    {
     "data": {
      "text/html": [
       "<div>\n",
       "<style scoped>\n",
       "    .dataframe tbody tr th:only-of-type {\n",
       "        vertical-align: middle;\n",
       "    }\n",
       "\n",
       "    .dataframe tbody tr th {\n",
       "        vertical-align: top;\n",
       "    }\n",
       "\n",
       "    .dataframe thead th {\n",
       "        text-align: right;\n",
       "    }\n",
       "</style>\n",
       "<table border=\"1\" class=\"dataframe\">\n",
       "  <thead>\n",
       "    <tr style=\"text-align: right;\">\n",
       "      <th></th>\n",
       "      <th>CUIT_CUIL</th>\n",
       "      <th>NRO_DOC</th>\n",
       "      <th>Titular</th>\n",
       "      <th>Dato</th>\n",
       "      <th>PROPIETARIO_DATO</th>\n",
       "      <th>PROVEEDOR_DATO</th>\n",
       "      <th>TIPO</th>\n",
       "    </tr>\n",
       "  </thead>\n",
       "  <tbody>\n",
       "    <tr>\n",
       "      <th>7</th>\n",
       "      <td>23222757339</td>\n",
       "      <td>22275733</td>\n",
       "      <td>BONOMETTI CESAR ADRIAN</td>\n",
       "      <td>cesarbonometti@gmail.com</td>\n",
       "      <td>Propio</td>\n",
       "      <td>P2</td>\n",
       "      <td>EMAIL</td>\n",
       "    </tr>\n",
       "    <tr>\n",
       "      <th>15</th>\n",
       "      <td>27176578926</td>\n",
       "      <td>17657892</td>\n",
       "      <td>REBOLLIDO MARCELA ALEJANDRA</td>\n",
       "      <td>marcelarebollido@yahoo.com</td>\n",
       "      <td>Propio</td>\n",
       "      <td>P2</td>\n",
       "      <td>EMAIL</td>\n",
       "    </tr>\n",
       "    <tr>\n",
       "      <th>17</th>\n",
       "      <td>20923312006</td>\n",
       "      <td>92331200</td>\n",
       "      <td>CASTRO PENAYO ANGEL EULALIO</td>\n",
       "      <td>edu_urquiza@hotmail.com</td>\n",
       "      <td>Propio</td>\n",
       "      <td>P2</td>\n",
       "      <td>EMAIL</td>\n",
       "    </tr>\n",
       "    <tr>\n",
       "      <th>22</th>\n",
       "      <td>20188973524</td>\n",
       "      <td>18897352</td>\n",
       "      <td>BITAR RAUAD</td>\n",
       "      <td>eliasbitar69@hotmail.com</td>\n",
       "      <td>Propio</td>\n",
       "      <td>P2</td>\n",
       "      <td>EMAIL</td>\n",
       "    </tr>\n",
       "    <tr>\n",
       "      <th>25</th>\n",
       "      <td>27246807294</td>\n",
       "      <td>24680729</td>\n",
       "      <td>CARDINALI CECILIA ELOISA</td>\n",
       "      <td>laugfg@gmail.com</td>\n",
       "      <td>Propio</td>\n",
       "      <td>P2</td>\n",
       "      <td>EMAIL</td>\n",
       "    </tr>\n",
       "  </tbody>\n",
       "</table>\n",
       "</div>"
      ],
      "text/plain": [
       "      CUIT_CUIL   NRO_DOC                      Titular  \\\n",
       "7   23222757339  22275733       BONOMETTI CESAR ADRIAN   \n",
       "15  27176578926  17657892  REBOLLIDO MARCELA ALEJANDRA   \n",
       "17  20923312006  92331200  CASTRO PENAYO ANGEL EULALIO   \n",
       "22  20188973524  18897352                  BITAR RAUAD   \n",
       "25  27246807294  24680729     CARDINALI CECILIA ELOISA   \n",
       "\n",
       "                          Dato PROPIETARIO_DATO PROVEEDOR_DATO   TIPO  \n",
       "7     cesarbonometti@gmail.com           Propio             P2  EMAIL  \n",
       "15  marcelarebollido@yahoo.com           Propio             P2  EMAIL  \n",
       "17     edu_urquiza@hotmail.com           Propio             P2  EMAIL  \n",
       "22    eliasbitar69@hotmail.com           Propio             P2  EMAIL  \n",
       "25            laugfg@gmail.com           Propio             P2  EMAIL  "
      ]
     },
     "execution_count": 35,
     "metadata": {},
     "output_type": "execute_result"
    }
   ],
   "source": [
    "df_clean.head ()"
   ]
  },
  {
   "cell_type": "markdown",
   "metadata": {},
   "source": [
    "# 8) Columna Subtipo"
   ]
  },
  {
   "cell_type": "markdown",
   "metadata": {},
   "source": [
    "Agregamos la columna SUBTIPO, que va a contener información sobre el tipo de mail que se encuentra en el campo Dato.\n",
    "\n",
    "- Personal: @yahoo, @gmail, @hotmail, @outlook, @live.\n",
    "- Laboral: el resto."
   ]
  },
  {
   "cell_type": "markdown",
   "metadata": {},
   "source": [
    "Verificamos que la string contenga esos casos:"
   ]
  },
  {
   "cell_type": "code",
   "execution_count": 36,
   "metadata": {},
   "outputs": [],
   "source": [
    "df_clean.loc[(df_clean['Dato'].str.contains('@yahoo', na=False)) | \n",
    "             (df_clean['Dato'].str.contains('@gmail', na=False)) |\n",
    "             (df_clean['Dato'].str.contains('@outlook', na=False)) |\n",
    "             (df_clean['Dato'].str.contains('@hotmail', na=False)) |\n",
    "             (df_clean['Dato'].str.contains('@live', na=False)) , 'SUBTIPO'] = 'PERSONAL'"
   ]
  },
  {
   "cell_type": "markdown",
   "metadata": {},
   "source": [
    "Para los mails laborales, evaluamos los casos contrarios:"
   ]
  },
  {
   "cell_type": "code",
   "execution_count": 37,
   "metadata": {},
   "outputs": [],
   "source": [
    "df_clean.loc[~(df_clean['Dato'].str.contains('@yahoo', na=False)) & \n",
    "             ~(df_clean['Dato'].str.contains('@gmail', na=False)) &\n",
    "             ~(df_clean['Dato'].str.contains('@outlook', na=False)) &\n",
    "             ~(df_clean['Dato'].str.contains('@hotmail', na=False)) &\n",
    "             ~(df_clean['Dato'].str.contains('@live', na=False)) , 'SUBTIPO'] = 'LABORAL'"
   ]
  },
  {
   "cell_type": "code",
   "execution_count": 38,
   "metadata": {},
   "outputs": [
    {
     "data": {
      "text/html": [
       "<div>\n",
       "<style scoped>\n",
       "    .dataframe tbody tr th:only-of-type {\n",
       "        vertical-align: middle;\n",
       "    }\n",
       "\n",
       "    .dataframe tbody tr th {\n",
       "        vertical-align: top;\n",
       "    }\n",
       "\n",
       "    .dataframe thead th {\n",
       "        text-align: right;\n",
       "    }\n",
       "</style>\n",
       "<table border=\"1\" class=\"dataframe\">\n",
       "  <thead>\n",
       "    <tr style=\"text-align: right;\">\n",
       "      <th></th>\n",
       "      <th>CUIT_CUIL</th>\n",
       "      <th>NRO_DOC</th>\n",
       "      <th>Titular</th>\n",
       "      <th>Dato</th>\n",
       "      <th>PROPIETARIO_DATO</th>\n",
       "      <th>PROVEEDOR_DATO</th>\n",
       "      <th>TIPO</th>\n",
       "      <th>SUBTIPO</th>\n",
       "    </tr>\n",
       "  </thead>\n",
       "  <tbody>\n",
       "    <tr>\n",
       "      <th>7</th>\n",
       "      <td>23222757339</td>\n",
       "      <td>22275733</td>\n",
       "      <td>BONOMETTI CESAR ADRIAN</td>\n",
       "      <td>cesarbonometti@gmail.com</td>\n",
       "      <td>Propio</td>\n",
       "      <td>P2</td>\n",
       "      <td>EMAIL</td>\n",
       "      <td>PERSONAL</td>\n",
       "    </tr>\n",
       "    <tr>\n",
       "      <th>15</th>\n",
       "      <td>27176578926</td>\n",
       "      <td>17657892</td>\n",
       "      <td>REBOLLIDO MARCELA ALEJANDRA</td>\n",
       "      <td>marcelarebollido@yahoo.com</td>\n",
       "      <td>Propio</td>\n",
       "      <td>P2</td>\n",
       "      <td>EMAIL</td>\n",
       "      <td>PERSONAL</td>\n",
       "    </tr>\n",
       "    <tr>\n",
       "      <th>17</th>\n",
       "      <td>20923312006</td>\n",
       "      <td>92331200</td>\n",
       "      <td>CASTRO PENAYO ANGEL EULALIO</td>\n",
       "      <td>edu_urquiza@hotmail.com</td>\n",
       "      <td>Propio</td>\n",
       "      <td>P2</td>\n",
       "      <td>EMAIL</td>\n",
       "      <td>PERSONAL</td>\n",
       "    </tr>\n",
       "    <tr>\n",
       "      <th>22</th>\n",
       "      <td>20188973524</td>\n",
       "      <td>18897352</td>\n",
       "      <td>BITAR RAUAD</td>\n",
       "      <td>eliasbitar69@hotmail.com</td>\n",
       "      <td>Propio</td>\n",
       "      <td>P2</td>\n",
       "      <td>EMAIL</td>\n",
       "      <td>PERSONAL</td>\n",
       "    </tr>\n",
       "    <tr>\n",
       "      <th>25</th>\n",
       "      <td>27246807294</td>\n",
       "      <td>24680729</td>\n",
       "      <td>CARDINALI CECILIA ELOISA</td>\n",
       "      <td>laugfg@gmail.com</td>\n",
       "      <td>Propio</td>\n",
       "      <td>P2</td>\n",
       "      <td>EMAIL</td>\n",
       "      <td>PERSONAL</td>\n",
       "    </tr>\n",
       "  </tbody>\n",
       "</table>\n",
       "</div>"
      ],
      "text/plain": [
       "      CUIT_CUIL   NRO_DOC                      Titular  \\\n",
       "7   23222757339  22275733       BONOMETTI CESAR ADRIAN   \n",
       "15  27176578926  17657892  REBOLLIDO MARCELA ALEJANDRA   \n",
       "17  20923312006  92331200  CASTRO PENAYO ANGEL EULALIO   \n",
       "22  20188973524  18897352                  BITAR RAUAD   \n",
       "25  27246807294  24680729     CARDINALI CECILIA ELOISA   \n",
       "\n",
       "                          Dato PROPIETARIO_DATO PROVEEDOR_DATO   TIPO  \\\n",
       "7     cesarbonometti@gmail.com           Propio             P2  EMAIL   \n",
       "15  marcelarebollido@yahoo.com           Propio             P2  EMAIL   \n",
       "17     edu_urquiza@hotmail.com           Propio             P2  EMAIL   \n",
       "22    eliasbitar69@hotmail.com           Propio             P2  EMAIL   \n",
       "25            laugfg@gmail.com           Propio             P2  EMAIL   \n",
       "\n",
       "     SUBTIPO  \n",
       "7   PERSONAL  \n",
       "15  PERSONAL  \n",
       "17  PERSONAL  \n",
       "22  PERSONAL  \n",
       "25  PERSONAL  "
      ]
     },
     "execution_count": 38,
     "metadata": {},
     "output_type": "execute_result"
    }
   ],
   "source": [
    "df_clean.head()"
   ]
  },
  {
   "cell_type": "markdown",
   "metadata": {},
   "source": [
    "# 9) Columna Score"
   ]
  },
  {
   "cell_type": "markdown",
   "metadata": {},
   "source": [
    "El campo **Score** se construye en función de los datos obtenidos:\n",
    "\n",
    "- Nivel 4: Dato que otorga la propia persona.\n",
    "- Nivel 3: Dato que otorgan los clientes (los bancos).\n",
    "- Nivel 2: Dato que otorga un proveedor externo (Informes Digitales en este caso), con subtipo \"Personal\".\n",
    "- Nivel 1: Dato que otorga un proveedor externo, pero tiene como subtipo \"Laboral\"."
   ]
  },
  {
   "cell_type": "code",
   "execution_count": 39,
   "metadata": {},
   "outputs": [],
   "source": [
    "# Nivel 1: Laboral, proveedor externo.\n",
    "\n",
    "df_clean.loc[(df_clean['SUBTIPO'] == 'LABORAL') , 'SCORE_DATO'] = 1"
   ]
  },
  {
   "cell_type": "code",
   "execution_count": 40,
   "metadata": {},
   "outputs": [],
   "source": [
    "# Nivel 2: Personal, proveedor externo.\n",
    "\n",
    "df_clean.loc[(df_clean['SUBTIPO'] == 'PERSONAL') , 'SCORE_DATO'] = 2"
   ]
  },
  {
   "cell_type": "code",
   "execution_count": 41,
   "metadata": {
    "scrolled": true
   },
   "outputs": [
    {
     "data": {
      "text/html": [
       "<div>\n",
       "<style scoped>\n",
       "    .dataframe tbody tr th:only-of-type {\n",
       "        vertical-align: middle;\n",
       "    }\n",
       "\n",
       "    .dataframe tbody tr th {\n",
       "        vertical-align: top;\n",
       "    }\n",
       "\n",
       "    .dataframe thead th {\n",
       "        text-align: right;\n",
       "    }\n",
       "</style>\n",
       "<table border=\"1\" class=\"dataframe\">\n",
       "  <thead>\n",
       "    <tr style=\"text-align: right;\">\n",
       "      <th></th>\n",
       "      <th>CUIT_CUIL</th>\n",
       "      <th>NRO_DOC</th>\n",
       "      <th>Titular</th>\n",
       "      <th>Dato</th>\n",
       "      <th>PROPIETARIO_DATO</th>\n",
       "      <th>PROVEEDOR_DATO</th>\n",
       "      <th>TIPO</th>\n",
       "      <th>SUBTIPO</th>\n",
       "      <th>SCORE_DATO</th>\n",
       "    </tr>\n",
       "  </thead>\n",
       "  <tbody>\n",
       "    <tr>\n",
       "      <th>7</th>\n",
       "      <td>23222757339</td>\n",
       "      <td>22275733</td>\n",
       "      <td>BONOMETTI CESAR ADRIAN</td>\n",
       "      <td>cesarbonometti@gmail.com</td>\n",
       "      <td>Propio</td>\n",
       "      <td>P2</td>\n",
       "      <td>EMAIL</td>\n",
       "      <td>PERSONAL</td>\n",
       "      <td>2.0</td>\n",
       "    </tr>\n",
       "    <tr>\n",
       "      <th>15</th>\n",
       "      <td>27176578926</td>\n",
       "      <td>17657892</td>\n",
       "      <td>REBOLLIDO MARCELA ALEJANDRA</td>\n",
       "      <td>marcelarebollido@yahoo.com</td>\n",
       "      <td>Propio</td>\n",
       "      <td>P2</td>\n",
       "      <td>EMAIL</td>\n",
       "      <td>PERSONAL</td>\n",
       "      <td>2.0</td>\n",
       "    </tr>\n",
       "    <tr>\n",
       "      <th>17</th>\n",
       "      <td>20923312006</td>\n",
       "      <td>92331200</td>\n",
       "      <td>CASTRO PENAYO ANGEL EULALIO</td>\n",
       "      <td>edu_urquiza@hotmail.com</td>\n",
       "      <td>Propio</td>\n",
       "      <td>P2</td>\n",
       "      <td>EMAIL</td>\n",
       "      <td>PERSONAL</td>\n",
       "      <td>2.0</td>\n",
       "    </tr>\n",
       "    <tr>\n",
       "      <th>22</th>\n",
       "      <td>20188973524</td>\n",
       "      <td>18897352</td>\n",
       "      <td>BITAR RAUAD</td>\n",
       "      <td>eliasbitar69@hotmail.com</td>\n",
       "      <td>Propio</td>\n",
       "      <td>P2</td>\n",
       "      <td>EMAIL</td>\n",
       "      <td>PERSONAL</td>\n",
       "      <td>2.0</td>\n",
       "    </tr>\n",
       "    <tr>\n",
       "      <th>25</th>\n",
       "      <td>27246807294</td>\n",
       "      <td>24680729</td>\n",
       "      <td>CARDINALI CECILIA ELOISA</td>\n",
       "      <td>laugfg@gmail.com</td>\n",
       "      <td>Propio</td>\n",
       "      <td>P2</td>\n",
       "      <td>EMAIL</td>\n",
       "      <td>PERSONAL</td>\n",
       "      <td>2.0</td>\n",
       "    </tr>\n",
       "  </tbody>\n",
       "</table>\n",
       "</div>"
      ],
      "text/plain": [
       "      CUIT_CUIL   NRO_DOC                      Titular  \\\n",
       "7   23222757339  22275733       BONOMETTI CESAR ADRIAN   \n",
       "15  27176578926  17657892  REBOLLIDO MARCELA ALEJANDRA   \n",
       "17  20923312006  92331200  CASTRO PENAYO ANGEL EULALIO   \n",
       "22  20188973524  18897352                  BITAR RAUAD   \n",
       "25  27246807294  24680729     CARDINALI CECILIA ELOISA   \n",
       "\n",
       "                          Dato PROPIETARIO_DATO PROVEEDOR_DATO   TIPO  \\\n",
       "7     cesarbonometti@gmail.com           Propio             P2  EMAIL   \n",
       "15  marcelarebollido@yahoo.com           Propio             P2  EMAIL   \n",
       "17     edu_urquiza@hotmail.com           Propio             P2  EMAIL   \n",
       "22    eliasbitar69@hotmail.com           Propio             P2  EMAIL   \n",
       "25            laugfg@gmail.com           Propio             P2  EMAIL   \n",
       "\n",
       "     SUBTIPO  SCORE_DATO  \n",
       "7   PERSONAL         2.0  \n",
       "15  PERSONAL         2.0  \n",
       "17  PERSONAL         2.0  \n",
       "22  PERSONAL         2.0  \n",
       "25  PERSONAL         2.0  "
      ]
     },
     "execution_count": 41,
     "metadata": {},
     "output_type": "execute_result"
    }
   ],
   "source": [
    "df_clean.head()"
   ]
  },
  {
   "cell_type": "markdown",
   "metadata": {},
   "source": [
    "# 10) Columna Fecha"
   ]
  },
  {
   "cell_type": "markdown",
   "metadata": {},
   "source": [
    "Para el campo FECHA_INGRESO_DATO, usamos la fecha en la que se hace la inserción de los datos:"
   ]
  },
  {
   "cell_type": "code",
   "execution_count": 42,
   "metadata": {},
   "outputs": [],
   "source": [
    "fecha_ingreso = pd.to_datetime('today')"
   ]
  },
  {
   "cell_type": "code",
   "execution_count": 43,
   "metadata": {},
   "outputs": [],
   "source": [
    "df_clean = df_clean.assign(FECHA_INGRESO_DATO=fecha_ingreso)"
   ]
  },
  {
   "cell_type": "code",
   "execution_count": 44,
   "metadata": {
    "scrolled": true
   },
   "outputs": [
    {
     "data": {
      "text/html": [
       "<div>\n",
       "<style scoped>\n",
       "    .dataframe tbody tr th:only-of-type {\n",
       "        vertical-align: middle;\n",
       "    }\n",
       "\n",
       "    .dataframe tbody tr th {\n",
       "        vertical-align: top;\n",
       "    }\n",
       "\n",
       "    .dataframe thead th {\n",
       "        text-align: right;\n",
       "    }\n",
       "</style>\n",
       "<table border=\"1\" class=\"dataframe\">\n",
       "  <thead>\n",
       "    <tr style=\"text-align: right;\">\n",
       "      <th></th>\n",
       "      <th>CUIT_CUIL</th>\n",
       "      <th>NRO_DOC</th>\n",
       "      <th>Titular</th>\n",
       "      <th>Dato</th>\n",
       "      <th>PROPIETARIO_DATO</th>\n",
       "      <th>PROVEEDOR_DATO</th>\n",
       "      <th>TIPO</th>\n",
       "      <th>SUBTIPO</th>\n",
       "      <th>SCORE_DATO</th>\n",
       "      <th>FECHA_INGRESO_DATO</th>\n",
       "    </tr>\n",
       "  </thead>\n",
       "  <tbody>\n",
       "    <tr>\n",
       "      <th>7</th>\n",
       "      <td>23222757339</td>\n",
       "      <td>22275733</td>\n",
       "      <td>BONOMETTI CESAR ADRIAN</td>\n",
       "      <td>cesarbonometti@gmail.com</td>\n",
       "      <td>Propio</td>\n",
       "      <td>P2</td>\n",
       "      <td>EMAIL</td>\n",
       "      <td>PERSONAL</td>\n",
       "      <td>2.0</td>\n",
       "      <td>2021-02-24 11:36:06.742999</td>\n",
       "    </tr>\n",
       "    <tr>\n",
       "      <th>15</th>\n",
       "      <td>27176578926</td>\n",
       "      <td>17657892</td>\n",
       "      <td>REBOLLIDO MARCELA ALEJANDRA</td>\n",
       "      <td>marcelarebollido@yahoo.com</td>\n",
       "      <td>Propio</td>\n",
       "      <td>P2</td>\n",
       "      <td>EMAIL</td>\n",
       "      <td>PERSONAL</td>\n",
       "      <td>2.0</td>\n",
       "      <td>2021-02-24 11:36:06.742999</td>\n",
       "    </tr>\n",
       "    <tr>\n",
       "      <th>17</th>\n",
       "      <td>20923312006</td>\n",
       "      <td>92331200</td>\n",
       "      <td>CASTRO PENAYO ANGEL EULALIO</td>\n",
       "      <td>edu_urquiza@hotmail.com</td>\n",
       "      <td>Propio</td>\n",
       "      <td>P2</td>\n",
       "      <td>EMAIL</td>\n",
       "      <td>PERSONAL</td>\n",
       "      <td>2.0</td>\n",
       "      <td>2021-02-24 11:36:06.742999</td>\n",
       "    </tr>\n",
       "    <tr>\n",
       "      <th>22</th>\n",
       "      <td>20188973524</td>\n",
       "      <td>18897352</td>\n",
       "      <td>BITAR RAUAD</td>\n",
       "      <td>eliasbitar69@hotmail.com</td>\n",
       "      <td>Propio</td>\n",
       "      <td>P2</td>\n",
       "      <td>EMAIL</td>\n",
       "      <td>PERSONAL</td>\n",
       "      <td>2.0</td>\n",
       "      <td>2021-02-24 11:36:06.742999</td>\n",
       "    </tr>\n",
       "    <tr>\n",
       "      <th>25</th>\n",
       "      <td>27246807294</td>\n",
       "      <td>24680729</td>\n",
       "      <td>CARDINALI CECILIA ELOISA</td>\n",
       "      <td>laugfg@gmail.com</td>\n",
       "      <td>Propio</td>\n",
       "      <td>P2</td>\n",
       "      <td>EMAIL</td>\n",
       "      <td>PERSONAL</td>\n",
       "      <td>2.0</td>\n",
       "      <td>2021-02-24 11:36:06.742999</td>\n",
       "    </tr>\n",
       "  </tbody>\n",
       "</table>\n",
       "</div>"
      ],
      "text/plain": [
       "      CUIT_CUIL   NRO_DOC                      Titular  \\\n",
       "7   23222757339  22275733       BONOMETTI CESAR ADRIAN   \n",
       "15  27176578926  17657892  REBOLLIDO MARCELA ALEJANDRA   \n",
       "17  20923312006  92331200  CASTRO PENAYO ANGEL EULALIO   \n",
       "22  20188973524  18897352                  BITAR RAUAD   \n",
       "25  27246807294  24680729     CARDINALI CECILIA ELOISA   \n",
       "\n",
       "                          Dato PROPIETARIO_DATO PROVEEDOR_DATO   TIPO  \\\n",
       "7     cesarbonometti@gmail.com           Propio             P2  EMAIL   \n",
       "15  marcelarebollido@yahoo.com           Propio             P2  EMAIL   \n",
       "17     edu_urquiza@hotmail.com           Propio             P2  EMAIL   \n",
       "22    eliasbitar69@hotmail.com           Propio             P2  EMAIL   \n",
       "25            laugfg@gmail.com           Propio             P2  EMAIL   \n",
       "\n",
       "     SUBTIPO  SCORE_DATO         FECHA_INGRESO_DATO  \n",
       "7   PERSONAL         2.0 2021-02-24 11:36:06.742999  \n",
       "15  PERSONAL         2.0 2021-02-24 11:36:06.742999  \n",
       "17  PERSONAL         2.0 2021-02-24 11:36:06.742999  \n",
       "22  PERSONAL         2.0 2021-02-24 11:36:06.742999  \n",
       "25  PERSONAL         2.0 2021-02-24 11:36:06.742999  "
      ]
     },
     "execution_count": 44,
     "metadata": {},
     "output_type": "execute_result"
    }
   ],
   "source": [
    "df_clean.head()"
   ]
  },
  {
   "cell_type": "markdown",
   "metadata": {},
   "source": [
    "# 11) Campos adicionales"
   ]
  },
  {
   "cell_type": "markdown",
   "metadata": {},
   "source": [
    "Creamos las columnas VERIFICADO, FECHA_VERIFICACION, OPERADOR_VERIFICACION, que en principio van en nulls."
   ]
  },
  {
   "cell_type": "code",
   "execution_count": 45,
   "metadata": {},
   "outputs": [],
   "source": [
    "df_clean['VERIFICADO'] = 0"
   ]
  },
  {
   "cell_type": "code",
   "execution_count": 46,
   "metadata": {},
   "outputs": [],
   "source": [
    "df_clean['FECHA_VERIFICACION'] = np.nan"
   ]
  },
  {
   "cell_type": "code",
   "execution_count": 47,
   "metadata": {},
   "outputs": [],
   "source": [
    "df_clean['OPERADOR_VERIFICACION'] = np.nan"
   ]
  },
  {
   "cell_type": "markdown",
   "metadata": {},
   "source": [
    "# 12) Concatenación con .csv enviado "
   ]
  },
  {
   "cell_type": "markdown",
   "metadata": {},
   "source": [
    "Vamos a concatenar nuestro dataframe con el dataframe enviado para enriquecer. Para esto, vamos a hacer una limpieza inicial de cómo se enviaron esos datos. Finalmente, se uniran ambos dataframes por __DNI__."
   ]
  },
  {
   "cell_type": "markdown",
   "metadata": {},
   "source": [
    "## 12.1) Dataset: PyP"
   ]
  },
  {
   "cell_type": "markdown",
   "metadata": {},
   "source": [
    "Vamos a analizar y limpiar el dataset enviado a PyP para el enriquecimiento:"
   ]
  },
  {
   "cell_type": "code",
   "execution_count": 48,
   "metadata": {},
   "outputs": [],
   "source": [
    "df_pyp = pd.read_excel('/mnt/c/users/Dleg/Data/MOPC/MOPC/Enriquecimiento de Datos/Data Cleaning/PyP/Datasets/Datasets enviados/0209-MOPC-PEDIDO DE DATOS.xlsx')"
   ]
  },
  {
   "cell_type": "code",
   "execution_count": 49,
   "metadata": {
    "scrolled": false
   },
   "outputs": [
    {
     "data": {
      "text/html": [
       "<div>\n",
       "<style scoped>\n",
       "    .dataframe tbody tr th:only-of-type {\n",
       "        vertical-align: middle;\n",
       "    }\n",
       "\n",
       "    .dataframe tbody tr th {\n",
       "        vertical-align: top;\n",
       "    }\n",
       "\n",
       "    .dataframe thead th {\n",
       "        text-align: right;\n",
       "    }\n",
       "</style>\n",
       "<table border=\"1\" class=\"dataframe\">\n",
       "  <thead>\n",
       "    <tr style=\"text-align: right;\">\n",
       "      <th></th>\n",
       "      <th>DNI</th>\n",
       "      <th>NOMBRE</th>\n",
       "      <th>IDCLIENTE</th>\n",
       "    </tr>\n",
       "  </thead>\n",
       "  <tbody>\n",
       "    <tr>\n",
       "      <th>0</th>\n",
       "      <td>DNI 10039621</td>\n",
       "      <td>ANA MARIA,CANO</td>\n",
       "      <td>BSR_TARDIA</td>\n",
       "    </tr>\n",
       "    <tr>\n",
       "      <th>1</th>\n",
       "      <td>DNI 10197951</td>\n",
       "      <td>BERNARDO,CHAUQUE</td>\n",
       "      <td>BSR_TARDIA</td>\n",
       "    </tr>\n",
       "    <tr>\n",
       "      <th>2</th>\n",
       "      <td>DNI 10248810</td>\n",
       "      <td>CIRO EMIR,BIANCHIMANI</td>\n",
       "      <td>BSR_TARDIA</td>\n",
       "    </tr>\n",
       "    <tr>\n",
       "      <th>3</th>\n",
       "      <td>DNI 10270696</td>\n",
       "      <td>CARLOS OSCARBELMONTE</td>\n",
       "      <td>BSR_TARDIA</td>\n",
       "    </tr>\n",
       "    <tr>\n",
       "      <th>4</th>\n",
       "      <td>DNI 10363397</td>\n",
       "      <td>CALDAS ROSA HAYDEE</td>\n",
       "      <td>BSR_TARDIA</td>\n",
       "    </tr>\n",
       "  </tbody>\n",
       "</table>\n",
       "</div>"
      ],
      "text/plain": [
       "                  DNI                                    NOMBRE   IDCLIENTE\n",
       "0  DNI 10039621        ANA MARIA,CANO                            BSR_TARDIA\n",
       "1  DNI 10197951        BERNARDO,CHAUQUE                          BSR_TARDIA\n",
       "2  DNI 10248810        CIRO EMIR,BIANCHIMANI                     BSR_TARDIA\n",
       "3  DNI 10270696        CARLOS OSCARBELMONTE                      BSR_TARDIA\n",
       "4  DNI 10363397        CALDAS ROSA HAYDEE                        BSR_TARDIA"
      ]
     },
     "execution_count": 49,
     "metadata": {},
     "output_type": "execute_result"
    }
   ],
   "source": [
    "df_pyp.head()"
   ]
  },
  {
   "cell_type": "markdown",
   "metadata": {},
   "source": [
    "Creamos una columna que contenga IDMOROSO + DATOADIC según corresponda"
   ]
  },
  {
   "cell_type": "code",
   "execution_count": 50,
   "metadata": {},
   "outputs": [],
   "source": [
    "#df_pyp.loc[(df_pyp['IDCLIENTE'].str.startswith('AMEX')) , 'NRO_DOC'] = df_pyp['DATOADIC']"
   ]
  },
  {
   "cell_type": "code",
   "execution_count": 51,
   "metadata": {},
   "outputs": [],
   "source": [
    "df_pyp = df_pyp.rename(columns={'DNI':'IDMOROSO'})"
   ]
  },
  {
   "cell_type": "code",
   "execution_count": 52,
   "metadata": {},
   "outputs": [],
   "source": [
    "df_pyp['NRO_DOC'] = df_pyp['IDMOROSO']"
   ]
  },
  {
   "cell_type": "code",
   "execution_count": 53,
   "metadata": {},
   "outputs": [
    {
     "data": {
      "text/html": [
       "<div>\n",
       "<style scoped>\n",
       "    .dataframe tbody tr th:only-of-type {\n",
       "        vertical-align: middle;\n",
       "    }\n",
       "\n",
       "    .dataframe tbody tr th {\n",
       "        vertical-align: top;\n",
       "    }\n",
       "\n",
       "    .dataframe thead th {\n",
       "        text-align: right;\n",
       "    }\n",
       "</style>\n",
       "<table border=\"1\" class=\"dataframe\">\n",
       "  <thead>\n",
       "    <tr style=\"text-align: right;\">\n",
       "      <th></th>\n",
       "      <th>IDMOROSO</th>\n",
       "      <th>NOMBRE</th>\n",
       "      <th>IDCLIENTE</th>\n",
       "      <th>NRO_DOC</th>\n",
       "    </tr>\n",
       "  </thead>\n",
       "  <tbody>\n",
       "    <tr>\n",
       "      <th>0</th>\n",
       "      <td>DNI 10039621</td>\n",
       "      <td>ANA MARIA,CANO</td>\n",
       "      <td>BSR_TARDIA</td>\n",
       "      <td>DNI 10039621</td>\n",
       "    </tr>\n",
       "    <tr>\n",
       "      <th>1</th>\n",
       "      <td>DNI 10197951</td>\n",
       "      <td>BERNARDO,CHAUQUE</td>\n",
       "      <td>BSR_TARDIA</td>\n",
       "      <td>DNI 10197951</td>\n",
       "    </tr>\n",
       "    <tr>\n",
       "      <th>2</th>\n",
       "      <td>DNI 10248810</td>\n",
       "      <td>CIRO EMIR,BIANCHIMANI</td>\n",
       "      <td>BSR_TARDIA</td>\n",
       "      <td>DNI 10248810</td>\n",
       "    </tr>\n",
       "    <tr>\n",
       "      <th>3</th>\n",
       "      <td>DNI 10270696</td>\n",
       "      <td>CARLOS OSCARBELMONTE</td>\n",
       "      <td>BSR_TARDIA</td>\n",
       "      <td>DNI 10270696</td>\n",
       "    </tr>\n",
       "    <tr>\n",
       "      <th>4</th>\n",
       "      <td>DNI 10363397</td>\n",
       "      <td>CALDAS ROSA HAYDEE</td>\n",
       "      <td>BSR_TARDIA</td>\n",
       "      <td>DNI 10363397</td>\n",
       "    </tr>\n",
       "  </tbody>\n",
       "</table>\n",
       "</div>"
      ],
      "text/plain": [
       "             IDMOROSO                                    NOMBRE   IDCLIENTE  \\\n",
       "0  DNI 10039621        ANA MARIA,CANO                            BSR_TARDIA   \n",
       "1  DNI 10197951        BERNARDO,CHAUQUE                          BSR_TARDIA   \n",
       "2  DNI 10248810        CIRO EMIR,BIANCHIMANI                     BSR_TARDIA   \n",
       "3  DNI 10270696        CARLOS OSCARBELMONTE                      BSR_TARDIA   \n",
       "4  DNI 10363397        CALDAS ROSA HAYDEE                        BSR_TARDIA   \n",
       "\n",
       "              NRO_DOC  \n",
       "0  DNI 10039621        \n",
       "1  DNI 10197951        \n",
       "2  DNI 10248810        \n",
       "3  DNI 10270696        \n",
       "4  DNI 10363397        "
      ]
     },
     "execution_count": 53,
     "metadata": {},
     "output_type": "execute_result"
    }
   ],
   "source": [
    "df_pyp.head()"
   ]
  },
  {
   "cell_type": "code",
   "execution_count": 54,
   "metadata": {},
   "outputs": [],
   "source": [
    "#df_pyp.to_excel('test_nro_doc.xlsx')"
   ]
  },
  {
   "cell_type": "markdown",
   "metadata": {},
   "source": [
    "## 12.2) DNI Cleaning"
   ]
  },
  {
   "cell_type": "markdown",
   "metadata": {},
   "source": [
    "Limpiamos el dataframe __df_pyp__, ya que dentro de DATO_A_ENVIAR tenemos 9 tipos de casos diferentes de datos:\n",
    "\n",
    "- DNI 12345678\n",
    "- DNI12345678\n",
    "- DNIE1234678\n",
    "- LC  1234567\n",
    "- LE  1234567\n",
    "- CUIT00123456780\n",
    "- 00123456780 --> Es un CUIT.\n",
    "- 00 12345678 0 --> Es un CUIT.\n",
    "- DNI 00123456780 --> Dice DNI pero es un CUIT de una persona __jurídica__ (TO DO)"
   ]
  },
  {
   "cell_type": "markdown",
   "metadata": {},
   "source": [
    "Para eso definimos 5 funciones:\n",
    "\n",
    "- __Tipo_DOC__: Se definen dos funciones para determinar el tipo de DNI. Una inicial, y otra para corregir sobre el dataframe resultante.\n",
    "- __Standard DNI__: Estandariza los DNI para 7 de los casos. Esta función debe ejecutarse en primer lugar.\n",
    "- __DNI Spaces__: Elimina los espacios.\n",
    "- __DNI Zero__: Elimina los ceros iniciales de ciertos CUITs para que coincidan con los DNI.\n",
    "- __Cuit__: Decisión sobre dejar un cuit o volverlo DNI"
   ]
  },
  {
   "cell_type": "code",
   "execution_count": 55,
   "metadata": {},
   "outputs": [],
   "source": [
    "def tipo_doc_1 (string_dni):\n",
    "    \n",
    "    if 'DNI' in string_dni:\n",
    "        tipo = 'DNI'\n",
    "    \n",
    "    elif 'LC' in string_dni:\n",
    "        tipo = 'LC'\n",
    "    \n",
    "    elif 'LE' in string_dni:\n",
    "        tipo = 'LE'\n",
    "    \n",
    "    elif 'DNIE' in string_dni:\n",
    "        tipo = 'DNIE'    \n",
    "    \n",
    "    elif ((string_dni.startswith(('CUIT30','CUIT33','CUIT34'))) & (len(string_dni)>8)):\n",
    "        tipo = 'CUIT'\n",
    "        \n",
    "    elif ((string_dni.startswith(('30','33','34'))) & (len(string_dni)>8)):\n",
    "        tipo = 'CUIT'\n",
    "\n",
    "    elif ((string_dni.startswith(('20','23','24','27'))) & (len(string_dni)>8)):\n",
    "        tipo = 'DNI'\n",
    "\n",
    "    elif ((string_dni.startswith(('CUIT20','CUIT23','CUIT24','CUIT27'))) & (len(string_dni)>8)):\n",
    "        tipo = 'DNI'\n",
    "        \n",
    "    else:\n",
    "        tipo = 'DNI'\n",
    "    \n",
    "    return tipo"
   ]
  },
  {
   "cell_type": "code",
   "execution_count": 56,
   "metadata": {},
   "outputs": [],
   "source": [
    "def tipo_doc_2 (string_dni, tipo_original):\n",
    "    \n",
    "    if (len(string_dni) > 8) & (tipo_original == 'DNI'):\n",
    "        tipo = 'CUIT'\n",
    "    else:\n",
    "        tipo = tipo_original\n",
    "    return tipo"
   ]
  },
  {
   "cell_type": "code",
   "execution_count": 57,
   "metadata": {},
   "outputs": [],
   "source": [
    "def standard_dni (string_dni):\n",
    "    \"\"\"DNI separation by each case.\n",
    "    \"\"\"\n",
    "    \n",
    "    if 'DNI ' in string_dni:\n",
    "        dni = string_dni.split('DNI ')[1]\n",
    "        \n",
    "    elif 'DNIE' in string_dni:\n",
    "        dni = string_dni.split('DNIE')[1]\n",
    "    \n",
    "    elif 'DNI' in string_dni:\n",
    "        dni = string_dni.split('DNI')[1]\n",
    "    \n",
    "    elif 'LC  ' in string_dni:\n",
    "        dni = string_dni.split('LC  ')[1]\n",
    "    \n",
    "    elif 'LE  ' in string_dni:\n",
    "        dni = string_dni.split('LE  ')[1]\n",
    "    \n",
    "    elif 'CUIT' in string_dni:\n",
    "        dni = string_dni.split('CUIT')[1]\n",
    "        \n",
    "    else:\n",
    "        dni = string_dni\n",
    "        \n",
    "    return dni"
   ]
  },
  {
   "cell_type": "code",
   "execution_count": 58,
   "metadata": {},
   "outputs": [],
   "source": [
    "def dni_characters (string_dni):\n",
    "    \n",
    "    if ' ' in string_dni:\n",
    "        dni = string_dni.replace(' ','')\n",
    "        \n",
    "    elif '-' in string_dni:\n",
    "        dni = string_dni.replace('-','')\n",
    "\n",
    "    else:\n",
    "        dni = string_dni\n",
    "    \n",
    "    return dni"
   ]
  },
  {
   "cell_type": "code",
   "execution_count": 59,
   "metadata": {},
   "outputs": [],
   "source": [
    "def cuit (string_dni):\n",
    "    \n",
    "    if ((string_dni.startswith('20')) & (len(string_dni)>8)):\n",
    "        cuit = string_dni [2:-1]\n",
    "        \n",
    "    elif ((string_dni.startswith('23')) & (len(string_dni)>8)):\n",
    "        cuit = string_dni [2:-1]\n",
    "        \n",
    "    elif ((string_dni.startswith('24')) & (len(string_dni)>8)):\n",
    "        cuit = string_dni [2:-1]\n",
    "\n",
    "    elif ((string_dni.startswith('27')) & (len(string_dni)>8)):\n",
    "        cuit = string_dni [2:-1]\n",
    "\n",
    "    else:\n",
    "        cuit = string_dni\n",
    "        \n",
    "    return cuit"
   ]
  },
  {
   "cell_type": "code",
   "execution_count": 60,
   "metadata": {},
   "outputs": [],
   "source": [
    "def dni_zero (string_dni):\n",
    "    \n",
    "    if string_dni.startswith('0'):\n",
    "        dni = string_dni [1:]\n",
    "\n",
    "    else:\n",
    "        dni = string_dni\n",
    "    \n",
    "    return dni"
   ]
  },
  {
   "cell_type": "markdown",
   "metadata": {},
   "source": [
    "En primer lugar, trimmeamos los espacios que sobran:"
   ]
  },
  {
   "cell_type": "code",
   "execution_count": 61,
   "metadata": {},
   "outputs": [],
   "source": [
    "df_pyp['NRO_DOC'] = [(str(df_pyp['NRO_DOC'][i]).strip()) for i in range (df_pyp['NRO_DOC'].count())]"
   ]
  },
  {
   "cell_type": "markdown",
   "metadata": {},
   "source": [
    "Se implementan estas funciones:"
   ]
  },
  {
   "cell_type": "markdown",
   "metadata": {},
   "source": [
    "Para determinar el __TIPO DE DOCUMENTO__ en primer lugar:"
   ]
  },
  {
   "cell_type": "code",
   "execution_count": 62,
   "metadata": {},
   "outputs": [],
   "source": [
    "df_pyp['TIPO_DOC'] = [tipo_doc_1(df_pyp['NRO_DOC'][i]) for i in range (df_pyp['NRO_DOC'].count())]"
   ]
  },
  {
   "cell_type": "markdown",
   "metadata": {},
   "source": [
    "Para la limpieza de DNIs:"
   ]
  },
  {
   "cell_type": "code",
   "execution_count": 63,
   "metadata": {},
   "outputs": [],
   "source": [
    "df_pyp['NRO_DOC'] = [standard_dni(df_pyp['NRO_DOC'][i]) for i in range (df_pyp['NRO_DOC'].count())]"
   ]
  },
  {
   "cell_type": "code",
   "execution_count": 64,
   "metadata": {},
   "outputs": [],
   "source": [
    "df_pyp['NRO_DOC'] = [dni_characters(df_pyp['NRO_DOC'][i]) for i in range (df_pyp['NRO_DOC'].count())]"
   ]
  },
  {
   "cell_type": "code",
   "execution_count": 65,
   "metadata": {},
   "outputs": [],
   "source": [
    "df_pyp['NRO_DOC'] = [cuit(df_pyp['NRO_DOC'][i]) for i in range (df_pyp['NRO_DOC'].count())]"
   ]
  },
  {
   "cell_type": "code",
   "execution_count": 66,
   "metadata": {},
   "outputs": [],
   "source": [
    "df_pyp['NRO_DOC'] = [dni_zero(df_pyp['NRO_DOC'][i]) for i in range (df_pyp['NRO_DOC'].count())]"
   ]
  },
  {
   "cell_type": "markdown",
   "metadata": {},
   "source": [
    "Para corregir el __TIPO DE DOCUMENTO__ sobre el dataframe resultante"
   ]
  },
  {
   "cell_type": "code",
   "execution_count": 67,
   "metadata": {},
   "outputs": [],
   "source": [
    "df_pyp['TIPO_DOC'] = [tipo_doc_2(df_pyp['NRO_DOC'][i],df_pyp['TIPO_DOC'][i]) for i in range (df_pyp['NRO_DOC'].count())]"
   ]
  },
  {
   "cell_type": "code",
   "execution_count": 68,
   "metadata": {
    "scrolled": true
   },
   "outputs": [
    {
     "data": {
      "text/html": [
       "<div>\n",
       "<style scoped>\n",
       "    .dataframe tbody tr th:only-of-type {\n",
       "        vertical-align: middle;\n",
       "    }\n",
       "\n",
       "    .dataframe tbody tr th {\n",
       "        vertical-align: top;\n",
       "    }\n",
       "\n",
       "    .dataframe thead th {\n",
       "        text-align: right;\n",
       "    }\n",
       "</style>\n",
       "<table border=\"1\" class=\"dataframe\">\n",
       "  <thead>\n",
       "    <tr style=\"text-align: right;\">\n",
       "      <th></th>\n",
       "      <th>IDMOROSO</th>\n",
       "      <th>NOMBRE</th>\n",
       "      <th>IDCLIENTE</th>\n",
       "      <th>NRO_DOC</th>\n",
       "      <th>TIPO_DOC</th>\n",
       "    </tr>\n",
       "  </thead>\n",
       "  <tbody>\n",
       "    <tr>\n",
       "      <th>0</th>\n",
       "      <td>DNI 10039621</td>\n",
       "      <td>ANA MARIA,CANO</td>\n",
       "      <td>BSR_TARDIA</td>\n",
       "      <td>10039621</td>\n",
       "      <td>DNI</td>\n",
       "    </tr>\n",
       "    <tr>\n",
       "      <th>1</th>\n",
       "      <td>DNI 10197951</td>\n",
       "      <td>BERNARDO,CHAUQUE</td>\n",
       "      <td>BSR_TARDIA</td>\n",
       "      <td>10197951</td>\n",
       "      <td>DNI</td>\n",
       "    </tr>\n",
       "    <tr>\n",
       "      <th>2</th>\n",
       "      <td>DNI 10248810</td>\n",
       "      <td>CIRO EMIR,BIANCHIMANI</td>\n",
       "      <td>BSR_TARDIA</td>\n",
       "      <td>10248810</td>\n",
       "      <td>DNI</td>\n",
       "    </tr>\n",
       "    <tr>\n",
       "      <th>3</th>\n",
       "      <td>DNI 10270696</td>\n",
       "      <td>CARLOS OSCARBELMONTE</td>\n",
       "      <td>BSR_TARDIA</td>\n",
       "      <td>10270696</td>\n",
       "      <td>DNI</td>\n",
       "    </tr>\n",
       "    <tr>\n",
       "      <th>4</th>\n",
       "      <td>DNI 10363397</td>\n",
       "      <td>CALDAS ROSA HAYDEE</td>\n",
       "      <td>BSR_TARDIA</td>\n",
       "      <td>10363397</td>\n",
       "      <td>DNI</td>\n",
       "    </tr>\n",
       "  </tbody>\n",
       "</table>\n",
       "</div>"
      ],
      "text/plain": [
       "             IDMOROSO                                    NOMBRE   IDCLIENTE  \\\n",
       "0  DNI 10039621        ANA MARIA,CANO                            BSR_TARDIA   \n",
       "1  DNI 10197951        BERNARDO,CHAUQUE                          BSR_TARDIA   \n",
       "2  DNI 10248810        CIRO EMIR,BIANCHIMANI                     BSR_TARDIA   \n",
       "3  DNI 10270696        CARLOS OSCARBELMONTE                      BSR_TARDIA   \n",
       "4  DNI 10363397        CALDAS ROSA HAYDEE                        BSR_TARDIA   \n",
       "\n",
       "    NRO_DOC TIPO_DOC  \n",
       "0  10039621      DNI  \n",
       "1  10197951      DNI  \n",
       "2  10248810      DNI  \n",
       "3  10270696      DNI  \n",
       "4  10363397      DNI  "
      ]
     },
     "execution_count": 68,
     "metadata": {},
     "output_type": "execute_result"
    }
   ],
   "source": [
    "df_pyp.head()"
   ]
  },
  {
   "cell_type": "markdown",
   "metadata": {},
   "source": [
    "# 13) Union de Dataframes"
   ]
  },
  {
   "cell_type": "markdown",
   "metadata": {},
   "source": [
    "Se unen ambos dataframes en la columna NRO_DOC"
   ]
  },
  {
   "cell_type": "markdown",
   "metadata": {},
   "source": [
    "Convertimos la columna NRO_DOC de objeto a INT para hacer la unión"
   ]
  },
  {
   "cell_type": "code",
   "execution_count": 69,
   "metadata": {},
   "outputs": [],
   "source": [
    "df_clean = df_clean.astype({'NRO_DOC': 'str'})"
   ]
  },
  {
   "cell_type": "code",
   "execution_count": 70,
   "metadata": {},
   "outputs": [],
   "source": [
    "df_union = pd.merge(df_clean,df_pyp, on='NRO_DOC', how='inner')"
   ]
  },
  {
   "cell_type": "code",
   "execution_count": 71,
   "metadata": {},
   "outputs": [
    {
     "data": {
      "text/plain": [
       "(613, 17)"
      ]
     },
     "execution_count": 71,
     "metadata": {},
     "output_type": "execute_result"
    }
   ],
   "source": [
    "df_union.shape"
   ]
  },
  {
   "cell_type": "code",
   "execution_count": 72,
   "metadata": {
    "scrolled": true
   },
   "outputs": [
    {
     "data": {
      "text/html": [
       "<div>\n",
       "<style scoped>\n",
       "    .dataframe tbody tr th:only-of-type {\n",
       "        vertical-align: middle;\n",
       "    }\n",
       "\n",
       "    .dataframe tbody tr th {\n",
       "        vertical-align: top;\n",
       "    }\n",
       "\n",
       "    .dataframe thead th {\n",
       "        text-align: right;\n",
       "    }\n",
       "</style>\n",
       "<table border=\"1\" class=\"dataframe\">\n",
       "  <thead>\n",
       "    <tr style=\"text-align: right;\">\n",
       "      <th></th>\n",
       "      <th>CUIT_CUIL</th>\n",
       "      <th>NRO_DOC</th>\n",
       "      <th>Titular</th>\n",
       "      <th>Dato</th>\n",
       "      <th>PROPIETARIO_DATO</th>\n",
       "      <th>PROVEEDOR_DATO</th>\n",
       "      <th>TIPO</th>\n",
       "      <th>SUBTIPO</th>\n",
       "      <th>SCORE_DATO</th>\n",
       "      <th>FECHA_INGRESO_DATO</th>\n",
       "      <th>VERIFICADO</th>\n",
       "      <th>FECHA_VERIFICACION</th>\n",
       "      <th>OPERADOR_VERIFICACION</th>\n",
       "      <th>IDMOROSO</th>\n",
       "      <th>NOMBRE</th>\n",
       "      <th>IDCLIENTE</th>\n",
       "      <th>TIPO_DOC</th>\n",
       "    </tr>\n",
       "  </thead>\n",
       "  <tbody>\n",
       "    <tr>\n",
       "      <th>0</th>\n",
       "      <td>23222757339</td>\n",
       "      <td>22275733</td>\n",
       "      <td>BONOMETTI CESAR ADRIAN</td>\n",
       "      <td>cesarbonometti@gmail.com</td>\n",
       "      <td>Propio</td>\n",
       "      <td>P2</td>\n",
       "      <td>EMAIL</td>\n",
       "      <td>PERSONAL</td>\n",
       "      <td>2.0</td>\n",
       "      <td>2021-02-24 11:36:06.742999</td>\n",
       "      <td>0</td>\n",
       "      <td>NaN</td>\n",
       "      <td>NaN</td>\n",
       "      <td>DNI 22275733</td>\n",
       "      <td>BONOMETTI CESAR ADRIAN</td>\n",
       "      <td>BSR_TARDIA</td>\n",
       "      <td>DNI</td>\n",
       "    </tr>\n",
       "    <tr>\n",
       "      <th>1</th>\n",
       "      <td>27176578926</td>\n",
       "      <td>17657892</td>\n",
       "      <td>REBOLLIDO MARCELA ALEJANDRA</td>\n",
       "      <td>marcelarebollido@yahoo.com</td>\n",
       "      <td>Propio</td>\n",
       "      <td>P2</td>\n",
       "      <td>EMAIL</td>\n",
       "      <td>PERSONAL</td>\n",
       "      <td>2.0</td>\n",
       "      <td>2021-02-24 11:36:06.742999</td>\n",
       "      <td>0</td>\n",
       "      <td>NaN</td>\n",
       "      <td>NaN</td>\n",
       "      <td>DNI 17657892</td>\n",
       "      <td>MARCELA ALEJANDRA,REBOLLIDO</td>\n",
       "      <td>BSR_TARDIA</td>\n",
       "      <td>DNI</td>\n",
       "    </tr>\n",
       "    <tr>\n",
       "      <th>2</th>\n",
       "      <td>27176578926</td>\n",
       "      <td>17657892</td>\n",
       "      <td>REBOLLIDO MARCELA ALEJANDRA</td>\n",
       "      <td>170silvia@gmail.com</td>\n",
       "      <td>Ajeno_empleador</td>\n",
       "      <td>P2</td>\n",
       "      <td>EMAIL</td>\n",
       "      <td>PERSONAL</td>\n",
       "      <td>2.0</td>\n",
       "      <td>2021-02-24 11:36:06.742999</td>\n",
       "      <td>0</td>\n",
       "      <td>NaN</td>\n",
       "      <td>NaN</td>\n",
       "      <td>DNI 17657892</td>\n",
       "      <td>MARCELA ALEJANDRA,REBOLLIDO</td>\n",
       "      <td>BSR_TARDIA</td>\n",
       "      <td>DNI</td>\n",
       "    </tr>\n",
       "    <tr>\n",
       "      <th>3</th>\n",
       "      <td>20923312006</td>\n",
       "      <td>92331200</td>\n",
       "      <td>CASTRO PENAYO ANGEL EULALIO</td>\n",
       "      <td>edu_urquiza@hotmail.com</td>\n",
       "      <td>Propio</td>\n",
       "      <td>P2</td>\n",
       "      <td>EMAIL</td>\n",
       "      <td>PERSONAL</td>\n",
       "      <td>2.0</td>\n",
       "      <td>2021-02-24 11:36:06.742999</td>\n",
       "      <td>0</td>\n",
       "      <td>NaN</td>\n",
       "      <td>NaN</td>\n",
       "      <td>DNIE92331200</td>\n",
       "      <td>ANGEL EULALIO,CASTRO PENAYO</td>\n",
       "      <td>BSR_TARDIA</td>\n",
       "      <td>DNI</td>\n",
       "    </tr>\n",
       "    <tr>\n",
       "      <th>4</th>\n",
       "      <td>20188973524</td>\n",
       "      <td>18897352</td>\n",
       "      <td>BITAR RAUAD</td>\n",
       "      <td>eliasbitar69@hotmail.com</td>\n",
       "      <td>Propio</td>\n",
       "      <td>P2</td>\n",
       "      <td>EMAIL</td>\n",
       "      <td>PERSONAL</td>\n",
       "      <td>2.0</td>\n",
       "      <td>2021-02-24 11:36:06.742999</td>\n",
       "      <td>0</td>\n",
       "      <td>NaN</td>\n",
       "      <td>NaN</td>\n",
       "      <td>DNI 18897352</td>\n",
       "      <td>RAUAD,BITAR</td>\n",
       "      <td>BSR_TARDIA</td>\n",
       "      <td>DNI</td>\n",
       "    </tr>\n",
       "  </tbody>\n",
       "</table>\n",
       "</div>"
      ],
      "text/plain": [
       "     CUIT_CUIL   NRO_DOC                      Titular  \\\n",
       "0  23222757339  22275733       BONOMETTI CESAR ADRIAN   \n",
       "1  27176578926  17657892  REBOLLIDO MARCELA ALEJANDRA   \n",
       "2  27176578926  17657892  REBOLLIDO MARCELA ALEJANDRA   \n",
       "3  20923312006  92331200  CASTRO PENAYO ANGEL EULALIO   \n",
       "4  20188973524  18897352                  BITAR RAUAD   \n",
       "\n",
       "                         Dato PROPIETARIO_DATO PROVEEDOR_DATO   TIPO  \\\n",
       "0    cesarbonometti@gmail.com           Propio             P2  EMAIL   \n",
       "1  marcelarebollido@yahoo.com           Propio             P2  EMAIL   \n",
       "2         170silvia@gmail.com  Ajeno_empleador             P2  EMAIL   \n",
       "3     edu_urquiza@hotmail.com           Propio             P2  EMAIL   \n",
       "4    eliasbitar69@hotmail.com           Propio             P2  EMAIL   \n",
       "\n",
       "    SUBTIPO  SCORE_DATO         FECHA_INGRESO_DATO  VERIFICADO  \\\n",
       "0  PERSONAL         2.0 2021-02-24 11:36:06.742999           0   \n",
       "1  PERSONAL         2.0 2021-02-24 11:36:06.742999           0   \n",
       "2  PERSONAL         2.0 2021-02-24 11:36:06.742999           0   \n",
       "3  PERSONAL         2.0 2021-02-24 11:36:06.742999           0   \n",
       "4  PERSONAL         2.0 2021-02-24 11:36:06.742999           0   \n",
       "\n",
       "   FECHA_VERIFICACION  OPERADOR_VERIFICACION            IDMOROSO  \\\n",
       "0                 NaN                    NaN  DNI 22275733         \n",
       "1                 NaN                    NaN  DNI 17657892         \n",
       "2                 NaN                    NaN  DNI 17657892         \n",
       "3                 NaN                    NaN  DNIE92331200         \n",
       "4                 NaN                    NaN  DNI 18897352         \n",
       "\n",
       "                                     NOMBRE   IDCLIENTE TIPO_DOC  \n",
       "0  BONOMETTI CESAR ADRIAN                    BSR_TARDIA      DNI  \n",
       "1  MARCELA ALEJANDRA,REBOLLIDO               BSR_TARDIA      DNI  \n",
       "2  MARCELA ALEJANDRA,REBOLLIDO               BSR_TARDIA      DNI  \n",
       "3  ANGEL EULALIO,CASTRO PENAYO               BSR_TARDIA      DNI  \n",
       "4  RAUAD,BITAR                               BSR_TARDIA      DNI  "
      ]
     },
     "execution_count": 72,
     "metadata": {},
     "output_type": "execute_result"
    }
   ],
   "source": [
    "df_union.head()"
   ]
  },
  {
   "cell_type": "markdown",
   "metadata": {},
   "source": [
    "# 14) Export"
   ]
  },
  {
   "cell_type": "markdown",
   "metadata": {},
   "source": [
    "Renombramos, dropeamos y reordenamos las columnas"
   ]
  },
  {
   "cell_type": "code",
   "execution_count": 73,
   "metadata": {},
   "outputs": [],
   "source": [
    "df_union = df_union.rename(columns = {'Dato':'DATO'})"
   ]
  },
  {
   "cell_type": "markdown",
   "metadata": {},
   "source": [
    "Dropeamos columnas que no nos sirven"
   ]
  },
  {
   "cell_type": "code",
   "execution_count": 74,
   "metadata": {},
   "outputs": [],
   "source": [
    "df_export = df_union.drop(columns=['IDCLIENTE'], axis=0)"
   ]
  },
  {
   "cell_type": "code",
   "execution_count": 75,
   "metadata": {
    "scrolled": true
   },
   "outputs": [],
   "source": [
    "df_export = df_export[['IDMOROSO', 'TIPO_DOC','NRO_DOC','CUIT_CUIL','TIPO','SUBTIPO','DATO','PROPIETARIO_DATO','PROVEEDOR_DATO','FECHA_INGRESO_DATO','VERIFICADO','FECHA_VERIFICACION','OPERADOR_VERIFICACION','SCORE_DATO']]"
   ]
  },
  {
   "cell_type": "code",
   "execution_count": 76,
   "metadata": {},
   "outputs": [
    {
     "data": {
      "text/html": [
       "<div>\n",
       "<style scoped>\n",
       "    .dataframe tbody tr th:only-of-type {\n",
       "        vertical-align: middle;\n",
       "    }\n",
       "\n",
       "    .dataframe tbody tr th {\n",
       "        vertical-align: top;\n",
       "    }\n",
       "\n",
       "    .dataframe thead th {\n",
       "        text-align: right;\n",
       "    }\n",
       "</style>\n",
       "<table border=\"1\" class=\"dataframe\">\n",
       "  <thead>\n",
       "    <tr style=\"text-align: right;\">\n",
       "      <th></th>\n",
       "      <th>IDMOROSO</th>\n",
       "      <th>TIPO_DOC</th>\n",
       "      <th>NRO_DOC</th>\n",
       "      <th>CUIT_CUIL</th>\n",
       "      <th>TIPO</th>\n",
       "      <th>SUBTIPO</th>\n",
       "      <th>DATO</th>\n",
       "      <th>PROPIETARIO_DATO</th>\n",
       "      <th>PROVEEDOR_DATO</th>\n",
       "      <th>FECHA_INGRESO_DATO</th>\n",
       "      <th>VERIFICADO</th>\n",
       "      <th>FECHA_VERIFICACION</th>\n",
       "      <th>OPERADOR_VERIFICACION</th>\n",
       "      <th>SCORE_DATO</th>\n",
       "    </tr>\n",
       "  </thead>\n",
       "  <tbody>\n",
       "    <tr>\n",
       "      <th>0</th>\n",
       "      <td>DNI 22275733</td>\n",
       "      <td>DNI</td>\n",
       "      <td>22275733</td>\n",
       "      <td>23222757339</td>\n",
       "      <td>EMAIL</td>\n",
       "      <td>PERSONAL</td>\n",
       "      <td>cesarbonometti@gmail.com</td>\n",
       "      <td>Propio</td>\n",
       "      <td>P2</td>\n",
       "      <td>2021-02-24 11:36:06.742999</td>\n",
       "      <td>0</td>\n",
       "      <td>NaN</td>\n",
       "      <td>NaN</td>\n",
       "      <td>2.0</td>\n",
       "    </tr>\n",
       "    <tr>\n",
       "      <th>1</th>\n",
       "      <td>DNI 17657892</td>\n",
       "      <td>DNI</td>\n",
       "      <td>17657892</td>\n",
       "      <td>27176578926</td>\n",
       "      <td>EMAIL</td>\n",
       "      <td>PERSONAL</td>\n",
       "      <td>marcelarebollido@yahoo.com</td>\n",
       "      <td>Propio</td>\n",
       "      <td>P2</td>\n",
       "      <td>2021-02-24 11:36:06.742999</td>\n",
       "      <td>0</td>\n",
       "      <td>NaN</td>\n",
       "      <td>NaN</td>\n",
       "      <td>2.0</td>\n",
       "    </tr>\n",
       "    <tr>\n",
       "      <th>2</th>\n",
       "      <td>DNI 17657892</td>\n",
       "      <td>DNI</td>\n",
       "      <td>17657892</td>\n",
       "      <td>27176578926</td>\n",
       "      <td>EMAIL</td>\n",
       "      <td>PERSONAL</td>\n",
       "      <td>170silvia@gmail.com</td>\n",
       "      <td>Ajeno_empleador</td>\n",
       "      <td>P2</td>\n",
       "      <td>2021-02-24 11:36:06.742999</td>\n",
       "      <td>0</td>\n",
       "      <td>NaN</td>\n",
       "      <td>NaN</td>\n",
       "      <td>2.0</td>\n",
       "    </tr>\n",
       "    <tr>\n",
       "      <th>3</th>\n",
       "      <td>DNIE92331200</td>\n",
       "      <td>DNI</td>\n",
       "      <td>92331200</td>\n",
       "      <td>20923312006</td>\n",
       "      <td>EMAIL</td>\n",
       "      <td>PERSONAL</td>\n",
       "      <td>edu_urquiza@hotmail.com</td>\n",
       "      <td>Propio</td>\n",
       "      <td>P2</td>\n",
       "      <td>2021-02-24 11:36:06.742999</td>\n",
       "      <td>0</td>\n",
       "      <td>NaN</td>\n",
       "      <td>NaN</td>\n",
       "      <td>2.0</td>\n",
       "    </tr>\n",
       "    <tr>\n",
       "      <th>4</th>\n",
       "      <td>DNI 18897352</td>\n",
       "      <td>DNI</td>\n",
       "      <td>18897352</td>\n",
       "      <td>20188973524</td>\n",
       "      <td>EMAIL</td>\n",
       "      <td>PERSONAL</td>\n",
       "      <td>eliasbitar69@hotmail.com</td>\n",
       "      <td>Propio</td>\n",
       "      <td>P2</td>\n",
       "      <td>2021-02-24 11:36:06.742999</td>\n",
       "      <td>0</td>\n",
       "      <td>NaN</td>\n",
       "      <td>NaN</td>\n",
       "      <td>2.0</td>\n",
       "    </tr>\n",
       "  </tbody>\n",
       "</table>\n",
       "</div>"
      ],
      "text/plain": [
       "             IDMOROSO TIPO_DOC   NRO_DOC    CUIT_CUIL   TIPO   SUBTIPO  \\\n",
       "0  DNI 22275733            DNI  22275733  23222757339  EMAIL  PERSONAL   \n",
       "1  DNI 17657892            DNI  17657892  27176578926  EMAIL  PERSONAL   \n",
       "2  DNI 17657892            DNI  17657892  27176578926  EMAIL  PERSONAL   \n",
       "3  DNIE92331200            DNI  92331200  20923312006  EMAIL  PERSONAL   \n",
       "4  DNI 18897352            DNI  18897352  20188973524  EMAIL  PERSONAL   \n",
       "\n",
       "                         DATO PROPIETARIO_DATO PROVEEDOR_DATO  \\\n",
       "0    cesarbonometti@gmail.com           Propio             P2   \n",
       "1  marcelarebollido@yahoo.com           Propio             P2   \n",
       "2         170silvia@gmail.com  Ajeno_empleador             P2   \n",
       "3     edu_urquiza@hotmail.com           Propio             P2   \n",
       "4    eliasbitar69@hotmail.com           Propio             P2   \n",
       "\n",
       "          FECHA_INGRESO_DATO  VERIFICADO  FECHA_VERIFICACION  \\\n",
       "0 2021-02-24 11:36:06.742999           0                 NaN   \n",
       "1 2021-02-24 11:36:06.742999           0                 NaN   \n",
       "2 2021-02-24 11:36:06.742999           0                 NaN   \n",
       "3 2021-02-24 11:36:06.742999           0                 NaN   \n",
       "4 2021-02-24 11:36:06.742999           0                 NaN   \n",
       "\n",
       "   OPERADOR_VERIFICACION  SCORE_DATO  \n",
       "0                    NaN         2.0  \n",
       "1                    NaN         2.0  \n",
       "2                    NaN         2.0  \n",
       "3                    NaN         2.0  \n",
       "4                    NaN         2.0  "
      ]
     },
     "execution_count": 76,
     "metadata": {},
     "output_type": "execute_result"
    }
   ],
   "source": [
    "df_export.head()"
   ]
  },
  {
   "cell_type": "code",
   "execution_count": 77,
   "metadata": {
    "scrolled": true
   },
   "outputs": [
    {
     "data": {
      "text/plain": [
       "(613, 14)"
      ]
     },
     "execution_count": 77,
     "metadata": {},
     "output_type": "execute_result"
    }
   ],
   "source": [
    "df_export.shape"
   ]
  },
  {
   "cell_type": "markdown",
   "metadata": {},
   "source": [
    "Número a str para no tener problemas con la inserción"
   ]
  },
  {
   "cell_type": "code",
   "execution_count": 78,
   "metadata": {},
   "outputs": [],
   "source": [
    "df_export['CUIT_CUIL'] = [(str(int(round(df_export['CUIT_CUIL'][i],0)))) for i in range (df_export['CUIT_CUIL'].count())]"
   ]
  },
  {
   "cell_type": "code",
   "execution_count": 79,
   "metadata": {},
   "outputs": [
    {
     "data": {
      "text/html": [
       "<div>\n",
       "<style scoped>\n",
       "    .dataframe tbody tr th:only-of-type {\n",
       "        vertical-align: middle;\n",
       "    }\n",
       "\n",
       "    .dataframe tbody tr th {\n",
       "        vertical-align: top;\n",
       "    }\n",
       "\n",
       "    .dataframe thead th {\n",
       "        text-align: right;\n",
       "    }\n",
       "</style>\n",
       "<table border=\"1\" class=\"dataframe\">\n",
       "  <thead>\n",
       "    <tr style=\"text-align: right;\">\n",
       "      <th></th>\n",
       "      <th>IDMOROSO</th>\n",
       "      <th>TIPO_DOC</th>\n",
       "      <th>NRO_DOC</th>\n",
       "      <th>CUIT_CUIL</th>\n",
       "      <th>TIPO</th>\n",
       "      <th>SUBTIPO</th>\n",
       "      <th>DATO</th>\n",
       "      <th>PROPIETARIO_DATO</th>\n",
       "      <th>PROVEEDOR_DATO</th>\n",
       "      <th>FECHA_INGRESO_DATO</th>\n",
       "      <th>VERIFICADO</th>\n",
       "      <th>FECHA_VERIFICACION</th>\n",
       "      <th>OPERADOR_VERIFICACION</th>\n",
       "      <th>SCORE_DATO</th>\n",
       "    </tr>\n",
       "  </thead>\n",
       "  <tbody>\n",
       "    <tr>\n",
       "      <th>608</th>\n",
       "      <td>DNI 26170370</td>\n",
       "      <td>DNI</td>\n",
       "      <td>26170370</td>\n",
       "      <td>20261703700</td>\n",
       "      <td>EMAIL</td>\n",
       "      <td>PERSONAL</td>\n",
       "      <td>vanesanapole@hotmail.com</td>\n",
       "      <td>Ajeno_familiar</td>\n",
       "      <td>P2</td>\n",
       "      <td>2021-02-24 11:36:06.742999</td>\n",
       "      <td>0</td>\n",
       "      <td>NaN</td>\n",
       "      <td>NaN</td>\n",
       "      <td>2.0</td>\n",
       "    </tr>\n",
       "    <tr>\n",
       "      <th>609</th>\n",
       "      <td>DNI 17660480</td>\n",
       "      <td>DNI</td>\n",
       "      <td>17660480</td>\n",
       "      <td>27176604803</td>\n",
       "      <td>EMAIL</td>\n",
       "      <td>PERSONAL</td>\n",
       "      <td>betina1965@hotmail.com</td>\n",
       "      <td>Ajeno_familiar</td>\n",
       "      <td>P2</td>\n",
       "      <td>2021-02-24 11:36:06.742999</td>\n",
       "      <td>0</td>\n",
       "      <td>NaN</td>\n",
       "      <td>NaN</td>\n",
       "      <td>2.0</td>\n",
       "    </tr>\n",
       "    <tr>\n",
       "      <th>610</th>\n",
       "      <td>DNI 37361675</td>\n",
       "      <td>DNI</td>\n",
       "      <td>37361675</td>\n",
       "      <td>27373616759</td>\n",
       "      <td>EMAIL</td>\n",
       "      <td>PERSONAL</td>\n",
       "      <td>rodrigojesusmartin@hotmail.com</td>\n",
       "      <td>Ajeno_familiar</td>\n",
       "      <td>P2</td>\n",
       "      <td>2021-02-24 11:36:06.742999</td>\n",
       "      <td>0</td>\n",
       "      <td>NaN</td>\n",
       "      <td>NaN</td>\n",
       "      <td>2.0</td>\n",
       "    </tr>\n",
       "    <tr>\n",
       "      <th>611</th>\n",
       "      <td>DNI 24347361</td>\n",
       "      <td>DNI</td>\n",
       "      <td>24347361</td>\n",
       "      <td>20243473617</td>\n",
       "      <td>EMAIL</td>\n",
       "      <td>PERSONAL</td>\n",
       "      <td>lola_junin_27@hotmail.com</td>\n",
       "      <td>Ajeno_familiar</td>\n",
       "      <td>P2</td>\n",
       "      <td>2021-02-24 11:36:06.742999</td>\n",
       "      <td>0</td>\n",
       "      <td>NaN</td>\n",
       "      <td>NaN</td>\n",
       "      <td>2.0</td>\n",
       "    </tr>\n",
       "    <tr>\n",
       "      <th>612</th>\n",
       "      <td>DNI 27901272</td>\n",
       "      <td>DNI</td>\n",
       "      <td>27901272</td>\n",
       "      <td>27279012726</td>\n",
       "      <td>EMAIL</td>\n",
       "      <td>PERSONAL</td>\n",
       "      <td>elagrario01@hotmail.com</td>\n",
       "      <td>Ajeno_familiar</td>\n",
       "      <td>P2</td>\n",
       "      <td>2021-02-24 11:36:06.742999</td>\n",
       "      <td>0</td>\n",
       "      <td>NaN</td>\n",
       "      <td>NaN</td>\n",
       "      <td>2.0</td>\n",
       "    </tr>\n",
       "  </tbody>\n",
       "</table>\n",
       "</div>"
      ],
      "text/plain": [
       "               IDMOROSO TIPO_DOC   NRO_DOC    CUIT_CUIL   TIPO   SUBTIPO  \\\n",
       "608  DNI 26170370            DNI  26170370  20261703700  EMAIL  PERSONAL   \n",
       "609  DNI 17660480            DNI  17660480  27176604803  EMAIL  PERSONAL   \n",
       "610  DNI 37361675            DNI  37361675  27373616759  EMAIL  PERSONAL   \n",
       "611  DNI 24347361            DNI  24347361  20243473617  EMAIL  PERSONAL   \n",
       "612  DNI 27901272            DNI  27901272  27279012726  EMAIL  PERSONAL   \n",
       "\n",
       "                               DATO PROPIETARIO_DATO PROVEEDOR_DATO  \\\n",
       "608        vanesanapole@hotmail.com   Ajeno_familiar             P2   \n",
       "609          betina1965@hotmail.com   Ajeno_familiar             P2   \n",
       "610  rodrigojesusmartin@hotmail.com   Ajeno_familiar             P2   \n",
       "611       lola_junin_27@hotmail.com   Ajeno_familiar             P2   \n",
       "612         elagrario01@hotmail.com   Ajeno_familiar             P2   \n",
       "\n",
       "            FECHA_INGRESO_DATO  VERIFICADO  FECHA_VERIFICACION  \\\n",
       "608 2021-02-24 11:36:06.742999           0                 NaN   \n",
       "609 2021-02-24 11:36:06.742999           0                 NaN   \n",
       "610 2021-02-24 11:36:06.742999           0                 NaN   \n",
       "611 2021-02-24 11:36:06.742999           0                 NaN   \n",
       "612 2021-02-24 11:36:06.742999           0                 NaN   \n",
       "\n",
       "     OPERADOR_VERIFICACION  SCORE_DATO  \n",
       "608                    NaN         2.0  \n",
       "609                    NaN         2.0  \n",
       "610                    NaN         2.0  \n",
       "611                    NaN         2.0  \n",
       "612                    NaN         2.0  "
      ]
     },
     "execution_count": 79,
     "metadata": {},
     "output_type": "execute_result"
    }
   ],
   "source": [
    "df_export.tail()"
   ]
  },
  {
   "cell_type": "markdown",
   "metadata": {},
   "source": [
    "Dropeamos filas duplicadas"
   ]
  },
  {
   "cell_type": "code",
   "execution_count": 80,
   "metadata": {},
   "outputs": [],
   "source": [
    "df_export = df_export.drop_duplicates()"
   ]
  },
  {
   "cell_type": "code",
   "execution_count": 81,
   "metadata": {},
   "outputs": [
    {
     "data": {
      "text/plain": [
       "(613, 14)"
      ]
     },
     "execution_count": 81,
     "metadata": {},
     "output_type": "execute_result"
    }
   ],
   "source": [
    "df_export.shape"
   ]
  },
  {
   "cell_type": "markdown",
   "metadata": {},
   "source": [
    "## Dato a str + strip()"
   ]
  },
  {
   "cell_type": "code",
   "execution_count": 82,
   "metadata": {},
   "outputs": [],
   "source": [
    "df_export ['DATO'] = df_export['DATO'].str.strip()"
   ]
  },
  {
   "cell_type": "markdown",
   "metadata": {},
   "source": [
    "# Revisión de duplicados"
   ]
  },
  {
   "cell_type": "code",
   "execution_count": 83,
   "metadata": {},
   "outputs": [],
   "source": [
    "duplicates_subset = df_export[df_export.duplicated(subset=['IDMOROSO','DATO','PROVEEDOR_DATO'],keep=False)]"
   ]
  },
  {
   "cell_type": "code",
   "execution_count": 84,
   "metadata": {
    "scrolled": true
   },
   "outputs": [
    {
     "data": {
      "text/html": [
       "<div>\n",
       "<style scoped>\n",
       "    .dataframe tbody tr th:only-of-type {\n",
       "        vertical-align: middle;\n",
       "    }\n",
       "\n",
       "    .dataframe tbody tr th {\n",
       "        vertical-align: top;\n",
       "    }\n",
       "\n",
       "    .dataframe thead th {\n",
       "        text-align: right;\n",
       "    }\n",
       "</style>\n",
       "<table border=\"1\" class=\"dataframe\">\n",
       "  <thead>\n",
       "    <tr style=\"text-align: right;\">\n",
       "      <th></th>\n",
       "      <th>IDMOROSO</th>\n",
       "      <th>TIPO_DOC</th>\n",
       "      <th>NRO_DOC</th>\n",
       "      <th>CUIT_CUIL</th>\n",
       "      <th>TIPO</th>\n",
       "      <th>SUBTIPO</th>\n",
       "      <th>DATO</th>\n",
       "      <th>PROPIETARIO_DATO</th>\n",
       "      <th>PROVEEDOR_DATO</th>\n",
       "      <th>FECHA_INGRESO_DATO</th>\n",
       "      <th>VERIFICADO</th>\n",
       "      <th>FECHA_VERIFICACION</th>\n",
       "      <th>OPERADOR_VERIFICACION</th>\n",
       "      <th>SCORE_DATO</th>\n",
       "    </tr>\n",
       "  </thead>\n",
       "  <tbody>\n",
       "    <tr>\n",
       "      <th>70</th>\n",
       "      <td>DNI 26704119</td>\n",
       "      <td>DNI</td>\n",
       "      <td>26704119</td>\n",
       "      <td>23267041199</td>\n",
       "      <td>EMAIL</td>\n",
       "      <td>PERSONAL</td>\n",
       "      <td>maria_pia_mangiapane@hotmail.com</td>\n",
       "      <td>Propio</td>\n",
       "      <td>P2</td>\n",
       "      <td>2021-02-24 11:36:06.742999</td>\n",
       "      <td>0</td>\n",
       "      <td>NaN</td>\n",
       "      <td>NaN</td>\n",
       "      <td>2.0</td>\n",
       "    </tr>\n",
       "    <tr>\n",
       "      <th>71</th>\n",
       "      <td>DNI 26704119</td>\n",
       "      <td>DNI</td>\n",
       "      <td>26704119</td>\n",
       "      <td>23267041199</td>\n",
       "      <td>EMAIL</td>\n",
       "      <td>PERSONAL</td>\n",
       "      <td>maria_pia_mangiapane@hotmail.com</td>\n",
       "      <td>Ajeno_familiar</td>\n",
       "      <td>P2</td>\n",
       "      <td>2021-02-24 11:36:06.742999</td>\n",
       "      <td>0</td>\n",
       "      <td>NaN</td>\n",
       "      <td>NaN</td>\n",
       "      <td>2.0</td>\n",
       "    </tr>\n",
       "    <tr>\n",
       "      <th>88</th>\n",
       "      <td>DNI 7920788</td>\n",
       "      <td>DNI</td>\n",
       "      <td>7920788</td>\n",
       "      <td>20079207889</td>\n",
       "      <td>EMAIL</td>\n",
       "      <td>PERSONAL</td>\n",
       "      <td>p.canteros@hotmail.com</td>\n",
       "      <td>Propio</td>\n",
       "      <td>P2</td>\n",
       "      <td>2021-02-24 11:36:06.742999</td>\n",
       "      <td>0</td>\n",
       "      <td>NaN</td>\n",
       "      <td>NaN</td>\n",
       "      <td>2.0</td>\n",
       "    </tr>\n",
       "    <tr>\n",
       "      <th>89</th>\n",
       "      <td>DNI 7920788</td>\n",
       "      <td>DNI</td>\n",
       "      <td>7920788</td>\n",
       "      <td>20079207889</td>\n",
       "      <td>EMAIL</td>\n",
       "      <td>PERSONAL</td>\n",
       "      <td>p.canteros@hotmail.com</td>\n",
       "      <td>Ajeno_empleador</td>\n",
       "      <td>P2</td>\n",
       "      <td>2021-02-24 11:36:06.742999</td>\n",
       "      <td>0</td>\n",
       "      <td>NaN</td>\n",
       "      <td>NaN</td>\n",
       "      <td>2.0</td>\n",
       "    </tr>\n",
       "    <tr>\n",
       "      <th>103</th>\n",
       "      <td>DNI 23588772</td>\n",
       "      <td>DNI</td>\n",
       "      <td>23588772</td>\n",
       "      <td>20235887720</td>\n",
       "      <td>EMAIL</td>\n",
       "      <td>PERSONAL</td>\n",
       "      <td>norma_a.m@hotmail.com</td>\n",
       "      <td>Propio</td>\n",
       "      <td>P2</td>\n",
       "      <td>2021-02-24 11:36:06.742999</td>\n",
       "      <td>0</td>\n",
       "      <td>NaN</td>\n",
       "      <td>NaN</td>\n",
       "      <td>2.0</td>\n",
       "    </tr>\n",
       "    <tr>\n",
       "      <th>104</th>\n",
       "      <td>DNI 23588772</td>\n",
       "      <td>DNI</td>\n",
       "      <td>23588772</td>\n",
       "      <td>20235887720</td>\n",
       "      <td>EMAIL</td>\n",
       "      <td>PERSONAL</td>\n",
       "      <td>norma_a.m@hotmail.com</td>\n",
       "      <td>Ajeno_familiar</td>\n",
       "      <td>P2</td>\n",
       "      <td>2021-02-24 11:36:06.742999</td>\n",
       "      <td>0</td>\n",
       "      <td>NaN</td>\n",
       "      <td>NaN</td>\n",
       "      <td>2.0</td>\n",
       "    </tr>\n",
       "    <tr>\n",
       "      <th>192</th>\n",
       "      <td>DNI 22497522</td>\n",
       "      <td>DNI</td>\n",
       "      <td>22497522</td>\n",
       "      <td>20224975229</td>\n",
       "      <td>EMAIL</td>\n",
       "      <td>PERSONAL</td>\n",
       "      <td>transporte_marina@hotmail.com</td>\n",
       "      <td>Propio</td>\n",
       "      <td>P2</td>\n",
       "      <td>2021-02-24 11:36:06.742999</td>\n",
       "      <td>0</td>\n",
       "      <td>NaN</td>\n",
       "      <td>NaN</td>\n",
       "      <td>2.0</td>\n",
       "    </tr>\n",
       "    <tr>\n",
       "      <th>193</th>\n",
       "      <td>DNI 22497522</td>\n",
       "      <td>DNI</td>\n",
       "      <td>22497522</td>\n",
       "      <td>20224975229</td>\n",
       "      <td>EMAIL</td>\n",
       "      <td>PERSONAL</td>\n",
       "      <td>transporte_marina@hotmail.com</td>\n",
       "      <td>Ajeno_empleador</td>\n",
       "      <td>P2</td>\n",
       "      <td>2021-02-24 11:36:06.742999</td>\n",
       "      <td>0</td>\n",
       "      <td>NaN</td>\n",
       "      <td>NaN</td>\n",
       "      <td>2.0</td>\n",
       "    </tr>\n",
       "    <tr>\n",
       "      <th>213</th>\n",
       "      <td>DNI 20003643</td>\n",
       "      <td>DNI</td>\n",
       "      <td>20003643</td>\n",
       "      <td>20200036434</td>\n",
       "      <td>EMAIL</td>\n",
       "      <td>PERSONAL</td>\n",
       "      <td>dani_biarlo@hotmail.com</td>\n",
       "      <td>Propio</td>\n",
       "      <td>P2</td>\n",
       "      <td>2021-02-24 11:36:06.742999</td>\n",
       "      <td>0</td>\n",
       "      <td>NaN</td>\n",
       "      <td>NaN</td>\n",
       "      <td>2.0</td>\n",
       "    </tr>\n",
       "    <tr>\n",
       "      <th>215</th>\n",
       "      <td>DNI 20003643</td>\n",
       "      <td>DNI</td>\n",
       "      <td>20003643</td>\n",
       "      <td>20200036434</td>\n",
       "      <td>EMAIL</td>\n",
       "      <td>PERSONAL</td>\n",
       "      <td>dani_biarlo@hotmail.com</td>\n",
       "      <td>Ajeno_familiar</td>\n",
       "      <td>P2</td>\n",
       "      <td>2021-02-24 11:36:06.742999</td>\n",
       "      <td>0</td>\n",
       "      <td>NaN</td>\n",
       "      <td>NaN</td>\n",
       "      <td>2.0</td>\n",
       "    </tr>\n",
       "  </tbody>\n",
       "</table>\n",
       "</div>"
      ],
      "text/plain": [
       "               IDMOROSO TIPO_DOC   NRO_DOC    CUIT_CUIL   TIPO   SUBTIPO  \\\n",
       "70   DNI 26704119            DNI  26704119  23267041199  EMAIL  PERSONAL   \n",
       "71   DNI 26704119            DNI  26704119  23267041199  EMAIL  PERSONAL   \n",
       "88   DNI 7920788             DNI   7920788  20079207889  EMAIL  PERSONAL   \n",
       "89   DNI 7920788             DNI   7920788  20079207889  EMAIL  PERSONAL   \n",
       "103  DNI 23588772            DNI  23588772  20235887720  EMAIL  PERSONAL   \n",
       "104  DNI 23588772            DNI  23588772  20235887720  EMAIL  PERSONAL   \n",
       "192  DNI 22497522            DNI  22497522  20224975229  EMAIL  PERSONAL   \n",
       "193  DNI 22497522            DNI  22497522  20224975229  EMAIL  PERSONAL   \n",
       "213  DNI 20003643            DNI  20003643  20200036434  EMAIL  PERSONAL   \n",
       "215  DNI 20003643            DNI  20003643  20200036434  EMAIL  PERSONAL   \n",
       "\n",
       "                                 DATO PROPIETARIO_DATO PROVEEDOR_DATO  \\\n",
       "70   maria_pia_mangiapane@hotmail.com           Propio             P2   \n",
       "71   maria_pia_mangiapane@hotmail.com   Ajeno_familiar             P2   \n",
       "88             p.canteros@hotmail.com           Propio             P2   \n",
       "89             p.canteros@hotmail.com  Ajeno_empleador             P2   \n",
       "103             norma_a.m@hotmail.com           Propio             P2   \n",
       "104             norma_a.m@hotmail.com   Ajeno_familiar             P2   \n",
       "192     transporte_marina@hotmail.com           Propio             P2   \n",
       "193     transporte_marina@hotmail.com  Ajeno_empleador             P2   \n",
       "213           dani_biarlo@hotmail.com           Propio             P2   \n",
       "215           dani_biarlo@hotmail.com   Ajeno_familiar             P2   \n",
       "\n",
       "            FECHA_INGRESO_DATO  VERIFICADO  FECHA_VERIFICACION  \\\n",
       "70  2021-02-24 11:36:06.742999           0                 NaN   \n",
       "71  2021-02-24 11:36:06.742999           0                 NaN   \n",
       "88  2021-02-24 11:36:06.742999           0                 NaN   \n",
       "89  2021-02-24 11:36:06.742999           0                 NaN   \n",
       "103 2021-02-24 11:36:06.742999           0                 NaN   \n",
       "104 2021-02-24 11:36:06.742999           0                 NaN   \n",
       "192 2021-02-24 11:36:06.742999           0                 NaN   \n",
       "193 2021-02-24 11:36:06.742999           0                 NaN   \n",
       "213 2021-02-24 11:36:06.742999           0                 NaN   \n",
       "215 2021-02-24 11:36:06.742999           0                 NaN   \n",
       "\n",
       "     OPERADOR_VERIFICACION  SCORE_DATO  \n",
       "70                     NaN         2.0  \n",
       "71                     NaN         2.0  \n",
       "88                     NaN         2.0  \n",
       "89                     NaN         2.0  \n",
       "103                    NaN         2.0  \n",
       "104                    NaN         2.0  \n",
       "192                    NaN         2.0  \n",
       "193                    NaN         2.0  \n",
       "213                    NaN         2.0  \n",
       "215                    NaN         2.0  "
      ]
     },
     "execution_count": 84,
     "metadata": {},
     "output_type": "execute_result"
    }
   ],
   "source": [
    "duplicates_subset"
   ]
  },
  {
   "cell_type": "code",
   "execution_count": 85,
   "metadata": {
    "scrolled": true
   },
   "outputs": [
    {
     "data": {
      "text/plain": [
       "(10, 14)"
      ]
     },
     "execution_count": 85,
     "metadata": {},
     "output_type": "execute_result"
    }
   ],
   "source": [
    "duplicates_subset.shape"
   ]
  },
  {
   "cell_type": "markdown",
   "metadata": {},
   "source": [
    "Son solo 10 datos, se limpia de forma manual"
   ]
  },
  {
   "cell_type": "code",
   "execution_count": 86,
   "metadata": {},
   "outputs": [],
   "source": [
    "df_export = df_export.drop([71,89,104,193,215])"
   ]
  },
  {
   "cell_type": "code",
   "execution_count": null,
   "metadata": {},
   "outputs": [],
   "source": [
    "df_export[df_export.duplicated(subset=['IDMOROSO','DATO','PROVEEDOR_DATO'],keep=False)]"
   ]
  },
  {
   "cell_type": "code",
   "execution_count": 88,
   "metadata": {},
   "outputs": [
    {
     "data": {
      "text/plain": [
       "(608, 14)"
      ]
     },
     "execution_count": 88,
     "metadata": {},
     "output_type": "execute_result"
    }
   ],
   "source": [
    "df_export.shape"
   ]
  },
  {
   "cell_type": "markdown",
   "metadata": {},
   "source": [
    "## 14.1) Export de dataframe + IDCLIENTE para análisis"
   ]
  },
  {
   "cell_type": "code",
   "execution_count": 89,
   "metadata": {},
   "outputs": [],
   "source": [
    "#df_union.to_excel('D:/MOPC/Enriquecimiento de Datos/Data Cleaning/PyP/Exports/Mails para analisis/PyP_mails_1401.xlsx')\n",
    "#df_union.to_csv('D:/MOPC/Enriquecimiento de Datos/Data Cleaning/PyP/Exports/Mails para analisis/PyP_mails_1401.csv')"
   ]
  },
  {
   "cell_type": "markdown",
   "metadata": {},
   "source": [
    "## 14.2) Insert a tabla DAM_CONTACTABILIDAD:"
   ]
  },
  {
   "cell_type": "code",
   "execution_count": 90,
   "metadata": {},
   "outputs": [],
   "source": [
    "df_export.to_csv('/mnt/c/users/Dleg/Data/MOPC/MOPC/Enriquecimiento de Datos/Data Cleaning/PyP/Exports/DAM_CONTACTABILIDAD/PyP_DAM_CONTACTABILIDAD_mails_2402.csv',index=False)"
   ]
  },
  {
   "cell_type": "code",
   "execution_count": null,
   "metadata": {},
   "outputs": [],
   "source": []
  }
 ],
 "metadata": {
  "kernelspec": {
   "display_name": "Python 3",
   "language": "python",
   "name": "python3"
  },
  "language_info": {
   "codemirror_mode": {
    "name": "ipython",
    "version": 3
   },
   "file_extension": ".py",
   "mimetype": "text/x-python",
   "name": "python",
   "nbconvert_exporter": "python",
   "pygments_lexer": "ipython3",
   "version": "3.8.6"
  }
 },
 "nbformat": 4,
 "nbformat_minor": 4
}
