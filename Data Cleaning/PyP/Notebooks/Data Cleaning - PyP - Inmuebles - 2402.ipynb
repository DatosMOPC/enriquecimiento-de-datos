{
 "cells": [
  {
   "cell_type": "markdown",
   "metadata": {},
   "source": [
    "Vamos a leer el dataset que envía PyP"
   ]
  },
  {
   "cell_type": "code",
   "execution_count": 1,
   "metadata": {},
   "outputs": [],
   "source": [
    "import pandas as pd\n",
    "import numpy as np"
   ]
  },
  {
   "cell_type": "code",
   "execution_count": 2,
   "metadata": {},
   "outputs": [],
   "source": [
    "df = pd.read_excel('/mnt/c/users/Dleg/Data/MOPC/MOPC/Enriquecimiento de Datos/Data Cleaning/PyP/Datasets/Datasets recibidos/MOP - 11022021 -Enriquecido - Copy.xlsx',skiprows=2, header=[0,1])"
   ]
  },
  {
   "cell_type": "code",
   "execution_count": 3,
   "metadata": {},
   "outputs": [
    {
     "data": {
      "text/html": [
       "<div>\n",
       "<style scoped>\n",
       "    .dataframe tbody tr th:only-of-type {\n",
       "        vertical-align: middle;\n",
       "    }\n",
       "\n",
       "    .dataframe tbody tr th {\n",
       "        vertical-align: top;\n",
       "    }\n",
       "\n",
       "    .dataframe thead tr th {\n",
       "        text-align: left;\n",
       "    }\n",
       "</style>\n",
       "<table border=\"1\" class=\"dataframe\">\n",
       "  <thead>\n",
       "    <tr>\n",
       "      <th></th>\n",
       "      <th>Unnamed: 0_level_0</th>\n",
       "      <th>Unnamed: 1_level_0</th>\n",
       "      <th>Unnamed: 2_level_0</th>\n",
       "      <th>Unnamed: 3_level_0</th>\n",
       "      <th>Unnamed: 4_level_0</th>\n",
       "      <th>Unnamed: 5_level_0</th>\n",
       "      <th>Unnamed: 6_level_0</th>\n",
       "      <th>Unnamed: 7_level_0</th>\n",
       "      <th>Unnamed: 8_level_0</th>\n",
       "      <th>Unnamed: 9_level_0</th>\n",
       "      <th>...</th>\n",
       "      <th colspan=\"7\" halign=\"left\">Contactacion Opcional (Familiar)</th>\n",
       "      <th colspan=\"3\" halign=\"left\">Contactacion Opcional (Vecino)</th>\n",
       "    </tr>\n",
       "    <tr>\n",
       "      <th></th>\n",
       "      <th>Cuil</th>\n",
       "      <th>Dni</th>\n",
       "      <th>Fecha de Nac.</th>\n",
       "      <th>Fecha de Defuncion</th>\n",
       "      <th>Sexo</th>\n",
       "      <th>Titular</th>\n",
       "      <th>Calle</th>\n",
       "      <th>Numero</th>\n",
       "      <th>Piso y Depto</th>\n",
       "      <th>Codigo Postal</th>\n",
       "      <th>...</th>\n",
       "      <th>Tel Fijo 2</th>\n",
       "      <th>Celular 1</th>\n",
       "      <th>Celular 2</th>\n",
       "      <th>Celular 3</th>\n",
       "      <th>Celular 4</th>\n",
       "      <th>Celular 5</th>\n",
       "      <th>Email</th>\n",
       "      <th>Nombre</th>\n",
       "      <th>Telefono</th>\n",
       "      <th>SCORE</th>\n",
       "    </tr>\n",
       "  </thead>\n",
       "  <tbody>\n",
       "    <tr>\n",
       "      <th>0</th>\n",
       "      <td>20140531562</td>\n",
       "      <td>14053156</td>\n",
       "      <td>1959-10-12</td>\n",
       "      <td>NaN</td>\n",
       "      <td>M</td>\n",
       "      <td>CALDERON JUAN DOMINGO</td>\n",
       "      <td>CALLE 8</td>\n",
       "      <td>378</td>\n",
       "      <td>NaN</td>\n",
       "      <td>2555</td>\n",
       "      <td>...</td>\n",
       "      <td>NaN</td>\n",
       "      <td>NaN</td>\n",
       "      <td>NaN</td>\n",
       "      <td>NaN</td>\n",
       "      <td>NaN</td>\n",
       "      <td>NaN</td>\n",
       "      <td>NaN</td>\n",
       "      <td>NaN</td>\n",
       "      <td>NaN</td>\n",
       "      <td>345</td>\n",
       "    </tr>\n",
       "    <tr>\n",
       "      <th>1</th>\n",
       "      <td>27281648867</td>\n",
       "      <td>28164886</td>\n",
       "      <td>1980-09-14</td>\n",
       "      <td>NaN</td>\n",
       "      <td>F</td>\n",
       "      <td>BAEZ CECILIA LUJAN</td>\n",
       "      <td>VILLAGUAY</td>\n",
       "      <td>2130</td>\n",
       "      <td>NaN</td>\n",
       "      <td>1849</td>\n",
       "      <td>...</td>\n",
       "      <td>NaN</td>\n",
       "      <td>NaN</td>\n",
       "      <td>NaN</td>\n",
       "      <td>NaN</td>\n",
       "      <td>NaN</td>\n",
       "      <td>NaN</td>\n",
       "      <td>NaN</td>\n",
       "      <td>LUJAN OLGA Y</td>\n",
       "      <td>1.142688e+09</td>\n",
       "      <td>34</td>\n",
       "    </tr>\n",
       "    <tr>\n",
       "      <th>2</th>\n",
       "      <td>20398295383</td>\n",
       "      <td>39829538</td>\n",
       "      <td>1996-07-25</td>\n",
       "      <td>NaN</td>\n",
       "      <td>M</td>\n",
       "      <td>CARDOZO SANTIAGO EDUARDO</td>\n",
       "      <td>PRES QUINTANA</td>\n",
       "      <td>1723</td>\n",
       "      <td>NaN</td>\n",
       "      <td>1615</td>\n",
       "      <td>...</td>\n",
       "      <td>NaN</td>\n",
       "      <td>NaN</td>\n",
       "      <td>NaN</td>\n",
       "      <td>NaN</td>\n",
       "      <td>NaN</td>\n",
       "      <td>NaN</td>\n",
       "      <td>NaN</td>\n",
       "      <td>NaN</td>\n",
       "      <td>NaN</td>\n",
       "      <td>345</td>\n",
       "    </tr>\n",
       "    <tr>\n",
       "      <th>3</th>\n",
       "      <td>20359239530</td>\n",
       "      <td>35923953</td>\n",
       "      <td>1992-02-12</td>\n",
       "      <td>NaN</td>\n",
       "      <td>M</td>\n",
       "      <td>BUSTOS CLEVERS CARLOS OCTAVIO</td>\n",
       "      <td>CARLOS M ALVEAR NORTE</td>\n",
       "      <td>143</td>\n",
       "      <td>NaN</td>\n",
       "      <td>5400</td>\n",
       "      <td>...</td>\n",
       "      <td>NaN</td>\n",
       "      <td>2.646737e+09</td>\n",
       "      <td>NaN</td>\n",
       "      <td>NaN</td>\n",
       "      <td>NaN</td>\n",
       "      <td>NaN</td>\n",
       "      <td>NaN</td>\n",
       "      <td>NaN</td>\n",
       "      <td>NaN</td>\n",
       "      <td>345</td>\n",
       "    </tr>\n",
       "    <tr>\n",
       "      <th>4</th>\n",
       "      <td>20939121383</td>\n",
       "      <td>93912138</td>\n",
       "      <td>1992-12-11</td>\n",
       "      <td>NaN</td>\n",
       "      <td>M</td>\n",
       "      <td>BENEGA LOPEZ ARNALDO ARIEL</td>\n",
       "      <td>CALLE 22</td>\n",
       "      <td>170</td>\n",
       "      <td>NaN</td>\n",
       "      <td>1743</td>\n",
       "      <td>...</td>\n",
       "      <td>NaN</td>\n",
       "      <td>NaN</td>\n",
       "      <td>NaN</td>\n",
       "      <td>NaN</td>\n",
       "      <td>NaN</td>\n",
       "      <td>NaN</td>\n",
       "      <td>NaN</td>\n",
       "      <td>NaN</td>\n",
       "      <td>NaN</td>\n",
       "      <td>345</td>\n",
       "    </tr>\n",
       "  </tbody>\n",
       "</table>\n",
       "<p>5 rows × 229 columns</p>\n",
       "</div>"
      ],
      "text/plain": [
       "  Unnamed: 0_level_0 Unnamed: 1_level_0 Unnamed: 2_level_0 Unnamed: 3_level_0  \\\n",
       "                Cuil                Dni      Fecha de Nac. Fecha de Defuncion   \n",
       "0        20140531562           14053156         1959-10-12                NaN   \n",
       "1        27281648867           28164886         1980-09-14                NaN   \n",
       "2        20398295383           39829538         1996-07-25                NaN   \n",
       "3        20359239530           35923953         1992-02-12                NaN   \n",
       "4        20939121383           93912138         1992-12-11                NaN   \n",
       "\n",
       "  Unnamed: 4_level_0             Unnamed: 5_level_0     Unnamed: 6_level_0  \\\n",
       "                Sexo                        Titular                  Calle   \n",
       "0                  M          CALDERON JUAN DOMINGO                CALLE 8   \n",
       "1                  F             BAEZ CECILIA LUJAN              VILLAGUAY   \n",
       "2                  M       CARDOZO SANTIAGO EDUARDO          PRES QUINTANA   \n",
       "3                  M  BUSTOS CLEVERS CARLOS OCTAVIO  CARLOS M ALVEAR NORTE   \n",
       "4                  M     BENEGA LOPEZ ARNALDO ARIEL               CALLE 22   \n",
       "\n",
       "  Unnamed: 7_level_0 Unnamed: 8_level_0 Unnamed: 9_level_0  ...  \\\n",
       "              Numero       Piso y Depto      Codigo Postal  ...   \n",
       "0                378                NaN               2555  ...   \n",
       "1               2130                NaN               1849  ...   \n",
       "2               1723                NaN               1615  ...   \n",
       "3                143                NaN               5400  ...   \n",
       "4                170                NaN               1743  ...   \n",
       "\n",
       "  Contactacion Opcional (Familiar)                                    \\\n",
       "                        Tel Fijo 2     Celular 1 Celular 2 Celular 3   \n",
       "0                              NaN           NaN       NaN       NaN   \n",
       "1                              NaN           NaN       NaN       NaN   \n",
       "2                              NaN           NaN       NaN       NaN   \n",
       "3                              NaN  2.646737e+09       NaN       NaN   \n",
       "4                              NaN           NaN       NaN       NaN   \n",
       "\n",
       "                            Contactacion Opcional (Vecino)                      \n",
       "  Celular 4 Celular 5 Email                         Nombre      Telefono SCORE  \n",
       "0       NaN       NaN   NaN                            NaN           NaN   345  \n",
       "1       NaN       NaN   NaN                   LUJAN OLGA Y  1.142688e+09    34  \n",
       "2       NaN       NaN   NaN                            NaN           NaN   345  \n",
       "3       NaN       NaN   NaN                            NaN           NaN   345  \n",
       "4       NaN       NaN   NaN                            NaN           NaN   345  \n",
       "\n",
       "[5 rows x 229 columns]"
      ]
     },
     "execution_count": 3,
     "metadata": {},
     "output_type": "execute_result"
    }
   ],
   "source": [
    "df.head()"
   ]
  },
  {
   "cell_type": "code",
   "execution_count": 4,
   "metadata": {
    "scrolled": true
   },
   "outputs": [
    {
     "data": {
      "text/plain": [
       "(1348, 229)"
      ]
     },
     "execution_count": 4,
     "metadata": {},
     "output_type": "execute_result"
    }
   ],
   "source": [
    "df.shape"
   ]
  },
  {
   "cell_type": "markdown",
   "metadata": {},
   "source": [
    "## 1.2) Data Cleaning: Datasets"
   ]
  },
  {
   "cell_type": "markdown",
   "metadata": {},
   "source": [
    "Vamos a dropear aquellas columnas y filas que no tengan ningún valor (es decir, que sean todos NaNs)"
   ]
  },
  {
   "cell_type": "code",
   "execution_count": 5,
   "metadata": {},
   "outputs": [],
   "source": [
    "df = df.dropna(axis=0, how='all')"
   ]
  },
  {
   "cell_type": "code",
   "execution_count": 6,
   "metadata": {},
   "outputs": [],
   "source": [
    "#df = df.dropna(axis=1, how='all')"
   ]
  },
  {
   "cell_type": "code",
   "execution_count": 7,
   "metadata": {},
   "outputs": [
    {
     "data": {
      "text/plain": [
       "(1348, 229)"
      ]
     },
     "execution_count": 7,
     "metadata": {},
     "output_type": "execute_result"
    }
   ],
   "source": [
    "df.shape"
   ]
  },
  {
   "cell_type": "markdown",
   "metadata": {},
   "source": [
    "Ahora todas las columnas tienen al menos 1 dato."
   ]
  },
  {
   "cell_type": "markdown",
   "metadata": {},
   "source": [
    "# 2) Inmuebles"
   ]
  },
  {
   "cell_type": "markdown",
   "metadata": {},
   "source": [
    "Vamos a obtener los inmuebles. Solamente podemos sacar información de la Cantidad de Inmuebles registrados:"
   ]
  },
  {
   "cell_type": "code",
   "execution_count": 8,
   "metadata": {},
   "outputs": [],
   "source": [
    "df_reduced = df [[('Unnamed: 0_level_0','Cuil'),('Unnamed: 1_level_0','Dni'), ('Unnamed: 5_level_0','Titular')\n",
    "                  ,('Propiedades','Unnamed: 111_level_1')\n",
    "                  ]]"
   ]
  },
  {
   "cell_type": "code",
   "execution_count": 9,
   "metadata": {},
   "outputs": [
    {
     "data": {
      "text/html": [
       "<div>\n",
       "<style scoped>\n",
       "    .dataframe tbody tr th:only-of-type {\n",
       "        vertical-align: middle;\n",
       "    }\n",
       "\n",
       "    .dataframe tbody tr th {\n",
       "        vertical-align: top;\n",
       "    }\n",
       "\n",
       "    .dataframe thead tr th {\n",
       "        text-align: left;\n",
       "    }\n",
       "</style>\n",
       "<table border=\"1\" class=\"dataframe\">\n",
       "  <thead>\n",
       "    <tr>\n",
       "      <th></th>\n",
       "      <th>Unnamed: 0_level_0</th>\n",
       "      <th>Unnamed: 1_level_0</th>\n",
       "      <th>Unnamed: 5_level_0</th>\n",
       "      <th>Propiedades</th>\n",
       "    </tr>\n",
       "    <tr>\n",
       "      <th></th>\n",
       "      <th>Cuil</th>\n",
       "      <th>Dni</th>\n",
       "      <th>Titular</th>\n",
       "      <th>Unnamed: 111_level_1</th>\n",
       "    </tr>\n",
       "  </thead>\n",
       "  <tbody>\n",
       "    <tr>\n",
       "      <th>0</th>\n",
       "      <td>20140531562</td>\n",
       "      <td>14053156</td>\n",
       "      <td>CALDERON JUAN DOMINGO</td>\n",
       "      <td>0</td>\n",
       "    </tr>\n",
       "    <tr>\n",
       "      <th>1</th>\n",
       "      <td>27281648867</td>\n",
       "      <td>28164886</td>\n",
       "      <td>BAEZ CECILIA LUJAN</td>\n",
       "      <td>0</td>\n",
       "    </tr>\n",
       "    <tr>\n",
       "      <th>2</th>\n",
       "      <td>20398295383</td>\n",
       "      <td>39829538</td>\n",
       "      <td>CARDOZO SANTIAGO EDUARDO</td>\n",
       "      <td>0</td>\n",
       "    </tr>\n",
       "    <tr>\n",
       "      <th>3</th>\n",
       "      <td>20359239530</td>\n",
       "      <td>35923953</td>\n",
       "      <td>BUSTOS CLEVERS CARLOS OCTAVIO</td>\n",
       "      <td>0</td>\n",
       "    </tr>\n",
       "    <tr>\n",
       "      <th>4</th>\n",
       "      <td>20939121383</td>\n",
       "      <td>93912138</td>\n",
       "      <td>BENEGA LOPEZ ARNALDO ARIEL</td>\n",
       "      <td>0</td>\n",
       "    </tr>\n",
       "  </tbody>\n",
       "</table>\n",
       "</div>"
      ],
      "text/plain": [
       "  Unnamed: 0_level_0 Unnamed: 1_level_0             Unnamed: 5_level_0  \\\n",
       "                Cuil                Dni                        Titular   \n",
       "0        20140531562           14053156          CALDERON JUAN DOMINGO   \n",
       "1        27281648867           28164886             BAEZ CECILIA LUJAN   \n",
       "2        20398295383           39829538       CARDOZO SANTIAGO EDUARDO   \n",
       "3        20359239530           35923953  BUSTOS CLEVERS CARLOS OCTAVIO   \n",
       "4        20939121383           93912138     BENEGA LOPEZ ARNALDO ARIEL   \n",
       "\n",
       "           Propiedades  \n",
       "  Unnamed: 111_level_1  \n",
       "0                    0  \n",
       "1                    0  \n",
       "2                    0  \n",
       "3                    0  \n",
       "4                    0  "
      ]
     },
     "execution_count": 9,
     "metadata": {},
     "output_type": "execute_result"
    }
   ],
   "source": [
    "df_reduced.head()"
   ]
  },
  {
   "cell_type": "code",
   "execution_count": 10,
   "metadata": {},
   "outputs": [
    {
     "data": {
      "text/plain": [
       "(1348, 4)"
      ]
     },
     "execution_count": 10,
     "metadata": {},
     "output_type": "execute_result"
    }
   ],
   "source": [
    "df_reduced.shape"
   ]
  },
  {
   "cell_type": "markdown",
   "metadata": {},
   "source": [
    "Eliminamos el multilevel de las columnas, y las renombramos:"
   ]
  },
  {
   "cell_type": "code",
   "execution_count": 11,
   "metadata": {},
   "outputs": [],
   "source": [
    "df_reduced.columns = df_reduced.columns.droplevel()"
   ]
  },
  {
   "cell_type": "code",
   "execution_count": 12,
   "metadata": {},
   "outputs": [
    {
     "data": {
      "text/html": [
       "<div>\n",
       "<style scoped>\n",
       "    .dataframe tbody tr th:only-of-type {\n",
       "        vertical-align: middle;\n",
       "    }\n",
       "\n",
       "    .dataframe tbody tr th {\n",
       "        vertical-align: top;\n",
       "    }\n",
       "\n",
       "    .dataframe thead th {\n",
       "        text-align: right;\n",
       "    }\n",
       "</style>\n",
       "<table border=\"1\" class=\"dataframe\">\n",
       "  <thead>\n",
       "    <tr style=\"text-align: right;\">\n",
       "      <th></th>\n",
       "      <th>Cuil</th>\n",
       "      <th>Dni</th>\n",
       "      <th>Titular</th>\n",
       "      <th>Unnamed: 111_level_1</th>\n",
       "    </tr>\n",
       "  </thead>\n",
       "  <tbody>\n",
       "    <tr>\n",
       "      <th>0</th>\n",
       "      <td>20140531562</td>\n",
       "      <td>14053156</td>\n",
       "      <td>CALDERON JUAN DOMINGO</td>\n",
       "      <td>0</td>\n",
       "    </tr>\n",
       "    <tr>\n",
       "      <th>1</th>\n",
       "      <td>27281648867</td>\n",
       "      <td>28164886</td>\n",
       "      <td>BAEZ CECILIA LUJAN</td>\n",
       "      <td>0</td>\n",
       "    </tr>\n",
       "    <tr>\n",
       "      <th>2</th>\n",
       "      <td>20398295383</td>\n",
       "      <td>39829538</td>\n",
       "      <td>CARDOZO SANTIAGO EDUARDO</td>\n",
       "      <td>0</td>\n",
       "    </tr>\n",
       "    <tr>\n",
       "      <th>3</th>\n",
       "      <td>20359239530</td>\n",
       "      <td>35923953</td>\n",
       "      <td>BUSTOS CLEVERS CARLOS OCTAVIO</td>\n",
       "      <td>0</td>\n",
       "    </tr>\n",
       "    <tr>\n",
       "      <th>4</th>\n",
       "      <td>20939121383</td>\n",
       "      <td>93912138</td>\n",
       "      <td>BENEGA LOPEZ ARNALDO ARIEL</td>\n",
       "      <td>0</td>\n",
       "    </tr>\n",
       "  </tbody>\n",
       "</table>\n",
       "</div>"
      ],
      "text/plain": [
       "          Cuil       Dni                        Titular  Unnamed: 111_level_1\n",
       "0  20140531562  14053156          CALDERON JUAN DOMINGO                     0\n",
       "1  27281648867  28164886             BAEZ CECILIA LUJAN                     0\n",
       "2  20398295383  39829538       CARDOZO SANTIAGO EDUARDO                     0\n",
       "3  20359239530  35923953  BUSTOS CLEVERS CARLOS OCTAVIO                     0\n",
       "4  20939121383  93912138     BENEGA LOPEZ ARNALDO ARIEL                     0"
      ]
     },
     "execution_count": 12,
     "metadata": {},
     "output_type": "execute_result"
    }
   ],
   "source": [
    "df_reduced.head()"
   ]
  },
  {
   "cell_type": "code",
   "execution_count": 13,
   "metadata": {},
   "outputs": [],
   "source": [
    "df_reduced = df_reduced.rename(columns={\"Cuil\": \"CUIT_CUIL\", 'Dni': 'NRO_DOC', 'Unnamed: 111_level_1':'Propiedades'})"
   ]
  },
  {
   "cell_type": "code",
   "execution_count": 14,
   "metadata": {},
   "outputs": [
    {
     "data": {
      "text/html": [
       "<div>\n",
       "<style scoped>\n",
       "    .dataframe tbody tr th:only-of-type {\n",
       "        vertical-align: middle;\n",
       "    }\n",
       "\n",
       "    .dataframe tbody tr th {\n",
       "        vertical-align: top;\n",
       "    }\n",
       "\n",
       "    .dataframe thead th {\n",
       "        text-align: right;\n",
       "    }\n",
       "</style>\n",
       "<table border=\"1\" class=\"dataframe\">\n",
       "  <thead>\n",
       "    <tr style=\"text-align: right;\">\n",
       "      <th></th>\n",
       "      <th>CUIT_CUIL</th>\n",
       "      <th>NRO_DOC</th>\n",
       "      <th>Titular</th>\n",
       "      <th>Propiedades</th>\n",
       "    </tr>\n",
       "  </thead>\n",
       "  <tbody>\n",
       "    <tr>\n",
       "      <th>0</th>\n",
       "      <td>20140531562</td>\n",
       "      <td>14053156</td>\n",
       "      <td>CALDERON JUAN DOMINGO</td>\n",
       "      <td>0</td>\n",
       "    </tr>\n",
       "    <tr>\n",
       "      <th>1</th>\n",
       "      <td>27281648867</td>\n",
       "      <td>28164886</td>\n",
       "      <td>BAEZ CECILIA LUJAN</td>\n",
       "      <td>0</td>\n",
       "    </tr>\n",
       "    <tr>\n",
       "      <th>2</th>\n",
       "      <td>20398295383</td>\n",
       "      <td>39829538</td>\n",
       "      <td>CARDOZO SANTIAGO EDUARDO</td>\n",
       "      <td>0</td>\n",
       "    </tr>\n",
       "    <tr>\n",
       "      <th>3</th>\n",
       "      <td>20359239530</td>\n",
       "      <td>35923953</td>\n",
       "      <td>BUSTOS CLEVERS CARLOS OCTAVIO</td>\n",
       "      <td>0</td>\n",
       "    </tr>\n",
       "    <tr>\n",
       "      <th>4</th>\n",
       "      <td>20939121383</td>\n",
       "      <td>93912138</td>\n",
       "      <td>BENEGA LOPEZ ARNALDO ARIEL</td>\n",
       "      <td>0</td>\n",
       "    </tr>\n",
       "  </tbody>\n",
       "</table>\n",
       "</div>"
      ],
      "text/plain": [
       "     CUIT_CUIL   NRO_DOC                        Titular  Propiedades\n",
       "0  20140531562  14053156          CALDERON JUAN DOMINGO            0\n",
       "1  27281648867  28164886             BAEZ CECILIA LUJAN            0\n",
       "2  20398295383  39829538       CARDOZO SANTIAGO EDUARDO            0\n",
       "3  20359239530  35923953  BUSTOS CLEVERS CARLOS OCTAVIO            0\n",
       "4  20939121383  93912138     BENEGA LOPEZ ARNALDO ARIEL            0"
      ]
     },
     "execution_count": 14,
     "metadata": {},
     "output_type": "execute_result"
    }
   ],
   "source": [
    "df_reduced.head()"
   ]
  },
  {
   "cell_type": "markdown",
   "metadata": {},
   "source": [
    "# 3) Drop rows"
   ]
  },
  {
   "cell_type": "markdown",
   "metadata": {},
   "source": [
    "Dropeamos aquellas filas que tengan 0 en la columna Propiedades, ya que no nos aporta nada:"
   ]
  },
  {
   "cell_type": "code",
   "execution_count": 15,
   "metadata": {},
   "outputs": [],
   "source": [
    "df_reduced = df_reduced[df_reduced['Propiedades']>0]"
   ]
  },
  {
   "cell_type": "code",
   "execution_count": 16,
   "metadata": {},
   "outputs": [
    {
     "data": {
      "text/plain": [
       "(56, 4)"
      ]
     },
     "execution_count": 16,
     "metadata": {},
     "output_type": "execute_result"
    }
   ],
   "source": [
    "df_reduced.shape"
   ]
  },
  {
   "cell_type": "code",
   "execution_count": 17,
   "metadata": {
    "scrolled": true
   },
   "outputs": [
    {
     "data": {
      "text/html": [
       "<div>\n",
       "<style scoped>\n",
       "    .dataframe tbody tr th:only-of-type {\n",
       "        vertical-align: middle;\n",
       "    }\n",
       "\n",
       "    .dataframe tbody tr th {\n",
       "        vertical-align: top;\n",
       "    }\n",
       "\n",
       "    .dataframe thead th {\n",
       "        text-align: right;\n",
       "    }\n",
       "</style>\n",
       "<table border=\"1\" class=\"dataframe\">\n",
       "  <thead>\n",
       "    <tr style=\"text-align: right;\">\n",
       "      <th></th>\n",
       "      <th>CUIT_CUIL</th>\n",
       "      <th>NRO_DOC</th>\n",
       "      <th>Titular</th>\n",
       "      <th>Propiedades</th>\n",
       "    </tr>\n",
       "  </thead>\n",
       "  <tbody>\n",
       "    <tr>\n",
       "      <th>23</th>\n",
       "      <td>27113940617</td>\n",
       "      <td>11394061</td>\n",
       "      <td>BONORA EMILIA MAGDALENA</td>\n",
       "      <td>1</td>\n",
       "    </tr>\n",
       "    <tr>\n",
       "      <th>25</th>\n",
       "      <td>27246807294</td>\n",
       "      <td>24680729</td>\n",
       "      <td>CARDINALI CECILIA ELOISA</td>\n",
       "      <td>1</td>\n",
       "    </tr>\n",
       "    <tr>\n",
       "      <th>64</th>\n",
       "      <td>20078231816</td>\n",
       "      <td>7823181</td>\n",
       "      <td>CHIMENTI JORGE SALVADOR</td>\n",
       "      <td>1</td>\n",
       "    </tr>\n",
       "    <tr>\n",
       "      <th>73</th>\n",
       "      <td>27050899484</td>\n",
       "      <td>5089948</td>\n",
       "      <td>BRUNO SUSANA ESTER</td>\n",
       "      <td>1</td>\n",
       "    </tr>\n",
       "    <tr>\n",
       "      <th>101</th>\n",
       "      <td>27060664426</td>\n",
       "      <td>6066442</td>\n",
       "      <td>BRAVO AIDA JOSEFA</td>\n",
       "      <td>1</td>\n",
       "    </tr>\n",
       "  </tbody>\n",
       "</table>\n",
       "</div>"
      ],
      "text/plain": [
       "       CUIT_CUIL   NRO_DOC                   Titular  Propiedades\n",
       "23   27113940617  11394061   BONORA EMILIA MAGDALENA            1\n",
       "25   27246807294  24680729  CARDINALI CECILIA ELOISA            1\n",
       "64   20078231816   7823181   CHIMENTI JORGE SALVADOR            1\n",
       "73   27050899484   5089948        BRUNO SUSANA ESTER            1\n",
       "101  27060664426   6066442         BRAVO AIDA JOSEFA            1"
      ]
     },
     "execution_count": 17,
     "metadata": {},
     "output_type": "execute_result"
    }
   ],
   "source": [
    "df_reduced.head()"
   ]
  },
  {
   "cell_type": "markdown",
   "metadata": {},
   "source": [
    "# 4) Duplicación de filas"
   ]
  },
  {
   "cell_type": "markdown",
   "metadata": {},
   "source": [
    "Si el moroso tiene 2 propiedades, quiero que aparezcan dos filas"
   ]
  },
  {
   "cell_type": "code",
   "execution_count": 18,
   "metadata": {},
   "outputs": [],
   "source": [
    "#repeat rows\n",
    "df_reduced = df_reduced.loc[df_reduced.index.repeat(df_reduced['Propiedades'])]"
   ]
  },
  {
   "cell_type": "code",
   "execution_count": 19,
   "metadata": {
    "scrolled": true
   },
   "outputs": [
    {
     "data": {
      "text/html": [
       "<div>\n",
       "<style scoped>\n",
       "    .dataframe tbody tr th:only-of-type {\n",
       "        vertical-align: middle;\n",
       "    }\n",
       "\n",
       "    .dataframe tbody tr th {\n",
       "        vertical-align: top;\n",
       "    }\n",
       "\n",
       "    .dataframe thead th {\n",
       "        text-align: right;\n",
       "    }\n",
       "</style>\n",
       "<table border=\"1\" class=\"dataframe\">\n",
       "  <thead>\n",
       "    <tr style=\"text-align: right;\">\n",
       "      <th></th>\n",
       "      <th>CUIT_CUIL</th>\n",
       "      <th>NRO_DOC</th>\n",
       "      <th>Titular</th>\n",
       "      <th>Propiedades</th>\n",
       "    </tr>\n",
       "  </thead>\n",
       "  <tbody>\n",
       "    <tr>\n",
       "      <th>23</th>\n",
       "      <td>27113940617</td>\n",
       "      <td>11394061</td>\n",
       "      <td>BONORA EMILIA MAGDALENA</td>\n",
       "      <td>1</td>\n",
       "    </tr>\n",
       "    <tr>\n",
       "      <th>25</th>\n",
       "      <td>27246807294</td>\n",
       "      <td>24680729</td>\n",
       "      <td>CARDINALI CECILIA ELOISA</td>\n",
       "      <td>1</td>\n",
       "    </tr>\n",
       "    <tr>\n",
       "      <th>64</th>\n",
       "      <td>20078231816</td>\n",
       "      <td>7823181</td>\n",
       "      <td>CHIMENTI JORGE SALVADOR</td>\n",
       "      <td>1</td>\n",
       "    </tr>\n",
       "    <tr>\n",
       "      <th>73</th>\n",
       "      <td>27050899484</td>\n",
       "      <td>5089948</td>\n",
       "      <td>BRUNO SUSANA ESTER</td>\n",
       "      <td>1</td>\n",
       "    </tr>\n",
       "    <tr>\n",
       "      <th>101</th>\n",
       "      <td>27060664426</td>\n",
       "      <td>6066442</td>\n",
       "      <td>BRAVO AIDA JOSEFA</td>\n",
       "      <td>1</td>\n",
       "    </tr>\n",
       "    <tr>\n",
       "      <th>...</th>\n",
       "      <td>...</td>\n",
       "      <td>...</td>\n",
       "      <td>...</td>\n",
       "      <td>...</td>\n",
       "    </tr>\n",
       "    <tr>\n",
       "      <th>1298</th>\n",
       "      <td>20043091205</td>\n",
       "      <td>4309120</td>\n",
       "      <td>CATANIA RUBEN ABEL</td>\n",
       "      <td>2</td>\n",
       "    </tr>\n",
       "    <tr>\n",
       "      <th>1298</th>\n",
       "      <td>20043091205</td>\n",
       "      <td>4309120</td>\n",
       "      <td>CATANIA RUBEN ABEL</td>\n",
       "      <td>2</td>\n",
       "    </tr>\n",
       "    <tr>\n",
       "      <th>1321</th>\n",
       "      <td>20176180413</td>\n",
       "      <td>17618041</td>\n",
       "      <td>BONASTRE VOSS JOSE MARIA</td>\n",
       "      <td>2</td>\n",
       "    </tr>\n",
       "    <tr>\n",
       "      <th>1321</th>\n",
       "      <td>20176180413</td>\n",
       "      <td>17618041</td>\n",
       "      <td>BONASTRE VOSS JOSE MARIA</td>\n",
       "      <td>2</td>\n",
       "    </tr>\n",
       "    <tr>\n",
       "      <th>1344</th>\n",
       "      <td>20102706960</td>\n",
       "      <td>10270696</td>\n",
       "      <td>BELMONTE CARLOS OSCAR</td>\n",
       "      <td>1</td>\n",
       "    </tr>\n",
       "  </tbody>\n",
       "</table>\n",
       "<p>83 rows × 4 columns</p>\n",
       "</div>"
      ],
      "text/plain": [
       "        CUIT_CUIL   NRO_DOC                   Titular  Propiedades\n",
       "23    27113940617  11394061   BONORA EMILIA MAGDALENA            1\n",
       "25    27246807294  24680729  CARDINALI CECILIA ELOISA            1\n",
       "64    20078231816   7823181   CHIMENTI JORGE SALVADOR            1\n",
       "73    27050899484   5089948        BRUNO SUSANA ESTER            1\n",
       "101   27060664426   6066442         BRAVO AIDA JOSEFA            1\n",
       "...           ...       ...                       ...          ...\n",
       "1298  20043091205   4309120        CATANIA RUBEN ABEL            2\n",
       "1298  20043091205   4309120        CATANIA RUBEN ABEL            2\n",
       "1321  20176180413  17618041  BONASTRE VOSS JOSE MARIA            2\n",
       "1321  20176180413  17618041  BONASTRE VOSS JOSE MARIA            2\n",
       "1344  20102706960  10270696     BELMONTE CARLOS OSCAR            1\n",
       "\n",
       "[83 rows x 4 columns]"
      ]
     },
     "execution_count": 19,
     "metadata": {},
     "output_type": "execute_result"
    }
   ],
   "source": [
    "df_reduced"
   ]
  },
  {
   "cell_type": "code",
   "execution_count": null,
   "metadata": {},
   "outputs": [],
   "source": []
  },
  {
   "cell_type": "code",
   "execution_count": 20,
   "metadata": {},
   "outputs": [],
   "source": [
    "#df_reduced.to_csv('propiedades.csv')"
   ]
  },
  {
   "cell_type": "markdown",
   "metadata": {},
   "source": [
    "# 4) Proveedor Dato"
   ]
  },
  {
   "cell_type": "markdown",
   "metadata": {},
   "source": [
    "Agregamos la columna PROVEEDOR_DATO, con el código correspondiente.\n",
    "\n",
    "PyP = P2"
   ]
  },
  {
   "cell_type": "code",
   "execution_count": 21,
   "metadata": {},
   "outputs": [],
   "source": [
    "cod_pyp = 'P2'"
   ]
  },
  {
   "cell_type": "code",
   "execution_count": 22,
   "metadata": {},
   "outputs": [],
   "source": [
    "df_clean = df_reduced.assign(PROVEEDOR=cod_pyp)"
   ]
  },
  {
   "cell_type": "code",
   "execution_count": 23,
   "metadata": {
    "scrolled": true
   },
   "outputs": [
    {
     "data": {
      "text/html": [
       "<div>\n",
       "<style scoped>\n",
       "    .dataframe tbody tr th:only-of-type {\n",
       "        vertical-align: middle;\n",
       "    }\n",
       "\n",
       "    .dataframe tbody tr th {\n",
       "        vertical-align: top;\n",
       "    }\n",
       "\n",
       "    .dataframe thead th {\n",
       "        text-align: right;\n",
       "    }\n",
       "</style>\n",
       "<table border=\"1\" class=\"dataframe\">\n",
       "  <thead>\n",
       "    <tr style=\"text-align: right;\">\n",
       "      <th></th>\n",
       "      <th>CUIT_CUIL</th>\n",
       "      <th>NRO_DOC</th>\n",
       "      <th>Titular</th>\n",
       "      <th>Propiedades</th>\n",
       "      <th>PROVEEDOR</th>\n",
       "    </tr>\n",
       "  </thead>\n",
       "  <tbody>\n",
       "    <tr>\n",
       "      <th>23</th>\n",
       "      <td>27113940617</td>\n",
       "      <td>11394061</td>\n",
       "      <td>BONORA EMILIA MAGDALENA</td>\n",
       "      <td>1</td>\n",
       "      <td>P2</td>\n",
       "    </tr>\n",
       "    <tr>\n",
       "      <th>25</th>\n",
       "      <td>27246807294</td>\n",
       "      <td>24680729</td>\n",
       "      <td>CARDINALI CECILIA ELOISA</td>\n",
       "      <td>1</td>\n",
       "      <td>P2</td>\n",
       "    </tr>\n",
       "    <tr>\n",
       "      <th>64</th>\n",
       "      <td>20078231816</td>\n",
       "      <td>7823181</td>\n",
       "      <td>CHIMENTI JORGE SALVADOR</td>\n",
       "      <td>1</td>\n",
       "      <td>P2</td>\n",
       "    </tr>\n",
       "    <tr>\n",
       "      <th>73</th>\n",
       "      <td>27050899484</td>\n",
       "      <td>5089948</td>\n",
       "      <td>BRUNO SUSANA ESTER</td>\n",
       "      <td>1</td>\n",
       "      <td>P2</td>\n",
       "    </tr>\n",
       "    <tr>\n",
       "      <th>101</th>\n",
       "      <td>27060664426</td>\n",
       "      <td>6066442</td>\n",
       "      <td>BRAVO AIDA JOSEFA</td>\n",
       "      <td>1</td>\n",
       "      <td>P2</td>\n",
       "    </tr>\n",
       "  </tbody>\n",
       "</table>\n",
       "</div>"
      ],
      "text/plain": [
       "       CUIT_CUIL   NRO_DOC                   Titular  Propiedades PROVEEDOR\n",
       "23   27113940617  11394061   BONORA EMILIA MAGDALENA            1        P2\n",
       "25   27246807294  24680729  CARDINALI CECILIA ELOISA            1        P2\n",
       "64   20078231816   7823181   CHIMENTI JORGE SALVADOR            1        P2\n",
       "73   27050899484   5089948        BRUNO SUSANA ESTER            1        P2\n",
       "101  27060664426   6066442         BRAVO AIDA JOSEFA            1        P2"
      ]
     },
     "execution_count": 23,
     "metadata": {},
     "output_type": "execute_result"
    }
   ],
   "source": [
    "df_clean.head()"
   ]
  },
  {
   "cell_type": "markdown",
   "metadata": {},
   "source": [
    "# 6) Columna Porcentaje"
   ]
  },
  {
   "cell_type": "markdown",
   "metadata": {},
   "source": [
    "Como no tenemos datos sobre el porcentaje de posesión del vehículo, se asigna 100% a todos los casos"
   ]
  },
  {
   "cell_type": "code",
   "execution_count": 24,
   "metadata": {},
   "outputs": [],
   "source": [
    "df_clean = df_clean.assign(PORCENTAJE=100)"
   ]
  },
  {
   "cell_type": "code",
   "execution_count": 25,
   "metadata": {
    "scrolled": true
   },
   "outputs": [
    {
     "data": {
      "text/html": [
       "<div>\n",
       "<style scoped>\n",
       "    .dataframe tbody tr th:only-of-type {\n",
       "        vertical-align: middle;\n",
       "    }\n",
       "\n",
       "    .dataframe tbody tr th {\n",
       "        vertical-align: top;\n",
       "    }\n",
       "\n",
       "    .dataframe thead th {\n",
       "        text-align: right;\n",
       "    }\n",
       "</style>\n",
       "<table border=\"1\" class=\"dataframe\">\n",
       "  <thead>\n",
       "    <tr style=\"text-align: right;\">\n",
       "      <th></th>\n",
       "      <th>CUIT_CUIL</th>\n",
       "      <th>NRO_DOC</th>\n",
       "      <th>Titular</th>\n",
       "      <th>Propiedades</th>\n",
       "      <th>PROVEEDOR</th>\n",
       "      <th>PORCENTAJE</th>\n",
       "    </tr>\n",
       "  </thead>\n",
       "  <tbody>\n",
       "    <tr>\n",
       "      <th>23</th>\n",
       "      <td>27113940617</td>\n",
       "      <td>11394061</td>\n",
       "      <td>BONORA EMILIA MAGDALENA</td>\n",
       "      <td>1</td>\n",
       "      <td>P2</td>\n",
       "      <td>100</td>\n",
       "    </tr>\n",
       "    <tr>\n",
       "      <th>25</th>\n",
       "      <td>27246807294</td>\n",
       "      <td>24680729</td>\n",
       "      <td>CARDINALI CECILIA ELOISA</td>\n",
       "      <td>1</td>\n",
       "      <td>P2</td>\n",
       "      <td>100</td>\n",
       "    </tr>\n",
       "    <tr>\n",
       "      <th>64</th>\n",
       "      <td>20078231816</td>\n",
       "      <td>7823181</td>\n",
       "      <td>CHIMENTI JORGE SALVADOR</td>\n",
       "      <td>1</td>\n",
       "      <td>P2</td>\n",
       "      <td>100</td>\n",
       "    </tr>\n",
       "    <tr>\n",
       "      <th>73</th>\n",
       "      <td>27050899484</td>\n",
       "      <td>5089948</td>\n",
       "      <td>BRUNO SUSANA ESTER</td>\n",
       "      <td>1</td>\n",
       "      <td>P2</td>\n",
       "      <td>100</td>\n",
       "    </tr>\n",
       "    <tr>\n",
       "      <th>101</th>\n",
       "      <td>27060664426</td>\n",
       "      <td>6066442</td>\n",
       "      <td>BRAVO AIDA JOSEFA</td>\n",
       "      <td>1</td>\n",
       "      <td>P2</td>\n",
       "      <td>100</td>\n",
       "    </tr>\n",
       "  </tbody>\n",
       "</table>\n",
       "</div>"
      ],
      "text/plain": [
       "       CUIT_CUIL   NRO_DOC                   Titular  Propiedades PROVEEDOR  \\\n",
       "23   27113940617  11394061   BONORA EMILIA MAGDALENA            1        P2   \n",
       "25   27246807294  24680729  CARDINALI CECILIA ELOISA            1        P2   \n",
       "64   20078231816   7823181   CHIMENTI JORGE SALVADOR            1        P2   \n",
       "73   27050899484   5089948        BRUNO SUSANA ESTER            1        P2   \n",
       "101  27060664426   6066442         BRAVO AIDA JOSEFA            1        P2   \n",
       "\n",
       "     PORCENTAJE  \n",
       "23          100  \n",
       "25          100  \n",
       "64          100  \n",
       "73          100  \n",
       "101         100  "
      ]
     },
     "execution_count": 25,
     "metadata": {},
     "output_type": "execute_result"
    }
   ],
   "source": [
    "df_clean.head()"
   ]
  },
  {
   "cell_type": "markdown",
   "metadata": {},
   "source": [
    "# 7) Columna Fecha"
   ]
  },
  {
   "cell_type": "markdown",
   "metadata": {},
   "source": [
    "Para el campo FECHA_INGRESO_DATO, usamos la fecha en la que se hace la inserción de los datos:"
   ]
  },
  {
   "cell_type": "code",
   "execution_count": 26,
   "metadata": {},
   "outputs": [],
   "source": [
    "fecha_ingreso = pd.to_datetime('today')"
   ]
  },
  {
   "cell_type": "code",
   "execution_count": 27,
   "metadata": {},
   "outputs": [],
   "source": [
    "df_clean = df_clean.assign(FECHA_INGRESO=fecha_ingreso)"
   ]
  },
  {
   "cell_type": "code",
   "execution_count": 28,
   "metadata": {
    "scrolled": true
   },
   "outputs": [
    {
     "data": {
      "text/html": [
       "<div>\n",
       "<style scoped>\n",
       "    .dataframe tbody tr th:only-of-type {\n",
       "        vertical-align: middle;\n",
       "    }\n",
       "\n",
       "    .dataframe tbody tr th {\n",
       "        vertical-align: top;\n",
       "    }\n",
       "\n",
       "    .dataframe thead th {\n",
       "        text-align: right;\n",
       "    }\n",
       "</style>\n",
       "<table border=\"1\" class=\"dataframe\">\n",
       "  <thead>\n",
       "    <tr style=\"text-align: right;\">\n",
       "      <th></th>\n",
       "      <th>CUIT_CUIL</th>\n",
       "      <th>NRO_DOC</th>\n",
       "      <th>Titular</th>\n",
       "      <th>Propiedades</th>\n",
       "      <th>PROVEEDOR</th>\n",
       "      <th>PORCENTAJE</th>\n",
       "      <th>FECHA_INGRESO</th>\n",
       "    </tr>\n",
       "  </thead>\n",
       "  <tbody>\n",
       "    <tr>\n",
       "      <th>23</th>\n",
       "      <td>27113940617</td>\n",
       "      <td>11394061</td>\n",
       "      <td>BONORA EMILIA MAGDALENA</td>\n",
       "      <td>1</td>\n",
       "      <td>P2</td>\n",
       "      <td>100</td>\n",
       "      <td>2021-02-24 11:56:46.246867</td>\n",
       "    </tr>\n",
       "    <tr>\n",
       "      <th>25</th>\n",
       "      <td>27246807294</td>\n",
       "      <td>24680729</td>\n",
       "      <td>CARDINALI CECILIA ELOISA</td>\n",
       "      <td>1</td>\n",
       "      <td>P2</td>\n",
       "      <td>100</td>\n",
       "      <td>2021-02-24 11:56:46.246867</td>\n",
       "    </tr>\n",
       "    <tr>\n",
       "      <th>64</th>\n",
       "      <td>20078231816</td>\n",
       "      <td>7823181</td>\n",
       "      <td>CHIMENTI JORGE SALVADOR</td>\n",
       "      <td>1</td>\n",
       "      <td>P2</td>\n",
       "      <td>100</td>\n",
       "      <td>2021-02-24 11:56:46.246867</td>\n",
       "    </tr>\n",
       "    <tr>\n",
       "      <th>73</th>\n",
       "      <td>27050899484</td>\n",
       "      <td>5089948</td>\n",
       "      <td>BRUNO SUSANA ESTER</td>\n",
       "      <td>1</td>\n",
       "      <td>P2</td>\n",
       "      <td>100</td>\n",
       "      <td>2021-02-24 11:56:46.246867</td>\n",
       "    </tr>\n",
       "    <tr>\n",
       "      <th>101</th>\n",
       "      <td>27060664426</td>\n",
       "      <td>6066442</td>\n",
       "      <td>BRAVO AIDA JOSEFA</td>\n",
       "      <td>1</td>\n",
       "      <td>P2</td>\n",
       "      <td>100</td>\n",
       "      <td>2021-02-24 11:56:46.246867</td>\n",
       "    </tr>\n",
       "  </tbody>\n",
       "</table>\n",
       "</div>"
      ],
      "text/plain": [
       "       CUIT_CUIL   NRO_DOC                   Titular  Propiedades PROVEEDOR  \\\n",
       "23   27113940617  11394061   BONORA EMILIA MAGDALENA            1        P2   \n",
       "25   27246807294  24680729  CARDINALI CECILIA ELOISA            1        P2   \n",
       "64   20078231816   7823181   CHIMENTI JORGE SALVADOR            1        P2   \n",
       "73   27050899484   5089948        BRUNO SUSANA ESTER            1        P2   \n",
       "101  27060664426   6066442         BRAVO AIDA JOSEFA            1        P2   \n",
       "\n",
       "     PORCENTAJE              FECHA_INGRESO  \n",
       "23          100 2021-02-24 11:56:46.246867  \n",
       "25          100 2021-02-24 11:56:46.246867  \n",
       "64          100 2021-02-24 11:56:46.246867  \n",
       "73          100 2021-02-24 11:56:46.246867  \n",
       "101         100 2021-02-24 11:56:46.246867  "
      ]
     },
     "execution_count": 28,
     "metadata": {},
     "output_type": "execute_result"
    }
   ],
   "source": [
    "df_clean.head()"
   ]
  },
  {
   "cell_type": "markdown",
   "metadata": {},
   "source": [
    "# 8) Columna Domicilio"
   ]
  },
  {
   "cell_type": "markdown",
   "metadata": {},
   "source": [
    "Se realiza la limpieza de la columna Fabricante, ya que se observan los siguientes problemas:"
   ]
  },
  {
   "cell_type": "markdown",
   "metadata": {},
   "source": [
    "- Cuando no tiene modelo o marca, se escribe \"No Consta\". Eso va a parar a Fabricante.\n",
    "- Al concatenar, se repite el nombre de la Marca en modelo."
   ]
  },
  {
   "cell_type": "code",
   "execution_count": 29,
   "metadata": {},
   "outputs": [],
   "source": [
    "df_clean = df_clean.assign(DOMICILIO='No disponible')"
   ]
  },
  {
   "cell_type": "code",
   "execution_count": 30,
   "metadata": {
    "scrolled": false
   },
   "outputs": [
    {
     "data": {
      "text/html": [
       "<div>\n",
       "<style scoped>\n",
       "    .dataframe tbody tr th:only-of-type {\n",
       "        vertical-align: middle;\n",
       "    }\n",
       "\n",
       "    .dataframe tbody tr th {\n",
       "        vertical-align: top;\n",
       "    }\n",
       "\n",
       "    .dataframe thead th {\n",
       "        text-align: right;\n",
       "    }\n",
       "</style>\n",
       "<table border=\"1\" class=\"dataframe\">\n",
       "  <thead>\n",
       "    <tr style=\"text-align: right;\">\n",
       "      <th></th>\n",
       "      <th>CUIT_CUIL</th>\n",
       "      <th>NRO_DOC</th>\n",
       "      <th>Titular</th>\n",
       "      <th>Propiedades</th>\n",
       "      <th>PROVEEDOR</th>\n",
       "      <th>PORCENTAJE</th>\n",
       "      <th>FECHA_INGRESO</th>\n",
       "      <th>DOMICILIO</th>\n",
       "    </tr>\n",
       "  </thead>\n",
       "  <tbody>\n",
       "    <tr>\n",
       "      <th>23</th>\n",
       "      <td>27113940617</td>\n",
       "      <td>11394061</td>\n",
       "      <td>BONORA EMILIA MAGDALENA</td>\n",
       "      <td>1</td>\n",
       "      <td>P2</td>\n",
       "      <td>100</td>\n",
       "      <td>2021-02-24 11:56:46.246867</td>\n",
       "      <td>No disponible</td>\n",
       "    </tr>\n",
       "    <tr>\n",
       "      <th>25</th>\n",
       "      <td>27246807294</td>\n",
       "      <td>24680729</td>\n",
       "      <td>CARDINALI CECILIA ELOISA</td>\n",
       "      <td>1</td>\n",
       "      <td>P2</td>\n",
       "      <td>100</td>\n",
       "      <td>2021-02-24 11:56:46.246867</td>\n",
       "      <td>No disponible</td>\n",
       "    </tr>\n",
       "    <tr>\n",
       "      <th>64</th>\n",
       "      <td>20078231816</td>\n",
       "      <td>7823181</td>\n",
       "      <td>CHIMENTI JORGE SALVADOR</td>\n",
       "      <td>1</td>\n",
       "      <td>P2</td>\n",
       "      <td>100</td>\n",
       "      <td>2021-02-24 11:56:46.246867</td>\n",
       "      <td>No disponible</td>\n",
       "    </tr>\n",
       "    <tr>\n",
       "      <th>73</th>\n",
       "      <td>27050899484</td>\n",
       "      <td>5089948</td>\n",
       "      <td>BRUNO SUSANA ESTER</td>\n",
       "      <td>1</td>\n",
       "      <td>P2</td>\n",
       "      <td>100</td>\n",
       "      <td>2021-02-24 11:56:46.246867</td>\n",
       "      <td>No disponible</td>\n",
       "    </tr>\n",
       "    <tr>\n",
       "      <th>101</th>\n",
       "      <td>27060664426</td>\n",
       "      <td>6066442</td>\n",
       "      <td>BRAVO AIDA JOSEFA</td>\n",
       "      <td>1</td>\n",
       "      <td>P2</td>\n",
       "      <td>100</td>\n",
       "      <td>2021-02-24 11:56:46.246867</td>\n",
       "      <td>No disponible</td>\n",
       "    </tr>\n",
       "  </tbody>\n",
       "</table>\n",
       "</div>"
      ],
      "text/plain": [
       "       CUIT_CUIL   NRO_DOC                   Titular  Propiedades PROVEEDOR  \\\n",
       "23   27113940617  11394061   BONORA EMILIA MAGDALENA            1        P2   \n",
       "25   27246807294  24680729  CARDINALI CECILIA ELOISA            1        P2   \n",
       "64   20078231816   7823181   CHIMENTI JORGE SALVADOR            1        P2   \n",
       "73   27050899484   5089948        BRUNO SUSANA ESTER            1        P2   \n",
       "101  27060664426   6066442         BRAVO AIDA JOSEFA            1        P2   \n",
       "\n",
       "     PORCENTAJE              FECHA_INGRESO      DOMICILIO  \n",
       "23          100 2021-02-24 11:56:46.246867  No disponible  \n",
       "25          100 2021-02-24 11:56:46.246867  No disponible  \n",
       "64          100 2021-02-24 11:56:46.246867  No disponible  \n",
       "73          100 2021-02-24 11:56:46.246867  No disponible  \n",
       "101         100 2021-02-24 11:56:46.246867  No disponible  "
      ]
     },
     "execution_count": 30,
     "metadata": {},
     "output_type": "execute_result"
    }
   ],
   "source": [
    "df_clean.head()"
   ]
  },
  {
   "cell_type": "markdown",
   "metadata": {},
   "source": [
    "# 9) Columna Localidad"
   ]
  },
  {
   "cell_type": "code",
   "execution_count": 31,
   "metadata": {},
   "outputs": [],
   "source": [
    "df_clean = df_clean.assign(LOCALIDAD='Desconocida')"
   ]
  },
  {
   "cell_type": "markdown",
   "metadata": {},
   "source": [
    "# 10) Columna Codigo_postal"
   ]
  },
  {
   "cell_type": "code",
   "execution_count": 32,
   "metadata": {},
   "outputs": [],
   "source": [
    "df_clean = df_clean.assign(CODIGO_POSTAL='No disponible')"
   ]
  },
  {
   "cell_type": "markdown",
   "metadata": {},
   "source": [
    "# 11) Columna Provincia"
   ]
  },
  {
   "cell_type": "code",
   "execution_count": 33,
   "metadata": {},
   "outputs": [],
   "source": [
    "df_clean = df_clean.assign(PROVINCIA='Desconocida')"
   ]
  },
  {
   "cell_type": "markdown",
   "metadata": {},
   "source": [
    "# 12) Pais"
   ]
  },
  {
   "cell_type": "code",
   "execution_count": 34,
   "metadata": {},
   "outputs": [],
   "source": [
    "df_clean = df_clean.assign(PAIS='No disponible')"
   ]
  },
  {
   "cell_type": "code",
   "execution_count": 35,
   "metadata": {
    "scrolled": false
   },
   "outputs": [
    {
     "data": {
      "text/html": [
       "<div>\n",
       "<style scoped>\n",
       "    .dataframe tbody tr th:only-of-type {\n",
       "        vertical-align: middle;\n",
       "    }\n",
       "\n",
       "    .dataframe tbody tr th {\n",
       "        vertical-align: top;\n",
       "    }\n",
       "\n",
       "    .dataframe thead th {\n",
       "        text-align: right;\n",
       "    }\n",
       "</style>\n",
       "<table border=\"1\" class=\"dataframe\">\n",
       "  <thead>\n",
       "    <tr style=\"text-align: right;\">\n",
       "      <th></th>\n",
       "      <th>CUIT_CUIL</th>\n",
       "      <th>NRO_DOC</th>\n",
       "      <th>Titular</th>\n",
       "      <th>Propiedades</th>\n",
       "      <th>PROVEEDOR</th>\n",
       "      <th>PORCENTAJE</th>\n",
       "      <th>FECHA_INGRESO</th>\n",
       "      <th>DOMICILIO</th>\n",
       "      <th>LOCALIDAD</th>\n",
       "      <th>CODIGO_POSTAL</th>\n",
       "      <th>PROVINCIA</th>\n",
       "      <th>PAIS</th>\n",
       "    </tr>\n",
       "  </thead>\n",
       "  <tbody>\n",
       "    <tr>\n",
       "      <th>23</th>\n",
       "      <td>27113940617</td>\n",
       "      <td>11394061</td>\n",
       "      <td>BONORA EMILIA MAGDALENA</td>\n",
       "      <td>1</td>\n",
       "      <td>P2</td>\n",
       "      <td>100</td>\n",
       "      <td>2021-02-24 11:56:46.246867</td>\n",
       "      <td>No disponible</td>\n",
       "      <td>Desconocida</td>\n",
       "      <td>No disponible</td>\n",
       "      <td>Desconocida</td>\n",
       "      <td>No disponible</td>\n",
       "    </tr>\n",
       "    <tr>\n",
       "      <th>25</th>\n",
       "      <td>27246807294</td>\n",
       "      <td>24680729</td>\n",
       "      <td>CARDINALI CECILIA ELOISA</td>\n",
       "      <td>1</td>\n",
       "      <td>P2</td>\n",
       "      <td>100</td>\n",
       "      <td>2021-02-24 11:56:46.246867</td>\n",
       "      <td>No disponible</td>\n",
       "      <td>Desconocida</td>\n",
       "      <td>No disponible</td>\n",
       "      <td>Desconocida</td>\n",
       "      <td>No disponible</td>\n",
       "    </tr>\n",
       "    <tr>\n",
       "      <th>64</th>\n",
       "      <td>20078231816</td>\n",
       "      <td>7823181</td>\n",
       "      <td>CHIMENTI JORGE SALVADOR</td>\n",
       "      <td>1</td>\n",
       "      <td>P2</td>\n",
       "      <td>100</td>\n",
       "      <td>2021-02-24 11:56:46.246867</td>\n",
       "      <td>No disponible</td>\n",
       "      <td>Desconocida</td>\n",
       "      <td>No disponible</td>\n",
       "      <td>Desconocida</td>\n",
       "      <td>No disponible</td>\n",
       "    </tr>\n",
       "    <tr>\n",
       "      <th>73</th>\n",
       "      <td>27050899484</td>\n",
       "      <td>5089948</td>\n",
       "      <td>BRUNO SUSANA ESTER</td>\n",
       "      <td>1</td>\n",
       "      <td>P2</td>\n",
       "      <td>100</td>\n",
       "      <td>2021-02-24 11:56:46.246867</td>\n",
       "      <td>No disponible</td>\n",
       "      <td>Desconocida</td>\n",
       "      <td>No disponible</td>\n",
       "      <td>Desconocida</td>\n",
       "      <td>No disponible</td>\n",
       "    </tr>\n",
       "    <tr>\n",
       "      <th>101</th>\n",
       "      <td>27060664426</td>\n",
       "      <td>6066442</td>\n",
       "      <td>BRAVO AIDA JOSEFA</td>\n",
       "      <td>1</td>\n",
       "      <td>P2</td>\n",
       "      <td>100</td>\n",
       "      <td>2021-02-24 11:56:46.246867</td>\n",
       "      <td>No disponible</td>\n",
       "      <td>Desconocida</td>\n",
       "      <td>No disponible</td>\n",
       "      <td>Desconocida</td>\n",
       "      <td>No disponible</td>\n",
       "    </tr>\n",
       "  </tbody>\n",
       "</table>\n",
       "</div>"
      ],
      "text/plain": [
       "       CUIT_CUIL   NRO_DOC                   Titular  Propiedades PROVEEDOR  \\\n",
       "23   27113940617  11394061   BONORA EMILIA MAGDALENA            1        P2   \n",
       "25   27246807294  24680729  CARDINALI CECILIA ELOISA            1        P2   \n",
       "64   20078231816   7823181   CHIMENTI JORGE SALVADOR            1        P2   \n",
       "73   27050899484   5089948        BRUNO SUSANA ESTER            1        P2   \n",
       "101  27060664426   6066442         BRAVO AIDA JOSEFA            1        P2   \n",
       "\n",
       "     PORCENTAJE              FECHA_INGRESO      DOMICILIO    LOCALIDAD  \\\n",
       "23          100 2021-02-24 11:56:46.246867  No disponible  Desconocida   \n",
       "25          100 2021-02-24 11:56:46.246867  No disponible  Desconocida   \n",
       "64          100 2021-02-24 11:56:46.246867  No disponible  Desconocida   \n",
       "73          100 2021-02-24 11:56:46.246867  No disponible  Desconocida   \n",
       "101         100 2021-02-24 11:56:46.246867  No disponible  Desconocida   \n",
       "\n",
       "     CODIGO_POSTAL    PROVINCIA           PAIS  \n",
       "23   No disponible  Desconocida  No disponible  \n",
       "25   No disponible  Desconocida  No disponible  \n",
       "64   No disponible  Desconocida  No disponible  \n",
       "73   No disponible  Desconocida  No disponible  \n",
       "101  No disponible  Desconocida  No disponible  "
      ]
     },
     "execution_count": 35,
     "metadata": {},
     "output_type": "execute_result"
    }
   ],
   "source": [
    "df_clean.head()"
   ]
  },
  {
   "cell_type": "code",
   "execution_count": 36,
   "metadata": {},
   "outputs": [],
   "source": [
    "#df_clean.to_csv('inmuebles_test.csv')"
   ]
  },
  {
   "cell_type": "code",
   "execution_count": 37,
   "metadata": {},
   "outputs": [
    {
     "data": {
      "text/plain": [
       "(83, 12)"
      ]
     },
     "execution_count": 37,
     "metadata": {},
     "output_type": "execute_result"
    }
   ],
   "source": [
    "df_clean.shape"
   ]
  },
  {
   "cell_type": "markdown",
   "metadata": {},
   "source": [
    "# 9) Concatenación con .csv enviado "
   ]
  },
  {
   "cell_type": "markdown",
   "metadata": {},
   "source": [
    "Vamos a concatenar nuestro dataframe con el dataframe enviado para enriquecer. Para esto, vamos a hacer una limpieza inicial de cómo se enviaron esos datos. Finalmente, se uniran ambos dataframes por __DNI__."
   ]
  },
  {
   "cell_type": "markdown",
   "metadata": {},
   "source": [
    "## 9.1) Dataset: PyP"
   ]
  },
  {
   "cell_type": "markdown",
   "metadata": {},
   "source": [
    "Vamos a analizar y limpiar el dataset enviado a PyP para el enriquecimiento:"
   ]
  },
  {
   "cell_type": "code",
   "execution_count": 38,
   "metadata": {},
   "outputs": [],
   "source": [
    "df_pyp = pd.read_excel('/mnt/c/users/Dleg/Data/MOPC/MOPC/Enriquecimiento de Datos/Data Cleaning/PyP/Datasets/Datasets enviados/0209-MOPC-PEDIDO DE DATOS.xlsx')"
   ]
  },
  {
   "cell_type": "code",
   "execution_count": 39,
   "metadata": {},
   "outputs": [
    {
     "data": {
      "text/html": [
       "<div>\n",
       "<style scoped>\n",
       "    .dataframe tbody tr th:only-of-type {\n",
       "        vertical-align: middle;\n",
       "    }\n",
       "\n",
       "    .dataframe tbody tr th {\n",
       "        vertical-align: top;\n",
       "    }\n",
       "\n",
       "    .dataframe thead th {\n",
       "        text-align: right;\n",
       "    }\n",
       "</style>\n",
       "<table border=\"1\" class=\"dataframe\">\n",
       "  <thead>\n",
       "    <tr style=\"text-align: right;\">\n",
       "      <th></th>\n",
       "      <th>DNI</th>\n",
       "      <th>NOMBRE</th>\n",
       "      <th>IDCLIENTE</th>\n",
       "    </tr>\n",
       "  </thead>\n",
       "  <tbody>\n",
       "    <tr>\n",
       "      <th>0</th>\n",
       "      <td>DNI 10039621</td>\n",
       "      <td>ANA MARIA,CANO</td>\n",
       "      <td>BSR_TARDIA</td>\n",
       "    </tr>\n",
       "    <tr>\n",
       "      <th>1</th>\n",
       "      <td>DNI 10197951</td>\n",
       "      <td>BERNARDO,CHAUQUE</td>\n",
       "      <td>BSR_TARDIA</td>\n",
       "    </tr>\n",
       "    <tr>\n",
       "      <th>2</th>\n",
       "      <td>DNI 10248810</td>\n",
       "      <td>CIRO EMIR,BIANCHIMANI</td>\n",
       "      <td>BSR_TARDIA</td>\n",
       "    </tr>\n",
       "    <tr>\n",
       "      <th>3</th>\n",
       "      <td>DNI 10270696</td>\n",
       "      <td>CARLOS OSCARBELMONTE</td>\n",
       "      <td>BSR_TARDIA</td>\n",
       "    </tr>\n",
       "    <tr>\n",
       "      <th>4</th>\n",
       "      <td>DNI 10363397</td>\n",
       "      <td>CALDAS ROSA HAYDEE</td>\n",
       "      <td>BSR_TARDIA</td>\n",
       "    </tr>\n",
       "  </tbody>\n",
       "</table>\n",
       "</div>"
      ],
      "text/plain": [
       "                  DNI                                    NOMBRE   IDCLIENTE\n",
       "0  DNI 10039621        ANA MARIA,CANO                            BSR_TARDIA\n",
       "1  DNI 10197951        BERNARDO,CHAUQUE                          BSR_TARDIA\n",
       "2  DNI 10248810        CIRO EMIR,BIANCHIMANI                     BSR_TARDIA\n",
       "3  DNI 10270696        CARLOS OSCARBELMONTE                      BSR_TARDIA\n",
       "4  DNI 10363397        CALDAS ROSA HAYDEE                        BSR_TARDIA"
      ]
     },
     "execution_count": 39,
     "metadata": {},
     "output_type": "execute_result"
    }
   ],
   "source": [
    "df_pyp.head()"
   ]
  },
  {
   "cell_type": "markdown",
   "metadata": {},
   "source": [
    "Dropeamos la última columna que no tiene datos"
   ]
  },
  {
   "cell_type": "code",
   "execution_count": 40,
   "metadata": {},
   "outputs": [],
   "source": [
    "#df_pyp = df_pyp.drop(columns=['FILTROA','ESTADO'])"
   ]
  },
  {
   "cell_type": "code",
   "execution_count": 41,
   "metadata": {
    "scrolled": true
   },
   "outputs": [
    {
     "data": {
      "text/html": [
       "<div>\n",
       "<style scoped>\n",
       "    .dataframe tbody tr th:only-of-type {\n",
       "        vertical-align: middle;\n",
       "    }\n",
       "\n",
       "    .dataframe tbody tr th {\n",
       "        vertical-align: top;\n",
       "    }\n",
       "\n",
       "    .dataframe thead th {\n",
       "        text-align: right;\n",
       "    }\n",
       "</style>\n",
       "<table border=\"1\" class=\"dataframe\">\n",
       "  <thead>\n",
       "    <tr style=\"text-align: right;\">\n",
       "      <th></th>\n",
       "      <th>DNI</th>\n",
       "      <th>NOMBRE</th>\n",
       "      <th>IDCLIENTE</th>\n",
       "    </tr>\n",
       "  </thead>\n",
       "  <tbody>\n",
       "    <tr>\n",
       "      <th>0</th>\n",
       "      <td>DNI 10039621</td>\n",
       "      <td>ANA MARIA,CANO</td>\n",
       "      <td>BSR_TARDIA</td>\n",
       "    </tr>\n",
       "    <tr>\n",
       "      <th>1</th>\n",
       "      <td>DNI 10197951</td>\n",
       "      <td>BERNARDO,CHAUQUE</td>\n",
       "      <td>BSR_TARDIA</td>\n",
       "    </tr>\n",
       "    <tr>\n",
       "      <th>2</th>\n",
       "      <td>DNI 10248810</td>\n",
       "      <td>CIRO EMIR,BIANCHIMANI</td>\n",
       "      <td>BSR_TARDIA</td>\n",
       "    </tr>\n",
       "    <tr>\n",
       "      <th>3</th>\n",
       "      <td>DNI 10270696</td>\n",
       "      <td>CARLOS OSCARBELMONTE</td>\n",
       "      <td>BSR_TARDIA</td>\n",
       "    </tr>\n",
       "    <tr>\n",
       "      <th>4</th>\n",
       "      <td>DNI 10363397</td>\n",
       "      <td>CALDAS ROSA HAYDEE</td>\n",
       "      <td>BSR_TARDIA</td>\n",
       "    </tr>\n",
       "  </tbody>\n",
       "</table>\n",
       "</div>"
      ],
      "text/plain": [
       "                  DNI                                    NOMBRE   IDCLIENTE\n",
       "0  DNI 10039621        ANA MARIA,CANO                            BSR_TARDIA\n",
       "1  DNI 10197951        BERNARDO,CHAUQUE                          BSR_TARDIA\n",
       "2  DNI 10248810        CIRO EMIR,BIANCHIMANI                     BSR_TARDIA\n",
       "3  DNI 10270696        CARLOS OSCARBELMONTE                      BSR_TARDIA\n",
       "4  DNI 10363397        CALDAS ROSA HAYDEE                        BSR_TARDIA"
      ]
     },
     "execution_count": 41,
     "metadata": {},
     "output_type": "execute_result"
    }
   ],
   "source": [
    "df_pyp.head()"
   ]
  },
  {
   "cell_type": "code",
   "execution_count": 42,
   "metadata": {},
   "outputs": [
    {
     "data": {
      "text/plain": [
       "(1354, 3)"
      ]
     },
     "execution_count": 42,
     "metadata": {},
     "output_type": "execute_result"
    }
   ],
   "source": [
    "df_pyp.shape"
   ]
  },
  {
   "cell_type": "markdown",
   "metadata": {},
   "source": [
    "Creamos una columna que contenga IDMOROSO + DATOADIC según corresponda"
   ]
  },
  {
   "cell_type": "code",
   "execution_count": 43,
   "metadata": {},
   "outputs": [],
   "source": [
    "#df_pyp.loc[(df_pyp['IDCLIENTE'].str.startswith('AMEX')) , 'NRO_DOC'] = df_pyp['DATOADIC']"
   ]
  },
  {
   "cell_type": "code",
   "execution_count": 44,
   "metadata": {},
   "outputs": [],
   "source": [
    "df_pyp = df_pyp.rename(columns={'DNI':'IDMOROSO'})"
   ]
  },
  {
   "cell_type": "code",
   "execution_count": 45,
   "metadata": {},
   "outputs": [],
   "source": [
    "df_pyp['NRO_DOC'] = df_pyp['IDMOROSO']"
   ]
  },
  {
   "cell_type": "code",
   "execution_count": 46,
   "metadata": {},
   "outputs": [
    {
     "data": {
      "text/html": [
       "<div>\n",
       "<style scoped>\n",
       "    .dataframe tbody tr th:only-of-type {\n",
       "        vertical-align: middle;\n",
       "    }\n",
       "\n",
       "    .dataframe tbody tr th {\n",
       "        vertical-align: top;\n",
       "    }\n",
       "\n",
       "    .dataframe thead th {\n",
       "        text-align: right;\n",
       "    }\n",
       "</style>\n",
       "<table border=\"1\" class=\"dataframe\">\n",
       "  <thead>\n",
       "    <tr style=\"text-align: right;\">\n",
       "      <th></th>\n",
       "      <th>IDMOROSO</th>\n",
       "      <th>NOMBRE</th>\n",
       "      <th>IDCLIENTE</th>\n",
       "      <th>NRO_DOC</th>\n",
       "    </tr>\n",
       "  </thead>\n",
       "  <tbody>\n",
       "    <tr>\n",
       "      <th>0</th>\n",
       "      <td>DNI 10039621</td>\n",
       "      <td>ANA MARIA,CANO</td>\n",
       "      <td>BSR_TARDIA</td>\n",
       "      <td>DNI 10039621</td>\n",
       "    </tr>\n",
       "    <tr>\n",
       "      <th>1</th>\n",
       "      <td>DNI 10197951</td>\n",
       "      <td>BERNARDO,CHAUQUE</td>\n",
       "      <td>BSR_TARDIA</td>\n",
       "      <td>DNI 10197951</td>\n",
       "    </tr>\n",
       "    <tr>\n",
       "      <th>2</th>\n",
       "      <td>DNI 10248810</td>\n",
       "      <td>CIRO EMIR,BIANCHIMANI</td>\n",
       "      <td>BSR_TARDIA</td>\n",
       "      <td>DNI 10248810</td>\n",
       "    </tr>\n",
       "    <tr>\n",
       "      <th>3</th>\n",
       "      <td>DNI 10270696</td>\n",
       "      <td>CARLOS OSCARBELMONTE</td>\n",
       "      <td>BSR_TARDIA</td>\n",
       "      <td>DNI 10270696</td>\n",
       "    </tr>\n",
       "    <tr>\n",
       "      <th>4</th>\n",
       "      <td>DNI 10363397</td>\n",
       "      <td>CALDAS ROSA HAYDEE</td>\n",
       "      <td>BSR_TARDIA</td>\n",
       "      <td>DNI 10363397</td>\n",
       "    </tr>\n",
       "  </tbody>\n",
       "</table>\n",
       "</div>"
      ],
      "text/plain": [
       "             IDMOROSO                                    NOMBRE   IDCLIENTE  \\\n",
       "0  DNI 10039621        ANA MARIA,CANO                            BSR_TARDIA   \n",
       "1  DNI 10197951        BERNARDO,CHAUQUE                          BSR_TARDIA   \n",
       "2  DNI 10248810        CIRO EMIR,BIANCHIMANI                     BSR_TARDIA   \n",
       "3  DNI 10270696        CARLOS OSCARBELMONTE                      BSR_TARDIA   \n",
       "4  DNI 10363397        CALDAS ROSA HAYDEE                        BSR_TARDIA   \n",
       "\n",
       "              NRO_DOC  \n",
       "0  DNI 10039621        \n",
       "1  DNI 10197951        \n",
       "2  DNI 10248810        \n",
       "3  DNI 10270696        \n",
       "4  DNI 10363397        "
      ]
     },
     "execution_count": 46,
     "metadata": {},
     "output_type": "execute_result"
    }
   ],
   "source": [
    "df_pyp.head()"
   ]
  },
  {
   "cell_type": "markdown",
   "metadata": {},
   "source": [
    "## 8.2) DNI Cleaning"
   ]
  },
  {
   "cell_type": "markdown",
   "metadata": {},
   "source": [
    "Limpiamos el dataframe __df_pyp__, ya que dentro de DATO_A_ENVIAR tenemos 9 tipos de casos diferentes de datos:\n",
    "\n",
    "- DNI 12345678\n",
    "- DNI12345678\n",
    "- DNIE1234678\n",
    "- LC  1234567\n",
    "- LE  1234567\n",
    "- CUIT00123456780\n",
    "- 00123456780 --> Es un CUIT.\n",
    "- 00 12345678 0 --> Es un CUIT.\n",
    "- DNI 00123456780 --> Dice DNI pero es un CUIT de una persona __jurídica__ (TO DO)"
   ]
  },
  {
   "cell_type": "markdown",
   "metadata": {},
   "source": [
    "Para eso definimos 5 funciones:\n",
    "\n",
    "- __Tipo_DOC__: Se definen dos funciones para determinar el tipo de DNI. Una inicial, y otra para corregir sobre el dataframe resultante.\n",
    "- __Standard DNI__: Estandariza los DNI para 7 de los casos. Esta función debe ejecutarse en primer lugar.\n",
    "- __DNI Spaces__: Elimina los espacios.\n",
    "- __DNI Zero__: Elimina los ceros iniciales de ciertos CUITs para que coincidan con los DNI.\n",
    "- __Cuit__: Decisión sobre dejar un cuit o volverlo DNI"
   ]
  },
  {
   "cell_type": "code",
   "execution_count": 47,
   "metadata": {},
   "outputs": [],
   "source": [
    "def tipo_doc_1 (string_dni):\n",
    "    \n",
    "    if 'DNI' in string_dni:\n",
    "        tipo = 'DNI'\n",
    "    \n",
    "    elif 'LC' in string_dni:\n",
    "        tipo = 'LC'\n",
    "    \n",
    "    elif 'LE' in string_dni:\n",
    "        tipo = 'LE'\n",
    "    \n",
    "    elif 'DNIE' in string_dni:\n",
    "        tipo = 'DNIE'    \n",
    "    \n",
    "    elif ((string_dni.startswith(('CUIT30','CUIT33','CUIT34'))) & (len(string_dni)>8)):\n",
    "        tipo = 'CUIT'\n",
    "        \n",
    "    elif ((string_dni.startswith(('30','33','34'))) & (len(string_dni)>8)):\n",
    "        tipo = 'CUIT'\n",
    "\n",
    "    elif ((string_dni.startswith(('20','23','24','27'))) & (len(string_dni)>8)):\n",
    "        tipo = 'DNI'\n",
    "\n",
    "    elif ((string_dni.startswith(('CUIT20','CUIT23','CUIT24','CUIT27'))) & (len(string_dni)>8)):\n",
    "        tipo = 'DNI'\n",
    "        \n",
    "    else:\n",
    "        tipo = 'DNI'\n",
    "    \n",
    "    return tipo"
   ]
  },
  {
   "cell_type": "code",
   "execution_count": 48,
   "metadata": {},
   "outputs": [],
   "source": [
    "def tipo_doc_2 (string_dni, tipo_original):\n",
    "    \n",
    "    if (len(string_dni) > 8) & (tipo_original == 'DNI'):\n",
    "        tipo = 'CUIT'\n",
    "    else:\n",
    "        tipo = tipo_original\n",
    "    return tipo"
   ]
  },
  {
   "cell_type": "code",
   "execution_count": 49,
   "metadata": {},
   "outputs": [],
   "source": [
    "def standard_dni (string_dni):\n",
    "    \"\"\"DNI separation by each case.\n",
    "    \"\"\"\n",
    "    \n",
    "    if 'DNI ' in string_dni:\n",
    "        dni = string_dni.split('DNI ')[1]\n",
    "        \n",
    "    elif 'DNIE' in string_dni:\n",
    "        dni = string_dni.split('DNIE')[1]\n",
    "    \n",
    "    elif 'DNI' in string_dni:\n",
    "        dni = string_dni.split('DNI')[1]\n",
    "    \n",
    "    elif 'LC  ' in string_dni:\n",
    "        dni = string_dni.split('LC  ')[1]\n",
    "    \n",
    "    elif 'LE  ' in string_dni:\n",
    "        dni = string_dni.split('LE  ')[1]\n",
    "    \n",
    "    elif 'CUIT' in string_dni:\n",
    "        dni = string_dni.split('CUIT')[1]\n",
    "        \n",
    "    else:\n",
    "        dni = string_dni\n",
    "        \n",
    "    return dni"
   ]
  },
  {
   "cell_type": "code",
   "execution_count": 50,
   "metadata": {},
   "outputs": [],
   "source": [
    "def dni_characters (string_dni):\n",
    "    \n",
    "    if ' ' in string_dni:\n",
    "        dni = string_dni.replace(' ','')\n",
    "        \n",
    "    elif '-' in string_dni:\n",
    "        dni = string_dni.replace('-','')\n",
    "\n",
    "    else:\n",
    "        dni = string_dni\n",
    "    \n",
    "    return dni"
   ]
  },
  {
   "cell_type": "code",
   "execution_count": 51,
   "metadata": {},
   "outputs": [],
   "source": [
    "def cuit (string_dni):\n",
    "    \n",
    "    if ((string_dni.startswith('20')) & (len(string_dni)>8)):\n",
    "        cuit = string_dni [2:-1]\n",
    "        \n",
    "    elif ((string_dni.startswith('23')) & (len(string_dni)>8)):\n",
    "        cuit = string_dni [2:-1]\n",
    "        \n",
    "    elif ((string_dni.startswith('24')) & (len(string_dni)>8)):\n",
    "        cuit = string_dni [2:-1]\n",
    "\n",
    "    elif ((string_dni.startswith('27')) & (len(string_dni)>8)):\n",
    "        cuit = string_dni [2:-1]\n",
    "\n",
    "    else:\n",
    "        cuit = string_dni\n",
    "        \n",
    "    return cuit"
   ]
  },
  {
   "cell_type": "code",
   "execution_count": 52,
   "metadata": {},
   "outputs": [],
   "source": [
    "def dni_zero (string_dni):\n",
    "    \n",
    "    if string_dni.startswith('0'):\n",
    "        dni = string_dni [1:]\n",
    "\n",
    "    else:\n",
    "        dni = string_dni\n",
    "    \n",
    "    return dni"
   ]
  },
  {
   "cell_type": "markdown",
   "metadata": {},
   "source": [
    "En primer lugar, trimmeamos los espacios que sobran:"
   ]
  },
  {
   "cell_type": "code",
   "execution_count": 53,
   "metadata": {},
   "outputs": [],
   "source": [
    "df_pyp['NRO_DOC'] = [(str(df_pyp['NRO_DOC'][i]).strip()) for i in range (df_pyp['NRO_DOC'].count())]"
   ]
  },
  {
   "cell_type": "markdown",
   "metadata": {},
   "source": [
    "Se implementan estas funciones:"
   ]
  },
  {
   "cell_type": "markdown",
   "metadata": {},
   "source": [
    "Para determinar el __TIPO DE DOCUMENTO__ en primer lugar:"
   ]
  },
  {
   "cell_type": "code",
   "execution_count": 54,
   "metadata": {},
   "outputs": [],
   "source": [
    "df_pyp['TIPO_DOC'] = [tipo_doc_1(df_pyp['NRO_DOC'][i]) for i in range (df_pyp['NRO_DOC'].count())]"
   ]
  },
  {
   "cell_type": "markdown",
   "metadata": {},
   "source": [
    "Para la limpieza de DNIs:"
   ]
  },
  {
   "cell_type": "code",
   "execution_count": 55,
   "metadata": {},
   "outputs": [],
   "source": [
    "df_pyp['NRO_DOC'] = [standard_dni(df_pyp['NRO_DOC'][i]) for i in range (df_pyp['NRO_DOC'].count())]"
   ]
  },
  {
   "cell_type": "code",
   "execution_count": 56,
   "metadata": {},
   "outputs": [],
   "source": [
    "df_pyp['NRO_DOC'] = [dni_characters(df_pyp['NRO_DOC'][i]) for i in range (df_pyp['NRO_DOC'].count())]"
   ]
  },
  {
   "cell_type": "code",
   "execution_count": 57,
   "metadata": {},
   "outputs": [],
   "source": [
    "df_pyp['NRO_DOC'] = [cuit(df_pyp['NRO_DOC'][i]) for i in range (df_pyp['NRO_DOC'].count())]"
   ]
  },
  {
   "cell_type": "code",
   "execution_count": 58,
   "metadata": {},
   "outputs": [],
   "source": [
    "df_pyp['NRO_DOC'] = [dni_zero(df_pyp['NRO_DOC'][i]) for i in range (df_pyp['NRO_DOC'].count())]"
   ]
  },
  {
   "cell_type": "markdown",
   "metadata": {},
   "source": [
    "Para corregir el __TIPO DE DOCUMENTO__ sobre el dataframe resultante"
   ]
  },
  {
   "cell_type": "code",
   "execution_count": 59,
   "metadata": {},
   "outputs": [],
   "source": [
    "df_pyp['TIPO_DOC'] = [tipo_doc_2(df_pyp['NRO_DOC'][i],df_pyp['TIPO_DOC'][i]) for i in range (df_pyp['NRO_DOC'].count())]"
   ]
  },
  {
   "cell_type": "code",
   "execution_count": 60,
   "metadata": {},
   "outputs": [
    {
     "data": {
      "text/html": [
       "<div>\n",
       "<style scoped>\n",
       "    .dataframe tbody tr th:only-of-type {\n",
       "        vertical-align: middle;\n",
       "    }\n",
       "\n",
       "    .dataframe tbody tr th {\n",
       "        vertical-align: top;\n",
       "    }\n",
       "\n",
       "    .dataframe thead th {\n",
       "        text-align: right;\n",
       "    }\n",
       "</style>\n",
       "<table border=\"1\" class=\"dataframe\">\n",
       "  <thead>\n",
       "    <tr style=\"text-align: right;\">\n",
       "      <th></th>\n",
       "      <th>IDMOROSO</th>\n",
       "      <th>NOMBRE</th>\n",
       "      <th>IDCLIENTE</th>\n",
       "      <th>NRO_DOC</th>\n",
       "      <th>TIPO_DOC</th>\n",
       "    </tr>\n",
       "  </thead>\n",
       "  <tbody>\n",
       "    <tr>\n",
       "      <th>0</th>\n",
       "      <td>DNI 10039621</td>\n",
       "      <td>ANA MARIA,CANO</td>\n",
       "      <td>BSR_TARDIA</td>\n",
       "      <td>10039621</td>\n",
       "      <td>DNI</td>\n",
       "    </tr>\n",
       "    <tr>\n",
       "      <th>1</th>\n",
       "      <td>DNI 10197951</td>\n",
       "      <td>BERNARDO,CHAUQUE</td>\n",
       "      <td>BSR_TARDIA</td>\n",
       "      <td>10197951</td>\n",
       "      <td>DNI</td>\n",
       "    </tr>\n",
       "    <tr>\n",
       "      <th>2</th>\n",
       "      <td>DNI 10248810</td>\n",
       "      <td>CIRO EMIR,BIANCHIMANI</td>\n",
       "      <td>BSR_TARDIA</td>\n",
       "      <td>10248810</td>\n",
       "      <td>DNI</td>\n",
       "    </tr>\n",
       "    <tr>\n",
       "      <th>3</th>\n",
       "      <td>DNI 10270696</td>\n",
       "      <td>CARLOS OSCARBELMONTE</td>\n",
       "      <td>BSR_TARDIA</td>\n",
       "      <td>10270696</td>\n",
       "      <td>DNI</td>\n",
       "    </tr>\n",
       "    <tr>\n",
       "      <th>4</th>\n",
       "      <td>DNI 10363397</td>\n",
       "      <td>CALDAS ROSA HAYDEE</td>\n",
       "      <td>BSR_TARDIA</td>\n",
       "      <td>10363397</td>\n",
       "      <td>DNI</td>\n",
       "    </tr>\n",
       "  </tbody>\n",
       "</table>\n",
       "</div>"
      ],
      "text/plain": [
       "             IDMOROSO                                    NOMBRE   IDCLIENTE  \\\n",
       "0  DNI 10039621        ANA MARIA,CANO                            BSR_TARDIA   \n",
       "1  DNI 10197951        BERNARDO,CHAUQUE                          BSR_TARDIA   \n",
       "2  DNI 10248810        CIRO EMIR,BIANCHIMANI                     BSR_TARDIA   \n",
       "3  DNI 10270696        CARLOS OSCARBELMONTE                      BSR_TARDIA   \n",
       "4  DNI 10363397        CALDAS ROSA HAYDEE                        BSR_TARDIA   \n",
       "\n",
       "    NRO_DOC TIPO_DOC  \n",
       "0  10039621      DNI  \n",
       "1  10197951      DNI  \n",
       "2  10248810      DNI  \n",
       "3  10270696      DNI  \n",
       "4  10363397      DNI  "
      ]
     },
     "execution_count": 60,
     "metadata": {},
     "output_type": "execute_result"
    }
   ],
   "source": [
    "df_pyp.head()"
   ]
  },
  {
   "cell_type": "markdown",
   "metadata": {},
   "source": [
    "# 9) Union de Dataframes"
   ]
  },
  {
   "cell_type": "markdown",
   "metadata": {},
   "source": [
    "Se unen ambos dataframes en la columna NRO_DOC"
   ]
  },
  {
   "cell_type": "markdown",
   "metadata": {},
   "source": [
    "Convertimos la columna NRO_DOC de objeto a INT para hacer la unión"
   ]
  },
  {
   "cell_type": "code",
   "execution_count": 61,
   "metadata": {},
   "outputs": [],
   "source": [
    "df_clean = df_clean.astype({'NRO_DOC': 'str'})"
   ]
  },
  {
   "cell_type": "code",
   "execution_count": 62,
   "metadata": {},
   "outputs": [],
   "source": [
    "df_union = pd.merge(df_clean,df_pyp, on='NRO_DOC', how='inner')"
   ]
  },
  {
   "cell_type": "code",
   "execution_count": 63,
   "metadata": {},
   "outputs": [
    {
     "data": {
      "text/plain": [
       "(83, 16)"
      ]
     },
     "execution_count": 63,
     "metadata": {},
     "output_type": "execute_result"
    }
   ],
   "source": [
    "df_union.shape"
   ]
  },
  {
   "cell_type": "code",
   "execution_count": 64,
   "metadata": {
    "scrolled": false
   },
   "outputs": [
    {
     "data": {
      "text/html": [
       "<div>\n",
       "<style scoped>\n",
       "    .dataframe tbody tr th:only-of-type {\n",
       "        vertical-align: middle;\n",
       "    }\n",
       "\n",
       "    .dataframe tbody tr th {\n",
       "        vertical-align: top;\n",
       "    }\n",
       "\n",
       "    .dataframe thead th {\n",
       "        text-align: right;\n",
       "    }\n",
       "</style>\n",
       "<table border=\"1\" class=\"dataframe\">\n",
       "  <thead>\n",
       "    <tr style=\"text-align: right;\">\n",
       "      <th></th>\n",
       "      <th>CUIT_CUIL</th>\n",
       "      <th>NRO_DOC</th>\n",
       "      <th>Titular</th>\n",
       "      <th>Propiedades</th>\n",
       "      <th>PROVEEDOR</th>\n",
       "      <th>PORCENTAJE</th>\n",
       "      <th>FECHA_INGRESO</th>\n",
       "      <th>DOMICILIO</th>\n",
       "      <th>LOCALIDAD</th>\n",
       "      <th>CODIGO_POSTAL</th>\n",
       "      <th>PROVINCIA</th>\n",
       "      <th>PAIS</th>\n",
       "      <th>IDMOROSO</th>\n",
       "      <th>NOMBRE</th>\n",
       "      <th>IDCLIENTE</th>\n",
       "      <th>TIPO_DOC</th>\n",
       "    </tr>\n",
       "  </thead>\n",
       "  <tbody>\n",
       "    <tr>\n",
       "      <th>0</th>\n",
       "      <td>27113940617</td>\n",
       "      <td>11394061</td>\n",
       "      <td>BONORA EMILIA MAGDALENA</td>\n",
       "      <td>1</td>\n",
       "      <td>P2</td>\n",
       "      <td>100</td>\n",
       "      <td>2021-02-24 11:56:46.246867</td>\n",
       "      <td>No disponible</td>\n",
       "      <td>Desconocida</td>\n",
       "      <td>No disponible</td>\n",
       "      <td>Desconocida</td>\n",
       "      <td>No disponible</td>\n",
       "      <td>DNI 11394061</td>\n",
       "      <td>EMILIA MAGDALENA,BONORA</td>\n",
       "      <td>BSR_TARDIA</td>\n",
       "      <td>DNI</td>\n",
       "    </tr>\n",
       "    <tr>\n",
       "      <th>1</th>\n",
       "      <td>27246807294</td>\n",
       "      <td>24680729</td>\n",
       "      <td>CARDINALI CECILIA ELOISA</td>\n",
       "      <td>1</td>\n",
       "      <td>P2</td>\n",
       "      <td>100</td>\n",
       "      <td>2021-02-24 11:56:46.246867</td>\n",
       "      <td>No disponible</td>\n",
       "      <td>Desconocida</td>\n",
       "      <td>No disponible</td>\n",
       "      <td>Desconocida</td>\n",
       "      <td>No disponible</td>\n",
       "      <td>DNI 24680729</td>\n",
       "      <td>CARDINALI CECILIA ELOISA</td>\n",
       "      <td>BSR_TARDIA</td>\n",
       "      <td>DNI</td>\n",
       "    </tr>\n",
       "    <tr>\n",
       "      <th>2</th>\n",
       "      <td>20078231816</td>\n",
       "      <td>7823181</td>\n",
       "      <td>CHIMENTI JORGE SALVADOR</td>\n",
       "      <td>1</td>\n",
       "      <td>P2</td>\n",
       "      <td>100</td>\n",
       "      <td>2021-02-24 11:56:46.246867</td>\n",
       "      <td>No disponible</td>\n",
       "      <td>Desconocida</td>\n",
       "      <td>No disponible</td>\n",
       "      <td>Desconocida</td>\n",
       "      <td>No disponible</td>\n",
       "      <td>DNI 7823181</td>\n",
       "      <td>JORGE SALVADOR,CHIMENTI</td>\n",
       "      <td>BSR_TARDIA</td>\n",
       "      <td>DNI</td>\n",
       "    </tr>\n",
       "    <tr>\n",
       "      <th>3</th>\n",
       "      <td>27050899484</td>\n",
       "      <td>5089948</td>\n",
       "      <td>BRUNO SUSANA ESTER</td>\n",
       "      <td>1</td>\n",
       "      <td>P2</td>\n",
       "      <td>100</td>\n",
       "      <td>2021-02-24 11:56:46.246867</td>\n",
       "      <td>No disponible</td>\n",
       "      <td>Desconocida</td>\n",
       "      <td>No disponible</td>\n",
       "      <td>Desconocida</td>\n",
       "      <td>No disponible</td>\n",
       "      <td>DNI 5089948</td>\n",
       "      <td>SUSANA ESTER,BRUNO</td>\n",
       "      <td>BSR_TARDIA</td>\n",
       "      <td>DNI</td>\n",
       "    </tr>\n",
       "    <tr>\n",
       "      <th>4</th>\n",
       "      <td>27060664426</td>\n",
       "      <td>6066442</td>\n",
       "      <td>BRAVO AIDA JOSEFA</td>\n",
       "      <td>1</td>\n",
       "      <td>P2</td>\n",
       "      <td>100</td>\n",
       "      <td>2021-02-24 11:56:46.246867</td>\n",
       "      <td>No disponible</td>\n",
       "      <td>Desconocida</td>\n",
       "      <td>No disponible</td>\n",
       "      <td>Desconocida</td>\n",
       "      <td>No disponible</td>\n",
       "      <td>LC  6066442</td>\n",
       "      <td>AIDA JOSEFA,BRAVO</td>\n",
       "      <td>BSR_TARDIA</td>\n",
       "      <td>LC</td>\n",
       "    </tr>\n",
       "    <tr>\n",
       "      <th>5</th>\n",
       "      <td>27052940260</td>\n",
       "      <td>5294026</td>\n",
       "      <td>BENATTI ZULEMA ELSA</td>\n",
       "      <td>1</td>\n",
       "      <td>P2</td>\n",
       "      <td>100</td>\n",
       "      <td>2021-02-24 11:56:46.246867</td>\n",
       "      <td>No disponible</td>\n",
       "      <td>Desconocida</td>\n",
       "      <td>No disponible</td>\n",
       "      <td>Desconocida</td>\n",
       "      <td>No disponible</td>\n",
       "      <td>DNI 5294026</td>\n",
       "      <td>ZULEMA ELSA,BENATTI</td>\n",
       "      <td>BSR_TARDIA</td>\n",
       "      <td>DNI</td>\n",
       "    </tr>\n",
       "    <tr>\n",
       "      <th>6</th>\n",
       "      <td>20171449619</td>\n",
       "      <td>17144961</td>\n",
       "      <td>BRUNO RICARDO RUBEN</td>\n",
       "      <td>2</td>\n",
       "      <td>P2</td>\n",
       "      <td>100</td>\n",
       "      <td>2021-02-24 11:56:46.246867</td>\n",
       "      <td>No disponible</td>\n",
       "      <td>Desconocida</td>\n",
       "      <td>No disponible</td>\n",
       "      <td>Desconocida</td>\n",
       "      <td>No disponible</td>\n",
       "      <td>DNI 17144961</td>\n",
       "      <td>RICARDO RUBEN,BRUNO</td>\n",
       "      <td>BSR_TARDIA</td>\n",
       "      <td>DNI</td>\n",
       "    </tr>\n",
       "    <tr>\n",
       "      <th>7</th>\n",
       "      <td>20171449619</td>\n",
       "      <td>17144961</td>\n",
       "      <td>BRUNO RICARDO RUBEN</td>\n",
       "      <td>2</td>\n",
       "      <td>P2</td>\n",
       "      <td>100</td>\n",
       "      <td>2021-02-24 11:56:46.246867</td>\n",
       "      <td>No disponible</td>\n",
       "      <td>Desconocida</td>\n",
       "      <td>No disponible</td>\n",
       "      <td>Desconocida</td>\n",
       "      <td>No disponible</td>\n",
       "      <td>DNI 17144961</td>\n",
       "      <td>RICARDO RUBEN,BRUNO</td>\n",
       "      <td>BSR_TARDIA</td>\n",
       "      <td>DNI</td>\n",
       "    </tr>\n",
       "    <tr>\n",
       "      <th>8</th>\n",
       "      <td>27036714943</td>\n",
       "      <td>3671494</td>\n",
       "      <td>CHARIATTE SUSANA BEATRIZ</td>\n",
       "      <td>2</td>\n",
       "      <td>P2</td>\n",
       "      <td>100</td>\n",
       "      <td>2021-02-24 11:56:46.246867</td>\n",
       "      <td>No disponible</td>\n",
       "      <td>Desconocida</td>\n",
       "      <td>No disponible</td>\n",
       "      <td>Desconocida</td>\n",
       "      <td>No disponible</td>\n",
       "      <td>DNI 3671494</td>\n",
       "      <td>SUSANA BEATRIZ,CHARIATTE</td>\n",
       "      <td>BSR_TARDIA</td>\n",
       "      <td>DNI</td>\n",
       "    </tr>\n",
       "    <tr>\n",
       "      <th>9</th>\n",
       "      <td>27036714943</td>\n",
       "      <td>3671494</td>\n",
       "      <td>CHARIATTE SUSANA BEATRIZ</td>\n",
       "      <td>2</td>\n",
       "      <td>P2</td>\n",
       "      <td>100</td>\n",
       "      <td>2021-02-24 11:56:46.246867</td>\n",
       "      <td>No disponible</td>\n",
       "      <td>Desconocida</td>\n",
       "      <td>No disponible</td>\n",
       "      <td>Desconocida</td>\n",
       "      <td>No disponible</td>\n",
       "      <td>DNI 3671494</td>\n",
       "      <td>SUSANA BEATRIZ,CHARIATTE</td>\n",
       "      <td>BSR_TARDIA</td>\n",
       "      <td>DNI</td>\n",
       "    </tr>\n",
       "    <tr>\n",
       "      <th>10</th>\n",
       "      <td>20077431250</td>\n",
       "      <td>7743125</td>\n",
       "      <td>BURI OSCAR ANGEL</td>\n",
       "      <td>2</td>\n",
       "      <td>P2</td>\n",
       "      <td>100</td>\n",
       "      <td>2021-02-24 11:56:46.246867</td>\n",
       "      <td>No disponible</td>\n",
       "      <td>Desconocida</td>\n",
       "      <td>No disponible</td>\n",
       "      <td>Desconocida</td>\n",
       "      <td>No disponible</td>\n",
       "      <td>DNI 7743125</td>\n",
       "      <td>OSCAR ANGEL,BURI</td>\n",
       "      <td>BSR_TARDIA</td>\n",
       "      <td>DNI</td>\n",
       "    </tr>\n",
       "    <tr>\n",
       "      <th>11</th>\n",
       "      <td>20077431250</td>\n",
       "      <td>7743125</td>\n",
       "      <td>BURI OSCAR ANGEL</td>\n",
       "      <td>2</td>\n",
       "      <td>P2</td>\n",
       "      <td>100</td>\n",
       "      <td>2021-02-24 11:56:46.246867</td>\n",
       "      <td>No disponible</td>\n",
       "      <td>Desconocida</td>\n",
       "      <td>No disponible</td>\n",
       "      <td>Desconocida</td>\n",
       "      <td>No disponible</td>\n",
       "      <td>DNI 7743125</td>\n",
       "      <td>OSCAR ANGEL,BURI</td>\n",
       "      <td>BSR_TARDIA</td>\n",
       "      <td>DNI</td>\n",
       "    </tr>\n",
       "    <tr>\n",
       "      <th>12</th>\n",
       "      <td>20178554892</td>\n",
       "      <td>17855489</td>\n",
       "      <td>CHAVEZ RICARDO JOSE</td>\n",
       "      <td>2</td>\n",
       "      <td>P2</td>\n",
       "      <td>100</td>\n",
       "      <td>2021-02-24 11:56:46.246867</td>\n",
       "      <td>No disponible</td>\n",
       "      <td>Desconocida</td>\n",
       "      <td>No disponible</td>\n",
       "      <td>Desconocida</td>\n",
       "      <td>No disponible</td>\n",
       "      <td>DNI 17855489</td>\n",
       "      <td>RICARDO JOSE,CHAVEZ</td>\n",
       "      <td>BSR_TARDIA</td>\n",
       "      <td>DNI</td>\n",
       "    </tr>\n",
       "    <tr>\n",
       "      <th>13</th>\n",
       "      <td>20178554892</td>\n",
       "      <td>17855489</td>\n",
       "      <td>CHAVEZ RICARDO JOSE</td>\n",
       "      <td>2</td>\n",
       "      <td>P2</td>\n",
       "      <td>100</td>\n",
       "      <td>2021-02-24 11:56:46.246867</td>\n",
       "      <td>No disponible</td>\n",
       "      <td>Desconocida</td>\n",
       "      <td>No disponible</td>\n",
       "      <td>Desconocida</td>\n",
       "      <td>No disponible</td>\n",
       "      <td>DNI 17855489</td>\n",
       "      <td>RICARDO JOSE,CHAVEZ</td>\n",
       "      <td>BSR_TARDIA</td>\n",
       "      <td>DNI</td>\n",
       "    </tr>\n",
       "    <tr>\n",
       "      <th>14</th>\n",
       "      <td>20142309093</td>\n",
       "      <td>14230909</td>\n",
       "      <td>CANOVAS ATILIO RODOLFO</td>\n",
       "      <td>1</td>\n",
       "      <td>P2</td>\n",
       "      <td>100</td>\n",
       "      <td>2021-02-24 11:56:46.246867</td>\n",
       "      <td>No disponible</td>\n",
       "      <td>Desconocida</td>\n",
       "      <td>No disponible</td>\n",
       "      <td>Desconocida</td>\n",
       "      <td>No disponible</td>\n",
       "      <td>DNI 14230909</td>\n",
       "      <td>ATILIO RODOLFO,CANOVAS</td>\n",
       "      <td>BSR_TARDIA</td>\n",
       "      <td>DNI</td>\n",
       "    </tr>\n",
       "  </tbody>\n",
       "</table>\n",
       "</div>"
      ],
      "text/plain": [
       "      CUIT_CUIL   NRO_DOC                   Titular  Propiedades PROVEEDOR  \\\n",
       "0   27113940617  11394061   BONORA EMILIA MAGDALENA            1        P2   \n",
       "1   27246807294  24680729  CARDINALI CECILIA ELOISA            1        P2   \n",
       "2   20078231816   7823181   CHIMENTI JORGE SALVADOR            1        P2   \n",
       "3   27050899484   5089948        BRUNO SUSANA ESTER            1        P2   \n",
       "4   27060664426   6066442         BRAVO AIDA JOSEFA            1        P2   \n",
       "5   27052940260   5294026       BENATTI ZULEMA ELSA            1        P2   \n",
       "6   20171449619  17144961       BRUNO RICARDO RUBEN            2        P2   \n",
       "7   20171449619  17144961       BRUNO RICARDO RUBEN            2        P2   \n",
       "8   27036714943   3671494  CHARIATTE SUSANA BEATRIZ            2        P2   \n",
       "9   27036714943   3671494  CHARIATTE SUSANA BEATRIZ            2        P2   \n",
       "10  20077431250   7743125          BURI OSCAR ANGEL            2        P2   \n",
       "11  20077431250   7743125          BURI OSCAR ANGEL            2        P2   \n",
       "12  20178554892  17855489       CHAVEZ RICARDO JOSE            2        P2   \n",
       "13  20178554892  17855489       CHAVEZ RICARDO JOSE            2        P2   \n",
       "14  20142309093  14230909    CANOVAS ATILIO RODOLFO            1        P2   \n",
       "\n",
       "    PORCENTAJE              FECHA_INGRESO      DOMICILIO    LOCALIDAD  \\\n",
       "0          100 2021-02-24 11:56:46.246867  No disponible  Desconocida   \n",
       "1          100 2021-02-24 11:56:46.246867  No disponible  Desconocida   \n",
       "2          100 2021-02-24 11:56:46.246867  No disponible  Desconocida   \n",
       "3          100 2021-02-24 11:56:46.246867  No disponible  Desconocida   \n",
       "4          100 2021-02-24 11:56:46.246867  No disponible  Desconocida   \n",
       "5          100 2021-02-24 11:56:46.246867  No disponible  Desconocida   \n",
       "6          100 2021-02-24 11:56:46.246867  No disponible  Desconocida   \n",
       "7          100 2021-02-24 11:56:46.246867  No disponible  Desconocida   \n",
       "8          100 2021-02-24 11:56:46.246867  No disponible  Desconocida   \n",
       "9          100 2021-02-24 11:56:46.246867  No disponible  Desconocida   \n",
       "10         100 2021-02-24 11:56:46.246867  No disponible  Desconocida   \n",
       "11         100 2021-02-24 11:56:46.246867  No disponible  Desconocida   \n",
       "12         100 2021-02-24 11:56:46.246867  No disponible  Desconocida   \n",
       "13         100 2021-02-24 11:56:46.246867  No disponible  Desconocida   \n",
       "14         100 2021-02-24 11:56:46.246867  No disponible  Desconocida   \n",
       "\n",
       "    CODIGO_POSTAL    PROVINCIA           PAIS            IDMOROSO  \\\n",
       "0   No disponible  Desconocida  No disponible  DNI 11394061         \n",
       "1   No disponible  Desconocida  No disponible  DNI 24680729         \n",
       "2   No disponible  Desconocida  No disponible  DNI 7823181          \n",
       "3   No disponible  Desconocida  No disponible  DNI 5089948          \n",
       "4   No disponible  Desconocida  No disponible  LC  6066442          \n",
       "5   No disponible  Desconocida  No disponible  DNI 5294026          \n",
       "6   No disponible  Desconocida  No disponible  DNI 17144961         \n",
       "7   No disponible  Desconocida  No disponible  DNI 17144961         \n",
       "8   No disponible  Desconocida  No disponible  DNI 3671494          \n",
       "9   No disponible  Desconocida  No disponible  DNI 3671494          \n",
       "10  No disponible  Desconocida  No disponible  DNI 7743125          \n",
       "11  No disponible  Desconocida  No disponible  DNI 7743125          \n",
       "12  No disponible  Desconocida  No disponible  DNI 17855489         \n",
       "13  No disponible  Desconocida  No disponible  DNI 17855489         \n",
       "14  No disponible  Desconocida  No disponible  DNI 14230909         \n",
       "\n",
       "                                      NOMBRE   IDCLIENTE TIPO_DOC  \n",
       "0   EMILIA MAGDALENA,BONORA                   BSR_TARDIA      DNI  \n",
       "1   CARDINALI CECILIA ELOISA                  BSR_TARDIA      DNI  \n",
       "2   JORGE SALVADOR,CHIMENTI                   BSR_TARDIA      DNI  \n",
       "3   SUSANA ESTER,BRUNO                        BSR_TARDIA      DNI  \n",
       "4   AIDA JOSEFA,BRAVO                         BSR_TARDIA       LC  \n",
       "5   ZULEMA ELSA,BENATTI                       BSR_TARDIA      DNI  \n",
       "6   RICARDO RUBEN,BRUNO                       BSR_TARDIA      DNI  \n",
       "7   RICARDO RUBEN,BRUNO                       BSR_TARDIA      DNI  \n",
       "8   SUSANA BEATRIZ,CHARIATTE                  BSR_TARDIA      DNI  \n",
       "9   SUSANA BEATRIZ,CHARIATTE                  BSR_TARDIA      DNI  \n",
       "10  OSCAR ANGEL,BURI                          BSR_TARDIA      DNI  \n",
       "11  OSCAR ANGEL,BURI                          BSR_TARDIA      DNI  \n",
       "12  RICARDO JOSE,CHAVEZ                       BSR_TARDIA      DNI  \n",
       "13  RICARDO JOSE,CHAVEZ                       BSR_TARDIA      DNI  \n",
       "14  ATILIO RODOLFO,CANOVAS                    BSR_TARDIA      DNI  "
      ]
     },
     "execution_count": 64,
     "metadata": {},
     "output_type": "execute_result"
    }
   ],
   "source": [
    "df_union.head(15)"
   ]
  },
  {
   "cell_type": "code",
   "execution_count": 65,
   "metadata": {},
   "outputs": [],
   "source": [
    "#df_union.to_csv('inmuebles_union.csv')"
   ]
  },
  {
   "cell_type": "markdown",
   "metadata": {},
   "source": [
    "# 10) Export"
   ]
  },
  {
   "cell_type": "markdown",
   "metadata": {},
   "source": [
    "Renombramos, dropeamos y reordenamos las columnas"
   ]
  },
  {
   "cell_type": "markdown",
   "metadata": {},
   "source": [
    "Dropeamos columnas que no nos sirven"
   ]
  },
  {
   "cell_type": "code",
   "execution_count": 66,
   "metadata": {},
   "outputs": [],
   "source": [
    "df_export = df_union.drop(columns=['CUIT_CUIL','Titular','NRO_DOC','Propiedades','NOMBRE','CUIT_CUIL','IDCLIENTE','TIPO_DOC'], axis=0)"
   ]
  },
  {
   "cell_type": "code",
   "execution_count": 67,
   "metadata": {},
   "outputs": [],
   "source": [
    "df_export = df_export[['IDMOROSO','DOMICILIO','LOCALIDAD','CODIGO_POSTAL','PROVINCIA','PAIS','PORCENTAJE','FECHA_INGRESO','PROVEEDOR']]"
   ]
  },
  {
   "cell_type": "code",
   "execution_count": 68,
   "metadata": {},
   "outputs": [
    {
     "data": {
      "text/html": [
       "<div>\n",
       "<style scoped>\n",
       "    .dataframe tbody tr th:only-of-type {\n",
       "        vertical-align: middle;\n",
       "    }\n",
       "\n",
       "    .dataframe tbody tr th {\n",
       "        vertical-align: top;\n",
       "    }\n",
       "\n",
       "    .dataframe thead th {\n",
       "        text-align: right;\n",
       "    }\n",
       "</style>\n",
       "<table border=\"1\" class=\"dataframe\">\n",
       "  <thead>\n",
       "    <tr style=\"text-align: right;\">\n",
       "      <th></th>\n",
       "      <th>IDMOROSO</th>\n",
       "      <th>DOMICILIO</th>\n",
       "      <th>LOCALIDAD</th>\n",
       "      <th>CODIGO_POSTAL</th>\n",
       "      <th>PROVINCIA</th>\n",
       "      <th>PAIS</th>\n",
       "      <th>PORCENTAJE</th>\n",
       "      <th>FECHA_INGRESO</th>\n",
       "      <th>PROVEEDOR</th>\n",
       "    </tr>\n",
       "  </thead>\n",
       "  <tbody>\n",
       "    <tr>\n",
       "      <th>0</th>\n",
       "      <td>DNI 11394061</td>\n",
       "      <td>No disponible</td>\n",
       "      <td>Desconocida</td>\n",
       "      <td>No disponible</td>\n",
       "      <td>Desconocida</td>\n",
       "      <td>No disponible</td>\n",
       "      <td>100</td>\n",
       "      <td>2021-02-24 11:56:46.246867</td>\n",
       "      <td>P2</td>\n",
       "    </tr>\n",
       "    <tr>\n",
       "      <th>1</th>\n",
       "      <td>DNI 24680729</td>\n",
       "      <td>No disponible</td>\n",
       "      <td>Desconocida</td>\n",
       "      <td>No disponible</td>\n",
       "      <td>Desconocida</td>\n",
       "      <td>No disponible</td>\n",
       "      <td>100</td>\n",
       "      <td>2021-02-24 11:56:46.246867</td>\n",
       "      <td>P2</td>\n",
       "    </tr>\n",
       "    <tr>\n",
       "      <th>2</th>\n",
       "      <td>DNI 7823181</td>\n",
       "      <td>No disponible</td>\n",
       "      <td>Desconocida</td>\n",
       "      <td>No disponible</td>\n",
       "      <td>Desconocida</td>\n",
       "      <td>No disponible</td>\n",
       "      <td>100</td>\n",
       "      <td>2021-02-24 11:56:46.246867</td>\n",
       "      <td>P2</td>\n",
       "    </tr>\n",
       "    <tr>\n",
       "      <th>3</th>\n",
       "      <td>DNI 5089948</td>\n",
       "      <td>No disponible</td>\n",
       "      <td>Desconocida</td>\n",
       "      <td>No disponible</td>\n",
       "      <td>Desconocida</td>\n",
       "      <td>No disponible</td>\n",
       "      <td>100</td>\n",
       "      <td>2021-02-24 11:56:46.246867</td>\n",
       "      <td>P2</td>\n",
       "    </tr>\n",
       "    <tr>\n",
       "      <th>4</th>\n",
       "      <td>LC  6066442</td>\n",
       "      <td>No disponible</td>\n",
       "      <td>Desconocida</td>\n",
       "      <td>No disponible</td>\n",
       "      <td>Desconocida</td>\n",
       "      <td>No disponible</td>\n",
       "      <td>100</td>\n",
       "      <td>2021-02-24 11:56:46.246867</td>\n",
       "      <td>P2</td>\n",
       "    </tr>\n",
       "  </tbody>\n",
       "</table>\n",
       "</div>"
      ],
      "text/plain": [
       "             IDMOROSO      DOMICILIO    LOCALIDAD  CODIGO_POSTAL    PROVINCIA  \\\n",
       "0  DNI 11394061        No disponible  Desconocida  No disponible  Desconocida   \n",
       "1  DNI 24680729        No disponible  Desconocida  No disponible  Desconocida   \n",
       "2  DNI 7823181         No disponible  Desconocida  No disponible  Desconocida   \n",
       "3  DNI 5089948         No disponible  Desconocida  No disponible  Desconocida   \n",
       "4  LC  6066442         No disponible  Desconocida  No disponible  Desconocida   \n",
       "\n",
       "            PAIS  PORCENTAJE              FECHA_INGRESO PROVEEDOR  \n",
       "0  No disponible         100 2021-02-24 11:56:46.246867        P2  \n",
       "1  No disponible         100 2021-02-24 11:56:46.246867        P2  \n",
       "2  No disponible         100 2021-02-24 11:56:46.246867        P2  \n",
       "3  No disponible         100 2021-02-24 11:56:46.246867        P2  \n",
       "4  No disponible         100 2021-02-24 11:56:46.246867        P2  "
      ]
     },
     "execution_count": 68,
     "metadata": {},
     "output_type": "execute_result"
    }
   ],
   "source": [
    "df_export.head()"
   ]
  },
  {
   "cell_type": "code",
   "execution_count": 69,
   "metadata": {},
   "outputs": [
    {
     "data": {
      "text/plain": [
       "(83, 9)"
      ]
     },
     "execution_count": 69,
     "metadata": {},
     "output_type": "execute_result"
    }
   ],
   "source": [
    "df_export.shape"
   ]
  },
  {
   "cell_type": "markdown",
   "metadata": {},
   "source": [
    "## 14.1) Export de dataframe + IDCLIENTE para análisis"
   ]
  },
  {
   "cell_type": "code",
   "execution_count": 70,
   "metadata": {},
   "outputs": [],
   "source": [
    "#df_union.to_excel('/mnt/c/Users/Dleg/Data/MOPC/MOPC/Enriquecimiento de Datos/Data Cleaning/PyP/Exports/Inmuebles para analisis/PyP_inmuebles_1401.xlsx')\n",
    "#df_union.to_csv('/mnt/c/Users/Dleg/Data/MOPC/MOPC/Enriquecimiento de Datos/Data Cleaning/PyP/Exports/Inmuebles para analisis/PyP_inmuebles_1401.csv')"
   ]
  },
  {
   "cell_type": "markdown",
   "metadata": {},
   "source": [
    "## 14.2) Insert a tabla DAM_CONTACTABILIDAD:"
   ]
  },
  {
   "cell_type": "code",
   "execution_count": 71,
   "metadata": {},
   "outputs": [],
   "source": [
    "df_export.to_csv('/mnt/c/Users/Dleg/Data/MOPC/MOPC/Enriquecimiento de Datos/Data Cleaning/PyP/Exports/DAM_INMUEBLES/PyP_DAM_INMUEBLES_2402.csv',index=False)"
   ]
  },
  {
   "cell_type": "code",
   "execution_count": null,
   "metadata": {},
   "outputs": [],
   "source": []
  }
 ],
 "metadata": {
  "kernelspec": {
   "display_name": "Python 3",
   "language": "python",
   "name": "python3"
  },
  "language_info": {
   "codemirror_mode": {
    "name": "ipython",
    "version": 3
   },
   "file_extension": ".py",
   "mimetype": "text/x-python",
   "name": "python",
   "nbconvert_exporter": "python",
   "pygments_lexer": "ipython3",
   "version": "3.8.6"
  }
 },
 "nbformat": 4,
 "nbformat_minor": 4
}
