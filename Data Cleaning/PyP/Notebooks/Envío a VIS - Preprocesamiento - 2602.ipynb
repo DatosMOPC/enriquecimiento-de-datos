{
 "cells": [
  {
   "cell_type": "code",
   "execution_count": 1,
   "id": "synthetic-mercy",
   "metadata": {},
   "outputs": [],
   "source": [
    "import pandas as pd"
   ]
  },
  {
   "cell_type": "code",
   "execution_count": 2,
   "id": "surprised-denmark",
   "metadata": {},
   "outputs": [],
   "source": [
    "df = pd.read_csv('/mnt/c/Users/Dleg/Data/MOPC/MOPC/Enriquecimiento de Datos/Data Cleaning/PyP/Datasets/Datasets enviados/Cartera_sin_enriquecer - Estados_idcliente - 2602-4.csv')"
   ]
  },
  {
   "cell_type": "code",
   "execution_count": 3,
   "id": "written-government",
   "metadata": {},
   "outputs": [
    {
     "data": {
      "text/html": [
       "<div>\n",
       "<style scoped>\n",
       "    .dataframe tbody tr th:only-of-type {\n",
       "        vertical-align: middle;\n",
       "    }\n",
       "\n",
       "    .dataframe tbody tr th {\n",
       "        vertical-align: top;\n",
       "    }\n",
       "\n",
       "    .dataframe thead th {\n",
       "        text-align: right;\n",
       "    }\n",
       "</style>\n",
       "<table border=\"1\" class=\"dataframe\">\n",
       "  <thead>\n",
       "    <tr style=\"text-align: right;\">\n",
       "      <th></th>\n",
       "      <th>IDMOROSO</th>\n",
       "      <th>IDCLIENTE</th>\n",
       "      <th>ESTADO</th>\n",
       "      <th>NOMBRE</th>\n",
       "    </tr>\n",
       "  </thead>\n",
       "  <tbody>\n",
       "    <tr>\n",
       "      <th>0</th>\n",
       "      <td>20185650929</td>\n",
       "      <td>AMEX_TNRM</td>\n",
       "      <td>SKIP LEVEL1 OK</td>\n",
       "      <td>ALEJANDRO LUCANO</td>\n",
       "    </tr>\n",
       "    <tr>\n",
       "      <th>1</th>\n",
       "      <td>20217233047</td>\n",
       "      <td>AMEX_PARM</td>\n",
       "      <td>NO UBICADO</td>\n",
       "      <td>RAUL ANIBAL MELGAREJO</td>\n",
       "    </tr>\n",
       "    <tr>\n",
       "      <th>2</th>\n",
       "      <td>20249174182</td>\n",
       "      <td>AMEX_PBRM</td>\n",
       "      <td>INTERESADO</td>\n",
       "      <td>JUAN BECERRA</td>\n",
       "    </tr>\n",
       "    <tr>\n",
       "      <th>3</th>\n",
       "      <td>23129870869</td>\n",
       "      <td>AMEX_TNLM</td>\n",
       "      <td>SKIP LEVEL1 OK</td>\n",
       "      <td>JUAN ANTONIO GUERRA</td>\n",
       "    </tr>\n",
       "    <tr>\n",
       "      <th>4</th>\n",
       "      <td>27052550322</td>\n",
       "      <td>AMEX_TNRM</td>\n",
       "      <td>SKIP LEVEL1 OK</td>\n",
       "      <td>MIRTA MABEL NAVE</td>\n",
       "    </tr>\n",
       "  </tbody>\n",
       "</table>\n",
       "</div>"
      ],
      "text/plain": [
       "                         IDMOROSO             IDCLIENTE                ESTADO  \\\n",
       "0  20185650929                     AMEX_TNRM             SKIP LEVEL1 OK         \n",
       "1  20217233047                     AMEX_PARM             NO UBICADO             \n",
       "2  20249174182                     AMEX_PBRM             INTERESADO             \n",
       "3  23129870869                     AMEX_TNLM             SKIP LEVEL1 OK         \n",
       "4  27052550322                     AMEX_TNRM             SKIP LEVEL1 OK         \n",
       "\n",
       "                                     NOMBRE  \n",
       "0  ALEJANDRO LUCANO                          \n",
       "1  RAUL ANIBAL MELGAREJO                     \n",
       "2  JUAN BECERRA                              \n",
       "3  JUAN ANTONIO GUERRA                       \n",
       "4  MIRTA MABEL NAVE                          "
      ]
     },
     "execution_count": 3,
     "metadata": {},
     "output_type": "execute_result"
    }
   ],
   "source": [
    "df.head()"
   ]
  },
  {
   "cell_type": "code",
   "execution_count": 4,
   "id": "ruled-password",
   "metadata": {},
   "outputs": [
    {
     "data": {
      "text/plain": [
       "(3242, 4)"
      ]
     },
     "execution_count": 4,
     "metadata": {},
     "output_type": "execute_result"
    }
   ],
   "source": [
    "df.shape"
   ]
  },
  {
   "cell_type": "code",
   "execution_count": 5,
   "id": "consistent-belgium",
   "metadata": {},
   "outputs": [],
   "source": [
    "df['IDMOROSO'] = df['IDMOROSO'].str.strip()"
   ]
  },
  {
   "cell_type": "code",
   "execution_count": 6,
   "id": "handy-grammar",
   "metadata": {},
   "outputs": [],
   "source": [
    "df['NRO_DOC'] = df['IDMOROSO']"
   ]
  },
  {
   "cell_type": "code",
   "execution_count": 7,
   "id": "interesting-likelihood",
   "metadata": {},
   "outputs": [],
   "source": [
    "df = df.dropna(subset=['NRO_DOC'])"
   ]
  },
  {
   "cell_type": "code",
   "execution_count": 8,
   "id": "necessary-leather",
   "metadata": {},
   "outputs": [
    {
     "data": {
      "text/plain": [
       "(3242, 5)"
      ]
     },
     "execution_count": 8,
     "metadata": {},
     "output_type": "execute_result"
    }
   ],
   "source": [
    "df.shape"
   ]
  },
  {
   "cell_type": "markdown",
   "id": "caring-consolidation",
   "metadata": {},
   "source": [
    "## 12.2) DNI Cleaning"
   ]
  },
  {
   "cell_type": "markdown",
   "id": "minute-challenge",
   "metadata": {},
   "source": [
    "Limpiamos el dataframe __df__, ya que dentro de DATO_A_ENVIAR tenemos 9 tipos de casos diferentes de datos:\n",
    "\n",
    "- DNI 12345678\n",
    "- DNI12345678\n",
    "- DNIE1234678\n",
    "- LC  1234567\n",
    "- LE  1234567\n",
    "- CUIT00123456780\n",
    "- 00123456780 --> Es un CUIT.\n",
    "- 00 12345678 0 --> Es un CUIT.\n",
    "- DNI 00123456780 --> Dice DNI pero es un CUIT de una persona __jurídica__ (TO DO)"
   ]
  },
  {
   "cell_type": "markdown",
   "id": "virgin-accessory",
   "metadata": {},
   "source": [
    "Para eso definimos 5 funciones:\n",
    "\n",
    "- __Tipo_DOC__: Se definen dos funciones para determinar el tipo de DNI. Una inicial, y otra para corregir sobre el dataframe resultante.\n",
    "- __Standard DNI__: Estandariza los DNI para 7 de los casos. Esta función debe ejecutarse en primer lugar.\n",
    "- __DNI Spaces__: Elimina los espacios.\n",
    "- __DNI Zero__: Elimina los ceros iniciales de ciertos CUITs para que coincidan con los DNI.\n",
    "- __Cuit__: Decisión sobre dejar un cuit o volverlo DNI"
   ]
  },
  {
   "cell_type": "code",
   "execution_count": 9,
   "id": "divided-courtesy",
   "metadata": {},
   "outputs": [],
   "source": [
    "def tipo_doc_1 (string_dni):\n",
    "    \n",
    "    if 'DNI' in string_dni:\n",
    "        tipo = 'DNI'\n",
    "    \n",
    "    elif 'LC' in string_dni:\n",
    "        tipo = 'LC'\n",
    "    \n",
    "    elif 'LE' in string_dni:\n",
    "        tipo = 'LE'\n",
    "    \n",
    "    elif 'DNIE' in string_dni:\n",
    "        tipo = 'DNIE'    \n",
    "    \n",
    "    elif ((string_dni.startswith(('CUIT30','CUIT33','CUIT34'))) & (len(string_dni)>8)):\n",
    "        tipo = 'CUIT'\n",
    "        \n",
    "    elif ((string_dni.startswith(('30','33','34'))) & (len(string_dni)>8)):\n",
    "        tipo = 'CUIT'\n",
    "\n",
    "    elif ((string_dni.startswith(('20','23','24','27'))) & (len(string_dni)>8)):\n",
    "        tipo = 'DNI'\n",
    "\n",
    "    elif ((string_dni.startswith(('CUIT20','CUIT23','CUIT24','CUIT27'))) & (len(string_dni)>8)):\n",
    "        tipo = 'DNI'\n",
    "        \n",
    "    else:\n",
    "        tipo = 'DNI'\n",
    "    \n",
    "    return tipo"
   ]
  },
  {
   "cell_type": "code",
   "execution_count": 10,
   "id": "passive-egypt",
   "metadata": {},
   "outputs": [],
   "source": [
    "def tipo_doc_2 (string_dni, tipo_original):\n",
    "    \n",
    "    if (len(string_dni) > 8) & (tipo_original == 'DNI'):\n",
    "        tipo = 'CUIT'\n",
    "    else:\n",
    "        tipo = tipo_original\n",
    "    return tipo"
   ]
  },
  {
   "cell_type": "code",
   "execution_count": 11,
   "id": "loose-narrow",
   "metadata": {},
   "outputs": [],
   "source": [
    "def standard_dni (string_dni):\n",
    "    \"\"\"DNI separation by each case.\n",
    "    \"\"\"\n",
    "    \n",
    "    if 'DNI ' in string_dni:\n",
    "        dni = string_dni.split('DNI ')[1]\n",
    "        \n",
    "    elif 'DNIE' in string_dni:\n",
    "        dni = string_dni.split('DNIE')[1]\n",
    "    \n",
    "    elif 'DNI' in string_dni:\n",
    "        dni = string_dni.split('DNI')[1]\n",
    "    \n",
    "    elif 'LC  ' in string_dni:\n",
    "        dni = string_dni.split('LC  ')[1]\n",
    "    \n",
    "    elif 'LE  ' in string_dni:\n",
    "        dni = string_dni.split('LE  ')[1]\n",
    "    \n",
    "    elif 'CUIT' in string_dni:\n",
    "        dni = string_dni.split('CUIT')[1]\n",
    "        \n",
    "    else:\n",
    "        dni = string_dni\n",
    "        \n",
    "    return dni"
   ]
  },
  {
   "cell_type": "code",
   "execution_count": 12,
   "id": "standard-literacy",
   "metadata": {},
   "outputs": [],
   "source": [
    "def dni_characters (string_dni):\n",
    "    \n",
    "    if ' ' in string_dni:\n",
    "        dni = string_dni.replace(' ','')\n",
    "        \n",
    "    elif '-' in string_dni:\n",
    "        dni = string_dni.replace('-','')\n",
    "\n",
    "    else:\n",
    "        dni = string_dni\n",
    "    \n",
    "    return dni"
   ]
  },
  {
   "cell_type": "code",
   "execution_count": 13,
   "id": "meaningful-longer",
   "metadata": {},
   "outputs": [],
   "source": [
    "def cuit (string_dni):\n",
    "    \n",
    "    if ((string_dni.startswith('20')) & (len(string_dni)>8)):\n",
    "        cuit = string_dni [2:-1]\n",
    "        \n",
    "    elif ((string_dni.startswith('23')) & (len(string_dni)>8)):\n",
    "        cuit = string_dni [2:-1]\n",
    "        \n",
    "    elif ((string_dni.startswith('24')) & (len(string_dni)>8)):\n",
    "        cuit = string_dni [2:-1]\n",
    "\n",
    "    elif ((string_dni.startswith('27')) & (len(string_dni)>8)):\n",
    "        cuit = string_dni [2:-1]\n",
    "\n",
    "    else:\n",
    "        cuit = string_dni\n",
    "        \n",
    "    return cuit"
   ]
  },
  {
   "cell_type": "code",
   "execution_count": 14,
   "id": "unlike-bridge",
   "metadata": {},
   "outputs": [],
   "source": [
    "def dni_zero (string_dni):\n",
    "    \n",
    "    if string_dni.startswith('0'):\n",
    "        dni = string_dni [1:]\n",
    "\n",
    "    else:\n",
    "        dni = string_dni\n",
    "    \n",
    "    return dni"
   ]
  },
  {
   "cell_type": "markdown",
   "id": "substantial-camera",
   "metadata": {},
   "source": [
    "En primer lugar, trimmeamos los espacios que sobran:"
   ]
  },
  {
   "cell_type": "code",
   "execution_count": 15,
   "id": "proper-clause",
   "metadata": {},
   "outputs": [],
   "source": [
    "df['NRO_DOC'] = [(str(df['NRO_DOC'][i]).strip()) for i in range (df['NRO_DOC'].count())]"
   ]
  },
  {
   "cell_type": "markdown",
   "id": "structured-bandwidth",
   "metadata": {},
   "source": [
    "Se implementan estas funciones:"
   ]
  },
  {
   "cell_type": "markdown",
   "id": "promotional-grounds",
   "metadata": {},
   "source": [
    "Para determinar el __TIPO DE DOCUMENTO__ en primer lugar:"
   ]
  },
  {
   "cell_type": "code",
   "execution_count": 16,
   "id": "copyrighted-brother",
   "metadata": {},
   "outputs": [],
   "source": [
    "df['TIPO_DOC'] = [tipo_doc_1(df['NRO_DOC'][i]) for i in range (df['NRO_DOC'].count())]"
   ]
  },
  {
   "cell_type": "markdown",
   "id": "ruled-boxing",
   "metadata": {},
   "source": [
    "Para la limpieza de DNIs:"
   ]
  },
  {
   "cell_type": "code",
   "execution_count": 17,
   "id": "pressed-dominican",
   "metadata": {},
   "outputs": [],
   "source": [
    "df['NRO_DOC'] = [standard_dni(df['NRO_DOC'][i]) for i in range (df['NRO_DOC'].count())]"
   ]
  },
  {
   "cell_type": "code",
   "execution_count": 18,
   "id": "standing-editing",
   "metadata": {},
   "outputs": [],
   "source": [
    "df['NRO_DOC'] = [dni_characters(df['NRO_DOC'][i]) for i in range (df['NRO_DOC'].count())]"
   ]
  },
  {
   "cell_type": "code",
   "execution_count": 19,
   "id": "demanding-feeling",
   "metadata": {},
   "outputs": [],
   "source": [
    "df['NRO_DOC'] = [cuit(df['NRO_DOC'][i]) for i in range (df['NRO_DOC'].count())]"
   ]
  },
  {
   "cell_type": "code",
   "execution_count": 20,
   "id": "economic-yesterday",
   "metadata": {},
   "outputs": [],
   "source": [
    "df['NRO_DOC'] = [dni_zero(df['NRO_DOC'][i]) for i in range (df['NRO_DOC'].count())]"
   ]
  },
  {
   "cell_type": "markdown",
   "id": "normal-helena",
   "metadata": {},
   "source": [
    "Para corregir el __TIPO DE DOCUMENTO__ sobre el dataframe resultante"
   ]
  },
  {
   "cell_type": "code",
   "execution_count": 21,
   "id": "identified-constitutional",
   "metadata": {},
   "outputs": [],
   "source": [
    "df['TIPO_DOC'] = [tipo_doc_2(df['NRO_DOC'][i],df['TIPO_DOC'][i]) for i in range (df['NRO_DOC'].count())]"
   ]
  },
  {
   "cell_type": "code",
   "execution_count": 22,
   "id": "damaged-armenia",
   "metadata": {
    "scrolled": true
   },
   "outputs": [
    {
     "data": {
      "text/html": [
       "<div>\n",
       "<style scoped>\n",
       "    .dataframe tbody tr th:only-of-type {\n",
       "        vertical-align: middle;\n",
       "    }\n",
       "\n",
       "    .dataframe tbody tr th {\n",
       "        vertical-align: top;\n",
       "    }\n",
       "\n",
       "    .dataframe thead th {\n",
       "        text-align: right;\n",
       "    }\n",
       "</style>\n",
       "<table border=\"1\" class=\"dataframe\">\n",
       "  <thead>\n",
       "    <tr style=\"text-align: right;\">\n",
       "      <th></th>\n",
       "      <th>IDMOROSO</th>\n",
       "      <th>IDCLIENTE</th>\n",
       "      <th>ESTADO</th>\n",
       "      <th>NOMBRE</th>\n",
       "      <th>NRO_DOC</th>\n",
       "      <th>TIPO_DOC</th>\n",
       "    </tr>\n",
       "  </thead>\n",
       "  <tbody>\n",
       "    <tr>\n",
       "      <th>0</th>\n",
       "      <td>20185650929</td>\n",
       "      <td>AMEX_TNRM</td>\n",
       "      <td>SKIP LEVEL1 OK</td>\n",
       "      <td>ALEJANDRO LUCANO</td>\n",
       "      <td>18565092</td>\n",
       "      <td>DNI</td>\n",
       "    </tr>\n",
       "    <tr>\n",
       "      <th>1</th>\n",
       "      <td>20217233047</td>\n",
       "      <td>AMEX_PARM</td>\n",
       "      <td>NO UBICADO</td>\n",
       "      <td>RAUL ANIBAL MELGAREJO</td>\n",
       "      <td>21723304</td>\n",
       "      <td>DNI</td>\n",
       "    </tr>\n",
       "    <tr>\n",
       "      <th>2</th>\n",
       "      <td>20249174182</td>\n",
       "      <td>AMEX_PBRM</td>\n",
       "      <td>INTERESADO</td>\n",
       "      <td>JUAN BECERRA</td>\n",
       "      <td>24917418</td>\n",
       "      <td>DNI</td>\n",
       "    </tr>\n",
       "    <tr>\n",
       "      <th>3</th>\n",
       "      <td>23129870869</td>\n",
       "      <td>AMEX_TNLM</td>\n",
       "      <td>SKIP LEVEL1 OK</td>\n",
       "      <td>JUAN ANTONIO GUERRA</td>\n",
       "      <td>12987086</td>\n",
       "      <td>DNI</td>\n",
       "    </tr>\n",
       "    <tr>\n",
       "      <th>4</th>\n",
       "      <td>27052550322</td>\n",
       "      <td>AMEX_TNRM</td>\n",
       "      <td>SKIP LEVEL1 OK</td>\n",
       "      <td>MIRTA MABEL NAVE</td>\n",
       "      <td>5255032</td>\n",
       "      <td>DNI</td>\n",
       "    </tr>\n",
       "  </tbody>\n",
       "</table>\n",
       "</div>"
      ],
      "text/plain": [
       "      IDMOROSO             IDCLIENTE                ESTADO  \\\n",
       "0  20185650929  AMEX_TNRM             SKIP LEVEL1 OK         \n",
       "1  20217233047  AMEX_PARM             NO UBICADO             \n",
       "2  20249174182  AMEX_PBRM             INTERESADO             \n",
       "3  23129870869  AMEX_TNLM             SKIP LEVEL1 OK         \n",
       "4  27052550322  AMEX_TNRM             SKIP LEVEL1 OK         \n",
       "\n",
       "                                     NOMBRE   NRO_DOC TIPO_DOC  \n",
       "0  ALEJANDRO LUCANO                          18565092      DNI  \n",
       "1  RAUL ANIBAL MELGAREJO                     21723304      DNI  \n",
       "2  JUAN BECERRA                              24917418      DNI  \n",
       "3  JUAN ANTONIO GUERRA                       12987086      DNI  \n",
       "4  MIRTA MABEL NAVE                           5255032      DNI  "
      ]
     },
     "execution_count": 22,
     "metadata": {},
     "output_type": "execute_result"
    }
   ],
   "source": [
    "df.head()"
   ]
  },
  {
   "cell_type": "code",
   "execution_count": 23,
   "id": "foster-perry",
   "metadata": {
    "scrolled": true
   },
   "outputs": [
    {
     "data": {
      "text/html": [
       "<div>\n",
       "<style scoped>\n",
       "    .dataframe tbody tr th:only-of-type {\n",
       "        vertical-align: middle;\n",
       "    }\n",
       "\n",
       "    .dataframe tbody tr th {\n",
       "        vertical-align: top;\n",
       "    }\n",
       "\n",
       "    .dataframe thead th {\n",
       "        text-align: right;\n",
       "    }\n",
       "</style>\n",
       "<table border=\"1\" class=\"dataframe\">\n",
       "  <thead>\n",
       "    <tr style=\"text-align: right;\">\n",
       "      <th></th>\n",
       "      <th>IDMOROSO</th>\n",
       "      <th>IDCLIENTE</th>\n",
       "      <th>ESTADO</th>\n",
       "      <th>NOMBRE</th>\n",
       "      <th>NRO_DOC</th>\n",
       "      <th>TIPO_DOC</th>\n",
       "    </tr>\n",
       "  </thead>\n",
       "  <tbody>\n",
       "    <tr>\n",
       "      <th>3237</th>\n",
       "      <td>DNIE95671863</td>\n",
       "      <td>BSR_TARDIA</td>\n",
       "      <td>NO VISTO</td>\n",
       "      <td>EDGAR ALFONSO,CASTELLANO PI#A</td>\n",
       "      <td>95671863</td>\n",
       "      <td>DNI</td>\n",
       "    </tr>\n",
       "    <tr>\n",
       "      <th>3238</th>\n",
       "      <td>DNIE95682881</td>\n",
       "      <td>BSR_TARDIA</td>\n",
       "      <td>NO VISTO</td>\n",
       "      <td>DIEGO RAMON,CABRERA DOMINGUEZ</td>\n",
       "      <td>95682881</td>\n",
       "      <td>DNI</td>\n",
       "    </tr>\n",
       "    <tr>\n",
       "      <th>3239</th>\n",
       "      <td>DNIE95789827</td>\n",
       "      <td>BSR_TARDIA</td>\n",
       "      <td>NO VISTO</td>\n",
       "      <td>TARSO AUGUSTO,BARROS CAMPOS</td>\n",
       "      <td>95789827</td>\n",
       "      <td>DNI</td>\n",
       "    </tr>\n",
       "    <tr>\n",
       "      <th>3240</th>\n",
       "      <td>DNIE95881382</td>\n",
       "      <td>BSR_TARDIA</td>\n",
       "      <td>NO VISTO</td>\n",
       "      <td>TEQUEILA,BATISTA SILVA TAVARE</td>\n",
       "      <td>95881382</td>\n",
       "      <td>DNI</td>\n",
       "    </tr>\n",
       "    <tr>\n",
       "      <th>3241</th>\n",
       "      <td>DNIE95908456</td>\n",
       "      <td>BSR_TARDIA</td>\n",
       "      <td>NO VISTO</td>\n",
       "      <td>RICHARD,CARDOZO VAZ TRAJANO</td>\n",
       "      <td>95908456</td>\n",
       "      <td>DNI</td>\n",
       "    </tr>\n",
       "  </tbody>\n",
       "</table>\n",
       "</div>"
      ],
      "text/plain": [
       "          IDMOROSO             IDCLIENTE                ESTADO  \\\n",
       "3237  DNIE95671863  BSR_TARDIA            NO VISTO               \n",
       "3238  DNIE95682881  BSR_TARDIA            NO VISTO               \n",
       "3239  DNIE95789827  BSR_TARDIA            NO VISTO               \n",
       "3240  DNIE95881382  BSR_TARDIA            NO VISTO               \n",
       "3241  DNIE95908456  BSR_TARDIA            NO VISTO               \n",
       "\n",
       "                                        NOMBRE   NRO_DOC TIPO_DOC  \n",
       "3237  EDGAR ALFONSO,CASTELLANO PI#A             95671863      DNI  \n",
       "3238  DIEGO RAMON,CABRERA DOMINGUEZ             95682881      DNI  \n",
       "3239  TARSO AUGUSTO,BARROS CAMPOS               95789827      DNI  \n",
       "3240  TEQUEILA,BATISTA SILVA TAVARE             95881382      DNI  \n",
       "3241  RICHARD,CARDOZO VAZ TRAJANO               95908456      DNI  "
      ]
     },
     "execution_count": 23,
     "metadata": {},
     "output_type": "execute_result"
    }
   ],
   "source": [
    "df.tail()"
   ]
  },
  {
   "cell_type": "code",
   "execution_count": 24,
   "id": "passing-whole",
   "metadata": {},
   "outputs": [],
   "source": [
    "df_export = df.rename(columns={'NRO_DOC':'DOCUMENTO','TIPO_DOC':'TIPO'})"
   ]
  },
  {
   "cell_type": "code",
   "execution_count": 25,
   "id": "dated-vanilla",
   "metadata": {},
   "outputs": [],
   "source": [
    "df_export = df_export [['TIPO','DOCUMENTO','NOMBRE']]"
   ]
  },
  {
   "cell_type": "code",
   "execution_count": 26,
   "id": "finite-public",
   "metadata": {},
   "outputs": [
    {
     "data": {
      "text/html": [
       "<div>\n",
       "<style scoped>\n",
       "    .dataframe tbody tr th:only-of-type {\n",
       "        vertical-align: middle;\n",
       "    }\n",
       "\n",
       "    .dataframe tbody tr th {\n",
       "        vertical-align: top;\n",
       "    }\n",
       "\n",
       "    .dataframe thead th {\n",
       "        text-align: right;\n",
       "    }\n",
       "</style>\n",
       "<table border=\"1\" class=\"dataframe\">\n",
       "  <thead>\n",
       "    <tr style=\"text-align: right;\">\n",
       "      <th></th>\n",
       "      <th>TIPO</th>\n",
       "      <th>DOCUMENTO</th>\n",
       "      <th>NOMBRE</th>\n",
       "    </tr>\n",
       "  </thead>\n",
       "  <tbody>\n",
       "    <tr>\n",
       "      <th>0</th>\n",
       "      <td>DNI</td>\n",
       "      <td>18565092</td>\n",
       "      <td>ALEJANDRO LUCANO</td>\n",
       "    </tr>\n",
       "    <tr>\n",
       "      <th>1</th>\n",
       "      <td>DNI</td>\n",
       "      <td>21723304</td>\n",
       "      <td>RAUL ANIBAL MELGAREJO</td>\n",
       "    </tr>\n",
       "    <tr>\n",
       "      <th>2</th>\n",
       "      <td>DNI</td>\n",
       "      <td>24917418</td>\n",
       "      <td>JUAN BECERRA</td>\n",
       "    </tr>\n",
       "    <tr>\n",
       "      <th>3</th>\n",
       "      <td>DNI</td>\n",
       "      <td>12987086</td>\n",
       "      <td>JUAN ANTONIO GUERRA</td>\n",
       "    </tr>\n",
       "    <tr>\n",
       "      <th>4</th>\n",
       "      <td>DNI</td>\n",
       "      <td>5255032</td>\n",
       "      <td>MIRTA MABEL NAVE</td>\n",
       "    </tr>\n",
       "  </tbody>\n",
       "</table>\n",
       "</div>"
      ],
      "text/plain": [
       "  TIPO DOCUMENTO                                    NOMBRE\n",
       "0  DNI  18565092  ALEJANDRO LUCANO                        \n",
       "1  DNI  21723304  RAUL ANIBAL MELGAREJO                   \n",
       "2  DNI  24917418  JUAN BECERRA                            \n",
       "3  DNI  12987086  JUAN ANTONIO GUERRA                     \n",
       "4  DNI   5255032  MIRTA MABEL NAVE                        "
      ]
     },
     "execution_count": 26,
     "metadata": {},
     "output_type": "execute_result"
    }
   ],
   "source": [
    "df_export.head()"
   ]
  },
  {
   "cell_type": "code",
   "execution_count": 27,
   "id": "emerging-tutorial",
   "metadata": {},
   "outputs": [
    {
     "data": {
      "text/plain": [
       "(3242, 3)"
      ]
     },
     "execution_count": 27,
     "metadata": {},
     "output_type": "execute_result"
    }
   ],
   "source": [
    "df_export.shape"
   ]
  },
  {
   "cell_type": "code",
   "execution_count": 28,
   "id": "strange-graham",
   "metadata": {},
   "outputs": [],
   "source": [
    "# Export to csv cuando se requiera enviar"
   ]
  },
  {
   "cell_type": "code",
   "execution_count": null,
   "id": "quick-athletics",
   "metadata": {},
   "outputs": [],
   "source": []
  }
 ],
 "metadata": {
  "kernelspec": {
   "display_name": "Python 3",
   "language": "python",
   "name": "python3"
  },
  "language_info": {
   "codemirror_mode": {
    "name": "ipython",
    "version": 3
   },
   "file_extension": ".py",
   "mimetype": "text/x-python",
   "name": "python",
   "nbconvert_exporter": "python",
   "pygments_lexer": "ipython3",
   "version": "3.8.6"
  }
 },
 "nbformat": 4,
 "nbformat_minor": 5
}
