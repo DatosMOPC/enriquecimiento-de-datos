{
 "cells": [
  {
   "cell_type": "code",
   "execution_count": 1,
   "metadata": {},
   "outputs": [],
   "source": [
    "import pandas as pd\n",
    "import numpy as np"
   ]
  },
  {
   "cell_type": "markdown",
   "metadata": {},
   "source": [
    "# LOG"
   ]
  },
  {
   "cell_type": "markdown",
   "metadata": {},
   "source": [
    "# 1. Datos enviados"
   ]
  },
  {
   "cell_type": "code",
   "execution_count": 2,
   "metadata": {},
   "outputs": [],
   "source": [
    "df_log = pd.read_csv('/mnt/c/Users/Dleg/Data/MOPC/MOPC/Enriquecimiento de Datos/Data Cleaning/PyP/Datasets/Datasets enviados/0209-MOPC-PEDIDO DE DATOS - Estado.csv')"
   ]
  },
  {
   "cell_type": "code",
   "execution_count": 3,
   "metadata": {
    "scrolled": true
   },
   "outputs": [
    {
     "data": {
      "text/html": [
       "<div>\n",
       "<style scoped>\n",
       "    .dataframe tbody tr th:only-of-type {\n",
       "        vertical-align: middle;\n",
       "    }\n",
       "\n",
       "    .dataframe tbody tr th {\n",
       "        vertical-align: top;\n",
       "    }\n",
       "\n",
       "    .dataframe thead th {\n",
       "        text-align: right;\n",
       "    }\n",
       "</style>\n",
       "<table border=\"1\" class=\"dataframe\">\n",
       "  <thead>\n",
       "    <tr style=\"text-align: right;\">\n",
       "      <th></th>\n",
       "      <th>IDMOROSO</th>\n",
       "      <th>IDCLIENTE</th>\n",
       "      <th>ESTADO</th>\n",
       "    </tr>\n",
       "  </thead>\n",
       "  <tbody>\n",
       "    <tr>\n",
       "      <th>0</th>\n",
       "      <td>DNI 10039621</td>\n",
       "      <td>BSR_TARDIA</td>\n",
       "      <td>NO VISTO</td>\n",
       "    </tr>\n",
       "    <tr>\n",
       "      <th>1</th>\n",
       "      <td>DNI 10197951</td>\n",
       "      <td>BSR_TARDIA</td>\n",
       "      <td>NO VISTO</td>\n",
       "    </tr>\n",
       "    <tr>\n",
       "      <th>2</th>\n",
       "      <td>DNI 10248810</td>\n",
       "      <td>BSR_TARDIA</td>\n",
       "      <td>NO VISTO</td>\n",
       "    </tr>\n",
       "    <tr>\n",
       "      <th>3</th>\n",
       "      <td>DNI 10270696</td>\n",
       "      <td>BSR_TARDIA</td>\n",
       "      <td>NO VISTO</td>\n",
       "    </tr>\n",
       "    <tr>\n",
       "      <th>4</th>\n",
       "      <td>DNI 10363397</td>\n",
       "      <td>BSR_TARDIA</td>\n",
       "      <td>NO VISTO</td>\n",
       "    </tr>\n",
       "  </tbody>\n",
       "</table>\n",
       "</div>"
      ],
      "text/plain": [
       "             IDMOROSO             IDCLIENTE                ESTADO\n",
       "0  DNI 10039621        BSR_TARDIA            NO VISTO            \n",
       "1  DNI 10197951        BSR_TARDIA            NO VISTO            \n",
       "2  DNI 10248810        BSR_TARDIA            NO VISTO            \n",
       "3  DNI 10270696        BSR_TARDIA            NO VISTO            \n",
       "4  DNI 10363397        BSR_TARDIA            NO VISTO            "
      ]
     },
     "execution_count": 3,
     "metadata": {},
     "output_type": "execute_result"
    }
   ],
   "source": [
    "df_log.head()"
   ]
  },
  {
   "cell_type": "code",
   "execution_count": 4,
   "metadata": {},
   "outputs": [],
   "source": [
    "df_log = df_log.rename(columns={\"ESTADO\": \"ESTADO_ANTERIOR\"})"
   ]
  },
  {
   "cell_type": "code",
   "execution_count": 5,
   "metadata": {},
   "outputs": [],
   "source": [
    "#df_log = df_log [['IDMOROSO','IDCLIENTE','DATOADIC','ESTADO_ANTERIOR']]\n",
    "df_log = df_log [['IDMOROSO','IDCLIENTE','ESTADO_ANTERIOR']]"
   ]
  },
  {
   "cell_type": "code",
   "execution_count": 6,
   "metadata": {},
   "outputs": [],
   "source": [
    "fecha_envio_log = '2021-02-11'"
   ]
  },
  {
   "cell_type": "code",
   "execution_count": 7,
   "metadata": {},
   "outputs": [],
   "source": [
    "fecha_insercion_log = '2021-02-24'"
   ]
  },
  {
   "cell_type": "code",
   "execution_count": 8,
   "metadata": {},
   "outputs": [],
   "source": [
    "fecha_estados_log = '2021-02-24'"
   ]
  },
  {
   "cell_type": "code",
   "execution_count": 9,
   "metadata": {},
   "outputs": [],
   "source": [
    "df_log = df_log.assign(FECHA_ENVIO_ENRIQUECIMIENTO=fecha_envio_log)"
   ]
  },
  {
   "cell_type": "code",
   "execution_count": 10,
   "metadata": {},
   "outputs": [],
   "source": [
    "df_log = df_log.assign(FECHA_INSERCION_DATO=fecha_insercion_log)"
   ]
  },
  {
   "cell_type": "code",
   "execution_count": 11,
   "metadata": {},
   "outputs": [],
   "source": [
    "df_log = df_log.assign(FECHA_CAMBIO_ESTADO=fecha_estados_log)"
   ]
  },
  {
   "cell_type": "code",
   "execution_count": 12,
   "metadata": {
    "scrolled": true
   },
   "outputs": [
    {
     "data": {
      "text/html": [
       "<div>\n",
       "<style scoped>\n",
       "    .dataframe tbody tr th:only-of-type {\n",
       "        vertical-align: middle;\n",
       "    }\n",
       "\n",
       "    .dataframe tbody tr th {\n",
       "        vertical-align: top;\n",
       "    }\n",
       "\n",
       "    .dataframe thead th {\n",
       "        text-align: right;\n",
       "    }\n",
       "</style>\n",
       "<table border=\"1\" class=\"dataframe\">\n",
       "  <thead>\n",
       "    <tr style=\"text-align: right;\">\n",
       "      <th></th>\n",
       "      <th>IDMOROSO</th>\n",
       "      <th>IDCLIENTE</th>\n",
       "      <th>ESTADO_ANTERIOR</th>\n",
       "      <th>FECHA_ENVIO_ENRIQUECIMIENTO</th>\n",
       "      <th>FECHA_INSERCION_DATO</th>\n",
       "      <th>FECHA_CAMBIO_ESTADO</th>\n",
       "    </tr>\n",
       "  </thead>\n",
       "  <tbody>\n",
       "    <tr>\n",
       "      <th>0</th>\n",
       "      <td>DNI 10039621</td>\n",
       "      <td>BSR_TARDIA</td>\n",
       "      <td>NO VISTO</td>\n",
       "      <td>2021-02-11</td>\n",
       "      <td>2021-02-24</td>\n",
       "      <td>2021-02-24</td>\n",
       "    </tr>\n",
       "    <tr>\n",
       "      <th>1</th>\n",
       "      <td>DNI 10197951</td>\n",
       "      <td>BSR_TARDIA</td>\n",
       "      <td>NO VISTO</td>\n",
       "      <td>2021-02-11</td>\n",
       "      <td>2021-02-24</td>\n",
       "      <td>2021-02-24</td>\n",
       "    </tr>\n",
       "    <tr>\n",
       "      <th>2</th>\n",
       "      <td>DNI 10248810</td>\n",
       "      <td>BSR_TARDIA</td>\n",
       "      <td>NO VISTO</td>\n",
       "      <td>2021-02-11</td>\n",
       "      <td>2021-02-24</td>\n",
       "      <td>2021-02-24</td>\n",
       "    </tr>\n",
       "    <tr>\n",
       "      <th>3</th>\n",
       "      <td>DNI 10270696</td>\n",
       "      <td>BSR_TARDIA</td>\n",
       "      <td>NO VISTO</td>\n",
       "      <td>2021-02-11</td>\n",
       "      <td>2021-02-24</td>\n",
       "      <td>2021-02-24</td>\n",
       "    </tr>\n",
       "    <tr>\n",
       "      <th>4</th>\n",
       "      <td>DNI 10363397</td>\n",
       "      <td>BSR_TARDIA</td>\n",
       "      <td>NO VISTO</td>\n",
       "      <td>2021-02-11</td>\n",
       "      <td>2021-02-24</td>\n",
       "      <td>2021-02-24</td>\n",
       "    </tr>\n",
       "  </tbody>\n",
       "</table>\n",
       "</div>"
      ],
      "text/plain": [
       "             IDMOROSO             IDCLIENTE       ESTADO_ANTERIOR  \\\n",
       "0  DNI 10039621        BSR_TARDIA            NO VISTO               \n",
       "1  DNI 10197951        BSR_TARDIA            NO VISTO               \n",
       "2  DNI 10248810        BSR_TARDIA            NO VISTO               \n",
       "3  DNI 10270696        BSR_TARDIA            NO VISTO               \n",
       "4  DNI 10363397        BSR_TARDIA            NO VISTO               \n",
       "\n",
       "  FECHA_ENVIO_ENRIQUECIMIENTO FECHA_INSERCION_DATO FECHA_CAMBIO_ESTADO  \n",
       "0                  2021-02-11           2021-02-24          2021-02-24  \n",
       "1                  2021-02-11           2021-02-24          2021-02-24  \n",
       "2                  2021-02-11           2021-02-24          2021-02-24  \n",
       "3                  2021-02-11           2021-02-24          2021-02-24  \n",
       "4                  2021-02-11           2021-02-24          2021-02-24  "
      ]
     },
     "execution_count": 12,
     "metadata": {},
     "output_type": "execute_result"
    }
   ],
   "source": [
    "df_log.head()"
   ]
  },
  {
   "cell_type": "code",
   "execution_count": 13,
   "metadata": {},
   "outputs": [],
   "source": [
    "df_log = df_log.assign(PROVEEDOR='PYP')"
   ]
  },
  {
   "cell_type": "code",
   "execution_count": 14,
   "metadata": {},
   "outputs": [],
   "source": [
    "df_log['ESTADO_ANTERIOR'] = [(str(df_log['ESTADO_ANTERIOR'][i]).strip()) for i in range (df_log['ESTADO_ANTERIOR'].count())]"
   ]
  },
  {
   "cell_type": "code",
   "execution_count": 15,
   "metadata": {},
   "outputs": [],
   "source": [
    "df_log.loc[(df_log['ESTADO_ANTERIOR'] == 'INTERESADO') | \n",
    "           (df_log['ESTADO_ANTERIOR'] == 'NO VISTO') | \n",
    "           (df_log['ESTADO_ANTERIOR'] == 'EN GESTION') |\n",
    "           (df_log['ESTADO_ANTERIOR'] == 'ASIGNADO') |\n",
    "           (df_log['ESTADO_ANTERIOR'] == 'ROTACION') |\n",
    "           (df_log['ESTADO_ANTERIOR'] == 'ASIGNADO') |\n",
    "           (df_log['ESTADO_ANTERIOR'] == 'PLAN V') |\n",
    "           (df_log['ESTADO_ANTERIOR'] == 'NO INTERESADO') |\n",
    "           (df_log['ESTADO_ANTERIOR'] == 'ACUERDO CAIDO') |\n",
    "           (df_log['ESTADO_ANTERIOR'] == 'CANCELO_RECHAZADA') \n",
    "           , 'CATEGORIA'] = 'NEUTRO'"
   ]
  },
  {
   "cell_type": "code",
   "execution_count": 16,
   "metadata": {},
   "outputs": [],
   "source": [
    "df_log.loc[(df_log['ESTADO_ANTERIOR'] == 'NO UBICADO') | \n",
    "           (df_log['ESTADO_ANTERIOR'] == 'SKIP LEVEL') |\n",
    "           (df_log['ESTADO_ANTERIOR'] == 'SKIP LEVEL 1') |\n",
    "           (df_log['ESTADO_ANTERIOR'] == 'SKIP LEVEL 1 OK') |\n",
    "           (df_log['ESTADO_ANTERIOR'] == 'SKIP LEVEL 2') |\n",
    "           (df_log['ESTADO_ANTERIOR'] == 'SKIP LEVEL 3') |\n",
    "           (df_log['ESTADO_ANTERIOR'] == 'SKIP LEVEL 3 OK') |\n",
    "           (df_log['ESTADO_ANTERIOR'] == 'SKIP LEVEL3 OK') |\n",
    "           (df_log['ESTADO_ANTERIOR'] == 'SKIP LEVEL1 OK') |\n",
    "           (df_log['ESTADO_ANTERIOR'] == 'SKIP LEVEL1') |\n",
    "           (df_log['ESTADO_ANTERIOR'] == 'NO_VISTO_CONTACTABLE') |\n",
    "           (df_log['ESTADO_ANTERIOR'] == 'NO_VISTO_MASIVO') \n",
    "           , 'CATEGORIA'] = 'NEGATIVO POR CONTACTABILIDAD'"
   ]
  },
  {
   "cell_type": "code",
   "execution_count": 17,
   "metadata": {},
   "outputs": [],
   "source": [
    "df_log.loc[(df_log['ESTADO_ANTERIOR'] == 'PAGO PARCIAL') | \n",
    "           (df_log['ESTADO_ANTERIOR'] == 'PLAN DE PAGOS') |\n",
    "           (df_log['ESTADO_ANTERIOR'] == 'POSIBLE REFI') |\n",
    "           (df_log['ESTADO_ANTERIOR'] == 'REFINANCIACION') |\n",
    "           (df_log['ESTADO_ANTERIOR'] == 'PROPUESTA') |\n",
    "           (df_log['ESTADO_ANTERIOR'] == 'PROPUESTA OK') |\n",
    "           (df_log['ESTADO_ANTERIOR'] == 'COMPROMISO') |\n",
    "           (df_log['ESTADO_ANTERIOR'] == 'CANCELO') |\n",
    "           (df_log['ESTADO_ANTERIOR'] == 'CANCELO_DEVUELTO') |\n",
    "           (df_log['ESTADO_ANTERIOR'] == 'CANCELO DEVUELTO') |\n",
    "           (df_log['ESTADO_ANTERIOR'] == 'CANCELO FULL') |\n",
    "           (df_log['ESTADO_ANTERIOR'] == 'CANCELO SIN ACP') \n",
    "           , 'CATEGORIA'] = 'POSITIVO CON CAJA'"
   ]
  },
  {
   "cell_type": "code",
   "execution_count": 18,
   "metadata": {},
   "outputs": [],
   "source": [
    "df_log.loc[(df_log['ESTADO_ANTERIOR'] == 'CONVENIO') | \n",
    "           (df_log['ESTADO_ANTERIOR'] == 'CONVENIO QUITA') |\n",
    "           (df_log['ESTADO_ANTERIOR'] == 'NUEVOS CARGOS') |\n",
    "           (df_log['ESTADO_ANTERIOR'] == 'CONVENIO_QUITA') \n",
    "           , 'CATEGORIA'] = 'POSITIVO CON CAJA SOBRE COUTA'"
   ]
  },
  {
   "cell_type": "code",
   "execution_count": 19,
   "metadata": {},
   "outputs": [],
   "source": [
    "df_log.loc[(df_log['ESTADO_ANTERIOR'] == 'PROPUESTA REFI') | \n",
    "           (df_log['ESTADO_ANTERIOR'] == 'REFI ARMADA') |\n",
    "           (df_log['ESTADO_ANTERIOR'] == 'REFI EN TRAMITE') |\n",
    "           (df_log['ESTADO_ANTERIOR'] == 'REFI A LIQUIDAR') \n",
    "           , 'CATEGORIA'] = 'POSITIVO CON CAJA CON REFI PENDIENTE DE LIQUIDACIO'"
   ]
  },
  {
   "cell_type": "code",
   "execution_count": 20,
   "metadata": {},
   "outputs": [],
   "source": [
    "df_log.loc[(df_log['ESTADO_ANTERIOR'] == 'REFI APROBADA') | \n",
    "           (df_log['ESTADO_ANTERIOR'] == 'DEVUELTO/CANCELO CON COBRO DE HONORARIO PENDIENTE')\n",
    "           , 'CATEGORIA'] = 'POSITIVO CON CAJA CON REFI/CANCELACIÓN LIQUIDADA'"
   ]
  },
  {
   "cell_type": "code",
   "execution_count": 21,
   "metadata": {},
   "outputs": [],
   "source": [
    "df_log.loc[(df_log['ESTADO_ANTERIOR'] == 'DEVUELTO') | \n",
    "           (df_log['ESTADO_ANTERIOR'] == 'FALLECIDO') |\n",
    "           (df_log['ESTADO_ANTERIOR'] == 'PROBLEMA') |\n",
    "           (df_log['ESTADO_ANTERIOR'] == 'SALDO INSOLUTO') |\n",
    "           (df_log['ESTADO_ANTERIOR'] == 'NO GESTIONAR') \n",
    "           , 'CATEGORIA'] = 'INACTIVO'"
   ]
  },
  {
   "cell_type": "code",
   "execution_count": 22,
   "metadata": {
    "scrolled": true
   },
   "outputs": [
    {
     "data": {
      "text/plain": [
       "(1354, 8)"
      ]
     },
     "execution_count": 22,
     "metadata": {},
     "output_type": "execute_result"
    }
   ],
   "source": [
    "df_log.shape"
   ]
  },
  {
   "cell_type": "code",
   "execution_count": 23,
   "metadata": {},
   "outputs": [
    {
     "data": {
      "text/html": [
       "<div>\n",
       "<style scoped>\n",
       "    .dataframe tbody tr th:only-of-type {\n",
       "        vertical-align: middle;\n",
       "    }\n",
       "\n",
       "    .dataframe tbody tr th {\n",
       "        vertical-align: top;\n",
       "    }\n",
       "\n",
       "    .dataframe thead th {\n",
       "        text-align: right;\n",
       "    }\n",
       "</style>\n",
       "<table border=\"1\" class=\"dataframe\">\n",
       "  <thead>\n",
       "    <tr style=\"text-align: right;\">\n",
       "      <th></th>\n",
       "      <th>IDMOROSO</th>\n",
       "      <th>IDCLIENTE</th>\n",
       "      <th>ESTADO_ANTERIOR</th>\n",
       "      <th>FECHA_ENVIO_ENRIQUECIMIENTO</th>\n",
       "      <th>FECHA_INSERCION_DATO</th>\n",
       "      <th>FECHA_CAMBIO_ESTADO</th>\n",
       "      <th>PROVEEDOR</th>\n",
       "      <th>CATEGORIA</th>\n",
       "    </tr>\n",
       "  </thead>\n",
       "  <tbody>\n",
       "    <tr>\n",
       "      <th>0</th>\n",
       "      <td>DNI 10039621</td>\n",
       "      <td>BSR_TARDIA</td>\n",
       "      <td>NO VISTO</td>\n",
       "      <td>2021-02-11</td>\n",
       "      <td>2021-02-24</td>\n",
       "      <td>2021-02-24</td>\n",
       "      <td>PYP</td>\n",
       "      <td>NEUTRO</td>\n",
       "    </tr>\n",
       "    <tr>\n",
       "      <th>1</th>\n",
       "      <td>DNI 10197951</td>\n",
       "      <td>BSR_TARDIA</td>\n",
       "      <td>NO VISTO</td>\n",
       "      <td>2021-02-11</td>\n",
       "      <td>2021-02-24</td>\n",
       "      <td>2021-02-24</td>\n",
       "      <td>PYP</td>\n",
       "      <td>NEUTRO</td>\n",
       "    </tr>\n",
       "    <tr>\n",
       "      <th>2</th>\n",
       "      <td>DNI 10248810</td>\n",
       "      <td>BSR_TARDIA</td>\n",
       "      <td>NO VISTO</td>\n",
       "      <td>2021-02-11</td>\n",
       "      <td>2021-02-24</td>\n",
       "      <td>2021-02-24</td>\n",
       "      <td>PYP</td>\n",
       "      <td>NEUTRO</td>\n",
       "    </tr>\n",
       "    <tr>\n",
       "      <th>3</th>\n",
       "      <td>DNI 10270696</td>\n",
       "      <td>BSR_TARDIA</td>\n",
       "      <td>NO VISTO</td>\n",
       "      <td>2021-02-11</td>\n",
       "      <td>2021-02-24</td>\n",
       "      <td>2021-02-24</td>\n",
       "      <td>PYP</td>\n",
       "      <td>NEUTRO</td>\n",
       "    </tr>\n",
       "    <tr>\n",
       "      <th>4</th>\n",
       "      <td>DNI 10363397</td>\n",
       "      <td>BSR_TARDIA</td>\n",
       "      <td>NO VISTO</td>\n",
       "      <td>2021-02-11</td>\n",
       "      <td>2021-02-24</td>\n",
       "      <td>2021-02-24</td>\n",
       "      <td>PYP</td>\n",
       "      <td>NEUTRO</td>\n",
       "    </tr>\n",
       "  </tbody>\n",
       "</table>\n",
       "</div>"
      ],
      "text/plain": [
       "             IDMOROSO             IDCLIENTE ESTADO_ANTERIOR  \\\n",
       "0  DNI 10039621        BSR_TARDIA                  NO VISTO   \n",
       "1  DNI 10197951        BSR_TARDIA                  NO VISTO   \n",
       "2  DNI 10248810        BSR_TARDIA                  NO VISTO   \n",
       "3  DNI 10270696        BSR_TARDIA                  NO VISTO   \n",
       "4  DNI 10363397        BSR_TARDIA                  NO VISTO   \n",
       "\n",
       "  FECHA_ENVIO_ENRIQUECIMIENTO FECHA_INSERCION_DATO FECHA_CAMBIO_ESTADO  \\\n",
       "0                  2021-02-11           2021-02-24          2021-02-24   \n",
       "1                  2021-02-11           2021-02-24          2021-02-24   \n",
       "2                  2021-02-11           2021-02-24          2021-02-24   \n",
       "3                  2021-02-11           2021-02-24          2021-02-24   \n",
       "4                  2021-02-11           2021-02-24          2021-02-24   \n",
       "\n",
       "  PROVEEDOR CATEGORIA  \n",
       "0       PYP    NEUTRO  \n",
       "1       PYP    NEUTRO  \n",
       "2       PYP    NEUTRO  \n",
       "3       PYP    NEUTRO  \n",
       "4       PYP    NEUTRO  "
      ]
     },
     "execution_count": 23,
     "metadata": {},
     "output_type": "execute_result"
    }
   ],
   "source": [
    "df_log.head()"
   ]
  },
  {
   "cell_type": "markdown",
   "metadata": {},
   "source": [
    "## 2. Devolución de PyP"
   ]
  },
  {
   "cell_type": "markdown",
   "metadata": {},
   "source": [
    "Levantamos los DNIs desde el archivo que devuelve PyP para cruzar contra los IDs y ver cuáles están enriquecidos."
   ]
  },
  {
   "cell_type": "code",
   "execution_count": 24,
   "metadata": {},
   "outputs": [],
   "source": [
    "df_pyp = pd.read_excel('/mnt/c/users/Dleg/Data/MOPC/MOPC/Enriquecimiento de Datos/Data Cleaning/PyP/Datasets/Datasets recibidos/MOP - 11022021 -Enriquecido - Copy.xlsx',skiprows=2, header=[0,1])"
   ]
  },
  {
   "cell_type": "code",
   "execution_count": 25,
   "metadata": {
    "scrolled": false
   },
   "outputs": [
    {
     "data": {
      "text/html": [
       "<div>\n",
       "<style scoped>\n",
       "    .dataframe tbody tr th:only-of-type {\n",
       "        vertical-align: middle;\n",
       "    }\n",
       "\n",
       "    .dataframe tbody tr th {\n",
       "        vertical-align: top;\n",
       "    }\n",
       "\n",
       "    .dataframe thead tr th {\n",
       "        text-align: left;\n",
       "    }\n",
       "</style>\n",
       "<table border=\"1\" class=\"dataframe\">\n",
       "  <thead>\n",
       "    <tr>\n",
       "      <th></th>\n",
       "      <th>Unnamed: 0_level_0</th>\n",
       "      <th>Unnamed: 1_level_0</th>\n",
       "      <th>Unnamed: 2_level_0</th>\n",
       "      <th>Unnamed: 3_level_0</th>\n",
       "      <th>Unnamed: 4_level_0</th>\n",
       "      <th>Unnamed: 5_level_0</th>\n",
       "      <th>Unnamed: 6_level_0</th>\n",
       "      <th>Unnamed: 7_level_0</th>\n",
       "      <th>Unnamed: 8_level_0</th>\n",
       "      <th>Unnamed: 9_level_0</th>\n",
       "      <th>...</th>\n",
       "      <th colspan=\"7\" halign=\"left\">Contactacion Opcional (Familiar)</th>\n",
       "      <th colspan=\"3\" halign=\"left\">Contactacion Opcional (Vecino)</th>\n",
       "    </tr>\n",
       "    <tr>\n",
       "      <th></th>\n",
       "      <th>Cuil</th>\n",
       "      <th>Dni</th>\n",
       "      <th>Fecha de Nac.</th>\n",
       "      <th>Fecha de Defuncion</th>\n",
       "      <th>Sexo</th>\n",
       "      <th>Titular</th>\n",
       "      <th>Calle</th>\n",
       "      <th>Numero</th>\n",
       "      <th>Piso y Depto</th>\n",
       "      <th>Codigo Postal</th>\n",
       "      <th>...</th>\n",
       "      <th>Tel Fijo 2</th>\n",
       "      <th>Celular 1</th>\n",
       "      <th>Celular 2</th>\n",
       "      <th>Celular 3</th>\n",
       "      <th>Celular 4</th>\n",
       "      <th>Celular 5</th>\n",
       "      <th>Email</th>\n",
       "      <th>Nombre</th>\n",
       "      <th>Telefono</th>\n",
       "      <th>SCORE</th>\n",
       "    </tr>\n",
       "  </thead>\n",
       "  <tbody>\n",
       "    <tr>\n",
       "      <th>0</th>\n",
       "      <td>20140531562</td>\n",
       "      <td>14053156</td>\n",
       "      <td>1959-10-12</td>\n",
       "      <td>NaN</td>\n",
       "      <td>M</td>\n",
       "      <td>CALDERON JUAN DOMINGO</td>\n",
       "      <td>CALLE 8</td>\n",
       "      <td>378</td>\n",
       "      <td>NaN</td>\n",
       "      <td>2555</td>\n",
       "      <td>...</td>\n",
       "      <td>NaN</td>\n",
       "      <td>NaN</td>\n",
       "      <td>NaN</td>\n",
       "      <td>NaN</td>\n",
       "      <td>NaN</td>\n",
       "      <td>NaN</td>\n",
       "      <td>NaN</td>\n",
       "      <td>NaN</td>\n",
       "      <td>NaN</td>\n",
       "      <td>345</td>\n",
       "    </tr>\n",
       "    <tr>\n",
       "      <th>1</th>\n",
       "      <td>27281648867</td>\n",
       "      <td>28164886</td>\n",
       "      <td>1980-09-14</td>\n",
       "      <td>NaN</td>\n",
       "      <td>F</td>\n",
       "      <td>BAEZ CECILIA LUJAN</td>\n",
       "      <td>VILLAGUAY</td>\n",
       "      <td>2130</td>\n",
       "      <td>NaN</td>\n",
       "      <td>1849</td>\n",
       "      <td>...</td>\n",
       "      <td>NaN</td>\n",
       "      <td>NaN</td>\n",
       "      <td>NaN</td>\n",
       "      <td>NaN</td>\n",
       "      <td>NaN</td>\n",
       "      <td>NaN</td>\n",
       "      <td>NaN</td>\n",
       "      <td>LUJAN OLGA Y</td>\n",
       "      <td>1.142688e+09</td>\n",
       "      <td>34</td>\n",
       "    </tr>\n",
       "    <tr>\n",
       "      <th>2</th>\n",
       "      <td>20398295383</td>\n",
       "      <td>39829538</td>\n",
       "      <td>1996-07-25</td>\n",
       "      <td>NaN</td>\n",
       "      <td>M</td>\n",
       "      <td>CARDOZO SANTIAGO EDUARDO</td>\n",
       "      <td>PRES QUINTANA</td>\n",
       "      <td>1723</td>\n",
       "      <td>NaN</td>\n",
       "      <td>1615</td>\n",
       "      <td>...</td>\n",
       "      <td>NaN</td>\n",
       "      <td>NaN</td>\n",
       "      <td>NaN</td>\n",
       "      <td>NaN</td>\n",
       "      <td>NaN</td>\n",
       "      <td>NaN</td>\n",
       "      <td>NaN</td>\n",
       "      <td>NaN</td>\n",
       "      <td>NaN</td>\n",
       "      <td>345</td>\n",
       "    </tr>\n",
       "    <tr>\n",
       "      <th>3</th>\n",
       "      <td>20359239530</td>\n",
       "      <td>35923953</td>\n",
       "      <td>1992-02-12</td>\n",
       "      <td>NaN</td>\n",
       "      <td>M</td>\n",
       "      <td>BUSTOS CLEVERS CARLOS OCTAVIO</td>\n",
       "      <td>CARLOS M ALVEAR NORTE</td>\n",
       "      <td>143</td>\n",
       "      <td>NaN</td>\n",
       "      <td>5400</td>\n",
       "      <td>...</td>\n",
       "      <td>NaN</td>\n",
       "      <td>2.646737e+09</td>\n",
       "      <td>NaN</td>\n",
       "      <td>NaN</td>\n",
       "      <td>NaN</td>\n",
       "      <td>NaN</td>\n",
       "      <td>NaN</td>\n",
       "      <td>NaN</td>\n",
       "      <td>NaN</td>\n",
       "      <td>345</td>\n",
       "    </tr>\n",
       "    <tr>\n",
       "      <th>4</th>\n",
       "      <td>20939121383</td>\n",
       "      <td>93912138</td>\n",
       "      <td>1992-12-11</td>\n",
       "      <td>NaN</td>\n",
       "      <td>M</td>\n",
       "      <td>BENEGA LOPEZ ARNALDO ARIEL</td>\n",
       "      <td>CALLE 22</td>\n",
       "      <td>170</td>\n",
       "      <td>NaN</td>\n",
       "      <td>1743</td>\n",
       "      <td>...</td>\n",
       "      <td>NaN</td>\n",
       "      <td>NaN</td>\n",
       "      <td>NaN</td>\n",
       "      <td>NaN</td>\n",
       "      <td>NaN</td>\n",
       "      <td>NaN</td>\n",
       "      <td>NaN</td>\n",
       "      <td>NaN</td>\n",
       "      <td>NaN</td>\n",
       "      <td>345</td>\n",
       "    </tr>\n",
       "  </tbody>\n",
       "</table>\n",
       "<p>5 rows × 229 columns</p>\n",
       "</div>"
      ],
      "text/plain": [
       "  Unnamed: 0_level_0 Unnamed: 1_level_0 Unnamed: 2_level_0 Unnamed: 3_level_0  \\\n",
       "                Cuil                Dni      Fecha de Nac. Fecha de Defuncion   \n",
       "0        20140531562           14053156         1959-10-12                NaN   \n",
       "1        27281648867           28164886         1980-09-14                NaN   \n",
       "2        20398295383           39829538         1996-07-25                NaN   \n",
       "3        20359239530           35923953         1992-02-12                NaN   \n",
       "4        20939121383           93912138         1992-12-11                NaN   \n",
       "\n",
       "  Unnamed: 4_level_0             Unnamed: 5_level_0     Unnamed: 6_level_0  \\\n",
       "                Sexo                        Titular                  Calle   \n",
       "0                  M          CALDERON JUAN DOMINGO                CALLE 8   \n",
       "1                  F             BAEZ CECILIA LUJAN              VILLAGUAY   \n",
       "2                  M       CARDOZO SANTIAGO EDUARDO          PRES QUINTANA   \n",
       "3                  M  BUSTOS CLEVERS CARLOS OCTAVIO  CARLOS M ALVEAR NORTE   \n",
       "4                  M     BENEGA LOPEZ ARNALDO ARIEL               CALLE 22   \n",
       "\n",
       "  Unnamed: 7_level_0 Unnamed: 8_level_0 Unnamed: 9_level_0  ...  \\\n",
       "              Numero       Piso y Depto      Codigo Postal  ...   \n",
       "0                378                NaN               2555  ...   \n",
       "1               2130                NaN               1849  ...   \n",
       "2               1723                NaN               1615  ...   \n",
       "3                143                NaN               5400  ...   \n",
       "4                170                NaN               1743  ...   \n",
       "\n",
       "  Contactacion Opcional (Familiar)                                    \\\n",
       "                        Tel Fijo 2     Celular 1 Celular 2 Celular 3   \n",
       "0                              NaN           NaN       NaN       NaN   \n",
       "1                              NaN           NaN       NaN       NaN   \n",
       "2                              NaN           NaN       NaN       NaN   \n",
       "3                              NaN  2.646737e+09       NaN       NaN   \n",
       "4                              NaN           NaN       NaN       NaN   \n",
       "\n",
       "                            Contactacion Opcional (Vecino)                      \n",
       "  Celular 4 Celular 5 Email                         Nombre      Telefono SCORE  \n",
       "0       NaN       NaN   NaN                            NaN           NaN   345  \n",
       "1       NaN       NaN   NaN                   LUJAN OLGA Y  1.142688e+09    34  \n",
       "2       NaN       NaN   NaN                            NaN           NaN   345  \n",
       "3       NaN       NaN   NaN                            NaN           NaN   345  \n",
       "4       NaN       NaN   NaN                            NaN           NaN   345  \n",
       "\n",
       "[5 rows x 229 columns]"
      ]
     },
     "execution_count": 25,
     "metadata": {},
     "output_type": "execute_result"
    }
   ],
   "source": [
    "df_pyp.head()"
   ]
  },
  {
   "cell_type": "code",
   "execution_count": 26,
   "metadata": {
    "scrolled": false
   },
   "outputs": [
    {
     "data": {
      "text/plain": [
       "(1348, 229)"
      ]
     },
     "execution_count": 26,
     "metadata": {},
     "output_type": "execute_result"
    }
   ],
   "source": [
    "df_pyp.shape"
   ]
  },
  {
   "cell_type": "code",
   "execution_count": 27,
   "metadata": {},
   "outputs": [],
   "source": [
    "df_reduced = df_pyp [[('Unnamed: 0_level_0','Cuil'),('Unnamed: 1_level_0','Dni')]]"
   ]
  },
  {
   "cell_type": "code",
   "execution_count": 28,
   "metadata": {},
   "outputs": [
    {
     "data": {
      "text/html": [
       "<div>\n",
       "<style scoped>\n",
       "    .dataframe tbody tr th:only-of-type {\n",
       "        vertical-align: middle;\n",
       "    }\n",
       "\n",
       "    .dataframe tbody tr th {\n",
       "        vertical-align: top;\n",
       "    }\n",
       "\n",
       "    .dataframe thead tr th {\n",
       "        text-align: left;\n",
       "    }\n",
       "</style>\n",
       "<table border=\"1\" class=\"dataframe\">\n",
       "  <thead>\n",
       "    <tr>\n",
       "      <th></th>\n",
       "      <th>Unnamed: 0_level_0</th>\n",
       "      <th>Unnamed: 1_level_0</th>\n",
       "    </tr>\n",
       "    <tr>\n",
       "      <th></th>\n",
       "      <th>Cuil</th>\n",
       "      <th>Dni</th>\n",
       "    </tr>\n",
       "  </thead>\n",
       "  <tbody>\n",
       "    <tr>\n",
       "      <th>0</th>\n",
       "      <td>20140531562</td>\n",
       "      <td>14053156</td>\n",
       "    </tr>\n",
       "    <tr>\n",
       "      <th>1</th>\n",
       "      <td>27281648867</td>\n",
       "      <td>28164886</td>\n",
       "    </tr>\n",
       "    <tr>\n",
       "      <th>2</th>\n",
       "      <td>20398295383</td>\n",
       "      <td>39829538</td>\n",
       "    </tr>\n",
       "    <tr>\n",
       "      <th>3</th>\n",
       "      <td>20359239530</td>\n",
       "      <td>35923953</td>\n",
       "    </tr>\n",
       "    <tr>\n",
       "      <th>4</th>\n",
       "      <td>20939121383</td>\n",
       "      <td>93912138</td>\n",
       "    </tr>\n",
       "  </tbody>\n",
       "</table>\n",
       "</div>"
      ],
      "text/plain": [
       "  Unnamed: 0_level_0 Unnamed: 1_level_0\n",
       "                Cuil                Dni\n",
       "0        20140531562           14053156\n",
       "1        27281648867           28164886\n",
       "2        20398295383           39829538\n",
       "3        20359239530           35923953\n",
       "4        20939121383           93912138"
      ]
     },
     "execution_count": 28,
     "metadata": {},
     "output_type": "execute_result"
    }
   ],
   "source": [
    "df_reduced.head()"
   ]
  },
  {
   "cell_type": "code",
   "execution_count": 29,
   "metadata": {},
   "outputs": [
    {
     "data": {
      "text/plain": [
       "(1348, 2)"
      ]
     },
     "execution_count": 29,
     "metadata": {},
     "output_type": "execute_result"
    }
   ],
   "source": [
    "df_reduced.shape"
   ]
  },
  {
   "cell_type": "markdown",
   "metadata": {},
   "source": [
    "Eliminamos el multilevel de las columnas, y las renombramos:"
   ]
  },
  {
   "cell_type": "code",
   "execution_count": 30,
   "metadata": {},
   "outputs": [],
   "source": [
    "df_reduced.columns = df_reduced.columns.droplevel()"
   ]
  },
  {
   "cell_type": "code",
   "execution_count": 31,
   "metadata": {},
   "outputs": [
    {
     "data": {
      "text/html": [
       "<div>\n",
       "<style scoped>\n",
       "    .dataframe tbody tr th:only-of-type {\n",
       "        vertical-align: middle;\n",
       "    }\n",
       "\n",
       "    .dataframe tbody tr th {\n",
       "        vertical-align: top;\n",
       "    }\n",
       "\n",
       "    .dataframe thead th {\n",
       "        text-align: right;\n",
       "    }\n",
       "</style>\n",
       "<table border=\"1\" class=\"dataframe\">\n",
       "  <thead>\n",
       "    <tr style=\"text-align: right;\">\n",
       "      <th></th>\n",
       "      <th>Cuil</th>\n",
       "      <th>Dni</th>\n",
       "    </tr>\n",
       "  </thead>\n",
       "  <tbody>\n",
       "    <tr>\n",
       "      <th>0</th>\n",
       "      <td>20140531562</td>\n",
       "      <td>14053156</td>\n",
       "    </tr>\n",
       "    <tr>\n",
       "      <th>1</th>\n",
       "      <td>27281648867</td>\n",
       "      <td>28164886</td>\n",
       "    </tr>\n",
       "    <tr>\n",
       "      <th>2</th>\n",
       "      <td>20398295383</td>\n",
       "      <td>39829538</td>\n",
       "    </tr>\n",
       "    <tr>\n",
       "      <th>3</th>\n",
       "      <td>20359239530</td>\n",
       "      <td>35923953</td>\n",
       "    </tr>\n",
       "    <tr>\n",
       "      <th>4</th>\n",
       "      <td>20939121383</td>\n",
       "      <td>93912138</td>\n",
       "    </tr>\n",
       "  </tbody>\n",
       "</table>\n",
       "</div>"
      ],
      "text/plain": [
       "          Cuil       Dni\n",
       "0  20140531562  14053156\n",
       "1  27281648867  28164886\n",
       "2  20398295383  39829538\n",
       "3  20359239530  35923953\n",
       "4  20939121383  93912138"
      ]
     },
     "execution_count": 31,
     "metadata": {},
     "output_type": "execute_result"
    }
   ],
   "source": [
    "df_reduced.head()"
   ]
  },
  {
   "cell_type": "code",
   "execution_count": 32,
   "metadata": {},
   "outputs": [],
   "source": [
    "df_reduced = df_reduced.rename(columns={\"Cuil\": \"CUIT_CUIL\", 'Dni': 'NRO_DOC'})"
   ]
  },
  {
   "cell_type": "code",
   "execution_count": 33,
   "metadata": {
    "scrolled": false
   },
   "outputs": [
    {
     "data": {
      "text/html": [
       "<div>\n",
       "<style scoped>\n",
       "    .dataframe tbody tr th:only-of-type {\n",
       "        vertical-align: middle;\n",
       "    }\n",
       "\n",
       "    .dataframe tbody tr th {\n",
       "        vertical-align: top;\n",
       "    }\n",
       "\n",
       "    .dataframe thead th {\n",
       "        text-align: right;\n",
       "    }\n",
       "</style>\n",
       "<table border=\"1\" class=\"dataframe\">\n",
       "  <thead>\n",
       "    <tr style=\"text-align: right;\">\n",
       "      <th></th>\n",
       "      <th>CUIT_CUIL</th>\n",
       "      <th>NRO_DOC</th>\n",
       "    </tr>\n",
       "  </thead>\n",
       "  <tbody>\n",
       "    <tr>\n",
       "      <th>0</th>\n",
       "      <td>20140531562</td>\n",
       "      <td>14053156</td>\n",
       "    </tr>\n",
       "    <tr>\n",
       "      <th>1</th>\n",
       "      <td>27281648867</td>\n",
       "      <td>28164886</td>\n",
       "    </tr>\n",
       "    <tr>\n",
       "      <th>2</th>\n",
       "      <td>20398295383</td>\n",
       "      <td>39829538</td>\n",
       "    </tr>\n",
       "    <tr>\n",
       "      <th>3</th>\n",
       "      <td>20359239530</td>\n",
       "      <td>35923953</td>\n",
       "    </tr>\n",
       "    <tr>\n",
       "      <th>4</th>\n",
       "      <td>20939121383</td>\n",
       "      <td>93912138</td>\n",
       "    </tr>\n",
       "  </tbody>\n",
       "</table>\n",
       "</div>"
      ],
      "text/plain": [
       "     CUIT_CUIL   NRO_DOC\n",
       "0  20140531562  14053156\n",
       "1  27281648867  28164886\n",
       "2  20398295383  39829538\n",
       "3  20359239530  35923953\n",
       "4  20939121383  93912138"
      ]
     },
     "execution_count": 33,
     "metadata": {},
     "output_type": "execute_result"
    }
   ],
   "source": [
    "df_reduced.head()"
   ]
  },
  {
   "cell_type": "code",
   "execution_count": 34,
   "metadata": {},
   "outputs": [
    {
     "data": {
      "text/plain": [
       "(1348, 2)"
      ]
     },
     "execution_count": 34,
     "metadata": {},
     "output_type": "execute_result"
    }
   ],
   "source": [
    "df_reduced.shape"
   ]
  },
  {
   "cell_type": "markdown",
   "metadata": {},
   "source": [
    "## NRO_DOC para union de dataframes"
   ]
  },
  {
   "cell_type": "markdown",
   "metadata": {},
   "source": [
    "Creamos una columna que contenga IDMOROSO + DATOADIC según corresponda"
   ]
  },
  {
   "cell_type": "code",
   "execution_count": 35,
   "metadata": {},
   "outputs": [],
   "source": [
    "#df_log.loc[(df_log['IDCLIENTE'].str.startswith('AMEX')) , 'NRO_DOC'] = df_log['DATOADIC']"
   ]
  },
  {
   "cell_type": "code",
   "execution_count": 36,
   "metadata": {},
   "outputs": [],
   "source": [
    "df_log ['NRO_DOC'] = df_log ['IDMOROSO']"
   ]
  },
  {
   "cell_type": "code",
   "execution_count": 37,
   "metadata": {
    "scrolled": true
   },
   "outputs": [
    {
     "data": {
      "text/html": [
       "<div>\n",
       "<style scoped>\n",
       "    .dataframe tbody tr th:only-of-type {\n",
       "        vertical-align: middle;\n",
       "    }\n",
       "\n",
       "    .dataframe tbody tr th {\n",
       "        vertical-align: top;\n",
       "    }\n",
       "\n",
       "    .dataframe thead th {\n",
       "        text-align: right;\n",
       "    }\n",
       "</style>\n",
       "<table border=\"1\" class=\"dataframe\">\n",
       "  <thead>\n",
       "    <tr style=\"text-align: right;\">\n",
       "      <th></th>\n",
       "      <th>IDMOROSO</th>\n",
       "      <th>IDCLIENTE</th>\n",
       "      <th>ESTADO_ANTERIOR</th>\n",
       "      <th>FECHA_ENVIO_ENRIQUECIMIENTO</th>\n",
       "      <th>FECHA_INSERCION_DATO</th>\n",
       "      <th>FECHA_CAMBIO_ESTADO</th>\n",
       "      <th>PROVEEDOR</th>\n",
       "      <th>CATEGORIA</th>\n",
       "      <th>NRO_DOC</th>\n",
       "    </tr>\n",
       "  </thead>\n",
       "  <tbody>\n",
       "    <tr>\n",
       "      <th>1349</th>\n",
       "      <td>LE  5094735</td>\n",
       "      <td>BSR_TARDIA</td>\n",
       "      <td>NO VISTO</td>\n",
       "      <td>2021-02-11</td>\n",
       "      <td>2021-02-24</td>\n",
       "      <td>2021-02-24</td>\n",
       "      <td>PYP</td>\n",
       "      <td>NEUTRO</td>\n",
       "      <td>LE  5094735</td>\n",
       "    </tr>\n",
       "    <tr>\n",
       "      <th>1350</th>\n",
       "      <td>LE  5460817</td>\n",
       "      <td>BSR_TARDIA</td>\n",
       "      <td>NO VISTO</td>\n",
       "      <td>2021-02-11</td>\n",
       "      <td>2021-02-24</td>\n",
       "      <td>2021-02-24</td>\n",
       "      <td>PYP</td>\n",
       "      <td>NEUTRO</td>\n",
       "      <td>LE  5460817</td>\n",
       "    </tr>\n",
       "    <tr>\n",
       "      <th>1351</th>\n",
       "      <td>LE  5793367</td>\n",
       "      <td>BSR_TARDIA</td>\n",
       "      <td>NO VISTO</td>\n",
       "      <td>2021-02-11</td>\n",
       "      <td>2021-02-24</td>\n",
       "      <td>2021-02-24</td>\n",
       "      <td>PYP</td>\n",
       "      <td>NEUTRO</td>\n",
       "      <td>LE  5793367</td>\n",
       "    </tr>\n",
       "    <tr>\n",
       "      <th>1352</th>\n",
       "      <td>LE  7296686</td>\n",
       "      <td>BSR_TARDIA</td>\n",
       "      <td>NO VISTO</td>\n",
       "      <td>2021-02-11</td>\n",
       "      <td>2021-02-24</td>\n",
       "      <td>2021-02-24</td>\n",
       "      <td>PYP</td>\n",
       "      <td>NEUTRO</td>\n",
       "      <td>LE  7296686</td>\n",
       "    </tr>\n",
       "    <tr>\n",
       "      <th>1353</th>\n",
       "      <td>LE  8533121</td>\n",
       "      <td>BSR_TARDIA</td>\n",
       "      <td>INTERESADO_MOPCPAGOS</td>\n",
       "      <td>2021-02-11</td>\n",
       "      <td>2021-02-24</td>\n",
       "      <td>2021-02-24</td>\n",
       "      <td>PYP</td>\n",
       "      <td>NaN</td>\n",
       "      <td>LE  8533121</td>\n",
       "    </tr>\n",
       "  </tbody>\n",
       "</table>\n",
       "</div>"
      ],
      "text/plain": [
       "                IDMOROSO             IDCLIENTE       ESTADO_ANTERIOR  \\\n",
       "1349  LE  5094735         BSR_TARDIA                        NO VISTO   \n",
       "1350  LE  5460817         BSR_TARDIA                        NO VISTO   \n",
       "1351  LE  5793367         BSR_TARDIA                        NO VISTO   \n",
       "1352  LE  7296686         BSR_TARDIA                        NO VISTO   \n",
       "1353  LE  8533121         BSR_TARDIA            INTERESADO_MOPCPAGOS   \n",
       "\n",
       "     FECHA_ENVIO_ENRIQUECIMIENTO FECHA_INSERCION_DATO FECHA_CAMBIO_ESTADO  \\\n",
       "1349                  2021-02-11           2021-02-24          2021-02-24   \n",
       "1350                  2021-02-11           2021-02-24          2021-02-24   \n",
       "1351                  2021-02-11           2021-02-24          2021-02-24   \n",
       "1352                  2021-02-11           2021-02-24          2021-02-24   \n",
       "1353                  2021-02-11           2021-02-24          2021-02-24   \n",
       "\n",
       "     PROVEEDOR CATEGORIA             NRO_DOC  \n",
       "1349       PYP    NEUTRO  LE  5094735         \n",
       "1350       PYP    NEUTRO  LE  5460817         \n",
       "1351       PYP    NEUTRO  LE  5793367         \n",
       "1352       PYP    NEUTRO  LE  7296686         \n",
       "1353       PYP       NaN  LE  8533121         "
      ]
     },
     "execution_count": 37,
     "metadata": {},
     "output_type": "execute_result"
    }
   ],
   "source": [
    "df_log.tail()"
   ]
  },
  {
   "cell_type": "markdown",
   "metadata": {},
   "source": [
    "## 12.2) DNI Cleaning"
   ]
  },
  {
   "cell_type": "markdown",
   "metadata": {},
   "source": [
    "Limpiamos el dataframe __df_pyp__, ya que dentro de DATO_A_ENVIAR tenemos 9 tipos de casos diferentes de datos:\n",
    "\n",
    "- DNI 12345678\n",
    "- DNI12345678\n",
    "- DNIE1234678\n",
    "- LC  1234567\n",
    "- LE  1234567\n",
    "- CUIT00123456780\n",
    "- 00123456780 --> Es un CUIT.\n",
    "- 00 12345678 0 --> Es un CUIT.\n",
    "- DNI 00123456780 --> Dice DNI pero es un CUIT de una persona __jurídica__ (TO DO)"
   ]
  },
  {
   "cell_type": "markdown",
   "metadata": {},
   "source": [
    "Para eso definimos 5 funciones:\n",
    "\n",
    "- __Tipo_DOC__: Se definen dos funciones para determinar el tipo de DNI. Una inicial, y otra para corregir sobre el dataframe resultante.\n",
    "- __Standard DNI__: Estandariza los DNI para 7 de los casos. Esta función debe ejecutarse en primer lugar.\n",
    "- __DNI Spaces__: Elimina los espacios.\n",
    "- __DNI Zero__: Elimina los ceros iniciales de ciertos CUITs para que coincidan con los DNI.\n",
    "- __Cuit__: Decisión sobre dejar un cuit o volverlo DNI"
   ]
  },
  {
   "cell_type": "code",
   "execution_count": 38,
   "metadata": {},
   "outputs": [],
   "source": [
    "def tipo_doc_1 (string_dni):\n",
    "    \n",
    "    if 'DNI' in string_dni:\n",
    "        tipo = 'DNI'\n",
    "    \n",
    "    elif 'LC' in string_dni:\n",
    "        tipo = 'LC'\n",
    "    \n",
    "    elif 'LE' in string_dni:\n",
    "        tipo = 'LE'\n",
    "    \n",
    "    elif 'DNIE' in string_dni:\n",
    "        tipo = 'DNIE'    \n",
    "    \n",
    "    elif ((string_dni.startswith(('CUIT30','CUIT33','CUIT34'))) & (len(string_dni)>8)):\n",
    "        tipo = 'CUIT'\n",
    "        \n",
    "    elif ((string_dni.startswith(('30','33','34'))) & (len(string_dni)>8)):\n",
    "        tipo = 'CUIT'\n",
    "\n",
    "    elif ((string_dni.startswith(('20','23','24','27'))) & (len(string_dni)>8)):\n",
    "        tipo = 'DNI'\n",
    "\n",
    "    elif ((string_dni.startswith(('CUIT20','CUIT23','CUIT24','CUIT27'))) & (len(string_dni)>8)):\n",
    "        tipo = 'DNI'\n",
    "        \n",
    "    else:\n",
    "        tipo = 'DNI'\n",
    "    \n",
    "    return tipo"
   ]
  },
  {
   "cell_type": "code",
   "execution_count": 39,
   "metadata": {},
   "outputs": [],
   "source": [
    "def tipo_doc_2 (string_dni, tipo_original):\n",
    "    \n",
    "    if (len(string_dni) > 8) & (tipo_original == 'DNI'):\n",
    "        tipo = 'CUIT'\n",
    "    else:\n",
    "        tipo = tipo_original\n",
    "    return tipo"
   ]
  },
  {
   "cell_type": "code",
   "execution_count": 40,
   "metadata": {},
   "outputs": [],
   "source": [
    "def standard_dni (string_dni):\n",
    "    \"\"\"DNI separation by each case.\n",
    "    \"\"\"\n",
    "    \n",
    "    if 'DNI ' in string_dni:\n",
    "        dni = string_dni.split('DNI ')[1]\n",
    "        \n",
    "    elif 'DNIE' in string_dni:\n",
    "        dni = string_dni.split('DNIE')[1]\n",
    "    \n",
    "    elif 'DNI' in string_dni:\n",
    "        dni = string_dni.split('DNI')[1]\n",
    "    \n",
    "    elif 'LC  ' in string_dni:\n",
    "        dni = string_dni.split('LC  ')[1]\n",
    "    \n",
    "    elif 'LE  ' in string_dni:\n",
    "        dni = string_dni.split('LE  ')[1]\n",
    "    \n",
    "    elif 'CUIT' in string_dni:\n",
    "        dni = string_dni.split('CUIT')[1]\n",
    "        \n",
    "    else:\n",
    "        dni = string_dni\n",
    "        \n",
    "    return dni"
   ]
  },
  {
   "cell_type": "code",
   "execution_count": 41,
   "metadata": {},
   "outputs": [],
   "source": [
    "def dni_characters (string_dni):\n",
    "    \n",
    "    if ' ' in string_dni:\n",
    "        dni = string_dni.replace(' ','')\n",
    "        \n",
    "    elif '-' in string_dni:\n",
    "        dni = string_dni.replace('-','')\n",
    "\n",
    "    else:\n",
    "        dni = string_dni\n",
    "    \n",
    "    return dni"
   ]
  },
  {
   "cell_type": "code",
   "execution_count": 42,
   "metadata": {},
   "outputs": [],
   "source": [
    "def cuit (string_dni):\n",
    "    \n",
    "    if ((string_dni.startswith('20')) & (len(string_dni)>8)):\n",
    "        cuit = string_dni [2:-1]\n",
    "        \n",
    "    elif ((string_dni.startswith('23')) & (len(string_dni)>8)):\n",
    "        cuit = string_dni [2:-1]\n",
    "        \n",
    "    elif ((string_dni.startswith('24')) & (len(string_dni)>8)):\n",
    "        cuit = string_dni [2:-1]\n",
    "\n",
    "    elif ((string_dni.startswith('27')) & (len(string_dni)>8)):\n",
    "        cuit = string_dni [2:-1]\n",
    "\n",
    "    else:\n",
    "        cuit = string_dni\n",
    "        \n",
    "    return cuit"
   ]
  },
  {
   "cell_type": "code",
   "execution_count": 43,
   "metadata": {},
   "outputs": [],
   "source": [
    "def dni_zero (string_dni):\n",
    "    \n",
    "    if string_dni.startswith('0'):\n",
    "        dni = string_dni [1:]\n",
    "\n",
    "    else:\n",
    "        dni = string_dni\n",
    "    \n",
    "    return dni"
   ]
  },
  {
   "cell_type": "markdown",
   "metadata": {},
   "source": [
    "En primer lugar, trimmeamos los espacios que sobran:"
   ]
  },
  {
   "cell_type": "code",
   "execution_count": 44,
   "metadata": {},
   "outputs": [],
   "source": [
    "df_log['NRO_DOC'] = [(str(df_log['NRO_DOC'][i]).strip()) for i in range (df_log['NRO_DOC'].count())]"
   ]
  },
  {
   "cell_type": "markdown",
   "metadata": {},
   "source": [
    "Se implementan estas funciones:"
   ]
  },
  {
   "cell_type": "markdown",
   "metadata": {},
   "source": [
    "Para determinar el __TIPO DE DOCUMENTO__ en primer lugar:"
   ]
  },
  {
   "cell_type": "code",
   "execution_count": 45,
   "metadata": {},
   "outputs": [],
   "source": [
    "df_log['TIPO_DOC'] = [tipo_doc_1(df_log['NRO_DOC'][i]) for i in range (df_log['NRO_DOC'].count())]"
   ]
  },
  {
   "cell_type": "markdown",
   "metadata": {},
   "source": [
    "Para la limpieza de DNIs:"
   ]
  },
  {
   "cell_type": "code",
   "execution_count": 46,
   "metadata": {},
   "outputs": [],
   "source": [
    "df_log['NRO_DOC'] = [standard_dni(df_log['NRO_DOC'][i]) for i in range (df_log['NRO_DOC'].count())]"
   ]
  },
  {
   "cell_type": "code",
   "execution_count": 47,
   "metadata": {},
   "outputs": [],
   "source": [
    "df_log['NRO_DOC'] = [dni_characters(df_log['NRO_DOC'][i]) for i in range (df_log['NRO_DOC'].count())]"
   ]
  },
  {
   "cell_type": "code",
   "execution_count": 48,
   "metadata": {},
   "outputs": [],
   "source": [
    "df_log['NRO_DOC'] = [cuit(df_log['NRO_DOC'][i]) for i in range (df_log['NRO_DOC'].count())]"
   ]
  },
  {
   "cell_type": "code",
   "execution_count": 49,
   "metadata": {},
   "outputs": [],
   "source": [
    "df_log['NRO_DOC'] = [dni_zero(df_log['NRO_DOC'][i]) for i in range (df_log['NRO_DOC'].count())]"
   ]
  },
  {
   "cell_type": "markdown",
   "metadata": {},
   "source": [
    "Para corregir el __TIPO DE DOCUMENTO__ sobre el dataframe resultante"
   ]
  },
  {
   "cell_type": "code",
   "execution_count": 50,
   "metadata": {},
   "outputs": [],
   "source": [
    "df_log['TIPO_DOC'] = [tipo_doc_2(df_log['NRO_DOC'][i],df_log['TIPO_DOC'][i]) for i in range (df_log['NRO_DOC'].count())]"
   ]
  },
  {
   "cell_type": "code",
   "execution_count": 51,
   "metadata": {
    "scrolled": false
   },
   "outputs": [
    {
     "data": {
      "text/html": [
       "<div>\n",
       "<style scoped>\n",
       "    .dataframe tbody tr th:only-of-type {\n",
       "        vertical-align: middle;\n",
       "    }\n",
       "\n",
       "    .dataframe tbody tr th {\n",
       "        vertical-align: top;\n",
       "    }\n",
       "\n",
       "    .dataframe thead th {\n",
       "        text-align: right;\n",
       "    }\n",
       "</style>\n",
       "<table border=\"1\" class=\"dataframe\">\n",
       "  <thead>\n",
       "    <tr style=\"text-align: right;\">\n",
       "      <th></th>\n",
       "      <th>IDMOROSO</th>\n",
       "      <th>IDCLIENTE</th>\n",
       "      <th>ESTADO_ANTERIOR</th>\n",
       "      <th>FECHA_ENVIO_ENRIQUECIMIENTO</th>\n",
       "      <th>FECHA_INSERCION_DATO</th>\n",
       "      <th>FECHA_CAMBIO_ESTADO</th>\n",
       "      <th>PROVEEDOR</th>\n",
       "      <th>CATEGORIA</th>\n",
       "      <th>NRO_DOC</th>\n",
       "      <th>TIPO_DOC</th>\n",
       "    </tr>\n",
       "  </thead>\n",
       "  <tbody>\n",
       "    <tr>\n",
       "      <th>0</th>\n",
       "      <td>DNI 10039621</td>\n",
       "      <td>BSR_TARDIA</td>\n",
       "      <td>NO VISTO</td>\n",
       "      <td>2021-02-11</td>\n",
       "      <td>2021-02-24</td>\n",
       "      <td>2021-02-24</td>\n",
       "      <td>PYP</td>\n",
       "      <td>NEUTRO</td>\n",
       "      <td>10039621</td>\n",
       "      <td>DNI</td>\n",
       "    </tr>\n",
       "    <tr>\n",
       "      <th>1</th>\n",
       "      <td>DNI 10197951</td>\n",
       "      <td>BSR_TARDIA</td>\n",
       "      <td>NO VISTO</td>\n",
       "      <td>2021-02-11</td>\n",
       "      <td>2021-02-24</td>\n",
       "      <td>2021-02-24</td>\n",
       "      <td>PYP</td>\n",
       "      <td>NEUTRO</td>\n",
       "      <td>10197951</td>\n",
       "      <td>DNI</td>\n",
       "    </tr>\n",
       "    <tr>\n",
       "      <th>2</th>\n",
       "      <td>DNI 10248810</td>\n",
       "      <td>BSR_TARDIA</td>\n",
       "      <td>NO VISTO</td>\n",
       "      <td>2021-02-11</td>\n",
       "      <td>2021-02-24</td>\n",
       "      <td>2021-02-24</td>\n",
       "      <td>PYP</td>\n",
       "      <td>NEUTRO</td>\n",
       "      <td>10248810</td>\n",
       "      <td>DNI</td>\n",
       "    </tr>\n",
       "    <tr>\n",
       "      <th>3</th>\n",
       "      <td>DNI 10270696</td>\n",
       "      <td>BSR_TARDIA</td>\n",
       "      <td>NO VISTO</td>\n",
       "      <td>2021-02-11</td>\n",
       "      <td>2021-02-24</td>\n",
       "      <td>2021-02-24</td>\n",
       "      <td>PYP</td>\n",
       "      <td>NEUTRO</td>\n",
       "      <td>10270696</td>\n",
       "      <td>DNI</td>\n",
       "    </tr>\n",
       "    <tr>\n",
       "      <th>4</th>\n",
       "      <td>DNI 10363397</td>\n",
       "      <td>BSR_TARDIA</td>\n",
       "      <td>NO VISTO</td>\n",
       "      <td>2021-02-11</td>\n",
       "      <td>2021-02-24</td>\n",
       "      <td>2021-02-24</td>\n",
       "      <td>PYP</td>\n",
       "      <td>NEUTRO</td>\n",
       "      <td>10363397</td>\n",
       "      <td>DNI</td>\n",
       "    </tr>\n",
       "  </tbody>\n",
       "</table>\n",
       "</div>"
      ],
      "text/plain": [
       "             IDMOROSO             IDCLIENTE ESTADO_ANTERIOR  \\\n",
       "0  DNI 10039621        BSR_TARDIA                  NO VISTO   \n",
       "1  DNI 10197951        BSR_TARDIA                  NO VISTO   \n",
       "2  DNI 10248810        BSR_TARDIA                  NO VISTO   \n",
       "3  DNI 10270696        BSR_TARDIA                  NO VISTO   \n",
       "4  DNI 10363397        BSR_TARDIA                  NO VISTO   \n",
       "\n",
       "  FECHA_ENVIO_ENRIQUECIMIENTO FECHA_INSERCION_DATO FECHA_CAMBIO_ESTADO  \\\n",
       "0                  2021-02-11           2021-02-24          2021-02-24   \n",
       "1                  2021-02-11           2021-02-24          2021-02-24   \n",
       "2                  2021-02-11           2021-02-24          2021-02-24   \n",
       "3                  2021-02-11           2021-02-24          2021-02-24   \n",
       "4                  2021-02-11           2021-02-24          2021-02-24   \n",
       "\n",
       "  PROVEEDOR CATEGORIA   NRO_DOC TIPO_DOC  \n",
       "0       PYP    NEUTRO  10039621      DNI  \n",
       "1       PYP    NEUTRO  10197951      DNI  \n",
       "2       PYP    NEUTRO  10248810      DNI  \n",
       "3       PYP    NEUTRO  10270696      DNI  \n",
       "4       PYP    NEUTRO  10363397      DNI  "
      ]
     },
     "execution_count": 51,
     "metadata": {},
     "output_type": "execute_result"
    }
   ],
   "source": [
    "df_log.head()"
   ]
  },
  {
   "cell_type": "code",
   "execution_count": 52,
   "metadata": {},
   "outputs": [
    {
     "data": {
      "text/plain": [
       "(1354, 10)"
      ]
     },
     "execution_count": 52,
     "metadata": {},
     "output_type": "execute_result"
    }
   ],
   "source": [
    "df_log.shape"
   ]
  },
  {
   "cell_type": "markdown",
   "metadata": {},
   "source": [
    "# 13) Union de Dataframes"
   ]
  },
  {
   "cell_type": "markdown",
   "metadata": {},
   "source": [
    "Se unen ambos dataframes en la columna NRO_DOC"
   ]
  },
  {
   "cell_type": "markdown",
   "metadata": {},
   "source": [
    "Convertimos la columna NRO_DOC de objeto a INT para hacer la unión"
   ]
  },
  {
   "cell_type": "code",
   "execution_count": 53,
   "metadata": {},
   "outputs": [],
   "source": [
    "df_reduced = df_reduced.astype({'NRO_DOC': 'str'})"
   ]
  },
  {
   "cell_type": "code",
   "execution_count": 54,
   "metadata": {},
   "outputs": [],
   "source": [
    "df_union = pd.merge(df_log, df_reduced, on='NRO_DOC', how='inner')"
   ]
  },
  {
   "cell_type": "code",
   "execution_count": 55,
   "metadata": {},
   "outputs": [],
   "source": [
    "#df_union = pd.merge(df_log,df_reduced[['NRO_DOC']],on=['NRO_DOC'],how=\"outer\",indicator=True)\n",
    "#df_union = df_union[df_union['_merge']=='left_only']"
   ]
  },
  {
   "cell_type": "code",
   "execution_count": 56,
   "metadata": {
    "scrolled": true
   },
   "outputs": [
    {
     "data": {
      "text/plain": [
       "(1348, 11)"
      ]
     },
     "execution_count": 56,
     "metadata": {},
     "output_type": "execute_result"
    }
   ],
   "source": [
    "df_union.shape"
   ]
  },
  {
   "cell_type": "code",
   "execution_count": 57,
   "metadata": {
    "scrolled": false
   },
   "outputs": [
    {
     "data": {
      "text/html": [
       "<div>\n",
       "<style scoped>\n",
       "    .dataframe tbody tr th:only-of-type {\n",
       "        vertical-align: middle;\n",
       "    }\n",
       "\n",
       "    .dataframe tbody tr th {\n",
       "        vertical-align: top;\n",
       "    }\n",
       "\n",
       "    .dataframe thead th {\n",
       "        text-align: right;\n",
       "    }\n",
       "</style>\n",
       "<table border=\"1\" class=\"dataframe\">\n",
       "  <thead>\n",
       "    <tr style=\"text-align: right;\">\n",
       "      <th></th>\n",
       "      <th>IDMOROSO</th>\n",
       "      <th>IDCLIENTE</th>\n",
       "      <th>ESTADO_ANTERIOR</th>\n",
       "      <th>FECHA_ENVIO_ENRIQUECIMIENTO</th>\n",
       "      <th>FECHA_INSERCION_DATO</th>\n",
       "      <th>FECHA_CAMBIO_ESTADO</th>\n",
       "      <th>PROVEEDOR</th>\n",
       "      <th>CATEGORIA</th>\n",
       "      <th>NRO_DOC</th>\n",
       "      <th>TIPO_DOC</th>\n",
       "      <th>CUIT_CUIL</th>\n",
       "    </tr>\n",
       "  </thead>\n",
       "  <tbody>\n",
       "    <tr>\n",
       "      <th>0</th>\n",
       "      <td>DNI 10039621</td>\n",
       "      <td>BSR_TARDIA</td>\n",
       "      <td>NO VISTO</td>\n",
       "      <td>2021-02-11</td>\n",
       "      <td>2021-02-24</td>\n",
       "      <td>2021-02-24</td>\n",
       "      <td>PYP</td>\n",
       "      <td>NEUTRO</td>\n",
       "      <td>10039621</td>\n",
       "      <td>DNI</td>\n",
       "      <td>27100396217</td>\n",
       "    </tr>\n",
       "    <tr>\n",
       "      <th>1</th>\n",
       "      <td>DNI 10197951</td>\n",
       "      <td>BSR_TARDIA</td>\n",
       "      <td>NO VISTO</td>\n",
       "      <td>2021-02-11</td>\n",
       "      <td>2021-02-24</td>\n",
       "      <td>2021-02-24</td>\n",
       "      <td>PYP</td>\n",
       "      <td>NEUTRO</td>\n",
       "      <td>10197951</td>\n",
       "      <td>DNI</td>\n",
       "      <td>20101979513</td>\n",
       "    </tr>\n",
       "    <tr>\n",
       "      <th>2</th>\n",
       "      <td>DNI 10248810</td>\n",
       "      <td>BSR_TARDIA</td>\n",
       "      <td>NO VISTO</td>\n",
       "      <td>2021-02-11</td>\n",
       "      <td>2021-02-24</td>\n",
       "      <td>2021-02-24</td>\n",
       "      <td>PYP</td>\n",
       "      <td>NEUTRO</td>\n",
       "      <td>10248810</td>\n",
       "      <td>DNI</td>\n",
       "      <td>20102488106</td>\n",
       "    </tr>\n",
       "    <tr>\n",
       "      <th>3</th>\n",
       "      <td>DNI 10270696</td>\n",
       "      <td>BSR_TARDIA</td>\n",
       "      <td>NO VISTO</td>\n",
       "      <td>2021-02-11</td>\n",
       "      <td>2021-02-24</td>\n",
       "      <td>2021-02-24</td>\n",
       "      <td>PYP</td>\n",
       "      <td>NEUTRO</td>\n",
       "      <td>10270696</td>\n",
       "      <td>DNI</td>\n",
       "      <td>20102706960</td>\n",
       "    </tr>\n",
       "    <tr>\n",
       "      <th>4</th>\n",
       "      <td>DNI 10363397</td>\n",
       "      <td>BSR_TARDIA</td>\n",
       "      <td>NO VISTO</td>\n",
       "      <td>2021-02-11</td>\n",
       "      <td>2021-02-24</td>\n",
       "      <td>2021-02-24</td>\n",
       "      <td>PYP</td>\n",
       "      <td>NEUTRO</td>\n",
       "      <td>10363397</td>\n",
       "      <td>DNI</td>\n",
       "      <td>23103633974</td>\n",
       "    </tr>\n",
       "  </tbody>\n",
       "</table>\n",
       "</div>"
      ],
      "text/plain": [
       "             IDMOROSO             IDCLIENTE ESTADO_ANTERIOR  \\\n",
       "0  DNI 10039621        BSR_TARDIA                  NO VISTO   \n",
       "1  DNI 10197951        BSR_TARDIA                  NO VISTO   \n",
       "2  DNI 10248810        BSR_TARDIA                  NO VISTO   \n",
       "3  DNI 10270696        BSR_TARDIA                  NO VISTO   \n",
       "4  DNI 10363397        BSR_TARDIA                  NO VISTO   \n",
       "\n",
       "  FECHA_ENVIO_ENRIQUECIMIENTO FECHA_INSERCION_DATO FECHA_CAMBIO_ESTADO  \\\n",
       "0                  2021-02-11           2021-02-24          2021-02-24   \n",
       "1                  2021-02-11           2021-02-24          2021-02-24   \n",
       "2                  2021-02-11           2021-02-24          2021-02-24   \n",
       "3                  2021-02-11           2021-02-24          2021-02-24   \n",
       "4                  2021-02-11           2021-02-24          2021-02-24   \n",
       "\n",
       "  PROVEEDOR CATEGORIA   NRO_DOC TIPO_DOC    CUIT_CUIL  \n",
       "0       PYP    NEUTRO  10039621      DNI  27100396217  \n",
       "1       PYP    NEUTRO  10197951      DNI  20101979513  \n",
       "2       PYP    NEUTRO  10248810      DNI  20102488106  \n",
       "3       PYP    NEUTRO  10270696      DNI  20102706960  \n",
       "4       PYP    NEUTRO  10363397      DNI  23103633974  "
      ]
     },
     "execution_count": 57,
     "metadata": {},
     "output_type": "execute_result"
    }
   ],
   "source": [
    "df_union.head()"
   ]
  },
  {
   "cell_type": "code",
   "execution_count": 58,
   "metadata": {},
   "outputs": [],
   "source": [
    "df_clean = df_union.drop_duplicates()"
   ]
  },
  {
   "cell_type": "code",
   "execution_count": 59,
   "metadata": {},
   "outputs": [
    {
     "data": {
      "text/plain": [
       "(1348, 11)"
      ]
     },
     "execution_count": 59,
     "metadata": {},
     "output_type": "execute_result"
    }
   ],
   "source": [
    "df_clean.shape"
   ]
  },
  {
   "cell_type": "code",
   "execution_count": 60,
   "metadata": {},
   "outputs": [],
   "source": [
    "duplicateRowsDF = df_union[df_union.duplicated(subset=['IDMOROSO'], keep=False)]"
   ]
  },
  {
   "cell_type": "code",
   "execution_count": 61,
   "metadata": {
    "scrolled": true
   },
   "outputs": [
    {
     "data": {
      "text/html": [
       "<div>\n",
       "<style scoped>\n",
       "    .dataframe tbody tr th:only-of-type {\n",
       "        vertical-align: middle;\n",
       "    }\n",
       "\n",
       "    .dataframe tbody tr th {\n",
       "        vertical-align: top;\n",
       "    }\n",
       "\n",
       "    .dataframe thead th {\n",
       "        text-align: right;\n",
       "    }\n",
       "</style>\n",
       "<table border=\"1\" class=\"dataframe\">\n",
       "  <thead>\n",
       "    <tr style=\"text-align: right;\">\n",
       "      <th></th>\n",
       "      <th>IDMOROSO</th>\n",
       "      <th>IDCLIENTE</th>\n",
       "      <th>ESTADO_ANTERIOR</th>\n",
       "      <th>FECHA_ENVIO_ENRIQUECIMIENTO</th>\n",
       "      <th>FECHA_INSERCION_DATO</th>\n",
       "      <th>FECHA_CAMBIO_ESTADO</th>\n",
       "      <th>PROVEEDOR</th>\n",
       "      <th>CATEGORIA</th>\n",
       "      <th>NRO_DOC</th>\n",
       "      <th>TIPO_DOC</th>\n",
       "      <th>CUIT_CUIL</th>\n",
       "    </tr>\n",
       "  </thead>\n",
       "  <tbody>\n",
       "  </tbody>\n",
       "</table>\n",
       "</div>"
      ],
      "text/plain": [
       "Empty DataFrame\n",
       "Columns: [IDMOROSO, IDCLIENTE, ESTADO_ANTERIOR, FECHA_ENVIO_ENRIQUECIMIENTO, FECHA_INSERCION_DATO, FECHA_CAMBIO_ESTADO, PROVEEDOR, CATEGORIA, NRO_DOC, TIPO_DOC, CUIT_CUIL]\n",
       "Index: []"
      ]
     },
     "execution_count": 61,
     "metadata": {},
     "output_type": "execute_result"
    }
   ],
   "source": [
    "duplicateRowsDF"
   ]
  },
  {
   "cell_type": "markdown",
   "metadata": {},
   "source": [
    "## Nuevo Estado"
   ]
  },
  {
   "cell_type": "markdown",
   "metadata": {
    "scrolled": true
   },
   "source": [
    "Como no se usaron nuevos estados, se deja en nulo"
   ]
  },
  {
   "cell_type": "code",
   "execution_count": 62,
   "metadata": {},
   "outputs": [],
   "source": [
    "df_clean = df_clean.assign(NUEVO_ESTADO=np.nan)"
   ]
  },
  {
   "cell_type": "markdown",
   "metadata": {},
   "source": [
    "## Enriquecido"
   ]
  },
  {
   "cell_type": "markdown",
   "metadata": {},
   "source": [
    "Nota: sólo estoy mirando los enriquecidos. Si no se enriqueció, no lo mando al LOG."
   ]
  },
  {
   "cell_type": "code",
   "execution_count": 63,
   "metadata": {},
   "outputs": [],
   "source": [
    "df_clean = df_clean.assign(ENRIQUECIDO=1)"
   ]
  },
  {
   "cell_type": "code",
   "execution_count": 64,
   "metadata": {},
   "outputs": [
    {
     "data": {
      "text/html": [
       "<div>\n",
       "<style scoped>\n",
       "    .dataframe tbody tr th:only-of-type {\n",
       "        vertical-align: middle;\n",
       "    }\n",
       "\n",
       "    .dataframe tbody tr th {\n",
       "        vertical-align: top;\n",
       "    }\n",
       "\n",
       "    .dataframe thead th {\n",
       "        text-align: right;\n",
       "    }\n",
       "</style>\n",
       "<table border=\"1\" class=\"dataframe\">\n",
       "  <thead>\n",
       "    <tr style=\"text-align: right;\">\n",
       "      <th></th>\n",
       "      <th>IDMOROSO</th>\n",
       "      <th>IDCLIENTE</th>\n",
       "      <th>ESTADO_ANTERIOR</th>\n",
       "      <th>FECHA_ENVIO_ENRIQUECIMIENTO</th>\n",
       "      <th>FECHA_INSERCION_DATO</th>\n",
       "      <th>FECHA_CAMBIO_ESTADO</th>\n",
       "      <th>PROVEEDOR</th>\n",
       "      <th>CATEGORIA</th>\n",
       "      <th>NRO_DOC</th>\n",
       "      <th>TIPO_DOC</th>\n",
       "      <th>CUIT_CUIL</th>\n",
       "      <th>NUEVO_ESTADO</th>\n",
       "      <th>ENRIQUECIDO</th>\n",
       "    </tr>\n",
       "  </thead>\n",
       "  <tbody>\n",
       "    <tr>\n",
       "      <th>0</th>\n",
       "      <td>DNI 10039621</td>\n",
       "      <td>BSR_TARDIA</td>\n",
       "      <td>NO VISTO</td>\n",
       "      <td>2021-02-11</td>\n",
       "      <td>2021-02-24</td>\n",
       "      <td>2021-02-24</td>\n",
       "      <td>PYP</td>\n",
       "      <td>NEUTRO</td>\n",
       "      <td>10039621</td>\n",
       "      <td>DNI</td>\n",
       "      <td>27100396217</td>\n",
       "      <td>NaN</td>\n",
       "      <td>1</td>\n",
       "    </tr>\n",
       "    <tr>\n",
       "      <th>1</th>\n",
       "      <td>DNI 10197951</td>\n",
       "      <td>BSR_TARDIA</td>\n",
       "      <td>NO VISTO</td>\n",
       "      <td>2021-02-11</td>\n",
       "      <td>2021-02-24</td>\n",
       "      <td>2021-02-24</td>\n",
       "      <td>PYP</td>\n",
       "      <td>NEUTRO</td>\n",
       "      <td>10197951</td>\n",
       "      <td>DNI</td>\n",
       "      <td>20101979513</td>\n",
       "      <td>NaN</td>\n",
       "      <td>1</td>\n",
       "    </tr>\n",
       "    <tr>\n",
       "      <th>2</th>\n",
       "      <td>DNI 10248810</td>\n",
       "      <td>BSR_TARDIA</td>\n",
       "      <td>NO VISTO</td>\n",
       "      <td>2021-02-11</td>\n",
       "      <td>2021-02-24</td>\n",
       "      <td>2021-02-24</td>\n",
       "      <td>PYP</td>\n",
       "      <td>NEUTRO</td>\n",
       "      <td>10248810</td>\n",
       "      <td>DNI</td>\n",
       "      <td>20102488106</td>\n",
       "      <td>NaN</td>\n",
       "      <td>1</td>\n",
       "    </tr>\n",
       "    <tr>\n",
       "      <th>3</th>\n",
       "      <td>DNI 10270696</td>\n",
       "      <td>BSR_TARDIA</td>\n",
       "      <td>NO VISTO</td>\n",
       "      <td>2021-02-11</td>\n",
       "      <td>2021-02-24</td>\n",
       "      <td>2021-02-24</td>\n",
       "      <td>PYP</td>\n",
       "      <td>NEUTRO</td>\n",
       "      <td>10270696</td>\n",
       "      <td>DNI</td>\n",
       "      <td>20102706960</td>\n",
       "      <td>NaN</td>\n",
       "      <td>1</td>\n",
       "    </tr>\n",
       "    <tr>\n",
       "      <th>4</th>\n",
       "      <td>DNI 10363397</td>\n",
       "      <td>BSR_TARDIA</td>\n",
       "      <td>NO VISTO</td>\n",
       "      <td>2021-02-11</td>\n",
       "      <td>2021-02-24</td>\n",
       "      <td>2021-02-24</td>\n",
       "      <td>PYP</td>\n",
       "      <td>NEUTRO</td>\n",
       "      <td>10363397</td>\n",
       "      <td>DNI</td>\n",
       "      <td>23103633974</td>\n",
       "      <td>NaN</td>\n",
       "      <td>1</td>\n",
       "    </tr>\n",
       "  </tbody>\n",
       "</table>\n",
       "</div>"
      ],
      "text/plain": [
       "             IDMOROSO             IDCLIENTE ESTADO_ANTERIOR  \\\n",
       "0  DNI 10039621        BSR_TARDIA                  NO VISTO   \n",
       "1  DNI 10197951        BSR_TARDIA                  NO VISTO   \n",
       "2  DNI 10248810        BSR_TARDIA                  NO VISTO   \n",
       "3  DNI 10270696        BSR_TARDIA                  NO VISTO   \n",
       "4  DNI 10363397        BSR_TARDIA                  NO VISTO   \n",
       "\n",
       "  FECHA_ENVIO_ENRIQUECIMIENTO FECHA_INSERCION_DATO FECHA_CAMBIO_ESTADO  \\\n",
       "0                  2021-02-11           2021-02-24          2021-02-24   \n",
       "1                  2021-02-11           2021-02-24          2021-02-24   \n",
       "2                  2021-02-11           2021-02-24          2021-02-24   \n",
       "3                  2021-02-11           2021-02-24          2021-02-24   \n",
       "4                  2021-02-11           2021-02-24          2021-02-24   \n",
       "\n",
       "  PROVEEDOR CATEGORIA   NRO_DOC TIPO_DOC    CUIT_CUIL  NUEVO_ESTADO  \\\n",
       "0       PYP    NEUTRO  10039621      DNI  27100396217           NaN   \n",
       "1       PYP    NEUTRO  10197951      DNI  20101979513           NaN   \n",
       "2       PYP    NEUTRO  10248810      DNI  20102488106           NaN   \n",
       "3       PYP    NEUTRO  10270696      DNI  20102706960           NaN   \n",
       "4       PYP    NEUTRO  10363397      DNI  23103633974           NaN   \n",
       "\n",
       "   ENRIQUECIDO  \n",
       "0            1  \n",
       "1            1  \n",
       "2            1  \n",
       "3            1  \n",
       "4            1  "
      ]
     },
     "execution_count": 64,
     "metadata": {},
     "output_type": "execute_result"
    }
   ],
   "source": [
    "df_clean.head()"
   ]
  },
  {
   "cell_type": "code",
   "execution_count": 65,
   "metadata": {},
   "outputs": [],
   "source": [
    "df_clean = df_clean [['IDMOROSO','IDCLIENTE','ESTADO_ANTERIOR','CATEGORIA','NUEVO_ESTADO','ENRIQUECIDO','FECHA_ENVIO_ENRIQUECIMIENTO','FECHA_INSERCION_DATO','FECHA_CAMBIO_ESTADO','PROVEEDOR']]"
   ]
  },
  {
   "cell_type": "code",
   "execution_count": 66,
   "metadata": {
    "scrolled": true
   },
   "outputs": [
    {
     "data": {
      "text/html": [
       "<div>\n",
       "<style scoped>\n",
       "    .dataframe tbody tr th:only-of-type {\n",
       "        vertical-align: middle;\n",
       "    }\n",
       "\n",
       "    .dataframe tbody tr th {\n",
       "        vertical-align: top;\n",
       "    }\n",
       "\n",
       "    .dataframe thead th {\n",
       "        text-align: right;\n",
       "    }\n",
       "</style>\n",
       "<table border=\"1\" class=\"dataframe\">\n",
       "  <thead>\n",
       "    <tr style=\"text-align: right;\">\n",
       "      <th></th>\n",
       "      <th>IDMOROSO</th>\n",
       "      <th>IDCLIENTE</th>\n",
       "      <th>ESTADO_ANTERIOR</th>\n",
       "      <th>CATEGORIA</th>\n",
       "      <th>NUEVO_ESTADO</th>\n",
       "      <th>ENRIQUECIDO</th>\n",
       "      <th>FECHA_ENVIO_ENRIQUECIMIENTO</th>\n",
       "      <th>FECHA_INSERCION_DATO</th>\n",
       "      <th>FECHA_CAMBIO_ESTADO</th>\n",
       "      <th>PROVEEDOR</th>\n",
       "    </tr>\n",
       "  </thead>\n",
       "  <tbody>\n",
       "    <tr>\n",
       "      <th>0</th>\n",
       "      <td>DNI 10039621</td>\n",
       "      <td>BSR_TARDIA</td>\n",
       "      <td>NO VISTO</td>\n",
       "      <td>NEUTRO</td>\n",
       "      <td>NaN</td>\n",
       "      <td>1</td>\n",
       "      <td>2021-02-11</td>\n",
       "      <td>2021-02-24</td>\n",
       "      <td>2021-02-24</td>\n",
       "      <td>PYP</td>\n",
       "    </tr>\n",
       "    <tr>\n",
       "      <th>1</th>\n",
       "      <td>DNI 10197951</td>\n",
       "      <td>BSR_TARDIA</td>\n",
       "      <td>NO VISTO</td>\n",
       "      <td>NEUTRO</td>\n",
       "      <td>NaN</td>\n",
       "      <td>1</td>\n",
       "      <td>2021-02-11</td>\n",
       "      <td>2021-02-24</td>\n",
       "      <td>2021-02-24</td>\n",
       "      <td>PYP</td>\n",
       "    </tr>\n",
       "    <tr>\n",
       "      <th>2</th>\n",
       "      <td>DNI 10248810</td>\n",
       "      <td>BSR_TARDIA</td>\n",
       "      <td>NO VISTO</td>\n",
       "      <td>NEUTRO</td>\n",
       "      <td>NaN</td>\n",
       "      <td>1</td>\n",
       "      <td>2021-02-11</td>\n",
       "      <td>2021-02-24</td>\n",
       "      <td>2021-02-24</td>\n",
       "      <td>PYP</td>\n",
       "    </tr>\n",
       "    <tr>\n",
       "      <th>3</th>\n",
       "      <td>DNI 10270696</td>\n",
       "      <td>BSR_TARDIA</td>\n",
       "      <td>NO VISTO</td>\n",
       "      <td>NEUTRO</td>\n",
       "      <td>NaN</td>\n",
       "      <td>1</td>\n",
       "      <td>2021-02-11</td>\n",
       "      <td>2021-02-24</td>\n",
       "      <td>2021-02-24</td>\n",
       "      <td>PYP</td>\n",
       "    </tr>\n",
       "    <tr>\n",
       "      <th>4</th>\n",
       "      <td>DNI 10363397</td>\n",
       "      <td>BSR_TARDIA</td>\n",
       "      <td>NO VISTO</td>\n",
       "      <td>NEUTRO</td>\n",
       "      <td>NaN</td>\n",
       "      <td>1</td>\n",
       "      <td>2021-02-11</td>\n",
       "      <td>2021-02-24</td>\n",
       "      <td>2021-02-24</td>\n",
       "      <td>PYP</td>\n",
       "    </tr>\n",
       "  </tbody>\n",
       "</table>\n",
       "</div>"
      ],
      "text/plain": [
       "             IDMOROSO             IDCLIENTE ESTADO_ANTERIOR CATEGORIA  \\\n",
       "0  DNI 10039621        BSR_TARDIA                  NO VISTO    NEUTRO   \n",
       "1  DNI 10197951        BSR_TARDIA                  NO VISTO    NEUTRO   \n",
       "2  DNI 10248810        BSR_TARDIA                  NO VISTO    NEUTRO   \n",
       "3  DNI 10270696        BSR_TARDIA                  NO VISTO    NEUTRO   \n",
       "4  DNI 10363397        BSR_TARDIA                  NO VISTO    NEUTRO   \n",
       "\n",
       "   NUEVO_ESTADO  ENRIQUECIDO FECHA_ENVIO_ENRIQUECIMIENTO FECHA_INSERCION_DATO  \\\n",
       "0           NaN            1                  2021-02-11           2021-02-24   \n",
       "1           NaN            1                  2021-02-11           2021-02-24   \n",
       "2           NaN            1                  2021-02-11           2021-02-24   \n",
       "3           NaN            1                  2021-02-11           2021-02-24   \n",
       "4           NaN            1                  2021-02-11           2021-02-24   \n",
       "\n",
       "  FECHA_CAMBIO_ESTADO PROVEEDOR  \n",
       "0          2021-02-24       PYP  \n",
       "1          2021-02-24       PYP  \n",
       "2          2021-02-24       PYP  \n",
       "3          2021-02-24       PYP  \n",
       "4          2021-02-24       PYP  "
      ]
     },
     "execution_count": 66,
     "metadata": {},
     "output_type": "execute_result"
    }
   ],
   "source": [
    "df_clean.head()"
   ]
  },
  {
   "cell_type": "code",
   "execution_count": 67,
   "metadata": {},
   "outputs": [
    {
     "data": {
      "text/plain": [
       "(1348, 10)"
      ]
     },
     "execution_count": 67,
     "metadata": {},
     "output_type": "execute_result"
    }
   ],
   "source": [
    "df_clean.shape"
   ]
  },
  {
   "cell_type": "markdown",
   "metadata": {},
   "source": [
    "# Export"
   ]
  },
  {
   "cell_type": "code",
   "execution_count": 68,
   "metadata": {},
   "outputs": [],
   "source": [
    "df_clean.to_csv('/mnt/c/Users/Dleg/Data/MOPC/MOPC/Enriquecimiento de Datos/Data Cleaning/PyP/Exports/DAM_LOG/PyP_ENRIQUECIDOS_DAM_LOG - 2402.csv',index=False)"
   ]
  },
  {
   "cell_type": "code",
   "execution_count": null,
   "metadata": {},
   "outputs": [],
   "source": []
  }
 ],
 "metadata": {
  "kernelspec": {
   "display_name": "Python 3",
   "language": "python",
   "name": "python3"
  },
  "language_info": {
   "codemirror_mode": {
    "name": "ipython",
    "version": 3
   },
   "file_extension": ".py",
   "mimetype": "text/x-python",
   "name": "python",
   "nbconvert_exporter": "python",
   "pygments_lexer": "ipython3",
   "version": "3.8.6"
  }
 },
 "nbformat": 4,
 "nbformat_minor": 4
}
