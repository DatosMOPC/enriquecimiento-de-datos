{
 "cells": [
  {
   "cell_type": "code",
   "execution_count": 1,
   "id": "intellectual-bouquet",
   "metadata": {},
   "outputs": [],
   "source": [
    "import pandas as pd"
   ]
  },
  {
   "cell_type": "code",
   "execution_count": 2,
   "id": "interracial-value",
   "metadata": {},
   "outputs": [],
   "source": [
    "df = pd.read_csv('Base Enriquecida - completa - v2.csv')"
   ]
  },
  {
   "cell_type": "code",
   "execution_count": 3,
   "id": "painted-latest",
   "metadata": {},
   "outputs": [],
   "source": [
    "df ['DOCUMENTO'] = df['DOCUMENTO'].astype(str)"
   ]
  },
  {
   "cell_type": "code",
   "execution_count": 4,
   "id": "differential-transmission",
   "metadata": {},
   "outputs": [],
   "source": [
    "df.DOCUMENTO = df.DOCUMENTO.str.strip()"
   ]
  },
  {
   "cell_type": "code",
   "execution_count": 5,
   "id": "heard-directory",
   "metadata": {},
   "outputs": [
    {
     "data": {
      "text/html": [
       "<div>\n",
       "<style scoped>\n",
       "    .dataframe tbody tr th:only-of-type {\n",
       "        vertical-align: middle;\n",
       "    }\n",
       "\n",
       "    .dataframe tbody tr th {\n",
       "        vertical-align: top;\n",
       "    }\n",
       "\n",
       "    .dataframe thead th {\n",
       "        text-align: right;\n",
       "    }\n",
       "</style>\n",
       "<table border=\"1\" class=\"dataframe\">\n",
       "  <thead>\n",
       "    <tr style=\"text-align: right;\">\n",
       "      <th></th>\n",
       "      <th>DOCUMENTO</th>\n",
       "      <th>IDMOROSO</th>\n",
       "      <th>TIPO</th>\n",
       "      <th>DATO</th>\n",
       "      <th>SCORE_DATO</th>\n",
       "    </tr>\n",
       "  </thead>\n",
       "  <tbody>\n",
       "    <tr>\n",
       "      <th>5899</th>\n",
       "      <td>41277861</td>\n",
       "      <td>DNI 41277861</td>\n",
       "      <td>TEL.CELULAR</td>\n",
       "      <td>3624603039</td>\n",
       "      <td>77.0</td>\n",
       "    </tr>\n",
       "    <tr>\n",
       "      <th>5900</th>\n",
       "      <td>41277861</td>\n",
       "      <td>DNI 41277861</td>\n",
       "      <td>TEL.FIJO</td>\n",
       "      <td>0362154360701</td>\n",
       "      <td>103.0</td>\n",
       "    </tr>\n",
       "    <tr>\n",
       "      <th>5901</th>\n",
       "      <td>41277861</td>\n",
       "      <td>DNI 41277861</td>\n",
       "      <td>TEL.CELULAR</td>\n",
       "      <td>3625265226</td>\n",
       "      <td>90.0</td>\n",
       "    </tr>\n",
       "    <tr>\n",
       "      <th>5902</th>\n",
       "      <td>41277861</td>\n",
       "      <td>DNI 41277861</td>\n",
       "      <td>TEL.CELULAR</td>\n",
       "      <td>3624540964</td>\n",
       "      <td>77.0</td>\n",
       "    </tr>\n",
       "    <tr>\n",
       "      <th>5903</th>\n",
       "      <td>41277861</td>\n",
       "      <td>DNI 41277861</td>\n",
       "      <td>TEL.CELULAR</td>\n",
       "      <td>3624666014</td>\n",
       "      <td>77.0</td>\n",
       "    </tr>\n",
       "    <tr>\n",
       "      <th>5904</th>\n",
       "      <td>41277861</td>\n",
       "      <td>DNI 41277861</td>\n",
       "      <td>TEL.CELULAR</td>\n",
       "      <td>3624007069</td>\n",
       "      <td>90.0</td>\n",
       "    </tr>\n",
       "    <tr>\n",
       "      <th>5905</th>\n",
       "      <td>41277861</td>\n",
       "      <td>DNI 41277861</td>\n",
       "      <td>TEL.CELULAR</td>\n",
       "      <td>3624624087</td>\n",
       "      <td>77.0</td>\n",
       "    </tr>\n",
       "    <tr>\n",
       "      <th>5906</th>\n",
       "      <td>41277861</td>\n",
       "      <td>DNI 41277861</td>\n",
       "      <td>TEL.CELULAR</td>\n",
       "      <td>3624065605</td>\n",
       "      <td>77.0</td>\n",
       "    </tr>\n",
       "  </tbody>\n",
       "</table>\n",
       "</div>"
      ],
      "text/plain": [
       "     DOCUMENTO            IDMOROSO         TIPO           DATO  SCORE_DATO\n",
       "5899  41277861        DNI 41277861  TEL.CELULAR     3624603039        77.0\n",
       "5900  41277861  DNI 41277861           TEL.FIJO  0362154360701       103.0\n",
       "5901  41277861        DNI 41277861  TEL.CELULAR     3625265226        90.0\n",
       "5902  41277861        DNI 41277861  TEL.CELULAR     3624540964        77.0\n",
       "5903  41277861        DNI 41277861  TEL.CELULAR     3624666014        77.0\n",
       "5904  41277861        DNI 41277861  TEL.CELULAR     3624007069        90.0\n",
       "5905  41277861        DNI 41277861  TEL.CELULAR     3624624087        77.0\n",
       "5906  41277861        DNI 41277861  TEL.CELULAR     3624065605        77.0"
      ]
     },
     "execution_count": 5,
     "metadata": {},
     "output_type": "execute_result"
    }
   ],
   "source": [
    "df[df['DOCUMENTO'] == '41277861']"
   ]
  },
  {
   "cell_type": "markdown",
   "id": "impressed-honor",
   "metadata": {},
   "source": [
    "Vamos a generar 3 dataframes. \n",
    "\n",
    "- Uno para celulares.\n",
    "- Otro para fijos.\n",
    "- Otro para mails.\n",
    "\n",
    "En cada uno, vamos a quedarnos solamente con un único dato por moroso. \n",
    "Finalmente, unimos los 3 dataframes."
   ]
  },
  {
   "cell_type": "code",
   "execution_count": 6,
   "id": "dirty-housing",
   "metadata": {},
   "outputs": [],
   "source": [
    "df_celular = df [df['TIPO'] == 'TEL.CELULAR']"
   ]
  },
  {
   "cell_type": "code",
   "execution_count": 7,
   "id": "broke-command",
   "metadata": {},
   "outputs": [],
   "source": [
    "df_fijo = df [df['TIPO'] == 'TEL.FIJO']"
   ]
  },
  {
   "cell_type": "code",
   "execution_count": 8,
   "id": "focused-bunny",
   "metadata": {},
   "outputs": [],
   "source": [
    "df_email = df [df['TIPO'] == 'EMAIL']"
   ]
  },
  {
   "cell_type": "markdown",
   "id": "cordless-value",
   "metadata": {},
   "source": [
    "## Celular"
   ]
  },
  {
   "cell_type": "code",
   "execution_count": 9,
   "id": "graphic-palestine",
   "metadata": {},
   "outputs": [
    {
     "data": {
      "text/plain": [
       "(2617, 5)"
      ]
     },
     "execution_count": 9,
     "metadata": {},
     "output_type": "execute_result"
    }
   ],
   "source": [
    "df_celular.shape"
   ]
  },
  {
   "cell_type": "code",
   "execution_count": 10,
   "id": "amateur-virtue",
   "metadata": {},
   "outputs": [],
   "source": [
    "df_celular = df_celular.sort_values (by=['SCORE_DATO'],ascending=False)"
   ]
  },
  {
   "cell_type": "code",
   "execution_count": 11,
   "id": "developed-antarctica",
   "metadata": {
    "scrolled": true
   },
   "outputs": [],
   "source": [
    "df_celular = df_celular.drop_duplicates(subset=['DOCUMENTO'], keep='first')"
   ]
  },
  {
   "cell_type": "code",
   "execution_count": 12,
   "id": "productive-distance",
   "metadata": {},
   "outputs": [
    {
     "data": {
      "text/plain": [
       "1"
      ]
     },
     "execution_count": 12,
     "metadata": {},
     "output_type": "execute_result"
    }
   ],
   "source": [
    "df_celular['DOCUMENTO'].value_counts().max()"
   ]
  },
  {
   "cell_type": "markdown",
   "id": "premium-intranet",
   "metadata": {},
   "source": [
    "Tenemos 1 dato por documento"
   ]
  },
  {
   "cell_type": "markdown",
   "id": "impressed-acrobat",
   "metadata": {},
   "source": [
    "## Fijos"
   ]
  },
  {
   "cell_type": "code",
   "execution_count": 13,
   "id": "intensive-management",
   "metadata": {},
   "outputs": [
    {
     "data": {
      "text/plain": [
       "(3910, 5)"
      ]
     },
     "execution_count": 13,
     "metadata": {},
     "output_type": "execute_result"
    }
   ],
   "source": [
    "df_fijo.shape"
   ]
  },
  {
   "cell_type": "code",
   "execution_count": 14,
   "id": "together-cassette",
   "metadata": {},
   "outputs": [],
   "source": [
    "df_fijo = df_fijo.sort_values (by=['SCORE_DATO'], ascending=False)"
   ]
  },
  {
   "cell_type": "code",
   "execution_count": 15,
   "id": "level-contemporary",
   "metadata": {
    "scrolled": true
   },
   "outputs": [
    {
     "data": {
      "text/html": [
       "<div>\n",
       "<style scoped>\n",
       "    .dataframe tbody tr th:only-of-type {\n",
       "        vertical-align: middle;\n",
       "    }\n",
       "\n",
       "    .dataframe tbody tr th {\n",
       "        vertical-align: top;\n",
       "    }\n",
       "\n",
       "    .dataframe thead th {\n",
       "        text-align: right;\n",
       "    }\n",
       "</style>\n",
       "<table border=\"1\" class=\"dataframe\">\n",
       "  <thead>\n",
       "    <tr style=\"text-align: right;\">\n",
       "      <th></th>\n",
       "      <th>DOCUMENTO</th>\n",
       "      <th>IDMOROSO</th>\n",
       "      <th>TIPO</th>\n",
       "      <th>DATO</th>\n",
       "      <th>SCORE_DATO</th>\n",
       "    </tr>\n",
       "  </thead>\n",
       "  <tbody>\n",
       "    <tr>\n",
       "      <th>4230</th>\n",
       "      <td>31704997</td>\n",
       "      <td>DNI 31704997</td>\n",
       "      <td>TEL.FIJO</td>\n",
       "      <td>1532596668</td>\n",
       "      <td>125.0</td>\n",
       "    </tr>\n",
       "    <tr>\n",
       "      <th>1125</th>\n",
       "      <td>17862321</td>\n",
       "      <td>DNI 17862321</td>\n",
       "      <td>TEL.FIJO</td>\n",
       "      <td>1551502599</td>\n",
       "      <td>125.0</td>\n",
       "    </tr>\n",
       "    <tr>\n",
       "      <th>3925</th>\n",
       "      <td>30451381</td>\n",
       "      <td>DNI 30451381</td>\n",
       "      <td>TEL.FIJO</td>\n",
       "      <td>0223155283282</td>\n",
       "      <td>120.0</td>\n",
       "    </tr>\n",
       "    <tr>\n",
       "      <th>105</th>\n",
       "      <td>10952009</td>\n",
       "      <td>DNI 10952009</td>\n",
       "      <td>TEL.FIJO</td>\n",
       "      <td>43411000</td>\n",
       "      <td>120.0</td>\n",
       "    </tr>\n",
       "    <tr>\n",
       "      <th>3756</th>\n",
       "      <td>29658062</td>\n",
       "      <td>DNI 29658062</td>\n",
       "      <td>TEL.FIJO</td>\n",
       "      <td>03416791192</td>\n",
       "      <td>120.0</td>\n",
       "    </tr>\n",
       "    <tr>\n",
       "      <th>5487</th>\n",
       "      <td>38328690</td>\n",
       "      <td>DNI 38328690</td>\n",
       "      <td>TEL.FIJO</td>\n",
       "      <td>0351156147259</td>\n",
       "      <td>120.0</td>\n",
       "    </tr>\n",
       "    <tr>\n",
       "      <th>5973</th>\n",
       "      <td>41912247</td>\n",
       "      <td>DNI 41912247</td>\n",
       "      <td>TEL.FIJO</td>\n",
       "      <td>42394100</td>\n",
       "      <td>120.0</td>\n",
       "    </tr>\n",
       "    <tr>\n",
       "      <th>1201</th>\n",
       "      <td>18155908</td>\n",
       "      <td>DNI 18155908</td>\n",
       "      <td>TEL.FIJO</td>\n",
       "      <td>46041039</td>\n",
       "      <td>120.0</td>\n",
       "    </tr>\n",
       "    <tr>\n",
       "      <th>3083</th>\n",
       "      <td>27068054</td>\n",
       "      <td>DNI 27068054</td>\n",
       "      <td>TEL.FIJO</td>\n",
       "      <td>44545511</td>\n",
       "      <td>120.0</td>\n",
       "    </tr>\n",
       "    <tr>\n",
       "      <th>1230</th>\n",
       "      <td>18245278</td>\n",
       "      <td>DNI 18245278</td>\n",
       "      <td>TEL.FIJO</td>\n",
       "      <td>46210528</td>\n",
       "      <td>120.0</td>\n",
       "    </tr>\n",
       "    <tr>\n",
       "      <th>4434</th>\n",
       "      <td>32546583</td>\n",
       "      <td>DNI 32546583</td>\n",
       "      <td>TEL.FIJO</td>\n",
       "      <td>03414555525</td>\n",
       "      <td>120.0</td>\n",
       "    </tr>\n",
       "    <tr>\n",
       "      <th>1733</th>\n",
       "      <td>21983088</td>\n",
       "      <td>DNI 21983088</td>\n",
       "      <td>TEL.FIJO</td>\n",
       "      <td>1132265457</td>\n",
       "      <td>120.0</td>\n",
       "    </tr>\n",
       "    <tr>\n",
       "      <th>5422</th>\n",
       "      <td>37882180</td>\n",
       "      <td>DNI 37882180</td>\n",
       "      <td>TEL.FIJO</td>\n",
       "      <td>0379154158724</td>\n",
       "      <td>120.0</td>\n",
       "    </tr>\n",
       "    <tr>\n",
       "      <th>5517</th>\n",
       "      <td>38453878</td>\n",
       "      <td>DNI 38453878</td>\n",
       "      <td>TEL.FIJO</td>\n",
       "      <td>0221153094437</td>\n",
       "      <td>120.0</td>\n",
       "    </tr>\n",
       "    <tr>\n",
       "      <th>102</th>\n",
       "      <td>10939067</td>\n",
       "      <td>DNI 10939067</td>\n",
       "      <td>TEL.FIJO</td>\n",
       "      <td>46351894</td>\n",
       "      <td>120.0</td>\n",
       "    </tr>\n",
       "  </tbody>\n",
       "</table>\n",
       "</div>"
      ],
      "text/plain": [
       "     DOCUMENTO            IDMOROSO      TIPO           DATO  SCORE_DATO\n",
       "4230  31704997  DNI 31704997        TEL.FIJO     1532596668       125.0\n",
       "1125  17862321  DNI 17862321        TEL.FIJO     1551502599       125.0\n",
       "3925  30451381  DNI 30451381        TEL.FIJO  0223155283282       120.0\n",
       "105   10952009  DNI 10952009        TEL.FIJO       43411000       120.0\n",
       "3756  29658062  DNI 29658062        TEL.FIJO    03416791192       120.0\n",
       "5487  38328690  DNI 38328690        TEL.FIJO  0351156147259       120.0\n",
       "5973  41912247  DNI 41912247        TEL.FIJO       42394100       120.0\n",
       "1201  18155908  DNI 18155908        TEL.FIJO       46041039       120.0\n",
       "3083  27068054  DNI 27068054        TEL.FIJO       44545511       120.0\n",
       "1230  18245278  DNI 18245278        TEL.FIJO       46210528       120.0\n",
       "4434  32546583  DNI 32546583        TEL.FIJO    03414555525       120.0\n",
       "1733  21983088  DNI 21983088        TEL.FIJO     1132265457       120.0\n",
       "5422  37882180  DNI 37882180        TEL.FIJO  0379154158724       120.0\n",
       "5517  38453878  DNI 38453878        TEL.FIJO  0221153094437       120.0\n",
       "102   10939067  DNI 10939067        TEL.FIJO       46351894       120.0"
      ]
     },
     "execution_count": 15,
     "metadata": {},
     "output_type": "execute_result"
    }
   ],
   "source": [
    "df_fijo.head(15)"
   ]
  },
  {
   "cell_type": "code",
   "execution_count": 16,
   "id": "congressional-literacy",
   "metadata": {},
   "outputs": [],
   "source": [
    "df_fijo = df_fijo.drop_duplicates(subset=['DOCUMENTO'], keep='first')"
   ]
  },
  {
   "cell_type": "code",
   "execution_count": 17,
   "id": "consistent-singapore",
   "metadata": {},
   "outputs": [
    {
     "data": {
      "text/plain": [
       "1"
      ]
     },
     "execution_count": 17,
     "metadata": {},
     "output_type": "execute_result"
    }
   ],
   "source": [
    "df_fijo['DOCUMENTO'].value_counts().max()"
   ]
  },
  {
   "cell_type": "code",
   "execution_count": 18,
   "id": "subject-membership",
   "metadata": {},
   "outputs": [
    {
     "data": {
      "text/html": [
       "<div>\n",
       "<style scoped>\n",
       "    .dataframe tbody tr th:only-of-type {\n",
       "        vertical-align: middle;\n",
       "    }\n",
       "\n",
       "    .dataframe tbody tr th {\n",
       "        vertical-align: top;\n",
       "    }\n",
       "\n",
       "    .dataframe thead th {\n",
       "        text-align: right;\n",
       "    }\n",
       "</style>\n",
       "<table border=\"1\" class=\"dataframe\">\n",
       "  <thead>\n",
       "    <tr style=\"text-align: right;\">\n",
       "      <th></th>\n",
       "      <th>DOCUMENTO</th>\n",
       "      <th>IDMOROSO</th>\n",
       "      <th>TIPO</th>\n",
       "      <th>DATO</th>\n",
       "      <th>SCORE_DATO</th>\n",
       "    </tr>\n",
       "  </thead>\n",
       "  <tbody>\n",
       "    <tr>\n",
       "      <th>4230</th>\n",
       "      <td>31704997</td>\n",
       "      <td>DNI 31704997</td>\n",
       "      <td>TEL.FIJO</td>\n",
       "      <td>1532596668</td>\n",
       "      <td>125.0</td>\n",
       "    </tr>\n",
       "    <tr>\n",
       "      <th>1125</th>\n",
       "      <td>17862321</td>\n",
       "      <td>DNI 17862321</td>\n",
       "      <td>TEL.FIJO</td>\n",
       "      <td>1551502599</td>\n",
       "      <td>125.0</td>\n",
       "    </tr>\n",
       "    <tr>\n",
       "      <th>3925</th>\n",
       "      <td>30451381</td>\n",
       "      <td>DNI 30451381</td>\n",
       "      <td>TEL.FIJO</td>\n",
       "      <td>0223155283282</td>\n",
       "      <td>120.0</td>\n",
       "    </tr>\n",
       "    <tr>\n",
       "      <th>105</th>\n",
       "      <td>10952009</td>\n",
       "      <td>DNI 10952009</td>\n",
       "      <td>TEL.FIJO</td>\n",
       "      <td>43411000</td>\n",
       "      <td>120.0</td>\n",
       "    </tr>\n",
       "    <tr>\n",
       "      <th>3756</th>\n",
       "      <td>29658062</td>\n",
       "      <td>DNI 29658062</td>\n",
       "      <td>TEL.FIJO</td>\n",
       "      <td>03416791192</td>\n",
       "      <td>120.0</td>\n",
       "    </tr>\n",
       "    <tr>\n",
       "      <th>5487</th>\n",
       "      <td>38328690</td>\n",
       "      <td>DNI 38328690</td>\n",
       "      <td>TEL.FIJO</td>\n",
       "      <td>0351156147259</td>\n",
       "      <td>120.0</td>\n",
       "    </tr>\n",
       "    <tr>\n",
       "      <th>5973</th>\n",
       "      <td>41912247</td>\n",
       "      <td>DNI 41912247</td>\n",
       "      <td>TEL.FIJO</td>\n",
       "      <td>42394100</td>\n",
       "      <td>120.0</td>\n",
       "    </tr>\n",
       "    <tr>\n",
       "      <th>1201</th>\n",
       "      <td>18155908</td>\n",
       "      <td>DNI 18155908</td>\n",
       "      <td>TEL.FIJO</td>\n",
       "      <td>46041039</td>\n",
       "      <td>120.0</td>\n",
       "    </tr>\n",
       "    <tr>\n",
       "      <th>3083</th>\n",
       "      <td>27068054</td>\n",
       "      <td>DNI 27068054</td>\n",
       "      <td>TEL.FIJO</td>\n",
       "      <td>44545511</td>\n",
       "      <td>120.0</td>\n",
       "    </tr>\n",
       "    <tr>\n",
       "      <th>1230</th>\n",
       "      <td>18245278</td>\n",
       "      <td>DNI 18245278</td>\n",
       "      <td>TEL.FIJO</td>\n",
       "      <td>46210528</td>\n",
       "      <td>120.0</td>\n",
       "    </tr>\n",
       "    <tr>\n",
       "      <th>4434</th>\n",
       "      <td>32546583</td>\n",
       "      <td>DNI 32546583</td>\n",
       "      <td>TEL.FIJO</td>\n",
       "      <td>03414555525</td>\n",
       "      <td>120.0</td>\n",
       "    </tr>\n",
       "    <tr>\n",
       "      <th>1733</th>\n",
       "      <td>21983088</td>\n",
       "      <td>DNI 21983088</td>\n",
       "      <td>TEL.FIJO</td>\n",
       "      <td>1132265457</td>\n",
       "      <td>120.0</td>\n",
       "    </tr>\n",
       "    <tr>\n",
       "      <th>5422</th>\n",
       "      <td>37882180</td>\n",
       "      <td>DNI 37882180</td>\n",
       "      <td>TEL.FIJO</td>\n",
       "      <td>0379154158724</td>\n",
       "      <td>120.0</td>\n",
       "    </tr>\n",
       "    <tr>\n",
       "      <th>5517</th>\n",
       "      <td>38453878</td>\n",
       "      <td>DNI 38453878</td>\n",
       "      <td>TEL.FIJO</td>\n",
       "      <td>0221153094437</td>\n",
       "      <td>120.0</td>\n",
       "    </tr>\n",
       "    <tr>\n",
       "      <th>102</th>\n",
       "      <td>10939067</td>\n",
       "      <td>DNI 10939067</td>\n",
       "      <td>TEL.FIJO</td>\n",
       "      <td>46351894</td>\n",
       "      <td>120.0</td>\n",
       "    </tr>\n",
       "  </tbody>\n",
       "</table>\n",
       "</div>"
      ],
      "text/plain": [
       "     DOCUMENTO            IDMOROSO      TIPO           DATO  SCORE_DATO\n",
       "4230  31704997  DNI 31704997        TEL.FIJO     1532596668       125.0\n",
       "1125  17862321  DNI 17862321        TEL.FIJO     1551502599       125.0\n",
       "3925  30451381  DNI 30451381        TEL.FIJO  0223155283282       120.0\n",
       "105   10952009  DNI 10952009        TEL.FIJO       43411000       120.0\n",
       "3756  29658062  DNI 29658062        TEL.FIJO    03416791192       120.0\n",
       "5487  38328690  DNI 38328690        TEL.FIJO  0351156147259       120.0\n",
       "5973  41912247  DNI 41912247        TEL.FIJO       42394100       120.0\n",
       "1201  18155908  DNI 18155908        TEL.FIJO       46041039       120.0\n",
       "3083  27068054  DNI 27068054        TEL.FIJO       44545511       120.0\n",
       "1230  18245278  DNI 18245278        TEL.FIJO       46210528       120.0\n",
       "4434  32546583  DNI 32546583        TEL.FIJO    03414555525       120.0\n",
       "1733  21983088  DNI 21983088        TEL.FIJO     1132265457       120.0\n",
       "5422  37882180  DNI 37882180        TEL.FIJO  0379154158724       120.0\n",
       "5517  38453878  DNI 38453878        TEL.FIJO  0221153094437       120.0\n",
       "102   10939067  DNI 10939067        TEL.FIJO       46351894       120.0"
      ]
     },
     "execution_count": 18,
     "metadata": {},
     "output_type": "execute_result"
    }
   ],
   "source": [
    "df_fijo.head(15)"
   ]
  },
  {
   "cell_type": "markdown",
   "id": "south-switzerland",
   "metadata": {},
   "source": [
    "## Mails"
   ]
  },
  {
   "cell_type": "code",
   "execution_count": 19,
   "id": "proper-hybrid",
   "metadata": {},
   "outputs": [
    {
     "data": {
      "text/plain": [
       "(164, 5)"
      ]
     },
     "execution_count": 19,
     "metadata": {},
     "output_type": "execute_result"
    }
   ],
   "source": [
    "df_email.shape"
   ]
  },
  {
   "cell_type": "code",
   "execution_count": 20,
   "id": "proud-ridge",
   "metadata": {},
   "outputs": [],
   "source": [
    "df_email = df_email.sort_values (by=['SCORE_DATO'], ascending=False)"
   ]
  },
  {
   "cell_type": "code",
   "execution_count": 21,
   "id": "educational-party",
   "metadata": {},
   "outputs": [],
   "source": [
    "df_email = df_email.drop_duplicates(subset=['DOCUMENTO'], keep='first')"
   ]
  },
  {
   "cell_type": "code",
   "execution_count": 22,
   "id": "improved-guitar",
   "metadata": {},
   "outputs": [
    {
     "data": {
      "text/plain": [
       "1"
      ]
     },
     "execution_count": 22,
     "metadata": {},
     "output_type": "execute_result"
    }
   ],
   "source": [
    "df_email['DOCUMENTO'].value_counts().max()"
   ]
  },
  {
   "cell_type": "markdown",
   "id": "outside-round",
   "metadata": {},
   "source": [
    "## Concatenación de dataframes"
   ]
  },
  {
   "cell_type": "code",
   "execution_count": 23,
   "id": "fresh-bailey",
   "metadata": {},
   "outputs": [],
   "source": [
    "df_tels = pd.concat([df_fijo, df_celular])"
   ]
  },
  {
   "cell_type": "code",
   "execution_count": 24,
   "id": "outer-price",
   "metadata": {},
   "outputs": [],
   "source": [
    "df_total = pd.concat([df_tels, df_email])"
   ]
  },
  {
   "cell_type": "code",
   "execution_count": 25,
   "id": "instructional-plaintiff",
   "metadata": {
    "scrolled": true
   },
   "outputs": [
    {
     "data": {
      "text/html": [
       "<div>\n",
       "<style scoped>\n",
       "    .dataframe tbody tr th:only-of-type {\n",
       "        vertical-align: middle;\n",
       "    }\n",
       "\n",
       "    .dataframe tbody tr th {\n",
       "        vertical-align: top;\n",
       "    }\n",
       "\n",
       "    .dataframe thead th {\n",
       "        text-align: right;\n",
       "    }\n",
       "</style>\n",
       "<table border=\"1\" class=\"dataframe\">\n",
       "  <thead>\n",
       "    <tr style=\"text-align: right;\">\n",
       "      <th></th>\n",
       "      <th>DOCUMENTO</th>\n",
       "      <th>IDMOROSO</th>\n",
       "      <th>TIPO</th>\n",
       "      <th>DATO</th>\n",
       "      <th>SCORE_DATO</th>\n",
       "    </tr>\n",
       "  </thead>\n",
       "  <tbody>\n",
       "    <tr>\n",
       "      <th>4230</th>\n",
       "      <td>31704997</td>\n",
       "      <td>DNI 31704997</td>\n",
       "      <td>TEL.FIJO</td>\n",
       "      <td>1532596668</td>\n",
       "      <td>125.0</td>\n",
       "    </tr>\n",
       "    <tr>\n",
       "      <th>1125</th>\n",
       "      <td>17862321</td>\n",
       "      <td>DNI 17862321</td>\n",
       "      <td>TEL.FIJO</td>\n",
       "      <td>1551502599</td>\n",
       "      <td>125.0</td>\n",
       "    </tr>\n",
       "    <tr>\n",
       "      <th>3925</th>\n",
       "      <td>30451381</td>\n",
       "      <td>DNI 30451381</td>\n",
       "      <td>TEL.FIJO</td>\n",
       "      <td>0223155283282</td>\n",
       "      <td>120.0</td>\n",
       "    </tr>\n",
       "    <tr>\n",
       "      <th>105</th>\n",
       "      <td>10952009</td>\n",
       "      <td>DNI 10952009</td>\n",
       "      <td>TEL.FIJO</td>\n",
       "      <td>43411000</td>\n",
       "      <td>120.0</td>\n",
       "    </tr>\n",
       "    <tr>\n",
       "      <th>3756</th>\n",
       "      <td>29658062</td>\n",
       "      <td>DNI 29658062</td>\n",
       "      <td>TEL.FIJO</td>\n",
       "      <td>03416791192</td>\n",
       "      <td>120.0</td>\n",
       "    </tr>\n",
       "  </tbody>\n",
       "</table>\n",
       "</div>"
      ],
      "text/plain": [
       "     DOCUMENTO            IDMOROSO      TIPO           DATO  SCORE_DATO\n",
       "4230  31704997  DNI 31704997        TEL.FIJO     1532596668       125.0\n",
       "1125  17862321  DNI 17862321        TEL.FIJO     1551502599       125.0\n",
       "3925  30451381  DNI 30451381        TEL.FIJO  0223155283282       120.0\n",
       "105   10952009  DNI 10952009        TEL.FIJO       43411000       120.0\n",
       "3756  29658062  DNI 29658062        TEL.FIJO    03416791192       120.0"
      ]
     },
     "execution_count": 25,
     "metadata": {},
     "output_type": "execute_result"
    }
   ],
   "source": [
    "df_total.head()"
   ]
  },
  {
   "cell_type": "code",
   "execution_count": 26,
   "id": "changed-hollow",
   "metadata": {},
   "outputs": [],
   "source": [
    "df_total = df_total.sort_values (by=['DOCUMENTO'])"
   ]
  },
  {
   "cell_type": "code",
   "execution_count": 27,
   "id": "lesbian-project",
   "metadata": {},
   "outputs": [],
   "source": [
    "df_total = df_total [['DOCUMENTO','TIPO','DATO']]"
   ]
  },
  {
   "cell_type": "code",
   "execution_count": 28,
   "id": "naked-technology",
   "metadata": {},
   "outputs": [
    {
     "data": {
      "text/plain": [
       "(5731, 3)"
      ]
     },
     "execution_count": 28,
     "metadata": {},
     "output_type": "execute_result"
    }
   ],
   "source": [
    "df_total.shape"
   ]
  },
  {
   "cell_type": "code",
   "execution_count": 29,
   "id": "swedish-pleasure",
   "metadata": {},
   "outputs": [],
   "source": [
    "df_total.to_excel ('Devolucion Base Enriquecida.xlsx',index = False)"
   ]
  },
  {
   "cell_type": "code",
   "execution_count": 34,
   "id": "certain-socket",
   "metadata": {},
   "outputs": [],
   "source": [
    "df2 = df_total"
   ]
  },
  {
   "cell_type": "code",
   "execution_count": 35,
   "id": "compound-procedure",
   "metadata": {},
   "outputs": [],
   "source": [
    "df2.loc[df2['TIPO'] == 'TEL.FIJO','TEL.FIJO'] = df2['DATO']"
   ]
  },
  {
   "cell_type": "code",
   "execution_count": 37,
   "id": "pediatric-helmet",
   "metadata": {},
   "outputs": [],
   "source": [
    "df2.loc[df2['TIPO'] == 'TEL.CELULAR','TEL.CELULAR'] = df2['DATO']"
   ]
  },
  {
   "cell_type": "code",
   "execution_count": 38,
   "id": "sustainable-press",
   "metadata": {},
   "outputs": [],
   "source": [
    "df2.loc[df2['TIPO'] == 'EMAIL','EMAIL'] = df2['DATO']"
   ]
  },
  {
   "cell_type": "code",
   "execution_count": 40,
   "id": "further-champagne",
   "metadata": {},
   "outputs": [],
   "source": [
    "df2 = df2 [['DOCUMENTO','TEL.FIJO','TEL.CELULAR','EMAIL']]"
   ]
  },
  {
   "cell_type": "code",
   "execution_count": 52,
   "id": "confident-camera",
   "metadata": {},
   "outputs": [],
   "source": [
    "df2.to_excel ('Devolucion Base Enriquecida - 2.xlsx',index = False)"
   ]
  },
  {
   "cell_type": "code",
   "execution_count": 50,
   "id": "confident-episode",
   "metadata": {},
   "outputs": [],
   "source": [
    "df2 = df2.groupby('DOCUMENTO').sum(['TEL.FIJO','TEL.CELULAR','EMAIL'])"
   ]
  },
  {
   "cell_type": "code",
   "execution_count": null,
   "id": "assured-wildlife",
   "metadata": {},
   "outputs": [],
   "source": []
  }
 ],
 "metadata": {
  "kernelspec": {
   "display_name": "Python 3",
   "language": "python",
   "name": "python3"
  },
  "language_info": {
   "codemirror_mode": {
    "name": "ipython",
    "version": 3
   },
   "file_extension": ".py",
   "mimetype": "text/x-python",
   "name": "python",
   "nbconvert_exporter": "python",
   "pygments_lexer": "ipython3",
   "version": "3.8.6"
  }
 },
 "nbformat": 4,
 "nbformat_minor": 5
}
