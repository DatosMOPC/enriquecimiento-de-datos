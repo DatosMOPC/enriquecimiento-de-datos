{
 "cells": [
  {
   "cell_type": "code",
   "execution_count": 1,
   "id": "modular-woman",
   "metadata": {},
   "outputs": [],
   "source": [
    "import pandas as pd\n",
    "import numpy as np"
   ]
  },
  {
   "cell_type": "code",
   "execution_count": 2,
   "id": "executive-blackberry",
   "metadata": {},
   "outputs": [],
   "source": [
    "df = pd.read_csv('/mnt/c/users/Dleg/Data/MOPC/MOPC/Enriquecimiento de Datos/Data Cleaning/Contacto Directo/Datasets/Datasets enviados/cartera_completa_estado_idcliente - 0103.csv')"
   ]
  },
  {
   "cell_type": "code",
   "execution_count": 3,
   "id": "aggregate-packing",
   "metadata": {},
   "outputs": [
    {
     "data": {
      "text/plain": [
       "(58665, 6)"
      ]
     },
     "execution_count": 3,
     "metadata": {},
     "output_type": "execute_result"
    }
   ],
   "source": [
    "df.shape"
   ]
  },
  {
   "cell_type": "code",
   "execution_count": 4,
   "id": "directed-swimming",
   "metadata": {},
   "outputs": [
    {
     "data": {
      "text/html": [
       "<div>\n",
       "<style scoped>\n",
       "    .dataframe tbody tr th:only-of-type {\n",
       "        vertical-align: middle;\n",
       "    }\n",
       "\n",
       "    .dataframe tbody tr th {\n",
       "        vertical-align: top;\n",
       "    }\n",
       "\n",
       "    .dataframe thead th {\n",
       "        text-align: right;\n",
       "    }\n",
       "</style>\n",
       "<table border=\"1\" class=\"dataframe\">\n",
       "  <thead>\n",
       "    <tr style=\"text-align: right;\">\n",
       "      <th></th>\n",
       "      <th>IDMOROSO</th>\n",
       "      <th>DATOADIC</th>\n",
       "      <th>NOMBRE</th>\n",
       "      <th>IDCLIENTE</th>\n",
       "      <th>ESTADO</th>\n",
       "      <th>DNI</th>\n",
       "    </tr>\n",
       "  </thead>\n",
       "  <tbody>\n",
       "    <tr>\n",
       "      <th>0</th>\n",
       "      <td>CUIT20115091280</td>\n",
       "      <td></td>\n",
       "      <td>SUCESION DE CAISUTTI MIGUEL</td>\n",
       "      <td>BSR_TARDIA</td>\n",
       "      <td>SKIP LEVEL 2</td>\n",
       "      <td>CUIT20115091280</td>\n",
       "    </tr>\n",
       "    <tr>\n",
       "      <th>1</th>\n",
       "      <td>CUIT30500181547</td>\n",
       "      <td></td>\n",
       "      <td>LITOGRAFIA CUYO SA</td>\n",
       "      <td>BSR_TARDIA</td>\n",
       "      <td>PROBLEMA</td>\n",
       "      <td>CUIT30500181547</td>\n",
       "    </tr>\n",
       "    <tr>\n",
       "      <th>2</th>\n",
       "      <td>CUIT30501109041</td>\n",
       "      <td></td>\n",
       "      <td>EMEGE SA</td>\n",
       "      <td>BSR_TARDIA</td>\n",
       "      <td>NO UBICADO</td>\n",
       "      <td>CUIT30501109041</td>\n",
       "    </tr>\n",
       "    <tr>\n",
       "      <th>3</th>\n",
       "      <td>CUIT30502016373</td>\n",
       "      <td></td>\n",
       "      <td>IATILO SA</td>\n",
       "      <td>BSR_TARDIA</td>\n",
       "      <td>NO UBICADO</td>\n",
       "      <td>CUIT30502016373</td>\n",
       "    </tr>\n",
       "    <tr>\n",
       "      <th>4</th>\n",
       "      <td>CUIT30502766917</td>\n",
       "      <td></td>\n",
       "      <td>MAZTER INDUSTR MADERIL SACIFI</td>\n",
       "      <td>BSR_TARDIA</td>\n",
       "      <td>INTERESADO_MOPCPAGOS</td>\n",
       "      <td>CUIT30502766917</td>\n",
       "    </tr>\n",
       "  </tbody>\n",
       "</table>\n",
       "</div>"
      ],
      "text/plain": [
       "             IDMOROSO                        DATOADIC  \\\n",
       "0  CUIT20115091280                                      \n",
       "1  CUIT30500181547                                      \n",
       "2  CUIT30501109041                                      \n",
       "3  CUIT30502016373                                      \n",
       "4  CUIT30502766917                                      \n",
       "\n",
       "                                     NOMBRE             IDCLIENTE  \\\n",
       "0  SUCESION DE CAISUTTI MIGUEL               BSR_TARDIA             \n",
       "1  LITOGRAFIA CUYO SA                        BSR_TARDIA             \n",
       "2  EMEGE SA                                  BSR_TARDIA             \n",
       "3  IATILO SA                                 BSR_TARDIA             \n",
       "4  MAZTER INDUSTR MADERIL SACIFI             BSR_TARDIA             \n",
       "\n",
       "                 ESTADO                             DNI  \n",
       "0  SKIP LEVEL 2          CUIT20115091280                 \n",
       "1  PROBLEMA              CUIT30500181547                 \n",
       "2  NO UBICADO            CUIT30501109041                 \n",
       "3  NO UBICADO            CUIT30502016373                 \n",
       "4  INTERESADO_MOPCPAGOS  CUIT30502766917                 "
      ]
     },
     "execution_count": 4,
     "metadata": {},
     "output_type": "execute_result"
    }
   ],
   "source": [
    "df.head()"
   ]
  },
  {
   "cell_type": "code",
   "execution_count": 5,
   "id": "favorite-upper",
   "metadata": {},
   "outputs": [],
   "source": [
    "val_count = df.IDCLIENTE.value_counts()"
   ]
  },
  {
   "cell_type": "code",
   "execution_count": 6,
   "id": "imposed-pharmacology",
   "metadata": {},
   "outputs": [],
   "source": [
    "val_count = val_count.to_frame()"
   ]
  },
  {
   "cell_type": "code",
   "execution_count": 7,
   "id": "qualified-arlington",
   "metadata": {},
   "outputs": [],
   "source": [
    "val_count.to_csv('/mnt/c/users/Dleg/Data/MOPC/MOPC/Enriquecimiento de Datos/Data Cleaning/Contacto Directo/Reportes/Reporte Contacto Directo.csv')"
   ]
  },
  {
   "cell_type": "code",
   "execution_count": 8,
   "id": "equal-scottish",
   "metadata": {},
   "outputs": [
    {
     "data": {
      "text/html": [
       "<div>\n",
       "<style scoped>\n",
       "    .dataframe tbody tr th:only-of-type {\n",
       "        vertical-align: middle;\n",
       "    }\n",
       "\n",
       "    .dataframe tbody tr th {\n",
       "        vertical-align: top;\n",
       "    }\n",
       "\n",
       "    .dataframe thead th {\n",
       "        text-align: right;\n",
       "    }\n",
       "</style>\n",
       "<table border=\"1\" class=\"dataframe\">\n",
       "  <thead>\n",
       "    <tr style=\"text-align: right;\">\n",
       "      <th></th>\n",
       "      <th>IDCLIENTE</th>\n",
       "    </tr>\n",
       "  </thead>\n",
       "  <tbody>\n",
       "    <tr>\n",
       "      <th>HSBC_2019</th>\n",
       "      <td>23022</td>\n",
       "    </tr>\n",
       "    <tr>\n",
       "      <th>BSR_TARDIA</th>\n",
       "      <td>10292</td>\n",
       "    </tr>\n",
       "    <tr>\n",
       "      <th>FRANCES_2012</th>\n",
       "      <td>7695</td>\n",
       "    </tr>\n",
       "    <tr>\n",
       "      <th>AMEX_PBRM</th>\n",
       "      <td>2427</td>\n",
       "    </tr>\n",
       "    <tr>\n",
       "      <th>AMEX_PARM</th>\n",
       "      <td>2363</td>\n",
       "    </tr>\n",
       "    <tr>\n",
       "      <th>AMEX_PALM</th>\n",
       "      <td>2119</td>\n",
       "    </tr>\n",
       "    <tr>\n",
       "      <th>AMEX_PFLM</th>\n",
       "      <td>2063</td>\n",
       "    </tr>\n",
       "    <tr>\n",
       "      <th>AMEX_PNCM</th>\n",
       "      <td>1286</td>\n",
       "    </tr>\n",
       "    <tr>\n",
       "      <th>FRAVEGA_LEGALES548</th>\n",
       "      <td>887</td>\n",
       "    </tr>\n",
       "    <tr>\n",
       "      <th>HSBC_LEGALES14</th>\n",
       "      <td>820</td>\n",
       "    </tr>\n",
       "    <tr>\n",
       "      <th>AMEX_TNLM</th>\n",
       "      <td>709</td>\n",
       "    </tr>\n",
       "    <tr>\n",
       "      <th>AMEX_PELM</th>\n",
       "      <td>655</td>\n",
       "    </tr>\n",
       "    <tr>\n",
       "      <th>AMEX_QINM</th>\n",
       "      <td>638</td>\n",
       "    </tr>\n",
       "    <tr>\n",
       "      <th>AMEX_QIPM</th>\n",
       "      <td>633</td>\n",
       "    </tr>\n",
       "    <tr>\n",
       "      <th>COTO10_TARD</th>\n",
       "      <td>365</td>\n",
       "    </tr>\n",
       "    <tr>\n",
       "      <th>AMEX_PBLM</th>\n",
       "      <td>357</td>\n",
       "    </tr>\n",
       "    <tr>\n",
       "      <th>AMEX_TNRM</th>\n",
       "      <td>274</td>\n",
       "    </tr>\n",
       "    <tr>\n",
       "      <th>AMEX_ALLR</th>\n",
       "      <td>265</td>\n",
       "    </tr>\n",
       "    <tr>\n",
       "      <th>COTO05_TARD</th>\n",
       "      <td>254</td>\n",
       "    </tr>\n",
       "    <tr>\n",
       "      <th>AMEX_ALHR</th>\n",
       "      <td>240</td>\n",
       "    </tr>\n",
       "    <tr>\n",
       "      <th>COTO23_TARD</th>\n",
       "      <td>238</td>\n",
       "    </tr>\n",
       "    <tr>\n",
       "      <th>AMEX_TNCM</th>\n",
       "      <td>217</td>\n",
       "    </tr>\n",
       "    <tr>\n",
       "      <th>AMEX_QRNM</th>\n",
       "      <td>212</td>\n",
       "    </tr>\n",
       "    <tr>\n",
       "      <th>AMEX_QRPM</th>\n",
       "      <td>184</td>\n",
       "    </tr>\n",
       "    <tr>\n",
       "      <th>COTO15_TARD</th>\n",
       "      <td>178</td>\n",
       "    </tr>\n",
       "    <tr>\n",
       "      <th>HSBC_LEGALES_TEMP</th>\n",
       "      <td>144</td>\n",
       "    </tr>\n",
       "    <tr>\n",
       "      <th>BBVA_LEGALES_PREJU</th>\n",
       "      <td>127</td>\n",
       "    </tr>\n",
       "    <tr>\n",
       "      <th>AMEX_PNRM</th>\n",
       "      <td>1</td>\n",
       "    </tr>\n",
       "  </tbody>\n",
       "</table>\n",
       "</div>"
      ],
      "text/plain": [
       "                      IDCLIENTE\n",
       "HSBC_2019                 23022\n",
       "BSR_TARDIA                10292\n",
       "FRANCES_2012               7695\n",
       "AMEX_PBRM                  2427\n",
       "AMEX_PARM                  2363\n",
       "AMEX_PALM                  2119\n",
       "AMEX_PFLM                  2063\n",
       "AMEX_PNCM                  1286\n",
       "FRAVEGA_LEGALES548          887\n",
       "HSBC_LEGALES14              820\n",
       "AMEX_TNLM                   709\n",
       "AMEX_PELM                   655\n",
       "AMEX_QINM                   638\n",
       "AMEX_QIPM                   633\n",
       "COTO10_TARD                 365\n",
       "AMEX_PBLM                   357\n",
       "AMEX_TNRM                   274\n",
       "AMEX_ALLR                   265\n",
       "COTO05_TARD                 254\n",
       "AMEX_ALHR                   240\n",
       "COTO23_TARD                 238\n",
       "AMEX_TNCM                   217\n",
       "AMEX_QRNM                   212\n",
       "AMEX_QRPM                   184\n",
       "COTO15_TARD                 178\n",
       "HSBC_LEGALES_TEMP           144\n",
       "BBVA_LEGALES_PREJU          127\n",
       "AMEX_PNRM                     1"
      ]
     },
     "execution_count": 8,
     "metadata": {},
     "output_type": "execute_result"
    }
   ],
   "source": [
    "val_count"
   ]
  },
  {
   "cell_type": "code",
   "execution_count": 9,
   "id": "major-savings",
   "metadata": {},
   "outputs": [
    {
     "data": {
      "text/html": [
       "<div>\n",
       "<style scoped>\n",
       "    .dataframe tbody tr th:only-of-type {\n",
       "        vertical-align: middle;\n",
       "    }\n",
       "\n",
       "    .dataframe tbody tr th {\n",
       "        vertical-align: top;\n",
       "    }\n",
       "\n",
       "    .dataframe thead th {\n",
       "        text-align: right;\n",
       "    }\n",
       "</style>\n",
       "<table border=\"1\" class=\"dataframe\">\n",
       "  <thead>\n",
       "    <tr style=\"text-align: right;\">\n",
       "      <th></th>\n",
       "      <th>IDMOROSO</th>\n",
       "      <th>DATOADIC</th>\n",
       "      <th>NOMBRE</th>\n",
       "      <th>IDCLIENTE</th>\n",
       "      <th>ESTADO</th>\n",
       "      <th>DNI</th>\n",
       "    </tr>\n",
       "  </thead>\n",
       "  <tbody>\n",
       "    <tr>\n",
       "      <th>44022</th>\n",
       "      <td>RMS376635284922001</td>\n",
       "      <td>23200155599</td>\n",
       "      <td>WALTER A DI GIUSEPPE</td>\n",
       "      <td>AMEX_ALHR</td>\n",
       "      <td>CANCELO FULL</td>\n",
       "      <td>23200155599</td>\n",
       "    </tr>\n",
       "    <tr>\n",
       "      <th>44023</th>\n",
       "      <td>RMS376635289491002</td>\n",
       "      <td>27039801022</td>\n",
       "      <td>HAYDEE SOFIA MORETTI</td>\n",
       "      <td>AMEX_ALHR</td>\n",
       "      <td>INTERESADO</td>\n",
       "      <td>27039801022</td>\n",
       "    </tr>\n",
       "    <tr>\n",
       "      <th>44024</th>\n",
       "      <td>RMS376635341591005</td>\n",
       "      <td>23183494279</td>\n",
       "      <td>MARCOS MACEDONIO SUAREZ</td>\n",
       "      <td>AMEX_ALHR</td>\n",
       "      <td>CANCELO FULL</td>\n",
       "      <td>23183494279</td>\n",
       "    </tr>\n",
       "    <tr>\n",
       "      <th>44025</th>\n",
       "      <td>RMS376635393504005</td>\n",
       "      <td>20040762222</td>\n",
       "      <td>MAURICIO SZEJNBERG</td>\n",
       "      <td>AMEX_ALHR</td>\n",
       "      <td>FALLECIDO</td>\n",
       "      <td>20040762222</td>\n",
       "    </tr>\n",
       "    <tr>\n",
       "      <th>44026</th>\n",
       "      <td>RMS376635839501003</td>\n",
       "      <td>20200270445</td>\n",
       "      <td>OSCAR FERNANDO SARVI</td>\n",
       "      <td>AMEX_ALHR</td>\n",
       "      <td>EN GESTION</td>\n",
       "      <td>20200270445</td>\n",
       "    </tr>\n",
       "    <tr>\n",
       "      <th>...</th>\n",
       "      <td>...</td>\n",
       "      <td>...</td>\n",
       "      <td>...</td>\n",
       "      <td>...</td>\n",
       "      <td>...</td>\n",
       "      <td>...</td>\n",
       "    </tr>\n",
       "    <tr>\n",
       "      <th>58660</th>\n",
       "      <td>RMS379977986051003</td>\n",
       "      <td>20282714559</td>\n",
       "      <td>JUAN JOSE REARTES</td>\n",
       "      <td>AMEX_PFLM</td>\n",
       "      <td>CANCELO FULL</td>\n",
       "      <td>20282714559</td>\n",
       "    </tr>\n",
       "    <tr>\n",
       "      <th>58661</th>\n",
       "      <td>RMS379977987042001</td>\n",
       "      <td>20119946000</td>\n",
       "      <td>CARLOS OSCAR SAMMARRA</td>\n",
       "      <td>AMEX_QRPM</td>\n",
       "      <td>CANCELO</td>\n",
       "      <td>20119946000</td>\n",
       "    </tr>\n",
       "    <tr>\n",
       "      <th>58662</th>\n",
       "      <td>RMS379977996031003</td>\n",
       "      <td>20239640959</td>\n",
       "      <td>FRANCISCO NASSIF SOTO</td>\n",
       "      <td>AMEX_PFLM</td>\n",
       "      <td>CANCELO FULL</td>\n",
       "      <td>20239640959</td>\n",
       "    </tr>\n",
       "    <tr>\n",
       "      <th>58663</th>\n",
       "      <td>RMS379977996132009</td>\n",
       "      <td>20315509654</td>\n",
       "      <td>NICOLAS A BERARDI</td>\n",
       "      <td>AMEX_TNCM</td>\n",
       "      <td>CANCELO</td>\n",
       "      <td>20315509654</td>\n",
       "    </tr>\n",
       "    <tr>\n",
       "      <th>58664</th>\n",
       "      <td>RMS379977998133005</td>\n",
       "      <td>20334219101</td>\n",
       "      <td>VILLEGAS GABRIEL</td>\n",
       "      <td>AMEX_QIPM</td>\n",
       "      <td>NO UBICADO</td>\n",
       "      <td>20334219101</td>\n",
       "    </tr>\n",
       "  </tbody>\n",
       "</table>\n",
       "<p>14643 rows × 6 columns</p>\n",
       "</div>"
      ],
      "text/plain": [
       "                 IDMOROSO                        DATOADIC  \\\n",
       "44022  RMS376635284922001  23200155599                      \n",
       "44023  RMS376635289491002  27039801022                      \n",
       "44024  RMS376635341591005  23183494279                      \n",
       "44025  RMS376635393504005  20040762222                      \n",
       "44026  RMS376635839501003  20200270445                      \n",
       "...                   ...                             ...   \n",
       "58660  RMS379977986051003  20282714559                      \n",
       "58661  RMS379977987042001  20119946000                      \n",
       "58662  RMS379977996031003  20239640959                      \n",
       "58663  RMS379977996132009  20315509654                      \n",
       "58664  RMS379977998133005  20334219101                      \n",
       "\n",
       "                                         NOMBRE             IDCLIENTE  \\\n",
       "44022  WALTER A DI GIUSEPPE                      AMEX_ALHR              \n",
       "44023  HAYDEE SOFIA MORETTI                      AMEX_ALHR              \n",
       "44024  MARCOS MACEDONIO SUAREZ                   AMEX_ALHR              \n",
       "44025  MAURICIO SZEJNBERG                        AMEX_ALHR              \n",
       "44026  OSCAR FERNANDO SARVI                      AMEX_ALHR              \n",
       "...                                         ...                   ...   \n",
       "58660  JUAN JOSE REARTES                         AMEX_PFLM              \n",
       "58661  CARLOS OSCAR SAMMARRA                     AMEX_QRPM              \n",
       "58662  FRANCISCO NASSIF SOTO                     AMEX_PFLM              \n",
       "58663  NICOLAS A BERARDI                         AMEX_TNCM              \n",
       "58664  VILLEGAS GABRIEL                          AMEX_QIPM              \n",
       "\n",
       "                     ESTADO          DNI  \n",
       "44022  CANCELO FULL          23200155599  \n",
       "44023  INTERESADO            27039801022  \n",
       "44024  CANCELO FULL          23183494279  \n",
       "44025  FALLECIDO             20040762222  \n",
       "44026  EN GESTION            20200270445  \n",
       "...                     ...          ...  \n",
       "58660  CANCELO FULL          20282714559  \n",
       "58661  CANCELO               20119946000  \n",
       "58662  CANCELO FULL          20239640959  \n",
       "58663  CANCELO               20315509654  \n",
       "58664  NO UBICADO            20334219101  \n",
       "\n",
       "[14643 rows x 6 columns]"
      ]
     },
     "execution_count": 9,
     "metadata": {},
     "output_type": "execute_result"
    }
   ],
   "source": [
    "df[df['IDCLIENTE'].str.startswith('AMEX')]"
   ]
  },
  {
   "cell_type": "markdown",
   "id": "confused-equilibrium",
   "metadata": {},
   "source": [
    "# Morosos recibidos"
   ]
  },
  {
   "cell_type": "code",
   "execution_count": 10,
   "id": "likely-elephant",
   "metadata": {},
   "outputs": [],
   "source": [
    "df_recibidos = pd.read_csv('/mnt/c/users/Dleg/Data/MOPC/MOPC/Enriquecimiento de Datos/Data Cleaning/Contacto Directo/Datasets/Datasets Recibidos/Cantidad_morosos_recibidos.csv')"
   ]
  },
  {
   "cell_type": "code",
   "execution_count": 11,
   "id": "floating-laptop",
   "metadata": {},
   "outputs": [
    {
     "data": {
      "text/plain": [
       "(4598, 2)"
      ]
     },
     "execution_count": 11,
     "metadata": {},
     "output_type": "execute_result"
    }
   ],
   "source": [
    "df_recibidos.shape"
   ]
  },
  {
   "cell_type": "code",
   "execution_count": 12,
   "id": "miniature-absolute",
   "metadata": {},
   "outputs": [
    {
     "data": {
      "text/html": [
       "<div>\n",
       "<style scoped>\n",
       "    .dataframe tbody tr th:only-of-type {\n",
       "        vertical-align: middle;\n",
       "    }\n",
       "\n",
       "    .dataframe tbody tr th {\n",
       "        vertical-align: top;\n",
       "    }\n",
       "\n",
       "    .dataframe thead th {\n",
       "        text-align: right;\n",
       "    }\n",
       "</style>\n",
       "<table border=\"1\" class=\"dataframe\">\n",
       "  <thead>\n",
       "    <tr style=\"text-align: right;\">\n",
       "      <th></th>\n",
       "      <th>IDMOROSO</th>\n",
       "      <th>IDCLIENTE</th>\n",
       "    </tr>\n",
       "  </thead>\n",
       "  <tbody>\n",
       "    <tr>\n",
       "      <th>0</th>\n",
       "      <td>CUIT30516256385</td>\n",
       "      <td>BSR_TARDIA</td>\n",
       "    </tr>\n",
       "    <tr>\n",
       "      <th>1</th>\n",
       "      <td>CUIT30679032492</td>\n",
       "      <td>BSR_TARDIA</td>\n",
       "    </tr>\n",
       "    <tr>\n",
       "      <th>2</th>\n",
       "      <td>CUIT30681758182</td>\n",
       "      <td>BSR_TARDIA</td>\n",
       "    </tr>\n",
       "    <tr>\n",
       "      <th>3</th>\n",
       "      <td>CUIT30691268086</td>\n",
       "      <td>BSR_TARDIA</td>\n",
       "    </tr>\n",
       "    <tr>\n",
       "      <th>4</th>\n",
       "      <td>CUIT30691709597</td>\n",
       "      <td>BSR_TARDIA</td>\n",
       "    </tr>\n",
       "  </tbody>\n",
       "</table>\n",
       "</div>"
      ],
      "text/plain": [
       "             IDMOROSO             IDCLIENTE\n",
       "0  CUIT30516256385     BSR_TARDIA          \n",
       "1  CUIT30679032492     BSR_TARDIA          \n",
       "2  CUIT30681758182     BSR_TARDIA          \n",
       "3  CUIT30691268086     BSR_TARDIA          \n",
       "4  CUIT30691709597     BSR_TARDIA          "
      ]
     },
     "execution_count": 12,
     "metadata": {},
     "output_type": "execute_result"
    }
   ],
   "source": [
    "df_recibidos.head()"
   ]
  },
  {
   "cell_type": "code",
   "execution_count": 13,
   "id": "generous-creativity",
   "metadata": {},
   "outputs": [],
   "source": [
    "val = df_recibidos.IDCLIENTE.value_counts()"
   ]
  },
  {
   "cell_type": "code",
   "execution_count": 14,
   "id": "conditional-running",
   "metadata": {},
   "outputs": [
    {
     "data": {
      "text/plain": [
       "HSBC_2019               1983\n",
       "BSR_TARDIA               687\n",
       "FRANCES_2012             591\n",
       "HSBC_LEGALES14           270\n",
       "HSBC_LEGALES_TEMP2       170\n",
       "HSBC_LEGALES2016         114\n",
       "HSBC_LEGALES_TEMP         97\n",
       "CREDITIA                  96\n",
       "FRAVEGA_LEGALES548        80\n",
       "FRANCES_IVR               66\n",
       "HSBC_SEGUROS              48\n",
       "BBVA_LEGALES_PREJU        37\n",
       "COTO05                    32\n",
       "COTO10                    29\n",
       "COTO23                    23\n",
       "BBVA_SEGUROS              23\n",
       "FRAVEGA_LEGALES2          21\n",
       "COTO05_TARD               21\n",
       "COTO10_TARD               20\n",
       "AMEX_PNCM                 18\n",
       "COTO23_TARD               15\n",
       "BANCO_DE_ALIMENTOS        14\n",
       "BANCO_PROVINCIA           13\n",
       "FRAVEGA_LEGALES3          13\n",
       "FRANCES_2012_HONO         12\n",
       "COTO15                     7\n",
       "CETELEM                    7\n",
       "AMEX_TNLM                  7\n",
       "COTO15_TARD                6\n",
       "COTO_TARDIA                5\n",
       "FRANCES_PP69_2012          5\n",
       "AMEX_QINM                  5\n",
       "BBVA_ANSES2                5\n",
       "ITALCRED                   5\n",
       "FRANCES_ADICIONALES        5\n",
       "BBVA_REFERIDOS             4\n",
       "AMEX_TNCM                  4\n",
       "BBVA_LEGALES_PREJU_5       3\n",
       "PRENDARIOS_LEGALES         3\n",
       "GARBARINO                  3\n",
       "AMEX_UPGRADE               3\n",
       "PROVENCRED                 2\n",
       "GIGARED2                   2\n",
       "PRENDARIOS_HSBC            2\n",
       "AMEX_NONPAPERLESS          2\n",
       "FRANCES_PP_ESPECIAL        2\n",
       "AMEX_QIPM                  2\n",
       "AMEX_PARM                  2\n",
       "AMEX_PELM                  1\n",
       "FRAVEGA_LEGALES            1\n",
       "Name: IDCLIENTE, dtype: int64"
      ]
     },
     "execution_count": 14,
     "metadata": {},
     "output_type": "execute_result"
    }
   ],
   "source": [
    "val.head(50)"
   ]
  },
  {
   "cell_type": "code",
   "execution_count": 15,
   "id": "narrative-brighton",
   "metadata": {},
   "outputs": [],
   "source": [
    "b = df_recibidos [df_recibidos['IDCLIENTE'].str.startswith('AMEX')]"
   ]
  },
  {
   "cell_type": "code",
   "execution_count": 16,
   "id": "intense-anniversary",
   "metadata": {},
   "outputs": [
    {
     "data": {
      "text/plain": [
       "(49, 2)"
      ]
     },
     "execution_count": 16,
     "metadata": {},
     "output_type": "execute_result"
    }
   ],
   "source": [
    "b.shape"
   ]
  },
  {
   "cell_type": "markdown",
   "id": "coordinate-variable",
   "metadata": {},
   "source": [
    "# Casos de contacto nuevos"
   ]
  },
  {
   "cell_type": "code",
   "execution_count": 17,
   "id": "anticipated-script",
   "metadata": {},
   "outputs": [],
   "source": [
    "df_new = pd.read_csv('/mnt/c/users/Dleg/Data/MOPC/MOPC/Enriquecimiento de Datos/Data Cleaning/Contacto Directo/Datasets/Datasets Recibidos/Cantidad_morosos_recibidos_nuevos_datos.csv')"
   ]
  },
  {
   "cell_type": "code",
   "execution_count": 18,
   "id": "reserved-variable",
   "metadata": {},
   "outputs": [
    {
     "data": {
      "text/plain": [
       "(4412, 6)"
      ]
     },
     "execution_count": 18,
     "metadata": {},
     "output_type": "execute_result"
    }
   ],
   "source": [
    "df_new.shape"
   ]
  },
  {
   "cell_type": "code",
   "execution_count": 19,
   "id": "breathing-camping",
   "metadata": {},
   "outputs": [
    {
     "data": {
      "text/html": [
       "<div>\n",
       "<style scoped>\n",
       "    .dataframe tbody tr th:only-of-type {\n",
       "        vertical-align: middle;\n",
       "    }\n",
       "\n",
       "    .dataframe tbody tr th {\n",
       "        vertical-align: top;\n",
       "    }\n",
       "\n",
       "    .dataframe thead th {\n",
       "        text-align: right;\n",
       "    }\n",
       "</style>\n",
       "<table border=\"1\" class=\"dataframe\">\n",
       "  <thead>\n",
       "    <tr style=\"text-align: right;\">\n",
       "      <th></th>\n",
       "      <th>IDMOROSO</th>\n",
       "      <th>DATO</th>\n",
       "      <th>TIPO</th>\n",
       "      <th>IDCLIENTE</th>\n",
       "      <th>ESTADO</th>\n",
       "      <th>FILTROA</th>\n",
       "    </tr>\n",
       "  </thead>\n",
       "  <tbody>\n",
       "    <tr>\n",
       "      <th>0</th>\n",
       "      <td>RMS376686548662008</td>\n",
       "      <td>3425283859</td>\n",
       "      <td>TEL.FIJO</td>\n",
       "      <td>AMEX_NONPAPERLESS</td>\n",
       "      <td>NO UBICADO</td>\n",
       "      <td>MAYO2019</td>\n",
       "    </tr>\n",
       "    <tr>\n",
       "      <th>1</th>\n",
       "      <td>RMS376413561952004</td>\n",
       "      <td>pabloferrazzano@datafull.com</td>\n",
       "      <td>EMAIL</td>\n",
       "      <td>AMEX_PARM</td>\n",
       "      <td>CANCELO FULL</td>\n",
       "      <td>DANROSA</td>\n",
       "    </tr>\n",
       "    <tr>\n",
       "      <th>2</th>\n",
       "      <td>RMS379977383142009</td>\n",
       "      <td>1151116563</td>\n",
       "      <td>TEL.CELULAR</td>\n",
       "      <td>AMEX_PBLM</td>\n",
       "      <td>CANCELO FULL</td>\n",
       "      <td>MBESOSTRI</td>\n",
       "    </tr>\n",
       "    <tr>\n",
       "      <th>3</th>\n",
       "      <td>RMS379977383142009</td>\n",
       "      <td>20356933</td>\n",
       "      <td>TEL.FIJO</td>\n",
       "      <td>AMEX_PBLM</td>\n",
       "      <td>CANCELO FULL</td>\n",
       "      <td>MBESOSTRI</td>\n",
       "    </tr>\n",
       "    <tr>\n",
       "      <th>4</th>\n",
       "      <td>RMS376711847221007</td>\n",
       "      <td>1554963067</td>\n",
       "      <td>TEL.CELULAR</td>\n",
       "      <td>AMEX_PELM</td>\n",
       "      <td>CANCELO FULL</td>\n",
       "      <td>GRCC</td>\n",
       "    </tr>\n",
       "  </tbody>\n",
       "</table>\n",
       "</div>"
      ],
      "text/plain": [
       "             IDMOROSO                          DATO         TIPO  \\\n",
       "0  RMS376686548662008                    3425283859     TEL.FIJO   \n",
       "1  RMS376413561952004  pabloferrazzano@datafull.com        EMAIL   \n",
       "2  RMS379977383142009                    1151116563  TEL.CELULAR   \n",
       "3  RMS379977383142009                      20356933     TEL.FIJO   \n",
       "4  RMS376711847221007                    1554963067  TEL.CELULAR   \n",
       "\n",
       "              IDCLIENTE                ESTADO               FILTROA  \n",
       "0  AMEX_NONPAPERLESS     NO UBICADO            MAYO2019              \n",
       "1  AMEX_PARM             CANCELO FULL          DANROSA               \n",
       "2  AMEX_PBLM             CANCELO FULL          MBESOSTRI             \n",
       "3  AMEX_PBLM             CANCELO FULL          MBESOSTRI             \n",
       "4  AMEX_PELM             CANCELO FULL          GRCC                  "
      ]
     },
     "execution_count": 19,
     "metadata": {},
     "output_type": "execute_result"
    }
   ],
   "source": [
    "df_new.head()"
   ]
  },
  {
   "cell_type": "code",
   "execution_count": 20,
   "id": "chinese-teach",
   "metadata": {},
   "outputs": [],
   "source": [
    "df_new_mails = df_new[df_new['TIPO'] == 'EMAIL']"
   ]
  },
  {
   "cell_type": "code",
   "execution_count": 21,
   "id": "changing-lesbian",
   "metadata": {},
   "outputs": [],
   "source": [
    "df_new_tels = df_new[df_new['TIPO']!= 'EMAIL']"
   ]
  },
  {
   "cell_type": "code",
   "execution_count": 24,
   "id": "beautiful-glory",
   "metadata": {},
   "outputs": [
    {
     "data": {
      "text/plain": [
       "array(['EMAIL'], dtype=object)"
      ]
     },
     "execution_count": 24,
     "metadata": {},
     "output_type": "execute_result"
    }
   ],
   "source": [
    "df_new_mails.TIPO.unique()"
   ]
  },
  {
   "cell_type": "code",
   "execution_count": 26,
   "id": "entire-generator",
   "metadata": {},
   "outputs": [
    {
     "data": {
      "text/plain": [
       "HSBC_2019               2751\n",
       "BSR_TARDIA               684\n",
       "FRANCES_2012             141\n",
       "FRAVEGA_LEGALES548        71\n",
       "HSBC_LEGALES14            70\n",
       "FRANCES_IVR               34\n",
       "BBVA_SEGUROS              26\n",
       "BANCO_PROVINCIA           23\n",
       "AMEX_PNCM                 18\n",
       "COTO23_TARD               17\n",
       "COTO05_TARD               16\n",
       "BANCO_DE_ALIMENTOS        13\n",
       "COTO10_TARD               13\n",
       "BBVA_ANSES2               12\n",
       "CETELEM                    9\n",
       "FRANCES_2012_HONO          9\n",
       "FRAVEGA_LEGALES2           8\n",
       "ITALCRED                   8\n",
       "HSBC_LEGALES_TEMP          7\n",
       "COTO15_TARD                6\n",
       "CREDITIA                   5\n",
       "AMEX_QINM                  5\n",
       "BBVA_REFERIDOS             5\n",
       "FRANCES_ADICIONALES        4\n",
       "AMEX_TNCM                  4\n",
       "AMEX_QIPM                  4\n",
       "HSBC_LEGALES2016           4\n",
       "BBVA_LEGALES_PREJU         3\n",
       "AMEX_PBLM                  2\n",
       "HSBC_LEGALES_TEMP2         2\n",
       "GIGARED2                   2\n",
       "PRENDARIOS_LEGALES         2\n",
       "EDESUR                     1\n",
       "PRENDARIOS_HSBC            1\n",
       "BANCO_SOL_TARD             1\n",
       "GIGARED                    1\n",
       "AMEX_PELM                  1\n",
       "AMEX_NONPAPERLESS          1\n",
       "AMEX_PLATINUM              1\n",
       "BACS _PREJUDICIAL          1\n",
       "BBVA_ESPECIAL              1\n",
       "AMEX_UPGRADE               1\n",
       "COPPEL                     1\n",
       "Name: IDCLIENTE, dtype: int64"
      ]
     },
     "execution_count": 26,
     "metadata": {},
     "output_type": "execute_result"
    }
   ],
   "source": [
    "df_new_tels.IDCLIENTE.value_counts()"
   ]
  },
  {
   "cell_type": "code",
   "execution_count": 29,
   "id": "sunset-current",
   "metadata": {},
   "outputs": [],
   "source": [
    "amex = df_new_tels[df_new_tels['IDCLIENTE'].str.startswith('AMEX')]"
   ]
  },
  {
   "cell_type": "code",
   "execution_count": 30,
   "id": "equivalent-panel",
   "metadata": {},
   "outputs": [
    {
     "data": {
      "text/plain": [
       "(37, 6)"
      ]
     },
     "execution_count": 30,
     "metadata": {},
     "output_type": "execute_result"
    }
   ],
   "source": [
    "amex.shape"
   ]
  },
  {
   "cell_type": "code",
   "execution_count": null,
   "id": "direct-champion",
   "metadata": {},
   "outputs": [],
   "source": [
    "36"
   ]
  }
 ],
 "metadata": {
  "kernelspec": {
   "display_name": "Python 3",
   "language": "python",
   "name": "python3"
  },
  "language_info": {
   "codemirror_mode": {
    "name": "ipython",
    "version": 3
   },
   "file_extension": ".py",
   "mimetype": "text/x-python",
   "name": "python",
   "nbconvert_exporter": "python",
   "pygments_lexer": "ipython3",
   "version": "3.8.6"
  }
 },
 "nbformat": 4,
 "nbformat_minor": 5
}
