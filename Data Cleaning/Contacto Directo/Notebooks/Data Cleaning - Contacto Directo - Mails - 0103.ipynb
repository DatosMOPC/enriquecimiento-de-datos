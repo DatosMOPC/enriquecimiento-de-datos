{
 "cells": [
  {
   "cell_type": "markdown",
   "metadata": {},
   "source": [
    "# 1) Datasets"
   ]
  },
  {
   "cell_type": "markdown",
   "metadata": {},
   "source": [
    "Vamos a leer el dataset que envía PyP"
   ]
  },
  {
   "cell_type": "code",
   "execution_count": 1,
   "metadata": {},
   "outputs": [],
   "source": [
    "import pandas as pd\n",
    "import numpy as np"
   ]
  },
  {
   "cell_type": "code",
   "execution_count": 2,
   "metadata": {},
   "outputs": [],
   "source": [
    "df = pd.read_excel('/mnt/c/users/Dleg/Data/MOPC/MOPC/Enriquecimiento de Datos/Data Cleaning/Contacto Directo/Datasets/Datasets Recibidos/Cartera_Completa Devuelta.xlsx',sheet_name='Emails')"
   ]
  },
  {
   "cell_type": "code",
   "execution_count": 3,
   "metadata": {},
   "outputs": [
    {
     "data": {
      "text/html": [
       "<div>\n",
       "<style scoped>\n",
       "    .dataframe tbody tr th:only-of-type {\n",
       "        vertical-align: middle;\n",
       "    }\n",
       "\n",
       "    .dataframe tbody tr th {\n",
       "        vertical-align: top;\n",
       "    }\n",
       "\n",
       "    .dataframe thead th {\n",
       "        text-align: right;\n",
       "    }\n",
       "</style>\n",
       "<table border=\"1\" class=\"dataframe\">\n",
       "  <thead>\n",
       "    <tr style=\"text-align: right;\">\n",
       "      <th></th>\n",
       "      <th>Documento</th>\n",
       "      <th>Email</th>\n",
       "    </tr>\n",
       "  </thead>\n",
       "  <tbody>\n",
       "    <tr>\n",
       "      <th>0</th>\n",
       "      <td>10128300</td>\n",
       "      <td>raulblanco11@hotmail.com</td>\n",
       "    </tr>\n",
       "    <tr>\n",
       "      <th>1</th>\n",
       "      <td>10141823</td>\n",
       "      <td>carmenotanez@hotmail.com</td>\n",
       "    </tr>\n",
       "    <tr>\n",
       "      <th>2</th>\n",
       "      <td>10460610</td>\n",
       "      <td>juando@gmail.com</td>\n",
       "    </tr>\n",
       "    <tr>\n",
       "      <th>3</th>\n",
       "      <td>10497875</td>\n",
       "      <td>caty1951@hotmail.com</td>\n",
       "    </tr>\n",
       "    <tr>\n",
       "      <th>4</th>\n",
       "      <td>10580772</td>\n",
       "      <td>fernando.bazan@hotmail.com</td>\n",
       "    </tr>\n",
       "  </tbody>\n",
       "</table>\n",
       "</div>"
      ],
      "text/plain": [
       "   Documento                       Email\n",
       "0   10128300    raulblanco11@hotmail.com\n",
       "1   10141823    carmenotanez@hotmail.com\n",
       "2   10460610            juando@gmail.com\n",
       "3   10497875        caty1951@hotmail.com\n",
       "4   10580772  fernando.bazan@hotmail.com"
      ]
     },
     "execution_count": 3,
     "metadata": {},
     "output_type": "execute_result"
    }
   ],
   "source": [
    "df.head()"
   ]
  },
  {
   "cell_type": "code",
   "execution_count": 4,
   "metadata": {
    "scrolled": true
   },
   "outputs": [
    {
     "data": {
      "text/plain": [
       "(876, 2)"
      ]
     },
     "execution_count": 4,
     "metadata": {},
     "output_type": "execute_result"
    }
   ],
   "source": [
    "df.shape"
   ]
  },
  {
   "cell_type": "markdown",
   "metadata": {},
   "source": [
    "## 1.2) Data Cleaning: Datasets"
   ]
  },
  {
   "cell_type": "markdown",
   "metadata": {},
   "source": [
    "Vamos a dropear aquellas columnas y filas que no tengan ningún valor (es decir, que sean todos NaNs)"
   ]
  },
  {
   "cell_type": "code",
   "execution_count": 5,
   "metadata": {},
   "outputs": [],
   "source": [
    "df = df.dropna(axis=0, how='all')"
   ]
  },
  {
   "cell_type": "code",
   "execution_count": 6,
   "metadata": {},
   "outputs": [],
   "source": [
    "#df = df.dropna(axis=1, how='all')"
   ]
  },
  {
   "cell_type": "code",
   "execution_count": 7,
   "metadata": {},
   "outputs": [
    {
     "data": {
      "text/plain": [
       "(876, 2)"
      ]
     },
     "execution_count": 7,
     "metadata": {},
     "output_type": "execute_result"
    }
   ],
   "source": [
    "df.shape"
   ]
  },
  {
   "cell_type": "markdown",
   "metadata": {},
   "source": [
    "Ahora todas las columnas tienen al menos 1 dato."
   ]
  },
  {
   "cell_type": "markdown",
   "metadata": {},
   "source": [
    "# 2) Mails"
   ]
  },
  {
   "cell_type": "code",
   "execution_count": 8,
   "metadata": {},
   "outputs": [],
   "source": [
    "df_reduced = df.rename(columns={\"Documento\": \"NRO_DOC\", 'Email': 'Dato'})"
   ]
  },
  {
   "cell_type": "code",
   "execution_count": 9,
   "metadata": {},
   "outputs": [
    {
     "data": {
      "text/html": [
       "<div>\n",
       "<style scoped>\n",
       "    .dataframe tbody tr th:only-of-type {\n",
       "        vertical-align: middle;\n",
       "    }\n",
       "\n",
       "    .dataframe tbody tr th {\n",
       "        vertical-align: top;\n",
       "    }\n",
       "\n",
       "    .dataframe thead th {\n",
       "        text-align: right;\n",
       "    }\n",
       "</style>\n",
       "<table border=\"1\" class=\"dataframe\">\n",
       "  <thead>\n",
       "    <tr style=\"text-align: right;\">\n",
       "      <th></th>\n",
       "      <th>NRO_DOC</th>\n",
       "      <th>Dato</th>\n",
       "    </tr>\n",
       "  </thead>\n",
       "  <tbody>\n",
       "    <tr>\n",
       "      <th>0</th>\n",
       "      <td>10128300</td>\n",
       "      <td>raulblanco11@hotmail.com</td>\n",
       "    </tr>\n",
       "    <tr>\n",
       "      <th>1</th>\n",
       "      <td>10141823</td>\n",
       "      <td>carmenotanez@hotmail.com</td>\n",
       "    </tr>\n",
       "    <tr>\n",
       "      <th>2</th>\n",
       "      <td>10460610</td>\n",
       "      <td>juando@gmail.com</td>\n",
       "    </tr>\n",
       "    <tr>\n",
       "      <th>3</th>\n",
       "      <td>10497875</td>\n",
       "      <td>caty1951@hotmail.com</td>\n",
       "    </tr>\n",
       "    <tr>\n",
       "      <th>4</th>\n",
       "      <td>10580772</td>\n",
       "      <td>fernando.bazan@hotmail.com</td>\n",
       "    </tr>\n",
       "  </tbody>\n",
       "</table>\n",
       "</div>"
      ],
      "text/plain": [
       "    NRO_DOC                        Dato\n",
       "0  10128300    raulblanco11@hotmail.com\n",
       "1  10141823    carmenotanez@hotmail.com\n",
       "2  10460610            juando@gmail.com\n",
       "3  10497875        caty1951@hotmail.com\n",
       "4  10580772  fernando.bazan@hotmail.com"
      ]
     },
     "execution_count": 9,
     "metadata": {},
     "output_type": "execute_result"
    }
   ],
   "source": [
    "df_reduced.head()"
   ]
  },
  {
   "cell_type": "markdown",
   "metadata": {},
   "source": [
    "# 4) Drop NaNs"
   ]
  },
  {
   "cell_type": "markdown",
   "metadata": {},
   "source": [
    "Dropeamos aquellas filas que tengan NaN en la columna Dato, ya que no nos aporta nada:"
   ]
  },
  {
   "cell_type": "code",
   "execution_count": 10,
   "metadata": {},
   "outputs": [],
   "source": [
    "df_melt = df_reduced.dropna(subset=['Dato'])"
   ]
  },
  {
   "cell_type": "code",
   "execution_count": 11,
   "metadata": {},
   "outputs": [
    {
     "data": {
      "text/plain": [
       "(876, 2)"
      ]
     },
     "execution_count": 11,
     "metadata": {},
     "output_type": "execute_result"
    }
   ],
   "source": [
    "df_melt.shape"
   ]
  },
  {
   "cell_type": "code",
   "execution_count": 12,
   "metadata": {},
   "outputs": [
    {
     "data": {
      "text/html": [
       "<div>\n",
       "<style scoped>\n",
       "    .dataframe tbody tr th:only-of-type {\n",
       "        vertical-align: middle;\n",
       "    }\n",
       "\n",
       "    .dataframe tbody tr th {\n",
       "        vertical-align: top;\n",
       "    }\n",
       "\n",
       "    .dataframe thead th {\n",
       "        text-align: right;\n",
       "    }\n",
       "</style>\n",
       "<table border=\"1\" class=\"dataframe\">\n",
       "  <thead>\n",
       "    <tr style=\"text-align: right;\">\n",
       "      <th></th>\n",
       "      <th>NRO_DOC</th>\n",
       "      <th>Dato</th>\n",
       "    </tr>\n",
       "  </thead>\n",
       "  <tbody>\n",
       "    <tr>\n",
       "      <th>0</th>\n",
       "      <td>10128300</td>\n",
       "      <td>raulblanco11@hotmail.com</td>\n",
       "    </tr>\n",
       "    <tr>\n",
       "      <th>1</th>\n",
       "      <td>10141823</td>\n",
       "      <td>carmenotanez@hotmail.com</td>\n",
       "    </tr>\n",
       "    <tr>\n",
       "      <th>2</th>\n",
       "      <td>10460610</td>\n",
       "      <td>juando@gmail.com</td>\n",
       "    </tr>\n",
       "    <tr>\n",
       "      <th>3</th>\n",
       "      <td>10497875</td>\n",
       "      <td>caty1951@hotmail.com</td>\n",
       "    </tr>\n",
       "    <tr>\n",
       "      <th>4</th>\n",
       "      <td>10580772</td>\n",
       "      <td>fernando.bazan@hotmail.com</td>\n",
       "    </tr>\n",
       "  </tbody>\n",
       "</table>\n",
       "</div>"
      ],
      "text/plain": [
       "    NRO_DOC                        Dato\n",
       "0  10128300    raulblanco11@hotmail.com\n",
       "1  10141823    carmenotanez@hotmail.com\n",
       "2  10460610            juando@gmail.com\n",
       "3  10497875        caty1951@hotmail.com\n",
       "4  10580772  fernando.bazan@hotmail.com"
      ]
     },
     "execution_count": 12,
     "metadata": {},
     "output_type": "execute_result"
    }
   ],
   "source": [
    "df_melt.head()"
   ]
  },
  {
   "cell_type": "markdown",
   "metadata": {},
   "source": [
    "# 5) Propietario del Dato"
   ]
  },
  {
   "cell_type": "markdown",
   "metadata": {},
   "source": [
    "En función de la columna \"variable\" creamos una nueva columna PROPIETARIO_DATO"
   ]
  },
  {
   "cell_type": "code",
   "execution_count": 13,
   "metadata": {},
   "outputs": [],
   "source": [
    "df_melt['PROPIETARIO_DATO'] = 'Propio'"
   ]
  },
  {
   "cell_type": "code",
   "execution_count": 14,
   "metadata": {},
   "outputs": [
    {
     "data": {
      "text/html": [
       "<div>\n",
       "<style scoped>\n",
       "    .dataframe tbody tr th:only-of-type {\n",
       "        vertical-align: middle;\n",
       "    }\n",
       "\n",
       "    .dataframe tbody tr th {\n",
       "        vertical-align: top;\n",
       "    }\n",
       "\n",
       "    .dataframe thead th {\n",
       "        text-align: right;\n",
       "    }\n",
       "</style>\n",
       "<table border=\"1\" class=\"dataframe\">\n",
       "  <thead>\n",
       "    <tr style=\"text-align: right;\">\n",
       "      <th></th>\n",
       "      <th>NRO_DOC</th>\n",
       "      <th>Dato</th>\n",
       "      <th>PROPIETARIO_DATO</th>\n",
       "    </tr>\n",
       "  </thead>\n",
       "  <tbody>\n",
       "    <tr>\n",
       "      <th>0</th>\n",
       "      <td>10128300</td>\n",
       "      <td>raulblanco11@hotmail.com</td>\n",
       "      <td>Propio</td>\n",
       "    </tr>\n",
       "    <tr>\n",
       "      <th>1</th>\n",
       "      <td>10141823</td>\n",
       "      <td>carmenotanez@hotmail.com</td>\n",
       "      <td>Propio</td>\n",
       "    </tr>\n",
       "    <tr>\n",
       "      <th>2</th>\n",
       "      <td>10460610</td>\n",
       "      <td>juando@gmail.com</td>\n",
       "      <td>Propio</td>\n",
       "    </tr>\n",
       "    <tr>\n",
       "      <th>3</th>\n",
       "      <td>10497875</td>\n",
       "      <td>caty1951@hotmail.com</td>\n",
       "      <td>Propio</td>\n",
       "    </tr>\n",
       "    <tr>\n",
       "      <th>4</th>\n",
       "      <td>10580772</td>\n",
       "      <td>fernando.bazan@hotmail.com</td>\n",
       "      <td>Propio</td>\n",
       "    </tr>\n",
       "  </tbody>\n",
       "</table>\n",
       "</div>"
      ],
      "text/plain": [
       "    NRO_DOC                        Dato PROPIETARIO_DATO\n",
       "0  10128300    raulblanco11@hotmail.com           Propio\n",
       "1  10141823    carmenotanez@hotmail.com           Propio\n",
       "2  10460610            juando@gmail.com           Propio\n",
       "3  10497875        caty1951@hotmail.com           Propio\n",
       "4  10580772  fernando.bazan@hotmail.com           Propio"
      ]
     },
     "execution_count": 14,
     "metadata": {},
     "output_type": "execute_result"
    }
   ],
   "source": [
    "df_melt.head()"
   ]
  },
  {
   "cell_type": "markdown",
   "metadata": {},
   "source": [
    "# 6) Columna Proveedor"
   ]
  },
  {
   "cell_type": "markdown",
   "metadata": {},
   "source": [
    "Agregamos la columna PROVEEDOR_DATO, con el código correspondiente.\n",
    "\n",
    "PyP = P2"
   ]
  },
  {
   "cell_type": "code",
   "execution_count": 15,
   "metadata": {},
   "outputs": [],
   "source": [
    "cod_pyp = 'CD'"
   ]
  },
  {
   "cell_type": "code",
   "execution_count": 16,
   "metadata": {},
   "outputs": [],
   "source": [
    "df_clean = df_melt.assign(PROVEEDOR_DATO=cod_pyp)"
   ]
  },
  {
   "cell_type": "code",
   "execution_count": 17,
   "metadata": {},
   "outputs": [
    {
     "data": {
      "text/html": [
       "<div>\n",
       "<style scoped>\n",
       "    .dataframe tbody tr th:only-of-type {\n",
       "        vertical-align: middle;\n",
       "    }\n",
       "\n",
       "    .dataframe tbody tr th {\n",
       "        vertical-align: top;\n",
       "    }\n",
       "\n",
       "    .dataframe thead th {\n",
       "        text-align: right;\n",
       "    }\n",
       "</style>\n",
       "<table border=\"1\" class=\"dataframe\">\n",
       "  <thead>\n",
       "    <tr style=\"text-align: right;\">\n",
       "      <th></th>\n",
       "      <th>NRO_DOC</th>\n",
       "      <th>Dato</th>\n",
       "      <th>PROPIETARIO_DATO</th>\n",
       "      <th>PROVEEDOR_DATO</th>\n",
       "    </tr>\n",
       "  </thead>\n",
       "  <tbody>\n",
       "    <tr>\n",
       "      <th>0</th>\n",
       "      <td>10128300</td>\n",
       "      <td>raulblanco11@hotmail.com</td>\n",
       "      <td>Propio</td>\n",
       "      <td>CD</td>\n",
       "    </tr>\n",
       "    <tr>\n",
       "      <th>1</th>\n",
       "      <td>10141823</td>\n",
       "      <td>carmenotanez@hotmail.com</td>\n",
       "      <td>Propio</td>\n",
       "      <td>CD</td>\n",
       "    </tr>\n",
       "    <tr>\n",
       "      <th>2</th>\n",
       "      <td>10460610</td>\n",
       "      <td>juando@gmail.com</td>\n",
       "      <td>Propio</td>\n",
       "      <td>CD</td>\n",
       "    </tr>\n",
       "    <tr>\n",
       "      <th>3</th>\n",
       "      <td>10497875</td>\n",
       "      <td>caty1951@hotmail.com</td>\n",
       "      <td>Propio</td>\n",
       "      <td>CD</td>\n",
       "    </tr>\n",
       "    <tr>\n",
       "      <th>4</th>\n",
       "      <td>10580772</td>\n",
       "      <td>fernando.bazan@hotmail.com</td>\n",
       "      <td>Propio</td>\n",
       "      <td>CD</td>\n",
       "    </tr>\n",
       "  </tbody>\n",
       "</table>\n",
       "</div>"
      ],
      "text/plain": [
       "    NRO_DOC                        Dato PROPIETARIO_DATO PROVEEDOR_DATO\n",
       "0  10128300    raulblanco11@hotmail.com           Propio             CD\n",
       "1  10141823    carmenotanez@hotmail.com           Propio             CD\n",
       "2  10460610            juando@gmail.com           Propio             CD\n",
       "3  10497875        caty1951@hotmail.com           Propio             CD\n",
       "4  10580772  fernando.bazan@hotmail.com           Propio             CD"
      ]
     },
     "execution_count": 17,
     "metadata": {},
     "output_type": "execute_result"
    }
   ],
   "source": [
    "df_clean.head()"
   ]
  },
  {
   "cell_type": "markdown",
   "metadata": {},
   "source": [
    "# 7) Columna Tipo"
   ]
  },
  {
   "cell_type": "markdown",
   "metadata": {},
   "source": [
    "Agregamos la columna TIPO, con el código correspondiente"
   ]
  },
  {
   "cell_type": "code",
   "execution_count": 18,
   "metadata": {},
   "outputs": [],
   "source": [
    "tipo_dato = 'EMAIL'"
   ]
  },
  {
   "cell_type": "code",
   "execution_count": 19,
   "metadata": {},
   "outputs": [],
   "source": [
    "df_clean = df_clean.assign(TIPO=tipo_dato)"
   ]
  },
  {
   "cell_type": "code",
   "execution_count": 20,
   "metadata": {},
   "outputs": [
    {
     "data": {
      "text/html": [
       "<div>\n",
       "<style scoped>\n",
       "    .dataframe tbody tr th:only-of-type {\n",
       "        vertical-align: middle;\n",
       "    }\n",
       "\n",
       "    .dataframe tbody tr th {\n",
       "        vertical-align: top;\n",
       "    }\n",
       "\n",
       "    .dataframe thead th {\n",
       "        text-align: right;\n",
       "    }\n",
       "</style>\n",
       "<table border=\"1\" class=\"dataframe\">\n",
       "  <thead>\n",
       "    <tr style=\"text-align: right;\">\n",
       "      <th></th>\n",
       "      <th>NRO_DOC</th>\n",
       "      <th>Dato</th>\n",
       "      <th>PROPIETARIO_DATO</th>\n",
       "      <th>PROVEEDOR_DATO</th>\n",
       "      <th>TIPO</th>\n",
       "    </tr>\n",
       "  </thead>\n",
       "  <tbody>\n",
       "    <tr>\n",
       "      <th>0</th>\n",
       "      <td>10128300</td>\n",
       "      <td>raulblanco11@hotmail.com</td>\n",
       "      <td>Propio</td>\n",
       "      <td>CD</td>\n",
       "      <td>EMAIL</td>\n",
       "    </tr>\n",
       "    <tr>\n",
       "      <th>1</th>\n",
       "      <td>10141823</td>\n",
       "      <td>carmenotanez@hotmail.com</td>\n",
       "      <td>Propio</td>\n",
       "      <td>CD</td>\n",
       "      <td>EMAIL</td>\n",
       "    </tr>\n",
       "    <tr>\n",
       "      <th>2</th>\n",
       "      <td>10460610</td>\n",
       "      <td>juando@gmail.com</td>\n",
       "      <td>Propio</td>\n",
       "      <td>CD</td>\n",
       "      <td>EMAIL</td>\n",
       "    </tr>\n",
       "    <tr>\n",
       "      <th>3</th>\n",
       "      <td>10497875</td>\n",
       "      <td>caty1951@hotmail.com</td>\n",
       "      <td>Propio</td>\n",
       "      <td>CD</td>\n",
       "      <td>EMAIL</td>\n",
       "    </tr>\n",
       "    <tr>\n",
       "      <th>4</th>\n",
       "      <td>10580772</td>\n",
       "      <td>fernando.bazan@hotmail.com</td>\n",
       "      <td>Propio</td>\n",
       "      <td>CD</td>\n",
       "      <td>EMAIL</td>\n",
       "    </tr>\n",
       "  </tbody>\n",
       "</table>\n",
       "</div>"
      ],
      "text/plain": [
       "    NRO_DOC                        Dato PROPIETARIO_DATO PROVEEDOR_DATO   TIPO\n",
       "0  10128300    raulblanco11@hotmail.com           Propio             CD  EMAIL\n",
       "1  10141823    carmenotanez@hotmail.com           Propio             CD  EMAIL\n",
       "2  10460610            juando@gmail.com           Propio             CD  EMAIL\n",
       "3  10497875        caty1951@hotmail.com           Propio             CD  EMAIL\n",
       "4  10580772  fernando.bazan@hotmail.com           Propio             CD  EMAIL"
      ]
     },
     "execution_count": 20,
     "metadata": {},
     "output_type": "execute_result"
    }
   ],
   "source": [
    "df_clean.head ()"
   ]
  },
  {
   "cell_type": "markdown",
   "metadata": {},
   "source": [
    "# 8) Columna Subtipo"
   ]
  },
  {
   "cell_type": "markdown",
   "metadata": {},
   "source": [
    "Agregamos la columna SUBTIPO, que va a contener información sobre el tipo de mail que se encuentra en el campo Dato.\n",
    "\n",
    "- Personal: @yahoo, @gmail, @hotmail, @outlook, @live.\n",
    "- Laboral: el resto."
   ]
  },
  {
   "cell_type": "markdown",
   "metadata": {},
   "source": [
    "Verificamos que la string contenga esos casos:"
   ]
  },
  {
   "cell_type": "code",
   "execution_count": 21,
   "metadata": {},
   "outputs": [],
   "source": [
    "df_clean.loc[(df_clean['Dato'].str.contains('@yahoo', na=False)) | \n",
    "             (df_clean['Dato'].str.contains('@gmail', na=False)) |\n",
    "             (df_clean['Dato'].str.contains('@outlook', na=False)) |\n",
    "             (df_clean['Dato'].str.contains('@hotmail', na=False)) |\n",
    "             (df_clean['Dato'].str.contains('@live', na=False)) , 'SUBTIPO'] = 'PERSONAL'"
   ]
  },
  {
   "cell_type": "markdown",
   "metadata": {},
   "source": [
    "Para los mails laborales, evaluamos los casos contrarios:"
   ]
  },
  {
   "cell_type": "code",
   "execution_count": 22,
   "metadata": {},
   "outputs": [],
   "source": [
    "df_clean.loc[~(df_clean['Dato'].str.contains('@yahoo', na=False)) & \n",
    "             ~(df_clean['Dato'].str.contains('@gmail', na=False)) &\n",
    "             ~(df_clean['Dato'].str.contains('@outlook', na=False)) &\n",
    "             ~(df_clean['Dato'].str.contains('@hotmail', na=False)) &\n",
    "             ~(df_clean['Dato'].str.contains('@live', na=False)) , 'SUBTIPO'] = 'LABORAL'"
   ]
  },
  {
   "cell_type": "code",
   "execution_count": 23,
   "metadata": {},
   "outputs": [
    {
     "data": {
      "text/html": [
       "<div>\n",
       "<style scoped>\n",
       "    .dataframe tbody tr th:only-of-type {\n",
       "        vertical-align: middle;\n",
       "    }\n",
       "\n",
       "    .dataframe tbody tr th {\n",
       "        vertical-align: top;\n",
       "    }\n",
       "\n",
       "    .dataframe thead th {\n",
       "        text-align: right;\n",
       "    }\n",
       "</style>\n",
       "<table border=\"1\" class=\"dataframe\">\n",
       "  <thead>\n",
       "    <tr style=\"text-align: right;\">\n",
       "      <th></th>\n",
       "      <th>NRO_DOC</th>\n",
       "      <th>Dato</th>\n",
       "      <th>PROPIETARIO_DATO</th>\n",
       "      <th>PROVEEDOR_DATO</th>\n",
       "      <th>TIPO</th>\n",
       "      <th>SUBTIPO</th>\n",
       "    </tr>\n",
       "  </thead>\n",
       "  <tbody>\n",
       "    <tr>\n",
       "      <th>0</th>\n",
       "      <td>10128300</td>\n",
       "      <td>raulblanco11@hotmail.com</td>\n",
       "      <td>Propio</td>\n",
       "      <td>CD</td>\n",
       "      <td>EMAIL</td>\n",
       "      <td>PERSONAL</td>\n",
       "    </tr>\n",
       "    <tr>\n",
       "      <th>1</th>\n",
       "      <td>10141823</td>\n",
       "      <td>carmenotanez@hotmail.com</td>\n",
       "      <td>Propio</td>\n",
       "      <td>CD</td>\n",
       "      <td>EMAIL</td>\n",
       "      <td>PERSONAL</td>\n",
       "    </tr>\n",
       "    <tr>\n",
       "      <th>2</th>\n",
       "      <td>10460610</td>\n",
       "      <td>juando@gmail.com</td>\n",
       "      <td>Propio</td>\n",
       "      <td>CD</td>\n",
       "      <td>EMAIL</td>\n",
       "      <td>PERSONAL</td>\n",
       "    </tr>\n",
       "    <tr>\n",
       "      <th>3</th>\n",
       "      <td>10497875</td>\n",
       "      <td>caty1951@hotmail.com</td>\n",
       "      <td>Propio</td>\n",
       "      <td>CD</td>\n",
       "      <td>EMAIL</td>\n",
       "      <td>PERSONAL</td>\n",
       "    </tr>\n",
       "    <tr>\n",
       "      <th>4</th>\n",
       "      <td>10580772</td>\n",
       "      <td>fernando.bazan@hotmail.com</td>\n",
       "      <td>Propio</td>\n",
       "      <td>CD</td>\n",
       "      <td>EMAIL</td>\n",
       "      <td>PERSONAL</td>\n",
       "    </tr>\n",
       "  </tbody>\n",
       "</table>\n",
       "</div>"
      ],
      "text/plain": [
       "    NRO_DOC                        Dato PROPIETARIO_DATO PROVEEDOR_DATO  \\\n",
       "0  10128300    raulblanco11@hotmail.com           Propio             CD   \n",
       "1  10141823    carmenotanez@hotmail.com           Propio             CD   \n",
       "2  10460610            juando@gmail.com           Propio             CD   \n",
       "3  10497875        caty1951@hotmail.com           Propio             CD   \n",
       "4  10580772  fernando.bazan@hotmail.com           Propio             CD   \n",
       "\n",
       "    TIPO   SUBTIPO  \n",
       "0  EMAIL  PERSONAL  \n",
       "1  EMAIL  PERSONAL  \n",
       "2  EMAIL  PERSONAL  \n",
       "3  EMAIL  PERSONAL  \n",
       "4  EMAIL  PERSONAL  "
      ]
     },
     "execution_count": 23,
     "metadata": {},
     "output_type": "execute_result"
    }
   ],
   "source": [
    "df_clean.head()"
   ]
  },
  {
   "cell_type": "markdown",
   "metadata": {},
   "source": [
    "# 9) Columna Score"
   ]
  },
  {
   "cell_type": "markdown",
   "metadata": {},
   "source": [
    "El campo **Score** se construye en función de los datos obtenidos:\n",
    "\n",
    "- Nivel 4: Dato que otorga la propia persona.\n",
    "- Nivel 3: Dato que otorgan los clientes (los bancos).\n",
    "- Nivel 2: Dato que otorga un proveedor externo (Informes Digitales en este caso), con subtipo \"Personal\".\n",
    "- Nivel 1: Dato que otorga un proveedor externo, pero tiene como subtipo \"Laboral\"."
   ]
  },
  {
   "cell_type": "code",
   "execution_count": 24,
   "metadata": {},
   "outputs": [],
   "source": [
    "# Nivel 1: Laboral, proveedor externo.\n",
    "\n",
    "df_clean.loc[(df_clean['SUBTIPO'] == 'LABORAL') , 'SCORE_DATO'] = 1"
   ]
  },
  {
   "cell_type": "code",
   "execution_count": 25,
   "metadata": {},
   "outputs": [],
   "source": [
    "# Nivel 2: Personal, proveedor externo.\n",
    "\n",
    "df_clean.loc[(df_clean['SUBTIPO'] == 'PERSONAL') , 'SCORE_DATO'] = 2"
   ]
  },
  {
   "cell_type": "code",
   "execution_count": 26,
   "metadata": {
    "scrolled": true
   },
   "outputs": [
    {
     "data": {
      "text/html": [
       "<div>\n",
       "<style scoped>\n",
       "    .dataframe tbody tr th:only-of-type {\n",
       "        vertical-align: middle;\n",
       "    }\n",
       "\n",
       "    .dataframe tbody tr th {\n",
       "        vertical-align: top;\n",
       "    }\n",
       "\n",
       "    .dataframe thead th {\n",
       "        text-align: right;\n",
       "    }\n",
       "</style>\n",
       "<table border=\"1\" class=\"dataframe\">\n",
       "  <thead>\n",
       "    <tr style=\"text-align: right;\">\n",
       "      <th></th>\n",
       "      <th>NRO_DOC</th>\n",
       "      <th>Dato</th>\n",
       "      <th>PROPIETARIO_DATO</th>\n",
       "      <th>PROVEEDOR_DATO</th>\n",
       "      <th>TIPO</th>\n",
       "      <th>SUBTIPO</th>\n",
       "      <th>SCORE_DATO</th>\n",
       "    </tr>\n",
       "  </thead>\n",
       "  <tbody>\n",
       "    <tr>\n",
       "      <th>0</th>\n",
       "      <td>10128300</td>\n",
       "      <td>raulblanco11@hotmail.com</td>\n",
       "      <td>Propio</td>\n",
       "      <td>CD</td>\n",
       "      <td>EMAIL</td>\n",
       "      <td>PERSONAL</td>\n",
       "      <td>2.0</td>\n",
       "    </tr>\n",
       "    <tr>\n",
       "      <th>1</th>\n",
       "      <td>10141823</td>\n",
       "      <td>carmenotanez@hotmail.com</td>\n",
       "      <td>Propio</td>\n",
       "      <td>CD</td>\n",
       "      <td>EMAIL</td>\n",
       "      <td>PERSONAL</td>\n",
       "      <td>2.0</td>\n",
       "    </tr>\n",
       "    <tr>\n",
       "      <th>2</th>\n",
       "      <td>10460610</td>\n",
       "      <td>juando@gmail.com</td>\n",
       "      <td>Propio</td>\n",
       "      <td>CD</td>\n",
       "      <td>EMAIL</td>\n",
       "      <td>PERSONAL</td>\n",
       "      <td>2.0</td>\n",
       "    </tr>\n",
       "    <tr>\n",
       "      <th>3</th>\n",
       "      <td>10497875</td>\n",
       "      <td>caty1951@hotmail.com</td>\n",
       "      <td>Propio</td>\n",
       "      <td>CD</td>\n",
       "      <td>EMAIL</td>\n",
       "      <td>PERSONAL</td>\n",
       "      <td>2.0</td>\n",
       "    </tr>\n",
       "    <tr>\n",
       "      <th>4</th>\n",
       "      <td>10580772</td>\n",
       "      <td>fernando.bazan@hotmail.com</td>\n",
       "      <td>Propio</td>\n",
       "      <td>CD</td>\n",
       "      <td>EMAIL</td>\n",
       "      <td>PERSONAL</td>\n",
       "      <td>2.0</td>\n",
       "    </tr>\n",
       "  </tbody>\n",
       "</table>\n",
       "</div>"
      ],
      "text/plain": [
       "    NRO_DOC                        Dato PROPIETARIO_DATO PROVEEDOR_DATO  \\\n",
       "0  10128300    raulblanco11@hotmail.com           Propio             CD   \n",
       "1  10141823    carmenotanez@hotmail.com           Propio             CD   \n",
       "2  10460610            juando@gmail.com           Propio             CD   \n",
       "3  10497875        caty1951@hotmail.com           Propio             CD   \n",
       "4  10580772  fernando.bazan@hotmail.com           Propio             CD   \n",
       "\n",
       "    TIPO   SUBTIPO  SCORE_DATO  \n",
       "0  EMAIL  PERSONAL         2.0  \n",
       "1  EMAIL  PERSONAL         2.0  \n",
       "2  EMAIL  PERSONAL         2.0  \n",
       "3  EMAIL  PERSONAL         2.0  \n",
       "4  EMAIL  PERSONAL         2.0  "
      ]
     },
     "execution_count": 26,
     "metadata": {},
     "output_type": "execute_result"
    }
   ],
   "source": [
    "df_clean.head()"
   ]
  },
  {
   "cell_type": "markdown",
   "metadata": {},
   "source": [
    "# 10) Columna Fecha"
   ]
  },
  {
   "cell_type": "markdown",
   "metadata": {},
   "source": [
    "Para el campo FECHA_INGRESO_DATO, usamos la fecha en la que se hace la inserción de los datos:"
   ]
  },
  {
   "cell_type": "code",
   "execution_count": 27,
   "metadata": {},
   "outputs": [],
   "source": [
    "fecha_ingreso = pd.to_datetime('today')"
   ]
  },
  {
   "cell_type": "code",
   "execution_count": 28,
   "metadata": {},
   "outputs": [],
   "source": [
    "df_clean = df_clean.assign(FECHA_INGRESO_DATO=fecha_ingreso)"
   ]
  },
  {
   "cell_type": "code",
   "execution_count": 29,
   "metadata": {
    "scrolled": true
   },
   "outputs": [
    {
     "data": {
      "text/html": [
       "<div>\n",
       "<style scoped>\n",
       "    .dataframe tbody tr th:only-of-type {\n",
       "        vertical-align: middle;\n",
       "    }\n",
       "\n",
       "    .dataframe tbody tr th {\n",
       "        vertical-align: top;\n",
       "    }\n",
       "\n",
       "    .dataframe thead th {\n",
       "        text-align: right;\n",
       "    }\n",
       "</style>\n",
       "<table border=\"1\" class=\"dataframe\">\n",
       "  <thead>\n",
       "    <tr style=\"text-align: right;\">\n",
       "      <th></th>\n",
       "      <th>NRO_DOC</th>\n",
       "      <th>Dato</th>\n",
       "      <th>PROPIETARIO_DATO</th>\n",
       "      <th>PROVEEDOR_DATO</th>\n",
       "      <th>TIPO</th>\n",
       "      <th>SUBTIPO</th>\n",
       "      <th>SCORE_DATO</th>\n",
       "      <th>FECHA_INGRESO_DATO</th>\n",
       "    </tr>\n",
       "  </thead>\n",
       "  <tbody>\n",
       "    <tr>\n",
       "      <th>0</th>\n",
       "      <td>10128300</td>\n",
       "      <td>raulblanco11@hotmail.com</td>\n",
       "      <td>Propio</td>\n",
       "      <td>CD</td>\n",
       "      <td>EMAIL</td>\n",
       "      <td>PERSONAL</td>\n",
       "      <td>2.0</td>\n",
       "      <td>2021-03-02 16:44:50.000325</td>\n",
       "    </tr>\n",
       "    <tr>\n",
       "      <th>1</th>\n",
       "      <td>10141823</td>\n",
       "      <td>carmenotanez@hotmail.com</td>\n",
       "      <td>Propio</td>\n",
       "      <td>CD</td>\n",
       "      <td>EMAIL</td>\n",
       "      <td>PERSONAL</td>\n",
       "      <td>2.0</td>\n",
       "      <td>2021-03-02 16:44:50.000325</td>\n",
       "    </tr>\n",
       "    <tr>\n",
       "      <th>2</th>\n",
       "      <td>10460610</td>\n",
       "      <td>juando@gmail.com</td>\n",
       "      <td>Propio</td>\n",
       "      <td>CD</td>\n",
       "      <td>EMAIL</td>\n",
       "      <td>PERSONAL</td>\n",
       "      <td>2.0</td>\n",
       "      <td>2021-03-02 16:44:50.000325</td>\n",
       "    </tr>\n",
       "    <tr>\n",
       "      <th>3</th>\n",
       "      <td>10497875</td>\n",
       "      <td>caty1951@hotmail.com</td>\n",
       "      <td>Propio</td>\n",
       "      <td>CD</td>\n",
       "      <td>EMAIL</td>\n",
       "      <td>PERSONAL</td>\n",
       "      <td>2.0</td>\n",
       "      <td>2021-03-02 16:44:50.000325</td>\n",
       "    </tr>\n",
       "    <tr>\n",
       "      <th>4</th>\n",
       "      <td>10580772</td>\n",
       "      <td>fernando.bazan@hotmail.com</td>\n",
       "      <td>Propio</td>\n",
       "      <td>CD</td>\n",
       "      <td>EMAIL</td>\n",
       "      <td>PERSONAL</td>\n",
       "      <td>2.0</td>\n",
       "      <td>2021-03-02 16:44:50.000325</td>\n",
       "    </tr>\n",
       "  </tbody>\n",
       "</table>\n",
       "</div>"
      ],
      "text/plain": [
       "    NRO_DOC                        Dato PROPIETARIO_DATO PROVEEDOR_DATO  \\\n",
       "0  10128300    raulblanco11@hotmail.com           Propio             CD   \n",
       "1  10141823    carmenotanez@hotmail.com           Propio             CD   \n",
       "2  10460610            juando@gmail.com           Propio             CD   \n",
       "3  10497875        caty1951@hotmail.com           Propio             CD   \n",
       "4  10580772  fernando.bazan@hotmail.com           Propio             CD   \n",
       "\n",
       "    TIPO   SUBTIPO  SCORE_DATO         FECHA_INGRESO_DATO  \n",
       "0  EMAIL  PERSONAL         2.0 2021-03-02 16:44:50.000325  \n",
       "1  EMAIL  PERSONAL         2.0 2021-03-02 16:44:50.000325  \n",
       "2  EMAIL  PERSONAL         2.0 2021-03-02 16:44:50.000325  \n",
       "3  EMAIL  PERSONAL         2.0 2021-03-02 16:44:50.000325  \n",
       "4  EMAIL  PERSONAL         2.0 2021-03-02 16:44:50.000325  "
      ]
     },
     "execution_count": 29,
     "metadata": {},
     "output_type": "execute_result"
    }
   ],
   "source": [
    "df_clean.head()"
   ]
  },
  {
   "cell_type": "markdown",
   "metadata": {},
   "source": [
    "# 11) Campos adicionales"
   ]
  },
  {
   "cell_type": "markdown",
   "metadata": {},
   "source": [
    "Creamos las columnas VERIFICADO, FECHA_VERIFICACION, OPERADOR_VERIFICACION, que en principio van en nulls."
   ]
  },
  {
   "cell_type": "code",
   "execution_count": 30,
   "metadata": {},
   "outputs": [],
   "source": [
    "df_clean['VERIFICADO'] = 0"
   ]
  },
  {
   "cell_type": "code",
   "execution_count": 31,
   "metadata": {},
   "outputs": [],
   "source": [
    "df_clean['FECHA_VERIFICACION'] = np.nan"
   ]
  },
  {
   "cell_type": "code",
   "execution_count": 32,
   "metadata": {},
   "outputs": [],
   "source": [
    "df_clean['OPERADOR_VERIFICACION'] = np.nan"
   ]
  },
  {
   "cell_type": "markdown",
   "metadata": {},
   "source": [
    "# 12) Concatenación con .csv enviado "
   ]
  },
  {
   "cell_type": "markdown",
   "metadata": {},
   "source": [
    "Vamos a concatenar nuestro dataframe con el dataframe enviado para enriquecer. Para esto, vamos a hacer una limpieza inicial de cómo se enviaron esos datos. Finalmente, se uniran ambos dataframes por __DNI__."
   ]
  },
  {
   "cell_type": "markdown",
   "metadata": {},
   "source": [
    "## 12.1) Dataset: PyP"
   ]
  },
  {
   "cell_type": "markdown",
   "metadata": {},
   "source": [
    "Vamos a analizar y limpiar el dataset enviado a PyP para el enriquecimiento:"
   ]
  },
  {
   "cell_type": "code",
   "execution_count": 33,
   "metadata": {},
   "outputs": [],
   "source": [
    "df_pyp = pd.read_csv('/mnt/c/users/Dleg/Data/MOPC/MOPC/Enriquecimiento de Datos/Data Cleaning/Contacto Directo/Datasets/Datasets enviados/cartera_completa_estado_idcliente - 0103.csv')"
   ]
  },
  {
   "cell_type": "code",
   "execution_count": 34,
   "metadata": {
    "scrolled": false
   },
   "outputs": [
    {
     "data": {
      "text/html": [
       "<div>\n",
       "<style scoped>\n",
       "    .dataframe tbody tr th:only-of-type {\n",
       "        vertical-align: middle;\n",
       "    }\n",
       "\n",
       "    .dataframe tbody tr th {\n",
       "        vertical-align: top;\n",
       "    }\n",
       "\n",
       "    .dataframe thead th {\n",
       "        text-align: right;\n",
       "    }\n",
       "</style>\n",
       "<table border=\"1\" class=\"dataframe\">\n",
       "  <thead>\n",
       "    <tr style=\"text-align: right;\">\n",
       "      <th></th>\n",
       "      <th>IDMOROSO</th>\n",
       "      <th>DATOADIC</th>\n",
       "      <th>NOMBRE</th>\n",
       "      <th>IDCLIENTE</th>\n",
       "      <th>ESTADO</th>\n",
       "      <th>DNI</th>\n",
       "    </tr>\n",
       "  </thead>\n",
       "  <tbody>\n",
       "    <tr>\n",
       "      <th>0</th>\n",
       "      <td>CUIT20115091280</td>\n",
       "      <td></td>\n",
       "      <td>SUCESION DE CAISUTTI MIGUEL</td>\n",
       "      <td>BSR_TARDIA</td>\n",
       "      <td>SKIP LEVEL 2</td>\n",
       "      <td>CUIT20115091280</td>\n",
       "    </tr>\n",
       "    <tr>\n",
       "      <th>1</th>\n",
       "      <td>CUIT30500181547</td>\n",
       "      <td></td>\n",
       "      <td>LITOGRAFIA CUYO SA</td>\n",
       "      <td>BSR_TARDIA</td>\n",
       "      <td>PROBLEMA</td>\n",
       "      <td>CUIT30500181547</td>\n",
       "    </tr>\n",
       "    <tr>\n",
       "      <th>2</th>\n",
       "      <td>CUIT30501109041</td>\n",
       "      <td></td>\n",
       "      <td>EMEGE SA</td>\n",
       "      <td>BSR_TARDIA</td>\n",
       "      <td>NO UBICADO</td>\n",
       "      <td>CUIT30501109041</td>\n",
       "    </tr>\n",
       "    <tr>\n",
       "      <th>3</th>\n",
       "      <td>CUIT30502016373</td>\n",
       "      <td></td>\n",
       "      <td>IATILO SA</td>\n",
       "      <td>BSR_TARDIA</td>\n",
       "      <td>NO UBICADO</td>\n",
       "      <td>CUIT30502016373</td>\n",
       "    </tr>\n",
       "    <tr>\n",
       "      <th>4</th>\n",
       "      <td>CUIT30502766917</td>\n",
       "      <td></td>\n",
       "      <td>MAZTER INDUSTR MADERIL SACIFI</td>\n",
       "      <td>BSR_TARDIA</td>\n",
       "      <td>INTERESADO_MOPCPAGOS</td>\n",
       "      <td>CUIT30502766917</td>\n",
       "    </tr>\n",
       "  </tbody>\n",
       "</table>\n",
       "</div>"
      ],
      "text/plain": [
       "             IDMOROSO                        DATOADIC  \\\n",
       "0  CUIT20115091280                                      \n",
       "1  CUIT30500181547                                      \n",
       "2  CUIT30501109041                                      \n",
       "3  CUIT30502016373                                      \n",
       "4  CUIT30502766917                                      \n",
       "\n",
       "                                     NOMBRE             IDCLIENTE  \\\n",
       "0  SUCESION DE CAISUTTI MIGUEL               BSR_TARDIA             \n",
       "1  LITOGRAFIA CUYO SA                        BSR_TARDIA             \n",
       "2  EMEGE SA                                  BSR_TARDIA             \n",
       "3  IATILO SA                                 BSR_TARDIA             \n",
       "4  MAZTER INDUSTR MADERIL SACIFI             BSR_TARDIA             \n",
       "\n",
       "                 ESTADO                             DNI  \n",
       "0  SKIP LEVEL 2          CUIT20115091280                 \n",
       "1  PROBLEMA              CUIT30500181547                 \n",
       "2  NO UBICADO            CUIT30501109041                 \n",
       "3  NO UBICADO            CUIT30502016373                 \n",
       "4  INTERESADO_MOPCPAGOS  CUIT30502766917                 "
      ]
     },
     "execution_count": 34,
     "metadata": {},
     "output_type": "execute_result"
    }
   ],
   "source": [
    "df_pyp.head()"
   ]
  },
  {
   "cell_type": "markdown",
   "metadata": {},
   "source": [
    "Creamos una columna que contenga IDMOROSO + DATOADIC según corresponda"
   ]
  },
  {
   "cell_type": "code",
   "execution_count": 35,
   "metadata": {},
   "outputs": [],
   "source": [
    "#df_pyp.loc[(df_pyp['IDCLIENTE'].str.startswith('AMEX')) , 'NRO_DOC'] = df_pyp['DATOADIC']"
   ]
  },
  {
   "cell_type": "code",
   "execution_count": 36,
   "metadata": {},
   "outputs": [],
   "source": [
    "df_pyp = df_pyp [['IDMOROSO','NOMBRE','IDCLIENTE', 'DNI']]"
   ]
  },
  {
   "cell_type": "code",
   "execution_count": 37,
   "metadata": {},
   "outputs": [],
   "source": [
    "df_pyp = df_pyp.rename(columns={'DNI':'NRO_DOC'})"
   ]
  },
  {
   "cell_type": "code",
   "execution_count": 38,
   "metadata": {},
   "outputs": [
    {
     "data": {
      "text/html": [
       "<div>\n",
       "<style scoped>\n",
       "    .dataframe tbody tr th:only-of-type {\n",
       "        vertical-align: middle;\n",
       "    }\n",
       "\n",
       "    .dataframe tbody tr th {\n",
       "        vertical-align: top;\n",
       "    }\n",
       "\n",
       "    .dataframe thead th {\n",
       "        text-align: right;\n",
       "    }\n",
       "</style>\n",
       "<table border=\"1\" class=\"dataframe\">\n",
       "  <thead>\n",
       "    <tr style=\"text-align: right;\">\n",
       "      <th></th>\n",
       "      <th>IDMOROSO</th>\n",
       "      <th>NOMBRE</th>\n",
       "      <th>IDCLIENTE</th>\n",
       "      <th>NRO_DOC</th>\n",
       "    </tr>\n",
       "  </thead>\n",
       "  <tbody>\n",
       "    <tr>\n",
       "      <th>0</th>\n",
       "      <td>CUIT20115091280</td>\n",
       "      <td>SUCESION DE CAISUTTI MIGUEL</td>\n",
       "      <td>BSR_TARDIA</td>\n",
       "      <td>CUIT20115091280</td>\n",
       "    </tr>\n",
       "    <tr>\n",
       "      <th>1</th>\n",
       "      <td>CUIT30500181547</td>\n",
       "      <td>LITOGRAFIA CUYO SA</td>\n",
       "      <td>BSR_TARDIA</td>\n",
       "      <td>CUIT30500181547</td>\n",
       "    </tr>\n",
       "    <tr>\n",
       "      <th>2</th>\n",
       "      <td>CUIT30501109041</td>\n",
       "      <td>EMEGE SA</td>\n",
       "      <td>BSR_TARDIA</td>\n",
       "      <td>CUIT30501109041</td>\n",
       "    </tr>\n",
       "    <tr>\n",
       "      <th>3</th>\n",
       "      <td>CUIT30502016373</td>\n",
       "      <td>IATILO SA</td>\n",
       "      <td>BSR_TARDIA</td>\n",
       "      <td>CUIT30502016373</td>\n",
       "    </tr>\n",
       "    <tr>\n",
       "      <th>4</th>\n",
       "      <td>CUIT30502766917</td>\n",
       "      <td>MAZTER INDUSTR MADERIL SACIFI</td>\n",
       "      <td>BSR_TARDIA</td>\n",
       "      <td>CUIT30502766917</td>\n",
       "    </tr>\n",
       "  </tbody>\n",
       "</table>\n",
       "</div>"
      ],
      "text/plain": [
       "             IDMOROSO                                    NOMBRE  \\\n",
       "0  CUIT20115091280     SUCESION DE CAISUTTI MIGUEL                \n",
       "1  CUIT30500181547     LITOGRAFIA CUYO SA                         \n",
       "2  CUIT30501109041     EMEGE SA                                   \n",
       "3  CUIT30502016373     IATILO SA                                  \n",
       "4  CUIT30502766917     MAZTER INDUSTR MADERIL SACIFI              \n",
       "\n",
       "              IDCLIENTE                         NRO_DOC  \n",
       "0  BSR_TARDIA            CUIT20115091280                 \n",
       "1  BSR_TARDIA            CUIT30500181547                 \n",
       "2  BSR_TARDIA            CUIT30501109041                 \n",
       "3  BSR_TARDIA            CUIT30502016373                 \n",
       "4  BSR_TARDIA            CUIT30502766917                 "
      ]
     },
     "execution_count": 38,
     "metadata": {},
     "output_type": "execute_result"
    }
   ],
   "source": [
    "df_pyp.head()"
   ]
  },
  {
   "cell_type": "code",
   "execution_count": 39,
   "metadata": {},
   "outputs": [],
   "source": [
    "#df_pyp.to_excel('test_nro_doc.xlsx')"
   ]
  },
  {
   "cell_type": "markdown",
   "metadata": {},
   "source": [
    "## 12.2) DNI Cleaning"
   ]
  },
  {
   "cell_type": "markdown",
   "metadata": {},
   "source": [
    "Limpiamos el dataframe __df_pyp__, ya que dentro de DATO_A_ENVIAR tenemos 9 tipos de casos diferentes de datos:\n",
    "\n",
    "- DNI 12345678\n",
    "- DNI12345678\n",
    "- DNIE1234678\n",
    "- LC  1234567\n",
    "- LE  1234567\n",
    "- CUIT00123456780\n",
    "- 00123456780 --> Es un CUIT.\n",
    "- 00 12345678 0 --> Es un CUIT.\n",
    "- DNI 00123456780 --> Dice DNI pero es un CUIT de una persona __jurídica__ (TO DO)"
   ]
  },
  {
   "cell_type": "markdown",
   "metadata": {},
   "source": [
    "Para eso definimos 5 funciones:\n",
    "\n",
    "- __Tipo_DOC__: Se definen dos funciones para determinar el tipo de DNI. Una inicial, y otra para corregir sobre el dataframe resultante.\n",
    "- __Standard DNI__: Estandariza los DNI para 7 de los casos. Esta función debe ejecutarse en primer lugar.\n",
    "- __DNI Spaces__: Elimina los espacios.\n",
    "- __DNI Zero__: Elimina los ceros iniciales de ciertos CUITs para que coincidan con los DNI.\n",
    "- __Cuit__: Decisión sobre dejar un cuit o volverlo DNI"
   ]
  },
  {
   "cell_type": "code",
   "execution_count": 40,
   "metadata": {},
   "outputs": [],
   "source": [
    "def tipo_doc_1 (string_dni):\n",
    "    \n",
    "    if 'DNI' in string_dni:\n",
    "        tipo = 'DNI'\n",
    "    \n",
    "    elif 'LC' in string_dni:\n",
    "        tipo = 'LC'\n",
    "    \n",
    "    elif 'LE' in string_dni:\n",
    "        tipo = 'LE'\n",
    "    \n",
    "    elif 'DNIE' in string_dni:\n",
    "        tipo = 'DNIE'    \n",
    "    \n",
    "    elif ((string_dni.startswith(('CUIT30','CUIT33','CUIT34'))) & (len(string_dni)>8)):\n",
    "        tipo = 'CUIT'\n",
    "        \n",
    "    elif ((string_dni.startswith(('30','33','34'))) & (len(string_dni)>8)):\n",
    "        tipo = 'CUIT'\n",
    "\n",
    "    elif ((string_dni.startswith(('20','23','24','27'))) & (len(string_dni)>8)):\n",
    "        tipo = 'DNI'\n",
    "\n",
    "    elif ((string_dni.startswith(('CUIT20','CUIT23','CUIT24','CUIT27'))) & (len(string_dni)>8)):\n",
    "        tipo = 'DNI'\n",
    "        \n",
    "    else:\n",
    "        tipo = 'DNI'\n",
    "    \n",
    "    return tipo"
   ]
  },
  {
   "cell_type": "code",
   "execution_count": 41,
   "metadata": {},
   "outputs": [],
   "source": [
    "def tipo_doc_2 (string_dni, tipo_original):\n",
    "    \n",
    "    if (len(string_dni) > 8) & (tipo_original == 'DNI'):\n",
    "        tipo = 'CUIT'\n",
    "    else:\n",
    "        tipo = tipo_original\n",
    "    return tipo"
   ]
  },
  {
   "cell_type": "code",
   "execution_count": 42,
   "metadata": {},
   "outputs": [],
   "source": [
    "def standard_dni (string_dni):\n",
    "    \"\"\"DNI separation by each case.\n",
    "    \"\"\"\n",
    "    \n",
    "    if 'DNI ' in string_dni:\n",
    "        dni = string_dni.split('DNI ')[1]\n",
    "        \n",
    "    elif 'DNIE' in string_dni:\n",
    "        dni = string_dni.split('DNIE')[1]\n",
    "    \n",
    "    elif 'DNI' in string_dni:\n",
    "        dni = string_dni.split('DNI')[1]\n",
    "    \n",
    "    elif 'LC  ' in string_dni:\n",
    "        dni = string_dni.split('LC  ')[1]\n",
    "    \n",
    "    elif 'LE  ' in string_dni:\n",
    "        dni = string_dni.split('LE  ')[1]\n",
    "    \n",
    "    elif 'CUIT' in string_dni:\n",
    "        dni = string_dni.split('CUIT')[1]\n",
    "        \n",
    "    else:\n",
    "        dni = string_dni\n",
    "        \n",
    "    return dni"
   ]
  },
  {
   "cell_type": "code",
   "execution_count": 43,
   "metadata": {},
   "outputs": [],
   "source": [
    "def dni_characters (string_dni):\n",
    "    \n",
    "    if ' ' in string_dni:\n",
    "        dni = string_dni.replace(' ','')\n",
    "        \n",
    "    elif '-' in string_dni:\n",
    "        dni = string_dni.replace('-','')\n",
    "\n",
    "    else:\n",
    "        dni = string_dni\n",
    "    \n",
    "    return dni"
   ]
  },
  {
   "cell_type": "code",
   "execution_count": 44,
   "metadata": {},
   "outputs": [],
   "source": [
    "def cuit (string_dni):\n",
    "    \n",
    "    if ((string_dni.startswith('20')) & (len(string_dni)>8)):\n",
    "        cuit = string_dni [2:-1]\n",
    "        \n",
    "    elif ((string_dni.startswith('23')) & (len(string_dni)>8)):\n",
    "        cuit = string_dni [2:-1]\n",
    "        \n",
    "    elif ((string_dni.startswith('24')) & (len(string_dni)>8)):\n",
    "        cuit = string_dni [2:-1]\n",
    "\n",
    "    elif ((string_dni.startswith('27')) & (len(string_dni)>8)):\n",
    "        cuit = string_dni [2:-1]\n",
    "\n",
    "    else:\n",
    "        cuit = string_dni\n",
    "        \n",
    "    return cuit"
   ]
  },
  {
   "cell_type": "code",
   "execution_count": 45,
   "metadata": {},
   "outputs": [],
   "source": [
    "def dni_zero (string_dni):\n",
    "    \n",
    "    if string_dni.startswith('0'):\n",
    "        dni = string_dni [1:]\n",
    "\n",
    "    else:\n",
    "        dni = string_dni\n",
    "    \n",
    "    return dni"
   ]
  },
  {
   "cell_type": "markdown",
   "metadata": {},
   "source": [
    "En primer lugar, trimmeamos los espacios que sobran:"
   ]
  },
  {
   "cell_type": "code",
   "execution_count": 46,
   "metadata": {},
   "outputs": [],
   "source": [
    "df_pyp['NRO_DOC'] = [(str(df_pyp['NRO_DOC'][i]).strip()) for i in range (df_pyp['NRO_DOC'].count())]"
   ]
  },
  {
   "cell_type": "markdown",
   "metadata": {},
   "source": [
    "Se implementan estas funciones:"
   ]
  },
  {
   "cell_type": "markdown",
   "metadata": {},
   "source": [
    "Para determinar el __TIPO DE DOCUMENTO__ en primer lugar:"
   ]
  },
  {
   "cell_type": "code",
   "execution_count": 47,
   "metadata": {},
   "outputs": [],
   "source": [
    "df_pyp['TIPO_DOC'] = [tipo_doc_1(df_pyp['NRO_DOC'][i]) for i in range (df_pyp['NRO_DOC'].count())]"
   ]
  },
  {
   "cell_type": "markdown",
   "metadata": {},
   "source": [
    "Para la limpieza de DNIs:"
   ]
  },
  {
   "cell_type": "code",
   "execution_count": 48,
   "metadata": {},
   "outputs": [],
   "source": [
    "df_pyp['NRO_DOC'] = [standard_dni(df_pyp['NRO_DOC'][i]) for i in range (df_pyp['NRO_DOC'].count())]"
   ]
  },
  {
   "cell_type": "code",
   "execution_count": 49,
   "metadata": {},
   "outputs": [],
   "source": [
    "df_pyp['NRO_DOC'] = [dni_characters(df_pyp['NRO_DOC'][i]) for i in range (df_pyp['NRO_DOC'].count())]"
   ]
  },
  {
   "cell_type": "code",
   "execution_count": 50,
   "metadata": {},
   "outputs": [],
   "source": [
    "df_pyp['NRO_DOC'] = [cuit(df_pyp['NRO_DOC'][i]) for i in range (df_pyp['NRO_DOC'].count())]"
   ]
  },
  {
   "cell_type": "code",
   "execution_count": 51,
   "metadata": {},
   "outputs": [],
   "source": [
    "df_pyp['NRO_DOC'] = [dni_zero(df_pyp['NRO_DOC'][i]) for i in range (df_pyp['NRO_DOC'].count())]"
   ]
  },
  {
   "cell_type": "markdown",
   "metadata": {},
   "source": [
    "Para corregir el __TIPO DE DOCUMENTO__ sobre el dataframe resultante"
   ]
  },
  {
   "cell_type": "code",
   "execution_count": 52,
   "metadata": {},
   "outputs": [],
   "source": [
    "df_pyp['TIPO_DOC'] = [tipo_doc_2(df_pyp['NRO_DOC'][i],df_pyp['TIPO_DOC'][i]) for i in range (df_pyp['NRO_DOC'].count())]"
   ]
  },
  {
   "cell_type": "code",
   "execution_count": 53,
   "metadata": {
    "scrolled": true
   },
   "outputs": [
    {
     "data": {
      "text/html": [
       "<div>\n",
       "<style scoped>\n",
       "    .dataframe tbody tr th:only-of-type {\n",
       "        vertical-align: middle;\n",
       "    }\n",
       "\n",
       "    .dataframe tbody tr th {\n",
       "        vertical-align: top;\n",
       "    }\n",
       "\n",
       "    .dataframe thead th {\n",
       "        text-align: right;\n",
       "    }\n",
       "</style>\n",
       "<table border=\"1\" class=\"dataframe\">\n",
       "  <thead>\n",
       "    <tr style=\"text-align: right;\">\n",
       "      <th></th>\n",
       "      <th>IDMOROSO</th>\n",
       "      <th>NOMBRE</th>\n",
       "      <th>IDCLIENTE</th>\n",
       "      <th>NRO_DOC</th>\n",
       "      <th>TIPO_DOC</th>\n",
       "    </tr>\n",
       "  </thead>\n",
       "  <tbody>\n",
       "    <tr>\n",
       "      <th>0</th>\n",
       "      <td>CUIT20115091280</td>\n",
       "      <td>SUCESION DE CAISUTTI MIGUEL</td>\n",
       "      <td>BSR_TARDIA</td>\n",
       "      <td>11509128</td>\n",
       "      <td>DNI</td>\n",
       "    </tr>\n",
       "    <tr>\n",
       "      <th>1</th>\n",
       "      <td>CUIT30500181547</td>\n",
       "      <td>LITOGRAFIA CUYO SA</td>\n",
       "      <td>BSR_TARDIA</td>\n",
       "      <td>30500181547</td>\n",
       "      <td>CUIT</td>\n",
       "    </tr>\n",
       "    <tr>\n",
       "      <th>2</th>\n",
       "      <td>CUIT30501109041</td>\n",
       "      <td>EMEGE SA</td>\n",
       "      <td>BSR_TARDIA</td>\n",
       "      <td>30501109041</td>\n",
       "      <td>CUIT</td>\n",
       "    </tr>\n",
       "    <tr>\n",
       "      <th>3</th>\n",
       "      <td>CUIT30502016373</td>\n",
       "      <td>IATILO SA</td>\n",
       "      <td>BSR_TARDIA</td>\n",
       "      <td>30502016373</td>\n",
       "      <td>CUIT</td>\n",
       "    </tr>\n",
       "    <tr>\n",
       "      <th>4</th>\n",
       "      <td>CUIT30502766917</td>\n",
       "      <td>MAZTER INDUSTR MADERIL SACIFI</td>\n",
       "      <td>BSR_TARDIA</td>\n",
       "      <td>30502766917</td>\n",
       "      <td>CUIT</td>\n",
       "    </tr>\n",
       "  </tbody>\n",
       "</table>\n",
       "</div>"
      ],
      "text/plain": [
       "             IDMOROSO                                    NOMBRE  \\\n",
       "0  CUIT20115091280     SUCESION DE CAISUTTI MIGUEL                \n",
       "1  CUIT30500181547     LITOGRAFIA CUYO SA                         \n",
       "2  CUIT30501109041     EMEGE SA                                   \n",
       "3  CUIT30502016373     IATILO SA                                  \n",
       "4  CUIT30502766917     MAZTER INDUSTR MADERIL SACIFI              \n",
       "\n",
       "              IDCLIENTE      NRO_DOC TIPO_DOC  \n",
       "0  BSR_TARDIA               11509128      DNI  \n",
       "1  BSR_TARDIA            30500181547     CUIT  \n",
       "2  BSR_TARDIA            30501109041     CUIT  \n",
       "3  BSR_TARDIA            30502016373     CUIT  \n",
       "4  BSR_TARDIA            30502766917     CUIT  "
      ]
     },
     "execution_count": 53,
     "metadata": {},
     "output_type": "execute_result"
    }
   ],
   "source": [
    "df_pyp.head()"
   ]
  },
  {
   "cell_type": "markdown",
   "metadata": {},
   "source": [
    "# 13) Union de Dataframes"
   ]
  },
  {
   "cell_type": "markdown",
   "metadata": {},
   "source": [
    "Se unen ambos dataframes en la columna NRO_DOC"
   ]
  },
  {
   "cell_type": "markdown",
   "metadata": {},
   "source": [
    "Convertimos la columna NRO_DOC de objeto a INT para hacer la unión"
   ]
  },
  {
   "cell_type": "code",
   "execution_count": 54,
   "metadata": {},
   "outputs": [],
   "source": [
    "df_clean = df_clean.astype({'NRO_DOC': 'str'})"
   ]
  },
  {
   "cell_type": "code",
   "execution_count": 55,
   "metadata": {},
   "outputs": [],
   "source": [
    "df_union = pd.merge(df_clean,df_pyp, on='NRO_DOC', how='inner')"
   ]
  },
  {
   "cell_type": "code",
   "execution_count": 56,
   "metadata": {},
   "outputs": [
    {
     "data": {
      "text/plain": [
       "(877, 15)"
      ]
     },
     "execution_count": 56,
     "metadata": {},
     "output_type": "execute_result"
    }
   ],
   "source": [
    "df_union.shape"
   ]
  },
  {
   "cell_type": "code",
   "execution_count": 57,
   "metadata": {
    "scrolled": false
   },
   "outputs": [
    {
     "data": {
      "text/html": [
       "<div>\n",
       "<style scoped>\n",
       "    .dataframe tbody tr th:only-of-type {\n",
       "        vertical-align: middle;\n",
       "    }\n",
       "\n",
       "    .dataframe tbody tr th {\n",
       "        vertical-align: top;\n",
       "    }\n",
       "\n",
       "    .dataframe thead th {\n",
       "        text-align: right;\n",
       "    }\n",
       "</style>\n",
       "<table border=\"1\" class=\"dataframe\">\n",
       "  <thead>\n",
       "    <tr style=\"text-align: right;\">\n",
       "      <th></th>\n",
       "      <th>NRO_DOC</th>\n",
       "      <th>Dato</th>\n",
       "      <th>PROPIETARIO_DATO</th>\n",
       "      <th>PROVEEDOR_DATO</th>\n",
       "      <th>TIPO</th>\n",
       "      <th>SUBTIPO</th>\n",
       "      <th>SCORE_DATO</th>\n",
       "      <th>FECHA_INGRESO_DATO</th>\n",
       "      <th>VERIFICADO</th>\n",
       "      <th>FECHA_VERIFICACION</th>\n",
       "      <th>OPERADOR_VERIFICACION</th>\n",
       "      <th>IDMOROSO</th>\n",
       "      <th>NOMBRE</th>\n",
       "      <th>IDCLIENTE</th>\n",
       "      <th>TIPO_DOC</th>\n",
       "    </tr>\n",
       "  </thead>\n",
       "  <tbody>\n",
       "    <tr>\n",
       "      <th>0</th>\n",
       "      <td>10128300</td>\n",
       "      <td>raulblanco11@hotmail.com</td>\n",
       "      <td>Propio</td>\n",
       "      <td>CD</td>\n",
       "      <td>EMAIL</td>\n",
       "      <td>PERSONAL</td>\n",
       "      <td>2.0</td>\n",
       "      <td>2021-03-02 16:44:50.000325</td>\n",
       "      <td>0</td>\n",
       "      <td>NaN</td>\n",
       "      <td>NaN</td>\n",
       "      <td>DNI 10128300</td>\n",
       "      <td>BLANCO. RAUL ALFREDO</td>\n",
       "      <td>HSBC_2019</td>\n",
       "      <td>DNI</td>\n",
       "    </tr>\n",
       "    <tr>\n",
       "      <th>1</th>\n",
       "      <td>10141823</td>\n",
       "      <td>carmenotanez@hotmail.com</td>\n",
       "      <td>Propio</td>\n",
       "      <td>CD</td>\n",
       "      <td>EMAIL</td>\n",
       "      <td>PERSONAL</td>\n",
       "      <td>2.0</td>\n",
       "      <td>2021-03-02 16:44:50.000325</td>\n",
       "      <td>0</td>\n",
       "      <td>NaN</td>\n",
       "      <td>NaN</td>\n",
       "      <td>DNI 10141823</td>\n",
       "      <td>OTANEZ LASTRA CARMEN SARA</td>\n",
       "      <td>FRANCES_2012</td>\n",
       "      <td>DNI</td>\n",
       "    </tr>\n",
       "    <tr>\n",
       "      <th>2</th>\n",
       "      <td>10460610</td>\n",
       "      <td>juando@gmail.com</td>\n",
       "      <td>Propio</td>\n",
       "      <td>CD</td>\n",
       "      <td>EMAIL</td>\n",
       "      <td>PERSONAL</td>\n",
       "      <td>2.0</td>\n",
       "      <td>2021-03-02 16:44:50.000325</td>\n",
       "      <td>0</td>\n",
       "      <td>NaN</td>\n",
       "      <td>NaN</td>\n",
       "      <td>DNI 10460610</td>\n",
       "      <td>ANDRADA JUAN DOMINGO</td>\n",
       "      <td>FRANCES_2012</td>\n",
       "      <td>DNI</td>\n",
       "    </tr>\n",
       "    <tr>\n",
       "      <th>3</th>\n",
       "      <td>10497875</td>\n",
       "      <td>caty1951@hotmail.com</td>\n",
       "      <td>Propio</td>\n",
       "      <td>CD</td>\n",
       "      <td>EMAIL</td>\n",
       "      <td>PERSONAL</td>\n",
       "      <td>2.0</td>\n",
       "      <td>2021-03-02 16:44:50.000325</td>\n",
       "      <td>0</td>\n",
       "      <td>NaN</td>\n",
       "      <td>NaN</td>\n",
       "      <td>DNI 10497875</td>\n",
       "      <td>CIURO CATALINA ISABEL</td>\n",
       "      <td>FRANCES_2012</td>\n",
       "      <td>DNI</td>\n",
       "    </tr>\n",
       "    <tr>\n",
       "      <th>4</th>\n",
       "      <td>10580772</td>\n",
       "      <td>fernando.bazan@hotmail.com</td>\n",
       "      <td>Propio</td>\n",
       "      <td>CD</td>\n",
       "      <td>EMAIL</td>\n",
       "      <td>PERSONAL</td>\n",
       "      <td>2.0</td>\n",
       "      <td>2021-03-02 16:44:50.000325</td>\n",
       "      <td>0</td>\n",
       "      <td>NaN</td>\n",
       "      <td>NaN</td>\n",
       "      <td>DNI 10580772</td>\n",
       "      <td>FERNANDO MARINO,BAZAN</td>\n",
       "      <td>BSR_TARDIA</td>\n",
       "      <td>DNI</td>\n",
       "    </tr>\n",
       "  </tbody>\n",
       "</table>\n",
       "</div>"
      ],
      "text/plain": [
       "    NRO_DOC                        Dato PROPIETARIO_DATO PROVEEDOR_DATO  \\\n",
       "0  10128300    raulblanco11@hotmail.com           Propio             CD   \n",
       "1  10141823    carmenotanez@hotmail.com           Propio             CD   \n",
       "2  10460610            juando@gmail.com           Propio             CD   \n",
       "3  10497875        caty1951@hotmail.com           Propio             CD   \n",
       "4  10580772  fernando.bazan@hotmail.com           Propio             CD   \n",
       "\n",
       "    TIPO   SUBTIPO  SCORE_DATO         FECHA_INGRESO_DATO  VERIFICADO  \\\n",
       "0  EMAIL  PERSONAL         2.0 2021-03-02 16:44:50.000325           0   \n",
       "1  EMAIL  PERSONAL         2.0 2021-03-02 16:44:50.000325           0   \n",
       "2  EMAIL  PERSONAL         2.0 2021-03-02 16:44:50.000325           0   \n",
       "3  EMAIL  PERSONAL         2.0 2021-03-02 16:44:50.000325           0   \n",
       "4  EMAIL  PERSONAL         2.0 2021-03-02 16:44:50.000325           0   \n",
       "\n",
       "   FECHA_VERIFICACION  OPERADOR_VERIFICACION            IDMOROSO  \\\n",
       "0                 NaN                    NaN  DNI 10128300         \n",
       "1                 NaN                    NaN  DNI 10141823         \n",
       "2                 NaN                    NaN  DNI 10460610         \n",
       "3                 NaN                    NaN  DNI 10497875         \n",
       "4                 NaN                    NaN  DNI 10580772         \n",
       "\n",
       "                                     NOMBRE             IDCLIENTE TIPO_DOC  \n",
       "0  BLANCO. RAUL ALFREDO                      HSBC_2019                 DNI  \n",
       "1  OTANEZ LASTRA CARMEN SARA                 FRANCES_2012              DNI  \n",
       "2  ANDRADA JUAN DOMINGO                      FRANCES_2012              DNI  \n",
       "3  CIURO CATALINA ISABEL                     FRANCES_2012              DNI  \n",
       "4  FERNANDO MARINO,BAZAN                     BSR_TARDIA                DNI  "
      ]
     },
     "execution_count": 57,
     "metadata": {},
     "output_type": "execute_result"
    }
   ],
   "source": [
    "df_union.head()"
   ]
  },
  {
   "cell_type": "markdown",
   "metadata": {},
   "source": [
    "## Cuit"
   ]
  },
  {
   "cell_type": "markdown",
   "metadata": {},
   "source": [
    "Por ahora, quedará en NaN"
   ]
  },
  {
   "cell_type": "code",
   "execution_count": 58,
   "metadata": {},
   "outputs": [],
   "source": [
    "df_union = df_union.assign(CUIT_CUIL=np.nan)"
   ]
  },
  {
   "cell_type": "markdown",
   "metadata": {},
   "source": [
    "# 14) Export"
   ]
  },
  {
   "cell_type": "markdown",
   "metadata": {},
   "source": [
    "Renombramos, dropeamos y reordenamos las columnas"
   ]
  },
  {
   "cell_type": "code",
   "execution_count": 59,
   "metadata": {},
   "outputs": [],
   "source": [
    "df_union = df_union.rename(columns = {'Dato':'DATO'})"
   ]
  },
  {
   "cell_type": "markdown",
   "metadata": {},
   "source": [
    "Dropeamos columnas que no nos sirven"
   ]
  },
  {
   "cell_type": "code",
   "execution_count": 60,
   "metadata": {},
   "outputs": [],
   "source": [
    "df_export = df_union.drop(columns=['IDCLIENTE'], axis=0)"
   ]
  },
  {
   "cell_type": "code",
   "execution_count": 61,
   "metadata": {
    "scrolled": true
   },
   "outputs": [],
   "source": [
    "df_export = df_export[['IDMOROSO', 'TIPO_DOC','NRO_DOC','CUIT_CUIL','TIPO','SUBTIPO','DATO','PROPIETARIO_DATO','PROVEEDOR_DATO','FECHA_INGRESO_DATO','VERIFICADO','FECHA_VERIFICACION','OPERADOR_VERIFICACION','SCORE_DATO']]"
   ]
  },
  {
   "cell_type": "code",
   "execution_count": 62,
   "metadata": {},
   "outputs": [
    {
     "data": {
      "text/html": [
       "<div>\n",
       "<style scoped>\n",
       "    .dataframe tbody tr th:only-of-type {\n",
       "        vertical-align: middle;\n",
       "    }\n",
       "\n",
       "    .dataframe tbody tr th {\n",
       "        vertical-align: top;\n",
       "    }\n",
       "\n",
       "    .dataframe thead th {\n",
       "        text-align: right;\n",
       "    }\n",
       "</style>\n",
       "<table border=\"1\" class=\"dataframe\">\n",
       "  <thead>\n",
       "    <tr style=\"text-align: right;\">\n",
       "      <th></th>\n",
       "      <th>IDMOROSO</th>\n",
       "      <th>TIPO_DOC</th>\n",
       "      <th>NRO_DOC</th>\n",
       "      <th>CUIT_CUIL</th>\n",
       "      <th>TIPO</th>\n",
       "      <th>SUBTIPO</th>\n",
       "      <th>DATO</th>\n",
       "      <th>PROPIETARIO_DATO</th>\n",
       "      <th>PROVEEDOR_DATO</th>\n",
       "      <th>FECHA_INGRESO_DATO</th>\n",
       "      <th>VERIFICADO</th>\n",
       "      <th>FECHA_VERIFICACION</th>\n",
       "      <th>OPERADOR_VERIFICACION</th>\n",
       "      <th>SCORE_DATO</th>\n",
       "    </tr>\n",
       "  </thead>\n",
       "  <tbody>\n",
       "    <tr>\n",
       "      <th>0</th>\n",
       "      <td>DNI 10128300</td>\n",
       "      <td>DNI</td>\n",
       "      <td>10128300</td>\n",
       "      <td>NaN</td>\n",
       "      <td>EMAIL</td>\n",
       "      <td>PERSONAL</td>\n",
       "      <td>raulblanco11@hotmail.com</td>\n",
       "      <td>Propio</td>\n",
       "      <td>CD</td>\n",
       "      <td>2021-03-02 16:44:50.000325</td>\n",
       "      <td>0</td>\n",
       "      <td>NaN</td>\n",
       "      <td>NaN</td>\n",
       "      <td>2.0</td>\n",
       "    </tr>\n",
       "    <tr>\n",
       "      <th>1</th>\n",
       "      <td>DNI 10141823</td>\n",
       "      <td>DNI</td>\n",
       "      <td>10141823</td>\n",
       "      <td>NaN</td>\n",
       "      <td>EMAIL</td>\n",
       "      <td>PERSONAL</td>\n",
       "      <td>carmenotanez@hotmail.com</td>\n",
       "      <td>Propio</td>\n",
       "      <td>CD</td>\n",
       "      <td>2021-03-02 16:44:50.000325</td>\n",
       "      <td>0</td>\n",
       "      <td>NaN</td>\n",
       "      <td>NaN</td>\n",
       "      <td>2.0</td>\n",
       "    </tr>\n",
       "    <tr>\n",
       "      <th>2</th>\n",
       "      <td>DNI 10460610</td>\n",
       "      <td>DNI</td>\n",
       "      <td>10460610</td>\n",
       "      <td>NaN</td>\n",
       "      <td>EMAIL</td>\n",
       "      <td>PERSONAL</td>\n",
       "      <td>juando@gmail.com</td>\n",
       "      <td>Propio</td>\n",
       "      <td>CD</td>\n",
       "      <td>2021-03-02 16:44:50.000325</td>\n",
       "      <td>0</td>\n",
       "      <td>NaN</td>\n",
       "      <td>NaN</td>\n",
       "      <td>2.0</td>\n",
       "    </tr>\n",
       "    <tr>\n",
       "      <th>3</th>\n",
       "      <td>DNI 10497875</td>\n",
       "      <td>DNI</td>\n",
       "      <td>10497875</td>\n",
       "      <td>NaN</td>\n",
       "      <td>EMAIL</td>\n",
       "      <td>PERSONAL</td>\n",
       "      <td>caty1951@hotmail.com</td>\n",
       "      <td>Propio</td>\n",
       "      <td>CD</td>\n",
       "      <td>2021-03-02 16:44:50.000325</td>\n",
       "      <td>0</td>\n",
       "      <td>NaN</td>\n",
       "      <td>NaN</td>\n",
       "      <td>2.0</td>\n",
       "    </tr>\n",
       "    <tr>\n",
       "      <th>4</th>\n",
       "      <td>DNI 10580772</td>\n",
       "      <td>DNI</td>\n",
       "      <td>10580772</td>\n",
       "      <td>NaN</td>\n",
       "      <td>EMAIL</td>\n",
       "      <td>PERSONAL</td>\n",
       "      <td>fernando.bazan@hotmail.com</td>\n",
       "      <td>Propio</td>\n",
       "      <td>CD</td>\n",
       "      <td>2021-03-02 16:44:50.000325</td>\n",
       "      <td>0</td>\n",
       "      <td>NaN</td>\n",
       "      <td>NaN</td>\n",
       "      <td>2.0</td>\n",
       "    </tr>\n",
       "  </tbody>\n",
       "</table>\n",
       "</div>"
      ],
      "text/plain": [
       "             IDMOROSO TIPO_DOC   NRO_DOC  CUIT_CUIL   TIPO   SUBTIPO  \\\n",
       "0  DNI 10128300            DNI  10128300        NaN  EMAIL  PERSONAL   \n",
       "1  DNI 10141823            DNI  10141823        NaN  EMAIL  PERSONAL   \n",
       "2  DNI 10460610            DNI  10460610        NaN  EMAIL  PERSONAL   \n",
       "3  DNI 10497875            DNI  10497875        NaN  EMAIL  PERSONAL   \n",
       "4  DNI 10580772            DNI  10580772        NaN  EMAIL  PERSONAL   \n",
       "\n",
       "                         DATO PROPIETARIO_DATO PROVEEDOR_DATO  \\\n",
       "0    raulblanco11@hotmail.com           Propio             CD   \n",
       "1    carmenotanez@hotmail.com           Propio             CD   \n",
       "2            juando@gmail.com           Propio             CD   \n",
       "3        caty1951@hotmail.com           Propio             CD   \n",
       "4  fernando.bazan@hotmail.com           Propio             CD   \n",
       "\n",
       "          FECHA_INGRESO_DATO  VERIFICADO  FECHA_VERIFICACION  \\\n",
       "0 2021-03-02 16:44:50.000325           0                 NaN   \n",
       "1 2021-03-02 16:44:50.000325           0                 NaN   \n",
       "2 2021-03-02 16:44:50.000325           0                 NaN   \n",
       "3 2021-03-02 16:44:50.000325           0                 NaN   \n",
       "4 2021-03-02 16:44:50.000325           0                 NaN   \n",
       "\n",
       "   OPERADOR_VERIFICACION  SCORE_DATO  \n",
       "0                    NaN         2.0  \n",
       "1                    NaN         2.0  \n",
       "2                    NaN         2.0  \n",
       "3                    NaN         2.0  \n",
       "4                    NaN         2.0  "
      ]
     },
     "execution_count": 62,
     "metadata": {},
     "output_type": "execute_result"
    }
   ],
   "source": [
    "df_export.head()"
   ]
  },
  {
   "cell_type": "code",
   "execution_count": 63,
   "metadata": {
    "scrolled": true
   },
   "outputs": [
    {
     "data": {
      "text/plain": [
       "(877, 14)"
      ]
     },
     "execution_count": 63,
     "metadata": {},
     "output_type": "execute_result"
    }
   ],
   "source": [
    "df_export.shape"
   ]
  },
  {
   "cell_type": "markdown",
   "metadata": {},
   "source": [
    "Número a str para no tener problemas con la inserción"
   ]
  },
  {
   "cell_type": "code",
   "execution_count": 64,
   "metadata": {},
   "outputs": [],
   "source": [
    "#df_export['CUIT_CUIL'] = [(str(int(round(df_export['CUIT_CUIL'][i],0)))) for i in range (df_export['CUIT_CUIL'].count())]"
   ]
  },
  {
   "cell_type": "code",
   "execution_count": 65,
   "metadata": {},
   "outputs": [
    {
     "data": {
      "text/html": [
       "<div>\n",
       "<style scoped>\n",
       "    .dataframe tbody tr th:only-of-type {\n",
       "        vertical-align: middle;\n",
       "    }\n",
       "\n",
       "    .dataframe tbody tr th {\n",
       "        vertical-align: top;\n",
       "    }\n",
       "\n",
       "    .dataframe thead th {\n",
       "        text-align: right;\n",
       "    }\n",
       "</style>\n",
       "<table border=\"1\" class=\"dataframe\">\n",
       "  <thead>\n",
       "    <tr style=\"text-align: right;\">\n",
       "      <th></th>\n",
       "      <th>IDMOROSO</th>\n",
       "      <th>TIPO_DOC</th>\n",
       "      <th>NRO_DOC</th>\n",
       "      <th>CUIT_CUIL</th>\n",
       "      <th>TIPO</th>\n",
       "      <th>SUBTIPO</th>\n",
       "      <th>DATO</th>\n",
       "      <th>PROPIETARIO_DATO</th>\n",
       "      <th>PROVEEDOR_DATO</th>\n",
       "      <th>FECHA_INGRESO_DATO</th>\n",
       "      <th>VERIFICADO</th>\n",
       "      <th>FECHA_VERIFICACION</th>\n",
       "      <th>OPERADOR_VERIFICACION</th>\n",
       "      <th>SCORE_DATO</th>\n",
       "    </tr>\n",
       "  </thead>\n",
       "  <tbody>\n",
       "    <tr>\n",
       "      <th>872</th>\n",
       "      <td>DNIE95470145</td>\n",
       "      <td>DNI</td>\n",
       "      <td>95470145</td>\n",
       "      <td>NaN</td>\n",
       "      <td>EMAIL</td>\n",
       "      <td>PERSONAL</td>\n",
       "      <td>jancv9@hotmail.com</td>\n",
       "      <td>Propio</td>\n",
       "      <td>CD</td>\n",
       "      <td>2021-03-02 16:44:50.000325</td>\n",
       "      <td>0</td>\n",
       "      <td>NaN</td>\n",
       "      <td>NaN</td>\n",
       "      <td>2.0</td>\n",
       "    </tr>\n",
       "    <tr>\n",
       "      <th>873</th>\n",
       "      <td>DNIE95570436</td>\n",
       "      <td>DNI</td>\n",
       "      <td>95570436</td>\n",
       "      <td>NaN</td>\n",
       "      <td>EMAIL</td>\n",
       "      <td>PERSONAL</td>\n",
       "      <td>humberto17g@gmail.com</td>\n",
       "      <td>Propio</td>\n",
       "      <td>CD</td>\n",
       "      <td>2021-03-02 16:44:50.000325</td>\n",
       "      <td>0</td>\n",
       "      <td>NaN</td>\n",
       "      <td>NaN</td>\n",
       "      <td>2.0</td>\n",
       "    </tr>\n",
       "    <tr>\n",
       "      <th>874</th>\n",
       "      <td>DNIE95632441</td>\n",
       "      <td>DNI</td>\n",
       "      <td>95632441</td>\n",
       "      <td>NaN</td>\n",
       "      <td>EMAIL</td>\n",
       "      <td>PERSONAL</td>\n",
       "      <td>kamilanascimentocosta@gmail.com</td>\n",
       "      <td>Propio</td>\n",
       "      <td>CD</td>\n",
       "      <td>2021-03-02 16:44:50.000325</td>\n",
       "      <td>0</td>\n",
       "      <td>NaN</td>\n",
       "      <td>NaN</td>\n",
       "      <td>2.0</td>\n",
       "    </tr>\n",
       "    <tr>\n",
       "      <th>875</th>\n",
       "      <td>DNIE95653471</td>\n",
       "      <td>DNI</td>\n",
       "      <td>95653471</td>\n",
       "      <td>NaN</td>\n",
       "      <td>EMAIL</td>\n",
       "      <td>PERSONAL</td>\n",
       "      <td>bel.badini@outlook.com</td>\n",
       "      <td>Propio</td>\n",
       "      <td>CD</td>\n",
       "      <td>2021-03-02 16:44:50.000325</td>\n",
       "      <td>0</td>\n",
       "      <td>NaN</td>\n",
       "      <td>NaN</td>\n",
       "      <td>2.0</td>\n",
       "    </tr>\n",
       "    <tr>\n",
       "      <th>876</th>\n",
       "      <td>DNIE95859283</td>\n",
       "      <td>DNI</td>\n",
       "      <td>95859283</td>\n",
       "      <td>NaN</td>\n",
       "      <td>EMAIL</td>\n",
       "      <td>PERSONAL</td>\n",
       "      <td>nathalyarates@gmail.com</td>\n",
       "      <td>Propio</td>\n",
       "      <td>CD</td>\n",
       "      <td>2021-03-02 16:44:50.000325</td>\n",
       "      <td>0</td>\n",
       "      <td>NaN</td>\n",
       "      <td>NaN</td>\n",
       "      <td>2.0</td>\n",
       "    </tr>\n",
       "  </tbody>\n",
       "</table>\n",
       "</div>"
      ],
      "text/plain": [
       "               IDMOROSO TIPO_DOC   NRO_DOC  CUIT_CUIL   TIPO   SUBTIPO  \\\n",
       "872  DNIE95470145            DNI  95470145        NaN  EMAIL  PERSONAL   \n",
       "873  DNIE95570436            DNI  95570436        NaN  EMAIL  PERSONAL   \n",
       "874  DNIE95632441            DNI  95632441        NaN  EMAIL  PERSONAL   \n",
       "875  DNIE95653471            DNI  95653471        NaN  EMAIL  PERSONAL   \n",
       "876  DNIE95859283            DNI  95859283        NaN  EMAIL  PERSONAL   \n",
       "\n",
       "                                DATO PROPIETARIO_DATO PROVEEDOR_DATO  \\\n",
       "872               jancv9@hotmail.com           Propio             CD   \n",
       "873            humberto17g@gmail.com           Propio             CD   \n",
       "874  kamilanascimentocosta@gmail.com           Propio             CD   \n",
       "875           bel.badini@outlook.com           Propio             CD   \n",
       "876          nathalyarates@gmail.com           Propio             CD   \n",
       "\n",
       "            FECHA_INGRESO_DATO  VERIFICADO  FECHA_VERIFICACION  \\\n",
       "872 2021-03-02 16:44:50.000325           0                 NaN   \n",
       "873 2021-03-02 16:44:50.000325           0                 NaN   \n",
       "874 2021-03-02 16:44:50.000325           0                 NaN   \n",
       "875 2021-03-02 16:44:50.000325           0                 NaN   \n",
       "876 2021-03-02 16:44:50.000325           0                 NaN   \n",
       "\n",
       "     OPERADOR_VERIFICACION  SCORE_DATO  \n",
       "872                    NaN         2.0  \n",
       "873                    NaN         2.0  \n",
       "874                    NaN         2.0  \n",
       "875                    NaN         2.0  \n",
       "876                    NaN         2.0  "
      ]
     },
     "execution_count": 65,
     "metadata": {},
     "output_type": "execute_result"
    }
   ],
   "source": [
    "df_export.tail()"
   ]
  },
  {
   "cell_type": "markdown",
   "metadata": {},
   "source": [
    "Dropeamos filas duplicadas"
   ]
  },
  {
   "cell_type": "code",
   "execution_count": 66,
   "metadata": {},
   "outputs": [],
   "source": [
    "df_export = df_export.drop_duplicates()"
   ]
  },
  {
   "cell_type": "code",
   "execution_count": 67,
   "metadata": {},
   "outputs": [
    {
     "data": {
      "text/plain": [
       "(877, 14)"
      ]
     },
     "execution_count": 67,
     "metadata": {},
     "output_type": "execute_result"
    }
   ],
   "source": [
    "df_export.shape"
   ]
  },
  {
   "cell_type": "markdown",
   "metadata": {},
   "source": [
    "## Dato a str + strip()"
   ]
  },
  {
   "cell_type": "code",
   "execution_count": 68,
   "metadata": {},
   "outputs": [],
   "source": [
    "df_export ['DATO'] = df_export['DATO'].str.strip()"
   ]
  },
  {
   "cell_type": "markdown",
   "metadata": {},
   "source": [
    "# Revisión de duplicados"
   ]
  },
  {
   "cell_type": "code",
   "execution_count": 69,
   "metadata": {},
   "outputs": [],
   "source": [
    "duplicates_subset = df_export[df_export.duplicated(subset=['IDMOROSO','DATO','PROVEEDOR_DATO'],keep=False)]"
   ]
  },
  {
   "cell_type": "code",
   "execution_count": 70,
   "metadata": {
    "scrolled": true
   },
   "outputs": [
    {
     "data": {
      "text/html": [
       "<div>\n",
       "<style scoped>\n",
       "    .dataframe tbody tr th:only-of-type {\n",
       "        vertical-align: middle;\n",
       "    }\n",
       "\n",
       "    .dataframe tbody tr th {\n",
       "        vertical-align: top;\n",
       "    }\n",
       "\n",
       "    .dataframe thead th {\n",
       "        text-align: right;\n",
       "    }\n",
       "</style>\n",
       "<table border=\"1\" class=\"dataframe\">\n",
       "  <thead>\n",
       "    <tr style=\"text-align: right;\">\n",
       "      <th></th>\n",
       "      <th>IDMOROSO</th>\n",
       "      <th>TIPO_DOC</th>\n",
       "      <th>NRO_DOC</th>\n",
       "      <th>CUIT_CUIL</th>\n",
       "      <th>TIPO</th>\n",
       "      <th>SUBTIPO</th>\n",
       "      <th>DATO</th>\n",
       "      <th>PROPIETARIO_DATO</th>\n",
       "      <th>PROVEEDOR_DATO</th>\n",
       "      <th>FECHA_INGRESO_DATO</th>\n",
       "      <th>VERIFICADO</th>\n",
       "      <th>FECHA_VERIFICACION</th>\n",
       "      <th>OPERADOR_VERIFICACION</th>\n",
       "      <th>SCORE_DATO</th>\n",
       "    </tr>\n",
       "  </thead>\n",
       "  <tbody>\n",
       "  </tbody>\n",
       "</table>\n",
       "</div>"
      ],
      "text/plain": [
       "Empty DataFrame\n",
       "Columns: [IDMOROSO, TIPO_DOC, NRO_DOC, CUIT_CUIL, TIPO, SUBTIPO, DATO, PROPIETARIO_DATO, PROVEEDOR_DATO, FECHA_INGRESO_DATO, VERIFICADO, FECHA_VERIFICACION, OPERADOR_VERIFICACION, SCORE_DATO]\n",
       "Index: []"
      ]
     },
     "execution_count": 70,
     "metadata": {},
     "output_type": "execute_result"
    }
   ],
   "source": [
    "duplicates_subset"
   ]
  },
  {
   "cell_type": "code",
   "execution_count": 71,
   "metadata": {
    "scrolled": true
   },
   "outputs": [
    {
     "data": {
      "text/plain": [
       "(0, 14)"
      ]
     },
     "execution_count": 71,
     "metadata": {},
     "output_type": "execute_result"
    }
   ],
   "source": [
    "duplicates_subset.shape"
   ]
  },
  {
   "cell_type": "markdown",
   "metadata": {},
   "source": [
    "No tenemos duplicados en IDMOROSO, DATO, PROVEEDOR"
   ]
  },
  {
   "cell_type": "code",
   "execution_count": 72,
   "metadata": {},
   "outputs": [
    {
     "data": {
      "text/plain": [
       "(877, 14)"
      ]
     },
     "execution_count": 72,
     "metadata": {},
     "output_type": "execute_result"
    }
   ],
   "source": [
    "df_export.shape"
   ]
  },
  {
   "cell_type": "markdown",
   "metadata": {},
   "source": [
    "## 14.1) Export de dataframe + IDCLIENTE para análisis"
   ]
  },
  {
   "cell_type": "code",
   "execution_count": 73,
   "metadata": {},
   "outputs": [],
   "source": [
    "#df_union.to_excel('D:/MOPC/Enriquecimiento de Datos/Data Cleaning/PyP/Exports/Mails para analisis/PyP_mails_1401.xlsx')\n",
    "#df_union.to_csv('D:/MOPC/Enriquecimiento de Datos/Data Cleaning/PyP/Exports/Mails para analisis/PyP_mails_1401.csv')"
   ]
  },
  {
   "cell_type": "markdown",
   "metadata": {},
   "source": [
    "## 14.2) Insert a tabla DAM_CONTACTABILIDAD:"
   ]
  },
  {
   "cell_type": "code",
   "execution_count": 74,
   "metadata": {},
   "outputs": [],
   "source": [
    "#df_export.to_csv('/mnt/c/users/Dleg/Data/MOPC/MOPC/Enriquecimiento de Datos/Data Cleaning/Contacto Directo/Exports/DAM_CONTACTABILIDAD/CD_DAM_CONTACTABILIDAD_mails_0103.csv',index=False)"
   ]
  },
  {
   "cell_type": "code",
   "execution_count": 75,
   "metadata": {},
   "outputs": [
    {
     "data": {
      "text/plain": [
       "(877, 16)"
      ]
     },
     "execution_count": 75,
     "metadata": {},
     "output_type": "execute_result"
    }
   ],
   "source": [
    "df_union.shape"
   ]
  },
  {
   "cell_type": "code",
   "execution_count": 76,
   "metadata": {},
   "outputs": [],
   "source": [
    "df_union ['DATO'] = df_union['DATO'].str.strip()"
   ]
  },
  {
   "cell_type": "code",
   "execution_count": 77,
   "metadata": {},
   "outputs": [],
   "source": [
    "df_union = df_union.drop_duplicates()"
   ]
  },
  {
   "cell_type": "code",
   "execution_count": 78,
   "metadata": {},
   "outputs": [
    {
     "data": {
      "text/plain": [
       "(877, 16)"
      ]
     },
     "execution_count": 78,
     "metadata": {},
     "output_type": "execute_result"
    }
   ],
   "source": [
    "df_union.shape"
   ]
  },
  {
   "cell_type": "code",
   "execution_count": 79,
   "metadata": {},
   "outputs": [
    {
     "data": {
      "text/html": [
       "<div>\n",
       "<style scoped>\n",
       "    .dataframe tbody tr th:only-of-type {\n",
       "        vertical-align: middle;\n",
       "    }\n",
       "\n",
       "    .dataframe tbody tr th {\n",
       "        vertical-align: top;\n",
       "    }\n",
       "\n",
       "    .dataframe thead th {\n",
       "        text-align: right;\n",
       "    }\n",
       "</style>\n",
       "<table border=\"1\" class=\"dataframe\">\n",
       "  <thead>\n",
       "    <tr style=\"text-align: right;\">\n",
       "      <th></th>\n",
       "      <th>NRO_DOC</th>\n",
       "      <th>DATO</th>\n",
       "      <th>PROPIETARIO_DATO</th>\n",
       "      <th>PROVEEDOR_DATO</th>\n",
       "      <th>TIPO</th>\n",
       "      <th>SUBTIPO</th>\n",
       "      <th>SCORE_DATO</th>\n",
       "      <th>FECHA_INGRESO_DATO</th>\n",
       "      <th>VERIFICADO</th>\n",
       "      <th>FECHA_VERIFICACION</th>\n",
       "      <th>OPERADOR_VERIFICACION</th>\n",
       "      <th>IDMOROSO</th>\n",
       "      <th>NOMBRE</th>\n",
       "      <th>IDCLIENTE</th>\n",
       "      <th>TIPO_DOC</th>\n",
       "      <th>CUIT_CUIL</th>\n",
       "    </tr>\n",
       "  </thead>\n",
       "  <tbody>\n",
       "    <tr>\n",
       "      <th>0</th>\n",
       "      <td>10128300</td>\n",
       "      <td>raulblanco11@hotmail.com</td>\n",
       "      <td>Propio</td>\n",
       "      <td>CD</td>\n",
       "      <td>EMAIL</td>\n",
       "      <td>PERSONAL</td>\n",
       "      <td>2.0</td>\n",
       "      <td>2021-03-02 16:44:50.000325</td>\n",
       "      <td>0</td>\n",
       "      <td>NaN</td>\n",
       "      <td>NaN</td>\n",
       "      <td>DNI 10128300</td>\n",
       "      <td>BLANCO. RAUL ALFREDO</td>\n",
       "      <td>HSBC_2019</td>\n",
       "      <td>DNI</td>\n",
       "      <td>NaN</td>\n",
       "    </tr>\n",
       "    <tr>\n",
       "      <th>1</th>\n",
       "      <td>10141823</td>\n",
       "      <td>carmenotanez@hotmail.com</td>\n",
       "      <td>Propio</td>\n",
       "      <td>CD</td>\n",
       "      <td>EMAIL</td>\n",
       "      <td>PERSONAL</td>\n",
       "      <td>2.0</td>\n",
       "      <td>2021-03-02 16:44:50.000325</td>\n",
       "      <td>0</td>\n",
       "      <td>NaN</td>\n",
       "      <td>NaN</td>\n",
       "      <td>DNI 10141823</td>\n",
       "      <td>OTANEZ LASTRA CARMEN SARA</td>\n",
       "      <td>FRANCES_2012</td>\n",
       "      <td>DNI</td>\n",
       "      <td>NaN</td>\n",
       "    </tr>\n",
       "    <tr>\n",
       "      <th>2</th>\n",
       "      <td>10460610</td>\n",
       "      <td>juando@gmail.com</td>\n",
       "      <td>Propio</td>\n",
       "      <td>CD</td>\n",
       "      <td>EMAIL</td>\n",
       "      <td>PERSONAL</td>\n",
       "      <td>2.0</td>\n",
       "      <td>2021-03-02 16:44:50.000325</td>\n",
       "      <td>0</td>\n",
       "      <td>NaN</td>\n",
       "      <td>NaN</td>\n",
       "      <td>DNI 10460610</td>\n",
       "      <td>ANDRADA JUAN DOMINGO</td>\n",
       "      <td>FRANCES_2012</td>\n",
       "      <td>DNI</td>\n",
       "      <td>NaN</td>\n",
       "    </tr>\n",
       "    <tr>\n",
       "      <th>3</th>\n",
       "      <td>10497875</td>\n",
       "      <td>caty1951@hotmail.com</td>\n",
       "      <td>Propio</td>\n",
       "      <td>CD</td>\n",
       "      <td>EMAIL</td>\n",
       "      <td>PERSONAL</td>\n",
       "      <td>2.0</td>\n",
       "      <td>2021-03-02 16:44:50.000325</td>\n",
       "      <td>0</td>\n",
       "      <td>NaN</td>\n",
       "      <td>NaN</td>\n",
       "      <td>DNI 10497875</td>\n",
       "      <td>CIURO CATALINA ISABEL</td>\n",
       "      <td>FRANCES_2012</td>\n",
       "      <td>DNI</td>\n",
       "      <td>NaN</td>\n",
       "    </tr>\n",
       "    <tr>\n",
       "      <th>4</th>\n",
       "      <td>10580772</td>\n",
       "      <td>fernando.bazan@hotmail.com</td>\n",
       "      <td>Propio</td>\n",
       "      <td>CD</td>\n",
       "      <td>EMAIL</td>\n",
       "      <td>PERSONAL</td>\n",
       "      <td>2.0</td>\n",
       "      <td>2021-03-02 16:44:50.000325</td>\n",
       "      <td>0</td>\n",
       "      <td>NaN</td>\n",
       "      <td>NaN</td>\n",
       "      <td>DNI 10580772</td>\n",
       "      <td>FERNANDO MARINO,BAZAN</td>\n",
       "      <td>BSR_TARDIA</td>\n",
       "      <td>DNI</td>\n",
       "      <td>NaN</td>\n",
       "    </tr>\n",
       "  </tbody>\n",
       "</table>\n",
       "</div>"
      ],
      "text/plain": [
       "    NRO_DOC                        DATO PROPIETARIO_DATO PROVEEDOR_DATO  \\\n",
       "0  10128300    raulblanco11@hotmail.com           Propio             CD   \n",
       "1  10141823    carmenotanez@hotmail.com           Propio             CD   \n",
       "2  10460610            juando@gmail.com           Propio             CD   \n",
       "3  10497875        caty1951@hotmail.com           Propio             CD   \n",
       "4  10580772  fernando.bazan@hotmail.com           Propio             CD   \n",
       "\n",
       "    TIPO   SUBTIPO  SCORE_DATO         FECHA_INGRESO_DATO  VERIFICADO  \\\n",
       "0  EMAIL  PERSONAL         2.0 2021-03-02 16:44:50.000325           0   \n",
       "1  EMAIL  PERSONAL         2.0 2021-03-02 16:44:50.000325           0   \n",
       "2  EMAIL  PERSONAL         2.0 2021-03-02 16:44:50.000325           0   \n",
       "3  EMAIL  PERSONAL         2.0 2021-03-02 16:44:50.000325           0   \n",
       "4  EMAIL  PERSONAL         2.0 2021-03-02 16:44:50.000325           0   \n",
       "\n",
       "   FECHA_VERIFICACION  OPERADOR_VERIFICACION            IDMOROSO  \\\n",
       "0                 NaN                    NaN  DNI 10128300         \n",
       "1                 NaN                    NaN  DNI 10141823         \n",
       "2                 NaN                    NaN  DNI 10460610         \n",
       "3                 NaN                    NaN  DNI 10497875         \n",
       "4                 NaN                    NaN  DNI 10580772         \n",
       "\n",
       "                                     NOMBRE             IDCLIENTE TIPO_DOC  \\\n",
       "0  BLANCO. RAUL ALFREDO                      HSBC_2019                 DNI   \n",
       "1  OTANEZ LASTRA CARMEN SARA                 FRANCES_2012              DNI   \n",
       "2  ANDRADA JUAN DOMINGO                      FRANCES_2012              DNI   \n",
       "3  CIURO CATALINA ISABEL                     FRANCES_2012              DNI   \n",
       "4  FERNANDO MARINO,BAZAN                     BSR_TARDIA                DNI   \n",
       "\n",
       "   CUIT_CUIL  \n",
       "0        NaN  \n",
       "1        NaN  \n",
       "2        NaN  \n",
       "3        NaN  \n",
       "4        NaN  "
      ]
     },
     "execution_count": 79,
     "metadata": {},
     "output_type": "execute_result"
    }
   ],
   "source": [
    "df_union.head()"
   ]
  },
  {
   "cell_type": "code",
   "execution_count": 80,
   "metadata": {},
   "outputs": [
    {
     "data": {
      "text/plain": [
       "HSBC_2019               332\n",
       "FRANCES_2012            285\n",
       "BSR_TARDIA              197\n",
       "BBVA_LEGALES_PREJU       21\n",
       "HSBC_LEGALES14           18\n",
       "FRAVEGA_LEGALES548       16\n",
       "COTO23_TARD               3\n",
       "COTO05_TARD               1\n",
       "COTO10_TARD               1\n",
       "HSBC_LEGALES_TEMP         1\n",
       "AMEX_PARM                 1\n",
       "AMEX_QINM                 1\n",
       "Name: IDCLIENTE, dtype: int64"
      ]
     },
     "execution_count": 80,
     "metadata": {},
     "output_type": "execute_result"
    }
   ],
   "source": [
    "df_union.IDCLIENTE.value_counts()"
   ]
  },
  {
   "cell_type": "code",
   "execution_count": null,
   "metadata": {},
   "outputs": [],
   "source": []
  }
 ],
 "metadata": {
  "kernelspec": {
   "display_name": "Python 3",
   "language": "python",
   "name": "python3"
  },
  "language_info": {
   "codemirror_mode": {
    "name": "ipython",
    "version": 3
   },
   "file_extension": ".py",
   "mimetype": "text/x-python",
   "name": "python",
   "nbconvert_exporter": "python",
   "pygments_lexer": "ipython3",
   "version": "3.8.6"
  }
 },
 "nbformat": 4,
 "nbformat_minor": 4
}
