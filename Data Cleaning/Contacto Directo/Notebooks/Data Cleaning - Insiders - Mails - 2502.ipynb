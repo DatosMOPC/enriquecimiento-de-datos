{
 "cells": [
  {
   "cell_type": "markdown",
   "metadata": {},
   "source": [
    "# 1) Datasets"
   ]
  },
  {
   "cell_type": "markdown",
   "metadata": {},
   "source": [
    "Vamos a leer el dataset que envía PyP"
   ]
  },
  {
   "cell_type": "code",
   "execution_count": 1,
   "metadata": {},
   "outputs": [],
   "source": [
    "import pandas as pd\n",
    "import numpy as np"
   ]
  },
  {
   "cell_type": "code",
   "execution_count": 2,
   "metadata": {},
   "outputs": [],
   "source": [
    "df = pd.read_excel('/mnt/c/users/Dleg/Data/MOPC/MOPC/Enriquecimiento de Datos/Data Cleaning/Insiders/Datasets/Datasets recibidos/ENRIQ_IN_1478_20210224.xlsx',skiprows=2, header=[0,1])"
   ]
  },
  {
   "cell_type": "code",
   "execution_count": 3,
   "metadata": {},
   "outputs": [
    {
     "data": {
      "text/html": [
       "<div>\n",
       "<style scoped>\n",
       "    .dataframe tbody tr th:only-of-type {\n",
       "        vertical-align: middle;\n",
       "    }\n",
       "\n",
       "    .dataframe tbody tr th {\n",
       "        vertical-align: top;\n",
       "    }\n",
       "\n",
       "    .dataframe thead tr th {\n",
       "        text-align: left;\n",
       "    }\n",
       "</style>\n",
       "<table border=\"1\" class=\"dataframe\">\n",
       "  <thead>\n",
       "    <tr>\n",
       "      <th></th>\n",
       "      <th>Unnamed: 0_level_0</th>\n",
       "      <th>Unnamed: 1_level_0</th>\n",
       "      <th>Unnamed: 2_level_0</th>\n",
       "      <th>Unnamed: 3_level_0</th>\n",
       "      <th>Unnamed: 4_level_0</th>\n",
       "      <th>Unnamed: 5_level_0</th>\n",
       "      <th>Unnamed: 6_level_0</th>\n",
       "      <th>Unnamed: 7_level_0</th>\n",
       "      <th>Unnamed: 8_level_0</th>\n",
       "      <th>Unnamed: 9_level_0</th>\n",
       "      <th>...</th>\n",
       "      <th colspan=\"7\" halign=\"left\">Contactacion Opcional (Familiar)</th>\n",
       "      <th colspan=\"3\" halign=\"left\">Contactacion Opcional (Vecino)</th>\n",
       "    </tr>\n",
       "    <tr>\n",
       "      <th></th>\n",
       "      <th>Cuil</th>\n",
       "      <th>Dni</th>\n",
       "      <th>Fecha de Nac.</th>\n",
       "      <th>Fecha de Defuncion</th>\n",
       "      <th>Sexo</th>\n",
       "      <th>Titular</th>\n",
       "      <th>Calle</th>\n",
       "      <th>Numero</th>\n",
       "      <th>Piso y Depto</th>\n",
       "      <th>Codigo Postal</th>\n",
       "      <th>...</th>\n",
       "      <th>Tel Fijo 2</th>\n",
       "      <th>Celular 1</th>\n",
       "      <th>Celular 2</th>\n",
       "      <th>Celular 3</th>\n",
       "      <th>Celular 4</th>\n",
       "      <th>Celular 5</th>\n",
       "      <th>Email</th>\n",
       "      <th>Nombre</th>\n",
       "      <th>Telefono</th>\n",
       "      <th>SCORE</th>\n",
       "    </tr>\n",
       "  </thead>\n",
       "  <tbody>\n",
       "    <tr>\n",
       "      <th>0</th>\n",
       "      <td>27050862394</td>\n",
       "      <td>5086239</td>\n",
       "      <td>1945-01-29</td>\n",
       "      <td>NaN</td>\n",
       "      <td>F</td>\n",
       "      <td>GOITEA GLADIS ADELVINA</td>\n",
       "      <td>AV ANTONIO FILARDI</td>\n",
       "      <td>680</td>\n",
       "      <td>NaN</td>\n",
       "      <td>1821</td>\n",
       "      <td>...</td>\n",
       "      <td>NaN</td>\n",
       "      <td>NaN</td>\n",
       "      <td>NaN</td>\n",
       "      <td>NaN</td>\n",
       "      <td>NaN</td>\n",
       "      <td>NaN</td>\n",
       "      <td>NaN</td>\n",
       "      <td>NaN</td>\n",
       "      <td>NaN</td>\n",
       "      <td>34</td>\n",
       "    </tr>\n",
       "    <tr>\n",
       "      <th>1</th>\n",
       "      <td>27063828276</td>\n",
       "      <td>6382827</td>\n",
       "      <td>1950-04-05</td>\n",
       "      <td>NaN</td>\n",
       "      <td>F</td>\n",
       "      <td>VILLEGAS MARIA NORMA</td>\n",
       "      <td>AREVALO</td>\n",
       "      <td>4189</td>\n",
       "      <td>NaN</td>\n",
       "      <td>1613</td>\n",
       "      <td>...</td>\n",
       "      <td>NaN</td>\n",
       "      <td>NaN</td>\n",
       "      <td>NaN</td>\n",
       "      <td>NaN</td>\n",
       "      <td>NaN</td>\n",
       "      <td>NaN</td>\n",
       "      <td>NaN</td>\n",
       "      <td>NaN</td>\n",
       "      <td>NaN</td>\n",
       "      <td>908</td>\n",
       "    </tr>\n",
       "    <tr>\n",
       "      <th>2</th>\n",
       "      <td>27105494225</td>\n",
       "      <td>10549422</td>\n",
       "      <td>1952-05-29</td>\n",
       "      <td>NaN</td>\n",
       "      <td>F</td>\n",
       "      <td>SAAVEDRA MARIA ROSA</td>\n",
       "      <td>RAUCH</td>\n",
       "      <td>63</td>\n",
       "      <td>NaN</td>\n",
       "      <td>2812</td>\n",
       "      <td>...</td>\n",
       "      <td>NaN</td>\n",
       "      <td>NaN</td>\n",
       "      <td>NaN</td>\n",
       "      <td>NaN</td>\n",
       "      <td>NaN</td>\n",
       "      <td>NaN</td>\n",
       "      <td>NaN</td>\n",
       "      <td>GOMEZ DE COSSI NORA B</td>\n",
       "      <td>2.323493e+09</td>\n",
       "      <td>932</td>\n",
       "    </tr>\n",
       "    <tr>\n",
       "      <th>3</th>\n",
       "      <td>20119346550</td>\n",
       "      <td>11934655</td>\n",
       "      <td>1956-01-18</td>\n",
       "      <td>NaN</td>\n",
       "      <td>M</td>\n",
       "      <td>FUENTES HECTOR RUBEN</td>\n",
       "      <td>AV DR HONORIO PUEYRREDON</td>\n",
       "      <td>2947</td>\n",
       "      <td>NaN</td>\n",
       "      <td>1631</td>\n",
       "      <td>...</td>\n",
       "      <td>NaN</td>\n",
       "      <td>NaN</td>\n",
       "      <td>NaN</td>\n",
       "      <td>NaN</td>\n",
       "      <td>NaN</td>\n",
       "      <td>NaN</td>\n",
       "      <td>NaN</td>\n",
       "      <td>NaN</td>\n",
       "      <td>NaN</td>\n",
       "      <td>928</td>\n",
       "    </tr>\n",
       "    <tr>\n",
       "      <th>4</th>\n",
       "      <td>20144786581</td>\n",
       "      <td>14478658</td>\n",
       "      <td>1961-01-01</td>\n",
       "      <td>NaN</td>\n",
       "      <td>M</td>\n",
       "      <td>GUDIÑO ALBERTO RAMON</td>\n",
       "      <td>BELGRANO</td>\n",
       "      <td>385</td>\n",
       "      <td>NaN</td>\n",
       "      <td>5113</td>\n",
       "      <td>...</td>\n",
       "      <td>NaN</td>\n",
       "      <td>NaN</td>\n",
       "      <td>NaN</td>\n",
       "      <td>NaN</td>\n",
       "      <td>NaN</td>\n",
       "      <td>NaN</td>\n",
       "      <td>NaN</td>\n",
       "      <td>NaN</td>\n",
       "      <td>NaN</td>\n",
       "      <td>935</td>\n",
       "    </tr>\n",
       "  </tbody>\n",
       "</table>\n",
       "<p>5 rows × 224 columns</p>\n",
       "</div>"
      ],
      "text/plain": [
       "  Unnamed: 0_level_0 Unnamed: 1_level_0 Unnamed: 2_level_0 Unnamed: 3_level_0  \\\n",
       "                Cuil                Dni      Fecha de Nac. Fecha de Defuncion   \n",
       "0        27050862394            5086239         1945-01-29                NaN   \n",
       "1        27063828276            6382827         1950-04-05                NaN   \n",
       "2        27105494225           10549422         1952-05-29                NaN   \n",
       "3        20119346550           11934655         1956-01-18                NaN   \n",
       "4        20144786581           14478658         1961-01-01                NaN   \n",
       "\n",
       "  Unnamed: 4_level_0      Unnamed: 5_level_0        Unnamed: 6_level_0  \\\n",
       "                Sexo                 Titular                     Calle   \n",
       "0                  F  GOITEA GLADIS ADELVINA        AV ANTONIO FILARDI   \n",
       "1                  F    VILLEGAS MARIA NORMA                   AREVALO   \n",
       "2                  F     SAAVEDRA MARIA ROSA                     RAUCH   \n",
       "3                  M    FUENTES HECTOR RUBEN  AV DR HONORIO PUEYRREDON   \n",
       "4                  M    GUDIÑO ALBERTO RAMON                  BELGRANO   \n",
       "\n",
       "  Unnamed: 7_level_0 Unnamed: 8_level_0 Unnamed: 9_level_0  ...  \\\n",
       "              Numero       Piso y Depto      Codigo Postal  ...   \n",
       "0                680                NaN               1821  ...   \n",
       "1               4189                NaN               1613  ...   \n",
       "2                 63                NaN               2812  ...   \n",
       "3               2947                NaN               1631  ...   \n",
       "4                385                NaN               5113  ...   \n",
       "\n",
       "  Contactacion Opcional (Familiar)                                          \\\n",
       "                        Tel Fijo 2 Celular 1 Celular 2 Celular 3 Celular 4   \n",
       "0                              NaN       NaN       NaN       NaN       NaN   \n",
       "1                              NaN       NaN       NaN       NaN       NaN   \n",
       "2                              NaN       NaN       NaN       NaN       NaN   \n",
       "3                              NaN       NaN       NaN       NaN       NaN   \n",
       "4                              NaN       NaN       NaN       NaN       NaN   \n",
       "\n",
       "                  Contactacion Opcional (Vecino)                      \n",
       "  Celular 5 Email                         Nombre      Telefono SCORE  \n",
       "0       NaN   NaN                            NaN           NaN    34  \n",
       "1       NaN   NaN                            NaN           NaN   908  \n",
       "2       NaN   NaN          GOMEZ DE COSSI NORA B  2.323493e+09   932  \n",
       "3       NaN   NaN                            NaN           NaN   928  \n",
       "4       NaN   NaN                            NaN           NaN   935  \n",
       "\n",
       "[5 rows x 224 columns]"
      ]
     },
     "execution_count": 3,
     "metadata": {},
     "output_type": "execute_result"
    }
   ],
   "source": [
    "df.head()"
   ]
  },
  {
   "cell_type": "code",
   "execution_count": 4,
   "metadata": {
    "scrolled": true
   },
   "outputs": [
    {
     "data": {
      "text/plain": [
       "(187, 224)"
      ]
     },
     "execution_count": 4,
     "metadata": {},
     "output_type": "execute_result"
    }
   ],
   "source": [
    "df.shape"
   ]
  },
  {
   "cell_type": "markdown",
   "metadata": {},
   "source": [
    "## 1.2) Data Cleaning: Datasets"
   ]
  },
  {
   "cell_type": "markdown",
   "metadata": {},
   "source": [
    "Vamos a dropear aquellas columnas y filas que no tengan ningún valor (es decir, que sean todos NaNs)"
   ]
  },
  {
   "cell_type": "code",
   "execution_count": 5,
   "metadata": {},
   "outputs": [],
   "source": [
    "df = df.dropna(axis=0, how='all')"
   ]
  },
  {
   "cell_type": "code",
   "execution_count": 6,
   "metadata": {},
   "outputs": [],
   "source": [
    "#df = df.dropna(axis=1, how='all')"
   ]
  },
  {
   "cell_type": "code",
   "execution_count": 7,
   "metadata": {},
   "outputs": [
    {
     "data": {
      "text/plain": [
       "(187, 224)"
      ]
     },
     "execution_count": 7,
     "metadata": {},
     "output_type": "execute_result"
    }
   ],
   "source": [
    "df.shape"
   ]
  },
  {
   "cell_type": "markdown",
   "metadata": {},
   "source": [
    "Ahora todas las columnas tienen al menos 1 dato."
   ]
  },
  {
   "cell_type": "markdown",
   "metadata": {},
   "source": [
    "# 2) Mails"
   ]
  },
  {
   "cell_type": "markdown",
   "metadata": {},
   "source": [
    "Vamos a obtener los mails de las columnas donde pueden aparecer, que son:\n",
    "\n",
    "- Mail 1, 2 y 3.\n",
    "- Email Empleador.\n",
    "- Contactacion Opcional (Familiar) - Email."
   ]
  },
  {
   "cell_type": "code",
   "execution_count": 8,
   "metadata": {},
   "outputs": [],
   "source": [
    "#df.to_excel('columns.xlsx')"
   ]
  },
  {
   "cell_type": "code",
   "execution_count": 9,
   "metadata": {},
   "outputs": [],
   "source": [
    "df_reduced = df [[('Unnamed: 0_level_0','Cuil'),('Unnamed: 1_level_0','Dni'), ('Unnamed: 5_level_0','Titular')\n",
    "                  ,('Unnamed: 22_level_0','Mail')\n",
    "                  ,('Email Empleador', 'Unnamed: 164_level_1'), ('Contactacion Opcional (Familiar)','Email')]]"
   ]
  },
  {
   "cell_type": "code",
   "execution_count": 10,
   "metadata": {},
   "outputs": [
    {
     "data": {
      "text/html": [
       "<div>\n",
       "<style scoped>\n",
       "    .dataframe tbody tr th:only-of-type {\n",
       "        vertical-align: middle;\n",
       "    }\n",
       "\n",
       "    .dataframe tbody tr th {\n",
       "        vertical-align: top;\n",
       "    }\n",
       "\n",
       "    .dataframe thead tr th {\n",
       "        text-align: left;\n",
       "    }\n",
       "</style>\n",
       "<table border=\"1\" class=\"dataframe\">\n",
       "  <thead>\n",
       "    <tr>\n",
       "      <th></th>\n",
       "      <th>Unnamed: 0_level_0</th>\n",
       "      <th>Unnamed: 1_level_0</th>\n",
       "      <th>Unnamed: 5_level_0</th>\n",
       "      <th>Unnamed: 22_level_0</th>\n",
       "      <th>Email Empleador</th>\n",
       "      <th>Contactacion Opcional (Familiar)</th>\n",
       "    </tr>\n",
       "    <tr>\n",
       "      <th></th>\n",
       "      <th>Cuil</th>\n",
       "      <th>Dni</th>\n",
       "      <th>Titular</th>\n",
       "      <th>Mail</th>\n",
       "      <th>Unnamed: 164_level_1</th>\n",
       "      <th>Email</th>\n",
       "    </tr>\n",
       "  </thead>\n",
       "  <tbody>\n",
       "    <tr>\n",
       "      <th>0</th>\n",
       "      <td>27050862394</td>\n",
       "      <td>5086239</td>\n",
       "      <td>GOITEA GLADIS ADELVINA</td>\n",
       "      <td>NaN</td>\n",
       "      <td>NaN</td>\n",
       "      <td>NaN</td>\n",
       "    </tr>\n",
       "    <tr>\n",
       "      <th>1</th>\n",
       "      <td>27063828276</td>\n",
       "      <td>6382827</td>\n",
       "      <td>VILLEGAS MARIA NORMA</td>\n",
       "      <td>NaN</td>\n",
       "      <td>NaN</td>\n",
       "      <td>NaN</td>\n",
       "    </tr>\n",
       "    <tr>\n",
       "      <th>2</th>\n",
       "      <td>27105494225</td>\n",
       "      <td>10549422</td>\n",
       "      <td>SAAVEDRA MARIA ROSA</td>\n",
       "      <td>NaN</td>\n",
       "      <td>NaN</td>\n",
       "      <td>NaN</td>\n",
       "    </tr>\n",
       "    <tr>\n",
       "      <th>3</th>\n",
       "      <td>20119346550</td>\n",
       "      <td>11934655</td>\n",
       "      <td>FUENTES HECTOR RUBEN</td>\n",
       "      <td>NaN</td>\n",
       "      <td>NaN</td>\n",
       "      <td>NaN</td>\n",
       "    </tr>\n",
       "    <tr>\n",
       "      <th>4</th>\n",
       "      <td>20144786581</td>\n",
       "      <td>14478658</td>\n",
       "      <td>GUDIÑO ALBERTO RAMON</td>\n",
       "      <td>NaN</td>\n",
       "      <td>NaN</td>\n",
       "      <td>NaN</td>\n",
       "    </tr>\n",
       "  </tbody>\n",
       "</table>\n",
       "</div>"
      ],
      "text/plain": [
       "  Unnamed: 0_level_0 Unnamed: 1_level_0      Unnamed: 5_level_0  \\\n",
       "                Cuil                Dni                 Titular   \n",
       "0        27050862394            5086239  GOITEA GLADIS ADELVINA   \n",
       "1        27063828276            6382827    VILLEGAS MARIA NORMA   \n",
       "2        27105494225           10549422     SAAVEDRA MARIA ROSA   \n",
       "3        20119346550           11934655    FUENTES HECTOR RUBEN   \n",
       "4        20144786581           14478658    GUDIÑO ALBERTO RAMON   \n",
       "\n",
       "  Unnamed: 22_level_0      Email Empleador Contactacion Opcional (Familiar)  \n",
       "                 Mail Unnamed: 164_level_1                            Email  \n",
       "0                 NaN                  NaN                              NaN  \n",
       "1                 NaN                  NaN                              NaN  \n",
       "2                 NaN                  NaN                              NaN  \n",
       "3                 NaN                  NaN                              NaN  \n",
       "4                 NaN                  NaN                              NaN  "
      ]
     },
     "execution_count": 10,
     "metadata": {},
     "output_type": "execute_result"
    }
   ],
   "source": [
    "df_reduced.head()"
   ]
  },
  {
   "cell_type": "code",
   "execution_count": 11,
   "metadata": {},
   "outputs": [
    {
     "data": {
      "text/plain": [
       "(187, 6)"
      ]
     },
     "execution_count": 11,
     "metadata": {},
     "output_type": "execute_result"
    }
   ],
   "source": [
    "df_reduced.shape"
   ]
  },
  {
   "cell_type": "markdown",
   "metadata": {},
   "source": [
    "Eliminamos el multilevel de las columnas, y las renombramos:"
   ]
  },
  {
   "cell_type": "code",
   "execution_count": 12,
   "metadata": {},
   "outputs": [],
   "source": [
    "df_reduced.columns = df_reduced.columns.droplevel()"
   ]
  },
  {
   "cell_type": "code",
   "execution_count": 13,
   "metadata": {},
   "outputs": [
    {
     "data": {
      "text/html": [
       "<div>\n",
       "<style scoped>\n",
       "    .dataframe tbody tr th:only-of-type {\n",
       "        vertical-align: middle;\n",
       "    }\n",
       "\n",
       "    .dataframe tbody tr th {\n",
       "        vertical-align: top;\n",
       "    }\n",
       "\n",
       "    .dataframe thead th {\n",
       "        text-align: right;\n",
       "    }\n",
       "</style>\n",
       "<table border=\"1\" class=\"dataframe\">\n",
       "  <thead>\n",
       "    <tr style=\"text-align: right;\">\n",
       "      <th></th>\n",
       "      <th>Cuil</th>\n",
       "      <th>Dni</th>\n",
       "      <th>Titular</th>\n",
       "      <th>Mail</th>\n",
       "      <th>Unnamed: 164_level_1</th>\n",
       "      <th>Email</th>\n",
       "    </tr>\n",
       "  </thead>\n",
       "  <tbody>\n",
       "    <tr>\n",
       "      <th>0</th>\n",
       "      <td>27050862394</td>\n",
       "      <td>5086239</td>\n",
       "      <td>GOITEA GLADIS ADELVINA</td>\n",
       "      <td>NaN</td>\n",
       "      <td>NaN</td>\n",
       "      <td>NaN</td>\n",
       "    </tr>\n",
       "    <tr>\n",
       "      <th>1</th>\n",
       "      <td>27063828276</td>\n",
       "      <td>6382827</td>\n",
       "      <td>VILLEGAS MARIA NORMA</td>\n",
       "      <td>NaN</td>\n",
       "      <td>NaN</td>\n",
       "      <td>NaN</td>\n",
       "    </tr>\n",
       "    <tr>\n",
       "      <th>2</th>\n",
       "      <td>27105494225</td>\n",
       "      <td>10549422</td>\n",
       "      <td>SAAVEDRA MARIA ROSA</td>\n",
       "      <td>NaN</td>\n",
       "      <td>NaN</td>\n",
       "      <td>NaN</td>\n",
       "    </tr>\n",
       "    <tr>\n",
       "      <th>3</th>\n",
       "      <td>20119346550</td>\n",
       "      <td>11934655</td>\n",
       "      <td>FUENTES HECTOR RUBEN</td>\n",
       "      <td>NaN</td>\n",
       "      <td>NaN</td>\n",
       "      <td>NaN</td>\n",
       "    </tr>\n",
       "    <tr>\n",
       "      <th>4</th>\n",
       "      <td>20144786581</td>\n",
       "      <td>14478658</td>\n",
       "      <td>GUDIÑO ALBERTO RAMON</td>\n",
       "      <td>NaN</td>\n",
       "      <td>NaN</td>\n",
       "      <td>NaN</td>\n",
       "    </tr>\n",
       "  </tbody>\n",
       "</table>\n",
       "</div>"
      ],
      "text/plain": [
       "          Cuil       Dni                 Titular Mail Unnamed: 164_level_1  \\\n",
       "0  27050862394   5086239  GOITEA GLADIS ADELVINA  NaN                  NaN   \n",
       "1  27063828276   6382827    VILLEGAS MARIA NORMA  NaN                  NaN   \n",
       "2  27105494225  10549422     SAAVEDRA MARIA ROSA  NaN                  NaN   \n",
       "3  20119346550  11934655    FUENTES HECTOR RUBEN  NaN                  NaN   \n",
       "4  20144786581  14478658    GUDIÑO ALBERTO RAMON  NaN                  NaN   \n",
       "\n",
       "  Email  \n",
       "0   NaN  \n",
       "1   NaN  \n",
       "2   NaN  \n",
       "3   NaN  \n",
       "4   NaN  "
      ]
     },
     "execution_count": 13,
     "metadata": {},
     "output_type": "execute_result"
    }
   ],
   "source": [
    "df_reduced.head()"
   ]
  },
  {
   "cell_type": "code",
   "execution_count": 14,
   "metadata": {},
   "outputs": [],
   "source": [
    "df_reduced = df_reduced.rename(columns={\"Cuil\": \"CUIT_CUIL\", 'Dni': 'NRO_DOC','Unnamed: 164_level_1':'Mail_empleador','Email':'Mail_ajeno'})"
   ]
  },
  {
   "cell_type": "code",
   "execution_count": 15,
   "metadata": {},
   "outputs": [
    {
     "data": {
      "text/html": [
       "<div>\n",
       "<style scoped>\n",
       "    .dataframe tbody tr th:only-of-type {\n",
       "        vertical-align: middle;\n",
       "    }\n",
       "\n",
       "    .dataframe tbody tr th {\n",
       "        vertical-align: top;\n",
       "    }\n",
       "\n",
       "    .dataframe thead th {\n",
       "        text-align: right;\n",
       "    }\n",
       "</style>\n",
       "<table border=\"1\" class=\"dataframe\">\n",
       "  <thead>\n",
       "    <tr style=\"text-align: right;\">\n",
       "      <th></th>\n",
       "      <th>CUIT_CUIL</th>\n",
       "      <th>NRO_DOC</th>\n",
       "      <th>Titular</th>\n",
       "      <th>Mail</th>\n",
       "      <th>Mail_empleador</th>\n",
       "      <th>Mail_ajeno</th>\n",
       "    </tr>\n",
       "  </thead>\n",
       "  <tbody>\n",
       "    <tr>\n",
       "      <th>0</th>\n",
       "      <td>27050862394</td>\n",
       "      <td>5086239</td>\n",
       "      <td>GOITEA GLADIS ADELVINA</td>\n",
       "      <td>NaN</td>\n",
       "      <td>NaN</td>\n",
       "      <td>NaN</td>\n",
       "    </tr>\n",
       "    <tr>\n",
       "      <th>1</th>\n",
       "      <td>27063828276</td>\n",
       "      <td>6382827</td>\n",
       "      <td>VILLEGAS MARIA NORMA</td>\n",
       "      <td>NaN</td>\n",
       "      <td>NaN</td>\n",
       "      <td>NaN</td>\n",
       "    </tr>\n",
       "    <tr>\n",
       "      <th>2</th>\n",
       "      <td>27105494225</td>\n",
       "      <td>10549422</td>\n",
       "      <td>SAAVEDRA MARIA ROSA</td>\n",
       "      <td>NaN</td>\n",
       "      <td>NaN</td>\n",
       "      <td>NaN</td>\n",
       "    </tr>\n",
       "    <tr>\n",
       "      <th>3</th>\n",
       "      <td>20119346550</td>\n",
       "      <td>11934655</td>\n",
       "      <td>FUENTES HECTOR RUBEN</td>\n",
       "      <td>NaN</td>\n",
       "      <td>NaN</td>\n",
       "      <td>NaN</td>\n",
       "    </tr>\n",
       "    <tr>\n",
       "      <th>4</th>\n",
       "      <td>20144786581</td>\n",
       "      <td>14478658</td>\n",
       "      <td>GUDIÑO ALBERTO RAMON</td>\n",
       "      <td>NaN</td>\n",
       "      <td>NaN</td>\n",
       "      <td>NaN</td>\n",
       "    </tr>\n",
       "  </tbody>\n",
       "</table>\n",
       "</div>"
      ],
      "text/plain": [
       "     CUIT_CUIL   NRO_DOC                 Titular Mail Mail_empleador  \\\n",
       "0  27050862394   5086239  GOITEA GLADIS ADELVINA  NaN            NaN   \n",
       "1  27063828276   6382827    VILLEGAS MARIA NORMA  NaN            NaN   \n",
       "2  27105494225  10549422     SAAVEDRA MARIA ROSA  NaN            NaN   \n",
       "3  20119346550  11934655    FUENTES HECTOR RUBEN  NaN            NaN   \n",
       "4  20144786581  14478658    GUDIÑO ALBERTO RAMON  NaN            NaN   \n",
       "\n",
       "  Mail_ajeno  \n",
       "0        NaN  \n",
       "1        NaN  \n",
       "2        NaN  \n",
       "3        NaN  \n",
       "4        NaN  "
      ]
     },
     "execution_count": 15,
     "metadata": {},
     "output_type": "execute_result"
    }
   ],
   "source": [
    "df_reduced.head()"
   ]
  },
  {
   "cell_type": "code",
   "execution_count": 16,
   "metadata": {},
   "outputs": [],
   "source": [
    "df_reduced = df_reduced.rename(columns={'Mail':'Mail 1'})"
   ]
  },
  {
   "cell_type": "markdown",
   "metadata": {},
   "source": [
    "# 3) Concatenación de Mails"
   ]
  },
  {
   "cell_type": "markdown",
   "metadata": {},
   "source": [
    "Como PyP envía un mail por celda, tengo que concatenar las columnas Mail_propio y Mail_ajeno en una lista dentro de una nueva columna denominada \"Dato\""
   ]
  },
  {
   "cell_type": "code",
   "execution_count": 17,
   "metadata": {},
   "outputs": [],
   "source": [
    "df_melt= pd.melt(df_reduced, id_vars=['CUIT_CUIL', 'NRO_DOC', 'Titular'], value_vars=['Mail 1','Mail_empleador' ,'Mail_ajeno'],value_name='Dato')"
   ]
  },
  {
   "cell_type": "code",
   "execution_count": 18,
   "metadata": {},
   "outputs": [
    {
     "data": {
      "text/html": [
       "<div>\n",
       "<style scoped>\n",
       "    .dataframe tbody tr th:only-of-type {\n",
       "        vertical-align: middle;\n",
       "    }\n",
       "\n",
       "    .dataframe tbody tr th {\n",
       "        vertical-align: top;\n",
       "    }\n",
       "\n",
       "    .dataframe thead th {\n",
       "        text-align: right;\n",
       "    }\n",
       "</style>\n",
       "<table border=\"1\" class=\"dataframe\">\n",
       "  <thead>\n",
       "    <tr style=\"text-align: right;\">\n",
       "      <th></th>\n",
       "      <th>CUIT_CUIL</th>\n",
       "      <th>NRO_DOC</th>\n",
       "      <th>Titular</th>\n",
       "      <th>variable</th>\n",
       "      <th>Dato</th>\n",
       "    </tr>\n",
       "  </thead>\n",
       "  <tbody>\n",
       "    <tr>\n",
       "      <th>0</th>\n",
       "      <td>27050862394</td>\n",
       "      <td>5086239</td>\n",
       "      <td>GOITEA GLADIS ADELVINA</td>\n",
       "      <td>Mail 1</td>\n",
       "      <td>NaN</td>\n",
       "    </tr>\n",
       "    <tr>\n",
       "      <th>1</th>\n",
       "      <td>27063828276</td>\n",
       "      <td>6382827</td>\n",
       "      <td>VILLEGAS MARIA NORMA</td>\n",
       "      <td>Mail 1</td>\n",
       "      <td>NaN</td>\n",
       "    </tr>\n",
       "    <tr>\n",
       "      <th>2</th>\n",
       "      <td>27105494225</td>\n",
       "      <td>10549422</td>\n",
       "      <td>SAAVEDRA MARIA ROSA</td>\n",
       "      <td>Mail 1</td>\n",
       "      <td>NaN</td>\n",
       "    </tr>\n",
       "    <tr>\n",
       "      <th>3</th>\n",
       "      <td>20119346550</td>\n",
       "      <td>11934655</td>\n",
       "      <td>FUENTES HECTOR RUBEN</td>\n",
       "      <td>Mail 1</td>\n",
       "      <td>NaN</td>\n",
       "    </tr>\n",
       "    <tr>\n",
       "      <th>4</th>\n",
       "      <td>20144786581</td>\n",
       "      <td>14478658</td>\n",
       "      <td>GUDIÑO ALBERTO RAMON</td>\n",
       "      <td>Mail 1</td>\n",
       "      <td>NaN</td>\n",
       "    </tr>\n",
       "  </tbody>\n",
       "</table>\n",
       "</div>"
      ],
      "text/plain": [
       "     CUIT_CUIL   NRO_DOC                 Titular variable Dato\n",
       "0  27050862394   5086239  GOITEA GLADIS ADELVINA   Mail 1  NaN\n",
       "1  27063828276   6382827    VILLEGAS MARIA NORMA   Mail 1  NaN\n",
       "2  27105494225  10549422     SAAVEDRA MARIA ROSA   Mail 1  NaN\n",
       "3  20119346550  11934655    FUENTES HECTOR RUBEN   Mail 1  NaN\n",
       "4  20144786581  14478658    GUDIÑO ALBERTO RAMON   Mail 1  NaN"
      ]
     },
     "execution_count": 18,
     "metadata": {},
     "output_type": "execute_result"
    }
   ],
   "source": [
    "df_melt.head()"
   ]
  },
  {
   "cell_type": "code",
   "execution_count": 19,
   "metadata": {},
   "outputs": [],
   "source": [
    "#df_melt.to_excel('df_melt.xlsx')"
   ]
  },
  {
   "cell_type": "markdown",
   "metadata": {},
   "source": [
    "# 4) Drop NaNs"
   ]
  },
  {
   "cell_type": "markdown",
   "metadata": {},
   "source": [
    "Dropeamos aquellas filas que tengan NaN en la columna Dato, ya que no nos aporta nada:"
   ]
  },
  {
   "cell_type": "code",
   "execution_count": 20,
   "metadata": {},
   "outputs": [],
   "source": [
    "df_melt = df_melt.dropna(subset=['Dato'])"
   ]
  },
  {
   "cell_type": "code",
   "execution_count": 21,
   "metadata": {},
   "outputs": [
    {
     "data": {
      "text/plain": [
       "(37, 5)"
      ]
     },
     "execution_count": 21,
     "metadata": {},
     "output_type": "execute_result"
    }
   ],
   "source": [
    "df_melt.shape"
   ]
  },
  {
   "cell_type": "code",
   "execution_count": 22,
   "metadata": {},
   "outputs": [
    {
     "data": {
      "text/html": [
       "<div>\n",
       "<style scoped>\n",
       "    .dataframe tbody tr th:only-of-type {\n",
       "        vertical-align: middle;\n",
       "    }\n",
       "\n",
       "    .dataframe tbody tr th {\n",
       "        vertical-align: top;\n",
       "    }\n",
       "\n",
       "    .dataframe thead th {\n",
       "        text-align: right;\n",
       "    }\n",
       "</style>\n",
       "<table border=\"1\" class=\"dataframe\">\n",
       "  <thead>\n",
       "    <tr style=\"text-align: right;\">\n",
       "      <th></th>\n",
       "      <th>CUIT_CUIL</th>\n",
       "      <th>NRO_DOC</th>\n",
       "      <th>Titular</th>\n",
       "      <th>variable</th>\n",
       "      <th>Dato</th>\n",
       "    </tr>\n",
       "  </thead>\n",
       "  <tbody>\n",
       "    <tr>\n",
       "      <th>17</th>\n",
       "      <td>27203466884</td>\n",
       "      <td>20346688</td>\n",
       "      <td>BARBOZA ROXANA ANDREA</td>\n",
       "      <td>Mail 1</td>\n",
       "      <td>sandisanagustin@hotmail.com.ar</td>\n",
       "    </tr>\n",
       "    <tr>\n",
       "      <th>54</th>\n",
       "      <td>27302314115</td>\n",
       "      <td>30231411</td>\n",
       "      <td>GROH MARIELA LILIANA</td>\n",
       "      <td>Mail 1</td>\n",
       "      <td>marielagroh@hotmail.com</td>\n",
       "    </tr>\n",
       "    <tr>\n",
       "      <th>62</th>\n",
       "      <td>20313808948</td>\n",
       "      <td>31380894</td>\n",
       "      <td>SPAGNOLLO LEONARDO JOSE</td>\n",
       "      <td>Mail 1</td>\n",
       "      <td>lespagnollo@hotmail.com</td>\n",
       "    </tr>\n",
       "    <tr>\n",
       "      <th>68</th>\n",
       "      <td>27327986428</td>\n",
       "      <td>32798642</td>\n",
       "      <td>PARED SUSANA SOLEDAD</td>\n",
       "      <td>Mail 1</td>\n",
       "      <td>santiniescalada@hotmail.com</td>\n",
       "    </tr>\n",
       "    <tr>\n",
       "      <th>72</th>\n",
       "      <td>27335616028</td>\n",
       "      <td>33561602</td>\n",
       "      <td>BORDES ROMINA NOEMI</td>\n",
       "      <td>Mail 1</td>\n",
       "      <td>romina_bordes@hotmail.com</td>\n",
       "    </tr>\n",
       "  </tbody>\n",
       "</table>\n",
       "</div>"
      ],
      "text/plain": [
       "      CUIT_CUIL   NRO_DOC                  Titular variable  \\\n",
       "17  27203466884  20346688    BARBOZA ROXANA ANDREA   Mail 1   \n",
       "54  27302314115  30231411     GROH MARIELA LILIANA   Mail 1   \n",
       "62  20313808948  31380894  SPAGNOLLO LEONARDO JOSE   Mail 1   \n",
       "68  27327986428  32798642     PARED SUSANA SOLEDAD   Mail 1   \n",
       "72  27335616028  33561602      BORDES ROMINA NOEMI   Mail 1   \n",
       "\n",
       "                              Dato  \n",
       "17  sandisanagustin@hotmail.com.ar  \n",
       "54         marielagroh@hotmail.com  \n",
       "62         lespagnollo@hotmail.com  \n",
       "68     santiniescalada@hotmail.com  \n",
       "72       romina_bordes@hotmail.com  "
      ]
     },
     "execution_count": 22,
     "metadata": {},
     "output_type": "execute_result"
    }
   ],
   "source": [
    "df_melt.head()"
   ]
  },
  {
   "cell_type": "markdown",
   "metadata": {},
   "source": [
    "# 5) Propietario del Dato"
   ]
  },
  {
   "cell_type": "markdown",
   "metadata": {},
   "source": [
    "En función de la columna \"variable\" creamos una nueva columna PROPIETARIO_DATO"
   ]
  },
  {
   "cell_type": "code",
   "execution_count": 23,
   "metadata": {},
   "outputs": [],
   "source": [
    "df_melt.loc[(df_melt['variable'] == 'Mail 1') , 'PROPIETARIO_DATO'] = 'Propio'"
   ]
  },
  {
   "cell_type": "code",
   "execution_count": 24,
   "metadata": {},
   "outputs": [],
   "source": [
    "#df_melt.loc[(df_melt['variable'] == 'Mail 2') , 'PROPIETARIO_DATO'] = 'Propio'"
   ]
  },
  {
   "cell_type": "code",
   "execution_count": 25,
   "metadata": {},
   "outputs": [],
   "source": [
    "#df_melt.loc[(df_melt['variable'] == 'Mail 3') , 'PROPIETARIO_DATO'] = 'Propio'"
   ]
  },
  {
   "cell_type": "code",
   "execution_count": 26,
   "metadata": {},
   "outputs": [],
   "source": [
    "df_melt.loc[(df_melt['variable'] == 'Mail_ajeno') , 'PROPIETARIO_DATO'] = 'Ajeno_familiar'"
   ]
  },
  {
   "cell_type": "code",
   "execution_count": 27,
   "metadata": {},
   "outputs": [],
   "source": [
    "df_melt.loc[(df_melt['variable'] == 'Mail_empleador') , 'PROPIETARIO_DATO'] = 'Ajeno_empleador'"
   ]
  },
  {
   "cell_type": "code",
   "execution_count": 28,
   "metadata": {},
   "outputs": [],
   "source": [
    "df_melt = df_melt.drop(columns=['variable'])"
   ]
  },
  {
   "cell_type": "code",
   "execution_count": 29,
   "metadata": {},
   "outputs": [
    {
     "data": {
      "text/html": [
       "<div>\n",
       "<style scoped>\n",
       "    .dataframe tbody tr th:only-of-type {\n",
       "        vertical-align: middle;\n",
       "    }\n",
       "\n",
       "    .dataframe tbody tr th {\n",
       "        vertical-align: top;\n",
       "    }\n",
       "\n",
       "    .dataframe thead th {\n",
       "        text-align: right;\n",
       "    }\n",
       "</style>\n",
       "<table border=\"1\" class=\"dataframe\">\n",
       "  <thead>\n",
       "    <tr style=\"text-align: right;\">\n",
       "      <th></th>\n",
       "      <th>CUIT_CUIL</th>\n",
       "      <th>NRO_DOC</th>\n",
       "      <th>Titular</th>\n",
       "      <th>Dato</th>\n",
       "      <th>PROPIETARIO_DATO</th>\n",
       "    </tr>\n",
       "  </thead>\n",
       "  <tbody>\n",
       "    <tr>\n",
       "      <th>17</th>\n",
       "      <td>27203466884</td>\n",
       "      <td>20346688</td>\n",
       "      <td>BARBOZA ROXANA ANDREA</td>\n",
       "      <td>sandisanagustin@hotmail.com.ar</td>\n",
       "      <td>Propio</td>\n",
       "    </tr>\n",
       "    <tr>\n",
       "      <th>54</th>\n",
       "      <td>27302314115</td>\n",
       "      <td>30231411</td>\n",
       "      <td>GROH MARIELA LILIANA</td>\n",
       "      <td>marielagroh@hotmail.com</td>\n",
       "      <td>Propio</td>\n",
       "    </tr>\n",
       "    <tr>\n",
       "      <th>62</th>\n",
       "      <td>20313808948</td>\n",
       "      <td>31380894</td>\n",
       "      <td>SPAGNOLLO LEONARDO JOSE</td>\n",
       "      <td>lespagnollo@hotmail.com</td>\n",
       "      <td>Propio</td>\n",
       "    </tr>\n",
       "    <tr>\n",
       "      <th>68</th>\n",
       "      <td>27327986428</td>\n",
       "      <td>32798642</td>\n",
       "      <td>PARED SUSANA SOLEDAD</td>\n",
       "      <td>santiniescalada@hotmail.com</td>\n",
       "      <td>Propio</td>\n",
       "    </tr>\n",
       "    <tr>\n",
       "      <th>72</th>\n",
       "      <td>27335616028</td>\n",
       "      <td>33561602</td>\n",
       "      <td>BORDES ROMINA NOEMI</td>\n",
       "      <td>romina_bordes@hotmail.com</td>\n",
       "      <td>Propio</td>\n",
       "    </tr>\n",
       "  </tbody>\n",
       "</table>\n",
       "</div>"
      ],
      "text/plain": [
       "      CUIT_CUIL   NRO_DOC                  Titular  \\\n",
       "17  27203466884  20346688    BARBOZA ROXANA ANDREA   \n",
       "54  27302314115  30231411     GROH MARIELA LILIANA   \n",
       "62  20313808948  31380894  SPAGNOLLO LEONARDO JOSE   \n",
       "68  27327986428  32798642     PARED SUSANA SOLEDAD   \n",
       "72  27335616028  33561602      BORDES ROMINA NOEMI   \n",
       "\n",
       "                              Dato PROPIETARIO_DATO  \n",
       "17  sandisanagustin@hotmail.com.ar           Propio  \n",
       "54         marielagroh@hotmail.com           Propio  \n",
       "62         lespagnollo@hotmail.com           Propio  \n",
       "68     santiniescalada@hotmail.com           Propio  \n",
       "72       romina_bordes@hotmail.com           Propio  "
      ]
     },
     "execution_count": 29,
     "metadata": {},
     "output_type": "execute_result"
    }
   ],
   "source": [
    "df_melt.head()"
   ]
  },
  {
   "cell_type": "markdown",
   "metadata": {},
   "source": [
    "# 6) Columna Proveedor"
   ]
  },
  {
   "cell_type": "markdown",
   "metadata": {},
   "source": [
    "Agregamos la columna PROVEEDOR_DATO, con el código correspondiente.\n",
    "\n",
    "PyP = P2"
   ]
  },
  {
   "cell_type": "code",
   "execution_count": 30,
   "metadata": {},
   "outputs": [],
   "source": [
    "cod_pyp = 'AD'"
   ]
  },
  {
   "cell_type": "code",
   "execution_count": 31,
   "metadata": {},
   "outputs": [],
   "source": [
    "df_clean = df_melt.assign(PROVEEDOR_DATO=cod_pyp)"
   ]
  },
  {
   "cell_type": "code",
   "execution_count": 32,
   "metadata": {},
   "outputs": [
    {
     "data": {
      "text/html": [
       "<div>\n",
       "<style scoped>\n",
       "    .dataframe tbody tr th:only-of-type {\n",
       "        vertical-align: middle;\n",
       "    }\n",
       "\n",
       "    .dataframe tbody tr th {\n",
       "        vertical-align: top;\n",
       "    }\n",
       "\n",
       "    .dataframe thead th {\n",
       "        text-align: right;\n",
       "    }\n",
       "</style>\n",
       "<table border=\"1\" class=\"dataframe\">\n",
       "  <thead>\n",
       "    <tr style=\"text-align: right;\">\n",
       "      <th></th>\n",
       "      <th>CUIT_CUIL</th>\n",
       "      <th>NRO_DOC</th>\n",
       "      <th>Titular</th>\n",
       "      <th>Dato</th>\n",
       "      <th>PROPIETARIO_DATO</th>\n",
       "      <th>PROVEEDOR_DATO</th>\n",
       "    </tr>\n",
       "  </thead>\n",
       "  <tbody>\n",
       "    <tr>\n",
       "      <th>17</th>\n",
       "      <td>27203466884</td>\n",
       "      <td>20346688</td>\n",
       "      <td>BARBOZA ROXANA ANDREA</td>\n",
       "      <td>sandisanagustin@hotmail.com.ar</td>\n",
       "      <td>Propio</td>\n",
       "      <td>AD</td>\n",
       "    </tr>\n",
       "    <tr>\n",
       "      <th>54</th>\n",
       "      <td>27302314115</td>\n",
       "      <td>30231411</td>\n",
       "      <td>GROH MARIELA LILIANA</td>\n",
       "      <td>marielagroh@hotmail.com</td>\n",
       "      <td>Propio</td>\n",
       "      <td>AD</td>\n",
       "    </tr>\n",
       "    <tr>\n",
       "      <th>62</th>\n",
       "      <td>20313808948</td>\n",
       "      <td>31380894</td>\n",
       "      <td>SPAGNOLLO LEONARDO JOSE</td>\n",
       "      <td>lespagnollo@hotmail.com</td>\n",
       "      <td>Propio</td>\n",
       "      <td>AD</td>\n",
       "    </tr>\n",
       "    <tr>\n",
       "      <th>68</th>\n",
       "      <td>27327986428</td>\n",
       "      <td>32798642</td>\n",
       "      <td>PARED SUSANA SOLEDAD</td>\n",
       "      <td>santiniescalada@hotmail.com</td>\n",
       "      <td>Propio</td>\n",
       "      <td>AD</td>\n",
       "    </tr>\n",
       "    <tr>\n",
       "      <th>72</th>\n",
       "      <td>27335616028</td>\n",
       "      <td>33561602</td>\n",
       "      <td>BORDES ROMINA NOEMI</td>\n",
       "      <td>romina_bordes@hotmail.com</td>\n",
       "      <td>Propio</td>\n",
       "      <td>AD</td>\n",
       "    </tr>\n",
       "  </tbody>\n",
       "</table>\n",
       "</div>"
      ],
      "text/plain": [
       "      CUIT_CUIL   NRO_DOC                  Titular  \\\n",
       "17  27203466884  20346688    BARBOZA ROXANA ANDREA   \n",
       "54  27302314115  30231411     GROH MARIELA LILIANA   \n",
       "62  20313808948  31380894  SPAGNOLLO LEONARDO JOSE   \n",
       "68  27327986428  32798642     PARED SUSANA SOLEDAD   \n",
       "72  27335616028  33561602      BORDES ROMINA NOEMI   \n",
       "\n",
       "                              Dato PROPIETARIO_DATO PROVEEDOR_DATO  \n",
       "17  sandisanagustin@hotmail.com.ar           Propio             AD  \n",
       "54         marielagroh@hotmail.com           Propio             AD  \n",
       "62         lespagnollo@hotmail.com           Propio             AD  \n",
       "68     santiniescalada@hotmail.com           Propio             AD  \n",
       "72       romina_bordes@hotmail.com           Propio             AD  "
      ]
     },
     "execution_count": 32,
     "metadata": {},
     "output_type": "execute_result"
    }
   ],
   "source": [
    "df_clean.head()"
   ]
  },
  {
   "cell_type": "markdown",
   "metadata": {},
   "source": [
    "# 7) Columna Tipo"
   ]
  },
  {
   "cell_type": "markdown",
   "metadata": {},
   "source": [
    "Agregamos la columna TIPO, con el código correspondiente"
   ]
  },
  {
   "cell_type": "code",
   "execution_count": 33,
   "metadata": {},
   "outputs": [],
   "source": [
    "tipo_dato = 'EMAIL'"
   ]
  },
  {
   "cell_type": "code",
   "execution_count": 34,
   "metadata": {},
   "outputs": [],
   "source": [
    "df_clean = df_clean.assign(TIPO=tipo_dato)"
   ]
  },
  {
   "cell_type": "code",
   "execution_count": 35,
   "metadata": {},
   "outputs": [
    {
     "data": {
      "text/html": [
       "<div>\n",
       "<style scoped>\n",
       "    .dataframe tbody tr th:only-of-type {\n",
       "        vertical-align: middle;\n",
       "    }\n",
       "\n",
       "    .dataframe tbody tr th {\n",
       "        vertical-align: top;\n",
       "    }\n",
       "\n",
       "    .dataframe thead th {\n",
       "        text-align: right;\n",
       "    }\n",
       "</style>\n",
       "<table border=\"1\" class=\"dataframe\">\n",
       "  <thead>\n",
       "    <tr style=\"text-align: right;\">\n",
       "      <th></th>\n",
       "      <th>CUIT_CUIL</th>\n",
       "      <th>NRO_DOC</th>\n",
       "      <th>Titular</th>\n",
       "      <th>Dato</th>\n",
       "      <th>PROPIETARIO_DATO</th>\n",
       "      <th>PROVEEDOR_DATO</th>\n",
       "      <th>TIPO</th>\n",
       "    </tr>\n",
       "  </thead>\n",
       "  <tbody>\n",
       "    <tr>\n",
       "      <th>17</th>\n",
       "      <td>27203466884</td>\n",
       "      <td>20346688</td>\n",
       "      <td>BARBOZA ROXANA ANDREA</td>\n",
       "      <td>sandisanagustin@hotmail.com.ar</td>\n",
       "      <td>Propio</td>\n",
       "      <td>AD</td>\n",
       "      <td>EMAIL</td>\n",
       "    </tr>\n",
       "    <tr>\n",
       "      <th>54</th>\n",
       "      <td>27302314115</td>\n",
       "      <td>30231411</td>\n",
       "      <td>GROH MARIELA LILIANA</td>\n",
       "      <td>marielagroh@hotmail.com</td>\n",
       "      <td>Propio</td>\n",
       "      <td>AD</td>\n",
       "      <td>EMAIL</td>\n",
       "    </tr>\n",
       "    <tr>\n",
       "      <th>62</th>\n",
       "      <td>20313808948</td>\n",
       "      <td>31380894</td>\n",
       "      <td>SPAGNOLLO LEONARDO JOSE</td>\n",
       "      <td>lespagnollo@hotmail.com</td>\n",
       "      <td>Propio</td>\n",
       "      <td>AD</td>\n",
       "      <td>EMAIL</td>\n",
       "    </tr>\n",
       "    <tr>\n",
       "      <th>68</th>\n",
       "      <td>27327986428</td>\n",
       "      <td>32798642</td>\n",
       "      <td>PARED SUSANA SOLEDAD</td>\n",
       "      <td>santiniescalada@hotmail.com</td>\n",
       "      <td>Propio</td>\n",
       "      <td>AD</td>\n",
       "      <td>EMAIL</td>\n",
       "    </tr>\n",
       "    <tr>\n",
       "      <th>72</th>\n",
       "      <td>27335616028</td>\n",
       "      <td>33561602</td>\n",
       "      <td>BORDES ROMINA NOEMI</td>\n",
       "      <td>romina_bordes@hotmail.com</td>\n",
       "      <td>Propio</td>\n",
       "      <td>AD</td>\n",
       "      <td>EMAIL</td>\n",
       "    </tr>\n",
       "  </tbody>\n",
       "</table>\n",
       "</div>"
      ],
      "text/plain": [
       "      CUIT_CUIL   NRO_DOC                  Titular  \\\n",
       "17  27203466884  20346688    BARBOZA ROXANA ANDREA   \n",
       "54  27302314115  30231411     GROH MARIELA LILIANA   \n",
       "62  20313808948  31380894  SPAGNOLLO LEONARDO JOSE   \n",
       "68  27327986428  32798642     PARED SUSANA SOLEDAD   \n",
       "72  27335616028  33561602      BORDES ROMINA NOEMI   \n",
       "\n",
       "                              Dato PROPIETARIO_DATO PROVEEDOR_DATO   TIPO  \n",
       "17  sandisanagustin@hotmail.com.ar           Propio             AD  EMAIL  \n",
       "54         marielagroh@hotmail.com           Propio             AD  EMAIL  \n",
       "62         lespagnollo@hotmail.com           Propio             AD  EMAIL  \n",
       "68     santiniescalada@hotmail.com           Propio             AD  EMAIL  \n",
       "72       romina_bordes@hotmail.com           Propio             AD  EMAIL  "
      ]
     },
     "execution_count": 35,
     "metadata": {},
     "output_type": "execute_result"
    }
   ],
   "source": [
    "df_clean.head ()"
   ]
  },
  {
   "cell_type": "markdown",
   "metadata": {},
   "source": [
    "# 8) Columna Subtipo"
   ]
  },
  {
   "cell_type": "markdown",
   "metadata": {},
   "source": [
    "Agregamos la columna SUBTIPO, que va a contener información sobre el tipo de mail que se encuentra en el campo Dato.\n",
    "\n",
    "- Personal: @yahoo, @gmail, @hotmail, @outlook, @live.\n",
    "- Laboral: el resto."
   ]
  },
  {
   "cell_type": "markdown",
   "metadata": {},
   "source": [
    "Verificamos que la string contenga esos casos:"
   ]
  },
  {
   "cell_type": "code",
   "execution_count": 36,
   "metadata": {},
   "outputs": [],
   "source": [
    "df_clean.loc[(df_clean['Dato'].str.contains('@yahoo', na=False)) | \n",
    "             (df_clean['Dato'].str.contains('@gmail', na=False)) |\n",
    "             (df_clean['Dato'].str.contains('@outlook', na=False)) |\n",
    "             (df_clean['Dato'].str.contains('@hotmail', na=False)) |\n",
    "             (df_clean['Dato'].str.contains('@live', na=False)) , 'SUBTIPO'] = 'PERSONAL'"
   ]
  },
  {
   "cell_type": "markdown",
   "metadata": {},
   "source": [
    "Para los mails laborales, evaluamos los casos contrarios:"
   ]
  },
  {
   "cell_type": "code",
   "execution_count": 37,
   "metadata": {},
   "outputs": [],
   "source": [
    "df_clean.loc[~(df_clean['Dato'].str.contains('@yahoo', na=False)) & \n",
    "             ~(df_clean['Dato'].str.contains('@gmail', na=False)) &\n",
    "             ~(df_clean['Dato'].str.contains('@outlook', na=False)) &\n",
    "             ~(df_clean['Dato'].str.contains('@hotmail', na=False)) &\n",
    "             ~(df_clean['Dato'].str.contains('@live', na=False)) , 'SUBTIPO'] = 'LABORAL'"
   ]
  },
  {
   "cell_type": "code",
   "execution_count": 38,
   "metadata": {},
   "outputs": [
    {
     "data": {
      "text/html": [
       "<div>\n",
       "<style scoped>\n",
       "    .dataframe tbody tr th:only-of-type {\n",
       "        vertical-align: middle;\n",
       "    }\n",
       "\n",
       "    .dataframe tbody tr th {\n",
       "        vertical-align: top;\n",
       "    }\n",
       "\n",
       "    .dataframe thead th {\n",
       "        text-align: right;\n",
       "    }\n",
       "</style>\n",
       "<table border=\"1\" class=\"dataframe\">\n",
       "  <thead>\n",
       "    <tr style=\"text-align: right;\">\n",
       "      <th></th>\n",
       "      <th>CUIT_CUIL</th>\n",
       "      <th>NRO_DOC</th>\n",
       "      <th>Titular</th>\n",
       "      <th>Dato</th>\n",
       "      <th>PROPIETARIO_DATO</th>\n",
       "      <th>PROVEEDOR_DATO</th>\n",
       "      <th>TIPO</th>\n",
       "      <th>SUBTIPO</th>\n",
       "    </tr>\n",
       "  </thead>\n",
       "  <tbody>\n",
       "    <tr>\n",
       "      <th>17</th>\n",
       "      <td>27203466884</td>\n",
       "      <td>20346688</td>\n",
       "      <td>BARBOZA ROXANA ANDREA</td>\n",
       "      <td>sandisanagustin@hotmail.com.ar</td>\n",
       "      <td>Propio</td>\n",
       "      <td>AD</td>\n",
       "      <td>EMAIL</td>\n",
       "      <td>PERSONAL</td>\n",
       "    </tr>\n",
       "    <tr>\n",
       "      <th>54</th>\n",
       "      <td>27302314115</td>\n",
       "      <td>30231411</td>\n",
       "      <td>GROH MARIELA LILIANA</td>\n",
       "      <td>marielagroh@hotmail.com</td>\n",
       "      <td>Propio</td>\n",
       "      <td>AD</td>\n",
       "      <td>EMAIL</td>\n",
       "      <td>PERSONAL</td>\n",
       "    </tr>\n",
       "    <tr>\n",
       "      <th>62</th>\n",
       "      <td>20313808948</td>\n",
       "      <td>31380894</td>\n",
       "      <td>SPAGNOLLO LEONARDO JOSE</td>\n",
       "      <td>lespagnollo@hotmail.com</td>\n",
       "      <td>Propio</td>\n",
       "      <td>AD</td>\n",
       "      <td>EMAIL</td>\n",
       "      <td>PERSONAL</td>\n",
       "    </tr>\n",
       "    <tr>\n",
       "      <th>68</th>\n",
       "      <td>27327986428</td>\n",
       "      <td>32798642</td>\n",
       "      <td>PARED SUSANA SOLEDAD</td>\n",
       "      <td>santiniescalada@hotmail.com</td>\n",
       "      <td>Propio</td>\n",
       "      <td>AD</td>\n",
       "      <td>EMAIL</td>\n",
       "      <td>PERSONAL</td>\n",
       "    </tr>\n",
       "    <tr>\n",
       "      <th>72</th>\n",
       "      <td>27335616028</td>\n",
       "      <td>33561602</td>\n",
       "      <td>BORDES ROMINA NOEMI</td>\n",
       "      <td>romina_bordes@hotmail.com</td>\n",
       "      <td>Propio</td>\n",
       "      <td>AD</td>\n",
       "      <td>EMAIL</td>\n",
       "      <td>PERSONAL</td>\n",
       "    </tr>\n",
       "  </tbody>\n",
       "</table>\n",
       "</div>"
      ],
      "text/plain": [
       "      CUIT_CUIL   NRO_DOC                  Titular  \\\n",
       "17  27203466884  20346688    BARBOZA ROXANA ANDREA   \n",
       "54  27302314115  30231411     GROH MARIELA LILIANA   \n",
       "62  20313808948  31380894  SPAGNOLLO LEONARDO JOSE   \n",
       "68  27327986428  32798642     PARED SUSANA SOLEDAD   \n",
       "72  27335616028  33561602      BORDES ROMINA NOEMI   \n",
       "\n",
       "                              Dato PROPIETARIO_DATO PROVEEDOR_DATO   TIPO  \\\n",
       "17  sandisanagustin@hotmail.com.ar           Propio             AD  EMAIL   \n",
       "54         marielagroh@hotmail.com           Propio             AD  EMAIL   \n",
       "62         lespagnollo@hotmail.com           Propio             AD  EMAIL   \n",
       "68     santiniescalada@hotmail.com           Propio             AD  EMAIL   \n",
       "72       romina_bordes@hotmail.com           Propio             AD  EMAIL   \n",
       "\n",
       "     SUBTIPO  \n",
       "17  PERSONAL  \n",
       "54  PERSONAL  \n",
       "62  PERSONAL  \n",
       "68  PERSONAL  \n",
       "72  PERSONAL  "
      ]
     },
     "execution_count": 38,
     "metadata": {},
     "output_type": "execute_result"
    }
   ],
   "source": [
    "df_clean.head()"
   ]
  },
  {
   "cell_type": "markdown",
   "metadata": {},
   "source": [
    "# 9) Columna Score"
   ]
  },
  {
   "cell_type": "markdown",
   "metadata": {},
   "source": [
    "El campo **Score** se construye en función de los datos obtenidos:\n",
    "\n",
    "- Nivel 4: Dato que otorga la propia persona.\n",
    "- Nivel 3: Dato que otorgan los clientes (los bancos).\n",
    "- Nivel 2: Dato que otorga un proveedor externo (Informes Digitales en este caso), con subtipo \"Personal\".\n",
    "- Nivel 1: Dato que otorga un proveedor externo, pero tiene como subtipo \"Laboral\"."
   ]
  },
  {
   "cell_type": "code",
   "execution_count": 39,
   "metadata": {},
   "outputs": [],
   "source": [
    "# Nivel 1: Laboral, proveedor externo.\n",
    "\n",
    "df_clean.loc[(df_clean['SUBTIPO'] == 'LABORAL') , 'SCORE_DATO'] = 1"
   ]
  },
  {
   "cell_type": "code",
   "execution_count": 40,
   "metadata": {},
   "outputs": [],
   "source": [
    "# Nivel 2: Personal, proveedor externo.\n",
    "\n",
    "df_clean.loc[(df_clean['SUBTIPO'] == 'PERSONAL') , 'SCORE_DATO'] = 2"
   ]
  },
  {
   "cell_type": "code",
   "execution_count": 41,
   "metadata": {
    "scrolled": true
   },
   "outputs": [
    {
     "data": {
      "text/html": [
       "<div>\n",
       "<style scoped>\n",
       "    .dataframe tbody tr th:only-of-type {\n",
       "        vertical-align: middle;\n",
       "    }\n",
       "\n",
       "    .dataframe tbody tr th {\n",
       "        vertical-align: top;\n",
       "    }\n",
       "\n",
       "    .dataframe thead th {\n",
       "        text-align: right;\n",
       "    }\n",
       "</style>\n",
       "<table border=\"1\" class=\"dataframe\">\n",
       "  <thead>\n",
       "    <tr style=\"text-align: right;\">\n",
       "      <th></th>\n",
       "      <th>CUIT_CUIL</th>\n",
       "      <th>NRO_DOC</th>\n",
       "      <th>Titular</th>\n",
       "      <th>Dato</th>\n",
       "      <th>PROPIETARIO_DATO</th>\n",
       "      <th>PROVEEDOR_DATO</th>\n",
       "      <th>TIPO</th>\n",
       "      <th>SUBTIPO</th>\n",
       "      <th>SCORE_DATO</th>\n",
       "    </tr>\n",
       "  </thead>\n",
       "  <tbody>\n",
       "    <tr>\n",
       "      <th>17</th>\n",
       "      <td>27203466884</td>\n",
       "      <td>20346688</td>\n",
       "      <td>BARBOZA ROXANA ANDREA</td>\n",
       "      <td>sandisanagustin@hotmail.com.ar</td>\n",
       "      <td>Propio</td>\n",
       "      <td>AD</td>\n",
       "      <td>EMAIL</td>\n",
       "      <td>PERSONAL</td>\n",
       "      <td>2.0</td>\n",
       "    </tr>\n",
       "    <tr>\n",
       "      <th>54</th>\n",
       "      <td>27302314115</td>\n",
       "      <td>30231411</td>\n",
       "      <td>GROH MARIELA LILIANA</td>\n",
       "      <td>marielagroh@hotmail.com</td>\n",
       "      <td>Propio</td>\n",
       "      <td>AD</td>\n",
       "      <td>EMAIL</td>\n",
       "      <td>PERSONAL</td>\n",
       "      <td>2.0</td>\n",
       "    </tr>\n",
       "    <tr>\n",
       "      <th>62</th>\n",
       "      <td>20313808948</td>\n",
       "      <td>31380894</td>\n",
       "      <td>SPAGNOLLO LEONARDO JOSE</td>\n",
       "      <td>lespagnollo@hotmail.com</td>\n",
       "      <td>Propio</td>\n",
       "      <td>AD</td>\n",
       "      <td>EMAIL</td>\n",
       "      <td>PERSONAL</td>\n",
       "      <td>2.0</td>\n",
       "    </tr>\n",
       "    <tr>\n",
       "      <th>68</th>\n",
       "      <td>27327986428</td>\n",
       "      <td>32798642</td>\n",
       "      <td>PARED SUSANA SOLEDAD</td>\n",
       "      <td>santiniescalada@hotmail.com</td>\n",
       "      <td>Propio</td>\n",
       "      <td>AD</td>\n",
       "      <td>EMAIL</td>\n",
       "      <td>PERSONAL</td>\n",
       "      <td>2.0</td>\n",
       "    </tr>\n",
       "    <tr>\n",
       "      <th>72</th>\n",
       "      <td>27335616028</td>\n",
       "      <td>33561602</td>\n",
       "      <td>BORDES ROMINA NOEMI</td>\n",
       "      <td>romina_bordes@hotmail.com</td>\n",
       "      <td>Propio</td>\n",
       "      <td>AD</td>\n",
       "      <td>EMAIL</td>\n",
       "      <td>PERSONAL</td>\n",
       "      <td>2.0</td>\n",
       "    </tr>\n",
       "  </tbody>\n",
       "</table>\n",
       "</div>"
      ],
      "text/plain": [
       "      CUIT_CUIL   NRO_DOC                  Titular  \\\n",
       "17  27203466884  20346688    BARBOZA ROXANA ANDREA   \n",
       "54  27302314115  30231411     GROH MARIELA LILIANA   \n",
       "62  20313808948  31380894  SPAGNOLLO LEONARDO JOSE   \n",
       "68  27327986428  32798642     PARED SUSANA SOLEDAD   \n",
       "72  27335616028  33561602      BORDES ROMINA NOEMI   \n",
       "\n",
       "                              Dato PROPIETARIO_DATO PROVEEDOR_DATO   TIPO  \\\n",
       "17  sandisanagustin@hotmail.com.ar           Propio             AD  EMAIL   \n",
       "54         marielagroh@hotmail.com           Propio             AD  EMAIL   \n",
       "62         lespagnollo@hotmail.com           Propio             AD  EMAIL   \n",
       "68     santiniescalada@hotmail.com           Propio             AD  EMAIL   \n",
       "72       romina_bordes@hotmail.com           Propio             AD  EMAIL   \n",
       "\n",
       "     SUBTIPO  SCORE_DATO  \n",
       "17  PERSONAL         2.0  \n",
       "54  PERSONAL         2.0  \n",
       "62  PERSONAL         2.0  \n",
       "68  PERSONAL         2.0  \n",
       "72  PERSONAL         2.0  "
      ]
     },
     "execution_count": 41,
     "metadata": {},
     "output_type": "execute_result"
    }
   ],
   "source": [
    "df_clean.head()"
   ]
  },
  {
   "cell_type": "markdown",
   "metadata": {},
   "source": [
    "# 10) Columna Fecha"
   ]
  },
  {
   "cell_type": "markdown",
   "metadata": {},
   "source": [
    "Para el campo FECHA_INGRESO_DATO, usamos la fecha en la que se hace la inserción de los datos:"
   ]
  },
  {
   "cell_type": "code",
   "execution_count": 42,
   "metadata": {},
   "outputs": [],
   "source": [
    "fecha_ingreso = pd.to_datetime('today')"
   ]
  },
  {
   "cell_type": "code",
   "execution_count": 43,
   "metadata": {},
   "outputs": [],
   "source": [
    "df_clean = df_clean.assign(FECHA_INGRESO_DATO=fecha_ingreso)"
   ]
  },
  {
   "cell_type": "code",
   "execution_count": 44,
   "metadata": {
    "scrolled": true
   },
   "outputs": [
    {
     "data": {
      "text/html": [
       "<div>\n",
       "<style scoped>\n",
       "    .dataframe tbody tr th:only-of-type {\n",
       "        vertical-align: middle;\n",
       "    }\n",
       "\n",
       "    .dataframe tbody tr th {\n",
       "        vertical-align: top;\n",
       "    }\n",
       "\n",
       "    .dataframe thead th {\n",
       "        text-align: right;\n",
       "    }\n",
       "</style>\n",
       "<table border=\"1\" class=\"dataframe\">\n",
       "  <thead>\n",
       "    <tr style=\"text-align: right;\">\n",
       "      <th></th>\n",
       "      <th>CUIT_CUIL</th>\n",
       "      <th>NRO_DOC</th>\n",
       "      <th>Titular</th>\n",
       "      <th>Dato</th>\n",
       "      <th>PROPIETARIO_DATO</th>\n",
       "      <th>PROVEEDOR_DATO</th>\n",
       "      <th>TIPO</th>\n",
       "      <th>SUBTIPO</th>\n",
       "      <th>SCORE_DATO</th>\n",
       "      <th>FECHA_INGRESO_DATO</th>\n",
       "    </tr>\n",
       "  </thead>\n",
       "  <tbody>\n",
       "    <tr>\n",
       "      <th>17</th>\n",
       "      <td>27203466884</td>\n",
       "      <td>20346688</td>\n",
       "      <td>BARBOZA ROXANA ANDREA</td>\n",
       "      <td>sandisanagustin@hotmail.com.ar</td>\n",
       "      <td>Propio</td>\n",
       "      <td>AD</td>\n",
       "      <td>EMAIL</td>\n",
       "      <td>PERSONAL</td>\n",
       "      <td>2.0</td>\n",
       "      <td>2021-02-25 10:40:48.251236</td>\n",
       "    </tr>\n",
       "    <tr>\n",
       "      <th>54</th>\n",
       "      <td>27302314115</td>\n",
       "      <td>30231411</td>\n",
       "      <td>GROH MARIELA LILIANA</td>\n",
       "      <td>marielagroh@hotmail.com</td>\n",
       "      <td>Propio</td>\n",
       "      <td>AD</td>\n",
       "      <td>EMAIL</td>\n",
       "      <td>PERSONAL</td>\n",
       "      <td>2.0</td>\n",
       "      <td>2021-02-25 10:40:48.251236</td>\n",
       "    </tr>\n",
       "    <tr>\n",
       "      <th>62</th>\n",
       "      <td>20313808948</td>\n",
       "      <td>31380894</td>\n",
       "      <td>SPAGNOLLO LEONARDO JOSE</td>\n",
       "      <td>lespagnollo@hotmail.com</td>\n",
       "      <td>Propio</td>\n",
       "      <td>AD</td>\n",
       "      <td>EMAIL</td>\n",
       "      <td>PERSONAL</td>\n",
       "      <td>2.0</td>\n",
       "      <td>2021-02-25 10:40:48.251236</td>\n",
       "    </tr>\n",
       "    <tr>\n",
       "      <th>68</th>\n",
       "      <td>27327986428</td>\n",
       "      <td>32798642</td>\n",
       "      <td>PARED SUSANA SOLEDAD</td>\n",
       "      <td>santiniescalada@hotmail.com</td>\n",
       "      <td>Propio</td>\n",
       "      <td>AD</td>\n",
       "      <td>EMAIL</td>\n",
       "      <td>PERSONAL</td>\n",
       "      <td>2.0</td>\n",
       "      <td>2021-02-25 10:40:48.251236</td>\n",
       "    </tr>\n",
       "    <tr>\n",
       "      <th>72</th>\n",
       "      <td>27335616028</td>\n",
       "      <td>33561602</td>\n",
       "      <td>BORDES ROMINA NOEMI</td>\n",
       "      <td>romina_bordes@hotmail.com</td>\n",
       "      <td>Propio</td>\n",
       "      <td>AD</td>\n",
       "      <td>EMAIL</td>\n",
       "      <td>PERSONAL</td>\n",
       "      <td>2.0</td>\n",
       "      <td>2021-02-25 10:40:48.251236</td>\n",
       "    </tr>\n",
       "  </tbody>\n",
       "</table>\n",
       "</div>"
      ],
      "text/plain": [
       "      CUIT_CUIL   NRO_DOC                  Titular  \\\n",
       "17  27203466884  20346688    BARBOZA ROXANA ANDREA   \n",
       "54  27302314115  30231411     GROH MARIELA LILIANA   \n",
       "62  20313808948  31380894  SPAGNOLLO LEONARDO JOSE   \n",
       "68  27327986428  32798642     PARED SUSANA SOLEDAD   \n",
       "72  27335616028  33561602      BORDES ROMINA NOEMI   \n",
       "\n",
       "                              Dato PROPIETARIO_DATO PROVEEDOR_DATO   TIPO  \\\n",
       "17  sandisanagustin@hotmail.com.ar           Propio             AD  EMAIL   \n",
       "54         marielagroh@hotmail.com           Propio             AD  EMAIL   \n",
       "62         lespagnollo@hotmail.com           Propio             AD  EMAIL   \n",
       "68     santiniescalada@hotmail.com           Propio             AD  EMAIL   \n",
       "72       romina_bordes@hotmail.com           Propio             AD  EMAIL   \n",
       "\n",
       "     SUBTIPO  SCORE_DATO         FECHA_INGRESO_DATO  \n",
       "17  PERSONAL         2.0 2021-02-25 10:40:48.251236  \n",
       "54  PERSONAL         2.0 2021-02-25 10:40:48.251236  \n",
       "62  PERSONAL         2.0 2021-02-25 10:40:48.251236  \n",
       "68  PERSONAL         2.0 2021-02-25 10:40:48.251236  \n",
       "72  PERSONAL         2.0 2021-02-25 10:40:48.251236  "
      ]
     },
     "execution_count": 44,
     "metadata": {},
     "output_type": "execute_result"
    }
   ],
   "source": [
    "df_clean.head()"
   ]
  },
  {
   "cell_type": "markdown",
   "metadata": {},
   "source": [
    "# 11) Campos adicionales"
   ]
  },
  {
   "cell_type": "markdown",
   "metadata": {},
   "source": [
    "Creamos las columnas VERIFICADO, FECHA_VERIFICACION, OPERADOR_VERIFICACION, que en principio van en nulls."
   ]
  },
  {
   "cell_type": "code",
   "execution_count": 45,
   "metadata": {},
   "outputs": [],
   "source": [
    "df_clean['VERIFICADO'] = 0"
   ]
  },
  {
   "cell_type": "code",
   "execution_count": 46,
   "metadata": {},
   "outputs": [],
   "source": [
    "df_clean['FECHA_VERIFICACION'] = np.nan"
   ]
  },
  {
   "cell_type": "code",
   "execution_count": 47,
   "metadata": {},
   "outputs": [],
   "source": [
    "df_clean['OPERADOR_VERIFICACION'] = np.nan"
   ]
  },
  {
   "cell_type": "markdown",
   "metadata": {},
   "source": [
    "# 12) Concatenación con .csv enviado "
   ]
  },
  {
   "cell_type": "markdown",
   "metadata": {},
   "source": [
    "Vamos a concatenar nuestro dataframe con el dataframe enviado para enriquecer. Para esto, vamos a hacer una limpieza inicial de cómo se enviaron esos datos. Finalmente, se uniran ambos dataframes por __DNI__."
   ]
  },
  {
   "cell_type": "markdown",
   "metadata": {},
   "source": [
    "## 12.1) Dataset: PyP"
   ]
  },
  {
   "cell_type": "markdown",
   "metadata": {},
   "source": [
    "Vamos a analizar y limpiar el dataset enviado a PyP para el enriquecimiento:"
   ]
  },
  {
   "cell_type": "code",
   "execution_count": 48,
   "metadata": {},
   "outputs": [],
   "source": [
    "df_pyp = pd.read_csv('/mnt/c/users/Dleg/Data/MOPC/MOPC/Enriquecimiento de Datos/Data Cleaning/Insiders/Datasets/Datasets enviados/Casos_BBVA_1era_nuevo_proveedor.csv')"
   ]
  },
  {
   "cell_type": "code",
   "execution_count": 49,
   "metadata": {
    "scrolled": false
   },
   "outputs": [
    {
     "data": {
      "text/html": [
       "<div>\n",
       "<style scoped>\n",
       "    .dataframe tbody tr th:only-of-type {\n",
       "        vertical-align: middle;\n",
       "    }\n",
       "\n",
       "    .dataframe tbody tr th {\n",
       "        vertical-align: top;\n",
       "    }\n",
       "\n",
       "    .dataframe thead th {\n",
       "        text-align: right;\n",
       "    }\n",
       "</style>\n",
       "<table border=\"1\" class=\"dataframe\">\n",
       "  <thead>\n",
       "    <tr style=\"text-align: right;\">\n",
       "      <th></th>\n",
       "      <th>IDMOROSO</th>\n",
       "      <th>NOMBRE</th>\n",
       "      <th>IDCLIENTE</th>\n",
       "      <th>ESTADO</th>\n",
       "      <th>FILTROA</th>\n",
       "      <th>FASIGNACION</th>\n",
       "    </tr>\n",
       "  </thead>\n",
       "  <tbody>\n",
       "    <tr>\n",
       "      <th>0</th>\n",
       "      <td>DNI 38496630</td>\n",
       "      <td>GIMENEZ MANUEL</td>\n",
       "      <td>FRANCES_2012</td>\n",
       "      <td>NO VISTO</td>\n",
       "      <td>1 - Ag 1ra</td>\n",
       "      <td>2021-02-23 09:05:48</td>\n",
       "    </tr>\n",
       "    <tr>\n",
       "      <th>1</th>\n",
       "      <td>DNI 17842512</td>\n",
       "      <td>PROCIUK JORGE</td>\n",
       "      <td>FRANCES_2012</td>\n",
       "      <td>NO VISTO</td>\n",
       "      <td>1 - Ag 1ra</td>\n",
       "      <td>2021-02-23 09:05:48</td>\n",
       "    </tr>\n",
       "    <tr>\n",
       "      <th>2</th>\n",
       "      <td>DNIE95698936</td>\n",
       "      <td>NUNEZ GARZON HENRY RAFAEL</td>\n",
       "      <td>FRANCES_2012</td>\n",
       "      <td>NO VISTO</td>\n",
       "      <td>1 - Ag 1ra</td>\n",
       "      <td>2021-02-23 09:05:48</td>\n",
       "    </tr>\n",
       "    <tr>\n",
       "      <th>3</th>\n",
       "      <td>DNI 21908882</td>\n",
       "      <td>AQUINO ELISABET</td>\n",
       "      <td>FRANCES_2012</td>\n",
       "      <td>NO VISTO</td>\n",
       "      <td>1 - Ag 1ra</td>\n",
       "      <td>2021-02-23 09:05:48</td>\n",
       "    </tr>\n",
       "    <tr>\n",
       "      <th>4</th>\n",
       "      <td>DNI 39096689</td>\n",
       "      <td>ALMADA GONZALEZ MALCO ELIEL</td>\n",
       "      <td>FRANCES_2012</td>\n",
       "      <td>NO VISTO</td>\n",
       "      <td>1 - Ag 1ra</td>\n",
       "      <td>2021-02-23 09:05:48</td>\n",
       "    </tr>\n",
       "  </tbody>\n",
       "</table>\n",
       "</div>"
      ],
      "text/plain": [
       "             IDMOROSO                                    NOMBRE  \\\n",
       "0  DNI 38496630        GIMENEZ MANUEL                             \n",
       "1  DNI 17842512        PROCIUK JORGE                              \n",
       "2  DNIE95698936        NUNEZ GARZON HENRY RAFAEL                  \n",
       "3  DNI 21908882        AQUINO ELISABET                            \n",
       "4  DNI 39096689        ALMADA GONZALEZ MALCO ELIEL                \n",
       "\n",
       "              IDCLIENTE                ESTADO               FILTROA  \\\n",
       "0  FRANCES_2012          NO VISTO              1 - Ag 1ra             \n",
       "1  FRANCES_2012          NO VISTO              1 - Ag 1ra             \n",
       "2  FRANCES_2012          NO VISTO              1 - Ag 1ra             \n",
       "3  FRANCES_2012          NO VISTO              1 - Ag 1ra             \n",
       "4  FRANCES_2012          NO VISTO              1 - Ag 1ra             \n",
       "\n",
       "           FASIGNACION  \n",
       "0  2021-02-23 09:05:48  \n",
       "1  2021-02-23 09:05:48  \n",
       "2  2021-02-23 09:05:48  \n",
       "3  2021-02-23 09:05:48  \n",
       "4  2021-02-23 09:05:48  "
      ]
     },
     "execution_count": 49,
     "metadata": {},
     "output_type": "execute_result"
    }
   ],
   "source": [
    "df_pyp.head()"
   ]
  },
  {
   "cell_type": "markdown",
   "metadata": {},
   "source": [
    "Creamos una columna que contenga IDMOROSO + DATOADIC según corresponda"
   ]
  },
  {
   "cell_type": "code",
   "execution_count": 50,
   "metadata": {},
   "outputs": [],
   "source": [
    "#df_pyp.loc[(df_pyp['IDCLIENTE'].str.startswith('AMEX')) , 'NRO_DOC'] = df_pyp['DATOADIC']"
   ]
  },
  {
   "cell_type": "code",
   "execution_count": 51,
   "metadata": {},
   "outputs": [],
   "source": [
    "df_pyp = df_pyp [['IDMOROSO','NOMBRE','IDCLIENTE']]"
   ]
  },
  {
   "cell_type": "code",
   "execution_count": 52,
   "metadata": {},
   "outputs": [],
   "source": [
    "df_pyp['NRO_DOC'] = df_pyp['IDMOROSO']"
   ]
  },
  {
   "cell_type": "code",
   "execution_count": 53,
   "metadata": {},
   "outputs": [
    {
     "data": {
      "text/html": [
       "<div>\n",
       "<style scoped>\n",
       "    .dataframe tbody tr th:only-of-type {\n",
       "        vertical-align: middle;\n",
       "    }\n",
       "\n",
       "    .dataframe tbody tr th {\n",
       "        vertical-align: top;\n",
       "    }\n",
       "\n",
       "    .dataframe thead th {\n",
       "        text-align: right;\n",
       "    }\n",
       "</style>\n",
       "<table border=\"1\" class=\"dataframe\">\n",
       "  <thead>\n",
       "    <tr style=\"text-align: right;\">\n",
       "      <th></th>\n",
       "      <th>IDMOROSO</th>\n",
       "      <th>NOMBRE</th>\n",
       "      <th>IDCLIENTE</th>\n",
       "      <th>NRO_DOC</th>\n",
       "    </tr>\n",
       "  </thead>\n",
       "  <tbody>\n",
       "    <tr>\n",
       "      <th>0</th>\n",
       "      <td>DNI 38496630</td>\n",
       "      <td>GIMENEZ MANUEL</td>\n",
       "      <td>FRANCES_2012</td>\n",
       "      <td>DNI 38496630</td>\n",
       "    </tr>\n",
       "    <tr>\n",
       "      <th>1</th>\n",
       "      <td>DNI 17842512</td>\n",
       "      <td>PROCIUK JORGE</td>\n",
       "      <td>FRANCES_2012</td>\n",
       "      <td>DNI 17842512</td>\n",
       "    </tr>\n",
       "    <tr>\n",
       "      <th>2</th>\n",
       "      <td>DNIE95698936</td>\n",
       "      <td>NUNEZ GARZON HENRY RAFAEL</td>\n",
       "      <td>FRANCES_2012</td>\n",
       "      <td>DNIE95698936</td>\n",
       "    </tr>\n",
       "    <tr>\n",
       "      <th>3</th>\n",
       "      <td>DNI 21908882</td>\n",
       "      <td>AQUINO ELISABET</td>\n",
       "      <td>FRANCES_2012</td>\n",
       "      <td>DNI 21908882</td>\n",
       "    </tr>\n",
       "    <tr>\n",
       "      <th>4</th>\n",
       "      <td>DNI 39096689</td>\n",
       "      <td>ALMADA GONZALEZ MALCO ELIEL</td>\n",
       "      <td>FRANCES_2012</td>\n",
       "      <td>DNI 39096689</td>\n",
       "    </tr>\n",
       "  </tbody>\n",
       "</table>\n",
       "</div>"
      ],
      "text/plain": [
       "             IDMOROSO                                    NOMBRE  \\\n",
       "0  DNI 38496630        GIMENEZ MANUEL                             \n",
       "1  DNI 17842512        PROCIUK JORGE                              \n",
       "2  DNIE95698936        NUNEZ GARZON HENRY RAFAEL                  \n",
       "3  DNI 21908882        AQUINO ELISABET                            \n",
       "4  DNI 39096689        ALMADA GONZALEZ MALCO ELIEL                \n",
       "\n",
       "              IDCLIENTE             NRO_DOC  \n",
       "0  FRANCES_2012          DNI 38496630        \n",
       "1  FRANCES_2012          DNI 17842512        \n",
       "2  FRANCES_2012          DNIE95698936        \n",
       "3  FRANCES_2012          DNI 21908882        \n",
       "4  FRANCES_2012          DNI 39096689        "
      ]
     },
     "execution_count": 53,
     "metadata": {},
     "output_type": "execute_result"
    }
   ],
   "source": [
    "df_pyp.head()"
   ]
  },
  {
   "cell_type": "code",
   "execution_count": 54,
   "metadata": {},
   "outputs": [],
   "source": [
    "#df_pyp.to_excel('test_nro_doc.xlsx')"
   ]
  },
  {
   "cell_type": "markdown",
   "metadata": {},
   "source": [
    "## 12.2) DNI Cleaning"
   ]
  },
  {
   "cell_type": "markdown",
   "metadata": {},
   "source": [
    "Limpiamos el dataframe __df_pyp__, ya que dentro de DATO_A_ENVIAR tenemos 9 tipos de casos diferentes de datos:\n",
    "\n",
    "- DNI 12345678\n",
    "- DNI12345678\n",
    "- DNIE1234678\n",
    "- LC  1234567\n",
    "- LE  1234567\n",
    "- CUIT00123456780\n",
    "- 00123456780 --> Es un CUIT.\n",
    "- 00 12345678 0 --> Es un CUIT.\n",
    "- DNI 00123456780 --> Dice DNI pero es un CUIT de una persona __jurídica__ (TO DO)"
   ]
  },
  {
   "cell_type": "markdown",
   "metadata": {},
   "source": [
    "Para eso definimos 5 funciones:\n",
    "\n",
    "- __Tipo_DOC__: Se definen dos funciones para determinar el tipo de DNI. Una inicial, y otra para corregir sobre el dataframe resultante.\n",
    "- __Standard DNI__: Estandariza los DNI para 7 de los casos. Esta función debe ejecutarse en primer lugar.\n",
    "- __DNI Spaces__: Elimina los espacios.\n",
    "- __DNI Zero__: Elimina los ceros iniciales de ciertos CUITs para que coincidan con los DNI.\n",
    "- __Cuit__: Decisión sobre dejar un cuit o volverlo DNI"
   ]
  },
  {
   "cell_type": "code",
   "execution_count": 55,
   "metadata": {},
   "outputs": [],
   "source": [
    "def tipo_doc_1 (string_dni):\n",
    "    \n",
    "    if 'DNI' in string_dni:\n",
    "        tipo = 'DNI'\n",
    "    \n",
    "    elif 'LC' in string_dni:\n",
    "        tipo = 'LC'\n",
    "    \n",
    "    elif 'LE' in string_dni:\n",
    "        tipo = 'LE'\n",
    "    \n",
    "    elif 'DNIE' in string_dni:\n",
    "        tipo = 'DNIE'    \n",
    "    \n",
    "    elif ((string_dni.startswith(('CUIT30','CUIT33','CUIT34'))) & (len(string_dni)>8)):\n",
    "        tipo = 'CUIT'\n",
    "        \n",
    "    elif ((string_dni.startswith(('30','33','34'))) & (len(string_dni)>8)):\n",
    "        tipo = 'CUIT'\n",
    "\n",
    "    elif ((string_dni.startswith(('20','23','24','27'))) & (len(string_dni)>8)):\n",
    "        tipo = 'DNI'\n",
    "\n",
    "    elif ((string_dni.startswith(('CUIT20','CUIT23','CUIT24','CUIT27'))) & (len(string_dni)>8)):\n",
    "        tipo = 'DNI'\n",
    "        \n",
    "    else:\n",
    "        tipo = 'DNI'\n",
    "    \n",
    "    return tipo"
   ]
  },
  {
   "cell_type": "code",
   "execution_count": 56,
   "metadata": {},
   "outputs": [],
   "source": [
    "def tipo_doc_2 (string_dni, tipo_original):\n",
    "    \n",
    "    if (len(string_dni) > 8) & (tipo_original == 'DNI'):\n",
    "        tipo = 'CUIT'\n",
    "    else:\n",
    "        tipo = tipo_original\n",
    "    return tipo"
   ]
  },
  {
   "cell_type": "code",
   "execution_count": 57,
   "metadata": {},
   "outputs": [],
   "source": [
    "def standard_dni (string_dni):\n",
    "    \"\"\"DNI separation by each case.\n",
    "    \"\"\"\n",
    "    \n",
    "    if 'DNI ' in string_dni:\n",
    "        dni = string_dni.split('DNI ')[1]\n",
    "        \n",
    "    elif 'DNIE' in string_dni:\n",
    "        dni = string_dni.split('DNIE')[1]\n",
    "    \n",
    "    elif 'DNI' in string_dni:\n",
    "        dni = string_dni.split('DNI')[1]\n",
    "    \n",
    "    elif 'LC  ' in string_dni:\n",
    "        dni = string_dni.split('LC  ')[1]\n",
    "    \n",
    "    elif 'LE  ' in string_dni:\n",
    "        dni = string_dni.split('LE  ')[1]\n",
    "    \n",
    "    elif 'CUIT' in string_dni:\n",
    "        dni = string_dni.split('CUIT')[1]\n",
    "        \n",
    "    else:\n",
    "        dni = string_dni\n",
    "        \n",
    "    return dni"
   ]
  },
  {
   "cell_type": "code",
   "execution_count": 58,
   "metadata": {},
   "outputs": [],
   "source": [
    "def dni_characters (string_dni):\n",
    "    \n",
    "    if ' ' in string_dni:\n",
    "        dni = string_dni.replace(' ','')\n",
    "        \n",
    "    elif '-' in string_dni:\n",
    "        dni = string_dni.replace('-','')\n",
    "\n",
    "    else:\n",
    "        dni = string_dni\n",
    "    \n",
    "    return dni"
   ]
  },
  {
   "cell_type": "code",
   "execution_count": 59,
   "metadata": {},
   "outputs": [],
   "source": [
    "def cuit (string_dni):\n",
    "    \n",
    "    if ((string_dni.startswith('20')) & (len(string_dni)>8)):\n",
    "        cuit = string_dni [2:-1]\n",
    "        \n",
    "    elif ((string_dni.startswith('23')) & (len(string_dni)>8)):\n",
    "        cuit = string_dni [2:-1]\n",
    "        \n",
    "    elif ((string_dni.startswith('24')) & (len(string_dni)>8)):\n",
    "        cuit = string_dni [2:-1]\n",
    "\n",
    "    elif ((string_dni.startswith('27')) & (len(string_dni)>8)):\n",
    "        cuit = string_dni [2:-1]\n",
    "\n",
    "    else:\n",
    "        cuit = string_dni\n",
    "        \n",
    "    return cuit"
   ]
  },
  {
   "cell_type": "code",
   "execution_count": 60,
   "metadata": {},
   "outputs": [],
   "source": [
    "def dni_zero (string_dni):\n",
    "    \n",
    "    if string_dni.startswith('0'):\n",
    "        dni = string_dni [1:]\n",
    "\n",
    "    else:\n",
    "        dni = string_dni\n",
    "    \n",
    "    return dni"
   ]
  },
  {
   "cell_type": "markdown",
   "metadata": {},
   "source": [
    "En primer lugar, trimmeamos los espacios que sobran:"
   ]
  },
  {
   "cell_type": "code",
   "execution_count": 61,
   "metadata": {},
   "outputs": [],
   "source": [
    "df_pyp['NRO_DOC'] = [(str(df_pyp['NRO_DOC'][i]).strip()) for i in range (df_pyp['NRO_DOC'].count())]"
   ]
  },
  {
   "cell_type": "markdown",
   "metadata": {},
   "source": [
    "Se implementan estas funciones:"
   ]
  },
  {
   "cell_type": "markdown",
   "metadata": {},
   "source": [
    "Para determinar el __TIPO DE DOCUMENTO__ en primer lugar:"
   ]
  },
  {
   "cell_type": "code",
   "execution_count": 62,
   "metadata": {},
   "outputs": [],
   "source": [
    "df_pyp['TIPO_DOC'] = [tipo_doc_1(df_pyp['NRO_DOC'][i]) for i in range (df_pyp['NRO_DOC'].count())]"
   ]
  },
  {
   "cell_type": "markdown",
   "metadata": {},
   "source": [
    "Para la limpieza de DNIs:"
   ]
  },
  {
   "cell_type": "code",
   "execution_count": 63,
   "metadata": {},
   "outputs": [],
   "source": [
    "df_pyp['NRO_DOC'] = [standard_dni(df_pyp['NRO_DOC'][i]) for i in range (df_pyp['NRO_DOC'].count())]"
   ]
  },
  {
   "cell_type": "code",
   "execution_count": 64,
   "metadata": {},
   "outputs": [],
   "source": [
    "df_pyp['NRO_DOC'] = [dni_characters(df_pyp['NRO_DOC'][i]) for i in range (df_pyp['NRO_DOC'].count())]"
   ]
  },
  {
   "cell_type": "code",
   "execution_count": 65,
   "metadata": {},
   "outputs": [],
   "source": [
    "df_pyp['NRO_DOC'] = [cuit(df_pyp['NRO_DOC'][i]) for i in range (df_pyp['NRO_DOC'].count())]"
   ]
  },
  {
   "cell_type": "code",
   "execution_count": 66,
   "metadata": {},
   "outputs": [],
   "source": [
    "df_pyp['NRO_DOC'] = [dni_zero(df_pyp['NRO_DOC'][i]) for i in range (df_pyp['NRO_DOC'].count())]"
   ]
  },
  {
   "cell_type": "markdown",
   "metadata": {},
   "source": [
    "Para corregir el __TIPO DE DOCUMENTO__ sobre el dataframe resultante"
   ]
  },
  {
   "cell_type": "code",
   "execution_count": 67,
   "metadata": {},
   "outputs": [],
   "source": [
    "df_pyp['TIPO_DOC'] = [tipo_doc_2(df_pyp['NRO_DOC'][i],df_pyp['TIPO_DOC'][i]) for i in range (df_pyp['NRO_DOC'].count())]"
   ]
  },
  {
   "cell_type": "code",
   "execution_count": 68,
   "metadata": {
    "scrolled": true
   },
   "outputs": [
    {
     "data": {
      "text/html": [
       "<div>\n",
       "<style scoped>\n",
       "    .dataframe tbody tr th:only-of-type {\n",
       "        vertical-align: middle;\n",
       "    }\n",
       "\n",
       "    .dataframe tbody tr th {\n",
       "        vertical-align: top;\n",
       "    }\n",
       "\n",
       "    .dataframe thead th {\n",
       "        text-align: right;\n",
       "    }\n",
       "</style>\n",
       "<table border=\"1\" class=\"dataframe\">\n",
       "  <thead>\n",
       "    <tr style=\"text-align: right;\">\n",
       "      <th></th>\n",
       "      <th>IDMOROSO</th>\n",
       "      <th>NOMBRE</th>\n",
       "      <th>IDCLIENTE</th>\n",
       "      <th>NRO_DOC</th>\n",
       "      <th>TIPO_DOC</th>\n",
       "    </tr>\n",
       "  </thead>\n",
       "  <tbody>\n",
       "    <tr>\n",
       "      <th>0</th>\n",
       "      <td>DNI 38496630</td>\n",
       "      <td>GIMENEZ MANUEL</td>\n",
       "      <td>FRANCES_2012</td>\n",
       "      <td>38496630</td>\n",
       "      <td>DNI</td>\n",
       "    </tr>\n",
       "    <tr>\n",
       "      <th>1</th>\n",
       "      <td>DNI 17842512</td>\n",
       "      <td>PROCIUK JORGE</td>\n",
       "      <td>FRANCES_2012</td>\n",
       "      <td>17842512</td>\n",
       "      <td>DNI</td>\n",
       "    </tr>\n",
       "    <tr>\n",
       "      <th>2</th>\n",
       "      <td>DNIE95698936</td>\n",
       "      <td>NUNEZ GARZON HENRY RAFAEL</td>\n",
       "      <td>FRANCES_2012</td>\n",
       "      <td>95698936</td>\n",
       "      <td>DNI</td>\n",
       "    </tr>\n",
       "    <tr>\n",
       "      <th>3</th>\n",
       "      <td>DNI 21908882</td>\n",
       "      <td>AQUINO ELISABET</td>\n",
       "      <td>FRANCES_2012</td>\n",
       "      <td>21908882</td>\n",
       "      <td>DNI</td>\n",
       "    </tr>\n",
       "    <tr>\n",
       "      <th>4</th>\n",
       "      <td>DNI 39096689</td>\n",
       "      <td>ALMADA GONZALEZ MALCO ELIEL</td>\n",
       "      <td>FRANCES_2012</td>\n",
       "      <td>39096689</td>\n",
       "      <td>DNI</td>\n",
       "    </tr>\n",
       "  </tbody>\n",
       "</table>\n",
       "</div>"
      ],
      "text/plain": [
       "             IDMOROSO                                    NOMBRE  \\\n",
       "0  DNI 38496630        GIMENEZ MANUEL                             \n",
       "1  DNI 17842512        PROCIUK JORGE                              \n",
       "2  DNIE95698936        NUNEZ GARZON HENRY RAFAEL                  \n",
       "3  DNI 21908882        AQUINO ELISABET                            \n",
       "4  DNI 39096689        ALMADA GONZALEZ MALCO ELIEL                \n",
       "\n",
       "              IDCLIENTE   NRO_DOC TIPO_DOC  \n",
       "0  FRANCES_2012          38496630      DNI  \n",
       "1  FRANCES_2012          17842512      DNI  \n",
       "2  FRANCES_2012          95698936      DNI  \n",
       "3  FRANCES_2012          21908882      DNI  \n",
       "4  FRANCES_2012          39096689      DNI  "
      ]
     },
     "execution_count": 68,
     "metadata": {},
     "output_type": "execute_result"
    }
   ],
   "source": [
    "df_pyp.head()"
   ]
  },
  {
   "cell_type": "markdown",
   "metadata": {},
   "source": [
    "# 13) Union de Dataframes"
   ]
  },
  {
   "cell_type": "markdown",
   "metadata": {},
   "source": [
    "Se unen ambos dataframes en la columna NRO_DOC"
   ]
  },
  {
   "cell_type": "markdown",
   "metadata": {},
   "source": [
    "Convertimos la columna NRO_DOC de objeto a INT para hacer la unión"
   ]
  },
  {
   "cell_type": "code",
   "execution_count": 69,
   "metadata": {},
   "outputs": [],
   "source": [
    "df_clean = df_clean.astype({'NRO_DOC': 'str'})"
   ]
  },
  {
   "cell_type": "code",
   "execution_count": 70,
   "metadata": {},
   "outputs": [],
   "source": [
    "df_union = pd.merge(df_clean,df_pyp, on='NRO_DOC', how='inner')"
   ]
  },
  {
   "cell_type": "code",
   "execution_count": 71,
   "metadata": {},
   "outputs": [
    {
     "data": {
      "text/plain": [
       "(37, 17)"
      ]
     },
     "execution_count": 71,
     "metadata": {},
     "output_type": "execute_result"
    }
   ],
   "source": [
    "df_union.shape"
   ]
  },
  {
   "cell_type": "code",
   "execution_count": 72,
   "metadata": {
    "scrolled": true
   },
   "outputs": [
    {
     "data": {
      "text/html": [
       "<div>\n",
       "<style scoped>\n",
       "    .dataframe tbody tr th:only-of-type {\n",
       "        vertical-align: middle;\n",
       "    }\n",
       "\n",
       "    .dataframe tbody tr th {\n",
       "        vertical-align: top;\n",
       "    }\n",
       "\n",
       "    .dataframe thead th {\n",
       "        text-align: right;\n",
       "    }\n",
       "</style>\n",
       "<table border=\"1\" class=\"dataframe\">\n",
       "  <thead>\n",
       "    <tr style=\"text-align: right;\">\n",
       "      <th></th>\n",
       "      <th>CUIT_CUIL</th>\n",
       "      <th>NRO_DOC</th>\n",
       "      <th>Titular</th>\n",
       "      <th>Dato</th>\n",
       "      <th>PROPIETARIO_DATO</th>\n",
       "      <th>PROVEEDOR_DATO</th>\n",
       "      <th>TIPO</th>\n",
       "      <th>SUBTIPO</th>\n",
       "      <th>SCORE_DATO</th>\n",
       "      <th>FECHA_INGRESO_DATO</th>\n",
       "      <th>VERIFICADO</th>\n",
       "      <th>FECHA_VERIFICACION</th>\n",
       "      <th>OPERADOR_VERIFICACION</th>\n",
       "      <th>IDMOROSO</th>\n",
       "      <th>NOMBRE</th>\n",
       "      <th>IDCLIENTE</th>\n",
       "      <th>TIPO_DOC</th>\n",
       "    </tr>\n",
       "  </thead>\n",
       "  <tbody>\n",
       "    <tr>\n",
       "      <th>0</th>\n",
       "      <td>27203466884</td>\n",
       "      <td>20346688</td>\n",
       "      <td>BARBOZA ROXANA ANDREA</td>\n",
       "      <td>sandisanagustin@hotmail.com.ar</td>\n",
       "      <td>Propio</td>\n",
       "      <td>AD</td>\n",
       "      <td>EMAIL</td>\n",
       "      <td>PERSONAL</td>\n",
       "      <td>2.0</td>\n",
       "      <td>2021-02-25 10:40:48.251236</td>\n",
       "      <td>0</td>\n",
       "      <td>NaN</td>\n",
       "      <td>NaN</td>\n",
       "      <td>DNI 20346688</td>\n",
       "      <td>BARBOZA ROXANA ANDREA</td>\n",
       "      <td>FRANCES_2012</td>\n",
       "      <td>DNI</td>\n",
       "    </tr>\n",
       "    <tr>\n",
       "      <th>1</th>\n",
       "      <td>27302314115</td>\n",
       "      <td>30231411</td>\n",
       "      <td>GROH MARIELA LILIANA</td>\n",
       "      <td>marielagroh@hotmail.com</td>\n",
       "      <td>Propio</td>\n",
       "      <td>AD</td>\n",
       "      <td>EMAIL</td>\n",
       "      <td>PERSONAL</td>\n",
       "      <td>2.0</td>\n",
       "      <td>2021-02-25 10:40:48.251236</td>\n",
       "      <td>0</td>\n",
       "      <td>NaN</td>\n",
       "      <td>NaN</td>\n",
       "      <td>DNI 30231411</td>\n",
       "      <td>GROH MARIELA LILIANA</td>\n",
       "      <td>FRANCES_2012</td>\n",
       "      <td>DNI</td>\n",
       "    </tr>\n",
       "    <tr>\n",
       "      <th>2</th>\n",
       "      <td>27302314115</td>\n",
       "      <td>30231411</td>\n",
       "      <td>GROH MARIELA LILIANA</td>\n",
       "      <td>asi.soii@live.com.ar</td>\n",
       "      <td>Ajeno_empleador</td>\n",
       "      <td>AD</td>\n",
       "      <td>EMAIL</td>\n",
       "      <td>PERSONAL</td>\n",
       "      <td>2.0</td>\n",
       "      <td>2021-02-25 10:40:48.251236</td>\n",
       "      <td>0</td>\n",
       "      <td>NaN</td>\n",
       "      <td>NaN</td>\n",
       "      <td>DNI 30231411</td>\n",
       "      <td>GROH MARIELA LILIANA</td>\n",
       "      <td>FRANCES_2012</td>\n",
       "      <td>DNI</td>\n",
       "    </tr>\n",
       "    <tr>\n",
       "      <th>3</th>\n",
       "      <td>20313808948</td>\n",
       "      <td>31380894</td>\n",
       "      <td>SPAGNOLLO LEONARDO JOSE</td>\n",
       "      <td>lespagnollo@hotmail.com</td>\n",
       "      <td>Propio</td>\n",
       "      <td>AD</td>\n",
       "      <td>EMAIL</td>\n",
       "      <td>PERSONAL</td>\n",
       "      <td>2.0</td>\n",
       "      <td>2021-02-25 10:40:48.251236</td>\n",
       "      <td>0</td>\n",
       "      <td>NaN</td>\n",
       "      <td>NaN</td>\n",
       "      <td>DNI 31380894</td>\n",
       "      <td>SPAGNOLLO LEONARDO JOSE</td>\n",
       "      <td>FRANCES_2012</td>\n",
       "      <td>DNI</td>\n",
       "    </tr>\n",
       "    <tr>\n",
       "      <th>4</th>\n",
       "      <td>27327986428</td>\n",
       "      <td>32798642</td>\n",
       "      <td>PARED SUSANA SOLEDAD</td>\n",
       "      <td>santiniescalada@hotmail.com</td>\n",
       "      <td>Propio</td>\n",
       "      <td>AD</td>\n",
       "      <td>EMAIL</td>\n",
       "      <td>PERSONAL</td>\n",
       "      <td>2.0</td>\n",
       "      <td>2021-02-25 10:40:48.251236</td>\n",
       "      <td>0</td>\n",
       "      <td>NaN</td>\n",
       "      <td>NaN</td>\n",
       "      <td>DNI 32798642</td>\n",
       "      <td>PARED SUSANA SOLEDAD</td>\n",
       "      <td>FRANCES_2012</td>\n",
       "      <td>DNI</td>\n",
       "    </tr>\n",
       "  </tbody>\n",
       "</table>\n",
       "</div>"
      ],
      "text/plain": [
       "     CUIT_CUIL   NRO_DOC                  Titular  \\\n",
       "0  27203466884  20346688    BARBOZA ROXANA ANDREA   \n",
       "1  27302314115  30231411     GROH MARIELA LILIANA   \n",
       "2  27302314115  30231411     GROH MARIELA LILIANA   \n",
       "3  20313808948  31380894  SPAGNOLLO LEONARDO JOSE   \n",
       "4  27327986428  32798642     PARED SUSANA SOLEDAD   \n",
       "\n",
       "                             Dato PROPIETARIO_DATO PROVEEDOR_DATO   TIPO  \\\n",
       "0  sandisanagustin@hotmail.com.ar           Propio             AD  EMAIL   \n",
       "1         marielagroh@hotmail.com           Propio             AD  EMAIL   \n",
       "2            asi.soii@live.com.ar  Ajeno_empleador             AD  EMAIL   \n",
       "3         lespagnollo@hotmail.com           Propio             AD  EMAIL   \n",
       "4     santiniescalada@hotmail.com           Propio             AD  EMAIL   \n",
       "\n",
       "    SUBTIPO  SCORE_DATO         FECHA_INGRESO_DATO  VERIFICADO  \\\n",
       "0  PERSONAL         2.0 2021-02-25 10:40:48.251236           0   \n",
       "1  PERSONAL         2.0 2021-02-25 10:40:48.251236           0   \n",
       "2  PERSONAL         2.0 2021-02-25 10:40:48.251236           0   \n",
       "3  PERSONAL         2.0 2021-02-25 10:40:48.251236           0   \n",
       "4  PERSONAL         2.0 2021-02-25 10:40:48.251236           0   \n",
       "\n",
       "   FECHA_VERIFICACION  OPERADOR_VERIFICACION            IDMOROSO  \\\n",
       "0                 NaN                    NaN  DNI 20346688         \n",
       "1                 NaN                    NaN  DNI 30231411         \n",
       "2                 NaN                    NaN  DNI 30231411         \n",
       "3                 NaN                    NaN  DNI 31380894         \n",
       "4                 NaN                    NaN  DNI 32798642         \n",
       "\n",
       "                                     NOMBRE             IDCLIENTE TIPO_DOC  \n",
       "0  BARBOZA ROXANA ANDREA                     FRANCES_2012              DNI  \n",
       "1  GROH MARIELA LILIANA                      FRANCES_2012              DNI  \n",
       "2  GROH MARIELA LILIANA                      FRANCES_2012              DNI  \n",
       "3  SPAGNOLLO LEONARDO JOSE                   FRANCES_2012              DNI  \n",
       "4  PARED SUSANA SOLEDAD                      FRANCES_2012              DNI  "
      ]
     },
     "execution_count": 72,
     "metadata": {},
     "output_type": "execute_result"
    }
   ],
   "source": [
    "df_union.head()"
   ]
  },
  {
   "cell_type": "markdown",
   "metadata": {},
   "source": [
    "# 14) Export"
   ]
  },
  {
   "cell_type": "markdown",
   "metadata": {},
   "source": [
    "Renombramos, dropeamos y reordenamos las columnas"
   ]
  },
  {
   "cell_type": "code",
   "execution_count": 73,
   "metadata": {},
   "outputs": [],
   "source": [
    "df_union = df_union.rename(columns = {'Dato':'DATO'})"
   ]
  },
  {
   "cell_type": "markdown",
   "metadata": {},
   "source": [
    "Dropeamos columnas que no nos sirven"
   ]
  },
  {
   "cell_type": "code",
   "execution_count": 74,
   "metadata": {},
   "outputs": [],
   "source": [
    "df_export = df_union.drop(columns=['IDCLIENTE'], axis=0)"
   ]
  },
  {
   "cell_type": "code",
   "execution_count": 75,
   "metadata": {
    "scrolled": true
   },
   "outputs": [],
   "source": [
    "df_export = df_export[['IDMOROSO', 'TIPO_DOC','NRO_DOC','CUIT_CUIL','TIPO','SUBTIPO','DATO','PROPIETARIO_DATO','PROVEEDOR_DATO','FECHA_INGRESO_DATO','VERIFICADO','FECHA_VERIFICACION','OPERADOR_VERIFICACION','SCORE_DATO']]"
   ]
  },
  {
   "cell_type": "code",
   "execution_count": 76,
   "metadata": {},
   "outputs": [
    {
     "data": {
      "text/html": [
       "<div>\n",
       "<style scoped>\n",
       "    .dataframe tbody tr th:only-of-type {\n",
       "        vertical-align: middle;\n",
       "    }\n",
       "\n",
       "    .dataframe tbody tr th {\n",
       "        vertical-align: top;\n",
       "    }\n",
       "\n",
       "    .dataframe thead th {\n",
       "        text-align: right;\n",
       "    }\n",
       "</style>\n",
       "<table border=\"1\" class=\"dataframe\">\n",
       "  <thead>\n",
       "    <tr style=\"text-align: right;\">\n",
       "      <th></th>\n",
       "      <th>IDMOROSO</th>\n",
       "      <th>TIPO_DOC</th>\n",
       "      <th>NRO_DOC</th>\n",
       "      <th>CUIT_CUIL</th>\n",
       "      <th>TIPO</th>\n",
       "      <th>SUBTIPO</th>\n",
       "      <th>DATO</th>\n",
       "      <th>PROPIETARIO_DATO</th>\n",
       "      <th>PROVEEDOR_DATO</th>\n",
       "      <th>FECHA_INGRESO_DATO</th>\n",
       "      <th>VERIFICADO</th>\n",
       "      <th>FECHA_VERIFICACION</th>\n",
       "      <th>OPERADOR_VERIFICACION</th>\n",
       "      <th>SCORE_DATO</th>\n",
       "    </tr>\n",
       "  </thead>\n",
       "  <tbody>\n",
       "    <tr>\n",
       "      <th>0</th>\n",
       "      <td>DNI 20346688</td>\n",
       "      <td>DNI</td>\n",
       "      <td>20346688</td>\n",
       "      <td>27203466884</td>\n",
       "      <td>EMAIL</td>\n",
       "      <td>PERSONAL</td>\n",
       "      <td>sandisanagustin@hotmail.com.ar</td>\n",
       "      <td>Propio</td>\n",
       "      <td>AD</td>\n",
       "      <td>2021-02-25 10:40:48.251236</td>\n",
       "      <td>0</td>\n",
       "      <td>NaN</td>\n",
       "      <td>NaN</td>\n",
       "      <td>2.0</td>\n",
       "    </tr>\n",
       "    <tr>\n",
       "      <th>1</th>\n",
       "      <td>DNI 30231411</td>\n",
       "      <td>DNI</td>\n",
       "      <td>30231411</td>\n",
       "      <td>27302314115</td>\n",
       "      <td>EMAIL</td>\n",
       "      <td>PERSONAL</td>\n",
       "      <td>marielagroh@hotmail.com</td>\n",
       "      <td>Propio</td>\n",
       "      <td>AD</td>\n",
       "      <td>2021-02-25 10:40:48.251236</td>\n",
       "      <td>0</td>\n",
       "      <td>NaN</td>\n",
       "      <td>NaN</td>\n",
       "      <td>2.0</td>\n",
       "    </tr>\n",
       "    <tr>\n",
       "      <th>2</th>\n",
       "      <td>DNI 30231411</td>\n",
       "      <td>DNI</td>\n",
       "      <td>30231411</td>\n",
       "      <td>27302314115</td>\n",
       "      <td>EMAIL</td>\n",
       "      <td>PERSONAL</td>\n",
       "      <td>asi.soii@live.com.ar</td>\n",
       "      <td>Ajeno_empleador</td>\n",
       "      <td>AD</td>\n",
       "      <td>2021-02-25 10:40:48.251236</td>\n",
       "      <td>0</td>\n",
       "      <td>NaN</td>\n",
       "      <td>NaN</td>\n",
       "      <td>2.0</td>\n",
       "    </tr>\n",
       "    <tr>\n",
       "      <th>3</th>\n",
       "      <td>DNI 31380894</td>\n",
       "      <td>DNI</td>\n",
       "      <td>31380894</td>\n",
       "      <td>20313808948</td>\n",
       "      <td>EMAIL</td>\n",
       "      <td>PERSONAL</td>\n",
       "      <td>lespagnollo@hotmail.com</td>\n",
       "      <td>Propio</td>\n",
       "      <td>AD</td>\n",
       "      <td>2021-02-25 10:40:48.251236</td>\n",
       "      <td>0</td>\n",
       "      <td>NaN</td>\n",
       "      <td>NaN</td>\n",
       "      <td>2.0</td>\n",
       "    </tr>\n",
       "    <tr>\n",
       "      <th>4</th>\n",
       "      <td>DNI 32798642</td>\n",
       "      <td>DNI</td>\n",
       "      <td>32798642</td>\n",
       "      <td>27327986428</td>\n",
       "      <td>EMAIL</td>\n",
       "      <td>PERSONAL</td>\n",
       "      <td>santiniescalada@hotmail.com</td>\n",
       "      <td>Propio</td>\n",
       "      <td>AD</td>\n",
       "      <td>2021-02-25 10:40:48.251236</td>\n",
       "      <td>0</td>\n",
       "      <td>NaN</td>\n",
       "      <td>NaN</td>\n",
       "      <td>2.0</td>\n",
       "    </tr>\n",
       "  </tbody>\n",
       "</table>\n",
       "</div>"
      ],
      "text/plain": [
       "             IDMOROSO TIPO_DOC   NRO_DOC    CUIT_CUIL   TIPO   SUBTIPO  \\\n",
       "0  DNI 20346688            DNI  20346688  27203466884  EMAIL  PERSONAL   \n",
       "1  DNI 30231411            DNI  30231411  27302314115  EMAIL  PERSONAL   \n",
       "2  DNI 30231411            DNI  30231411  27302314115  EMAIL  PERSONAL   \n",
       "3  DNI 31380894            DNI  31380894  20313808948  EMAIL  PERSONAL   \n",
       "4  DNI 32798642            DNI  32798642  27327986428  EMAIL  PERSONAL   \n",
       "\n",
       "                             DATO PROPIETARIO_DATO PROVEEDOR_DATO  \\\n",
       "0  sandisanagustin@hotmail.com.ar           Propio             AD   \n",
       "1         marielagroh@hotmail.com           Propio             AD   \n",
       "2            asi.soii@live.com.ar  Ajeno_empleador             AD   \n",
       "3         lespagnollo@hotmail.com           Propio             AD   \n",
       "4     santiniescalada@hotmail.com           Propio             AD   \n",
       "\n",
       "          FECHA_INGRESO_DATO  VERIFICADO  FECHA_VERIFICACION  \\\n",
       "0 2021-02-25 10:40:48.251236           0                 NaN   \n",
       "1 2021-02-25 10:40:48.251236           0                 NaN   \n",
       "2 2021-02-25 10:40:48.251236           0                 NaN   \n",
       "3 2021-02-25 10:40:48.251236           0                 NaN   \n",
       "4 2021-02-25 10:40:48.251236           0                 NaN   \n",
       "\n",
       "   OPERADOR_VERIFICACION  SCORE_DATO  \n",
       "0                    NaN         2.0  \n",
       "1                    NaN         2.0  \n",
       "2                    NaN         2.0  \n",
       "3                    NaN         2.0  \n",
       "4                    NaN         2.0  "
      ]
     },
     "execution_count": 76,
     "metadata": {},
     "output_type": "execute_result"
    }
   ],
   "source": [
    "df_export.head()"
   ]
  },
  {
   "cell_type": "code",
   "execution_count": 77,
   "metadata": {
    "scrolled": true
   },
   "outputs": [
    {
     "data": {
      "text/plain": [
       "(37, 14)"
      ]
     },
     "execution_count": 77,
     "metadata": {},
     "output_type": "execute_result"
    }
   ],
   "source": [
    "df_export.shape"
   ]
  },
  {
   "cell_type": "markdown",
   "metadata": {},
   "source": [
    "Número a str para no tener problemas con la inserción"
   ]
  },
  {
   "cell_type": "code",
   "execution_count": 78,
   "metadata": {},
   "outputs": [],
   "source": [
    "df_export['CUIT_CUIL'] = [(str(int(round(df_export['CUIT_CUIL'][i],0)))) for i in range (df_export['CUIT_CUIL'].count())]"
   ]
  },
  {
   "cell_type": "code",
   "execution_count": 79,
   "metadata": {},
   "outputs": [
    {
     "data": {
      "text/html": [
       "<div>\n",
       "<style scoped>\n",
       "    .dataframe tbody tr th:only-of-type {\n",
       "        vertical-align: middle;\n",
       "    }\n",
       "\n",
       "    .dataframe tbody tr th {\n",
       "        vertical-align: top;\n",
       "    }\n",
       "\n",
       "    .dataframe thead th {\n",
       "        text-align: right;\n",
       "    }\n",
       "</style>\n",
       "<table border=\"1\" class=\"dataframe\">\n",
       "  <thead>\n",
       "    <tr style=\"text-align: right;\">\n",
       "      <th></th>\n",
       "      <th>IDMOROSO</th>\n",
       "      <th>TIPO_DOC</th>\n",
       "      <th>NRO_DOC</th>\n",
       "      <th>CUIT_CUIL</th>\n",
       "      <th>TIPO</th>\n",
       "      <th>SUBTIPO</th>\n",
       "      <th>DATO</th>\n",
       "      <th>PROPIETARIO_DATO</th>\n",
       "      <th>PROVEEDOR_DATO</th>\n",
       "      <th>FECHA_INGRESO_DATO</th>\n",
       "      <th>VERIFICADO</th>\n",
       "      <th>FECHA_VERIFICACION</th>\n",
       "      <th>OPERADOR_VERIFICACION</th>\n",
       "      <th>SCORE_DATO</th>\n",
       "    </tr>\n",
       "  </thead>\n",
       "  <tbody>\n",
       "    <tr>\n",
       "      <th>32</th>\n",
       "      <td>DNI 43175319</td>\n",
       "      <td>DNI</td>\n",
       "      <td>43175319</td>\n",
       "      <td>27431753192</td>\n",
       "      <td>EMAIL</td>\n",
       "      <td>PERSONAL</td>\n",
       "      <td>antocastro_la22@hotmail.com</td>\n",
       "      <td>Ajeno_empleador</td>\n",
       "      <td>AD</td>\n",
       "      <td>2021-02-25 10:40:48.251236</td>\n",
       "      <td>0</td>\n",
       "      <td>NaN</td>\n",
       "      <td>NaN</td>\n",
       "      <td>2.0</td>\n",
       "    </tr>\n",
       "    <tr>\n",
       "      <th>33</th>\n",
       "      <td>DNI 43387981</td>\n",
       "      <td>DNI</td>\n",
       "      <td>43387981</td>\n",
       "      <td>27433879819</td>\n",
       "      <td>EMAIL</td>\n",
       "      <td>PERSONAL</td>\n",
       "      <td>ale_paez@hotmail.com</td>\n",
       "      <td>Ajeno_empleador</td>\n",
       "      <td>AD</td>\n",
       "      <td>2021-02-25 10:40:48.251236</td>\n",
       "      <td>0</td>\n",
       "      <td>NaN</td>\n",
       "      <td>NaN</td>\n",
       "      <td>2.0</td>\n",
       "    </tr>\n",
       "    <tr>\n",
       "      <th>34</th>\n",
       "      <td>DNIE95634665</td>\n",
       "      <td>DNI</td>\n",
       "      <td>95634665</td>\n",
       "      <td>27956346652</td>\n",
       "      <td>EMAIL</td>\n",
       "      <td>PERSONAL</td>\n",
       "      <td>brufatime@gmail.com</td>\n",
       "      <td>Ajeno_empleador</td>\n",
       "      <td>AD</td>\n",
       "      <td>2021-02-25 10:40:48.251236</td>\n",
       "      <td>0</td>\n",
       "      <td>NaN</td>\n",
       "      <td>NaN</td>\n",
       "      <td>2.0</td>\n",
       "    </tr>\n",
       "    <tr>\n",
       "      <th>35</th>\n",
       "      <td>DNIE95698936</td>\n",
       "      <td>DNI</td>\n",
       "      <td>95698936</td>\n",
       "      <td>20956989362</td>\n",
       "      <td>EMAIL</td>\n",
       "      <td>PERSONAL</td>\n",
       "      <td>pbn@hotmail.com.ar</td>\n",
       "      <td>Ajeno_empleador</td>\n",
       "      <td>AD</td>\n",
       "      <td>2021-02-25 10:40:48.251236</td>\n",
       "      <td>0</td>\n",
       "      <td>NaN</td>\n",
       "      <td>NaN</td>\n",
       "      <td>2.0</td>\n",
       "    </tr>\n",
       "    <tr>\n",
       "      <th>36</th>\n",
       "      <td>DNI 42029537</td>\n",
       "      <td>DNI</td>\n",
       "      <td>42029537</td>\n",
       "      <td>20420295376</td>\n",
       "      <td>EMAIL</td>\n",
       "      <td>PERSONAL</td>\n",
       "      <td>sergiokdk1@hotmail.com</td>\n",
       "      <td>Ajeno_familiar</td>\n",
       "      <td>AD</td>\n",
       "      <td>2021-02-25 10:40:48.251236</td>\n",
       "      <td>0</td>\n",
       "      <td>NaN</td>\n",
       "      <td>NaN</td>\n",
       "      <td>2.0</td>\n",
       "    </tr>\n",
       "  </tbody>\n",
       "</table>\n",
       "</div>"
      ],
      "text/plain": [
       "              IDMOROSO TIPO_DOC   NRO_DOC    CUIT_CUIL   TIPO   SUBTIPO  \\\n",
       "32  DNI 43175319            DNI  43175319  27431753192  EMAIL  PERSONAL   \n",
       "33  DNI 43387981            DNI  43387981  27433879819  EMAIL  PERSONAL   \n",
       "34  DNIE95634665            DNI  95634665  27956346652  EMAIL  PERSONAL   \n",
       "35  DNIE95698936            DNI  95698936  20956989362  EMAIL  PERSONAL   \n",
       "36  DNI 42029537            DNI  42029537  20420295376  EMAIL  PERSONAL   \n",
       "\n",
       "                           DATO PROPIETARIO_DATO PROVEEDOR_DATO  \\\n",
       "32  antocastro_la22@hotmail.com  Ajeno_empleador             AD   \n",
       "33         ale_paez@hotmail.com  Ajeno_empleador             AD   \n",
       "34          brufatime@gmail.com  Ajeno_empleador             AD   \n",
       "35           pbn@hotmail.com.ar  Ajeno_empleador             AD   \n",
       "36       sergiokdk1@hotmail.com   Ajeno_familiar             AD   \n",
       "\n",
       "           FECHA_INGRESO_DATO  VERIFICADO  FECHA_VERIFICACION  \\\n",
       "32 2021-02-25 10:40:48.251236           0                 NaN   \n",
       "33 2021-02-25 10:40:48.251236           0                 NaN   \n",
       "34 2021-02-25 10:40:48.251236           0                 NaN   \n",
       "35 2021-02-25 10:40:48.251236           0                 NaN   \n",
       "36 2021-02-25 10:40:48.251236           0                 NaN   \n",
       "\n",
       "    OPERADOR_VERIFICACION  SCORE_DATO  \n",
       "32                    NaN         2.0  \n",
       "33                    NaN         2.0  \n",
       "34                    NaN         2.0  \n",
       "35                    NaN         2.0  \n",
       "36                    NaN         2.0  "
      ]
     },
     "execution_count": 79,
     "metadata": {},
     "output_type": "execute_result"
    }
   ],
   "source": [
    "df_export.tail()"
   ]
  },
  {
   "cell_type": "markdown",
   "metadata": {},
   "source": [
    "Dropeamos filas duplicadas"
   ]
  },
  {
   "cell_type": "code",
   "execution_count": 80,
   "metadata": {},
   "outputs": [],
   "source": [
    "df_export = df_export.drop_duplicates()"
   ]
  },
  {
   "cell_type": "code",
   "execution_count": 81,
   "metadata": {},
   "outputs": [
    {
     "data": {
      "text/plain": [
       "(37, 14)"
      ]
     },
     "execution_count": 81,
     "metadata": {},
     "output_type": "execute_result"
    }
   ],
   "source": [
    "df_export.shape"
   ]
  },
  {
   "cell_type": "markdown",
   "metadata": {},
   "source": [
    "## Dato a str + strip()"
   ]
  },
  {
   "cell_type": "code",
   "execution_count": 82,
   "metadata": {},
   "outputs": [],
   "source": [
    "df_export ['DATO'] = df_export['DATO'].str.strip()"
   ]
  },
  {
   "cell_type": "markdown",
   "metadata": {},
   "source": [
    "# Revisión de duplicados"
   ]
  },
  {
   "cell_type": "code",
   "execution_count": 83,
   "metadata": {},
   "outputs": [],
   "source": [
    "duplicates_subset = df_export[df_export.duplicated(subset=['IDMOROSO','DATO','PROVEEDOR_DATO'],keep=False)]"
   ]
  },
  {
   "cell_type": "code",
   "execution_count": 84,
   "metadata": {
    "scrolled": true
   },
   "outputs": [
    {
     "data": {
      "text/html": [
       "<div>\n",
       "<style scoped>\n",
       "    .dataframe tbody tr th:only-of-type {\n",
       "        vertical-align: middle;\n",
       "    }\n",
       "\n",
       "    .dataframe tbody tr th {\n",
       "        vertical-align: top;\n",
       "    }\n",
       "\n",
       "    .dataframe thead th {\n",
       "        text-align: right;\n",
       "    }\n",
       "</style>\n",
       "<table border=\"1\" class=\"dataframe\">\n",
       "  <thead>\n",
       "    <tr style=\"text-align: right;\">\n",
       "      <th></th>\n",
       "      <th>IDMOROSO</th>\n",
       "      <th>TIPO_DOC</th>\n",
       "      <th>NRO_DOC</th>\n",
       "      <th>CUIT_CUIL</th>\n",
       "      <th>TIPO</th>\n",
       "      <th>SUBTIPO</th>\n",
       "      <th>DATO</th>\n",
       "      <th>PROPIETARIO_DATO</th>\n",
       "      <th>PROVEEDOR_DATO</th>\n",
       "      <th>FECHA_INGRESO_DATO</th>\n",
       "      <th>VERIFICADO</th>\n",
       "      <th>FECHA_VERIFICACION</th>\n",
       "      <th>OPERADOR_VERIFICACION</th>\n",
       "      <th>SCORE_DATO</th>\n",
       "    </tr>\n",
       "  </thead>\n",
       "  <tbody>\n",
       "  </tbody>\n",
       "</table>\n",
       "</div>"
      ],
      "text/plain": [
       "Empty DataFrame\n",
       "Columns: [IDMOROSO, TIPO_DOC, NRO_DOC, CUIT_CUIL, TIPO, SUBTIPO, DATO, PROPIETARIO_DATO, PROVEEDOR_DATO, FECHA_INGRESO_DATO, VERIFICADO, FECHA_VERIFICACION, OPERADOR_VERIFICACION, SCORE_DATO]\n",
       "Index: []"
      ]
     },
     "execution_count": 84,
     "metadata": {},
     "output_type": "execute_result"
    }
   ],
   "source": [
    "duplicates_subset"
   ]
  },
  {
   "cell_type": "code",
   "execution_count": 85,
   "metadata": {
    "scrolled": true
   },
   "outputs": [
    {
     "data": {
      "text/plain": [
       "(0, 14)"
      ]
     },
     "execution_count": 85,
     "metadata": {},
     "output_type": "execute_result"
    }
   ],
   "source": [
    "duplicates_subset.shape"
   ]
  },
  {
   "cell_type": "markdown",
   "metadata": {},
   "source": [
    "No tenemos duplicados en IDMOROSO, DATO, PROVEEDOR"
   ]
  },
  {
   "cell_type": "code",
   "execution_count": 86,
   "metadata": {},
   "outputs": [
    {
     "data": {
      "text/plain": [
       "(37, 14)"
      ]
     },
     "execution_count": 86,
     "metadata": {},
     "output_type": "execute_result"
    }
   ],
   "source": [
    "df_export.shape"
   ]
  },
  {
   "cell_type": "markdown",
   "metadata": {},
   "source": [
    "## 14.1) Export de dataframe + IDCLIENTE para análisis"
   ]
  },
  {
   "cell_type": "code",
   "execution_count": 87,
   "metadata": {},
   "outputs": [],
   "source": [
    "#df_union.to_excel('D:/MOPC/Enriquecimiento de Datos/Data Cleaning/PyP/Exports/Mails para analisis/PyP_mails_1401.xlsx')\n",
    "#df_union.to_csv('D:/MOPC/Enriquecimiento de Datos/Data Cleaning/PyP/Exports/Mails para analisis/PyP_mails_1401.csv')"
   ]
  },
  {
   "cell_type": "markdown",
   "metadata": {},
   "source": [
    "## 14.2) Insert a tabla DAM_CONTACTABILIDAD:"
   ]
  },
  {
   "cell_type": "code",
   "execution_count": 88,
   "metadata": {},
   "outputs": [],
   "source": [
    "df_export.to_csv('/mnt/c/users/Dleg/Data/MOPC/MOPC/Enriquecimiento de Datos/Data Cleaning/Insiders/Exports/DAM_CONTACTABILIDAD/Insiders_DAM_CONTACTABILIDAD_mails_2502.csv',index=False)"
   ]
  },
  {
   "cell_type": "code",
   "execution_count": null,
   "metadata": {},
   "outputs": [],
   "source": []
  }
 ],
 "metadata": {
  "kernelspec": {
   "display_name": "Python 3",
   "language": "python",
   "name": "python3"
  },
  "language_info": {
   "codemirror_mode": {
    "name": "ipython",
    "version": 3
   },
   "file_extension": ".py",
   "mimetype": "text/x-python",
   "name": "python",
   "nbconvert_exporter": "python",
   "pygments_lexer": "ipython3",
   "version": "3.8.6"
  }
 },
 "nbformat": 4,
 "nbformat_minor": 4
}
