{
 "cells": [
  {
   "cell_type": "code",
   "execution_count": 1,
   "metadata": {},
   "outputs": [],
   "source": [
    "import pandas as pd\n",
    "import numpy as np"
   ]
  },
  {
   "cell_type": "markdown",
   "metadata": {},
   "source": [
    "# LOG"
   ]
  },
  {
   "cell_type": "markdown",
   "metadata": {},
   "source": [
    "# 1. Datos enviados"
   ]
  },
  {
   "cell_type": "code",
   "execution_count": 2,
   "metadata": {},
   "outputs": [],
   "source": [
    "df_log = pd.read_csv('/mnt/c/users/Dleg/Data/MOPC/MOPC/Enriquecimiento de Datos/Data Cleaning/Contacto Directo/Datasets/Datasets enviados/cartera_completa_estado_idcliente - 0103.csv')"
   ]
  },
  {
   "cell_type": "code",
   "execution_count": 3,
   "metadata": {
    "scrolled": true
   },
   "outputs": [
    {
     "data": {
      "text/html": [
       "<div>\n",
       "<style scoped>\n",
       "    .dataframe tbody tr th:only-of-type {\n",
       "        vertical-align: middle;\n",
       "    }\n",
       "\n",
       "    .dataframe tbody tr th {\n",
       "        vertical-align: top;\n",
       "    }\n",
       "\n",
       "    .dataframe thead th {\n",
       "        text-align: right;\n",
       "    }\n",
       "</style>\n",
       "<table border=\"1\" class=\"dataframe\">\n",
       "  <thead>\n",
       "    <tr style=\"text-align: right;\">\n",
       "      <th></th>\n",
       "      <th>IDMOROSO</th>\n",
       "      <th>DATOADIC</th>\n",
       "      <th>NOMBRE</th>\n",
       "      <th>IDCLIENTE</th>\n",
       "      <th>ESTADO</th>\n",
       "      <th>DNI</th>\n",
       "    </tr>\n",
       "  </thead>\n",
       "  <tbody>\n",
       "    <tr>\n",
       "      <th>0</th>\n",
       "      <td>CUIT20115091280</td>\n",
       "      <td></td>\n",
       "      <td>SUCESION DE CAISUTTI MIGUEL</td>\n",
       "      <td>BSR_TARDIA</td>\n",
       "      <td>SKIP LEVEL 2</td>\n",
       "      <td>CUIT20115091280</td>\n",
       "    </tr>\n",
       "    <tr>\n",
       "      <th>1</th>\n",
       "      <td>CUIT30500181547</td>\n",
       "      <td></td>\n",
       "      <td>LITOGRAFIA CUYO SA</td>\n",
       "      <td>BSR_TARDIA</td>\n",
       "      <td>PROBLEMA</td>\n",
       "      <td>CUIT30500181547</td>\n",
       "    </tr>\n",
       "    <tr>\n",
       "      <th>2</th>\n",
       "      <td>CUIT30501109041</td>\n",
       "      <td></td>\n",
       "      <td>EMEGE SA</td>\n",
       "      <td>BSR_TARDIA</td>\n",
       "      <td>NO UBICADO</td>\n",
       "      <td>CUIT30501109041</td>\n",
       "    </tr>\n",
       "    <tr>\n",
       "      <th>3</th>\n",
       "      <td>CUIT30502016373</td>\n",
       "      <td></td>\n",
       "      <td>IATILO SA</td>\n",
       "      <td>BSR_TARDIA</td>\n",
       "      <td>NO UBICADO</td>\n",
       "      <td>CUIT30502016373</td>\n",
       "    </tr>\n",
       "    <tr>\n",
       "      <th>4</th>\n",
       "      <td>CUIT30502766917</td>\n",
       "      <td></td>\n",
       "      <td>MAZTER INDUSTR MADERIL SACIFI</td>\n",
       "      <td>BSR_TARDIA</td>\n",
       "      <td>INTERESADO_MOPCPAGOS</td>\n",
       "      <td>CUIT30502766917</td>\n",
       "    </tr>\n",
       "  </tbody>\n",
       "</table>\n",
       "</div>"
      ],
      "text/plain": [
       "             IDMOROSO                        DATOADIC  \\\n",
       "0  CUIT20115091280                                      \n",
       "1  CUIT30500181547                                      \n",
       "2  CUIT30501109041                                      \n",
       "3  CUIT30502016373                                      \n",
       "4  CUIT30502766917                                      \n",
       "\n",
       "                                     NOMBRE             IDCLIENTE  \\\n",
       "0  SUCESION DE CAISUTTI MIGUEL               BSR_TARDIA             \n",
       "1  LITOGRAFIA CUYO SA                        BSR_TARDIA             \n",
       "2  EMEGE SA                                  BSR_TARDIA             \n",
       "3  IATILO SA                                 BSR_TARDIA             \n",
       "4  MAZTER INDUSTR MADERIL SACIFI             BSR_TARDIA             \n",
       "\n",
       "                 ESTADO                             DNI  \n",
       "0  SKIP LEVEL 2          CUIT20115091280                 \n",
       "1  PROBLEMA              CUIT30500181547                 \n",
       "2  NO UBICADO            CUIT30501109041                 \n",
       "3  NO UBICADO            CUIT30502016373                 \n",
       "4  INTERESADO_MOPCPAGOS  CUIT30502766917                 "
      ]
     },
     "execution_count": 3,
     "metadata": {},
     "output_type": "execute_result"
    }
   ],
   "source": [
    "df_log.head()"
   ]
  },
  {
   "cell_type": "code",
   "execution_count": 4,
   "metadata": {},
   "outputs": [],
   "source": [
    "df_log = df_log.rename(columns={\"ESTADO\": \"ESTADO_ANTERIOR\"})"
   ]
  },
  {
   "cell_type": "code",
   "execution_count": 5,
   "metadata": {},
   "outputs": [],
   "source": [
    "#df_log = df_log [['IDMOROSO','IDCLIENTE','DATOADIC','ESTADO_ANTERIOR']]\n",
    "df_log = df_log [['IDMOROSO','IDCLIENTE','ESTADO_ANTERIOR','DNI']]"
   ]
  },
  {
   "cell_type": "code",
   "execution_count": 6,
   "metadata": {},
   "outputs": [],
   "source": [
    "fecha_envio_log = '2021-02-23'"
   ]
  },
  {
   "cell_type": "code",
   "execution_count": 7,
   "metadata": {},
   "outputs": [],
   "source": [
    "fecha_insercion_log = '2021-03-02'"
   ]
  },
  {
   "cell_type": "code",
   "execution_count": 8,
   "metadata": {},
   "outputs": [],
   "source": [
    "fecha_estados_log = '2021-03-02'"
   ]
  },
  {
   "cell_type": "code",
   "execution_count": 9,
   "metadata": {},
   "outputs": [],
   "source": [
    "df_log = df_log.assign(FECHA_ENVIO_ENRIQUECIMIENTO=fecha_envio_log)"
   ]
  },
  {
   "cell_type": "code",
   "execution_count": 10,
   "metadata": {},
   "outputs": [],
   "source": [
    "df_log = df_log.assign(FECHA_INSERCION_DATO=fecha_insercion_log)"
   ]
  },
  {
   "cell_type": "code",
   "execution_count": 11,
   "metadata": {},
   "outputs": [],
   "source": [
    "df_log = df_log.assign(FECHA_CAMBIO_ESTADO=fecha_estados_log)"
   ]
  },
  {
   "cell_type": "code",
   "execution_count": 12,
   "metadata": {
    "scrolled": true
   },
   "outputs": [
    {
     "data": {
      "text/html": [
       "<div>\n",
       "<style scoped>\n",
       "    .dataframe tbody tr th:only-of-type {\n",
       "        vertical-align: middle;\n",
       "    }\n",
       "\n",
       "    .dataframe tbody tr th {\n",
       "        vertical-align: top;\n",
       "    }\n",
       "\n",
       "    .dataframe thead th {\n",
       "        text-align: right;\n",
       "    }\n",
       "</style>\n",
       "<table border=\"1\" class=\"dataframe\">\n",
       "  <thead>\n",
       "    <tr style=\"text-align: right;\">\n",
       "      <th></th>\n",
       "      <th>IDMOROSO</th>\n",
       "      <th>IDCLIENTE</th>\n",
       "      <th>ESTADO_ANTERIOR</th>\n",
       "      <th>DNI</th>\n",
       "      <th>FECHA_ENVIO_ENRIQUECIMIENTO</th>\n",
       "      <th>FECHA_INSERCION_DATO</th>\n",
       "      <th>FECHA_CAMBIO_ESTADO</th>\n",
       "    </tr>\n",
       "  </thead>\n",
       "  <tbody>\n",
       "    <tr>\n",
       "      <th>0</th>\n",
       "      <td>CUIT20115091280</td>\n",
       "      <td>BSR_TARDIA</td>\n",
       "      <td>SKIP LEVEL 2</td>\n",
       "      <td>CUIT20115091280</td>\n",
       "      <td>2021-02-23</td>\n",
       "      <td>2021-03-02</td>\n",
       "      <td>2021-03-02</td>\n",
       "    </tr>\n",
       "    <tr>\n",
       "      <th>1</th>\n",
       "      <td>CUIT30500181547</td>\n",
       "      <td>BSR_TARDIA</td>\n",
       "      <td>PROBLEMA</td>\n",
       "      <td>CUIT30500181547</td>\n",
       "      <td>2021-02-23</td>\n",
       "      <td>2021-03-02</td>\n",
       "      <td>2021-03-02</td>\n",
       "    </tr>\n",
       "    <tr>\n",
       "      <th>2</th>\n",
       "      <td>CUIT30501109041</td>\n",
       "      <td>BSR_TARDIA</td>\n",
       "      <td>NO UBICADO</td>\n",
       "      <td>CUIT30501109041</td>\n",
       "      <td>2021-02-23</td>\n",
       "      <td>2021-03-02</td>\n",
       "      <td>2021-03-02</td>\n",
       "    </tr>\n",
       "    <tr>\n",
       "      <th>3</th>\n",
       "      <td>CUIT30502016373</td>\n",
       "      <td>BSR_TARDIA</td>\n",
       "      <td>NO UBICADO</td>\n",
       "      <td>CUIT30502016373</td>\n",
       "      <td>2021-02-23</td>\n",
       "      <td>2021-03-02</td>\n",
       "      <td>2021-03-02</td>\n",
       "    </tr>\n",
       "    <tr>\n",
       "      <th>4</th>\n",
       "      <td>CUIT30502766917</td>\n",
       "      <td>BSR_TARDIA</td>\n",
       "      <td>INTERESADO_MOPCPAGOS</td>\n",
       "      <td>CUIT30502766917</td>\n",
       "      <td>2021-02-23</td>\n",
       "      <td>2021-03-02</td>\n",
       "      <td>2021-03-02</td>\n",
       "    </tr>\n",
       "  </tbody>\n",
       "</table>\n",
       "</div>"
      ],
      "text/plain": [
       "             IDMOROSO             IDCLIENTE       ESTADO_ANTERIOR  \\\n",
       "0  CUIT20115091280     BSR_TARDIA            SKIP LEVEL 2           \n",
       "1  CUIT30500181547     BSR_TARDIA            PROBLEMA               \n",
       "2  CUIT30501109041     BSR_TARDIA            NO UBICADO             \n",
       "3  CUIT30502016373     BSR_TARDIA            NO UBICADO             \n",
       "4  CUIT30502766917     BSR_TARDIA            INTERESADO_MOPCPAGOS   \n",
       "\n",
       "                              DNI FECHA_ENVIO_ENRIQUECIMIENTO  \\\n",
       "0  CUIT20115091280                                 2021-02-23   \n",
       "1  CUIT30500181547                                 2021-02-23   \n",
       "2  CUIT30501109041                                 2021-02-23   \n",
       "3  CUIT30502016373                                 2021-02-23   \n",
       "4  CUIT30502766917                                 2021-02-23   \n",
       "\n",
       "  FECHA_INSERCION_DATO FECHA_CAMBIO_ESTADO  \n",
       "0           2021-03-02          2021-03-02  \n",
       "1           2021-03-02          2021-03-02  \n",
       "2           2021-03-02          2021-03-02  \n",
       "3           2021-03-02          2021-03-02  \n",
       "4           2021-03-02          2021-03-02  "
      ]
     },
     "execution_count": 12,
     "metadata": {},
     "output_type": "execute_result"
    }
   ],
   "source": [
    "df_log.head()"
   ]
  },
  {
   "cell_type": "code",
   "execution_count": 13,
   "metadata": {},
   "outputs": [],
   "source": [
    "df_log = df_log.assign(PROVEEDOR='CD')"
   ]
  },
  {
   "cell_type": "code",
   "execution_count": 14,
   "metadata": {},
   "outputs": [],
   "source": [
    "df_log['ESTADO_ANTERIOR'] = [(str(df_log['ESTADO_ANTERIOR'][i]).strip()) for i in range (df_log['ESTADO_ANTERIOR'].count())]"
   ]
  },
  {
   "cell_type": "code",
   "execution_count": 15,
   "metadata": {},
   "outputs": [],
   "source": [
    "df_log.loc[(df_log['ESTADO_ANTERIOR'] == 'INTERESADO') | \n",
    "           (df_log['ESTADO_ANTERIOR'] == 'NO VISTO') | \n",
    "           (df_log['ESTADO_ANTERIOR'] == 'EN GESTION') |\n",
    "           (df_log['ESTADO_ANTERIOR'] == 'ASIGNADO') |\n",
    "           (df_log['ESTADO_ANTERIOR'] == 'ROTACION') |\n",
    "           (df_log['ESTADO_ANTERIOR'] == 'ASIGNADO') |\n",
    "           (df_log['ESTADO_ANTERIOR'] == 'PLAN V') |\n",
    "           (df_log['ESTADO_ANTERIOR'] == 'NO INTERESADO') |\n",
    "           (df_log['ESTADO_ANTERIOR'] == 'ACUERDO CAIDO') |\n",
    "           (df_log['ESTADO_ANTERIOR'] == 'CANCELO_RECHAZADA') \n",
    "           , 'CATEGORIA'] = 'NEUTRO'"
   ]
  },
  {
   "cell_type": "code",
   "execution_count": 16,
   "metadata": {},
   "outputs": [],
   "source": [
    "df_log.loc[(df_log['ESTADO_ANTERIOR'] == 'NO UBICADO') | \n",
    "           (df_log['ESTADO_ANTERIOR'] == 'SKIP LEVEL') |\n",
    "           (df_log['ESTADO_ANTERIOR'] == 'SKIP LEVEL 1') |\n",
    "           (df_log['ESTADO_ANTERIOR'] == 'SKIP LEVEL 1 OK') |\n",
    "           (df_log['ESTADO_ANTERIOR'] == 'SKIP LEVEL 2') |\n",
    "           (df_log['ESTADO_ANTERIOR'] == 'SKIP LEVEL 3') |\n",
    "           (df_log['ESTADO_ANTERIOR'] == 'SKIP LEVEL 3 OK') |\n",
    "           (df_log['ESTADO_ANTERIOR'] == 'SKIP LEVEL3 OK') |\n",
    "           (df_log['ESTADO_ANTERIOR'] == 'SKIP LEVEL1 OK') |\n",
    "           (df_log['ESTADO_ANTERIOR'] == 'SKIP LEVEL1') |\n",
    "           (df_log['ESTADO_ANTERIOR'] == 'NO_VISTO_CONTACTABLE') |\n",
    "           (df_log['ESTADO_ANTERIOR'] == 'NO_VISTO_MASIVO') \n",
    "           , 'CATEGORIA'] = 'NEGATIVO POR CONTACTABILIDAD'"
   ]
  },
  {
   "cell_type": "code",
   "execution_count": 17,
   "metadata": {},
   "outputs": [],
   "source": [
    "df_log.loc[(df_log['ESTADO_ANTERIOR'] == 'PAGO PARCIAL') | \n",
    "           (df_log['ESTADO_ANTERIOR'] == 'PLAN DE PAGOS') |\n",
    "           (df_log['ESTADO_ANTERIOR'] == 'POSIBLE REFI') |\n",
    "           (df_log['ESTADO_ANTERIOR'] == 'REFINANCIACION') |\n",
    "           (df_log['ESTADO_ANTERIOR'] == 'PROPUESTA') |\n",
    "           (df_log['ESTADO_ANTERIOR'] == 'PROPUESTA OK') |\n",
    "           (df_log['ESTADO_ANTERIOR'] == 'COMPROMISO') |\n",
    "           (df_log['ESTADO_ANTERIOR'] == 'CANCELO') |\n",
    "           (df_log['ESTADO_ANTERIOR'] == 'CANCELO_DEVUELTO') |\n",
    "           (df_log['ESTADO_ANTERIOR'] == 'CANCELO DEVUELTO') |\n",
    "           (df_log['ESTADO_ANTERIOR'] == 'CANCELO FULL') |\n",
    "           (df_log['ESTADO_ANTERIOR'] == 'CANCELO SIN ACP') \n",
    "           , 'CATEGORIA'] = 'POSITIVO CON CAJA'"
   ]
  },
  {
   "cell_type": "code",
   "execution_count": 18,
   "metadata": {},
   "outputs": [],
   "source": [
    "df_log.loc[(df_log['ESTADO_ANTERIOR'] == 'CONVENIO') | \n",
    "           (df_log['ESTADO_ANTERIOR'] == 'CONVENIO QUITA') |\n",
    "           (df_log['ESTADO_ANTERIOR'] == 'NUEVOS CARGOS') |\n",
    "           (df_log['ESTADO_ANTERIOR'] == 'CONVENIO_QUITA') \n",
    "           , 'CATEGORIA'] = 'POSITIVO CON CAJA SOBRE COUTA'"
   ]
  },
  {
   "cell_type": "code",
   "execution_count": 19,
   "metadata": {},
   "outputs": [],
   "source": [
    "df_log.loc[(df_log['ESTADO_ANTERIOR'] == 'PROPUESTA REFI') | \n",
    "           (df_log['ESTADO_ANTERIOR'] == 'REFI ARMADA') |\n",
    "           (df_log['ESTADO_ANTERIOR'] == 'REFI EN TRAMITE') |\n",
    "           (df_log['ESTADO_ANTERIOR'] == 'REFI A LIQUIDAR') \n",
    "           , 'CATEGORIA'] = 'POSITIVO CON CAJA CON REFI PENDIENTE DE LIQUIDACIO'"
   ]
  },
  {
   "cell_type": "code",
   "execution_count": 20,
   "metadata": {},
   "outputs": [],
   "source": [
    "df_log.loc[(df_log['ESTADO_ANTERIOR'] == 'REFI APROBADA') | \n",
    "           (df_log['ESTADO_ANTERIOR'] == 'DEVUELTO/CANCELO CON COBRO DE HONORARIO PENDIENTE')\n",
    "           , 'CATEGORIA'] = 'POSITIVO CON CAJA CON REFI/CANCELACIÓN LIQUIDADA'"
   ]
  },
  {
   "cell_type": "code",
   "execution_count": 21,
   "metadata": {},
   "outputs": [],
   "source": [
    "df_log.loc[(df_log['ESTADO_ANTERIOR'] == 'DEVUELTO') | \n",
    "           (df_log['ESTADO_ANTERIOR'] == 'FALLECIDO') |\n",
    "           (df_log['ESTADO_ANTERIOR'] == 'PROBLEMA') |\n",
    "           (df_log['ESTADO_ANTERIOR'] == 'SALDO INSOLUTO') |\n",
    "           (df_log['ESTADO_ANTERIOR'] == 'NO GESTIONAR') \n",
    "           , 'CATEGORIA'] = 'INACTIVO'"
   ]
  },
  {
   "cell_type": "code",
   "execution_count": 22,
   "metadata": {
    "scrolled": true
   },
   "outputs": [
    {
     "data": {
      "text/plain": [
       "(58665, 9)"
      ]
     },
     "execution_count": 22,
     "metadata": {},
     "output_type": "execute_result"
    }
   ],
   "source": [
    "df_log.shape"
   ]
  },
  {
   "cell_type": "code",
   "execution_count": 23,
   "metadata": {
    "scrolled": true
   },
   "outputs": [
    {
     "data": {
      "text/html": [
       "<div>\n",
       "<style scoped>\n",
       "    .dataframe tbody tr th:only-of-type {\n",
       "        vertical-align: middle;\n",
       "    }\n",
       "\n",
       "    .dataframe tbody tr th {\n",
       "        vertical-align: top;\n",
       "    }\n",
       "\n",
       "    .dataframe thead th {\n",
       "        text-align: right;\n",
       "    }\n",
       "</style>\n",
       "<table border=\"1\" class=\"dataframe\">\n",
       "  <thead>\n",
       "    <tr style=\"text-align: right;\">\n",
       "      <th></th>\n",
       "      <th>IDMOROSO</th>\n",
       "      <th>IDCLIENTE</th>\n",
       "      <th>ESTADO_ANTERIOR</th>\n",
       "      <th>DNI</th>\n",
       "      <th>FECHA_ENVIO_ENRIQUECIMIENTO</th>\n",
       "      <th>FECHA_INSERCION_DATO</th>\n",
       "      <th>FECHA_CAMBIO_ESTADO</th>\n",
       "      <th>PROVEEDOR</th>\n",
       "      <th>CATEGORIA</th>\n",
       "    </tr>\n",
       "  </thead>\n",
       "  <tbody>\n",
       "    <tr>\n",
       "      <th>0</th>\n",
       "      <td>CUIT20115091280</td>\n",
       "      <td>BSR_TARDIA</td>\n",
       "      <td>SKIP LEVEL 2</td>\n",
       "      <td>CUIT20115091280</td>\n",
       "      <td>2021-02-23</td>\n",
       "      <td>2021-03-02</td>\n",
       "      <td>2021-03-02</td>\n",
       "      <td>CD</td>\n",
       "      <td>NEGATIVO POR CONTACTABILIDAD</td>\n",
       "    </tr>\n",
       "    <tr>\n",
       "      <th>1</th>\n",
       "      <td>CUIT30500181547</td>\n",
       "      <td>BSR_TARDIA</td>\n",
       "      <td>PROBLEMA</td>\n",
       "      <td>CUIT30500181547</td>\n",
       "      <td>2021-02-23</td>\n",
       "      <td>2021-03-02</td>\n",
       "      <td>2021-03-02</td>\n",
       "      <td>CD</td>\n",
       "      <td>INACTIVO</td>\n",
       "    </tr>\n",
       "    <tr>\n",
       "      <th>2</th>\n",
       "      <td>CUIT30501109041</td>\n",
       "      <td>BSR_TARDIA</td>\n",
       "      <td>NO UBICADO</td>\n",
       "      <td>CUIT30501109041</td>\n",
       "      <td>2021-02-23</td>\n",
       "      <td>2021-03-02</td>\n",
       "      <td>2021-03-02</td>\n",
       "      <td>CD</td>\n",
       "      <td>NEGATIVO POR CONTACTABILIDAD</td>\n",
       "    </tr>\n",
       "    <tr>\n",
       "      <th>3</th>\n",
       "      <td>CUIT30502016373</td>\n",
       "      <td>BSR_TARDIA</td>\n",
       "      <td>NO UBICADO</td>\n",
       "      <td>CUIT30502016373</td>\n",
       "      <td>2021-02-23</td>\n",
       "      <td>2021-03-02</td>\n",
       "      <td>2021-03-02</td>\n",
       "      <td>CD</td>\n",
       "      <td>NEGATIVO POR CONTACTABILIDAD</td>\n",
       "    </tr>\n",
       "    <tr>\n",
       "      <th>4</th>\n",
       "      <td>CUIT30502766917</td>\n",
       "      <td>BSR_TARDIA</td>\n",
       "      <td>INTERESADO_MOPCPAGOS</td>\n",
       "      <td>CUIT30502766917</td>\n",
       "      <td>2021-02-23</td>\n",
       "      <td>2021-03-02</td>\n",
       "      <td>2021-03-02</td>\n",
       "      <td>CD</td>\n",
       "      <td>NaN</td>\n",
       "    </tr>\n",
       "  </tbody>\n",
       "</table>\n",
       "</div>"
      ],
      "text/plain": [
       "             IDMOROSO             IDCLIENTE       ESTADO_ANTERIOR  \\\n",
       "0  CUIT20115091280     BSR_TARDIA                    SKIP LEVEL 2   \n",
       "1  CUIT30500181547     BSR_TARDIA                        PROBLEMA   \n",
       "2  CUIT30501109041     BSR_TARDIA                      NO UBICADO   \n",
       "3  CUIT30502016373     BSR_TARDIA                      NO UBICADO   \n",
       "4  CUIT30502766917     BSR_TARDIA            INTERESADO_MOPCPAGOS   \n",
       "\n",
       "                              DNI FECHA_ENVIO_ENRIQUECIMIENTO  \\\n",
       "0  CUIT20115091280                                 2021-02-23   \n",
       "1  CUIT30500181547                                 2021-02-23   \n",
       "2  CUIT30501109041                                 2021-02-23   \n",
       "3  CUIT30502016373                                 2021-02-23   \n",
       "4  CUIT30502766917                                 2021-02-23   \n",
       "\n",
       "  FECHA_INSERCION_DATO FECHA_CAMBIO_ESTADO PROVEEDOR  \\\n",
       "0           2021-03-02          2021-03-02        CD   \n",
       "1           2021-03-02          2021-03-02        CD   \n",
       "2           2021-03-02          2021-03-02        CD   \n",
       "3           2021-03-02          2021-03-02        CD   \n",
       "4           2021-03-02          2021-03-02        CD   \n",
       "\n",
       "                      CATEGORIA  \n",
       "0  NEGATIVO POR CONTACTABILIDAD  \n",
       "1                      INACTIVO  \n",
       "2  NEGATIVO POR CONTACTABILIDAD  \n",
       "3  NEGATIVO POR CONTACTABILIDAD  \n",
       "4                           NaN  "
      ]
     },
     "execution_count": 23,
     "metadata": {},
     "output_type": "execute_result"
    }
   ],
   "source": [
    "df_log.head()"
   ]
  },
  {
   "cell_type": "markdown",
   "metadata": {},
   "source": [
    "## 2. Devolución"
   ]
  },
  {
   "cell_type": "markdown",
   "metadata": {},
   "source": [
    "Levantamos los DNIs desde el archivo que devuelve el proveedor para cruzar contra los IDs y ver cuáles están enriquecidos."
   ]
  },
  {
   "cell_type": "code",
   "execution_count": 24,
   "metadata": {},
   "outputs": [],
   "source": [
    "df_pyp = pd.read_csv('/mnt/c/users/Dleg/Data/MOPC/MOPC/Enriquecimiento de Datos/Data Cleaning/Contacto Directo/Datasets/Datasets Recibidos/ContactoDirecto_Insertados_DAM_CONTACTABILIDAD.csv')"
   ]
  },
  {
   "cell_type": "code",
   "execution_count": 25,
   "metadata": {
    "scrolled": false
   },
   "outputs": [
    {
     "data": {
      "text/html": [
       "<div>\n",
       "<style scoped>\n",
       "    .dataframe tbody tr th:only-of-type {\n",
       "        vertical-align: middle;\n",
       "    }\n",
       "\n",
       "    .dataframe tbody tr th {\n",
       "        vertical-align: top;\n",
       "    }\n",
       "\n",
       "    .dataframe thead th {\n",
       "        text-align: right;\n",
       "    }\n",
       "</style>\n",
       "<table border=\"1\" class=\"dataframe\">\n",
       "  <thead>\n",
       "    <tr style=\"text-align: right;\">\n",
       "      <th></th>\n",
       "      <th>IDMOROSO</th>\n",
       "      <th>IDCLIENTE</th>\n",
       "    </tr>\n",
       "  </thead>\n",
       "  <tbody>\n",
       "    <tr>\n",
       "      <th>4593</th>\n",
       "      <td>RMS376711790461006</td>\n",
       "      <td>AMEX_UPGRADE</td>\n",
       "    </tr>\n",
       "    <tr>\n",
       "      <th>4594</th>\n",
       "      <td>RMS376711847221007</td>\n",
       "      <td>AMEX_PELM</td>\n",
       "    </tr>\n",
       "    <tr>\n",
       "      <th>4595</th>\n",
       "      <td>RMS379977383142009</td>\n",
       "      <td>AMEX_PBLM</td>\n",
       "    </tr>\n",
       "    <tr>\n",
       "      <th>4596</th>\n",
       "      <td>RMS379977428142006</td>\n",
       "      <td>AMEX_TNLM</td>\n",
       "    </tr>\n",
       "    <tr>\n",
       "      <th>4597</th>\n",
       "      <td>RMS379977428142006</td>\n",
       "      <td>AMEX_UPGRADE</td>\n",
       "    </tr>\n",
       "  </tbody>\n",
       "</table>\n",
       "</div>"
      ],
      "text/plain": [
       "                IDMOROSO             IDCLIENTE\n",
       "4593  RMS376711790461006  AMEX_UPGRADE        \n",
       "4594  RMS376711847221007  AMEX_PELM           \n",
       "4595  RMS379977383142009  AMEX_PBLM           \n",
       "4596  RMS379977428142006  AMEX_TNLM           \n",
       "4597  RMS379977428142006  AMEX_UPGRADE        "
      ]
     },
     "execution_count": 25,
     "metadata": {},
     "output_type": "execute_result"
    }
   ],
   "source": [
    "df_pyp.tail()"
   ]
  },
  {
   "cell_type": "code",
   "execution_count": 26,
   "metadata": {
    "scrolled": false
   },
   "outputs": [
    {
     "data": {
      "text/plain": [
       "(4598, 2)"
      ]
     },
     "execution_count": 26,
     "metadata": {},
     "output_type": "execute_result"
    }
   ],
   "source": [
    "df_pyp.shape"
   ]
  },
  {
   "cell_type": "markdown",
   "metadata": {},
   "source": [
    "Eliminamos duplicados"
   ]
  },
  {
   "cell_type": "code",
   "execution_count": 27,
   "metadata": {},
   "outputs": [],
   "source": [
    "df_reduced = df_pyp.drop_duplicates()"
   ]
  },
  {
   "cell_type": "code",
   "execution_count": 28,
   "metadata": {},
   "outputs": [
    {
     "data": {
      "text/html": [
       "<div>\n",
       "<style scoped>\n",
       "    .dataframe tbody tr th:only-of-type {\n",
       "        vertical-align: middle;\n",
       "    }\n",
       "\n",
       "    .dataframe tbody tr th {\n",
       "        vertical-align: top;\n",
       "    }\n",
       "\n",
       "    .dataframe thead th {\n",
       "        text-align: right;\n",
       "    }\n",
       "</style>\n",
       "<table border=\"1\" class=\"dataframe\">\n",
       "  <thead>\n",
       "    <tr style=\"text-align: right;\">\n",
       "      <th></th>\n",
       "      <th>IDMOROSO</th>\n",
       "      <th>IDCLIENTE</th>\n",
       "    </tr>\n",
       "  </thead>\n",
       "  <tbody>\n",
       "    <tr>\n",
       "      <th>0</th>\n",
       "      <td>CUIT30516256385</td>\n",
       "      <td>BSR_TARDIA</td>\n",
       "    </tr>\n",
       "    <tr>\n",
       "      <th>1</th>\n",
       "      <td>CUIT30679032492</td>\n",
       "      <td>BSR_TARDIA</td>\n",
       "    </tr>\n",
       "    <tr>\n",
       "      <th>2</th>\n",
       "      <td>CUIT30681758182</td>\n",
       "      <td>BSR_TARDIA</td>\n",
       "    </tr>\n",
       "    <tr>\n",
       "      <th>3</th>\n",
       "      <td>CUIT30691268086</td>\n",
       "      <td>BSR_TARDIA</td>\n",
       "    </tr>\n",
       "    <tr>\n",
       "      <th>4</th>\n",
       "      <td>CUIT30691709597</td>\n",
       "      <td>BSR_TARDIA</td>\n",
       "    </tr>\n",
       "  </tbody>\n",
       "</table>\n",
       "</div>"
      ],
      "text/plain": [
       "             IDMOROSO             IDCLIENTE\n",
       "0  CUIT30516256385     BSR_TARDIA          \n",
       "1  CUIT30679032492     BSR_TARDIA          \n",
       "2  CUIT30681758182     BSR_TARDIA          \n",
       "3  CUIT30691268086     BSR_TARDIA          \n",
       "4  CUIT30691709597     BSR_TARDIA          "
      ]
     },
     "execution_count": 28,
     "metadata": {},
     "output_type": "execute_result"
    }
   ],
   "source": [
    "df_reduced.head()"
   ]
  },
  {
   "cell_type": "code",
   "execution_count": 29,
   "metadata": {
    "scrolled": true
   },
   "outputs": [
    {
     "data": {
      "text/plain": [
       "(4598, 2)"
      ]
     },
     "execution_count": 29,
     "metadata": {},
     "output_type": "execute_result"
    }
   ],
   "source": [
    "df_reduced.shape"
   ]
  },
  {
   "cell_type": "markdown",
   "metadata": {},
   "source": [
    "# 13) Union de Dataframes"
   ]
  },
  {
   "cell_type": "markdown",
   "metadata": {},
   "source": [
    "Se unen ambos dataframes en la columna IDMOROSO"
   ]
  },
  {
   "cell_type": "markdown",
   "metadata": {},
   "source": [
    "Convertimos la columna NRO_DOC de objeto a INT para hacer la unión"
   ]
  },
  {
   "cell_type": "code",
   "execution_count": 30,
   "metadata": {},
   "outputs": [],
   "source": [
    "df_reduced ['IDCLIENTE'] = df_reduced['IDCLIENTE'].str.strip()"
   ]
  },
  {
   "cell_type": "code",
   "execution_count": 31,
   "metadata": {},
   "outputs": [],
   "source": [
    "df_log ['IDCLIENTE'] = df_log['IDCLIENTE'].str.strip()"
   ]
  },
  {
   "cell_type": "code",
   "execution_count": 32,
   "metadata": {},
   "outputs": [],
   "source": [
    "df_union = pd.merge(df_reduced,df_log , on=['IDMOROSO','IDCLIENTE'], how='left')"
   ]
  },
  {
   "cell_type": "code",
   "execution_count": 33,
   "metadata": {
    "scrolled": true
   },
   "outputs": [
    {
     "data": {
      "text/plain": [
       "(4598, 9)"
      ]
     },
     "execution_count": 33,
     "metadata": {},
     "output_type": "execute_result"
    }
   ],
   "source": [
    "df_union.shape"
   ]
  },
  {
   "cell_type": "code",
   "execution_count": 34,
   "metadata": {
    "scrolled": true
   },
   "outputs": [
    {
     "data": {
      "text/html": [
       "<div>\n",
       "<style scoped>\n",
       "    .dataframe tbody tr th:only-of-type {\n",
       "        vertical-align: middle;\n",
       "    }\n",
       "\n",
       "    .dataframe tbody tr th {\n",
       "        vertical-align: top;\n",
       "    }\n",
       "\n",
       "    .dataframe thead th {\n",
       "        text-align: right;\n",
       "    }\n",
       "</style>\n",
       "<table border=\"1\" class=\"dataframe\">\n",
       "  <thead>\n",
       "    <tr style=\"text-align: right;\">\n",
       "      <th></th>\n",
       "      <th>IDMOROSO</th>\n",
       "      <th>IDCLIENTE</th>\n",
       "      <th>ESTADO_ANTERIOR</th>\n",
       "      <th>DNI</th>\n",
       "      <th>FECHA_ENVIO_ENRIQUECIMIENTO</th>\n",
       "      <th>FECHA_INSERCION_DATO</th>\n",
       "      <th>FECHA_CAMBIO_ESTADO</th>\n",
       "      <th>PROVEEDOR</th>\n",
       "      <th>CATEGORIA</th>\n",
       "    </tr>\n",
       "  </thead>\n",
       "  <tbody>\n",
       "    <tr>\n",
       "      <th>4593</th>\n",
       "      <td>RMS376711790461006</td>\n",
       "      <td>AMEX_UPGRADE</td>\n",
       "      <td>NaN</td>\n",
       "      <td>NaN</td>\n",
       "      <td>NaN</td>\n",
       "      <td>NaN</td>\n",
       "      <td>NaN</td>\n",
       "      <td>NaN</td>\n",
       "      <td>NaN</td>\n",
       "    </tr>\n",
       "    <tr>\n",
       "      <th>4594</th>\n",
       "      <td>RMS376711847221007</td>\n",
       "      <td>AMEX_PELM</td>\n",
       "      <td>CANCELO FULL</td>\n",
       "      <td>20247597736</td>\n",
       "      <td>2021-02-23</td>\n",
       "      <td>2021-03-02</td>\n",
       "      <td>2021-03-02</td>\n",
       "      <td>CD</td>\n",
       "      <td>POSITIVO CON CAJA</td>\n",
       "    </tr>\n",
       "    <tr>\n",
       "      <th>4595</th>\n",
       "      <td>RMS379977383142009</td>\n",
       "      <td>AMEX_PBLM</td>\n",
       "      <td>CANCELO FULL</td>\n",
       "      <td>20243304610</td>\n",
       "      <td>2021-02-23</td>\n",
       "      <td>2021-03-02</td>\n",
       "      <td>2021-03-02</td>\n",
       "      <td>CD</td>\n",
       "      <td>POSITIVO CON CAJA</td>\n",
       "    </tr>\n",
       "    <tr>\n",
       "      <th>4596</th>\n",
       "      <td>RMS379977428142006</td>\n",
       "      <td>AMEX_TNLM</td>\n",
       "      <td>CANCELO FULL</td>\n",
       "      <td>20222697272</td>\n",
       "      <td>2021-02-23</td>\n",
       "      <td>2021-03-02</td>\n",
       "      <td>2021-03-02</td>\n",
       "      <td>CD</td>\n",
       "      <td>POSITIVO CON CAJA</td>\n",
       "    </tr>\n",
       "    <tr>\n",
       "      <th>4597</th>\n",
       "      <td>RMS379977428142006</td>\n",
       "      <td>AMEX_UPGRADE</td>\n",
       "      <td>NaN</td>\n",
       "      <td>NaN</td>\n",
       "      <td>NaN</td>\n",
       "      <td>NaN</td>\n",
       "      <td>NaN</td>\n",
       "      <td>NaN</td>\n",
       "      <td>NaN</td>\n",
       "    </tr>\n",
       "  </tbody>\n",
       "</table>\n",
       "</div>"
      ],
      "text/plain": [
       "                IDMOROSO     IDCLIENTE ESTADO_ANTERIOR          DNI  \\\n",
       "4593  RMS376711790461006  AMEX_UPGRADE             NaN          NaN   \n",
       "4594  RMS376711847221007     AMEX_PELM    CANCELO FULL  20247597736   \n",
       "4595  RMS379977383142009     AMEX_PBLM    CANCELO FULL  20243304610   \n",
       "4596  RMS379977428142006     AMEX_TNLM    CANCELO FULL  20222697272   \n",
       "4597  RMS379977428142006  AMEX_UPGRADE             NaN          NaN   \n",
       "\n",
       "     FECHA_ENVIO_ENRIQUECIMIENTO FECHA_INSERCION_DATO FECHA_CAMBIO_ESTADO  \\\n",
       "4593                         NaN                  NaN                 NaN   \n",
       "4594                  2021-02-23           2021-03-02          2021-03-02   \n",
       "4595                  2021-02-23           2021-03-02          2021-03-02   \n",
       "4596                  2021-02-23           2021-03-02          2021-03-02   \n",
       "4597                         NaN                  NaN                 NaN   \n",
       "\n",
       "     PROVEEDOR          CATEGORIA  \n",
       "4593       NaN                NaN  \n",
       "4594        CD  POSITIVO CON CAJA  \n",
       "4595        CD  POSITIVO CON CAJA  \n",
       "4596        CD  POSITIVO CON CAJA  \n",
       "4597       NaN                NaN  "
      ]
     },
     "execution_count": 34,
     "metadata": {},
     "output_type": "execute_result"
    }
   ],
   "source": [
    "df_union.tail()"
   ]
  },
  {
   "cell_type": "code",
   "execution_count": 35,
   "metadata": {},
   "outputs": [],
   "source": [
    "df_union = df_union.assign(FECHA_ENVIO_ENRIQUECIMIENTO=fecha_envio_log)\n",
    "df_union = df_union.assign(FECHA_INSERCION_DATO=fecha_insercion_log)\n",
    "df_union = df_union.assign(FECHA_CAMBIO_ESTADO=fecha_estados_log)\n",
    "df_union = df_union.assign(PROVEEDOR='CD')"
   ]
  },
  {
   "cell_type": "markdown",
   "metadata": {},
   "source": [
    "Asignamos estado nan a aquellos IDClientes que no conocíamos el estado antes de enriquecer"
   ]
  },
  {
   "cell_type": "code",
   "execution_count": 36,
   "metadata": {},
   "outputs": [],
   "source": [
    "df_clean = df_union.drop_duplicates()"
   ]
  },
  {
   "cell_type": "code",
   "execution_count": 37,
   "metadata": {},
   "outputs": [
    {
     "data": {
      "text/plain": [
       "(4598, 9)"
      ]
     },
     "execution_count": 37,
     "metadata": {},
     "output_type": "execute_result"
    }
   ],
   "source": [
    "df_clean.shape"
   ]
  },
  {
   "cell_type": "markdown",
   "metadata": {},
   "source": [
    "## Nuevo Estado"
   ]
  },
  {
   "cell_type": "markdown",
   "metadata": {
    "scrolled": true
   },
   "source": [
    "Como no se usaron nuevos estados, se deja en nulo"
   ]
  },
  {
   "cell_type": "code",
   "execution_count": 38,
   "metadata": {},
   "outputs": [],
   "source": [
    "df_clean = df_clean.assign(NUEVO_ESTADO=np.nan)"
   ]
  },
  {
   "cell_type": "markdown",
   "metadata": {},
   "source": [
    "## Enriquecido"
   ]
  },
  {
   "cell_type": "markdown",
   "metadata": {},
   "source": [
    "Nota: sólo estoy mirando los enriquecidos. Si no se enriqueció, no lo mando al LOG."
   ]
  },
  {
   "cell_type": "code",
   "execution_count": 39,
   "metadata": {},
   "outputs": [],
   "source": [
    "df_clean = df_clean.assign(ENRIQUECIDO=1)"
   ]
  },
  {
   "cell_type": "code",
   "execution_count": 40,
   "metadata": {},
   "outputs": [
    {
     "data": {
      "text/html": [
       "<div>\n",
       "<style scoped>\n",
       "    .dataframe tbody tr th:only-of-type {\n",
       "        vertical-align: middle;\n",
       "    }\n",
       "\n",
       "    .dataframe tbody tr th {\n",
       "        vertical-align: top;\n",
       "    }\n",
       "\n",
       "    .dataframe thead th {\n",
       "        text-align: right;\n",
       "    }\n",
       "</style>\n",
       "<table border=\"1\" class=\"dataframe\">\n",
       "  <thead>\n",
       "    <tr style=\"text-align: right;\">\n",
       "      <th></th>\n",
       "      <th>IDMOROSO</th>\n",
       "      <th>IDCLIENTE</th>\n",
       "      <th>ESTADO_ANTERIOR</th>\n",
       "      <th>DNI</th>\n",
       "      <th>FECHA_ENVIO_ENRIQUECIMIENTO</th>\n",
       "      <th>FECHA_INSERCION_DATO</th>\n",
       "      <th>FECHA_CAMBIO_ESTADO</th>\n",
       "      <th>PROVEEDOR</th>\n",
       "      <th>CATEGORIA</th>\n",
       "      <th>NUEVO_ESTADO</th>\n",
       "      <th>ENRIQUECIDO</th>\n",
       "    </tr>\n",
       "  </thead>\n",
       "  <tbody>\n",
       "    <tr>\n",
       "      <th>4593</th>\n",
       "      <td>RMS376711790461006</td>\n",
       "      <td>AMEX_UPGRADE</td>\n",
       "      <td>NaN</td>\n",
       "      <td>NaN</td>\n",
       "      <td>2021-02-23</td>\n",
       "      <td>2021-03-02</td>\n",
       "      <td>2021-03-02</td>\n",
       "      <td>CD</td>\n",
       "      <td>NaN</td>\n",
       "      <td>NaN</td>\n",
       "      <td>1</td>\n",
       "    </tr>\n",
       "    <tr>\n",
       "      <th>4594</th>\n",
       "      <td>RMS376711847221007</td>\n",
       "      <td>AMEX_PELM</td>\n",
       "      <td>CANCELO FULL</td>\n",
       "      <td>20247597736</td>\n",
       "      <td>2021-02-23</td>\n",
       "      <td>2021-03-02</td>\n",
       "      <td>2021-03-02</td>\n",
       "      <td>CD</td>\n",
       "      <td>POSITIVO CON CAJA</td>\n",
       "      <td>NaN</td>\n",
       "      <td>1</td>\n",
       "    </tr>\n",
       "    <tr>\n",
       "      <th>4595</th>\n",
       "      <td>RMS379977383142009</td>\n",
       "      <td>AMEX_PBLM</td>\n",
       "      <td>CANCELO FULL</td>\n",
       "      <td>20243304610</td>\n",
       "      <td>2021-02-23</td>\n",
       "      <td>2021-03-02</td>\n",
       "      <td>2021-03-02</td>\n",
       "      <td>CD</td>\n",
       "      <td>POSITIVO CON CAJA</td>\n",
       "      <td>NaN</td>\n",
       "      <td>1</td>\n",
       "    </tr>\n",
       "    <tr>\n",
       "      <th>4596</th>\n",
       "      <td>RMS379977428142006</td>\n",
       "      <td>AMEX_TNLM</td>\n",
       "      <td>CANCELO FULL</td>\n",
       "      <td>20222697272</td>\n",
       "      <td>2021-02-23</td>\n",
       "      <td>2021-03-02</td>\n",
       "      <td>2021-03-02</td>\n",
       "      <td>CD</td>\n",
       "      <td>POSITIVO CON CAJA</td>\n",
       "      <td>NaN</td>\n",
       "      <td>1</td>\n",
       "    </tr>\n",
       "    <tr>\n",
       "      <th>4597</th>\n",
       "      <td>RMS379977428142006</td>\n",
       "      <td>AMEX_UPGRADE</td>\n",
       "      <td>NaN</td>\n",
       "      <td>NaN</td>\n",
       "      <td>2021-02-23</td>\n",
       "      <td>2021-03-02</td>\n",
       "      <td>2021-03-02</td>\n",
       "      <td>CD</td>\n",
       "      <td>NaN</td>\n",
       "      <td>NaN</td>\n",
       "      <td>1</td>\n",
       "    </tr>\n",
       "  </tbody>\n",
       "</table>\n",
       "</div>"
      ],
      "text/plain": [
       "                IDMOROSO     IDCLIENTE ESTADO_ANTERIOR          DNI  \\\n",
       "4593  RMS376711790461006  AMEX_UPGRADE             NaN          NaN   \n",
       "4594  RMS376711847221007     AMEX_PELM    CANCELO FULL  20247597736   \n",
       "4595  RMS379977383142009     AMEX_PBLM    CANCELO FULL  20243304610   \n",
       "4596  RMS379977428142006     AMEX_TNLM    CANCELO FULL  20222697272   \n",
       "4597  RMS379977428142006  AMEX_UPGRADE             NaN          NaN   \n",
       "\n",
       "     FECHA_ENVIO_ENRIQUECIMIENTO FECHA_INSERCION_DATO FECHA_CAMBIO_ESTADO  \\\n",
       "4593                  2021-02-23           2021-03-02          2021-03-02   \n",
       "4594                  2021-02-23           2021-03-02          2021-03-02   \n",
       "4595                  2021-02-23           2021-03-02          2021-03-02   \n",
       "4596                  2021-02-23           2021-03-02          2021-03-02   \n",
       "4597                  2021-02-23           2021-03-02          2021-03-02   \n",
       "\n",
       "     PROVEEDOR          CATEGORIA  NUEVO_ESTADO  ENRIQUECIDO  \n",
       "4593        CD                NaN           NaN            1  \n",
       "4594        CD  POSITIVO CON CAJA           NaN            1  \n",
       "4595        CD  POSITIVO CON CAJA           NaN            1  \n",
       "4596        CD  POSITIVO CON CAJA           NaN            1  \n",
       "4597        CD                NaN           NaN            1  "
      ]
     },
     "execution_count": 40,
     "metadata": {},
     "output_type": "execute_result"
    }
   ],
   "source": [
    "df_clean.tail()"
   ]
  },
  {
   "cell_type": "code",
   "execution_count": 41,
   "metadata": {},
   "outputs": [],
   "source": [
    "df_clean = df_clean [['IDMOROSO','IDCLIENTE','ESTADO_ANTERIOR','CATEGORIA','NUEVO_ESTADO','ENRIQUECIDO','FECHA_ENVIO_ENRIQUECIMIENTO','FECHA_INSERCION_DATO','FECHA_CAMBIO_ESTADO','PROVEEDOR']]"
   ]
  },
  {
   "cell_type": "code",
   "execution_count": 42,
   "metadata": {
    "scrolled": true
   },
   "outputs": [
    {
     "data": {
      "text/html": [
       "<div>\n",
       "<style scoped>\n",
       "    .dataframe tbody tr th:only-of-type {\n",
       "        vertical-align: middle;\n",
       "    }\n",
       "\n",
       "    .dataframe tbody tr th {\n",
       "        vertical-align: top;\n",
       "    }\n",
       "\n",
       "    .dataframe thead th {\n",
       "        text-align: right;\n",
       "    }\n",
       "</style>\n",
       "<table border=\"1\" class=\"dataframe\">\n",
       "  <thead>\n",
       "    <tr style=\"text-align: right;\">\n",
       "      <th></th>\n",
       "      <th>IDMOROSO</th>\n",
       "      <th>IDCLIENTE</th>\n",
       "      <th>ESTADO_ANTERIOR</th>\n",
       "      <th>CATEGORIA</th>\n",
       "      <th>NUEVO_ESTADO</th>\n",
       "      <th>ENRIQUECIDO</th>\n",
       "      <th>FECHA_ENVIO_ENRIQUECIMIENTO</th>\n",
       "      <th>FECHA_INSERCION_DATO</th>\n",
       "      <th>FECHA_CAMBIO_ESTADO</th>\n",
       "      <th>PROVEEDOR</th>\n",
       "    </tr>\n",
       "  </thead>\n",
       "  <tbody>\n",
       "    <tr>\n",
       "      <th>0</th>\n",
       "      <td>CUIT30516256385</td>\n",
       "      <td>BSR_TARDIA</td>\n",
       "      <td>NO UBICADO</td>\n",
       "      <td>NEGATIVO POR CONTACTABILIDAD</td>\n",
       "      <td>NaN</td>\n",
       "      <td>1</td>\n",
       "      <td>2021-02-23</td>\n",
       "      <td>2021-03-02</td>\n",
       "      <td>2021-03-02</td>\n",
       "      <td>CD</td>\n",
       "    </tr>\n",
       "    <tr>\n",
       "      <th>1</th>\n",
       "      <td>CUIT30679032492</td>\n",
       "      <td>BSR_TARDIA</td>\n",
       "      <td>INTERESADO</td>\n",
       "      <td>NEUTRO</td>\n",
       "      <td>NaN</td>\n",
       "      <td>1</td>\n",
       "      <td>2021-02-23</td>\n",
       "      <td>2021-03-02</td>\n",
       "      <td>2021-03-02</td>\n",
       "      <td>CD</td>\n",
       "    </tr>\n",
       "    <tr>\n",
       "      <th>2</th>\n",
       "      <td>CUIT30681758182</td>\n",
       "      <td>BSR_TARDIA</td>\n",
       "      <td>NO UBICADO</td>\n",
       "      <td>NEGATIVO POR CONTACTABILIDAD</td>\n",
       "      <td>NaN</td>\n",
       "      <td>1</td>\n",
       "      <td>2021-02-23</td>\n",
       "      <td>2021-03-02</td>\n",
       "      <td>2021-03-02</td>\n",
       "      <td>CD</td>\n",
       "    </tr>\n",
       "    <tr>\n",
       "      <th>3</th>\n",
       "      <td>CUIT30691268086</td>\n",
       "      <td>BSR_TARDIA</td>\n",
       "      <td>SKIP LEVEL 2</td>\n",
       "      <td>NEGATIVO POR CONTACTABILIDAD</td>\n",
       "      <td>NaN</td>\n",
       "      <td>1</td>\n",
       "      <td>2021-02-23</td>\n",
       "      <td>2021-03-02</td>\n",
       "      <td>2021-03-02</td>\n",
       "      <td>CD</td>\n",
       "    </tr>\n",
       "    <tr>\n",
       "      <th>4</th>\n",
       "      <td>CUIT30691709597</td>\n",
       "      <td>BSR_TARDIA</td>\n",
       "      <td>SKIP LEVEL 2</td>\n",
       "      <td>NEGATIVO POR CONTACTABILIDAD</td>\n",
       "      <td>NaN</td>\n",
       "      <td>1</td>\n",
       "      <td>2021-02-23</td>\n",
       "      <td>2021-03-02</td>\n",
       "      <td>2021-03-02</td>\n",
       "      <td>CD</td>\n",
       "    </tr>\n",
       "  </tbody>\n",
       "</table>\n",
       "</div>"
      ],
      "text/plain": [
       "             IDMOROSO   IDCLIENTE ESTADO_ANTERIOR  \\\n",
       "0  CUIT30516256385     BSR_TARDIA      NO UBICADO   \n",
       "1  CUIT30679032492     BSR_TARDIA      INTERESADO   \n",
       "2  CUIT30681758182     BSR_TARDIA      NO UBICADO   \n",
       "3  CUIT30691268086     BSR_TARDIA    SKIP LEVEL 2   \n",
       "4  CUIT30691709597     BSR_TARDIA    SKIP LEVEL 2   \n",
       "\n",
       "                      CATEGORIA  NUEVO_ESTADO  ENRIQUECIDO  \\\n",
       "0  NEGATIVO POR CONTACTABILIDAD           NaN            1   \n",
       "1                        NEUTRO           NaN            1   \n",
       "2  NEGATIVO POR CONTACTABILIDAD           NaN            1   \n",
       "3  NEGATIVO POR CONTACTABILIDAD           NaN            1   \n",
       "4  NEGATIVO POR CONTACTABILIDAD           NaN            1   \n",
       "\n",
       "  FECHA_ENVIO_ENRIQUECIMIENTO FECHA_INSERCION_DATO FECHA_CAMBIO_ESTADO  \\\n",
       "0                  2021-02-23           2021-03-02          2021-03-02   \n",
       "1                  2021-02-23           2021-03-02          2021-03-02   \n",
       "2                  2021-02-23           2021-03-02          2021-03-02   \n",
       "3                  2021-02-23           2021-03-02          2021-03-02   \n",
       "4                  2021-02-23           2021-03-02          2021-03-02   \n",
       "\n",
       "  PROVEEDOR  \n",
       "0        CD  \n",
       "1        CD  \n",
       "2        CD  \n",
       "3        CD  \n",
       "4        CD  "
      ]
     },
     "execution_count": 42,
     "metadata": {},
     "output_type": "execute_result"
    }
   ],
   "source": [
    "df_clean.head()"
   ]
  },
  {
   "cell_type": "code",
   "execution_count": 43,
   "metadata": {},
   "outputs": [
    {
     "data": {
      "text/plain": [
       "(4598, 10)"
      ]
     },
     "execution_count": 43,
     "metadata": {},
     "output_type": "execute_result"
    }
   ],
   "source": [
    "df_clean.shape"
   ]
  },
  {
   "cell_type": "markdown",
   "metadata": {},
   "source": [
    "# Export"
   ]
  },
  {
   "cell_type": "code",
   "execution_count": 44,
   "metadata": {},
   "outputs": [],
   "source": [
    "df_clean.to_csv('/mnt/c/Users/Dleg/Data/MOPC/MOPC/Enriquecimiento de Datos/Data Cleaning/Contacto Directo/Exports/DAM_LOG/CD_ENRIQUECIDOS_DAM_LOG - 0403.csv',index=False)"
   ]
  },
  {
   "cell_type": "code",
   "execution_count": null,
   "metadata": {},
   "outputs": [],
   "source": []
  }
 ],
 "metadata": {
  "kernelspec": {
   "display_name": "Python 3",
   "language": "python",
   "name": "python3"
  },
  "language_info": {
   "codemirror_mode": {
    "name": "ipython",
    "version": 3
   },
   "file_extension": ".py",
   "mimetype": "text/x-python",
   "name": "python",
   "nbconvert_exporter": "python",
   "pygments_lexer": "ipython3",
   "version": "3.8.6"
  }
 },
 "nbformat": 4,
 "nbformat_minor": 4
}
