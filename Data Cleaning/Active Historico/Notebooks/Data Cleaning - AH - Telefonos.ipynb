{
 "cells": [
  {
   "cell_type": "markdown",
   "metadata": {},
   "source": [
    "# 1) Datasets"
   ]
  },
  {
   "cell_type": "markdown",
   "metadata": {},
   "source": [
    "Vamos a leer el dataset que envía PyP"
   ]
  },
  {
   "cell_type": "code",
   "execution_count": 1,
   "metadata": {},
   "outputs": [],
   "source": [
    "import pandas as pd\n",
    "import numpy as np\n",
    "import re"
   ]
  },
  {
   "cell_type": "code",
   "execution_count": 2,
   "metadata": {},
   "outputs": [],
   "source": [
    "df = pd.read_csv('D:/MOPC/Enriquecimiento de Datos/Data Cleaning/Active Historico/Datasets/active_historico.csv')"
   ]
  },
  {
   "cell_type": "code",
   "execution_count": 3,
   "metadata": {},
   "outputs": [
    {
     "data": {
      "text/html": [
       "<div>\n",
       "<style scoped>\n",
       "    .dataframe tbody tr th:only-of-type {\n",
       "        vertical-align: middle;\n",
       "    }\n",
       "\n",
       "    .dataframe tbody tr th {\n",
       "        vertical-align: top;\n",
       "    }\n",
       "\n",
       "    .dataframe thead th {\n",
       "        text-align: right;\n",
       "    }\n",
       "</style>\n",
       "<table border=\"1\" class=\"dataframe\">\n",
       "  <thead>\n",
       "    <tr style=\"text-align: right;\">\n",
       "      <th></th>\n",
       "      <th>IDMOROSO</th>\n",
       "      <th>NOMBRE</th>\n",
       "      <th>DATO</th>\n",
       "      <th>TIPO</th>\n",
       "      <th>PROVEEDOR_DATO</th>\n",
       "    </tr>\n",
       "  </thead>\n",
       "  <tbody>\n",
       "    <tr>\n",
       "      <th>0</th>\n",
       "      <td>DNI 22602516</td>\n",
       "      <td>LEGUIZAMON RAUL ALBERTO</td>\n",
       "      <td>45470245</td>\n",
       "      <td>TELEFONO</td>\n",
       "      <td>AH</td>\n",
       "    </tr>\n",
       "    <tr>\n",
       "      <th>1</th>\n",
       "      <td>DNI 5655203</td>\n",
       "      <td>ROMERO TERESITA MARIA DEL CARM</td>\n",
       "      <td>0001147374189</td>\n",
       "      <td>TELEFONO</td>\n",
       "      <td>AH</td>\n",
       "    </tr>\n",
       "    <tr>\n",
       "      <th>2</th>\n",
       "      <td>DNI 29951056</td>\n",
       "      <td>AIRA NOEMI INES</td>\n",
       "      <td>39688310</td>\n",
       "      <td>TELEFONO</td>\n",
       "      <td>AH</td>\n",
       "    </tr>\n",
       "    <tr>\n",
       "      <th>3</th>\n",
       "      <td>DNI 18004317</td>\n",
       "      <td>ROLDAN  LUIS ANIBAL</td>\n",
       "      <td>0001142953815</td>\n",
       "      <td>TELEFONO</td>\n",
       "      <td>AH</td>\n",
       "    </tr>\n",
       "    <tr>\n",
       "      <th>4</th>\n",
       "      <td>COL 12142024</td>\n",
       "      <td>OBREGON EDGAR</td>\n",
       "      <td>0000000000</td>\n",
       "      <td>TELEFONO</td>\n",
       "      <td>AH</td>\n",
       "    </tr>\n",
       "  </tbody>\n",
       "</table>\n",
       "</div>"
      ],
      "text/plain": [
       "             IDMOROSO                                    NOMBRE  \\\n",
       "0  DNI 22602516        LEGUIZAMON RAUL ALBERTO                    \n",
       "1  DNI 5655203         ROMERO TERESITA MARIA DEL CARM             \n",
       "2  DNI 29951056        AIRA NOEMI INES                            \n",
       "3  DNI 18004317        ROLDAN  LUIS ANIBAL                        \n",
       "4  COL 12142024        OBREGON EDGAR                              \n",
       "\n",
       "                             DATO      TIPO PROVEEDOR_DATO  \n",
       "0  45470245                        TELEFONO             AH  \n",
       "1  0001147374189                   TELEFONO             AH  \n",
       "2  39688310                        TELEFONO             AH  \n",
       "3  0001142953815                   TELEFONO             AH  \n",
       "4  0000000000                      TELEFONO             AH  "
      ]
     },
     "execution_count": 3,
     "metadata": {},
     "output_type": "execute_result"
    }
   ],
   "source": [
    "df.head()"
   ]
  },
  {
   "cell_type": "code",
   "execution_count": 4,
   "metadata": {
    "scrolled": true
   },
   "outputs": [
    {
     "data": {
      "text/plain": [
       "(484628, 5)"
      ]
     },
     "execution_count": 4,
     "metadata": {},
     "output_type": "execute_result"
    }
   ],
   "source": [
    "df.shape"
   ]
  },
  {
   "cell_type": "markdown",
   "metadata": {},
   "source": [
    "## 1.2) Data Cleaning: Datasets"
   ]
  },
  {
   "cell_type": "markdown",
   "metadata": {},
   "source": [
    "Vamos a dropear aquellas columnas y filas que no tengan ningún valor (es decir, que sean todos NaNs)"
   ]
  },
  {
   "cell_type": "code",
   "execution_count": 5,
   "metadata": {},
   "outputs": [],
   "source": [
    "df = df.dropna(axis=0, how='all')"
   ]
  },
  {
   "cell_type": "code",
   "execution_count": 6,
   "metadata": {},
   "outputs": [],
   "source": [
    "df = df.dropna(axis=1, how='all')"
   ]
  },
  {
   "cell_type": "code",
   "execution_count": 7,
   "metadata": {},
   "outputs": [
    {
     "data": {
      "text/plain": [
       "(484628, 5)"
      ]
     },
     "execution_count": 7,
     "metadata": {},
     "output_type": "execute_result"
    }
   ],
   "source": [
    "df.shape"
   ]
  },
  {
   "cell_type": "markdown",
   "metadata": {},
   "source": [
    "Ahora todas las columnas tienen al menos 1 dato."
   ]
  },
  {
   "cell_type": "markdown",
   "metadata": {},
   "source": [
    "# 2) Cleaning: Teléfonos"
   ]
  },
  {
   "cell_type": "markdown",
   "metadata": {},
   "source": [
    "Verificar teléfonos if DF TIPO is TELEFONO"
   ]
  },
  {
   "cell_type": "code",
   "execution_count": 8,
   "metadata": {},
   "outputs": [],
   "source": [
    "df_telefonos = df[df['TIPO']== 'TELEFONO']"
   ]
  },
  {
   "cell_type": "code",
   "execution_count": 9,
   "metadata": {
    "scrolled": true
   },
   "outputs": [
    {
     "data": {
      "text/html": [
       "<div>\n",
       "<style scoped>\n",
       "    .dataframe tbody tr th:only-of-type {\n",
       "        vertical-align: middle;\n",
       "    }\n",
       "\n",
       "    .dataframe tbody tr th {\n",
       "        vertical-align: top;\n",
       "    }\n",
       "\n",
       "    .dataframe thead th {\n",
       "        text-align: right;\n",
       "    }\n",
       "</style>\n",
       "<table border=\"1\" class=\"dataframe\">\n",
       "  <thead>\n",
       "    <tr style=\"text-align: right;\">\n",
       "      <th></th>\n",
       "      <th>IDMOROSO</th>\n",
       "      <th>NOMBRE</th>\n",
       "      <th>DATO</th>\n",
       "      <th>TIPO</th>\n",
       "      <th>PROVEEDOR_DATO</th>\n",
       "    </tr>\n",
       "  </thead>\n",
       "  <tbody>\n",
       "    <tr>\n",
       "      <th>0</th>\n",
       "      <td>DNI 22602516</td>\n",
       "      <td>LEGUIZAMON RAUL ALBERTO</td>\n",
       "      <td>45470245</td>\n",
       "      <td>TELEFONO</td>\n",
       "      <td>AH</td>\n",
       "    </tr>\n",
       "    <tr>\n",
       "      <th>1</th>\n",
       "      <td>DNI 5655203</td>\n",
       "      <td>ROMERO TERESITA MARIA DEL CARM</td>\n",
       "      <td>0001147374189</td>\n",
       "      <td>TELEFONO</td>\n",
       "      <td>AH</td>\n",
       "    </tr>\n",
       "    <tr>\n",
       "      <th>2</th>\n",
       "      <td>DNI 29951056</td>\n",
       "      <td>AIRA NOEMI INES</td>\n",
       "      <td>39688310</td>\n",
       "      <td>TELEFONO</td>\n",
       "      <td>AH</td>\n",
       "    </tr>\n",
       "    <tr>\n",
       "      <th>3</th>\n",
       "      <td>DNI 18004317</td>\n",
       "      <td>ROLDAN  LUIS ANIBAL</td>\n",
       "      <td>0001142953815</td>\n",
       "      <td>TELEFONO</td>\n",
       "      <td>AH</td>\n",
       "    </tr>\n",
       "    <tr>\n",
       "      <th>4</th>\n",
       "      <td>COL 12142024</td>\n",
       "      <td>OBREGON EDGAR</td>\n",
       "      <td>0000000000</td>\n",
       "      <td>TELEFONO</td>\n",
       "      <td>AH</td>\n",
       "    </tr>\n",
       "  </tbody>\n",
       "</table>\n",
       "</div>"
      ],
      "text/plain": [
       "             IDMOROSO                                    NOMBRE  \\\n",
       "0  DNI 22602516        LEGUIZAMON RAUL ALBERTO                    \n",
       "1  DNI 5655203         ROMERO TERESITA MARIA DEL CARM             \n",
       "2  DNI 29951056        AIRA NOEMI INES                            \n",
       "3  DNI 18004317        ROLDAN  LUIS ANIBAL                        \n",
       "4  COL 12142024        OBREGON EDGAR                              \n",
       "\n",
       "                             DATO      TIPO PROVEEDOR_DATO  \n",
       "0  45470245                        TELEFONO             AH  \n",
       "1  0001147374189                   TELEFONO             AH  \n",
       "2  39688310                        TELEFONO             AH  \n",
       "3  0001142953815                   TELEFONO             AH  \n",
       "4  0000000000                      TELEFONO             AH  "
      ]
     },
     "execution_count": 9,
     "metadata": {},
     "output_type": "execute_result"
    }
   ],
   "source": [
    "df_telefonos.head()"
   ]
  },
  {
   "cell_type": "code",
   "execution_count": 10,
   "metadata": {},
   "outputs": [
    {
     "data": {
      "text/plain": [
       "(472713, 5)"
      ]
     },
     "execution_count": 10,
     "metadata": {},
     "output_type": "execute_result"
    }
   ],
   "source": [
    "df_telefonos.shape"
   ]
  },
  {
   "cell_type": "code",
   "execution_count": 11,
   "metadata": {},
   "outputs": [
    {
     "data": {
      "text/plain": [
       "000                               28178\n",
       "0000000000                        25588\n",
       "00000000000                       15707\n",
       "00                                 2965\n",
       "TT                                 1313\n",
       "EQUIV                              1016\n",
       "TT OK                               705\n",
       "-                                   352\n",
       "43188500                            309\n",
       "N                                   305\n",
       "EQUIVOCADO                          289\n",
       "equiv                               276\n",
       "NCAS                                267\n",
       "LAB                                 255\n",
       "NCCS                                227\n",
       "tt                                  224\n",
       "MADRE                               202\n",
       "equivocado                          190\n",
       "03364460380                         183\n",
       "VER                                 162\n",
       "VECINA                              162\n",
       "000000000000                        153\n",
       "FLIAR                               150\n",
       "CEL TT                              134\n",
       "45763300                            105\n",
       "49598200                            104\n",
       "43464133                            101\n",
       "43633100                            100\n",
       "EQ                                  100\n",
       "VECINO                              100\n",
       "HNA                                  99\n",
       "TRABAJO                              84\n",
       "EQUIV.                               84\n",
       "CASA TT                              80\n",
       "0340478200                           78\n",
       "02901433460                          78\n",
       "43481200                             76\n",
       "43401100                             76\n",
       "47569000                             75\n",
       "00+0                                 74\n",
       "40037000                             74\n",
       "HIJA                                 73\n",
       "ncas                                 72\n",
       "VEC                                  72\n",
       "EQUI                                 71\n",
       "0000                                 70\n",
       "casa TT                              68\n",
       "CUÑADA                               66\n",
       "59831420                             64\n",
       "tt ok                                63\n",
       "Name: DATO, dtype: int64"
      ]
     },
     "execution_count": 11,
     "metadata": {},
     "output_type": "execute_result"
    }
   ],
   "source": [
    "df_telefonos['DATO'].value_counts().head(50)"
   ]
  },
  {
   "cell_type": "markdown",
   "metadata": {},
   "source": [
    "Como regla incluso a nivel de pipeline: **todo lo que aparezca más de 10 veces es basura**."
   ]
  },
  {
   "cell_type": "code",
   "execution_count": 12,
   "metadata": {},
   "outputs": [
    {
     "name": "stderr",
     "output_type": "stream",
     "text": [
      "<ipython-input-12-971e25ea3f5b>:1: SettingWithCopyWarning: \n",
      "A value is trying to be set on a copy of a slice from a DataFrame.\n",
      "Try using .loc[row_indexer,col_indexer] = value instead\n",
      "\n",
      "See the caveats in the documentation: https://pandas.pydata.org/pandas-docs/stable/user_guide/indexing.html#returning-a-view-versus-a-copy\n",
      "  df_telefonos['DATO_CLEAN'] = [re.sub(\"[^0-9]\", \"\", str(df_telefonos['DATO'][i])) for i in range (df_telefonos['DATO'].count())]\n"
     ]
    }
   ],
   "source": [
    "df_telefonos['DATO_CLEAN'] = [re.sub(\"[^0-9]\", \"\", str(df_telefonos['DATO'][i])) for i in range (df_telefonos['DATO'].count())]"
   ]
  },
  {
   "cell_type": "code",
   "execution_count": 13,
   "metadata": {
    "scrolled": true
   },
   "outputs": [
    {
     "data": {
      "text/plain": [
       "000             28256\n",
       "0000000000      25588\n",
       "                19771\n",
       "00000000000     15707\n",
       "00               2977\n",
       "43188500          429\n",
       "03364460380       248\n",
       "000000000000      153\n",
       "45763300          148\n",
       "18                128\n",
       "43633100          127\n",
       "19                121\n",
       "49598200          118\n",
       "43481200          107\n",
       "43464133          107\n",
       "43401100          106\n",
       "0340478200        105\n",
       "14                 98\n",
       "02901433460        96\n",
       "15                 91\n",
       "40037000           91\n",
       "17                 88\n",
       "20                 87\n",
       "02214296100        87\n",
       "59831420           82\n",
       "47569000           77\n",
       "48578118           77\n",
       "16                 75\n",
       "46306600           73\n",
       "03364438100        72\n",
       "48304100           72\n",
       "0000               71\n",
       "47112000           70\n",
       "47043000           69\n",
       "47098000           68\n",
       "13                 67\n",
       "49596100           63\n",
       "44320606           60\n",
       "45092555           59\n",
       "56272000           57\n",
       "02214210808        56\n",
       "43292000           52\n",
       "03442441800        51\n",
       "02214298300        51\n",
       "03444425757        48\n",
       "03447422187        48\n",
       "43191302           47\n",
       "46708000           47\n",
       "43092000           46\n",
       "02914595100        46\n",
       "Name: DATO_CLEAN, dtype: int64"
      ]
     },
     "execution_count": 13,
     "metadata": {},
     "output_type": "execute_result"
    }
   ],
   "source": [
    "df_telefonos['DATO_CLEAN'].value_counts().head(50)"
   ]
  },
  {
   "cell_type": "markdown",
   "metadata": {},
   "source": [
    "## Condiciones"
   ]
  },
  {
   "cell_type": "code",
   "execution_count": 14,
   "metadata": {},
   "outputs": [],
   "source": [
    "#df_telefonos.loc[((df_telefonos['DATO_CLEAN'].str.len() >= 7)) , 'TELEFONO'] = df_telefonos['DATO_CLEAN']"
   ]
  },
  {
   "cell_type": "code",
   "execution_count": 15,
   "metadata": {
    "scrolled": true
   },
   "outputs": [
    {
     "data": {
      "text/html": [
       "<div>\n",
       "<style scoped>\n",
       "    .dataframe tbody tr th:only-of-type {\n",
       "        vertical-align: middle;\n",
       "    }\n",
       "\n",
       "    .dataframe tbody tr th {\n",
       "        vertical-align: top;\n",
       "    }\n",
       "\n",
       "    .dataframe thead th {\n",
       "        text-align: right;\n",
       "    }\n",
       "</style>\n",
       "<table border=\"1\" class=\"dataframe\">\n",
       "  <thead>\n",
       "    <tr style=\"text-align: right;\">\n",
       "      <th></th>\n",
       "      <th>IDMOROSO</th>\n",
       "      <th>NOMBRE</th>\n",
       "      <th>DATO</th>\n",
       "      <th>TIPO</th>\n",
       "      <th>PROVEEDOR_DATO</th>\n",
       "      <th>DATO_CLEAN</th>\n",
       "    </tr>\n",
       "  </thead>\n",
       "  <tbody>\n",
       "    <tr>\n",
       "      <th>472708</th>\n",
       "      <td>BBVA16543219</td>\n",
       "      <td>VELEZ IRMA</td>\n",
       "      <td>00</td>\n",
       "      <td>TELEFONO</td>\n",
       "      <td>AH</td>\n",
       "      <td>00</td>\n",
       "    </tr>\n",
       "    <tr>\n",
       "      <th>472709</th>\n",
       "      <td>COL 12247453</td>\n",
       "      <td>DIAZ FRANCISCO DAVID</td>\n",
       "      <td>FLIAR D TT</td>\n",
       "      <td>TELEFONO</td>\n",
       "      <td>AH</td>\n",
       "      <td></td>\n",
       "    </tr>\n",
       "    <tr>\n",
       "      <th>472710</th>\n",
       "      <td>DNI 18012467</td>\n",
       "      <td>MARTINEZ CLAUDIO HECTOR</td>\n",
       "      <td>02657433104</td>\n",
       "      <td>TELEFONO</td>\n",
       "      <td>AH</td>\n",
       "      <td>02657433104</td>\n",
       "    </tr>\n",
       "    <tr>\n",
       "      <th>472711</th>\n",
       "      <td>COL 28883717</td>\n",
       "      <td>PEREZ MANUEL DELFIN</td>\n",
       "      <td>8 a 12 hs / 16 a 20</td>\n",
       "      <td>TELEFONO</td>\n",
       "      <td>AH</td>\n",
       "      <td>8121620</td>\n",
       "    </tr>\n",
       "    <tr>\n",
       "      <th>472712</th>\n",
       "      <td>COL 11722100</td>\n",
       "      <td>GARCIA CARLOS ALBERTO</td>\n",
       "      <td>TT OK</td>\n",
       "      <td>TELEFONO</td>\n",
       "      <td>AH</td>\n",
       "      <td></td>\n",
       "    </tr>\n",
       "  </tbody>\n",
       "</table>\n",
       "</div>"
      ],
      "text/plain": [
       "                  IDMOROSO                                    NOMBRE  \\\n",
       "472708  BBVA16543219        VELEZ IRMA                                 \n",
       "472709  COL 12247453        DIAZ FRANCISCO DAVID                       \n",
       "472710  DNI 18012467        MARTINEZ CLAUDIO HECTOR                    \n",
       "472711  COL 28883717        PEREZ MANUEL DELFIN                        \n",
       "472712  COL 11722100        GARCIA CARLOS ALBERTO                      \n",
       "\n",
       "                                  DATO      TIPO PROVEEDOR_DATO   DATO_CLEAN  \n",
       "472708  00                              TELEFONO             AH           00  \n",
       "472709  FLIAR D TT                      TELEFONO             AH               \n",
       "472710  02657433104                     TELEFONO             AH  02657433104  \n",
       "472711  8 a 12 hs / 16 a 20             TELEFONO             AH      8121620  \n",
       "472712  TT OK                           TELEFONO             AH               "
      ]
     },
     "execution_count": 15,
     "metadata": {},
     "output_type": "execute_result"
    }
   ],
   "source": [
    "df_telefonos.tail()"
   ]
  },
  {
   "cell_type": "markdown",
   "metadata": {},
   "source": [
    "Luego, que tenga al menos 2 caracteres diferentes. Por lo que nos quedamos con aquellos que tengan una len(set(str)) > 1"
   ]
  },
  {
   "cell_type": "code",
   "execution_count": 16,
   "metadata": {},
   "outputs": [],
   "source": [
    "a = '88888888888'"
   ]
  },
  {
   "cell_type": "code",
   "execution_count": 17,
   "metadata": {},
   "outputs": [
    {
     "data": {
      "text/plain": [
       "1"
      ]
     },
     "execution_count": 17,
     "metadata": {},
     "output_type": "execute_result"
    }
   ],
   "source": [
    "len (set(a))"
   ]
  },
  {
   "cell_type": "markdown",
   "metadata": {},
   "source": [
    "Defino una función para chequear los caracteres diferentes"
   ]
  },
  {
   "cell_type": "code",
   "execution_count": 18,
   "metadata": {},
   "outputs": [],
   "source": [
    "def distinct_character(string):\n",
    "    dist_chars = len(set(string))\n",
    "    if dist_chars > 1:\n",
    "        ans = True\n",
    "    else:\n",
    "        ans = False\n",
    "    return ans"
   ]
  },
  {
   "cell_type": "markdown",
   "metadata": {},
   "source": [
    "Creo una columna temporal donde van los True/False"
   ]
  },
  {
   "cell_type": "code",
   "execution_count": 19,
   "metadata": {
    "scrolled": true
   },
   "outputs": [
    {
     "name": "stderr",
     "output_type": "stream",
     "text": [
      "<ipython-input-19-c16dd8c93c53>:1: SettingWithCopyWarning: \n",
      "A value is trying to be set on a copy of a slice from a DataFrame.\n",
      "Try using .loc[row_indexer,col_indexer] = value instead\n",
      "\n",
      "See the caveats in the documentation: https://pandas.pydata.org/pandas-docs/stable/user_guide/indexing.html#returning-a-view-versus-a-copy\n",
      "  df_telefonos['DIST_CHARACTER'] = df_telefonos['DATO_CLEAN'].apply(distinct_character)\n"
     ]
    }
   ],
   "source": [
    "df_telefonos['DIST_CHARACTER'] = df_telefonos['DATO_CLEAN'].apply(distinct_character) "
   ]
  },
  {
   "cell_type": "code",
   "execution_count": 20,
   "metadata": {},
   "outputs": [
    {
     "data": {
      "text/html": [
       "<div>\n",
       "<style scoped>\n",
       "    .dataframe tbody tr th:only-of-type {\n",
       "        vertical-align: middle;\n",
       "    }\n",
       "\n",
       "    .dataframe tbody tr th {\n",
       "        vertical-align: top;\n",
       "    }\n",
       "\n",
       "    .dataframe thead th {\n",
       "        text-align: right;\n",
       "    }\n",
       "</style>\n",
       "<table border=\"1\" class=\"dataframe\">\n",
       "  <thead>\n",
       "    <tr style=\"text-align: right;\">\n",
       "      <th></th>\n",
       "      <th>IDMOROSO</th>\n",
       "      <th>NOMBRE</th>\n",
       "      <th>DATO</th>\n",
       "      <th>TIPO</th>\n",
       "      <th>PROVEEDOR_DATO</th>\n",
       "      <th>DATO_CLEAN</th>\n",
       "      <th>DIST_CHARACTER</th>\n",
       "    </tr>\n",
       "  </thead>\n",
       "  <tbody>\n",
       "    <tr>\n",
       "      <th>0</th>\n",
       "      <td>DNI 22602516</td>\n",
       "      <td>LEGUIZAMON RAUL ALBERTO</td>\n",
       "      <td>45470245</td>\n",
       "      <td>TELEFONO</td>\n",
       "      <td>AH</td>\n",
       "      <td>45470245</td>\n",
       "      <td>True</td>\n",
       "    </tr>\n",
       "    <tr>\n",
       "      <th>1</th>\n",
       "      <td>DNI 5655203</td>\n",
       "      <td>ROMERO TERESITA MARIA DEL CARM</td>\n",
       "      <td>0001147374189</td>\n",
       "      <td>TELEFONO</td>\n",
       "      <td>AH</td>\n",
       "      <td>0001147374189</td>\n",
       "      <td>True</td>\n",
       "    </tr>\n",
       "    <tr>\n",
       "      <th>2</th>\n",
       "      <td>DNI 29951056</td>\n",
       "      <td>AIRA NOEMI INES</td>\n",
       "      <td>39688310</td>\n",
       "      <td>TELEFONO</td>\n",
       "      <td>AH</td>\n",
       "      <td>39688310</td>\n",
       "      <td>True</td>\n",
       "    </tr>\n",
       "    <tr>\n",
       "      <th>3</th>\n",
       "      <td>DNI 18004317</td>\n",
       "      <td>ROLDAN  LUIS ANIBAL</td>\n",
       "      <td>0001142953815</td>\n",
       "      <td>TELEFONO</td>\n",
       "      <td>AH</td>\n",
       "      <td>0001142953815</td>\n",
       "      <td>True</td>\n",
       "    </tr>\n",
       "    <tr>\n",
       "      <th>4</th>\n",
       "      <td>COL 12142024</td>\n",
       "      <td>OBREGON EDGAR</td>\n",
       "      <td>0000000000</td>\n",
       "      <td>TELEFONO</td>\n",
       "      <td>AH</td>\n",
       "      <td>0000000000</td>\n",
       "      <td>False</td>\n",
       "    </tr>\n",
       "  </tbody>\n",
       "</table>\n",
       "</div>"
      ],
      "text/plain": [
       "             IDMOROSO                                    NOMBRE  \\\n",
       "0  DNI 22602516        LEGUIZAMON RAUL ALBERTO                    \n",
       "1  DNI 5655203         ROMERO TERESITA MARIA DEL CARM             \n",
       "2  DNI 29951056        AIRA NOEMI INES                            \n",
       "3  DNI 18004317        ROLDAN  LUIS ANIBAL                        \n",
       "4  COL 12142024        OBREGON EDGAR                              \n",
       "\n",
       "                             DATO      TIPO PROVEEDOR_DATO     DATO_CLEAN  \\\n",
       "0  45470245                        TELEFONO             AH       45470245   \n",
       "1  0001147374189                   TELEFONO             AH  0001147374189   \n",
       "2  39688310                        TELEFONO             AH       39688310   \n",
       "3  0001142953815                   TELEFONO             AH  0001142953815   \n",
       "4  0000000000                      TELEFONO             AH     0000000000   \n",
       "\n",
       "   DIST_CHARACTER  \n",
       "0            True  \n",
       "1            True  \n",
       "2            True  \n",
       "3            True  \n",
       "4           False  "
      ]
     },
     "execution_count": 20,
     "metadata": {},
     "output_type": "execute_result"
    }
   ],
   "source": [
    "df_telefonos.head()"
   ]
  },
  {
   "cell_type": "code",
   "execution_count": 21,
   "metadata": {
    "scrolled": true
   },
   "outputs": [
    {
     "name": "stderr",
     "output_type": "stream",
     "text": [
      "C:\\Users\\Dleg\\anaconda3\\lib\\site-packages\\pandas\\core\\indexing.py:845: SettingWithCopyWarning: \n",
      "A value is trying to be set on a copy of a slice from a DataFrame.\n",
      "Try using .loc[row_indexer,col_indexer] = value instead\n",
      "\n",
      "See the caveats in the documentation: https://pandas.pydata.org/pandas-docs/stable/user_guide/indexing.html#returning-a-view-versus-a-copy\n",
      "  self.obj[key] = _infer_fill_value(value)\n",
      "C:\\Users\\Dleg\\anaconda3\\lib\\site-packages\\pandas\\core\\indexing.py:966: SettingWithCopyWarning: \n",
      "A value is trying to be set on a copy of a slice from a DataFrame.\n",
      "Try using .loc[row_indexer,col_indexer] = value instead\n",
      "\n",
      "See the caveats in the documentation: https://pandas.pydata.org/pandas-docs/stable/user_guide/indexing.html#returning-a-view-versus-a-copy\n",
      "  self.obj[item] = s\n"
     ]
    }
   ],
   "source": [
    "df_telefonos.loc[((df_telefonos['DIST_CHARACTER'] == True) & (df_telefonos['DATO_CLEAN'].str.len() >= 7)\n",
    "            ) , 'TELEFONO'] = df_telefonos['DATO_CLEAN']"
   ]
  },
  {
   "cell_type": "code",
   "execution_count": 22,
   "metadata": {},
   "outputs": [],
   "source": [
    "df_telefonos.loc[((df_telefonos['DIST_CHARACTER'] == False) & (df_telefonos['DATO_CLEAN'].str.len() < 7)\n",
    "                 ) , 'TELEFONO'] = np.nan"
   ]
  },
  {
   "cell_type": "code",
   "execution_count": 23,
   "metadata": {},
   "outputs": [
    {
     "data": {
      "text/html": [
       "<div>\n",
       "<style scoped>\n",
       "    .dataframe tbody tr th:only-of-type {\n",
       "        vertical-align: middle;\n",
       "    }\n",
       "\n",
       "    .dataframe tbody tr th {\n",
       "        vertical-align: top;\n",
       "    }\n",
       "\n",
       "    .dataframe thead th {\n",
       "        text-align: right;\n",
       "    }\n",
       "</style>\n",
       "<table border=\"1\" class=\"dataframe\">\n",
       "  <thead>\n",
       "    <tr style=\"text-align: right;\">\n",
       "      <th></th>\n",
       "      <th>IDMOROSO</th>\n",
       "      <th>NOMBRE</th>\n",
       "      <th>DATO</th>\n",
       "      <th>TIPO</th>\n",
       "      <th>PROVEEDOR_DATO</th>\n",
       "      <th>DATO_CLEAN</th>\n",
       "      <th>DIST_CHARACTER</th>\n",
       "      <th>TELEFONO</th>\n",
       "    </tr>\n",
       "  </thead>\n",
       "  <tbody>\n",
       "    <tr>\n",
       "      <th>0</th>\n",
       "      <td>DNI 22602516</td>\n",
       "      <td>LEGUIZAMON RAUL ALBERTO</td>\n",
       "      <td>45470245</td>\n",
       "      <td>TELEFONO</td>\n",
       "      <td>AH</td>\n",
       "      <td>45470245</td>\n",
       "      <td>True</td>\n",
       "      <td>45470245</td>\n",
       "    </tr>\n",
       "    <tr>\n",
       "      <th>1</th>\n",
       "      <td>DNI 5655203</td>\n",
       "      <td>ROMERO TERESITA MARIA DEL CARM</td>\n",
       "      <td>0001147374189</td>\n",
       "      <td>TELEFONO</td>\n",
       "      <td>AH</td>\n",
       "      <td>0001147374189</td>\n",
       "      <td>True</td>\n",
       "      <td>0001147374189</td>\n",
       "    </tr>\n",
       "    <tr>\n",
       "      <th>2</th>\n",
       "      <td>DNI 29951056</td>\n",
       "      <td>AIRA NOEMI INES</td>\n",
       "      <td>39688310</td>\n",
       "      <td>TELEFONO</td>\n",
       "      <td>AH</td>\n",
       "      <td>39688310</td>\n",
       "      <td>True</td>\n",
       "      <td>39688310</td>\n",
       "    </tr>\n",
       "    <tr>\n",
       "      <th>3</th>\n",
       "      <td>DNI 18004317</td>\n",
       "      <td>ROLDAN  LUIS ANIBAL</td>\n",
       "      <td>0001142953815</td>\n",
       "      <td>TELEFONO</td>\n",
       "      <td>AH</td>\n",
       "      <td>0001142953815</td>\n",
       "      <td>True</td>\n",
       "      <td>0001142953815</td>\n",
       "    </tr>\n",
       "    <tr>\n",
       "      <th>4</th>\n",
       "      <td>COL 12142024</td>\n",
       "      <td>OBREGON EDGAR</td>\n",
       "      <td>0000000000</td>\n",
       "      <td>TELEFONO</td>\n",
       "      <td>AH</td>\n",
       "      <td>0000000000</td>\n",
       "      <td>False</td>\n",
       "      <td>NaN</td>\n",
       "    </tr>\n",
       "  </tbody>\n",
       "</table>\n",
       "</div>"
      ],
      "text/plain": [
       "             IDMOROSO                                    NOMBRE  \\\n",
       "0  DNI 22602516        LEGUIZAMON RAUL ALBERTO                    \n",
       "1  DNI 5655203         ROMERO TERESITA MARIA DEL CARM             \n",
       "2  DNI 29951056        AIRA NOEMI INES                            \n",
       "3  DNI 18004317        ROLDAN  LUIS ANIBAL                        \n",
       "4  COL 12142024        OBREGON EDGAR                              \n",
       "\n",
       "                             DATO      TIPO PROVEEDOR_DATO     DATO_CLEAN  \\\n",
       "0  45470245                        TELEFONO             AH       45470245   \n",
       "1  0001147374189                   TELEFONO             AH  0001147374189   \n",
       "2  39688310                        TELEFONO             AH       39688310   \n",
       "3  0001142953815                   TELEFONO             AH  0001142953815   \n",
       "4  0000000000                      TELEFONO             AH     0000000000   \n",
       "\n",
       "   DIST_CHARACTER       TELEFONO  \n",
       "0            True       45470245  \n",
       "1            True  0001147374189  \n",
       "2            True       39688310  \n",
       "3            True  0001142953815  \n",
       "4           False            NaN  "
      ]
     },
     "execution_count": 23,
     "metadata": {},
     "output_type": "execute_result"
    }
   ],
   "source": [
    "df_telefonos.head()"
   ]
  },
  {
   "cell_type": "code",
   "execution_count": 24,
   "metadata": {},
   "outputs": [
    {
     "data": {
      "text/plain": [
       "43188500       429\n",
       "03364460380    248\n",
       "45763300       148\n",
       "43633100       127\n",
       "49598200       118\n",
       "43481200       107\n",
       "43464133       107\n",
       "43401100       106\n",
       "0340478200     105\n",
       "02901433460     96\n",
       "40037000        91\n",
       "02214296100     87\n",
       "59831420        82\n",
       "47569000        77\n",
       "48578118        77\n",
       "46306600        73\n",
       "03364438100     72\n",
       "48304100        72\n",
       "47112000        70\n",
       "47043000        69\n",
       "47098000        68\n",
       "49596100        63\n",
       "44320606        60\n",
       "45092555        59\n",
       "56272000        57\n",
       "02214210808     56\n",
       "43292000        52\n",
       "03442441800     51\n",
       "02214298300     51\n",
       "03444425757     48\n",
       "Name: TELEFONO, dtype: int64"
      ]
     },
     "execution_count": 24,
     "metadata": {},
     "output_type": "execute_result"
    }
   ],
   "source": [
    "df_telefonos['TELEFONO'].value_counts().head(30)"
   ]
  },
  {
   "cell_type": "code",
   "execution_count": 25,
   "metadata": {},
   "outputs": [
    {
     "data": {
      "text/html": [
       "<div>\n",
       "<style scoped>\n",
       "    .dataframe tbody tr th:only-of-type {\n",
       "        vertical-align: middle;\n",
       "    }\n",
       "\n",
       "    .dataframe tbody tr th {\n",
       "        vertical-align: top;\n",
       "    }\n",
       "\n",
       "    .dataframe thead th {\n",
       "        text-align: right;\n",
       "    }\n",
       "</style>\n",
       "<table border=\"1\" class=\"dataframe\">\n",
       "  <thead>\n",
       "    <tr style=\"text-align: right;\">\n",
       "      <th></th>\n",
       "      <th>IDMOROSO</th>\n",
       "      <th>NOMBRE</th>\n",
       "      <th>DATO</th>\n",
       "      <th>TIPO</th>\n",
       "      <th>PROVEEDOR_DATO</th>\n",
       "      <th>DATO_CLEAN</th>\n",
       "      <th>DIST_CHARACTER</th>\n",
       "      <th>TELEFONO</th>\n",
       "    </tr>\n",
       "  </thead>\n",
       "  <tbody>\n",
       "    <tr>\n",
       "      <th>91982</th>\n",
       "      <td>COL 13747801</td>\n",
       "      <td>LAZO PABLO WALTER</td>\n",
       "      <td>0000000000</td>\n",
       "      <td>TELEFONO</td>\n",
       "      <td>AH</td>\n",
       "      <td>0000000000</td>\n",
       "      <td>False</td>\n",
       "      <td>NaN</td>\n",
       "    </tr>\n",
       "    <tr>\n",
       "      <th>266411</th>\n",
       "      <td>COL 13747801</td>\n",
       "      <td>LAZO PABLO WALTER</td>\n",
       "      <td>&lt;&lt; ANTES D 19 HS</td>\n",
       "      <td>TELEFONO</td>\n",
       "      <td>AH</td>\n",
       "      <td>19</td>\n",
       "      <td>True</td>\n",
       "      <td>NaN</td>\n",
       "    </tr>\n",
       "    <tr>\n",
       "      <th>358924</th>\n",
       "      <td>COL 13747801</td>\n",
       "      <td>LAZO PABLO WALTER</td>\n",
       "      <td>02614238259</td>\n",
       "      <td>TELEFONO</td>\n",
       "      <td>AH</td>\n",
       "      <td>02614238259</td>\n",
       "      <td>True</td>\n",
       "      <td>02614238259</td>\n",
       "    </tr>\n",
       "    <tr>\n",
       "      <th>465727</th>\n",
       "      <td>COL 13747801</td>\n",
       "      <td>LAZO PABLO WALTER</td>\n",
       "      <td>TRABAJO</td>\n",
       "      <td>TELEFONO</td>\n",
       "      <td>AH</td>\n",
       "      <td></td>\n",
       "      <td>False</td>\n",
       "      <td>NaN</td>\n",
       "    </tr>\n",
       "  </tbody>\n",
       "</table>\n",
       "</div>"
      ],
      "text/plain": [
       "                  IDMOROSO                                    NOMBRE  \\\n",
       "91982   COL 13747801        LAZO PABLO WALTER                          \n",
       "266411  COL 13747801        LAZO PABLO WALTER                          \n",
       "358924  COL 13747801        LAZO PABLO WALTER                          \n",
       "465727  COL 13747801        LAZO PABLO WALTER                          \n",
       "\n",
       "                                  DATO      TIPO PROVEEDOR_DATO   DATO_CLEAN  \\\n",
       "91982   0000000000                      TELEFONO             AH   0000000000   \n",
       "266411  << ANTES D 19 HS                TELEFONO             AH           19   \n",
       "358924  02614238259                     TELEFONO             AH  02614238259   \n",
       "465727  TRABAJO                         TELEFONO             AH                \n",
       "\n",
       "        DIST_CHARACTER     TELEFONO  \n",
       "91982            False          NaN  \n",
       "266411            True          NaN  \n",
       "358924            True  02614238259  \n",
       "465727           False          NaN  "
      ]
     },
     "execution_count": 25,
     "metadata": {},
     "output_type": "execute_result"
    }
   ],
   "source": [
    "df_telefonos[df_telefonos['IDMOROSO'] == 'COL 13747801      ']"
   ]
  },
  {
   "cell_type": "markdown",
   "metadata": {},
   "source": [
    "## Drop"
   ]
  },
  {
   "cell_type": "markdown",
   "metadata": {},
   "source": [
    "Dropeamos aquellos que tengan NaN en la columna Telefono"
   ]
  },
  {
   "cell_type": "code",
   "execution_count": 26,
   "metadata": {},
   "outputs": [],
   "source": [
    "df_telefonos = df_telefonos.dropna(subset=['TELEFONO'])"
   ]
  },
  {
   "cell_type": "code",
   "execution_count": 27,
   "metadata": {},
   "outputs": [
    {
     "data": {
      "text/html": [
       "<div>\n",
       "<style scoped>\n",
       "    .dataframe tbody tr th:only-of-type {\n",
       "        vertical-align: middle;\n",
       "    }\n",
       "\n",
       "    .dataframe tbody tr th {\n",
       "        vertical-align: top;\n",
       "    }\n",
       "\n",
       "    .dataframe thead th {\n",
       "        text-align: right;\n",
       "    }\n",
       "</style>\n",
       "<table border=\"1\" class=\"dataframe\">\n",
       "  <thead>\n",
       "    <tr style=\"text-align: right;\">\n",
       "      <th></th>\n",
       "      <th>IDMOROSO</th>\n",
       "      <th>NOMBRE</th>\n",
       "      <th>DATO</th>\n",
       "      <th>TIPO</th>\n",
       "      <th>PROVEEDOR_DATO</th>\n",
       "      <th>DATO_CLEAN</th>\n",
       "      <th>DIST_CHARACTER</th>\n",
       "      <th>TELEFONO</th>\n",
       "    </tr>\n",
       "  </thead>\n",
       "  <tbody>\n",
       "    <tr>\n",
       "      <th>358924</th>\n",
       "      <td>COL 13747801</td>\n",
       "      <td>LAZO PABLO WALTER</td>\n",
       "      <td>02614238259</td>\n",
       "      <td>TELEFONO</td>\n",
       "      <td>AH</td>\n",
       "      <td>02614238259</td>\n",
       "      <td>True</td>\n",
       "      <td>02614238259</td>\n",
       "    </tr>\n",
       "  </tbody>\n",
       "</table>\n",
       "</div>"
      ],
      "text/plain": [
       "                  IDMOROSO                                    NOMBRE  \\\n",
       "358924  COL 13747801        LAZO PABLO WALTER                          \n",
       "\n",
       "                                  DATO      TIPO PROVEEDOR_DATO   DATO_CLEAN  \\\n",
       "358924  02614238259                     TELEFONO             AH  02614238259   \n",
       "\n",
       "        DIST_CHARACTER     TELEFONO  \n",
       "358924            True  02614238259  "
      ]
     },
     "execution_count": 27,
     "metadata": {},
     "output_type": "execute_result"
    }
   ],
   "source": [
    "df_telefonos[df_telefonos['IDMOROSO'] == 'COL 13747801      ']"
   ]
  },
  {
   "cell_type": "code",
   "execution_count": 28,
   "metadata": {},
   "outputs": [
    {
     "data": {
      "text/plain": [
       "(375338, 8)"
      ]
     },
     "execution_count": 28,
     "metadata": {},
     "output_type": "execute_result"
    }
   ],
   "source": [
    "df_telefonos.shape"
   ]
  },
  {
   "cell_type": "code",
   "execution_count": 29,
   "metadata": {},
   "outputs": [],
   "source": [
    "df_telefonos = df_telefonos [['IDMOROSO','TELEFONO','TIPO','PROVEEDOR_DATO']]"
   ]
  },
  {
   "cell_type": "markdown",
   "metadata": {},
   "source": [
    "## 12.2) DNI Cleaning"
   ]
  },
  {
   "cell_type": "markdown",
   "metadata": {},
   "source": [
    "Limpiamos el dataframe __df_pyp__, ya que dentro de DATO_A_ENVIAR tenemos 9 tipos de casos diferentes de datos:\n",
    "\n",
    "- DNI 12345678\n",
    "- DNI12345678\n",
    "- DNIE1234678\n",
    "- LC  1234567\n",
    "- LE  1234567\n",
    "- CUIT00123456780\n",
    "- 00123456780 --> Es un CUIT.\n",
    "- 00 12345678 0 --> Es un CUIT.\n",
    "- DNI 00123456780 --> Dice DNI pero es un CUIT de una persona __jurídica__ (TO DO)"
   ]
  },
  {
   "cell_type": "markdown",
   "metadata": {},
   "source": [
    "Para eso definimos 5 funciones:\n",
    "\n",
    "- __Tipo_DOC__: Se definen dos funciones para determinar el tipo de DNI. Una inicial, y otra para corregir sobre el dataframe resultante.\n",
    "- __Standard DNI__: Estandariza los DNI para 7 de los casos. Esta función debe ejecutarse en primer lugar.\n",
    "- __DNI Spaces__: Elimina los espacios.\n",
    "- __DNI Zero__: Elimina los ceros iniciales de ciertos CUITs para que coincidan con los DNI.\n",
    "- __Cuit__: Decisión sobre dejar un cuit o volverlo DNI"
   ]
  },
  {
   "cell_type": "code",
   "execution_count": 30,
   "metadata": {},
   "outputs": [],
   "source": [
    "def tipo_doc_1 (string_dni):\n",
    "    \n",
    "    if 'DNI' in string_dni:\n",
    "        tipo = 'DNI'\n",
    "    \n",
    "    elif 'LC' in string_dni:\n",
    "        tipo = 'LC'\n",
    "    \n",
    "    elif 'LE' in string_dni:\n",
    "        tipo = 'LE'\n",
    "    \n",
    "    elif 'DNIE' in string_dni:\n",
    "        tipo = 'DNIE'    \n",
    "    \n",
    "    elif ((string_dni.startswith(('CUIT30','CUIT33','CUIT34'))) & (len(string_dni)>8)):\n",
    "        tipo = 'CUIT'\n",
    "        \n",
    "    elif ((string_dni.startswith(('30','33','34'))) & (len(string_dni)>8)):\n",
    "        tipo = 'CUIT'\n",
    "\n",
    "    elif ((string_dni.startswith(('20','23','24','27'))) & (len(string_dni)>8)):\n",
    "        tipo = 'DNI'\n",
    "\n",
    "    elif ((string_dni.startswith(('CUIT20','CUIT23','CUIT24','CUIT27'))) & (len(string_dni)>8)):\n",
    "        tipo = 'DNI'\n",
    "        \n",
    "    else:\n",
    "        tipo = 'DNI'\n",
    "    \n",
    "    return tipo"
   ]
  },
  {
   "cell_type": "code",
   "execution_count": 31,
   "metadata": {},
   "outputs": [],
   "source": [
    "def tipo_doc_2 (string_dni, tipo_original):\n",
    "    \n",
    "    if (len(string_dni) > 8) & (tipo_original == 'DNI'):\n",
    "        tipo = 'CUIT'\n",
    "    else:\n",
    "        tipo = tipo_original\n",
    "    return tipo"
   ]
  },
  {
   "cell_type": "code",
   "execution_count": 32,
   "metadata": {},
   "outputs": [],
   "source": [
    "def standard_dni (string_dni):\n",
    "    \"\"\"DNI separation by each case.\n",
    "    \"\"\"\n",
    "    \n",
    "    if 'DNI ' in string_dni:\n",
    "        dni = string_dni.split('DNI ')[1]\n",
    "        \n",
    "    elif 'DNIE' in string_dni:\n",
    "        dni = string_dni.split('DNIE')[1]\n",
    "    \n",
    "    elif 'DNI' in string_dni:\n",
    "        dni = string_dni.split('DNI')[1]\n",
    "    \n",
    "    elif 'LC  ' in string_dni:\n",
    "        dni = string_dni.split('LC  ')[1]\n",
    "    \n",
    "    elif 'LE  ' in string_dni:\n",
    "        dni = string_dni.split('LE  ')[1]\n",
    "    \n",
    "    elif 'CUIT' in string_dni:\n",
    "        dni = string_dni.split('CUIT')[1]\n",
    "    \n",
    "    elif 'COL ' in string_dni:\n",
    "        dni = string_dni.split('COL ')[1]\n",
    "        \n",
    "    elif 'BBVA' in string_dni:\n",
    "        dni = string_dni.split('BBVA')[1]\n",
    "                \n",
    "        \n",
    "    else:\n",
    "        dni = string_dni\n",
    "        \n",
    "    return dni"
   ]
  },
  {
   "cell_type": "code",
   "execution_count": 33,
   "metadata": {},
   "outputs": [],
   "source": [
    "def dni_characters (string_dni):\n",
    "    \n",
    "    if ' ' in string_dni:\n",
    "        dni = string_dni.replace(' ','')\n",
    "        \n",
    "    elif '-' in string_dni:\n",
    "        dni = string_dni.replace('-','')\n",
    "\n",
    "    else:\n",
    "        dni = string_dni\n",
    "    \n",
    "    return dni"
   ]
  },
  {
   "cell_type": "code",
   "execution_count": 34,
   "metadata": {},
   "outputs": [],
   "source": [
    "def cuit (string_dni):\n",
    "    \n",
    "    if ((string_dni.startswith('20')) & (len(string_dni)>8)):\n",
    "        cuit = string_dni [2:-1]\n",
    "        \n",
    "    elif ((string_dni.startswith('23')) & (len(string_dni)>8)):\n",
    "        cuit = string_dni [2:-1]\n",
    "        \n",
    "    elif ((string_dni.startswith('24')) & (len(string_dni)>8)):\n",
    "        cuit = string_dni [2:-1]\n",
    "\n",
    "    elif ((string_dni.startswith('27')) & (len(string_dni)>8)):\n",
    "        cuit = string_dni [2:-1]\n",
    "\n",
    "    else:\n",
    "        cuit = string_dni\n",
    "        \n",
    "    return cuit"
   ]
  },
  {
   "cell_type": "code",
   "execution_count": 35,
   "metadata": {},
   "outputs": [],
   "source": [
    "def dni_zero (string_dni):\n",
    "    \n",
    "    if string_dni.startswith('0'):\n",
    "        dni = string_dni [1:]\n",
    "\n",
    "    else:\n",
    "        dni = string_dni\n",
    "    \n",
    "    return dni"
   ]
  },
  {
   "cell_type": "markdown",
   "metadata": {},
   "source": [
    "En primer lugar, trimmeamos los espacios que sobran:"
   ]
  },
  {
   "cell_type": "code",
   "execution_count": 36,
   "metadata": {},
   "outputs": [
    {
     "data": {
      "text/html": [
       "<div>\n",
       "<style scoped>\n",
       "    .dataframe tbody tr th:only-of-type {\n",
       "        vertical-align: middle;\n",
       "    }\n",
       "\n",
       "    .dataframe tbody tr th {\n",
       "        vertical-align: top;\n",
       "    }\n",
       "\n",
       "    .dataframe thead th {\n",
       "        text-align: right;\n",
       "    }\n",
       "</style>\n",
       "<table border=\"1\" class=\"dataframe\">\n",
       "  <thead>\n",
       "    <tr style=\"text-align: right;\">\n",
       "      <th></th>\n",
       "      <th>IDMOROSO</th>\n",
       "      <th>TELEFONO</th>\n",
       "      <th>TIPO</th>\n",
       "      <th>PROVEEDOR_DATO</th>\n",
       "    </tr>\n",
       "  </thead>\n",
       "  <tbody>\n",
       "    <tr>\n",
       "      <th>0</th>\n",
       "      <td>DNI 22602516</td>\n",
       "      <td>45470245</td>\n",
       "      <td>TELEFONO</td>\n",
       "      <td>AH</td>\n",
       "    </tr>\n",
       "    <tr>\n",
       "      <th>1</th>\n",
       "      <td>DNI 5655203</td>\n",
       "      <td>0001147374189</td>\n",
       "      <td>TELEFONO</td>\n",
       "      <td>AH</td>\n",
       "    </tr>\n",
       "    <tr>\n",
       "      <th>2</th>\n",
       "      <td>DNI 29951056</td>\n",
       "      <td>39688310</td>\n",
       "      <td>TELEFONO</td>\n",
       "      <td>AH</td>\n",
       "    </tr>\n",
       "    <tr>\n",
       "      <th>3</th>\n",
       "      <td>DNI 18004317</td>\n",
       "      <td>0001142953815</td>\n",
       "      <td>TELEFONO</td>\n",
       "      <td>AH</td>\n",
       "    </tr>\n",
       "    <tr>\n",
       "      <th>5</th>\n",
       "      <td>COL 12454241</td>\n",
       "      <td>43077577</td>\n",
       "      <td>TELEFONO</td>\n",
       "      <td>AH</td>\n",
       "    </tr>\n",
       "    <tr>\n",
       "      <th>...</th>\n",
       "      <td>...</td>\n",
       "      <td>...</td>\n",
       "      <td>...</td>\n",
       "      <td>...</td>\n",
       "    </tr>\n",
       "    <tr>\n",
       "      <th>472697</th>\n",
       "      <td>DNI 10025321</td>\n",
       "      <td>03624432089</td>\n",
       "      <td>TELEFONO</td>\n",
       "      <td>AH</td>\n",
       "    </tr>\n",
       "    <tr>\n",
       "      <th>472699</th>\n",
       "      <td>COL 13289245</td>\n",
       "      <td>03722427803</td>\n",
       "      <td>TELEFONO</td>\n",
       "      <td>AH</td>\n",
       "    </tr>\n",
       "    <tr>\n",
       "      <th>472706</th>\n",
       "      <td>DNI 14216939</td>\n",
       "      <td>42673883</td>\n",
       "      <td>TELEFONO</td>\n",
       "      <td>AH</td>\n",
       "    </tr>\n",
       "    <tr>\n",
       "      <th>472710</th>\n",
       "      <td>DNI 18012467</td>\n",
       "      <td>02657433104</td>\n",
       "      <td>TELEFONO</td>\n",
       "      <td>AH</td>\n",
       "    </tr>\n",
       "    <tr>\n",
       "      <th>472711</th>\n",
       "      <td>COL 28883717</td>\n",
       "      <td>8121620</td>\n",
       "      <td>TELEFONO</td>\n",
       "      <td>AH</td>\n",
       "    </tr>\n",
       "  </tbody>\n",
       "</table>\n",
       "<p>375338 rows × 4 columns</p>\n",
       "</div>"
      ],
      "text/plain": [
       "                  IDMOROSO       TELEFONO      TIPO PROVEEDOR_DATO\n",
       "0       DNI 22602516             45470245  TELEFONO             AH\n",
       "1       DNI 5655203         0001147374189  TELEFONO             AH\n",
       "2       DNI 29951056             39688310  TELEFONO             AH\n",
       "3       DNI 18004317        0001142953815  TELEFONO             AH\n",
       "5       COL 12454241             43077577  TELEFONO             AH\n",
       "...                    ...            ...       ...            ...\n",
       "472697  DNI 10025321          03624432089  TELEFONO             AH\n",
       "472699  COL 13289245          03722427803  TELEFONO             AH\n",
       "472706  DNI 14216939             42673883  TELEFONO             AH\n",
       "472710  DNI 18012467          02657433104  TELEFONO             AH\n",
       "472711  COL 28883717              8121620  TELEFONO             AH\n",
       "\n",
       "[375338 rows x 4 columns]"
      ]
     },
     "execution_count": 36,
     "metadata": {},
     "output_type": "execute_result"
    }
   ],
   "source": [
    "df_telefonos"
   ]
  },
  {
   "cell_type": "code",
   "execution_count": 37,
   "metadata": {},
   "outputs": [],
   "source": [
    "df_telefonos['NRO_DOC'] = df_telefonos['IDMOROSO'].str.strip()"
   ]
  },
  {
   "cell_type": "markdown",
   "metadata": {},
   "source": [
    "Se implementan estas funciones:"
   ]
  },
  {
   "cell_type": "markdown",
   "metadata": {},
   "source": [
    "Para determinar el __TIPO DE DOCUMENTO__ en primer lugar:"
   ]
  },
  {
   "cell_type": "code",
   "execution_count": 38,
   "metadata": {},
   "outputs": [],
   "source": [
    "df_telefonos['TIPO_DOC'] = df_telefonos['NRO_DOC'].apply(tipo_doc_1)"
   ]
  },
  {
   "cell_type": "markdown",
   "metadata": {},
   "source": [
    "Para la limpieza de DNIs:"
   ]
  },
  {
   "cell_type": "code",
   "execution_count": 39,
   "metadata": {},
   "outputs": [],
   "source": [
    "df_telefonos['NRO_DOC'] = df_telefonos['NRO_DOC'].apply(standard_dni)"
   ]
  },
  {
   "cell_type": "code",
   "execution_count": 40,
   "metadata": {},
   "outputs": [],
   "source": [
    "df_telefonos['NRO_DOC'] = df_telefonos['NRO_DOC'].apply(dni_characters)"
   ]
  },
  {
   "cell_type": "code",
   "execution_count": 41,
   "metadata": {},
   "outputs": [],
   "source": [
    "df_telefonos['NRO_DOC'] = df_telefonos['NRO_DOC'].apply(cuit)"
   ]
  },
  {
   "cell_type": "code",
   "execution_count": 42,
   "metadata": {},
   "outputs": [],
   "source": [
    "df_telefonos['NRO_DOC'] = df_telefonos['NRO_DOC'].apply(dni_zero)"
   ]
  },
  {
   "cell_type": "markdown",
   "metadata": {},
   "source": [
    "Para corregir el __TIPO DE DOCUMENTO__ sobre el dataframe resultante"
   ]
  },
  {
   "cell_type": "code",
   "execution_count": 43,
   "metadata": {},
   "outputs": [],
   "source": [
    "# REVISAR\n",
    "\n",
    "#df_telefonos['TIPO_DOC'] = df_telefonos['NRO_DOC'].apply(tipo_doc_2(df_telefonos['NRO_DOC'],df_telefonos['TIPO_DOC']))"
   ]
  },
  {
   "cell_type": "code",
   "execution_count": 44,
   "metadata": {
    "scrolled": true
   },
   "outputs": [
    {
     "data": {
      "text/html": [
       "<div>\n",
       "<style scoped>\n",
       "    .dataframe tbody tr th:only-of-type {\n",
       "        vertical-align: middle;\n",
       "    }\n",
       "\n",
       "    .dataframe tbody tr th {\n",
       "        vertical-align: top;\n",
       "    }\n",
       "\n",
       "    .dataframe thead th {\n",
       "        text-align: right;\n",
       "    }\n",
       "</style>\n",
       "<table border=\"1\" class=\"dataframe\">\n",
       "  <thead>\n",
       "    <tr style=\"text-align: right;\">\n",
       "      <th></th>\n",
       "      <th>IDMOROSO</th>\n",
       "      <th>TELEFONO</th>\n",
       "      <th>TIPO</th>\n",
       "      <th>PROVEEDOR_DATO</th>\n",
       "      <th>NRO_DOC</th>\n",
       "      <th>TIPO_DOC</th>\n",
       "    </tr>\n",
       "  </thead>\n",
       "  <tbody>\n",
       "    <tr>\n",
       "      <th>0</th>\n",
       "      <td>DNI 22602516</td>\n",
       "      <td>45470245</td>\n",
       "      <td>TELEFONO</td>\n",
       "      <td>AH</td>\n",
       "      <td>22602516</td>\n",
       "      <td>DNI</td>\n",
       "    </tr>\n",
       "    <tr>\n",
       "      <th>1</th>\n",
       "      <td>DNI 5655203</td>\n",
       "      <td>0001147374189</td>\n",
       "      <td>TELEFONO</td>\n",
       "      <td>AH</td>\n",
       "      <td>5655203</td>\n",
       "      <td>DNI</td>\n",
       "    </tr>\n",
       "    <tr>\n",
       "      <th>2</th>\n",
       "      <td>DNI 29951056</td>\n",
       "      <td>39688310</td>\n",
       "      <td>TELEFONO</td>\n",
       "      <td>AH</td>\n",
       "      <td>29951056</td>\n",
       "      <td>DNI</td>\n",
       "    </tr>\n",
       "    <tr>\n",
       "      <th>3</th>\n",
       "      <td>DNI 18004317</td>\n",
       "      <td>0001142953815</td>\n",
       "      <td>TELEFONO</td>\n",
       "      <td>AH</td>\n",
       "      <td>18004317</td>\n",
       "      <td>DNI</td>\n",
       "    </tr>\n",
       "    <tr>\n",
       "      <th>5</th>\n",
       "      <td>COL 12454241</td>\n",
       "      <td>43077577</td>\n",
       "      <td>TELEFONO</td>\n",
       "      <td>AH</td>\n",
       "      <td>12454241</td>\n",
       "      <td>DNI</td>\n",
       "    </tr>\n",
       "  </tbody>\n",
       "</table>\n",
       "</div>"
      ],
      "text/plain": [
       "             IDMOROSO       TELEFONO      TIPO PROVEEDOR_DATO   NRO_DOC  \\\n",
       "0  DNI 22602516             45470245  TELEFONO             AH  22602516   \n",
       "1  DNI 5655203         0001147374189  TELEFONO             AH   5655203   \n",
       "2  DNI 29951056             39688310  TELEFONO             AH  29951056   \n",
       "3  DNI 18004317        0001142953815  TELEFONO             AH  18004317   \n",
       "5  COL 12454241             43077577  TELEFONO             AH  12454241   \n",
       "\n",
       "  TIPO_DOC  \n",
       "0      DNI  \n",
       "1      DNI  \n",
       "2      DNI  \n",
       "3      DNI  \n",
       "5      DNI  "
      ]
     },
     "execution_count": 44,
     "metadata": {},
     "output_type": "execute_result"
    }
   ],
   "source": [
    "df_telefonos.head()"
   ]
  },
  {
   "cell_type": "code",
   "execution_count": 45,
   "metadata": {},
   "outputs": [],
   "source": [
    "#df_telefonos.to_csv('ah_test_tel.csv')"
   ]
  },
  {
   "cell_type": "markdown",
   "metadata": {},
   "source": [
    "## Campos adicionales"
   ]
  },
  {
   "cell_type": "markdown",
   "metadata": {},
   "source": [
    "Asigno campos adicionales que no tengo"
   ]
  },
  {
   "cell_type": "code",
   "execution_count": 46,
   "metadata": {},
   "outputs": [],
   "source": [
    "df_telefonos = df_telefonos.assign(CUIT_CUIL=np.nan)"
   ]
  },
  {
   "cell_type": "code",
   "execution_count": 47,
   "metadata": {},
   "outputs": [],
   "source": [
    "df_telefonos = df_telefonos.assign(SUBTIPO='PERSONAL')"
   ]
  },
  {
   "cell_type": "code",
   "execution_count": 48,
   "metadata": {},
   "outputs": [],
   "source": [
    "df_telefonos.loc[((df_telefonos['TELEFONO'].str.startswith('11')) |((df_telefonos['TELEFONO'].str.startswith('15'))\n",
    "            \n",
    "            )) , 'TIPO'] = 'TEL.CELULAR'"
   ]
  },
  {
   "cell_type": "code",
   "execution_count": 49,
   "metadata": {},
   "outputs": [],
   "source": [
    "df_telefonos.loc[(df_telefonos['TIPO'] != 'TEL.CELULAR') , 'TIPO'] = 'TEL.FIJO'"
   ]
  },
  {
   "cell_type": "code",
   "execution_count": 50,
   "metadata": {},
   "outputs": [],
   "source": [
    "df_telefonos = df_telefonos.rename(columns = {'TELEFONO':'DATO'})"
   ]
  },
  {
   "cell_type": "code",
   "execution_count": 51,
   "metadata": {},
   "outputs": [],
   "source": [
    "df_telefonos = df_telefonos.assign(PROPIETARIO_DATO='Propio')"
   ]
  },
  {
   "cell_type": "code",
   "execution_count": 52,
   "metadata": {},
   "outputs": [],
   "source": [
    "df_telefonos = df_telefonos.assign(FECHA_INGRESO_DATO=pd.to_datetime('today'))"
   ]
  },
  {
   "cell_type": "code",
   "execution_count": 53,
   "metadata": {},
   "outputs": [],
   "source": [
    "df_telefonos['VERIFICADO'] = False"
   ]
  },
  {
   "cell_type": "code",
   "execution_count": 54,
   "metadata": {},
   "outputs": [],
   "source": [
    "df_telefonos['FECHA_VERIFICACION'] = np.nan"
   ]
  },
  {
   "cell_type": "code",
   "execution_count": 55,
   "metadata": {},
   "outputs": [],
   "source": [
    "df_telefonos['OPERADOR_VERIFICACION'] = np.nan"
   ]
  },
  {
   "cell_type": "code",
   "execution_count": 56,
   "metadata": {},
   "outputs": [],
   "source": [
    "df_telefonos['SCORE_DATO'] = 1.5"
   ]
  },
  {
   "cell_type": "code",
   "execution_count": 57,
   "metadata": {
    "scrolled": true
   },
   "outputs": [
    {
     "data": {
      "text/html": [
       "<div>\n",
       "<style scoped>\n",
       "    .dataframe tbody tr th:only-of-type {\n",
       "        vertical-align: middle;\n",
       "    }\n",
       "\n",
       "    .dataframe tbody tr th {\n",
       "        vertical-align: top;\n",
       "    }\n",
       "\n",
       "    .dataframe thead th {\n",
       "        text-align: right;\n",
       "    }\n",
       "</style>\n",
       "<table border=\"1\" class=\"dataframe\">\n",
       "  <thead>\n",
       "    <tr style=\"text-align: right;\">\n",
       "      <th></th>\n",
       "      <th>IDMOROSO</th>\n",
       "      <th>DATO</th>\n",
       "      <th>TIPO</th>\n",
       "      <th>PROVEEDOR_DATO</th>\n",
       "      <th>NRO_DOC</th>\n",
       "      <th>TIPO_DOC</th>\n",
       "      <th>CUIT_CUIL</th>\n",
       "      <th>SUBTIPO</th>\n",
       "      <th>PROPIETARIO_DATO</th>\n",
       "      <th>FECHA_INGRESO_DATO</th>\n",
       "      <th>VERIFICADO</th>\n",
       "      <th>FECHA_VERIFICACION</th>\n",
       "      <th>OPERADOR_VERIFICACION</th>\n",
       "      <th>SCORE_DATO</th>\n",
       "    </tr>\n",
       "  </thead>\n",
       "  <tbody>\n",
       "    <tr>\n",
       "      <th>0</th>\n",
       "      <td>DNI 22602516</td>\n",
       "      <td>45470245</td>\n",
       "      <td>TEL.FIJO</td>\n",
       "      <td>AH</td>\n",
       "      <td>22602516</td>\n",
       "      <td>DNI</td>\n",
       "      <td>NaN</td>\n",
       "      <td>PERSONAL</td>\n",
       "      <td>Propio</td>\n",
       "      <td>2020-12-21 17:06:07.420069</td>\n",
       "      <td>False</td>\n",
       "      <td>NaN</td>\n",
       "      <td>NaN</td>\n",
       "      <td>1.5</td>\n",
       "    </tr>\n",
       "    <tr>\n",
       "      <th>1</th>\n",
       "      <td>DNI 5655203</td>\n",
       "      <td>0001147374189</td>\n",
       "      <td>TEL.FIJO</td>\n",
       "      <td>AH</td>\n",
       "      <td>5655203</td>\n",
       "      <td>DNI</td>\n",
       "      <td>NaN</td>\n",
       "      <td>PERSONAL</td>\n",
       "      <td>Propio</td>\n",
       "      <td>2020-12-21 17:06:07.420069</td>\n",
       "      <td>False</td>\n",
       "      <td>NaN</td>\n",
       "      <td>NaN</td>\n",
       "      <td>1.5</td>\n",
       "    </tr>\n",
       "    <tr>\n",
       "      <th>2</th>\n",
       "      <td>DNI 29951056</td>\n",
       "      <td>39688310</td>\n",
       "      <td>TEL.FIJO</td>\n",
       "      <td>AH</td>\n",
       "      <td>29951056</td>\n",
       "      <td>DNI</td>\n",
       "      <td>NaN</td>\n",
       "      <td>PERSONAL</td>\n",
       "      <td>Propio</td>\n",
       "      <td>2020-12-21 17:06:07.420069</td>\n",
       "      <td>False</td>\n",
       "      <td>NaN</td>\n",
       "      <td>NaN</td>\n",
       "      <td>1.5</td>\n",
       "    </tr>\n",
       "    <tr>\n",
       "      <th>3</th>\n",
       "      <td>DNI 18004317</td>\n",
       "      <td>0001142953815</td>\n",
       "      <td>TEL.FIJO</td>\n",
       "      <td>AH</td>\n",
       "      <td>18004317</td>\n",
       "      <td>DNI</td>\n",
       "      <td>NaN</td>\n",
       "      <td>PERSONAL</td>\n",
       "      <td>Propio</td>\n",
       "      <td>2020-12-21 17:06:07.420069</td>\n",
       "      <td>False</td>\n",
       "      <td>NaN</td>\n",
       "      <td>NaN</td>\n",
       "      <td>1.5</td>\n",
       "    </tr>\n",
       "    <tr>\n",
       "      <th>5</th>\n",
       "      <td>COL 12454241</td>\n",
       "      <td>43077577</td>\n",
       "      <td>TEL.FIJO</td>\n",
       "      <td>AH</td>\n",
       "      <td>12454241</td>\n",
       "      <td>DNI</td>\n",
       "      <td>NaN</td>\n",
       "      <td>PERSONAL</td>\n",
       "      <td>Propio</td>\n",
       "      <td>2020-12-21 17:06:07.420069</td>\n",
       "      <td>False</td>\n",
       "      <td>NaN</td>\n",
       "      <td>NaN</td>\n",
       "      <td>1.5</td>\n",
       "    </tr>\n",
       "  </tbody>\n",
       "</table>\n",
       "</div>"
      ],
      "text/plain": [
       "             IDMOROSO           DATO      TIPO PROVEEDOR_DATO   NRO_DOC  \\\n",
       "0  DNI 22602516             45470245  TEL.FIJO             AH  22602516   \n",
       "1  DNI 5655203         0001147374189  TEL.FIJO             AH   5655203   \n",
       "2  DNI 29951056             39688310  TEL.FIJO             AH  29951056   \n",
       "3  DNI 18004317        0001142953815  TEL.FIJO             AH  18004317   \n",
       "5  COL 12454241             43077577  TEL.FIJO             AH  12454241   \n",
       "\n",
       "  TIPO_DOC  CUIT_CUIL   SUBTIPO PROPIETARIO_DATO         FECHA_INGRESO_DATO  \\\n",
       "0      DNI        NaN  PERSONAL           Propio 2020-12-21 17:06:07.420069   \n",
       "1      DNI        NaN  PERSONAL           Propio 2020-12-21 17:06:07.420069   \n",
       "2      DNI        NaN  PERSONAL           Propio 2020-12-21 17:06:07.420069   \n",
       "3      DNI        NaN  PERSONAL           Propio 2020-12-21 17:06:07.420069   \n",
       "5      DNI        NaN  PERSONAL           Propio 2020-12-21 17:06:07.420069   \n",
       "\n",
       "   VERIFICADO  FECHA_VERIFICACION  OPERADOR_VERIFICACION  SCORE_DATO  \n",
       "0       False                 NaN                    NaN         1.5  \n",
       "1       False                 NaN                    NaN         1.5  \n",
       "2       False                 NaN                    NaN         1.5  \n",
       "3       False                 NaN                    NaN         1.5  \n",
       "5       False                 NaN                    NaN         1.5  "
      ]
     },
     "execution_count": 57,
     "metadata": {},
     "output_type": "execute_result"
    }
   ],
   "source": [
    "df_telefonos.head()"
   ]
  },
  {
   "cell_type": "markdown",
   "metadata": {},
   "source": [
    "# Export"
   ]
  },
  {
   "cell_type": "code",
   "execution_count": 58,
   "metadata": {},
   "outputs": [
    {
     "data": {
      "text/plain": [
       "(375338, 14)"
      ]
     },
     "execution_count": 58,
     "metadata": {},
     "output_type": "execute_result"
    }
   ],
   "source": [
    "df_telefonos.shape"
   ]
  },
  {
   "cell_type": "code",
   "execution_count": 59,
   "metadata": {},
   "outputs": [],
   "source": [
    "duplicateRowsDF = df_telefonos[df_telefonos.duplicated(keep='first')]"
   ]
  },
  {
   "cell_type": "code",
   "execution_count": 60,
   "metadata": {},
   "outputs": [
    {
     "data": {
      "text/html": [
       "<div>\n",
       "<style scoped>\n",
       "    .dataframe tbody tr th:only-of-type {\n",
       "        vertical-align: middle;\n",
       "    }\n",
       "\n",
       "    .dataframe tbody tr th {\n",
       "        vertical-align: top;\n",
       "    }\n",
       "\n",
       "    .dataframe thead th {\n",
       "        text-align: right;\n",
       "    }\n",
       "</style>\n",
       "<table border=\"1\" class=\"dataframe\">\n",
       "  <thead>\n",
       "    <tr style=\"text-align: right;\">\n",
       "      <th></th>\n",
       "      <th>IDMOROSO</th>\n",
       "      <th>DATO</th>\n",
       "      <th>TIPO</th>\n",
       "      <th>PROVEEDOR_DATO</th>\n",
       "      <th>NRO_DOC</th>\n",
       "      <th>TIPO_DOC</th>\n",
       "      <th>CUIT_CUIL</th>\n",
       "      <th>SUBTIPO</th>\n",
       "      <th>PROPIETARIO_DATO</th>\n",
       "      <th>FECHA_INGRESO_DATO</th>\n",
       "      <th>VERIFICADO</th>\n",
       "      <th>FECHA_VERIFICACION</th>\n",
       "      <th>OPERADOR_VERIFICACION</th>\n",
       "      <th>SCORE_DATO</th>\n",
       "    </tr>\n",
       "  </thead>\n",
       "  <tbody>\n",
       "    <tr>\n",
       "      <th>11</th>\n",
       "      <td>DNI 24382483</td>\n",
       "      <td>02614377888</td>\n",
       "      <td>TEL.FIJO</td>\n",
       "      <td>AH</td>\n",
       "      <td>24382483</td>\n",
       "      <td>DNI</td>\n",
       "      <td>NaN</td>\n",
       "      <td>PERSONAL</td>\n",
       "      <td>Propio</td>\n",
       "      <td>2020-12-21 17:06:07.420069</td>\n",
       "      <td>False</td>\n",
       "      <td>NaN</td>\n",
       "      <td>NaN</td>\n",
       "      <td>1.5</td>\n",
       "    </tr>\n",
       "    <tr>\n",
       "      <th>72</th>\n",
       "      <td>DNI 18264106</td>\n",
       "      <td>03414381337</td>\n",
       "      <td>TEL.FIJO</td>\n",
       "      <td>AH</td>\n",
       "      <td>18264106</td>\n",
       "      <td>DNI</td>\n",
       "      <td>NaN</td>\n",
       "      <td>PERSONAL</td>\n",
       "      <td>Propio</td>\n",
       "      <td>2020-12-21 17:06:07.420069</td>\n",
       "      <td>False</td>\n",
       "      <td>NaN</td>\n",
       "      <td>NaN</td>\n",
       "      <td>1.5</td>\n",
       "    </tr>\n",
       "    <tr>\n",
       "      <th>77</th>\n",
       "      <td>DNI 18120320</td>\n",
       "      <td>44578130</td>\n",
       "      <td>TEL.FIJO</td>\n",
       "      <td>AH</td>\n",
       "      <td>18120320</td>\n",
       "      <td>DNI</td>\n",
       "      <td>NaN</td>\n",
       "      <td>PERSONAL</td>\n",
       "      <td>Propio</td>\n",
       "      <td>2020-12-21 17:06:07.420069</td>\n",
       "      <td>False</td>\n",
       "      <td>NaN</td>\n",
       "      <td>NaN</td>\n",
       "      <td>1.5</td>\n",
       "    </tr>\n",
       "    <tr>\n",
       "      <th>84</th>\n",
       "      <td>DNI 17896825</td>\n",
       "      <td>47717643</td>\n",
       "      <td>TEL.FIJO</td>\n",
       "      <td>AH</td>\n",
       "      <td>17896825</td>\n",
       "      <td>DNI</td>\n",
       "      <td>NaN</td>\n",
       "      <td>PERSONAL</td>\n",
       "      <td>Propio</td>\n",
       "      <td>2020-12-21 17:06:07.420069</td>\n",
       "      <td>False</td>\n",
       "      <td>NaN</td>\n",
       "      <td>NaN</td>\n",
       "      <td>1.5</td>\n",
       "    </tr>\n",
       "    <tr>\n",
       "      <th>158</th>\n",
       "      <td>DNI 26399277</td>\n",
       "      <td>2322420441</td>\n",
       "      <td>TEL.FIJO</td>\n",
       "      <td>AH</td>\n",
       "      <td>26399277</td>\n",
       "      <td>DNI</td>\n",
       "      <td>NaN</td>\n",
       "      <td>PERSONAL</td>\n",
       "      <td>Propio</td>\n",
       "      <td>2020-12-21 17:06:07.420069</td>\n",
       "      <td>False</td>\n",
       "      <td>NaN</td>\n",
       "      <td>NaN</td>\n",
       "      <td>1.5</td>\n",
       "    </tr>\n",
       "    <tr>\n",
       "      <th>...</th>\n",
       "      <td>...</td>\n",
       "      <td>...</td>\n",
       "      <td>...</td>\n",
       "      <td>...</td>\n",
       "      <td>...</td>\n",
       "      <td>...</td>\n",
       "      <td>...</td>\n",
       "      <td>...</td>\n",
       "      <td>...</td>\n",
       "      <td>...</td>\n",
       "      <td>...</td>\n",
       "      <td>...</td>\n",
       "      <td>...</td>\n",
       "      <td>...</td>\n",
       "    </tr>\n",
       "    <tr>\n",
       "      <th>472626</th>\n",
       "      <td>DNI 17488995</td>\n",
       "      <td>41292400</td>\n",
       "      <td>TEL.FIJO</td>\n",
       "      <td>AH</td>\n",
       "      <td>17488995</td>\n",
       "      <td>DNI</td>\n",
       "      <td>NaN</td>\n",
       "      <td>PERSONAL</td>\n",
       "      <td>Propio</td>\n",
       "      <td>2020-12-21 17:06:07.420069</td>\n",
       "      <td>False</td>\n",
       "      <td>NaN</td>\n",
       "      <td>NaN</td>\n",
       "      <td>1.5</td>\n",
       "    </tr>\n",
       "    <tr>\n",
       "      <th>472630</th>\n",
       "      <td>DNI 17252470</td>\n",
       "      <td>02614215489</td>\n",
       "      <td>TEL.FIJO</td>\n",
       "      <td>AH</td>\n",
       "      <td>17252470</td>\n",
       "      <td>DNI</td>\n",
       "      <td>NaN</td>\n",
       "      <td>PERSONAL</td>\n",
       "      <td>Propio</td>\n",
       "      <td>2020-12-21 17:06:07.420069</td>\n",
       "      <td>False</td>\n",
       "      <td>NaN</td>\n",
       "      <td>NaN</td>\n",
       "      <td>1.5</td>\n",
       "    </tr>\n",
       "    <tr>\n",
       "      <th>472642</th>\n",
       "      <td>DNI 17185230</td>\n",
       "      <td>46511306</td>\n",
       "      <td>TEL.FIJO</td>\n",
       "      <td>AH</td>\n",
       "      <td>17185230</td>\n",
       "      <td>DNI</td>\n",
       "      <td>NaN</td>\n",
       "      <td>PERSONAL</td>\n",
       "      <td>Propio</td>\n",
       "      <td>2020-12-21 17:06:07.420069</td>\n",
       "      <td>False</td>\n",
       "      <td>NaN</td>\n",
       "      <td>NaN</td>\n",
       "      <td>1.5</td>\n",
       "    </tr>\n",
       "    <tr>\n",
       "      <th>472643</th>\n",
       "      <td>DNI 17185230</td>\n",
       "      <td>46511306</td>\n",
       "      <td>TEL.FIJO</td>\n",
       "      <td>AH</td>\n",
       "      <td>17185230</td>\n",
       "      <td>DNI</td>\n",
       "      <td>NaN</td>\n",
       "      <td>PERSONAL</td>\n",
       "      <td>Propio</td>\n",
       "      <td>2020-12-21 17:06:07.420069</td>\n",
       "      <td>False</td>\n",
       "      <td>NaN</td>\n",
       "      <td>NaN</td>\n",
       "      <td>1.5</td>\n",
       "    </tr>\n",
       "    <tr>\n",
       "      <th>472706</th>\n",
       "      <td>DNI 14216939</td>\n",
       "      <td>42673883</td>\n",
       "      <td>TEL.FIJO</td>\n",
       "      <td>AH</td>\n",
       "      <td>14216939</td>\n",
       "      <td>DNI</td>\n",
       "      <td>NaN</td>\n",
       "      <td>PERSONAL</td>\n",
       "      <td>Propio</td>\n",
       "      <td>2020-12-21 17:06:07.420069</td>\n",
       "      <td>False</td>\n",
       "      <td>NaN</td>\n",
       "      <td>NaN</td>\n",
       "      <td>1.5</td>\n",
       "    </tr>\n",
       "  </tbody>\n",
       "</table>\n",
       "<p>13277 rows × 14 columns</p>\n",
       "</div>"
      ],
      "text/plain": [
       "                  IDMOROSO         DATO      TIPO PROVEEDOR_DATO   NRO_DOC  \\\n",
       "11      DNI 24382483        02614377888  TEL.FIJO             AH  24382483   \n",
       "72      DNI 18264106        03414381337  TEL.FIJO             AH  18264106   \n",
       "77      DNI 18120320           44578130  TEL.FIJO             AH  18120320   \n",
       "84      DNI 17896825           47717643  TEL.FIJO             AH  17896825   \n",
       "158     DNI 26399277         2322420441  TEL.FIJO             AH  26399277   \n",
       "...                    ...          ...       ...            ...       ...   \n",
       "472626  DNI 17488995           41292400  TEL.FIJO             AH  17488995   \n",
       "472630  DNI 17252470        02614215489  TEL.FIJO             AH  17252470   \n",
       "472642  DNI 17185230           46511306  TEL.FIJO             AH  17185230   \n",
       "472643  DNI 17185230           46511306  TEL.FIJO             AH  17185230   \n",
       "472706  DNI 14216939           42673883  TEL.FIJO             AH  14216939   \n",
       "\n",
       "       TIPO_DOC  CUIT_CUIL   SUBTIPO PROPIETARIO_DATO  \\\n",
       "11          DNI        NaN  PERSONAL           Propio   \n",
       "72          DNI        NaN  PERSONAL           Propio   \n",
       "77          DNI        NaN  PERSONAL           Propio   \n",
       "84          DNI        NaN  PERSONAL           Propio   \n",
       "158         DNI        NaN  PERSONAL           Propio   \n",
       "...         ...        ...       ...              ...   \n",
       "472626      DNI        NaN  PERSONAL           Propio   \n",
       "472630      DNI        NaN  PERSONAL           Propio   \n",
       "472642      DNI        NaN  PERSONAL           Propio   \n",
       "472643      DNI        NaN  PERSONAL           Propio   \n",
       "472706      DNI        NaN  PERSONAL           Propio   \n",
       "\n",
       "               FECHA_INGRESO_DATO  VERIFICADO  FECHA_VERIFICACION  \\\n",
       "11     2020-12-21 17:06:07.420069       False                 NaN   \n",
       "72     2020-12-21 17:06:07.420069       False                 NaN   \n",
       "77     2020-12-21 17:06:07.420069       False                 NaN   \n",
       "84     2020-12-21 17:06:07.420069       False                 NaN   \n",
       "158    2020-12-21 17:06:07.420069       False                 NaN   \n",
       "...                           ...         ...                 ...   \n",
       "472626 2020-12-21 17:06:07.420069       False                 NaN   \n",
       "472630 2020-12-21 17:06:07.420069       False                 NaN   \n",
       "472642 2020-12-21 17:06:07.420069       False                 NaN   \n",
       "472643 2020-12-21 17:06:07.420069       False                 NaN   \n",
       "472706 2020-12-21 17:06:07.420069       False                 NaN   \n",
       "\n",
       "        OPERADOR_VERIFICACION  SCORE_DATO  \n",
       "11                        NaN         1.5  \n",
       "72                        NaN         1.5  \n",
       "77                        NaN         1.5  \n",
       "84                        NaN         1.5  \n",
       "158                       NaN         1.5  \n",
       "...                       ...         ...  \n",
       "472626                    NaN         1.5  \n",
       "472630                    NaN         1.5  \n",
       "472642                    NaN         1.5  \n",
       "472643                    NaN         1.5  \n",
       "472706                    NaN         1.5  \n",
       "\n",
       "[13277 rows x 14 columns]"
      ]
     },
     "execution_count": 60,
     "metadata": {},
     "output_type": "execute_result"
    }
   ],
   "source": [
    "duplicateRowsDF"
   ]
  },
  {
   "cell_type": "code",
   "execution_count": 61,
   "metadata": {},
   "outputs": [
    {
     "data": {
      "text/plain": [
       "(13277, 14)"
      ]
     },
     "execution_count": 61,
     "metadata": {},
     "output_type": "execute_result"
    }
   ],
   "source": [
    "duplicateRowsDF.shape"
   ]
  },
  {
   "cell_type": "code",
   "execution_count": 62,
   "metadata": {},
   "outputs": [],
   "source": [
    "df_export = df_telefonos.drop_duplicates()"
   ]
  },
  {
   "cell_type": "code",
   "execution_count": 63,
   "metadata": {},
   "outputs": [
    {
     "data": {
      "text/plain": [
       "(362061, 14)"
      ]
     },
     "execution_count": 63,
     "metadata": {},
     "output_type": "execute_result"
    }
   ],
   "source": [
    "df_export.shape"
   ]
  },
  {
   "cell_type": "code",
   "execution_count": 64,
   "metadata": {},
   "outputs": [],
   "source": [
    "df_export = df_export[['IDMOROSO', 'TIPO_DOC','NRO_DOC','CUIT_CUIL','TIPO','SUBTIPO','DATO','PROPIETARIO_DATO','PROVEEDOR_DATO','FECHA_INGRESO_DATO','VERIFICADO','FECHA_VERIFICACION','OPERADOR_VERIFICACION','SCORE_DATO']]"
   ]
  },
  {
   "cell_type": "code",
   "execution_count": 73,
   "metadata": {},
   "outputs": [
    {
     "data": {
      "text/html": [
       "<div>\n",
       "<style scoped>\n",
       "    .dataframe tbody tr th:only-of-type {\n",
       "        vertical-align: middle;\n",
       "    }\n",
       "\n",
       "    .dataframe tbody tr th {\n",
       "        vertical-align: top;\n",
       "    }\n",
       "\n",
       "    .dataframe thead th {\n",
       "        text-align: right;\n",
       "    }\n",
       "</style>\n",
       "<table border=\"1\" class=\"dataframe\">\n",
       "  <thead>\n",
       "    <tr style=\"text-align: right;\">\n",
       "      <th></th>\n",
       "      <th>IDMOROSO</th>\n",
       "      <th>TIPO_DOC</th>\n",
       "      <th>NRO_DOC</th>\n",
       "      <th>CUIT_CUIL</th>\n",
       "      <th>TIPO</th>\n",
       "      <th>SUBTIPO</th>\n",
       "      <th>DATO</th>\n",
       "      <th>PROPIETARIO_DATO</th>\n",
       "      <th>PROVEEDOR_DATO</th>\n",
       "      <th>FECHA_INGRESO_DATO</th>\n",
       "      <th>VERIFICADO</th>\n",
       "      <th>FECHA_VERIFICACION</th>\n",
       "      <th>OPERADOR_VERIFICACION</th>\n",
       "      <th>SCORE_DATO</th>\n",
       "    </tr>\n",
       "  </thead>\n",
       "  <tbody>\n",
       "    <tr>\n",
       "      <th>104516</th>\n",
       "      <td>DNI 26096610</td>\n",
       "      <td>DNI</td>\n",
       "      <td>26096610</td>\n",
       "      <td>NaN</td>\n",
       "      <td>TEL.FIJO</td>\n",
       "      <td>PERSONAL</td>\n",
       "      <td>48244551</td>\n",
       "      <td>Propio</td>\n",
       "      <td>AH</td>\n",
       "      <td>2020-12-21 17:06:07.420069</td>\n",
       "      <td>False</td>\n",
       "      <td>NaN</td>\n",
       "      <td>NaN</td>\n",
       "      <td>1.5</td>\n",
       "    </tr>\n",
       "    <tr>\n",
       "      <th>104517</th>\n",
       "      <td>DNI 26096610</td>\n",
       "      <td>DNI</td>\n",
       "      <td>26096610</td>\n",
       "      <td>NaN</td>\n",
       "      <td>TEL.FIJO</td>\n",
       "      <td>PERSONAL</td>\n",
       "      <td>01148244551</td>\n",
       "      <td>Propio</td>\n",
       "      <td>AH</td>\n",
       "      <td>2020-12-21 17:06:07.420069</td>\n",
       "      <td>False</td>\n",
       "      <td>NaN</td>\n",
       "      <td>NaN</td>\n",
       "      <td>1.5</td>\n",
       "    </tr>\n",
       "    <tr>\n",
       "      <th>278574</th>\n",
       "      <td>DNI 26096610</td>\n",
       "      <td>DNI</td>\n",
       "      <td>26096610</td>\n",
       "      <td>NaN</td>\n",
       "      <td>TEL.CELULAR</td>\n",
       "      <td>PERSONAL</td>\n",
       "      <td>111554215463</td>\n",
       "      <td>Propio</td>\n",
       "      <td>AH</td>\n",
       "      <td>2020-12-21 17:06:07.420069</td>\n",
       "      <td>False</td>\n",
       "      <td>NaN</td>\n",
       "      <td>NaN</td>\n",
       "      <td>1.5</td>\n",
       "    </tr>\n",
       "    <tr>\n",
       "      <th>278575</th>\n",
       "      <td>DNI 26096610</td>\n",
       "      <td>DNI</td>\n",
       "      <td>26096610</td>\n",
       "      <td>NaN</td>\n",
       "      <td>TEL.FIJO</td>\n",
       "      <td>PERSONAL</td>\n",
       "      <td>001554215463</td>\n",
       "      <td>Propio</td>\n",
       "      <td>AH</td>\n",
       "      <td>2020-12-21 17:06:07.420069</td>\n",
       "      <td>False</td>\n",
       "      <td>NaN</td>\n",
       "      <td>NaN</td>\n",
       "      <td>1.5</td>\n",
       "    </tr>\n",
       "    <tr>\n",
       "      <th>393849</th>\n",
       "      <td>DNI 26096610</td>\n",
       "      <td>DNI</td>\n",
       "      <td>26096610</td>\n",
       "      <td>NaN</td>\n",
       "      <td>TEL.CELULAR</td>\n",
       "      <td>PERSONAL</td>\n",
       "      <td>1554215463</td>\n",
       "      <td>Propio</td>\n",
       "      <td>AH</td>\n",
       "      <td>2020-12-21 17:06:07.420069</td>\n",
       "      <td>False</td>\n",
       "      <td>NaN</td>\n",
       "      <td>NaN</td>\n",
       "      <td>1.5</td>\n",
       "    </tr>\n",
       "  </tbody>\n",
       "</table>\n",
       "</div>"
      ],
      "text/plain": [
       "                  IDMOROSO TIPO_DOC   NRO_DOC  CUIT_CUIL         TIPO  \\\n",
       "104516  DNI 26096610            DNI  26096610        NaN     TEL.FIJO   \n",
       "104517  DNI 26096610            DNI  26096610        NaN     TEL.FIJO   \n",
       "278574  DNI 26096610            DNI  26096610        NaN  TEL.CELULAR   \n",
       "278575  DNI 26096610            DNI  26096610        NaN     TEL.FIJO   \n",
       "393849  DNI 26096610            DNI  26096610        NaN  TEL.CELULAR   \n",
       "\n",
       "         SUBTIPO          DATO PROPIETARIO_DATO PROVEEDOR_DATO  \\\n",
       "104516  PERSONAL      48244551           Propio             AH   \n",
       "104517  PERSONAL   01148244551           Propio             AH   \n",
       "278574  PERSONAL  111554215463           Propio             AH   \n",
       "278575  PERSONAL  001554215463           Propio             AH   \n",
       "393849  PERSONAL    1554215463           Propio             AH   \n",
       "\n",
       "               FECHA_INGRESO_DATO  VERIFICADO  FECHA_VERIFICACION  \\\n",
       "104516 2020-12-21 17:06:07.420069       False                 NaN   \n",
       "104517 2020-12-21 17:06:07.420069       False                 NaN   \n",
       "278574 2020-12-21 17:06:07.420069       False                 NaN   \n",
       "278575 2020-12-21 17:06:07.420069       False                 NaN   \n",
       "393849 2020-12-21 17:06:07.420069       False                 NaN   \n",
       "\n",
       "        OPERADOR_VERIFICACION  SCORE_DATO  \n",
       "104516                    NaN         1.5  \n",
       "104517                    NaN         1.5  \n",
       "278574                    NaN         1.5  \n",
       "278575                    NaN         1.5  \n",
       "393849                    NaN         1.5  "
      ]
     },
     "execution_count": 73,
     "metadata": {},
     "output_type": "execute_result"
    }
   ],
   "source": [
    "df_export[df_export ['IDMOROSO']=='DNI 26096610      ']"
   ]
  },
  {
   "cell_type": "code",
   "execution_count": null,
   "metadata": {},
   "outputs": [],
   "source": []
  },
  {
   "cell_type": "code",
   "execution_count": null,
   "metadata": {},
   "outputs": [],
   "source": []
  },
  {
   "cell_type": "code",
   "execution_count": 65,
   "metadata": {},
   "outputs": [],
   "source": [
    "#df_export.to_csv('D:\\MOPC\\Enriquecimiento de Datos\\Data Cleaning\\Active Historico\\Exports\\DAM_CONTACTABILIDAD\\AH_DAM_CONTACTABILIDAD_telefonos.csv',index=False)"
   ]
  },
  {
   "cell_type": "code",
   "execution_count": null,
   "metadata": {},
   "outputs": [],
   "source": []
  }
 ],
 "metadata": {
  "kernelspec": {
   "display_name": "Python 3",
   "language": "python",
   "name": "python3"
  },
  "language_info": {
   "codemirror_mode": {
    "name": "ipython",
    "version": 3
   },
   "file_extension": ".py",
   "mimetype": "text/x-python",
   "name": "python",
   "nbconvert_exporter": "python",
   "pygments_lexer": "ipython3",
   "version": "3.8.6"
  }
 },
 "nbformat": 4,
 "nbformat_minor": 4
}
