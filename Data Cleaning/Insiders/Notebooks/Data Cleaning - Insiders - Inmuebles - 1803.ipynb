{
 "cells": [
  {
   "cell_type": "code",
   "execution_count": 1,
   "metadata": {},
   "outputs": [],
   "source": [
    "import pandas as pd\n",
    "import numpy as np"
   ]
  },
  {
   "cell_type": "code",
   "execution_count": 2,
   "metadata": {},
   "outputs": [],
   "source": [
    "df = pd.read_excel('/mnt/c/users/Dleg/Data/MOPC/MOPC/Enriquecimiento de Datos/Data Cleaning/Insiders/Datasets/Datasets recibidos/ENRIQ_IN_1672_20210317.xlsx',skiprows=2, header=[0,1])"
   ]
  },
  {
   "cell_type": "code",
   "execution_count": 3,
   "metadata": {},
   "outputs": [
    {
     "data": {
      "text/html": [
       "<div>\n",
       "<style scoped>\n",
       "    .dataframe tbody tr th:only-of-type {\n",
       "        vertical-align: middle;\n",
       "    }\n",
       "\n",
       "    .dataframe tbody tr th {\n",
       "        vertical-align: top;\n",
       "    }\n",
       "\n",
       "    .dataframe thead tr th {\n",
       "        text-align: left;\n",
       "    }\n",
       "</style>\n",
       "<table border=\"1\" class=\"dataframe\">\n",
       "  <thead>\n",
       "    <tr>\n",
       "      <th></th>\n",
       "      <th>Unnamed: 0_level_0</th>\n",
       "      <th>Unnamed: 1_level_0</th>\n",
       "      <th>Unnamed: 2_level_0</th>\n",
       "      <th>Unnamed: 3_level_0</th>\n",
       "      <th>Unnamed: 4_level_0</th>\n",
       "      <th>Unnamed: 5_level_0</th>\n",
       "      <th>Unnamed: 6_level_0</th>\n",
       "      <th>Unnamed: 7_level_0</th>\n",
       "      <th>Unnamed: 8_level_0</th>\n",
       "      <th>Unnamed: 9_level_0</th>\n",
       "      <th>...</th>\n",
       "      <th colspan=\"7\" halign=\"left\">Contactacion Opcional (Familiar)</th>\n",
       "      <th colspan=\"3\" halign=\"left\">Contactacion Opcional (Vecino)</th>\n",
       "    </tr>\n",
       "    <tr>\n",
       "      <th></th>\n",
       "      <th>Cuil</th>\n",
       "      <th>Dni</th>\n",
       "      <th>Fecha de Nac.</th>\n",
       "      <th>Fecha de Defuncion</th>\n",
       "      <th>Sexo</th>\n",
       "      <th>Titular</th>\n",
       "      <th>Calle</th>\n",
       "      <th>Numero</th>\n",
       "      <th>Piso y Depto</th>\n",
       "      <th>Codigo Postal</th>\n",
       "      <th>...</th>\n",
       "      <th>Tel Fijo 2</th>\n",
       "      <th>Celular 1</th>\n",
       "      <th>Celular 2</th>\n",
       "      <th>Celular 3</th>\n",
       "      <th>Celular 4</th>\n",
       "      <th>Celular 5</th>\n",
       "      <th>Email</th>\n",
       "      <th>Nombre</th>\n",
       "      <th>Telefono</th>\n",
       "      <th>SCORE</th>\n",
       "    </tr>\n",
       "  </thead>\n",
       "  <tbody>\n",
       "    <tr>\n",
       "      <th>0</th>\n",
       "      <td>2.700187e+10</td>\n",
       "      <td>187386.0</td>\n",
       "      <td>1929-04-02</td>\n",
       "      <td>NaN</td>\n",
       "      <td>F</td>\n",
       "      <td>HERRERA ENA ELSA</td>\n",
       "      <td>REP DE VENEZUELA</td>\n",
       "      <td>3700</td>\n",
       "      <td>NaN</td>\n",
       "      <td>1211.0</td>\n",
       "      <td>...</td>\n",
       "      <td>NaN</td>\n",
       "      <td>NaN</td>\n",
       "      <td>NaN</td>\n",
       "      <td>NaN</td>\n",
       "      <td>NaN</td>\n",
       "      <td>NaN</td>\n",
       "      <td>NaN</td>\n",
       "      <td>NaN</td>\n",
       "      <td>NaN</td>\n",
       "      <td>0.0</td>\n",
       "    </tr>\n",
       "    <tr>\n",
       "      <th>1</th>\n",
       "      <td>2.700508e+10</td>\n",
       "      <td>507550.0</td>\n",
       "      <td>1939-03-05</td>\n",
       "      <td>NaN</td>\n",
       "      <td>F</td>\n",
       "      <td>ENTRATICO IRMA CLARA</td>\n",
       "      <td>AV URUGUAY</td>\n",
       "      <td>875</td>\n",
       "      <td>NaN</td>\n",
       "      <td>4400.0</td>\n",
       "      <td>...</td>\n",
       "      <td>NaN</td>\n",
       "      <td>NaN</td>\n",
       "      <td>NaN</td>\n",
       "      <td>NaN</td>\n",
       "      <td>NaN</td>\n",
       "      <td>NaN</td>\n",
       "      <td>NaN</td>\n",
       "      <td>PATRON COSTAS GUSTAVO</td>\n",
       "      <td>3.874321e+09</td>\n",
       "      <td>34.0</td>\n",
       "    </tr>\n",
       "    <tr>\n",
       "      <th>2</th>\n",
       "      <td>2.704172e+10</td>\n",
       "      <td>4171534.0</td>\n",
       "      <td>1940-06-02</td>\n",
       "      <td>2020-12-15</td>\n",
       "      <td>F</td>\n",
       "      <td>ITUARTE MARGARITA HORTENSIA</td>\n",
       "      <td>PJE GRANDOLI</td>\n",
       "      <td>6100</td>\n",
       "      <td>NaN</td>\n",
       "      <td>1439.0</td>\n",
       "      <td>...</td>\n",
       "      <td>NaN</td>\n",
       "      <td>NaN</td>\n",
       "      <td>NaN</td>\n",
       "      <td>NaN</td>\n",
       "      <td>NaN</td>\n",
       "      <td>NaN</td>\n",
       "      <td>NaN</td>\n",
       "      <td>NaN</td>\n",
       "      <td>NaN</td>\n",
       "      <td>891.0</td>\n",
       "    </tr>\n",
       "    <tr>\n",
       "      <th>3</th>\n",
       "      <td>2.004174e+10</td>\n",
       "      <td>4173550.0</td>\n",
       "      <td>1936-01-28</td>\n",
       "      <td>NaN</td>\n",
       "      <td>M</td>\n",
       "      <td>VISCONTI EDUARDO JUAN</td>\n",
       "      <td>JUAN JOSE VIAMONTE</td>\n",
       "      <td>1592</td>\n",
       "      <td>NaN</td>\n",
       "      <td>1055.0</td>\n",
       "      <td>...</td>\n",
       "      <td>NaN</td>\n",
       "      <td>NaN</td>\n",
       "      <td>NaN</td>\n",
       "      <td>NaN</td>\n",
       "      <td>NaN</td>\n",
       "      <td>NaN</td>\n",
       "      <td>NaN</td>\n",
       "      <td>NaN</td>\n",
       "      <td>NaN</td>\n",
       "      <td>958.0</td>\n",
       "    </tr>\n",
       "    <tr>\n",
       "      <th>4</th>\n",
       "      <td>2.004200e+10</td>\n",
       "      <td>4200228.0</td>\n",
       "      <td>1936-12-08</td>\n",
       "      <td>NaN</td>\n",
       "      <td>M</td>\n",
       "      <td>CACCHIONE MIGUEL ANGEL</td>\n",
       "      <td>BRUNO MARIANO DE ZABALA</td>\n",
       "      <td>1706</td>\n",
       "      <td>NaN</td>\n",
       "      <td>1426.0</td>\n",
       "      <td>...</td>\n",
       "      <td>NaN</td>\n",
       "      <td>NaN</td>\n",
       "      <td>NaN</td>\n",
       "      <td>NaN</td>\n",
       "      <td>NaN</td>\n",
       "      <td>NaN</td>\n",
       "      <td>NaN</td>\n",
       "      <td>NaN</td>\n",
       "      <td>NaN</td>\n",
       "      <td>345.0</td>\n",
       "    </tr>\n",
       "  </tbody>\n",
       "</table>\n",
       "<p>5 rows × 226 columns</p>\n",
       "</div>"
      ],
      "text/plain": [
       "  Unnamed: 0_level_0 Unnamed: 1_level_0 Unnamed: 2_level_0 Unnamed: 3_level_0  \\\n",
       "                Cuil                Dni      Fecha de Nac. Fecha de Defuncion   \n",
       "0       2.700187e+10           187386.0         1929-04-02                NaN   \n",
       "1       2.700508e+10           507550.0         1939-03-05                NaN   \n",
       "2       2.704172e+10          4171534.0         1940-06-02         2020-12-15   \n",
       "3       2.004174e+10          4173550.0         1936-01-28                NaN   \n",
       "4       2.004200e+10          4200228.0         1936-12-08                NaN   \n",
       "\n",
       "  Unnamed: 4_level_0           Unnamed: 5_level_0       Unnamed: 6_level_0  \\\n",
       "                Sexo                      Titular                    Calle   \n",
       "0                  F             HERRERA ENA ELSA         REP DE VENEZUELA   \n",
       "1                  F         ENTRATICO IRMA CLARA               AV URUGUAY   \n",
       "2                  F  ITUARTE MARGARITA HORTENSIA             PJE GRANDOLI   \n",
       "3                  M        VISCONTI EDUARDO JUAN       JUAN JOSE VIAMONTE   \n",
       "4                  M       CACCHIONE MIGUEL ANGEL  BRUNO MARIANO DE ZABALA   \n",
       "\n",
       "  Unnamed: 7_level_0 Unnamed: 8_level_0 Unnamed: 9_level_0  ...  \\\n",
       "              Numero       Piso y Depto      Codigo Postal  ...   \n",
       "0               3700                NaN             1211.0  ...   \n",
       "1                875                NaN             4400.0  ...   \n",
       "2               6100                NaN             1439.0  ...   \n",
       "3               1592                NaN             1055.0  ...   \n",
       "4               1706                NaN             1426.0  ...   \n",
       "\n",
       "  Contactacion Opcional (Familiar)                                          \\\n",
       "                        Tel Fijo 2 Celular 1 Celular 2 Celular 3 Celular 4   \n",
       "0                              NaN       NaN       NaN       NaN       NaN   \n",
       "1                              NaN       NaN       NaN       NaN       NaN   \n",
       "2                              NaN       NaN       NaN       NaN       NaN   \n",
       "3                              NaN       NaN       NaN       NaN       NaN   \n",
       "4                              NaN       NaN       NaN       NaN       NaN   \n",
       "\n",
       "                  Contactacion Opcional (Vecino)                       \n",
       "  Celular 5 Email                         Nombre      Telefono  SCORE  \n",
       "0       NaN   NaN                            NaN           NaN    0.0  \n",
       "1       NaN   NaN          PATRON COSTAS GUSTAVO  3.874321e+09   34.0  \n",
       "2       NaN   NaN                            NaN           NaN  891.0  \n",
       "3       NaN   NaN                            NaN           NaN  958.0  \n",
       "4       NaN   NaN                            NaN           NaN  345.0  \n",
       "\n",
       "[5 rows x 226 columns]"
      ]
     },
     "execution_count": 3,
     "metadata": {},
     "output_type": "execute_result"
    }
   ],
   "source": [
    "df.head()"
   ]
  },
  {
   "cell_type": "code",
   "execution_count": 4,
   "metadata": {
    "scrolled": true
   },
   "outputs": [
    {
     "data": {
      "text/plain": [
       "(14872, 226)"
      ]
     },
     "execution_count": 4,
     "metadata": {},
     "output_type": "execute_result"
    }
   ],
   "source": [
    "df.shape"
   ]
  },
  {
   "cell_type": "markdown",
   "metadata": {},
   "source": [
    "## 1. Data Cleaning: Datasets"
   ]
  },
  {
   "cell_type": "markdown",
   "metadata": {},
   "source": [
    "Vamos a dropear aquellas filas que no tengan ningún valor (es decir, que sean todos NaNs)"
   ]
  },
  {
   "cell_type": "code",
   "execution_count": 5,
   "metadata": {},
   "outputs": [],
   "source": [
    "df = df.dropna(axis=0, how='all')"
   ]
  },
  {
   "cell_type": "code",
   "execution_count": 6,
   "metadata": {},
   "outputs": [],
   "source": [
    "#df = df.dropna(axis=1, how='all')"
   ]
  },
  {
   "cell_type": "code",
   "execution_count": 7,
   "metadata": {},
   "outputs": [
    {
     "data": {
      "text/plain": [
       "(664, 226)"
      ]
     },
     "execution_count": 7,
     "metadata": {},
     "output_type": "execute_result"
    }
   ],
   "source": [
    "df.shape"
   ]
  },
  {
   "cell_type": "markdown",
   "metadata": {},
   "source": [
    "Ahora todas las columnas tienen al menos 1 dato."
   ]
  },
  {
   "cell_type": "markdown",
   "metadata": {},
   "source": [
    "# 2) Inmuebles"
   ]
  },
  {
   "cell_type": "markdown",
   "metadata": {},
   "source": [
    "Vamos a obtener los inmuebles. Solamente podemos sacar información de la Cantidad de Inmuebles registrados:"
   ]
  },
  {
   "cell_type": "code",
   "execution_count": 8,
   "metadata": {},
   "outputs": [],
   "source": [
    "df_reduced = df [[('Unnamed: 0_level_0','Cuil'),('Unnamed: 1_level_0','Dni'), ('Unnamed: 5_level_0','Titular')\n",
    "                  ,('Propiedades','Unnamed: 106_level_1')\n",
    "                  ]]"
   ]
  },
  {
   "cell_type": "code",
   "execution_count": 9,
   "metadata": {},
   "outputs": [
    {
     "data": {
      "text/html": [
       "<div>\n",
       "<style scoped>\n",
       "    .dataframe tbody tr th:only-of-type {\n",
       "        vertical-align: middle;\n",
       "    }\n",
       "\n",
       "    .dataframe tbody tr th {\n",
       "        vertical-align: top;\n",
       "    }\n",
       "\n",
       "    .dataframe thead tr th {\n",
       "        text-align: left;\n",
       "    }\n",
       "</style>\n",
       "<table border=\"1\" class=\"dataframe\">\n",
       "  <thead>\n",
       "    <tr>\n",
       "      <th></th>\n",
       "      <th>Unnamed: 0_level_0</th>\n",
       "      <th>Unnamed: 1_level_0</th>\n",
       "      <th>Unnamed: 5_level_0</th>\n",
       "      <th>Propiedades</th>\n",
       "    </tr>\n",
       "    <tr>\n",
       "      <th></th>\n",
       "      <th>Cuil</th>\n",
       "      <th>Dni</th>\n",
       "      <th>Titular</th>\n",
       "      <th>Unnamed: 106_level_1</th>\n",
       "    </tr>\n",
       "  </thead>\n",
       "  <tbody>\n",
       "    <tr>\n",
       "      <th>0</th>\n",
       "      <td>2.700187e+10</td>\n",
       "      <td>187386.0</td>\n",
       "      <td>HERRERA ENA ELSA</td>\n",
       "      <td>1.0</td>\n",
       "    </tr>\n",
       "    <tr>\n",
       "      <th>1</th>\n",
       "      <td>2.700508e+10</td>\n",
       "      <td>507550.0</td>\n",
       "      <td>ENTRATICO IRMA CLARA</td>\n",
       "      <td>1.0</td>\n",
       "    </tr>\n",
       "    <tr>\n",
       "      <th>2</th>\n",
       "      <td>2.704172e+10</td>\n",
       "      <td>4171534.0</td>\n",
       "      <td>ITUARTE MARGARITA HORTENSIA</td>\n",
       "      <td>0.0</td>\n",
       "    </tr>\n",
       "    <tr>\n",
       "      <th>3</th>\n",
       "      <td>2.004174e+10</td>\n",
       "      <td>4173550.0</td>\n",
       "      <td>VISCONTI EDUARDO JUAN</td>\n",
       "      <td>1.0</td>\n",
       "    </tr>\n",
       "    <tr>\n",
       "      <th>4</th>\n",
       "      <td>2.004200e+10</td>\n",
       "      <td>4200228.0</td>\n",
       "      <td>CACCHIONE MIGUEL ANGEL</td>\n",
       "      <td>5.0</td>\n",
       "    </tr>\n",
       "  </tbody>\n",
       "</table>\n",
       "</div>"
      ],
      "text/plain": [
       "  Unnamed: 0_level_0 Unnamed: 1_level_0           Unnamed: 5_level_0  \\\n",
       "                Cuil                Dni                      Titular   \n",
       "0       2.700187e+10           187386.0             HERRERA ENA ELSA   \n",
       "1       2.700508e+10           507550.0         ENTRATICO IRMA CLARA   \n",
       "2       2.704172e+10          4171534.0  ITUARTE MARGARITA HORTENSIA   \n",
       "3       2.004174e+10          4173550.0        VISCONTI EDUARDO JUAN   \n",
       "4       2.004200e+10          4200228.0       CACCHIONE MIGUEL ANGEL   \n",
       "\n",
       "           Propiedades  \n",
       "  Unnamed: 106_level_1  \n",
       "0                  1.0  \n",
       "1                  1.0  \n",
       "2                  0.0  \n",
       "3                  1.0  \n",
       "4                  5.0  "
      ]
     },
     "execution_count": 9,
     "metadata": {},
     "output_type": "execute_result"
    }
   ],
   "source": [
    "df_reduced.head()"
   ]
  },
  {
   "cell_type": "code",
   "execution_count": 10,
   "metadata": {},
   "outputs": [
    {
     "data": {
      "text/plain": [
       "(664, 4)"
      ]
     },
     "execution_count": 10,
     "metadata": {},
     "output_type": "execute_result"
    }
   ],
   "source": [
    "df_reduced.shape"
   ]
  },
  {
   "cell_type": "markdown",
   "metadata": {},
   "source": [
    "Eliminamos el multilevel de las columnas, y las renombramos:"
   ]
  },
  {
   "cell_type": "code",
   "execution_count": 11,
   "metadata": {},
   "outputs": [],
   "source": [
    "df_reduced.columns = df_reduced.columns.droplevel()"
   ]
  },
  {
   "cell_type": "code",
   "execution_count": 12,
   "metadata": {},
   "outputs": [
    {
     "data": {
      "text/html": [
       "<div>\n",
       "<style scoped>\n",
       "    .dataframe tbody tr th:only-of-type {\n",
       "        vertical-align: middle;\n",
       "    }\n",
       "\n",
       "    .dataframe tbody tr th {\n",
       "        vertical-align: top;\n",
       "    }\n",
       "\n",
       "    .dataframe thead th {\n",
       "        text-align: right;\n",
       "    }\n",
       "</style>\n",
       "<table border=\"1\" class=\"dataframe\">\n",
       "  <thead>\n",
       "    <tr style=\"text-align: right;\">\n",
       "      <th></th>\n",
       "      <th>Cuil</th>\n",
       "      <th>Dni</th>\n",
       "      <th>Titular</th>\n",
       "      <th>Unnamed: 106_level_1</th>\n",
       "    </tr>\n",
       "  </thead>\n",
       "  <tbody>\n",
       "    <tr>\n",
       "      <th>0</th>\n",
       "      <td>2.700187e+10</td>\n",
       "      <td>187386.0</td>\n",
       "      <td>HERRERA ENA ELSA</td>\n",
       "      <td>1.0</td>\n",
       "    </tr>\n",
       "    <tr>\n",
       "      <th>1</th>\n",
       "      <td>2.700508e+10</td>\n",
       "      <td>507550.0</td>\n",
       "      <td>ENTRATICO IRMA CLARA</td>\n",
       "      <td>1.0</td>\n",
       "    </tr>\n",
       "    <tr>\n",
       "      <th>2</th>\n",
       "      <td>2.704172e+10</td>\n",
       "      <td>4171534.0</td>\n",
       "      <td>ITUARTE MARGARITA HORTENSIA</td>\n",
       "      <td>0.0</td>\n",
       "    </tr>\n",
       "    <tr>\n",
       "      <th>3</th>\n",
       "      <td>2.004174e+10</td>\n",
       "      <td>4173550.0</td>\n",
       "      <td>VISCONTI EDUARDO JUAN</td>\n",
       "      <td>1.0</td>\n",
       "    </tr>\n",
       "    <tr>\n",
       "      <th>4</th>\n",
       "      <td>2.004200e+10</td>\n",
       "      <td>4200228.0</td>\n",
       "      <td>CACCHIONE MIGUEL ANGEL</td>\n",
       "      <td>5.0</td>\n",
       "    </tr>\n",
       "  </tbody>\n",
       "</table>\n",
       "</div>"
      ],
      "text/plain": [
       "           Cuil        Dni                      Titular  Unnamed: 106_level_1\n",
       "0  2.700187e+10   187386.0             HERRERA ENA ELSA                   1.0\n",
       "1  2.700508e+10   507550.0         ENTRATICO IRMA CLARA                   1.0\n",
       "2  2.704172e+10  4171534.0  ITUARTE MARGARITA HORTENSIA                   0.0\n",
       "3  2.004174e+10  4173550.0        VISCONTI EDUARDO JUAN                   1.0\n",
       "4  2.004200e+10  4200228.0       CACCHIONE MIGUEL ANGEL                   5.0"
      ]
     },
     "execution_count": 12,
     "metadata": {},
     "output_type": "execute_result"
    }
   ],
   "source": [
    "df_reduced.head()"
   ]
  },
  {
   "cell_type": "code",
   "execution_count": 13,
   "metadata": {},
   "outputs": [],
   "source": [
    "df_reduced = df_reduced.rename(columns={\"Cuil\": \"CUIT_CUIL\", 'Dni': 'NRO_DOC', 'Unnamed: 106_level_1':'Propiedades'})"
   ]
  },
  {
   "cell_type": "code",
   "execution_count": 14,
   "metadata": {},
   "outputs": [
    {
     "data": {
      "text/html": [
       "<div>\n",
       "<style scoped>\n",
       "    .dataframe tbody tr th:only-of-type {\n",
       "        vertical-align: middle;\n",
       "    }\n",
       "\n",
       "    .dataframe tbody tr th {\n",
       "        vertical-align: top;\n",
       "    }\n",
       "\n",
       "    .dataframe thead th {\n",
       "        text-align: right;\n",
       "    }\n",
       "</style>\n",
       "<table border=\"1\" class=\"dataframe\">\n",
       "  <thead>\n",
       "    <tr style=\"text-align: right;\">\n",
       "      <th></th>\n",
       "      <th>CUIT_CUIL</th>\n",
       "      <th>NRO_DOC</th>\n",
       "      <th>Titular</th>\n",
       "      <th>Propiedades</th>\n",
       "    </tr>\n",
       "  </thead>\n",
       "  <tbody>\n",
       "    <tr>\n",
       "      <th>0</th>\n",
       "      <td>2.700187e+10</td>\n",
       "      <td>187386.0</td>\n",
       "      <td>HERRERA ENA ELSA</td>\n",
       "      <td>1.0</td>\n",
       "    </tr>\n",
       "    <tr>\n",
       "      <th>1</th>\n",
       "      <td>2.700508e+10</td>\n",
       "      <td>507550.0</td>\n",
       "      <td>ENTRATICO IRMA CLARA</td>\n",
       "      <td>1.0</td>\n",
       "    </tr>\n",
       "    <tr>\n",
       "      <th>2</th>\n",
       "      <td>2.704172e+10</td>\n",
       "      <td>4171534.0</td>\n",
       "      <td>ITUARTE MARGARITA HORTENSIA</td>\n",
       "      <td>0.0</td>\n",
       "    </tr>\n",
       "    <tr>\n",
       "      <th>3</th>\n",
       "      <td>2.004174e+10</td>\n",
       "      <td>4173550.0</td>\n",
       "      <td>VISCONTI EDUARDO JUAN</td>\n",
       "      <td>1.0</td>\n",
       "    </tr>\n",
       "    <tr>\n",
       "      <th>4</th>\n",
       "      <td>2.004200e+10</td>\n",
       "      <td>4200228.0</td>\n",
       "      <td>CACCHIONE MIGUEL ANGEL</td>\n",
       "      <td>5.0</td>\n",
       "    </tr>\n",
       "  </tbody>\n",
       "</table>\n",
       "</div>"
      ],
      "text/plain": [
       "      CUIT_CUIL    NRO_DOC                      Titular  Propiedades\n",
       "0  2.700187e+10   187386.0             HERRERA ENA ELSA          1.0\n",
       "1  2.700508e+10   507550.0         ENTRATICO IRMA CLARA          1.0\n",
       "2  2.704172e+10  4171534.0  ITUARTE MARGARITA HORTENSIA          0.0\n",
       "3  2.004174e+10  4173550.0        VISCONTI EDUARDO JUAN          1.0\n",
       "4  2.004200e+10  4200228.0       CACCHIONE MIGUEL ANGEL          5.0"
      ]
     },
     "execution_count": 14,
     "metadata": {},
     "output_type": "execute_result"
    }
   ],
   "source": [
    "df_reduced.head()"
   ]
  },
  {
   "cell_type": "markdown",
   "metadata": {},
   "source": [
    "# 3) Drop rows"
   ]
  },
  {
   "cell_type": "markdown",
   "metadata": {},
   "source": [
    "Dropeamos aquellas filas que tengan 0 en la columna Propiedades, ya que no nos aporta nada:"
   ]
  },
  {
   "cell_type": "code",
   "execution_count": 15,
   "metadata": {},
   "outputs": [],
   "source": [
    "df_reduced = df_reduced[df_reduced['Propiedades']>0]"
   ]
  },
  {
   "cell_type": "code",
   "execution_count": 16,
   "metadata": {},
   "outputs": [
    {
     "data": {
      "text/plain": [
       "(50, 4)"
      ]
     },
     "execution_count": 16,
     "metadata": {},
     "output_type": "execute_result"
    }
   ],
   "source": [
    "df_reduced.shape"
   ]
  },
  {
   "cell_type": "code",
   "execution_count": 17,
   "metadata": {
    "scrolled": true
   },
   "outputs": [
    {
     "data": {
      "text/html": [
       "<div>\n",
       "<style scoped>\n",
       "    .dataframe tbody tr th:only-of-type {\n",
       "        vertical-align: middle;\n",
       "    }\n",
       "\n",
       "    .dataframe tbody tr th {\n",
       "        vertical-align: top;\n",
       "    }\n",
       "\n",
       "    .dataframe thead th {\n",
       "        text-align: right;\n",
       "    }\n",
       "</style>\n",
       "<table border=\"1\" class=\"dataframe\">\n",
       "  <thead>\n",
       "    <tr style=\"text-align: right;\">\n",
       "      <th></th>\n",
       "      <th>CUIT_CUIL</th>\n",
       "      <th>NRO_DOC</th>\n",
       "      <th>Titular</th>\n",
       "      <th>Propiedades</th>\n",
       "    </tr>\n",
       "  </thead>\n",
       "  <tbody>\n",
       "    <tr>\n",
       "      <th>0</th>\n",
       "      <td>2.700187e+10</td>\n",
       "      <td>187386.0</td>\n",
       "      <td>HERRERA ENA ELSA</td>\n",
       "      <td>1.0</td>\n",
       "    </tr>\n",
       "    <tr>\n",
       "      <th>1</th>\n",
       "      <td>2.700508e+10</td>\n",
       "      <td>507550.0</td>\n",
       "      <td>ENTRATICO IRMA CLARA</td>\n",
       "      <td>1.0</td>\n",
       "    </tr>\n",
       "    <tr>\n",
       "      <th>3</th>\n",
       "      <td>2.004174e+10</td>\n",
       "      <td>4173550.0</td>\n",
       "      <td>VISCONTI EDUARDO JUAN</td>\n",
       "      <td>1.0</td>\n",
       "    </tr>\n",
       "    <tr>\n",
       "      <th>4</th>\n",
       "      <td>2.004200e+10</td>\n",
       "      <td>4200228.0</td>\n",
       "      <td>CACCHIONE MIGUEL ANGEL</td>\n",
       "      <td>5.0</td>\n",
       "    </tr>\n",
       "    <tr>\n",
       "      <th>5</th>\n",
       "      <td>2.704488e+10</td>\n",
       "      <td>4488073.0</td>\n",
       "      <td>BONZI MIRTHA CELIA</td>\n",
       "      <td>2.0</td>\n",
       "    </tr>\n",
       "  </tbody>\n",
       "</table>\n",
       "</div>"
      ],
      "text/plain": [
       "      CUIT_CUIL    NRO_DOC                 Titular  Propiedades\n",
       "0  2.700187e+10   187386.0        HERRERA ENA ELSA          1.0\n",
       "1  2.700508e+10   507550.0    ENTRATICO IRMA CLARA          1.0\n",
       "3  2.004174e+10  4173550.0   VISCONTI EDUARDO JUAN          1.0\n",
       "4  2.004200e+10  4200228.0  CACCHIONE MIGUEL ANGEL          5.0\n",
       "5  2.704488e+10  4488073.0      BONZI MIRTHA CELIA          2.0"
      ]
     },
     "execution_count": 17,
     "metadata": {},
     "output_type": "execute_result"
    }
   ],
   "source": [
    "df_reduced.head()"
   ]
  },
  {
   "cell_type": "markdown",
   "metadata": {},
   "source": [
    "# 4) Duplicación de filas"
   ]
  },
  {
   "cell_type": "markdown",
   "metadata": {},
   "source": [
    "Si el moroso tiene 2 propiedades, quiero que aparezcan dos filas"
   ]
  },
  {
   "cell_type": "code",
   "execution_count": 18,
   "metadata": {},
   "outputs": [],
   "source": [
    "#repeat rows\n",
    "df_reduced = df_reduced.loc[df_reduced.index.repeat(df_reduced['Propiedades'])]"
   ]
  },
  {
   "cell_type": "code",
   "execution_count": 19,
   "metadata": {
    "scrolled": true
   },
   "outputs": [
    {
     "data": {
      "text/html": [
       "<div>\n",
       "<style scoped>\n",
       "    .dataframe tbody tr th:only-of-type {\n",
       "        vertical-align: middle;\n",
       "    }\n",
       "\n",
       "    .dataframe tbody tr th {\n",
       "        vertical-align: top;\n",
       "    }\n",
       "\n",
       "    .dataframe thead th {\n",
       "        text-align: right;\n",
       "    }\n",
       "</style>\n",
       "<table border=\"1\" class=\"dataframe\">\n",
       "  <thead>\n",
       "    <tr style=\"text-align: right;\">\n",
       "      <th></th>\n",
       "      <th>CUIT_CUIL</th>\n",
       "      <th>NRO_DOC</th>\n",
       "      <th>Titular</th>\n",
       "      <th>Propiedades</th>\n",
       "    </tr>\n",
       "  </thead>\n",
       "  <tbody>\n",
       "    <tr>\n",
       "      <th>0</th>\n",
       "      <td>2.700187e+10</td>\n",
       "      <td>187386.0</td>\n",
       "      <td>HERRERA ENA ELSA</td>\n",
       "      <td>1.0</td>\n",
       "    </tr>\n",
       "    <tr>\n",
       "      <th>1</th>\n",
       "      <td>2.700508e+10</td>\n",
       "      <td>507550.0</td>\n",
       "      <td>ENTRATICO IRMA CLARA</td>\n",
       "      <td>1.0</td>\n",
       "    </tr>\n",
       "    <tr>\n",
       "      <th>3</th>\n",
       "      <td>2.004174e+10</td>\n",
       "      <td>4173550.0</td>\n",
       "      <td>VISCONTI EDUARDO JUAN</td>\n",
       "      <td>1.0</td>\n",
       "    </tr>\n",
       "    <tr>\n",
       "      <th>4</th>\n",
       "      <td>2.004200e+10</td>\n",
       "      <td>4200228.0</td>\n",
       "      <td>CACCHIONE MIGUEL ANGEL</td>\n",
       "      <td>5.0</td>\n",
       "    </tr>\n",
       "    <tr>\n",
       "      <th>4</th>\n",
       "      <td>2.004200e+10</td>\n",
       "      <td>4200228.0</td>\n",
       "      <td>CACCHIONE MIGUEL ANGEL</td>\n",
       "      <td>5.0</td>\n",
       "    </tr>\n",
       "    <tr>\n",
       "      <th>...</th>\n",
       "      <td>...</td>\n",
       "      <td>...</td>\n",
       "      <td>...</td>\n",
       "      <td>...</td>\n",
       "    </tr>\n",
       "    <tr>\n",
       "      <th>153</th>\n",
       "      <td>2.021115e+10</td>\n",
       "      <td>21114553.0</td>\n",
       "      <td>HAMBRA JOSE MARTIN</td>\n",
       "      <td>2.0</td>\n",
       "    </tr>\n",
       "    <tr>\n",
       "      <th>201</th>\n",
       "      <td>2.724093e+10</td>\n",
       "      <td>24093415.0</td>\n",
       "      <td>GODOY PAOLA VALERIA</td>\n",
       "      <td>1.0</td>\n",
       "    </tr>\n",
       "    <tr>\n",
       "      <th>220</th>\n",
       "      <td>2.325002e+10</td>\n",
       "      <td>25001881.0</td>\n",
       "      <td>CASTILLO EUGENIO ALBERTO</td>\n",
       "      <td>2.0</td>\n",
       "    </tr>\n",
       "    <tr>\n",
       "      <th>220</th>\n",
       "      <td>2.325002e+10</td>\n",
       "      <td>25001881.0</td>\n",
       "      <td>CASTILLO EUGENIO ALBERTO</td>\n",
       "      <td>2.0</td>\n",
       "    </tr>\n",
       "    <tr>\n",
       "      <th>263</th>\n",
       "      <td>2.727442e+10</td>\n",
       "      <td>27442028.0</td>\n",
       "      <td>BIURRUN ANALIA BEATRIZ</td>\n",
       "      <td>1.0</td>\n",
       "    </tr>\n",
       "  </tbody>\n",
       "</table>\n",
       "<p>87 rows × 4 columns</p>\n",
       "</div>"
      ],
      "text/plain": [
       "        CUIT_CUIL     NRO_DOC                   Titular  Propiedades\n",
       "0    2.700187e+10    187386.0          HERRERA ENA ELSA          1.0\n",
       "1    2.700508e+10    507550.0      ENTRATICO IRMA CLARA          1.0\n",
       "3    2.004174e+10   4173550.0     VISCONTI EDUARDO JUAN          1.0\n",
       "4    2.004200e+10   4200228.0    CACCHIONE MIGUEL ANGEL          5.0\n",
       "4    2.004200e+10   4200228.0    CACCHIONE MIGUEL ANGEL          5.0\n",
       "..            ...         ...                       ...          ...\n",
       "153  2.021115e+10  21114553.0        HAMBRA JOSE MARTIN          2.0\n",
       "201  2.724093e+10  24093415.0       GODOY PAOLA VALERIA          1.0\n",
       "220  2.325002e+10  25001881.0  CASTILLO EUGENIO ALBERTO          2.0\n",
       "220  2.325002e+10  25001881.0  CASTILLO EUGENIO ALBERTO          2.0\n",
       "263  2.727442e+10  27442028.0    BIURRUN ANALIA BEATRIZ          1.0\n",
       "\n",
       "[87 rows x 4 columns]"
      ]
     },
     "execution_count": 19,
     "metadata": {},
     "output_type": "execute_result"
    }
   ],
   "source": [
    "df_reduced"
   ]
  },
  {
   "cell_type": "markdown",
   "metadata": {},
   "source": [
    "# 4) Proveedor Dato"
   ]
  },
  {
   "cell_type": "code",
   "execution_count": 20,
   "metadata": {},
   "outputs": [],
   "source": [
    "cod_pyp = 'AD'"
   ]
  },
  {
   "cell_type": "code",
   "execution_count": 21,
   "metadata": {},
   "outputs": [],
   "source": [
    "df_clean = df_reduced.assign(PROVEEDOR=cod_pyp)"
   ]
  },
  {
   "cell_type": "code",
   "execution_count": 22,
   "metadata": {
    "scrolled": true
   },
   "outputs": [
    {
     "data": {
      "text/html": [
       "<div>\n",
       "<style scoped>\n",
       "    .dataframe tbody tr th:only-of-type {\n",
       "        vertical-align: middle;\n",
       "    }\n",
       "\n",
       "    .dataframe tbody tr th {\n",
       "        vertical-align: top;\n",
       "    }\n",
       "\n",
       "    .dataframe thead th {\n",
       "        text-align: right;\n",
       "    }\n",
       "</style>\n",
       "<table border=\"1\" class=\"dataframe\">\n",
       "  <thead>\n",
       "    <tr style=\"text-align: right;\">\n",
       "      <th></th>\n",
       "      <th>CUIT_CUIL</th>\n",
       "      <th>NRO_DOC</th>\n",
       "      <th>Titular</th>\n",
       "      <th>Propiedades</th>\n",
       "      <th>PROVEEDOR</th>\n",
       "    </tr>\n",
       "  </thead>\n",
       "  <tbody>\n",
       "    <tr>\n",
       "      <th>0</th>\n",
       "      <td>2.700187e+10</td>\n",
       "      <td>187386.0</td>\n",
       "      <td>HERRERA ENA ELSA</td>\n",
       "      <td>1.0</td>\n",
       "      <td>AD</td>\n",
       "    </tr>\n",
       "    <tr>\n",
       "      <th>1</th>\n",
       "      <td>2.700508e+10</td>\n",
       "      <td>507550.0</td>\n",
       "      <td>ENTRATICO IRMA CLARA</td>\n",
       "      <td>1.0</td>\n",
       "      <td>AD</td>\n",
       "    </tr>\n",
       "    <tr>\n",
       "      <th>3</th>\n",
       "      <td>2.004174e+10</td>\n",
       "      <td>4173550.0</td>\n",
       "      <td>VISCONTI EDUARDO JUAN</td>\n",
       "      <td>1.0</td>\n",
       "      <td>AD</td>\n",
       "    </tr>\n",
       "    <tr>\n",
       "      <th>4</th>\n",
       "      <td>2.004200e+10</td>\n",
       "      <td>4200228.0</td>\n",
       "      <td>CACCHIONE MIGUEL ANGEL</td>\n",
       "      <td>5.0</td>\n",
       "      <td>AD</td>\n",
       "    </tr>\n",
       "    <tr>\n",
       "      <th>4</th>\n",
       "      <td>2.004200e+10</td>\n",
       "      <td>4200228.0</td>\n",
       "      <td>CACCHIONE MIGUEL ANGEL</td>\n",
       "      <td>5.0</td>\n",
       "      <td>AD</td>\n",
       "    </tr>\n",
       "  </tbody>\n",
       "</table>\n",
       "</div>"
      ],
      "text/plain": [
       "      CUIT_CUIL    NRO_DOC                 Titular  Propiedades PROVEEDOR\n",
       "0  2.700187e+10   187386.0        HERRERA ENA ELSA          1.0        AD\n",
       "1  2.700508e+10   507550.0    ENTRATICO IRMA CLARA          1.0        AD\n",
       "3  2.004174e+10  4173550.0   VISCONTI EDUARDO JUAN          1.0        AD\n",
       "4  2.004200e+10  4200228.0  CACCHIONE MIGUEL ANGEL          5.0        AD\n",
       "4  2.004200e+10  4200228.0  CACCHIONE MIGUEL ANGEL          5.0        AD"
      ]
     },
     "execution_count": 22,
     "metadata": {},
     "output_type": "execute_result"
    }
   ],
   "source": [
    "df_clean.head()"
   ]
  },
  {
   "cell_type": "markdown",
   "metadata": {},
   "source": [
    "# 6) Columna Porcentaje"
   ]
  },
  {
   "cell_type": "markdown",
   "metadata": {},
   "source": [
    "Como no tenemos datos sobre el porcentaje de posesión, se asigna 100% a todos los casos"
   ]
  },
  {
   "cell_type": "code",
   "execution_count": 23,
   "metadata": {},
   "outputs": [],
   "source": [
    "df_clean = df_clean.assign(PORCENTAJE=100)"
   ]
  },
  {
   "cell_type": "code",
   "execution_count": 24,
   "metadata": {
    "scrolled": true
   },
   "outputs": [
    {
     "data": {
      "text/html": [
       "<div>\n",
       "<style scoped>\n",
       "    .dataframe tbody tr th:only-of-type {\n",
       "        vertical-align: middle;\n",
       "    }\n",
       "\n",
       "    .dataframe tbody tr th {\n",
       "        vertical-align: top;\n",
       "    }\n",
       "\n",
       "    .dataframe thead th {\n",
       "        text-align: right;\n",
       "    }\n",
       "</style>\n",
       "<table border=\"1\" class=\"dataframe\">\n",
       "  <thead>\n",
       "    <tr style=\"text-align: right;\">\n",
       "      <th></th>\n",
       "      <th>CUIT_CUIL</th>\n",
       "      <th>NRO_DOC</th>\n",
       "      <th>Titular</th>\n",
       "      <th>Propiedades</th>\n",
       "      <th>PROVEEDOR</th>\n",
       "      <th>PORCENTAJE</th>\n",
       "    </tr>\n",
       "  </thead>\n",
       "  <tbody>\n",
       "    <tr>\n",
       "      <th>0</th>\n",
       "      <td>2.700187e+10</td>\n",
       "      <td>187386.0</td>\n",
       "      <td>HERRERA ENA ELSA</td>\n",
       "      <td>1.0</td>\n",
       "      <td>AD</td>\n",
       "      <td>100</td>\n",
       "    </tr>\n",
       "    <tr>\n",
       "      <th>1</th>\n",
       "      <td>2.700508e+10</td>\n",
       "      <td>507550.0</td>\n",
       "      <td>ENTRATICO IRMA CLARA</td>\n",
       "      <td>1.0</td>\n",
       "      <td>AD</td>\n",
       "      <td>100</td>\n",
       "    </tr>\n",
       "    <tr>\n",
       "      <th>3</th>\n",
       "      <td>2.004174e+10</td>\n",
       "      <td>4173550.0</td>\n",
       "      <td>VISCONTI EDUARDO JUAN</td>\n",
       "      <td>1.0</td>\n",
       "      <td>AD</td>\n",
       "      <td>100</td>\n",
       "    </tr>\n",
       "    <tr>\n",
       "      <th>4</th>\n",
       "      <td>2.004200e+10</td>\n",
       "      <td>4200228.0</td>\n",
       "      <td>CACCHIONE MIGUEL ANGEL</td>\n",
       "      <td>5.0</td>\n",
       "      <td>AD</td>\n",
       "      <td>100</td>\n",
       "    </tr>\n",
       "    <tr>\n",
       "      <th>4</th>\n",
       "      <td>2.004200e+10</td>\n",
       "      <td>4200228.0</td>\n",
       "      <td>CACCHIONE MIGUEL ANGEL</td>\n",
       "      <td>5.0</td>\n",
       "      <td>AD</td>\n",
       "      <td>100</td>\n",
       "    </tr>\n",
       "  </tbody>\n",
       "</table>\n",
       "</div>"
      ],
      "text/plain": [
       "      CUIT_CUIL    NRO_DOC                 Titular  Propiedades PROVEEDOR  \\\n",
       "0  2.700187e+10   187386.0        HERRERA ENA ELSA          1.0        AD   \n",
       "1  2.700508e+10   507550.0    ENTRATICO IRMA CLARA          1.0        AD   \n",
       "3  2.004174e+10  4173550.0   VISCONTI EDUARDO JUAN          1.0        AD   \n",
       "4  2.004200e+10  4200228.0  CACCHIONE MIGUEL ANGEL          5.0        AD   \n",
       "4  2.004200e+10  4200228.0  CACCHIONE MIGUEL ANGEL          5.0        AD   \n",
       "\n",
       "   PORCENTAJE  \n",
       "0         100  \n",
       "1         100  \n",
       "3         100  \n",
       "4         100  \n",
       "4         100  "
      ]
     },
     "execution_count": 24,
     "metadata": {},
     "output_type": "execute_result"
    }
   ],
   "source": [
    "df_clean.head()"
   ]
  },
  {
   "cell_type": "markdown",
   "metadata": {},
   "source": [
    "# 7) Columna Fecha"
   ]
  },
  {
   "cell_type": "markdown",
   "metadata": {},
   "source": [
    "Para el campo FECHA_INGRESO_DATO, usamos la fecha en la que se hace la inserción de los datos:"
   ]
  },
  {
   "cell_type": "code",
   "execution_count": 25,
   "metadata": {},
   "outputs": [],
   "source": [
    "fecha_ingreso = pd.to_datetime('today')"
   ]
  },
  {
   "cell_type": "code",
   "execution_count": 26,
   "metadata": {},
   "outputs": [],
   "source": [
    "df_clean = df_clean.assign(FECHA_INGRESO=fecha_ingreso)"
   ]
  },
  {
   "cell_type": "code",
   "execution_count": 27,
   "metadata": {
    "scrolled": true
   },
   "outputs": [
    {
     "data": {
      "text/html": [
       "<div>\n",
       "<style scoped>\n",
       "    .dataframe tbody tr th:only-of-type {\n",
       "        vertical-align: middle;\n",
       "    }\n",
       "\n",
       "    .dataframe tbody tr th {\n",
       "        vertical-align: top;\n",
       "    }\n",
       "\n",
       "    .dataframe thead th {\n",
       "        text-align: right;\n",
       "    }\n",
       "</style>\n",
       "<table border=\"1\" class=\"dataframe\">\n",
       "  <thead>\n",
       "    <tr style=\"text-align: right;\">\n",
       "      <th></th>\n",
       "      <th>CUIT_CUIL</th>\n",
       "      <th>NRO_DOC</th>\n",
       "      <th>Titular</th>\n",
       "      <th>Propiedades</th>\n",
       "      <th>PROVEEDOR</th>\n",
       "      <th>PORCENTAJE</th>\n",
       "      <th>FECHA_INGRESO</th>\n",
       "    </tr>\n",
       "  </thead>\n",
       "  <tbody>\n",
       "    <tr>\n",
       "      <th>0</th>\n",
       "      <td>2.700187e+10</td>\n",
       "      <td>187386.0</td>\n",
       "      <td>HERRERA ENA ELSA</td>\n",
       "      <td>1.0</td>\n",
       "      <td>AD</td>\n",
       "      <td>100</td>\n",
       "      <td>2021-03-18 13:11:00.678623</td>\n",
       "    </tr>\n",
       "    <tr>\n",
       "      <th>1</th>\n",
       "      <td>2.700508e+10</td>\n",
       "      <td>507550.0</td>\n",
       "      <td>ENTRATICO IRMA CLARA</td>\n",
       "      <td>1.0</td>\n",
       "      <td>AD</td>\n",
       "      <td>100</td>\n",
       "      <td>2021-03-18 13:11:00.678623</td>\n",
       "    </tr>\n",
       "    <tr>\n",
       "      <th>3</th>\n",
       "      <td>2.004174e+10</td>\n",
       "      <td>4173550.0</td>\n",
       "      <td>VISCONTI EDUARDO JUAN</td>\n",
       "      <td>1.0</td>\n",
       "      <td>AD</td>\n",
       "      <td>100</td>\n",
       "      <td>2021-03-18 13:11:00.678623</td>\n",
       "    </tr>\n",
       "    <tr>\n",
       "      <th>4</th>\n",
       "      <td>2.004200e+10</td>\n",
       "      <td>4200228.0</td>\n",
       "      <td>CACCHIONE MIGUEL ANGEL</td>\n",
       "      <td>5.0</td>\n",
       "      <td>AD</td>\n",
       "      <td>100</td>\n",
       "      <td>2021-03-18 13:11:00.678623</td>\n",
       "    </tr>\n",
       "    <tr>\n",
       "      <th>4</th>\n",
       "      <td>2.004200e+10</td>\n",
       "      <td>4200228.0</td>\n",
       "      <td>CACCHIONE MIGUEL ANGEL</td>\n",
       "      <td>5.0</td>\n",
       "      <td>AD</td>\n",
       "      <td>100</td>\n",
       "      <td>2021-03-18 13:11:00.678623</td>\n",
       "    </tr>\n",
       "  </tbody>\n",
       "</table>\n",
       "</div>"
      ],
      "text/plain": [
       "      CUIT_CUIL    NRO_DOC                 Titular  Propiedades PROVEEDOR  \\\n",
       "0  2.700187e+10   187386.0        HERRERA ENA ELSA          1.0        AD   \n",
       "1  2.700508e+10   507550.0    ENTRATICO IRMA CLARA          1.0        AD   \n",
       "3  2.004174e+10  4173550.0   VISCONTI EDUARDO JUAN          1.0        AD   \n",
       "4  2.004200e+10  4200228.0  CACCHIONE MIGUEL ANGEL          5.0        AD   \n",
       "4  2.004200e+10  4200228.0  CACCHIONE MIGUEL ANGEL          5.0        AD   \n",
       "\n",
       "   PORCENTAJE              FECHA_INGRESO  \n",
       "0         100 2021-03-18 13:11:00.678623  \n",
       "1         100 2021-03-18 13:11:00.678623  \n",
       "3         100 2021-03-18 13:11:00.678623  \n",
       "4         100 2021-03-18 13:11:00.678623  \n",
       "4         100 2021-03-18 13:11:00.678623  "
      ]
     },
     "execution_count": 27,
     "metadata": {},
     "output_type": "execute_result"
    }
   ],
   "source": [
    "df_clean.head()"
   ]
  },
  {
   "cell_type": "markdown",
   "metadata": {},
   "source": [
    "# 8) Columna Domicilio"
   ]
  },
  {
   "cell_type": "markdown",
   "metadata": {},
   "source": [
    "Se realiza la limpieza de la columna Fabricante, ya que se observan los siguientes problemas:"
   ]
  },
  {
   "cell_type": "markdown",
   "metadata": {},
   "source": [
    "- Cuando no tiene modelo o marca, se escribe \"No Consta\". Eso va a parar a Fabricante.\n",
    "- Al concatenar, se repite el nombre de la Marca en modelo."
   ]
  },
  {
   "cell_type": "code",
   "execution_count": 28,
   "metadata": {},
   "outputs": [],
   "source": [
    "df_clean = df_clean.assign(DOMICILIO='No disponible')"
   ]
  },
  {
   "cell_type": "code",
   "execution_count": 29,
   "metadata": {
    "scrolled": false
   },
   "outputs": [
    {
     "data": {
      "text/html": [
       "<div>\n",
       "<style scoped>\n",
       "    .dataframe tbody tr th:only-of-type {\n",
       "        vertical-align: middle;\n",
       "    }\n",
       "\n",
       "    .dataframe tbody tr th {\n",
       "        vertical-align: top;\n",
       "    }\n",
       "\n",
       "    .dataframe thead th {\n",
       "        text-align: right;\n",
       "    }\n",
       "</style>\n",
       "<table border=\"1\" class=\"dataframe\">\n",
       "  <thead>\n",
       "    <tr style=\"text-align: right;\">\n",
       "      <th></th>\n",
       "      <th>CUIT_CUIL</th>\n",
       "      <th>NRO_DOC</th>\n",
       "      <th>Titular</th>\n",
       "      <th>Propiedades</th>\n",
       "      <th>PROVEEDOR</th>\n",
       "      <th>PORCENTAJE</th>\n",
       "      <th>FECHA_INGRESO</th>\n",
       "      <th>DOMICILIO</th>\n",
       "    </tr>\n",
       "  </thead>\n",
       "  <tbody>\n",
       "    <tr>\n",
       "      <th>0</th>\n",
       "      <td>2.700187e+10</td>\n",
       "      <td>187386.0</td>\n",
       "      <td>HERRERA ENA ELSA</td>\n",
       "      <td>1.0</td>\n",
       "      <td>AD</td>\n",
       "      <td>100</td>\n",
       "      <td>2021-03-18 13:11:00.678623</td>\n",
       "      <td>No disponible</td>\n",
       "    </tr>\n",
       "    <tr>\n",
       "      <th>1</th>\n",
       "      <td>2.700508e+10</td>\n",
       "      <td>507550.0</td>\n",
       "      <td>ENTRATICO IRMA CLARA</td>\n",
       "      <td>1.0</td>\n",
       "      <td>AD</td>\n",
       "      <td>100</td>\n",
       "      <td>2021-03-18 13:11:00.678623</td>\n",
       "      <td>No disponible</td>\n",
       "    </tr>\n",
       "    <tr>\n",
       "      <th>3</th>\n",
       "      <td>2.004174e+10</td>\n",
       "      <td>4173550.0</td>\n",
       "      <td>VISCONTI EDUARDO JUAN</td>\n",
       "      <td>1.0</td>\n",
       "      <td>AD</td>\n",
       "      <td>100</td>\n",
       "      <td>2021-03-18 13:11:00.678623</td>\n",
       "      <td>No disponible</td>\n",
       "    </tr>\n",
       "    <tr>\n",
       "      <th>4</th>\n",
       "      <td>2.004200e+10</td>\n",
       "      <td>4200228.0</td>\n",
       "      <td>CACCHIONE MIGUEL ANGEL</td>\n",
       "      <td>5.0</td>\n",
       "      <td>AD</td>\n",
       "      <td>100</td>\n",
       "      <td>2021-03-18 13:11:00.678623</td>\n",
       "      <td>No disponible</td>\n",
       "    </tr>\n",
       "    <tr>\n",
       "      <th>4</th>\n",
       "      <td>2.004200e+10</td>\n",
       "      <td>4200228.0</td>\n",
       "      <td>CACCHIONE MIGUEL ANGEL</td>\n",
       "      <td>5.0</td>\n",
       "      <td>AD</td>\n",
       "      <td>100</td>\n",
       "      <td>2021-03-18 13:11:00.678623</td>\n",
       "      <td>No disponible</td>\n",
       "    </tr>\n",
       "  </tbody>\n",
       "</table>\n",
       "</div>"
      ],
      "text/plain": [
       "      CUIT_CUIL    NRO_DOC                 Titular  Propiedades PROVEEDOR  \\\n",
       "0  2.700187e+10   187386.0        HERRERA ENA ELSA          1.0        AD   \n",
       "1  2.700508e+10   507550.0    ENTRATICO IRMA CLARA          1.0        AD   \n",
       "3  2.004174e+10  4173550.0   VISCONTI EDUARDO JUAN          1.0        AD   \n",
       "4  2.004200e+10  4200228.0  CACCHIONE MIGUEL ANGEL          5.0        AD   \n",
       "4  2.004200e+10  4200228.0  CACCHIONE MIGUEL ANGEL          5.0        AD   \n",
       "\n",
       "   PORCENTAJE              FECHA_INGRESO      DOMICILIO  \n",
       "0         100 2021-03-18 13:11:00.678623  No disponible  \n",
       "1         100 2021-03-18 13:11:00.678623  No disponible  \n",
       "3         100 2021-03-18 13:11:00.678623  No disponible  \n",
       "4         100 2021-03-18 13:11:00.678623  No disponible  \n",
       "4         100 2021-03-18 13:11:00.678623  No disponible  "
      ]
     },
     "execution_count": 29,
     "metadata": {},
     "output_type": "execute_result"
    }
   ],
   "source": [
    "df_clean.head()"
   ]
  },
  {
   "cell_type": "markdown",
   "metadata": {},
   "source": [
    "# 9) Columna Localidad"
   ]
  },
  {
   "cell_type": "code",
   "execution_count": 30,
   "metadata": {},
   "outputs": [],
   "source": [
    "df_clean = df_clean.assign(LOCALIDAD='Desconocida')"
   ]
  },
  {
   "cell_type": "markdown",
   "metadata": {},
   "source": [
    "# 10) Columna Codigo_postal"
   ]
  },
  {
   "cell_type": "code",
   "execution_count": 31,
   "metadata": {},
   "outputs": [],
   "source": [
    "df_clean = df_clean.assign(CODIGO_POSTAL='No disponible')"
   ]
  },
  {
   "cell_type": "markdown",
   "metadata": {},
   "source": [
    "# 11) Columna Provincia"
   ]
  },
  {
   "cell_type": "code",
   "execution_count": 32,
   "metadata": {},
   "outputs": [],
   "source": [
    "df_clean = df_clean.assign(PROVINCIA='Desconocida')"
   ]
  },
  {
   "cell_type": "markdown",
   "metadata": {},
   "source": [
    "# 12) Pais"
   ]
  },
  {
   "cell_type": "code",
   "execution_count": 33,
   "metadata": {},
   "outputs": [],
   "source": [
    "df_clean = df_clean.assign(PAIS='No disponible')"
   ]
  },
  {
   "cell_type": "code",
   "execution_count": 34,
   "metadata": {
    "scrolled": false
   },
   "outputs": [
    {
     "data": {
      "text/html": [
       "<div>\n",
       "<style scoped>\n",
       "    .dataframe tbody tr th:only-of-type {\n",
       "        vertical-align: middle;\n",
       "    }\n",
       "\n",
       "    .dataframe tbody tr th {\n",
       "        vertical-align: top;\n",
       "    }\n",
       "\n",
       "    .dataframe thead th {\n",
       "        text-align: right;\n",
       "    }\n",
       "</style>\n",
       "<table border=\"1\" class=\"dataframe\">\n",
       "  <thead>\n",
       "    <tr style=\"text-align: right;\">\n",
       "      <th></th>\n",
       "      <th>CUIT_CUIL</th>\n",
       "      <th>NRO_DOC</th>\n",
       "      <th>Titular</th>\n",
       "      <th>Propiedades</th>\n",
       "      <th>PROVEEDOR</th>\n",
       "      <th>PORCENTAJE</th>\n",
       "      <th>FECHA_INGRESO</th>\n",
       "      <th>DOMICILIO</th>\n",
       "      <th>LOCALIDAD</th>\n",
       "      <th>CODIGO_POSTAL</th>\n",
       "      <th>PROVINCIA</th>\n",
       "      <th>PAIS</th>\n",
       "    </tr>\n",
       "  </thead>\n",
       "  <tbody>\n",
       "    <tr>\n",
       "      <th>0</th>\n",
       "      <td>2.700187e+10</td>\n",
       "      <td>187386.0</td>\n",
       "      <td>HERRERA ENA ELSA</td>\n",
       "      <td>1.0</td>\n",
       "      <td>AD</td>\n",
       "      <td>100</td>\n",
       "      <td>2021-03-18 13:11:00.678623</td>\n",
       "      <td>No disponible</td>\n",
       "      <td>Desconocida</td>\n",
       "      <td>No disponible</td>\n",
       "      <td>Desconocida</td>\n",
       "      <td>No disponible</td>\n",
       "    </tr>\n",
       "    <tr>\n",
       "      <th>1</th>\n",
       "      <td>2.700508e+10</td>\n",
       "      <td>507550.0</td>\n",
       "      <td>ENTRATICO IRMA CLARA</td>\n",
       "      <td>1.0</td>\n",
       "      <td>AD</td>\n",
       "      <td>100</td>\n",
       "      <td>2021-03-18 13:11:00.678623</td>\n",
       "      <td>No disponible</td>\n",
       "      <td>Desconocida</td>\n",
       "      <td>No disponible</td>\n",
       "      <td>Desconocida</td>\n",
       "      <td>No disponible</td>\n",
       "    </tr>\n",
       "    <tr>\n",
       "      <th>3</th>\n",
       "      <td>2.004174e+10</td>\n",
       "      <td>4173550.0</td>\n",
       "      <td>VISCONTI EDUARDO JUAN</td>\n",
       "      <td>1.0</td>\n",
       "      <td>AD</td>\n",
       "      <td>100</td>\n",
       "      <td>2021-03-18 13:11:00.678623</td>\n",
       "      <td>No disponible</td>\n",
       "      <td>Desconocida</td>\n",
       "      <td>No disponible</td>\n",
       "      <td>Desconocida</td>\n",
       "      <td>No disponible</td>\n",
       "    </tr>\n",
       "    <tr>\n",
       "      <th>4</th>\n",
       "      <td>2.004200e+10</td>\n",
       "      <td>4200228.0</td>\n",
       "      <td>CACCHIONE MIGUEL ANGEL</td>\n",
       "      <td>5.0</td>\n",
       "      <td>AD</td>\n",
       "      <td>100</td>\n",
       "      <td>2021-03-18 13:11:00.678623</td>\n",
       "      <td>No disponible</td>\n",
       "      <td>Desconocida</td>\n",
       "      <td>No disponible</td>\n",
       "      <td>Desconocida</td>\n",
       "      <td>No disponible</td>\n",
       "    </tr>\n",
       "    <tr>\n",
       "      <th>4</th>\n",
       "      <td>2.004200e+10</td>\n",
       "      <td>4200228.0</td>\n",
       "      <td>CACCHIONE MIGUEL ANGEL</td>\n",
       "      <td>5.0</td>\n",
       "      <td>AD</td>\n",
       "      <td>100</td>\n",
       "      <td>2021-03-18 13:11:00.678623</td>\n",
       "      <td>No disponible</td>\n",
       "      <td>Desconocida</td>\n",
       "      <td>No disponible</td>\n",
       "      <td>Desconocida</td>\n",
       "      <td>No disponible</td>\n",
       "    </tr>\n",
       "  </tbody>\n",
       "</table>\n",
       "</div>"
      ],
      "text/plain": [
       "      CUIT_CUIL    NRO_DOC                 Titular  Propiedades PROVEEDOR  \\\n",
       "0  2.700187e+10   187386.0        HERRERA ENA ELSA          1.0        AD   \n",
       "1  2.700508e+10   507550.0    ENTRATICO IRMA CLARA          1.0        AD   \n",
       "3  2.004174e+10  4173550.0   VISCONTI EDUARDO JUAN          1.0        AD   \n",
       "4  2.004200e+10  4200228.0  CACCHIONE MIGUEL ANGEL          5.0        AD   \n",
       "4  2.004200e+10  4200228.0  CACCHIONE MIGUEL ANGEL          5.0        AD   \n",
       "\n",
       "   PORCENTAJE              FECHA_INGRESO      DOMICILIO    LOCALIDAD  \\\n",
       "0         100 2021-03-18 13:11:00.678623  No disponible  Desconocida   \n",
       "1         100 2021-03-18 13:11:00.678623  No disponible  Desconocida   \n",
       "3         100 2021-03-18 13:11:00.678623  No disponible  Desconocida   \n",
       "4         100 2021-03-18 13:11:00.678623  No disponible  Desconocida   \n",
       "4         100 2021-03-18 13:11:00.678623  No disponible  Desconocida   \n",
       "\n",
       "   CODIGO_POSTAL    PROVINCIA           PAIS  \n",
       "0  No disponible  Desconocida  No disponible  \n",
       "1  No disponible  Desconocida  No disponible  \n",
       "3  No disponible  Desconocida  No disponible  \n",
       "4  No disponible  Desconocida  No disponible  \n",
       "4  No disponible  Desconocida  No disponible  "
      ]
     },
     "execution_count": 34,
     "metadata": {},
     "output_type": "execute_result"
    }
   ],
   "source": [
    "df_clean.head()"
   ]
  },
  {
   "cell_type": "code",
   "execution_count": 35,
   "metadata": {},
   "outputs": [],
   "source": [
    "#df_clean.to_csv('inmuebles_test.csv')"
   ]
  },
  {
   "cell_type": "code",
   "execution_count": 36,
   "metadata": {},
   "outputs": [
    {
     "data": {
      "text/plain": [
       "(87, 12)"
      ]
     },
     "execution_count": 36,
     "metadata": {},
     "output_type": "execute_result"
    }
   ],
   "source": [
    "df_clean.shape"
   ]
  },
  {
   "cell_type": "markdown",
   "metadata": {},
   "source": [
    "# 13) Concatenación con .csv enviado "
   ]
  },
  {
   "cell_type": "markdown",
   "metadata": {},
   "source": [
    "Vamos a concatenar nuestro dataframe con el dataframe enviado para enriquecer. Para esto, vamos a hacer una limpieza inicial de cómo se enviaron esos datos. Finalmente, se uniran ambos dataframes por __DNI__."
   ]
  },
  {
   "cell_type": "markdown",
   "metadata": {},
   "source": [
    "Vamos a analizar y limpiar el dataset enviado para el enriquecimiento:"
   ]
  },
  {
   "cell_type": "code",
   "execution_count": 37,
   "metadata": {},
   "outputs": [],
   "source": [
    "df_pyp = pd.read_csv('/mnt/c/users/Dleg/Data/MOPC/MOPC/Enriquecimiento de Datos/Data Cleaning/Insiders/Datasets/Datasets enviados/Envio Insiders - Estado-IDCliente - 1603.csv')"
   ]
  },
  {
   "cell_type": "code",
   "execution_count": 38,
   "metadata": {},
   "outputs": [
    {
     "data": {
      "text/html": [
       "<div>\n",
       "<style scoped>\n",
       "    .dataframe tbody tr th:only-of-type {\n",
       "        vertical-align: middle;\n",
       "    }\n",
       "\n",
       "    .dataframe tbody tr th {\n",
       "        vertical-align: top;\n",
       "    }\n",
       "\n",
       "    .dataframe thead th {\n",
       "        text-align: right;\n",
       "    }\n",
       "</style>\n",
       "<table border=\"1\" class=\"dataframe\">\n",
       "  <thead>\n",
       "    <tr style=\"text-align: right;\">\n",
       "      <th></th>\n",
       "      <th>IDMOROSO</th>\n",
       "      <th>NOMBRE</th>\n",
       "      <th>IDCLIENTE</th>\n",
       "      <th>ESTADO</th>\n",
       "      <th>FILTROA</th>\n",
       "      <th>DATOADIC</th>\n",
       "    </tr>\n",
       "  </thead>\n",
       "  <tbody>\n",
       "    <tr>\n",
       "      <th>0</th>\n",
       "      <td>DNI 14384837</td>\n",
       "      <td>ACOSTA MARIA CRISTINA</td>\n",
       "      <td>FRANCES_2012</td>\n",
       "      <td>NO VISTO</td>\n",
       "      <td>3 - Ag 3ra</td>\n",
       "      <td>NaN</td>\n",
       "    </tr>\n",
       "    <tr>\n",
       "      <th>1</th>\n",
       "      <td>DNI 33803357</td>\n",
       "      <td>CARRASCO SERGIO DAMIAN</td>\n",
       "      <td>FRANCES_2012</td>\n",
       "      <td>NO VISTO</td>\n",
       "      <td>1 - Ag 1ra</td>\n",
       "      <td>NaN</td>\n",
       "    </tr>\n",
       "    <tr>\n",
       "      <th>2</th>\n",
       "      <td>DNI 34570749</td>\n",
       "      <td>TOLDI PRESENTADO SOLANGE GISELLE</td>\n",
       "      <td>FRANCES_2012</td>\n",
       "      <td>NO VISTO</td>\n",
       "      <td>1 - Ag 1ra</td>\n",
       "      <td>NaN</td>\n",
       "    </tr>\n",
       "    <tr>\n",
       "      <th>3</th>\n",
       "      <td>DNI 36991995</td>\n",
       "      <td>ANTECAO MAURO LEANDRO</td>\n",
       "      <td>FRANCES_2012</td>\n",
       "      <td>NO VISTO</td>\n",
       "      <td>2 - Ag 2ra</td>\n",
       "      <td>NaN</td>\n",
       "    </tr>\n",
       "    <tr>\n",
       "      <th>4</th>\n",
       "      <td>DNI 40359046</td>\n",
       "      <td>VATTOVAZ VICTORIA</td>\n",
       "      <td>FRANCES_2012</td>\n",
       "      <td>NO VISTO</td>\n",
       "      <td>1 - Ag 1ra</td>\n",
       "      <td>NaN</td>\n",
       "    </tr>\n",
       "  </tbody>\n",
       "</table>\n",
       "</div>"
      ],
      "text/plain": [
       "             IDMOROSO                                    NOMBRE  \\\n",
       "0  DNI 14384837        ACOSTA MARIA CRISTINA                      \n",
       "1  DNI 33803357        CARRASCO SERGIO DAMIAN                     \n",
       "2  DNI 34570749        TOLDI PRESENTADO SOLANGE GISELLE           \n",
       "3  DNI 36991995        ANTECAO MAURO LEANDRO                      \n",
       "4  DNI 40359046        VATTOVAZ VICTORIA                          \n",
       "\n",
       "              IDCLIENTE                ESTADO               FILTROA DATOADIC  \n",
       "0  FRANCES_2012          NO VISTO              3 - Ag 3ra                NaN  \n",
       "1  FRANCES_2012          NO VISTO              1 - Ag 1ra                NaN  \n",
       "2  FRANCES_2012          NO VISTO              1 - Ag 1ra                NaN  \n",
       "3  FRANCES_2012          NO VISTO              2 - Ag 2ra                NaN  \n",
       "4  FRANCES_2012          NO VISTO              1 - Ag 1ra                NaN  "
      ]
     },
     "execution_count": 38,
     "metadata": {},
     "output_type": "execute_result"
    }
   ],
   "source": [
    "df_pyp.head()"
   ]
  },
  {
   "cell_type": "code",
   "execution_count": 39,
   "metadata": {},
   "outputs": [],
   "source": [
    "df_pyp.loc[(df_pyp['IDCLIENTE'].str.startswith('AMEX')) , 'NRO_DOC'] = df_pyp['DATOADIC']\n",
    "df_pyp.loc[(~df_pyp['IDCLIENTE'].str.startswith('AMEX')) , 'NRO_DOC'] = df_pyp['IDMOROSO']\n",
    "#df_pyp ['NRO_DOC'] = df_pyp ['IDMOROSO']"
   ]
  },
  {
   "cell_type": "code",
   "execution_count": 40,
   "metadata": {},
   "outputs": [],
   "source": [
    "df_pyp = df_pyp [['IDMOROSO','IDCLIENTE','NRO_DOC']]"
   ]
  },
  {
   "cell_type": "code",
   "execution_count": 41,
   "metadata": {
    "scrolled": true
   },
   "outputs": [
    {
     "data": {
      "text/html": [
       "<div>\n",
       "<style scoped>\n",
       "    .dataframe tbody tr th:only-of-type {\n",
       "        vertical-align: middle;\n",
       "    }\n",
       "\n",
       "    .dataframe tbody tr th {\n",
       "        vertical-align: top;\n",
       "    }\n",
       "\n",
       "    .dataframe thead th {\n",
       "        text-align: right;\n",
       "    }\n",
       "</style>\n",
       "<table border=\"1\" class=\"dataframe\">\n",
       "  <thead>\n",
       "    <tr style=\"text-align: right;\">\n",
       "      <th></th>\n",
       "      <th>IDMOROSO</th>\n",
       "      <th>IDCLIENTE</th>\n",
       "      <th>NRO_DOC</th>\n",
       "    </tr>\n",
       "  </thead>\n",
       "  <tbody>\n",
       "    <tr>\n",
       "      <th>0</th>\n",
       "      <td>DNI 14384837</td>\n",
       "      <td>FRANCES_2012</td>\n",
       "      <td>DNI 14384837</td>\n",
       "    </tr>\n",
       "    <tr>\n",
       "      <th>1</th>\n",
       "      <td>DNI 33803357</td>\n",
       "      <td>FRANCES_2012</td>\n",
       "      <td>DNI 33803357</td>\n",
       "    </tr>\n",
       "    <tr>\n",
       "      <th>2</th>\n",
       "      <td>DNI 34570749</td>\n",
       "      <td>FRANCES_2012</td>\n",
       "      <td>DNI 34570749</td>\n",
       "    </tr>\n",
       "    <tr>\n",
       "      <th>3</th>\n",
       "      <td>DNI 36991995</td>\n",
       "      <td>FRANCES_2012</td>\n",
       "      <td>DNI 36991995</td>\n",
       "    </tr>\n",
       "    <tr>\n",
       "      <th>4</th>\n",
       "      <td>DNI 40359046</td>\n",
       "      <td>FRANCES_2012</td>\n",
       "      <td>DNI 40359046</td>\n",
       "    </tr>\n",
       "  </tbody>\n",
       "</table>\n",
       "</div>"
      ],
      "text/plain": [
       "             IDMOROSO             IDCLIENTE             NRO_DOC\n",
       "0  DNI 14384837        FRANCES_2012          DNI 14384837      \n",
       "1  DNI 33803357        FRANCES_2012          DNI 33803357      \n",
       "2  DNI 34570749        FRANCES_2012          DNI 34570749      \n",
       "3  DNI 36991995        FRANCES_2012          DNI 36991995      \n",
       "4  DNI 40359046        FRANCES_2012          DNI 40359046      "
      ]
     },
     "execution_count": 41,
     "metadata": {},
     "output_type": "execute_result"
    }
   ],
   "source": [
    "df_pyp.head()"
   ]
  },
  {
   "cell_type": "code",
   "execution_count": 42,
   "metadata": {},
   "outputs": [
    {
     "data": {
      "text/plain": [
       "(696, 3)"
      ]
     },
     "execution_count": 42,
     "metadata": {},
     "output_type": "execute_result"
    }
   ],
   "source": [
    "df_pyp.shape"
   ]
  },
  {
   "cell_type": "code",
   "execution_count": 43,
   "metadata": {},
   "outputs": [],
   "source": [
    "df_pyp = df_pyp.dropna(subset=['NRO_DOC'])"
   ]
  },
  {
   "cell_type": "markdown",
   "metadata": {},
   "source": [
    "# 14) DNI Cleaning"
   ]
  },
  {
   "cell_type": "markdown",
   "metadata": {},
   "source": [
    "Limpiamos el dataframe __df_pyp__, ya que dentro de DATO_A_ENVIAR tenemos 9 tipos de casos diferentes de datos:\n",
    "\n",
    "- DNI 12345678\n",
    "- DNI12345678\n",
    "- DNIE1234678\n",
    "- LC  1234567\n",
    "- LE  1234567\n",
    "- CUIT00123456780\n",
    "- 00123456780 --> Es un CUIT.\n",
    "- 00 12345678 0 --> Es un CUIT.\n",
    "- DNI 00123456780 --> Dice DNI pero es un CUIT de una persona __jurídica__"
   ]
  },
  {
   "cell_type": "markdown",
   "metadata": {},
   "source": [
    "Para eso definimos 5 funciones:\n",
    "\n",
    "- __Tipo_DOC__: Se definen dos funciones para determinar el tipo de DNI. Una inicial, y otra para corregir sobre el dataframe resultante.\n",
    "- __Standard DNI__: Estandariza los DNI para 7 de los casos.\n",
    "- __DNI Zero__: Elimina los ceros iniciales de ciertos CUITs para que coincidan con los DNI.\n",
    "- __Cuit__: Decisión sobre dejar un cuit o volverlo DNI"
   ]
  },
  {
   "cell_type": "code",
   "execution_count": 44,
   "metadata": {},
   "outputs": [],
   "source": [
    "def tipo_doc_1 (string_dni):\n",
    "    \n",
    "    if 'DNI' in string_dni:\n",
    "        tipo = 'DNI'\n",
    "    \n",
    "    elif 'LC' in string_dni:\n",
    "        tipo = 'LC'\n",
    "    \n",
    "    elif 'LE' in string_dni:\n",
    "        tipo = 'LE'\n",
    "    \n",
    "    elif 'DNIE' in string_dni:\n",
    "        tipo = 'DNIE'    \n",
    "    \n",
    "    elif ((string_dni.startswith(('CUIT30','CUIT33','CUIT34'))) & (len(string_dni)>8)):\n",
    "        tipo = 'CUIT'\n",
    "        \n",
    "    elif ((string_dni.startswith(('30','33','34'))) & (len(string_dni)>8)):\n",
    "        tipo = 'CUIT'\n",
    "\n",
    "    elif ((string_dni.startswith(('20','23','24','27'))) & (len(string_dni)>8)):\n",
    "        tipo = 'DNI'\n",
    "\n",
    "    elif ((string_dni.startswith(('CUIT20','CUIT23','CUIT24','CUIT27'))) & (len(string_dni)>8)):\n",
    "        tipo = 'DNI'\n",
    "        \n",
    "    else:\n",
    "        tipo = 'DNI'\n",
    "    \n",
    "    return tipo"
   ]
  },
  {
   "cell_type": "code",
   "execution_count": 45,
   "metadata": {},
   "outputs": [],
   "source": [
    "def tipo_doc_2 (string_dni, tipo_original):\n",
    "    \n",
    "    if (len(string_dni) > 8) & (tipo_original == 'DNI'):\n",
    "        tipo = 'CUIT'\n",
    "    else:\n",
    "        tipo = tipo_original\n",
    "    return tipo"
   ]
  },
  {
   "cell_type": "code",
   "execution_count": 46,
   "metadata": {},
   "outputs": [],
   "source": [
    "def standard_dni (string_dni):\n",
    "    \"\"\"DNI separation by each case.\n",
    "    \"\"\"\n",
    "    \n",
    "    if 'DNI ' in string_dni:\n",
    "        dni = string_dni.split('DNI ')[1]\n",
    "        \n",
    "    elif 'DNIE' in string_dni:\n",
    "        dni = string_dni.split('DNIE')[1]\n",
    "    \n",
    "    elif 'DNI' in string_dni:\n",
    "        dni = string_dni.split('DNI')[1]\n",
    "    \n",
    "    elif 'LC  ' in string_dni:\n",
    "        dni = string_dni.split('LC  ')[1]\n",
    "    \n",
    "    elif 'LE  ' in string_dni:\n",
    "        dni = string_dni.split('LE  ')[1]\n",
    "    \n",
    "    elif 'CUIT' in string_dni:\n",
    "        dni = string_dni.split('CUIT')[1]\n",
    "        \n",
    "    else:\n",
    "        dni = string_dni\n",
    "        \n",
    "    return dni"
   ]
  },
  {
   "cell_type": "code",
   "execution_count": 47,
   "metadata": {},
   "outputs": [],
   "source": [
    "def dni_characters (string_dni):\n",
    "    \n",
    "    if ' ' in string_dni:\n",
    "        dni = string_dni.replace(' ','')\n",
    "        \n",
    "    elif '-' in string_dni:\n",
    "        dni = string_dni.replace('-','')\n",
    "\n",
    "    else:\n",
    "        dni = string_dni\n",
    "    \n",
    "    return dni"
   ]
  },
  {
   "cell_type": "code",
   "execution_count": 48,
   "metadata": {},
   "outputs": [],
   "source": [
    "def cuit (string_dni):\n",
    "    \n",
    "    if ((string_dni.startswith('20')) & (len(string_dni)>8)):\n",
    "        cuit = string_dni [2:-1]\n",
    "        \n",
    "    elif ((string_dni.startswith('23')) & (len(string_dni)>8)):\n",
    "        cuit = string_dni [2:-1]\n",
    "        \n",
    "    elif ((string_dni.startswith('24')) & (len(string_dni)>8)):\n",
    "        cuit = string_dni [2:-1]\n",
    "\n",
    "    elif ((string_dni.startswith('27')) & (len(string_dni)>8)):\n",
    "        cuit = string_dni [2:-1]\n",
    "\n",
    "    else:\n",
    "        cuit = string_dni\n",
    "        \n",
    "    return cuit"
   ]
  },
  {
   "cell_type": "code",
   "execution_count": 49,
   "metadata": {},
   "outputs": [],
   "source": [
    "def dni_zero (string_dni):\n",
    "    \n",
    "    if string_dni.startswith('0'):\n",
    "        dni = string_dni [1:]\n",
    "\n",
    "    else:\n",
    "        dni = string_dni\n",
    "    \n",
    "    return dni"
   ]
  },
  {
   "cell_type": "markdown",
   "metadata": {},
   "source": [
    "En primer lugar, trimmeamos los espacios que sobran:"
   ]
  },
  {
   "cell_type": "code",
   "execution_count": 50,
   "metadata": {},
   "outputs": [],
   "source": [
    "df_pyp['NRO_DOC'] = [(str(df_pyp['NRO_DOC'][i]).strip()) for i in range (df_pyp['NRO_DOC'].count())]"
   ]
  },
  {
   "cell_type": "markdown",
   "metadata": {},
   "source": [
    "Se implementan estas funciones:"
   ]
  },
  {
   "cell_type": "markdown",
   "metadata": {},
   "source": [
    "Para determinar el __TIPO DE DOCUMENTO__ en primer lugar:"
   ]
  },
  {
   "cell_type": "code",
   "execution_count": 51,
   "metadata": {},
   "outputs": [],
   "source": [
    "df_pyp['TIPO_DOC'] = [tipo_doc_1(df_pyp['NRO_DOC'][i]) for i in range (df_pyp['NRO_DOC'].count())]"
   ]
  },
  {
   "cell_type": "markdown",
   "metadata": {},
   "source": [
    "Para la limpieza de DNIs:"
   ]
  },
  {
   "cell_type": "code",
   "execution_count": 52,
   "metadata": {},
   "outputs": [],
   "source": [
    "df_pyp['NRO_DOC'] = [standard_dni(df_pyp['NRO_DOC'][i]) for i in range (df_pyp['NRO_DOC'].count())]"
   ]
  },
  {
   "cell_type": "code",
   "execution_count": 53,
   "metadata": {},
   "outputs": [],
   "source": [
    "df_pyp['NRO_DOC'] = [dni_characters(df_pyp['NRO_DOC'][i]) for i in range (df_pyp['NRO_DOC'].count())]"
   ]
  },
  {
   "cell_type": "code",
   "execution_count": 54,
   "metadata": {},
   "outputs": [],
   "source": [
    "df_pyp['NRO_DOC'] = [cuit(df_pyp['NRO_DOC'][i]) for i in range (df_pyp['NRO_DOC'].count())]"
   ]
  },
  {
   "cell_type": "code",
   "execution_count": 55,
   "metadata": {},
   "outputs": [],
   "source": [
    "df_pyp['NRO_DOC'] = [dni_zero(df_pyp['NRO_DOC'][i]) for i in range (df_pyp['NRO_DOC'].count())]"
   ]
  },
  {
   "cell_type": "markdown",
   "metadata": {},
   "source": [
    "Para corregir el __TIPO DE DOCUMENTO__ sobre el dataframe resultante"
   ]
  },
  {
   "cell_type": "code",
   "execution_count": 56,
   "metadata": {},
   "outputs": [],
   "source": [
    "df_pyp['TIPO_DOC'] = [tipo_doc_2(df_pyp['NRO_DOC'][i],df_pyp['TIPO_DOC'][i]) for i in range (df_pyp['NRO_DOC'].count())]"
   ]
  },
  {
   "cell_type": "code",
   "execution_count": 57,
   "metadata": {},
   "outputs": [
    {
     "data": {
      "text/html": [
       "<div>\n",
       "<style scoped>\n",
       "    .dataframe tbody tr th:only-of-type {\n",
       "        vertical-align: middle;\n",
       "    }\n",
       "\n",
       "    .dataframe tbody tr th {\n",
       "        vertical-align: top;\n",
       "    }\n",
       "\n",
       "    .dataframe thead th {\n",
       "        text-align: right;\n",
       "    }\n",
       "</style>\n",
       "<table border=\"1\" class=\"dataframe\">\n",
       "  <thead>\n",
       "    <tr style=\"text-align: right;\">\n",
       "      <th></th>\n",
       "      <th>IDMOROSO</th>\n",
       "      <th>IDCLIENTE</th>\n",
       "      <th>NRO_DOC</th>\n",
       "      <th>TIPO_DOC</th>\n",
       "    </tr>\n",
       "  </thead>\n",
       "  <tbody>\n",
       "    <tr>\n",
       "      <th>0</th>\n",
       "      <td>DNI 14384837</td>\n",
       "      <td>FRANCES_2012</td>\n",
       "      <td>14384837</td>\n",
       "      <td>DNI</td>\n",
       "    </tr>\n",
       "    <tr>\n",
       "      <th>1</th>\n",
       "      <td>DNI 33803357</td>\n",
       "      <td>FRANCES_2012</td>\n",
       "      <td>33803357</td>\n",
       "      <td>DNI</td>\n",
       "    </tr>\n",
       "    <tr>\n",
       "      <th>2</th>\n",
       "      <td>DNI 34570749</td>\n",
       "      <td>FRANCES_2012</td>\n",
       "      <td>34570749</td>\n",
       "      <td>DNI</td>\n",
       "    </tr>\n",
       "    <tr>\n",
       "      <th>3</th>\n",
       "      <td>DNI 36991995</td>\n",
       "      <td>FRANCES_2012</td>\n",
       "      <td>36991995</td>\n",
       "      <td>DNI</td>\n",
       "    </tr>\n",
       "    <tr>\n",
       "      <th>4</th>\n",
       "      <td>DNI 40359046</td>\n",
       "      <td>FRANCES_2012</td>\n",
       "      <td>40359046</td>\n",
       "      <td>DNI</td>\n",
       "    </tr>\n",
       "  </tbody>\n",
       "</table>\n",
       "</div>"
      ],
      "text/plain": [
       "             IDMOROSO             IDCLIENTE   NRO_DOC TIPO_DOC\n",
       "0  DNI 14384837        FRANCES_2012          14384837      DNI\n",
       "1  DNI 33803357        FRANCES_2012          33803357      DNI\n",
       "2  DNI 34570749        FRANCES_2012          34570749      DNI\n",
       "3  DNI 36991995        FRANCES_2012          36991995      DNI\n",
       "4  DNI 40359046        FRANCES_2012          40359046      DNI"
      ]
     },
     "execution_count": 57,
     "metadata": {},
     "output_type": "execute_result"
    }
   ],
   "source": [
    "df_pyp.head()"
   ]
  },
  {
   "cell_type": "markdown",
   "metadata": {},
   "source": [
    "# 15) Union de Dataframes"
   ]
  },
  {
   "cell_type": "markdown",
   "metadata": {},
   "source": [
    "Se unen ambos dataframes en la columna NRO_DOC"
   ]
  },
  {
   "cell_type": "markdown",
   "metadata": {},
   "source": [
    "Convertimos la columna NRO_DOC de objeto a INT para hacer la unión"
   ]
  },
  {
   "cell_type": "code",
   "execution_count": 58,
   "metadata": {},
   "outputs": [],
   "source": [
    "df_clean = df_clean.astype({'NRO_DOC': 'str'})"
   ]
  },
  {
   "cell_type": "code",
   "execution_count": 59,
   "metadata": {},
   "outputs": [],
   "source": [
    "df_clean ['NRO_DOC'] = df_clean ['NRO_DOC'].str.split('.').str[0]"
   ]
  },
  {
   "cell_type": "code",
   "execution_count": 60,
   "metadata": {},
   "outputs": [],
   "source": [
    "df_union = pd.merge(df_clean,df_pyp, on='NRO_DOC', how='inner')"
   ]
  },
  {
   "cell_type": "code",
   "execution_count": 61,
   "metadata": {},
   "outputs": [
    {
     "data": {
      "text/plain": [
       "(86, 15)"
      ]
     },
     "execution_count": 61,
     "metadata": {},
     "output_type": "execute_result"
    }
   ],
   "source": [
    "df_union.shape"
   ]
  },
  {
   "cell_type": "code",
   "execution_count": 62,
   "metadata": {
    "scrolled": false
   },
   "outputs": [
    {
     "data": {
      "text/html": [
       "<div>\n",
       "<style scoped>\n",
       "    .dataframe tbody tr th:only-of-type {\n",
       "        vertical-align: middle;\n",
       "    }\n",
       "\n",
       "    .dataframe tbody tr th {\n",
       "        vertical-align: top;\n",
       "    }\n",
       "\n",
       "    .dataframe thead th {\n",
       "        text-align: right;\n",
       "    }\n",
       "</style>\n",
       "<table border=\"1\" class=\"dataframe\">\n",
       "  <thead>\n",
       "    <tr style=\"text-align: right;\">\n",
       "      <th></th>\n",
       "      <th>CUIT_CUIL</th>\n",
       "      <th>NRO_DOC</th>\n",
       "      <th>Titular</th>\n",
       "      <th>Propiedades</th>\n",
       "      <th>PROVEEDOR</th>\n",
       "      <th>PORCENTAJE</th>\n",
       "      <th>FECHA_INGRESO</th>\n",
       "      <th>DOMICILIO</th>\n",
       "      <th>LOCALIDAD</th>\n",
       "      <th>CODIGO_POSTAL</th>\n",
       "      <th>PROVINCIA</th>\n",
       "      <th>PAIS</th>\n",
       "      <th>IDMOROSO</th>\n",
       "      <th>IDCLIENTE</th>\n",
       "      <th>TIPO_DOC</th>\n",
       "    </tr>\n",
       "  </thead>\n",
       "  <tbody>\n",
       "    <tr>\n",
       "      <th>0</th>\n",
       "      <td>2.004174e+10</td>\n",
       "      <td>4173550</td>\n",
       "      <td>VISCONTI EDUARDO JUAN</td>\n",
       "      <td>1.0</td>\n",
       "      <td>AD</td>\n",
       "      <td>100</td>\n",
       "      <td>2021-03-18 13:11:00.678623</td>\n",
       "      <td>No disponible</td>\n",
       "      <td>Desconocida</td>\n",
       "      <td>No disponible</td>\n",
       "      <td>Desconocida</td>\n",
       "      <td>No disponible</td>\n",
       "      <td>RMS379977155103007</td>\n",
       "      <td>AMEX_TNLM</td>\n",
       "      <td>DNI</td>\n",
       "    </tr>\n",
       "    <tr>\n",
       "      <th>1</th>\n",
       "      <td>2.004200e+10</td>\n",
       "      <td>4200228</td>\n",
       "      <td>CACCHIONE MIGUEL ANGEL</td>\n",
       "      <td>5.0</td>\n",
       "      <td>AD</td>\n",
       "      <td>100</td>\n",
       "      <td>2021-03-18 13:11:00.678623</td>\n",
       "      <td>No disponible</td>\n",
       "      <td>Desconocida</td>\n",
       "      <td>No disponible</td>\n",
       "      <td>Desconocida</td>\n",
       "      <td>No disponible</td>\n",
       "      <td>RMS376414200421005</td>\n",
       "      <td>AMEX_TNRM</td>\n",
       "      <td>DNI</td>\n",
       "    </tr>\n",
       "    <tr>\n",
       "      <th>2</th>\n",
       "      <td>2.004200e+10</td>\n",
       "      <td>4200228</td>\n",
       "      <td>CACCHIONE MIGUEL ANGEL</td>\n",
       "      <td>5.0</td>\n",
       "      <td>AD</td>\n",
       "      <td>100</td>\n",
       "      <td>2021-03-18 13:11:00.678623</td>\n",
       "      <td>No disponible</td>\n",
       "      <td>Desconocida</td>\n",
       "      <td>No disponible</td>\n",
       "      <td>Desconocida</td>\n",
       "      <td>No disponible</td>\n",
       "      <td>RMS376414200421005</td>\n",
       "      <td>AMEX_TNRM</td>\n",
       "      <td>DNI</td>\n",
       "    </tr>\n",
       "    <tr>\n",
       "      <th>3</th>\n",
       "      <td>2.004200e+10</td>\n",
       "      <td>4200228</td>\n",
       "      <td>CACCHIONE MIGUEL ANGEL</td>\n",
       "      <td>5.0</td>\n",
       "      <td>AD</td>\n",
       "      <td>100</td>\n",
       "      <td>2021-03-18 13:11:00.678623</td>\n",
       "      <td>No disponible</td>\n",
       "      <td>Desconocida</td>\n",
       "      <td>No disponible</td>\n",
       "      <td>Desconocida</td>\n",
       "      <td>No disponible</td>\n",
       "      <td>RMS376414200421005</td>\n",
       "      <td>AMEX_TNRM</td>\n",
       "      <td>DNI</td>\n",
       "    </tr>\n",
       "    <tr>\n",
       "      <th>4</th>\n",
       "      <td>2.004200e+10</td>\n",
       "      <td>4200228</td>\n",
       "      <td>CACCHIONE MIGUEL ANGEL</td>\n",
       "      <td>5.0</td>\n",
       "      <td>AD</td>\n",
       "      <td>100</td>\n",
       "      <td>2021-03-18 13:11:00.678623</td>\n",
       "      <td>No disponible</td>\n",
       "      <td>Desconocida</td>\n",
       "      <td>No disponible</td>\n",
       "      <td>Desconocida</td>\n",
       "      <td>No disponible</td>\n",
       "      <td>RMS376414200421005</td>\n",
       "      <td>AMEX_TNRM</td>\n",
       "      <td>DNI</td>\n",
       "    </tr>\n",
       "    <tr>\n",
       "      <th>5</th>\n",
       "      <td>2.004200e+10</td>\n",
       "      <td>4200228</td>\n",
       "      <td>CACCHIONE MIGUEL ANGEL</td>\n",
       "      <td>5.0</td>\n",
       "      <td>AD</td>\n",
       "      <td>100</td>\n",
       "      <td>2021-03-18 13:11:00.678623</td>\n",
       "      <td>No disponible</td>\n",
       "      <td>Desconocida</td>\n",
       "      <td>No disponible</td>\n",
       "      <td>Desconocida</td>\n",
       "      <td>No disponible</td>\n",
       "      <td>RMS376414200421005</td>\n",
       "      <td>AMEX_TNRM</td>\n",
       "      <td>DNI</td>\n",
       "    </tr>\n",
       "    <tr>\n",
       "      <th>6</th>\n",
       "      <td>2.704488e+10</td>\n",
       "      <td>4488073</td>\n",
       "      <td>BONZI MIRTHA CELIA</td>\n",
       "      <td>2.0</td>\n",
       "      <td>AD</td>\n",
       "      <td>100</td>\n",
       "      <td>2021-03-18 13:11:00.678623</td>\n",
       "      <td>No disponible</td>\n",
       "      <td>Desconocida</td>\n",
       "      <td>No disponible</td>\n",
       "      <td>Desconocida</td>\n",
       "      <td>No disponible</td>\n",
       "      <td>RMS376710794971002</td>\n",
       "      <td>AMEX_ALHR</td>\n",
       "      <td>DNI</td>\n",
       "    </tr>\n",
       "    <tr>\n",
       "      <th>7</th>\n",
       "      <td>2.704488e+10</td>\n",
       "      <td>4488073</td>\n",
       "      <td>BONZI MIRTHA CELIA</td>\n",
       "      <td>2.0</td>\n",
       "      <td>AD</td>\n",
       "      <td>100</td>\n",
       "      <td>2021-03-18 13:11:00.678623</td>\n",
       "      <td>No disponible</td>\n",
       "      <td>Desconocida</td>\n",
       "      <td>No disponible</td>\n",
       "      <td>Desconocida</td>\n",
       "      <td>No disponible</td>\n",
       "      <td>RMS376710794971002</td>\n",
       "      <td>AMEX_ALHR</td>\n",
       "      <td>DNI</td>\n",
       "    </tr>\n",
       "    <tr>\n",
       "      <th>8</th>\n",
       "      <td>2.704641e+10</td>\n",
       "      <td>4641229</td>\n",
       "      <td>LESCANO MARIA ERNESTINA</td>\n",
       "      <td>2.0</td>\n",
       "      <td>AD</td>\n",
       "      <td>100</td>\n",
       "      <td>2021-03-18 13:11:00.678623</td>\n",
       "      <td>No disponible</td>\n",
       "      <td>Desconocida</td>\n",
       "      <td>No disponible</td>\n",
       "      <td>Desconocida</td>\n",
       "      <td>No disponible</td>\n",
       "      <td>LC  4641229</td>\n",
       "      <td>FRANCES_2012</td>\n",
       "      <td>LC</td>\n",
       "    </tr>\n",
       "    <tr>\n",
       "      <th>9</th>\n",
       "      <td>2.704641e+10</td>\n",
       "      <td>4641229</td>\n",
       "      <td>LESCANO MARIA ERNESTINA</td>\n",
       "      <td>2.0</td>\n",
       "      <td>AD</td>\n",
       "      <td>100</td>\n",
       "      <td>2021-03-18 13:11:00.678623</td>\n",
       "      <td>No disponible</td>\n",
       "      <td>Desconocida</td>\n",
       "      <td>No disponible</td>\n",
       "      <td>Desconocida</td>\n",
       "      <td>No disponible</td>\n",
       "      <td>LC  4641229</td>\n",
       "      <td>FRANCES_2012</td>\n",
       "      <td>LC</td>\n",
       "    </tr>\n",
       "    <tr>\n",
       "      <th>10</th>\n",
       "      <td>2.704703e+10</td>\n",
       "      <td>4703059</td>\n",
       "      <td>BOCCA NORMA LETICIA</td>\n",
       "      <td>2.0</td>\n",
       "      <td>AD</td>\n",
       "      <td>100</td>\n",
       "      <td>2021-03-18 13:11:00.678623</td>\n",
       "      <td>No disponible</td>\n",
       "      <td>Desconocida</td>\n",
       "      <td>No disponible</td>\n",
       "      <td>Desconocida</td>\n",
       "      <td>No disponible</td>\n",
       "      <td>LC  4703059</td>\n",
       "      <td>FRANCES_2012</td>\n",
       "      <td>LC</td>\n",
       "    </tr>\n",
       "    <tr>\n",
       "      <th>11</th>\n",
       "      <td>2.704703e+10</td>\n",
       "      <td>4703059</td>\n",
       "      <td>BOCCA NORMA LETICIA</td>\n",
       "      <td>2.0</td>\n",
       "      <td>AD</td>\n",
       "      <td>100</td>\n",
       "      <td>2021-03-18 13:11:00.678623</td>\n",
       "      <td>No disponible</td>\n",
       "      <td>Desconocida</td>\n",
       "      <td>No disponible</td>\n",
       "      <td>Desconocida</td>\n",
       "      <td>No disponible</td>\n",
       "      <td>LC  4703059</td>\n",
       "      <td>FRANCES_2012</td>\n",
       "      <td>LC</td>\n",
       "    </tr>\n",
       "    <tr>\n",
       "      <th>12</th>\n",
       "      <td>2.004834e+10</td>\n",
       "      <td>4834342</td>\n",
       "      <td>VUGDELIJA PEDRO ALBERTO</td>\n",
       "      <td>1.0</td>\n",
       "      <td>AD</td>\n",
       "      <td>100</td>\n",
       "      <td>2021-03-18 13:11:00.678623</td>\n",
       "      <td>No disponible</td>\n",
       "      <td>Desconocida</td>\n",
       "      <td>No disponible</td>\n",
       "      <td>Desconocida</td>\n",
       "      <td>No disponible</td>\n",
       "      <td>RMS379975200022008</td>\n",
       "      <td>AMEX_TNLM</td>\n",
       "      <td>DNI</td>\n",
       "    </tr>\n",
       "    <tr>\n",
       "      <th>13</th>\n",
       "      <td>2.005197e+10</td>\n",
       "      <td>5196895</td>\n",
       "      <td>CARPINETTI JULIO ALBERTO</td>\n",
       "      <td>6.0</td>\n",
       "      <td>AD</td>\n",
       "      <td>100</td>\n",
       "      <td>2021-03-18 13:11:00.678623</td>\n",
       "      <td>No disponible</td>\n",
       "      <td>Desconocida</td>\n",
       "      <td>No disponible</td>\n",
       "      <td>Desconocida</td>\n",
       "      <td>No disponible</td>\n",
       "      <td>RMS376415882132000</td>\n",
       "      <td>AMEX_PBRM</td>\n",
       "      <td>DNI</td>\n",
       "    </tr>\n",
       "    <tr>\n",
       "      <th>14</th>\n",
       "      <td>2.005197e+10</td>\n",
       "      <td>5196895</td>\n",
       "      <td>CARPINETTI JULIO ALBERTO</td>\n",
       "      <td>6.0</td>\n",
       "      <td>AD</td>\n",
       "      <td>100</td>\n",
       "      <td>2021-03-18 13:11:00.678623</td>\n",
       "      <td>No disponible</td>\n",
       "      <td>Desconocida</td>\n",
       "      <td>No disponible</td>\n",
       "      <td>Desconocida</td>\n",
       "      <td>No disponible</td>\n",
       "      <td>RMS376415882132000</td>\n",
       "      <td>AMEX_PBRM</td>\n",
       "      <td>DNI</td>\n",
       "    </tr>\n",
       "  </tbody>\n",
       "</table>\n",
       "</div>"
      ],
      "text/plain": [
       "       CUIT_CUIL  NRO_DOC                   Titular  Propiedades PROVEEDOR  \\\n",
       "0   2.004174e+10  4173550     VISCONTI EDUARDO JUAN          1.0        AD   \n",
       "1   2.004200e+10  4200228    CACCHIONE MIGUEL ANGEL          5.0        AD   \n",
       "2   2.004200e+10  4200228    CACCHIONE MIGUEL ANGEL          5.0        AD   \n",
       "3   2.004200e+10  4200228    CACCHIONE MIGUEL ANGEL          5.0        AD   \n",
       "4   2.004200e+10  4200228    CACCHIONE MIGUEL ANGEL          5.0        AD   \n",
       "5   2.004200e+10  4200228    CACCHIONE MIGUEL ANGEL          5.0        AD   \n",
       "6   2.704488e+10  4488073        BONZI MIRTHA CELIA          2.0        AD   \n",
       "7   2.704488e+10  4488073        BONZI MIRTHA CELIA          2.0        AD   \n",
       "8   2.704641e+10  4641229   LESCANO MARIA ERNESTINA          2.0        AD   \n",
       "9   2.704641e+10  4641229   LESCANO MARIA ERNESTINA          2.0        AD   \n",
       "10  2.704703e+10  4703059       BOCCA NORMA LETICIA          2.0        AD   \n",
       "11  2.704703e+10  4703059       BOCCA NORMA LETICIA          2.0        AD   \n",
       "12  2.004834e+10  4834342   VUGDELIJA PEDRO ALBERTO          1.0        AD   \n",
       "13  2.005197e+10  5196895  CARPINETTI JULIO ALBERTO          6.0        AD   \n",
       "14  2.005197e+10  5196895  CARPINETTI JULIO ALBERTO          6.0        AD   \n",
       "\n",
       "    PORCENTAJE              FECHA_INGRESO      DOMICILIO    LOCALIDAD  \\\n",
       "0          100 2021-03-18 13:11:00.678623  No disponible  Desconocida   \n",
       "1          100 2021-03-18 13:11:00.678623  No disponible  Desconocida   \n",
       "2          100 2021-03-18 13:11:00.678623  No disponible  Desconocida   \n",
       "3          100 2021-03-18 13:11:00.678623  No disponible  Desconocida   \n",
       "4          100 2021-03-18 13:11:00.678623  No disponible  Desconocida   \n",
       "5          100 2021-03-18 13:11:00.678623  No disponible  Desconocida   \n",
       "6          100 2021-03-18 13:11:00.678623  No disponible  Desconocida   \n",
       "7          100 2021-03-18 13:11:00.678623  No disponible  Desconocida   \n",
       "8          100 2021-03-18 13:11:00.678623  No disponible  Desconocida   \n",
       "9          100 2021-03-18 13:11:00.678623  No disponible  Desconocida   \n",
       "10         100 2021-03-18 13:11:00.678623  No disponible  Desconocida   \n",
       "11         100 2021-03-18 13:11:00.678623  No disponible  Desconocida   \n",
       "12         100 2021-03-18 13:11:00.678623  No disponible  Desconocida   \n",
       "13         100 2021-03-18 13:11:00.678623  No disponible  Desconocida   \n",
       "14         100 2021-03-18 13:11:00.678623  No disponible  Desconocida   \n",
       "\n",
       "    CODIGO_POSTAL    PROVINCIA           PAIS            IDMOROSO  \\\n",
       "0   No disponible  Desconocida  No disponible  RMS379977155103007   \n",
       "1   No disponible  Desconocida  No disponible  RMS376414200421005   \n",
       "2   No disponible  Desconocida  No disponible  RMS376414200421005   \n",
       "3   No disponible  Desconocida  No disponible  RMS376414200421005   \n",
       "4   No disponible  Desconocida  No disponible  RMS376414200421005   \n",
       "5   No disponible  Desconocida  No disponible  RMS376414200421005   \n",
       "6   No disponible  Desconocida  No disponible  RMS376710794971002   \n",
       "7   No disponible  Desconocida  No disponible  RMS376710794971002   \n",
       "8   No disponible  Desconocida  No disponible  LC  4641229          \n",
       "9   No disponible  Desconocida  No disponible  LC  4641229          \n",
       "10  No disponible  Desconocida  No disponible  LC  4703059          \n",
       "11  No disponible  Desconocida  No disponible  LC  4703059          \n",
       "12  No disponible  Desconocida  No disponible  RMS379975200022008   \n",
       "13  No disponible  Desconocida  No disponible  RMS376415882132000   \n",
       "14  No disponible  Desconocida  No disponible  RMS376415882132000   \n",
       "\n",
       "               IDCLIENTE TIPO_DOC  \n",
       "0   AMEX_TNLM                 DNI  \n",
       "1   AMEX_TNRM                 DNI  \n",
       "2   AMEX_TNRM                 DNI  \n",
       "3   AMEX_TNRM                 DNI  \n",
       "4   AMEX_TNRM                 DNI  \n",
       "5   AMEX_TNRM                 DNI  \n",
       "6   AMEX_ALHR                 DNI  \n",
       "7   AMEX_ALHR                 DNI  \n",
       "8   FRANCES_2012               LC  \n",
       "9   FRANCES_2012               LC  \n",
       "10  FRANCES_2012               LC  \n",
       "11  FRANCES_2012               LC  \n",
       "12  AMEX_TNLM                 DNI  \n",
       "13  AMEX_PBRM                 DNI  \n",
       "14  AMEX_PBRM                 DNI  "
      ]
     },
     "execution_count": 62,
     "metadata": {},
     "output_type": "execute_result"
    }
   ],
   "source": [
    "df_union.head(15)"
   ]
  },
  {
   "cell_type": "markdown",
   "metadata": {},
   "source": [
    "# 10) Export"
   ]
  },
  {
   "cell_type": "markdown",
   "metadata": {},
   "source": [
    "Renombramos, dropeamos y reordenamos las columnas"
   ]
  },
  {
   "cell_type": "markdown",
   "metadata": {},
   "source": [
    "Dropeamos columnas que no nos sirven"
   ]
  },
  {
   "cell_type": "code",
   "execution_count": 63,
   "metadata": {},
   "outputs": [],
   "source": [
    "#df_export = df_union.drop(columns=['CUIT_CUIL','Titular','NRO_DOC','Propiedades','NOMBRE','CUIT_CUIL','IDCLIENTE','TIPO_DOC'], axis=0)"
   ]
  },
  {
   "cell_type": "code",
   "execution_count": 64,
   "metadata": {},
   "outputs": [],
   "source": [
    "df_export = df_union[['IDMOROSO','DOMICILIO','LOCALIDAD','CODIGO_POSTAL','PROVINCIA','PAIS','PORCENTAJE','FECHA_INGRESO','PROVEEDOR']]"
   ]
  },
  {
   "cell_type": "code",
   "execution_count": 65,
   "metadata": {},
   "outputs": [
    {
     "data": {
      "text/html": [
       "<div>\n",
       "<style scoped>\n",
       "    .dataframe tbody tr th:only-of-type {\n",
       "        vertical-align: middle;\n",
       "    }\n",
       "\n",
       "    .dataframe tbody tr th {\n",
       "        vertical-align: top;\n",
       "    }\n",
       "\n",
       "    .dataframe thead th {\n",
       "        text-align: right;\n",
       "    }\n",
       "</style>\n",
       "<table border=\"1\" class=\"dataframe\">\n",
       "  <thead>\n",
       "    <tr style=\"text-align: right;\">\n",
       "      <th></th>\n",
       "      <th>IDMOROSO</th>\n",
       "      <th>DOMICILIO</th>\n",
       "      <th>LOCALIDAD</th>\n",
       "      <th>CODIGO_POSTAL</th>\n",
       "      <th>PROVINCIA</th>\n",
       "      <th>PAIS</th>\n",
       "      <th>PORCENTAJE</th>\n",
       "      <th>FECHA_INGRESO</th>\n",
       "      <th>PROVEEDOR</th>\n",
       "    </tr>\n",
       "  </thead>\n",
       "  <tbody>\n",
       "    <tr>\n",
       "      <th>0</th>\n",
       "      <td>RMS379977155103007</td>\n",
       "      <td>No disponible</td>\n",
       "      <td>Desconocida</td>\n",
       "      <td>No disponible</td>\n",
       "      <td>Desconocida</td>\n",
       "      <td>No disponible</td>\n",
       "      <td>100</td>\n",
       "      <td>2021-03-18 13:11:00.678623</td>\n",
       "      <td>AD</td>\n",
       "    </tr>\n",
       "    <tr>\n",
       "      <th>1</th>\n",
       "      <td>RMS376414200421005</td>\n",
       "      <td>No disponible</td>\n",
       "      <td>Desconocida</td>\n",
       "      <td>No disponible</td>\n",
       "      <td>Desconocida</td>\n",
       "      <td>No disponible</td>\n",
       "      <td>100</td>\n",
       "      <td>2021-03-18 13:11:00.678623</td>\n",
       "      <td>AD</td>\n",
       "    </tr>\n",
       "    <tr>\n",
       "      <th>2</th>\n",
       "      <td>RMS376414200421005</td>\n",
       "      <td>No disponible</td>\n",
       "      <td>Desconocida</td>\n",
       "      <td>No disponible</td>\n",
       "      <td>Desconocida</td>\n",
       "      <td>No disponible</td>\n",
       "      <td>100</td>\n",
       "      <td>2021-03-18 13:11:00.678623</td>\n",
       "      <td>AD</td>\n",
       "    </tr>\n",
       "    <tr>\n",
       "      <th>3</th>\n",
       "      <td>RMS376414200421005</td>\n",
       "      <td>No disponible</td>\n",
       "      <td>Desconocida</td>\n",
       "      <td>No disponible</td>\n",
       "      <td>Desconocida</td>\n",
       "      <td>No disponible</td>\n",
       "      <td>100</td>\n",
       "      <td>2021-03-18 13:11:00.678623</td>\n",
       "      <td>AD</td>\n",
       "    </tr>\n",
       "    <tr>\n",
       "      <th>4</th>\n",
       "      <td>RMS376414200421005</td>\n",
       "      <td>No disponible</td>\n",
       "      <td>Desconocida</td>\n",
       "      <td>No disponible</td>\n",
       "      <td>Desconocida</td>\n",
       "      <td>No disponible</td>\n",
       "      <td>100</td>\n",
       "      <td>2021-03-18 13:11:00.678623</td>\n",
       "      <td>AD</td>\n",
       "    </tr>\n",
       "  </tbody>\n",
       "</table>\n",
       "</div>"
      ],
      "text/plain": [
       "             IDMOROSO      DOMICILIO    LOCALIDAD  CODIGO_POSTAL    PROVINCIA  \\\n",
       "0  RMS379977155103007  No disponible  Desconocida  No disponible  Desconocida   \n",
       "1  RMS376414200421005  No disponible  Desconocida  No disponible  Desconocida   \n",
       "2  RMS376414200421005  No disponible  Desconocida  No disponible  Desconocida   \n",
       "3  RMS376414200421005  No disponible  Desconocida  No disponible  Desconocida   \n",
       "4  RMS376414200421005  No disponible  Desconocida  No disponible  Desconocida   \n",
       "\n",
       "            PAIS  PORCENTAJE              FECHA_INGRESO PROVEEDOR  \n",
       "0  No disponible         100 2021-03-18 13:11:00.678623        AD  \n",
       "1  No disponible         100 2021-03-18 13:11:00.678623        AD  \n",
       "2  No disponible         100 2021-03-18 13:11:00.678623        AD  \n",
       "3  No disponible         100 2021-03-18 13:11:00.678623        AD  \n",
       "4  No disponible         100 2021-03-18 13:11:00.678623        AD  "
      ]
     },
     "execution_count": 65,
     "metadata": {},
     "output_type": "execute_result"
    }
   ],
   "source": [
    "df_export.head()"
   ]
  },
  {
   "cell_type": "code",
   "execution_count": 66,
   "metadata": {},
   "outputs": [
    {
     "data": {
      "text/plain": [
       "(86, 9)"
      ]
     },
     "execution_count": 66,
     "metadata": {},
     "output_type": "execute_result"
    }
   ],
   "source": [
    "df_export.shape"
   ]
  },
  {
   "cell_type": "markdown",
   "metadata": {},
   "source": [
    "## 14.2) Insert a tabla"
   ]
  },
  {
   "cell_type": "code",
   "execution_count": 67,
   "metadata": {},
   "outputs": [],
   "source": [
    "df_export.to_csv('/mnt/c/Users/Dleg/Data/MOPC/MOPC/Enriquecimiento de Datos/Data Cleaning/Insiders/Exports/DAM_INMUEBLES/PyP_DAM_INMUEBLES_1803.csv',index=False)"
   ]
  },
  {
   "cell_type": "code",
   "execution_count": null,
   "metadata": {},
   "outputs": [],
   "source": []
  }
 ],
 "metadata": {
  "kernelspec": {
   "display_name": "Python 3",
   "language": "python",
   "name": "python3"
  },
  "language_info": {
   "codemirror_mode": {
    "name": "ipython",
    "version": 3
   },
   "file_extension": ".py",
   "mimetype": "text/x-python",
   "name": "python",
   "nbconvert_exporter": "python",
   "pygments_lexer": "ipython3",
   "version": "3.8.6"
  }
 },
 "nbformat": 4,
 "nbformat_minor": 4
}
