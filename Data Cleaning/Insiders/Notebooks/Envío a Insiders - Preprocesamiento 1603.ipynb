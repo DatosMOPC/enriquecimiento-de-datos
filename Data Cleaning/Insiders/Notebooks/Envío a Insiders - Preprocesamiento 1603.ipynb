{
 "cells": [
  {
   "cell_type": "code",
   "execution_count": 1,
   "id": "synthetic-mercy",
   "metadata": {},
   "outputs": [],
   "source": [
    "import pandas as pd"
   ]
  },
  {
   "cell_type": "code",
   "execution_count": 2,
   "id": "surprised-denmark",
   "metadata": {},
   "outputs": [],
   "source": [
    "#df = pd.read_csv('/mnt/c/Users/Dleg/Data/MOPC/MOPC/Enriquecimiento de Datos/Data Cleaning/PyP/Datasets/Datasets enviados/Cartera_sin_enriquecer - Estados_idcliente - 2602-4.csv')\n",
    "df = pd.read_csv('/mnt/c/Users/Dleg/Data/MOPC/MOPC/Enriquecimiento de Datos/Data Cleaning/Insiders/Datasets/Datasets enviados/Envio Insiders - Estado-IDCliente - 1603.csv')"
   ]
  },
  {
   "cell_type": "code",
   "execution_count": 3,
   "id": "written-government",
   "metadata": {},
   "outputs": [
    {
     "data": {
      "text/html": [
       "<div>\n",
       "<style scoped>\n",
       "    .dataframe tbody tr th:only-of-type {\n",
       "        vertical-align: middle;\n",
       "    }\n",
       "\n",
       "    .dataframe tbody tr th {\n",
       "        vertical-align: top;\n",
       "    }\n",
       "\n",
       "    .dataframe thead th {\n",
       "        text-align: right;\n",
       "    }\n",
       "</style>\n",
       "<table border=\"1\" class=\"dataframe\">\n",
       "  <thead>\n",
       "    <tr style=\"text-align: right;\">\n",
       "      <th></th>\n",
       "      <th>IDMOROSO</th>\n",
       "      <th>NOMBRE</th>\n",
       "      <th>IDCLIENTE</th>\n",
       "      <th>ESTADO</th>\n",
       "      <th>FILTROA</th>\n",
       "      <th>DATOADIC</th>\n",
       "    </tr>\n",
       "  </thead>\n",
       "  <tbody>\n",
       "    <tr>\n",
       "      <th>0</th>\n",
       "      <td>DNI 14384837</td>\n",
       "      <td>ACOSTA MARIA CRISTINA</td>\n",
       "      <td>FRANCES_2012</td>\n",
       "      <td>NO VISTO</td>\n",
       "      <td>3 - Ag 3ra</td>\n",
       "      <td>NaN</td>\n",
       "    </tr>\n",
       "    <tr>\n",
       "      <th>1</th>\n",
       "      <td>DNI 33803357</td>\n",
       "      <td>CARRASCO SERGIO DAMIAN</td>\n",
       "      <td>FRANCES_2012</td>\n",
       "      <td>NO VISTO</td>\n",
       "      <td>1 - Ag 1ra</td>\n",
       "      <td>NaN</td>\n",
       "    </tr>\n",
       "    <tr>\n",
       "      <th>2</th>\n",
       "      <td>DNI 34570749</td>\n",
       "      <td>TOLDI PRESENTADO SOLANGE GISELLE</td>\n",
       "      <td>FRANCES_2012</td>\n",
       "      <td>NO VISTO</td>\n",
       "      <td>1 - Ag 1ra</td>\n",
       "      <td>NaN</td>\n",
       "    </tr>\n",
       "    <tr>\n",
       "      <th>3</th>\n",
       "      <td>DNI 36991995</td>\n",
       "      <td>ANTECAO MAURO LEANDRO</td>\n",
       "      <td>FRANCES_2012</td>\n",
       "      <td>NO VISTO</td>\n",
       "      <td>2 - Ag 2ra</td>\n",
       "      <td>NaN</td>\n",
       "    </tr>\n",
       "    <tr>\n",
       "      <th>4</th>\n",
       "      <td>DNI 40359046</td>\n",
       "      <td>VATTOVAZ VICTORIA</td>\n",
       "      <td>FRANCES_2012</td>\n",
       "      <td>NO VISTO</td>\n",
       "      <td>1 - Ag 1ra</td>\n",
       "      <td>NaN</td>\n",
       "    </tr>\n",
       "  </tbody>\n",
       "</table>\n",
       "</div>"
      ],
      "text/plain": [
       "             IDMOROSO                                    NOMBRE  \\\n",
       "0  DNI 14384837        ACOSTA MARIA CRISTINA                      \n",
       "1  DNI 33803357        CARRASCO SERGIO DAMIAN                     \n",
       "2  DNI 34570749        TOLDI PRESENTADO SOLANGE GISELLE           \n",
       "3  DNI 36991995        ANTECAO MAURO LEANDRO                      \n",
       "4  DNI 40359046        VATTOVAZ VICTORIA                          \n",
       "\n",
       "              IDCLIENTE                ESTADO               FILTROA DATOADIC  \n",
       "0  FRANCES_2012          NO VISTO              3 - Ag 3ra                NaN  \n",
       "1  FRANCES_2012          NO VISTO              1 - Ag 1ra                NaN  \n",
       "2  FRANCES_2012          NO VISTO              1 - Ag 1ra                NaN  \n",
       "3  FRANCES_2012          NO VISTO              2 - Ag 2ra                NaN  \n",
       "4  FRANCES_2012          NO VISTO              1 - Ag 1ra                NaN  "
      ]
     },
     "execution_count": 3,
     "metadata": {},
     "output_type": "execute_result"
    }
   ],
   "source": [
    "df.head()"
   ]
  },
  {
   "cell_type": "code",
   "execution_count": 4,
   "id": "ruled-password",
   "metadata": {},
   "outputs": [
    {
     "data": {
      "text/plain": [
       "(619, 6)"
      ]
     },
     "execution_count": 4,
     "metadata": {},
     "output_type": "execute_result"
    }
   ],
   "source": [
    "df.shape"
   ]
  },
  {
   "cell_type": "code",
   "execution_count": 5,
   "id": "consistent-belgium",
   "metadata": {},
   "outputs": [],
   "source": [
    "df['IDMOROSO'] = df['IDMOROSO'].str.strip()"
   ]
  },
  {
   "cell_type": "code",
   "execution_count": 6,
   "id": "handy-grammar",
   "metadata": {},
   "outputs": [],
   "source": [
    "df.loc[(df['IDCLIENTE'].str.startswith('AMEX')) , 'NRO_DOC'] = df['DATOADIC']\n",
    "df.loc[~(df['IDCLIENTE'].str.startswith('AMEX')) , 'NRO_DOC'] = df['IDMOROSO']"
   ]
  },
  {
   "cell_type": "code",
   "execution_count": 7,
   "id": "interesting-likelihood",
   "metadata": {},
   "outputs": [],
   "source": [
    "df = df.dropna(subset=['NRO_DOC'])"
   ]
  },
  {
   "cell_type": "code",
   "execution_count": 8,
   "id": "necessary-leather",
   "metadata": {},
   "outputs": [
    {
     "data": {
      "text/plain": [
       "(619, 7)"
      ]
     },
     "execution_count": 8,
     "metadata": {},
     "output_type": "execute_result"
    }
   ],
   "source": [
    "df.shape"
   ]
  },
  {
   "cell_type": "code",
   "execution_count": 9,
   "id": "standard-rally",
   "metadata": {},
   "outputs": [
    {
     "data": {
      "text/html": [
       "<div>\n",
       "<style scoped>\n",
       "    .dataframe tbody tr th:only-of-type {\n",
       "        vertical-align: middle;\n",
       "    }\n",
       "\n",
       "    .dataframe tbody tr th {\n",
       "        vertical-align: top;\n",
       "    }\n",
       "\n",
       "    .dataframe thead th {\n",
       "        text-align: right;\n",
       "    }\n",
       "</style>\n",
       "<table border=\"1\" class=\"dataframe\">\n",
       "  <thead>\n",
       "    <tr style=\"text-align: right;\">\n",
       "      <th></th>\n",
       "      <th>IDMOROSO</th>\n",
       "      <th>NOMBRE</th>\n",
       "      <th>IDCLIENTE</th>\n",
       "      <th>ESTADO</th>\n",
       "      <th>FILTROA</th>\n",
       "      <th>DATOADIC</th>\n",
       "      <th>NRO_DOC</th>\n",
       "    </tr>\n",
       "  </thead>\n",
       "  <tbody>\n",
       "    <tr>\n",
       "      <th>0</th>\n",
       "      <td>DNI 14384837</td>\n",
       "      <td>ACOSTA MARIA CRISTINA</td>\n",
       "      <td>FRANCES_2012</td>\n",
       "      <td>NO VISTO</td>\n",
       "      <td>3 - Ag 3ra</td>\n",
       "      <td>NaN</td>\n",
       "      <td>DNI 14384837</td>\n",
       "    </tr>\n",
       "    <tr>\n",
       "      <th>1</th>\n",
       "      <td>DNI 33803357</td>\n",
       "      <td>CARRASCO SERGIO DAMIAN</td>\n",
       "      <td>FRANCES_2012</td>\n",
       "      <td>NO VISTO</td>\n",
       "      <td>1 - Ag 1ra</td>\n",
       "      <td>NaN</td>\n",
       "      <td>DNI 33803357</td>\n",
       "    </tr>\n",
       "    <tr>\n",
       "      <th>2</th>\n",
       "      <td>DNI 34570749</td>\n",
       "      <td>TOLDI PRESENTADO SOLANGE GISELLE</td>\n",
       "      <td>FRANCES_2012</td>\n",
       "      <td>NO VISTO</td>\n",
       "      <td>1 - Ag 1ra</td>\n",
       "      <td>NaN</td>\n",
       "      <td>DNI 34570749</td>\n",
       "    </tr>\n",
       "    <tr>\n",
       "      <th>3</th>\n",
       "      <td>DNI 36991995</td>\n",
       "      <td>ANTECAO MAURO LEANDRO</td>\n",
       "      <td>FRANCES_2012</td>\n",
       "      <td>NO VISTO</td>\n",
       "      <td>2 - Ag 2ra</td>\n",
       "      <td>NaN</td>\n",
       "      <td>DNI 36991995</td>\n",
       "    </tr>\n",
       "    <tr>\n",
       "      <th>4</th>\n",
       "      <td>DNI 40359046</td>\n",
       "      <td>VATTOVAZ VICTORIA</td>\n",
       "      <td>FRANCES_2012</td>\n",
       "      <td>NO VISTO</td>\n",
       "      <td>1 - Ag 1ra</td>\n",
       "      <td>NaN</td>\n",
       "      <td>DNI 40359046</td>\n",
       "    </tr>\n",
       "  </tbody>\n",
       "</table>\n",
       "</div>"
      ],
      "text/plain": [
       "       IDMOROSO                                    NOMBRE  \\\n",
       "0  DNI 14384837  ACOSTA MARIA CRISTINA                      \n",
       "1  DNI 33803357  CARRASCO SERGIO DAMIAN                     \n",
       "2  DNI 34570749  TOLDI PRESENTADO SOLANGE GISELLE           \n",
       "3  DNI 36991995  ANTECAO MAURO LEANDRO                      \n",
       "4  DNI 40359046  VATTOVAZ VICTORIA                          \n",
       "\n",
       "              IDCLIENTE                ESTADO               FILTROA DATOADIC  \\\n",
       "0  FRANCES_2012          NO VISTO              3 - Ag 3ra                NaN   \n",
       "1  FRANCES_2012          NO VISTO              1 - Ag 1ra                NaN   \n",
       "2  FRANCES_2012          NO VISTO              1 - Ag 1ra                NaN   \n",
       "3  FRANCES_2012          NO VISTO              2 - Ag 2ra                NaN   \n",
       "4  FRANCES_2012          NO VISTO              1 - Ag 1ra                NaN   \n",
       "\n",
       "        NRO_DOC  \n",
       "0  DNI 14384837  \n",
       "1  DNI 33803357  \n",
       "2  DNI 34570749  \n",
       "3  DNI 36991995  \n",
       "4  DNI 40359046  "
      ]
     },
     "execution_count": 9,
     "metadata": {},
     "output_type": "execute_result"
    }
   ],
   "source": [
    "df.head()"
   ]
  },
  {
   "cell_type": "code",
   "execution_count": 10,
   "id": "varied-burst",
   "metadata": {},
   "outputs": [
    {
     "data": {
      "text/html": [
       "<div>\n",
       "<style scoped>\n",
       "    .dataframe tbody tr th:only-of-type {\n",
       "        vertical-align: middle;\n",
       "    }\n",
       "\n",
       "    .dataframe tbody tr th {\n",
       "        vertical-align: top;\n",
       "    }\n",
       "\n",
       "    .dataframe thead th {\n",
       "        text-align: right;\n",
       "    }\n",
       "</style>\n",
       "<table border=\"1\" class=\"dataframe\">\n",
       "  <thead>\n",
       "    <tr style=\"text-align: right;\">\n",
       "      <th></th>\n",
       "      <th>IDMOROSO</th>\n",
       "      <th>NOMBRE</th>\n",
       "      <th>IDCLIENTE</th>\n",
       "      <th>ESTADO</th>\n",
       "      <th>FILTROA</th>\n",
       "      <th>DATOADIC</th>\n",
       "      <th>NRO_DOC</th>\n",
       "    </tr>\n",
       "  </thead>\n",
       "  <tbody>\n",
       "    <tr>\n",
       "      <th>614</th>\n",
       "      <td>RMS376417243132000</td>\n",
       "      <td>CLAUDIA L ONUFRYJCZUK</td>\n",
       "      <td>AMEX_PARM</td>\n",
       "      <td>NO UBICADO</td>\n",
       "      <td>EDICOLA</td>\n",
       "      <td>27 32604085 7</td>\n",
       "      <td>27 32604085 7</td>\n",
       "    </tr>\n",
       "    <tr>\n",
       "      <th>615</th>\n",
       "      <td>RMS379977155103007</td>\n",
       "      <td>EDUARDO JUAN VISCONTI</td>\n",
       "      <td>AMEX_TNLM</td>\n",
       "      <td>NO UBICADO</td>\n",
       "      <td>MBESOSTRI</td>\n",
       "      <td>20041735504</td>\n",
       "      <td>20041735504</td>\n",
       "    </tr>\n",
       "    <tr>\n",
       "      <th>616</th>\n",
       "      <td>RMS376414028951001</td>\n",
       "      <td>FERNANDO PABLO KUKULJAN</td>\n",
       "      <td>AMEX_PARM</td>\n",
       "      <td>SKIP LEVEL1 OK</td>\n",
       "      <td>EDICOLA</td>\n",
       "      <td>20231294172</td>\n",
       "      <td>20231294172</td>\n",
       "    </tr>\n",
       "    <tr>\n",
       "      <th>617</th>\n",
       "      <td>RMS376456717431001</td>\n",
       "      <td>LUIS ALFREDO FRIAS</td>\n",
       "      <td>AMEX_TNCM</td>\n",
       "      <td>SKIP LEVEL1 OK</td>\n",
       "      <td>MBESOSTRI</td>\n",
       "      <td>30711477876</td>\n",
       "      <td>30711477876</td>\n",
       "    </tr>\n",
       "    <tr>\n",
       "      <th>618</th>\n",
       "      <td>RMS379977689141002</td>\n",
       "      <td>DANIEL ANDRES VELAZCO S</td>\n",
       "      <td>AMEX_ALLR</td>\n",
       "      <td>SKIP LEVEL1 OK</td>\n",
       "      <td>IGODOY</td>\n",
       "      <td>20257116744</td>\n",
       "      <td>20257116744</td>\n",
       "    </tr>\n",
       "  </tbody>\n",
       "</table>\n",
       "</div>"
      ],
      "text/plain": [
       "               IDMOROSO                                    NOMBRE  \\\n",
       "614  RMS376417243132000  CLAUDIA L ONUFRYJCZUK                      \n",
       "615  RMS379977155103007  EDUARDO JUAN VISCONTI                      \n",
       "616  RMS376414028951001  FERNANDO PABLO KUKULJAN                    \n",
       "617  RMS376456717431001  LUIS ALFREDO FRIAS                         \n",
       "618  RMS379977689141002  DANIEL ANDRES VELAZCO S                    \n",
       "\n",
       "                IDCLIENTE                ESTADO               FILTROA  \\\n",
       "614  AMEX_PARM             NO UBICADO            EDICOLA                \n",
       "615  AMEX_TNLM             NO UBICADO            MBESOSTRI              \n",
       "616  AMEX_PARM             SKIP LEVEL1 OK        EDICOLA                \n",
       "617  AMEX_TNCM             SKIP LEVEL1 OK        MBESOSTRI              \n",
       "618  AMEX_ALLR             SKIP LEVEL1 OK        IGODOY                 \n",
       "\n",
       "                           DATOADIC                         NRO_DOC  \n",
       "614  27 32604085 7                   27 32604085 7                   \n",
       "615  20041735504                     20041735504                     \n",
       "616  20231294172                     20231294172                     \n",
       "617  30711477876                     30711477876                     \n",
       "618  20257116744                     20257116744                     "
      ]
     },
     "execution_count": 10,
     "metadata": {},
     "output_type": "execute_result"
    }
   ],
   "source": [
    "df.tail()"
   ]
  },
  {
   "cell_type": "markdown",
   "id": "caring-consolidation",
   "metadata": {},
   "source": [
    "## 12.2) DNI Cleaning"
   ]
  },
  {
   "cell_type": "markdown",
   "id": "minute-challenge",
   "metadata": {},
   "source": [
    "Limpiamos el dataframe __df__, ya que dentro de DATO_A_ENVIAR tenemos 9 tipos de casos diferentes de datos:\n",
    "\n",
    "- DNI 12345678\n",
    "- DNI12345678\n",
    "- DNIE1234678\n",
    "- LC  1234567\n",
    "- LE  1234567\n",
    "- CUIT00123456780\n",
    "- 00123456780 --> Es un CUIT.\n",
    "- 00 12345678 0 --> Es un CUIT.\n",
    "- DNI 00123456780 --> Dice DNI pero es un CUIT de una persona __jurídica__ (TO DO)"
   ]
  },
  {
   "cell_type": "markdown",
   "id": "virgin-accessory",
   "metadata": {},
   "source": [
    "Para eso definimos 5 funciones:\n",
    "\n",
    "- __Tipo_DOC__: Se definen dos funciones para determinar el tipo de DNI. Una inicial, y otra para corregir sobre el dataframe resultante.\n",
    "- __Standard DNI__: Estandariza los DNI para 7 de los casos. Esta función debe ejecutarse en primer lugar.\n",
    "- __DNI Spaces__: Elimina los espacios.\n",
    "- __DNI Zero__: Elimina los ceros iniciales de ciertos CUITs para que coincidan con los DNI.\n",
    "- __Cuit__: Decisión sobre dejar un cuit o volverlo DNI"
   ]
  },
  {
   "cell_type": "code",
   "execution_count": 11,
   "id": "divided-courtesy",
   "metadata": {},
   "outputs": [],
   "source": [
    "def tipo_doc_1 (string_dni):\n",
    "    \n",
    "    if 'DNI' in string_dni:\n",
    "        tipo = 'DNI'\n",
    "    \n",
    "    elif 'LC' in string_dni:\n",
    "        tipo = 'LC'\n",
    "    \n",
    "    elif 'LE' in string_dni:\n",
    "        tipo = 'LE'\n",
    "    \n",
    "    elif 'DNIE' in string_dni:\n",
    "        tipo = 'DNIE'    \n",
    "    \n",
    "    elif ((string_dni.startswith(('CUIT30','CUIT33','CUIT34'))) & (len(string_dni)>8)):\n",
    "        tipo = 'CUIT'\n",
    "        \n",
    "    elif ((string_dni.startswith(('30','33','34'))) & (len(string_dni)>8)):\n",
    "        tipo = 'CUIT'\n",
    "\n",
    "    elif ((string_dni.startswith(('20','23','24','27'))) & (len(string_dni)>8)):\n",
    "        tipo = 'DNI'\n",
    "\n",
    "    elif ((string_dni.startswith(('CUIT20','CUIT23','CUIT24','CUIT27'))) & (len(string_dni)>8)):\n",
    "        tipo = 'DNI'\n",
    "        \n",
    "    else:\n",
    "        tipo = 'DNI'\n",
    "    \n",
    "    return tipo"
   ]
  },
  {
   "cell_type": "code",
   "execution_count": 12,
   "id": "passive-egypt",
   "metadata": {},
   "outputs": [],
   "source": [
    "def tipo_doc_2 (string_dni, tipo_original):\n",
    "    \n",
    "    if (len(string_dni) > 8) & (tipo_original == 'DNI'):\n",
    "        tipo = 'CUIT'\n",
    "    else:\n",
    "        tipo = tipo_original\n",
    "    return tipo"
   ]
  },
  {
   "cell_type": "code",
   "execution_count": 13,
   "id": "loose-narrow",
   "metadata": {},
   "outputs": [],
   "source": [
    "def standard_dni (string_dni):\n",
    "    \"\"\"DNI separation by each case.\n",
    "    \"\"\"\n",
    "    \n",
    "    if 'DNI ' in string_dni:\n",
    "        dni = string_dni.split('DNI ')[1]\n",
    "        \n",
    "    elif 'DNIE' in string_dni:\n",
    "        dni = string_dni.split('DNIE')[1]\n",
    "    \n",
    "    elif 'DNI' in string_dni:\n",
    "        dni = string_dni.split('DNI')[1]\n",
    "    \n",
    "    elif 'LC  ' in string_dni:\n",
    "        dni = string_dni.split('LC  ')[1]\n",
    "    \n",
    "    elif 'LE  ' in string_dni:\n",
    "        dni = string_dni.split('LE  ')[1]\n",
    "    \n",
    "    elif 'CUIT' in string_dni:\n",
    "        dni = string_dni.split('CUIT')[1]\n",
    "        \n",
    "    else:\n",
    "        dni = string_dni\n",
    "        \n",
    "    return dni"
   ]
  },
  {
   "cell_type": "code",
   "execution_count": 14,
   "id": "standard-literacy",
   "metadata": {},
   "outputs": [],
   "source": [
    "def dni_characters (string_dni):\n",
    "    \n",
    "    if ' ' in string_dni:\n",
    "        dni = string_dni.replace(' ','')\n",
    "        \n",
    "    elif '-' in string_dni:\n",
    "        dni = string_dni.replace('-','')\n",
    "\n",
    "    else:\n",
    "        dni = string_dni\n",
    "    \n",
    "    return dni"
   ]
  },
  {
   "cell_type": "code",
   "execution_count": 15,
   "id": "meaningful-longer",
   "metadata": {},
   "outputs": [],
   "source": [
    "def cuit (string_dni):\n",
    "    \n",
    "    if ((string_dni.startswith('20')) & (len(string_dni)>8)):\n",
    "        cuit = string_dni [2:-1]\n",
    "        \n",
    "    elif ((string_dni.startswith('23')) & (len(string_dni)>8)):\n",
    "        cuit = string_dni [2:-1]\n",
    "        \n",
    "    elif ((string_dni.startswith('24')) & (len(string_dni)>8)):\n",
    "        cuit = string_dni [2:-1]\n",
    "\n",
    "    elif ((string_dni.startswith('27')) & (len(string_dni)>8)):\n",
    "        cuit = string_dni [2:-1]\n",
    "\n",
    "    else:\n",
    "        cuit = string_dni\n",
    "        \n",
    "    return cuit"
   ]
  },
  {
   "cell_type": "code",
   "execution_count": 16,
   "id": "unlike-bridge",
   "metadata": {},
   "outputs": [],
   "source": [
    "def dni_zero (string_dni):\n",
    "    \n",
    "    if string_dni.startswith('0'):\n",
    "        dni = string_dni [1:]\n",
    "\n",
    "    else:\n",
    "        dni = string_dni\n",
    "    \n",
    "    return dni"
   ]
  },
  {
   "cell_type": "markdown",
   "id": "substantial-camera",
   "metadata": {},
   "source": [
    "En primer lugar, trimmeamos los espacios que sobran:"
   ]
  },
  {
   "cell_type": "code",
   "execution_count": 17,
   "id": "proper-clause",
   "metadata": {},
   "outputs": [],
   "source": [
    "df['NRO_DOC'] = [(str(df['NRO_DOC'][i]).strip()) for i in range (df['NRO_DOC'].count())]"
   ]
  },
  {
   "cell_type": "markdown",
   "id": "structured-bandwidth",
   "metadata": {},
   "source": [
    "Se implementan estas funciones:"
   ]
  },
  {
   "cell_type": "markdown",
   "id": "promotional-grounds",
   "metadata": {},
   "source": [
    "Para determinar el __TIPO DE DOCUMENTO__ en primer lugar:"
   ]
  },
  {
   "cell_type": "code",
   "execution_count": 18,
   "id": "copyrighted-brother",
   "metadata": {},
   "outputs": [],
   "source": [
    "df['TIPO_DOC'] = [tipo_doc_1(df['NRO_DOC'][i]) for i in range (df['NRO_DOC'].count())]"
   ]
  },
  {
   "cell_type": "markdown",
   "id": "ruled-boxing",
   "metadata": {},
   "source": [
    "Para la limpieza de DNIs:"
   ]
  },
  {
   "cell_type": "code",
   "execution_count": 19,
   "id": "pressed-dominican",
   "metadata": {},
   "outputs": [],
   "source": [
    "df['NRO_DOC'] = [standard_dni(df['NRO_DOC'][i]) for i in range (df['NRO_DOC'].count())]"
   ]
  },
  {
   "cell_type": "code",
   "execution_count": 20,
   "id": "standing-editing",
   "metadata": {},
   "outputs": [],
   "source": [
    "df['NRO_DOC'] = [dni_characters(df['NRO_DOC'][i]) for i in range (df['NRO_DOC'].count())]"
   ]
  },
  {
   "cell_type": "code",
   "execution_count": 21,
   "id": "demanding-feeling",
   "metadata": {},
   "outputs": [],
   "source": [
    "df['NRO_DOC'] = [cuit(df['NRO_DOC'][i]) for i in range (df['NRO_DOC'].count())]"
   ]
  },
  {
   "cell_type": "code",
   "execution_count": 22,
   "id": "economic-yesterday",
   "metadata": {},
   "outputs": [],
   "source": [
    "df['NRO_DOC'] = [dni_zero(df['NRO_DOC'][i]) for i in range (df['NRO_DOC'].count())]"
   ]
  },
  {
   "cell_type": "markdown",
   "id": "normal-helena",
   "metadata": {},
   "source": [
    "Para corregir el __TIPO DE DOCUMENTO__ sobre el dataframe resultante"
   ]
  },
  {
   "cell_type": "code",
   "execution_count": 23,
   "id": "identified-constitutional",
   "metadata": {},
   "outputs": [],
   "source": [
    "df['TIPO_DOC'] = [tipo_doc_2(df['NRO_DOC'][i],df['TIPO_DOC'][i]) for i in range (df['NRO_DOC'].count())]"
   ]
  },
  {
   "cell_type": "code",
   "execution_count": 24,
   "id": "damaged-armenia",
   "metadata": {
    "scrolled": true
   },
   "outputs": [
    {
     "data": {
      "text/html": [
       "<div>\n",
       "<style scoped>\n",
       "    .dataframe tbody tr th:only-of-type {\n",
       "        vertical-align: middle;\n",
       "    }\n",
       "\n",
       "    .dataframe tbody tr th {\n",
       "        vertical-align: top;\n",
       "    }\n",
       "\n",
       "    .dataframe thead th {\n",
       "        text-align: right;\n",
       "    }\n",
       "</style>\n",
       "<table border=\"1\" class=\"dataframe\">\n",
       "  <thead>\n",
       "    <tr style=\"text-align: right;\">\n",
       "      <th></th>\n",
       "      <th>IDMOROSO</th>\n",
       "      <th>NOMBRE</th>\n",
       "      <th>IDCLIENTE</th>\n",
       "      <th>ESTADO</th>\n",
       "      <th>FILTROA</th>\n",
       "      <th>DATOADIC</th>\n",
       "      <th>NRO_DOC</th>\n",
       "      <th>TIPO_DOC</th>\n",
       "    </tr>\n",
       "  </thead>\n",
       "  <tbody>\n",
       "    <tr>\n",
       "      <th>0</th>\n",
       "      <td>DNI 14384837</td>\n",
       "      <td>ACOSTA MARIA CRISTINA</td>\n",
       "      <td>FRANCES_2012</td>\n",
       "      <td>NO VISTO</td>\n",
       "      <td>3 - Ag 3ra</td>\n",
       "      <td>NaN</td>\n",
       "      <td>14384837</td>\n",
       "      <td>DNI</td>\n",
       "    </tr>\n",
       "    <tr>\n",
       "      <th>1</th>\n",
       "      <td>DNI 33803357</td>\n",
       "      <td>CARRASCO SERGIO DAMIAN</td>\n",
       "      <td>FRANCES_2012</td>\n",
       "      <td>NO VISTO</td>\n",
       "      <td>1 - Ag 1ra</td>\n",
       "      <td>NaN</td>\n",
       "      <td>33803357</td>\n",
       "      <td>DNI</td>\n",
       "    </tr>\n",
       "    <tr>\n",
       "      <th>2</th>\n",
       "      <td>DNI 34570749</td>\n",
       "      <td>TOLDI PRESENTADO SOLANGE GISELLE</td>\n",
       "      <td>FRANCES_2012</td>\n",
       "      <td>NO VISTO</td>\n",
       "      <td>1 - Ag 1ra</td>\n",
       "      <td>NaN</td>\n",
       "      <td>34570749</td>\n",
       "      <td>DNI</td>\n",
       "    </tr>\n",
       "    <tr>\n",
       "      <th>3</th>\n",
       "      <td>DNI 36991995</td>\n",
       "      <td>ANTECAO MAURO LEANDRO</td>\n",
       "      <td>FRANCES_2012</td>\n",
       "      <td>NO VISTO</td>\n",
       "      <td>2 - Ag 2ra</td>\n",
       "      <td>NaN</td>\n",
       "      <td>36991995</td>\n",
       "      <td>DNI</td>\n",
       "    </tr>\n",
       "    <tr>\n",
       "      <th>4</th>\n",
       "      <td>DNI 40359046</td>\n",
       "      <td>VATTOVAZ VICTORIA</td>\n",
       "      <td>FRANCES_2012</td>\n",
       "      <td>NO VISTO</td>\n",
       "      <td>1 - Ag 1ra</td>\n",
       "      <td>NaN</td>\n",
       "      <td>40359046</td>\n",
       "      <td>DNI</td>\n",
       "    </tr>\n",
       "  </tbody>\n",
       "</table>\n",
       "</div>"
      ],
      "text/plain": [
       "       IDMOROSO                                    NOMBRE  \\\n",
       "0  DNI 14384837  ACOSTA MARIA CRISTINA                      \n",
       "1  DNI 33803357  CARRASCO SERGIO DAMIAN                     \n",
       "2  DNI 34570749  TOLDI PRESENTADO SOLANGE GISELLE           \n",
       "3  DNI 36991995  ANTECAO MAURO LEANDRO                      \n",
       "4  DNI 40359046  VATTOVAZ VICTORIA                          \n",
       "\n",
       "              IDCLIENTE                ESTADO               FILTROA DATOADIC  \\\n",
       "0  FRANCES_2012          NO VISTO              3 - Ag 3ra                NaN   \n",
       "1  FRANCES_2012          NO VISTO              1 - Ag 1ra                NaN   \n",
       "2  FRANCES_2012          NO VISTO              1 - Ag 1ra                NaN   \n",
       "3  FRANCES_2012          NO VISTO              2 - Ag 2ra                NaN   \n",
       "4  FRANCES_2012          NO VISTO              1 - Ag 1ra                NaN   \n",
       "\n",
       "    NRO_DOC TIPO_DOC  \n",
       "0  14384837      DNI  \n",
       "1  33803357      DNI  \n",
       "2  34570749      DNI  \n",
       "3  36991995      DNI  \n",
       "4  40359046      DNI  "
      ]
     },
     "execution_count": 24,
     "metadata": {},
     "output_type": "execute_result"
    }
   ],
   "source": [
    "df.head()"
   ]
  },
  {
   "cell_type": "code",
   "execution_count": 25,
   "id": "foster-perry",
   "metadata": {
    "scrolled": true
   },
   "outputs": [
    {
     "data": {
      "text/html": [
       "<div>\n",
       "<style scoped>\n",
       "    .dataframe tbody tr th:only-of-type {\n",
       "        vertical-align: middle;\n",
       "    }\n",
       "\n",
       "    .dataframe tbody tr th {\n",
       "        vertical-align: top;\n",
       "    }\n",
       "\n",
       "    .dataframe thead th {\n",
       "        text-align: right;\n",
       "    }\n",
       "</style>\n",
       "<table border=\"1\" class=\"dataframe\">\n",
       "  <thead>\n",
       "    <tr style=\"text-align: right;\">\n",
       "      <th></th>\n",
       "      <th>IDMOROSO</th>\n",
       "      <th>NOMBRE</th>\n",
       "      <th>IDCLIENTE</th>\n",
       "      <th>ESTADO</th>\n",
       "      <th>FILTROA</th>\n",
       "      <th>DATOADIC</th>\n",
       "      <th>NRO_DOC</th>\n",
       "      <th>TIPO_DOC</th>\n",
       "    </tr>\n",
       "  </thead>\n",
       "  <tbody>\n",
       "    <tr>\n",
       "      <th>614</th>\n",
       "      <td>RMS376417243132000</td>\n",
       "      <td>CLAUDIA L ONUFRYJCZUK</td>\n",
       "      <td>AMEX_PARM</td>\n",
       "      <td>NO UBICADO</td>\n",
       "      <td>EDICOLA</td>\n",
       "      <td>27 32604085 7</td>\n",
       "      <td>32604085</td>\n",
       "      <td>DNI</td>\n",
       "    </tr>\n",
       "    <tr>\n",
       "      <th>615</th>\n",
       "      <td>RMS379977155103007</td>\n",
       "      <td>EDUARDO JUAN VISCONTI</td>\n",
       "      <td>AMEX_TNLM</td>\n",
       "      <td>NO UBICADO</td>\n",
       "      <td>MBESOSTRI</td>\n",
       "      <td>20041735504</td>\n",
       "      <td>4173550</td>\n",
       "      <td>DNI</td>\n",
       "    </tr>\n",
       "    <tr>\n",
       "      <th>616</th>\n",
       "      <td>RMS376414028951001</td>\n",
       "      <td>FERNANDO PABLO KUKULJAN</td>\n",
       "      <td>AMEX_PARM</td>\n",
       "      <td>SKIP LEVEL1 OK</td>\n",
       "      <td>EDICOLA</td>\n",
       "      <td>20231294172</td>\n",
       "      <td>23129417</td>\n",
       "      <td>DNI</td>\n",
       "    </tr>\n",
       "    <tr>\n",
       "      <th>617</th>\n",
       "      <td>RMS376456717431001</td>\n",
       "      <td>LUIS ALFREDO FRIAS</td>\n",
       "      <td>AMEX_TNCM</td>\n",
       "      <td>SKIP LEVEL1 OK</td>\n",
       "      <td>MBESOSTRI</td>\n",
       "      <td>30711477876</td>\n",
       "      <td>30711477876</td>\n",
       "      <td>CUIT</td>\n",
       "    </tr>\n",
       "    <tr>\n",
       "      <th>618</th>\n",
       "      <td>RMS379977689141002</td>\n",
       "      <td>DANIEL ANDRES VELAZCO S</td>\n",
       "      <td>AMEX_ALLR</td>\n",
       "      <td>SKIP LEVEL1 OK</td>\n",
       "      <td>IGODOY</td>\n",
       "      <td>20257116744</td>\n",
       "      <td>25711674</td>\n",
       "      <td>DNI</td>\n",
       "    </tr>\n",
       "  </tbody>\n",
       "</table>\n",
       "</div>"
      ],
      "text/plain": [
       "               IDMOROSO                                    NOMBRE  \\\n",
       "614  RMS376417243132000  CLAUDIA L ONUFRYJCZUK                      \n",
       "615  RMS379977155103007  EDUARDO JUAN VISCONTI                      \n",
       "616  RMS376414028951001  FERNANDO PABLO KUKULJAN                    \n",
       "617  RMS376456717431001  LUIS ALFREDO FRIAS                         \n",
       "618  RMS379977689141002  DANIEL ANDRES VELAZCO S                    \n",
       "\n",
       "                IDCLIENTE                ESTADO               FILTROA  \\\n",
       "614  AMEX_PARM             NO UBICADO            EDICOLA                \n",
       "615  AMEX_TNLM             NO UBICADO            MBESOSTRI              \n",
       "616  AMEX_PARM             SKIP LEVEL1 OK        EDICOLA                \n",
       "617  AMEX_TNCM             SKIP LEVEL1 OK        MBESOSTRI              \n",
       "618  AMEX_ALLR             SKIP LEVEL1 OK        IGODOY                 \n",
       "\n",
       "                           DATOADIC      NRO_DOC TIPO_DOC  \n",
       "614  27 32604085 7                      32604085      DNI  \n",
       "615  20041735504                         4173550      DNI  \n",
       "616  20231294172                        23129417      DNI  \n",
       "617  30711477876                     30711477876     CUIT  \n",
       "618  20257116744                        25711674      DNI  "
      ]
     },
     "execution_count": 25,
     "metadata": {},
     "output_type": "execute_result"
    }
   ],
   "source": [
    "df.tail()"
   ]
  },
  {
   "cell_type": "code",
   "execution_count": 26,
   "id": "passing-whole",
   "metadata": {},
   "outputs": [],
   "source": [
    "df_export = df.rename(columns={'NRO_DOC':'DOCUMENTO','TIPO_DOC':'TIPO'})"
   ]
  },
  {
   "cell_type": "code",
   "execution_count": 27,
   "id": "dated-vanilla",
   "metadata": {},
   "outputs": [],
   "source": [
    "df_export = df_export [['TIPO','DOCUMENTO','NOMBRE']]"
   ]
  },
  {
   "cell_type": "code",
   "execution_count": 28,
   "id": "finite-public",
   "metadata": {},
   "outputs": [
    {
     "data": {
      "text/html": [
       "<div>\n",
       "<style scoped>\n",
       "    .dataframe tbody tr th:only-of-type {\n",
       "        vertical-align: middle;\n",
       "    }\n",
       "\n",
       "    .dataframe tbody tr th {\n",
       "        vertical-align: top;\n",
       "    }\n",
       "\n",
       "    .dataframe thead th {\n",
       "        text-align: right;\n",
       "    }\n",
       "</style>\n",
       "<table border=\"1\" class=\"dataframe\">\n",
       "  <thead>\n",
       "    <tr style=\"text-align: right;\">\n",
       "      <th></th>\n",
       "      <th>TIPO</th>\n",
       "      <th>DOCUMENTO</th>\n",
       "      <th>NOMBRE</th>\n",
       "    </tr>\n",
       "  </thead>\n",
       "  <tbody>\n",
       "    <tr>\n",
       "      <th>0</th>\n",
       "      <td>DNI</td>\n",
       "      <td>14384837</td>\n",
       "      <td>ACOSTA MARIA CRISTINA</td>\n",
       "    </tr>\n",
       "    <tr>\n",
       "      <th>1</th>\n",
       "      <td>DNI</td>\n",
       "      <td>33803357</td>\n",
       "      <td>CARRASCO SERGIO DAMIAN</td>\n",
       "    </tr>\n",
       "    <tr>\n",
       "      <th>2</th>\n",
       "      <td>DNI</td>\n",
       "      <td>34570749</td>\n",
       "      <td>TOLDI PRESENTADO SOLANGE GISELLE</td>\n",
       "    </tr>\n",
       "    <tr>\n",
       "      <th>3</th>\n",
       "      <td>DNI</td>\n",
       "      <td>36991995</td>\n",
       "      <td>ANTECAO MAURO LEANDRO</td>\n",
       "    </tr>\n",
       "    <tr>\n",
       "      <th>4</th>\n",
       "      <td>DNI</td>\n",
       "      <td>40359046</td>\n",
       "      <td>VATTOVAZ VICTORIA</td>\n",
       "    </tr>\n",
       "  </tbody>\n",
       "</table>\n",
       "</div>"
      ],
      "text/plain": [
       "  TIPO DOCUMENTO                                    NOMBRE\n",
       "0  DNI  14384837  ACOSTA MARIA CRISTINA                   \n",
       "1  DNI  33803357  CARRASCO SERGIO DAMIAN                  \n",
       "2  DNI  34570749  TOLDI PRESENTADO SOLANGE GISELLE        \n",
       "3  DNI  36991995  ANTECAO MAURO LEANDRO                   \n",
       "4  DNI  40359046  VATTOVAZ VICTORIA                       "
      ]
     },
     "execution_count": 28,
     "metadata": {},
     "output_type": "execute_result"
    }
   ],
   "source": [
    "df_export.head()"
   ]
  },
  {
   "cell_type": "code",
   "execution_count": 29,
   "id": "emerging-tutorial",
   "metadata": {},
   "outputs": [
    {
     "data": {
      "text/plain": [
       "(619, 3)"
      ]
     },
     "execution_count": 29,
     "metadata": {},
     "output_type": "execute_result"
    }
   ],
   "source": [
    "df_export.shape"
   ]
  },
  {
   "cell_type": "code",
   "execution_count": 30,
   "id": "strange-graham",
   "metadata": {},
   "outputs": [],
   "source": [
    "df_export.to_csv ('/mnt/c/Users/Dleg/Data/MOPC/MOPC/Enriquecimiento de Datos/Data Cleaning/Insiders/Datasets/Datasets enviados/MOPC Envio 1603.csv',index=False)"
   ]
  },
  {
   "cell_type": "code",
   "execution_count": null,
   "id": "quick-athletics",
   "metadata": {},
   "outputs": [],
   "source": []
  }
 ],
 "metadata": {
  "kernelspec": {
   "display_name": "Python 3",
   "language": "python",
   "name": "python3"
  },
  "language_info": {
   "codemirror_mode": {
    "name": "ipython",
    "version": 3
   },
   "file_extension": ".py",
   "mimetype": "text/x-python",
   "name": "python",
   "nbconvert_exporter": "python",
   "pygments_lexer": "ipython3",
   "version": "3.8.6"
  }
 },
 "nbformat": 4,
 "nbformat_minor": 5
}
