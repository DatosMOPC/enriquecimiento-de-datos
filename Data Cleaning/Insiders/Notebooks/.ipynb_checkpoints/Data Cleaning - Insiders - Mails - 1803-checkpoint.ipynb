{
 "cells": [
  {
   "cell_type": "markdown",
   "metadata": {},
   "source": [
    "# 1) Datasets"
   ]
  },
  {
   "cell_type": "markdown",
   "metadata": {},
   "source": [
    "Leemos el dataset"
   ]
  },
  {
   "cell_type": "code",
   "execution_count": 1,
   "metadata": {},
   "outputs": [],
   "source": [
    "import pandas as pd\n",
    "import numpy as np"
   ]
  },
  {
   "cell_type": "code",
   "execution_count": 2,
   "metadata": {},
   "outputs": [],
   "source": [
    "df = pd.read_excel('/mnt/c/users/Dleg/Data/MOPC/MOPC/Enriquecimiento de Datos/Data Cleaning/Insiders/Datasets/Datasets recibidos/ENRIQ_IN_1672_20210317.xlsx',skiprows=2, header=[0,1])"
   ]
  },
  {
   "cell_type": "code",
   "execution_count": 3,
   "metadata": {},
   "outputs": [
    {
     "data": {
      "text/html": [
       "<div>\n",
       "<style scoped>\n",
       "    .dataframe tbody tr th:only-of-type {\n",
       "        vertical-align: middle;\n",
       "    }\n",
       "\n",
       "    .dataframe tbody tr th {\n",
       "        vertical-align: top;\n",
       "    }\n",
       "\n",
       "    .dataframe thead tr th {\n",
       "        text-align: left;\n",
       "    }\n",
       "</style>\n",
       "<table border=\"1\" class=\"dataframe\">\n",
       "  <thead>\n",
       "    <tr>\n",
       "      <th></th>\n",
       "      <th>Unnamed: 0_level_0</th>\n",
       "      <th>Unnamed: 1_level_0</th>\n",
       "      <th>Unnamed: 2_level_0</th>\n",
       "      <th>Unnamed: 3_level_0</th>\n",
       "      <th>Unnamed: 4_level_0</th>\n",
       "      <th>Unnamed: 5_level_0</th>\n",
       "      <th>Unnamed: 6_level_0</th>\n",
       "      <th>Unnamed: 7_level_0</th>\n",
       "      <th>Unnamed: 8_level_0</th>\n",
       "      <th>Unnamed: 9_level_0</th>\n",
       "      <th>...</th>\n",
       "      <th colspan=\"7\" halign=\"left\">Contactacion Opcional (Familiar)</th>\n",
       "      <th colspan=\"3\" halign=\"left\">Contactacion Opcional (Vecino)</th>\n",
       "    </tr>\n",
       "    <tr>\n",
       "      <th></th>\n",
       "      <th>Cuil</th>\n",
       "      <th>Dni</th>\n",
       "      <th>Fecha de Nac.</th>\n",
       "      <th>Fecha de Defuncion</th>\n",
       "      <th>Sexo</th>\n",
       "      <th>Titular</th>\n",
       "      <th>Calle</th>\n",
       "      <th>Numero</th>\n",
       "      <th>Piso y Depto</th>\n",
       "      <th>Codigo Postal</th>\n",
       "      <th>...</th>\n",
       "      <th>Tel Fijo 2</th>\n",
       "      <th>Celular 1</th>\n",
       "      <th>Celular 2</th>\n",
       "      <th>Celular 3</th>\n",
       "      <th>Celular 4</th>\n",
       "      <th>Celular 5</th>\n",
       "      <th>Email</th>\n",
       "      <th>Nombre</th>\n",
       "      <th>Telefono</th>\n",
       "      <th>SCORE</th>\n",
       "    </tr>\n",
       "  </thead>\n",
       "  <tbody>\n",
       "    <tr>\n",
       "      <th>0</th>\n",
       "      <td>2.700187e+10</td>\n",
       "      <td>187386.0</td>\n",
       "      <td>1929-04-02</td>\n",
       "      <td>NaN</td>\n",
       "      <td>F</td>\n",
       "      <td>HERRERA ENA ELSA</td>\n",
       "      <td>REP DE VENEZUELA</td>\n",
       "      <td>3700</td>\n",
       "      <td>NaN</td>\n",
       "      <td>1211.0</td>\n",
       "      <td>...</td>\n",
       "      <td>NaN</td>\n",
       "      <td>NaN</td>\n",
       "      <td>NaN</td>\n",
       "      <td>NaN</td>\n",
       "      <td>NaN</td>\n",
       "      <td>NaN</td>\n",
       "      <td>NaN</td>\n",
       "      <td>NaN</td>\n",
       "      <td>NaN</td>\n",
       "      <td>0.0</td>\n",
       "    </tr>\n",
       "    <tr>\n",
       "      <th>1</th>\n",
       "      <td>2.700508e+10</td>\n",
       "      <td>507550.0</td>\n",
       "      <td>1939-03-05</td>\n",
       "      <td>NaN</td>\n",
       "      <td>F</td>\n",
       "      <td>ENTRATICO IRMA CLARA</td>\n",
       "      <td>AV URUGUAY</td>\n",
       "      <td>875</td>\n",
       "      <td>NaN</td>\n",
       "      <td>4400.0</td>\n",
       "      <td>...</td>\n",
       "      <td>NaN</td>\n",
       "      <td>NaN</td>\n",
       "      <td>NaN</td>\n",
       "      <td>NaN</td>\n",
       "      <td>NaN</td>\n",
       "      <td>NaN</td>\n",
       "      <td>NaN</td>\n",
       "      <td>PATRON COSTAS GUSTAVO</td>\n",
       "      <td>3.874321e+09</td>\n",
       "      <td>34.0</td>\n",
       "    </tr>\n",
       "    <tr>\n",
       "      <th>2</th>\n",
       "      <td>2.704172e+10</td>\n",
       "      <td>4171534.0</td>\n",
       "      <td>1940-06-02</td>\n",
       "      <td>2020-12-15</td>\n",
       "      <td>F</td>\n",
       "      <td>ITUARTE MARGARITA HORTENSIA</td>\n",
       "      <td>PJE GRANDOLI</td>\n",
       "      <td>6100</td>\n",
       "      <td>NaN</td>\n",
       "      <td>1439.0</td>\n",
       "      <td>...</td>\n",
       "      <td>NaN</td>\n",
       "      <td>NaN</td>\n",
       "      <td>NaN</td>\n",
       "      <td>NaN</td>\n",
       "      <td>NaN</td>\n",
       "      <td>NaN</td>\n",
       "      <td>NaN</td>\n",
       "      <td>NaN</td>\n",
       "      <td>NaN</td>\n",
       "      <td>891.0</td>\n",
       "    </tr>\n",
       "    <tr>\n",
       "      <th>3</th>\n",
       "      <td>2.004174e+10</td>\n",
       "      <td>4173550.0</td>\n",
       "      <td>1936-01-28</td>\n",
       "      <td>NaN</td>\n",
       "      <td>M</td>\n",
       "      <td>VISCONTI EDUARDO JUAN</td>\n",
       "      <td>JUAN JOSE VIAMONTE</td>\n",
       "      <td>1592</td>\n",
       "      <td>NaN</td>\n",
       "      <td>1055.0</td>\n",
       "      <td>...</td>\n",
       "      <td>NaN</td>\n",
       "      <td>NaN</td>\n",
       "      <td>NaN</td>\n",
       "      <td>NaN</td>\n",
       "      <td>NaN</td>\n",
       "      <td>NaN</td>\n",
       "      <td>NaN</td>\n",
       "      <td>NaN</td>\n",
       "      <td>NaN</td>\n",
       "      <td>958.0</td>\n",
       "    </tr>\n",
       "    <tr>\n",
       "      <th>4</th>\n",
       "      <td>2.004200e+10</td>\n",
       "      <td>4200228.0</td>\n",
       "      <td>1936-12-08</td>\n",
       "      <td>NaN</td>\n",
       "      <td>M</td>\n",
       "      <td>CACCHIONE MIGUEL ANGEL</td>\n",
       "      <td>BRUNO MARIANO DE ZABALA</td>\n",
       "      <td>1706</td>\n",
       "      <td>NaN</td>\n",
       "      <td>1426.0</td>\n",
       "      <td>...</td>\n",
       "      <td>NaN</td>\n",
       "      <td>NaN</td>\n",
       "      <td>NaN</td>\n",
       "      <td>NaN</td>\n",
       "      <td>NaN</td>\n",
       "      <td>NaN</td>\n",
       "      <td>NaN</td>\n",
       "      <td>NaN</td>\n",
       "      <td>NaN</td>\n",
       "      <td>345.0</td>\n",
       "    </tr>\n",
       "  </tbody>\n",
       "</table>\n",
       "<p>5 rows × 226 columns</p>\n",
       "</div>"
      ],
      "text/plain": [
       "  Unnamed: 0_level_0 Unnamed: 1_level_0 Unnamed: 2_level_0 Unnamed: 3_level_0  \\\n",
       "                Cuil                Dni      Fecha de Nac. Fecha de Defuncion   \n",
       "0       2.700187e+10           187386.0         1929-04-02                NaN   \n",
       "1       2.700508e+10           507550.0         1939-03-05                NaN   \n",
       "2       2.704172e+10          4171534.0         1940-06-02         2020-12-15   \n",
       "3       2.004174e+10          4173550.0         1936-01-28                NaN   \n",
       "4       2.004200e+10          4200228.0         1936-12-08                NaN   \n",
       "\n",
       "  Unnamed: 4_level_0           Unnamed: 5_level_0       Unnamed: 6_level_0  \\\n",
       "                Sexo                      Titular                    Calle   \n",
       "0                  F             HERRERA ENA ELSA         REP DE VENEZUELA   \n",
       "1                  F         ENTRATICO IRMA CLARA               AV URUGUAY   \n",
       "2                  F  ITUARTE MARGARITA HORTENSIA             PJE GRANDOLI   \n",
       "3                  M        VISCONTI EDUARDO JUAN       JUAN JOSE VIAMONTE   \n",
       "4                  M       CACCHIONE MIGUEL ANGEL  BRUNO MARIANO DE ZABALA   \n",
       "\n",
       "  Unnamed: 7_level_0 Unnamed: 8_level_0 Unnamed: 9_level_0  ...  \\\n",
       "              Numero       Piso y Depto      Codigo Postal  ...   \n",
       "0               3700                NaN             1211.0  ...   \n",
       "1                875                NaN             4400.0  ...   \n",
       "2               6100                NaN             1439.0  ...   \n",
       "3               1592                NaN             1055.0  ...   \n",
       "4               1706                NaN             1426.0  ...   \n",
       "\n",
       "  Contactacion Opcional (Familiar)                                          \\\n",
       "                        Tel Fijo 2 Celular 1 Celular 2 Celular 3 Celular 4   \n",
       "0                              NaN       NaN       NaN       NaN       NaN   \n",
       "1                              NaN       NaN       NaN       NaN       NaN   \n",
       "2                              NaN       NaN       NaN       NaN       NaN   \n",
       "3                              NaN       NaN       NaN       NaN       NaN   \n",
       "4                              NaN       NaN       NaN       NaN       NaN   \n",
       "\n",
       "                  Contactacion Opcional (Vecino)                       \n",
       "  Celular 5 Email                         Nombre      Telefono  SCORE  \n",
       "0       NaN   NaN                            NaN           NaN    0.0  \n",
       "1       NaN   NaN          PATRON COSTAS GUSTAVO  3.874321e+09   34.0  \n",
       "2       NaN   NaN                            NaN           NaN  891.0  \n",
       "3       NaN   NaN                            NaN           NaN  958.0  \n",
       "4       NaN   NaN                            NaN           NaN  345.0  \n",
       "\n",
       "[5 rows x 226 columns]"
      ]
     },
     "execution_count": 3,
     "metadata": {},
     "output_type": "execute_result"
    }
   ],
   "source": [
    "df.head()"
   ]
  },
  {
   "cell_type": "code",
   "execution_count": 4,
   "metadata": {
    "scrolled": true
   },
   "outputs": [
    {
     "data": {
      "text/plain": [
       "(14872, 226)"
      ]
     },
     "execution_count": 4,
     "metadata": {},
     "output_type": "execute_result"
    }
   ],
   "source": [
    "df.shape"
   ]
  },
  {
   "cell_type": "markdown",
   "metadata": {},
   "source": [
    "## 1.2) Data Cleaning: Datasets"
   ]
  },
  {
   "cell_type": "markdown",
   "metadata": {},
   "source": [
    "Vamos a dropear aquellas columnas y filas que no tengan ningún valor (es decir, que sean todos NaNs)"
   ]
  },
  {
   "cell_type": "code",
   "execution_count": 5,
   "metadata": {},
   "outputs": [],
   "source": [
    "df = df.dropna(axis=0, how='all')"
   ]
  },
  {
   "cell_type": "code",
   "execution_count": 6,
   "metadata": {},
   "outputs": [],
   "source": [
    "#df = df.dropna(axis=1, how='all')"
   ]
  },
  {
   "cell_type": "code",
   "execution_count": 7,
   "metadata": {},
   "outputs": [
    {
     "data": {
      "text/plain": [
       "(664, 226)"
      ]
     },
     "execution_count": 7,
     "metadata": {},
     "output_type": "execute_result"
    }
   ],
   "source": [
    "df.shape"
   ]
  },
  {
   "cell_type": "markdown",
   "metadata": {},
   "source": [
    "Ahora todas las columnas tienen al menos 1 dato."
   ]
  },
  {
   "cell_type": "markdown",
   "metadata": {},
   "source": [
    "# 2) Mails"
   ]
  },
  {
   "cell_type": "markdown",
   "metadata": {},
   "source": [
    "Vamos a obtener los mails de las columnas donde pueden aparecer, que son:\n",
    "\n",
    "- Mail 1, 2 y 3.\n",
    "- Email Empleador.\n",
    "- Contactacion Opcional (Familiar) - Email."
   ]
  },
  {
   "cell_type": "code",
   "execution_count": 8,
   "metadata": {},
   "outputs": [],
   "source": [
    "#df.to_excel('columns.xlsx')"
   ]
  },
  {
   "cell_type": "code",
   "execution_count": 9,
   "metadata": {},
   "outputs": [],
   "source": [
    "df_reduced = df [[('Unnamed: 0_level_0','Cuil'),('Unnamed: 1_level_0','Dni'), ('Unnamed: 5_level_0','Titular')\n",
    "                  ,('Unnamed: 22_level_0','Mail')\n",
    "                  ,('Email Empleador', 'Unnamed: 166_level_1'), ('Contactacion Opcional (Familiar)','Email')]]"
   ]
  },
  {
   "cell_type": "code",
   "execution_count": 10,
   "metadata": {},
   "outputs": [
    {
     "data": {
      "text/html": [
       "<div>\n",
       "<style scoped>\n",
       "    .dataframe tbody tr th:only-of-type {\n",
       "        vertical-align: middle;\n",
       "    }\n",
       "\n",
       "    .dataframe tbody tr th {\n",
       "        vertical-align: top;\n",
       "    }\n",
       "\n",
       "    .dataframe thead tr th {\n",
       "        text-align: left;\n",
       "    }\n",
       "</style>\n",
       "<table border=\"1\" class=\"dataframe\">\n",
       "  <thead>\n",
       "    <tr>\n",
       "      <th></th>\n",
       "      <th>Unnamed: 0_level_0</th>\n",
       "      <th>Unnamed: 1_level_0</th>\n",
       "      <th>Unnamed: 5_level_0</th>\n",
       "      <th>Unnamed: 22_level_0</th>\n",
       "      <th>Email Empleador</th>\n",
       "      <th>Contactacion Opcional (Familiar)</th>\n",
       "    </tr>\n",
       "    <tr>\n",
       "      <th></th>\n",
       "      <th>Cuil</th>\n",
       "      <th>Dni</th>\n",
       "      <th>Titular</th>\n",
       "      <th>Mail</th>\n",
       "      <th>Unnamed: 166_level_1</th>\n",
       "      <th>Email</th>\n",
       "    </tr>\n",
       "  </thead>\n",
       "  <tbody>\n",
       "    <tr>\n",
       "      <th>0</th>\n",
       "      <td>2.700187e+10</td>\n",
       "      <td>187386.0</td>\n",
       "      <td>HERRERA ENA ELSA</td>\n",
       "      <td>NaN</td>\n",
       "      <td>NaN</td>\n",
       "      <td>NaN</td>\n",
       "    </tr>\n",
       "    <tr>\n",
       "      <th>1</th>\n",
       "      <td>2.700508e+10</td>\n",
       "      <td>507550.0</td>\n",
       "      <td>ENTRATICO IRMA CLARA</td>\n",
       "      <td>NaN</td>\n",
       "      <td>NaN</td>\n",
       "      <td>NaN</td>\n",
       "    </tr>\n",
       "    <tr>\n",
       "      <th>2</th>\n",
       "      <td>2.704172e+10</td>\n",
       "      <td>4171534.0</td>\n",
       "      <td>ITUARTE MARGARITA HORTENSIA</td>\n",
       "      <td>NaN</td>\n",
       "      <td>NaN</td>\n",
       "      <td>NaN</td>\n",
       "    </tr>\n",
       "    <tr>\n",
       "      <th>3</th>\n",
       "      <td>2.004174e+10</td>\n",
       "      <td>4173550.0</td>\n",
       "      <td>VISCONTI EDUARDO JUAN</td>\n",
       "      <td>evisconti@live.com.ar</td>\n",
       "      <td>NaN</td>\n",
       "      <td>NaN</td>\n",
       "    </tr>\n",
       "    <tr>\n",
       "      <th>4</th>\n",
       "      <td>2.004200e+10</td>\n",
       "      <td>4200228.0</td>\n",
       "      <td>CACCHIONE MIGUEL ANGEL</td>\n",
       "      <td>gcacchione@yahoo.com</td>\n",
       "      <td>NaN</td>\n",
       "      <td>NaN</td>\n",
       "    </tr>\n",
       "  </tbody>\n",
       "</table>\n",
       "</div>"
      ],
      "text/plain": [
       "  Unnamed: 0_level_0 Unnamed: 1_level_0           Unnamed: 5_level_0  \\\n",
       "                Cuil                Dni                      Titular   \n",
       "0       2.700187e+10           187386.0             HERRERA ENA ELSA   \n",
       "1       2.700508e+10           507550.0         ENTRATICO IRMA CLARA   \n",
       "2       2.704172e+10          4171534.0  ITUARTE MARGARITA HORTENSIA   \n",
       "3       2.004174e+10          4173550.0        VISCONTI EDUARDO JUAN   \n",
       "4       2.004200e+10          4200228.0       CACCHIONE MIGUEL ANGEL   \n",
       "\n",
       "     Unnamed: 22_level_0      Email Empleador Contactacion Opcional (Familiar)  \n",
       "                    Mail Unnamed: 166_level_1                            Email  \n",
       "0                    NaN                  NaN                              NaN  \n",
       "1                    NaN                  NaN                              NaN  \n",
       "2                    NaN                  NaN                              NaN  \n",
       "3  evisconti@live.com.ar                  NaN                              NaN  \n",
       "4   gcacchione@yahoo.com                  NaN                              NaN  "
      ]
     },
     "execution_count": 10,
     "metadata": {},
     "output_type": "execute_result"
    }
   ],
   "source": [
    "df_reduced.head()"
   ]
  },
  {
   "cell_type": "code",
   "execution_count": 11,
   "metadata": {},
   "outputs": [
    {
     "data": {
      "text/plain": [
       "(664, 6)"
      ]
     },
     "execution_count": 11,
     "metadata": {},
     "output_type": "execute_result"
    }
   ],
   "source": [
    "df_reduced.shape"
   ]
  },
  {
   "cell_type": "markdown",
   "metadata": {},
   "source": [
    "Eliminamos el multilevel de las columnas, y las renombramos:"
   ]
  },
  {
   "cell_type": "code",
   "execution_count": 12,
   "metadata": {},
   "outputs": [],
   "source": [
    "df_reduced.columns = df_reduced.columns.droplevel()"
   ]
  },
  {
   "cell_type": "code",
   "execution_count": 13,
   "metadata": {},
   "outputs": [
    {
     "data": {
      "text/html": [
       "<div>\n",
       "<style scoped>\n",
       "    .dataframe tbody tr th:only-of-type {\n",
       "        vertical-align: middle;\n",
       "    }\n",
       "\n",
       "    .dataframe tbody tr th {\n",
       "        vertical-align: top;\n",
       "    }\n",
       "\n",
       "    .dataframe thead th {\n",
       "        text-align: right;\n",
       "    }\n",
       "</style>\n",
       "<table border=\"1\" class=\"dataframe\">\n",
       "  <thead>\n",
       "    <tr style=\"text-align: right;\">\n",
       "      <th></th>\n",
       "      <th>Cuil</th>\n",
       "      <th>Dni</th>\n",
       "      <th>Titular</th>\n",
       "      <th>Mail</th>\n",
       "      <th>Unnamed: 166_level_1</th>\n",
       "      <th>Email</th>\n",
       "    </tr>\n",
       "  </thead>\n",
       "  <tbody>\n",
       "    <tr>\n",
       "      <th>0</th>\n",
       "      <td>2.700187e+10</td>\n",
       "      <td>187386.0</td>\n",
       "      <td>HERRERA ENA ELSA</td>\n",
       "      <td>NaN</td>\n",
       "      <td>NaN</td>\n",
       "      <td>NaN</td>\n",
       "    </tr>\n",
       "    <tr>\n",
       "      <th>1</th>\n",
       "      <td>2.700508e+10</td>\n",
       "      <td>507550.0</td>\n",
       "      <td>ENTRATICO IRMA CLARA</td>\n",
       "      <td>NaN</td>\n",
       "      <td>NaN</td>\n",
       "      <td>NaN</td>\n",
       "    </tr>\n",
       "    <tr>\n",
       "      <th>2</th>\n",
       "      <td>2.704172e+10</td>\n",
       "      <td>4171534.0</td>\n",
       "      <td>ITUARTE MARGARITA HORTENSIA</td>\n",
       "      <td>NaN</td>\n",
       "      <td>NaN</td>\n",
       "      <td>NaN</td>\n",
       "    </tr>\n",
       "    <tr>\n",
       "      <th>3</th>\n",
       "      <td>2.004174e+10</td>\n",
       "      <td>4173550.0</td>\n",
       "      <td>VISCONTI EDUARDO JUAN</td>\n",
       "      <td>evisconti@live.com.ar</td>\n",
       "      <td>NaN</td>\n",
       "      <td>NaN</td>\n",
       "    </tr>\n",
       "    <tr>\n",
       "      <th>4</th>\n",
       "      <td>2.004200e+10</td>\n",
       "      <td>4200228.0</td>\n",
       "      <td>CACCHIONE MIGUEL ANGEL</td>\n",
       "      <td>gcacchione@yahoo.com</td>\n",
       "      <td>NaN</td>\n",
       "      <td>NaN</td>\n",
       "    </tr>\n",
       "  </tbody>\n",
       "</table>\n",
       "</div>"
      ],
      "text/plain": [
       "           Cuil        Dni                      Titular  \\\n",
       "0  2.700187e+10   187386.0             HERRERA ENA ELSA   \n",
       "1  2.700508e+10   507550.0         ENTRATICO IRMA CLARA   \n",
       "2  2.704172e+10  4171534.0  ITUARTE MARGARITA HORTENSIA   \n",
       "3  2.004174e+10  4173550.0        VISCONTI EDUARDO JUAN   \n",
       "4  2.004200e+10  4200228.0       CACCHIONE MIGUEL ANGEL   \n",
       "\n",
       "                    Mail Unnamed: 166_level_1 Email  \n",
       "0                    NaN                  NaN   NaN  \n",
       "1                    NaN                  NaN   NaN  \n",
       "2                    NaN                  NaN   NaN  \n",
       "3  evisconti@live.com.ar                  NaN   NaN  \n",
       "4   gcacchione@yahoo.com                  NaN   NaN  "
      ]
     },
     "execution_count": 13,
     "metadata": {},
     "output_type": "execute_result"
    }
   ],
   "source": [
    "df_reduced.head()"
   ]
  },
  {
   "cell_type": "code",
   "execution_count": 14,
   "metadata": {},
   "outputs": [],
   "source": [
    "df_reduced = df_reduced.rename(columns={\"Cuil\": \"CUIT_CUIL\", 'Dni': 'NRO_DOC','Unnamed: 166_level_1':'Mail_empleador','Email':'Mail_ajeno'})"
   ]
  },
  {
   "cell_type": "code",
   "execution_count": 15,
   "metadata": {},
   "outputs": [
    {
     "data": {
      "text/html": [
       "<div>\n",
       "<style scoped>\n",
       "    .dataframe tbody tr th:only-of-type {\n",
       "        vertical-align: middle;\n",
       "    }\n",
       "\n",
       "    .dataframe tbody tr th {\n",
       "        vertical-align: top;\n",
       "    }\n",
       "\n",
       "    .dataframe thead th {\n",
       "        text-align: right;\n",
       "    }\n",
       "</style>\n",
       "<table border=\"1\" class=\"dataframe\">\n",
       "  <thead>\n",
       "    <tr style=\"text-align: right;\">\n",
       "      <th></th>\n",
       "      <th>CUIT_CUIL</th>\n",
       "      <th>NRO_DOC</th>\n",
       "      <th>Titular</th>\n",
       "      <th>Mail</th>\n",
       "      <th>Mail_empleador</th>\n",
       "      <th>Mail_ajeno</th>\n",
       "    </tr>\n",
       "  </thead>\n",
       "  <tbody>\n",
       "    <tr>\n",
       "      <th>0</th>\n",
       "      <td>2.700187e+10</td>\n",
       "      <td>187386.0</td>\n",
       "      <td>HERRERA ENA ELSA</td>\n",
       "      <td>NaN</td>\n",
       "      <td>NaN</td>\n",
       "      <td>NaN</td>\n",
       "    </tr>\n",
       "    <tr>\n",
       "      <th>1</th>\n",
       "      <td>2.700508e+10</td>\n",
       "      <td>507550.0</td>\n",
       "      <td>ENTRATICO IRMA CLARA</td>\n",
       "      <td>NaN</td>\n",
       "      <td>NaN</td>\n",
       "      <td>NaN</td>\n",
       "    </tr>\n",
       "    <tr>\n",
       "      <th>2</th>\n",
       "      <td>2.704172e+10</td>\n",
       "      <td>4171534.0</td>\n",
       "      <td>ITUARTE MARGARITA HORTENSIA</td>\n",
       "      <td>NaN</td>\n",
       "      <td>NaN</td>\n",
       "      <td>NaN</td>\n",
       "    </tr>\n",
       "    <tr>\n",
       "      <th>3</th>\n",
       "      <td>2.004174e+10</td>\n",
       "      <td>4173550.0</td>\n",
       "      <td>VISCONTI EDUARDO JUAN</td>\n",
       "      <td>evisconti@live.com.ar</td>\n",
       "      <td>NaN</td>\n",
       "      <td>NaN</td>\n",
       "    </tr>\n",
       "    <tr>\n",
       "      <th>4</th>\n",
       "      <td>2.004200e+10</td>\n",
       "      <td>4200228.0</td>\n",
       "      <td>CACCHIONE MIGUEL ANGEL</td>\n",
       "      <td>gcacchione@yahoo.com</td>\n",
       "      <td>NaN</td>\n",
       "      <td>NaN</td>\n",
       "    </tr>\n",
       "  </tbody>\n",
       "</table>\n",
       "</div>"
      ],
      "text/plain": [
       "      CUIT_CUIL    NRO_DOC                      Titular  \\\n",
       "0  2.700187e+10   187386.0             HERRERA ENA ELSA   \n",
       "1  2.700508e+10   507550.0         ENTRATICO IRMA CLARA   \n",
       "2  2.704172e+10  4171534.0  ITUARTE MARGARITA HORTENSIA   \n",
       "3  2.004174e+10  4173550.0        VISCONTI EDUARDO JUAN   \n",
       "4  2.004200e+10  4200228.0       CACCHIONE MIGUEL ANGEL   \n",
       "\n",
       "                    Mail Mail_empleador Mail_ajeno  \n",
       "0                    NaN            NaN        NaN  \n",
       "1                    NaN            NaN        NaN  \n",
       "2                    NaN            NaN        NaN  \n",
       "3  evisconti@live.com.ar            NaN        NaN  \n",
       "4   gcacchione@yahoo.com            NaN        NaN  "
      ]
     },
     "execution_count": 15,
     "metadata": {},
     "output_type": "execute_result"
    }
   ],
   "source": [
    "df_reduced.head()"
   ]
  },
  {
   "cell_type": "code",
   "execution_count": 16,
   "metadata": {},
   "outputs": [],
   "source": [
    "df_reduced = df_reduced.rename(columns={'Mail':'Mail 1'})"
   ]
  },
  {
   "cell_type": "markdown",
   "metadata": {},
   "source": [
    "# 3) Concatenación de Mails"
   ]
  },
  {
   "cell_type": "markdown",
   "metadata": {},
   "source": [
    "Como PyP envía un mail por celda, tengo que concatenar las columnas Mail_propio y Mail_ajeno en una lista dentro de una nueva columna denominada \"Dato\""
   ]
  },
  {
   "cell_type": "code",
   "execution_count": 17,
   "metadata": {},
   "outputs": [],
   "source": [
    "df_melt= pd.melt(df_reduced, id_vars=['CUIT_CUIL', 'NRO_DOC', 'Titular'], value_vars=['Mail 1','Mail_empleador' ,'Mail_ajeno'],value_name='Dato')"
   ]
  },
  {
   "cell_type": "code",
   "execution_count": 18,
   "metadata": {},
   "outputs": [
    {
     "data": {
      "text/html": [
       "<div>\n",
       "<style scoped>\n",
       "    .dataframe tbody tr th:only-of-type {\n",
       "        vertical-align: middle;\n",
       "    }\n",
       "\n",
       "    .dataframe tbody tr th {\n",
       "        vertical-align: top;\n",
       "    }\n",
       "\n",
       "    .dataframe thead th {\n",
       "        text-align: right;\n",
       "    }\n",
       "</style>\n",
       "<table border=\"1\" class=\"dataframe\">\n",
       "  <thead>\n",
       "    <tr style=\"text-align: right;\">\n",
       "      <th></th>\n",
       "      <th>CUIT_CUIL</th>\n",
       "      <th>NRO_DOC</th>\n",
       "      <th>Titular</th>\n",
       "      <th>variable</th>\n",
       "      <th>Dato</th>\n",
       "    </tr>\n",
       "  </thead>\n",
       "  <tbody>\n",
       "    <tr>\n",
       "      <th>0</th>\n",
       "      <td>2.700187e+10</td>\n",
       "      <td>187386.0</td>\n",
       "      <td>HERRERA ENA ELSA</td>\n",
       "      <td>Mail 1</td>\n",
       "      <td>NaN</td>\n",
       "    </tr>\n",
       "    <tr>\n",
       "      <th>1</th>\n",
       "      <td>2.700508e+10</td>\n",
       "      <td>507550.0</td>\n",
       "      <td>ENTRATICO IRMA CLARA</td>\n",
       "      <td>Mail 1</td>\n",
       "      <td>NaN</td>\n",
       "    </tr>\n",
       "    <tr>\n",
       "      <th>2</th>\n",
       "      <td>2.704172e+10</td>\n",
       "      <td>4171534.0</td>\n",
       "      <td>ITUARTE MARGARITA HORTENSIA</td>\n",
       "      <td>Mail 1</td>\n",
       "      <td>NaN</td>\n",
       "    </tr>\n",
       "    <tr>\n",
       "      <th>3</th>\n",
       "      <td>2.004174e+10</td>\n",
       "      <td>4173550.0</td>\n",
       "      <td>VISCONTI EDUARDO JUAN</td>\n",
       "      <td>Mail 1</td>\n",
       "      <td>evisconti@live.com.ar</td>\n",
       "    </tr>\n",
       "    <tr>\n",
       "      <th>4</th>\n",
       "      <td>2.004200e+10</td>\n",
       "      <td>4200228.0</td>\n",
       "      <td>CACCHIONE MIGUEL ANGEL</td>\n",
       "      <td>Mail 1</td>\n",
       "      <td>gcacchione@yahoo.com</td>\n",
       "    </tr>\n",
       "  </tbody>\n",
       "</table>\n",
       "</div>"
      ],
      "text/plain": [
       "      CUIT_CUIL    NRO_DOC                      Titular variable  \\\n",
       "0  2.700187e+10   187386.0             HERRERA ENA ELSA   Mail 1   \n",
       "1  2.700508e+10   507550.0         ENTRATICO IRMA CLARA   Mail 1   \n",
       "2  2.704172e+10  4171534.0  ITUARTE MARGARITA HORTENSIA   Mail 1   \n",
       "3  2.004174e+10  4173550.0        VISCONTI EDUARDO JUAN   Mail 1   \n",
       "4  2.004200e+10  4200228.0       CACCHIONE MIGUEL ANGEL   Mail 1   \n",
       "\n",
       "                    Dato  \n",
       "0                    NaN  \n",
       "1                    NaN  \n",
       "2                    NaN  \n",
       "3  evisconti@live.com.ar  \n",
       "4   gcacchione@yahoo.com  "
      ]
     },
     "execution_count": 18,
     "metadata": {},
     "output_type": "execute_result"
    }
   ],
   "source": [
    "df_melt.head()"
   ]
  },
  {
   "cell_type": "code",
   "execution_count": 19,
   "metadata": {},
   "outputs": [],
   "source": [
    "#df_melt.to_excel('df_melt.xlsx')"
   ]
  },
  {
   "cell_type": "markdown",
   "metadata": {},
   "source": [
    "# 4) Drop NaNs"
   ]
  },
  {
   "cell_type": "markdown",
   "metadata": {},
   "source": [
    "Dropeamos aquellas filas que tengan NaN en la columna Dato, ya que no nos aporta nada:"
   ]
  },
  {
   "cell_type": "code",
   "execution_count": 20,
   "metadata": {},
   "outputs": [],
   "source": [
    "df_melt = df_melt.dropna(subset=['Dato'])"
   ]
  },
  {
   "cell_type": "code",
   "execution_count": 21,
   "metadata": {},
   "outputs": [
    {
     "data": {
      "text/plain": [
       "(223, 5)"
      ]
     },
     "execution_count": 21,
     "metadata": {},
     "output_type": "execute_result"
    }
   ],
   "source": [
    "df_melt.shape"
   ]
  },
  {
   "cell_type": "code",
   "execution_count": 22,
   "metadata": {},
   "outputs": [
    {
     "data": {
      "text/html": [
       "<div>\n",
       "<style scoped>\n",
       "    .dataframe tbody tr th:only-of-type {\n",
       "        vertical-align: middle;\n",
       "    }\n",
       "\n",
       "    .dataframe tbody tr th {\n",
       "        vertical-align: top;\n",
       "    }\n",
       "\n",
       "    .dataframe thead th {\n",
       "        text-align: right;\n",
       "    }\n",
       "</style>\n",
       "<table border=\"1\" class=\"dataframe\">\n",
       "  <thead>\n",
       "    <tr style=\"text-align: right;\">\n",
       "      <th></th>\n",
       "      <th>CUIT_CUIL</th>\n",
       "      <th>NRO_DOC</th>\n",
       "      <th>Titular</th>\n",
       "      <th>variable</th>\n",
       "      <th>Dato</th>\n",
       "    </tr>\n",
       "  </thead>\n",
       "  <tbody>\n",
       "    <tr>\n",
       "      <th>3</th>\n",
       "      <td>2.004174e+10</td>\n",
       "      <td>4173550.0</td>\n",
       "      <td>VISCONTI EDUARDO JUAN</td>\n",
       "      <td>Mail 1</td>\n",
       "      <td>evisconti@live.com.ar</td>\n",
       "    </tr>\n",
       "    <tr>\n",
       "      <th>4</th>\n",
       "      <td>2.004200e+10</td>\n",
       "      <td>4200228.0</td>\n",
       "      <td>CACCHIONE MIGUEL ANGEL</td>\n",
       "      <td>Mail 1</td>\n",
       "      <td>gcacchione@yahoo.com</td>\n",
       "    </tr>\n",
       "    <tr>\n",
       "      <th>5</th>\n",
       "      <td>2.704488e+10</td>\n",
       "      <td>4488073.0</td>\n",
       "      <td>BONZI MIRTHA CELIA</td>\n",
       "      <td>Mail 1</td>\n",
       "      <td>lilaureiro@hotmail.com</td>\n",
       "    </tr>\n",
       "    <tr>\n",
       "      <th>10</th>\n",
       "      <td>2.005197e+10</td>\n",
       "      <td>5196895.0</td>\n",
       "      <td>CARPINETTI JULIO ALBERTO</td>\n",
       "      <td>Mail 1</td>\n",
       "      <td>carpinettijulio@gmail.com</td>\n",
       "    </tr>\n",
       "    <tr>\n",
       "      <th>14</th>\n",
       "      <td>2.706161e+10</td>\n",
       "      <td>6160626.0</td>\n",
       "      <td>DEMARIA GLORIA LILIAN</td>\n",
       "      <td>Mail 1</td>\n",
       "      <td>gloridemaria2012@hotmail.com</td>\n",
       "    </tr>\n",
       "  </tbody>\n",
       "</table>\n",
       "</div>"
      ],
      "text/plain": [
       "       CUIT_CUIL    NRO_DOC                   Titular variable  \\\n",
       "3   2.004174e+10  4173550.0     VISCONTI EDUARDO JUAN   Mail 1   \n",
       "4   2.004200e+10  4200228.0    CACCHIONE MIGUEL ANGEL   Mail 1   \n",
       "5   2.704488e+10  4488073.0        BONZI MIRTHA CELIA   Mail 1   \n",
       "10  2.005197e+10  5196895.0  CARPINETTI JULIO ALBERTO   Mail 1   \n",
       "14  2.706161e+10  6160626.0     DEMARIA GLORIA LILIAN   Mail 1   \n",
       "\n",
       "                            Dato  \n",
       "3          evisconti@live.com.ar  \n",
       "4           gcacchione@yahoo.com  \n",
       "5         lilaureiro@hotmail.com  \n",
       "10     carpinettijulio@gmail.com  \n",
       "14  gloridemaria2012@hotmail.com  "
      ]
     },
     "execution_count": 22,
     "metadata": {},
     "output_type": "execute_result"
    }
   ],
   "source": [
    "df_melt.head()"
   ]
  },
  {
   "cell_type": "markdown",
   "metadata": {},
   "source": [
    "# 5) Propietario del Dato"
   ]
  },
  {
   "cell_type": "markdown",
   "metadata": {},
   "source": [
    "En función de la columna \"variable\" creamos una nueva columna PROPIETARIO_DATO"
   ]
  },
  {
   "cell_type": "code",
   "execution_count": 23,
   "metadata": {},
   "outputs": [],
   "source": [
    "df_melt.loc[(df_melt['variable'] == 'Mail 1') , 'PROPIETARIO_DATO'] = 'Propio'"
   ]
  },
  {
   "cell_type": "code",
   "execution_count": 24,
   "metadata": {},
   "outputs": [],
   "source": [
    "#df_melt.loc[(df_melt['variable'] == 'Mail 2') , 'PROPIETARIO_DATO'] = 'Propio'"
   ]
  },
  {
   "cell_type": "code",
   "execution_count": 25,
   "metadata": {},
   "outputs": [],
   "source": [
    "#df_melt.loc[(df_melt['variable'] == 'Mail 3') , 'PROPIETARIO_DATO'] = 'Propio'"
   ]
  },
  {
   "cell_type": "code",
   "execution_count": 26,
   "metadata": {},
   "outputs": [],
   "source": [
    "df_melt.loc[(df_melt['variable'] == 'Mail_ajeno') , 'PROPIETARIO_DATO'] = 'Ajeno_familiar'"
   ]
  },
  {
   "cell_type": "code",
   "execution_count": 27,
   "metadata": {},
   "outputs": [],
   "source": [
    "df_melt.loc[(df_melt['variable'] == 'Mail_empleador') , 'PROPIETARIO_DATO'] = 'Ajeno_empleador'"
   ]
  },
  {
   "cell_type": "code",
   "execution_count": 28,
   "metadata": {},
   "outputs": [],
   "source": [
    "df_melt = df_melt.drop(columns=['variable'])"
   ]
  },
  {
   "cell_type": "code",
   "execution_count": 29,
   "metadata": {},
   "outputs": [
    {
     "data": {
      "text/html": [
       "<div>\n",
       "<style scoped>\n",
       "    .dataframe tbody tr th:only-of-type {\n",
       "        vertical-align: middle;\n",
       "    }\n",
       "\n",
       "    .dataframe tbody tr th {\n",
       "        vertical-align: top;\n",
       "    }\n",
       "\n",
       "    .dataframe thead th {\n",
       "        text-align: right;\n",
       "    }\n",
       "</style>\n",
       "<table border=\"1\" class=\"dataframe\">\n",
       "  <thead>\n",
       "    <tr style=\"text-align: right;\">\n",
       "      <th></th>\n",
       "      <th>CUIT_CUIL</th>\n",
       "      <th>NRO_DOC</th>\n",
       "      <th>Titular</th>\n",
       "      <th>Dato</th>\n",
       "      <th>PROPIETARIO_DATO</th>\n",
       "    </tr>\n",
       "  </thead>\n",
       "  <tbody>\n",
       "    <tr>\n",
       "      <th>3</th>\n",
       "      <td>2.004174e+10</td>\n",
       "      <td>4173550.0</td>\n",
       "      <td>VISCONTI EDUARDO JUAN</td>\n",
       "      <td>evisconti@live.com.ar</td>\n",
       "      <td>Propio</td>\n",
       "    </tr>\n",
       "    <tr>\n",
       "      <th>4</th>\n",
       "      <td>2.004200e+10</td>\n",
       "      <td>4200228.0</td>\n",
       "      <td>CACCHIONE MIGUEL ANGEL</td>\n",
       "      <td>gcacchione@yahoo.com</td>\n",
       "      <td>Propio</td>\n",
       "    </tr>\n",
       "    <tr>\n",
       "      <th>5</th>\n",
       "      <td>2.704488e+10</td>\n",
       "      <td>4488073.0</td>\n",
       "      <td>BONZI MIRTHA CELIA</td>\n",
       "      <td>lilaureiro@hotmail.com</td>\n",
       "      <td>Propio</td>\n",
       "    </tr>\n",
       "    <tr>\n",
       "      <th>10</th>\n",
       "      <td>2.005197e+10</td>\n",
       "      <td>5196895.0</td>\n",
       "      <td>CARPINETTI JULIO ALBERTO</td>\n",
       "      <td>carpinettijulio@gmail.com</td>\n",
       "      <td>Propio</td>\n",
       "    </tr>\n",
       "    <tr>\n",
       "      <th>14</th>\n",
       "      <td>2.706161e+10</td>\n",
       "      <td>6160626.0</td>\n",
       "      <td>DEMARIA GLORIA LILIAN</td>\n",
       "      <td>gloridemaria2012@hotmail.com</td>\n",
       "      <td>Propio</td>\n",
       "    </tr>\n",
       "  </tbody>\n",
       "</table>\n",
       "</div>"
      ],
      "text/plain": [
       "       CUIT_CUIL    NRO_DOC                   Titular  \\\n",
       "3   2.004174e+10  4173550.0     VISCONTI EDUARDO JUAN   \n",
       "4   2.004200e+10  4200228.0    CACCHIONE MIGUEL ANGEL   \n",
       "5   2.704488e+10  4488073.0        BONZI MIRTHA CELIA   \n",
       "10  2.005197e+10  5196895.0  CARPINETTI JULIO ALBERTO   \n",
       "14  2.706161e+10  6160626.0     DEMARIA GLORIA LILIAN   \n",
       "\n",
       "                            Dato PROPIETARIO_DATO  \n",
       "3          evisconti@live.com.ar           Propio  \n",
       "4           gcacchione@yahoo.com           Propio  \n",
       "5         lilaureiro@hotmail.com           Propio  \n",
       "10     carpinettijulio@gmail.com           Propio  \n",
       "14  gloridemaria2012@hotmail.com           Propio  "
      ]
     },
     "execution_count": 29,
     "metadata": {},
     "output_type": "execute_result"
    }
   ],
   "source": [
    "df_melt.head()"
   ]
  },
  {
   "cell_type": "markdown",
   "metadata": {},
   "source": [
    "# 6) Columna Proveedor"
   ]
  },
  {
   "cell_type": "markdown",
   "metadata": {},
   "source": [
    "Agregamos la columna PROVEEDOR_DATO, con el código correspondiente."
   ]
  },
  {
   "cell_type": "code",
   "execution_count": 30,
   "metadata": {},
   "outputs": [],
   "source": [
    "cod_pyp = 'AD'"
   ]
  },
  {
   "cell_type": "code",
   "execution_count": 31,
   "metadata": {},
   "outputs": [],
   "source": [
    "df_clean = df_melt.assign(PROVEEDOR_DATO=cod_pyp)"
   ]
  },
  {
   "cell_type": "code",
   "execution_count": 32,
   "metadata": {},
   "outputs": [
    {
     "data": {
      "text/html": [
       "<div>\n",
       "<style scoped>\n",
       "    .dataframe tbody tr th:only-of-type {\n",
       "        vertical-align: middle;\n",
       "    }\n",
       "\n",
       "    .dataframe tbody tr th {\n",
       "        vertical-align: top;\n",
       "    }\n",
       "\n",
       "    .dataframe thead th {\n",
       "        text-align: right;\n",
       "    }\n",
       "</style>\n",
       "<table border=\"1\" class=\"dataframe\">\n",
       "  <thead>\n",
       "    <tr style=\"text-align: right;\">\n",
       "      <th></th>\n",
       "      <th>CUIT_CUIL</th>\n",
       "      <th>NRO_DOC</th>\n",
       "      <th>Titular</th>\n",
       "      <th>Dato</th>\n",
       "      <th>PROPIETARIO_DATO</th>\n",
       "      <th>PROVEEDOR_DATO</th>\n",
       "    </tr>\n",
       "  </thead>\n",
       "  <tbody>\n",
       "    <tr>\n",
       "      <th>3</th>\n",
       "      <td>2.004174e+10</td>\n",
       "      <td>4173550.0</td>\n",
       "      <td>VISCONTI EDUARDO JUAN</td>\n",
       "      <td>evisconti@live.com.ar</td>\n",
       "      <td>Propio</td>\n",
       "      <td>AD</td>\n",
       "    </tr>\n",
       "    <tr>\n",
       "      <th>4</th>\n",
       "      <td>2.004200e+10</td>\n",
       "      <td>4200228.0</td>\n",
       "      <td>CACCHIONE MIGUEL ANGEL</td>\n",
       "      <td>gcacchione@yahoo.com</td>\n",
       "      <td>Propio</td>\n",
       "      <td>AD</td>\n",
       "    </tr>\n",
       "    <tr>\n",
       "      <th>5</th>\n",
       "      <td>2.704488e+10</td>\n",
       "      <td>4488073.0</td>\n",
       "      <td>BONZI MIRTHA CELIA</td>\n",
       "      <td>lilaureiro@hotmail.com</td>\n",
       "      <td>Propio</td>\n",
       "      <td>AD</td>\n",
       "    </tr>\n",
       "    <tr>\n",
       "      <th>10</th>\n",
       "      <td>2.005197e+10</td>\n",
       "      <td>5196895.0</td>\n",
       "      <td>CARPINETTI JULIO ALBERTO</td>\n",
       "      <td>carpinettijulio@gmail.com</td>\n",
       "      <td>Propio</td>\n",
       "      <td>AD</td>\n",
       "    </tr>\n",
       "    <tr>\n",
       "      <th>14</th>\n",
       "      <td>2.706161e+10</td>\n",
       "      <td>6160626.0</td>\n",
       "      <td>DEMARIA GLORIA LILIAN</td>\n",
       "      <td>gloridemaria2012@hotmail.com</td>\n",
       "      <td>Propio</td>\n",
       "      <td>AD</td>\n",
       "    </tr>\n",
       "  </tbody>\n",
       "</table>\n",
       "</div>"
      ],
      "text/plain": [
       "       CUIT_CUIL    NRO_DOC                   Titular  \\\n",
       "3   2.004174e+10  4173550.0     VISCONTI EDUARDO JUAN   \n",
       "4   2.004200e+10  4200228.0    CACCHIONE MIGUEL ANGEL   \n",
       "5   2.704488e+10  4488073.0        BONZI MIRTHA CELIA   \n",
       "10  2.005197e+10  5196895.0  CARPINETTI JULIO ALBERTO   \n",
       "14  2.706161e+10  6160626.0     DEMARIA GLORIA LILIAN   \n",
       "\n",
       "                            Dato PROPIETARIO_DATO PROVEEDOR_DATO  \n",
       "3          evisconti@live.com.ar           Propio             AD  \n",
       "4           gcacchione@yahoo.com           Propio             AD  \n",
       "5         lilaureiro@hotmail.com           Propio             AD  \n",
       "10     carpinettijulio@gmail.com           Propio             AD  \n",
       "14  gloridemaria2012@hotmail.com           Propio             AD  "
      ]
     },
     "execution_count": 32,
     "metadata": {},
     "output_type": "execute_result"
    }
   ],
   "source": [
    "df_clean.head()"
   ]
  },
  {
   "cell_type": "markdown",
   "metadata": {},
   "source": [
    "# 7) Columna Tipo"
   ]
  },
  {
   "cell_type": "markdown",
   "metadata": {},
   "source": [
    "Agregamos la columna TIPO, con el código correspondiente"
   ]
  },
  {
   "cell_type": "code",
   "execution_count": 33,
   "metadata": {},
   "outputs": [],
   "source": [
    "tipo_dato = 'EMAIL'"
   ]
  },
  {
   "cell_type": "code",
   "execution_count": 34,
   "metadata": {},
   "outputs": [],
   "source": [
    "df_clean = df_clean.assign(TIPO=tipo_dato)"
   ]
  },
  {
   "cell_type": "code",
   "execution_count": 35,
   "metadata": {},
   "outputs": [
    {
     "data": {
      "text/html": [
       "<div>\n",
       "<style scoped>\n",
       "    .dataframe tbody tr th:only-of-type {\n",
       "        vertical-align: middle;\n",
       "    }\n",
       "\n",
       "    .dataframe tbody tr th {\n",
       "        vertical-align: top;\n",
       "    }\n",
       "\n",
       "    .dataframe thead th {\n",
       "        text-align: right;\n",
       "    }\n",
       "</style>\n",
       "<table border=\"1\" class=\"dataframe\">\n",
       "  <thead>\n",
       "    <tr style=\"text-align: right;\">\n",
       "      <th></th>\n",
       "      <th>CUIT_CUIL</th>\n",
       "      <th>NRO_DOC</th>\n",
       "      <th>Titular</th>\n",
       "      <th>Dato</th>\n",
       "      <th>PROPIETARIO_DATO</th>\n",
       "      <th>PROVEEDOR_DATO</th>\n",
       "      <th>TIPO</th>\n",
       "    </tr>\n",
       "  </thead>\n",
       "  <tbody>\n",
       "    <tr>\n",
       "      <th>3</th>\n",
       "      <td>2.004174e+10</td>\n",
       "      <td>4173550.0</td>\n",
       "      <td>VISCONTI EDUARDO JUAN</td>\n",
       "      <td>evisconti@live.com.ar</td>\n",
       "      <td>Propio</td>\n",
       "      <td>AD</td>\n",
       "      <td>EMAIL</td>\n",
       "    </tr>\n",
       "    <tr>\n",
       "      <th>4</th>\n",
       "      <td>2.004200e+10</td>\n",
       "      <td>4200228.0</td>\n",
       "      <td>CACCHIONE MIGUEL ANGEL</td>\n",
       "      <td>gcacchione@yahoo.com</td>\n",
       "      <td>Propio</td>\n",
       "      <td>AD</td>\n",
       "      <td>EMAIL</td>\n",
       "    </tr>\n",
       "    <tr>\n",
       "      <th>5</th>\n",
       "      <td>2.704488e+10</td>\n",
       "      <td>4488073.0</td>\n",
       "      <td>BONZI MIRTHA CELIA</td>\n",
       "      <td>lilaureiro@hotmail.com</td>\n",
       "      <td>Propio</td>\n",
       "      <td>AD</td>\n",
       "      <td>EMAIL</td>\n",
       "    </tr>\n",
       "    <tr>\n",
       "      <th>10</th>\n",
       "      <td>2.005197e+10</td>\n",
       "      <td>5196895.0</td>\n",
       "      <td>CARPINETTI JULIO ALBERTO</td>\n",
       "      <td>carpinettijulio@gmail.com</td>\n",
       "      <td>Propio</td>\n",
       "      <td>AD</td>\n",
       "      <td>EMAIL</td>\n",
       "    </tr>\n",
       "    <tr>\n",
       "      <th>14</th>\n",
       "      <td>2.706161e+10</td>\n",
       "      <td>6160626.0</td>\n",
       "      <td>DEMARIA GLORIA LILIAN</td>\n",
       "      <td>gloridemaria2012@hotmail.com</td>\n",
       "      <td>Propio</td>\n",
       "      <td>AD</td>\n",
       "      <td>EMAIL</td>\n",
       "    </tr>\n",
       "  </tbody>\n",
       "</table>\n",
       "</div>"
      ],
      "text/plain": [
       "       CUIT_CUIL    NRO_DOC                   Titular  \\\n",
       "3   2.004174e+10  4173550.0     VISCONTI EDUARDO JUAN   \n",
       "4   2.004200e+10  4200228.0    CACCHIONE MIGUEL ANGEL   \n",
       "5   2.704488e+10  4488073.0        BONZI MIRTHA CELIA   \n",
       "10  2.005197e+10  5196895.0  CARPINETTI JULIO ALBERTO   \n",
       "14  2.706161e+10  6160626.0     DEMARIA GLORIA LILIAN   \n",
       "\n",
       "                            Dato PROPIETARIO_DATO PROVEEDOR_DATO   TIPO  \n",
       "3          evisconti@live.com.ar           Propio             AD  EMAIL  \n",
       "4           gcacchione@yahoo.com           Propio             AD  EMAIL  \n",
       "5         lilaureiro@hotmail.com           Propio             AD  EMAIL  \n",
       "10     carpinettijulio@gmail.com           Propio             AD  EMAIL  \n",
       "14  gloridemaria2012@hotmail.com           Propio             AD  EMAIL  "
      ]
     },
     "execution_count": 35,
     "metadata": {},
     "output_type": "execute_result"
    }
   ],
   "source": [
    "df_clean.head ()"
   ]
  },
  {
   "cell_type": "markdown",
   "metadata": {},
   "source": [
    "# 8) Columna Subtipo"
   ]
  },
  {
   "cell_type": "markdown",
   "metadata": {},
   "source": [
    "Agregamos la columna SUBTIPO, que va a contener información sobre el tipo de mail que se encuentra en el campo Dato.\n",
    "\n",
    "- Personal: @yahoo, @gmail, @hotmail, @outlook, @live.\n",
    "- Laboral: el resto."
   ]
  },
  {
   "cell_type": "markdown",
   "metadata": {},
   "source": [
    "Verificamos que la string contenga esos casos:"
   ]
  },
  {
   "cell_type": "code",
   "execution_count": 36,
   "metadata": {},
   "outputs": [],
   "source": [
    "df_clean.loc[(df_clean['Dato'].str.contains('@yahoo', na=False)) | \n",
    "             (df_clean['Dato'].str.contains('@gmail', na=False)) |\n",
    "             (df_clean['Dato'].str.contains('@outlook', na=False)) |\n",
    "             (df_clean['Dato'].str.contains('@hotmail', na=False)) |\n",
    "             (df_clean['Dato'].str.contains('@live', na=False)) , 'SUBTIPO'] = 'PERSONAL'"
   ]
  },
  {
   "cell_type": "markdown",
   "metadata": {},
   "source": [
    "Para los mails laborales, evaluamos los casos contrarios:"
   ]
  },
  {
   "cell_type": "code",
   "execution_count": 37,
   "metadata": {},
   "outputs": [],
   "source": [
    "df_clean.loc[~(df_clean['Dato'].str.contains('@yahoo', na=False)) & \n",
    "             ~(df_clean['Dato'].str.contains('@gmail', na=False)) &\n",
    "             ~(df_clean['Dato'].str.contains('@outlook', na=False)) &\n",
    "             ~(df_clean['Dato'].str.contains('@hotmail', na=False)) &\n",
    "             ~(df_clean['Dato'].str.contains('@live', na=False)) , 'SUBTIPO'] = 'LABORAL'"
   ]
  },
  {
   "cell_type": "code",
   "execution_count": 38,
   "metadata": {},
   "outputs": [
    {
     "data": {
      "text/html": [
       "<div>\n",
       "<style scoped>\n",
       "    .dataframe tbody tr th:only-of-type {\n",
       "        vertical-align: middle;\n",
       "    }\n",
       "\n",
       "    .dataframe tbody tr th {\n",
       "        vertical-align: top;\n",
       "    }\n",
       "\n",
       "    .dataframe thead th {\n",
       "        text-align: right;\n",
       "    }\n",
       "</style>\n",
       "<table border=\"1\" class=\"dataframe\">\n",
       "  <thead>\n",
       "    <tr style=\"text-align: right;\">\n",
       "      <th></th>\n",
       "      <th>CUIT_CUIL</th>\n",
       "      <th>NRO_DOC</th>\n",
       "      <th>Titular</th>\n",
       "      <th>Dato</th>\n",
       "      <th>PROPIETARIO_DATO</th>\n",
       "      <th>PROVEEDOR_DATO</th>\n",
       "      <th>TIPO</th>\n",
       "      <th>SUBTIPO</th>\n",
       "    </tr>\n",
       "  </thead>\n",
       "  <tbody>\n",
       "    <tr>\n",
       "      <th>3</th>\n",
       "      <td>2.004174e+10</td>\n",
       "      <td>4173550.0</td>\n",
       "      <td>VISCONTI EDUARDO JUAN</td>\n",
       "      <td>evisconti@live.com.ar</td>\n",
       "      <td>Propio</td>\n",
       "      <td>AD</td>\n",
       "      <td>EMAIL</td>\n",
       "      <td>PERSONAL</td>\n",
       "    </tr>\n",
       "    <tr>\n",
       "      <th>4</th>\n",
       "      <td>2.004200e+10</td>\n",
       "      <td>4200228.0</td>\n",
       "      <td>CACCHIONE MIGUEL ANGEL</td>\n",
       "      <td>gcacchione@yahoo.com</td>\n",
       "      <td>Propio</td>\n",
       "      <td>AD</td>\n",
       "      <td>EMAIL</td>\n",
       "      <td>PERSONAL</td>\n",
       "    </tr>\n",
       "    <tr>\n",
       "      <th>5</th>\n",
       "      <td>2.704488e+10</td>\n",
       "      <td>4488073.0</td>\n",
       "      <td>BONZI MIRTHA CELIA</td>\n",
       "      <td>lilaureiro@hotmail.com</td>\n",
       "      <td>Propio</td>\n",
       "      <td>AD</td>\n",
       "      <td>EMAIL</td>\n",
       "      <td>PERSONAL</td>\n",
       "    </tr>\n",
       "    <tr>\n",
       "      <th>10</th>\n",
       "      <td>2.005197e+10</td>\n",
       "      <td>5196895.0</td>\n",
       "      <td>CARPINETTI JULIO ALBERTO</td>\n",
       "      <td>carpinettijulio@gmail.com</td>\n",
       "      <td>Propio</td>\n",
       "      <td>AD</td>\n",
       "      <td>EMAIL</td>\n",
       "      <td>PERSONAL</td>\n",
       "    </tr>\n",
       "    <tr>\n",
       "      <th>14</th>\n",
       "      <td>2.706161e+10</td>\n",
       "      <td>6160626.0</td>\n",
       "      <td>DEMARIA GLORIA LILIAN</td>\n",
       "      <td>gloridemaria2012@hotmail.com</td>\n",
       "      <td>Propio</td>\n",
       "      <td>AD</td>\n",
       "      <td>EMAIL</td>\n",
       "      <td>PERSONAL</td>\n",
       "    </tr>\n",
       "  </tbody>\n",
       "</table>\n",
       "</div>"
      ],
      "text/plain": [
       "       CUIT_CUIL    NRO_DOC                   Titular  \\\n",
       "3   2.004174e+10  4173550.0     VISCONTI EDUARDO JUAN   \n",
       "4   2.004200e+10  4200228.0    CACCHIONE MIGUEL ANGEL   \n",
       "5   2.704488e+10  4488073.0        BONZI MIRTHA CELIA   \n",
       "10  2.005197e+10  5196895.0  CARPINETTI JULIO ALBERTO   \n",
       "14  2.706161e+10  6160626.0     DEMARIA GLORIA LILIAN   \n",
       "\n",
       "                            Dato PROPIETARIO_DATO PROVEEDOR_DATO   TIPO  \\\n",
       "3          evisconti@live.com.ar           Propio             AD  EMAIL   \n",
       "4           gcacchione@yahoo.com           Propio             AD  EMAIL   \n",
       "5         lilaureiro@hotmail.com           Propio             AD  EMAIL   \n",
       "10     carpinettijulio@gmail.com           Propio             AD  EMAIL   \n",
       "14  gloridemaria2012@hotmail.com           Propio             AD  EMAIL   \n",
       "\n",
       "     SUBTIPO  \n",
       "3   PERSONAL  \n",
       "4   PERSONAL  \n",
       "5   PERSONAL  \n",
       "10  PERSONAL  \n",
       "14  PERSONAL  "
      ]
     },
     "execution_count": 38,
     "metadata": {},
     "output_type": "execute_result"
    }
   ],
   "source": [
    "df_clean.head()"
   ]
  },
  {
   "cell_type": "markdown",
   "metadata": {},
   "source": [
    "# 9) Columna Score"
   ]
  },
  {
   "cell_type": "markdown",
   "metadata": {},
   "source": [
    "El campo **Score** se construye en función de los datos obtenidos:\n",
    "\n",
    "- Nivel 4: Dato que otorga la propia persona.\n",
    "- Nivel 3: Dato que otorgan los clientes (los bancos).\n",
    "- Nivel 2: Dato que otorga un proveedor externo (Informes Digitales en este caso), con subtipo \"Personal\".\n",
    "- Nivel 1: Dato que otorga un proveedor externo, pero tiene como subtipo \"Laboral\"."
   ]
  },
  {
   "cell_type": "code",
   "execution_count": 39,
   "metadata": {},
   "outputs": [],
   "source": [
    "# Nivel 1: Laboral, proveedor externo.\n",
    "\n",
    "df_clean.loc[(df_clean['SUBTIPO'] == 'LABORAL') , 'SCORE_DATO'] = 1"
   ]
  },
  {
   "cell_type": "code",
   "execution_count": 40,
   "metadata": {},
   "outputs": [],
   "source": [
    "# Nivel 2: Personal, proveedor externo.\n",
    "\n",
    "df_clean.loc[(df_clean['SUBTIPO'] == 'PERSONAL') , 'SCORE_DATO'] = 2"
   ]
  },
  {
   "cell_type": "code",
   "execution_count": 41,
   "metadata": {
    "scrolled": true
   },
   "outputs": [
    {
     "data": {
      "text/html": [
       "<div>\n",
       "<style scoped>\n",
       "    .dataframe tbody tr th:only-of-type {\n",
       "        vertical-align: middle;\n",
       "    }\n",
       "\n",
       "    .dataframe tbody tr th {\n",
       "        vertical-align: top;\n",
       "    }\n",
       "\n",
       "    .dataframe thead th {\n",
       "        text-align: right;\n",
       "    }\n",
       "</style>\n",
       "<table border=\"1\" class=\"dataframe\">\n",
       "  <thead>\n",
       "    <tr style=\"text-align: right;\">\n",
       "      <th></th>\n",
       "      <th>CUIT_CUIL</th>\n",
       "      <th>NRO_DOC</th>\n",
       "      <th>Titular</th>\n",
       "      <th>Dato</th>\n",
       "      <th>PROPIETARIO_DATO</th>\n",
       "      <th>PROVEEDOR_DATO</th>\n",
       "      <th>TIPO</th>\n",
       "      <th>SUBTIPO</th>\n",
       "      <th>SCORE_DATO</th>\n",
       "    </tr>\n",
       "  </thead>\n",
       "  <tbody>\n",
       "    <tr>\n",
       "      <th>3</th>\n",
       "      <td>2.004174e+10</td>\n",
       "      <td>4173550.0</td>\n",
       "      <td>VISCONTI EDUARDO JUAN</td>\n",
       "      <td>evisconti@live.com.ar</td>\n",
       "      <td>Propio</td>\n",
       "      <td>AD</td>\n",
       "      <td>EMAIL</td>\n",
       "      <td>PERSONAL</td>\n",
       "      <td>2.0</td>\n",
       "    </tr>\n",
       "    <tr>\n",
       "      <th>4</th>\n",
       "      <td>2.004200e+10</td>\n",
       "      <td>4200228.0</td>\n",
       "      <td>CACCHIONE MIGUEL ANGEL</td>\n",
       "      <td>gcacchione@yahoo.com</td>\n",
       "      <td>Propio</td>\n",
       "      <td>AD</td>\n",
       "      <td>EMAIL</td>\n",
       "      <td>PERSONAL</td>\n",
       "      <td>2.0</td>\n",
       "    </tr>\n",
       "    <tr>\n",
       "      <th>5</th>\n",
       "      <td>2.704488e+10</td>\n",
       "      <td>4488073.0</td>\n",
       "      <td>BONZI MIRTHA CELIA</td>\n",
       "      <td>lilaureiro@hotmail.com</td>\n",
       "      <td>Propio</td>\n",
       "      <td>AD</td>\n",
       "      <td>EMAIL</td>\n",
       "      <td>PERSONAL</td>\n",
       "      <td>2.0</td>\n",
       "    </tr>\n",
       "    <tr>\n",
       "      <th>10</th>\n",
       "      <td>2.005197e+10</td>\n",
       "      <td>5196895.0</td>\n",
       "      <td>CARPINETTI JULIO ALBERTO</td>\n",
       "      <td>carpinettijulio@gmail.com</td>\n",
       "      <td>Propio</td>\n",
       "      <td>AD</td>\n",
       "      <td>EMAIL</td>\n",
       "      <td>PERSONAL</td>\n",
       "      <td>2.0</td>\n",
       "    </tr>\n",
       "    <tr>\n",
       "      <th>14</th>\n",
       "      <td>2.706161e+10</td>\n",
       "      <td>6160626.0</td>\n",
       "      <td>DEMARIA GLORIA LILIAN</td>\n",
       "      <td>gloridemaria2012@hotmail.com</td>\n",
       "      <td>Propio</td>\n",
       "      <td>AD</td>\n",
       "      <td>EMAIL</td>\n",
       "      <td>PERSONAL</td>\n",
       "      <td>2.0</td>\n",
       "    </tr>\n",
       "  </tbody>\n",
       "</table>\n",
       "</div>"
      ],
      "text/plain": [
       "       CUIT_CUIL    NRO_DOC                   Titular  \\\n",
       "3   2.004174e+10  4173550.0     VISCONTI EDUARDO JUAN   \n",
       "4   2.004200e+10  4200228.0    CACCHIONE MIGUEL ANGEL   \n",
       "5   2.704488e+10  4488073.0        BONZI MIRTHA CELIA   \n",
       "10  2.005197e+10  5196895.0  CARPINETTI JULIO ALBERTO   \n",
       "14  2.706161e+10  6160626.0     DEMARIA GLORIA LILIAN   \n",
       "\n",
       "                            Dato PROPIETARIO_DATO PROVEEDOR_DATO   TIPO  \\\n",
       "3          evisconti@live.com.ar           Propio             AD  EMAIL   \n",
       "4           gcacchione@yahoo.com           Propio             AD  EMAIL   \n",
       "5         lilaureiro@hotmail.com           Propio             AD  EMAIL   \n",
       "10     carpinettijulio@gmail.com           Propio             AD  EMAIL   \n",
       "14  gloridemaria2012@hotmail.com           Propio             AD  EMAIL   \n",
       "\n",
       "     SUBTIPO  SCORE_DATO  \n",
       "3   PERSONAL         2.0  \n",
       "4   PERSONAL         2.0  \n",
       "5   PERSONAL         2.0  \n",
       "10  PERSONAL         2.0  \n",
       "14  PERSONAL         2.0  "
      ]
     },
     "execution_count": 41,
     "metadata": {},
     "output_type": "execute_result"
    }
   ],
   "source": [
    "df_clean.head()"
   ]
  },
  {
   "cell_type": "markdown",
   "metadata": {},
   "source": [
    "# 10) Columna Fecha"
   ]
  },
  {
   "cell_type": "markdown",
   "metadata": {},
   "source": [
    "Para el campo FECHA_INGRESO_DATO, usamos la fecha en la que se hace la inserción de los datos:"
   ]
  },
  {
   "cell_type": "code",
   "execution_count": 42,
   "metadata": {},
   "outputs": [],
   "source": [
    "fecha_ingreso = pd.to_datetime('today')"
   ]
  },
  {
   "cell_type": "code",
   "execution_count": 43,
   "metadata": {},
   "outputs": [],
   "source": [
    "df_clean = df_clean.assign(FECHA_INGRESO_DATO=fecha_ingreso)"
   ]
  },
  {
   "cell_type": "code",
   "execution_count": 44,
   "metadata": {
    "scrolled": true
   },
   "outputs": [
    {
     "data": {
      "text/html": [
       "<div>\n",
       "<style scoped>\n",
       "    .dataframe tbody tr th:only-of-type {\n",
       "        vertical-align: middle;\n",
       "    }\n",
       "\n",
       "    .dataframe tbody tr th {\n",
       "        vertical-align: top;\n",
       "    }\n",
       "\n",
       "    .dataframe thead th {\n",
       "        text-align: right;\n",
       "    }\n",
       "</style>\n",
       "<table border=\"1\" class=\"dataframe\">\n",
       "  <thead>\n",
       "    <tr style=\"text-align: right;\">\n",
       "      <th></th>\n",
       "      <th>CUIT_CUIL</th>\n",
       "      <th>NRO_DOC</th>\n",
       "      <th>Titular</th>\n",
       "      <th>Dato</th>\n",
       "      <th>PROPIETARIO_DATO</th>\n",
       "      <th>PROVEEDOR_DATO</th>\n",
       "      <th>TIPO</th>\n",
       "      <th>SUBTIPO</th>\n",
       "      <th>SCORE_DATO</th>\n",
       "      <th>FECHA_INGRESO_DATO</th>\n",
       "    </tr>\n",
       "  </thead>\n",
       "  <tbody>\n",
       "    <tr>\n",
       "      <th>3</th>\n",
       "      <td>2.004174e+10</td>\n",
       "      <td>4173550.0</td>\n",
       "      <td>VISCONTI EDUARDO JUAN</td>\n",
       "      <td>evisconti@live.com.ar</td>\n",
       "      <td>Propio</td>\n",
       "      <td>AD</td>\n",
       "      <td>EMAIL</td>\n",
       "      <td>PERSONAL</td>\n",
       "      <td>2.0</td>\n",
       "      <td>2021-03-18 11:43:14.399932</td>\n",
       "    </tr>\n",
       "    <tr>\n",
       "      <th>4</th>\n",
       "      <td>2.004200e+10</td>\n",
       "      <td>4200228.0</td>\n",
       "      <td>CACCHIONE MIGUEL ANGEL</td>\n",
       "      <td>gcacchione@yahoo.com</td>\n",
       "      <td>Propio</td>\n",
       "      <td>AD</td>\n",
       "      <td>EMAIL</td>\n",
       "      <td>PERSONAL</td>\n",
       "      <td>2.0</td>\n",
       "      <td>2021-03-18 11:43:14.399932</td>\n",
       "    </tr>\n",
       "    <tr>\n",
       "      <th>5</th>\n",
       "      <td>2.704488e+10</td>\n",
       "      <td>4488073.0</td>\n",
       "      <td>BONZI MIRTHA CELIA</td>\n",
       "      <td>lilaureiro@hotmail.com</td>\n",
       "      <td>Propio</td>\n",
       "      <td>AD</td>\n",
       "      <td>EMAIL</td>\n",
       "      <td>PERSONAL</td>\n",
       "      <td>2.0</td>\n",
       "      <td>2021-03-18 11:43:14.399932</td>\n",
       "    </tr>\n",
       "    <tr>\n",
       "      <th>10</th>\n",
       "      <td>2.005197e+10</td>\n",
       "      <td>5196895.0</td>\n",
       "      <td>CARPINETTI JULIO ALBERTO</td>\n",
       "      <td>carpinettijulio@gmail.com</td>\n",
       "      <td>Propio</td>\n",
       "      <td>AD</td>\n",
       "      <td>EMAIL</td>\n",
       "      <td>PERSONAL</td>\n",
       "      <td>2.0</td>\n",
       "      <td>2021-03-18 11:43:14.399932</td>\n",
       "    </tr>\n",
       "    <tr>\n",
       "      <th>14</th>\n",
       "      <td>2.706161e+10</td>\n",
       "      <td>6160626.0</td>\n",
       "      <td>DEMARIA GLORIA LILIAN</td>\n",
       "      <td>gloridemaria2012@hotmail.com</td>\n",
       "      <td>Propio</td>\n",
       "      <td>AD</td>\n",
       "      <td>EMAIL</td>\n",
       "      <td>PERSONAL</td>\n",
       "      <td>2.0</td>\n",
       "      <td>2021-03-18 11:43:14.399932</td>\n",
       "    </tr>\n",
       "  </tbody>\n",
       "</table>\n",
       "</div>"
      ],
      "text/plain": [
       "       CUIT_CUIL    NRO_DOC                   Titular  \\\n",
       "3   2.004174e+10  4173550.0     VISCONTI EDUARDO JUAN   \n",
       "4   2.004200e+10  4200228.0    CACCHIONE MIGUEL ANGEL   \n",
       "5   2.704488e+10  4488073.0        BONZI MIRTHA CELIA   \n",
       "10  2.005197e+10  5196895.0  CARPINETTI JULIO ALBERTO   \n",
       "14  2.706161e+10  6160626.0     DEMARIA GLORIA LILIAN   \n",
       "\n",
       "                            Dato PROPIETARIO_DATO PROVEEDOR_DATO   TIPO  \\\n",
       "3          evisconti@live.com.ar           Propio             AD  EMAIL   \n",
       "4           gcacchione@yahoo.com           Propio             AD  EMAIL   \n",
       "5         lilaureiro@hotmail.com           Propio             AD  EMAIL   \n",
       "10     carpinettijulio@gmail.com           Propio             AD  EMAIL   \n",
       "14  gloridemaria2012@hotmail.com           Propio             AD  EMAIL   \n",
       "\n",
       "     SUBTIPO  SCORE_DATO         FECHA_INGRESO_DATO  \n",
       "3   PERSONAL         2.0 2021-03-18 11:43:14.399932  \n",
       "4   PERSONAL         2.0 2021-03-18 11:43:14.399932  \n",
       "5   PERSONAL         2.0 2021-03-18 11:43:14.399932  \n",
       "10  PERSONAL         2.0 2021-03-18 11:43:14.399932  \n",
       "14  PERSONAL         2.0 2021-03-18 11:43:14.399932  "
      ]
     },
     "execution_count": 44,
     "metadata": {},
     "output_type": "execute_result"
    }
   ],
   "source": [
    "df_clean.head()"
   ]
  },
  {
   "cell_type": "markdown",
   "metadata": {},
   "source": [
    "# 11) Campos adicionales"
   ]
  },
  {
   "cell_type": "markdown",
   "metadata": {},
   "source": [
    "Creamos las columnas VERIFICADO, FECHA_VERIFICACION, OPERADOR_VERIFICACION, que en principio van en nulls."
   ]
  },
  {
   "cell_type": "code",
   "execution_count": 45,
   "metadata": {},
   "outputs": [],
   "source": [
    "df_clean['VERIFICADO'] = 0"
   ]
  },
  {
   "cell_type": "code",
   "execution_count": 46,
   "metadata": {},
   "outputs": [],
   "source": [
    "df_clean['FECHA_VERIFICACION'] = np.nan"
   ]
  },
  {
   "cell_type": "code",
   "execution_count": 47,
   "metadata": {},
   "outputs": [],
   "source": [
    "df_clean['OPERADOR_VERIFICACION'] = np.nan"
   ]
  },
  {
   "cell_type": "markdown",
   "metadata": {},
   "source": [
    "# 12) Concatenación con .csv enviado "
   ]
  },
  {
   "cell_type": "markdown",
   "metadata": {},
   "source": [
    "Vamos a concatenar nuestro dataframe con el dataframe enviado para enriquecer. Para esto, vamos a hacer una limpieza inicial de cómo se enviaron esos datos. Finalmente, se uniran ambos dataframes por __DNI__."
   ]
  },
  {
   "cell_type": "markdown",
   "metadata": {},
   "source": [
    "## 12.1) Dataset"
   ]
  },
  {
   "cell_type": "markdown",
   "metadata": {},
   "source": [
    "Vamos a analizar y limpiar el dataset enviado para el enriquecimiento:"
   ]
  },
  {
   "cell_type": "code",
   "execution_count": 48,
   "metadata": {},
   "outputs": [],
   "source": [
    "df_pyp = pd.read_csv('/mnt/c/users/Dleg/Data/MOPC/MOPC/Enriquecimiento de Datos/Data Cleaning/Insiders/Datasets/Datasets enviados/Envio Insiders - Estado-IDCliente - 1603.csv')"
   ]
  },
  {
   "cell_type": "code",
   "execution_count": 49,
   "metadata": {
    "scrolled": false
   },
   "outputs": [
    {
     "data": {
      "text/html": [
       "<div>\n",
       "<style scoped>\n",
       "    .dataframe tbody tr th:only-of-type {\n",
       "        vertical-align: middle;\n",
       "    }\n",
       "\n",
       "    .dataframe tbody tr th {\n",
       "        vertical-align: top;\n",
       "    }\n",
       "\n",
       "    .dataframe thead th {\n",
       "        text-align: right;\n",
       "    }\n",
       "</style>\n",
       "<table border=\"1\" class=\"dataframe\">\n",
       "  <thead>\n",
       "    <tr style=\"text-align: right;\">\n",
       "      <th></th>\n",
       "      <th>IDMOROSO</th>\n",
       "      <th>NOMBRE</th>\n",
       "      <th>IDCLIENTE</th>\n",
       "      <th>ESTADO</th>\n",
       "      <th>FILTROA</th>\n",
       "      <th>DATOADIC</th>\n",
       "    </tr>\n",
       "  </thead>\n",
       "  <tbody>\n",
       "    <tr>\n",
       "      <th>0</th>\n",
       "      <td>DNI 14384837</td>\n",
       "      <td>ACOSTA MARIA CRISTINA</td>\n",
       "      <td>FRANCES_2012</td>\n",
       "      <td>NO VISTO</td>\n",
       "      <td>3 - Ag 3ra</td>\n",
       "      <td>NaN</td>\n",
       "    </tr>\n",
       "    <tr>\n",
       "      <th>1</th>\n",
       "      <td>DNI 33803357</td>\n",
       "      <td>CARRASCO SERGIO DAMIAN</td>\n",
       "      <td>FRANCES_2012</td>\n",
       "      <td>NO VISTO</td>\n",
       "      <td>1 - Ag 1ra</td>\n",
       "      <td>NaN</td>\n",
       "    </tr>\n",
       "    <tr>\n",
       "      <th>2</th>\n",
       "      <td>DNI 34570749</td>\n",
       "      <td>TOLDI PRESENTADO SOLANGE GISELLE</td>\n",
       "      <td>FRANCES_2012</td>\n",
       "      <td>NO VISTO</td>\n",
       "      <td>1 - Ag 1ra</td>\n",
       "      <td>NaN</td>\n",
       "    </tr>\n",
       "    <tr>\n",
       "      <th>3</th>\n",
       "      <td>DNI 36991995</td>\n",
       "      <td>ANTECAO MAURO LEANDRO</td>\n",
       "      <td>FRANCES_2012</td>\n",
       "      <td>NO VISTO</td>\n",
       "      <td>2 - Ag 2ra</td>\n",
       "      <td>NaN</td>\n",
       "    </tr>\n",
       "    <tr>\n",
       "      <th>4</th>\n",
       "      <td>DNI 40359046</td>\n",
       "      <td>VATTOVAZ VICTORIA</td>\n",
       "      <td>FRANCES_2012</td>\n",
       "      <td>NO VISTO</td>\n",
       "      <td>1 - Ag 1ra</td>\n",
       "      <td>NaN</td>\n",
       "    </tr>\n",
       "  </tbody>\n",
       "</table>\n",
       "</div>"
      ],
      "text/plain": [
       "             IDMOROSO                                    NOMBRE  \\\n",
       "0  DNI 14384837        ACOSTA MARIA CRISTINA                      \n",
       "1  DNI 33803357        CARRASCO SERGIO DAMIAN                     \n",
       "2  DNI 34570749        TOLDI PRESENTADO SOLANGE GISELLE           \n",
       "3  DNI 36991995        ANTECAO MAURO LEANDRO                      \n",
       "4  DNI 40359046        VATTOVAZ VICTORIA                          \n",
       "\n",
       "              IDCLIENTE                ESTADO               FILTROA DATOADIC  \n",
       "0  FRANCES_2012          NO VISTO              3 - Ag 3ra                NaN  \n",
       "1  FRANCES_2012          NO VISTO              1 - Ag 1ra                NaN  \n",
       "2  FRANCES_2012          NO VISTO              1 - Ag 1ra                NaN  \n",
       "3  FRANCES_2012          NO VISTO              2 - Ag 2ra                NaN  \n",
       "4  FRANCES_2012          NO VISTO              1 - Ag 1ra                NaN  "
      ]
     },
     "execution_count": 49,
     "metadata": {},
     "output_type": "execute_result"
    }
   ],
   "source": [
    "df_pyp.head()"
   ]
  },
  {
   "cell_type": "markdown",
   "metadata": {},
   "source": [
    "Creamos una columna que contenga IDMOROSO + DATOADIC según corresponda"
   ]
  },
  {
   "cell_type": "code",
   "execution_count": 50,
   "metadata": {},
   "outputs": [],
   "source": [
    "df_pyp.loc[(df_pyp['IDCLIENTE'].str.startswith('AMEX')) , 'NRO_DOC'] = df_pyp['DATOADIC']"
   ]
  },
  {
   "cell_type": "code",
   "execution_count": 51,
   "metadata": {},
   "outputs": [],
   "source": [
    "df_pyp.loc[(~df_pyp['IDCLIENTE'].str.startswith('AMEX')) , 'NRO_DOC'] = df_pyp['IDMOROSO']"
   ]
  },
  {
   "cell_type": "code",
   "execution_count": 52,
   "metadata": {},
   "outputs": [],
   "source": [
    "#df_pyp ['NRO_DOC'] = df_pyp ['IDMOROSO']"
   ]
  },
  {
   "cell_type": "code",
   "execution_count": 53,
   "metadata": {},
   "outputs": [],
   "source": [
    "#df_pyp = df_pyp [['IDMOROSO','NOMBRE','IDCLIENTE','NRO_DOC']]\n",
    "df_pyp = df_pyp [['IDMOROSO','IDCLIENTE','NRO_DOC']]"
   ]
  },
  {
   "cell_type": "code",
   "execution_count": 54,
   "metadata": {},
   "outputs": [
    {
     "data": {
      "text/html": [
       "<div>\n",
       "<style scoped>\n",
       "    .dataframe tbody tr th:only-of-type {\n",
       "        vertical-align: middle;\n",
       "    }\n",
       "\n",
       "    .dataframe tbody tr th {\n",
       "        vertical-align: top;\n",
       "    }\n",
       "\n",
       "    .dataframe thead th {\n",
       "        text-align: right;\n",
       "    }\n",
       "</style>\n",
       "<table border=\"1\" class=\"dataframe\">\n",
       "  <thead>\n",
       "    <tr style=\"text-align: right;\">\n",
       "      <th></th>\n",
       "      <th>IDMOROSO</th>\n",
       "      <th>IDCLIENTE</th>\n",
       "      <th>NRO_DOC</th>\n",
       "    </tr>\n",
       "  </thead>\n",
       "  <tbody>\n",
       "    <tr>\n",
       "      <th>0</th>\n",
       "      <td>DNI 14384837</td>\n",
       "      <td>FRANCES_2012</td>\n",
       "      <td>DNI 14384837</td>\n",
       "    </tr>\n",
       "    <tr>\n",
       "      <th>1</th>\n",
       "      <td>DNI 33803357</td>\n",
       "      <td>FRANCES_2012</td>\n",
       "      <td>DNI 33803357</td>\n",
       "    </tr>\n",
       "    <tr>\n",
       "      <th>2</th>\n",
       "      <td>DNI 34570749</td>\n",
       "      <td>FRANCES_2012</td>\n",
       "      <td>DNI 34570749</td>\n",
       "    </tr>\n",
       "    <tr>\n",
       "      <th>3</th>\n",
       "      <td>DNI 36991995</td>\n",
       "      <td>FRANCES_2012</td>\n",
       "      <td>DNI 36991995</td>\n",
       "    </tr>\n",
       "    <tr>\n",
       "      <th>4</th>\n",
       "      <td>DNI 40359046</td>\n",
       "      <td>FRANCES_2012</td>\n",
       "      <td>DNI 40359046</td>\n",
       "    </tr>\n",
       "  </tbody>\n",
       "</table>\n",
       "</div>"
      ],
      "text/plain": [
       "             IDMOROSO             IDCLIENTE             NRO_DOC\n",
       "0  DNI 14384837        FRANCES_2012          DNI 14384837      \n",
       "1  DNI 33803357        FRANCES_2012          DNI 33803357      \n",
       "2  DNI 34570749        FRANCES_2012          DNI 34570749      \n",
       "3  DNI 36991995        FRANCES_2012          DNI 36991995      \n",
       "4  DNI 40359046        FRANCES_2012          DNI 40359046      "
      ]
     },
     "execution_count": 54,
     "metadata": {},
     "output_type": "execute_result"
    }
   ],
   "source": [
    "df_pyp.head()"
   ]
  },
  {
   "cell_type": "code",
   "execution_count": 55,
   "metadata": {},
   "outputs": [],
   "source": [
    "df_pyp = df_pyp.dropna(subset=['NRO_DOC'])"
   ]
  },
  {
   "cell_type": "markdown",
   "metadata": {},
   "source": [
    "## 12.2) DNI Cleaning"
   ]
  },
  {
   "cell_type": "markdown",
   "metadata": {},
   "source": [
    "Limpiamos el dataframe __df_pyp__, ya que dentro de DATO_A_ENVIAR tenemos 9 tipos de casos diferentes de datos:\n",
    "\n",
    "- DNI 12345678\n",
    "- DNI12345678\n",
    "- DNIE1234678\n",
    "- LC  1234567\n",
    "- LE  1234567\n",
    "- CUIT00123456780\n",
    "- 00123456780 --> Es un CUIT.\n",
    "- 00 12345678 0 --> Es un CUIT.\n",
    "- DNI 00123456780 --> Dice DNI pero es un CUIT de una persona __jurídica__ (TO DO)"
   ]
  },
  {
   "cell_type": "markdown",
   "metadata": {},
   "source": [
    "Para eso definimos 5 funciones:\n",
    "\n",
    "- __Tipo_DOC__: Se definen dos funciones para determinar el tipo de DNI. Una inicial, y otra para corregir sobre el dataframe resultante.\n",
    "- __Standard DNI__: Estandariza los DNI para 7 de los casos. Esta función debe ejecutarse en primer lugar.\n",
    "- __DNI Spaces__: Elimina los espacios.\n",
    "- __DNI Zero__: Elimina los ceros iniciales de ciertos CUITs para que coincidan con los DNI.\n",
    "- __Cuit__: Decisión sobre dejar un cuit o volverlo DNI"
   ]
  },
  {
   "cell_type": "code",
   "execution_count": 56,
   "metadata": {},
   "outputs": [],
   "source": [
    "def tipo_doc_1 (string_dni):\n",
    "    \n",
    "    if 'DNI' in string_dni:\n",
    "        tipo = 'DNI'\n",
    "    \n",
    "    elif 'LC' in string_dni:\n",
    "        tipo = 'LC'\n",
    "    \n",
    "    elif 'LE' in string_dni:\n",
    "        tipo = 'LE'\n",
    "    \n",
    "    elif 'DNIE' in string_dni:\n",
    "        tipo = 'DNIE'    \n",
    "    \n",
    "    elif ((string_dni.startswith(('CUIT30','CUIT33','CUIT34'))) & (len(string_dni)>8)):\n",
    "        tipo = 'CUIT'\n",
    "        \n",
    "    elif ((string_dni.startswith(('30','33','34'))) & (len(string_dni)>8)):\n",
    "        tipo = 'CUIT'\n",
    "\n",
    "    elif ((string_dni.startswith(('20','23','24','27'))) & (len(string_dni)>8)):\n",
    "        tipo = 'DNI'\n",
    "\n",
    "    elif ((string_dni.startswith(('CUIT20','CUIT23','CUIT24','CUIT27'))) & (len(string_dni)>8)):\n",
    "        tipo = 'DNI'\n",
    "        \n",
    "    else:\n",
    "        tipo = 'DNI'\n",
    "    \n",
    "    return tipo"
   ]
  },
  {
   "cell_type": "code",
   "execution_count": 57,
   "metadata": {},
   "outputs": [],
   "source": [
    "def tipo_doc_2 (string_dni, tipo_original):\n",
    "    \n",
    "    if (len(string_dni) > 8) & (tipo_original == 'DNI'):\n",
    "        tipo = 'CUIT'\n",
    "    else:\n",
    "        tipo = tipo_original\n",
    "    return tipo"
   ]
  },
  {
   "cell_type": "code",
   "execution_count": 58,
   "metadata": {},
   "outputs": [],
   "source": [
    "def standard_dni (string_dni):\n",
    "    \"\"\"DNI separation by each case.\n",
    "    \"\"\"\n",
    "    \n",
    "    if 'DNI ' in string_dni:\n",
    "        dni = string_dni.split('DNI ')[1]\n",
    "        \n",
    "    elif 'DNIE' in string_dni:\n",
    "        dni = string_dni.split('DNIE')[1]\n",
    "    \n",
    "    elif 'DNI' in string_dni:\n",
    "        dni = string_dni.split('DNI')[1]\n",
    "    \n",
    "    elif 'LC  ' in string_dni:\n",
    "        dni = string_dni.split('LC  ')[1]\n",
    "    \n",
    "    elif 'LE  ' in string_dni:\n",
    "        dni = string_dni.split('LE  ')[1]\n",
    "    \n",
    "    elif 'CUIT' in string_dni:\n",
    "        dni = string_dni.split('CUIT')[1]\n",
    "        \n",
    "    else:\n",
    "        dni = string_dni\n",
    "        \n",
    "    return dni"
   ]
  },
  {
   "cell_type": "code",
   "execution_count": 59,
   "metadata": {},
   "outputs": [],
   "source": [
    "def dni_characters (string_dni):\n",
    "    \n",
    "    if ' ' in string_dni:\n",
    "        dni = string_dni.replace(' ','')\n",
    "        \n",
    "    elif '-' in string_dni:\n",
    "        dni = string_dni.replace('-','')\n",
    "\n",
    "    else:\n",
    "        dni = string_dni\n",
    "    \n",
    "    return dni"
   ]
  },
  {
   "cell_type": "code",
   "execution_count": 60,
   "metadata": {},
   "outputs": [],
   "source": [
    "def cuit (string_dni):\n",
    "    \n",
    "    if ((string_dni.startswith('20')) & (len(string_dni)>8)):\n",
    "        cuit = string_dni [2:-1]\n",
    "        \n",
    "    elif ((string_dni.startswith('23')) & (len(string_dni)>8)):\n",
    "        cuit = string_dni [2:-1]\n",
    "        \n",
    "    elif ((string_dni.startswith('24')) & (len(string_dni)>8)):\n",
    "        cuit = string_dni [2:-1]\n",
    "\n",
    "    elif ((string_dni.startswith('27')) & (len(string_dni)>8)):\n",
    "        cuit = string_dni [2:-1]\n",
    "\n",
    "    else:\n",
    "        cuit = string_dni\n",
    "        \n",
    "    return cuit"
   ]
  },
  {
   "cell_type": "code",
   "execution_count": 61,
   "metadata": {},
   "outputs": [],
   "source": [
    "def dni_zero (string_dni):\n",
    "    \n",
    "    if string_dni.startswith('0'):\n",
    "        dni = string_dni [1:]\n",
    "\n",
    "    else:\n",
    "        dni = string_dni\n",
    "    \n",
    "    return dni"
   ]
  },
  {
   "cell_type": "markdown",
   "metadata": {},
   "source": [
    "En primer lugar, trimmeamos los espacios que sobran:"
   ]
  },
  {
   "cell_type": "code",
   "execution_count": 62,
   "metadata": {},
   "outputs": [],
   "source": [
    "df_pyp['NRO_DOC'] = [(str(df_pyp['NRO_DOC'][i]).strip()) for i in range (df_pyp['NRO_DOC'].count())]"
   ]
  },
  {
   "cell_type": "markdown",
   "metadata": {},
   "source": [
    "Se implementan estas funciones:"
   ]
  },
  {
   "cell_type": "markdown",
   "metadata": {},
   "source": [
    "Para determinar el __TIPO DE DOCUMENTO__ en primer lugar:"
   ]
  },
  {
   "cell_type": "code",
   "execution_count": 63,
   "metadata": {},
   "outputs": [],
   "source": [
    "df_pyp['TIPO_DOC'] = [tipo_doc_1(df_pyp['NRO_DOC'][i]) for i in range (df_pyp['NRO_DOC'].count())]"
   ]
  },
  {
   "cell_type": "markdown",
   "metadata": {},
   "source": [
    "Para la limpieza de DNIs:"
   ]
  },
  {
   "cell_type": "code",
   "execution_count": 64,
   "metadata": {},
   "outputs": [],
   "source": [
    "df_pyp['NRO_DOC'] = [standard_dni(df_pyp['NRO_DOC'][i]) for i in range (df_pyp['NRO_DOC'].count())]"
   ]
  },
  {
   "cell_type": "code",
   "execution_count": 65,
   "metadata": {},
   "outputs": [],
   "source": [
    "df_pyp['NRO_DOC'] = [dni_characters(df_pyp['NRO_DOC'][i]) for i in range (df_pyp['NRO_DOC'].count())]"
   ]
  },
  {
   "cell_type": "code",
   "execution_count": 66,
   "metadata": {},
   "outputs": [],
   "source": [
    "df_pyp['NRO_DOC'] = [cuit(df_pyp['NRO_DOC'][i]) for i in range (df_pyp['NRO_DOC'].count())]"
   ]
  },
  {
   "cell_type": "code",
   "execution_count": 67,
   "metadata": {},
   "outputs": [],
   "source": [
    "df_pyp['NRO_DOC'] = [dni_zero(df_pyp['NRO_DOC'][i]) for i in range (df_pyp['NRO_DOC'].count())]"
   ]
  },
  {
   "cell_type": "markdown",
   "metadata": {},
   "source": [
    "Para corregir el __TIPO DE DOCUMENTO__ sobre el dataframe resultante"
   ]
  },
  {
   "cell_type": "code",
   "execution_count": 68,
   "metadata": {},
   "outputs": [],
   "source": [
    "df_pyp['TIPO_DOC'] = [tipo_doc_2(df_pyp['NRO_DOC'][i],df_pyp['TIPO_DOC'][i]) for i in range (df_pyp['NRO_DOC'].count())]"
   ]
  },
  {
   "cell_type": "code",
   "execution_count": 69,
   "metadata": {
    "scrolled": true
   },
   "outputs": [
    {
     "data": {
      "text/html": [
       "<div>\n",
       "<style scoped>\n",
       "    .dataframe tbody tr th:only-of-type {\n",
       "        vertical-align: middle;\n",
       "    }\n",
       "\n",
       "    .dataframe tbody tr th {\n",
       "        vertical-align: top;\n",
       "    }\n",
       "\n",
       "    .dataframe thead th {\n",
       "        text-align: right;\n",
       "    }\n",
       "</style>\n",
       "<table border=\"1\" class=\"dataframe\">\n",
       "  <thead>\n",
       "    <tr style=\"text-align: right;\">\n",
       "      <th></th>\n",
       "      <th>IDMOROSO</th>\n",
       "      <th>IDCLIENTE</th>\n",
       "      <th>NRO_DOC</th>\n",
       "      <th>TIPO_DOC</th>\n",
       "    </tr>\n",
       "  </thead>\n",
       "  <tbody>\n",
       "    <tr>\n",
       "      <th>0</th>\n",
       "      <td>DNI 14384837</td>\n",
       "      <td>FRANCES_2012</td>\n",
       "      <td>14384837</td>\n",
       "      <td>DNI</td>\n",
       "    </tr>\n",
       "    <tr>\n",
       "      <th>1</th>\n",
       "      <td>DNI 33803357</td>\n",
       "      <td>FRANCES_2012</td>\n",
       "      <td>33803357</td>\n",
       "      <td>DNI</td>\n",
       "    </tr>\n",
       "    <tr>\n",
       "      <th>2</th>\n",
       "      <td>DNI 34570749</td>\n",
       "      <td>FRANCES_2012</td>\n",
       "      <td>34570749</td>\n",
       "      <td>DNI</td>\n",
       "    </tr>\n",
       "    <tr>\n",
       "      <th>3</th>\n",
       "      <td>DNI 36991995</td>\n",
       "      <td>FRANCES_2012</td>\n",
       "      <td>36991995</td>\n",
       "      <td>DNI</td>\n",
       "    </tr>\n",
       "    <tr>\n",
       "      <th>4</th>\n",
       "      <td>DNI 40359046</td>\n",
       "      <td>FRANCES_2012</td>\n",
       "      <td>40359046</td>\n",
       "      <td>DNI</td>\n",
       "    </tr>\n",
       "  </tbody>\n",
       "</table>\n",
       "</div>"
      ],
      "text/plain": [
       "             IDMOROSO             IDCLIENTE   NRO_DOC TIPO_DOC\n",
       "0  DNI 14384837        FRANCES_2012          14384837      DNI\n",
       "1  DNI 33803357        FRANCES_2012          33803357      DNI\n",
       "2  DNI 34570749        FRANCES_2012          34570749      DNI\n",
       "3  DNI 36991995        FRANCES_2012          36991995      DNI\n",
       "4  DNI 40359046        FRANCES_2012          40359046      DNI"
      ]
     },
     "execution_count": 69,
     "metadata": {},
     "output_type": "execute_result"
    }
   ],
   "source": [
    "df_pyp.head()"
   ]
  },
  {
   "cell_type": "markdown",
   "metadata": {},
   "source": [
    "# 13) Union de Dataframes"
   ]
  },
  {
   "cell_type": "markdown",
   "metadata": {},
   "source": [
    "Se unen ambos dataframes en la columna NRO_DOC"
   ]
  },
  {
   "cell_type": "markdown",
   "metadata": {},
   "source": [
    "Convertimos la columna NRO_DOC de objeto a INT para hacer la unión"
   ]
  },
  {
   "cell_type": "code",
   "execution_count": 70,
   "metadata": {},
   "outputs": [],
   "source": [
    "df_clean = df_clean.astype({'NRO_DOC': 'str'})"
   ]
  },
  {
   "cell_type": "code",
   "execution_count": 71,
   "metadata": {},
   "outputs": [],
   "source": [
    "df_clean ['NRO_DOC'] = df_clean ['NRO_DOC'].str.split('.').str[0]"
   ]
  },
  {
   "cell_type": "code",
   "execution_count": 72,
   "metadata": {},
   "outputs": [],
   "source": [
    "df_union = pd.merge(df_clean,df_pyp, on='NRO_DOC', how='inner')"
   ]
  },
  {
   "cell_type": "code",
   "execution_count": 73,
   "metadata": {},
   "outputs": [
    {
     "data": {
      "text/plain": [
       "(225, 16)"
      ]
     },
     "execution_count": 73,
     "metadata": {},
     "output_type": "execute_result"
    }
   ],
   "source": [
    "df_union.shape"
   ]
  },
  {
   "cell_type": "code",
   "execution_count": 74,
   "metadata": {
    "scrolled": true
   },
   "outputs": [
    {
     "data": {
      "text/html": [
       "<div>\n",
       "<style scoped>\n",
       "    .dataframe tbody tr th:only-of-type {\n",
       "        vertical-align: middle;\n",
       "    }\n",
       "\n",
       "    .dataframe tbody tr th {\n",
       "        vertical-align: top;\n",
       "    }\n",
       "\n",
       "    .dataframe thead th {\n",
       "        text-align: right;\n",
       "    }\n",
       "</style>\n",
       "<table border=\"1\" class=\"dataframe\">\n",
       "  <thead>\n",
       "    <tr style=\"text-align: right;\">\n",
       "      <th></th>\n",
       "      <th>CUIT_CUIL</th>\n",
       "      <th>NRO_DOC</th>\n",
       "      <th>Titular</th>\n",
       "      <th>Dato</th>\n",
       "      <th>PROPIETARIO_DATO</th>\n",
       "      <th>PROVEEDOR_DATO</th>\n",
       "      <th>TIPO</th>\n",
       "      <th>SUBTIPO</th>\n",
       "      <th>SCORE_DATO</th>\n",
       "      <th>FECHA_INGRESO_DATO</th>\n",
       "      <th>VERIFICADO</th>\n",
       "      <th>FECHA_VERIFICACION</th>\n",
       "      <th>OPERADOR_VERIFICACION</th>\n",
       "      <th>IDMOROSO</th>\n",
       "      <th>IDCLIENTE</th>\n",
       "      <th>TIPO_DOC</th>\n",
       "    </tr>\n",
       "  </thead>\n",
       "  <tbody>\n",
       "    <tr>\n",
       "      <th>0</th>\n",
       "      <td>2.004174e+10</td>\n",
       "      <td>4173550</td>\n",
       "      <td>VISCONTI EDUARDO JUAN</td>\n",
       "      <td>evisconti@live.com.ar</td>\n",
       "      <td>Propio</td>\n",
       "      <td>AD</td>\n",
       "      <td>EMAIL</td>\n",
       "      <td>PERSONAL</td>\n",
       "      <td>2.0</td>\n",
       "      <td>2021-03-18 11:43:14.399932</td>\n",
       "      <td>0</td>\n",
       "      <td>NaN</td>\n",
       "      <td>NaN</td>\n",
       "      <td>RMS379977155103007</td>\n",
       "      <td>AMEX_TNLM</td>\n",
       "      <td>DNI</td>\n",
       "    </tr>\n",
       "    <tr>\n",
       "      <th>1</th>\n",
       "      <td>2.004200e+10</td>\n",
       "      <td>4200228</td>\n",
       "      <td>CACCHIONE MIGUEL ANGEL</td>\n",
       "      <td>gcacchione@yahoo.com</td>\n",
       "      <td>Propio</td>\n",
       "      <td>AD</td>\n",
       "      <td>EMAIL</td>\n",
       "      <td>PERSONAL</td>\n",
       "      <td>2.0</td>\n",
       "      <td>2021-03-18 11:43:14.399932</td>\n",
       "      <td>0</td>\n",
       "      <td>NaN</td>\n",
       "      <td>NaN</td>\n",
       "      <td>RMS376414200421005</td>\n",
       "      <td>AMEX_TNRM</td>\n",
       "      <td>DNI</td>\n",
       "    </tr>\n",
       "    <tr>\n",
       "      <th>2</th>\n",
       "      <td>2.704488e+10</td>\n",
       "      <td>4488073</td>\n",
       "      <td>BONZI MIRTHA CELIA</td>\n",
       "      <td>lilaureiro@hotmail.com</td>\n",
       "      <td>Propio</td>\n",
       "      <td>AD</td>\n",
       "      <td>EMAIL</td>\n",
       "      <td>PERSONAL</td>\n",
       "      <td>2.0</td>\n",
       "      <td>2021-03-18 11:43:14.399932</td>\n",
       "      <td>0</td>\n",
       "      <td>NaN</td>\n",
       "      <td>NaN</td>\n",
       "      <td>RMS376710794971002</td>\n",
       "      <td>AMEX_ALHR</td>\n",
       "      <td>DNI</td>\n",
       "    </tr>\n",
       "    <tr>\n",
       "      <th>3</th>\n",
       "      <td>2.704488e+10</td>\n",
       "      <td>4488073</td>\n",
       "      <td>BONZI MIRTHA CELIA</td>\n",
       "      <td>2marfil@live.com.ar</td>\n",
       "      <td>Ajeno_empleador</td>\n",
       "      <td>AD</td>\n",
       "      <td>EMAIL</td>\n",
       "      <td>PERSONAL</td>\n",
       "      <td>2.0</td>\n",
       "      <td>2021-03-18 11:43:14.399932</td>\n",
       "      <td>0</td>\n",
       "      <td>NaN</td>\n",
       "      <td>NaN</td>\n",
       "      <td>RMS376710794971002</td>\n",
       "      <td>AMEX_ALHR</td>\n",
       "      <td>DNI</td>\n",
       "    </tr>\n",
       "    <tr>\n",
       "      <th>4</th>\n",
       "      <td>2.005197e+10</td>\n",
       "      <td>5196895</td>\n",
       "      <td>CARPINETTI JULIO ALBERTO</td>\n",
       "      <td>carpinettijulio@gmail.com</td>\n",
       "      <td>Propio</td>\n",
       "      <td>AD</td>\n",
       "      <td>EMAIL</td>\n",
       "      <td>PERSONAL</td>\n",
       "      <td>2.0</td>\n",
       "      <td>2021-03-18 11:43:14.399932</td>\n",
       "      <td>0</td>\n",
       "      <td>NaN</td>\n",
       "      <td>NaN</td>\n",
       "      <td>RMS376415882132000</td>\n",
       "      <td>AMEX_PBRM</td>\n",
       "      <td>DNI</td>\n",
       "    </tr>\n",
       "  </tbody>\n",
       "</table>\n",
       "</div>"
      ],
      "text/plain": [
       "      CUIT_CUIL  NRO_DOC                   Titular                       Dato  \\\n",
       "0  2.004174e+10  4173550     VISCONTI EDUARDO JUAN      evisconti@live.com.ar   \n",
       "1  2.004200e+10  4200228    CACCHIONE MIGUEL ANGEL       gcacchione@yahoo.com   \n",
       "2  2.704488e+10  4488073        BONZI MIRTHA CELIA     lilaureiro@hotmail.com   \n",
       "3  2.704488e+10  4488073        BONZI MIRTHA CELIA        2marfil@live.com.ar   \n",
       "4  2.005197e+10  5196895  CARPINETTI JULIO ALBERTO  carpinettijulio@gmail.com   \n",
       "\n",
       "  PROPIETARIO_DATO PROVEEDOR_DATO   TIPO   SUBTIPO  SCORE_DATO  \\\n",
       "0           Propio             AD  EMAIL  PERSONAL         2.0   \n",
       "1           Propio             AD  EMAIL  PERSONAL         2.0   \n",
       "2           Propio             AD  EMAIL  PERSONAL         2.0   \n",
       "3  Ajeno_empleador             AD  EMAIL  PERSONAL         2.0   \n",
       "4           Propio             AD  EMAIL  PERSONAL         2.0   \n",
       "\n",
       "          FECHA_INGRESO_DATO  VERIFICADO  FECHA_VERIFICACION  \\\n",
       "0 2021-03-18 11:43:14.399932           0                 NaN   \n",
       "1 2021-03-18 11:43:14.399932           0                 NaN   \n",
       "2 2021-03-18 11:43:14.399932           0                 NaN   \n",
       "3 2021-03-18 11:43:14.399932           0                 NaN   \n",
       "4 2021-03-18 11:43:14.399932           0                 NaN   \n",
       "\n",
       "   OPERADOR_VERIFICACION            IDMOROSO             IDCLIENTE TIPO_DOC  \n",
       "0                    NaN  RMS379977155103007  AMEX_TNLM                 DNI  \n",
       "1                    NaN  RMS376414200421005  AMEX_TNRM                 DNI  \n",
       "2                    NaN  RMS376710794971002  AMEX_ALHR                 DNI  \n",
       "3                    NaN  RMS376710794971002  AMEX_ALHR                 DNI  \n",
       "4                    NaN  RMS376415882132000  AMEX_PBRM                 DNI  "
      ]
     },
     "execution_count": 74,
     "metadata": {},
     "output_type": "execute_result"
    }
   ],
   "source": [
    "df_union.head()"
   ]
  },
  {
   "cell_type": "markdown",
   "metadata": {},
   "source": [
    "# 14) Export"
   ]
  },
  {
   "cell_type": "markdown",
   "metadata": {},
   "source": [
    "Renombramos, dropeamos y reordenamos las columnas"
   ]
  },
  {
   "cell_type": "code",
   "execution_count": 75,
   "metadata": {},
   "outputs": [],
   "source": [
    "df_union = df_union.rename(columns = {'Dato':'DATO'})"
   ]
  },
  {
   "cell_type": "markdown",
   "metadata": {},
   "source": [
    "Dropeamos columnas que no nos sirven"
   ]
  },
  {
   "cell_type": "code",
   "execution_count": 76,
   "metadata": {},
   "outputs": [],
   "source": [
    "df_export = df_union.drop(columns=['IDCLIENTE'], axis=0)"
   ]
  },
  {
   "cell_type": "code",
   "execution_count": 77,
   "metadata": {
    "scrolled": true
   },
   "outputs": [],
   "source": [
    "df_export = df_export[['IDMOROSO', 'TIPO_DOC','NRO_DOC','CUIT_CUIL','TIPO','SUBTIPO','DATO','PROPIETARIO_DATO','PROVEEDOR_DATO','FECHA_INGRESO_DATO','VERIFICADO','FECHA_VERIFICACION','OPERADOR_VERIFICACION','SCORE_DATO']]"
   ]
  },
  {
   "cell_type": "code",
   "execution_count": 78,
   "metadata": {},
   "outputs": [
    {
     "data": {
      "text/html": [
       "<div>\n",
       "<style scoped>\n",
       "    .dataframe tbody tr th:only-of-type {\n",
       "        vertical-align: middle;\n",
       "    }\n",
       "\n",
       "    .dataframe tbody tr th {\n",
       "        vertical-align: top;\n",
       "    }\n",
       "\n",
       "    .dataframe thead th {\n",
       "        text-align: right;\n",
       "    }\n",
       "</style>\n",
       "<table border=\"1\" class=\"dataframe\">\n",
       "  <thead>\n",
       "    <tr style=\"text-align: right;\">\n",
       "      <th></th>\n",
       "      <th>IDMOROSO</th>\n",
       "      <th>TIPO_DOC</th>\n",
       "      <th>NRO_DOC</th>\n",
       "      <th>CUIT_CUIL</th>\n",
       "      <th>TIPO</th>\n",
       "      <th>SUBTIPO</th>\n",
       "      <th>DATO</th>\n",
       "      <th>PROPIETARIO_DATO</th>\n",
       "      <th>PROVEEDOR_DATO</th>\n",
       "      <th>FECHA_INGRESO_DATO</th>\n",
       "      <th>VERIFICADO</th>\n",
       "      <th>FECHA_VERIFICACION</th>\n",
       "      <th>OPERADOR_VERIFICACION</th>\n",
       "      <th>SCORE_DATO</th>\n",
       "    </tr>\n",
       "  </thead>\n",
       "  <tbody>\n",
       "    <tr>\n",
       "      <th>0</th>\n",
       "      <td>RMS379977155103007</td>\n",
       "      <td>DNI</td>\n",
       "      <td>4173550</td>\n",
       "      <td>2.004174e+10</td>\n",
       "      <td>EMAIL</td>\n",
       "      <td>PERSONAL</td>\n",
       "      <td>evisconti@live.com.ar</td>\n",
       "      <td>Propio</td>\n",
       "      <td>AD</td>\n",
       "      <td>2021-03-18 11:43:14.399932</td>\n",
       "      <td>0</td>\n",
       "      <td>NaN</td>\n",
       "      <td>NaN</td>\n",
       "      <td>2.0</td>\n",
       "    </tr>\n",
       "    <tr>\n",
       "      <th>1</th>\n",
       "      <td>RMS376414200421005</td>\n",
       "      <td>DNI</td>\n",
       "      <td>4200228</td>\n",
       "      <td>2.004200e+10</td>\n",
       "      <td>EMAIL</td>\n",
       "      <td>PERSONAL</td>\n",
       "      <td>gcacchione@yahoo.com</td>\n",
       "      <td>Propio</td>\n",
       "      <td>AD</td>\n",
       "      <td>2021-03-18 11:43:14.399932</td>\n",
       "      <td>0</td>\n",
       "      <td>NaN</td>\n",
       "      <td>NaN</td>\n",
       "      <td>2.0</td>\n",
       "    </tr>\n",
       "    <tr>\n",
       "      <th>2</th>\n",
       "      <td>RMS376710794971002</td>\n",
       "      <td>DNI</td>\n",
       "      <td>4488073</td>\n",
       "      <td>2.704488e+10</td>\n",
       "      <td>EMAIL</td>\n",
       "      <td>PERSONAL</td>\n",
       "      <td>lilaureiro@hotmail.com</td>\n",
       "      <td>Propio</td>\n",
       "      <td>AD</td>\n",
       "      <td>2021-03-18 11:43:14.399932</td>\n",
       "      <td>0</td>\n",
       "      <td>NaN</td>\n",
       "      <td>NaN</td>\n",
       "      <td>2.0</td>\n",
       "    </tr>\n",
       "    <tr>\n",
       "      <th>3</th>\n",
       "      <td>RMS376710794971002</td>\n",
       "      <td>DNI</td>\n",
       "      <td>4488073</td>\n",
       "      <td>2.704488e+10</td>\n",
       "      <td>EMAIL</td>\n",
       "      <td>PERSONAL</td>\n",
       "      <td>2marfil@live.com.ar</td>\n",
       "      <td>Ajeno_empleador</td>\n",
       "      <td>AD</td>\n",
       "      <td>2021-03-18 11:43:14.399932</td>\n",
       "      <td>0</td>\n",
       "      <td>NaN</td>\n",
       "      <td>NaN</td>\n",
       "      <td>2.0</td>\n",
       "    </tr>\n",
       "    <tr>\n",
       "      <th>4</th>\n",
       "      <td>RMS376415882132000</td>\n",
       "      <td>DNI</td>\n",
       "      <td>5196895</td>\n",
       "      <td>2.005197e+10</td>\n",
       "      <td>EMAIL</td>\n",
       "      <td>PERSONAL</td>\n",
       "      <td>carpinettijulio@gmail.com</td>\n",
       "      <td>Propio</td>\n",
       "      <td>AD</td>\n",
       "      <td>2021-03-18 11:43:14.399932</td>\n",
       "      <td>0</td>\n",
       "      <td>NaN</td>\n",
       "      <td>NaN</td>\n",
       "      <td>2.0</td>\n",
       "    </tr>\n",
       "  </tbody>\n",
       "</table>\n",
       "</div>"
      ],
      "text/plain": [
       "             IDMOROSO TIPO_DOC  NRO_DOC     CUIT_CUIL   TIPO   SUBTIPO  \\\n",
       "0  RMS379977155103007      DNI  4173550  2.004174e+10  EMAIL  PERSONAL   \n",
       "1  RMS376414200421005      DNI  4200228  2.004200e+10  EMAIL  PERSONAL   \n",
       "2  RMS376710794971002      DNI  4488073  2.704488e+10  EMAIL  PERSONAL   \n",
       "3  RMS376710794971002      DNI  4488073  2.704488e+10  EMAIL  PERSONAL   \n",
       "4  RMS376415882132000      DNI  5196895  2.005197e+10  EMAIL  PERSONAL   \n",
       "\n",
       "                        DATO PROPIETARIO_DATO PROVEEDOR_DATO  \\\n",
       "0      evisconti@live.com.ar           Propio             AD   \n",
       "1       gcacchione@yahoo.com           Propio             AD   \n",
       "2     lilaureiro@hotmail.com           Propio             AD   \n",
       "3        2marfil@live.com.ar  Ajeno_empleador             AD   \n",
       "4  carpinettijulio@gmail.com           Propio             AD   \n",
       "\n",
       "          FECHA_INGRESO_DATO  VERIFICADO  FECHA_VERIFICACION  \\\n",
       "0 2021-03-18 11:43:14.399932           0                 NaN   \n",
       "1 2021-03-18 11:43:14.399932           0                 NaN   \n",
       "2 2021-03-18 11:43:14.399932           0                 NaN   \n",
       "3 2021-03-18 11:43:14.399932           0                 NaN   \n",
       "4 2021-03-18 11:43:14.399932           0                 NaN   \n",
       "\n",
       "   OPERADOR_VERIFICACION  SCORE_DATO  \n",
       "0                    NaN         2.0  \n",
       "1                    NaN         2.0  \n",
       "2                    NaN         2.0  \n",
       "3                    NaN         2.0  \n",
       "4                    NaN         2.0  "
      ]
     },
     "execution_count": 78,
     "metadata": {},
     "output_type": "execute_result"
    }
   ],
   "source": [
    "df_export.head()"
   ]
  },
  {
   "cell_type": "code",
   "execution_count": 79,
   "metadata": {
    "scrolled": true
   },
   "outputs": [
    {
     "data": {
      "text/plain": [
       "(225, 14)"
      ]
     },
     "execution_count": 79,
     "metadata": {},
     "output_type": "execute_result"
    }
   ],
   "source": [
    "df_export.shape"
   ]
  },
  {
   "cell_type": "markdown",
   "metadata": {},
   "source": [
    "Número a str para no tener problemas con la inserción"
   ]
  },
  {
   "cell_type": "code",
   "execution_count": 80,
   "metadata": {},
   "outputs": [],
   "source": [
    "df_export['CUIT_CUIL'] = [(str(int(round(df_export['CUIT_CUIL'][i],0)))) for i in range (df_export['CUIT_CUIL'].count())]"
   ]
  },
  {
   "cell_type": "code",
   "execution_count": 81,
   "metadata": {},
   "outputs": [
    {
     "data": {
      "text/html": [
       "<div>\n",
       "<style scoped>\n",
       "    .dataframe tbody tr th:only-of-type {\n",
       "        vertical-align: middle;\n",
       "    }\n",
       "\n",
       "    .dataframe tbody tr th {\n",
       "        vertical-align: top;\n",
       "    }\n",
       "\n",
       "    .dataframe thead th {\n",
       "        text-align: right;\n",
       "    }\n",
       "</style>\n",
       "<table border=\"1\" class=\"dataframe\">\n",
       "  <thead>\n",
       "    <tr style=\"text-align: right;\">\n",
       "      <th></th>\n",
       "      <th>IDMOROSO</th>\n",
       "      <th>TIPO_DOC</th>\n",
       "      <th>NRO_DOC</th>\n",
       "      <th>CUIT_CUIL</th>\n",
       "      <th>TIPO</th>\n",
       "      <th>SUBTIPO</th>\n",
       "      <th>DATO</th>\n",
       "      <th>PROPIETARIO_DATO</th>\n",
       "      <th>PROVEEDOR_DATO</th>\n",
       "      <th>FECHA_INGRESO_DATO</th>\n",
       "      <th>VERIFICADO</th>\n",
       "      <th>FECHA_VERIFICACION</th>\n",
       "      <th>OPERADOR_VERIFICACION</th>\n",
       "      <th>SCORE_DATO</th>\n",
       "    </tr>\n",
       "  </thead>\n",
       "  <tbody>\n",
       "    <tr>\n",
       "      <th>220</th>\n",
       "      <td>RMS376686863222008</td>\n",
       "      <td>DNI</td>\n",
       "      <td>17588606</td>\n",
       "      <td>27175886066</td>\n",
       "      <td>EMAIL</td>\n",
       "      <td>PERSONAL</td>\n",
       "      <td>jorgecatan@hotmail.com</td>\n",
       "      <td>Ajeno_familiar</td>\n",
       "      <td>AD</td>\n",
       "      <td>2021-03-18 11:43:14.399932</td>\n",
       "      <td>0</td>\n",
       "      <td>NaN</td>\n",
       "      <td>NaN</td>\n",
       "      <td>2.0</td>\n",
       "    </tr>\n",
       "    <tr>\n",
       "      <th>221</th>\n",
       "      <td>DNI 18245569</td>\n",
       "      <td>DNI</td>\n",
       "      <td>18245569</td>\n",
       "      <td>20182455696</td>\n",
       "      <td>EMAIL</td>\n",
       "      <td>PERSONAL</td>\n",
       "      <td>estudio.julia@gmail.com</td>\n",
       "      <td>Ajeno_familiar</td>\n",
       "      <td>AD</td>\n",
       "      <td>2021-03-18 11:43:14.399932</td>\n",
       "      <td>0</td>\n",
       "      <td>NaN</td>\n",
       "      <td>NaN</td>\n",
       "      <td>2.0</td>\n",
       "    </tr>\n",
       "    <tr>\n",
       "      <th>222</th>\n",
       "      <td>RMS376710733791008</td>\n",
       "      <td>DNI</td>\n",
       "      <td>37537598</td>\n",
       "      <td>20375375983</td>\n",
       "      <td>EMAIL</td>\n",
       "      <td>PERSONAL</td>\n",
       "      <td>pato_pds@hotmail.com</td>\n",
       "      <td>Ajeno_familiar</td>\n",
       "      <td>AD</td>\n",
       "      <td>2021-03-18 11:43:14.399932</td>\n",
       "      <td>0</td>\n",
       "      <td>NaN</td>\n",
       "      <td>NaN</td>\n",
       "      <td>2.0</td>\n",
       "    </tr>\n",
       "    <tr>\n",
       "      <th>223</th>\n",
       "      <td>DNI 41702906</td>\n",
       "      <td>DNI</td>\n",
       "      <td>41702906</td>\n",
       "      <td>20417029061</td>\n",
       "      <td>EMAIL</td>\n",
       "      <td>PERSONAL</td>\n",
       "      <td>marianofirpo@hotmail.com</td>\n",
       "      <td>Ajeno_familiar</td>\n",
       "      <td>AD</td>\n",
       "      <td>2021-03-18 11:43:14.399932</td>\n",
       "      <td>0</td>\n",
       "      <td>NaN</td>\n",
       "      <td>NaN</td>\n",
       "      <td>2.0</td>\n",
       "    </tr>\n",
       "    <tr>\n",
       "      <th>224</th>\n",
       "      <td>DNI 42585952</td>\n",
       "      <td>DNI</td>\n",
       "      <td>42585952</td>\n",
       "      <td>20425859529</td>\n",
       "      <td>EMAIL</td>\n",
       "      <td>PERSONAL</td>\n",
       "      <td>maxilartigue@gmail.com</td>\n",
       "      <td>Ajeno_familiar</td>\n",
       "      <td>AD</td>\n",
       "      <td>2021-03-18 11:43:14.399932</td>\n",
       "      <td>0</td>\n",
       "      <td>NaN</td>\n",
       "      <td>NaN</td>\n",
       "      <td>2.0</td>\n",
       "    </tr>\n",
       "  </tbody>\n",
       "</table>\n",
       "</div>"
      ],
      "text/plain": [
       "               IDMOROSO TIPO_DOC   NRO_DOC    CUIT_CUIL   TIPO   SUBTIPO  \\\n",
       "220  RMS376686863222008      DNI  17588606  27175886066  EMAIL  PERSONAL   \n",
       "221  DNI 18245569            DNI  18245569  20182455696  EMAIL  PERSONAL   \n",
       "222  RMS376710733791008      DNI  37537598  20375375983  EMAIL  PERSONAL   \n",
       "223  DNI 41702906            DNI  41702906  20417029061  EMAIL  PERSONAL   \n",
       "224  DNI 42585952            DNI  42585952  20425859529  EMAIL  PERSONAL   \n",
       "\n",
       "                         DATO PROPIETARIO_DATO PROVEEDOR_DATO  \\\n",
       "220    jorgecatan@hotmail.com   Ajeno_familiar             AD   \n",
       "221   estudio.julia@gmail.com   Ajeno_familiar             AD   \n",
       "222      pato_pds@hotmail.com   Ajeno_familiar             AD   \n",
       "223  marianofirpo@hotmail.com   Ajeno_familiar             AD   \n",
       "224    maxilartigue@gmail.com   Ajeno_familiar             AD   \n",
       "\n",
       "            FECHA_INGRESO_DATO  VERIFICADO  FECHA_VERIFICACION  \\\n",
       "220 2021-03-18 11:43:14.399932           0                 NaN   \n",
       "221 2021-03-18 11:43:14.399932           0                 NaN   \n",
       "222 2021-03-18 11:43:14.399932           0                 NaN   \n",
       "223 2021-03-18 11:43:14.399932           0                 NaN   \n",
       "224 2021-03-18 11:43:14.399932           0                 NaN   \n",
       "\n",
       "     OPERADOR_VERIFICACION  SCORE_DATO  \n",
       "220                    NaN         2.0  \n",
       "221                    NaN         2.0  \n",
       "222                    NaN         2.0  \n",
       "223                    NaN         2.0  \n",
       "224                    NaN         2.0  "
      ]
     },
     "execution_count": 81,
     "metadata": {},
     "output_type": "execute_result"
    }
   ],
   "source": [
    "df_export.tail()"
   ]
  },
  {
   "cell_type": "markdown",
   "metadata": {},
   "source": [
    "Dropeamos filas duplicadas"
   ]
  },
  {
   "cell_type": "code",
   "execution_count": 82,
   "metadata": {},
   "outputs": [],
   "source": [
    "df_export = df_export.drop_duplicates()"
   ]
  },
  {
   "cell_type": "code",
   "execution_count": 83,
   "metadata": {},
   "outputs": [
    {
     "data": {
      "text/plain": [
       "(225, 14)"
      ]
     },
     "execution_count": 83,
     "metadata": {},
     "output_type": "execute_result"
    }
   ],
   "source": [
    "df_export.shape"
   ]
  },
  {
   "cell_type": "markdown",
   "metadata": {},
   "source": [
    "## Dato a str + strip()"
   ]
  },
  {
   "cell_type": "code",
   "execution_count": 84,
   "metadata": {},
   "outputs": [],
   "source": [
    "df_export ['DATO'] = df_export['DATO'].str.strip()"
   ]
  },
  {
   "cell_type": "markdown",
   "metadata": {},
   "source": [
    "# Revisión de duplicados"
   ]
  },
  {
   "cell_type": "code",
   "execution_count": 85,
   "metadata": {},
   "outputs": [],
   "source": [
    "duplicates_subset = df_export[df_export.duplicated(subset=['IDMOROSO','DATO','PROVEEDOR_DATO'],keep=False)]"
   ]
  },
  {
   "cell_type": "code",
   "execution_count": 86,
   "metadata": {
    "scrolled": false
   },
   "outputs": [
    {
     "data": {
      "text/html": [
       "<div>\n",
       "<style scoped>\n",
       "    .dataframe tbody tr th:only-of-type {\n",
       "        vertical-align: middle;\n",
       "    }\n",
       "\n",
       "    .dataframe tbody tr th {\n",
       "        vertical-align: top;\n",
       "    }\n",
       "\n",
       "    .dataframe thead th {\n",
       "        text-align: right;\n",
       "    }\n",
       "</style>\n",
       "<table border=\"1\" class=\"dataframe\">\n",
       "  <thead>\n",
       "    <tr style=\"text-align: right;\">\n",
       "      <th></th>\n",
       "      <th>IDMOROSO</th>\n",
       "      <th>TIPO_DOC</th>\n",
       "      <th>NRO_DOC</th>\n",
       "      <th>CUIT_CUIL</th>\n",
       "      <th>TIPO</th>\n",
       "      <th>SUBTIPO</th>\n",
       "      <th>DATO</th>\n",
       "      <th>PROPIETARIO_DATO</th>\n",
       "      <th>PROVEEDOR_DATO</th>\n",
       "      <th>FECHA_INGRESO_DATO</th>\n",
       "      <th>VERIFICADO</th>\n",
       "      <th>FECHA_VERIFICACION</th>\n",
       "      <th>OPERADOR_VERIFICACION</th>\n",
       "      <th>SCORE_DATO</th>\n",
       "    </tr>\n",
       "  </thead>\n",
       "  <tbody>\n",
       "    <tr>\n",
       "      <th>37</th>\n",
       "      <td>RMS379975022111005</td>\n",
       "      <td>DNI</td>\n",
       "      <td>17824698</td>\n",
       "      <td>23178246984</td>\n",
       "      <td>EMAIL</td>\n",
       "      <td>PERSONAL</td>\n",
       "      <td>lecita2830@hotmail.com</td>\n",
       "      <td>Propio</td>\n",
       "      <td>AD</td>\n",
       "      <td>2021-03-18 11:43:14.399932</td>\n",
       "      <td>0</td>\n",
       "      <td>NaN</td>\n",
       "      <td>NaN</td>\n",
       "      <td>2.0</td>\n",
       "    </tr>\n",
       "    <tr>\n",
       "      <th>38</th>\n",
       "      <td>RMS379975022111005</td>\n",
       "      <td>DNI</td>\n",
       "      <td>17824698</td>\n",
       "      <td>23178246984</td>\n",
       "      <td>EMAIL</td>\n",
       "      <td>PERSONAL</td>\n",
       "      <td>lecita2830@hotmail.com</td>\n",
       "      <td>Ajeno_familiar</td>\n",
       "      <td>AD</td>\n",
       "      <td>2021-03-18 11:43:14.399932</td>\n",
       "      <td>0</td>\n",
       "      <td>NaN</td>\n",
       "      <td>NaN</td>\n",
       "      <td>2.0</td>\n",
       "    </tr>\n",
       "    <tr>\n",
       "      <th>59</th>\n",
       "      <td>RMS376411672956005</td>\n",
       "      <td>DNI</td>\n",
       "      <td>23703051</td>\n",
       "      <td>20237030517</td>\n",
       "      <td>EMAIL</td>\n",
       "      <td>PERSONAL</td>\n",
       "      <td>jorgebenafit@hotmail.com</td>\n",
       "      <td>Propio</td>\n",
       "      <td>AD</td>\n",
       "      <td>2021-03-18 11:43:14.399932</td>\n",
       "      <td>0</td>\n",
       "      <td>NaN</td>\n",
       "      <td>NaN</td>\n",
       "      <td>2.0</td>\n",
       "    </tr>\n",
       "    <tr>\n",
       "      <th>60</th>\n",
       "      <td>RMS376411672956005</td>\n",
       "      <td>DNI</td>\n",
       "      <td>23703051</td>\n",
       "      <td>20237030517</td>\n",
       "      <td>EMAIL</td>\n",
       "      <td>PERSONAL</td>\n",
       "      <td>jorgebenafit@hotmail.com</td>\n",
       "      <td>Ajeno_familiar</td>\n",
       "      <td>AD</td>\n",
       "      <td>2021-03-18 11:43:14.399932</td>\n",
       "      <td>0</td>\n",
       "      <td>NaN</td>\n",
       "      <td>NaN</td>\n",
       "      <td>2.0</td>\n",
       "    </tr>\n",
       "    <tr>\n",
       "      <th>87</th>\n",
       "      <td>RMS376418687472001</td>\n",
       "      <td>DNI</td>\n",
       "      <td>29656827</td>\n",
       "      <td>23296568279</td>\n",
       "      <td>EMAIL</td>\n",
       "      <td>PERSONAL</td>\n",
       "      <td>diegolivio@gmail.com</td>\n",
       "      <td>Propio</td>\n",
       "      <td>AD</td>\n",
       "      <td>2021-03-18 11:43:14.399932</td>\n",
       "      <td>0</td>\n",
       "      <td>NaN</td>\n",
       "      <td>NaN</td>\n",
       "      <td>2.0</td>\n",
       "    </tr>\n",
       "    <tr>\n",
       "      <th>88</th>\n",
       "      <td>RMS376418687472001</td>\n",
       "      <td>DNI</td>\n",
       "      <td>29656827</td>\n",
       "      <td>23296568279</td>\n",
       "      <td>EMAIL</td>\n",
       "      <td>PERSONAL</td>\n",
       "      <td>diegolivio@gmail.com</td>\n",
       "      <td>Ajeno_familiar</td>\n",
       "      <td>AD</td>\n",
       "      <td>2021-03-18 11:43:14.399932</td>\n",
       "      <td>0</td>\n",
       "      <td>NaN</td>\n",
       "      <td>NaN</td>\n",
       "      <td>2.0</td>\n",
       "    </tr>\n",
       "    <tr>\n",
       "      <th>106</th>\n",
       "      <td>RMS376414956232002</td>\n",
       "      <td>DNI</td>\n",
       "      <td>34308233</td>\n",
       "      <td>27343082334</td>\n",
       "      <td>EMAIL</td>\n",
       "      <td>PERSONAL</td>\n",
       "      <td>agustinabenedetti@hotmail.com</td>\n",
       "      <td>Propio</td>\n",
       "      <td>AD</td>\n",
       "      <td>2021-03-18 11:43:14.399932</td>\n",
       "      <td>0</td>\n",
       "      <td>NaN</td>\n",
       "      <td>NaN</td>\n",
       "      <td>2.0</td>\n",
       "    </tr>\n",
       "    <tr>\n",
       "      <th>108</th>\n",
       "      <td>RMS376414956232002</td>\n",
       "      <td>DNI</td>\n",
       "      <td>34308233</td>\n",
       "      <td>27343082334</td>\n",
       "      <td>EMAIL</td>\n",
       "      <td>PERSONAL</td>\n",
       "      <td>agustinabenedetti@hotmail.com</td>\n",
       "      <td>Ajeno_familiar</td>\n",
       "      <td>AD</td>\n",
       "      <td>2021-03-18 11:43:14.399932</td>\n",
       "      <td>0</td>\n",
       "      <td>NaN</td>\n",
       "      <td>NaN</td>\n",
       "      <td>2.0</td>\n",
       "    </tr>\n",
       "  </tbody>\n",
       "</table>\n",
       "</div>"
      ],
      "text/plain": [
       "               IDMOROSO TIPO_DOC   NRO_DOC    CUIT_CUIL   TIPO   SUBTIPO  \\\n",
       "37   RMS379975022111005      DNI  17824698  23178246984  EMAIL  PERSONAL   \n",
       "38   RMS379975022111005      DNI  17824698  23178246984  EMAIL  PERSONAL   \n",
       "59   RMS376411672956005      DNI  23703051  20237030517  EMAIL  PERSONAL   \n",
       "60   RMS376411672956005      DNI  23703051  20237030517  EMAIL  PERSONAL   \n",
       "87   RMS376418687472001      DNI  29656827  23296568279  EMAIL  PERSONAL   \n",
       "88   RMS376418687472001      DNI  29656827  23296568279  EMAIL  PERSONAL   \n",
       "106  RMS376414956232002      DNI  34308233  27343082334  EMAIL  PERSONAL   \n",
       "108  RMS376414956232002      DNI  34308233  27343082334  EMAIL  PERSONAL   \n",
       "\n",
       "                              DATO PROPIETARIO_DATO PROVEEDOR_DATO  \\\n",
       "37          lecita2830@hotmail.com           Propio             AD   \n",
       "38          lecita2830@hotmail.com   Ajeno_familiar             AD   \n",
       "59        jorgebenafit@hotmail.com           Propio             AD   \n",
       "60        jorgebenafit@hotmail.com   Ajeno_familiar             AD   \n",
       "87            diegolivio@gmail.com           Propio             AD   \n",
       "88            diegolivio@gmail.com   Ajeno_familiar             AD   \n",
       "106  agustinabenedetti@hotmail.com           Propio             AD   \n",
       "108  agustinabenedetti@hotmail.com   Ajeno_familiar             AD   \n",
       "\n",
       "            FECHA_INGRESO_DATO  VERIFICADO  FECHA_VERIFICACION  \\\n",
       "37  2021-03-18 11:43:14.399932           0                 NaN   \n",
       "38  2021-03-18 11:43:14.399932           0                 NaN   \n",
       "59  2021-03-18 11:43:14.399932           0                 NaN   \n",
       "60  2021-03-18 11:43:14.399932           0                 NaN   \n",
       "87  2021-03-18 11:43:14.399932           0                 NaN   \n",
       "88  2021-03-18 11:43:14.399932           0                 NaN   \n",
       "106 2021-03-18 11:43:14.399932           0                 NaN   \n",
       "108 2021-03-18 11:43:14.399932           0                 NaN   \n",
       "\n",
       "     OPERADOR_VERIFICACION  SCORE_DATO  \n",
       "37                     NaN         2.0  \n",
       "38                     NaN         2.0  \n",
       "59                     NaN         2.0  \n",
       "60                     NaN         2.0  \n",
       "87                     NaN         2.0  \n",
       "88                     NaN         2.0  \n",
       "106                    NaN         2.0  \n",
       "108                    NaN         2.0  "
      ]
     },
     "execution_count": 86,
     "metadata": {},
     "output_type": "execute_result"
    }
   ],
   "source": [
    "duplicates_subset"
   ]
  },
  {
   "cell_type": "markdown",
   "metadata": {},
   "source": [
    "Tenemos pocos duplicados, lo solucionamos manualmente"
   ]
  },
  {
   "cell_type": "code",
   "execution_count": 87,
   "metadata": {
    "scrolled": true
   },
   "outputs": [
    {
     "data": {
      "text/plain": [
       "(8, 14)"
      ]
     },
     "execution_count": 87,
     "metadata": {},
     "output_type": "execute_result"
    }
   ],
   "source": [
    "duplicates_subset.shape"
   ]
  },
  {
   "cell_type": "code",
   "execution_count": 88,
   "metadata": {},
   "outputs": [],
   "source": [
    "df_export = df_export.drop([38,60,88,108])"
   ]
  },
  {
   "cell_type": "code",
   "execution_count": 89,
   "metadata": {},
   "outputs": [
    {
     "data": {
      "text/plain": [
       "(221, 14)"
      ]
     },
     "execution_count": 89,
     "metadata": {},
     "output_type": "execute_result"
    }
   ],
   "source": [
    "df_export.shape"
   ]
  },
  {
   "cell_type": "markdown",
   "metadata": {},
   "source": [
    "## 14.2) Insert a tabla DAM_CONTACTABILIDAD:"
   ]
  },
  {
   "cell_type": "code",
   "execution_count": 90,
   "metadata": {},
   "outputs": [],
   "source": [
    "df_export.to_csv('/mnt/c/users/Dleg/Data/MOPC/MOPC/Enriquecimiento de Datos/Data Cleaning/Insiders/Exports/DAM_CONTACTABILIDAD/Insiders_DAM_CONTACTABILIDAD_mails_1803.csv',index=False)"
   ]
  },
  {
   "cell_type": "code",
   "execution_count": null,
   "metadata": {},
   "outputs": [],
   "source": []
  }
 ],
 "metadata": {
  "kernelspec": {
   "display_name": "Python 3",
   "language": "python",
   "name": "python3"
  },
  "language_info": {
   "codemirror_mode": {
    "name": "ipython",
    "version": 3
   },
   "file_extension": ".py",
   "mimetype": "text/x-python",
   "name": "python",
   "nbconvert_exporter": "python",
   "pygments_lexer": "ipython3",
   "version": "3.8.6"
  }
 },
 "nbformat": 4,
 "nbformat_minor": 4
}
