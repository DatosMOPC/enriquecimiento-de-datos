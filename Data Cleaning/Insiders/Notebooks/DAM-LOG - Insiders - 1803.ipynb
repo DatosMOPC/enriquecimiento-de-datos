{
 "cells": [
  {
   "cell_type": "code",
   "execution_count": 1,
   "metadata": {},
   "outputs": [],
   "source": [
    "import pandas as pd\n",
    "import numpy as np"
   ]
  },
  {
   "cell_type": "markdown",
   "metadata": {},
   "source": [
    "# LOG"
   ]
  },
  {
   "cell_type": "markdown",
   "metadata": {},
   "source": [
    "# 1. Datos enviados"
   ]
  },
  {
   "cell_type": "code",
   "execution_count": 2,
   "metadata": {},
   "outputs": [],
   "source": [
    "df_log = pd.read_csv('/mnt/c/users/Dleg/Data/MOPC/MOPC/Enriquecimiento de Datos/Data Cleaning/Insiders/Datasets/Datasets enviados/Envio Insiders - Estado-IDCliente - 1603.csv')"
   ]
  },
  {
   "cell_type": "code",
   "execution_count": 3,
   "metadata": {
    "scrolled": true
   },
   "outputs": [
    {
     "data": {
      "text/html": [
       "<div>\n",
       "<style scoped>\n",
       "    .dataframe tbody tr th:only-of-type {\n",
       "        vertical-align: middle;\n",
       "    }\n",
       "\n",
       "    .dataframe tbody tr th {\n",
       "        vertical-align: top;\n",
       "    }\n",
       "\n",
       "    .dataframe thead th {\n",
       "        text-align: right;\n",
       "    }\n",
       "</style>\n",
       "<table border=\"1\" class=\"dataframe\">\n",
       "  <thead>\n",
       "    <tr style=\"text-align: right;\">\n",
       "      <th></th>\n",
       "      <th>IDMOROSO</th>\n",
       "      <th>NOMBRE</th>\n",
       "      <th>IDCLIENTE</th>\n",
       "      <th>ESTADO</th>\n",
       "      <th>FILTROA</th>\n",
       "      <th>DATOADIC</th>\n",
       "    </tr>\n",
       "  </thead>\n",
       "  <tbody>\n",
       "    <tr>\n",
       "      <th>0</th>\n",
       "      <td>DNI 14384837</td>\n",
       "      <td>ACOSTA MARIA CRISTINA</td>\n",
       "      <td>FRANCES_2012</td>\n",
       "      <td>NO VISTO</td>\n",
       "      <td>3 - Ag 3ra</td>\n",
       "      <td>NaN</td>\n",
       "    </tr>\n",
       "    <tr>\n",
       "      <th>1</th>\n",
       "      <td>DNI 33803357</td>\n",
       "      <td>CARRASCO SERGIO DAMIAN</td>\n",
       "      <td>FRANCES_2012</td>\n",
       "      <td>NO VISTO</td>\n",
       "      <td>1 - Ag 1ra</td>\n",
       "      <td>NaN</td>\n",
       "    </tr>\n",
       "    <tr>\n",
       "      <th>2</th>\n",
       "      <td>DNI 34570749</td>\n",
       "      <td>TOLDI PRESENTADO SOLANGE GISELLE</td>\n",
       "      <td>FRANCES_2012</td>\n",
       "      <td>NO VISTO</td>\n",
       "      <td>1 - Ag 1ra</td>\n",
       "      <td>NaN</td>\n",
       "    </tr>\n",
       "    <tr>\n",
       "      <th>3</th>\n",
       "      <td>DNI 36991995</td>\n",
       "      <td>ANTECAO MAURO LEANDRO</td>\n",
       "      <td>FRANCES_2012</td>\n",
       "      <td>NO VISTO</td>\n",
       "      <td>2 - Ag 2ra</td>\n",
       "      <td>NaN</td>\n",
       "    </tr>\n",
       "    <tr>\n",
       "      <th>4</th>\n",
       "      <td>DNI 40359046</td>\n",
       "      <td>VATTOVAZ VICTORIA</td>\n",
       "      <td>FRANCES_2012</td>\n",
       "      <td>NO VISTO</td>\n",
       "      <td>1 - Ag 1ra</td>\n",
       "      <td>NaN</td>\n",
       "    </tr>\n",
       "  </tbody>\n",
       "</table>\n",
       "</div>"
      ],
      "text/plain": [
       "             IDMOROSO                                    NOMBRE  \\\n",
       "0  DNI 14384837        ACOSTA MARIA CRISTINA                      \n",
       "1  DNI 33803357        CARRASCO SERGIO DAMIAN                     \n",
       "2  DNI 34570749        TOLDI PRESENTADO SOLANGE GISELLE           \n",
       "3  DNI 36991995        ANTECAO MAURO LEANDRO                      \n",
       "4  DNI 40359046        VATTOVAZ VICTORIA                          \n",
       "\n",
       "              IDCLIENTE                ESTADO               FILTROA DATOADIC  \n",
       "0  FRANCES_2012          NO VISTO              3 - Ag 3ra                NaN  \n",
       "1  FRANCES_2012          NO VISTO              1 - Ag 1ra                NaN  \n",
       "2  FRANCES_2012          NO VISTO              1 - Ag 1ra                NaN  \n",
       "3  FRANCES_2012          NO VISTO              2 - Ag 2ra                NaN  \n",
       "4  FRANCES_2012          NO VISTO              1 - Ag 1ra                NaN  "
      ]
     },
     "execution_count": 3,
     "metadata": {},
     "output_type": "execute_result"
    }
   ],
   "source": [
    "df_log.head()"
   ]
  },
  {
   "cell_type": "code",
   "execution_count": 4,
   "metadata": {},
   "outputs": [],
   "source": [
    "df_log = df_log.rename(columns={\"ESTADO\": \"ESTADO_ANTERIOR\"})"
   ]
  },
  {
   "cell_type": "code",
   "execution_count": 5,
   "metadata": {},
   "outputs": [],
   "source": [
    "df_log = df_log [['IDMOROSO','DATOADIC','IDCLIENTE','ESTADO_ANTERIOR']]\n",
    "#df_log = df_log [['IDMOROSO','IDCLIENTE','ESTADO_ANTERIOR']]"
   ]
  },
  {
   "cell_type": "code",
   "execution_count": 6,
   "metadata": {},
   "outputs": [],
   "source": [
    "fecha_envio_log = '2021-03-17'"
   ]
  },
  {
   "cell_type": "code",
   "execution_count": 7,
   "metadata": {},
   "outputs": [],
   "source": [
    "fecha_insercion_log = '2021-03-19'"
   ]
  },
  {
   "cell_type": "code",
   "execution_count": 8,
   "metadata": {},
   "outputs": [],
   "source": [
    "fecha_estados_log = '2021-03-19'"
   ]
  },
  {
   "cell_type": "code",
   "execution_count": 9,
   "metadata": {},
   "outputs": [],
   "source": [
    "df_log = df_log.assign(FECHA_ENVIO_ENRIQUECIMIENTO=fecha_envio_log)"
   ]
  },
  {
   "cell_type": "code",
   "execution_count": 10,
   "metadata": {},
   "outputs": [],
   "source": [
    "df_log = df_log.assign(FECHA_INSERCION_DATO=fecha_insercion_log)"
   ]
  },
  {
   "cell_type": "code",
   "execution_count": 11,
   "metadata": {},
   "outputs": [],
   "source": [
    "df_log = df_log.assign(FECHA_CAMBIO_ESTADO=fecha_estados_log)"
   ]
  },
  {
   "cell_type": "code",
   "execution_count": 12,
   "metadata": {
    "scrolled": true
   },
   "outputs": [
    {
     "data": {
      "text/html": [
       "<div>\n",
       "<style scoped>\n",
       "    .dataframe tbody tr th:only-of-type {\n",
       "        vertical-align: middle;\n",
       "    }\n",
       "\n",
       "    .dataframe tbody tr th {\n",
       "        vertical-align: top;\n",
       "    }\n",
       "\n",
       "    .dataframe thead th {\n",
       "        text-align: right;\n",
       "    }\n",
       "</style>\n",
       "<table border=\"1\" class=\"dataframe\">\n",
       "  <thead>\n",
       "    <tr style=\"text-align: right;\">\n",
       "      <th></th>\n",
       "      <th>IDMOROSO</th>\n",
       "      <th>DATOADIC</th>\n",
       "      <th>IDCLIENTE</th>\n",
       "      <th>ESTADO_ANTERIOR</th>\n",
       "      <th>FECHA_ENVIO_ENRIQUECIMIENTO</th>\n",
       "      <th>FECHA_INSERCION_DATO</th>\n",
       "      <th>FECHA_CAMBIO_ESTADO</th>\n",
       "    </tr>\n",
       "  </thead>\n",
       "  <tbody>\n",
       "    <tr>\n",
       "      <th>0</th>\n",
       "      <td>DNI 14384837</td>\n",
       "      <td>NaN</td>\n",
       "      <td>FRANCES_2012</td>\n",
       "      <td>NO VISTO</td>\n",
       "      <td>2021-03-17</td>\n",
       "      <td>2021-03-19</td>\n",
       "      <td>2021-03-19</td>\n",
       "    </tr>\n",
       "    <tr>\n",
       "      <th>1</th>\n",
       "      <td>DNI 33803357</td>\n",
       "      <td>NaN</td>\n",
       "      <td>FRANCES_2012</td>\n",
       "      <td>NO VISTO</td>\n",
       "      <td>2021-03-17</td>\n",
       "      <td>2021-03-19</td>\n",
       "      <td>2021-03-19</td>\n",
       "    </tr>\n",
       "    <tr>\n",
       "      <th>2</th>\n",
       "      <td>DNI 34570749</td>\n",
       "      <td>NaN</td>\n",
       "      <td>FRANCES_2012</td>\n",
       "      <td>NO VISTO</td>\n",
       "      <td>2021-03-17</td>\n",
       "      <td>2021-03-19</td>\n",
       "      <td>2021-03-19</td>\n",
       "    </tr>\n",
       "    <tr>\n",
       "      <th>3</th>\n",
       "      <td>DNI 36991995</td>\n",
       "      <td>NaN</td>\n",
       "      <td>FRANCES_2012</td>\n",
       "      <td>NO VISTO</td>\n",
       "      <td>2021-03-17</td>\n",
       "      <td>2021-03-19</td>\n",
       "      <td>2021-03-19</td>\n",
       "    </tr>\n",
       "    <tr>\n",
       "      <th>4</th>\n",
       "      <td>DNI 40359046</td>\n",
       "      <td>NaN</td>\n",
       "      <td>FRANCES_2012</td>\n",
       "      <td>NO VISTO</td>\n",
       "      <td>2021-03-17</td>\n",
       "      <td>2021-03-19</td>\n",
       "      <td>2021-03-19</td>\n",
       "    </tr>\n",
       "  </tbody>\n",
       "</table>\n",
       "</div>"
      ],
      "text/plain": [
       "             IDMOROSO DATOADIC             IDCLIENTE       ESTADO_ANTERIOR  \\\n",
       "0  DNI 14384837            NaN  FRANCES_2012          NO VISTO               \n",
       "1  DNI 33803357            NaN  FRANCES_2012          NO VISTO               \n",
       "2  DNI 34570749            NaN  FRANCES_2012          NO VISTO               \n",
       "3  DNI 36991995            NaN  FRANCES_2012          NO VISTO               \n",
       "4  DNI 40359046            NaN  FRANCES_2012          NO VISTO               \n",
       "\n",
       "  FECHA_ENVIO_ENRIQUECIMIENTO FECHA_INSERCION_DATO FECHA_CAMBIO_ESTADO  \n",
       "0                  2021-03-17           2021-03-19          2021-03-19  \n",
       "1                  2021-03-17           2021-03-19          2021-03-19  \n",
       "2                  2021-03-17           2021-03-19          2021-03-19  \n",
       "3                  2021-03-17           2021-03-19          2021-03-19  \n",
       "4                  2021-03-17           2021-03-19          2021-03-19  "
      ]
     },
     "execution_count": 12,
     "metadata": {},
     "output_type": "execute_result"
    }
   ],
   "source": [
    "df_log.head()"
   ]
  },
  {
   "cell_type": "code",
   "execution_count": 13,
   "metadata": {},
   "outputs": [],
   "source": [
    "df_log = df_log.assign(PROVEEDOR='AD')"
   ]
  },
  {
   "cell_type": "code",
   "execution_count": 14,
   "metadata": {},
   "outputs": [],
   "source": [
    "df_log['ESTADO_ANTERIOR'] = [(str(df_log['ESTADO_ANTERIOR'][i]).strip()) for i in range (df_log['ESTADO_ANTERIOR'].count())]"
   ]
  },
  {
   "cell_type": "code",
   "execution_count": 15,
   "metadata": {},
   "outputs": [],
   "source": [
    "df_log.loc[(df_log['ESTADO_ANTERIOR'] == 'INTERESADO') | \n",
    "           (df_log['ESTADO_ANTERIOR'] == 'NO VISTO') | \n",
    "           (df_log['ESTADO_ANTERIOR'] == 'EN GESTION') |\n",
    "           (df_log['ESTADO_ANTERIOR'] == 'ASIGNADO') |\n",
    "           (df_log['ESTADO_ANTERIOR'] == 'ROTACION') |\n",
    "           (df_log['ESTADO_ANTERIOR'] == 'ASIGNADO') |\n",
    "           (df_log['ESTADO_ANTERIOR'] == 'PLAN V') |\n",
    "           (df_log['ESTADO_ANTERIOR'] == 'NO INTERESADO') |\n",
    "           (df_log['ESTADO_ANTERIOR'] == 'ACUERDO CAIDO') |\n",
    "           (df_log['ESTADO_ANTERIOR'] == 'CANCELO_RECHAZADA') \n",
    "           , 'CATEGORIA'] = 'NEUTRO'"
   ]
  },
  {
   "cell_type": "code",
   "execution_count": 16,
   "metadata": {},
   "outputs": [],
   "source": [
    "df_log.loc[(df_log['ESTADO_ANTERIOR'] == 'NO UBICADO') | \n",
    "           (df_log['ESTADO_ANTERIOR'] == 'SKIP LEVEL') |\n",
    "           (df_log['ESTADO_ANTERIOR'] == 'SKIP LEVEL 1') |\n",
    "           (df_log['ESTADO_ANTERIOR'] == 'SKIP LEVEL 1 OK') |\n",
    "           (df_log['ESTADO_ANTERIOR'] == 'SKIP LEVEL 2') |\n",
    "           (df_log['ESTADO_ANTERIOR'] == 'SKIP LEVEL 3') |\n",
    "           (df_log['ESTADO_ANTERIOR'] == 'SKIP LEVEL 3 OK') |\n",
    "           (df_log['ESTADO_ANTERIOR'] == 'SKIP LEVEL3 OK') |\n",
    "           (df_log['ESTADO_ANTERIOR'] == 'SKIP LEVEL1 OK') |\n",
    "           (df_log['ESTADO_ANTERIOR'] == 'SKIP LEVEL1') |\n",
    "           (df_log['ESTADO_ANTERIOR'] == 'NO_VISTO_CONTACTABLE') |\n",
    "           (df_log['ESTADO_ANTERIOR'] == 'NO_VISTO_MASIVO') \n",
    "           , 'CATEGORIA'] = 'NEGATIVO POR CONTACTABILIDAD'"
   ]
  },
  {
   "cell_type": "code",
   "execution_count": 17,
   "metadata": {},
   "outputs": [],
   "source": [
    "df_log.loc[(df_log['ESTADO_ANTERIOR'] == 'PAGO PARCIAL') | \n",
    "           (df_log['ESTADO_ANTERIOR'] == 'PLAN DE PAGOS') |\n",
    "           (df_log['ESTADO_ANTERIOR'] == 'POSIBLE REFI') |\n",
    "           (df_log['ESTADO_ANTERIOR'] == 'REFINANCIACION') |\n",
    "           (df_log['ESTADO_ANTERIOR'] == 'PROPUESTA') |\n",
    "           (df_log['ESTADO_ANTERIOR'] == 'PROPUESTA OK') |\n",
    "           (df_log['ESTADO_ANTERIOR'] == 'COMPROMISO') |\n",
    "           (df_log['ESTADO_ANTERIOR'] == 'CANCELO') |\n",
    "           (df_log['ESTADO_ANTERIOR'] == 'CANCELO_DEVUELTO') |\n",
    "           (df_log['ESTADO_ANTERIOR'] == 'CANCELO DEVUELTO') |\n",
    "           (df_log['ESTADO_ANTERIOR'] == 'CANCELO FULL') |\n",
    "           (df_log['ESTADO_ANTERIOR'] == 'CANCELO SIN ACP') \n",
    "           , 'CATEGORIA'] = 'POSITIVO CON CAJA'"
   ]
  },
  {
   "cell_type": "code",
   "execution_count": 18,
   "metadata": {},
   "outputs": [],
   "source": [
    "df_log.loc[(df_log['ESTADO_ANTERIOR'] == 'CONVENIO') | \n",
    "           (df_log['ESTADO_ANTERIOR'] == 'CONVENIO QUITA') |\n",
    "           (df_log['ESTADO_ANTERIOR'] == 'NUEVOS CARGOS') |\n",
    "           (df_log['ESTADO_ANTERIOR'] == 'CONVENIO_QUITA') \n",
    "           , 'CATEGORIA'] = 'POSITIVO CON CAJA SOBRE COUTA'"
   ]
  },
  {
   "cell_type": "code",
   "execution_count": 19,
   "metadata": {},
   "outputs": [],
   "source": [
    "df_log.loc[(df_log['ESTADO_ANTERIOR'] == 'PROPUESTA REFI') | \n",
    "           (df_log['ESTADO_ANTERIOR'] == 'REFI ARMADA') |\n",
    "           (df_log['ESTADO_ANTERIOR'] == 'REFI EN TRAMITE') |\n",
    "           (df_log['ESTADO_ANTERIOR'] == 'REFI A LIQUIDAR') \n",
    "           , 'CATEGORIA'] = 'POSITIVO CON CAJA CON REFI PENDIENTE DE LIQUIDACIO'"
   ]
  },
  {
   "cell_type": "code",
   "execution_count": 20,
   "metadata": {},
   "outputs": [],
   "source": [
    "df_log.loc[(df_log['ESTADO_ANTERIOR'] == 'REFI APROBADA') | \n",
    "           (df_log['ESTADO_ANTERIOR'] == 'DEVUELTO/CANCELO CON COBRO DE HONORARIO PENDIENTE')\n",
    "           , 'CATEGORIA'] = 'POSITIVO CON CAJA CON REFI/CANCELACIÓN LIQUIDADA'"
   ]
  },
  {
   "cell_type": "code",
   "execution_count": 21,
   "metadata": {},
   "outputs": [],
   "source": [
    "df_log.loc[(df_log['ESTADO_ANTERIOR'] == 'DEVUELTO') | \n",
    "           (df_log['ESTADO_ANTERIOR'] == 'FALLECIDO') |\n",
    "           (df_log['ESTADO_ANTERIOR'] == 'PROBLEMA') |\n",
    "           (df_log['ESTADO_ANTERIOR'] == 'SALDO INSOLUTO') |\n",
    "           (df_log['ESTADO_ANTERIOR'] == 'NO GESTIONAR') \n",
    "           , 'CATEGORIA'] = 'INACTIVO'"
   ]
  },
  {
   "cell_type": "code",
   "execution_count": 22,
   "metadata": {
    "scrolled": true
   },
   "outputs": [
    {
     "data": {
      "text/plain": [
       "(696, 9)"
      ]
     },
     "execution_count": 22,
     "metadata": {},
     "output_type": "execute_result"
    }
   ],
   "source": [
    "df_log.shape"
   ]
  },
  {
   "cell_type": "code",
   "execution_count": 23,
   "metadata": {},
   "outputs": [
    {
     "data": {
      "text/html": [
       "<div>\n",
       "<style scoped>\n",
       "    .dataframe tbody tr th:only-of-type {\n",
       "        vertical-align: middle;\n",
       "    }\n",
       "\n",
       "    .dataframe tbody tr th {\n",
       "        vertical-align: top;\n",
       "    }\n",
       "\n",
       "    .dataframe thead th {\n",
       "        text-align: right;\n",
       "    }\n",
       "</style>\n",
       "<table border=\"1\" class=\"dataframe\">\n",
       "  <thead>\n",
       "    <tr style=\"text-align: right;\">\n",
       "      <th></th>\n",
       "      <th>IDMOROSO</th>\n",
       "      <th>DATOADIC</th>\n",
       "      <th>IDCLIENTE</th>\n",
       "      <th>ESTADO_ANTERIOR</th>\n",
       "      <th>FECHA_ENVIO_ENRIQUECIMIENTO</th>\n",
       "      <th>FECHA_INSERCION_DATO</th>\n",
       "      <th>FECHA_CAMBIO_ESTADO</th>\n",
       "      <th>PROVEEDOR</th>\n",
       "      <th>CATEGORIA</th>\n",
       "    </tr>\n",
       "  </thead>\n",
       "  <tbody>\n",
       "    <tr>\n",
       "      <th>0</th>\n",
       "      <td>DNI 14384837</td>\n",
       "      <td>NaN</td>\n",
       "      <td>FRANCES_2012</td>\n",
       "      <td>NO VISTO</td>\n",
       "      <td>2021-03-17</td>\n",
       "      <td>2021-03-19</td>\n",
       "      <td>2021-03-19</td>\n",
       "      <td>AD</td>\n",
       "      <td>NEUTRO</td>\n",
       "    </tr>\n",
       "    <tr>\n",
       "      <th>1</th>\n",
       "      <td>DNI 33803357</td>\n",
       "      <td>NaN</td>\n",
       "      <td>FRANCES_2012</td>\n",
       "      <td>NO VISTO</td>\n",
       "      <td>2021-03-17</td>\n",
       "      <td>2021-03-19</td>\n",
       "      <td>2021-03-19</td>\n",
       "      <td>AD</td>\n",
       "      <td>NEUTRO</td>\n",
       "    </tr>\n",
       "    <tr>\n",
       "      <th>2</th>\n",
       "      <td>DNI 34570749</td>\n",
       "      <td>NaN</td>\n",
       "      <td>FRANCES_2012</td>\n",
       "      <td>NO VISTO</td>\n",
       "      <td>2021-03-17</td>\n",
       "      <td>2021-03-19</td>\n",
       "      <td>2021-03-19</td>\n",
       "      <td>AD</td>\n",
       "      <td>NEUTRO</td>\n",
       "    </tr>\n",
       "    <tr>\n",
       "      <th>3</th>\n",
       "      <td>DNI 36991995</td>\n",
       "      <td>NaN</td>\n",
       "      <td>FRANCES_2012</td>\n",
       "      <td>NO VISTO</td>\n",
       "      <td>2021-03-17</td>\n",
       "      <td>2021-03-19</td>\n",
       "      <td>2021-03-19</td>\n",
       "      <td>AD</td>\n",
       "      <td>NEUTRO</td>\n",
       "    </tr>\n",
       "    <tr>\n",
       "      <th>4</th>\n",
       "      <td>DNI 40359046</td>\n",
       "      <td>NaN</td>\n",
       "      <td>FRANCES_2012</td>\n",
       "      <td>NO VISTO</td>\n",
       "      <td>2021-03-17</td>\n",
       "      <td>2021-03-19</td>\n",
       "      <td>2021-03-19</td>\n",
       "      <td>AD</td>\n",
       "      <td>NEUTRO</td>\n",
       "    </tr>\n",
       "  </tbody>\n",
       "</table>\n",
       "</div>"
      ],
      "text/plain": [
       "             IDMOROSO DATOADIC             IDCLIENTE ESTADO_ANTERIOR  \\\n",
       "0  DNI 14384837            NaN  FRANCES_2012                NO VISTO   \n",
       "1  DNI 33803357            NaN  FRANCES_2012                NO VISTO   \n",
       "2  DNI 34570749            NaN  FRANCES_2012                NO VISTO   \n",
       "3  DNI 36991995            NaN  FRANCES_2012                NO VISTO   \n",
       "4  DNI 40359046            NaN  FRANCES_2012                NO VISTO   \n",
       "\n",
       "  FECHA_ENVIO_ENRIQUECIMIENTO FECHA_INSERCION_DATO FECHA_CAMBIO_ESTADO  \\\n",
       "0                  2021-03-17           2021-03-19          2021-03-19   \n",
       "1                  2021-03-17           2021-03-19          2021-03-19   \n",
       "2                  2021-03-17           2021-03-19          2021-03-19   \n",
       "3                  2021-03-17           2021-03-19          2021-03-19   \n",
       "4                  2021-03-17           2021-03-19          2021-03-19   \n",
       "\n",
       "  PROVEEDOR CATEGORIA  \n",
       "0        AD    NEUTRO  \n",
       "1        AD    NEUTRO  \n",
       "2        AD    NEUTRO  \n",
       "3        AD    NEUTRO  \n",
       "4        AD    NEUTRO  "
      ]
     },
     "execution_count": 23,
     "metadata": {},
     "output_type": "execute_result"
    }
   ],
   "source": [
    "df_log.head()"
   ]
  },
  {
   "cell_type": "markdown",
   "metadata": {},
   "source": [
    "## 2. Devolución de PyP"
   ]
  },
  {
   "cell_type": "markdown",
   "metadata": {},
   "source": [
    "Levantamos los DNIs desde el archivo que devuelve PyP para cruzar contra los IDs y ver cuáles están enriquecidos."
   ]
  },
  {
   "cell_type": "code",
   "execution_count": 24,
   "metadata": {},
   "outputs": [],
   "source": [
    "df_pyp = pd.read_excel('/mnt/c/users/Dleg/Data/MOPC/MOPC/Enriquecimiento de Datos/Data Cleaning/Insiders/Datasets/Datasets recibidos/ENRIQ_IN_1672_20210317 - Score.xlsx',skiprows=2, header=[0,1])"
   ]
  },
  {
   "cell_type": "code",
   "execution_count": 25,
   "metadata": {
    "scrolled": false
   },
   "outputs": [
    {
     "data": {
      "text/html": [
       "<div>\n",
       "<style scoped>\n",
       "    .dataframe tbody tr th:only-of-type {\n",
       "        vertical-align: middle;\n",
       "    }\n",
       "\n",
       "    .dataframe tbody tr th {\n",
       "        vertical-align: top;\n",
       "    }\n",
       "\n",
       "    .dataframe thead tr th {\n",
       "        text-align: left;\n",
       "    }\n",
       "</style>\n",
       "<table border=\"1\" class=\"dataframe\">\n",
       "  <thead>\n",
       "    <tr>\n",
       "      <th></th>\n",
       "      <th>Unnamed: 0_level_0</th>\n",
       "      <th>Unnamed: 1_level_0</th>\n",
       "      <th>Unnamed: 2_level_0</th>\n",
       "      <th>Unnamed: 3_level_0</th>\n",
       "      <th>Unnamed: 4_level_0</th>\n",
       "      <th>Unnamed: 5_level_0</th>\n",
       "      <th>Unnamed: 6_level_0</th>\n",
       "      <th>Unnamed: 7_level_0</th>\n",
       "      <th>Unnamed: 8_level_0</th>\n",
       "      <th>Unnamed: 9_level_0</th>\n",
       "      <th>...</th>\n",
       "      <th colspan=\"7\" halign=\"left\">Contactacion Opcional (Familiar)</th>\n",
       "      <th colspan=\"3\" halign=\"left\">Contactacion Opcional (Vecino)</th>\n",
       "    </tr>\n",
       "    <tr>\n",
       "      <th></th>\n",
       "      <th>Cuil</th>\n",
       "      <th>Dni</th>\n",
       "      <th>Fecha de Nac.</th>\n",
       "      <th>Fecha de Defuncion</th>\n",
       "      <th>Sexo</th>\n",
       "      <th>Titular</th>\n",
       "      <th>Calle</th>\n",
       "      <th>Numero</th>\n",
       "      <th>Piso y Depto</th>\n",
       "      <th>Codigo Postal</th>\n",
       "      <th>...</th>\n",
       "      <th>Tel Fijo 2</th>\n",
       "      <th>Celular 1</th>\n",
       "      <th>Celular 2</th>\n",
       "      <th>Celular 3</th>\n",
       "      <th>Celular 4</th>\n",
       "      <th>Celular 5</th>\n",
       "      <th>Email</th>\n",
       "      <th>Nombre</th>\n",
       "      <th>Telefono</th>\n",
       "      <th>SCORE</th>\n",
       "    </tr>\n",
       "  </thead>\n",
       "  <tbody>\n",
       "    <tr>\n",
       "      <th>0</th>\n",
       "      <td>2.700187e+10</td>\n",
       "      <td>187386.0</td>\n",
       "      <td>1929-04-02</td>\n",
       "      <td>NaN</td>\n",
       "      <td>F</td>\n",
       "      <td>HERRERA ENA ELSA</td>\n",
       "      <td>REP DE VENEZUELA</td>\n",
       "      <td>3700</td>\n",
       "      <td>NaN</td>\n",
       "      <td>1211.0</td>\n",
       "      <td>...</td>\n",
       "      <td>NaN</td>\n",
       "      <td>NaN</td>\n",
       "      <td>NaN</td>\n",
       "      <td>NaN</td>\n",
       "      <td>NaN</td>\n",
       "      <td>NaN</td>\n",
       "      <td>NaN</td>\n",
       "      <td>NaN</td>\n",
       "      <td>NaN</td>\n",
       "      <td>0.0</td>\n",
       "    </tr>\n",
       "    <tr>\n",
       "      <th>1</th>\n",
       "      <td>2.700508e+10</td>\n",
       "      <td>507550.0</td>\n",
       "      <td>1939-03-05</td>\n",
       "      <td>NaN</td>\n",
       "      <td>F</td>\n",
       "      <td>ENTRATICO IRMA CLARA</td>\n",
       "      <td>AV URUGUAY</td>\n",
       "      <td>875</td>\n",
       "      <td>NaN</td>\n",
       "      <td>4400.0</td>\n",
       "      <td>...</td>\n",
       "      <td>NaN</td>\n",
       "      <td>NaN</td>\n",
       "      <td>NaN</td>\n",
       "      <td>NaN</td>\n",
       "      <td>NaN</td>\n",
       "      <td>NaN</td>\n",
       "      <td>NaN</td>\n",
       "      <td>PATRON COSTAS GUSTAVO</td>\n",
       "      <td>3.874321e+09</td>\n",
       "      <td>34.0</td>\n",
       "    </tr>\n",
       "    <tr>\n",
       "      <th>2</th>\n",
       "      <td>2.704172e+10</td>\n",
       "      <td>4171534.0</td>\n",
       "      <td>1940-06-02</td>\n",
       "      <td>2020-12-15</td>\n",
       "      <td>F</td>\n",
       "      <td>ITUARTE MARGARITA HORTENSIA</td>\n",
       "      <td>PJE GRANDOLI</td>\n",
       "      <td>6100</td>\n",
       "      <td>NaN</td>\n",
       "      <td>1439.0</td>\n",
       "      <td>...</td>\n",
       "      <td>NaN</td>\n",
       "      <td>NaN</td>\n",
       "      <td>NaN</td>\n",
       "      <td>NaN</td>\n",
       "      <td>NaN</td>\n",
       "      <td>NaN</td>\n",
       "      <td>NaN</td>\n",
       "      <td>NaN</td>\n",
       "      <td>NaN</td>\n",
       "      <td>891.0</td>\n",
       "    </tr>\n",
       "    <tr>\n",
       "      <th>3</th>\n",
       "      <td>2.004174e+10</td>\n",
       "      <td>4173550.0</td>\n",
       "      <td>1936-01-28</td>\n",
       "      <td>NaN</td>\n",
       "      <td>M</td>\n",
       "      <td>VISCONTI EDUARDO JUAN</td>\n",
       "      <td>JUAN JOSE VIAMONTE</td>\n",
       "      <td>1592</td>\n",
       "      <td>NaN</td>\n",
       "      <td>1055.0</td>\n",
       "      <td>...</td>\n",
       "      <td>NaN</td>\n",
       "      <td>NaN</td>\n",
       "      <td>NaN</td>\n",
       "      <td>NaN</td>\n",
       "      <td>NaN</td>\n",
       "      <td>NaN</td>\n",
       "      <td>NaN</td>\n",
       "      <td>NaN</td>\n",
       "      <td>NaN</td>\n",
       "      <td>958.0</td>\n",
       "    </tr>\n",
       "    <tr>\n",
       "      <th>4</th>\n",
       "      <td>2.004200e+10</td>\n",
       "      <td>4200228.0</td>\n",
       "      <td>1936-12-08</td>\n",
       "      <td>NaN</td>\n",
       "      <td>M</td>\n",
       "      <td>CACCHIONE MIGUEL ANGEL</td>\n",
       "      <td>BRUNO MARIANO DE ZABALA</td>\n",
       "      <td>1706</td>\n",
       "      <td>NaN</td>\n",
       "      <td>1426.0</td>\n",
       "      <td>...</td>\n",
       "      <td>NaN</td>\n",
       "      <td>NaN</td>\n",
       "      <td>NaN</td>\n",
       "      <td>NaN</td>\n",
       "      <td>NaN</td>\n",
       "      <td>NaN</td>\n",
       "      <td>NaN</td>\n",
       "      <td>NaN</td>\n",
       "      <td>NaN</td>\n",
       "      <td>345.0</td>\n",
       "    </tr>\n",
       "  </tbody>\n",
       "</table>\n",
       "<p>5 rows × 226 columns</p>\n",
       "</div>"
      ],
      "text/plain": [
       "  Unnamed: 0_level_0 Unnamed: 1_level_0 Unnamed: 2_level_0 Unnamed: 3_level_0  \\\n",
       "                Cuil                Dni      Fecha de Nac. Fecha de Defuncion   \n",
       "0       2.700187e+10           187386.0         1929-04-02                NaN   \n",
       "1       2.700508e+10           507550.0         1939-03-05                NaN   \n",
       "2       2.704172e+10          4171534.0         1940-06-02         2020-12-15   \n",
       "3       2.004174e+10          4173550.0         1936-01-28                NaN   \n",
       "4       2.004200e+10          4200228.0         1936-12-08                NaN   \n",
       "\n",
       "  Unnamed: 4_level_0           Unnamed: 5_level_0       Unnamed: 6_level_0  \\\n",
       "                Sexo                      Titular                    Calle   \n",
       "0                  F             HERRERA ENA ELSA         REP DE VENEZUELA   \n",
       "1                  F         ENTRATICO IRMA CLARA               AV URUGUAY   \n",
       "2                  F  ITUARTE MARGARITA HORTENSIA             PJE GRANDOLI   \n",
       "3                  M        VISCONTI EDUARDO JUAN       JUAN JOSE VIAMONTE   \n",
       "4                  M       CACCHIONE MIGUEL ANGEL  BRUNO MARIANO DE ZABALA   \n",
       "\n",
       "  Unnamed: 7_level_0 Unnamed: 8_level_0 Unnamed: 9_level_0  ...  \\\n",
       "              Numero       Piso y Depto      Codigo Postal  ...   \n",
       "0               3700                NaN             1211.0  ...   \n",
       "1                875                NaN             4400.0  ...   \n",
       "2               6100                NaN             1439.0  ...   \n",
       "3               1592                NaN             1055.0  ...   \n",
       "4               1706                NaN             1426.0  ...   \n",
       "\n",
       "  Contactacion Opcional (Familiar)                                          \\\n",
       "                        Tel Fijo 2 Celular 1 Celular 2 Celular 3 Celular 4   \n",
       "0                              NaN       NaN       NaN       NaN       NaN   \n",
       "1                              NaN       NaN       NaN       NaN       NaN   \n",
       "2                              NaN       NaN       NaN       NaN       NaN   \n",
       "3                              NaN       NaN       NaN       NaN       NaN   \n",
       "4                              NaN       NaN       NaN       NaN       NaN   \n",
       "\n",
       "                  Contactacion Opcional (Vecino)                       \n",
       "  Celular 5 Email                         Nombre      Telefono  SCORE  \n",
       "0       NaN   NaN                            NaN           NaN    0.0  \n",
       "1       NaN   NaN          PATRON COSTAS GUSTAVO  3.874321e+09   34.0  \n",
       "2       NaN   NaN                            NaN           NaN  891.0  \n",
       "3       NaN   NaN                            NaN           NaN  958.0  \n",
       "4       NaN   NaN                            NaN           NaN  345.0  \n",
       "\n",
       "[5 rows x 226 columns]"
      ]
     },
     "execution_count": 25,
     "metadata": {},
     "output_type": "execute_result"
    }
   ],
   "source": [
    "df_pyp.head()"
   ]
  },
  {
   "cell_type": "code",
   "execution_count": 26,
   "metadata": {
    "scrolled": false
   },
   "outputs": [
    {
     "data": {
      "text/plain": [
       "(1664, 226)"
      ]
     },
     "execution_count": 26,
     "metadata": {},
     "output_type": "execute_result"
    }
   ],
   "source": [
    "df_pyp.shape"
   ]
  },
  {
   "cell_type": "code",
   "execution_count": 27,
   "metadata": {},
   "outputs": [],
   "source": [
    "df_reduced = df_pyp [[('Unnamed: 0_level_0','Cuil'),('Unnamed: 1_level_0','Dni')]]"
   ]
  },
  {
   "cell_type": "code",
   "execution_count": 28,
   "metadata": {},
   "outputs": [
    {
     "data": {
      "text/html": [
       "<div>\n",
       "<style scoped>\n",
       "    .dataframe tbody tr th:only-of-type {\n",
       "        vertical-align: middle;\n",
       "    }\n",
       "\n",
       "    .dataframe tbody tr th {\n",
       "        vertical-align: top;\n",
       "    }\n",
       "\n",
       "    .dataframe thead tr th {\n",
       "        text-align: left;\n",
       "    }\n",
       "</style>\n",
       "<table border=\"1\" class=\"dataframe\">\n",
       "  <thead>\n",
       "    <tr>\n",
       "      <th></th>\n",
       "      <th>Unnamed: 0_level_0</th>\n",
       "      <th>Unnamed: 1_level_0</th>\n",
       "    </tr>\n",
       "    <tr>\n",
       "      <th></th>\n",
       "      <th>Cuil</th>\n",
       "      <th>Dni</th>\n",
       "    </tr>\n",
       "  </thead>\n",
       "  <tbody>\n",
       "    <tr>\n",
       "      <th>0</th>\n",
       "      <td>2.700187e+10</td>\n",
       "      <td>187386.0</td>\n",
       "    </tr>\n",
       "    <tr>\n",
       "      <th>1</th>\n",
       "      <td>2.700508e+10</td>\n",
       "      <td>507550.0</td>\n",
       "    </tr>\n",
       "    <tr>\n",
       "      <th>2</th>\n",
       "      <td>2.704172e+10</td>\n",
       "      <td>4171534.0</td>\n",
       "    </tr>\n",
       "    <tr>\n",
       "      <th>3</th>\n",
       "      <td>2.004174e+10</td>\n",
       "      <td>4173550.0</td>\n",
       "    </tr>\n",
       "    <tr>\n",
       "      <th>4</th>\n",
       "      <td>2.004200e+10</td>\n",
       "      <td>4200228.0</td>\n",
       "    </tr>\n",
       "  </tbody>\n",
       "</table>\n",
       "</div>"
      ],
      "text/plain": [
       "  Unnamed: 0_level_0 Unnamed: 1_level_0\n",
       "                Cuil                Dni\n",
       "0       2.700187e+10           187386.0\n",
       "1       2.700508e+10           507550.0\n",
       "2       2.704172e+10          4171534.0\n",
       "3       2.004174e+10          4173550.0\n",
       "4       2.004200e+10          4200228.0"
      ]
     },
     "execution_count": 28,
     "metadata": {},
     "output_type": "execute_result"
    }
   ],
   "source": [
    "df_reduced.head()"
   ]
  },
  {
   "cell_type": "code",
   "execution_count": 29,
   "metadata": {},
   "outputs": [
    {
     "data": {
      "text/plain": [
       "(1664, 2)"
      ]
     },
     "execution_count": 29,
     "metadata": {},
     "output_type": "execute_result"
    }
   ],
   "source": [
    "df_reduced.shape"
   ]
  },
  {
   "cell_type": "markdown",
   "metadata": {},
   "source": [
    "Eliminamos el multilevel de las columnas, y las renombramos:"
   ]
  },
  {
   "cell_type": "code",
   "execution_count": 30,
   "metadata": {},
   "outputs": [],
   "source": [
    "df_reduced.columns = df_reduced.columns.droplevel()"
   ]
  },
  {
   "cell_type": "code",
   "execution_count": 31,
   "metadata": {},
   "outputs": [
    {
     "data": {
      "text/html": [
       "<div>\n",
       "<style scoped>\n",
       "    .dataframe tbody tr th:only-of-type {\n",
       "        vertical-align: middle;\n",
       "    }\n",
       "\n",
       "    .dataframe tbody tr th {\n",
       "        vertical-align: top;\n",
       "    }\n",
       "\n",
       "    .dataframe thead th {\n",
       "        text-align: right;\n",
       "    }\n",
       "</style>\n",
       "<table border=\"1\" class=\"dataframe\">\n",
       "  <thead>\n",
       "    <tr style=\"text-align: right;\">\n",
       "      <th></th>\n",
       "      <th>Cuil</th>\n",
       "      <th>Dni</th>\n",
       "    </tr>\n",
       "  </thead>\n",
       "  <tbody>\n",
       "    <tr>\n",
       "      <th>0</th>\n",
       "      <td>2.700187e+10</td>\n",
       "      <td>187386.0</td>\n",
       "    </tr>\n",
       "    <tr>\n",
       "      <th>1</th>\n",
       "      <td>2.700508e+10</td>\n",
       "      <td>507550.0</td>\n",
       "    </tr>\n",
       "    <tr>\n",
       "      <th>2</th>\n",
       "      <td>2.704172e+10</td>\n",
       "      <td>4171534.0</td>\n",
       "    </tr>\n",
       "    <tr>\n",
       "      <th>3</th>\n",
       "      <td>2.004174e+10</td>\n",
       "      <td>4173550.0</td>\n",
       "    </tr>\n",
       "    <tr>\n",
       "      <th>4</th>\n",
       "      <td>2.004200e+10</td>\n",
       "      <td>4200228.0</td>\n",
       "    </tr>\n",
       "  </tbody>\n",
       "</table>\n",
       "</div>"
      ],
      "text/plain": [
       "           Cuil        Dni\n",
       "0  2.700187e+10   187386.0\n",
       "1  2.700508e+10   507550.0\n",
       "2  2.704172e+10  4171534.0\n",
       "3  2.004174e+10  4173550.0\n",
       "4  2.004200e+10  4200228.0"
      ]
     },
     "execution_count": 31,
     "metadata": {},
     "output_type": "execute_result"
    }
   ],
   "source": [
    "df_reduced.head()"
   ]
  },
  {
   "cell_type": "code",
   "execution_count": 32,
   "metadata": {},
   "outputs": [],
   "source": [
    "df_reduced = df_reduced.rename(columns={\"Cuil\": \"CUIT_CUIL\", 'Dni': 'NRO_DOC'})"
   ]
  },
  {
   "cell_type": "code",
   "execution_count": 33,
   "metadata": {
    "scrolled": false
   },
   "outputs": [
    {
     "data": {
      "text/html": [
       "<div>\n",
       "<style scoped>\n",
       "    .dataframe tbody tr th:only-of-type {\n",
       "        vertical-align: middle;\n",
       "    }\n",
       "\n",
       "    .dataframe tbody tr th {\n",
       "        vertical-align: top;\n",
       "    }\n",
       "\n",
       "    .dataframe thead th {\n",
       "        text-align: right;\n",
       "    }\n",
       "</style>\n",
       "<table border=\"1\" class=\"dataframe\">\n",
       "  <thead>\n",
       "    <tr style=\"text-align: right;\">\n",
       "      <th></th>\n",
       "      <th>CUIT_CUIL</th>\n",
       "      <th>NRO_DOC</th>\n",
       "    </tr>\n",
       "  </thead>\n",
       "  <tbody>\n",
       "    <tr>\n",
       "      <th>0</th>\n",
       "      <td>2.700187e+10</td>\n",
       "      <td>187386.0</td>\n",
       "    </tr>\n",
       "    <tr>\n",
       "      <th>1</th>\n",
       "      <td>2.700508e+10</td>\n",
       "      <td>507550.0</td>\n",
       "    </tr>\n",
       "    <tr>\n",
       "      <th>2</th>\n",
       "      <td>2.704172e+10</td>\n",
       "      <td>4171534.0</td>\n",
       "    </tr>\n",
       "    <tr>\n",
       "      <th>3</th>\n",
       "      <td>2.004174e+10</td>\n",
       "      <td>4173550.0</td>\n",
       "    </tr>\n",
       "    <tr>\n",
       "      <th>4</th>\n",
       "      <td>2.004200e+10</td>\n",
       "      <td>4200228.0</td>\n",
       "    </tr>\n",
       "  </tbody>\n",
       "</table>\n",
       "</div>"
      ],
      "text/plain": [
       "      CUIT_CUIL    NRO_DOC\n",
       "0  2.700187e+10   187386.0\n",
       "1  2.700508e+10   507550.0\n",
       "2  2.704172e+10  4171534.0\n",
       "3  2.004174e+10  4173550.0\n",
       "4  2.004200e+10  4200228.0"
      ]
     },
     "execution_count": 33,
     "metadata": {},
     "output_type": "execute_result"
    }
   ],
   "source": [
    "df_reduced.head()"
   ]
  },
  {
   "cell_type": "code",
   "execution_count": 34,
   "metadata": {},
   "outputs": [
    {
     "data": {
      "text/html": [
       "<div>\n",
       "<style scoped>\n",
       "    .dataframe tbody tr th:only-of-type {\n",
       "        vertical-align: middle;\n",
       "    }\n",
       "\n",
       "    .dataframe tbody tr th {\n",
       "        vertical-align: top;\n",
       "    }\n",
       "\n",
       "    .dataframe thead th {\n",
       "        text-align: right;\n",
       "    }\n",
       "</style>\n",
       "<table border=\"1\" class=\"dataframe\">\n",
       "  <thead>\n",
       "    <tr style=\"text-align: right;\">\n",
       "      <th></th>\n",
       "      <th>CUIT_CUIL</th>\n",
       "      <th>NRO_DOC</th>\n",
       "    </tr>\n",
       "  </thead>\n",
       "  <tbody>\n",
       "    <tr>\n",
       "      <th>0</th>\n",
       "      <td>2.700187e+10</td>\n",
       "      <td>187386.0</td>\n",
       "    </tr>\n",
       "    <tr>\n",
       "      <th>1</th>\n",
       "      <td>2.700508e+10</td>\n",
       "      <td>507550.0</td>\n",
       "    </tr>\n",
       "    <tr>\n",
       "      <th>2</th>\n",
       "      <td>2.704172e+10</td>\n",
       "      <td>4171534.0</td>\n",
       "    </tr>\n",
       "    <tr>\n",
       "      <th>3</th>\n",
       "      <td>2.004174e+10</td>\n",
       "      <td>4173550.0</td>\n",
       "    </tr>\n",
       "    <tr>\n",
       "      <th>4</th>\n",
       "      <td>2.004200e+10</td>\n",
       "      <td>4200228.0</td>\n",
       "    </tr>\n",
       "    <tr>\n",
       "      <th>...</th>\n",
       "      <td>...</td>\n",
       "      <td>...</td>\n",
       "    </tr>\n",
       "    <tr>\n",
       "      <th>1659</th>\n",
       "      <td>NaN</td>\n",
       "      <td>NaN</td>\n",
       "    </tr>\n",
       "    <tr>\n",
       "      <th>1660</th>\n",
       "      <td>NaN</td>\n",
       "      <td>NaN</td>\n",
       "    </tr>\n",
       "    <tr>\n",
       "      <th>1661</th>\n",
       "      <td>NaN</td>\n",
       "      <td>NaN</td>\n",
       "    </tr>\n",
       "    <tr>\n",
       "      <th>1662</th>\n",
       "      <td>NaN</td>\n",
       "      <td>NaN</td>\n",
       "    </tr>\n",
       "    <tr>\n",
       "      <th>1663</th>\n",
       "      <td>NaN</td>\n",
       "      <td>NaN</td>\n",
       "    </tr>\n",
       "  </tbody>\n",
       "</table>\n",
       "<p>1664 rows × 2 columns</p>\n",
       "</div>"
      ],
      "text/plain": [
       "         CUIT_CUIL    NRO_DOC\n",
       "0     2.700187e+10   187386.0\n",
       "1     2.700508e+10   507550.0\n",
       "2     2.704172e+10  4171534.0\n",
       "3     2.004174e+10  4173550.0\n",
       "4     2.004200e+10  4200228.0\n",
       "...            ...        ...\n",
       "1659           NaN        NaN\n",
       "1660           NaN        NaN\n",
       "1661           NaN        NaN\n",
       "1662           NaN        NaN\n",
       "1663           NaN        NaN\n",
       "\n",
       "[1664 rows x 2 columns]"
      ]
     },
     "execution_count": 34,
     "metadata": {},
     "output_type": "execute_result"
    }
   ],
   "source": [
    "df_reduced"
   ]
  },
  {
   "cell_type": "markdown",
   "metadata": {},
   "source": [
    "## NRO_DOC para union de dataframes"
   ]
  },
  {
   "cell_type": "markdown",
   "metadata": {},
   "source": [
    "Creamos una columna que contenga IDMOROSO + DATOADIC según corresponda"
   ]
  },
  {
   "cell_type": "code",
   "execution_count": 35,
   "metadata": {},
   "outputs": [],
   "source": [
    "df_log.loc[(df_log['IDCLIENTE'].str.startswith('AMEX')) , 'NRO_DOC'] = df_log['DATOADIC']\n",
    "df_log.loc[(~df_log['IDCLIENTE'].str.startswith('AMEX')) , 'NRO_DOC'] = df_log['IDMOROSO']\n",
    "#df_log ['NRO_DOC'] = df_log ['IDMOROSO']"
   ]
  },
  {
   "cell_type": "code",
   "execution_count": 36,
   "metadata": {
    "scrolled": true
   },
   "outputs": [],
   "source": [
    "df_log = df_log.dropna(subset=['NRO_DOC'])"
   ]
  },
  {
   "cell_type": "code",
   "execution_count": 37,
   "metadata": {
    "scrolled": true
   },
   "outputs": [
    {
     "data": {
      "text/html": [
       "<div>\n",
       "<style scoped>\n",
       "    .dataframe tbody tr th:only-of-type {\n",
       "        vertical-align: middle;\n",
       "    }\n",
       "\n",
       "    .dataframe tbody tr th {\n",
       "        vertical-align: top;\n",
       "    }\n",
       "\n",
       "    .dataframe thead th {\n",
       "        text-align: right;\n",
       "    }\n",
       "</style>\n",
       "<table border=\"1\" class=\"dataframe\">\n",
       "  <thead>\n",
       "    <tr style=\"text-align: right;\">\n",
       "      <th></th>\n",
       "      <th>IDMOROSO</th>\n",
       "      <th>DATOADIC</th>\n",
       "      <th>IDCLIENTE</th>\n",
       "      <th>ESTADO_ANTERIOR</th>\n",
       "      <th>FECHA_ENVIO_ENRIQUECIMIENTO</th>\n",
       "      <th>FECHA_INSERCION_DATO</th>\n",
       "      <th>FECHA_CAMBIO_ESTADO</th>\n",
       "      <th>PROVEEDOR</th>\n",
       "      <th>CATEGORIA</th>\n",
       "      <th>NRO_DOC</th>\n",
       "    </tr>\n",
       "  </thead>\n",
       "  <tbody>\n",
       "    <tr>\n",
       "      <th>691</th>\n",
       "      <td>DNI 24191912</td>\n",
       "      <td>27241919124</td>\n",
       "      <td>FRAVEGA_LEGALES548</td>\n",
       "      <td>SKIP LEVEL1</td>\n",
       "      <td>2021-03-17</td>\n",
       "      <td>2021-03-19</td>\n",
       "      <td>2021-03-19</td>\n",
       "      <td>AD</td>\n",
       "      <td>NEGATIVO POR CONTACTABILIDAD</td>\n",
       "      <td>DNI 24191912</td>\n",
       "    </tr>\n",
       "    <tr>\n",
       "      <th>692</th>\n",
       "      <td>DNI 26763078</td>\n",
       "      <td>NaN</td>\n",
       "      <td>FRAVEGA_LEGALES548</td>\n",
       "      <td>NO VISTO</td>\n",
       "      <td>2021-03-17</td>\n",
       "      <td>2021-03-19</td>\n",
       "      <td>2021-03-19</td>\n",
       "      <td>AD</td>\n",
       "      <td>NEUTRO</td>\n",
       "      <td>DNI 26763078</td>\n",
       "    </tr>\n",
       "    <tr>\n",
       "      <th>693</th>\n",
       "      <td>DNI 14129384</td>\n",
       "      <td></td>\n",
       "      <td>FRAVEGA_LEGALES548</td>\n",
       "      <td>EN GESTION</td>\n",
       "      <td>2021-03-17</td>\n",
       "      <td>2021-03-19</td>\n",
       "      <td>2021-03-19</td>\n",
       "      <td>AD</td>\n",
       "      <td>NEUTRO</td>\n",
       "      <td>DNI 14129384</td>\n",
       "    </tr>\n",
       "    <tr>\n",
       "      <th>694</th>\n",
       "      <td>DNI 16490348</td>\n",
       "      <td></td>\n",
       "      <td>FRAVEGA_LEGALES548</td>\n",
       "      <td>SKIP LEVEL1</td>\n",
       "      <td>2021-03-17</td>\n",
       "      <td>2021-03-19</td>\n",
       "      <td>2021-03-19</td>\n",
       "      <td>AD</td>\n",
       "      <td>NEGATIVO POR CONTACTABILIDAD</td>\n",
       "      <td>DNI 16490348</td>\n",
       "    </tr>\n",
       "    <tr>\n",
       "      <th>695</th>\n",
       "      <td>DNI 21385894</td>\n",
       "      <td>NaN</td>\n",
       "      <td>FRAVEGA_LEGALES548</td>\n",
       "      <td>NO VISTO</td>\n",
       "      <td>2021-03-17</td>\n",
       "      <td>2021-03-19</td>\n",
       "      <td>2021-03-19</td>\n",
       "      <td>AD</td>\n",
       "      <td>NEUTRO</td>\n",
       "      <td>DNI 21385894</td>\n",
       "    </tr>\n",
       "  </tbody>\n",
       "</table>\n",
       "</div>"
      ],
      "text/plain": [
       "               IDMOROSO                        DATOADIC             IDCLIENTE  \\\n",
       "691  DNI 24191912                           27241919124  FRAVEGA_LEGALES548     \n",
       "692  DNI 26763078                                   NaN  FRAVEGA_LEGALES548     \n",
       "693  DNI 14129384                                        FRAVEGA_LEGALES548     \n",
       "694  DNI 16490348                                        FRAVEGA_LEGALES548     \n",
       "695  DNI 21385894                                   NaN  FRAVEGA_LEGALES548     \n",
       "\n",
       "    ESTADO_ANTERIOR FECHA_ENVIO_ENRIQUECIMIENTO FECHA_INSERCION_DATO  \\\n",
       "691     SKIP LEVEL1                  2021-03-17           2021-03-19   \n",
       "692        NO VISTO                  2021-03-17           2021-03-19   \n",
       "693      EN GESTION                  2021-03-17           2021-03-19   \n",
       "694     SKIP LEVEL1                  2021-03-17           2021-03-19   \n",
       "695        NO VISTO                  2021-03-17           2021-03-19   \n",
       "\n",
       "    FECHA_CAMBIO_ESTADO PROVEEDOR                     CATEGORIA  \\\n",
       "691          2021-03-19        AD  NEGATIVO POR CONTACTABILIDAD   \n",
       "692          2021-03-19        AD                        NEUTRO   \n",
       "693          2021-03-19        AD                        NEUTRO   \n",
       "694          2021-03-19        AD  NEGATIVO POR CONTACTABILIDAD   \n",
       "695          2021-03-19        AD                        NEUTRO   \n",
       "\n",
       "                NRO_DOC  \n",
       "691  DNI 24191912        \n",
       "692  DNI 26763078        \n",
       "693  DNI 14129384        \n",
       "694  DNI 16490348        \n",
       "695  DNI 21385894        "
      ]
     },
     "execution_count": 37,
     "metadata": {},
     "output_type": "execute_result"
    }
   ],
   "source": [
    "df_log.tail()"
   ]
  },
  {
   "cell_type": "markdown",
   "metadata": {},
   "source": [
    "## 12.2) DNI Cleaning"
   ]
  },
  {
   "cell_type": "markdown",
   "metadata": {},
   "source": [
    "Limpiamos el dataframe __df_pyp__, ya que dentro de DATO_A_ENVIAR tenemos 9 tipos de casos diferentes de datos:\n",
    "\n",
    "- DNI 12345678\n",
    "- DNI12345678\n",
    "- DNIE1234678\n",
    "- LC  1234567\n",
    "- LE  1234567\n",
    "- CUIT00123456780\n",
    "- 00123456780 --> Es un CUIT.\n",
    "- 00 12345678 0 --> Es un CUIT.\n",
    "- DNI 00123456780 --> Dice DNI pero es un CUIT de una persona __jurídica__ (TO DO)"
   ]
  },
  {
   "cell_type": "markdown",
   "metadata": {},
   "source": [
    "Para eso definimos 5 funciones:\n",
    "\n",
    "- __Tipo_DOC__: Se definen dos funciones para determinar el tipo de DNI. Una inicial, y otra para corregir sobre el dataframe resultante.\n",
    "- __Standard DNI__: Estandariza los DNI para 7 de los casos. Esta función debe ejecutarse en primer lugar.\n",
    "- __DNI Spaces__: Elimina los espacios.\n",
    "- __DNI Zero__: Elimina los ceros iniciales de ciertos CUITs para que coincidan con los DNI.\n",
    "- __Cuit__: Decisión sobre dejar un cuit o volverlo DNI"
   ]
  },
  {
   "cell_type": "code",
   "execution_count": 38,
   "metadata": {},
   "outputs": [],
   "source": [
    "def tipo_doc_1 (string_dni):\n",
    "    \n",
    "    if 'DNI' in string_dni:\n",
    "        tipo = 'DNI'\n",
    "    \n",
    "    elif 'LC' in string_dni:\n",
    "        tipo = 'LC'\n",
    "    \n",
    "    elif 'LE' in string_dni:\n",
    "        tipo = 'LE'\n",
    "    \n",
    "    elif 'DNIE' in string_dni:\n",
    "        tipo = 'DNIE'    \n",
    "    \n",
    "    elif ((string_dni.startswith(('CUIT30','CUIT33','CUIT34'))) & (len(string_dni)>8)):\n",
    "        tipo = 'CUIT'\n",
    "        \n",
    "    elif ((string_dni.startswith(('30','33','34'))) & (len(string_dni)>8)):\n",
    "        tipo = 'CUIT'\n",
    "\n",
    "    elif ((string_dni.startswith(('20','23','24','27'))) & (len(string_dni)>8)):\n",
    "        tipo = 'DNI'\n",
    "\n",
    "    elif ((string_dni.startswith(('CUIT20','CUIT23','CUIT24','CUIT27'))) & (len(string_dni)>8)):\n",
    "        tipo = 'DNI'\n",
    "        \n",
    "    else:\n",
    "        tipo = 'DNI'\n",
    "    \n",
    "    return tipo"
   ]
  },
  {
   "cell_type": "code",
   "execution_count": 39,
   "metadata": {},
   "outputs": [],
   "source": [
    "def tipo_doc_2 (string_dni, tipo_original):\n",
    "    \n",
    "    if (len(string_dni) > 8) & (tipo_original == 'DNI'):\n",
    "        tipo = 'CUIT'\n",
    "    else:\n",
    "        tipo = tipo_original\n",
    "    return tipo"
   ]
  },
  {
   "cell_type": "code",
   "execution_count": 40,
   "metadata": {},
   "outputs": [],
   "source": [
    "def standard_dni (string_dni):\n",
    "    \"\"\"DNI separation by each case.\n",
    "    \"\"\"\n",
    "    \n",
    "    if 'DNI ' in string_dni:\n",
    "        dni = string_dni.split('DNI ')[1]\n",
    "        \n",
    "    elif 'DNIE' in string_dni:\n",
    "        dni = string_dni.split('DNIE')[1]\n",
    "    \n",
    "    elif 'DNI' in string_dni:\n",
    "        dni = string_dni.split('DNI')[1]\n",
    "    \n",
    "    elif 'LC  ' in string_dni:\n",
    "        dni = string_dni.split('LC  ')[1]\n",
    "    \n",
    "    elif 'LE  ' in string_dni:\n",
    "        dni = string_dni.split('LE  ')[1]\n",
    "    \n",
    "    elif 'CUIT' in string_dni:\n",
    "        dni = string_dni.split('CUIT')[1]\n",
    "        \n",
    "    else:\n",
    "        dni = string_dni\n",
    "        \n",
    "    return dni"
   ]
  },
  {
   "cell_type": "code",
   "execution_count": 41,
   "metadata": {},
   "outputs": [],
   "source": [
    "def dni_characters (string_dni):\n",
    "    \n",
    "    if ' ' in string_dni:\n",
    "        dni = string_dni.replace(' ','')\n",
    "        \n",
    "    elif '-' in string_dni:\n",
    "        dni = string_dni.replace('-','')\n",
    "\n",
    "    else:\n",
    "        dni = string_dni\n",
    "    \n",
    "    return dni"
   ]
  },
  {
   "cell_type": "code",
   "execution_count": 42,
   "metadata": {},
   "outputs": [],
   "source": [
    "def cuit (string_dni):\n",
    "    \n",
    "    if ((string_dni.startswith('20')) & (len(string_dni)>8)):\n",
    "        cuit = string_dni [2:-1]\n",
    "        \n",
    "    elif ((string_dni.startswith('23')) & (len(string_dni)>8)):\n",
    "        cuit = string_dni [2:-1]\n",
    "        \n",
    "    elif ((string_dni.startswith('24')) & (len(string_dni)>8)):\n",
    "        cuit = string_dni [2:-1]\n",
    "\n",
    "    elif ((string_dni.startswith('27')) & (len(string_dni)>8)):\n",
    "        cuit = string_dni [2:-1]\n",
    "\n",
    "    else:\n",
    "        cuit = string_dni\n",
    "        \n",
    "    return cuit"
   ]
  },
  {
   "cell_type": "code",
   "execution_count": 43,
   "metadata": {},
   "outputs": [],
   "source": [
    "def dni_zero (string_dni):\n",
    "    \n",
    "    if string_dni.startswith('0'):\n",
    "        dni = string_dni [1:]\n",
    "\n",
    "    else:\n",
    "        dni = string_dni\n",
    "    \n",
    "    return dni"
   ]
  },
  {
   "cell_type": "markdown",
   "metadata": {},
   "source": [
    "En primer lugar, trimmeamos los espacios que sobran:"
   ]
  },
  {
   "cell_type": "code",
   "execution_count": 44,
   "metadata": {},
   "outputs": [],
   "source": [
    "df_log['NRO_DOC'] = [(str(df_log['NRO_DOC'][i]).strip()) for i in range (df_log['NRO_DOC'].count())]"
   ]
  },
  {
   "cell_type": "markdown",
   "metadata": {},
   "source": [
    "Se implementan estas funciones:"
   ]
  },
  {
   "cell_type": "markdown",
   "metadata": {},
   "source": [
    "Para determinar el __TIPO DE DOCUMENTO__ en primer lugar:"
   ]
  },
  {
   "cell_type": "code",
   "execution_count": 45,
   "metadata": {},
   "outputs": [],
   "source": [
    "df_log['TIPO_DOC'] = [tipo_doc_1(df_log['NRO_DOC'][i]) for i in range (df_log['NRO_DOC'].count())]"
   ]
  },
  {
   "cell_type": "markdown",
   "metadata": {},
   "source": [
    "Para la limpieza de DNIs:"
   ]
  },
  {
   "cell_type": "code",
   "execution_count": 46,
   "metadata": {},
   "outputs": [],
   "source": [
    "df_log['NRO_DOC'] = [standard_dni(df_log['NRO_DOC'][i]) for i in range (df_log['NRO_DOC'].count())]"
   ]
  },
  {
   "cell_type": "code",
   "execution_count": 47,
   "metadata": {},
   "outputs": [],
   "source": [
    "df_log['NRO_DOC'] = [dni_characters(df_log['NRO_DOC'][i]) for i in range (df_log['NRO_DOC'].count())]"
   ]
  },
  {
   "cell_type": "code",
   "execution_count": 48,
   "metadata": {},
   "outputs": [],
   "source": [
    "df_log['NRO_DOC'] = [cuit(df_log['NRO_DOC'][i]) for i in range (df_log['NRO_DOC'].count())]"
   ]
  },
  {
   "cell_type": "code",
   "execution_count": 49,
   "metadata": {},
   "outputs": [],
   "source": [
    "df_log['NRO_DOC'] = [dni_zero(df_log['NRO_DOC'][i]) for i in range (df_log['NRO_DOC'].count())]"
   ]
  },
  {
   "cell_type": "markdown",
   "metadata": {},
   "source": [
    "Para corregir el __TIPO DE DOCUMENTO__ sobre el dataframe resultante"
   ]
  },
  {
   "cell_type": "code",
   "execution_count": 50,
   "metadata": {},
   "outputs": [],
   "source": [
    "df_log['TIPO_DOC'] = [tipo_doc_2(df_log['NRO_DOC'][i],df_log['TIPO_DOC'][i]) for i in range (df_log['NRO_DOC'].count())]"
   ]
  },
  {
   "cell_type": "code",
   "execution_count": 51,
   "metadata": {
    "scrolled": false
   },
   "outputs": [
    {
     "data": {
      "text/html": [
       "<div>\n",
       "<style scoped>\n",
       "    .dataframe tbody tr th:only-of-type {\n",
       "        vertical-align: middle;\n",
       "    }\n",
       "\n",
       "    .dataframe tbody tr th {\n",
       "        vertical-align: top;\n",
       "    }\n",
       "\n",
       "    .dataframe thead th {\n",
       "        text-align: right;\n",
       "    }\n",
       "</style>\n",
       "<table border=\"1\" class=\"dataframe\">\n",
       "  <thead>\n",
       "    <tr style=\"text-align: right;\">\n",
       "      <th></th>\n",
       "      <th>IDMOROSO</th>\n",
       "      <th>DATOADIC</th>\n",
       "      <th>IDCLIENTE</th>\n",
       "      <th>ESTADO_ANTERIOR</th>\n",
       "      <th>FECHA_ENVIO_ENRIQUECIMIENTO</th>\n",
       "      <th>FECHA_INSERCION_DATO</th>\n",
       "      <th>FECHA_CAMBIO_ESTADO</th>\n",
       "      <th>PROVEEDOR</th>\n",
       "      <th>CATEGORIA</th>\n",
       "      <th>NRO_DOC</th>\n",
       "      <th>TIPO_DOC</th>\n",
       "    </tr>\n",
       "  </thead>\n",
       "  <tbody>\n",
       "    <tr>\n",
       "      <th>0</th>\n",
       "      <td>DNI 14384837</td>\n",
       "      <td>NaN</td>\n",
       "      <td>FRANCES_2012</td>\n",
       "      <td>NO VISTO</td>\n",
       "      <td>2021-03-17</td>\n",
       "      <td>2021-03-19</td>\n",
       "      <td>2021-03-19</td>\n",
       "      <td>AD</td>\n",
       "      <td>NEUTRO</td>\n",
       "      <td>14384837</td>\n",
       "      <td>DNI</td>\n",
       "    </tr>\n",
       "    <tr>\n",
       "      <th>1</th>\n",
       "      <td>DNI 33803357</td>\n",
       "      <td>NaN</td>\n",
       "      <td>FRANCES_2012</td>\n",
       "      <td>NO VISTO</td>\n",
       "      <td>2021-03-17</td>\n",
       "      <td>2021-03-19</td>\n",
       "      <td>2021-03-19</td>\n",
       "      <td>AD</td>\n",
       "      <td>NEUTRO</td>\n",
       "      <td>33803357</td>\n",
       "      <td>DNI</td>\n",
       "    </tr>\n",
       "    <tr>\n",
       "      <th>2</th>\n",
       "      <td>DNI 34570749</td>\n",
       "      <td>NaN</td>\n",
       "      <td>FRANCES_2012</td>\n",
       "      <td>NO VISTO</td>\n",
       "      <td>2021-03-17</td>\n",
       "      <td>2021-03-19</td>\n",
       "      <td>2021-03-19</td>\n",
       "      <td>AD</td>\n",
       "      <td>NEUTRO</td>\n",
       "      <td>34570749</td>\n",
       "      <td>DNI</td>\n",
       "    </tr>\n",
       "    <tr>\n",
       "      <th>3</th>\n",
       "      <td>DNI 36991995</td>\n",
       "      <td>NaN</td>\n",
       "      <td>FRANCES_2012</td>\n",
       "      <td>NO VISTO</td>\n",
       "      <td>2021-03-17</td>\n",
       "      <td>2021-03-19</td>\n",
       "      <td>2021-03-19</td>\n",
       "      <td>AD</td>\n",
       "      <td>NEUTRO</td>\n",
       "      <td>36991995</td>\n",
       "      <td>DNI</td>\n",
       "    </tr>\n",
       "    <tr>\n",
       "      <th>4</th>\n",
       "      <td>DNI 40359046</td>\n",
       "      <td>NaN</td>\n",
       "      <td>FRANCES_2012</td>\n",
       "      <td>NO VISTO</td>\n",
       "      <td>2021-03-17</td>\n",
       "      <td>2021-03-19</td>\n",
       "      <td>2021-03-19</td>\n",
       "      <td>AD</td>\n",
       "      <td>NEUTRO</td>\n",
       "      <td>40359046</td>\n",
       "      <td>DNI</td>\n",
       "    </tr>\n",
       "  </tbody>\n",
       "</table>\n",
       "</div>"
      ],
      "text/plain": [
       "             IDMOROSO DATOADIC             IDCLIENTE ESTADO_ANTERIOR  \\\n",
       "0  DNI 14384837            NaN  FRANCES_2012                NO VISTO   \n",
       "1  DNI 33803357            NaN  FRANCES_2012                NO VISTO   \n",
       "2  DNI 34570749            NaN  FRANCES_2012                NO VISTO   \n",
       "3  DNI 36991995            NaN  FRANCES_2012                NO VISTO   \n",
       "4  DNI 40359046            NaN  FRANCES_2012                NO VISTO   \n",
       "\n",
       "  FECHA_ENVIO_ENRIQUECIMIENTO FECHA_INSERCION_DATO FECHA_CAMBIO_ESTADO  \\\n",
       "0                  2021-03-17           2021-03-19          2021-03-19   \n",
       "1                  2021-03-17           2021-03-19          2021-03-19   \n",
       "2                  2021-03-17           2021-03-19          2021-03-19   \n",
       "3                  2021-03-17           2021-03-19          2021-03-19   \n",
       "4                  2021-03-17           2021-03-19          2021-03-19   \n",
       "\n",
       "  PROVEEDOR CATEGORIA   NRO_DOC TIPO_DOC  \n",
       "0        AD    NEUTRO  14384837      DNI  \n",
       "1        AD    NEUTRO  33803357      DNI  \n",
       "2        AD    NEUTRO  34570749      DNI  \n",
       "3        AD    NEUTRO  36991995      DNI  \n",
       "4        AD    NEUTRO  40359046      DNI  "
      ]
     },
     "execution_count": 51,
     "metadata": {},
     "output_type": "execute_result"
    }
   ],
   "source": [
    "df_log.head()"
   ]
  },
  {
   "cell_type": "code",
   "execution_count": 52,
   "metadata": {},
   "outputs": [
    {
     "data": {
      "text/plain": [
       "(696, 11)"
      ]
     },
     "execution_count": 52,
     "metadata": {},
     "output_type": "execute_result"
    }
   ],
   "source": [
    "df_log.shape"
   ]
  },
  {
   "cell_type": "markdown",
   "metadata": {},
   "source": [
    "# 13) Union de Dataframes"
   ]
  },
  {
   "cell_type": "markdown",
   "metadata": {},
   "source": [
    "Se unen ambos dataframes en la columna NRO_DOC"
   ]
  },
  {
   "cell_type": "markdown",
   "metadata": {},
   "source": [
    "Convertimos la columna NRO_DOC de objeto a INT para hacer la unión"
   ]
  },
  {
   "cell_type": "code",
   "execution_count": 53,
   "metadata": {},
   "outputs": [],
   "source": [
    "df_reduced = df_reduced.astype({'NRO_DOC': 'str'})"
   ]
  },
  {
   "cell_type": "code",
   "execution_count": 54,
   "metadata": {},
   "outputs": [],
   "source": [
    "df_reduced ['NRO_DOC'] = df_reduced ['NRO_DOC'].str.split('.').str[0]"
   ]
  },
  {
   "cell_type": "code",
   "execution_count": 55,
   "metadata": {},
   "outputs": [],
   "source": [
    "df_union = pd.merge(df_log, df_reduced, on='NRO_DOC', how='inner')"
   ]
  },
  {
   "cell_type": "code",
   "execution_count": 56,
   "metadata": {
    "scrolled": true
   },
   "outputs": [
    {
     "data": {
      "text/plain": [
       "(665, 12)"
      ]
     },
     "execution_count": 56,
     "metadata": {},
     "output_type": "execute_result"
    }
   ],
   "source": [
    "df_union.shape"
   ]
  },
  {
   "cell_type": "code",
   "execution_count": 57,
   "metadata": {
    "scrolled": false
   },
   "outputs": [
    {
     "data": {
      "text/html": [
       "<div>\n",
       "<style scoped>\n",
       "    .dataframe tbody tr th:only-of-type {\n",
       "        vertical-align: middle;\n",
       "    }\n",
       "\n",
       "    .dataframe tbody tr th {\n",
       "        vertical-align: top;\n",
       "    }\n",
       "\n",
       "    .dataframe thead th {\n",
       "        text-align: right;\n",
       "    }\n",
       "</style>\n",
       "<table border=\"1\" class=\"dataframe\">\n",
       "  <thead>\n",
       "    <tr style=\"text-align: right;\">\n",
       "      <th></th>\n",
       "      <th>IDMOROSO</th>\n",
       "      <th>DATOADIC</th>\n",
       "      <th>IDCLIENTE</th>\n",
       "      <th>ESTADO_ANTERIOR</th>\n",
       "      <th>FECHA_ENVIO_ENRIQUECIMIENTO</th>\n",
       "      <th>FECHA_INSERCION_DATO</th>\n",
       "      <th>FECHA_CAMBIO_ESTADO</th>\n",
       "      <th>PROVEEDOR</th>\n",
       "      <th>CATEGORIA</th>\n",
       "      <th>NRO_DOC</th>\n",
       "      <th>TIPO_DOC</th>\n",
       "      <th>CUIT_CUIL</th>\n",
       "    </tr>\n",
       "  </thead>\n",
       "  <tbody>\n",
       "    <tr>\n",
       "      <th>0</th>\n",
       "      <td>DNI 14384837</td>\n",
       "      <td>NaN</td>\n",
       "      <td>FRANCES_2012</td>\n",
       "      <td>NO VISTO</td>\n",
       "      <td>2021-03-17</td>\n",
       "      <td>2021-03-19</td>\n",
       "      <td>2021-03-19</td>\n",
       "      <td>AD</td>\n",
       "      <td>NEUTRO</td>\n",
       "      <td>14384837</td>\n",
       "      <td>DNI</td>\n",
       "      <td>2.714385e+10</td>\n",
       "    </tr>\n",
       "    <tr>\n",
       "      <th>1</th>\n",
       "      <td>DNI 33803357</td>\n",
       "      <td>NaN</td>\n",
       "      <td>FRANCES_2012</td>\n",
       "      <td>NO VISTO</td>\n",
       "      <td>2021-03-17</td>\n",
       "      <td>2021-03-19</td>\n",
       "      <td>2021-03-19</td>\n",
       "      <td>AD</td>\n",
       "      <td>NEUTRO</td>\n",
       "      <td>33803357</td>\n",
       "      <td>DNI</td>\n",
       "      <td>2.733803e+10</td>\n",
       "    </tr>\n",
       "    <tr>\n",
       "      <th>2</th>\n",
       "      <td>DNI 34570749</td>\n",
       "      <td>NaN</td>\n",
       "      <td>FRANCES_2012</td>\n",
       "      <td>NO VISTO</td>\n",
       "      <td>2021-03-17</td>\n",
       "      <td>2021-03-19</td>\n",
       "      <td>2021-03-19</td>\n",
       "      <td>AD</td>\n",
       "      <td>NEUTRO</td>\n",
       "      <td>34570749</td>\n",
       "      <td>DNI</td>\n",
       "      <td>2.734571e+10</td>\n",
       "    </tr>\n",
       "    <tr>\n",
       "      <th>3</th>\n",
       "      <td>DNI 36991995</td>\n",
       "      <td>NaN</td>\n",
       "      <td>FRANCES_2012</td>\n",
       "      <td>NO VISTO</td>\n",
       "      <td>2021-03-17</td>\n",
       "      <td>2021-03-19</td>\n",
       "      <td>2021-03-19</td>\n",
       "      <td>AD</td>\n",
       "      <td>NEUTRO</td>\n",
       "      <td>36991995</td>\n",
       "      <td>DNI</td>\n",
       "      <td>2.036992e+10</td>\n",
       "    </tr>\n",
       "    <tr>\n",
       "      <th>4</th>\n",
       "      <td>DNI 40359046</td>\n",
       "      <td>NaN</td>\n",
       "      <td>FRANCES_2012</td>\n",
       "      <td>NO VISTO</td>\n",
       "      <td>2021-03-17</td>\n",
       "      <td>2021-03-19</td>\n",
       "      <td>2021-03-19</td>\n",
       "      <td>AD</td>\n",
       "      <td>NEUTRO</td>\n",
       "      <td>40359046</td>\n",
       "      <td>DNI</td>\n",
       "      <td>2.740359e+10</td>\n",
       "    </tr>\n",
       "  </tbody>\n",
       "</table>\n",
       "</div>"
      ],
      "text/plain": [
       "             IDMOROSO DATOADIC             IDCLIENTE ESTADO_ANTERIOR  \\\n",
       "0  DNI 14384837            NaN  FRANCES_2012                NO VISTO   \n",
       "1  DNI 33803357            NaN  FRANCES_2012                NO VISTO   \n",
       "2  DNI 34570749            NaN  FRANCES_2012                NO VISTO   \n",
       "3  DNI 36991995            NaN  FRANCES_2012                NO VISTO   \n",
       "4  DNI 40359046            NaN  FRANCES_2012                NO VISTO   \n",
       "\n",
       "  FECHA_ENVIO_ENRIQUECIMIENTO FECHA_INSERCION_DATO FECHA_CAMBIO_ESTADO  \\\n",
       "0                  2021-03-17           2021-03-19          2021-03-19   \n",
       "1                  2021-03-17           2021-03-19          2021-03-19   \n",
       "2                  2021-03-17           2021-03-19          2021-03-19   \n",
       "3                  2021-03-17           2021-03-19          2021-03-19   \n",
       "4                  2021-03-17           2021-03-19          2021-03-19   \n",
       "\n",
       "  PROVEEDOR CATEGORIA   NRO_DOC TIPO_DOC     CUIT_CUIL  \n",
       "0        AD    NEUTRO  14384837      DNI  2.714385e+10  \n",
       "1        AD    NEUTRO  33803357      DNI  2.733803e+10  \n",
       "2        AD    NEUTRO  34570749      DNI  2.734571e+10  \n",
       "3        AD    NEUTRO  36991995      DNI  2.036992e+10  \n",
       "4        AD    NEUTRO  40359046      DNI  2.740359e+10  "
      ]
     },
     "execution_count": 57,
     "metadata": {},
     "output_type": "execute_result"
    }
   ],
   "source": [
    "df_union.head()"
   ]
  },
  {
   "cell_type": "code",
   "execution_count": 58,
   "metadata": {},
   "outputs": [],
   "source": [
    "df_clean = df_union.drop_duplicates()"
   ]
  },
  {
   "cell_type": "code",
   "execution_count": 59,
   "metadata": {},
   "outputs": [
    {
     "data": {
      "text/plain": [
       "(665, 12)"
      ]
     },
     "execution_count": 59,
     "metadata": {},
     "output_type": "execute_result"
    }
   ],
   "source": [
    "df_clean.shape"
   ]
  },
  {
   "cell_type": "code",
   "execution_count": 60,
   "metadata": {},
   "outputs": [],
   "source": [
    "duplicateRowsDF = df_union[df_union.duplicated(subset=['IDMOROSO'], keep=False)]"
   ]
  },
  {
   "cell_type": "code",
   "execution_count": 61,
   "metadata": {
    "scrolled": true
   },
   "outputs": [
    {
     "data": {
      "text/html": [
       "<div>\n",
       "<style scoped>\n",
       "    .dataframe tbody tr th:only-of-type {\n",
       "        vertical-align: middle;\n",
       "    }\n",
       "\n",
       "    .dataframe tbody tr th {\n",
       "        vertical-align: top;\n",
       "    }\n",
       "\n",
       "    .dataframe thead th {\n",
       "        text-align: right;\n",
       "    }\n",
       "</style>\n",
       "<table border=\"1\" class=\"dataframe\">\n",
       "  <thead>\n",
       "    <tr style=\"text-align: right;\">\n",
       "      <th></th>\n",
       "      <th>IDMOROSO</th>\n",
       "      <th>DATOADIC</th>\n",
       "      <th>IDCLIENTE</th>\n",
       "      <th>ESTADO_ANTERIOR</th>\n",
       "      <th>FECHA_ENVIO_ENRIQUECIMIENTO</th>\n",
       "      <th>FECHA_INSERCION_DATO</th>\n",
       "      <th>FECHA_CAMBIO_ESTADO</th>\n",
       "      <th>PROVEEDOR</th>\n",
       "      <th>CATEGORIA</th>\n",
       "      <th>NRO_DOC</th>\n",
       "      <th>TIPO_DOC</th>\n",
       "      <th>CUIT_CUIL</th>\n",
       "    </tr>\n",
       "  </thead>\n",
       "  <tbody>\n",
       "  </tbody>\n",
       "</table>\n",
       "</div>"
      ],
      "text/plain": [
       "Empty DataFrame\n",
       "Columns: [IDMOROSO, DATOADIC, IDCLIENTE, ESTADO_ANTERIOR, FECHA_ENVIO_ENRIQUECIMIENTO, FECHA_INSERCION_DATO, FECHA_CAMBIO_ESTADO, PROVEEDOR, CATEGORIA, NRO_DOC, TIPO_DOC, CUIT_CUIL]\n",
       "Index: []"
      ]
     },
     "execution_count": 61,
     "metadata": {},
     "output_type": "execute_result"
    }
   ],
   "source": [
    "duplicateRowsDF"
   ]
  },
  {
   "cell_type": "markdown",
   "metadata": {},
   "source": [
    "## Nuevo Estado"
   ]
  },
  {
   "cell_type": "markdown",
   "metadata": {
    "scrolled": true
   },
   "source": [
    "Como no se usaron nuevos estados, se deja en nulo"
   ]
  },
  {
   "cell_type": "code",
   "execution_count": 62,
   "metadata": {},
   "outputs": [],
   "source": [
    "df_clean = df_clean.assign(NUEVO_ESTADO=np.nan)"
   ]
  },
  {
   "cell_type": "markdown",
   "metadata": {},
   "source": [
    "## Enriquecido"
   ]
  },
  {
   "cell_type": "markdown",
   "metadata": {},
   "source": [
    "Nota: sólo estoy mirando los enriquecidos. Si no se enriqueció, no lo mando al LOG."
   ]
  },
  {
   "cell_type": "code",
   "execution_count": 63,
   "metadata": {},
   "outputs": [],
   "source": [
    "df_clean = df_clean.assign(ENRIQUECIDO=1)"
   ]
  },
  {
   "cell_type": "code",
   "execution_count": 64,
   "metadata": {},
   "outputs": [
    {
     "data": {
      "text/html": [
       "<div>\n",
       "<style scoped>\n",
       "    .dataframe tbody tr th:only-of-type {\n",
       "        vertical-align: middle;\n",
       "    }\n",
       "\n",
       "    .dataframe tbody tr th {\n",
       "        vertical-align: top;\n",
       "    }\n",
       "\n",
       "    .dataframe thead th {\n",
       "        text-align: right;\n",
       "    }\n",
       "</style>\n",
       "<table border=\"1\" class=\"dataframe\">\n",
       "  <thead>\n",
       "    <tr style=\"text-align: right;\">\n",
       "      <th></th>\n",
       "      <th>IDMOROSO</th>\n",
       "      <th>DATOADIC</th>\n",
       "      <th>IDCLIENTE</th>\n",
       "      <th>ESTADO_ANTERIOR</th>\n",
       "      <th>FECHA_ENVIO_ENRIQUECIMIENTO</th>\n",
       "      <th>FECHA_INSERCION_DATO</th>\n",
       "      <th>FECHA_CAMBIO_ESTADO</th>\n",
       "      <th>PROVEEDOR</th>\n",
       "      <th>CATEGORIA</th>\n",
       "      <th>NRO_DOC</th>\n",
       "      <th>TIPO_DOC</th>\n",
       "      <th>CUIT_CUIL</th>\n",
       "      <th>NUEVO_ESTADO</th>\n",
       "      <th>ENRIQUECIDO</th>\n",
       "    </tr>\n",
       "  </thead>\n",
       "  <tbody>\n",
       "    <tr>\n",
       "      <th>0</th>\n",
       "      <td>DNI 14384837</td>\n",
       "      <td>NaN</td>\n",
       "      <td>FRANCES_2012</td>\n",
       "      <td>NO VISTO</td>\n",
       "      <td>2021-03-17</td>\n",
       "      <td>2021-03-19</td>\n",
       "      <td>2021-03-19</td>\n",
       "      <td>AD</td>\n",
       "      <td>NEUTRO</td>\n",
       "      <td>14384837</td>\n",
       "      <td>DNI</td>\n",
       "      <td>2.714385e+10</td>\n",
       "      <td>NaN</td>\n",
       "      <td>1</td>\n",
       "    </tr>\n",
       "    <tr>\n",
       "      <th>1</th>\n",
       "      <td>DNI 33803357</td>\n",
       "      <td>NaN</td>\n",
       "      <td>FRANCES_2012</td>\n",
       "      <td>NO VISTO</td>\n",
       "      <td>2021-03-17</td>\n",
       "      <td>2021-03-19</td>\n",
       "      <td>2021-03-19</td>\n",
       "      <td>AD</td>\n",
       "      <td>NEUTRO</td>\n",
       "      <td>33803357</td>\n",
       "      <td>DNI</td>\n",
       "      <td>2.733803e+10</td>\n",
       "      <td>NaN</td>\n",
       "      <td>1</td>\n",
       "    </tr>\n",
       "    <tr>\n",
       "      <th>2</th>\n",
       "      <td>DNI 34570749</td>\n",
       "      <td>NaN</td>\n",
       "      <td>FRANCES_2012</td>\n",
       "      <td>NO VISTO</td>\n",
       "      <td>2021-03-17</td>\n",
       "      <td>2021-03-19</td>\n",
       "      <td>2021-03-19</td>\n",
       "      <td>AD</td>\n",
       "      <td>NEUTRO</td>\n",
       "      <td>34570749</td>\n",
       "      <td>DNI</td>\n",
       "      <td>2.734571e+10</td>\n",
       "      <td>NaN</td>\n",
       "      <td>1</td>\n",
       "    </tr>\n",
       "    <tr>\n",
       "      <th>3</th>\n",
       "      <td>DNI 36991995</td>\n",
       "      <td>NaN</td>\n",
       "      <td>FRANCES_2012</td>\n",
       "      <td>NO VISTO</td>\n",
       "      <td>2021-03-17</td>\n",
       "      <td>2021-03-19</td>\n",
       "      <td>2021-03-19</td>\n",
       "      <td>AD</td>\n",
       "      <td>NEUTRO</td>\n",
       "      <td>36991995</td>\n",
       "      <td>DNI</td>\n",
       "      <td>2.036992e+10</td>\n",
       "      <td>NaN</td>\n",
       "      <td>1</td>\n",
       "    </tr>\n",
       "    <tr>\n",
       "      <th>4</th>\n",
       "      <td>DNI 40359046</td>\n",
       "      <td>NaN</td>\n",
       "      <td>FRANCES_2012</td>\n",
       "      <td>NO VISTO</td>\n",
       "      <td>2021-03-17</td>\n",
       "      <td>2021-03-19</td>\n",
       "      <td>2021-03-19</td>\n",
       "      <td>AD</td>\n",
       "      <td>NEUTRO</td>\n",
       "      <td>40359046</td>\n",
       "      <td>DNI</td>\n",
       "      <td>2.740359e+10</td>\n",
       "      <td>NaN</td>\n",
       "      <td>1</td>\n",
       "    </tr>\n",
       "  </tbody>\n",
       "</table>\n",
       "</div>"
      ],
      "text/plain": [
       "             IDMOROSO DATOADIC             IDCLIENTE ESTADO_ANTERIOR  \\\n",
       "0  DNI 14384837            NaN  FRANCES_2012                NO VISTO   \n",
       "1  DNI 33803357            NaN  FRANCES_2012                NO VISTO   \n",
       "2  DNI 34570749            NaN  FRANCES_2012                NO VISTO   \n",
       "3  DNI 36991995            NaN  FRANCES_2012                NO VISTO   \n",
       "4  DNI 40359046            NaN  FRANCES_2012                NO VISTO   \n",
       "\n",
       "  FECHA_ENVIO_ENRIQUECIMIENTO FECHA_INSERCION_DATO FECHA_CAMBIO_ESTADO  \\\n",
       "0                  2021-03-17           2021-03-19          2021-03-19   \n",
       "1                  2021-03-17           2021-03-19          2021-03-19   \n",
       "2                  2021-03-17           2021-03-19          2021-03-19   \n",
       "3                  2021-03-17           2021-03-19          2021-03-19   \n",
       "4                  2021-03-17           2021-03-19          2021-03-19   \n",
       "\n",
       "  PROVEEDOR CATEGORIA   NRO_DOC TIPO_DOC     CUIT_CUIL  NUEVO_ESTADO  \\\n",
       "0        AD    NEUTRO  14384837      DNI  2.714385e+10           NaN   \n",
       "1        AD    NEUTRO  33803357      DNI  2.733803e+10           NaN   \n",
       "2        AD    NEUTRO  34570749      DNI  2.734571e+10           NaN   \n",
       "3        AD    NEUTRO  36991995      DNI  2.036992e+10           NaN   \n",
       "4        AD    NEUTRO  40359046      DNI  2.740359e+10           NaN   \n",
       "\n",
       "   ENRIQUECIDO  \n",
       "0            1  \n",
       "1            1  \n",
       "2            1  \n",
       "3            1  \n",
       "4            1  "
      ]
     },
     "execution_count": 64,
     "metadata": {},
     "output_type": "execute_result"
    }
   ],
   "source": [
    "df_clean.head()"
   ]
  },
  {
   "cell_type": "code",
   "execution_count": 65,
   "metadata": {},
   "outputs": [],
   "source": [
    "df_clean = df_clean [['IDMOROSO','IDCLIENTE','ESTADO_ANTERIOR','CATEGORIA','NUEVO_ESTADO','ENRIQUECIDO','FECHA_ENVIO_ENRIQUECIMIENTO','FECHA_INSERCION_DATO','FECHA_CAMBIO_ESTADO','PROVEEDOR']]"
   ]
  },
  {
   "cell_type": "code",
   "execution_count": 66,
   "metadata": {
    "scrolled": true
   },
   "outputs": [
    {
     "data": {
      "text/html": [
       "<div>\n",
       "<style scoped>\n",
       "    .dataframe tbody tr th:only-of-type {\n",
       "        vertical-align: middle;\n",
       "    }\n",
       "\n",
       "    .dataframe tbody tr th {\n",
       "        vertical-align: top;\n",
       "    }\n",
       "\n",
       "    .dataframe thead th {\n",
       "        text-align: right;\n",
       "    }\n",
       "</style>\n",
       "<table border=\"1\" class=\"dataframe\">\n",
       "  <thead>\n",
       "    <tr style=\"text-align: right;\">\n",
       "      <th></th>\n",
       "      <th>IDMOROSO</th>\n",
       "      <th>IDCLIENTE</th>\n",
       "      <th>ESTADO_ANTERIOR</th>\n",
       "      <th>CATEGORIA</th>\n",
       "      <th>NUEVO_ESTADO</th>\n",
       "      <th>ENRIQUECIDO</th>\n",
       "      <th>FECHA_ENVIO_ENRIQUECIMIENTO</th>\n",
       "      <th>FECHA_INSERCION_DATO</th>\n",
       "      <th>FECHA_CAMBIO_ESTADO</th>\n",
       "      <th>PROVEEDOR</th>\n",
       "    </tr>\n",
       "  </thead>\n",
       "  <tbody>\n",
       "    <tr>\n",
       "      <th>0</th>\n",
       "      <td>DNI 14384837</td>\n",
       "      <td>FRANCES_2012</td>\n",
       "      <td>NO VISTO</td>\n",
       "      <td>NEUTRO</td>\n",
       "      <td>NaN</td>\n",
       "      <td>1</td>\n",
       "      <td>2021-03-17</td>\n",
       "      <td>2021-03-19</td>\n",
       "      <td>2021-03-19</td>\n",
       "      <td>AD</td>\n",
       "    </tr>\n",
       "    <tr>\n",
       "      <th>1</th>\n",
       "      <td>DNI 33803357</td>\n",
       "      <td>FRANCES_2012</td>\n",
       "      <td>NO VISTO</td>\n",
       "      <td>NEUTRO</td>\n",
       "      <td>NaN</td>\n",
       "      <td>1</td>\n",
       "      <td>2021-03-17</td>\n",
       "      <td>2021-03-19</td>\n",
       "      <td>2021-03-19</td>\n",
       "      <td>AD</td>\n",
       "    </tr>\n",
       "    <tr>\n",
       "      <th>2</th>\n",
       "      <td>DNI 34570749</td>\n",
       "      <td>FRANCES_2012</td>\n",
       "      <td>NO VISTO</td>\n",
       "      <td>NEUTRO</td>\n",
       "      <td>NaN</td>\n",
       "      <td>1</td>\n",
       "      <td>2021-03-17</td>\n",
       "      <td>2021-03-19</td>\n",
       "      <td>2021-03-19</td>\n",
       "      <td>AD</td>\n",
       "    </tr>\n",
       "    <tr>\n",
       "      <th>3</th>\n",
       "      <td>DNI 36991995</td>\n",
       "      <td>FRANCES_2012</td>\n",
       "      <td>NO VISTO</td>\n",
       "      <td>NEUTRO</td>\n",
       "      <td>NaN</td>\n",
       "      <td>1</td>\n",
       "      <td>2021-03-17</td>\n",
       "      <td>2021-03-19</td>\n",
       "      <td>2021-03-19</td>\n",
       "      <td>AD</td>\n",
       "    </tr>\n",
       "    <tr>\n",
       "      <th>4</th>\n",
       "      <td>DNI 40359046</td>\n",
       "      <td>FRANCES_2012</td>\n",
       "      <td>NO VISTO</td>\n",
       "      <td>NEUTRO</td>\n",
       "      <td>NaN</td>\n",
       "      <td>1</td>\n",
       "      <td>2021-03-17</td>\n",
       "      <td>2021-03-19</td>\n",
       "      <td>2021-03-19</td>\n",
       "      <td>AD</td>\n",
       "    </tr>\n",
       "  </tbody>\n",
       "</table>\n",
       "</div>"
      ],
      "text/plain": [
       "             IDMOROSO             IDCLIENTE ESTADO_ANTERIOR CATEGORIA  \\\n",
       "0  DNI 14384837        FRANCES_2012                NO VISTO    NEUTRO   \n",
       "1  DNI 33803357        FRANCES_2012                NO VISTO    NEUTRO   \n",
       "2  DNI 34570749        FRANCES_2012                NO VISTO    NEUTRO   \n",
       "3  DNI 36991995        FRANCES_2012                NO VISTO    NEUTRO   \n",
       "4  DNI 40359046        FRANCES_2012                NO VISTO    NEUTRO   \n",
       "\n",
       "   NUEVO_ESTADO  ENRIQUECIDO FECHA_ENVIO_ENRIQUECIMIENTO FECHA_INSERCION_DATO  \\\n",
       "0           NaN            1                  2021-03-17           2021-03-19   \n",
       "1           NaN            1                  2021-03-17           2021-03-19   \n",
       "2           NaN            1                  2021-03-17           2021-03-19   \n",
       "3           NaN            1                  2021-03-17           2021-03-19   \n",
       "4           NaN            1                  2021-03-17           2021-03-19   \n",
       "\n",
       "  FECHA_CAMBIO_ESTADO PROVEEDOR  \n",
       "0          2021-03-19        AD  \n",
       "1          2021-03-19        AD  \n",
       "2          2021-03-19        AD  \n",
       "3          2021-03-19        AD  \n",
       "4          2021-03-19        AD  "
      ]
     },
     "execution_count": 66,
     "metadata": {},
     "output_type": "execute_result"
    }
   ],
   "source": [
    "df_clean.head()"
   ]
  },
  {
   "cell_type": "code",
   "execution_count": 67,
   "metadata": {},
   "outputs": [
    {
     "data": {
      "text/plain": [
       "(665, 10)"
      ]
     },
     "execution_count": 67,
     "metadata": {},
     "output_type": "execute_result"
    }
   ],
   "source": [
    "df_clean.shape"
   ]
  },
  {
   "cell_type": "markdown",
   "metadata": {},
   "source": [
    "# Export"
   ]
  },
  {
   "cell_type": "code",
   "execution_count": 68,
   "metadata": {},
   "outputs": [],
   "source": [
    "df_clean.to_csv('/mnt/c/Users/Dleg/Data/MOPC/MOPC/Enriquecimiento de Datos/Data Cleaning/Insiders/Exports/DAM_LOG/Insiders_ENRIQUECIDOS_DAM_LOG - 1803.csv',index=False)"
   ]
  },
  {
   "cell_type": "code",
   "execution_count": null,
   "metadata": {},
   "outputs": [],
   "source": []
  }
 ],
 "metadata": {
  "kernelspec": {
   "display_name": "Python 3",
   "language": "python",
   "name": "python3"
  },
  "language_info": {
   "codemirror_mode": {
    "name": "ipython",
    "version": 3
   },
   "file_extension": ".py",
   "mimetype": "text/x-python",
   "name": "python",
   "nbconvert_exporter": "python",
   "pygments_lexer": "ipython3",
   "version": "3.8.6"
  }
 },
 "nbformat": 4,
 "nbformat_minor": 4
}
