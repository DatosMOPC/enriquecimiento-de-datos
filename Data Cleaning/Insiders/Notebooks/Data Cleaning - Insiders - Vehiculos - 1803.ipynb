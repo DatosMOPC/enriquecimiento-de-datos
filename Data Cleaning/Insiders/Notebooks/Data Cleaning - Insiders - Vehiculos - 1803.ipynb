{
 "cells": [
  {
   "cell_type": "markdown",
   "metadata": {},
   "source": [
    "# 1) Datasets"
   ]
  },
  {
   "cell_type": "code",
   "execution_count": 1,
   "metadata": {},
   "outputs": [],
   "source": [
    "import pandas as pd\n",
    "import numpy as np"
   ]
  },
  {
   "cell_type": "code",
   "execution_count": 2,
   "metadata": {},
   "outputs": [],
   "source": [
    "df = pd.read_excel('/mnt/c/users/Dleg/Data/MOPC/MOPC/Enriquecimiento de Datos/Data Cleaning/Insiders/Datasets/Datasets recibidos/ENRIQ_IN_1672_20210317.xlsx',skiprows=2, header=[0,1])"
   ]
  },
  {
   "cell_type": "code",
   "execution_count": 3,
   "metadata": {},
   "outputs": [
    {
     "data": {
      "text/html": [
       "<div>\n",
       "<style scoped>\n",
       "    .dataframe tbody tr th:only-of-type {\n",
       "        vertical-align: middle;\n",
       "    }\n",
       "\n",
       "    .dataframe tbody tr th {\n",
       "        vertical-align: top;\n",
       "    }\n",
       "\n",
       "    .dataframe thead tr th {\n",
       "        text-align: left;\n",
       "    }\n",
       "</style>\n",
       "<table border=\"1\" class=\"dataframe\">\n",
       "  <thead>\n",
       "    <tr>\n",
       "      <th></th>\n",
       "      <th>Unnamed: 0_level_0</th>\n",
       "      <th>Unnamed: 1_level_0</th>\n",
       "      <th>Unnamed: 2_level_0</th>\n",
       "      <th>Unnamed: 3_level_0</th>\n",
       "      <th>Unnamed: 4_level_0</th>\n",
       "      <th>Unnamed: 5_level_0</th>\n",
       "      <th>Unnamed: 6_level_0</th>\n",
       "      <th>Unnamed: 7_level_0</th>\n",
       "      <th>Unnamed: 8_level_0</th>\n",
       "      <th>Unnamed: 9_level_0</th>\n",
       "      <th>...</th>\n",
       "      <th colspan=\"7\" halign=\"left\">Contactacion Opcional (Familiar)</th>\n",
       "      <th colspan=\"3\" halign=\"left\">Contactacion Opcional (Vecino)</th>\n",
       "    </tr>\n",
       "    <tr>\n",
       "      <th></th>\n",
       "      <th>Cuil</th>\n",
       "      <th>Dni</th>\n",
       "      <th>Fecha de Nac.</th>\n",
       "      <th>Fecha de Defuncion</th>\n",
       "      <th>Sexo</th>\n",
       "      <th>Titular</th>\n",
       "      <th>Calle</th>\n",
       "      <th>Numero</th>\n",
       "      <th>Piso y Depto</th>\n",
       "      <th>Codigo Postal</th>\n",
       "      <th>...</th>\n",
       "      <th>Tel Fijo 2</th>\n",
       "      <th>Celular 1</th>\n",
       "      <th>Celular 2</th>\n",
       "      <th>Celular 3</th>\n",
       "      <th>Celular 4</th>\n",
       "      <th>Celular 5</th>\n",
       "      <th>Email</th>\n",
       "      <th>Nombre</th>\n",
       "      <th>Telefono</th>\n",
       "      <th>SCORE</th>\n",
       "    </tr>\n",
       "  </thead>\n",
       "  <tbody>\n",
       "    <tr>\n",
       "      <th>0</th>\n",
       "      <td>2.700187e+10</td>\n",
       "      <td>187386.0</td>\n",
       "      <td>1929-04-02</td>\n",
       "      <td>NaN</td>\n",
       "      <td>F</td>\n",
       "      <td>HERRERA ENA ELSA</td>\n",
       "      <td>REP DE VENEZUELA</td>\n",
       "      <td>3700</td>\n",
       "      <td>NaN</td>\n",
       "      <td>1211.0</td>\n",
       "      <td>...</td>\n",
       "      <td>NaN</td>\n",
       "      <td>NaN</td>\n",
       "      <td>NaN</td>\n",
       "      <td>NaN</td>\n",
       "      <td>NaN</td>\n",
       "      <td>NaN</td>\n",
       "      <td>NaN</td>\n",
       "      <td>NaN</td>\n",
       "      <td>NaN</td>\n",
       "      <td>0.0</td>\n",
       "    </tr>\n",
       "    <tr>\n",
       "      <th>1</th>\n",
       "      <td>2.700508e+10</td>\n",
       "      <td>507550.0</td>\n",
       "      <td>1939-03-05</td>\n",
       "      <td>NaN</td>\n",
       "      <td>F</td>\n",
       "      <td>ENTRATICO IRMA CLARA</td>\n",
       "      <td>AV URUGUAY</td>\n",
       "      <td>875</td>\n",
       "      <td>NaN</td>\n",
       "      <td>4400.0</td>\n",
       "      <td>...</td>\n",
       "      <td>NaN</td>\n",
       "      <td>NaN</td>\n",
       "      <td>NaN</td>\n",
       "      <td>NaN</td>\n",
       "      <td>NaN</td>\n",
       "      <td>NaN</td>\n",
       "      <td>NaN</td>\n",
       "      <td>PATRON COSTAS GUSTAVO</td>\n",
       "      <td>3.874321e+09</td>\n",
       "      <td>34.0</td>\n",
       "    </tr>\n",
       "    <tr>\n",
       "      <th>2</th>\n",
       "      <td>2.704172e+10</td>\n",
       "      <td>4171534.0</td>\n",
       "      <td>1940-06-02</td>\n",
       "      <td>2020-12-15</td>\n",
       "      <td>F</td>\n",
       "      <td>ITUARTE MARGARITA HORTENSIA</td>\n",
       "      <td>PJE GRANDOLI</td>\n",
       "      <td>6100</td>\n",
       "      <td>NaN</td>\n",
       "      <td>1439.0</td>\n",
       "      <td>...</td>\n",
       "      <td>NaN</td>\n",
       "      <td>NaN</td>\n",
       "      <td>NaN</td>\n",
       "      <td>NaN</td>\n",
       "      <td>NaN</td>\n",
       "      <td>NaN</td>\n",
       "      <td>NaN</td>\n",
       "      <td>NaN</td>\n",
       "      <td>NaN</td>\n",
       "      <td>891.0</td>\n",
       "    </tr>\n",
       "    <tr>\n",
       "      <th>3</th>\n",
       "      <td>2.004174e+10</td>\n",
       "      <td>4173550.0</td>\n",
       "      <td>1936-01-28</td>\n",
       "      <td>NaN</td>\n",
       "      <td>M</td>\n",
       "      <td>VISCONTI EDUARDO JUAN</td>\n",
       "      <td>JUAN JOSE VIAMONTE</td>\n",
       "      <td>1592</td>\n",
       "      <td>NaN</td>\n",
       "      <td>1055.0</td>\n",
       "      <td>...</td>\n",
       "      <td>NaN</td>\n",
       "      <td>NaN</td>\n",
       "      <td>NaN</td>\n",
       "      <td>NaN</td>\n",
       "      <td>NaN</td>\n",
       "      <td>NaN</td>\n",
       "      <td>NaN</td>\n",
       "      <td>NaN</td>\n",
       "      <td>NaN</td>\n",
       "      <td>958.0</td>\n",
       "    </tr>\n",
       "    <tr>\n",
       "      <th>4</th>\n",
       "      <td>2.004200e+10</td>\n",
       "      <td>4200228.0</td>\n",
       "      <td>1936-12-08</td>\n",
       "      <td>NaN</td>\n",
       "      <td>M</td>\n",
       "      <td>CACCHIONE MIGUEL ANGEL</td>\n",
       "      <td>BRUNO MARIANO DE ZABALA</td>\n",
       "      <td>1706</td>\n",
       "      <td>NaN</td>\n",
       "      <td>1426.0</td>\n",
       "      <td>...</td>\n",
       "      <td>NaN</td>\n",
       "      <td>NaN</td>\n",
       "      <td>NaN</td>\n",
       "      <td>NaN</td>\n",
       "      <td>NaN</td>\n",
       "      <td>NaN</td>\n",
       "      <td>NaN</td>\n",
       "      <td>NaN</td>\n",
       "      <td>NaN</td>\n",
       "      <td>345.0</td>\n",
       "    </tr>\n",
       "  </tbody>\n",
       "</table>\n",
       "<p>5 rows × 226 columns</p>\n",
       "</div>"
      ],
      "text/plain": [
       "  Unnamed: 0_level_0 Unnamed: 1_level_0 Unnamed: 2_level_0 Unnamed: 3_level_0  \\\n",
       "                Cuil                Dni      Fecha de Nac. Fecha de Defuncion   \n",
       "0       2.700187e+10           187386.0         1929-04-02                NaN   \n",
       "1       2.700508e+10           507550.0         1939-03-05                NaN   \n",
       "2       2.704172e+10          4171534.0         1940-06-02         2020-12-15   \n",
       "3       2.004174e+10          4173550.0         1936-01-28                NaN   \n",
       "4       2.004200e+10          4200228.0         1936-12-08                NaN   \n",
       "\n",
       "  Unnamed: 4_level_0           Unnamed: 5_level_0       Unnamed: 6_level_0  \\\n",
       "                Sexo                      Titular                    Calle   \n",
       "0                  F             HERRERA ENA ELSA         REP DE VENEZUELA   \n",
       "1                  F         ENTRATICO IRMA CLARA               AV URUGUAY   \n",
       "2                  F  ITUARTE MARGARITA HORTENSIA             PJE GRANDOLI   \n",
       "3                  M        VISCONTI EDUARDO JUAN       JUAN JOSE VIAMONTE   \n",
       "4                  M       CACCHIONE MIGUEL ANGEL  BRUNO MARIANO DE ZABALA   \n",
       "\n",
       "  Unnamed: 7_level_0 Unnamed: 8_level_0 Unnamed: 9_level_0  ...  \\\n",
       "              Numero       Piso y Depto      Codigo Postal  ...   \n",
       "0               3700                NaN             1211.0  ...   \n",
       "1                875                NaN             4400.0  ...   \n",
       "2               6100                NaN             1439.0  ...   \n",
       "3               1592                NaN             1055.0  ...   \n",
       "4               1706                NaN             1426.0  ...   \n",
       "\n",
       "  Contactacion Opcional (Familiar)                                          \\\n",
       "                        Tel Fijo 2 Celular 1 Celular 2 Celular 3 Celular 4   \n",
       "0                              NaN       NaN       NaN       NaN       NaN   \n",
       "1                              NaN       NaN       NaN       NaN       NaN   \n",
       "2                              NaN       NaN       NaN       NaN       NaN   \n",
       "3                              NaN       NaN       NaN       NaN       NaN   \n",
       "4                              NaN       NaN       NaN       NaN       NaN   \n",
       "\n",
       "                  Contactacion Opcional (Vecino)                       \n",
       "  Celular 5 Email                         Nombre      Telefono  SCORE  \n",
       "0       NaN   NaN                            NaN           NaN    0.0  \n",
       "1       NaN   NaN          PATRON COSTAS GUSTAVO  3.874321e+09   34.0  \n",
       "2       NaN   NaN                            NaN           NaN  891.0  \n",
       "3       NaN   NaN                            NaN           NaN  958.0  \n",
       "4       NaN   NaN                            NaN           NaN  345.0  \n",
       "\n",
       "[5 rows x 226 columns]"
      ]
     },
     "execution_count": 3,
     "metadata": {},
     "output_type": "execute_result"
    }
   ],
   "source": [
    "df.head()"
   ]
  },
  {
   "cell_type": "code",
   "execution_count": 4,
   "metadata": {
    "scrolled": true
   },
   "outputs": [
    {
     "data": {
      "text/plain": [
       "(14872, 226)"
      ]
     },
     "execution_count": 4,
     "metadata": {},
     "output_type": "execute_result"
    }
   ],
   "source": [
    "df.shape"
   ]
  },
  {
   "cell_type": "markdown",
   "metadata": {},
   "source": [
    "## 1.2) Data Cleaning: Datasets"
   ]
  },
  {
   "cell_type": "markdown",
   "metadata": {},
   "source": [
    "Vamos a dropear aquellas columnas y filas que no tengan ningún valor (es decir, que sean todos NaNs)"
   ]
  },
  {
   "cell_type": "code",
   "execution_count": 5,
   "metadata": {},
   "outputs": [],
   "source": [
    "df = df.dropna(axis=0, how='all')"
   ]
  },
  {
   "cell_type": "code",
   "execution_count": 6,
   "metadata": {},
   "outputs": [],
   "source": [
    "#df = df.dropna(axis=1, how='all')"
   ]
  },
  {
   "cell_type": "code",
   "execution_count": 7,
   "metadata": {},
   "outputs": [
    {
     "data": {
      "text/plain": [
       "(664, 226)"
      ]
     },
     "execution_count": 7,
     "metadata": {},
     "output_type": "execute_result"
    }
   ],
   "source": [
    "df.shape"
   ]
  },
  {
   "cell_type": "markdown",
   "metadata": {},
   "source": [
    "Ahora todas las columnas tienen al menos 1 dato."
   ]
  },
  {
   "cell_type": "markdown",
   "metadata": {},
   "source": [
    "# 2) Vehículos"
   ]
  },
  {
   "cell_type": "markdown",
   "metadata": {},
   "source": [
    "Vamos a obtener los teléfonos de las columnas donde pueden aparecer, que son:\n",
    "\n",
    "Bienes registrados (Titular): \n",
    "- Patentados 2020-2001, Patentados menor al año 2001. __No__ me sirve tener la cantidad de patentados por el momento, ya que tengo sólo datos del último vehículo patentado.\n",
    "- Dominio: corresponde al dominio del último vehículo patentado.\n",
    "- Fecha Automotor (año de fabricación del vehículo).\n",
    "- Fecha de Compra.\n",
    "- Marca.\n",
    "- Modelo.\n"
   ]
  },
  {
   "cell_type": "code",
   "execution_count": 8,
   "metadata": {},
   "outputs": [],
   "source": [
    "df_reduced = df [[('Unnamed: 0_level_0','Cuil'),('Unnamed: 1_level_0','Dni'), ('Unnamed: 5_level_0','Titular')\n",
    "                  ,('Dominio','DdOMIN'),('Fecha Automotor','Unnamed: 129_level_1')\n",
    "                  ,('Fecha de Compra','Unnamed: 130_level_1'),('Marca','Unnamed: 131_level_1')\n",
    "                  ,('Modelo','Unnamed: 132_level_1')\n",
    "                  ]]"
   ]
  },
  {
   "cell_type": "code",
   "execution_count": 9,
   "metadata": {},
   "outputs": [
    {
     "data": {
      "text/html": [
       "<div>\n",
       "<style scoped>\n",
       "    .dataframe tbody tr th:only-of-type {\n",
       "        vertical-align: middle;\n",
       "    }\n",
       "\n",
       "    .dataframe tbody tr th {\n",
       "        vertical-align: top;\n",
       "    }\n",
       "\n",
       "    .dataframe thead tr th {\n",
       "        text-align: left;\n",
       "    }\n",
       "</style>\n",
       "<table border=\"1\" class=\"dataframe\">\n",
       "  <thead>\n",
       "    <tr>\n",
       "      <th></th>\n",
       "      <th>Unnamed: 0_level_0</th>\n",
       "      <th>Unnamed: 1_level_0</th>\n",
       "      <th>Unnamed: 5_level_0</th>\n",
       "      <th>Dominio</th>\n",
       "      <th>Fecha Automotor</th>\n",
       "      <th>Fecha de Compra</th>\n",
       "      <th>Marca</th>\n",
       "      <th>Modelo</th>\n",
       "    </tr>\n",
       "    <tr>\n",
       "      <th></th>\n",
       "      <th>Cuil</th>\n",
       "      <th>Dni</th>\n",
       "      <th>Titular</th>\n",
       "      <th>DdOMIN</th>\n",
       "      <th>Unnamed: 129_level_1</th>\n",
       "      <th>Unnamed: 130_level_1</th>\n",
       "      <th>Unnamed: 131_level_1</th>\n",
       "      <th>Unnamed: 132_level_1</th>\n",
       "    </tr>\n",
       "  </thead>\n",
       "  <tbody>\n",
       "    <tr>\n",
       "      <th>0</th>\n",
       "      <td>2.700187e+10</td>\n",
       "      <td>187386.0</td>\n",
       "      <td>HERRERA ENA ELSA</td>\n",
       "      <td>AC225HG</td>\n",
       "      <td>2018-01-12 00:00:00</td>\n",
       "      <td>2018-12-06 00:00:00</td>\n",
       "      <td>BMW</td>\n",
       "      <td>M4</td>\n",
       "    </tr>\n",
       "    <tr>\n",
       "      <th>1</th>\n",
       "      <td>2.700508e+10</td>\n",
       "      <td>507550.0</td>\n",
       "      <td>ENTRATICO IRMA CLARA</td>\n",
       "      <td>VJT114</td>\n",
       "      <td>1973-02-06 00:00:00</td>\n",
       "      <td>2000-08-24 00:00:00</td>\n",
       "      <td>CHEVROLET</td>\n",
       "      <td>RALLY SPORT 250</td>\n",
       "    </tr>\n",
       "    <tr>\n",
       "      <th>2</th>\n",
       "      <td>2.704172e+10</td>\n",
       "      <td>4171534.0</td>\n",
       "      <td>ITUARTE MARGARITA HORTENSIA</td>\n",
       "      <td>SIS478</td>\n",
       "      <td>1981-12-24 00:00:00</td>\n",
       "      <td>-   -</td>\n",
       "      <td>FORD</td>\n",
       "      <td>F-100 DSL</td>\n",
       "    </tr>\n",
       "    <tr>\n",
       "      <th>3</th>\n",
       "      <td>2.004174e+10</td>\n",
       "      <td>4173550.0</td>\n",
       "      <td>VISCONTI EDUARDO JUAN</td>\n",
       "      <td>FNE571</td>\n",
       "      <td>2006-04-03 00:00:00</td>\n",
       "      <td>2009-10-27 00:00:00</td>\n",
       "      <td>VOLKSWAGEN</td>\n",
       "      <td>BORA 2 0</td>\n",
       "    </tr>\n",
       "    <tr>\n",
       "      <th>4</th>\n",
       "      <td>2.004200e+10</td>\n",
       "      <td>4200228.0</td>\n",
       "      <td>CACCHIONE MIGUEL ANGEL</td>\n",
       "      <td>ICQ674</td>\n",
       "      <td>2009-06-08 00:00:00</td>\n",
       "      <td>2009-06-08 00:00:00</td>\n",
       "      <td>TOYOTA</td>\n",
       "      <td>COROLLA SE G 1 8 A/T</td>\n",
       "    </tr>\n",
       "  </tbody>\n",
       "</table>\n",
       "</div>"
      ],
      "text/plain": [
       "  Unnamed: 0_level_0 Unnamed: 1_level_0           Unnamed: 5_level_0  Dominio  \\\n",
       "                Cuil                Dni                      Titular   DdOMIN   \n",
       "0       2.700187e+10           187386.0             HERRERA ENA ELSA  AC225HG   \n",
       "1       2.700508e+10           507550.0         ENTRATICO IRMA CLARA   VJT114   \n",
       "2       2.704172e+10          4171534.0  ITUARTE MARGARITA HORTENSIA   SIS478   \n",
       "3       2.004174e+10          4173550.0        VISCONTI EDUARDO JUAN   FNE571   \n",
       "4       2.004200e+10          4200228.0       CACCHIONE MIGUEL ANGEL   ICQ674   \n",
       "\n",
       "       Fecha Automotor      Fecha de Compra                Marca  \\\n",
       "  Unnamed: 129_level_1 Unnamed: 130_level_1 Unnamed: 131_level_1   \n",
       "0  2018-01-12 00:00:00  2018-12-06 00:00:00                  BMW   \n",
       "1  1973-02-06 00:00:00  2000-08-24 00:00:00            CHEVROLET   \n",
       "2  1981-12-24 00:00:00                -   -                 FORD   \n",
       "3  2006-04-03 00:00:00  2009-10-27 00:00:00           VOLKSWAGEN   \n",
       "4  2009-06-08 00:00:00  2009-06-08 00:00:00               TOYOTA   \n",
       "\n",
       "                 Modelo  \n",
       "   Unnamed: 132_level_1  \n",
       "0                    M4  \n",
       "1       RALLY SPORT 250  \n",
       "2             F-100 DSL  \n",
       "3              BORA 2 0  \n",
       "4  COROLLA SE G 1 8 A/T  "
      ]
     },
     "execution_count": 9,
     "metadata": {},
     "output_type": "execute_result"
    }
   ],
   "source": [
    "df_reduced.head()"
   ]
  },
  {
   "cell_type": "code",
   "execution_count": 10,
   "metadata": {},
   "outputs": [
    {
     "data": {
      "text/plain": [
       "(664, 8)"
      ]
     },
     "execution_count": 10,
     "metadata": {},
     "output_type": "execute_result"
    }
   ],
   "source": [
    "df_reduced.shape"
   ]
  },
  {
   "cell_type": "markdown",
   "metadata": {},
   "source": [
    "Eliminamos el multilevel de las columnas, y las renombramos:"
   ]
  },
  {
   "cell_type": "code",
   "execution_count": 11,
   "metadata": {},
   "outputs": [],
   "source": [
    "df_reduced.columns = df_reduced.columns.droplevel()"
   ]
  },
  {
   "cell_type": "code",
   "execution_count": 12,
   "metadata": {},
   "outputs": [
    {
     "data": {
      "text/html": [
       "<div>\n",
       "<style scoped>\n",
       "    .dataframe tbody tr th:only-of-type {\n",
       "        vertical-align: middle;\n",
       "    }\n",
       "\n",
       "    .dataframe tbody tr th {\n",
       "        vertical-align: top;\n",
       "    }\n",
       "\n",
       "    .dataframe thead th {\n",
       "        text-align: right;\n",
       "    }\n",
       "</style>\n",
       "<table border=\"1\" class=\"dataframe\">\n",
       "  <thead>\n",
       "    <tr style=\"text-align: right;\">\n",
       "      <th></th>\n",
       "      <th>Cuil</th>\n",
       "      <th>Dni</th>\n",
       "      <th>Titular</th>\n",
       "      <th>DdOMIN</th>\n",
       "      <th>Unnamed: 129_level_1</th>\n",
       "      <th>Unnamed: 130_level_1</th>\n",
       "      <th>Unnamed: 131_level_1</th>\n",
       "      <th>Unnamed: 132_level_1</th>\n",
       "    </tr>\n",
       "  </thead>\n",
       "  <tbody>\n",
       "    <tr>\n",
       "      <th>0</th>\n",
       "      <td>2.700187e+10</td>\n",
       "      <td>187386.0</td>\n",
       "      <td>HERRERA ENA ELSA</td>\n",
       "      <td>AC225HG</td>\n",
       "      <td>2018-01-12 00:00:00</td>\n",
       "      <td>2018-12-06 00:00:00</td>\n",
       "      <td>BMW</td>\n",
       "      <td>M4</td>\n",
       "    </tr>\n",
       "    <tr>\n",
       "      <th>1</th>\n",
       "      <td>2.700508e+10</td>\n",
       "      <td>507550.0</td>\n",
       "      <td>ENTRATICO IRMA CLARA</td>\n",
       "      <td>VJT114</td>\n",
       "      <td>1973-02-06 00:00:00</td>\n",
       "      <td>2000-08-24 00:00:00</td>\n",
       "      <td>CHEVROLET</td>\n",
       "      <td>RALLY SPORT 250</td>\n",
       "    </tr>\n",
       "    <tr>\n",
       "      <th>2</th>\n",
       "      <td>2.704172e+10</td>\n",
       "      <td>4171534.0</td>\n",
       "      <td>ITUARTE MARGARITA HORTENSIA</td>\n",
       "      <td>SIS478</td>\n",
       "      <td>1981-12-24 00:00:00</td>\n",
       "      <td>-   -</td>\n",
       "      <td>FORD</td>\n",
       "      <td>F-100 DSL</td>\n",
       "    </tr>\n",
       "    <tr>\n",
       "      <th>3</th>\n",
       "      <td>2.004174e+10</td>\n",
       "      <td>4173550.0</td>\n",
       "      <td>VISCONTI EDUARDO JUAN</td>\n",
       "      <td>FNE571</td>\n",
       "      <td>2006-04-03 00:00:00</td>\n",
       "      <td>2009-10-27 00:00:00</td>\n",
       "      <td>VOLKSWAGEN</td>\n",
       "      <td>BORA 2 0</td>\n",
       "    </tr>\n",
       "    <tr>\n",
       "      <th>4</th>\n",
       "      <td>2.004200e+10</td>\n",
       "      <td>4200228.0</td>\n",
       "      <td>CACCHIONE MIGUEL ANGEL</td>\n",
       "      <td>ICQ674</td>\n",
       "      <td>2009-06-08 00:00:00</td>\n",
       "      <td>2009-06-08 00:00:00</td>\n",
       "      <td>TOYOTA</td>\n",
       "      <td>COROLLA SE G 1 8 A/T</td>\n",
       "    </tr>\n",
       "  </tbody>\n",
       "</table>\n",
       "</div>"
      ],
      "text/plain": [
       "           Cuil        Dni                      Titular   DdOMIN  \\\n",
       "0  2.700187e+10   187386.0             HERRERA ENA ELSA  AC225HG   \n",
       "1  2.700508e+10   507550.0         ENTRATICO IRMA CLARA   VJT114   \n",
       "2  2.704172e+10  4171534.0  ITUARTE MARGARITA HORTENSIA   SIS478   \n",
       "3  2.004174e+10  4173550.0        VISCONTI EDUARDO JUAN   FNE571   \n",
       "4  2.004200e+10  4200228.0       CACCHIONE MIGUEL ANGEL   ICQ674   \n",
       "\n",
       "  Unnamed: 129_level_1 Unnamed: 130_level_1 Unnamed: 131_level_1  \\\n",
       "0  2018-01-12 00:00:00  2018-12-06 00:00:00                  BMW   \n",
       "1  1973-02-06 00:00:00  2000-08-24 00:00:00            CHEVROLET   \n",
       "2  1981-12-24 00:00:00                -   -                 FORD   \n",
       "3  2006-04-03 00:00:00  2009-10-27 00:00:00           VOLKSWAGEN   \n",
       "4  2009-06-08 00:00:00  2009-06-08 00:00:00               TOYOTA   \n",
       "\n",
       "   Unnamed: 132_level_1  \n",
       "0                    M4  \n",
       "1       RALLY SPORT 250  \n",
       "2             F-100 DSL  \n",
       "3              BORA 2 0  \n",
       "4  COROLLA SE G 1 8 A/T  "
      ]
     },
     "execution_count": 12,
     "metadata": {},
     "output_type": "execute_result"
    }
   ],
   "source": [
    "df_reduced.head()"
   ]
  },
  {
   "cell_type": "code",
   "execution_count": 13,
   "metadata": {},
   "outputs": [],
   "source": [
    "df_reduced = df_reduced.rename(columns={\"Cuil\": \"CUIT_CUIL\", 'Dni': 'NRO_DOC', 'DdOMIN':'PATENTE', 'Unnamed: 129_level_1':'ANO'\n",
    "                                       ,'Unnamed: 130_level_1':'FECHA_DE_COMPRA','Unnamed: 131_level_1':'MARCA'\n",
    "                                       ,'Unnamed: 132_level_1':'MODELO'})"
   ]
  },
  {
   "cell_type": "code",
   "execution_count": 14,
   "metadata": {},
   "outputs": [
    {
     "data": {
      "text/html": [
       "<div>\n",
       "<style scoped>\n",
       "    .dataframe tbody tr th:only-of-type {\n",
       "        vertical-align: middle;\n",
       "    }\n",
       "\n",
       "    .dataframe tbody tr th {\n",
       "        vertical-align: top;\n",
       "    }\n",
       "\n",
       "    .dataframe thead th {\n",
       "        text-align: right;\n",
       "    }\n",
       "</style>\n",
       "<table border=\"1\" class=\"dataframe\">\n",
       "  <thead>\n",
       "    <tr style=\"text-align: right;\">\n",
       "      <th></th>\n",
       "      <th>CUIT_CUIL</th>\n",
       "      <th>NRO_DOC</th>\n",
       "      <th>Titular</th>\n",
       "      <th>PATENTE</th>\n",
       "      <th>ANO</th>\n",
       "      <th>FECHA_DE_COMPRA</th>\n",
       "      <th>MARCA</th>\n",
       "      <th>MODELO</th>\n",
       "    </tr>\n",
       "  </thead>\n",
       "  <tbody>\n",
       "    <tr>\n",
       "      <th>0</th>\n",
       "      <td>2.700187e+10</td>\n",
       "      <td>187386.0</td>\n",
       "      <td>HERRERA ENA ELSA</td>\n",
       "      <td>AC225HG</td>\n",
       "      <td>2018-01-12 00:00:00</td>\n",
       "      <td>2018-12-06 00:00:00</td>\n",
       "      <td>BMW</td>\n",
       "      <td>M4</td>\n",
       "    </tr>\n",
       "    <tr>\n",
       "      <th>1</th>\n",
       "      <td>2.700508e+10</td>\n",
       "      <td>507550.0</td>\n",
       "      <td>ENTRATICO IRMA CLARA</td>\n",
       "      <td>VJT114</td>\n",
       "      <td>1973-02-06 00:00:00</td>\n",
       "      <td>2000-08-24 00:00:00</td>\n",
       "      <td>CHEVROLET</td>\n",
       "      <td>RALLY SPORT 250</td>\n",
       "    </tr>\n",
       "    <tr>\n",
       "      <th>2</th>\n",
       "      <td>2.704172e+10</td>\n",
       "      <td>4171534.0</td>\n",
       "      <td>ITUARTE MARGARITA HORTENSIA</td>\n",
       "      <td>SIS478</td>\n",
       "      <td>1981-12-24 00:00:00</td>\n",
       "      <td>-   -</td>\n",
       "      <td>FORD</td>\n",
       "      <td>F-100 DSL</td>\n",
       "    </tr>\n",
       "    <tr>\n",
       "      <th>3</th>\n",
       "      <td>2.004174e+10</td>\n",
       "      <td>4173550.0</td>\n",
       "      <td>VISCONTI EDUARDO JUAN</td>\n",
       "      <td>FNE571</td>\n",
       "      <td>2006-04-03 00:00:00</td>\n",
       "      <td>2009-10-27 00:00:00</td>\n",
       "      <td>VOLKSWAGEN</td>\n",
       "      <td>BORA 2 0</td>\n",
       "    </tr>\n",
       "    <tr>\n",
       "      <th>4</th>\n",
       "      <td>2.004200e+10</td>\n",
       "      <td>4200228.0</td>\n",
       "      <td>CACCHIONE MIGUEL ANGEL</td>\n",
       "      <td>ICQ674</td>\n",
       "      <td>2009-06-08 00:00:00</td>\n",
       "      <td>2009-06-08 00:00:00</td>\n",
       "      <td>TOYOTA</td>\n",
       "      <td>COROLLA SE G 1 8 A/T</td>\n",
       "    </tr>\n",
       "  </tbody>\n",
       "</table>\n",
       "</div>"
      ],
      "text/plain": [
       "      CUIT_CUIL    NRO_DOC                      Titular  PATENTE  \\\n",
       "0  2.700187e+10   187386.0             HERRERA ENA ELSA  AC225HG   \n",
       "1  2.700508e+10   507550.0         ENTRATICO IRMA CLARA   VJT114   \n",
       "2  2.704172e+10  4171534.0  ITUARTE MARGARITA HORTENSIA   SIS478   \n",
       "3  2.004174e+10  4173550.0        VISCONTI EDUARDO JUAN   FNE571   \n",
       "4  2.004200e+10  4200228.0       CACCHIONE MIGUEL ANGEL   ICQ674   \n",
       "\n",
       "                   ANO      FECHA_DE_COMPRA       MARCA                MODELO  \n",
       "0  2018-01-12 00:00:00  2018-12-06 00:00:00         BMW                    M4  \n",
       "1  1973-02-06 00:00:00  2000-08-24 00:00:00   CHEVROLET       RALLY SPORT 250  \n",
       "2  1981-12-24 00:00:00                -   -        FORD             F-100 DSL  \n",
       "3  2006-04-03 00:00:00  2009-10-27 00:00:00  VOLKSWAGEN              BORA 2 0  \n",
       "4  2009-06-08 00:00:00  2009-06-08 00:00:00      TOYOTA  COROLLA SE G 1 8 A/T  "
      ]
     },
     "execution_count": 14,
     "metadata": {},
     "output_type": "execute_result"
    }
   ],
   "source": [
    "df_reduced.head()"
   ]
  },
  {
   "cell_type": "markdown",
   "metadata": {},
   "source": [
    "# 3) Concatenación de Marca - Modelo"
   ]
  },
  {
   "cell_type": "code",
   "execution_count": 15,
   "metadata": {
    "scrolled": true
   },
   "outputs": [
    {
     "data": {
      "text/plain": [
       "Index(['CUIT_CUIL', 'NRO_DOC', 'Titular', 'PATENTE', 'ANO', 'FECHA_DE_COMPRA',\n",
       "       'MARCA', 'MODELO'],\n",
       "      dtype='object')"
      ]
     },
     "execution_count": 15,
     "metadata": {},
     "output_type": "execute_result"
    }
   ],
   "source": [
    "df_reduced.columns"
   ]
  },
  {
   "cell_type": "code",
   "execution_count": 16,
   "metadata": {},
   "outputs": [],
   "source": [
    "marca_modelo = df_reduced['MARCA'] + ' ' +df_reduced ['MODELO']"
   ]
  },
  {
   "cell_type": "code",
   "execution_count": 17,
   "metadata": {},
   "outputs": [],
   "source": [
    "df_reduced = df_reduced.assign(FABRICANTE=marca_modelo)"
   ]
  },
  {
   "cell_type": "code",
   "execution_count": 18,
   "metadata": {},
   "outputs": [
    {
     "data": {
      "text/html": [
       "<div>\n",
       "<style scoped>\n",
       "    .dataframe tbody tr th:only-of-type {\n",
       "        vertical-align: middle;\n",
       "    }\n",
       "\n",
       "    .dataframe tbody tr th {\n",
       "        vertical-align: top;\n",
       "    }\n",
       "\n",
       "    .dataframe thead th {\n",
       "        text-align: right;\n",
       "    }\n",
       "</style>\n",
       "<table border=\"1\" class=\"dataframe\">\n",
       "  <thead>\n",
       "    <tr style=\"text-align: right;\">\n",
       "      <th></th>\n",
       "      <th>CUIT_CUIL</th>\n",
       "      <th>NRO_DOC</th>\n",
       "      <th>Titular</th>\n",
       "      <th>PATENTE</th>\n",
       "      <th>ANO</th>\n",
       "      <th>FECHA_DE_COMPRA</th>\n",
       "      <th>MARCA</th>\n",
       "      <th>MODELO</th>\n",
       "      <th>FABRICANTE</th>\n",
       "    </tr>\n",
       "  </thead>\n",
       "  <tbody>\n",
       "    <tr>\n",
       "      <th>0</th>\n",
       "      <td>2.700187e+10</td>\n",
       "      <td>187386.0</td>\n",
       "      <td>HERRERA ENA ELSA</td>\n",
       "      <td>AC225HG</td>\n",
       "      <td>2018-01-12 00:00:00</td>\n",
       "      <td>2018-12-06 00:00:00</td>\n",
       "      <td>BMW</td>\n",
       "      <td>M4</td>\n",
       "      <td>BMW M4</td>\n",
       "    </tr>\n",
       "    <tr>\n",
       "      <th>1</th>\n",
       "      <td>2.700508e+10</td>\n",
       "      <td>507550.0</td>\n",
       "      <td>ENTRATICO IRMA CLARA</td>\n",
       "      <td>VJT114</td>\n",
       "      <td>1973-02-06 00:00:00</td>\n",
       "      <td>2000-08-24 00:00:00</td>\n",
       "      <td>CHEVROLET</td>\n",
       "      <td>RALLY SPORT 250</td>\n",
       "      <td>CHEVROLET RALLY SPORT 250</td>\n",
       "    </tr>\n",
       "    <tr>\n",
       "      <th>2</th>\n",
       "      <td>2.704172e+10</td>\n",
       "      <td>4171534.0</td>\n",
       "      <td>ITUARTE MARGARITA HORTENSIA</td>\n",
       "      <td>SIS478</td>\n",
       "      <td>1981-12-24 00:00:00</td>\n",
       "      <td>-   -</td>\n",
       "      <td>FORD</td>\n",
       "      <td>F-100 DSL</td>\n",
       "      <td>FORD F-100 DSL</td>\n",
       "    </tr>\n",
       "    <tr>\n",
       "      <th>3</th>\n",
       "      <td>2.004174e+10</td>\n",
       "      <td>4173550.0</td>\n",
       "      <td>VISCONTI EDUARDO JUAN</td>\n",
       "      <td>FNE571</td>\n",
       "      <td>2006-04-03 00:00:00</td>\n",
       "      <td>2009-10-27 00:00:00</td>\n",
       "      <td>VOLKSWAGEN</td>\n",
       "      <td>BORA 2 0</td>\n",
       "      <td>VOLKSWAGEN BORA 2 0</td>\n",
       "    </tr>\n",
       "    <tr>\n",
       "      <th>4</th>\n",
       "      <td>2.004200e+10</td>\n",
       "      <td>4200228.0</td>\n",
       "      <td>CACCHIONE MIGUEL ANGEL</td>\n",
       "      <td>ICQ674</td>\n",
       "      <td>2009-06-08 00:00:00</td>\n",
       "      <td>2009-06-08 00:00:00</td>\n",
       "      <td>TOYOTA</td>\n",
       "      <td>COROLLA SE G 1 8 A/T</td>\n",
       "      <td>TOYOTA COROLLA SE G 1 8 A/T</td>\n",
       "    </tr>\n",
       "  </tbody>\n",
       "</table>\n",
       "</div>"
      ],
      "text/plain": [
       "      CUIT_CUIL    NRO_DOC                      Titular  PATENTE  \\\n",
       "0  2.700187e+10   187386.0             HERRERA ENA ELSA  AC225HG   \n",
       "1  2.700508e+10   507550.0         ENTRATICO IRMA CLARA   VJT114   \n",
       "2  2.704172e+10  4171534.0  ITUARTE MARGARITA HORTENSIA   SIS478   \n",
       "3  2.004174e+10  4173550.0        VISCONTI EDUARDO JUAN   FNE571   \n",
       "4  2.004200e+10  4200228.0       CACCHIONE MIGUEL ANGEL   ICQ674   \n",
       "\n",
       "                   ANO      FECHA_DE_COMPRA       MARCA                MODELO  \\\n",
       "0  2018-01-12 00:00:00  2018-12-06 00:00:00         BMW                    M4   \n",
       "1  1973-02-06 00:00:00  2000-08-24 00:00:00   CHEVROLET       RALLY SPORT 250   \n",
       "2  1981-12-24 00:00:00                -   -        FORD             F-100 DSL   \n",
       "3  2006-04-03 00:00:00  2009-10-27 00:00:00  VOLKSWAGEN              BORA 2 0   \n",
       "4  2009-06-08 00:00:00  2009-06-08 00:00:00      TOYOTA  COROLLA SE G 1 8 A/T   \n",
       "\n",
       "                    FABRICANTE  \n",
       "0                       BMW M4  \n",
       "1    CHEVROLET RALLY SPORT 250  \n",
       "2               FORD F-100 DSL  \n",
       "3          VOLKSWAGEN BORA 2 0  \n",
       "4  TOYOTA COROLLA SE G 1 8 A/T  "
      ]
     },
     "execution_count": 18,
     "metadata": {},
     "output_type": "execute_result"
    }
   ],
   "source": [
    "df_reduced.head()"
   ]
  },
  {
   "cell_type": "code",
   "execution_count": 19,
   "metadata": {},
   "outputs": [],
   "source": [
    "#df_reduced.to_excel('test_marca_modelo.xlsx')"
   ]
  },
  {
   "cell_type": "markdown",
   "metadata": {},
   "source": [
    "# 4) Drop NaNs"
   ]
  },
  {
   "cell_type": "markdown",
   "metadata": {},
   "source": [
    "Dropeamos aquellas filas que tengan NaN en la columna Dato, ya que no nos aporta nada:"
   ]
  },
  {
   "cell_type": "code",
   "execution_count": 20,
   "metadata": {},
   "outputs": [],
   "source": [
    "df_reduced = df_reduced.dropna(subset=['PATENTE'])"
   ]
  },
  {
   "cell_type": "code",
   "execution_count": 21,
   "metadata": {},
   "outputs": [
    {
     "data": {
      "text/plain": [
       "(205, 9)"
      ]
     },
     "execution_count": 21,
     "metadata": {},
     "output_type": "execute_result"
    }
   ],
   "source": [
    "df_reduced.shape"
   ]
  },
  {
   "cell_type": "code",
   "execution_count": 22,
   "metadata": {},
   "outputs": [
    {
     "data": {
      "text/html": [
       "<div>\n",
       "<style scoped>\n",
       "    .dataframe tbody tr th:only-of-type {\n",
       "        vertical-align: middle;\n",
       "    }\n",
       "\n",
       "    .dataframe tbody tr th {\n",
       "        vertical-align: top;\n",
       "    }\n",
       "\n",
       "    .dataframe thead th {\n",
       "        text-align: right;\n",
       "    }\n",
       "</style>\n",
       "<table border=\"1\" class=\"dataframe\">\n",
       "  <thead>\n",
       "    <tr style=\"text-align: right;\">\n",
       "      <th></th>\n",
       "      <th>CUIT_CUIL</th>\n",
       "      <th>NRO_DOC</th>\n",
       "      <th>Titular</th>\n",
       "      <th>PATENTE</th>\n",
       "      <th>ANO</th>\n",
       "      <th>FECHA_DE_COMPRA</th>\n",
       "      <th>MARCA</th>\n",
       "      <th>MODELO</th>\n",
       "      <th>FABRICANTE</th>\n",
       "    </tr>\n",
       "  </thead>\n",
       "  <tbody>\n",
       "    <tr>\n",
       "      <th>629</th>\n",
       "      <td>2.792823e+10</td>\n",
       "      <td>92822691.0</td>\n",
       "      <td>BELLO BLAI VANESSA KATHERINE</td>\n",
       "      <td>NMP905</td>\n",
       "      <td>2014-01-23 00:00:00</td>\n",
       "      <td>2014-01-23 00:00:00</td>\n",
       "      <td>CHEVROLET</td>\n",
       "      <td>COBALT 1 8 N LTZ</td>\n",
       "      <td>CHEVROLET COBALT 1 8 N LTZ</td>\n",
       "    </tr>\n",
       "    <tr>\n",
       "      <th>631</th>\n",
       "      <td>2.092973e+10</td>\n",
       "      <td>92972790.0</td>\n",
       "      <td>IGLESIAS CANO LEONARDO</td>\n",
       "      <td>DAZ981</td>\n",
       "      <td>2000-01-07 00:00:00</td>\n",
       "      <td>2016-02-03 00:00:00</td>\n",
       "      <td>PEUGEOT</td>\n",
       "      <td>306 BRL 4P D</td>\n",
       "      <td>PEUGEOT 306 BRL 4P D</td>\n",
       "    </tr>\n",
       "    <tr>\n",
       "      <th>634</th>\n",
       "      <td>2.094568e+10</td>\n",
       "      <td>94568387.0</td>\n",
       "      <td>TACO SOTOMAYOR DALMER MANUEL</td>\n",
       "      <td>A076NED</td>\n",
       "      <td>2018-04-23 00:00:00</td>\n",
       "      <td>2018-04-23 00:00:00</td>\n",
       "      <td>YAMAHA</td>\n",
       "      <td>FZ S FI</td>\n",
       "      <td>YAMAHA FZ S FI</td>\n",
       "    </tr>\n",
       "    <tr>\n",
       "      <th>642</th>\n",
       "      <td>2.095097e+10</td>\n",
       "      <td>95097265.0</td>\n",
       "      <td>SANSUSTE CUELLAR MARCO ANTONIO</td>\n",
       "      <td>CKO339</td>\n",
       "      <td>1998-12-03 00:00:00</td>\n",
       "      <td>2015-03-06 00:00:00</td>\n",
       "      <td>RENAULT</td>\n",
       "      <td>RENAULT 19 RE D AA  DIREC</td>\n",
       "      <td>RENAULT RENAULT 19 RE D AA  DIREC</td>\n",
       "    </tr>\n",
       "    <tr>\n",
       "      <th>647</th>\n",
       "      <td>2.095347e+10</td>\n",
       "      <td>95346786.0</td>\n",
       "      <td>VAZQUEZ CAÑETE ARNALDO</td>\n",
       "      <td>AD757SQ</td>\n",
       "      <td>2019-07-24 00:00:00</td>\n",
       "      <td>2019-07-24 00:00:00</td>\n",
       "      <td>FORD</td>\n",
       "      <td>FIESTA 1 6L S PLUS</td>\n",
       "      <td>FORD FIESTA 1 6L S PLUS</td>\n",
       "    </tr>\n",
       "  </tbody>\n",
       "</table>\n",
       "</div>"
      ],
      "text/plain": [
       "        CUIT_CUIL     NRO_DOC                         Titular  PATENTE  \\\n",
       "629  2.792823e+10  92822691.0    BELLO BLAI VANESSA KATHERINE   NMP905   \n",
       "631  2.092973e+10  92972790.0          IGLESIAS CANO LEONARDO   DAZ981   \n",
       "634  2.094568e+10  94568387.0    TACO SOTOMAYOR DALMER MANUEL  A076NED   \n",
       "642  2.095097e+10  95097265.0  SANSUSTE CUELLAR MARCO ANTONIO   CKO339   \n",
       "647  2.095347e+10  95346786.0          VAZQUEZ CAÑETE ARNALDO  AD757SQ   \n",
       "\n",
       "                     ANO      FECHA_DE_COMPRA      MARCA  \\\n",
       "629  2014-01-23 00:00:00  2014-01-23 00:00:00  CHEVROLET   \n",
       "631  2000-01-07 00:00:00  2016-02-03 00:00:00    PEUGEOT   \n",
       "634  2018-04-23 00:00:00  2018-04-23 00:00:00     YAMAHA   \n",
       "642  1998-12-03 00:00:00  2015-03-06 00:00:00    RENAULT   \n",
       "647  2019-07-24 00:00:00  2019-07-24 00:00:00       FORD   \n",
       "\n",
       "                        MODELO                         FABRICANTE  \n",
       "629           COBALT 1 8 N LTZ         CHEVROLET COBALT 1 8 N LTZ  \n",
       "631               306 BRL 4P D               PEUGEOT 306 BRL 4P D  \n",
       "634                    FZ S FI                     YAMAHA FZ S FI  \n",
       "642  RENAULT 19 RE D AA  DIREC  RENAULT RENAULT 19 RE D AA  DIREC  \n",
       "647         FIESTA 1 6L S PLUS            FORD FIESTA 1 6L S PLUS  "
      ]
     },
     "execution_count": 22,
     "metadata": {},
     "output_type": "execute_result"
    }
   ],
   "source": [
    "df_reduced.tail()"
   ]
  },
  {
   "cell_type": "markdown",
   "metadata": {},
   "source": [
    "# 5) Columna Proveedor"
   ]
  },
  {
   "cell_type": "markdown",
   "metadata": {},
   "source": [
    "Agregamos la columna PROVEEDOR_DATO, con el código correspondiente."
   ]
  },
  {
   "cell_type": "code",
   "execution_count": 23,
   "metadata": {},
   "outputs": [],
   "source": [
    "cod_pyp = 'AD'"
   ]
  },
  {
   "cell_type": "code",
   "execution_count": 24,
   "metadata": {},
   "outputs": [],
   "source": [
    "df_clean = df_reduced.assign(PROVEEDOR_DATO=cod_pyp)"
   ]
  },
  {
   "cell_type": "code",
   "execution_count": 25,
   "metadata": {
    "scrolled": true
   },
   "outputs": [
    {
     "data": {
      "text/html": [
       "<div>\n",
       "<style scoped>\n",
       "    .dataframe tbody tr th:only-of-type {\n",
       "        vertical-align: middle;\n",
       "    }\n",
       "\n",
       "    .dataframe tbody tr th {\n",
       "        vertical-align: top;\n",
       "    }\n",
       "\n",
       "    .dataframe thead th {\n",
       "        text-align: right;\n",
       "    }\n",
       "</style>\n",
       "<table border=\"1\" class=\"dataframe\">\n",
       "  <thead>\n",
       "    <tr style=\"text-align: right;\">\n",
       "      <th></th>\n",
       "      <th>CUIT_CUIL</th>\n",
       "      <th>NRO_DOC</th>\n",
       "      <th>Titular</th>\n",
       "      <th>PATENTE</th>\n",
       "      <th>ANO</th>\n",
       "      <th>FECHA_DE_COMPRA</th>\n",
       "      <th>MARCA</th>\n",
       "      <th>MODELO</th>\n",
       "      <th>FABRICANTE</th>\n",
       "      <th>PROVEEDOR_DATO</th>\n",
       "    </tr>\n",
       "  </thead>\n",
       "  <tbody>\n",
       "    <tr>\n",
       "      <th>0</th>\n",
       "      <td>2.700187e+10</td>\n",
       "      <td>187386.0</td>\n",
       "      <td>HERRERA ENA ELSA</td>\n",
       "      <td>AC225HG</td>\n",
       "      <td>2018-01-12 00:00:00</td>\n",
       "      <td>2018-12-06 00:00:00</td>\n",
       "      <td>BMW</td>\n",
       "      <td>M4</td>\n",
       "      <td>BMW M4</td>\n",
       "      <td>AD</td>\n",
       "    </tr>\n",
       "    <tr>\n",
       "      <th>1</th>\n",
       "      <td>2.700508e+10</td>\n",
       "      <td>507550.0</td>\n",
       "      <td>ENTRATICO IRMA CLARA</td>\n",
       "      <td>VJT114</td>\n",
       "      <td>1973-02-06 00:00:00</td>\n",
       "      <td>2000-08-24 00:00:00</td>\n",
       "      <td>CHEVROLET</td>\n",
       "      <td>RALLY SPORT 250</td>\n",
       "      <td>CHEVROLET RALLY SPORT 250</td>\n",
       "      <td>AD</td>\n",
       "    </tr>\n",
       "    <tr>\n",
       "      <th>2</th>\n",
       "      <td>2.704172e+10</td>\n",
       "      <td>4171534.0</td>\n",
       "      <td>ITUARTE MARGARITA HORTENSIA</td>\n",
       "      <td>SIS478</td>\n",
       "      <td>1981-12-24 00:00:00</td>\n",
       "      <td>-   -</td>\n",
       "      <td>FORD</td>\n",
       "      <td>F-100 DSL</td>\n",
       "      <td>FORD F-100 DSL</td>\n",
       "      <td>AD</td>\n",
       "    </tr>\n",
       "    <tr>\n",
       "      <th>3</th>\n",
       "      <td>2.004174e+10</td>\n",
       "      <td>4173550.0</td>\n",
       "      <td>VISCONTI EDUARDO JUAN</td>\n",
       "      <td>FNE571</td>\n",
       "      <td>2006-04-03 00:00:00</td>\n",
       "      <td>2009-10-27 00:00:00</td>\n",
       "      <td>VOLKSWAGEN</td>\n",
       "      <td>BORA 2 0</td>\n",
       "      <td>VOLKSWAGEN BORA 2 0</td>\n",
       "      <td>AD</td>\n",
       "    </tr>\n",
       "    <tr>\n",
       "      <th>4</th>\n",
       "      <td>2.004200e+10</td>\n",
       "      <td>4200228.0</td>\n",
       "      <td>CACCHIONE MIGUEL ANGEL</td>\n",
       "      <td>ICQ674</td>\n",
       "      <td>2009-06-08 00:00:00</td>\n",
       "      <td>2009-06-08 00:00:00</td>\n",
       "      <td>TOYOTA</td>\n",
       "      <td>COROLLA SE G 1 8 A/T</td>\n",
       "      <td>TOYOTA COROLLA SE G 1 8 A/T</td>\n",
       "      <td>AD</td>\n",
       "    </tr>\n",
       "  </tbody>\n",
       "</table>\n",
       "</div>"
      ],
      "text/plain": [
       "      CUIT_CUIL    NRO_DOC                      Titular  PATENTE  \\\n",
       "0  2.700187e+10   187386.0             HERRERA ENA ELSA  AC225HG   \n",
       "1  2.700508e+10   507550.0         ENTRATICO IRMA CLARA   VJT114   \n",
       "2  2.704172e+10  4171534.0  ITUARTE MARGARITA HORTENSIA   SIS478   \n",
       "3  2.004174e+10  4173550.0        VISCONTI EDUARDO JUAN   FNE571   \n",
       "4  2.004200e+10  4200228.0       CACCHIONE MIGUEL ANGEL   ICQ674   \n",
       "\n",
       "                   ANO      FECHA_DE_COMPRA       MARCA                MODELO  \\\n",
       "0  2018-01-12 00:00:00  2018-12-06 00:00:00         BMW                    M4   \n",
       "1  1973-02-06 00:00:00  2000-08-24 00:00:00   CHEVROLET       RALLY SPORT 250   \n",
       "2  1981-12-24 00:00:00                -   -        FORD             F-100 DSL   \n",
       "3  2006-04-03 00:00:00  2009-10-27 00:00:00  VOLKSWAGEN              BORA 2 0   \n",
       "4  2009-06-08 00:00:00  2009-06-08 00:00:00      TOYOTA  COROLLA SE G 1 8 A/T   \n",
       "\n",
       "                    FABRICANTE PROVEEDOR_DATO  \n",
       "0                       BMW M4             AD  \n",
       "1    CHEVROLET RALLY SPORT 250             AD  \n",
       "2               FORD F-100 DSL             AD  \n",
       "3          VOLKSWAGEN BORA 2 0             AD  \n",
       "4  TOYOTA COROLLA SE G 1 8 A/T             AD  "
      ]
     },
     "execution_count": 25,
     "metadata": {},
     "output_type": "execute_result"
    }
   ],
   "source": [
    "df_clean.head()"
   ]
  },
  {
   "cell_type": "markdown",
   "metadata": {},
   "source": [
    "# 6) Columna Porcentaje"
   ]
  },
  {
   "cell_type": "markdown",
   "metadata": {},
   "source": [
    "Como no tenemos datos sobre el porcentaje de posesión del vehículo, se asigna 100% a todos los casos"
   ]
  },
  {
   "cell_type": "code",
   "execution_count": 26,
   "metadata": {},
   "outputs": [],
   "source": [
    "df_clean = df_clean.assign(PORCENTAJE=100)"
   ]
  },
  {
   "cell_type": "code",
   "execution_count": 27,
   "metadata": {
    "scrolled": true
   },
   "outputs": [
    {
     "data": {
      "text/html": [
       "<div>\n",
       "<style scoped>\n",
       "    .dataframe tbody tr th:only-of-type {\n",
       "        vertical-align: middle;\n",
       "    }\n",
       "\n",
       "    .dataframe tbody tr th {\n",
       "        vertical-align: top;\n",
       "    }\n",
       "\n",
       "    .dataframe thead th {\n",
       "        text-align: right;\n",
       "    }\n",
       "</style>\n",
       "<table border=\"1\" class=\"dataframe\">\n",
       "  <thead>\n",
       "    <tr style=\"text-align: right;\">\n",
       "      <th></th>\n",
       "      <th>CUIT_CUIL</th>\n",
       "      <th>NRO_DOC</th>\n",
       "      <th>Titular</th>\n",
       "      <th>PATENTE</th>\n",
       "      <th>ANO</th>\n",
       "      <th>FECHA_DE_COMPRA</th>\n",
       "      <th>MARCA</th>\n",
       "      <th>MODELO</th>\n",
       "      <th>FABRICANTE</th>\n",
       "      <th>PROVEEDOR_DATO</th>\n",
       "      <th>PORCENTAJE</th>\n",
       "    </tr>\n",
       "  </thead>\n",
       "  <tbody>\n",
       "    <tr>\n",
       "      <th>0</th>\n",
       "      <td>2.700187e+10</td>\n",
       "      <td>187386.0</td>\n",
       "      <td>HERRERA ENA ELSA</td>\n",
       "      <td>AC225HG</td>\n",
       "      <td>2018-01-12 00:00:00</td>\n",
       "      <td>2018-12-06 00:00:00</td>\n",
       "      <td>BMW</td>\n",
       "      <td>M4</td>\n",
       "      <td>BMW M4</td>\n",
       "      <td>AD</td>\n",
       "      <td>100</td>\n",
       "    </tr>\n",
       "    <tr>\n",
       "      <th>1</th>\n",
       "      <td>2.700508e+10</td>\n",
       "      <td>507550.0</td>\n",
       "      <td>ENTRATICO IRMA CLARA</td>\n",
       "      <td>VJT114</td>\n",
       "      <td>1973-02-06 00:00:00</td>\n",
       "      <td>2000-08-24 00:00:00</td>\n",
       "      <td>CHEVROLET</td>\n",
       "      <td>RALLY SPORT 250</td>\n",
       "      <td>CHEVROLET RALLY SPORT 250</td>\n",
       "      <td>AD</td>\n",
       "      <td>100</td>\n",
       "    </tr>\n",
       "    <tr>\n",
       "      <th>2</th>\n",
       "      <td>2.704172e+10</td>\n",
       "      <td>4171534.0</td>\n",
       "      <td>ITUARTE MARGARITA HORTENSIA</td>\n",
       "      <td>SIS478</td>\n",
       "      <td>1981-12-24 00:00:00</td>\n",
       "      <td>-   -</td>\n",
       "      <td>FORD</td>\n",
       "      <td>F-100 DSL</td>\n",
       "      <td>FORD F-100 DSL</td>\n",
       "      <td>AD</td>\n",
       "      <td>100</td>\n",
       "    </tr>\n",
       "    <tr>\n",
       "      <th>3</th>\n",
       "      <td>2.004174e+10</td>\n",
       "      <td>4173550.0</td>\n",
       "      <td>VISCONTI EDUARDO JUAN</td>\n",
       "      <td>FNE571</td>\n",
       "      <td>2006-04-03 00:00:00</td>\n",
       "      <td>2009-10-27 00:00:00</td>\n",
       "      <td>VOLKSWAGEN</td>\n",
       "      <td>BORA 2 0</td>\n",
       "      <td>VOLKSWAGEN BORA 2 0</td>\n",
       "      <td>AD</td>\n",
       "      <td>100</td>\n",
       "    </tr>\n",
       "    <tr>\n",
       "      <th>4</th>\n",
       "      <td>2.004200e+10</td>\n",
       "      <td>4200228.0</td>\n",
       "      <td>CACCHIONE MIGUEL ANGEL</td>\n",
       "      <td>ICQ674</td>\n",
       "      <td>2009-06-08 00:00:00</td>\n",
       "      <td>2009-06-08 00:00:00</td>\n",
       "      <td>TOYOTA</td>\n",
       "      <td>COROLLA SE G 1 8 A/T</td>\n",
       "      <td>TOYOTA COROLLA SE G 1 8 A/T</td>\n",
       "      <td>AD</td>\n",
       "      <td>100</td>\n",
       "    </tr>\n",
       "  </tbody>\n",
       "</table>\n",
       "</div>"
      ],
      "text/plain": [
       "      CUIT_CUIL    NRO_DOC                      Titular  PATENTE  \\\n",
       "0  2.700187e+10   187386.0             HERRERA ENA ELSA  AC225HG   \n",
       "1  2.700508e+10   507550.0         ENTRATICO IRMA CLARA   VJT114   \n",
       "2  2.704172e+10  4171534.0  ITUARTE MARGARITA HORTENSIA   SIS478   \n",
       "3  2.004174e+10  4173550.0        VISCONTI EDUARDO JUAN   FNE571   \n",
       "4  2.004200e+10  4200228.0       CACCHIONE MIGUEL ANGEL   ICQ674   \n",
       "\n",
       "                   ANO      FECHA_DE_COMPRA       MARCA                MODELO  \\\n",
       "0  2018-01-12 00:00:00  2018-12-06 00:00:00         BMW                    M4   \n",
       "1  1973-02-06 00:00:00  2000-08-24 00:00:00   CHEVROLET       RALLY SPORT 250   \n",
       "2  1981-12-24 00:00:00                -   -        FORD             F-100 DSL   \n",
       "3  2006-04-03 00:00:00  2009-10-27 00:00:00  VOLKSWAGEN              BORA 2 0   \n",
       "4  2009-06-08 00:00:00  2009-06-08 00:00:00      TOYOTA  COROLLA SE G 1 8 A/T   \n",
       "\n",
       "                    FABRICANTE PROVEEDOR_DATO  PORCENTAJE  \n",
       "0                       BMW M4             AD         100  \n",
       "1    CHEVROLET RALLY SPORT 250             AD         100  \n",
       "2               FORD F-100 DSL             AD         100  \n",
       "3          VOLKSWAGEN BORA 2 0             AD         100  \n",
       "4  TOYOTA COROLLA SE G 1 8 A/T             AD         100  "
      ]
     },
     "execution_count": 27,
     "metadata": {},
     "output_type": "execute_result"
    }
   ],
   "source": [
    "df_clean.head()"
   ]
  },
  {
   "cell_type": "markdown",
   "metadata": {},
   "source": [
    "# 7) Columna Fecha"
   ]
  },
  {
   "cell_type": "markdown",
   "metadata": {},
   "source": [
    "Para el campo FECHA_INGRESO_DATO, usamos la fecha en la que se hace la inserción de los datos:"
   ]
  },
  {
   "cell_type": "code",
   "execution_count": 28,
   "metadata": {},
   "outputs": [],
   "source": [
    "fecha_ingreso = pd.to_datetime('today')"
   ]
  },
  {
   "cell_type": "code",
   "execution_count": 29,
   "metadata": {},
   "outputs": [],
   "source": [
    "df_clean = df_clean.assign(FECHA_INGRESO=fecha_ingreso)"
   ]
  },
  {
   "cell_type": "code",
   "execution_count": 30,
   "metadata": {
    "scrolled": true
   },
   "outputs": [
    {
     "data": {
      "text/html": [
       "<div>\n",
       "<style scoped>\n",
       "    .dataframe tbody tr th:only-of-type {\n",
       "        vertical-align: middle;\n",
       "    }\n",
       "\n",
       "    .dataframe tbody tr th {\n",
       "        vertical-align: top;\n",
       "    }\n",
       "\n",
       "    .dataframe thead th {\n",
       "        text-align: right;\n",
       "    }\n",
       "</style>\n",
       "<table border=\"1\" class=\"dataframe\">\n",
       "  <thead>\n",
       "    <tr style=\"text-align: right;\">\n",
       "      <th></th>\n",
       "      <th>CUIT_CUIL</th>\n",
       "      <th>NRO_DOC</th>\n",
       "      <th>Titular</th>\n",
       "      <th>PATENTE</th>\n",
       "      <th>ANO</th>\n",
       "      <th>FECHA_DE_COMPRA</th>\n",
       "      <th>MARCA</th>\n",
       "      <th>MODELO</th>\n",
       "      <th>FABRICANTE</th>\n",
       "      <th>PROVEEDOR_DATO</th>\n",
       "      <th>PORCENTAJE</th>\n",
       "      <th>FECHA_INGRESO</th>\n",
       "    </tr>\n",
       "  </thead>\n",
       "  <tbody>\n",
       "    <tr>\n",
       "      <th>0</th>\n",
       "      <td>2.700187e+10</td>\n",
       "      <td>187386.0</td>\n",
       "      <td>HERRERA ENA ELSA</td>\n",
       "      <td>AC225HG</td>\n",
       "      <td>2018-01-12 00:00:00</td>\n",
       "      <td>2018-12-06 00:00:00</td>\n",
       "      <td>BMW</td>\n",
       "      <td>M4</td>\n",
       "      <td>BMW M4</td>\n",
       "      <td>AD</td>\n",
       "      <td>100</td>\n",
       "      <td>2021-03-18 13:59:06.013436</td>\n",
       "    </tr>\n",
       "    <tr>\n",
       "      <th>1</th>\n",
       "      <td>2.700508e+10</td>\n",
       "      <td>507550.0</td>\n",
       "      <td>ENTRATICO IRMA CLARA</td>\n",
       "      <td>VJT114</td>\n",
       "      <td>1973-02-06 00:00:00</td>\n",
       "      <td>2000-08-24 00:00:00</td>\n",
       "      <td>CHEVROLET</td>\n",
       "      <td>RALLY SPORT 250</td>\n",
       "      <td>CHEVROLET RALLY SPORT 250</td>\n",
       "      <td>AD</td>\n",
       "      <td>100</td>\n",
       "      <td>2021-03-18 13:59:06.013436</td>\n",
       "    </tr>\n",
       "    <tr>\n",
       "      <th>2</th>\n",
       "      <td>2.704172e+10</td>\n",
       "      <td>4171534.0</td>\n",
       "      <td>ITUARTE MARGARITA HORTENSIA</td>\n",
       "      <td>SIS478</td>\n",
       "      <td>1981-12-24 00:00:00</td>\n",
       "      <td>-   -</td>\n",
       "      <td>FORD</td>\n",
       "      <td>F-100 DSL</td>\n",
       "      <td>FORD F-100 DSL</td>\n",
       "      <td>AD</td>\n",
       "      <td>100</td>\n",
       "      <td>2021-03-18 13:59:06.013436</td>\n",
       "    </tr>\n",
       "    <tr>\n",
       "      <th>3</th>\n",
       "      <td>2.004174e+10</td>\n",
       "      <td>4173550.0</td>\n",
       "      <td>VISCONTI EDUARDO JUAN</td>\n",
       "      <td>FNE571</td>\n",
       "      <td>2006-04-03 00:00:00</td>\n",
       "      <td>2009-10-27 00:00:00</td>\n",
       "      <td>VOLKSWAGEN</td>\n",
       "      <td>BORA 2 0</td>\n",
       "      <td>VOLKSWAGEN BORA 2 0</td>\n",
       "      <td>AD</td>\n",
       "      <td>100</td>\n",
       "      <td>2021-03-18 13:59:06.013436</td>\n",
       "    </tr>\n",
       "    <tr>\n",
       "      <th>4</th>\n",
       "      <td>2.004200e+10</td>\n",
       "      <td>4200228.0</td>\n",
       "      <td>CACCHIONE MIGUEL ANGEL</td>\n",
       "      <td>ICQ674</td>\n",
       "      <td>2009-06-08 00:00:00</td>\n",
       "      <td>2009-06-08 00:00:00</td>\n",
       "      <td>TOYOTA</td>\n",
       "      <td>COROLLA SE G 1 8 A/T</td>\n",
       "      <td>TOYOTA COROLLA SE G 1 8 A/T</td>\n",
       "      <td>AD</td>\n",
       "      <td>100</td>\n",
       "      <td>2021-03-18 13:59:06.013436</td>\n",
       "    </tr>\n",
       "  </tbody>\n",
       "</table>\n",
       "</div>"
      ],
      "text/plain": [
       "      CUIT_CUIL    NRO_DOC                      Titular  PATENTE  \\\n",
       "0  2.700187e+10   187386.0             HERRERA ENA ELSA  AC225HG   \n",
       "1  2.700508e+10   507550.0         ENTRATICO IRMA CLARA   VJT114   \n",
       "2  2.704172e+10  4171534.0  ITUARTE MARGARITA HORTENSIA   SIS478   \n",
       "3  2.004174e+10  4173550.0        VISCONTI EDUARDO JUAN   FNE571   \n",
       "4  2.004200e+10  4200228.0       CACCHIONE MIGUEL ANGEL   ICQ674   \n",
       "\n",
       "                   ANO      FECHA_DE_COMPRA       MARCA                MODELO  \\\n",
       "0  2018-01-12 00:00:00  2018-12-06 00:00:00         BMW                    M4   \n",
       "1  1973-02-06 00:00:00  2000-08-24 00:00:00   CHEVROLET       RALLY SPORT 250   \n",
       "2  1981-12-24 00:00:00                -   -        FORD             F-100 DSL   \n",
       "3  2006-04-03 00:00:00  2009-10-27 00:00:00  VOLKSWAGEN              BORA 2 0   \n",
       "4  2009-06-08 00:00:00  2009-06-08 00:00:00      TOYOTA  COROLLA SE G 1 8 A/T   \n",
       "\n",
       "                    FABRICANTE PROVEEDOR_DATO  PORCENTAJE  \\\n",
       "0                       BMW M4             AD         100   \n",
       "1    CHEVROLET RALLY SPORT 250             AD         100   \n",
       "2               FORD F-100 DSL             AD         100   \n",
       "3          VOLKSWAGEN BORA 2 0             AD         100   \n",
       "4  TOYOTA COROLLA SE G 1 8 A/T             AD         100   \n",
       "\n",
       "               FECHA_INGRESO  \n",
       "0 2021-03-18 13:59:06.013436  \n",
       "1 2021-03-18 13:59:06.013436  \n",
       "2 2021-03-18 13:59:06.013436  \n",
       "3 2021-03-18 13:59:06.013436  \n",
       "4 2021-03-18 13:59:06.013436  "
      ]
     },
     "execution_count": 30,
     "metadata": {},
     "output_type": "execute_result"
    }
   ],
   "source": [
    "df_clean.head()"
   ]
  },
  {
   "cell_type": "markdown",
   "metadata": {},
   "source": [
    "# 8) Columna Fabricante"
   ]
  },
  {
   "cell_type": "markdown",
   "metadata": {},
   "source": [
    "Se realiza la limpieza de la columna Fabricante, ya que se observan los siguientes problemas:"
   ]
  },
  {
   "cell_type": "markdown",
   "metadata": {},
   "source": [
    "- Cuando no tiene modelo o marca, se escribe \"No Consta\". Eso va a parar a Fabricante.\n",
    "- Al concatenar, se repite el nombre de la Marca en modelo."
   ]
  },
  {
   "cell_type": "code",
   "execution_count": 31,
   "metadata": {},
   "outputs": [],
   "source": [
    "df_clean.loc[((df_clean['MARCA'] == 'NO CONSTA')), 'FABRICANTE'] = 'NO CONSTA'"
   ]
  },
  {
   "cell_type": "code",
   "execution_count": 32,
   "metadata": {},
   "outputs": [
    {
     "name": "stderr",
     "output_type": "stream",
     "text": [
      "<ipython-input-32-17b773d9a13b>:1: FutureWarning: The default value of regex will change from True to False in a future version.\n",
      "  df_clean['FABRICANTE'] = df_clean['FABRICANTE'].str.replace(r'\\b(\\w+)(\\s+\\1)+\\b', r'\\1')\n"
     ]
    }
   ],
   "source": [
    "df_clean['FABRICANTE'] = df_clean['FABRICANTE'].str.replace(r'\\b(\\w+)(\\s+\\1)+\\b', r'\\1')"
   ]
  },
  {
   "cell_type": "code",
   "execution_count": 33,
   "metadata": {
    "scrolled": true
   },
   "outputs": [
    {
     "data": {
      "text/html": [
       "<div>\n",
       "<style scoped>\n",
       "    .dataframe tbody tr th:only-of-type {\n",
       "        vertical-align: middle;\n",
       "    }\n",
       "\n",
       "    .dataframe tbody tr th {\n",
       "        vertical-align: top;\n",
       "    }\n",
       "\n",
       "    .dataframe thead th {\n",
       "        text-align: right;\n",
       "    }\n",
       "</style>\n",
       "<table border=\"1\" class=\"dataframe\">\n",
       "  <thead>\n",
       "    <tr style=\"text-align: right;\">\n",
       "      <th></th>\n",
       "      <th>CUIT_CUIL</th>\n",
       "      <th>NRO_DOC</th>\n",
       "      <th>Titular</th>\n",
       "      <th>PATENTE</th>\n",
       "      <th>ANO</th>\n",
       "      <th>FECHA_DE_COMPRA</th>\n",
       "      <th>MARCA</th>\n",
       "      <th>MODELO</th>\n",
       "      <th>FABRICANTE</th>\n",
       "      <th>PROVEEDOR_DATO</th>\n",
       "      <th>PORCENTAJE</th>\n",
       "      <th>FECHA_INGRESO</th>\n",
       "    </tr>\n",
       "  </thead>\n",
       "  <tbody>\n",
       "    <tr>\n",
       "      <th>0</th>\n",
       "      <td>2.700187e+10</td>\n",
       "      <td>187386.0</td>\n",
       "      <td>HERRERA ENA ELSA</td>\n",
       "      <td>AC225HG</td>\n",
       "      <td>2018-01-12 00:00:00</td>\n",
       "      <td>2018-12-06 00:00:00</td>\n",
       "      <td>BMW</td>\n",
       "      <td>M4</td>\n",
       "      <td>BMW M4</td>\n",
       "      <td>AD</td>\n",
       "      <td>100</td>\n",
       "      <td>2021-03-18 13:59:06.013436</td>\n",
       "    </tr>\n",
       "    <tr>\n",
       "      <th>1</th>\n",
       "      <td>2.700508e+10</td>\n",
       "      <td>507550.0</td>\n",
       "      <td>ENTRATICO IRMA CLARA</td>\n",
       "      <td>VJT114</td>\n",
       "      <td>1973-02-06 00:00:00</td>\n",
       "      <td>2000-08-24 00:00:00</td>\n",
       "      <td>CHEVROLET</td>\n",
       "      <td>RALLY SPORT 250</td>\n",
       "      <td>CHEVROLET RALLY SPORT 250</td>\n",
       "      <td>AD</td>\n",
       "      <td>100</td>\n",
       "      <td>2021-03-18 13:59:06.013436</td>\n",
       "    </tr>\n",
       "    <tr>\n",
       "      <th>2</th>\n",
       "      <td>2.704172e+10</td>\n",
       "      <td>4171534.0</td>\n",
       "      <td>ITUARTE MARGARITA HORTENSIA</td>\n",
       "      <td>SIS478</td>\n",
       "      <td>1981-12-24 00:00:00</td>\n",
       "      <td>-   -</td>\n",
       "      <td>FORD</td>\n",
       "      <td>F-100 DSL</td>\n",
       "      <td>FORD F-100 DSL</td>\n",
       "      <td>AD</td>\n",
       "      <td>100</td>\n",
       "      <td>2021-03-18 13:59:06.013436</td>\n",
       "    </tr>\n",
       "    <tr>\n",
       "      <th>3</th>\n",
       "      <td>2.004174e+10</td>\n",
       "      <td>4173550.0</td>\n",
       "      <td>VISCONTI EDUARDO JUAN</td>\n",
       "      <td>FNE571</td>\n",
       "      <td>2006-04-03 00:00:00</td>\n",
       "      <td>2009-10-27 00:00:00</td>\n",
       "      <td>VOLKSWAGEN</td>\n",
       "      <td>BORA 2 0</td>\n",
       "      <td>VOLKSWAGEN BORA 2 0</td>\n",
       "      <td>AD</td>\n",
       "      <td>100</td>\n",
       "      <td>2021-03-18 13:59:06.013436</td>\n",
       "    </tr>\n",
       "    <tr>\n",
       "      <th>4</th>\n",
       "      <td>2.004200e+10</td>\n",
       "      <td>4200228.0</td>\n",
       "      <td>CACCHIONE MIGUEL ANGEL</td>\n",
       "      <td>ICQ674</td>\n",
       "      <td>2009-06-08 00:00:00</td>\n",
       "      <td>2009-06-08 00:00:00</td>\n",
       "      <td>TOYOTA</td>\n",
       "      <td>COROLLA SE G 1 8 A/T</td>\n",
       "      <td>TOYOTA COROLLA SE G 1 8 A/T</td>\n",
       "      <td>AD</td>\n",
       "      <td>100</td>\n",
       "      <td>2021-03-18 13:59:06.013436</td>\n",
       "    </tr>\n",
       "  </tbody>\n",
       "</table>\n",
       "</div>"
      ],
      "text/plain": [
       "      CUIT_CUIL    NRO_DOC                      Titular  PATENTE  \\\n",
       "0  2.700187e+10   187386.0             HERRERA ENA ELSA  AC225HG   \n",
       "1  2.700508e+10   507550.0         ENTRATICO IRMA CLARA   VJT114   \n",
       "2  2.704172e+10  4171534.0  ITUARTE MARGARITA HORTENSIA   SIS478   \n",
       "3  2.004174e+10  4173550.0        VISCONTI EDUARDO JUAN   FNE571   \n",
       "4  2.004200e+10  4200228.0       CACCHIONE MIGUEL ANGEL   ICQ674   \n",
       "\n",
       "                   ANO      FECHA_DE_COMPRA       MARCA                MODELO  \\\n",
       "0  2018-01-12 00:00:00  2018-12-06 00:00:00         BMW                    M4   \n",
       "1  1973-02-06 00:00:00  2000-08-24 00:00:00   CHEVROLET       RALLY SPORT 250   \n",
       "2  1981-12-24 00:00:00                -   -        FORD             F-100 DSL   \n",
       "3  2006-04-03 00:00:00  2009-10-27 00:00:00  VOLKSWAGEN              BORA 2 0   \n",
       "4  2009-06-08 00:00:00  2009-06-08 00:00:00      TOYOTA  COROLLA SE G 1 8 A/T   \n",
       "\n",
       "                    FABRICANTE PROVEEDOR_DATO  PORCENTAJE  \\\n",
       "0                       BMW M4             AD         100   \n",
       "1    CHEVROLET RALLY SPORT 250             AD         100   \n",
       "2               FORD F-100 DSL             AD         100   \n",
       "3          VOLKSWAGEN BORA 2 0             AD         100   \n",
       "4  TOYOTA COROLLA SE G 1 8 A/T             AD         100   \n",
       "\n",
       "               FECHA_INGRESO  \n",
       "0 2021-03-18 13:59:06.013436  \n",
       "1 2021-03-18 13:59:06.013436  \n",
       "2 2021-03-18 13:59:06.013436  \n",
       "3 2021-03-18 13:59:06.013436  \n",
       "4 2021-03-18 13:59:06.013436  "
      ]
     },
     "execution_count": 33,
     "metadata": {},
     "output_type": "execute_result"
    }
   ],
   "source": [
    "df_clean.head()"
   ]
  },
  {
   "cell_type": "code",
   "execution_count": 34,
   "metadata": {},
   "outputs": [],
   "source": [
    "#df_clean.to_excel('test_marca_modelo_v2.xlsx')"
   ]
  },
  {
   "cell_type": "markdown",
   "metadata": {},
   "source": [
    "# 9) Concatenación con .csv enviado "
   ]
  },
  {
   "cell_type": "markdown",
   "metadata": {},
   "source": [
    "Vamos a concatenar nuestro dataframe con el dataframe enviado para enriquecer. Para esto, vamos a hacer una limpieza inicial de cómo se enviaron esos datos. Finalmente, se uniran ambos dataframes por __DNI__."
   ]
  },
  {
   "cell_type": "markdown",
   "metadata": {},
   "source": [
    "Vamos a analizar y limpiar el dataset enviado para el enriquecimiento:"
   ]
  },
  {
   "cell_type": "code",
   "execution_count": 35,
   "metadata": {},
   "outputs": [],
   "source": [
    "df_pyp = pd.read_csv('/mnt/c/users/Dleg/Data/MOPC/MOPC/Enriquecimiento de Datos/Data Cleaning/Insiders/Datasets/Datasets enviados/Envio Insiders - Estado-IDCliente - 1603.csv')"
   ]
  },
  {
   "cell_type": "code",
   "execution_count": 36,
   "metadata": {},
   "outputs": [
    {
     "data": {
      "text/html": [
       "<div>\n",
       "<style scoped>\n",
       "    .dataframe tbody tr th:only-of-type {\n",
       "        vertical-align: middle;\n",
       "    }\n",
       "\n",
       "    .dataframe tbody tr th {\n",
       "        vertical-align: top;\n",
       "    }\n",
       "\n",
       "    .dataframe thead th {\n",
       "        text-align: right;\n",
       "    }\n",
       "</style>\n",
       "<table border=\"1\" class=\"dataframe\">\n",
       "  <thead>\n",
       "    <tr style=\"text-align: right;\">\n",
       "      <th></th>\n",
       "      <th>IDMOROSO</th>\n",
       "      <th>NOMBRE</th>\n",
       "      <th>IDCLIENTE</th>\n",
       "      <th>ESTADO</th>\n",
       "      <th>FILTROA</th>\n",
       "      <th>DATOADIC</th>\n",
       "    </tr>\n",
       "  </thead>\n",
       "  <tbody>\n",
       "    <tr>\n",
       "      <th>0</th>\n",
       "      <td>DNI 14384837</td>\n",
       "      <td>ACOSTA MARIA CRISTINA</td>\n",
       "      <td>FRANCES_2012</td>\n",
       "      <td>NO VISTO</td>\n",
       "      <td>3 - Ag 3ra</td>\n",
       "      <td>NaN</td>\n",
       "    </tr>\n",
       "    <tr>\n",
       "      <th>1</th>\n",
       "      <td>DNI 33803357</td>\n",
       "      <td>CARRASCO SERGIO DAMIAN</td>\n",
       "      <td>FRANCES_2012</td>\n",
       "      <td>NO VISTO</td>\n",
       "      <td>1 - Ag 1ra</td>\n",
       "      <td>NaN</td>\n",
       "    </tr>\n",
       "    <tr>\n",
       "      <th>2</th>\n",
       "      <td>DNI 34570749</td>\n",
       "      <td>TOLDI PRESENTADO SOLANGE GISELLE</td>\n",
       "      <td>FRANCES_2012</td>\n",
       "      <td>NO VISTO</td>\n",
       "      <td>1 - Ag 1ra</td>\n",
       "      <td>NaN</td>\n",
       "    </tr>\n",
       "    <tr>\n",
       "      <th>3</th>\n",
       "      <td>DNI 36991995</td>\n",
       "      <td>ANTECAO MAURO LEANDRO</td>\n",
       "      <td>FRANCES_2012</td>\n",
       "      <td>NO VISTO</td>\n",
       "      <td>2 - Ag 2ra</td>\n",
       "      <td>NaN</td>\n",
       "    </tr>\n",
       "    <tr>\n",
       "      <th>4</th>\n",
       "      <td>DNI 40359046</td>\n",
       "      <td>VATTOVAZ VICTORIA</td>\n",
       "      <td>FRANCES_2012</td>\n",
       "      <td>NO VISTO</td>\n",
       "      <td>1 - Ag 1ra</td>\n",
       "      <td>NaN</td>\n",
       "    </tr>\n",
       "  </tbody>\n",
       "</table>\n",
       "</div>"
      ],
      "text/plain": [
       "             IDMOROSO                                    NOMBRE  \\\n",
       "0  DNI 14384837        ACOSTA MARIA CRISTINA                      \n",
       "1  DNI 33803357        CARRASCO SERGIO DAMIAN                     \n",
       "2  DNI 34570749        TOLDI PRESENTADO SOLANGE GISELLE           \n",
       "3  DNI 36991995        ANTECAO MAURO LEANDRO                      \n",
       "4  DNI 40359046        VATTOVAZ VICTORIA                          \n",
       "\n",
       "              IDCLIENTE                ESTADO               FILTROA DATOADIC  \n",
       "0  FRANCES_2012          NO VISTO              3 - Ag 3ra                NaN  \n",
       "1  FRANCES_2012          NO VISTO              1 - Ag 1ra                NaN  \n",
       "2  FRANCES_2012          NO VISTO              1 - Ag 1ra                NaN  \n",
       "3  FRANCES_2012          NO VISTO              2 - Ag 2ra                NaN  \n",
       "4  FRANCES_2012          NO VISTO              1 - Ag 1ra                NaN  "
      ]
     },
     "execution_count": 36,
     "metadata": {},
     "output_type": "execute_result"
    }
   ],
   "source": [
    "df_pyp.head()"
   ]
  },
  {
   "cell_type": "markdown",
   "metadata": {},
   "source": [
    "Dropeamos la última columna que no tiene datos"
   ]
  },
  {
   "cell_type": "code",
   "execution_count": 37,
   "metadata": {},
   "outputs": [],
   "source": [
    "df_pyp.loc[(df_pyp['IDCLIENTE'].str.startswith('AMEX')) , 'NRO_DOC'] = df_pyp['DATOADIC']\n",
    "df_pyp.loc[(~df_pyp['IDCLIENTE'].str.startswith('AMEX')) , 'NRO_DOC'] = df_pyp['IDMOROSO']\n",
    "#df_pyp ['NRO_DOC'] = df_pyp ['IDMOROSO']"
   ]
  },
  {
   "cell_type": "code",
   "execution_count": 38,
   "metadata": {},
   "outputs": [],
   "source": [
    "df_pyp = df_pyp [['IDMOROSO','IDCLIENTE','NRO_DOC']]"
   ]
  },
  {
   "cell_type": "code",
   "execution_count": 39,
   "metadata": {},
   "outputs": [
    {
     "data": {
      "text/html": [
       "<div>\n",
       "<style scoped>\n",
       "    .dataframe tbody tr th:only-of-type {\n",
       "        vertical-align: middle;\n",
       "    }\n",
       "\n",
       "    .dataframe tbody tr th {\n",
       "        vertical-align: top;\n",
       "    }\n",
       "\n",
       "    .dataframe thead th {\n",
       "        text-align: right;\n",
       "    }\n",
       "</style>\n",
       "<table border=\"1\" class=\"dataframe\">\n",
       "  <thead>\n",
       "    <tr style=\"text-align: right;\">\n",
       "      <th></th>\n",
       "      <th>IDMOROSO</th>\n",
       "      <th>IDCLIENTE</th>\n",
       "      <th>NRO_DOC</th>\n",
       "    </tr>\n",
       "  </thead>\n",
       "  <tbody>\n",
       "    <tr>\n",
       "      <th>0</th>\n",
       "      <td>DNI 14384837</td>\n",
       "      <td>FRANCES_2012</td>\n",
       "      <td>DNI 14384837</td>\n",
       "    </tr>\n",
       "    <tr>\n",
       "      <th>1</th>\n",
       "      <td>DNI 33803357</td>\n",
       "      <td>FRANCES_2012</td>\n",
       "      <td>DNI 33803357</td>\n",
       "    </tr>\n",
       "    <tr>\n",
       "      <th>2</th>\n",
       "      <td>DNI 34570749</td>\n",
       "      <td>FRANCES_2012</td>\n",
       "      <td>DNI 34570749</td>\n",
       "    </tr>\n",
       "    <tr>\n",
       "      <th>3</th>\n",
       "      <td>DNI 36991995</td>\n",
       "      <td>FRANCES_2012</td>\n",
       "      <td>DNI 36991995</td>\n",
       "    </tr>\n",
       "    <tr>\n",
       "      <th>4</th>\n",
       "      <td>DNI 40359046</td>\n",
       "      <td>FRANCES_2012</td>\n",
       "      <td>DNI 40359046</td>\n",
       "    </tr>\n",
       "  </tbody>\n",
       "</table>\n",
       "</div>"
      ],
      "text/plain": [
       "             IDMOROSO             IDCLIENTE             NRO_DOC\n",
       "0  DNI 14384837        FRANCES_2012          DNI 14384837      \n",
       "1  DNI 33803357        FRANCES_2012          DNI 33803357      \n",
       "2  DNI 34570749        FRANCES_2012          DNI 34570749      \n",
       "3  DNI 36991995        FRANCES_2012          DNI 36991995      \n",
       "4  DNI 40359046        FRANCES_2012          DNI 40359046      "
      ]
     },
     "execution_count": 39,
     "metadata": {},
     "output_type": "execute_result"
    }
   ],
   "source": [
    "df_pyp.head()"
   ]
  },
  {
   "cell_type": "code",
   "execution_count": 40,
   "metadata": {},
   "outputs": [],
   "source": [
    "df_pyp = df_pyp.dropna(subset=['NRO_DOC'])"
   ]
  },
  {
   "cell_type": "code",
   "execution_count": 41,
   "metadata": {},
   "outputs": [
    {
     "data": {
      "text/html": [
       "<div>\n",
       "<style scoped>\n",
       "    .dataframe tbody tr th:only-of-type {\n",
       "        vertical-align: middle;\n",
       "    }\n",
       "\n",
       "    .dataframe tbody tr th {\n",
       "        vertical-align: top;\n",
       "    }\n",
       "\n",
       "    .dataframe thead th {\n",
       "        text-align: right;\n",
       "    }\n",
       "</style>\n",
       "<table border=\"1\" class=\"dataframe\">\n",
       "  <thead>\n",
       "    <tr style=\"text-align: right;\">\n",
       "      <th></th>\n",
       "      <th>IDMOROSO</th>\n",
       "      <th>IDCLIENTE</th>\n",
       "      <th>NRO_DOC</th>\n",
       "    </tr>\n",
       "  </thead>\n",
       "  <tbody>\n",
       "    <tr>\n",
       "      <th>0</th>\n",
       "      <td>DNI 14384837</td>\n",
       "      <td>FRANCES_2012</td>\n",
       "      <td>DNI 14384837</td>\n",
       "    </tr>\n",
       "    <tr>\n",
       "      <th>1</th>\n",
       "      <td>DNI 33803357</td>\n",
       "      <td>FRANCES_2012</td>\n",
       "      <td>DNI 33803357</td>\n",
       "    </tr>\n",
       "    <tr>\n",
       "      <th>2</th>\n",
       "      <td>DNI 34570749</td>\n",
       "      <td>FRANCES_2012</td>\n",
       "      <td>DNI 34570749</td>\n",
       "    </tr>\n",
       "    <tr>\n",
       "      <th>3</th>\n",
       "      <td>DNI 36991995</td>\n",
       "      <td>FRANCES_2012</td>\n",
       "      <td>DNI 36991995</td>\n",
       "    </tr>\n",
       "    <tr>\n",
       "      <th>4</th>\n",
       "      <td>DNI 40359046</td>\n",
       "      <td>FRANCES_2012</td>\n",
       "      <td>DNI 40359046</td>\n",
       "    </tr>\n",
       "  </tbody>\n",
       "</table>\n",
       "</div>"
      ],
      "text/plain": [
       "             IDMOROSO             IDCLIENTE             NRO_DOC\n",
       "0  DNI 14384837        FRANCES_2012          DNI 14384837      \n",
       "1  DNI 33803357        FRANCES_2012          DNI 33803357      \n",
       "2  DNI 34570749        FRANCES_2012          DNI 34570749      \n",
       "3  DNI 36991995        FRANCES_2012          DNI 36991995      \n",
       "4  DNI 40359046        FRANCES_2012          DNI 40359046      "
      ]
     },
     "execution_count": 41,
     "metadata": {},
     "output_type": "execute_result"
    }
   ],
   "source": [
    "df_pyp.head()"
   ]
  },
  {
   "cell_type": "markdown",
   "metadata": {},
   "source": [
    "## 9.2) DNI Cleaning"
   ]
  },
  {
   "cell_type": "markdown",
   "metadata": {},
   "source": [
    "Limpiamos el dataframe __df_pyp__, ya que dentro de DATO_A_ENVIAR tenemos 9 tipos de casos diferentes de datos:\n",
    "\n",
    "- DNI 12345678\n",
    "- DNI12345678\n",
    "- DNIE1234678\n",
    "- LC  1234567\n",
    "- LE  1234567\n",
    "- CUIT00123456780\n",
    "- 00123456780 --> Es un CUIT.\n",
    "- 00 12345678 0 --> Es un CUIT.\n",
    "- DNI 00123456780 --> Dice DNI pero es un CUIT de una persona __jurídica__"
   ]
  },
  {
   "cell_type": "markdown",
   "metadata": {},
   "source": [
    "Para eso definimos 5 funciones:\n",
    "\n",
    "- __Tipo_DOC__: Se definen dos funciones para determinar el tipo de DNI. Una inicial, y otra para corregir sobre el dataframe resultante.\n",
    "- __Standard DNI__: Estandariza los DNI para 7 de los casos.\n",
    "- __DNI Spaces__: Elimina los espacios.\n",
    "- __DNI Zero__: Elimina los ceros iniciales de ciertos CUITs para que coincidan con los DNI.\n",
    "- __Cuit__: Decisión sobre dejar un cuit o volverlo DNI"
   ]
  },
  {
   "cell_type": "code",
   "execution_count": 42,
   "metadata": {},
   "outputs": [],
   "source": [
    "def tipo_doc_1 (string_dni):\n",
    "    \n",
    "    if 'DNI' in string_dni:\n",
    "        tipo = 'DNI'\n",
    "    \n",
    "    elif 'LC' in string_dni:\n",
    "        tipo = 'LC'\n",
    "    \n",
    "    elif 'LE' in string_dni:\n",
    "        tipo = 'LE'\n",
    "    \n",
    "    elif 'DNIE' in string_dni:\n",
    "        tipo = 'DNIE'    \n",
    "    \n",
    "    elif ((string_dni.startswith(('CUIT30','CUIT33','CUIT34'))) & (len(string_dni)>8)):\n",
    "        tipo = 'CUIT'\n",
    "        \n",
    "    elif ((string_dni.startswith(('30','33','34'))) & (len(string_dni)>8)):\n",
    "        tipo = 'CUIT'\n",
    "\n",
    "    elif ((string_dni.startswith(('20','23','24','27'))) & (len(string_dni)>8)):\n",
    "        tipo = 'DNI'\n",
    "\n",
    "    elif ((string_dni.startswith(('CUIT20','CUIT23','CUIT24','CUIT27'))) & (len(string_dni)>8)):\n",
    "        tipo = 'DNI'\n",
    "        \n",
    "    else:\n",
    "        tipo = 'DNI'\n",
    "    \n",
    "    return tipo"
   ]
  },
  {
   "cell_type": "code",
   "execution_count": 43,
   "metadata": {},
   "outputs": [],
   "source": [
    "def tipo_doc_2 (string_dni, tipo_original):\n",
    "    \n",
    "    if (len(string_dni) > 8) & (tipo_original == 'DNI'):\n",
    "        tipo = 'CUIT'\n",
    "    else:\n",
    "        tipo = tipo_original\n",
    "    return tipo"
   ]
  },
  {
   "cell_type": "code",
   "execution_count": 44,
   "metadata": {},
   "outputs": [],
   "source": [
    "def standard_dni (string_dni):\n",
    "    \"\"\"DNI separation by each case.\n",
    "    \"\"\"\n",
    "    \n",
    "    if 'DNI ' in string_dni:\n",
    "        dni = string_dni.split('DNI ')[1]\n",
    "        \n",
    "    elif 'DNIE' in string_dni:\n",
    "        dni = string_dni.split('DNIE')[1]\n",
    "    \n",
    "    elif 'DNI' in string_dni:\n",
    "        dni = string_dni.split('DNI')[1]\n",
    "    \n",
    "    elif 'LC  ' in string_dni:\n",
    "        dni = string_dni.split('LC  ')[1]\n",
    "    \n",
    "    elif 'LE  ' in string_dni:\n",
    "        dni = string_dni.split('LE  ')[1]\n",
    "    \n",
    "    elif 'CUIT' in string_dni:\n",
    "        dni = string_dni.split('CUIT')[1]\n",
    "        \n",
    "    else:\n",
    "        dni = string_dni\n",
    "        \n",
    "    return dni"
   ]
  },
  {
   "cell_type": "code",
   "execution_count": 45,
   "metadata": {},
   "outputs": [],
   "source": [
    "def dni_characters (string_dni):\n",
    "    \n",
    "    if ' ' in string_dni:\n",
    "        dni = string_dni.replace(' ','')\n",
    "        \n",
    "    elif '-' in string_dni:\n",
    "        dni = string_dni.replace('-','')\n",
    "\n",
    "    else:\n",
    "        dni = string_dni\n",
    "    \n",
    "    return dni"
   ]
  },
  {
   "cell_type": "code",
   "execution_count": 46,
   "metadata": {},
   "outputs": [],
   "source": [
    "def cuit (string_dni):\n",
    "    \n",
    "    if ((string_dni.startswith('20')) & (len(string_dni)>8)):\n",
    "        cuit = string_dni [2:-1]\n",
    "        \n",
    "    elif ((string_dni.startswith('23')) & (len(string_dni)>8)):\n",
    "        cuit = string_dni [2:-1]\n",
    "        \n",
    "    elif ((string_dni.startswith('24')) & (len(string_dni)>8)):\n",
    "        cuit = string_dni [2:-1]\n",
    "\n",
    "    elif ((string_dni.startswith('27')) & (len(string_dni)>8)):\n",
    "        cuit = string_dni [2:-1]\n",
    "\n",
    "    else:\n",
    "        cuit = string_dni\n",
    "        \n",
    "    return cuit"
   ]
  },
  {
   "cell_type": "code",
   "execution_count": 47,
   "metadata": {},
   "outputs": [],
   "source": [
    "def dni_zero (string_dni):\n",
    "    \n",
    "    if string_dni.startswith('0'):\n",
    "        dni = string_dni [1:]\n",
    "\n",
    "    else:\n",
    "        dni = string_dni\n",
    "    \n",
    "    return dni"
   ]
  },
  {
   "cell_type": "markdown",
   "metadata": {},
   "source": [
    "En primer lugar, trimmeamos los espacios que sobran:"
   ]
  },
  {
   "cell_type": "code",
   "execution_count": 48,
   "metadata": {},
   "outputs": [],
   "source": [
    "df_pyp['NRO_DOC'] = [(str(df_pyp['NRO_DOC'][i]).strip()) for i in range (df_pyp['NRO_DOC'].count())]"
   ]
  },
  {
   "cell_type": "markdown",
   "metadata": {},
   "source": [
    "Se implementan estas funciones:"
   ]
  },
  {
   "cell_type": "markdown",
   "metadata": {},
   "source": [
    "Para determinar el __TIPO DE DOCUMENTO__ en primer lugar:"
   ]
  },
  {
   "cell_type": "code",
   "execution_count": 49,
   "metadata": {},
   "outputs": [],
   "source": [
    "df_pyp['TIPO_DOC'] = [tipo_doc_1(df_pyp['NRO_DOC'][i]) for i in range (df_pyp['NRO_DOC'].count())]"
   ]
  },
  {
   "cell_type": "markdown",
   "metadata": {},
   "source": [
    "Para la limpieza de DNIs:"
   ]
  },
  {
   "cell_type": "code",
   "execution_count": 50,
   "metadata": {},
   "outputs": [],
   "source": [
    "df_pyp['NRO_DOC'] = [standard_dni(df_pyp['NRO_DOC'][i]) for i in range (df_pyp['NRO_DOC'].count())]"
   ]
  },
  {
   "cell_type": "code",
   "execution_count": 51,
   "metadata": {},
   "outputs": [],
   "source": [
    "df_pyp['NRO_DOC'] = [dni_characters(df_pyp['NRO_DOC'][i]) for i in range (df_pyp['NRO_DOC'].count())]"
   ]
  },
  {
   "cell_type": "code",
   "execution_count": 52,
   "metadata": {},
   "outputs": [],
   "source": [
    "df_pyp['NRO_DOC'] = [cuit(df_pyp['NRO_DOC'][i]) for i in range (df_pyp['NRO_DOC'].count())]"
   ]
  },
  {
   "cell_type": "code",
   "execution_count": 53,
   "metadata": {},
   "outputs": [],
   "source": [
    "df_pyp['NRO_DOC'] = [dni_zero(df_pyp['NRO_DOC'][i]) for i in range (df_pyp['NRO_DOC'].count())]"
   ]
  },
  {
   "cell_type": "markdown",
   "metadata": {},
   "source": [
    "Para corregir el __TIPO DE DOCUMENTO__ sobre el dataframe resultante"
   ]
  },
  {
   "cell_type": "code",
   "execution_count": 54,
   "metadata": {},
   "outputs": [],
   "source": [
    "df_pyp['TIPO_DOC'] = [tipo_doc_2(df_pyp['NRO_DOC'][i],df_pyp['TIPO_DOC'][i]) for i in range (df_pyp['NRO_DOC'].count())]"
   ]
  },
  {
   "cell_type": "code",
   "execution_count": 55,
   "metadata": {},
   "outputs": [
    {
     "data": {
      "text/html": [
       "<div>\n",
       "<style scoped>\n",
       "    .dataframe tbody tr th:only-of-type {\n",
       "        vertical-align: middle;\n",
       "    }\n",
       "\n",
       "    .dataframe tbody tr th {\n",
       "        vertical-align: top;\n",
       "    }\n",
       "\n",
       "    .dataframe thead th {\n",
       "        text-align: right;\n",
       "    }\n",
       "</style>\n",
       "<table border=\"1\" class=\"dataframe\">\n",
       "  <thead>\n",
       "    <tr style=\"text-align: right;\">\n",
       "      <th></th>\n",
       "      <th>IDMOROSO</th>\n",
       "      <th>IDCLIENTE</th>\n",
       "      <th>NRO_DOC</th>\n",
       "      <th>TIPO_DOC</th>\n",
       "    </tr>\n",
       "  </thead>\n",
       "  <tbody>\n",
       "    <tr>\n",
       "      <th>0</th>\n",
       "      <td>DNI 14384837</td>\n",
       "      <td>FRANCES_2012</td>\n",
       "      <td>14384837</td>\n",
       "      <td>DNI</td>\n",
       "    </tr>\n",
       "    <tr>\n",
       "      <th>1</th>\n",
       "      <td>DNI 33803357</td>\n",
       "      <td>FRANCES_2012</td>\n",
       "      <td>33803357</td>\n",
       "      <td>DNI</td>\n",
       "    </tr>\n",
       "    <tr>\n",
       "      <th>2</th>\n",
       "      <td>DNI 34570749</td>\n",
       "      <td>FRANCES_2012</td>\n",
       "      <td>34570749</td>\n",
       "      <td>DNI</td>\n",
       "    </tr>\n",
       "    <tr>\n",
       "      <th>3</th>\n",
       "      <td>DNI 36991995</td>\n",
       "      <td>FRANCES_2012</td>\n",
       "      <td>36991995</td>\n",
       "      <td>DNI</td>\n",
       "    </tr>\n",
       "    <tr>\n",
       "      <th>4</th>\n",
       "      <td>DNI 40359046</td>\n",
       "      <td>FRANCES_2012</td>\n",
       "      <td>40359046</td>\n",
       "      <td>DNI</td>\n",
       "    </tr>\n",
       "  </tbody>\n",
       "</table>\n",
       "</div>"
      ],
      "text/plain": [
       "             IDMOROSO             IDCLIENTE   NRO_DOC TIPO_DOC\n",
       "0  DNI 14384837        FRANCES_2012          14384837      DNI\n",
       "1  DNI 33803357        FRANCES_2012          33803357      DNI\n",
       "2  DNI 34570749        FRANCES_2012          34570749      DNI\n",
       "3  DNI 36991995        FRANCES_2012          36991995      DNI\n",
       "4  DNI 40359046        FRANCES_2012          40359046      DNI"
      ]
     },
     "execution_count": 55,
     "metadata": {},
     "output_type": "execute_result"
    }
   ],
   "source": [
    "df_pyp.head()"
   ]
  },
  {
   "cell_type": "markdown",
   "metadata": {},
   "source": [
    "# 10) Union de Dataframes"
   ]
  },
  {
   "cell_type": "markdown",
   "metadata": {},
   "source": [
    "Se unen ambos dataframes en la columna NRO_DOC"
   ]
  },
  {
   "cell_type": "markdown",
   "metadata": {},
   "source": [
    "Convertimos la columna NRO_DOC de objeto a INT para hacer la unión"
   ]
  },
  {
   "cell_type": "code",
   "execution_count": 56,
   "metadata": {},
   "outputs": [],
   "source": [
    "df_clean = df_clean.astype({'NRO_DOC': 'str'})"
   ]
  },
  {
   "cell_type": "code",
   "execution_count": 57,
   "metadata": {},
   "outputs": [],
   "source": [
    "df_clean ['NRO_DOC'] = df_clean ['NRO_DOC'].str.split('.').str[0]"
   ]
  },
  {
   "cell_type": "code",
   "execution_count": 58,
   "metadata": {},
   "outputs": [],
   "source": [
    "df_union = pd.merge(df_clean,df_pyp, on='NRO_DOC', how='inner')"
   ]
  },
  {
   "cell_type": "code",
   "execution_count": 59,
   "metadata": {},
   "outputs": [
    {
     "data": {
      "text/plain": [
       "(205, 15)"
      ]
     },
     "execution_count": 59,
     "metadata": {},
     "output_type": "execute_result"
    }
   ],
   "source": [
    "df_union.shape"
   ]
  },
  {
   "cell_type": "code",
   "execution_count": 60,
   "metadata": {
    "scrolled": true
   },
   "outputs": [
    {
     "data": {
      "text/html": [
       "<div>\n",
       "<style scoped>\n",
       "    .dataframe tbody tr th:only-of-type {\n",
       "        vertical-align: middle;\n",
       "    }\n",
       "\n",
       "    .dataframe tbody tr th {\n",
       "        vertical-align: top;\n",
       "    }\n",
       "\n",
       "    .dataframe thead th {\n",
       "        text-align: right;\n",
       "    }\n",
       "</style>\n",
       "<table border=\"1\" class=\"dataframe\">\n",
       "  <thead>\n",
       "    <tr style=\"text-align: right;\">\n",
       "      <th></th>\n",
       "      <th>CUIT_CUIL</th>\n",
       "      <th>NRO_DOC</th>\n",
       "      <th>Titular</th>\n",
       "      <th>PATENTE</th>\n",
       "      <th>ANO</th>\n",
       "      <th>FECHA_DE_COMPRA</th>\n",
       "      <th>MARCA</th>\n",
       "      <th>MODELO</th>\n",
       "      <th>FABRICANTE</th>\n",
       "      <th>PROVEEDOR_DATO</th>\n",
       "      <th>PORCENTAJE</th>\n",
       "      <th>FECHA_INGRESO</th>\n",
       "      <th>IDMOROSO</th>\n",
       "      <th>IDCLIENTE</th>\n",
       "      <th>TIPO_DOC</th>\n",
       "    </tr>\n",
       "  </thead>\n",
       "  <tbody>\n",
       "    <tr>\n",
       "      <th>0</th>\n",
       "      <td>2.704172e+10</td>\n",
       "      <td>4171534</td>\n",
       "      <td>ITUARTE MARGARITA HORTENSIA</td>\n",
       "      <td>SIS478</td>\n",
       "      <td>1981-12-24 00:00:00</td>\n",
       "      <td>-   -</td>\n",
       "      <td>FORD</td>\n",
       "      <td>F-100 DSL</td>\n",
       "      <td>FORD F-100 DSL</td>\n",
       "      <td>AD</td>\n",
       "      <td>100</td>\n",
       "      <td>2021-03-18 13:59:06.013436</td>\n",
       "      <td>DNI 4171534</td>\n",
       "      <td>FRAVEGA_LEGALES548</td>\n",
       "      <td>DNI</td>\n",
       "    </tr>\n",
       "    <tr>\n",
       "      <th>1</th>\n",
       "      <td>2.004174e+10</td>\n",
       "      <td>4173550</td>\n",
       "      <td>VISCONTI EDUARDO JUAN</td>\n",
       "      <td>FNE571</td>\n",
       "      <td>2006-04-03 00:00:00</td>\n",
       "      <td>2009-10-27 00:00:00</td>\n",
       "      <td>VOLKSWAGEN</td>\n",
       "      <td>BORA 2 0</td>\n",
       "      <td>VOLKSWAGEN BORA 2 0</td>\n",
       "      <td>AD</td>\n",
       "      <td>100</td>\n",
       "      <td>2021-03-18 13:59:06.013436</td>\n",
       "      <td>RMS379977155103007</td>\n",
       "      <td>AMEX_TNLM</td>\n",
       "      <td>DNI</td>\n",
       "    </tr>\n",
       "    <tr>\n",
       "      <th>2</th>\n",
       "      <td>2.004200e+10</td>\n",
       "      <td>4200228</td>\n",
       "      <td>CACCHIONE MIGUEL ANGEL</td>\n",
       "      <td>ICQ674</td>\n",
       "      <td>2009-06-08 00:00:00</td>\n",
       "      <td>2009-06-08 00:00:00</td>\n",
       "      <td>TOYOTA</td>\n",
       "      <td>COROLLA SE G 1 8 A/T</td>\n",
       "      <td>TOYOTA COROLLA SE G 1 8 A/T</td>\n",
       "      <td>AD</td>\n",
       "      <td>100</td>\n",
       "      <td>2021-03-18 13:59:06.013436</td>\n",
       "      <td>RMS376414200421005</td>\n",
       "      <td>AMEX_TNRM</td>\n",
       "      <td>DNI</td>\n",
       "    </tr>\n",
       "    <tr>\n",
       "      <th>3</th>\n",
       "      <td>2.004834e+10</td>\n",
       "      <td>4834342</td>\n",
       "      <td>VUGDELIJA PEDRO ALBERTO</td>\n",
       "      <td>ASU243</td>\n",
       "      <td>1996-04-10 00:00:00</td>\n",
       "      <td>1996-04-10 00:00:00</td>\n",
       "      <td>RENAULT</td>\n",
       "      <td>CLIO RL DIESEL</td>\n",
       "      <td>RENAULT CLIO RL DIESEL</td>\n",
       "      <td>AD</td>\n",
       "      <td>100</td>\n",
       "      <td>2021-03-18 13:59:06.013436</td>\n",
       "      <td>RMS379975200022008</td>\n",
       "      <td>AMEX_TNLM</td>\n",
       "      <td>DNI</td>\n",
       "    </tr>\n",
       "    <tr>\n",
       "      <th>4</th>\n",
       "      <td>2.005197e+10</td>\n",
       "      <td>5196895</td>\n",
       "      <td>CARPINETTI JULIO ALBERTO</td>\n",
       "      <td>XOP852</td>\n",
       "      <td>1970-05-05 00:00:00</td>\n",
       "      <td>2019-01-02 00:00:00</td>\n",
       "      <td>CITROEN</td>\n",
       "      <td>AZAM</td>\n",
       "      <td>CITROEN AZAM</td>\n",
       "      <td>AD</td>\n",
       "      <td>100</td>\n",
       "      <td>2021-03-18 13:59:06.013436</td>\n",
       "      <td>RMS376415882132000</td>\n",
       "      <td>AMEX_PBRM</td>\n",
       "      <td>DNI</td>\n",
       "    </tr>\n",
       "  </tbody>\n",
       "</table>\n",
       "</div>"
      ],
      "text/plain": [
       "      CUIT_CUIL  NRO_DOC                      Titular PATENTE  \\\n",
       "0  2.704172e+10  4171534  ITUARTE MARGARITA HORTENSIA  SIS478   \n",
       "1  2.004174e+10  4173550        VISCONTI EDUARDO JUAN  FNE571   \n",
       "2  2.004200e+10  4200228       CACCHIONE MIGUEL ANGEL  ICQ674   \n",
       "3  2.004834e+10  4834342      VUGDELIJA PEDRO ALBERTO  ASU243   \n",
       "4  2.005197e+10  5196895     CARPINETTI JULIO ALBERTO  XOP852   \n",
       "\n",
       "                   ANO      FECHA_DE_COMPRA       MARCA                MODELO  \\\n",
       "0  1981-12-24 00:00:00                -   -        FORD             F-100 DSL   \n",
       "1  2006-04-03 00:00:00  2009-10-27 00:00:00  VOLKSWAGEN              BORA 2 0   \n",
       "2  2009-06-08 00:00:00  2009-06-08 00:00:00      TOYOTA  COROLLA SE G 1 8 A/T   \n",
       "3  1996-04-10 00:00:00  1996-04-10 00:00:00     RENAULT        CLIO RL DIESEL   \n",
       "4  1970-05-05 00:00:00  2019-01-02 00:00:00     CITROEN                  AZAM   \n",
       "\n",
       "                    FABRICANTE PROVEEDOR_DATO  PORCENTAJE  \\\n",
       "0               FORD F-100 DSL             AD         100   \n",
       "1          VOLKSWAGEN BORA 2 0             AD         100   \n",
       "2  TOYOTA COROLLA SE G 1 8 A/T             AD         100   \n",
       "3       RENAULT CLIO RL DIESEL             AD         100   \n",
       "4                 CITROEN AZAM             AD         100   \n",
       "\n",
       "               FECHA_INGRESO            IDMOROSO             IDCLIENTE  \\\n",
       "0 2021-03-18 13:59:06.013436  DNI 4171534         FRAVEGA_LEGALES548     \n",
       "1 2021-03-18 13:59:06.013436  RMS379977155103007  AMEX_TNLM              \n",
       "2 2021-03-18 13:59:06.013436  RMS376414200421005  AMEX_TNRM              \n",
       "3 2021-03-18 13:59:06.013436  RMS379975200022008  AMEX_TNLM              \n",
       "4 2021-03-18 13:59:06.013436  RMS376415882132000  AMEX_PBRM              \n",
       "\n",
       "  TIPO_DOC  \n",
       "0      DNI  \n",
       "1      DNI  \n",
       "2      DNI  \n",
       "3      DNI  \n",
       "4      DNI  "
      ]
     },
     "execution_count": 60,
     "metadata": {},
     "output_type": "execute_result"
    }
   ],
   "source": [
    "df_union.head()"
   ]
  },
  {
   "cell_type": "markdown",
   "metadata": {},
   "source": [
    "# 10) Export"
   ]
  },
  {
   "cell_type": "markdown",
   "metadata": {},
   "source": [
    "Renombramos, dropeamos y reordenamos las columnas"
   ]
  },
  {
   "cell_type": "code",
   "execution_count": 61,
   "metadata": {},
   "outputs": [],
   "source": [
    "df_union = df_union.rename(columns = {'PROVEEDOR_DATO':'PROVEEDOR'})"
   ]
  },
  {
   "cell_type": "markdown",
   "metadata": {},
   "source": [
    "Dropeamos columnas que no nos sirven"
   ]
  },
  {
   "cell_type": "code",
   "execution_count": 62,
   "metadata": {},
   "outputs": [],
   "source": [
    "#df_export = df_union.drop(columns=['IDCLIENTE','Titular','ESTADO','NOMBRE','MARCA','MODELO','CUIT_CUIL','NRO_DOC','TIPO_DOC'], axis=0)"
   ]
  },
  {
   "cell_type": "code",
   "execution_count": 63,
   "metadata": {},
   "outputs": [],
   "source": [
    "df_export = df_union[['IDMOROSO','PATENTE','ANO','FABRICANTE','PORCENTAJE','FECHA_INGRESO','PROVEEDOR','FECHA_DE_COMPRA']]"
   ]
  },
  {
   "cell_type": "code",
   "execution_count": 64,
   "metadata": {},
   "outputs": [
    {
     "name": "stderr",
     "output_type": "stream",
     "text": [
      "/home/dleg/.pyenv/versions/3.8.6/envs/lewagon/lib/python3.8/site-packages/pandas/core/indexing.py:1720: SettingWithCopyWarning: \n",
      "A value is trying to be set on a copy of a slice from a DataFrame.\n",
      "Try using .loc[row_indexer,col_indexer] = value instead\n",
      "\n",
      "See the caveats in the documentation: https://pandas.pydata.org/pandas-docs/stable/user_guide/indexing.html#returning-a-view-versus-a-copy\n",
      "  self._setitem_single_column(loc, value, pi)\n"
     ]
    }
   ],
   "source": [
    "df_export.loc[df_export['FECHA_DE_COMPRA'] == '  -   -','FECHA_DE_COMPRA'] = np.nan"
   ]
  },
  {
   "cell_type": "code",
   "execution_count": 65,
   "metadata": {},
   "outputs": [],
   "source": [
    "df_export.loc[df_export['ANO'] == '  -   -','ANO'] = np.nan"
   ]
  },
  {
   "cell_type": "markdown",
   "metadata": {},
   "source": [
    "Generamos ciertos algoritmos para mapear las fechas que vienen en forma de integers a la forma correcta"
   ]
  },
  {
   "cell_type": "code",
   "execution_count": 66,
   "metadata": {},
   "outputs": [],
   "source": [
    "m = df_export['FECHA_DE_COMPRA'].astype(str).str.isdigit()"
   ]
  },
  {
   "cell_type": "code",
   "execution_count": 67,
   "metadata": {},
   "outputs": [],
   "source": [
    "n = df_export['ANO'].astype(str).str.isdigit()"
   ]
  },
  {
   "cell_type": "code",
   "execution_count": 68,
   "metadata": {},
   "outputs": [],
   "source": [
    "from datetime import datetime, timedelta\n",
    "\n",
    "def from_excel_ordinal(ordinal, _epoch0=datetime(1899, 12, 31)):\n",
    "    if ordinal >= 60:\n",
    "        ordinal -= 1  # Excel leap year bug, 1900 is not a leap year!\n",
    "    return (_epoch0 + timedelta(days=ordinal)).replace(microsecond=0)"
   ]
  },
  {
   "cell_type": "code",
   "execution_count": 69,
   "metadata": {
    "scrolled": true
   },
   "outputs": [
    {
     "name": "stderr",
     "output_type": "stream",
     "text": [
      "/home/dleg/.pyenv/versions/3.8.6/envs/lewagon/lib/python3.8/site-packages/pandas/core/indexing.py:1676: SettingWithCopyWarning: \n",
      "A value is trying to be set on a copy of a slice from a DataFrame.\n",
      "Try using .loc[row_indexer,col_indexer] = value instead\n",
      "\n",
      "See the caveats in the documentation: https://pandas.pydata.org/pandas-docs/stable/user_guide/indexing.html#returning-a-view-versus-a-copy\n",
      "  self._setitem_single_column(ilocs[0], value, pi)\n"
     ]
    }
   ],
   "source": [
    "df_export.loc[m, 'FECHA_DE_COMPRA'] = df_export.loc[m, 'FECHA_DE_COMPRA'].astype(int).apply(from_excel_ordinal)"
   ]
  },
  {
   "cell_type": "code",
   "execution_count": 70,
   "metadata": {},
   "outputs": [],
   "source": [
    "df_export.loc[n, 'ANO'] = df_export.loc[n, 'ANO'].astype(int).apply(from_excel_ordinal)"
   ]
  },
  {
   "cell_type": "code",
   "execution_count": 71,
   "metadata": {},
   "outputs": [
    {
     "data": {
      "text/html": [
       "<div>\n",
       "<style scoped>\n",
       "    .dataframe tbody tr th:only-of-type {\n",
       "        vertical-align: middle;\n",
       "    }\n",
       "\n",
       "    .dataframe tbody tr th {\n",
       "        vertical-align: top;\n",
       "    }\n",
       "\n",
       "    .dataframe thead th {\n",
       "        text-align: right;\n",
       "    }\n",
       "</style>\n",
       "<table border=\"1\" class=\"dataframe\">\n",
       "  <thead>\n",
       "    <tr style=\"text-align: right;\">\n",
       "      <th></th>\n",
       "      <th>IDMOROSO</th>\n",
       "      <th>PATENTE</th>\n",
       "      <th>ANO</th>\n",
       "      <th>FABRICANTE</th>\n",
       "      <th>PORCENTAJE</th>\n",
       "      <th>FECHA_INGRESO</th>\n",
       "      <th>PROVEEDOR</th>\n",
       "      <th>FECHA_DE_COMPRA</th>\n",
       "    </tr>\n",
       "  </thead>\n",
       "  <tbody>\n",
       "    <tr>\n",
       "      <th>0</th>\n",
       "      <td>DNI 4171534</td>\n",
       "      <td>SIS478</td>\n",
       "      <td>1981-12-24 00:00:00</td>\n",
       "      <td>FORD F-100 DSL</td>\n",
       "      <td>100</td>\n",
       "      <td>2021-03-18 13:59:06.013436</td>\n",
       "      <td>AD</td>\n",
       "      <td>NaN</td>\n",
       "    </tr>\n",
       "    <tr>\n",
       "      <th>1</th>\n",
       "      <td>RMS379977155103007</td>\n",
       "      <td>FNE571</td>\n",
       "      <td>2006-04-03 00:00:00</td>\n",
       "      <td>VOLKSWAGEN BORA 2 0</td>\n",
       "      <td>100</td>\n",
       "      <td>2021-03-18 13:59:06.013436</td>\n",
       "      <td>AD</td>\n",
       "      <td>2009-10-27 00:00:00</td>\n",
       "    </tr>\n",
       "    <tr>\n",
       "      <th>2</th>\n",
       "      <td>RMS376414200421005</td>\n",
       "      <td>ICQ674</td>\n",
       "      <td>2009-06-08 00:00:00</td>\n",
       "      <td>TOYOTA COROLLA SE G 1 8 A/T</td>\n",
       "      <td>100</td>\n",
       "      <td>2021-03-18 13:59:06.013436</td>\n",
       "      <td>AD</td>\n",
       "      <td>2009-06-08 00:00:00</td>\n",
       "    </tr>\n",
       "    <tr>\n",
       "      <th>3</th>\n",
       "      <td>RMS379975200022008</td>\n",
       "      <td>ASU243</td>\n",
       "      <td>1996-04-10 00:00:00</td>\n",
       "      <td>RENAULT CLIO RL DIESEL</td>\n",
       "      <td>100</td>\n",
       "      <td>2021-03-18 13:59:06.013436</td>\n",
       "      <td>AD</td>\n",
       "      <td>1996-04-10 00:00:00</td>\n",
       "    </tr>\n",
       "    <tr>\n",
       "      <th>4</th>\n",
       "      <td>RMS376415882132000</td>\n",
       "      <td>XOP852</td>\n",
       "      <td>1970-05-05 00:00:00</td>\n",
       "      <td>CITROEN AZAM</td>\n",
       "      <td>100</td>\n",
       "      <td>2021-03-18 13:59:06.013436</td>\n",
       "      <td>AD</td>\n",
       "      <td>2019-01-02 00:00:00</td>\n",
       "    </tr>\n",
       "  </tbody>\n",
       "</table>\n",
       "</div>"
      ],
      "text/plain": [
       "             IDMOROSO PATENTE                  ANO  \\\n",
       "0  DNI 4171534         SIS478  1981-12-24 00:00:00   \n",
       "1  RMS379977155103007  FNE571  2006-04-03 00:00:00   \n",
       "2  RMS376414200421005  ICQ674  2009-06-08 00:00:00   \n",
       "3  RMS379975200022008  ASU243  1996-04-10 00:00:00   \n",
       "4  RMS376415882132000  XOP852  1970-05-05 00:00:00   \n",
       "\n",
       "                    FABRICANTE  PORCENTAJE              FECHA_INGRESO  \\\n",
       "0               FORD F-100 DSL         100 2021-03-18 13:59:06.013436   \n",
       "1          VOLKSWAGEN BORA 2 0         100 2021-03-18 13:59:06.013436   \n",
       "2  TOYOTA COROLLA SE G 1 8 A/T         100 2021-03-18 13:59:06.013436   \n",
       "3       RENAULT CLIO RL DIESEL         100 2021-03-18 13:59:06.013436   \n",
       "4                 CITROEN AZAM         100 2021-03-18 13:59:06.013436   \n",
       "\n",
       "  PROVEEDOR      FECHA_DE_COMPRA  \n",
       "0        AD                  NaN  \n",
       "1        AD  2009-10-27 00:00:00  \n",
       "2        AD  2009-06-08 00:00:00  \n",
       "3        AD  1996-04-10 00:00:00  \n",
       "4        AD  2019-01-02 00:00:00  "
      ]
     },
     "execution_count": 71,
     "metadata": {},
     "output_type": "execute_result"
    }
   ],
   "source": [
    "df_export.head()"
   ]
  },
  {
   "cell_type": "code",
   "execution_count": 72,
   "metadata": {},
   "outputs": [
    {
     "data": {
      "text/plain": [
       "(205, 8)"
      ]
     },
     "execution_count": 72,
     "metadata": {},
     "output_type": "execute_result"
    }
   ],
   "source": [
    "df_export.shape"
   ]
  },
  {
   "cell_type": "code",
   "execution_count": 73,
   "metadata": {},
   "outputs": [
    {
     "name": "stderr",
     "output_type": "stream",
     "text": [
      "<ipython-input-73-b45448763e53>:1: SettingWithCopyWarning: \n",
      "A value is trying to be set on a copy of a slice from a DataFrame.\n",
      "Try using .loc[row_indexer,col_indexer] = value instead\n",
      "\n",
      "See the caveats in the documentation: https://pandas.pydata.org/pandas-docs/stable/user_guide/indexing.html#returning-a-view-versus-a-copy\n",
      "  df_export ['FECHA_INGRESO'] = pd.to_datetime(df_export['FECHA_INGRESO'])\n"
     ]
    }
   ],
   "source": [
    "df_export ['FECHA_INGRESO'] = pd.to_datetime(df_export['FECHA_INGRESO'])"
   ]
  },
  {
   "cell_type": "code",
   "execution_count": 74,
   "metadata": {},
   "outputs": [
    {
     "name": "stderr",
     "output_type": "stream",
     "text": [
      "<ipython-input-74-cff992b9c024>:1: SettingWithCopyWarning: \n",
      "A value is trying to be set on a copy of a slice from a DataFrame.\n",
      "Try using .loc[row_indexer,col_indexer] = value instead\n",
      "\n",
      "See the caveats in the documentation: https://pandas.pydata.org/pandas-docs/stable/user_guide/indexing.html#returning-a-view-versus-a-copy\n",
      "  df_export ['FECHA_DE_COMPRA'] = pd.to_datetime(df_export['FECHA_DE_COMPRA'])\n"
     ]
    }
   ],
   "source": [
    "df_export ['FECHA_DE_COMPRA'] = pd.to_datetime(df_export['FECHA_DE_COMPRA'])"
   ]
  },
  {
   "cell_type": "code",
   "execution_count": 75,
   "metadata": {
    "scrolled": true
   },
   "outputs": [
    {
     "data": {
      "text/html": [
       "<div>\n",
       "<style scoped>\n",
       "    .dataframe tbody tr th:only-of-type {\n",
       "        vertical-align: middle;\n",
       "    }\n",
       "\n",
       "    .dataframe tbody tr th {\n",
       "        vertical-align: top;\n",
       "    }\n",
       "\n",
       "    .dataframe thead th {\n",
       "        text-align: right;\n",
       "    }\n",
       "</style>\n",
       "<table border=\"1\" class=\"dataframe\">\n",
       "  <thead>\n",
       "    <tr style=\"text-align: right;\">\n",
       "      <th></th>\n",
       "      <th>IDMOROSO</th>\n",
       "      <th>PATENTE</th>\n",
       "      <th>ANO</th>\n",
       "      <th>FABRICANTE</th>\n",
       "      <th>PORCENTAJE</th>\n",
       "      <th>FECHA_INGRESO</th>\n",
       "      <th>PROVEEDOR</th>\n",
       "      <th>FECHA_DE_COMPRA</th>\n",
       "    </tr>\n",
       "  </thead>\n",
       "  <tbody>\n",
       "    <tr>\n",
       "      <th>0</th>\n",
       "      <td>DNI 4171534</td>\n",
       "      <td>SIS478</td>\n",
       "      <td>1981-12-24 00:00:00</td>\n",
       "      <td>FORD F-100 DSL</td>\n",
       "      <td>100</td>\n",
       "      <td>2021-03-18 13:59:06.013436</td>\n",
       "      <td>AD</td>\n",
       "      <td>NaT</td>\n",
       "    </tr>\n",
       "    <tr>\n",
       "      <th>1</th>\n",
       "      <td>RMS379977155103007</td>\n",
       "      <td>FNE571</td>\n",
       "      <td>2006-04-03 00:00:00</td>\n",
       "      <td>VOLKSWAGEN BORA 2 0</td>\n",
       "      <td>100</td>\n",
       "      <td>2021-03-18 13:59:06.013436</td>\n",
       "      <td>AD</td>\n",
       "      <td>2009-10-27</td>\n",
       "    </tr>\n",
       "    <tr>\n",
       "      <th>2</th>\n",
       "      <td>RMS376414200421005</td>\n",
       "      <td>ICQ674</td>\n",
       "      <td>2009-06-08 00:00:00</td>\n",
       "      <td>TOYOTA COROLLA SE G 1 8 A/T</td>\n",
       "      <td>100</td>\n",
       "      <td>2021-03-18 13:59:06.013436</td>\n",
       "      <td>AD</td>\n",
       "      <td>2009-06-08</td>\n",
       "    </tr>\n",
       "    <tr>\n",
       "      <th>3</th>\n",
       "      <td>RMS379975200022008</td>\n",
       "      <td>ASU243</td>\n",
       "      <td>1996-04-10 00:00:00</td>\n",
       "      <td>RENAULT CLIO RL DIESEL</td>\n",
       "      <td>100</td>\n",
       "      <td>2021-03-18 13:59:06.013436</td>\n",
       "      <td>AD</td>\n",
       "      <td>1996-04-10</td>\n",
       "    </tr>\n",
       "    <tr>\n",
       "      <th>4</th>\n",
       "      <td>RMS376415882132000</td>\n",
       "      <td>XOP852</td>\n",
       "      <td>1970-05-05 00:00:00</td>\n",
       "      <td>CITROEN AZAM</td>\n",
       "      <td>100</td>\n",
       "      <td>2021-03-18 13:59:06.013436</td>\n",
       "      <td>AD</td>\n",
       "      <td>2019-01-02</td>\n",
       "    </tr>\n",
       "  </tbody>\n",
       "</table>\n",
       "</div>"
      ],
      "text/plain": [
       "             IDMOROSO PATENTE                  ANO  \\\n",
       "0  DNI 4171534         SIS478  1981-12-24 00:00:00   \n",
       "1  RMS379977155103007  FNE571  2006-04-03 00:00:00   \n",
       "2  RMS376414200421005  ICQ674  2009-06-08 00:00:00   \n",
       "3  RMS379975200022008  ASU243  1996-04-10 00:00:00   \n",
       "4  RMS376415882132000  XOP852  1970-05-05 00:00:00   \n",
       "\n",
       "                    FABRICANTE  PORCENTAJE              FECHA_INGRESO  \\\n",
       "0               FORD F-100 DSL         100 2021-03-18 13:59:06.013436   \n",
       "1          VOLKSWAGEN BORA 2 0         100 2021-03-18 13:59:06.013436   \n",
       "2  TOYOTA COROLLA SE G 1 8 A/T         100 2021-03-18 13:59:06.013436   \n",
       "3       RENAULT CLIO RL DIESEL         100 2021-03-18 13:59:06.013436   \n",
       "4                 CITROEN AZAM         100 2021-03-18 13:59:06.013436   \n",
       "\n",
       "  PROVEEDOR FECHA_DE_COMPRA  \n",
       "0        AD             NaT  \n",
       "1        AD      2009-10-27  \n",
       "2        AD      2009-06-08  \n",
       "3        AD      1996-04-10  \n",
       "4        AD      2019-01-02  "
      ]
     },
     "execution_count": 75,
     "metadata": {},
     "output_type": "execute_result"
    }
   ],
   "source": [
    "df_export.head()"
   ]
  },
  {
   "cell_type": "code",
   "execution_count": 76,
   "metadata": {
    "scrolled": true
   },
   "outputs": [
    {
     "name": "stderr",
     "output_type": "stream",
     "text": [
      "<ipython-input-76-9f2911c79429>:1: SettingWithCopyWarning: \n",
      "A value is trying to be set on a copy of a slice from a DataFrame.\n",
      "Try using .loc[row_indexer,col_indexer] = value instead\n",
      "\n",
      "See the caveats in the documentation: https://pandas.pydata.org/pandas-docs/stable/user_guide/indexing.html#returning-a-view-versus-a-copy\n",
      "  df_export['ANO'] = pd.DatetimeIndex(df_export['ANO']).year\n"
     ]
    }
   ],
   "source": [
    "df_export['ANO'] = pd.DatetimeIndex(df_export['ANO']).year"
   ]
  },
  {
   "cell_type": "code",
   "execution_count": 77,
   "metadata": {},
   "outputs": [
    {
     "name": "stderr",
     "output_type": "stream",
     "text": [
      "<ipython-input-77-9618756fbbae>:1: SettingWithCopyWarning: \n",
      "A value is trying to be set on a copy of a slice from a DataFrame.\n",
      "Try using .loc[row_indexer,col_indexer] = value instead\n",
      "\n",
      "See the caveats in the documentation: https://pandas.pydata.org/pandas-docs/stable/user_guide/indexing.html#returning-a-view-versus-a-copy\n",
      "  df_export['ANO'] = df_export['ANO'].astype('Int64')\n"
     ]
    }
   ],
   "source": [
    "df_export['ANO'] = df_export['ANO'].astype('Int64')"
   ]
  },
  {
   "cell_type": "code",
   "execution_count": 78,
   "metadata": {},
   "outputs": [],
   "source": [
    "#df_export['ANO'] = df_export['ANO'].astype(int, errors='ignore')"
   ]
  },
  {
   "cell_type": "code",
   "execution_count": 79,
   "metadata": {
    "scrolled": true
   },
   "outputs": [
    {
     "data": {
      "text/html": [
       "<div>\n",
       "<style scoped>\n",
       "    .dataframe tbody tr th:only-of-type {\n",
       "        vertical-align: middle;\n",
       "    }\n",
       "\n",
       "    .dataframe tbody tr th {\n",
       "        vertical-align: top;\n",
       "    }\n",
       "\n",
       "    .dataframe thead th {\n",
       "        text-align: right;\n",
       "    }\n",
       "</style>\n",
       "<table border=\"1\" class=\"dataframe\">\n",
       "  <thead>\n",
       "    <tr style=\"text-align: right;\">\n",
       "      <th></th>\n",
       "      <th>IDMOROSO</th>\n",
       "      <th>PATENTE</th>\n",
       "      <th>ANO</th>\n",
       "      <th>FABRICANTE</th>\n",
       "      <th>PORCENTAJE</th>\n",
       "      <th>FECHA_INGRESO</th>\n",
       "      <th>PROVEEDOR</th>\n",
       "      <th>FECHA_DE_COMPRA</th>\n",
       "    </tr>\n",
       "  </thead>\n",
       "  <tbody>\n",
       "    <tr>\n",
       "      <th>0</th>\n",
       "      <td>DNI 4171534</td>\n",
       "      <td>SIS478</td>\n",
       "      <td>1981</td>\n",
       "      <td>FORD F-100 DSL</td>\n",
       "      <td>100</td>\n",
       "      <td>2021-03-18 13:59:06.013436</td>\n",
       "      <td>AD</td>\n",
       "      <td>NaT</td>\n",
       "    </tr>\n",
       "    <tr>\n",
       "      <th>1</th>\n",
       "      <td>RMS379977155103007</td>\n",
       "      <td>FNE571</td>\n",
       "      <td>2006</td>\n",
       "      <td>VOLKSWAGEN BORA 2 0</td>\n",
       "      <td>100</td>\n",
       "      <td>2021-03-18 13:59:06.013436</td>\n",
       "      <td>AD</td>\n",
       "      <td>2009-10-27</td>\n",
       "    </tr>\n",
       "    <tr>\n",
       "      <th>2</th>\n",
       "      <td>RMS376414200421005</td>\n",
       "      <td>ICQ674</td>\n",
       "      <td>2009</td>\n",
       "      <td>TOYOTA COROLLA SE G 1 8 A/T</td>\n",
       "      <td>100</td>\n",
       "      <td>2021-03-18 13:59:06.013436</td>\n",
       "      <td>AD</td>\n",
       "      <td>2009-06-08</td>\n",
       "    </tr>\n",
       "    <tr>\n",
       "      <th>3</th>\n",
       "      <td>RMS379975200022008</td>\n",
       "      <td>ASU243</td>\n",
       "      <td>1996</td>\n",
       "      <td>RENAULT CLIO RL DIESEL</td>\n",
       "      <td>100</td>\n",
       "      <td>2021-03-18 13:59:06.013436</td>\n",
       "      <td>AD</td>\n",
       "      <td>1996-04-10</td>\n",
       "    </tr>\n",
       "    <tr>\n",
       "      <th>4</th>\n",
       "      <td>RMS376415882132000</td>\n",
       "      <td>XOP852</td>\n",
       "      <td>1970</td>\n",
       "      <td>CITROEN AZAM</td>\n",
       "      <td>100</td>\n",
       "      <td>2021-03-18 13:59:06.013436</td>\n",
       "      <td>AD</td>\n",
       "      <td>2019-01-02</td>\n",
       "    </tr>\n",
       "  </tbody>\n",
       "</table>\n",
       "</div>"
      ],
      "text/plain": [
       "             IDMOROSO PATENTE   ANO                   FABRICANTE  PORCENTAJE  \\\n",
       "0  DNI 4171534         SIS478  1981               FORD F-100 DSL         100   \n",
       "1  RMS379977155103007  FNE571  2006          VOLKSWAGEN BORA 2 0         100   \n",
       "2  RMS376414200421005  ICQ674  2009  TOYOTA COROLLA SE G 1 8 A/T         100   \n",
       "3  RMS379975200022008  ASU243  1996       RENAULT CLIO RL DIESEL         100   \n",
       "4  RMS376415882132000  XOP852  1970                 CITROEN AZAM         100   \n",
       "\n",
       "               FECHA_INGRESO PROVEEDOR FECHA_DE_COMPRA  \n",
       "0 2021-03-18 13:59:06.013436        AD             NaT  \n",
       "1 2021-03-18 13:59:06.013436        AD      2009-10-27  \n",
       "2 2021-03-18 13:59:06.013436        AD      2009-06-08  \n",
       "3 2021-03-18 13:59:06.013436        AD      1996-04-10  \n",
       "4 2021-03-18 13:59:06.013436        AD      2019-01-02  "
      ]
     },
     "execution_count": 79,
     "metadata": {},
     "output_type": "execute_result"
    }
   ],
   "source": [
    "df_export.head()"
   ]
  },
  {
   "cell_type": "code",
   "execution_count": 80,
   "metadata": {},
   "outputs": [
    {
     "data": {
      "text/html": [
       "<div>\n",
       "<style scoped>\n",
       "    .dataframe tbody tr th:only-of-type {\n",
       "        vertical-align: middle;\n",
       "    }\n",
       "\n",
       "    .dataframe tbody tr th {\n",
       "        vertical-align: top;\n",
       "    }\n",
       "\n",
       "    .dataframe thead th {\n",
       "        text-align: right;\n",
       "    }\n",
       "</style>\n",
       "<table border=\"1\" class=\"dataframe\">\n",
       "  <thead>\n",
       "    <tr style=\"text-align: right;\">\n",
       "      <th></th>\n",
       "      <th>IDMOROSO</th>\n",
       "      <th>PATENTE</th>\n",
       "      <th>ANO</th>\n",
       "      <th>FABRICANTE</th>\n",
       "      <th>PORCENTAJE</th>\n",
       "      <th>FECHA_INGRESO</th>\n",
       "      <th>PROVEEDOR</th>\n",
       "      <th>FECHA_DE_COMPRA</th>\n",
       "    </tr>\n",
       "  </thead>\n",
       "  <tbody>\n",
       "    <tr>\n",
       "      <th>200</th>\n",
       "      <td>RMS376637312513000</td>\n",
       "      <td>NMP905</td>\n",
       "      <td>2014</td>\n",
       "      <td>CHEVROLET COBALT 1 8 N LTZ</td>\n",
       "      <td>100</td>\n",
       "      <td>2021-03-18 13:59:06.013436</td>\n",
       "      <td>AD</td>\n",
       "      <td>2014-01-23</td>\n",
       "    </tr>\n",
       "    <tr>\n",
       "      <th>201</th>\n",
       "      <td>DNIE92972790</td>\n",
       "      <td>DAZ981</td>\n",
       "      <td>2000</td>\n",
       "      <td>PEUGEOT 306 BRL 4P D</td>\n",
       "      <td>100</td>\n",
       "      <td>2021-03-18 13:59:06.013436</td>\n",
       "      <td>AD</td>\n",
       "      <td>2016-02-03</td>\n",
       "    </tr>\n",
       "    <tr>\n",
       "      <th>202</th>\n",
       "      <td>DNIE94568387</td>\n",
       "      <td>A076NED</td>\n",
       "      <td>2018</td>\n",
       "      <td>YAMAHA FZ S FI</td>\n",
       "      <td>100</td>\n",
       "      <td>2021-03-18 13:59:06.013436</td>\n",
       "      <td>AD</td>\n",
       "      <td>2018-04-23</td>\n",
       "    </tr>\n",
       "    <tr>\n",
       "      <th>203</th>\n",
       "      <td>DNIE95097265</td>\n",
       "      <td>CKO339</td>\n",
       "      <td>1998</td>\n",
       "      <td>RENAULT 19 RE D AA  DIREC</td>\n",
       "      <td>100</td>\n",
       "      <td>2021-03-18 13:59:06.013436</td>\n",
       "      <td>AD</td>\n",
       "      <td>2015-03-06</td>\n",
       "    </tr>\n",
       "    <tr>\n",
       "      <th>204</th>\n",
       "      <td>DNIE95346786</td>\n",
       "      <td>AD757SQ</td>\n",
       "      <td>2019</td>\n",
       "      <td>FORD FIESTA 1 6L S PLUS</td>\n",
       "      <td>100</td>\n",
       "      <td>2021-03-18 13:59:06.013436</td>\n",
       "      <td>AD</td>\n",
       "      <td>2019-07-24</td>\n",
       "    </tr>\n",
       "  </tbody>\n",
       "</table>\n",
       "</div>"
      ],
      "text/plain": [
       "               IDMOROSO  PATENTE   ANO                  FABRICANTE  \\\n",
       "200  RMS376637312513000   NMP905  2014  CHEVROLET COBALT 1 8 N LTZ   \n",
       "201  DNIE92972790         DAZ981  2000        PEUGEOT 306 BRL 4P D   \n",
       "202  DNIE94568387        A076NED  2018              YAMAHA FZ S FI   \n",
       "203  DNIE95097265         CKO339  1998   RENAULT 19 RE D AA  DIREC   \n",
       "204  DNIE95346786        AD757SQ  2019     FORD FIESTA 1 6L S PLUS   \n",
       "\n",
       "     PORCENTAJE              FECHA_INGRESO PROVEEDOR FECHA_DE_COMPRA  \n",
       "200         100 2021-03-18 13:59:06.013436        AD      2014-01-23  \n",
       "201         100 2021-03-18 13:59:06.013436        AD      2016-02-03  \n",
       "202         100 2021-03-18 13:59:06.013436        AD      2018-04-23  \n",
       "203         100 2021-03-18 13:59:06.013436        AD      2015-03-06  \n",
       "204         100 2021-03-18 13:59:06.013436        AD      2019-07-24  "
      ]
     },
     "execution_count": 80,
     "metadata": {},
     "output_type": "execute_result"
    }
   ],
   "source": [
    "df_export.tail()"
   ]
  },
  {
   "cell_type": "markdown",
   "metadata": {},
   "source": [
    "## 11) Insert a tabla:"
   ]
  },
  {
   "cell_type": "code",
   "execution_count": 81,
   "metadata": {},
   "outputs": [],
   "source": [
    "df_export.to_csv('/mnt/c/Users/Dleg/Data/MOPC/MOPC/Enriquecimiento de Datos/Data Cleaning/Insiders/Exports/DAM_VEHICULOS/Insiders_DAM_VEHICULOS_1803.csv',index=False)"
   ]
  },
  {
   "cell_type": "code",
   "execution_count": null,
   "metadata": {},
   "outputs": [],
   "source": []
  }
 ],
 "metadata": {
  "kernelspec": {
   "display_name": "Python 3",
   "language": "python",
   "name": "python3"
  },
  "language_info": {
   "codemirror_mode": {
    "name": "ipython",
    "version": 3
   },
   "file_extension": ".py",
   "mimetype": "text/x-python",
   "name": "python",
   "nbconvert_exporter": "python",
   "pygments_lexer": "ipython3",
   "version": "3.8.6"
  }
 },
 "nbformat": 4,
 "nbformat_minor": 4
}
