{
 "cells": [
  {
   "cell_type": "markdown",
   "metadata": {},
   "source": [
    "# 1) Datasets"
   ]
  },
  {
   "cell_type": "markdown",
   "metadata": {},
   "source": [
    "Vamos a leer el dataset que envía PyP"
   ]
  },
  {
   "cell_type": "code",
   "execution_count": 1,
   "metadata": {},
   "outputs": [],
   "source": [
    "import pandas as pd\n",
    "import numpy as np"
   ]
  },
  {
   "cell_type": "markdown",
   "metadata": {},
   "source": [
    "Como hay cuertas columnas que se llaman igual (Cant. Sit 1 se llama igual para titular, grupo familiar y empleador), se renombran en el excel y se trabaja con esa copia."
   ]
  },
  {
   "cell_type": "code",
   "execution_count": 2,
   "metadata": {},
   "outputs": [],
   "source": [
    "df = pd.read_excel('/mnt/c/users/Dleg/Data/MOPC/MOPC/Enriquecimiento de Datos/Data Cleaning/Insiders/Datasets/Datasets recibidos/ENRIQ_IN_1568_20210305 - Score.xlsx',skiprows=2, header=[0,1],)"
   ]
  },
  {
   "cell_type": "code",
   "execution_count": 3,
   "metadata": {},
   "outputs": [
    {
     "data": {
      "text/html": [
       "<div>\n",
       "<style scoped>\n",
       "    .dataframe tbody tr th:only-of-type {\n",
       "        vertical-align: middle;\n",
       "    }\n",
       "\n",
       "    .dataframe tbody tr th {\n",
       "        vertical-align: top;\n",
       "    }\n",
       "\n",
       "    .dataframe thead tr th {\n",
       "        text-align: left;\n",
       "    }\n",
       "</style>\n",
       "<table border=\"1\" class=\"dataframe\">\n",
       "  <thead>\n",
       "    <tr>\n",
       "      <th></th>\n",
       "      <th>Unnamed: 0_level_0</th>\n",
       "      <th>Unnamed: 1_level_0</th>\n",
       "      <th>Unnamed: 2_level_0</th>\n",
       "      <th>Unnamed: 3_level_0</th>\n",
       "      <th>Unnamed: 4_level_0</th>\n",
       "      <th>Unnamed: 5_level_0</th>\n",
       "      <th>Unnamed: 6_level_0</th>\n",
       "      <th>Unnamed: 7_level_0</th>\n",
       "      <th>Unnamed: 8_level_0</th>\n",
       "      <th>Unnamed: 9_level_0</th>\n",
       "      <th>...</th>\n",
       "      <th colspan=\"7\" halign=\"left\">Contactacion Opcional (Familiar)</th>\n",
       "      <th colspan=\"3\" halign=\"left\">Contactacion Opcional (Vecino)</th>\n",
       "    </tr>\n",
       "    <tr>\n",
       "      <th></th>\n",
       "      <th>Cuil</th>\n",
       "      <th>Dni</th>\n",
       "      <th>Fecha de Nac.</th>\n",
       "      <th>Fecha de Defuncion</th>\n",
       "      <th>Sexo</th>\n",
       "      <th>Titular</th>\n",
       "      <th>Calle</th>\n",
       "      <th>Numero</th>\n",
       "      <th>Piso y Depto</th>\n",
       "      <th>Codigo Postal</th>\n",
       "      <th>...</th>\n",
       "      <th>Tel Fijo 2</th>\n",
       "      <th>Celular 1</th>\n",
       "      <th>Celular 2</th>\n",
       "      <th>Celular 3</th>\n",
       "      <th>Celular 4</th>\n",
       "      <th>Celular 5</th>\n",
       "      <th>Email</th>\n",
       "      <th>Nombre</th>\n",
       "      <th>Telefono</th>\n",
       "      <th>SCORE</th>\n",
       "    </tr>\n",
       "  </thead>\n",
       "  <tbody>\n",
       "    <tr>\n",
       "      <th>0</th>\n",
       "      <td>2.004401e+10</td>\n",
       "      <td>4400871.0</td>\n",
       "      <td>1942-12-26</td>\n",
       "      <td>NaN</td>\n",
       "      <td>M</td>\n",
       "      <td>CARTASEGNA MARIO RODOLFO</td>\n",
       "      <td>RAWSON</td>\n",
       "      <td>2676</td>\n",
       "      <td>NaN</td>\n",
       "      <td>1653.0</td>\n",
       "      <td>...</td>\n",
       "      <td>NaN</td>\n",
       "      <td>NaN</td>\n",
       "      <td>NaN</td>\n",
       "      <td>NaN</td>\n",
       "      <td>NaN</td>\n",
       "      <td>NaN</td>\n",
       "      <td>NaN</td>\n",
       "      <td>CATACEGNA MARGARITA L B DE</td>\n",
       "      <td>1.147294e+09</td>\n",
       "      <td>763.0</td>\n",
       "    </tr>\n",
       "    <tr>\n",
       "      <th>1</th>\n",
       "      <td>2.406331e+10</td>\n",
       "      <td>6331345.0</td>\n",
       "      <td>1933-04-21</td>\n",
       "      <td>2020-03-05</td>\n",
       "      <td>M</td>\n",
       "      <td>HIDALGO ALDO CELMAR</td>\n",
       "      <td>CEFERINO NAMUNCURA</td>\n",
       "      <td>1935</td>\n",
       "      <td>NaN</td>\n",
       "      <td>1736.0</td>\n",
       "      <td>...</td>\n",
       "      <td>NaN</td>\n",
       "      <td>NaN</td>\n",
       "      <td>NaN</td>\n",
       "      <td>NaN</td>\n",
       "      <td>NaN</td>\n",
       "      <td>NaN</td>\n",
       "      <td>NaN</td>\n",
       "      <td>HIDALGO ALDO C</td>\n",
       "      <td>2.374818e+09</td>\n",
       "      <td>955.0</td>\n",
       "    </tr>\n",
       "    <tr>\n",
       "      <th>2</th>\n",
       "      <td>2.010088e+10</td>\n",
       "      <td>10087665.0</td>\n",
       "      <td>1951-07-06</td>\n",
       "      <td>NaN</td>\n",
       "      <td>M</td>\n",
       "      <td>PALAVECINO HECTOR JULIO</td>\n",
       "      <td>ARMENIA</td>\n",
       "      <td>2152</td>\n",
       "      <td>NaN</td>\n",
       "      <td>1425.0</td>\n",
       "      <td>...</td>\n",
       "      <td>NaN</td>\n",
       "      <td>NaN</td>\n",
       "      <td>NaN</td>\n",
       "      <td>NaN</td>\n",
       "      <td>NaN</td>\n",
       "      <td>NaN</td>\n",
       "      <td>NaN</td>\n",
       "      <td>NaN</td>\n",
       "      <td>NaN</td>\n",
       "      <td>328.0</td>\n",
       "    </tr>\n",
       "    <tr>\n",
       "      <th>3</th>\n",
       "      <td>2.010194e+10</td>\n",
       "      <td>10194155.0</td>\n",
       "      <td>1957-11-08</td>\n",
       "      <td>NaN</td>\n",
       "      <td>M</td>\n",
       "      <td>GALARZA CARLOS MIGUEL</td>\n",
       "      <td>LAS DELICIAS</td>\n",
       "      <td>4891</td>\n",
       "      <td>NaN</td>\n",
       "      <td>1663.0</td>\n",
       "      <td>...</td>\n",
       "      <td>NaN</td>\n",
       "      <td>NaN</td>\n",
       "      <td>NaN</td>\n",
       "      <td>NaN</td>\n",
       "      <td>NaN</td>\n",
       "      <td>NaN</td>\n",
       "      <td>NaN</td>\n",
       "      <td>MOYANO JAVIER A</td>\n",
       "      <td>1.144650e+09</td>\n",
       "      <td>34.0</td>\n",
       "    </tr>\n",
       "    <tr>\n",
       "      <th>4</th>\n",
       "      <td>2.010377e+10</td>\n",
       "      <td>10376898.0</td>\n",
       "      <td>1952-05-18</td>\n",
       "      <td>NaN</td>\n",
       "      <td>M</td>\n",
       "      <td>LUJAN LUIS DEL VALLE</td>\n",
       "      <td>JUAN RODRIGUEZ</td>\n",
       "      <td>1847</td>\n",
       "      <td>NaN</td>\n",
       "      <td>5006.0</td>\n",
       "      <td>...</td>\n",
       "      <td>NaN</td>\n",
       "      <td>NaN</td>\n",
       "      <td>NaN</td>\n",
       "      <td>NaN</td>\n",
       "      <td>NaN</td>\n",
       "      <td>NaN</td>\n",
       "      <td>NaN</td>\n",
       "      <td>NaN</td>\n",
       "      <td>NaN</td>\n",
       "      <td>928.0</td>\n",
       "    </tr>\n",
       "  </tbody>\n",
       "</table>\n",
       "<p>5 rows × 226 columns</p>\n",
       "</div>"
      ],
      "text/plain": [
       "  Unnamed: 0_level_0 Unnamed: 1_level_0 Unnamed: 2_level_0 Unnamed: 3_level_0  \\\n",
       "                Cuil                Dni      Fecha de Nac. Fecha de Defuncion   \n",
       "0       2.004401e+10          4400871.0         1942-12-26                NaN   \n",
       "1       2.406331e+10          6331345.0         1933-04-21         2020-03-05   \n",
       "2       2.010088e+10         10087665.0         1951-07-06                NaN   \n",
       "3       2.010194e+10         10194155.0         1957-11-08                NaN   \n",
       "4       2.010377e+10         10376898.0         1952-05-18                NaN   \n",
       "\n",
       "  Unnamed: 4_level_0        Unnamed: 5_level_0  Unnamed: 6_level_0  \\\n",
       "                Sexo                   Titular               Calle   \n",
       "0                  M  CARTASEGNA MARIO RODOLFO              RAWSON   \n",
       "1                  M       HIDALGO ALDO CELMAR  CEFERINO NAMUNCURA   \n",
       "2                  M   PALAVECINO HECTOR JULIO             ARMENIA   \n",
       "3                  M     GALARZA CARLOS MIGUEL        LAS DELICIAS   \n",
       "4                  M      LUJAN LUIS DEL VALLE      JUAN RODRIGUEZ   \n",
       "\n",
       "  Unnamed: 7_level_0 Unnamed: 8_level_0 Unnamed: 9_level_0  ...  \\\n",
       "              Numero       Piso y Depto      Codigo Postal  ...   \n",
       "0               2676                NaN             1653.0  ...   \n",
       "1               1935                NaN             1736.0  ...   \n",
       "2               2152                NaN             1425.0  ...   \n",
       "3               4891                NaN             1663.0  ...   \n",
       "4               1847                NaN             5006.0  ...   \n",
       "\n",
       "  Contactacion Opcional (Familiar)                                          \\\n",
       "                        Tel Fijo 2 Celular 1 Celular 2 Celular 3 Celular 4   \n",
       "0                              NaN       NaN       NaN       NaN       NaN   \n",
       "1                              NaN       NaN       NaN       NaN       NaN   \n",
       "2                              NaN       NaN       NaN       NaN       NaN   \n",
       "3                              NaN       NaN       NaN       NaN       NaN   \n",
       "4                              NaN       NaN       NaN       NaN       NaN   \n",
       "\n",
       "                  Contactacion Opcional (Vecino)                       \n",
       "  Celular 5 Email                         Nombre      Telefono  SCORE  \n",
       "0       NaN   NaN     CATACEGNA MARGARITA L B DE  1.147294e+09  763.0  \n",
       "1       NaN   NaN                 HIDALGO ALDO C  2.374818e+09  955.0  \n",
       "2       NaN   NaN                            NaN           NaN  328.0  \n",
       "3       NaN   NaN                MOYANO JAVIER A  1.144650e+09   34.0  \n",
       "4       NaN   NaN                            NaN           NaN  928.0  \n",
       "\n",
       "[5 rows x 226 columns]"
      ]
     },
     "execution_count": 3,
     "metadata": {},
     "output_type": "execute_result"
    }
   ],
   "source": [
    "df.head()"
   ]
  },
  {
   "cell_type": "code",
   "execution_count": 4,
   "metadata": {
    "scrolled": true
   },
   "outputs": [
    {
     "data": {
      "text/plain": [
       "(1165, 226)"
      ]
     },
     "execution_count": 4,
     "metadata": {},
     "output_type": "execute_result"
    }
   ],
   "source": [
    "df.shape"
   ]
  },
  {
   "cell_type": "markdown",
   "metadata": {},
   "source": [
    "## 1.2) Data Cleaning: Datasets"
   ]
  },
  {
   "cell_type": "markdown",
   "metadata": {},
   "source": [
    "Vamos a dropear aquellas columnas y filas que no tengan ningún valor (es decir, que sean todos NaNs)"
   ]
  },
  {
   "cell_type": "code",
   "execution_count": 5,
   "metadata": {},
   "outputs": [],
   "source": [
    "df = df.dropna(axis=0, how='all')"
   ]
  },
  {
   "cell_type": "code",
   "execution_count": 6,
   "metadata": {},
   "outputs": [],
   "source": [
    "#df = df.dropna(axis=1, how='all')"
   ]
  },
  {
   "cell_type": "code",
   "execution_count": 7,
   "metadata": {},
   "outputs": [
    {
     "data": {
      "text/plain": [
       "(165, 226)"
      ]
     },
     "execution_count": 7,
     "metadata": {},
     "output_type": "execute_result"
    }
   ],
   "source": [
    "df.shape"
   ]
  },
  {
   "cell_type": "markdown",
   "metadata": {},
   "source": [
    "Ahora todas las columnas tienen al menos 1 dato."
   ]
  },
  {
   "cell_type": "markdown",
   "metadata": {},
   "source": [
    "# 2) Deudas"
   ]
  },
  {
   "cell_type": "markdown",
   "metadata": {},
   "source": [
    "Vamos a obtener las deudas de las columnas donde pueden aparecer, que son:\n",
    "\n",
    "Dentro de Comportamiento en Banco Central del Titular:\n",
    "\n",
    "- Cant. Sit 1,2,3,4 y 5.\n",
    "- Entidad 1,2,3 y 4.\n",
    "- Deuda 1,2,3 y 4."
   ]
  },
  {
   "cell_type": "code",
   "execution_count": 8,
   "metadata": {},
   "outputs": [],
   "source": [
    "#df.to_excel('columns_dataset_copia.xlsx')"
   ]
  },
  {
   "cell_type": "code",
   "execution_count": 9,
   "metadata": {},
   "outputs": [],
   "source": [
    "df.columns = df.columns.droplevel()"
   ]
  },
  {
   "cell_type": "code",
   "execution_count": 10,
   "metadata": {},
   "outputs": [],
   "source": [
    "df_reduced = df [['Cuil','Dni','Cant. Sit 1 Titular', 'Cant. Sit 2 Titular','Cant. Sit 3 Titular','Cant. Sit 4 Titular'\n",
    "                 , 'Cant. Sit 5 Titular','Entidad 1 Titular','Deuda 1 Titular', 'Entidad 2 Titular','Deuda 2 Titular'\n",
    "                 ,'Entidad 3 Titular','Deuda 3 Titular', 'Entidad 4 Titular','Deuda 4 Titular'\n",
    "                 ]]"
   ]
  },
  {
   "cell_type": "code",
   "execution_count": 11,
   "metadata": {
    "scrolled": true
   },
   "outputs": [
    {
     "data": {
      "text/html": [
       "<div>\n",
       "<style scoped>\n",
       "    .dataframe tbody tr th:only-of-type {\n",
       "        vertical-align: middle;\n",
       "    }\n",
       "\n",
       "    .dataframe tbody tr th {\n",
       "        vertical-align: top;\n",
       "    }\n",
       "\n",
       "    .dataframe thead th {\n",
       "        text-align: right;\n",
       "    }\n",
       "</style>\n",
       "<table border=\"1\" class=\"dataframe\">\n",
       "  <thead>\n",
       "    <tr style=\"text-align: right;\">\n",
       "      <th></th>\n",
       "      <th>Cuil</th>\n",
       "      <th>Dni</th>\n",
       "      <th>Cant. Sit 1 Titular</th>\n",
       "      <th>Cant. Sit 2 Titular</th>\n",
       "      <th>Cant. Sit 3 Titular</th>\n",
       "      <th>Cant. Sit 4 Titular</th>\n",
       "      <th>Cant. Sit 5 Titular</th>\n",
       "      <th>Entidad 1 Titular</th>\n",
       "      <th>Deuda 1 Titular</th>\n",
       "      <th>Entidad 2 Titular</th>\n",
       "      <th>Deuda 2 Titular</th>\n",
       "      <th>Entidad 3 Titular</th>\n",
       "      <th>Deuda 3 Titular</th>\n",
       "      <th>Entidad 4 Titular</th>\n",
       "      <th>Deuda 4 Titular</th>\n",
       "    </tr>\n",
       "  </thead>\n",
       "  <tbody>\n",
       "    <tr>\n",
       "      <th>0</th>\n",
       "      <td>2.004401e+10</td>\n",
       "      <td>4400871.0</td>\n",
       "      <td>4.0</td>\n",
       "      <td>0.0</td>\n",
       "      <td>0.0</td>\n",
       "      <td>1.0</td>\n",
       "      <td>0.0</td>\n",
       "      <td>BANCO DE GALICIA Y BUENOS AIRES S.A.U.</td>\n",
       "      <td>41.0</td>\n",
       "      <td>BANCO BBVA ARGENTINA S.A.</td>\n",
       "      <td>40.0</td>\n",
       "      <td>CENCOSUD S.A.</td>\n",
       "      <td>37.0</td>\n",
       "      <td>BANCO PIANO S.A.</td>\n",
       "      <td>19.0</td>\n",
       "    </tr>\n",
       "    <tr>\n",
       "      <th>1</th>\n",
       "      <td>2.406331e+10</td>\n",
       "      <td>6331345.0</td>\n",
       "      <td>0.0</td>\n",
       "      <td>0.0</td>\n",
       "      <td>1.0</td>\n",
       "      <td>0.0</td>\n",
       "      <td>0.0</td>\n",
       "      <td>BANCO BBVA ARGENTINA S.A.</td>\n",
       "      <td>36.0</td>\n",
       "      <td>NaN</td>\n",
       "      <td>0.0</td>\n",
       "      <td>NaN</td>\n",
       "      <td>0.0</td>\n",
       "      <td>NaN</td>\n",
       "      <td>0.0</td>\n",
       "    </tr>\n",
       "    <tr>\n",
       "      <th>2</th>\n",
       "      <td>2.010088e+10</td>\n",
       "      <td>10087665.0</td>\n",
       "      <td>2.0</td>\n",
       "      <td>0.0</td>\n",
       "      <td>0.0</td>\n",
       "      <td>0.0</td>\n",
       "      <td>1.0</td>\n",
       "      <td>BANCO PIANO S.A.</td>\n",
       "      <td>127.0</td>\n",
       "      <td>BANCO SUPERVIELLE S.A.</td>\n",
       "      <td>52.0</td>\n",
       "      <td>BANCO BBVA ARGENTINA S.A.</td>\n",
       "      <td>0.0</td>\n",
       "      <td>NaN</td>\n",
       "      <td>0.0</td>\n",
       "    </tr>\n",
       "    <tr>\n",
       "      <th>3</th>\n",
       "      <td>2.010194e+10</td>\n",
       "      <td>10194155.0</td>\n",
       "      <td>0.0</td>\n",
       "      <td>0.0</td>\n",
       "      <td>0.0</td>\n",
       "      <td>0.0</td>\n",
       "      <td>2.0</td>\n",
       "      <td>BANCO BBVA ARGENTINA S.A.</td>\n",
       "      <td>0.0</td>\n",
       "      <td>BANCO SANTANDER RIO S.A.</td>\n",
       "      <td>0.0</td>\n",
       "      <td>NaN</td>\n",
       "      <td>0.0</td>\n",
       "      <td>NaN</td>\n",
       "      <td>0.0</td>\n",
       "    </tr>\n",
       "    <tr>\n",
       "      <th>4</th>\n",
       "      <td>2.010377e+10</td>\n",
       "      <td>10376898.0</td>\n",
       "      <td>0.0</td>\n",
       "      <td>0.0</td>\n",
       "      <td>1.0</td>\n",
       "      <td>0.0</td>\n",
       "      <td>0.0</td>\n",
       "      <td>BANCO BBVA ARGENTINA S.A.</td>\n",
       "      <td>40.0</td>\n",
       "      <td>NaN</td>\n",
       "      <td>0.0</td>\n",
       "      <td>NaN</td>\n",
       "      <td>0.0</td>\n",
       "      <td>NaN</td>\n",
       "      <td>0.0</td>\n",
       "    </tr>\n",
       "  </tbody>\n",
       "</table>\n",
       "</div>"
      ],
      "text/plain": [
       "           Cuil         Dni  Cant. Sit 1 Titular  Cant. Sit 2 Titular  \\\n",
       "0  2.004401e+10   4400871.0                  4.0                  0.0   \n",
       "1  2.406331e+10   6331345.0                  0.0                  0.0   \n",
       "2  2.010088e+10  10087665.0                  2.0                  0.0   \n",
       "3  2.010194e+10  10194155.0                  0.0                  0.0   \n",
       "4  2.010377e+10  10376898.0                  0.0                  0.0   \n",
       "\n",
       "   Cant. Sit 3 Titular  Cant. Sit 4 Titular  Cant. Sit 5 Titular  \\\n",
       "0                  0.0                  1.0                  0.0   \n",
       "1                  1.0                  0.0                  0.0   \n",
       "2                  0.0                  0.0                  1.0   \n",
       "3                  0.0                  0.0                  2.0   \n",
       "4                  1.0                  0.0                  0.0   \n",
       "\n",
       "                        Entidad 1 Titular  Deuda 1 Titular  \\\n",
       "0  BANCO DE GALICIA Y BUENOS AIRES S.A.U.             41.0   \n",
       "1               BANCO BBVA ARGENTINA S.A.             36.0   \n",
       "2                        BANCO PIANO S.A.            127.0   \n",
       "3               BANCO BBVA ARGENTINA S.A.              0.0   \n",
       "4               BANCO BBVA ARGENTINA S.A.             40.0   \n",
       "\n",
       "           Entidad 2 Titular  Deuda 2 Titular          Entidad 3 Titular  \\\n",
       "0  BANCO BBVA ARGENTINA S.A.             40.0              CENCOSUD S.A.   \n",
       "1                        NaN              0.0                        NaN   \n",
       "2     BANCO SUPERVIELLE S.A.             52.0  BANCO BBVA ARGENTINA S.A.   \n",
       "3   BANCO SANTANDER RIO S.A.              0.0                        NaN   \n",
       "4                        NaN              0.0                        NaN   \n",
       "\n",
       "   Deuda 3 Titular Entidad 4 Titular  Deuda 4 Titular  \n",
       "0             37.0  BANCO PIANO S.A.             19.0  \n",
       "1              0.0               NaN              0.0  \n",
       "2              0.0               NaN              0.0  \n",
       "3              0.0               NaN              0.0  \n",
       "4              0.0               NaN              0.0  "
      ]
     },
     "execution_count": 11,
     "metadata": {},
     "output_type": "execute_result"
    }
   ],
   "source": [
    "df_reduced.head()"
   ]
  },
  {
   "cell_type": "code",
   "execution_count": 12,
   "metadata": {},
   "outputs": [
    {
     "name": "stderr",
     "output_type": "stream",
     "text": [
      "<ipython-input-12-a6a97bcdd2eb>:1: SettingWithCopyWarning: \n",
      "A value is trying to be set on a copy of a slice from a DataFrame.\n",
      "Try using .loc[row_indexer,col_indexer] = value instead\n",
      "\n",
      "See the caveats in the documentation: https://pandas.pydata.org/pandas-docs/stable/user_guide/indexing.html#returning-a-view-versus-a-copy\n",
      "  df_reduced ['Cant. Sit 1 Titular'] = df_reduced ['Cant. Sit 1 Titular'].astype(int)\n",
      "<ipython-input-12-a6a97bcdd2eb>:2: SettingWithCopyWarning: \n",
      "A value is trying to be set on a copy of a slice from a DataFrame.\n",
      "Try using .loc[row_indexer,col_indexer] = value instead\n",
      "\n",
      "See the caveats in the documentation: https://pandas.pydata.org/pandas-docs/stable/user_guide/indexing.html#returning-a-view-versus-a-copy\n",
      "  df_reduced ['Cant. Sit 2 Titular'] = df_reduced ['Cant. Sit 2 Titular'].astype(int)\n",
      "<ipython-input-12-a6a97bcdd2eb>:3: SettingWithCopyWarning: \n",
      "A value is trying to be set on a copy of a slice from a DataFrame.\n",
      "Try using .loc[row_indexer,col_indexer] = value instead\n",
      "\n",
      "See the caveats in the documentation: https://pandas.pydata.org/pandas-docs/stable/user_guide/indexing.html#returning-a-view-versus-a-copy\n",
      "  df_reduced ['Cant. Sit 3 Titular'] = df_reduced ['Cant. Sit 3 Titular'].astype(int)\n",
      "<ipython-input-12-a6a97bcdd2eb>:4: SettingWithCopyWarning: \n",
      "A value is trying to be set on a copy of a slice from a DataFrame.\n",
      "Try using .loc[row_indexer,col_indexer] = value instead\n",
      "\n",
      "See the caveats in the documentation: https://pandas.pydata.org/pandas-docs/stable/user_guide/indexing.html#returning-a-view-versus-a-copy\n",
      "  df_reduced ['Cant. Sit 4 Titular'] = df_reduced ['Cant. Sit 4 Titular'].astype(int)\n",
      "<ipython-input-12-a6a97bcdd2eb>:5: SettingWithCopyWarning: \n",
      "A value is trying to be set on a copy of a slice from a DataFrame.\n",
      "Try using .loc[row_indexer,col_indexer] = value instead\n",
      "\n",
      "See the caveats in the documentation: https://pandas.pydata.org/pandas-docs/stable/user_guide/indexing.html#returning-a-view-versus-a-copy\n",
      "  df_reduced ['Cant. Sit 5 Titular'] = df_reduced ['Cant. Sit 5 Titular'].astype(int)\n"
     ]
    }
   ],
   "source": [
    "df_reduced ['Cant. Sit 1 Titular'] = df_reduced ['Cant. Sit 1 Titular'].astype(int)\n",
    "df_reduced ['Cant. Sit 2 Titular'] = df_reduced ['Cant. Sit 2 Titular'].astype(int)\n",
    "df_reduced ['Cant. Sit 3 Titular'] = df_reduced ['Cant. Sit 3 Titular'].astype(int)\n",
    "df_reduced ['Cant. Sit 4 Titular'] = df_reduced ['Cant. Sit 4 Titular'].astype(int)\n",
    "df_reduced ['Cant. Sit 5 Titular'] = df_reduced ['Cant. Sit 5 Titular'].astype(int)\n",
    "\n",
    "#df_reduced ['Deuda 1 Titular'] = df_reduced ['Deuda 1 Titular'].astype(int)\n",
    "#df_reduced ['Deuda 2 Titular'] = df_reduced ['Deuda 2 Titular'].astype(int)\n",
    "#df_reduced ['Deuda 3 Titular'] = df_reduced ['Deuda 3 Titular'].astype(int)\n",
    "#df_reduced ['Deuda 4 Titular'] = df_reduced ['Deuda 4 Titular'].astype(int)"
   ]
  },
  {
   "cell_type": "code",
   "execution_count": 13,
   "metadata": {},
   "outputs": [
    {
     "data": {
      "text/plain": [
       "(165, 15)"
      ]
     },
     "execution_count": 13,
     "metadata": {},
     "output_type": "execute_result"
    }
   ],
   "source": [
    "df_reduced.shape"
   ]
  },
  {
   "cell_type": "code",
   "execution_count": 14,
   "metadata": {},
   "outputs": [
    {
     "data": {
      "text/html": [
       "<div>\n",
       "<style scoped>\n",
       "    .dataframe tbody tr th:only-of-type {\n",
       "        vertical-align: middle;\n",
       "    }\n",
       "\n",
       "    .dataframe tbody tr th {\n",
       "        vertical-align: top;\n",
       "    }\n",
       "\n",
       "    .dataframe thead th {\n",
       "        text-align: right;\n",
       "    }\n",
       "</style>\n",
       "<table border=\"1\" class=\"dataframe\">\n",
       "  <thead>\n",
       "    <tr style=\"text-align: right;\">\n",
       "      <th></th>\n",
       "      <th>Cuil</th>\n",
       "      <th>Dni</th>\n",
       "      <th>Cant. Sit 1 Titular</th>\n",
       "      <th>Cant. Sit 2 Titular</th>\n",
       "      <th>Cant. Sit 3 Titular</th>\n",
       "      <th>Cant. Sit 4 Titular</th>\n",
       "      <th>Cant. Sit 5 Titular</th>\n",
       "      <th>Entidad 1 Titular</th>\n",
       "      <th>Deuda 1 Titular</th>\n",
       "      <th>Entidad 2 Titular</th>\n",
       "      <th>Deuda 2 Titular</th>\n",
       "      <th>Entidad 3 Titular</th>\n",
       "      <th>Deuda 3 Titular</th>\n",
       "      <th>Entidad 4 Titular</th>\n",
       "      <th>Deuda 4 Titular</th>\n",
       "    </tr>\n",
       "  </thead>\n",
       "  <tbody>\n",
       "    <tr>\n",
       "      <th>0</th>\n",
       "      <td>2.004401e+10</td>\n",
       "      <td>4400871.0</td>\n",
       "      <td>4</td>\n",
       "      <td>0</td>\n",
       "      <td>0</td>\n",
       "      <td>1</td>\n",
       "      <td>0</td>\n",
       "      <td>BANCO DE GALICIA Y BUENOS AIRES S.A.U.</td>\n",
       "      <td>41.0</td>\n",
       "      <td>BANCO BBVA ARGENTINA S.A.</td>\n",
       "      <td>40.0</td>\n",
       "      <td>CENCOSUD S.A.</td>\n",
       "      <td>37.0</td>\n",
       "      <td>BANCO PIANO S.A.</td>\n",
       "      <td>19.0</td>\n",
       "    </tr>\n",
       "    <tr>\n",
       "      <th>1</th>\n",
       "      <td>2.406331e+10</td>\n",
       "      <td>6331345.0</td>\n",
       "      <td>0</td>\n",
       "      <td>0</td>\n",
       "      <td>1</td>\n",
       "      <td>0</td>\n",
       "      <td>0</td>\n",
       "      <td>BANCO BBVA ARGENTINA S.A.</td>\n",
       "      <td>36.0</td>\n",
       "      <td>NaN</td>\n",
       "      <td>0.0</td>\n",
       "      <td>NaN</td>\n",
       "      <td>0.0</td>\n",
       "      <td>NaN</td>\n",
       "      <td>0.0</td>\n",
       "    </tr>\n",
       "    <tr>\n",
       "      <th>2</th>\n",
       "      <td>2.010088e+10</td>\n",
       "      <td>10087665.0</td>\n",
       "      <td>2</td>\n",
       "      <td>0</td>\n",
       "      <td>0</td>\n",
       "      <td>0</td>\n",
       "      <td>1</td>\n",
       "      <td>BANCO PIANO S.A.</td>\n",
       "      <td>127.0</td>\n",
       "      <td>BANCO SUPERVIELLE S.A.</td>\n",
       "      <td>52.0</td>\n",
       "      <td>BANCO BBVA ARGENTINA S.A.</td>\n",
       "      <td>0.0</td>\n",
       "      <td>NaN</td>\n",
       "      <td>0.0</td>\n",
       "    </tr>\n",
       "    <tr>\n",
       "      <th>3</th>\n",
       "      <td>2.010194e+10</td>\n",
       "      <td>10194155.0</td>\n",
       "      <td>0</td>\n",
       "      <td>0</td>\n",
       "      <td>0</td>\n",
       "      <td>0</td>\n",
       "      <td>2</td>\n",
       "      <td>BANCO BBVA ARGENTINA S.A.</td>\n",
       "      <td>0.0</td>\n",
       "      <td>BANCO SANTANDER RIO S.A.</td>\n",
       "      <td>0.0</td>\n",
       "      <td>NaN</td>\n",
       "      <td>0.0</td>\n",
       "      <td>NaN</td>\n",
       "      <td>0.0</td>\n",
       "    </tr>\n",
       "    <tr>\n",
       "      <th>4</th>\n",
       "      <td>2.010377e+10</td>\n",
       "      <td>10376898.0</td>\n",
       "      <td>0</td>\n",
       "      <td>0</td>\n",
       "      <td>1</td>\n",
       "      <td>0</td>\n",
       "      <td>0</td>\n",
       "      <td>BANCO BBVA ARGENTINA S.A.</td>\n",
       "      <td>40.0</td>\n",
       "      <td>NaN</td>\n",
       "      <td>0.0</td>\n",
       "      <td>NaN</td>\n",
       "      <td>0.0</td>\n",
       "      <td>NaN</td>\n",
       "      <td>0.0</td>\n",
       "    </tr>\n",
       "  </tbody>\n",
       "</table>\n",
       "</div>"
      ],
      "text/plain": [
       "           Cuil         Dni  Cant. Sit 1 Titular  Cant. Sit 2 Titular  \\\n",
       "0  2.004401e+10   4400871.0                    4                    0   \n",
       "1  2.406331e+10   6331345.0                    0                    0   \n",
       "2  2.010088e+10  10087665.0                    2                    0   \n",
       "3  2.010194e+10  10194155.0                    0                    0   \n",
       "4  2.010377e+10  10376898.0                    0                    0   \n",
       "\n",
       "   Cant. Sit 3 Titular  Cant. Sit 4 Titular  Cant. Sit 5 Titular  \\\n",
       "0                    0                    1                    0   \n",
       "1                    1                    0                    0   \n",
       "2                    0                    0                    1   \n",
       "3                    0                    0                    2   \n",
       "4                    1                    0                    0   \n",
       "\n",
       "                        Entidad 1 Titular  Deuda 1 Titular  \\\n",
       "0  BANCO DE GALICIA Y BUENOS AIRES S.A.U.             41.0   \n",
       "1               BANCO BBVA ARGENTINA S.A.             36.0   \n",
       "2                        BANCO PIANO S.A.            127.0   \n",
       "3               BANCO BBVA ARGENTINA S.A.              0.0   \n",
       "4               BANCO BBVA ARGENTINA S.A.             40.0   \n",
       "\n",
       "           Entidad 2 Titular  Deuda 2 Titular          Entidad 3 Titular  \\\n",
       "0  BANCO BBVA ARGENTINA S.A.             40.0              CENCOSUD S.A.   \n",
       "1                        NaN              0.0                        NaN   \n",
       "2     BANCO SUPERVIELLE S.A.             52.0  BANCO BBVA ARGENTINA S.A.   \n",
       "3   BANCO SANTANDER RIO S.A.              0.0                        NaN   \n",
       "4                        NaN              0.0                        NaN   \n",
       "\n",
       "   Deuda 3 Titular Entidad 4 Titular  Deuda 4 Titular  \n",
       "0             37.0  BANCO PIANO S.A.             19.0  \n",
       "1              0.0               NaN              0.0  \n",
       "2              0.0               NaN              0.0  \n",
       "3              0.0               NaN              0.0  \n",
       "4              0.0               NaN              0.0  "
      ]
     },
     "execution_count": 14,
     "metadata": {},
     "output_type": "execute_result"
    }
   ],
   "source": [
    "df_reduced.head()"
   ]
  },
  {
   "cell_type": "markdown",
   "metadata": {},
   "source": [
    "Eliminamos fila sin ninguna data"
   ]
  },
  {
   "cell_type": "code",
   "execution_count": 15,
   "metadata": {},
   "outputs": [],
   "source": [
    "#df_reduced = df_reduced[~(df_reduced['Entidad 1 Titular'].isnull() & df_reduced['Entidad 2 Titular'].isnull()\n",
    "#          & df_reduced['Entidad 3 Titular'].isnull() & df_reduced['Entidad 4 Titular'].isnull())]"
   ]
  },
  {
   "cell_type": "markdown",
   "metadata": {},
   "source": [
    "El record nº 15 tiene un 5 en cantidad de situaciones. Debería capear eso para que no pueda mostrar más que 4 en todas las columnas. Por eso queda fuera de index"
   ]
  },
  {
   "cell_type": "code",
   "execution_count": 16,
   "metadata": {
    "scrolled": true
   },
   "outputs": [],
   "source": [
    "#df_reduced.loc[df_reduced['Cant. Sit 1 Titular'] > 4, 'Cant. Sit 1 Titular'] = 4\n",
    "#df_reduced.loc[df_reduced['Cant. Sit 2 Titular'] > 4, 'Cant. Sit 2 Titular'] = 4\n",
    "#df_reduced.loc[df_reduced['Cant. Sit 3 Titular'] > 4, 'Cant. Sit 3 Titular'] = 4\n",
    "#df_reduced.loc[df_reduced['Cant. Sit 4 Titular'] > 4, 'Cant. Sit 4 Titular'] = 4\n",
    "#df_reduced.loc[df_reduced['Cant. Sit 5 Titular'] > 4, 'Cant. Sit 5 Titular'] = 4"
   ]
  },
  {
   "cell_type": "markdown",
   "metadata": {},
   "source": [
    "Tenemos el problema de que la cantidad total de situaciones en algunas filas excede el total máximo de 4, por lo que no podemos identificar correctamente a qué corresponde cada una."
   ]
  },
  {
   "cell_type": "markdown",
   "metadata": {},
   "source": [
    "En aquellos casos que la suma de las cantidades de situaciones de más que 4, vamos a quedarnos con lo primero que sume 4 dentro del total"
   ]
  },
  {
   "cell_type": "markdown",
   "metadata": {},
   "source": [
    "**Opción rápida**: agregar celdas con NANs al Excel para el máximo de situaciones que me den, así el loop funciona. Ejemplo, si la suma da 6, agregar dos celdas más como Entidad 5 y 6 que no tengan nada."
   ]
  },
  {
   "cell_type": "code",
   "execution_count": 17,
   "metadata": {
    "scrolled": true
   },
   "outputs": [
    {
     "data": {
      "text/html": [
       "<div>\n",
       "<style scoped>\n",
       "    .dataframe tbody tr th:only-of-type {\n",
       "        vertical-align: middle;\n",
       "    }\n",
       "\n",
       "    .dataframe tbody tr th {\n",
       "        vertical-align: top;\n",
       "    }\n",
       "\n",
       "    .dataframe thead th {\n",
       "        text-align: right;\n",
       "    }\n",
       "</style>\n",
       "<table border=\"1\" class=\"dataframe\">\n",
       "  <thead>\n",
       "    <tr style=\"text-align: right;\">\n",
       "      <th></th>\n",
       "      <th>Cuil</th>\n",
       "      <th>Dni</th>\n",
       "      <th>Cant. Sit 1 Titular</th>\n",
       "      <th>Cant. Sit 2 Titular</th>\n",
       "      <th>Cant. Sit 3 Titular</th>\n",
       "      <th>Cant. Sit 4 Titular</th>\n",
       "      <th>Cant. Sit 5 Titular</th>\n",
       "      <th>Entidad 1 Titular</th>\n",
       "      <th>Deuda 1 Titular</th>\n",
       "      <th>Entidad 2 Titular</th>\n",
       "      <th>Deuda 2 Titular</th>\n",
       "      <th>Entidad 3 Titular</th>\n",
       "      <th>Deuda 3 Titular</th>\n",
       "      <th>Entidad 4 Titular</th>\n",
       "      <th>Deuda 4 Titular</th>\n",
       "    </tr>\n",
       "  </thead>\n",
       "  <tbody>\n",
       "    <tr>\n",
       "      <th>0</th>\n",
       "      <td>2.004401e+10</td>\n",
       "      <td>4400871.0</td>\n",
       "      <td>4</td>\n",
       "      <td>0</td>\n",
       "      <td>0</td>\n",
       "      <td>1</td>\n",
       "      <td>0</td>\n",
       "      <td>BANCO DE GALICIA Y BUENOS AIRES S.A.U.</td>\n",
       "      <td>41.0</td>\n",
       "      <td>BANCO BBVA ARGENTINA S.A.</td>\n",
       "      <td>40.0</td>\n",
       "      <td>CENCOSUD S.A.</td>\n",
       "      <td>37.0</td>\n",
       "      <td>BANCO PIANO S.A.</td>\n",
       "      <td>19.0</td>\n",
       "    </tr>\n",
       "    <tr>\n",
       "      <th>12</th>\n",
       "      <td>2.017225e+10</td>\n",
       "      <td>17225054.0</td>\n",
       "      <td>4</td>\n",
       "      <td>0</td>\n",
       "      <td>0</td>\n",
       "      <td>1</td>\n",
       "      <td>0</td>\n",
       "      <td>BANCO DE GALICIA Y BUENOS AIRES S.A.U.</td>\n",
       "      <td>587.0</td>\n",
       "      <td>BANCO SUPERVIELLE S.A.</td>\n",
       "      <td>66.0</td>\n",
       "      <td>BANCO BBVA ARGENTINA S.A.</td>\n",
       "      <td>36.0</td>\n",
       "      <td>BANCO ITAU ARGENTINA S.A.</td>\n",
       "      <td>3.0</td>\n",
       "    </tr>\n",
       "    <tr>\n",
       "      <th>66</th>\n",
       "      <td>2.732589e+10</td>\n",
       "      <td>32589176.0</td>\n",
       "      <td>0</td>\n",
       "      <td>0</td>\n",
       "      <td>0</td>\n",
       "      <td>2</td>\n",
       "      <td>4</td>\n",
       "      <td>CENCOSUD S.A.</td>\n",
       "      <td>74.0</td>\n",
       "      <td>TARJETA TITANIO S.A.</td>\n",
       "      <td>38.0</td>\n",
       "      <td>BANCO BBVA ARGENTINA S.A.</td>\n",
       "      <td>13.0</td>\n",
       "      <td>VALLE FERTIL S.A.</td>\n",
       "      <td>11.0</td>\n",
       "    </tr>\n",
       "  </tbody>\n",
       "</table>\n",
       "</div>"
      ],
      "text/plain": [
       "            Cuil         Dni  Cant. Sit 1 Titular  Cant. Sit 2 Titular  \\\n",
       "0   2.004401e+10   4400871.0                    4                    0   \n",
       "12  2.017225e+10  17225054.0                    4                    0   \n",
       "66  2.732589e+10  32589176.0                    0                    0   \n",
       "\n",
       "    Cant. Sit 3 Titular  Cant. Sit 4 Titular  Cant. Sit 5 Titular  \\\n",
       "0                     0                    1                    0   \n",
       "12                    0                    1                    0   \n",
       "66                    0                    2                    4   \n",
       "\n",
       "                         Entidad 1 Titular  Deuda 1 Titular  \\\n",
       "0   BANCO DE GALICIA Y BUENOS AIRES S.A.U.             41.0   \n",
       "12  BANCO DE GALICIA Y BUENOS AIRES S.A.U.            587.0   \n",
       "66                           CENCOSUD S.A.             74.0   \n",
       "\n",
       "            Entidad 2 Titular  Deuda 2 Titular          Entidad 3 Titular  \\\n",
       "0   BANCO BBVA ARGENTINA S.A.             40.0              CENCOSUD S.A.   \n",
       "12     BANCO SUPERVIELLE S.A.             66.0  BANCO BBVA ARGENTINA S.A.   \n",
       "66       TARJETA TITANIO S.A.             38.0  BANCO BBVA ARGENTINA S.A.   \n",
       "\n",
       "    Deuda 3 Titular          Entidad 4 Titular  Deuda 4 Titular  \n",
       "0              37.0           BANCO PIANO S.A.             19.0  \n",
       "12             36.0  BANCO ITAU ARGENTINA S.A.              3.0  \n",
       "66             13.0          VALLE FERTIL S.A.             11.0  "
      ]
     },
     "execution_count": 17,
     "metadata": {},
     "output_type": "execute_result"
    }
   ],
   "source": [
    "df_reduced [(df_reduced['Cant. Sit 1 Titular'] + \n",
    "           df_reduced['Cant. Sit 2 Titular'] +\n",
    "           df_reduced['Cant. Sit 3 Titular'] +\n",
    "           df_reduced['Cant. Sit 4 Titular'] +\n",
    "           df_reduced['Cant. Sit 5 Titular'])  >4]"
   ]
  },
  {
   "cell_type": "markdown",
   "metadata": {},
   "source": [
    "Como son 100 casos, y tenemos las situaciones, lo que se hace es agregar manualmente las columnas de entidades para que el loop pueda correr. Luego, las celdas que no tengan data serán dropeadas."
   ]
  },
  {
   "cell_type": "markdown",
   "metadata": {},
   "source": [
    "Agregamos las columnas hasta completar \"Entidad 20\" que es el máximo posible"
   ]
  },
  {
   "cell_type": "code",
   "execution_count": 18,
   "metadata": {},
   "outputs": [
    {
     "data": {
      "text/plain": [
       "(165, 15)"
      ]
     },
     "execution_count": 18,
     "metadata": {},
     "output_type": "execute_result"
    }
   ],
   "source": [
    "df_reduced.shape"
   ]
  },
  {
   "cell_type": "code",
   "execution_count": 19,
   "metadata": {},
   "outputs": [
    {
     "name": "stderr",
     "output_type": "stream",
     "text": [
      "<ipython-input-19-1c168ec0f20f>:1: SettingWithCopyWarning: \n",
      "A value is trying to be set on a copy of a slice from a DataFrame.\n",
      "Try using .loc[row_indexer,col_indexer] = value instead\n",
      "\n",
      "See the caveats in the documentation: https://pandas.pydata.org/pandas-docs/stable/user_guide/indexing.html#returning-a-view-versus-a-copy\n",
      "  df_reduced ['Entidad 5 Titular'] = np.nan\n",
      "<ipython-input-19-1c168ec0f20f>:2: SettingWithCopyWarning: \n",
      "A value is trying to be set on a copy of a slice from a DataFrame.\n",
      "Try using .loc[row_indexer,col_indexer] = value instead\n",
      "\n",
      "See the caveats in the documentation: https://pandas.pydata.org/pandas-docs/stable/user_guide/indexing.html#returning-a-view-versus-a-copy\n",
      "  df_reduced ['Entidad 6 Titular'] = np.nan\n",
      "<ipython-input-19-1c168ec0f20f>:3: SettingWithCopyWarning: \n",
      "A value is trying to be set on a copy of a slice from a DataFrame.\n",
      "Try using .loc[row_indexer,col_indexer] = value instead\n",
      "\n",
      "See the caveats in the documentation: https://pandas.pydata.org/pandas-docs/stable/user_guide/indexing.html#returning-a-view-versus-a-copy\n",
      "  df_reduced ['Entidad 7 Titular'] = np.nan\n",
      "<ipython-input-19-1c168ec0f20f>:4: SettingWithCopyWarning: \n",
      "A value is trying to be set on a copy of a slice from a DataFrame.\n",
      "Try using .loc[row_indexer,col_indexer] = value instead\n",
      "\n",
      "See the caveats in the documentation: https://pandas.pydata.org/pandas-docs/stable/user_guide/indexing.html#returning-a-view-versus-a-copy\n",
      "  df_reduced ['Entidad 8 Titular'] = np.nan\n",
      "<ipython-input-19-1c168ec0f20f>:5: SettingWithCopyWarning: \n",
      "A value is trying to be set on a copy of a slice from a DataFrame.\n",
      "Try using .loc[row_indexer,col_indexer] = value instead\n",
      "\n",
      "See the caveats in the documentation: https://pandas.pydata.org/pandas-docs/stable/user_guide/indexing.html#returning-a-view-versus-a-copy\n",
      "  df_reduced ['Entidad 9 Titular'] = np.nan\n",
      "<ipython-input-19-1c168ec0f20f>:6: SettingWithCopyWarning: \n",
      "A value is trying to be set on a copy of a slice from a DataFrame.\n",
      "Try using .loc[row_indexer,col_indexer] = value instead\n",
      "\n",
      "See the caveats in the documentation: https://pandas.pydata.org/pandas-docs/stable/user_guide/indexing.html#returning-a-view-versus-a-copy\n",
      "  df_reduced ['Entidad 10 Titular'] = np.nan\n",
      "<ipython-input-19-1c168ec0f20f>:7: SettingWithCopyWarning: \n",
      "A value is trying to be set on a copy of a slice from a DataFrame.\n",
      "Try using .loc[row_indexer,col_indexer] = value instead\n",
      "\n",
      "See the caveats in the documentation: https://pandas.pydata.org/pandas-docs/stable/user_guide/indexing.html#returning-a-view-versus-a-copy\n",
      "  df_reduced ['Entidad 11 Titular'] = np.nan\n",
      "<ipython-input-19-1c168ec0f20f>:8: SettingWithCopyWarning: \n",
      "A value is trying to be set on a copy of a slice from a DataFrame.\n",
      "Try using .loc[row_indexer,col_indexer] = value instead\n",
      "\n",
      "See the caveats in the documentation: https://pandas.pydata.org/pandas-docs/stable/user_guide/indexing.html#returning-a-view-versus-a-copy\n",
      "  df_reduced ['Entidad 12 Titular'] = np.nan\n",
      "<ipython-input-19-1c168ec0f20f>:9: SettingWithCopyWarning: \n",
      "A value is trying to be set on a copy of a slice from a DataFrame.\n",
      "Try using .loc[row_indexer,col_indexer] = value instead\n",
      "\n",
      "See the caveats in the documentation: https://pandas.pydata.org/pandas-docs/stable/user_guide/indexing.html#returning-a-view-versus-a-copy\n",
      "  df_reduced ['Entidad 13 Titular'] = np.nan\n",
      "<ipython-input-19-1c168ec0f20f>:10: SettingWithCopyWarning: \n",
      "A value is trying to be set on a copy of a slice from a DataFrame.\n",
      "Try using .loc[row_indexer,col_indexer] = value instead\n",
      "\n",
      "See the caveats in the documentation: https://pandas.pydata.org/pandas-docs/stable/user_guide/indexing.html#returning-a-view-versus-a-copy\n",
      "  df_reduced ['Entidad 14 Titular'] = np.nan\n",
      "<ipython-input-19-1c168ec0f20f>:11: SettingWithCopyWarning: \n",
      "A value is trying to be set on a copy of a slice from a DataFrame.\n",
      "Try using .loc[row_indexer,col_indexer] = value instead\n",
      "\n",
      "See the caveats in the documentation: https://pandas.pydata.org/pandas-docs/stable/user_guide/indexing.html#returning-a-view-versus-a-copy\n",
      "  df_reduced ['Entidad 15 Titular'] = np.nan\n",
      "<ipython-input-19-1c168ec0f20f>:12: SettingWithCopyWarning: \n",
      "A value is trying to be set on a copy of a slice from a DataFrame.\n",
      "Try using .loc[row_indexer,col_indexer] = value instead\n",
      "\n",
      "See the caveats in the documentation: https://pandas.pydata.org/pandas-docs/stable/user_guide/indexing.html#returning-a-view-versus-a-copy\n",
      "  df_reduced ['Entidad 16 Titular'] = np.nan\n",
      "<ipython-input-19-1c168ec0f20f>:13: SettingWithCopyWarning: \n",
      "A value is trying to be set on a copy of a slice from a DataFrame.\n",
      "Try using .loc[row_indexer,col_indexer] = value instead\n",
      "\n",
      "See the caveats in the documentation: https://pandas.pydata.org/pandas-docs/stable/user_guide/indexing.html#returning-a-view-versus-a-copy\n",
      "  df_reduced ['Entidad 17 Titular'] = np.nan\n",
      "<ipython-input-19-1c168ec0f20f>:14: SettingWithCopyWarning: \n",
      "A value is trying to be set on a copy of a slice from a DataFrame.\n",
      "Try using .loc[row_indexer,col_indexer] = value instead\n",
      "\n",
      "See the caveats in the documentation: https://pandas.pydata.org/pandas-docs/stable/user_guide/indexing.html#returning-a-view-versus-a-copy\n",
      "  df_reduced ['Entidad 18 Titular'] = np.nan\n",
      "<ipython-input-19-1c168ec0f20f>:15: SettingWithCopyWarning: \n",
      "A value is trying to be set on a copy of a slice from a DataFrame.\n",
      "Try using .loc[row_indexer,col_indexer] = value instead\n",
      "\n",
      "See the caveats in the documentation: https://pandas.pydata.org/pandas-docs/stable/user_guide/indexing.html#returning-a-view-versus-a-copy\n",
      "  df_reduced ['Entidad 19 Titular'] = np.nan\n",
      "<ipython-input-19-1c168ec0f20f>:16: SettingWithCopyWarning: \n",
      "A value is trying to be set on a copy of a slice from a DataFrame.\n",
      "Try using .loc[row_indexer,col_indexer] = value instead\n",
      "\n",
      "See the caveats in the documentation: https://pandas.pydata.org/pandas-docs/stable/user_guide/indexing.html#returning-a-view-versus-a-copy\n",
      "  df_reduced ['Entidad 20 Titular'] = np.nan\n"
     ]
    }
   ],
   "source": [
    "df_reduced ['Entidad 5 Titular'] = np.nan\n",
    "df_reduced ['Entidad 6 Titular'] = np.nan\n",
    "df_reduced ['Entidad 7 Titular'] = np.nan\n",
    "df_reduced ['Entidad 8 Titular'] = np.nan\n",
    "df_reduced ['Entidad 9 Titular'] = np.nan\n",
    "df_reduced ['Entidad 10 Titular'] = np.nan\n",
    "df_reduced ['Entidad 11 Titular'] = np.nan\n",
    "df_reduced ['Entidad 12 Titular'] = np.nan\n",
    "df_reduced ['Entidad 13 Titular'] = np.nan\n",
    "df_reduced ['Entidad 14 Titular'] = np.nan\n",
    "df_reduced ['Entidad 15 Titular'] = np.nan\n",
    "df_reduced ['Entidad 16 Titular'] = np.nan\n",
    "df_reduced ['Entidad 17 Titular'] = np.nan\n",
    "df_reduced ['Entidad 18 Titular'] = np.nan\n",
    "df_reduced ['Entidad 19 Titular'] = np.nan\n",
    "df_reduced ['Entidad 20 Titular'] = np.nan"
   ]
  },
  {
   "cell_type": "code",
   "execution_count": 20,
   "metadata": {},
   "outputs": [
    {
     "name": "stderr",
     "output_type": "stream",
     "text": [
      "<ipython-input-20-cfc2ca3cb608>:1: SettingWithCopyWarning: \n",
      "A value is trying to be set on a copy of a slice from a DataFrame.\n",
      "Try using .loc[row_indexer,col_indexer] = value instead\n",
      "\n",
      "See the caveats in the documentation: https://pandas.pydata.org/pandas-docs/stable/user_guide/indexing.html#returning-a-view-versus-a-copy\n",
      "  df_reduced ['Deuda 5 Titular'] = np.nan\n",
      "<ipython-input-20-cfc2ca3cb608>:2: SettingWithCopyWarning: \n",
      "A value is trying to be set on a copy of a slice from a DataFrame.\n",
      "Try using .loc[row_indexer,col_indexer] = value instead\n",
      "\n",
      "See the caveats in the documentation: https://pandas.pydata.org/pandas-docs/stable/user_guide/indexing.html#returning-a-view-versus-a-copy\n",
      "  df_reduced ['Deuda 6 Titular'] = np.nan\n",
      "<ipython-input-20-cfc2ca3cb608>:3: SettingWithCopyWarning: \n",
      "A value is trying to be set on a copy of a slice from a DataFrame.\n",
      "Try using .loc[row_indexer,col_indexer] = value instead\n",
      "\n",
      "See the caveats in the documentation: https://pandas.pydata.org/pandas-docs/stable/user_guide/indexing.html#returning-a-view-versus-a-copy\n",
      "  df_reduced ['Deuda 7 Titular'] = np.nan\n",
      "<ipython-input-20-cfc2ca3cb608>:4: SettingWithCopyWarning: \n",
      "A value is trying to be set on a copy of a slice from a DataFrame.\n",
      "Try using .loc[row_indexer,col_indexer] = value instead\n",
      "\n",
      "See the caveats in the documentation: https://pandas.pydata.org/pandas-docs/stable/user_guide/indexing.html#returning-a-view-versus-a-copy\n",
      "  df_reduced ['Deuda 8 Titular'] = np.nan\n",
      "<ipython-input-20-cfc2ca3cb608>:5: SettingWithCopyWarning: \n",
      "A value is trying to be set on a copy of a slice from a DataFrame.\n",
      "Try using .loc[row_indexer,col_indexer] = value instead\n",
      "\n",
      "See the caveats in the documentation: https://pandas.pydata.org/pandas-docs/stable/user_guide/indexing.html#returning-a-view-versus-a-copy\n",
      "  df_reduced ['Deuda 9 Titular'] = np.nan\n",
      "<ipython-input-20-cfc2ca3cb608>:6: SettingWithCopyWarning: \n",
      "A value is trying to be set on a copy of a slice from a DataFrame.\n",
      "Try using .loc[row_indexer,col_indexer] = value instead\n",
      "\n",
      "See the caveats in the documentation: https://pandas.pydata.org/pandas-docs/stable/user_guide/indexing.html#returning-a-view-versus-a-copy\n",
      "  df_reduced ['Deuda 10 Titular'] = np.nan\n",
      "<ipython-input-20-cfc2ca3cb608>:7: SettingWithCopyWarning: \n",
      "A value is trying to be set on a copy of a slice from a DataFrame.\n",
      "Try using .loc[row_indexer,col_indexer] = value instead\n",
      "\n",
      "See the caveats in the documentation: https://pandas.pydata.org/pandas-docs/stable/user_guide/indexing.html#returning-a-view-versus-a-copy\n",
      "  df_reduced ['Deuda 11 Titular'] = np.nan\n",
      "<ipython-input-20-cfc2ca3cb608>:8: SettingWithCopyWarning: \n",
      "A value is trying to be set on a copy of a slice from a DataFrame.\n",
      "Try using .loc[row_indexer,col_indexer] = value instead\n",
      "\n",
      "See the caveats in the documentation: https://pandas.pydata.org/pandas-docs/stable/user_guide/indexing.html#returning-a-view-versus-a-copy\n",
      "  df_reduced ['Deuda 12 Titular'] = np.nan\n",
      "<ipython-input-20-cfc2ca3cb608>:9: SettingWithCopyWarning: \n",
      "A value is trying to be set on a copy of a slice from a DataFrame.\n",
      "Try using .loc[row_indexer,col_indexer] = value instead\n",
      "\n",
      "See the caveats in the documentation: https://pandas.pydata.org/pandas-docs/stable/user_guide/indexing.html#returning-a-view-versus-a-copy\n",
      "  df_reduced ['Deuda 13 Titular'] = np.nan\n",
      "<ipython-input-20-cfc2ca3cb608>:10: SettingWithCopyWarning: \n",
      "A value is trying to be set on a copy of a slice from a DataFrame.\n",
      "Try using .loc[row_indexer,col_indexer] = value instead\n",
      "\n",
      "See the caveats in the documentation: https://pandas.pydata.org/pandas-docs/stable/user_guide/indexing.html#returning-a-view-versus-a-copy\n",
      "  df_reduced ['Deuda 14 Titular'] = np.nan\n",
      "<ipython-input-20-cfc2ca3cb608>:11: SettingWithCopyWarning: \n",
      "A value is trying to be set on a copy of a slice from a DataFrame.\n",
      "Try using .loc[row_indexer,col_indexer] = value instead\n",
      "\n",
      "See the caveats in the documentation: https://pandas.pydata.org/pandas-docs/stable/user_guide/indexing.html#returning-a-view-versus-a-copy\n",
      "  df_reduced ['Deuda 15 Titular'] = np.nan\n",
      "<ipython-input-20-cfc2ca3cb608>:12: SettingWithCopyWarning: \n",
      "A value is trying to be set on a copy of a slice from a DataFrame.\n",
      "Try using .loc[row_indexer,col_indexer] = value instead\n",
      "\n",
      "See the caveats in the documentation: https://pandas.pydata.org/pandas-docs/stable/user_guide/indexing.html#returning-a-view-versus-a-copy\n",
      "  df_reduced ['Deuda 16 Titular'] = np.nan\n",
      "<ipython-input-20-cfc2ca3cb608>:13: SettingWithCopyWarning: \n",
      "A value is trying to be set on a copy of a slice from a DataFrame.\n",
      "Try using .loc[row_indexer,col_indexer] = value instead\n",
      "\n",
      "See the caveats in the documentation: https://pandas.pydata.org/pandas-docs/stable/user_guide/indexing.html#returning-a-view-versus-a-copy\n",
      "  df_reduced ['Deuda 17 Titular'] = np.nan\n",
      "<ipython-input-20-cfc2ca3cb608>:14: SettingWithCopyWarning: \n",
      "A value is trying to be set on a copy of a slice from a DataFrame.\n",
      "Try using .loc[row_indexer,col_indexer] = value instead\n",
      "\n",
      "See the caveats in the documentation: https://pandas.pydata.org/pandas-docs/stable/user_guide/indexing.html#returning-a-view-versus-a-copy\n",
      "  df_reduced ['Deuda 18 Titular'] = np.nan\n",
      "<ipython-input-20-cfc2ca3cb608>:15: SettingWithCopyWarning: \n",
      "A value is trying to be set on a copy of a slice from a DataFrame.\n",
      "Try using .loc[row_indexer,col_indexer] = value instead\n",
      "\n",
      "See the caveats in the documentation: https://pandas.pydata.org/pandas-docs/stable/user_guide/indexing.html#returning-a-view-versus-a-copy\n",
      "  df_reduced ['Deuda 19 Titular'] = np.nan\n",
      "<ipython-input-20-cfc2ca3cb608>:16: SettingWithCopyWarning: \n",
      "A value is trying to be set on a copy of a slice from a DataFrame.\n",
      "Try using .loc[row_indexer,col_indexer] = value instead\n",
      "\n",
      "See the caveats in the documentation: https://pandas.pydata.org/pandas-docs/stable/user_guide/indexing.html#returning-a-view-versus-a-copy\n",
      "  df_reduced ['Deuda 20 Titular'] = np.nan\n"
     ]
    }
   ],
   "source": [
    "df_reduced ['Deuda 5 Titular'] = np.nan\n",
    "df_reduced ['Deuda 6 Titular'] = np.nan\n",
    "df_reduced ['Deuda 7 Titular'] = np.nan\n",
    "df_reduced ['Deuda 8 Titular'] = np.nan\n",
    "df_reduced ['Deuda 9 Titular'] = np.nan\n",
    "df_reduced ['Deuda 10 Titular'] = np.nan\n",
    "df_reduced ['Deuda 11 Titular'] = np.nan\n",
    "df_reduced ['Deuda 12 Titular'] = np.nan\n",
    "df_reduced ['Deuda 13 Titular'] = np.nan\n",
    "df_reduced ['Deuda 14 Titular'] = np.nan\n",
    "df_reduced ['Deuda 15 Titular'] = np.nan\n",
    "df_reduced ['Deuda 16 Titular'] = np.nan\n",
    "df_reduced ['Deuda 17 Titular'] = np.nan\n",
    "df_reduced ['Deuda 18 Titular'] = np.nan\n",
    "df_reduced ['Deuda 19 Titular'] = np.nan\n",
    "df_reduced ['Deuda 20 Titular'] = np.nan"
   ]
  },
  {
   "cell_type": "code",
   "execution_count": 21,
   "metadata": {},
   "outputs": [
    {
     "data": {
      "text/plain": [
       "(165, 47)"
      ]
     },
     "execution_count": 21,
     "metadata": {},
     "output_type": "execute_result"
    }
   ],
   "source": [
    "df_reduced.shape"
   ]
  },
  {
   "cell_type": "code",
   "execution_count": 22,
   "metadata": {},
   "outputs": [
    {
     "data": {
      "text/html": [
       "<div>\n",
       "<style scoped>\n",
       "    .dataframe tbody tr th:only-of-type {\n",
       "        vertical-align: middle;\n",
       "    }\n",
       "\n",
       "    .dataframe tbody tr th {\n",
       "        vertical-align: top;\n",
       "    }\n",
       "\n",
       "    .dataframe thead th {\n",
       "        text-align: right;\n",
       "    }\n",
       "</style>\n",
       "<table border=\"1\" class=\"dataframe\">\n",
       "  <thead>\n",
       "    <tr style=\"text-align: right;\">\n",
       "      <th></th>\n",
       "      <th>Cuil</th>\n",
       "      <th>Dni</th>\n",
       "      <th>Cant. Sit 1 Titular</th>\n",
       "      <th>Cant. Sit 2 Titular</th>\n",
       "      <th>Cant. Sit 3 Titular</th>\n",
       "      <th>Cant. Sit 4 Titular</th>\n",
       "      <th>Cant. Sit 5 Titular</th>\n",
       "      <th>Entidad 1 Titular</th>\n",
       "      <th>Deuda 1 Titular</th>\n",
       "      <th>Entidad 2 Titular</th>\n",
       "      <th>...</th>\n",
       "      <th>Deuda 11 Titular</th>\n",
       "      <th>Deuda 12 Titular</th>\n",
       "      <th>Deuda 13 Titular</th>\n",
       "      <th>Deuda 14 Titular</th>\n",
       "      <th>Deuda 15 Titular</th>\n",
       "      <th>Deuda 16 Titular</th>\n",
       "      <th>Deuda 17 Titular</th>\n",
       "      <th>Deuda 18 Titular</th>\n",
       "      <th>Deuda 19 Titular</th>\n",
       "      <th>Deuda 20 Titular</th>\n",
       "    </tr>\n",
       "  </thead>\n",
       "  <tbody>\n",
       "    <tr>\n",
       "      <th>0</th>\n",
       "      <td>2.004401e+10</td>\n",
       "      <td>4400871.0</td>\n",
       "      <td>4</td>\n",
       "      <td>0</td>\n",
       "      <td>0</td>\n",
       "      <td>1</td>\n",
       "      <td>0</td>\n",
       "      <td>BANCO DE GALICIA Y BUENOS AIRES S.A.U.</td>\n",
       "      <td>41.0</td>\n",
       "      <td>BANCO BBVA ARGENTINA S.A.</td>\n",
       "      <td>...</td>\n",
       "      <td>NaN</td>\n",
       "      <td>NaN</td>\n",
       "      <td>NaN</td>\n",
       "      <td>NaN</td>\n",
       "      <td>NaN</td>\n",
       "      <td>NaN</td>\n",
       "      <td>NaN</td>\n",
       "      <td>NaN</td>\n",
       "      <td>NaN</td>\n",
       "      <td>NaN</td>\n",
       "    </tr>\n",
       "    <tr>\n",
       "      <th>1</th>\n",
       "      <td>2.406331e+10</td>\n",
       "      <td>6331345.0</td>\n",
       "      <td>0</td>\n",
       "      <td>0</td>\n",
       "      <td>1</td>\n",
       "      <td>0</td>\n",
       "      <td>0</td>\n",
       "      <td>BANCO BBVA ARGENTINA S.A.</td>\n",
       "      <td>36.0</td>\n",
       "      <td>NaN</td>\n",
       "      <td>...</td>\n",
       "      <td>NaN</td>\n",
       "      <td>NaN</td>\n",
       "      <td>NaN</td>\n",
       "      <td>NaN</td>\n",
       "      <td>NaN</td>\n",
       "      <td>NaN</td>\n",
       "      <td>NaN</td>\n",
       "      <td>NaN</td>\n",
       "      <td>NaN</td>\n",
       "      <td>NaN</td>\n",
       "    </tr>\n",
       "    <tr>\n",
       "      <th>2</th>\n",
       "      <td>2.010088e+10</td>\n",
       "      <td>10087665.0</td>\n",
       "      <td>2</td>\n",
       "      <td>0</td>\n",
       "      <td>0</td>\n",
       "      <td>0</td>\n",
       "      <td>1</td>\n",
       "      <td>BANCO PIANO S.A.</td>\n",
       "      <td>127.0</td>\n",
       "      <td>BANCO SUPERVIELLE S.A.</td>\n",
       "      <td>...</td>\n",
       "      <td>NaN</td>\n",
       "      <td>NaN</td>\n",
       "      <td>NaN</td>\n",
       "      <td>NaN</td>\n",
       "      <td>NaN</td>\n",
       "      <td>NaN</td>\n",
       "      <td>NaN</td>\n",
       "      <td>NaN</td>\n",
       "      <td>NaN</td>\n",
       "      <td>NaN</td>\n",
       "    </tr>\n",
       "    <tr>\n",
       "      <th>3</th>\n",
       "      <td>2.010194e+10</td>\n",
       "      <td>10194155.0</td>\n",
       "      <td>0</td>\n",
       "      <td>0</td>\n",
       "      <td>0</td>\n",
       "      <td>0</td>\n",
       "      <td>2</td>\n",
       "      <td>BANCO BBVA ARGENTINA S.A.</td>\n",
       "      <td>0.0</td>\n",
       "      <td>BANCO SANTANDER RIO S.A.</td>\n",
       "      <td>...</td>\n",
       "      <td>NaN</td>\n",
       "      <td>NaN</td>\n",
       "      <td>NaN</td>\n",
       "      <td>NaN</td>\n",
       "      <td>NaN</td>\n",
       "      <td>NaN</td>\n",
       "      <td>NaN</td>\n",
       "      <td>NaN</td>\n",
       "      <td>NaN</td>\n",
       "      <td>NaN</td>\n",
       "    </tr>\n",
       "    <tr>\n",
       "      <th>4</th>\n",
       "      <td>2.010377e+10</td>\n",
       "      <td>10376898.0</td>\n",
       "      <td>0</td>\n",
       "      <td>0</td>\n",
       "      <td>1</td>\n",
       "      <td>0</td>\n",
       "      <td>0</td>\n",
       "      <td>BANCO BBVA ARGENTINA S.A.</td>\n",
       "      <td>40.0</td>\n",
       "      <td>NaN</td>\n",
       "      <td>...</td>\n",
       "      <td>NaN</td>\n",
       "      <td>NaN</td>\n",
       "      <td>NaN</td>\n",
       "      <td>NaN</td>\n",
       "      <td>NaN</td>\n",
       "      <td>NaN</td>\n",
       "      <td>NaN</td>\n",
       "      <td>NaN</td>\n",
       "      <td>NaN</td>\n",
       "      <td>NaN</td>\n",
       "    </tr>\n",
       "  </tbody>\n",
       "</table>\n",
       "<p>5 rows × 47 columns</p>\n",
       "</div>"
      ],
      "text/plain": [
       "           Cuil         Dni  Cant. Sit 1 Titular  Cant. Sit 2 Titular  \\\n",
       "0  2.004401e+10   4400871.0                    4                    0   \n",
       "1  2.406331e+10   6331345.0                    0                    0   \n",
       "2  2.010088e+10  10087665.0                    2                    0   \n",
       "3  2.010194e+10  10194155.0                    0                    0   \n",
       "4  2.010377e+10  10376898.0                    0                    0   \n",
       "\n",
       "   Cant. Sit 3 Titular  Cant. Sit 4 Titular  Cant. Sit 5 Titular  \\\n",
       "0                    0                    1                    0   \n",
       "1                    1                    0                    0   \n",
       "2                    0                    0                    1   \n",
       "3                    0                    0                    2   \n",
       "4                    1                    0                    0   \n",
       "\n",
       "                        Entidad 1 Titular  Deuda 1 Titular  \\\n",
       "0  BANCO DE GALICIA Y BUENOS AIRES S.A.U.             41.0   \n",
       "1               BANCO BBVA ARGENTINA S.A.             36.0   \n",
       "2                        BANCO PIANO S.A.            127.0   \n",
       "3               BANCO BBVA ARGENTINA S.A.              0.0   \n",
       "4               BANCO BBVA ARGENTINA S.A.             40.0   \n",
       "\n",
       "           Entidad 2 Titular  ...  Deuda 11 Titular Deuda 12 Titular  \\\n",
       "0  BANCO BBVA ARGENTINA S.A.  ...               NaN              NaN   \n",
       "1                        NaN  ...               NaN              NaN   \n",
       "2     BANCO SUPERVIELLE S.A.  ...               NaN              NaN   \n",
       "3   BANCO SANTANDER RIO S.A.  ...               NaN              NaN   \n",
       "4                        NaN  ...               NaN              NaN   \n",
       "\n",
       "   Deuda 13 Titular Deuda 14 Titular  Deuda 15 Titular  Deuda 16 Titular  \\\n",
       "0               NaN              NaN               NaN               NaN   \n",
       "1               NaN              NaN               NaN               NaN   \n",
       "2               NaN              NaN               NaN               NaN   \n",
       "3               NaN              NaN               NaN               NaN   \n",
       "4               NaN              NaN               NaN               NaN   \n",
       "\n",
       "   Deuda 17 Titular  Deuda 18 Titular  Deuda 19 Titular  Deuda 20 Titular  \n",
       "0               NaN               NaN               NaN               NaN  \n",
       "1               NaN               NaN               NaN               NaN  \n",
       "2               NaN               NaN               NaN               NaN  \n",
       "3               NaN               NaN               NaN               NaN  \n",
       "4               NaN               NaN               NaN               NaN  \n",
       "\n",
       "[5 rows x 47 columns]"
      ]
     },
     "execution_count": 22,
     "metadata": {},
     "output_type": "execute_result"
    }
   ],
   "source": [
    "df_reduced.head()"
   ]
  },
  {
   "cell_type": "markdown",
   "metadata": {},
   "source": [
    "# 4) Dataframe: Entidades + Cantidad"
   ]
  },
  {
   "cell_type": "markdown",
   "metadata": {},
   "source": [
    "Definimos las listas de columnas de interés"
   ]
  },
  {
   "cell_type": "code",
   "execution_count": 23,
   "metadata": {},
   "outputs": [],
   "source": [
    "cantidad_situacion_columns = ['Cant. Sit 1 Titular', 'Cant. Sit 2 Titular',\n",
    "                              'Cant. Sit 3 Titular', 'Cant. Sit 4 Titular',\n",
    "                              'Cant. Sit 5 Titular']\n",
    "entidades_columns = ['Entidad 1 Titular', 'Entidad 2 Titular', 'Entidad 3 Titular', 'Entidad 4 Titular'\n",
    "                    ,'Entidad 5 Titular','Entidad 6 Titular','Entidad 7 Titular','Entidad 8 Titular'\n",
    "                    ,'Entidad 9 Titular','Entidad 10 Titular','Entidad 11 Titular','Entidad 12 Titular'\n",
    "                    ,'Entidad 13 Titular','Entidad 14 Titular','Entidad 15 Titular','Entidad 16 Titular'\n",
    "                    ,'Entidad 17 Titular','Entidad 18 Titular','Entidad 19 Titular','Entidad 20 Titular']\n",
    "deudas_columns = ['Deuda 1 Titular','Deuda 2 Titular','Deuda 3 Titular','Deuda 4 Titular'\n",
    "                 ,'Deuda 5 Titular','Deuda 6 Titular','Deuda 7 Titular','Deuda 8 Titular'\n",
    "                 ,'Deuda 9 Titular','Deuda 10 Titular','Deuda 11 Titular','Deuda 12 Titular'\n",
    "                 ,'Deuda 13 Titular','Deuda 14 Titular','Deuda 15 Titular','Deuda 16 Titular'\n",
    "                 ,'Deuda 17 Titular','Deuda 18 Titular','Deuda 19 Titular','Deuda 20 Titular']"
   ]
  },
  {
   "cell_type": "markdown",
   "metadata": {},
   "source": [
    "Aplicamos las funciones correspondientes"
   ]
  },
  {
   "cell_type": "code",
   "execution_count": 24,
   "metadata": {
    "scrolled": true
   },
   "outputs": [
    {
     "name": "stderr",
     "output_type": "stream",
     "text": [
      "<ipython-input-24-1fb5b9dcaf4f>:1: SettingWithCopyWarning: \n",
      "A value is trying to be set on a copy of a slice from a DataFrame.\n",
      "Try using .loc[row_indexer,col_indexer] = value instead\n",
      "\n",
      "See the caveats in the documentation: https://pandas.pydata.org/pandas-docs/stable/user_guide/indexing.html#returning-a-view-versus-a-copy\n",
      "  df_reduced[\"Situacion\"] = df_reduced.apply(\n"
     ]
    }
   ],
   "source": [
    "df_reduced[\"Situacion\"] = df_reduced.apply(\n",
    "    lambda row: sum([[cantidad_situacion_columns[n]\n",
    "                      for _ in range(row[cantidad_situacion_columns[n]])]\n",
    "                     for n in range(len(cantidad_situacion_columns))], []), axis=1)"
   ]
  },
  {
   "cell_type": "code",
   "execution_count": 25,
   "metadata": {
    "scrolled": true
   },
   "outputs": [],
   "source": [
    "ent_sit = df_reduced.apply(\n",
    "    lambda row: [(row[entidades_columns[idx]], row[\"Situacion\"][idx])\n",
    "                     for idx in range(len(row[\"Situacion\"]))], axis=1)"
   ]
  },
  {
   "cell_type": "code",
   "execution_count": 26,
   "metadata": {},
   "outputs": [],
   "source": [
    "deuda_sit = df_reduced.apply(\n",
    "    lambda row: [(row[deudas_columns[idx]], row[\"Situacion\"][idx])\n",
    "                     for idx in range(len(row[\"Situacion\"]))], axis=1)"
   ]
  },
  {
   "cell_type": "markdown",
   "metadata": {},
   "source": [
    "Definimos los nuevos dataframes"
   ]
  },
  {
   "cell_type": "code",
   "execution_count": 27,
   "metadata": {},
   "outputs": [],
   "source": [
    "ent_sit = ent_sit.explode()\n",
    "ent_sit = ent_sit.to_frame().apply(lambda x: pd.Series(x[0], index=['Entidad', 'Situacion']), axis=1, result_type='expand')\n",
    "\n",
    "deuda_sit = deuda_sit.explode()\n",
    "deuda_sit = deuda_sit.to_frame().apply(lambda x: pd.Series(x[0], index=['Deuda', 'Situacion']), axis=1, result_type='expand')"
   ]
  },
  {
   "cell_type": "markdown",
   "metadata": {},
   "source": [
    "Reseteamos los indices"
   ]
  },
  {
   "cell_type": "code",
   "execution_count": 28,
   "metadata": {},
   "outputs": [],
   "source": [
    "deuda_sit_reset = deuda_sit.reset_index()"
   ]
  },
  {
   "cell_type": "code",
   "execution_count": 29,
   "metadata": {},
   "outputs": [],
   "source": [
    "ent_sit_reset = ent_sit.reset_index()"
   ]
  },
  {
   "cell_type": "markdown",
   "metadata": {},
   "source": [
    "### Join"
   ]
  },
  {
   "cell_type": "markdown",
   "metadata": {},
   "source": [
    "Unimos por index"
   ]
  },
  {
   "cell_type": "code",
   "execution_count": 30,
   "metadata": {},
   "outputs": [],
   "source": [
    "df_join = ent_sit_reset.join(deuda_sit_reset,lsuffix='_left',rsuffix = '_right')"
   ]
  },
  {
   "cell_type": "code",
   "execution_count": 31,
   "metadata": {},
   "outputs": [
    {
     "data": {
      "text/html": [
       "<div>\n",
       "<style scoped>\n",
       "    .dataframe tbody tr th:only-of-type {\n",
       "        vertical-align: middle;\n",
       "    }\n",
       "\n",
       "    .dataframe tbody tr th {\n",
       "        vertical-align: top;\n",
       "    }\n",
       "\n",
       "    .dataframe thead th {\n",
       "        text-align: right;\n",
       "    }\n",
       "</style>\n",
       "<table border=\"1\" class=\"dataframe\">\n",
       "  <thead>\n",
       "    <tr style=\"text-align: right;\">\n",
       "      <th></th>\n",
       "      <th>index_left</th>\n",
       "      <th>Entidad</th>\n",
       "      <th>Situacion_left</th>\n",
       "      <th>index_right</th>\n",
       "      <th>Deuda</th>\n",
       "      <th>Situacion_right</th>\n",
       "    </tr>\n",
       "  </thead>\n",
       "  <tbody>\n",
       "    <tr>\n",
       "      <th>0</th>\n",
       "      <td>0</td>\n",
       "      <td>BANCO DE GALICIA Y BUENOS AIRES S.A.U.</td>\n",
       "      <td>Cant. Sit 1 Titular</td>\n",
       "      <td>0</td>\n",
       "      <td>41.0</td>\n",
       "      <td>Cant. Sit 1 Titular</td>\n",
       "    </tr>\n",
       "    <tr>\n",
       "      <th>1</th>\n",
       "      <td>0</td>\n",
       "      <td>BANCO BBVA ARGENTINA S.A.</td>\n",
       "      <td>Cant. Sit 1 Titular</td>\n",
       "      <td>0</td>\n",
       "      <td>40.0</td>\n",
       "      <td>Cant. Sit 1 Titular</td>\n",
       "    </tr>\n",
       "    <tr>\n",
       "      <th>2</th>\n",
       "      <td>0</td>\n",
       "      <td>CENCOSUD S.A.</td>\n",
       "      <td>Cant. Sit 1 Titular</td>\n",
       "      <td>0</td>\n",
       "      <td>37.0</td>\n",
       "      <td>Cant. Sit 1 Titular</td>\n",
       "    </tr>\n",
       "    <tr>\n",
       "      <th>3</th>\n",
       "      <td>0</td>\n",
       "      <td>BANCO PIANO S.A.</td>\n",
       "      <td>Cant. Sit 1 Titular</td>\n",
       "      <td>0</td>\n",
       "      <td>19.0</td>\n",
       "      <td>Cant. Sit 1 Titular</td>\n",
       "    </tr>\n",
       "    <tr>\n",
       "      <th>4</th>\n",
       "      <td>0</td>\n",
       "      <td>NaN</td>\n",
       "      <td>Cant. Sit 4 Titular</td>\n",
       "      <td>0</td>\n",
       "      <td>NaN</td>\n",
       "      <td>Cant. Sit 4 Titular</td>\n",
       "    </tr>\n",
       "    <tr>\n",
       "      <th>5</th>\n",
       "      <td>1</td>\n",
       "      <td>BANCO BBVA ARGENTINA S.A.</td>\n",
       "      <td>Cant. Sit 3 Titular</td>\n",
       "      <td>1</td>\n",
       "      <td>36.0</td>\n",
       "      <td>Cant. Sit 3 Titular</td>\n",
       "    </tr>\n",
       "    <tr>\n",
       "      <th>6</th>\n",
       "      <td>2</td>\n",
       "      <td>BANCO PIANO S.A.</td>\n",
       "      <td>Cant. Sit 1 Titular</td>\n",
       "      <td>2</td>\n",
       "      <td>127.0</td>\n",
       "      <td>Cant. Sit 1 Titular</td>\n",
       "    </tr>\n",
       "    <tr>\n",
       "      <th>7</th>\n",
       "      <td>2</td>\n",
       "      <td>BANCO SUPERVIELLE S.A.</td>\n",
       "      <td>Cant. Sit 1 Titular</td>\n",
       "      <td>2</td>\n",
       "      <td>52.0</td>\n",
       "      <td>Cant. Sit 1 Titular</td>\n",
       "    </tr>\n",
       "    <tr>\n",
       "      <th>8</th>\n",
       "      <td>2</td>\n",
       "      <td>BANCO BBVA ARGENTINA S.A.</td>\n",
       "      <td>Cant. Sit 5 Titular</td>\n",
       "      <td>2</td>\n",
       "      <td>0.0</td>\n",
       "      <td>Cant. Sit 5 Titular</td>\n",
       "    </tr>\n",
       "    <tr>\n",
       "      <th>9</th>\n",
       "      <td>3</td>\n",
       "      <td>BANCO BBVA ARGENTINA S.A.</td>\n",
       "      <td>Cant. Sit 5 Titular</td>\n",
       "      <td>3</td>\n",
       "      <td>0.0</td>\n",
       "      <td>Cant. Sit 5 Titular</td>\n",
       "    </tr>\n",
       "  </tbody>\n",
       "</table>\n",
       "</div>"
      ],
      "text/plain": [
       "   index_left                                 Entidad       Situacion_left  \\\n",
       "0           0  BANCO DE GALICIA Y BUENOS AIRES S.A.U.  Cant. Sit 1 Titular   \n",
       "1           0               BANCO BBVA ARGENTINA S.A.  Cant. Sit 1 Titular   \n",
       "2           0                           CENCOSUD S.A.  Cant. Sit 1 Titular   \n",
       "3           0                        BANCO PIANO S.A.  Cant. Sit 1 Titular   \n",
       "4           0                                     NaN  Cant. Sit 4 Titular   \n",
       "5           1               BANCO BBVA ARGENTINA S.A.  Cant. Sit 3 Titular   \n",
       "6           2                        BANCO PIANO S.A.  Cant. Sit 1 Titular   \n",
       "7           2                  BANCO SUPERVIELLE S.A.  Cant. Sit 1 Titular   \n",
       "8           2               BANCO BBVA ARGENTINA S.A.  Cant. Sit 5 Titular   \n",
       "9           3               BANCO BBVA ARGENTINA S.A.  Cant. Sit 5 Titular   \n",
       "\n",
       "   index_right  Deuda      Situacion_right  \n",
       "0            0   41.0  Cant. Sit 1 Titular  \n",
       "1            0   40.0  Cant. Sit 1 Titular  \n",
       "2            0   37.0  Cant. Sit 1 Titular  \n",
       "3            0   19.0  Cant. Sit 1 Titular  \n",
       "4            0    NaN  Cant. Sit 4 Titular  \n",
       "5            1   36.0  Cant. Sit 3 Titular  \n",
       "6            2  127.0  Cant. Sit 1 Titular  \n",
       "7            2   52.0  Cant. Sit 1 Titular  \n",
       "8            2    0.0  Cant. Sit 5 Titular  \n",
       "9            3    0.0  Cant. Sit 5 Titular  "
      ]
     },
     "execution_count": 31,
     "metadata": {},
     "output_type": "execute_result"
    }
   ],
   "source": [
    "df_join.head(10)"
   ]
  },
  {
   "cell_type": "markdown",
   "metadata": {},
   "source": [
    "# Concatenación de Dataframes"
   ]
  },
  {
   "cell_type": "code",
   "execution_count": 32,
   "metadata": {},
   "outputs": [],
   "source": [
    "df_short = df_reduced[['Cuil','Dni']]"
   ]
  },
  {
   "cell_type": "code",
   "execution_count": 33,
   "metadata": {},
   "outputs": [],
   "source": [
    "df_final = df_join.join(df_short,on='index_left',lsuffix='_left',rsuffix = '_right')"
   ]
  },
  {
   "cell_type": "code",
   "execution_count": 34,
   "metadata": {},
   "outputs": [
    {
     "data": {
      "text/html": [
       "<div>\n",
       "<style scoped>\n",
       "    .dataframe tbody tr th:only-of-type {\n",
       "        vertical-align: middle;\n",
       "    }\n",
       "\n",
       "    .dataframe tbody tr th {\n",
       "        vertical-align: top;\n",
       "    }\n",
       "\n",
       "    .dataframe thead th {\n",
       "        text-align: right;\n",
       "    }\n",
       "</style>\n",
       "<table border=\"1\" class=\"dataframe\">\n",
       "  <thead>\n",
       "    <tr style=\"text-align: right;\">\n",
       "      <th></th>\n",
       "      <th>index_left</th>\n",
       "      <th>Entidad</th>\n",
       "      <th>Situacion_left</th>\n",
       "      <th>index_right</th>\n",
       "      <th>Deuda</th>\n",
       "      <th>Situacion_right</th>\n",
       "      <th>Cuil</th>\n",
       "      <th>Dni</th>\n",
       "    </tr>\n",
       "  </thead>\n",
       "  <tbody>\n",
       "    <tr>\n",
       "      <th>0</th>\n",
       "      <td>0</td>\n",
       "      <td>BANCO DE GALICIA Y BUENOS AIRES S.A.U.</td>\n",
       "      <td>Cant. Sit 1 Titular</td>\n",
       "      <td>0</td>\n",
       "      <td>41.0</td>\n",
       "      <td>Cant. Sit 1 Titular</td>\n",
       "      <td>2.004401e+10</td>\n",
       "      <td>4400871.0</td>\n",
       "    </tr>\n",
       "    <tr>\n",
       "      <th>1</th>\n",
       "      <td>0</td>\n",
       "      <td>BANCO BBVA ARGENTINA S.A.</td>\n",
       "      <td>Cant. Sit 1 Titular</td>\n",
       "      <td>0</td>\n",
       "      <td>40.0</td>\n",
       "      <td>Cant. Sit 1 Titular</td>\n",
       "      <td>2.004401e+10</td>\n",
       "      <td>4400871.0</td>\n",
       "    </tr>\n",
       "    <tr>\n",
       "      <th>2</th>\n",
       "      <td>0</td>\n",
       "      <td>CENCOSUD S.A.</td>\n",
       "      <td>Cant. Sit 1 Titular</td>\n",
       "      <td>0</td>\n",
       "      <td>37.0</td>\n",
       "      <td>Cant. Sit 1 Titular</td>\n",
       "      <td>2.004401e+10</td>\n",
       "      <td>4400871.0</td>\n",
       "    </tr>\n",
       "    <tr>\n",
       "      <th>3</th>\n",
       "      <td>0</td>\n",
       "      <td>BANCO PIANO S.A.</td>\n",
       "      <td>Cant. Sit 1 Titular</td>\n",
       "      <td>0</td>\n",
       "      <td>19.0</td>\n",
       "      <td>Cant. Sit 1 Titular</td>\n",
       "      <td>2.004401e+10</td>\n",
       "      <td>4400871.0</td>\n",
       "    </tr>\n",
       "    <tr>\n",
       "      <th>4</th>\n",
       "      <td>0</td>\n",
       "      <td>NaN</td>\n",
       "      <td>Cant. Sit 4 Titular</td>\n",
       "      <td>0</td>\n",
       "      <td>NaN</td>\n",
       "      <td>Cant. Sit 4 Titular</td>\n",
       "      <td>2.004401e+10</td>\n",
       "      <td>4400871.0</td>\n",
       "    </tr>\n",
       "    <tr>\n",
       "      <th>5</th>\n",
       "      <td>1</td>\n",
       "      <td>BANCO BBVA ARGENTINA S.A.</td>\n",
       "      <td>Cant. Sit 3 Titular</td>\n",
       "      <td>1</td>\n",
       "      <td>36.0</td>\n",
       "      <td>Cant. Sit 3 Titular</td>\n",
       "      <td>2.406331e+10</td>\n",
       "      <td>6331345.0</td>\n",
       "    </tr>\n",
       "    <tr>\n",
       "      <th>6</th>\n",
       "      <td>2</td>\n",
       "      <td>BANCO PIANO S.A.</td>\n",
       "      <td>Cant. Sit 1 Titular</td>\n",
       "      <td>2</td>\n",
       "      <td>127.0</td>\n",
       "      <td>Cant. Sit 1 Titular</td>\n",
       "      <td>2.010088e+10</td>\n",
       "      <td>10087665.0</td>\n",
       "    </tr>\n",
       "    <tr>\n",
       "      <th>7</th>\n",
       "      <td>2</td>\n",
       "      <td>BANCO SUPERVIELLE S.A.</td>\n",
       "      <td>Cant. Sit 1 Titular</td>\n",
       "      <td>2</td>\n",
       "      <td>52.0</td>\n",
       "      <td>Cant. Sit 1 Titular</td>\n",
       "      <td>2.010088e+10</td>\n",
       "      <td>10087665.0</td>\n",
       "    </tr>\n",
       "    <tr>\n",
       "      <th>8</th>\n",
       "      <td>2</td>\n",
       "      <td>BANCO BBVA ARGENTINA S.A.</td>\n",
       "      <td>Cant. Sit 5 Titular</td>\n",
       "      <td>2</td>\n",
       "      <td>0.0</td>\n",
       "      <td>Cant. Sit 5 Titular</td>\n",
       "      <td>2.010088e+10</td>\n",
       "      <td>10087665.0</td>\n",
       "    </tr>\n",
       "    <tr>\n",
       "      <th>9</th>\n",
       "      <td>3</td>\n",
       "      <td>BANCO BBVA ARGENTINA S.A.</td>\n",
       "      <td>Cant. Sit 5 Titular</td>\n",
       "      <td>3</td>\n",
       "      <td>0.0</td>\n",
       "      <td>Cant. Sit 5 Titular</td>\n",
       "      <td>2.010194e+10</td>\n",
       "      <td>10194155.0</td>\n",
       "    </tr>\n",
       "  </tbody>\n",
       "</table>\n",
       "</div>"
      ],
      "text/plain": [
       "   index_left                                 Entidad       Situacion_left  \\\n",
       "0           0  BANCO DE GALICIA Y BUENOS AIRES S.A.U.  Cant. Sit 1 Titular   \n",
       "1           0               BANCO BBVA ARGENTINA S.A.  Cant. Sit 1 Titular   \n",
       "2           0                           CENCOSUD S.A.  Cant. Sit 1 Titular   \n",
       "3           0                        BANCO PIANO S.A.  Cant. Sit 1 Titular   \n",
       "4           0                                     NaN  Cant. Sit 4 Titular   \n",
       "5           1               BANCO BBVA ARGENTINA S.A.  Cant. Sit 3 Titular   \n",
       "6           2                        BANCO PIANO S.A.  Cant. Sit 1 Titular   \n",
       "7           2                  BANCO SUPERVIELLE S.A.  Cant. Sit 1 Titular   \n",
       "8           2               BANCO BBVA ARGENTINA S.A.  Cant. Sit 5 Titular   \n",
       "9           3               BANCO BBVA ARGENTINA S.A.  Cant. Sit 5 Titular   \n",
       "\n",
       "   index_right  Deuda      Situacion_right          Cuil         Dni  \n",
       "0            0   41.0  Cant. Sit 1 Titular  2.004401e+10   4400871.0  \n",
       "1            0   40.0  Cant. Sit 1 Titular  2.004401e+10   4400871.0  \n",
       "2            0   37.0  Cant. Sit 1 Titular  2.004401e+10   4400871.0  \n",
       "3            0   19.0  Cant. Sit 1 Titular  2.004401e+10   4400871.0  \n",
       "4            0    NaN  Cant. Sit 4 Titular  2.004401e+10   4400871.0  \n",
       "5            1   36.0  Cant. Sit 3 Titular  2.406331e+10   6331345.0  \n",
       "6            2  127.0  Cant. Sit 1 Titular  2.010088e+10  10087665.0  \n",
       "7            2   52.0  Cant. Sit 1 Titular  2.010088e+10  10087665.0  \n",
       "8            2    0.0  Cant. Sit 5 Titular  2.010088e+10  10087665.0  \n",
       "9            3    0.0  Cant. Sit 5 Titular  2.010194e+10  10194155.0  "
      ]
     },
     "execution_count": 34,
     "metadata": {},
     "output_type": "execute_result"
    }
   ],
   "source": [
    "df_final.head(10)"
   ]
  },
  {
   "cell_type": "code",
   "execution_count": 35,
   "metadata": {},
   "outputs": [],
   "source": [
    "#df_final.to_excel('df_deudas_test_final.xlsx')"
   ]
  },
  {
   "cell_type": "markdown",
   "metadata": {},
   "source": [
    "# 6) Columna Proveedor"
   ]
  },
  {
   "cell_type": "markdown",
   "metadata": {},
   "source": [
    "Agregamos la columna PROVEEDOR_DATO, con el código correspondiente.\n",
    "\n",
    "PyP = P2"
   ]
  },
  {
   "cell_type": "code",
   "execution_count": 36,
   "metadata": {},
   "outputs": [],
   "source": [
    "cod_pyp = 'AD'"
   ]
  },
  {
   "cell_type": "code",
   "execution_count": 37,
   "metadata": {},
   "outputs": [],
   "source": [
    "df_final = df_final.assign(PROVEEDOR=cod_pyp)"
   ]
  },
  {
   "cell_type": "code",
   "execution_count": 38,
   "metadata": {},
   "outputs": [
    {
     "data": {
      "text/html": [
       "<div>\n",
       "<style scoped>\n",
       "    .dataframe tbody tr th:only-of-type {\n",
       "        vertical-align: middle;\n",
       "    }\n",
       "\n",
       "    .dataframe tbody tr th {\n",
       "        vertical-align: top;\n",
       "    }\n",
       "\n",
       "    .dataframe thead th {\n",
       "        text-align: right;\n",
       "    }\n",
       "</style>\n",
       "<table border=\"1\" class=\"dataframe\">\n",
       "  <thead>\n",
       "    <tr style=\"text-align: right;\">\n",
       "      <th></th>\n",
       "      <th>index_left</th>\n",
       "      <th>Entidad</th>\n",
       "      <th>Situacion_left</th>\n",
       "      <th>index_right</th>\n",
       "      <th>Deuda</th>\n",
       "      <th>Situacion_right</th>\n",
       "      <th>Cuil</th>\n",
       "      <th>Dni</th>\n",
       "      <th>PROVEEDOR</th>\n",
       "    </tr>\n",
       "  </thead>\n",
       "  <tbody>\n",
       "    <tr>\n",
       "      <th>0</th>\n",
       "      <td>0</td>\n",
       "      <td>BANCO DE GALICIA Y BUENOS AIRES S.A.U.</td>\n",
       "      <td>Cant. Sit 1 Titular</td>\n",
       "      <td>0</td>\n",
       "      <td>41.0</td>\n",
       "      <td>Cant. Sit 1 Titular</td>\n",
       "      <td>2.004401e+10</td>\n",
       "      <td>4400871.0</td>\n",
       "      <td>AD</td>\n",
       "    </tr>\n",
       "    <tr>\n",
       "      <th>1</th>\n",
       "      <td>0</td>\n",
       "      <td>BANCO BBVA ARGENTINA S.A.</td>\n",
       "      <td>Cant. Sit 1 Titular</td>\n",
       "      <td>0</td>\n",
       "      <td>40.0</td>\n",
       "      <td>Cant. Sit 1 Titular</td>\n",
       "      <td>2.004401e+10</td>\n",
       "      <td>4400871.0</td>\n",
       "      <td>AD</td>\n",
       "    </tr>\n",
       "    <tr>\n",
       "      <th>2</th>\n",
       "      <td>0</td>\n",
       "      <td>CENCOSUD S.A.</td>\n",
       "      <td>Cant. Sit 1 Titular</td>\n",
       "      <td>0</td>\n",
       "      <td>37.0</td>\n",
       "      <td>Cant. Sit 1 Titular</td>\n",
       "      <td>2.004401e+10</td>\n",
       "      <td>4400871.0</td>\n",
       "      <td>AD</td>\n",
       "    </tr>\n",
       "    <tr>\n",
       "      <th>3</th>\n",
       "      <td>0</td>\n",
       "      <td>BANCO PIANO S.A.</td>\n",
       "      <td>Cant. Sit 1 Titular</td>\n",
       "      <td>0</td>\n",
       "      <td>19.0</td>\n",
       "      <td>Cant. Sit 1 Titular</td>\n",
       "      <td>2.004401e+10</td>\n",
       "      <td>4400871.0</td>\n",
       "      <td>AD</td>\n",
       "    </tr>\n",
       "    <tr>\n",
       "      <th>4</th>\n",
       "      <td>0</td>\n",
       "      <td>NaN</td>\n",
       "      <td>Cant. Sit 4 Titular</td>\n",
       "      <td>0</td>\n",
       "      <td>NaN</td>\n",
       "      <td>Cant. Sit 4 Titular</td>\n",
       "      <td>2.004401e+10</td>\n",
       "      <td>4400871.0</td>\n",
       "      <td>AD</td>\n",
       "    </tr>\n",
       "  </tbody>\n",
       "</table>\n",
       "</div>"
      ],
      "text/plain": [
       "   index_left                                 Entidad       Situacion_left  \\\n",
       "0           0  BANCO DE GALICIA Y BUENOS AIRES S.A.U.  Cant. Sit 1 Titular   \n",
       "1           0               BANCO BBVA ARGENTINA S.A.  Cant. Sit 1 Titular   \n",
       "2           0                           CENCOSUD S.A.  Cant. Sit 1 Titular   \n",
       "3           0                        BANCO PIANO S.A.  Cant. Sit 1 Titular   \n",
       "4           0                                     NaN  Cant. Sit 4 Titular   \n",
       "\n",
       "   index_right  Deuda      Situacion_right          Cuil        Dni PROVEEDOR  \n",
       "0            0   41.0  Cant. Sit 1 Titular  2.004401e+10  4400871.0        AD  \n",
       "1            0   40.0  Cant. Sit 1 Titular  2.004401e+10  4400871.0        AD  \n",
       "2            0   37.0  Cant. Sit 1 Titular  2.004401e+10  4400871.0        AD  \n",
       "3            0   19.0  Cant. Sit 1 Titular  2.004401e+10  4400871.0        AD  \n",
       "4            0    NaN  Cant. Sit 4 Titular  2.004401e+10  4400871.0        AD  "
      ]
     },
     "execution_count": 38,
     "metadata": {},
     "output_type": "execute_result"
    }
   ],
   "source": [
    "df_final.head()"
   ]
  },
  {
   "cell_type": "markdown",
   "metadata": {},
   "source": [
    "# 7) Columna Fuente"
   ]
  },
  {
   "cell_type": "markdown",
   "metadata": {},
   "source": [
    "Agregamos la columna TIPO, con el código correspondiente"
   ]
  },
  {
   "cell_type": "code",
   "execution_count": 39,
   "metadata": {},
   "outputs": [],
   "source": [
    "fuente = 'BCRA'"
   ]
  },
  {
   "cell_type": "code",
   "execution_count": 40,
   "metadata": {},
   "outputs": [],
   "source": [
    "df_final = df_final.assign(FUENTE=fuente)"
   ]
  },
  {
   "cell_type": "code",
   "execution_count": 41,
   "metadata": {},
   "outputs": [
    {
     "data": {
      "text/html": [
       "<div>\n",
       "<style scoped>\n",
       "    .dataframe tbody tr th:only-of-type {\n",
       "        vertical-align: middle;\n",
       "    }\n",
       "\n",
       "    .dataframe tbody tr th {\n",
       "        vertical-align: top;\n",
       "    }\n",
       "\n",
       "    .dataframe thead th {\n",
       "        text-align: right;\n",
       "    }\n",
       "</style>\n",
       "<table border=\"1\" class=\"dataframe\">\n",
       "  <thead>\n",
       "    <tr style=\"text-align: right;\">\n",
       "      <th></th>\n",
       "      <th>index_left</th>\n",
       "      <th>Entidad</th>\n",
       "      <th>Situacion_left</th>\n",
       "      <th>index_right</th>\n",
       "      <th>Deuda</th>\n",
       "      <th>Situacion_right</th>\n",
       "      <th>Cuil</th>\n",
       "      <th>Dni</th>\n",
       "      <th>PROVEEDOR</th>\n",
       "      <th>FUENTE</th>\n",
       "    </tr>\n",
       "  </thead>\n",
       "  <tbody>\n",
       "    <tr>\n",
       "      <th>0</th>\n",
       "      <td>0</td>\n",
       "      <td>BANCO DE GALICIA Y BUENOS AIRES S.A.U.</td>\n",
       "      <td>Cant. Sit 1 Titular</td>\n",
       "      <td>0</td>\n",
       "      <td>41.0</td>\n",
       "      <td>Cant. Sit 1 Titular</td>\n",
       "      <td>2.004401e+10</td>\n",
       "      <td>4400871.0</td>\n",
       "      <td>AD</td>\n",
       "      <td>BCRA</td>\n",
       "    </tr>\n",
       "    <tr>\n",
       "      <th>1</th>\n",
       "      <td>0</td>\n",
       "      <td>BANCO BBVA ARGENTINA S.A.</td>\n",
       "      <td>Cant. Sit 1 Titular</td>\n",
       "      <td>0</td>\n",
       "      <td>40.0</td>\n",
       "      <td>Cant. Sit 1 Titular</td>\n",
       "      <td>2.004401e+10</td>\n",
       "      <td>4400871.0</td>\n",
       "      <td>AD</td>\n",
       "      <td>BCRA</td>\n",
       "    </tr>\n",
       "    <tr>\n",
       "      <th>2</th>\n",
       "      <td>0</td>\n",
       "      <td>CENCOSUD S.A.</td>\n",
       "      <td>Cant. Sit 1 Titular</td>\n",
       "      <td>0</td>\n",
       "      <td>37.0</td>\n",
       "      <td>Cant. Sit 1 Titular</td>\n",
       "      <td>2.004401e+10</td>\n",
       "      <td>4400871.0</td>\n",
       "      <td>AD</td>\n",
       "      <td>BCRA</td>\n",
       "    </tr>\n",
       "    <tr>\n",
       "      <th>3</th>\n",
       "      <td>0</td>\n",
       "      <td>BANCO PIANO S.A.</td>\n",
       "      <td>Cant. Sit 1 Titular</td>\n",
       "      <td>0</td>\n",
       "      <td>19.0</td>\n",
       "      <td>Cant. Sit 1 Titular</td>\n",
       "      <td>2.004401e+10</td>\n",
       "      <td>4400871.0</td>\n",
       "      <td>AD</td>\n",
       "      <td>BCRA</td>\n",
       "    </tr>\n",
       "    <tr>\n",
       "      <th>4</th>\n",
       "      <td>0</td>\n",
       "      <td>NaN</td>\n",
       "      <td>Cant. Sit 4 Titular</td>\n",
       "      <td>0</td>\n",
       "      <td>NaN</td>\n",
       "      <td>Cant. Sit 4 Titular</td>\n",
       "      <td>2.004401e+10</td>\n",
       "      <td>4400871.0</td>\n",
       "      <td>AD</td>\n",
       "      <td>BCRA</td>\n",
       "    </tr>\n",
       "  </tbody>\n",
       "</table>\n",
       "</div>"
      ],
      "text/plain": [
       "   index_left                                 Entidad       Situacion_left  \\\n",
       "0           0  BANCO DE GALICIA Y BUENOS AIRES S.A.U.  Cant. Sit 1 Titular   \n",
       "1           0               BANCO BBVA ARGENTINA S.A.  Cant. Sit 1 Titular   \n",
       "2           0                           CENCOSUD S.A.  Cant. Sit 1 Titular   \n",
       "3           0                        BANCO PIANO S.A.  Cant. Sit 1 Titular   \n",
       "4           0                                     NaN  Cant. Sit 4 Titular   \n",
       "\n",
       "   index_right  Deuda      Situacion_right          Cuil        Dni PROVEEDOR  \\\n",
       "0            0   41.0  Cant. Sit 1 Titular  2.004401e+10  4400871.0        AD   \n",
       "1            0   40.0  Cant. Sit 1 Titular  2.004401e+10  4400871.0        AD   \n",
       "2            0   37.0  Cant. Sit 1 Titular  2.004401e+10  4400871.0        AD   \n",
       "3            0   19.0  Cant. Sit 1 Titular  2.004401e+10  4400871.0        AD   \n",
       "4            0    NaN  Cant. Sit 4 Titular  2.004401e+10  4400871.0        AD   \n",
       "\n",
       "  FUENTE  \n",
       "0   BCRA  \n",
       "1   BCRA  \n",
       "2   BCRA  \n",
       "3   BCRA  \n",
       "4   BCRA  "
      ]
     },
     "execution_count": 41,
     "metadata": {},
     "output_type": "execute_result"
    }
   ],
   "source": [
    "df_final.head ()"
   ]
  },
  {
   "cell_type": "markdown",
   "metadata": {},
   "source": [
    "# 10) Columna Fecha"
   ]
  },
  {
   "cell_type": "markdown",
   "metadata": {},
   "source": [
    "Para el campo FECHA_INGRESO_DATO, usamos la fecha en la que se hace la inserción de los datos:"
   ]
  },
  {
   "cell_type": "code",
   "execution_count": 42,
   "metadata": {},
   "outputs": [],
   "source": [
    "fecha_ingreso = pd.to_datetime('today')"
   ]
  },
  {
   "cell_type": "code",
   "execution_count": 43,
   "metadata": {},
   "outputs": [],
   "source": [
    "df_final = df_final.assign(FECHA_INGRESO=fecha_ingreso)"
   ]
  },
  {
   "cell_type": "code",
   "execution_count": 44,
   "metadata": {
    "scrolled": true
   },
   "outputs": [
    {
     "data": {
      "text/html": [
       "<div>\n",
       "<style scoped>\n",
       "    .dataframe tbody tr th:only-of-type {\n",
       "        vertical-align: middle;\n",
       "    }\n",
       "\n",
       "    .dataframe tbody tr th {\n",
       "        vertical-align: top;\n",
       "    }\n",
       "\n",
       "    .dataframe thead th {\n",
       "        text-align: right;\n",
       "    }\n",
       "</style>\n",
       "<table border=\"1\" class=\"dataframe\">\n",
       "  <thead>\n",
       "    <tr style=\"text-align: right;\">\n",
       "      <th></th>\n",
       "      <th>index_left</th>\n",
       "      <th>Entidad</th>\n",
       "      <th>Situacion_left</th>\n",
       "      <th>index_right</th>\n",
       "      <th>Deuda</th>\n",
       "      <th>Situacion_right</th>\n",
       "      <th>Cuil</th>\n",
       "      <th>Dni</th>\n",
       "      <th>PROVEEDOR</th>\n",
       "      <th>FUENTE</th>\n",
       "      <th>FECHA_INGRESO</th>\n",
       "    </tr>\n",
       "  </thead>\n",
       "  <tbody>\n",
       "    <tr>\n",
       "      <th>0</th>\n",
       "      <td>0</td>\n",
       "      <td>BANCO DE GALICIA Y BUENOS AIRES S.A.U.</td>\n",
       "      <td>Cant. Sit 1 Titular</td>\n",
       "      <td>0</td>\n",
       "      <td>41.0</td>\n",
       "      <td>Cant. Sit 1 Titular</td>\n",
       "      <td>2.004401e+10</td>\n",
       "      <td>4400871.0</td>\n",
       "      <td>AD</td>\n",
       "      <td>BCRA</td>\n",
       "      <td>2021-03-10 11:43:45.826406</td>\n",
       "    </tr>\n",
       "    <tr>\n",
       "      <th>1</th>\n",
       "      <td>0</td>\n",
       "      <td>BANCO BBVA ARGENTINA S.A.</td>\n",
       "      <td>Cant. Sit 1 Titular</td>\n",
       "      <td>0</td>\n",
       "      <td>40.0</td>\n",
       "      <td>Cant. Sit 1 Titular</td>\n",
       "      <td>2.004401e+10</td>\n",
       "      <td>4400871.0</td>\n",
       "      <td>AD</td>\n",
       "      <td>BCRA</td>\n",
       "      <td>2021-03-10 11:43:45.826406</td>\n",
       "    </tr>\n",
       "    <tr>\n",
       "      <th>2</th>\n",
       "      <td>0</td>\n",
       "      <td>CENCOSUD S.A.</td>\n",
       "      <td>Cant. Sit 1 Titular</td>\n",
       "      <td>0</td>\n",
       "      <td>37.0</td>\n",
       "      <td>Cant. Sit 1 Titular</td>\n",
       "      <td>2.004401e+10</td>\n",
       "      <td>4400871.0</td>\n",
       "      <td>AD</td>\n",
       "      <td>BCRA</td>\n",
       "      <td>2021-03-10 11:43:45.826406</td>\n",
       "    </tr>\n",
       "    <tr>\n",
       "      <th>3</th>\n",
       "      <td>0</td>\n",
       "      <td>BANCO PIANO S.A.</td>\n",
       "      <td>Cant. Sit 1 Titular</td>\n",
       "      <td>0</td>\n",
       "      <td>19.0</td>\n",
       "      <td>Cant. Sit 1 Titular</td>\n",
       "      <td>2.004401e+10</td>\n",
       "      <td>4400871.0</td>\n",
       "      <td>AD</td>\n",
       "      <td>BCRA</td>\n",
       "      <td>2021-03-10 11:43:45.826406</td>\n",
       "    </tr>\n",
       "    <tr>\n",
       "      <th>4</th>\n",
       "      <td>0</td>\n",
       "      <td>NaN</td>\n",
       "      <td>Cant. Sit 4 Titular</td>\n",
       "      <td>0</td>\n",
       "      <td>NaN</td>\n",
       "      <td>Cant. Sit 4 Titular</td>\n",
       "      <td>2.004401e+10</td>\n",
       "      <td>4400871.0</td>\n",
       "      <td>AD</td>\n",
       "      <td>BCRA</td>\n",
       "      <td>2021-03-10 11:43:45.826406</td>\n",
       "    </tr>\n",
       "  </tbody>\n",
       "</table>\n",
       "</div>"
      ],
      "text/plain": [
       "   index_left                                 Entidad       Situacion_left  \\\n",
       "0           0  BANCO DE GALICIA Y BUENOS AIRES S.A.U.  Cant. Sit 1 Titular   \n",
       "1           0               BANCO BBVA ARGENTINA S.A.  Cant. Sit 1 Titular   \n",
       "2           0                           CENCOSUD S.A.  Cant. Sit 1 Titular   \n",
       "3           0                        BANCO PIANO S.A.  Cant. Sit 1 Titular   \n",
       "4           0                                     NaN  Cant. Sit 4 Titular   \n",
       "\n",
       "   index_right  Deuda      Situacion_right          Cuil        Dni PROVEEDOR  \\\n",
       "0            0   41.0  Cant. Sit 1 Titular  2.004401e+10  4400871.0        AD   \n",
       "1            0   40.0  Cant. Sit 1 Titular  2.004401e+10  4400871.0        AD   \n",
       "2            0   37.0  Cant. Sit 1 Titular  2.004401e+10  4400871.0        AD   \n",
       "3            0   19.0  Cant. Sit 1 Titular  2.004401e+10  4400871.0        AD   \n",
       "4            0    NaN  Cant. Sit 4 Titular  2.004401e+10  4400871.0        AD   \n",
       "\n",
       "  FUENTE              FECHA_INGRESO  \n",
       "0   BCRA 2021-03-10 11:43:45.826406  \n",
       "1   BCRA 2021-03-10 11:43:45.826406  \n",
       "2   BCRA 2021-03-10 11:43:45.826406  \n",
       "3   BCRA 2021-03-10 11:43:45.826406  \n",
       "4   BCRA 2021-03-10 11:43:45.826406  "
      ]
     },
     "execution_count": 44,
     "metadata": {},
     "output_type": "execute_result"
    }
   ],
   "source": [
    "df_final.head()"
   ]
  },
  {
   "cell_type": "markdown",
   "metadata": {},
   "source": [
    "# 12) Concatenación con .csv enviado "
   ]
  },
  {
   "cell_type": "markdown",
   "metadata": {},
   "source": [
    "Vamos a concatenar nuestro dataframe con el dataframe enviado para enriquecer. Para esto, vamos a hacer una limpieza inicial de cómo se enviaron esos datos. Finalmente, se uniran ambos dataframes por __DNI__."
   ]
  },
  {
   "cell_type": "markdown",
   "metadata": {},
   "source": [
    "## 12.1) Dataset: PyP"
   ]
  },
  {
   "cell_type": "markdown",
   "metadata": {},
   "source": [
    "Vamos a analizar y limpiar el dataset enviado a PyP para el enriquecimiento:"
   ]
  },
  {
   "cell_type": "code",
   "execution_count": 45,
   "metadata": {},
   "outputs": [],
   "source": [
    "df_pyp = pd.read_csv('/mnt/c/users/Dleg/Data/MOPC/MOPC/Enriquecimiento de Datos/Data Cleaning/Insiders/Datasets/Datasets enviados/MOPC_Envio 0503 - BBVA - Estado-IDCliente.csv', sep = '\\t')"
   ]
  },
  {
   "cell_type": "code",
   "execution_count": 46,
   "metadata": {
    "scrolled": false
   },
   "outputs": [
    {
     "data": {
      "text/html": [
       "<div>\n",
       "<style scoped>\n",
       "    .dataframe tbody tr th:only-of-type {\n",
       "        vertical-align: middle;\n",
       "    }\n",
       "\n",
       "    .dataframe tbody tr th {\n",
       "        vertical-align: top;\n",
       "    }\n",
       "\n",
       "    .dataframe thead th {\n",
       "        text-align: right;\n",
       "    }\n",
       "</style>\n",
       "<table border=\"1\" class=\"dataframe\">\n",
       "  <thead>\n",
       "    <tr style=\"text-align: right;\">\n",
       "      <th></th>\n",
       "      <th>IDMOROSO</th>\n",
       "      <th>IDCLIENTE</th>\n",
       "      <th>ESTADO</th>\n",
       "      <th>FILTROA</th>\n",
       "    </tr>\n",
       "  </thead>\n",
       "  <tbody>\n",
       "    <tr>\n",
       "      <th>0</th>\n",
       "      <td>DNI 10087665</td>\n",
       "      <td>FRANCES_2012</td>\n",
       "      <td>NO VISTO</td>\n",
       "      <td>2 - Ag 2ra</td>\n",
       "    </tr>\n",
       "    <tr>\n",
       "      <th>1</th>\n",
       "      <td>DNI 10194155</td>\n",
       "      <td>FRANCES_2012</td>\n",
       "      <td>NO VISTO</td>\n",
       "      <td>3 - Ag 3ra</td>\n",
       "    </tr>\n",
       "    <tr>\n",
       "      <th>2</th>\n",
       "      <td>DNI 10376898</td>\n",
       "      <td>FRANCES_2012</td>\n",
       "      <td>NO VISTO</td>\n",
       "      <td>3 - Ag 3ra</td>\n",
       "    </tr>\n",
       "    <tr>\n",
       "      <th>3</th>\n",
       "      <td>DNI 10883821</td>\n",
       "      <td>FRANCES_2012</td>\n",
       "      <td>NO VISTO</td>\n",
       "      <td>4 - Ag 4ta</td>\n",
       "    </tr>\n",
       "    <tr>\n",
       "      <th>4</th>\n",
       "      <td>DNI 11065143</td>\n",
       "      <td>FRANCES_2012</td>\n",
       "      <td>NO VISTO</td>\n",
       "      <td>2 - Ag 2ra</td>\n",
       "    </tr>\n",
       "  </tbody>\n",
       "</table>\n",
       "</div>"
      ],
      "text/plain": [
       "       IDMOROSO     IDCLIENTE    ESTADO     FILTROA\n",
       "0  DNI 10087665  FRANCES_2012  NO VISTO  2 - Ag 2ra\n",
       "1  DNI 10194155  FRANCES_2012  NO VISTO  3 - Ag 3ra\n",
       "2  DNI 10376898  FRANCES_2012  NO VISTO  3 - Ag 3ra\n",
       "3  DNI 10883821  FRANCES_2012  NO VISTO  4 - Ag 4ta\n",
       "4  DNI 11065143  FRANCES_2012  NO VISTO  2 - Ag 2ra"
      ]
     },
     "execution_count": 46,
     "metadata": {},
     "output_type": "execute_result"
    }
   ],
   "source": [
    "df_pyp.head()"
   ]
  },
  {
   "cell_type": "markdown",
   "metadata": {},
   "source": [
    "Dropeamos las últimas columnas que no tienen datos"
   ]
  },
  {
   "cell_type": "code",
   "execution_count": 47,
   "metadata": {},
   "outputs": [],
   "source": [
    "#df_pyp.loc[(df_pyp['IDCLIENTE'].str.startswith('AMEX')) , 'NRO_DOC'] = df_pyp['DATOADIC']\n",
    "#df_pyp.loc[(~df_pyp['IDCLIENTE'].str.startswith('AMEX')) , 'NRO_DOC'] = df_pyp['IDMOROSO']\n",
    "df_pyp ['NRO_DOC'] = df_pyp ['IDMOROSO']"
   ]
  },
  {
   "cell_type": "code",
   "execution_count": 48,
   "metadata": {},
   "outputs": [],
   "source": [
    "df_pyp = df_pyp [['IDMOROSO','IDCLIENTE','NRO_DOC']]"
   ]
  },
  {
   "cell_type": "code",
   "execution_count": 49,
   "metadata": {
    "scrolled": true
   },
   "outputs": [
    {
     "data": {
      "text/html": [
       "<div>\n",
       "<style scoped>\n",
       "    .dataframe tbody tr th:only-of-type {\n",
       "        vertical-align: middle;\n",
       "    }\n",
       "\n",
       "    .dataframe tbody tr th {\n",
       "        vertical-align: top;\n",
       "    }\n",
       "\n",
       "    .dataframe thead th {\n",
       "        text-align: right;\n",
       "    }\n",
       "</style>\n",
       "<table border=\"1\" class=\"dataframe\">\n",
       "  <thead>\n",
       "    <tr style=\"text-align: right;\">\n",
       "      <th></th>\n",
       "      <th>IDMOROSO</th>\n",
       "      <th>IDCLIENTE</th>\n",
       "      <th>NRO_DOC</th>\n",
       "    </tr>\n",
       "  </thead>\n",
       "  <tbody>\n",
       "    <tr>\n",
       "      <th>0</th>\n",
       "      <td>DNI 10087665</td>\n",
       "      <td>FRANCES_2012</td>\n",
       "      <td>DNI 10087665</td>\n",
       "    </tr>\n",
       "    <tr>\n",
       "      <th>1</th>\n",
       "      <td>DNI 10194155</td>\n",
       "      <td>FRANCES_2012</td>\n",
       "      <td>DNI 10194155</td>\n",
       "    </tr>\n",
       "    <tr>\n",
       "      <th>2</th>\n",
       "      <td>DNI 10376898</td>\n",
       "      <td>FRANCES_2012</td>\n",
       "      <td>DNI 10376898</td>\n",
       "    </tr>\n",
       "    <tr>\n",
       "      <th>3</th>\n",
       "      <td>DNI 10883821</td>\n",
       "      <td>FRANCES_2012</td>\n",
       "      <td>DNI 10883821</td>\n",
       "    </tr>\n",
       "    <tr>\n",
       "      <th>4</th>\n",
       "      <td>DNI 11065143</td>\n",
       "      <td>FRANCES_2012</td>\n",
       "      <td>DNI 11065143</td>\n",
       "    </tr>\n",
       "  </tbody>\n",
       "</table>\n",
       "</div>"
      ],
      "text/plain": [
       "       IDMOROSO     IDCLIENTE       NRO_DOC\n",
       "0  DNI 10087665  FRANCES_2012  DNI 10087665\n",
       "1  DNI 10194155  FRANCES_2012  DNI 10194155\n",
       "2  DNI 10376898  FRANCES_2012  DNI 10376898\n",
       "3  DNI 10883821  FRANCES_2012  DNI 10883821\n",
       "4  DNI 11065143  FRANCES_2012  DNI 11065143"
      ]
     },
     "execution_count": 49,
     "metadata": {},
     "output_type": "execute_result"
    }
   ],
   "source": [
    "df_pyp.head()"
   ]
  },
  {
   "cell_type": "markdown",
   "metadata": {},
   "source": [
    "Creamos una columna que contenga IDMOROSO + DATOADIC según corresponda"
   ]
  },
  {
   "cell_type": "code",
   "execution_count": 50,
   "metadata": {},
   "outputs": [],
   "source": [
    "df_pyp = df_pyp.dropna(subset=['NRO_DOC'])"
   ]
  },
  {
   "cell_type": "code",
   "execution_count": 51,
   "metadata": {},
   "outputs": [
    {
     "data": {
      "text/html": [
       "<div>\n",
       "<style scoped>\n",
       "    .dataframe tbody tr th:only-of-type {\n",
       "        vertical-align: middle;\n",
       "    }\n",
       "\n",
       "    .dataframe tbody tr th {\n",
       "        vertical-align: top;\n",
       "    }\n",
       "\n",
       "    .dataframe thead th {\n",
       "        text-align: right;\n",
       "    }\n",
       "</style>\n",
       "<table border=\"1\" class=\"dataframe\">\n",
       "  <thead>\n",
       "    <tr style=\"text-align: right;\">\n",
       "      <th></th>\n",
       "      <th>IDMOROSO</th>\n",
       "      <th>IDCLIENTE</th>\n",
       "      <th>NRO_DOC</th>\n",
       "    </tr>\n",
       "  </thead>\n",
       "  <tbody>\n",
       "    <tr>\n",
       "      <th>0</th>\n",
       "      <td>DNI 10087665</td>\n",
       "      <td>FRANCES_2012</td>\n",
       "      <td>DNI 10087665</td>\n",
       "    </tr>\n",
       "    <tr>\n",
       "      <th>1</th>\n",
       "      <td>DNI 10194155</td>\n",
       "      <td>FRANCES_2012</td>\n",
       "      <td>DNI 10194155</td>\n",
       "    </tr>\n",
       "    <tr>\n",
       "      <th>2</th>\n",
       "      <td>DNI 10376898</td>\n",
       "      <td>FRANCES_2012</td>\n",
       "      <td>DNI 10376898</td>\n",
       "    </tr>\n",
       "    <tr>\n",
       "      <th>3</th>\n",
       "      <td>DNI 10883821</td>\n",
       "      <td>FRANCES_2012</td>\n",
       "      <td>DNI 10883821</td>\n",
       "    </tr>\n",
       "    <tr>\n",
       "      <th>4</th>\n",
       "      <td>DNI 11065143</td>\n",
       "      <td>FRANCES_2012</td>\n",
       "      <td>DNI 11065143</td>\n",
       "    </tr>\n",
       "  </tbody>\n",
       "</table>\n",
       "</div>"
      ],
      "text/plain": [
       "       IDMOROSO     IDCLIENTE       NRO_DOC\n",
       "0  DNI 10087665  FRANCES_2012  DNI 10087665\n",
       "1  DNI 10194155  FRANCES_2012  DNI 10194155\n",
       "2  DNI 10376898  FRANCES_2012  DNI 10376898\n",
       "3  DNI 10883821  FRANCES_2012  DNI 10883821\n",
       "4  DNI 11065143  FRANCES_2012  DNI 11065143"
      ]
     },
     "execution_count": 51,
     "metadata": {},
     "output_type": "execute_result"
    }
   ],
   "source": [
    "df_pyp.head()"
   ]
  },
  {
   "cell_type": "markdown",
   "metadata": {},
   "source": [
    "## 12.2) DNI Cleaning"
   ]
  },
  {
   "cell_type": "markdown",
   "metadata": {},
   "source": [
    "Limpiamos el dataframe __df_pyp__, ya que dentro de DATO_A_ENVIAR tenemos 9 tipos de casos diferentes de datos:\n",
    "\n",
    "- DNI 12345678\n",
    "- DNI12345678\n",
    "- DNIE1234678\n",
    "- LC  1234567\n",
    "- LE  1234567\n",
    "- CUIT00123456780\n",
    "- 00123456780 --> Es un CUIT.\n",
    "- 00 12345678 0 --> Es un CUIT.\n",
    "- DNI 00123456780 --> Dice DNI pero es un CUIT de una persona __jurídica__ (TO DO)"
   ]
  },
  {
   "cell_type": "markdown",
   "metadata": {},
   "source": [
    "Para eso definimos 5 funciones:\n",
    "\n",
    "- __Tipo_DOC__: Se definen dos funciones para determinar el tipo de DNI. Una inicial, y otra para corregir sobre el dataframe resultante.\n",
    "- __Standard DNI__: Estandariza los DNI para 7 de los casos. Esta función debe ejecutarse en primer lugar.\n",
    "- __DNI Spaces__: Elimina los espacios.\n",
    "- __DNI Zero__: Elimina los ceros iniciales de ciertos CUITs para que coincidan con los DNI.\n",
    "- __Cuit__: Decisión sobre dejar un cuit o volverlo DNI"
   ]
  },
  {
   "cell_type": "code",
   "execution_count": 52,
   "metadata": {},
   "outputs": [],
   "source": [
    "def tipo_doc_1 (string_dni):\n",
    "    \n",
    "    if 'DNI' in string_dni:\n",
    "        tipo = 'DNI'\n",
    "    \n",
    "    elif 'LC' in string_dni:\n",
    "        tipo = 'LC'\n",
    "    \n",
    "    elif 'LE' in string_dni:\n",
    "        tipo = 'LE'\n",
    "    \n",
    "    elif 'DNIE' in string_dni:\n",
    "        tipo = 'DNIE'    \n",
    "    \n",
    "    elif ((string_dni.startswith(('CUIT30','CUIT33','CUIT34'))) & (len(string_dni)>8)):\n",
    "        tipo = 'CUIT'\n",
    "        \n",
    "    elif ((string_dni.startswith(('30','33','34'))) & (len(string_dni)>8)):\n",
    "        tipo = 'CUIT'\n",
    "\n",
    "    elif ((string_dni.startswith(('20','23','24','27'))) & (len(string_dni)>8)):\n",
    "        tipo = 'DNI'\n",
    "\n",
    "    elif ((string_dni.startswith(('CUIT20','CUIT23','CUIT24','CUIT27'))) & (len(string_dni)>8)):\n",
    "        tipo = 'DNI'\n",
    "        \n",
    "    else:\n",
    "        tipo = 'DNI'\n",
    "    \n",
    "    return tipo"
   ]
  },
  {
   "cell_type": "code",
   "execution_count": 53,
   "metadata": {},
   "outputs": [],
   "source": [
    "def tipo_doc_2 (string_dni, tipo_original):\n",
    "    \n",
    "    if (len(string_dni) > 8) & (tipo_original == 'DNI'):\n",
    "        tipo = 'CUIT'\n",
    "    else:\n",
    "        tipo = tipo_original\n",
    "    return tipo"
   ]
  },
  {
   "cell_type": "code",
   "execution_count": 54,
   "metadata": {},
   "outputs": [],
   "source": [
    "def standard_dni (string_dni):\n",
    "    \"\"\"DNI separation by each case.\n",
    "    \"\"\"\n",
    "    \n",
    "    if 'DNI ' in string_dni:\n",
    "        dni = string_dni.split('DNI ')[1]\n",
    "        \n",
    "    elif 'DNIE' in string_dni:\n",
    "        dni = string_dni.split('DNIE')[1]\n",
    "    \n",
    "    elif 'DNI' in string_dni:\n",
    "        dni = string_dni.split('DNI')[1]\n",
    "    \n",
    "    elif 'LC  ' in string_dni:\n",
    "        dni = string_dni.split('LC  ')[1]\n",
    "    \n",
    "    elif 'LE  ' in string_dni:\n",
    "        dni = string_dni.split('LE  ')[1]\n",
    "    \n",
    "    elif 'CUIT' in string_dni:\n",
    "        dni = string_dni.split('CUIT')[1]\n",
    "        \n",
    "    else:\n",
    "        dni = string_dni\n",
    "        \n",
    "    return dni"
   ]
  },
  {
   "cell_type": "code",
   "execution_count": 55,
   "metadata": {},
   "outputs": [],
   "source": [
    "def dni_characters (string_dni):\n",
    "    \n",
    "    if ' ' in string_dni:\n",
    "        dni = string_dni.replace(' ','')\n",
    "        \n",
    "    elif '-' in string_dni:\n",
    "        dni = string_dni.replace('-','')\n",
    "\n",
    "    else:\n",
    "        dni = string_dni\n",
    "    \n",
    "    return dni"
   ]
  },
  {
   "cell_type": "code",
   "execution_count": 56,
   "metadata": {},
   "outputs": [],
   "source": [
    "def cuit (string_dni):\n",
    "    \n",
    "    if ((string_dni.startswith('20')) & (len(string_dni)>8)):\n",
    "        cuit = string_dni [2:-1]\n",
    "        \n",
    "    elif ((string_dni.startswith('23')) & (len(string_dni)>8)):\n",
    "        cuit = string_dni [2:-1]\n",
    "        \n",
    "    elif ((string_dni.startswith('24')) & (len(string_dni)>8)):\n",
    "        cuit = string_dni [2:-1]\n",
    "\n",
    "    elif ((string_dni.startswith('27')) & (len(string_dni)>8)):\n",
    "        cuit = string_dni [2:-1]\n",
    "\n",
    "    else:\n",
    "        cuit = string_dni\n",
    "        \n",
    "    return cuit"
   ]
  },
  {
   "cell_type": "code",
   "execution_count": 57,
   "metadata": {},
   "outputs": [],
   "source": [
    "def dni_zero (string_dni):\n",
    "    \n",
    "    if string_dni.startswith('0'):\n",
    "        dni = string_dni [1:]\n",
    "\n",
    "    else:\n",
    "        dni = string_dni\n",
    "    \n",
    "    return dni"
   ]
  },
  {
   "cell_type": "markdown",
   "metadata": {},
   "source": [
    "En primer lugar, trimmeamos los espacios que sobran:"
   ]
  },
  {
   "cell_type": "code",
   "execution_count": 58,
   "metadata": {},
   "outputs": [],
   "source": [
    "df_pyp['NRO_DOC'] = [(str(df_pyp['NRO_DOC'][i]).strip()) for i in range (df_pyp['NRO_DOC'].count())]"
   ]
  },
  {
   "cell_type": "markdown",
   "metadata": {},
   "source": [
    "Se implementan estas funciones:"
   ]
  },
  {
   "cell_type": "markdown",
   "metadata": {},
   "source": [
    "Para determinar el __TIPO DE DOCUMENTO__ en primer lugar:"
   ]
  },
  {
   "cell_type": "code",
   "execution_count": 59,
   "metadata": {},
   "outputs": [],
   "source": [
    "df_pyp['TIPO_DOC'] = [tipo_doc_1(df_pyp['NRO_DOC'][i]) for i in range (df_pyp['NRO_DOC'].count())]"
   ]
  },
  {
   "cell_type": "markdown",
   "metadata": {},
   "source": [
    "Para la limpieza de DNIs:"
   ]
  },
  {
   "cell_type": "code",
   "execution_count": 60,
   "metadata": {},
   "outputs": [],
   "source": [
    "df_pyp['NRO_DOC'] = [standard_dni(df_pyp['NRO_DOC'][i]) for i in range (df_pyp['NRO_DOC'].count())]"
   ]
  },
  {
   "cell_type": "code",
   "execution_count": 61,
   "metadata": {},
   "outputs": [],
   "source": [
    "df_pyp['NRO_DOC'] = [dni_characters(df_pyp['NRO_DOC'][i]) for i in range (df_pyp['NRO_DOC'].count())]"
   ]
  },
  {
   "cell_type": "code",
   "execution_count": 62,
   "metadata": {},
   "outputs": [],
   "source": [
    "df_pyp['NRO_DOC'] = [cuit(df_pyp['NRO_DOC'][i]) for i in range (df_pyp['NRO_DOC'].count())]"
   ]
  },
  {
   "cell_type": "code",
   "execution_count": 63,
   "metadata": {},
   "outputs": [],
   "source": [
    "df_pyp['NRO_DOC'] = [dni_zero(df_pyp['NRO_DOC'][i]) for i in range (df_pyp['NRO_DOC'].count())]"
   ]
  },
  {
   "cell_type": "markdown",
   "metadata": {},
   "source": [
    "Para corregir el __TIPO DE DOCUMENTO__ sobre el dataframe resultante"
   ]
  },
  {
   "cell_type": "code",
   "execution_count": 64,
   "metadata": {},
   "outputs": [],
   "source": [
    "df_pyp['TIPO_DOC'] = [tipo_doc_2(df_pyp['NRO_DOC'][i],df_pyp['TIPO_DOC'][i]) for i in range (df_pyp['NRO_DOC'].count())]"
   ]
  },
  {
   "cell_type": "code",
   "execution_count": 65,
   "metadata": {
    "scrolled": true
   },
   "outputs": [
    {
     "data": {
      "text/html": [
       "<div>\n",
       "<style scoped>\n",
       "    .dataframe tbody tr th:only-of-type {\n",
       "        vertical-align: middle;\n",
       "    }\n",
       "\n",
       "    .dataframe tbody tr th {\n",
       "        vertical-align: top;\n",
       "    }\n",
       "\n",
       "    .dataframe thead th {\n",
       "        text-align: right;\n",
       "    }\n",
       "</style>\n",
       "<table border=\"1\" class=\"dataframe\">\n",
       "  <thead>\n",
       "    <tr style=\"text-align: right;\">\n",
       "      <th></th>\n",
       "      <th>IDMOROSO</th>\n",
       "      <th>IDCLIENTE</th>\n",
       "      <th>NRO_DOC</th>\n",
       "      <th>TIPO_DOC</th>\n",
       "    </tr>\n",
       "  </thead>\n",
       "  <tbody>\n",
       "    <tr>\n",
       "      <th>0</th>\n",
       "      <td>DNI 10087665</td>\n",
       "      <td>FRANCES_2012</td>\n",
       "      <td>10087665</td>\n",
       "      <td>DNI</td>\n",
       "    </tr>\n",
       "    <tr>\n",
       "      <th>1</th>\n",
       "      <td>DNI 10194155</td>\n",
       "      <td>FRANCES_2012</td>\n",
       "      <td>10194155</td>\n",
       "      <td>DNI</td>\n",
       "    </tr>\n",
       "    <tr>\n",
       "      <th>2</th>\n",
       "      <td>DNI 10376898</td>\n",
       "      <td>FRANCES_2012</td>\n",
       "      <td>10376898</td>\n",
       "      <td>DNI</td>\n",
       "    </tr>\n",
       "    <tr>\n",
       "      <th>3</th>\n",
       "      <td>DNI 10883821</td>\n",
       "      <td>FRANCES_2012</td>\n",
       "      <td>10883821</td>\n",
       "      <td>DNI</td>\n",
       "    </tr>\n",
       "    <tr>\n",
       "      <th>4</th>\n",
       "      <td>DNI 11065143</td>\n",
       "      <td>FRANCES_2012</td>\n",
       "      <td>11065143</td>\n",
       "      <td>DNI</td>\n",
       "    </tr>\n",
       "  </tbody>\n",
       "</table>\n",
       "</div>"
      ],
      "text/plain": [
       "       IDMOROSO     IDCLIENTE   NRO_DOC TIPO_DOC\n",
       "0  DNI 10087665  FRANCES_2012  10087665      DNI\n",
       "1  DNI 10194155  FRANCES_2012  10194155      DNI\n",
       "2  DNI 10376898  FRANCES_2012  10376898      DNI\n",
       "3  DNI 10883821  FRANCES_2012  10883821      DNI\n",
       "4  DNI 11065143  FRANCES_2012  11065143      DNI"
      ]
     },
     "execution_count": 65,
     "metadata": {},
     "output_type": "execute_result"
    }
   ],
   "source": [
    "df_pyp.head()"
   ]
  },
  {
   "cell_type": "markdown",
   "metadata": {},
   "source": [
    "# 13) Union de Dataframes"
   ]
  },
  {
   "cell_type": "markdown",
   "metadata": {},
   "source": [
    "Se unen ambos dataframes en la columna NRO_DOC"
   ]
  },
  {
   "cell_type": "markdown",
   "metadata": {},
   "source": [
    "Convertimos la columna NRO_DOC de objeto a INT para hacer la unión"
   ]
  },
  {
   "cell_type": "code",
   "execution_count": 66,
   "metadata": {},
   "outputs": [],
   "source": [
    "df_final = df_final.rename(columns = {'Dni':'NRO_DOC'})"
   ]
  },
  {
   "cell_type": "code",
   "execution_count": 67,
   "metadata": {},
   "outputs": [],
   "source": [
    "df_final = df_final.astype({'NRO_DOC': 'str'})"
   ]
  },
  {
   "cell_type": "code",
   "execution_count": 68,
   "metadata": {},
   "outputs": [],
   "source": [
    "df_final ['NRO_DOC'] = df_final ['NRO_DOC'].str.split('.').str[0]"
   ]
  },
  {
   "cell_type": "code",
   "execution_count": 69,
   "metadata": {},
   "outputs": [],
   "source": [
    "df_union = pd.merge(df_final,df_pyp, on='NRO_DOC', how='inner')"
   ]
  },
  {
   "cell_type": "code",
   "execution_count": 70,
   "metadata": {},
   "outputs": [
    {
     "data": {
      "text/plain": [
       "(278, 14)"
      ]
     },
     "execution_count": 70,
     "metadata": {},
     "output_type": "execute_result"
    }
   ],
   "source": [
    "df_union.shape"
   ]
  },
  {
   "cell_type": "code",
   "execution_count": 71,
   "metadata": {
    "scrolled": false
   },
   "outputs": [
    {
     "data": {
      "text/html": [
       "<div>\n",
       "<style scoped>\n",
       "    .dataframe tbody tr th:only-of-type {\n",
       "        vertical-align: middle;\n",
       "    }\n",
       "\n",
       "    .dataframe tbody tr th {\n",
       "        vertical-align: top;\n",
       "    }\n",
       "\n",
       "    .dataframe thead th {\n",
       "        text-align: right;\n",
       "    }\n",
       "</style>\n",
       "<table border=\"1\" class=\"dataframe\">\n",
       "  <thead>\n",
       "    <tr style=\"text-align: right;\">\n",
       "      <th></th>\n",
       "      <th>index_left</th>\n",
       "      <th>Entidad</th>\n",
       "      <th>Situacion_left</th>\n",
       "      <th>index_right</th>\n",
       "      <th>Deuda</th>\n",
       "      <th>Situacion_right</th>\n",
       "      <th>Cuil</th>\n",
       "      <th>NRO_DOC</th>\n",
       "      <th>PROVEEDOR</th>\n",
       "      <th>FUENTE</th>\n",
       "      <th>FECHA_INGRESO</th>\n",
       "      <th>IDMOROSO</th>\n",
       "      <th>IDCLIENTE</th>\n",
       "      <th>TIPO_DOC</th>\n",
       "    </tr>\n",
       "  </thead>\n",
       "  <tbody>\n",
       "    <tr>\n",
       "      <th>0</th>\n",
       "      <td>0</td>\n",
       "      <td>BANCO DE GALICIA Y BUENOS AIRES S.A.U.</td>\n",
       "      <td>Cant. Sit 1 Titular</td>\n",
       "      <td>0</td>\n",
       "      <td>41.0</td>\n",
       "      <td>Cant. Sit 1 Titular</td>\n",
       "      <td>2.004401e+10</td>\n",
       "      <td>4400871</td>\n",
       "      <td>AD</td>\n",
       "      <td>BCRA</td>\n",
       "      <td>2021-03-10 11:43:45.826406</td>\n",
       "      <td>LE  4400871</td>\n",
       "      <td>FRANCES_2012</td>\n",
       "      <td>LE</td>\n",
       "    </tr>\n",
       "    <tr>\n",
       "      <th>1</th>\n",
       "      <td>0</td>\n",
       "      <td>BANCO BBVA ARGENTINA S.A.</td>\n",
       "      <td>Cant. Sit 1 Titular</td>\n",
       "      <td>0</td>\n",
       "      <td>40.0</td>\n",
       "      <td>Cant. Sit 1 Titular</td>\n",
       "      <td>2.004401e+10</td>\n",
       "      <td>4400871</td>\n",
       "      <td>AD</td>\n",
       "      <td>BCRA</td>\n",
       "      <td>2021-03-10 11:43:45.826406</td>\n",
       "      <td>LE  4400871</td>\n",
       "      <td>FRANCES_2012</td>\n",
       "      <td>LE</td>\n",
       "    </tr>\n",
       "    <tr>\n",
       "      <th>2</th>\n",
       "      <td>0</td>\n",
       "      <td>CENCOSUD S.A.</td>\n",
       "      <td>Cant. Sit 1 Titular</td>\n",
       "      <td>0</td>\n",
       "      <td>37.0</td>\n",
       "      <td>Cant. Sit 1 Titular</td>\n",
       "      <td>2.004401e+10</td>\n",
       "      <td>4400871</td>\n",
       "      <td>AD</td>\n",
       "      <td>BCRA</td>\n",
       "      <td>2021-03-10 11:43:45.826406</td>\n",
       "      <td>LE  4400871</td>\n",
       "      <td>FRANCES_2012</td>\n",
       "      <td>LE</td>\n",
       "    </tr>\n",
       "    <tr>\n",
       "      <th>3</th>\n",
       "      <td>0</td>\n",
       "      <td>BANCO PIANO S.A.</td>\n",
       "      <td>Cant. Sit 1 Titular</td>\n",
       "      <td>0</td>\n",
       "      <td>19.0</td>\n",
       "      <td>Cant. Sit 1 Titular</td>\n",
       "      <td>2.004401e+10</td>\n",
       "      <td>4400871</td>\n",
       "      <td>AD</td>\n",
       "      <td>BCRA</td>\n",
       "      <td>2021-03-10 11:43:45.826406</td>\n",
       "      <td>LE  4400871</td>\n",
       "      <td>FRANCES_2012</td>\n",
       "      <td>LE</td>\n",
       "    </tr>\n",
       "    <tr>\n",
       "      <th>4</th>\n",
       "      <td>0</td>\n",
       "      <td>NaN</td>\n",
       "      <td>Cant. Sit 4 Titular</td>\n",
       "      <td>0</td>\n",
       "      <td>NaN</td>\n",
       "      <td>Cant. Sit 4 Titular</td>\n",
       "      <td>2.004401e+10</td>\n",
       "      <td>4400871</td>\n",
       "      <td>AD</td>\n",
       "      <td>BCRA</td>\n",
       "      <td>2021-03-10 11:43:45.826406</td>\n",
       "      <td>LE  4400871</td>\n",
       "      <td>FRANCES_2012</td>\n",
       "      <td>LE</td>\n",
       "    </tr>\n",
       "  </tbody>\n",
       "</table>\n",
       "</div>"
      ],
      "text/plain": [
       "   index_left                                 Entidad       Situacion_left  \\\n",
       "0           0  BANCO DE GALICIA Y BUENOS AIRES S.A.U.  Cant. Sit 1 Titular   \n",
       "1           0               BANCO BBVA ARGENTINA S.A.  Cant. Sit 1 Titular   \n",
       "2           0                           CENCOSUD S.A.  Cant. Sit 1 Titular   \n",
       "3           0                        BANCO PIANO S.A.  Cant. Sit 1 Titular   \n",
       "4           0                                     NaN  Cant. Sit 4 Titular   \n",
       "\n",
       "   index_right  Deuda      Situacion_right          Cuil  NRO_DOC PROVEEDOR  \\\n",
       "0            0   41.0  Cant. Sit 1 Titular  2.004401e+10  4400871        AD   \n",
       "1            0   40.0  Cant. Sit 1 Titular  2.004401e+10  4400871        AD   \n",
       "2            0   37.0  Cant. Sit 1 Titular  2.004401e+10  4400871        AD   \n",
       "3            0   19.0  Cant. Sit 1 Titular  2.004401e+10  4400871        AD   \n",
       "4            0    NaN  Cant. Sit 4 Titular  2.004401e+10  4400871        AD   \n",
       "\n",
       "  FUENTE              FECHA_INGRESO     IDMOROSO     IDCLIENTE TIPO_DOC  \n",
       "0   BCRA 2021-03-10 11:43:45.826406  LE  4400871  FRANCES_2012       LE  \n",
       "1   BCRA 2021-03-10 11:43:45.826406  LE  4400871  FRANCES_2012       LE  \n",
       "2   BCRA 2021-03-10 11:43:45.826406  LE  4400871  FRANCES_2012       LE  \n",
       "3   BCRA 2021-03-10 11:43:45.826406  LE  4400871  FRANCES_2012       LE  \n",
       "4   BCRA 2021-03-10 11:43:45.826406  LE  4400871  FRANCES_2012       LE  "
      ]
     },
     "execution_count": 71,
     "metadata": {},
     "output_type": "execute_result"
    }
   ],
   "source": [
    "df_union.head()"
   ]
  },
  {
   "cell_type": "markdown",
   "metadata": {},
   "source": [
    "### Revisamos equivalencias"
   ]
  },
  {
   "cell_type": "code",
   "execution_count": 72,
   "metadata": {},
   "outputs": [
    {
     "data": {
      "text/plain": [
       "True"
      ]
     },
     "execution_count": 72,
     "metadata": {},
     "output_type": "execute_result"
    }
   ],
   "source": [
    "df_union['index_left'].equals(df_union['index_right'])"
   ]
  },
  {
   "cell_type": "code",
   "execution_count": 73,
   "metadata": {},
   "outputs": [
    {
     "data": {
      "text/plain": [
       "True"
      ]
     },
     "execution_count": 73,
     "metadata": {},
     "output_type": "execute_result"
    }
   ],
   "source": [
    "df_union['Situacion_left'].equals(df_union['Situacion_right'])"
   ]
  },
  {
   "cell_type": "markdown",
   "metadata": {},
   "source": [
    "# Columna Situación"
   ]
  },
  {
   "cell_type": "markdown",
   "metadata": {},
   "source": [
    "Renombramos y dropeamos columnas acorde a las tablas de la db."
   ]
  },
  {
   "cell_type": "code",
   "execution_count": 74,
   "metadata": {},
   "outputs": [],
   "source": [
    "df_union = df_union.rename(columns = {'Situacion_left':'SITUACION', 'Entidad':'BANCO','Deuda':'MONTO'})"
   ]
  },
  {
   "cell_type": "code",
   "execution_count": 75,
   "metadata": {},
   "outputs": [],
   "source": [
    "df_union.loc[(df_union['SITUACION'] == 'Cant. Sit 1 Titular') , 'SITUACION'] = 1"
   ]
  },
  {
   "cell_type": "code",
   "execution_count": 76,
   "metadata": {},
   "outputs": [],
   "source": [
    "df_union.loc[(df_union['SITUACION'] == 'Cant. Sit 2 Titular') , 'SITUACION'] = 2"
   ]
  },
  {
   "cell_type": "code",
   "execution_count": 77,
   "metadata": {},
   "outputs": [],
   "source": [
    "df_union.loc[(df_union['SITUACION'] == 'Cant. Sit 3 Titular') , 'SITUACION'] = 3"
   ]
  },
  {
   "cell_type": "code",
   "execution_count": 78,
   "metadata": {},
   "outputs": [],
   "source": [
    "df_union.loc[(df_union['SITUACION'] == 'Cant. Sit 4 Titular') , 'SITUACION'] = 4"
   ]
  },
  {
   "cell_type": "code",
   "execution_count": 79,
   "metadata": {},
   "outputs": [],
   "source": [
    "df_union.loc[(df_union['SITUACION'] == 'Cant. Sit 5 Titular') , 'SITUACION'] = 5"
   ]
  },
  {
   "cell_type": "code",
   "execution_count": 80,
   "metadata": {
    "scrolled": true
   },
   "outputs": [
    {
     "data": {
      "text/html": [
       "<div>\n",
       "<style scoped>\n",
       "    .dataframe tbody tr th:only-of-type {\n",
       "        vertical-align: middle;\n",
       "    }\n",
       "\n",
       "    .dataframe tbody tr th {\n",
       "        vertical-align: top;\n",
       "    }\n",
       "\n",
       "    .dataframe thead th {\n",
       "        text-align: right;\n",
       "    }\n",
       "</style>\n",
       "<table border=\"1\" class=\"dataframe\">\n",
       "  <thead>\n",
       "    <tr style=\"text-align: right;\">\n",
       "      <th></th>\n",
       "      <th>index_left</th>\n",
       "      <th>BANCO</th>\n",
       "      <th>SITUACION</th>\n",
       "      <th>index_right</th>\n",
       "      <th>MONTO</th>\n",
       "      <th>Situacion_right</th>\n",
       "      <th>Cuil</th>\n",
       "      <th>NRO_DOC</th>\n",
       "      <th>PROVEEDOR</th>\n",
       "      <th>FUENTE</th>\n",
       "      <th>FECHA_INGRESO</th>\n",
       "      <th>IDMOROSO</th>\n",
       "      <th>IDCLIENTE</th>\n",
       "      <th>TIPO_DOC</th>\n",
       "    </tr>\n",
       "  </thead>\n",
       "  <tbody>\n",
       "    <tr>\n",
       "      <th>0</th>\n",
       "      <td>0</td>\n",
       "      <td>BANCO DE GALICIA Y BUENOS AIRES S.A.U.</td>\n",
       "      <td>1</td>\n",
       "      <td>0</td>\n",
       "      <td>41.0</td>\n",
       "      <td>Cant. Sit 1 Titular</td>\n",
       "      <td>2.004401e+10</td>\n",
       "      <td>4400871</td>\n",
       "      <td>AD</td>\n",
       "      <td>BCRA</td>\n",
       "      <td>2021-03-10 11:43:45.826406</td>\n",
       "      <td>LE  4400871</td>\n",
       "      <td>FRANCES_2012</td>\n",
       "      <td>LE</td>\n",
       "    </tr>\n",
       "    <tr>\n",
       "      <th>1</th>\n",
       "      <td>0</td>\n",
       "      <td>BANCO BBVA ARGENTINA S.A.</td>\n",
       "      <td>1</td>\n",
       "      <td>0</td>\n",
       "      <td>40.0</td>\n",
       "      <td>Cant. Sit 1 Titular</td>\n",
       "      <td>2.004401e+10</td>\n",
       "      <td>4400871</td>\n",
       "      <td>AD</td>\n",
       "      <td>BCRA</td>\n",
       "      <td>2021-03-10 11:43:45.826406</td>\n",
       "      <td>LE  4400871</td>\n",
       "      <td>FRANCES_2012</td>\n",
       "      <td>LE</td>\n",
       "    </tr>\n",
       "    <tr>\n",
       "      <th>2</th>\n",
       "      <td>0</td>\n",
       "      <td>CENCOSUD S.A.</td>\n",
       "      <td>1</td>\n",
       "      <td>0</td>\n",
       "      <td>37.0</td>\n",
       "      <td>Cant. Sit 1 Titular</td>\n",
       "      <td>2.004401e+10</td>\n",
       "      <td>4400871</td>\n",
       "      <td>AD</td>\n",
       "      <td>BCRA</td>\n",
       "      <td>2021-03-10 11:43:45.826406</td>\n",
       "      <td>LE  4400871</td>\n",
       "      <td>FRANCES_2012</td>\n",
       "      <td>LE</td>\n",
       "    </tr>\n",
       "    <tr>\n",
       "      <th>3</th>\n",
       "      <td>0</td>\n",
       "      <td>BANCO PIANO S.A.</td>\n",
       "      <td>1</td>\n",
       "      <td>0</td>\n",
       "      <td>19.0</td>\n",
       "      <td>Cant. Sit 1 Titular</td>\n",
       "      <td>2.004401e+10</td>\n",
       "      <td>4400871</td>\n",
       "      <td>AD</td>\n",
       "      <td>BCRA</td>\n",
       "      <td>2021-03-10 11:43:45.826406</td>\n",
       "      <td>LE  4400871</td>\n",
       "      <td>FRANCES_2012</td>\n",
       "      <td>LE</td>\n",
       "    </tr>\n",
       "    <tr>\n",
       "      <th>4</th>\n",
       "      <td>0</td>\n",
       "      <td>NaN</td>\n",
       "      <td>4</td>\n",
       "      <td>0</td>\n",
       "      <td>NaN</td>\n",
       "      <td>Cant. Sit 4 Titular</td>\n",
       "      <td>2.004401e+10</td>\n",
       "      <td>4400871</td>\n",
       "      <td>AD</td>\n",
       "      <td>BCRA</td>\n",
       "      <td>2021-03-10 11:43:45.826406</td>\n",
       "      <td>LE  4400871</td>\n",
       "      <td>FRANCES_2012</td>\n",
       "      <td>LE</td>\n",
       "    </tr>\n",
       "  </tbody>\n",
       "</table>\n",
       "</div>"
      ],
      "text/plain": [
       "   index_left                                   BANCO SITUACION  index_right  \\\n",
       "0           0  BANCO DE GALICIA Y BUENOS AIRES S.A.U.         1            0   \n",
       "1           0               BANCO BBVA ARGENTINA S.A.         1            0   \n",
       "2           0                           CENCOSUD S.A.         1            0   \n",
       "3           0                        BANCO PIANO S.A.         1            0   \n",
       "4           0                                     NaN         4            0   \n",
       "\n",
       "   MONTO      Situacion_right          Cuil  NRO_DOC PROVEEDOR FUENTE  \\\n",
       "0   41.0  Cant. Sit 1 Titular  2.004401e+10  4400871        AD   BCRA   \n",
       "1   40.0  Cant. Sit 1 Titular  2.004401e+10  4400871        AD   BCRA   \n",
       "2   37.0  Cant. Sit 1 Titular  2.004401e+10  4400871        AD   BCRA   \n",
       "3   19.0  Cant. Sit 1 Titular  2.004401e+10  4400871        AD   BCRA   \n",
       "4    NaN  Cant. Sit 4 Titular  2.004401e+10  4400871        AD   BCRA   \n",
       "\n",
       "               FECHA_INGRESO     IDMOROSO     IDCLIENTE TIPO_DOC  \n",
       "0 2021-03-10 11:43:45.826406  LE  4400871  FRANCES_2012       LE  \n",
       "1 2021-03-10 11:43:45.826406  LE  4400871  FRANCES_2012       LE  \n",
       "2 2021-03-10 11:43:45.826406  LE  4400871  FRANCES_2012       LE  \n",
       "3 2021-03-10 11:43:45.826406  LE  4400871  FRANCES_2012       LE  \n",
       "4 2021-03-10 11:43:45.826406  LE  4400871  FRANCES_2012       LE  "
      ]
     },
     "execution_count": 80,
     "metadata": {},
     "output_type": "execute_result"
    }
   ],
   "source": [
    "df_union.head()"
   ]
  },
  {
   "cell_type": "markdown",
   "metadata": {},
   "source": [
    "# Columna Período"
   ]
  },
  {
   "cell_type": "markdown",
   "metadata": {},
   "source": [
    "Como PyP no nos devuelve el período, lo dejamos en nulo"
   ]
  },
  {
   "cell_type": "code",
   "execution_count": 81,
   "metadata": {},
   "outputs": [],
   "source": [
    "df_union = df_union.assign(PERIODO=np.nan)"
   ]
  },
  {
   "cell_type": "markdown",
   "metadata": {},
   "source": [
    "# Final Drop"
   ]
  },
  {
   "cell_type": "markdown",
   "metadata": {},
   "source": [
    "Dropeamos los que no tengan nada en entidad:"
   ]
  },
  {
   "cell_type": "code",
   "execution_count": 82,
   "metadata": {},
   "outputs": [],
   "source": [
    "df_union = df_union.dropna(subset=['BANCO'])"
   ]
  },
  {
   "cell_type": "code",
   "execution_count": 83,
   "metadata": {},
   "outputs": [
    {
     "data": {
      "text/plain": [
       "(272, 15)"
      ]
     },
     "execution_count": 83,
     "metadata": {},
     "output_type": "execute_result"
    }
   ],
   "source": [
    "df_union.shape"
   ]
  },
  {
   "cell_type": "markdown",
   "metadata": {},
   "source": [
    "# 14) Export"
   ]
  },
  {
   "cell_type": "markdown",
   "metadata": {},
   "source": [
    "Renombramos, dropeamos y reordenamos las columnas"
   ]
  },
  {
   "cell_type": "code",
   "execution_count": 84,
   "metadata": {
    "scrolled": true
   },
   "outputs": [],
   "source": [
    "df_export = df_union[['IDMOROSO', 'FUENTE','BANCO','SITUACION','PERIODO','MONTO','FECHA_INGRESO','PROVEEDOR']]"
   ]
  },
  {
   "cell_type": "code",
   "execution_count": 85,
   "metadata": {},
   "outputs": [
    {
     "data": {
      "text/html": [
       "<div>\n",
       "<style scoped>\n",
       "    .dataframe tbody tr th:only-of-type {\n",
       "        vertical-align: middle;\n",
       "    }\n",
       "\n",
       "    .dataframe tbody tr th {\n",
       "        vertical-align: top;\n",
       "    }\n",
       "\n",
       "    .dataframe thead th {\n",
       "        text-align: right;\n",
       "    }\n",
       "</style>\n",
       "<table border=\"1\" class=\"dataframe\">\n",
       "  <thead>\n",
       "    <tr style=\"text-align: right;\">\n",
       "      <th></th>\n",
       "      <th>IDMOROSO</th>\n",
       "      <th>FUENTE</th>\n",
       "      <th>BANCO</th>\n",
       "      <th>SITUACION</th>\n",
       "      <th>PERIODO</th>\n",
       "      <th>MONTO</th>\n",
       "      <th>FECHA_INGRESO</th>\n",
       "      <th>PROVEEDOR</th>\n",
       "    </tr>\n",
       "  </thead>\n",
       "  <tbody>\n",
       "    <tr>\n",
       "      <th>0</th>\n",
       "      <td>LE  4400871</td>\n",
       "      <td>BCRA</td>\n",
       "      <td>BANCO DE GALICIA Y BUENOS AIRES S.A.U.</td>\n",
       "      <td>1</td>\n",
       "      <td>NaN</td>\n",
       "      <td>41.0</td>\n",
       "      <td>2021-03-10 11:43:45.826406</td>\n",
       "      <td>AD</td>\n",
       "    </tr>\n",
       "    <tr>\n",
       "      <th>1</th>\n",
       "      <td>LE  4400871</td>\n",
       "      <td>BCRA</td>\n",
       "      <td>BANCO BBVA ARGENTINA S.A.</td>\n",
       "      <td>1</td>\n",
       "      <td>NaN</td>\n",
       "      <td>40.0</td>\n",
       "      <td>2021-03-10 11:43:45.826406</td>\n",
       "      <td>AD</td>\n",
       "    </tr>\n",
       "    <tr>\n",
       "      <th>2</th>\n",
       "      <td>LE  4400871</td>\n",
       "      <td>BCRA</td>\n",
       "      <td>CENCOSUD S.A.</td>\n",
       "      <td>1</td>\n",
       "      <td>NaN</td>\n",
       "      <td>37.0</td>\n",
       "      <td>2021-03-10 11:43:45.826406</td>\n",
       "      <td>AD</td>\n",
       "    </tr>\n",
       "    <tr>\n",
       "      <th>3</th>\n",
       "      <td>LE  4400871</td>\n",
       "      <td>BCRA</td>\n",
       "      <td>BANCO PIANO S.A.</td>\n",
       "      <td>1</td>\n",
       "      <td>NaN</td>\n",
       "      <td>19.0</td>\n",
       "      <td>2021-03-10 11:43:45.826406</td>\n",
       "      <td>AD</td>\n",
       "    </tr>\n",
       "    <tr>\n",
       "      <th>5</th>\n",
       "      <td>LE  6331345</td>\n",
       "      <td>BCRA</td>\n",
       "      <td>BANCO BBVA ARGENTINA S.A.</td>\n",
       "      <td>3</td>\n",
       "      <td>NaN</td>\n",
       "      <td>36.0</td>\n",
       "      <td>2021-03-10 11:43:45.826406</td>\n",
       "      <td>AD</td>\n",
       "    </tr>\n",
       "  </tbody>\n",
       "</table>\n",
       "</div>"
      ],
      "text/plain": [
       "      IDMOROSO FUENTE                                   BANCO SITUACION  \\\n",
       "0  LE  4400871   BCRA  BANCO DE GALICIA Y BUENOS AIRES S.A.U.         1   \n",
       "1  LE  4400871   BCRA               BANCO BBVA ARGENTINA S.A.         1   \n",
       "2  LE  4400871   BCRA                           CENCOSUD S.A.         1   \n",
       "3  LE  4400871   BCRA                        BANCO PIANO S.A.         1   \n",
       "5  LE  6331345   BCRA               BANCO BBVA ARGENTINA S.A.         3   \n",
       "\n",
       "   PERIODO  MONTO              FECHA_INGRESO PROVEEDOR  \n",
       "0      NaN   41.0 2021-03-10 11:43:45.826406        AD  \n",
       "1      NaN   40.0 2021-03-10 11:43:45.826406        AD  \n",
       "2      NaN   37.0 2021-03-10 11:43:45.826406        AD  \n",
       "3      NaN   19.0 2021-03-10 11:43:45.826406        AD  \n",
       "5      NaN   36.0 2021-03-10 11:43:45.826406        AD  "
      ]
     },
     "execution_count": 85,
     "metadata": {},
     "output_type": "execute_result"
    }
   ],
   "source": [
    "df_export.head()"
   ]
  },
  {
   "cell_type": "code",
   "execution_count": 86,
   "metadata": {},
   "outputs": [
    {
     "data": {
      "text/plain": [
       "(272, 8)"
      ]
     },
     "execution_count": 86,
     "metadata": {},
     "output_type": "execute_result"
    }
   ],
   "source": [
    "df_export.shape"
   ]
  },
  {
   "cell_type": "markdown",
   "metadata": {},
   "source": [
    "Revisamos y dropeamos filas duplicadas"
   ]
  },
  {
   "cell_type": "code",
   "execution_count": 87,
   "metadata": {},
   "outputs": [],
   "source": [
    "df_duplicates = df_export[df_export.duplicated(keep=False)]"
   ]
  },
  {
   "cell_type": "code",
   "execution_count": 88,
   "metadata": {},
   "outputs": [
    {
     "data": {
      "text/plain": [
       "(0, 8)"
      ]
     },
     "execution_count": 88,
     "metadata": {},
     "output_type": "execute_result"
    }
   ],
   "source": [
    "df_duplicates.shape"
   ]
  },
  {
   "cell_type": "code",
   "execution_count": 89,
   "metadata": {},
   "outputs": [],
   "source": [
    "#df_duplicates.to_excel('deudas_duplicates.xlsx')"
   ]
  },
  {
   "cell_type": "code",
   "execution_count": 90,
   "metadata": {},
   "outputs": [],
   "source": [
    "df_export = df_export.drop_duplicates()"
   ]
  },
  {
   "cell_type": "code",
   "execution_count": 91,
   "metadata": {
    "scrolled": true
   },
   "outputs": [
    {
     "data": {
      "text/plain": [
       "(272, 8)"
      ]
     },
     "execution_count": 91,
     "metadata": {},
     "output_type": "execute_result"
    }
   ],
   "source": [
    "df_export.shape"
   ]
  },
  {
   "cell_type": "markdown",
   "metadata": {},
   "source": [
    "### Monto * 1000"
   ]
  },
  {
   "cell_type": "code",
   "execution_count": 92,
   "metadata": {},
   "outputs": [],
   "source": [
    "df_export['MONTO'] *= 1000"
   ]
  },
  {
   "cell_type": "code",
   "execution_count": 93,
   "metadata": {
    "scrolled": true
   },
   "outputs": [
    {
     "data": {
      "text/html": [
       "<div>\n",
       "<style scoped>\n",
       "    .dataframe tbody tr th:only-of-type {\n",
       "        vertical-align: middle;\n",
       "    }\n",
       "\n",
       "    .dataframe tbody tr th {\n",
       "        vertical-align: top;\n",
       "    }\n",
       "\n",
       "    .dataframe thead th {\n",
       "        text-align: right;\n",
       "    }\n",
       "</style>\n",
       "<table border=\"1\" class=\"dataframe\">\n",
       "  <thead>\n",
       "    <tr style=\"text-align: right;\">\n",
       "      <th></th>\n",
       "      <th>IDMOROSO</th>\n",
       "      <th>FUENTE</th>\n",
       "      <th>BANCO</th>\n",
       "      <th>SITUACION</th>\n",
       "      <th>PERIODO</th>\n",
       "      <th>MONTO</th>\n",
       "      <th>FECHA_INGRESO</th>\n",
       "      <th>PROVEEDOR</th>\n",
       "    </tr>\n",
       "  </thead>\n",
       "  <tbody>\n",
       "    <tr>\n",
       "      <th>0</th>\n",
       "      <td>LE  4400871</td>\n",
       "      <td>BCRA</td>\n",
       "      <td>BANCO DE GALICIA Y BUENOS AIRES S.A.U.</td>\n",
       "      <td>1</td>\n",
       "      <td>NaN</td>\n",
       "      <td>41000.0</td>\n",
       "      <td>2021-03-10 11:43:45.826406</td>\n",
       "      <td>AD</td>\n",
       "    </tr>\n",
       "    <tr>\n",
       "      <th>1</th>\n",
       "      <td>LE  4400871</td>\n",
       "      <td>BCRA</td>\n",
       "      <td>BANCO BBVA ARGENTINA S.A.</td>\n",
       "      <td>1</td>\n",
       "      <td>NaN</td>\n",
       "      <td>40000.0</td>\n",
       "      <td>2021-03-10 11:43:45.826406</td>\n",
       "      <td>AD</td>\n",
       "    </tr>\n",
       "    <tr>\n",
       "      <th>2</th>\n",
       "      <td>LE  4400871</td>\n",
       "      <td>BCRA</td>\n",
       "      <td>CENCOSUD S.A.</td>\n",
       "      <td>1</td>\n",
       "      <td>NaN</td>\n",
       "      <td>37000.0</td>\n",
       "      <td>2021-03-10 11:43:45.826406</td>\n",
       "      <td>AD</td>\n",
       "    </tr>\n",
       "    <tr>\n",
       "      <th>3</th>\n",
       "      <td>LE  4400871</td>\n",
       "      <td>BCRA</td>\n",
       "      <td>BANCO PIANO S.A.</td>\n",
       "      <td>1</td>\n",
       "      <td>NaN</td>\n",
       "      <td>19000.0</td>\n",
       "      <td>2021-03-10 11:43:45.826406</td>\n",
       "      <td>AD</td>\n",
       "    </tr>\n",
       "    <tr>\n",
       "      <th>5</th>\n",
       "      <td>LE  6331345</td>\n",
       "      <td>BCRA</td>\n",
       "      <td>BANCO BBVA ARGENTINA S.A.</td>\n",
       "      <td>3</td>\n",
       "      <td>NaN</td>\n",
       "      <td>36000.0</td>\n",
       "      <td>2021-03-10 11:43:45.826406</td>\n",
       "      <td>AD</td>\n",
       "    </tr>\n",
       "  </tbody>\n",
       "</table>\n",
       "</div>"
      ],
      "text/plain": [
       "      IDMOROSO FUENTE                                   BANCO SITUACION  \\\n",
       "0  LE  4400871   BCRA  BANCO DE GALICIA Y BUENOS AIRES S.A.U.         1   \n",
       "1  LE  4400871   BCRA               BANCO BBVA ARGENTINA S.A.         1   \n",
       "2  LE  4400871   BCRA                           CENCOSUD S.A.         1   \n",
       "3  LE  4400871   BCRA                        BANCO PIANO S.A.         1   \n",
       "5  LE  6331345   BCRA               BANCO BBVA ARGENTINA S.A.         3   \n",
       "\n",
       "   PERIODO    MONTO              FECHA_INGRESO PROVEEDOR  \n",
       "0      NaN  41000.0 2021-03-10 11:43:45.826406        AD  \n",
       "1      NaN  40000.0 2021-03-10 11:43:45.826406        AD  \n",
       "2      NaN  37000.0 2021-03-10 11:43:45.826406        AD  \n",
       "3      NaN  19000.0 2021-03-10 11:43:45.826406        AD  \n",
       "5      NaN  36000.0 2021-03-10 11:43:45.826406        AD  "
      ]
     },
     "execution_count": 93,
     "metadata": {},
     "output_type": "execute_result"
    }
   ],
   "source": [
    "df_export.head()"
   ]
  },
  {
   "cell_type": "code",
   "execution_count": 94,
   "metadata": {},
   "outputs": [
    {
     "data": {
      "text/html": [
       "<div>\n",
       "<style scoped>\n",
       "    .dataframe tbody tr th:only-of-type {\n",
       "        vertical-align: middle;\n",
       "    }\n",
       "\n",
       "    .dataframe tbody tr th {\n",
       "        vertical-align: top;\n",
       "    }\n",
       "\n",
       "    .dataframe thead th {\n",
       "        text-align: right;\n",
       "    }\n",
       "</style>\n",
       "<table border=\"1\" class=\"dataframe\">\n",
       "  <thead>\n",
       "    <tr style=\"text-align: right;\">\n",
       "      <th></th>\n",
       "      <th>IDMOROSO</th>\n",
       "      <th>FUENTE</th>\n",
       "      <th>BANCO</th>\n",
       "      <th>SITUACION</th>\n",
       "      <th>PERIODO</th>\n",
       "      <th>MONTO</th>\n",
       "      <th>FECHA_INGRESO</th>\n",
       "      <th>PROVEEDOR</th>\n",
       "    </tr>\n",
       "  </thead>\n",
       "  <tbody>\n",
       "    <tr>\n",
       "      <th>273</th>\n",
       "      <td>DNIE95281483</td>\n",
       "      <td>BCRA</td>\n",
       "      <td>BANCO BBVA ARGENTINA S.A.</td>\n",
       "      <td>5</td>\n",
       "      <td>NaN</td>\n",
       "      <td>0.0</td>\n",
       "      <td>2021-03-10 11:43:45.826406</td>\n",
       "      <td>AD</td>\n",
       "    </tr>\n",
       "    <tr>\n",
       "      <th>274</th>\n",
       "      <td>DNIE95369731</td>\n",
       "      <td>BCRA</td>\n",
       "      <td>BANCO BBVA ARGENTINA S.A.</td>\n",
       "      <td>1</td>\n",
       "      <td>NaN</td>\n",
       "      <td>4000.0</td>\n",
       "      <td>2021-03-10 11:43:45.826406</td>\n",
       "      <td>AD</td>\n",
       "    </tr>\n",
       "    <tr>\n",
       "      <th>275</th>\n",
       "      <td>DNIE95546088</td>\n",
       "      <td>BCRA</td>\n",
       "      <td>BANCO BBVA ARGENTINA S.A.</td>\n",
       "      <td>3</td>\n",
       "      <td>NaN</td>\n",
       "      <td>84000.0</td>\n",
       "      <td>2021-03-10 11:43:45.826406</td>\n",
       "      <td>AD</td>\n",
       "    </tr>\n",
       "    <tr>\n",
       "      <th>276</th>\n",
       "      <td>DNIE95579055</td>\n",
       "      <td>BCRA</td>\n",
       "      <td>BANCO BBVA ARGENTINA S.A.</td>\n",
       "      <td>3</td>\n",
       "      <td>NaN</td>\n",
       "      <td>129000.0</td>\n",
       "      <td>2021-03-10 11:43:45.826406</td>\n",
       "      <td>AD</td>\n",
       "    </tr>\n",
       "    <tr>\n",
       "      <th>277</th>\n",
       "      <td>DNIE95683304</td>\n",
       "      <td>BCRA</td>\n",
       "      <td>BANCO BBVA ARGENTINA S.A.</td>\n",
       "      <td>4</td>\n",
       "      <td>NaN</td>\n",
       "      <td>5000.0</td>\n",
       "      <td>2021-03-10 11:43:45.826406</td>\n",
       "      <td>AD</td>\n",
       "    </tr>\n",
       "  </tbody>\n",
       "</table>\n",
       "</div>"
      ],
      "text/plain": [
       "         IDMOROSO FUENTE                      BANCO SITUACION  PERIODO  \\\n",
       "273  DNIE95281483   BCRA  BANCO BBVA ARGENTINA S.A.         5      NaN   \n",
       "274  DNIE95369731   BCRA  BANCO BBVA ARGENTINA S.A.         1      NaN   \n",
       "275  DNIE95546088   BCRA  BANCO BBVA ARGENTINA S.A.         3      NaN   \n",
       "276  DNIE95579055   BCRA  BANCO BBVA ARGENTINA S.A.         3      NaN   \n",
       "277  DNIE95683304   BCRA  BANCO BBVA ARGENTINA S.A.         4      NaN   \n",
       "\n",
       "        MONTO              FECHA_INGRESO PROVEEDOR  \n",
       "273       0.0 2021-03-10 11:43:45.826406        AD  \n",
       "274    4000.0 2021-03-10 11:43:45.826406        AD  \n",
       "275   84000.0 2021-03-10 11:43:45.826406        AD  \n",
       "276  129000.0 2021-03-10 11:43:45.826406        AD  \n",
       "277    5000.0 2021-03-10 11:43:45.826406        AD  "
      ]
     },
     "execution_count": 94,
     "metadata": {},
     "output_type": "execute_result"
    }
   ],
   "source": [
    "df_export.tail()"
   ]
  },
  {
   "cell_type": "markdown",
   "metadata": {},
   "source": [
    "## 14.1) Export de dataframe + IDCLIENTE para análisis"
   ]
  },
  {
   "cell_type": "code",
   "execution_count": 95,
   "metadata": {},
   "outputs": [],
   "source": [
    "#df_union.to_excel('/mnt/c/Users/Dleg/Data/MOPC/MOPC/Enriquecimiento de Datos/Data Cleaning/PyP/Exports/Deudas para analisis/PyP_deudas_1401.xlsx')\n",
    "#df_union.to_csv('/mnt/c/Users/Dleg/Data/MOPC/MOPC/Enriquecimiento de Datos/Data Cleaning/PyP/Exports/Deudas para analisis/PyP_deudas_1401.csv')"
   ]
  },
  {
   "cell_type": "markdown",
   "metadata": {},
   "source": [
    "## 14.2) Insert a tabla DAM_DEUDAS:"
   ]
  },
  {
   "cell_type": "code",
   "execution_count": 96,
   "metadata": {},
   "outputs": [],
   "source": [
    "df_export.to_csv('/mnt/c/Users/Dleg/Data/MOPC/MOPC/Enriquecimiento de Datos/Data Cleaning/Insiders/Exports/DAM_DEUDAS/Insiders_DAM_DEUDAS_0903.csv', encoding = 'utf-8-sig',index=False)"
   ]
  },
  {
   "cell_type": "code",
   "execution_count": 97,
   "metadata": {},
   "outputs": [
    {
     "data": {
      "text/plain": [
       "IDMOROSO                                    LE  4400871\n",
       "FUENTE                                             BCRA\n",
       "BANCO            BANCO DE GALICIA Y BUENOS AIRES S.A.U.\n",
       "SITUACION                                             1\n",
       "PERIODO                                             NaN\n",
       "MONTO                                           41000.0\n",
       "FECHA_INGRESO                2021-03-10 11:43:45.826406\n",
       "PROVEEDOR                                            AD\n",
       "Name: 0, dtype: object"
      ]
     },
     "execution_count": 97,
     "metadata": {},
     "output_type": "execute_result"
    }
   ],
   "source": [
    "df_export.loc[0,:]"
   ]
  },
  {
   "cell_type": "code",
   "execution_count": null,
   "metadata": {},
   "outputs": [],
   "source": []
  }
 ],
 "metadata": {
  "kernelspec": {
   "display_name": "Python 3",
   "language": "python",
   "name": "python3"
  },
  "language_info": {
   "codemirror_mode": {
    "name": "ipython",
    "version": 3
   },
   "file_extension": ".py",
   "mimetype": "text/x-python",
   "name": "python",
   "nbconvert_exporter": "python",
   "pygments_lexer": "ipython3",
   "version": "3.8.6"
  }
 },
 "nbformat": 4,
 "nbformat_minor": 4
}
