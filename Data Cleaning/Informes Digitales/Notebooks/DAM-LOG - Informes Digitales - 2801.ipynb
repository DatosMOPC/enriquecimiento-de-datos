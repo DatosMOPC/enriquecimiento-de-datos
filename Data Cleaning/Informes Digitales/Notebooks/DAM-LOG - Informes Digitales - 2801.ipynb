{
 "cells": [
  {
   "cell_type": "code",
   "execution_count": 1,
   "metadata": {},
   "outputs": [],
   "source": [
    "import pandas as pd\n",
    "import numpy as np"
   ]
  },
  {
   "cell_type": "markdown",
   "metadata": {},
   "source": [
    "# LOG"
   ]
  },
  {
   "cell_type": "markdown",
   "metadata": {},
   "source": [
    "# 1. Datos enviados"
   ]
  },
  {
   "cell_type": "code",
   "execution_count": 2,
   "metadata": {},
   "outputs": [],
   "source": [
    "df_log = pd.read_excel('/mnt/c/Users/Dleg/Data/MOPC/MOPC/Enriquecimiento de Datos/Data Cleaning/Informes Digitales/Datasets/Datos Enviados/Informes_Digitales_0120_Estados.xlsx')"
   ]
  },
  {
   "cell_type": "code",
   "execution_count": 3,
   "metadata": {
    "scrolled": true
   },
   "outputs": [
    {
     "data": {
      "text/html": [
       "<div>\n",
       "<style scoped>\n",
       "    .dataframe tbody tr th:only-of-type {\n",
       "        vertical-align: middle;\n",
       "    }\n",
       "\n",
       "    .dataframe tbody tr th {\n",
       "        vertical-align: top;\n",
       "    }\n",
       "\n",
       "    .dataframe thead th {\n",
       "        text-align: right;\n",
       "    }\n",
       "</style>\n",
       "<table border=\"1\" class=\"dataframe\">\n",
       "  <thead>\n",
       "    <tr style=\"text-align: right;\">\n",
       "      <th></th>\n",
       "      <th>IDMOROSO</th>\n",
       "      <th>NOMBRE</th>\n",
       "      <th>IDCLIENTE</th>\n",
       "      <th>ESTADO</th>\n",
       "    </tr>\n",
       "  </thead>\n",
       "  <tbody>\n",
       "    <tr>\n",
       "      <th>0</th>\n",
       "      <td>DNI 37966797</td>\n",
       "      <td>GARCIA DAIANA MARICEL</td>\n",
       "      <td>FRANCES_2012</td>\n",
       "      <td>ASIGNADO</td>\n",
       "    </tr>\n",
       "    <tr>\n",
       "      <th>1</th>\n",
       "      <td>DNI 35170607</td>\n",
       "      <td>FERREYRA PABLO</td>\n",
       "      <td>FRANCES_2012</td>\n",
       "      <td>ASIGNADO</td>\n",
       "    </tr>\n",
       "    <tr>\n",
       "      <th>2</th>\n",
       "      <td>DNI 41245032</td>\n",
       "      <td>MARTINEZ SOLANGE NATALI</td>\n",
       "      <td>FRANCES_2012</td>\n",
       "      <td>ASIGNADO</td>\n",
       "    </tr>\n",
       "    <tr>\n",
       "      <th>3</th>\n",
       "      <td>DNI 41327214</td>\n",
       "      <td>SZKATULAK PAULA</td>\n",
       "      <td>FRANCES_2012</td>\n",
       "      <td>INTERESADO</td>\n",
       "    </tr>\n",
       "    <tr>\n",
       "      <th>4</th>\n",
       "      <td>DNI 41546687</td>\n",
       "      <td>MENDEZ CARLOS ALBERTO</td>\n",
       "      <td>FRANCES_2012</td>\n",
       "      <td>ASIGNADO</td>\n",
       "    </tr>\n",
       "  </tbody>\n",
       "</table>\n",
       "</div>"
      ],
      "text/plain": [
       "             IDMOROSO                                    NOMBRE  \\\n",
       "0  DNI 37966797        GARCIA DAIANA MARICEL                      \n",
       "1  DNI 35170607        FERREYRA PABLO                             \n",
       "2  DNI 41245032        MARTINEZ SOLANGE NATALI                    \n",
       "3  DNI 41327214        SZKATULAK PAULA                            \n",
       "4  DNI 41546687        MENDEZ CARLOS ALBERTO                      \n",
       "\n",
       "              IDCLIENTE                ESTADO  \n",
       "0  FRANCES_2012          ASIGNADO              \n",
       "1  FRANCES_2012          ASIGNADO              \n",
       "2  FRANCES_2012          ASIGNADO              \n",
       "3  FRANCES_2012          INTERESADO            \n",
       "4  FRANCES_2012          ASIGNADO              "
      ]
     },
     "execution_count": 3,
     "metadata": {},
     "output_type": "execute_result"
    }
   ],
   "source": [
    "df_log.head()"
   ]
  },
  {
   "cell_type": "code",
   "execution_count": 4,
   "metadata": {},
   "outputs": [],
   "source": [
    "df_log = df_log.rename(columns={\"ESTADO\": \"ESTADO_ANTERIOR\"})"
   ]
  },
  {
   "cell_type": "code",
   "execution_count": 5,
   "metadata": {},
   "outputs": [],
   "source": [
    "#df_log = df_log [['IDMOROSO','IDCLIENTE','DATOADIC','ESTADO_ANTERIOR']]"
   ]
  },
  {
   "cell_type": "code",
   "execution_count": 6,
   "metadata": {},
   "outputs": [],
   "source": [
    "fecha_envio_log = '2021-01-20'"
   ]
  },
  {
   "cell_type": "code",
   "execution_count": 7,
   "metadata": {},
   "outputs": [],
   "source": [
    "fecha_insercion_log = '2021-01-26'"
   ]
  },
  {
   "cell_type": "code",
   "execution_count": 8,
   "metadata": {},
   "outputs": [],
   "source": [
    "fecha_estados_log = '2021-01-26'"
   ]
  },
  {
   "cell_type": "code",
   "execution_count": 9,
   "metadata": {},
   "outputs": [],
   "source": [
    "df_log = df_log.assign(FECHA_ENVIO_ENRIQUECIMIENTO=fecha_envio_log)"
   ]
  },
  {
   "cell_type": "code",
   "execution_count": 10,
   "metadata": {},
   "outputs": [],
   "source": [
    "df_log = df_log.assign(FECHA_INSERCION_DATO=fecha_insercion_log)"
   ]
  },
  {
   "cell_type": "code",
   "execution_count": 11,
   "metadata": {},
   "outputs": [],
   "source": [
    "df_log = df_log.assign(FECHA_CAMBIO_ESTADO=fecha_estados_log)"
   ]
  },
  {
   "cell_type": "code",
   "execution_count": 12,
   "metadata": {
    "scrolled": true
   },
   "outputs": [
    {
     "data": {
      "text/html": [
       "<div>\n",
       "<style scoped>\n",
       "    .dataframe tbody tr th:only-of-type {\n",
       "        vertical-align: middle;\n",
       "    }\n",
       "\n",
       "    .dataframe tbody tr th {\n",
       "        vertical-align: top;\n",
       "    }\n",
       "\n",
       "    .dataframe thead th {\n",
       "        text-align: right;\n",
       "    }\n",
       "</style>\n",
       "<table border=\"1\" class=\"dataframe\">\n",
       "  <thead>\n",
       "    <tr style=\"text-align: right;\">\n",
       "      <th></th>\n",
       "      <th>IDMOROSO</th>\n",
       "      <th>NOMBRE</th>\n",
       "      <th>IDCLIENTE</th>\n",
       "      <th>ESTADO_ANTERIOR</th>\n",
       "      <th>FECHA_ENVIO_ENRIQUECIMIENTO</th>\n",
       "      <th>FECHA_INSERCION_DATO</th>\n",
       "      <th>FECHA_CAMBIO_ESTADO</th>\n",
       "    </tr>\n",
       "  </thead>\n",
       "  <tbody>\n",
       "    <tr>\n",
       "      <th>0</th>\n",
       "      <td>DNI 37966797</td>\n",
       "      <td>GARCIA DAIANA MARICEL</td>\n",
       "      <td>FRANCES_2012</td>\n",
       "      <td>ASIGNADO</td>\n",
       "      <td>2021-01-20</td>\n",
       "      <td>2021-01-26</td>\n",
       "      <td>2021-01-26</td>\n",
       "    </tr>\n",
       "    <tr>\n",
       "      <th>1</th>\n",
       "      <td>DNI 35170607</td>\n",
       "      <td>FERREYRA PABLO</td>\n",
       "      <td>FRANCES_2012</td>\n",
       "      <td>ASIGNADO</td>\n",
       "      <td>2021-01-20</td>\n",
       "      <td>2021-01-26</td>\n",
       "      <td>2021-01-26</td>\n",
       "    </tr>\n",
       "    <tr>\n",
       "      <th>2</th>\n",
       "      <td>DNI 41245032</td>\n",
       "      <td>MARTINEZ SOLANGE NATALI</td>\n",
       "      <td>FRANCES_2012</td>\n",
       "      <td>ASIGNADO</td>\n",
       "      <td>2021-01-20</td>\n",
       "      <td>2021-01-26</td>\n",
       "      <td>2021-01-26</td>\n",
       "    </tr>\n",
       "    <tr>\n",
       "      <th>3</th>\n",
       "      <td>DNI 41327214</td>\n",
       "      <td>SZKATULAK PAULA</td>\n",
       "      <td>FRANCES_2012</td>\n",
       "      <td>INTERESADO</td>\n",
       "      <td>2021-01-20</td>\n",
       "      <td>2021-01-26</td>\n",
       "      <td>2021-01-26</td>\n",
       "    </tr>\n",
       "    <tr>\n",
       "      <th>4</th>\n",
       "      <td>DNI 41546687</td>\n",
       "      <td>MENDEZ CARLOS ALBERTO</td>\n",
       "      <td>FRANCES_2012</td>\n",
       "      <td>ASIGNADO</td>\n",
       "      <td>2021-01-20</td>\n",
       "      <td>2021-01-26</td>\n",
       "      <td>2021-01-26</td>\n",
       "    </tr>\n",
       "  </tbody>\n",
       "</table>\n",
       "</div>"
      ],
      "text/plain": [
       "             IDMOROSO                                    NOMBRE  \\\n",
       "0  DNI 37966797        GARCIA DAIANA MARICEL                      \n",
       "1  DNI 35170607        FERREYRA PABLO                             \n",
       "2  DNI 41245032        MARTINEZ SOLANGE NATALI                    \n",
       "3  DNI 41327214        SZKATULAK PAULA                            \n",
       "4  DNI 41546687        MENDEZ CARLOS ALBERTO                      \n",
       "\n",
       "              IDCLIENTE       ESTADO_ANTERIOR FECHA_ENVIO_ENRIQUECIMIENTO  \\\n",
       "0  FRANCES_2012          ASIGNADO                              2021-01-20   \n",
       "1  FRANCES_2012          ASIGNADO                              2021-01-20   \n",
       "2  FRANCES_2012          ASIGNADO                              2021-01-20   \n",
       "3  FRANCES_2012          INTERESADO                            2021-01-20   \n",
       "4  FRANCES_2012          ASIGNADO                              2021-01-20   \n",
       "\n",
       "  FECHA_INSERCION_DATO FECHA_CAMBIO_ESTADO  \n",
       "0           2021-01-26          2021-01-26  \n",
       "1           2021-01-26          2021-01-26  \n",
       "2           2021-01-26          2021-01-26  \n",
       "3           2021-01-26          2021-01-26  \n",
       "4           2021-01-26          2021-01-26  "
      ]
     },
     "execution_count": 12,
     "metadata": {},
     "output_type": "execute_result"
    }
   ],
   "source": [
    "df_log.head()"
   ]
  },
  {
   "cell_type": "code",
   "execution_count": 13,
   "metadata": {},
   "outputs": [],
   "source": [
    "df_log = df_log.assign(PROVEEDOR='INFORMES_DIGITALES')"
   ]
  },
  {
   "cell_type": "code",
   "execution_count": 14,
   "metadata": {},
   "outputs": [],
   "source": [
    "df_log['ESTADO_ANTERIOR'] = [(str(df_log['ESTADO_ANTERIOR'][i]).strip()) for i in range (df_log['ESTADO_ANTERIOR'].count())]"
   ]
  },
  {
   "cell_type": "code",
   "execution_count": 15,
   "metadata": {},
   "outputs": [],
   "source": [
    "df_log.loc[(df_log['ESTADO_ANTERIOR'] == 'INTERESADO') |\n",
    "           (df_log['ESTADO_ANTERIOR'] == 'NO VISTO') |\n",
    "           (df_log['ESTADO_ANTERIOR'] == 'EN GESTION') |\n",
    "           (df_log['ESTADO_ANTERIOR'] == 'ASIGNADO') |\n",
    "           (df_log['ESTADO_ANTERIOR'] == 'ROTACION') |\n",
    "           (df_log['ESTADO_ANTERIOR'] == 'ASIGNADO') |\n",
    "           (df_log['ESTADO_ANTERIOR'] == 'PLAN V') |\n",
    "           (df_log['ESTADO_ANTERIOR'] == 'NO INTERESADO') |\n",
    "           (df_log['ESTADO_ANTERIOR'] == 'ACUERDO CAIDO') |\n",
    "           (df_log['ESTADO_ANTERIOR'] == 'CANCELO_RECHAZADA') \n",
    "           , 'CATEGORIA'] = 'NEUTRO'"
   ]
  },
  {
   "cell_type": "code",
   "execution_count": 16,
   "metadata": {},
   "outputs": [],
   "source": [
    "df_log.loc[(df_log['ESTADO_ANTERIOR'] == 'NO UBICADO') | \n",
    "           (df_log['ESTADO_ANTERIOR'] == 'SKIP LEVEL') |\n",
    "           (df_log['ESTADO_ANTERIOR'] == 'SKIP LEVEL 1') |\n",
    "           (df_log['ESTADO_ANTERIOR'] == 'SKIP LEVEL 1 OK') |\n",
    "           (df_log['ESTADO_ANTERIOR'] == 'SKIP LEVEL 2') |\n",
    "           (df_log['ESTADO_ANTERIOR'] == 'SKIP LEVEL 3') |\n",
    "           (df_log['ESTADO_ANTERIOR'] == 'SKIP LEVEL 3 OK') |\n",
    "           (df_log['ESTADO_ANTERIOR'] == 'SKIP LEVEL3 OK') |\n",
    "           (df_log['ESTADO_ANTERIOR'] == 'SKIP LEVEL1 OK') |\n",
    "           (df_log['ESTADO_ANTERIOR'] == 'SKIP LEVEL1') |\n",
    "           (df_log['ESTADO_ANTERIOR'] == 'NO_VISTO_CONTACTABLE') |\n",
    "           (df_log['ESTADO_ANTERIOR'] == 'NO_VISTO_MASIVO') \n",
    "           , 'CATEGORIA'] = 'NEGATIVO POR CONTACTABILIDAD'"
   ]
  },
  {
   "cell_type": "code",
   "execution_count": 17,
   "metadata": {},
   "outputs": [],
   "source": [
    "df_log.loc[(df_log['ESTADO_ANTERIOR'] == 'PAGO PARCIAL') | \n",
    "           (df_log['ESTADO_ANTERIOR'] == 'PLAN DE PAGOS') |\n",
    "           (df_log['ESTADO_ANTERIOR'] == 'POSIBLE REFI') |\n",
    "           (df_log['ESTADO_ANTERIOR'] == 'REFINANCIACION') |\n",
    "           (df_log['ESTADO_ANTERIOR'] == 'PROPUESTA') |\n",
    "           (df_log['ESTADO_ANTERIOR'] == 'PROPUESTA OK') |\n",
    "           (df_log['ESTADO_ANTERIOR'] == 'COMPROMISO') |\n",
    "           (df_log['ESTADO_ANTERIOR'] == 'CANCELO') |\n",
    "           (df_log['ESTADO_ANTERIOR'] == 'CANCELO_DEVUELTO') |\n",
    "           (df_log['ESTADO_ANTERIOR'] == 'CANCELO DEVUELTO') |\n",
    "           (df_log['ESTADO_ANTERIOR'] == 'CANCELO FULL') |\n",
    "           (df_log['ESTADO_ANTERIOR'] == 'CANCELO SIN ACP') \n",
    "           , 'CATEGORIA'] = 'POSITIVO CON CAJA'"
   ]
  },
  {
   "cell_type": "code",
   "execution_count": 18,
   "metadata": {},
   "outputs": [],
   "source": [
    "df_log.loc[(df_log['ESTADO_ANTERIOR'] == 'CONVENIO') | \n",
    "           (df_log['ESTADO_ANTERIOR'] == 'CONVENIO QUITA') |\n",
    "           (df_log['ESTADO_ANTERIOR'] == 'NUEVOS CARGOS') |\n",
    "           (df_log['ESTADO_ANTERIOR'] == 'CONVENIO_QUITA') \n",
    "           , 'CATEGORIA'] = 'POSITIVO CON CAJA SOBRE COUTA'"
   ]
  },
  {
   "cell_type": "code",
   "execution_count": 19,
   "metadata": {},
   "outputs": [],
   "source": [
    "df_log.loc[(df_log['ESTADO_ANTERIOR'] == 'PROPUESTA REFI') | \n",
    "           (df_log['ESTADO_ANTERIOR'] == 'REFI ARMADA') |\n",
    "           (df_log['ESTADO_ANTERIOR'] == 'REFI EN TRAMITE') |\n",
    "           (df_log['ESTADO_ANTERIOR'] == 'REFI A LIQUIDAR') \n",
    "           , 'CATEGORIA'] = 'POSITIVO CON CAJA CON REFI PENDIENTE DE LIQUIDACIO'"
   ]
  },
  {
   "cell_type": "code",
   "execution_count": 20,
   "metadata": {},
   "outputs": [],
   "source": [
    "df_log.loc[(df_log['ESTADO_ANTERIOR'] == 'REFI APROBADA') | \n",
    "           (df_log['ESTADO_ANTERIOR'] == 'DEVUELTO/CANCELO CON COBRO DE HONORARIO PENDIENTE')\n",
    "           , 'CATEGORIA'] = 'POSITIVO CON CAJA CON REFI/CANCELACIÓN LIQUIDADA'"
   ]
  },
  {
   "cell_type": "code",
   "execution_count": 21,
   "metadata": {},
   "outputs": [],
   "source": [
    "df_log.loc[(df_log['ESTADO_ANTERIOR'] == 'DEVUELTO') | \n",
    "           (df_log['ESTADO_ANTERIOR'] == 'FALLECIDO') |\n",
    "           (df_log['ESTADO_ANTERIOR'] == 'PROBLEMA') |\n",
    "           (df_log['ESTADO_ANTERIOR'] == 'SALDO INSOLUTO') |\n",
    "           (df_log['ESTADO_ANTERIOR'] == 'NO GESTIONAR') \n",
    "           , 'CATEGORIA'] = 'INACTIVO'"
   ]
  },
  {
   "cell_type": "code",
   "execution_count": 22,
   "metadata": {
    "scrolled": true
   },
   "outputs": [
    {
     "data": {
      "text/plain": [
       "(5322, 9)"
      ]
     },
     "execution_count": 22,
     "metadata": {},
     "output_type": "execute_result"
    }
   ],
   "source": [
    "df_log.shape"
   ]
  },
  {
   "cell_type": "code",
   "execution_count": 23,
   "metadata": {},
   "outputs": [
    {
     "data": {
      "text/html": [
       "<div>\n",
       "<style scoped>\n",
       "    .dataframe tbody tr th:only-of-type {\n",
       "        vertical-align: middle;\n",
       "    }\n",
       "\n",
       "    .dataframe tbody tr th {\n",
       "        vertical-align: top;\n",
       "    }\n",
       "\n",
       "    .dataframe thead th {\n",
       "        text-align: right;\n",
       "    }\n",
       "</style>\n",
       "<table border=\"1\" class=\"dataframe\">\n",
       "  <thead>\n",
       "    <tr style=\"text-align: right;\">\n",
       "      <th></th>\n",
       "      <th>IDMOROSO</th>\n",
       "      <th>NOMBRE</th>\n",
       "      <th>IDCLIENTE</th>\n",
       "      <th>ESTADO_ANTERIOR</th>\n",
       "      <th>FECHA_ENVIO_ENRIQUECIMIENTO</th>\n",
       "      <th>FECHA_INSERCION_DATO</th>\n",
       "      <th>FECHA_CAMBIO_ESTADO</th>\n",
       "      <th>PROVEEDOR</th>\n",
       "      <th>CATEGORIA</th>\n",
       "    </tr>\n",
       "  </thead>\n",
       "  <tbody>\n",
       "    <tr>\n",
       "      <th>0</th>\n",
       "      <td>DNI 37966797</td>\n",
       "      <td>GARCIA DAIANA MARICEL</td>\n",
       "      <td>FRANCES_2012</td>\n",
       "      <td>ASIGNADO</td>\n",
       "      <td>2021-01-20</td>\n",
       "      <td>2021-01-26</td>\n",
       "      <td>2021-01-26</td>\n",
       "      <td>INFORMES_DIGITALES</td>\n",
       "      <td>NEUTRO</td>\n",
       "    </tr>\n",
       "    <tr>\n",
       "      <th>1</th>\n",
       "      <td>DNI 35170607</td>\n",
       "      <td>FERREYRA PABLO</td>\n",
       "      <td>FRANCES_2012</td>\n",
       "      <td>ASIGNADO</td>\n",
       "      <td>2021-01-20</td>\n",
       "      <td>2021-01-26</td>\n",
       "      <td>2021-01-26</td>\n",
       "      <td>INFORMES_DIGITALES</td>\n",
       "      <td>NEUTRO</td>\n",
       "    </tr>\n",
       "    <tr>\n",
       "      <th>2</th>\n",
       "      <td>DNI 41245032</td>\n",
       "      <td>MARTINEZ SOLANGE NATALI</td>\n",
       "      <td>FRANCES_2012</td>\n",
       "      <td>ASIGNADO</td>\n",
       "      <td>2021-01-20</td>\n",
       "      <td>2021-01-26</td>\n",
       "      <td>2021-01-26</td>\n",
       "      <td>INFORMES_DIGITALES</td>\n",
       "      <td>NEUTRO</td>\n",
       "    </tr>\n",
       "    <tr>\n",
       "      <th>3</th>\n",
       "      <td>DNI 41327214</td>\n",
       "      <td>SZKATULAK PAULA</td>\n",
       "      <td>FRANCES_2012</td>\n",
       "      <td>INTERESADO</td>\n",
       "      <td>2021-01-20</td>\n",
       "      <td>2021-01-26</td>\n",
       "      <td>2021-01-26</td>\n",
       "      <td>INFORMES_DIGITALES</td>\n",
       "      <td>NEUTRO</td>\n",
       "    </tr>\n",
       "    <tr>\n",
       "      <th>4</th>\n",
       "      <td>DNI 41546687</td>\n",
       "      <td>MENDEZ CARLOS ALBERTO</td>\n",
       "      <td>FRANCES_2012</td>\n",
       "      <td>ASIGNADO</td>\n",
       "      <td>2021-01-20</td>\n",
       "      <td>2021-01-26</td>\n",
       "      <td>2021-01-26</td>\n",
       "      <td>INFORMES_DIGITALES</td>\n",
       "      <td>NEUTRO</td>\n",
       "    </tr>\n",
       "  </tbody>\n",
       "</table>\n",
       "</div>"
      ],
      "text/plain": [
       "             IDMOROSO                                    NOMBRE  \\\n",
       "0  DNI 37966797        GARCIA DAIANA MARICEL                      \n",
       "1  DNI 35170607        FERREYRA PABLO                             \n",
       "2  DNI 41245032        MARTINEZ SOLANGE NATALI                    \n",
       "3  DNI 41327214        SZKATULAK PAULA                            \n",
       "4  DNI 41546687        MENDEZ CARLOS ALBERTO                      \n",
       "\n",
       "              IDCLIENTE ESTADO_ANTERIOR FECHA_ENVIO_ENRIQUECIMIENTO  \\\n",
       "0  FRANCES_2012                ASIGNADO                  2021-01-20   \n",
       "1  FRANCES_2012                ASIGNADO                  2021-01-20   \n",
       "2  FRANCES_2012                ASIGNADO                  2021-01-20   \n",
       "3  FRANCES_2012              INTERESADO                  2021-01-20   \n",
       "4  FRANCES_2012                ASIGNADO                  2021-01-20   \n",
       "\n",
       "  FECHA_INSERCION_DATO FECHA_CAMBIO_ESTADO           PROVEEDOR CATEGORIA  \n",
       "0           2021-01-26          2021-01-26  INFORMES_DIGITALES    NEUTRO  \n",
       "1           2021-01-26          2021-01-26  INFORMES_DIGITALES    NEUTRO  \n",
       "2           2021-01-26          2021-01-26  INFORMES_DIGITALES    NEUTRO  \n",
       "3           2021-01-26          2021-01-26  INFORMES_DIGITALES    NEUTRO  \n",
       "4           2021-01-26          2021-01-26  INFORMES_DIGITALES    NEUTRO  "
      ]
     },
     "execution_count": 23,
     "metadata": {},
     "output_type": "execute_result"
    }
   ],
   "source": [
    "df_log.head()"
   ]
  },
  {
   "cell_type": "markdown",
   "metadata": {},
   "source": [
    "## 2. Devolución de Informes Digitales"
   ]
  },
  {
   "cell_type": "markdown",
   "metadata": {},
   "source": [
    "Levantamos los DNIs desde el archivo que devuelve Informes Digitales para cruzar contra los IDs y ver cuáles están enriquecidos."
   ]
  },
  {
   "cell_type": "code",
   "execution_count": 24,
   "metadata": {},
   "outputs": [],
   "source": [
    "df1 = pd.read_excel('/mnt/c/Users/Dleg/Data/MOPC/MOPC/Enriquecimiento de Datos/Data Cleaning/Informes Digitales/Datasets/Datos Recibidos/MOPC_INFORMES_DIGITALES_2201_1 - copia.xlsx', header=1)"
   ]
  },
  {
   "cell_type": "code",
   "execution_count": 25,
   "metadata": {
    "scrolled": false
   },
   "outputs": [
    {
     "data": {
      "text/html": [
       "<div>\n",
       "<style scoped>\n",
       "    .dataframe tbody tr th:only-of-type {\n",
       "        vertical-align: middle;\n",
       "    }\n",
       "\n",
       "    .dataframe tbody tr th {\n",
       "        vertical-align: top;\n",
       "    }\n",
       "\n",
       "    .dataframe thead th {\n",
       "        text-align: right;\n",
       "    }\n",
       "</style>\n",
       "<table border=\"1\" class=\"dataframe\">\n",
       "  <thead>\n",
       "    <tr style=\"text-align: right;\">\n",
       "      <th></th>\n",
       "      <th>Orden</th>\n",
       "      <th>Tipo</th>\n",
       "      <th>DNI</th>\n",
       "      <th>Nombre</th>\n",
       "      <th>Cuit/Cuil</th>\n",
       "      <th>Genero</th>\n",
       "      <th>Edad</th>\n",
       "      <th>Observ.</th>\n",
       "      <th>Actividad</th>\n",
       "      <th>Unnamed: 9</th>\n",
       "      <th>...</th>\n",
       "      <th>Celular 1</th>\n",
       "      <th>Celular 2</th>\n",
       "      <th>Celular 3</th>\n",
       "      <th>Celular 4</th>\n",
       "      <th>Celular 5</th>\n",
       "      <th>Email</th>\n",
       "      <th>Unnamed: 78</th>\n",
       "      <th>Categoria_monotributo</th>\n",
       "      <th>Rubro_monotributo</th>\n",
       "      <th>Unnamed: 81</th>\n",
       "    </tr>\n",
       "  </thead>\n",
       "  <tbody>\n",
       "    <tr>\n",
       "      <th>0</th>\n",
       "      <td>1.01</td>\n",
       "      <td>DNI-EA</td>\n",
       "      <td>37.966.797</td>\n",
       "      <td>Garcia Daiana Maricel</td>\n",
       "      <td>27-37966797-5</td>\n",
       "      <td>Fem.</td>\n",
       "      <td>27 Años (01/12/1993)</td>\n",
       "      <td>NaN</td>\n",
       "      <td>NaN</td>\n",
       "      <td>NaN</td>\n",
       "      <td>...</td>\n",
       "      <td>NaN</td>\n",
       "      <td>NaN</td>\n",
       "      <td>NaN</td>\n",
       "      <td>NaN</td>\n",
       "      <td>NaN</td>\n",
       "      <td>NaN</td>\n",
       "      <td>NaN</td>\n",
       "      <td>NaN</td>\n",
       "      <td>NaN</td>\n",
       "      <td>NaN</td>\n",
       "    </tr>\n",
       "    <tr>\n",
       "      <th>1</th>\n",
       "      <td>1.02</td>\n",
       "      <td>DNI-EA</td>\n",
       "      <td>37.966.797</td>\n",
       "      <td>Garcia Daiana Maricel</td>\n",
       "      <td>27-37966797-5</td>\n",
       "      <td>Fem.</td>\n",
       "      <td>27 Años (01/12/1993)</td>\n",
       "      <td>NaN</td>\n",
       "      <td>NaN</td>\n",
       "      <td>NaN</td>\n",
       "      <td>...</td>\n",
       "      <td>NaN</td>\n",
       "      <td>NaN</td>\n",
       "      <td>NaN</td>\n",
       "      <td>NaN</td>\n",
       "      <td>NaN</td>\n",
       "      <td>NaN</td>\n",
       "      <td>NaN</td>\n",
       "      <td>NaN</td>\n",
       "      <td>NaN</td>\n",
       "      <td>NaN</td>\n",
       "    </tr>\n",
       "    <tr>\n",
       "      <th>2</th>\n",
       "      <td>1.03</td>\n",
       "      <td>DNI-EA</td>\n",
       "      <td>37.966.797</td>\n",
       "      <td>Garcia Daiana Maricel</td>\n",
       "      <td>27-37966797-5</td>\n",
       "      <td>Fem.</td>\n",
       "      <td>27 Años (01/12/1993)</td>\n",
       "      <td>NaN</td>\n",
       "      <td>NaN</td>\n",
       "      <td>NaN</td>\n",
       "      <td>...</td>\n",
       "      <td>NaN</td>\n",
       "      <td>NaN</td>\n",
       "      <td>NaN</td>\n",
       "      <td>NaN</td>\n",
       "      <td>NaN</td>\n",
       "      <td>NaN</td>\n",
       "      <td>NaN</td>\n",
       "      <td>NaN</td>\n",
       "      <td>NaN</td>\n",
       "      <td>NaN</td>\n",
       "    </tr>\n",
       "    <tr>\n",
       "      <th>3</th>\n",
       "      <td>NaN</td>\n",
       "      <td>NaN</td>\n",
       "      <td>NaN</td>\n",
       "      <td>NaN</td>\n",
       "      <td>NaN</td>\n",
       "      <td>NaN</td>\n",
       "      <td>NaN</td>\n",
       "      <td>NaN</td>\n",
       "      <td>NaN</td>\n",
       "      <td>NaN</td>\n",
       "      <td>...</td>\n",
       "      <td>NaN</td>\n",
       "      <td>NaN</td>\n",
       "      <td>NaN</td>\n",
       "      <td>NaN</td>\n",
       "      <td>NaN</td>\n",
       "      <td>NaN</td>\n",
       "      <td>NaN</td>\n",
       "      <td>NaN</td>\n",
       "      <td>NaN</td>\n",
       "      <td>NaN</td>\n",
       "    </tr>\n",
       "    <tr>\n",
       "      <th>4</th>\n",
       "      <td>2.01</td>\n",
       "      <td>DNI-EB</td>\n",
       "      <td>35.170.607</td>\n",
       "      <td>Ferreyra Pablo</td>\n",
       "      <td>20-35170607-5</td>\n",
       "      <td>Mas.</td>\n",
       "      <td>30 Años (17/03/1990)</td>\n",
       "      <td>NaN</td>\n",
       "      <td>NaN</td>\n",
       "      <td>NaN</td>\n",
       "      <td>...</td>\n",
       "      <td>NaN</td>\n",
       "      <td>NaN</td>\n",
       "      <td>NaN</td>\n",
       "      <td>NaN</td>\n",
       "      <td>NaN</td>\n",
       "      <td>NaN</td>\n",
       "      <td>NaN</td>\n",
       "      <td>NaN</td>\n",
       "      <td>NaN</td>\n",
       "      <td>NaN</td>\n",
       "    </tr>\n",
       "  </tbody>\n",
       "</table>\n",
       "<p>5 rows × 82 columns</p>\n",
       "</div>"
      ],
      "text/plain": [
       "   Orden    Tipo         DNI                 Nombre      Cuit/Cuil Genero  \\\n",
       "0   1.01  DNI-EA  37.966.797  Garcia Daiana Maricel  27-37966797-5   Fem.   \n",
       "1   1.02  DNI-EA  37.966.797  Garcia Daiana Maricel  27-37966797-5   Fem.   \n",
       "2   1.03  DNI-EA  37.966.797  Garcia Daiana Maricel  27-37966797-5   Fem.   \n",
       "3    NaN     NaN         NaN                    NaN            NaN    NaN   \n",
       "4   2.01  DNI-EB  35.170.607         Ferreyra Pablo  20-35170607-5   Mas.   \n",
       "\n",
       "                   Edad Observ. Actividad  Unnamed: 9  ... Celular 1  \\\n",
       "0  27 Años (01/12/1993)     NaN       NaN         NaN  ...       NaN   \n",
       "1  27 Años (01/12/1993)     NaN       NaN         NaN  ...       NaN   \n",
       "2  27 Años (01/12/1993)     NaN       NaN         NaN  ...       NaN   \n",
       "3                   NaN     NaN       NaN         NaN  ...       NaN   \n",
       "4  30 Años (17/03/1990)     NaN       NaN         NaN  ...       NaN   \n",
       "\n",
       "  Celular 2 Celular 3 Celular 4 Celular 5 Email Unnamed: 78  \\\n",
       "0       NaN       NaN       NaN       NaN   NaN         NaN   \n",
       "1       NaN       NaN       NaN       NaN   NaN         NaN   \n",
       "2       NaN       NaN       NaN       NaN   NaN         NaN   \n",
       "3       NaN       NaN       NaN       NaN   NaN         NaN   \n",
       "4       NaN       NaN       NaN       NaN   NaN         NaN   \n",
       "\n",
       "   Categoria_monotributo Rubro_monotributo Unnamed: 81  \n",
       "0                    NaN               NaN         NaN  \n",
       "1                    NaN               NaN         NaN  \n",
       "2                    NaN               NaN         NaN  \n",
       "3                    NaN               NaN         NaN  \n",
       "4                    NaN               NaN         NaN  \n",
       "\n",
       "[5 rows x 82 columns]"
      ]
     },
     "execution_count": 25,
     "metadata": {},
     "output_type": "execute_result"
    }
   ],
   "source": [
    "df1.head()"
   ]
  },
  {
   "cell_type": "code",
   "execution_count": 26,
   "metadata": {
    "scrolled": false
   },
   "outputs": [
    {
     "data": {
      "text/plain": [
       "(7639, 82)"
      ]
     },
     "execution_count": 26,
     "metadata": {},
     "output_type": "execute_result"
    }
   ],
   "source": [
    "df1.shape"
   ]
  },
  {
   "cell_type": "code",
   "execution_count": 27,
   "metadata": {},
   "outputs": [],
   "source": [
    "df2 = pd.read_excel('/mnt/c/Users/Dleg/Data/MOPC/MOPC/Enriquecimiento de Datos/Data Cleaning/Informes Digitales/Datasets/Datos Recibidos/MOPC_INFORMES_DIGITALES_2201_2 - copia.xlsx', header=1)"
   ]
  },
  {
   "cell_type": "code",
   "execution_count": 28,
   "metadata": {},
   "outputs": [
    {
     "data": {
      "text/plain": [
       "(31420, 82)"
      ]
     },
     "execution_count": 28,
     "metadata": {},
     "output_type": "execute_result"
    }
   ],
   "source": [
    "df2.shape"
   ]
  },
  {
   "cell_type": "code",
   "execution_count": 29,
   "metadata": {},
   "outputs": [
    {
     "data": {
      "text/html": [
       "<div>\n",
       "<style scoped>\n",
       "    .dataframe tbody tr th:only-of-type {\n",
       "        vertical-align: middle;\n",
       "    }\n",
       "\n",
       "    .dataframe tbody tr th {\n",
       "        vertical-align: top;\n",
       "    }\n",
       "\n",
       "    .dataframe thead th {\n",
       "        text-align: right;\n",
       "    }\n",
       "</style>\n",
       "<table border=\"1\" class=\"dataframe\">\n",
       "  <thead>\n",
       "    <tr style=\"text-align: right;\">\n",
       "      <th></th>\n",
       "      <th>Orden</th>\n",
       "      <th>Tipo</th>\n",
       "      <th>DNI</th>\n",
       "      <th>Nombre</th>\n",
       "      <th>Cuit/Cuil</th>\n",
       "      <th>Genero</th>\n",
       "      <th>Edad</th>\n",
       "      <th>Observ.</th>\n",
       "      <th>Actividad</th>\n",
       "      <th>Unnamed: 9</th>\n",
       "      <th>...</th>\n",
       "      <th>Celular 1</th>\n",
       "      <th>Celular 2</th>\n",
       "      <th>Celular 3</th>\n",
       "      <th>Celular 4</th>\n",
       "      <th>Celular 5</th>\n",
       "      <th>Email</th>\n",
       "      <th>Unnamed: 78</th>\n",
       "      <th>Categoria_monotributo</th>\n",
       "      <th>Rubro_monotributo</th>\n",
       "      <th>Unnamed: 81</th>\n",
       "    </tr>\n",
       "  </thead>\n",
       "  <tbody>\n",
       "    <tr>\n",
       "      <th>31415</th>\n",
       "      <td>4559.02</td>\n",
       "      <td>DNI</td>\n",
       "      <td>94.803.707</td>\n",
       "      <td>Burgos Rodriguez Carlos Alberto</td>\n",
       "      <td>20-94803707-7</td>\n",
       "      <td>Mas.</td>\n",
       "      <td>52 Años (24/12/1968)</td>\n",
       "      <td>NaN</td>\n",
       "      <td>NaN</td>\n",
       "      <td>NaN</td>\n",
       "      <td>...</td>\n",
       "      <td>NaN</td>\n",
       "      <td>NaN</td>\n",
       "      <td>NaN</td>\n",
       "      <td>NaN</td>\n",
       "      <td>NaN</td>\n",
       "      <td>NaN</td>\n",
       "      <td>NaN</td>\n",
       "      <td>NaN</td>\n",
       "      <td>NaN</td>\n",
       "      <td>NaN</td>\n",
       "    </tr>\n",
       "    <tr>\n",
       "      <th>31416</th>\n",
       "      <td>4559.03</td>\n",
       "      <td>DNI</td>\n",
       "      <td>94.803.707</td>\n",
       "      <td>Burgos Rodriguez Carlos Alberto</td>\n",
       "      <td>20-94803707-7</td>\n",
       "      <td>Mas.</td>\n",
       "      <td>52 Años (24/12/1968)</td>\n",
       "      <td>NaN</td>\n",
       "      <td>NaN</td>\n",
       "      <td>NaN</td>\n",
       "      <td>...</td>\n",
       "      <td>NaN</td>\n",
       "      <td>NaN</td>\n",
       "      <td>NaN</td>\n",
       "      <td>NaN</td>\n",
       "      <td>NaN</td>\n",
       "      <td>NaN</td>\n",
       "      <td>NaN</td>\n",
       "      <td>NaN</td>\n",
       "      <td>NaN</td>\n",
       "      <td>NaN</td>\n",
       "    </tr>\n",
       "    <tr>\n",
       "      <th>31417</th>\n",
       "      <td>4559.04</td>\n",
       "      <td>DNI</td>\n",
       "      <td>94.803.707</td>\n",
       "      <td>Burgos Rodriguez Carlos Alberto</td>\n",
       "      <td>20-94803707-7</td>\n",
       "      <td>Mas.</td>\n",
       "      <td>52 Años (24/12/1968)</td>\n",
       "      <td>NaN</td>\n",
       "      <td>NaN</td>\n",
       "      <td>NaN</td>\n",
       "      <td>...</td>\n",
       "      <td>NaN</td>\n",
       "      <td>NaN</td>\n",
       "      <td>NaN</td>\n",
       "      <td>NaN</td>\n",
       "      <td>NaN</td>\n",
       "      <td>NaN</td>\n",
       "      <td>NaN</td>\n",
       "      <td>NaN</td>\n",
       "      <td>NaN</td>\n",
       "      <td>NaN</td>\n",
       "    </tr>\n",
       "    <tr>\n",
       "      <th>31418</th>\n",
       "      <td>4559.05</td>\n",
       "      <td>DNI</td>\n",
       "      <td>94.803.707</td>\n",
       "      <td>Burgos Rodriguez Carlos Alberto</td>\n",
       "      <td>20-94803707-7</td>\n",
       "      <td>Mas.</td>\n",
       "      <td>52 Años (24/12/1968)</td>\n",
       "      <td>NaN</td>\n",
       "      <td>NaN</td>\n",
       "      <td>NaN</td>\n",
       "      <td>...</td>\n",
       "      <td>NaN</td>\n",
       "      <td>NaN</td>\n",
       "      <td>NaN</td>\n",
       "      <td>NaN</td>\n",
       "      <td>NaN</td>\n",
       "      <td>NaN</td>\n",
       "      <td>NaN</td>\n",
       "      <td>NaN</td>\n",
       "      <td>NaN</td>\n",
       "      <td>NaN</td>\n",
       "    </tr>\n",
       "    <tr>\n",
       "      <th>31419</th>\n",
       "      <td>NaN</td>\n",
       "      <td>NaN</td>\n",
       "      <td>NaN</td>\n",
       "      <td>NaN</td>\n",
       "      <td>NaN</td>\n",
       "      <td>NaN</td>\n",
       "      <td>NaN</td>\n",
       "      <td>NaN</td>\n",
       "      <td>NaN</td>\n",
       "      <td>NaN</td>\n",
       "      <td>...</td>\n",
       "      <td>NaN</td>\n",
       "      <td>NaN</td>\n",
       "      <td>NaN</td>\n",
       "      <td>NaN</td>\n",
       "      <td>NaN</td>\n",
       "      <td>NaN</td>\n",
       "      <td>NaN</td>\n",
       "      <td>NaN</td>\n",
       "      <td>NaN</td>\n",
       "      <td>NaN</td>\n",
       "    </tr>\n",
       "  </tbody>\n",
       "</table>\n",
       "<p>5 rows × 82 columns</p>\n",
       "</div>"
      ],
      "text/plain": [
       "         Orden Tipo         DNI                           Nombre  \\\n",
       "31415  4559.02  DNI  94.803.707  Burgos Rodriguez Carlos Alberto   \n",
       "31416  4559.03  DNI  94.803.707  Burgos Rodriguez Carlos Alberto   \n",
       "31417  4559.04  DNI  94.803.707  Burgos Rodriguez Carlos Alberto   \n",
       "31418  4559.05  DNI  94.803.707  Burgos Rodriguez Carlos Alberto   \n",
       "31419      NaN  NaN         NaN                              NaN   \n",
       "\n",
       "           Cuit/Cuil Genero                  Edad Observ. Actividad  \\\n",
       "31415  20-94803707-7   Mas.  52 Años (24/12/1968)     NaN       NaN   \n",
       "31416  20-94803707-7   Mas.  52 Años (24/12/1968)     NaN       NaN   \n",
       "31417  20-94803707-7   Mas.  52 Años (24/12/1968)     NaN       NaN   \n",
       "31418  20-94803707-7   Mas.  52 Años (24/12/1968)     NaN       NaN   \n",
       "31419            NaN    NaN                   NaN     NaN       NaN   \n",
       "\n",
       "       Unnamed: 9  ... Celular 1 Celular 2 Celular 3 Celular 4 Celular 5  \\\n",
       "31415         NaN  ...       NaN       NaN       NaN       NaN       NaN   \n",
       "31416         NaN  ...       NaN       NaN       NaN       NaN       NaN   \n",
       "31417         NaN  ...       NaN       NaN       NaN       NaN       NaN   \n",
       "31418         NaN  ...       NaN       NaN       NaN       NaN       NaN   \n",
       "31419         NaN  ...       NaN       NaN       NaN       NaN       NaN   \n",
       "\n",
       "      Email Unnamed: 78  Categoria_monotributo Rubro_monotributo Unnamed: 81  \n",
       "31415   NaN         NaN                    NaN               NaN         NaN  \n",
       "31416   NaN         NaN                    NaN               NaN         NaN  \n",
       "31417   NaN         NaN                    NaN               NaN         NaN  \n",
       "31418   NaN         NaN                    NaN               NaN         NaN  \n",
       "31419   NaN         NaN                    NaN               NaN         NaN  \n",
       "\n",
       "[5 rows x 82 columns]"
      ]
     },
     "execution_count": 29,
     "metadata": {},
     "output_type": "execute_result"
    }
   ],
   "source": [
    "df2.tail()"
   ]
  },
  {
   "cell_type": "markdown",
   "metadata": {},
   "source": [
    "## 1.1) Join de Datasets"
   ]
  },
  {
   "cell_type": "markdown",
   "metadata": {},
   "source": [
    "Vamos a unir los dos dataframes para trabajar sobre uno solo."
   ]
  },
  {
   "cell_type": "code",
   "execution_count": 30,
   "metadata": {},
   "outputs": [],
   "source": [
    "df = df1.append(df2, ignore_index = True)"
   ]
  },
  {
   "cell_type": "code",
   "execution_count": 31,
   "metadata": {},
   "outputs": [
    {
     "data": {
      "text/plain": [
       "(39059, 82)"
      ]
     },
     "execution_count": 31,
     "metadata": {},
     "output_type": "execute_result"
    }
   ],
   "source": [
    "df.shape"
   ]
  },
  {
   "cell_type": "code",
   "execution_count": 32,
   "metadata": {
    "scrolled": false
   },
   "outputs": [
    {
     "data": {
      "text/html": [
       "<div>\n",
       "<style scoped>\n",
       "    .dataframe tbody tr th:only-of-type {\n",
       "        vertical-align: middle;\n",
       "    }\n",
       "\n",
       "    .dataframe tbody tr th {\n",
       "        vertical-align: top;\n",
       "    }\n",
       "\n",
       "    .dataframe thead th {\n",
       "        text-align: right;\n",
       "    }\n",
       "</style>\n",
       "<table border=\"1\" class=\"dataframe\">\n",
       "  <thead>\n",
       "    <tr style=\"text-align: right;\">\n",
       "      <th></th>\n",
       "      <th>Orden</th>\n",
       "      <th>Tipo</th>\n",
       "      <th>DNI</th>\n",
       "      <th>Nombre</th>\n",
       "      <th>Cuit/Cuil</th>\n",
       "      <th>Genero</th>\n",
       "      <th>Edad</th>\n",
       "      <th>Observ.</th>\n",
       "      <th>Actividad</th>\n",
       "      <th>Unnamed: 9</th>\n",
       "      <th>...</th>\n",
       "      <th>Celular 1</th>\n",
       "      <th>Celular 2</th>\n",
       "      <th>Celular 3</th>\n",
       "      <th>Celular 4</th>\n",
       "      <th>Celular 5</th>\n",
       "      <th>Email</th>\n",
       "      <th>Unnamed: 78</th>\n",
       "      <th>Categoria_monotributo</th>\n",
       "      <th>Rubro_monotributo</th>\n",
       "      <th>Unnamed: 81</th>\n",
       "    </tr>\n",
       "  </thead>\n",
       "  <tbody>\n",
       "    <tr>\n",
       "      <th>39054</th>\n",
       "      <td>4559.02</td>\n",
       "      <td>DNI</td>\n",
       "      <td>94.803.707</td>\n",
       "      <td>Burgos Rodriguez Carlos Alberto</td>\n",
       "      <td>20-94803707-7</td>\n",
       "      <td>Mas.</td>\n",
       "      <td>52 Años (24/12/1968)</td>\n",
       "      <td>NaN</td>\n",
       "      <td>NaN</td>\n",
       "      <td>NaN</td>\n",
       "      <td>...</td>\n",
       "      <td>NaN</td>\n",
       "      <td>NaN</td>\n",
       "      <td>NaN</td>\n",
       "      <td>NaN</td>\n",
       "      <td>NaN</td>\n",
       "      <td>NaN</td>\n",
       "      <td>NaN</td>\n",
       "      <td>NaN</td>\n",
       "      <td>NaN</td>\n",
       "      <td>NaN</td>\n",
       "    </tr>\n",
       "    <tr>\n",
       "      <th>39055</th>\n",
       "      <td>4559.03</td>\n",
       "      <td>DNI</td>\n",
       "      <td>94.803.707</td>\n",
       "      <td>Burgos Rodriguez Carlos Alberto</td>\n",
       "      <td>20-94803707-7</td>\n",
       "      <td>Mas.</td>\n",
       "      <td>52 Años (24/12/1968)</td>\n",
       "      <td>NaN</td>\n",
       "      <td>NaN</td>\n",
       "      <td>NaN</td>\n",
       "      <td>...</td>\n",
       "      <td>NaN</td>\n",
       "      <td>NaN</td>\n",
       "      <td>NaN</td>\n",
       "      <td>NaN</td>\n",
       "      <td>NaN</td>\n",
       "      <td>NaN</td>\n",
       "      <td>NaN</td>\n",
       "      <td>NaN</td>\n",
       "      <td>NaN</td>\n",
       "      <td>NaN</td>\n",
       "    </tr>\n",
       "    <tr>\n",
       "      <th>39056</th>\n",
       "      <td>4559.04</td>\n",
       "      <td>DNI</td>\n",
       "      <td>94.803.707</td>\n",
       "      <td>Burgos Rodriguez Carlos Alberto</td>\n",
       "      <td>20-94803707-7</td>\n",
       "      <td>Mas.</td>\n",
       "      <td>52 Años (24/12/1968)</td>\n",
       "      <td>NaN</td>\n",
       "      <td>NaN</td>\n",
       "      <td>NaN</td>\n",
       "      <td>...</td>\n",
       "      <td>NaN</td>\n",
       "      <td>NaN</td>\n",
       "      <td>NaN</td>\n",
       "      <td>NaN</td>\n",
       "      <td>NaN</td>\n",
       "      <td>NaN</td>\n",
       "      <td>NaN</td>\n",
       "      <td>NaN</td>\n",
       "      <td>NaN</td>\n",
       "      <td>NaN</td>\n",
       "    </tr>\n",
       "    <tr>\n",
       "      <th>39057</th>\n",
       "      <td>4559.05</td>\n",
       "      <td>DNI</td>\n",
       "      <td>94.803.707</td>\n",
       "      <td>Burgos Rodriguez Carlos Alberto</td>\n",
       "      <td>20-94803707-7</td>\n",
       "      <td>Mas.</td>\n",
       "      <td>52 Años (24/12/1968)</td>\n",
       "      <td>NaN</td>\n",
       "      <td>NaN</td>\n",
       "      <td>NaN</td>\n",
       "      <td>...</td>\n",
       "      <td>NaN</td>\n",
       "      <td>NaN</td>\n",
       "      <td>NaN</td>\n",
       "      <td>NaN</td>\n",
       "      <td>NaN</td>\n",
       "      <td>NaN</td>\n",
       "      <td>NaN</td>\n",
       "      <td>NaN</td>\n",
       "      <td>NaN</td>\n",
       "      <td>NaN</td>\n",
       "    </tr>\n",
       "    <tr>\n",
       "      <th>39058</th>\n",
       "      <td>NaN</td>\n",
       "      <td>NaN</td>\n",
       "      <td>NaN</td>\n",
       "      <td>NaN</td>\n",
       "      <td>NaN</td>\n",
       "      <td>NaN</td>\n",
       "      <td>NaN</td>\n",
       "      <td>NaN</td>\n",
       "      <td>NaN</td>\n",
       "      <td>NaN</td>\n",
       "      <td>...</td>\n",
       "      <td>NaN</td>\n",
       "      <td>NaN</td>\n",
       "      <td>NaN</td>\n",
       "      <td>NaN</td>\n",
       "      <td>NaN</td>\n",
       "      <td>NaN</td>\n",
       "      <td>NaN</td>\n",
       "      <td>NaN</td>\n",
       "      <td>NaN</td>\n",
       "      <td>NaN</td>\n",
       "    </tr>\n",
       "  </tbody>\n",
       "</table>\n",
       "<p>5 rows × 82 columns</p>\n",
       "</div>"
      ],
      "text/plain": [
       "         Orden Tipo         DNI                           Nombre  \\\n",
       "39054  4559.02  DNI  94.803.707  Burgos Rodriguez Carlos Alberto   \n",
       "39055  4559.03  DNI  94.803.707  Burgos Rodriguez Carlos Alberto   \n",
       "39056  4559.04  DNI  94.803.707  Burgos Rodriguez Carlos Alberto   \n",
       "39057  4559.05  DNI  94.803.707  Burgos Rodriguez Carlos Alberto   \n",
       "39058      NaN  NaN         NaN                              NaN   \n",
       "\n",
       "           Cuit/Cuil Genero                  Edad Observ. Actividad  \\\n",
       "39054  20-94803707-7   Mas.  52 Años (24/12/1968)     NaN       NaN   \n",
       "39055  20-94803707-7   Mas.  52 Años (24/12/1968)     NaN       NaN   \n",
       "39056  20-94803707-7   Mas.  52 Años (24/12/1968)     NaN       NaN   \n",
       "39057  20-94803707-7   Mas.  52 Años (24/12/1968)     NaN       NaN   \n",
       "39058            NaN    NaN                   NaN     NaN       NaN   \n",
       "\n",
       "       Unnamed: 9  ... Celular 1 Celular 2 Celular 3 Celular 4 Celular 5  \\\n",
       "39054         NaN  ...       NaN       NaN       NaN       NaN       NaN   \n",
       "39055         NaN  ...       NaN       NaN       NaN       NaN       NaN   \n",
       "39056         NaN  ...       NaN       NaN       NaN       NaN       NaN   \n",
       "39057         NaN  ...       NaN       NaN       NaN       NaN       NaN   \n",
       "39058         NaN  ...       NaN       NaN       NaN       NaN       NaN   \n",
       "\n",
       "      Email Unnamed: 78  Categoria_monotributo Rubro_monotributo Unnamed: 81  \n",
       "39054   NaN         NaN                    NaN               NaN         NaN  \n",
       "39055   NaN         NaN                    NaN               NaN         NaN  \n",
       "39056   NaN         NaN                    NaN               NaN         NaN  \n",
       "39057   NaN         NaN                    NaN               NaN         NaN  \n",
       "39058   NaN         NaN                    NaN               NaN         NaN  \n",
       "\n",
       "[5 rows x 82 columns]"
      ]
     },
     "execution_count": 32,
     "metadata": {},
     "output_type": "execute_result"
    }
   ],
   "source": [
    "df.tail()"
   ]
  },
  {
   "cell_type": "code",
   "execution_count": 33,
   "metadata": {},
   "outputs": [],
   "source": [
    "df_reduced = df [['Cuit/Cuil','DNI']]"
   ]
  },
  {
   "cell_type": "code",
   "execution_count": 34,
   "metadata": {},
   "outputs": [
    {
     "data": {
      "text/html": [
       "<div>\n",
       "<style scoped>\n",
       "    .dataframe tbody tr th:only-of-type {\n",
       "        vertical-align: middle;\n",
       "    }\n",
       "\n",
       "    .dataframe tbody tr th {\n",
       "        vertical-align: top;\n",
       "    }\n",
       "\n",
       "    .dataframe thead th {\n",
       "        text-align: right;\n",
       "    }\n",
       "</style>\n",
       "<table border=\"1\" class=\"dataframe\">\n",
       "  <thead>\n",
       "    <tr style=\"text-align: right;\">\n",
       "      <th></th>\n",
       "      <th>Cuit/Cuil</th>\n",
       "      <th>DNI</th>\n",
       "    </tr>\n",
       "  </thead>\n",
       "  <tbody>\n",
       "    <tr>\n",
       "      <th>0</th>\n",
       "      <td>27-37966797-5</td>\n",
       "      <td>37.966.797</td>\n",
       "    </tr>\n",
       "    <tr>\n",
       "      <th>1</th>\n",
       "      <td>27-37966797-5</td>\n",
       "      <td>37.966.797</td>\n",
       "    </tr>\n",
       "    <tr>\n",
       "      <th>2</th>\n",
       "      <td>27-37966797-5</td>\n",
       "      <td>37.966.797</td>\n",
       "    </tr>\n",
       "    <tr>\n",
       "      <th>3</th>\n",
       "      <td>NaN</td>\n",
       "      <td>NaN</td>\n",
       "    </tr>\n",
       "    <tr>\n",
       "      <th>4</th>\n",
       "      <td>20-35170607-5</td>\n",
       "      <td>35.170.607</td>\n",
       "    </tr>\n",
       "  </tbody>\n",
       "</table>\n",
       "</div>"
      ],
      "text/plain": [
       "       Cuit/Cuil         DNI\n",
       "0  27-37966797-5  37.966.797\n",
       "1  27-37966797-5  37.966.797\n",
       "2  27-37966797-5  37.966.797\n",
       "3            NaN         NaN\n",
       "4  20-35170607-5  35.170.607"
      ]
     },
     "execution_count": 34,
     "metadata": {},
     "output_type": "execute_result"
    }
   ],
   "source": [
    "df_reduced.head()"
   ]
  },
  {
   "cell_type": "code",
   "execution_count": 35,
   "metadata": {},
   "outputs": [
    {
     "name": "stderr",
     "output_type": "stream",
     "text": [
      "<ipython-input-35-e0267c8d0486>:1: SettingWithCopyWarning: \n",
      "A value is trying to be set on a copy of a slice from a DataFrame.\n",
      "Try using .loc[row_indexer,col_indexer] = value instead\n",
      "\n",
      "See the caveats in the documentation: https://pandas.pydata.org/pandas-docs/stable/user_guide/indexing.html#returning-a-view-versus-a-copy\n",
      "  df_reduced['Cuit/Cuil'] = df_reduced['Cuit/Cuil'].str.replace('-','')\n"
     ]
    }
   ],
   "source": [
    "df_reduced['Cuit/Cuil'] = df_reduced['Cuit/Cuil'].str.replace('-','')"
   ]
  },
  {
   "cell_type": "code",
   "execution_count": 36,
   "metadata": {},
   "outputs": [
    {
     "name": "stderr",
     "output_type": "stream",
     "text": [
      "<ipython-input-36-36f4810210a5>:1: FutureWarning: The default value of regex will change from True to False in a future version. In addition, single character regular expressions will*not* be treated as literal strings when regex=True.\n",
      "  df_reduced['DNI'] = df_reduced['DNI'].str.replace('.','')\n",
      "<ipython-input-36-36f4810210a5>:1: SettingWithCopyWarning: \n",
      "A value is trying to be set on a copy of a slice from a DataFrame.\n",
      "Try using .loc[row_indexer,col_indexer] = value instead\n",
      "\n",
      "See the caveats in the documentation: https://pandas.pydata.org/pandas-docs/stable/user_guide/indexing.html#returning-a-view-versus-a-copy\n",
      "  df_reduced['DNI'] = df_reduced['DNI'].str.replace('.','')\n"
     ]
    }
   ],
   "source": [
    "df_reduced['DNI'] = df_reduced['DNI'].str.replace('.','')"
   ]
  },
  {
   "cell_type": "code",
   "execution_count": 37,
   "metadata": {},
   "outputs": [
    {
     "data": {
      "text/html": [
       "<div>\n",
       "<style scoped>\n",
       "    .dataframe tbody tr th:only-of-type {\n",
       "        vertical-align: middle;\n",
       "    }\n",
       "\n",
       "    .dataframe tbody tr th {\n",
       "        vertical-align: top;\n",
       "    }\n",
       "\n",
       "    .dataframe thead th {\n",
       "        text-align: right;\n",
       "    }\n",
       "</style>\n",
       "<table border=\"1\" class=\"dataframe\">\n",
       "  <thead>\n",
       "    <tr style=\"text-align: right;\">\n",
       "      <th></th>\n",
       "      <th>Cuit/Cuil</th>\n",
       "      <th>DNI</th>\n",
       "    </tr>\n",
       "  </thead>\n",
       "  <tbody>\n",
       "    <tr>\n",
       "      <th>0</th>\n",
       "      <td>27379667975</td>\n",
       "      <td>37966797</td>\n",
       "    </tr>\n",
       "    <tr>\n",
       "      <th>1</th>\n",
       "      <td>27379667975</td>\n",
       "      <td>37966797</td>\n",
       "    </tr>\n",
       "    <tr>\n",
       "      <th>2</th>\n",
       "      <td>27379667975</td>\n",
       "      <td>37966797</td>\n",
       "    </tr>\n",
       "    <tr>\n",
       "      <th>3</th>\n",
       "      <td>NaN</td>\n",
       "      <td>NaN</td>\n",
       "    </tr>\n",
       "    <tr>\n",
       "      <th>4</th>\n",
       "      <td>20351706075</td>\n",
       "      <td>35170607</td>\n",
       "    </tr>\n",
       "  </tbody>\n",
       "</table>\n",
       "</div>"
      ],
      "text/plain": [
       "     Cuit/Cuil       DNI\n",
       "0  27379667975  37966797\n",
       "1  27379667975  37966797\n",
       "2  27379667975  37966797\n",
       "3          NaN       NaN\n",
       "4  20351706075  35170607"
      ]
     },
     "execution_count": 37,
     "metadata": {},
     "output_type": "execute_result"
    }
   ],
   "source": [
    "df_reduced.head()"
   ]
  },
  {
   "cell_type": "code",
   "execution_count": 38,
   "metadata": {},
   "outputs": [
    {
     "data": {
      "text/plain": [
       "(39059, 2)"
      ]
     },
     "execution_count": 38,
     "metadata": {},
     "output_type": "execute_result"
    }
   ],
   "source": [
    "df_reduced.shape"
   ]
  },
  {
   "cell_type": "markdown",
   "metadata": {},
   "source": [
    "Eliminamos el multilevel de las columnas, y las renombramos:"
   ]
  },
  {
   "cell_type": "code",
   "execution_count": 39,
   "metadata": {},
   "outputs": [],
   "source": [
    "df_reduced = df_reduced.rename(columns={\"Cuit/Cuil\": \"CUIT_CUIL\", 'DNI': 'NRO_DOC'})"
   ]
  },
  {
   "cell_type": "code",
   "execution_count": 40,
   "metadata": {
    "scrolled": false
   },
   "outputs": [
    {
     "data": {
      "text/html": [
       "<div>\n",
       "<style scoped>\n",
       "    .dataframe tbody tr th:only-of-type {\n",
       "        vertical-align: middle;\n",
       "    }\n",
       "\n",
       "    .dataframe tbody tr th {\n",
       "        vertical-align: top;\n",
       "    }\n",
       "\n",
       "    .dataframe thead th {\n",
       "        text-align: right;\n",
       "    }\n",
       "</style>\n",
       "<table border=\"1\" class=\"dataframe\">\n",
       "  <thead>\n",
       "    <tr style=\"text-align: right;\">\n",
       "      <th></th>\n",
       "      <th>CUIT_CUIL</th>\n",
       "      <th>NRO_DOC</th>\n",
       "    </tr>\n",
       "  </thead>\n",
       "  <tbody>\n",
       "    <tr>\n",
       "      <th>0</th>\n",
       "      <td>27379667975</td>\n",
       "      <td>37966797</td>\n",
       "    </tr>\n",
       "    <tr>\n",
       "      <th>1</th>\n",
       "      <td>27379667975</td>\n",
       "      <td>37966797</td>\n",
       "    </tr>\n",
       "    <tr>\n",
       "      <th>2</th>\n",
       "      <td>27379667975</td>\n",
       "      <td>37966797</td>\n",
       "    </tr>\n",
       "    <tr>\n",
       "      <th>3</th>\n",
       "      <td>NaN</td>\n",
       "      <td>NaN</td>\n",
       "    </tr>\n",
       "    <tr>\n",
       "      <th>4</th>\n",
       "      <td>20351706075</td>\n",
       "      <td>35170607</td>\n",
       "    </tr>\n",
       "  </tbody>\n",
       "</table>\n",
       "</div>"
      ],
      "text/plain": [
       "     CUIT_CUIL   NRO_DOC\n",
       "0  27379667975  37966797\n",
       "1  27379667975  37966797\n",
       "2  27379667975  37966797\n",
       "3          NaN       NaN\n",
       "4  20351706075  35170607"
      ]
     },
     "execution_count": 40,
     "metadata": {},
     "output_type": "execute_result"
    }
   ],
   "source": [
    "df_reduced.head()"
   ]
  },
  {
   "cell_type": "code",
   "execution_count": 41,
   "metadata": {},
   "outputs": [
    {
     "data": {
      "text/plain": [
       "(39059, 2)"
      ]
     },
     "execution_count": 41,
     "metadata": {},
     "output_type": "execute_result"
    }
   ],
   "source": [
    "df_reduced.shape"
   ]
  },
  {
   "cell_type": "markdown",
   "metadata": {},
   "source": [
    "## NRO_DOC para union de dataframes"
   ]
  },
  {
   "cell_type": "markdown",
   "metadata": {},
   "source": [
    "Creamos una columna que contenga IDMOROSO + DATOADIC según corresponda"
   ]
  },
  {
   "cell_type": "code",
   "execution_count": 42,
   "metadata": {},
   "outputs": [],
   "source": [
    "#df_log.loc[(df_log['IDCLIENTE'].str.startswith('AMEX')) , 'NRO_DOC'] = df_log['DATOADIC']"
   ]
  },
  {
   "cell_type": "code",
   "execution_count": 43,
   "metadata": {},
   "outputs": [],
   "source": [
    "#df_log.loc[~(df_log['IDCLIENTE'].str.startswith('AMEX')) , 'NRO_DOC'] = df_log['IDMOROSO']"
   ]
  },
  {
   "cell_type": "code",
   "execution_count": 44,
   "metadata": {},
   "outputs": [],
   "source": [
    "df_log ['NRO_DOC'] = df_log['IDMOROSO']"
   ]
  },
  {
   "cell_type": "code",
   "execution_count": 45,
   "metadata": {
    "scrolled": true
   },
   "outputs": [
    {
     "data": {
      "text/html": [
       "<div>\n",
       "<style scoped>\n",
       "    .dataframe tbody tr th:only-of-type {\n",
       "        vertical-align: middle;\n",
       "    }\n",
       "\n",
       "    .dataframe tbody tr th {\n",
       "        vertical-align: top;\n",
       "    }\n",
       "\n",
       "    .dataframe thead th {\n",
       "        text-align: right;\n",
       "    }\n",
       "</style>\n",
       "<table border=\"1\" class=\"dataframe\">\n",
       "  <thead>\n",
       "    <tr style=\"text-align: right;\">\n",
       "      <th></th>\n",
       "      <th>IDMOROSO</th>\n",
       "      <th>NOMBRE</th>\n",
       "      <th>IDCLIENTE</th>\n",
       "      <th>ESTADO_ANTERIOR</th>\n",
       "      <th>FECHA_ENVIO_ENRIQUECIMIENTO</th>\n",
       "      <th>FECHA_INSERCION_DATO</th>\n",
       "      <th>FECHA_CAMBIO_ESTADO</th>\n",
       "      <th>PROVEEDOR</th>\n",
       "      <th>CATEGORIA</th>\n",
       "      <th>NRO_DOC</th>\n",
       "    </tr>\n",
       "  </thead>\n",
       "  <tbody>\n",
       "    <tr>\n",
       "      <th>5317</th>\n",
       "      <td>LC  4249078</td>\n",
       "      <td>SOTO ROSA ESTER</td>\n",
       "      <td>COTO_TARDIA</td>\n",
       "      <td>NO VISTO</td>\n",
       "      <td>2021-01-20</td>\n",
       "      <td>2021-01-26</td>\n",
       "      <td>2021-01-26</td>\n",
       "      <td>INFORMES_DIGITALES</td>\n",
       "      <td>NEUTRO</td>\n",
       "      <td>LC  4249078</td>\n",
       "    </tr>\n",
       "    <tr>\n",
       "      <th>5318</th>\n",
       "      <td>LC  5596515</td>\n",
       "      <td>DIAZ VICTORIA</td>\n",
       "      <td>COTO_TARDIA</td>\n",
       "      <td>NO VISTO</td>\n",
       "      <td>2021-01-20</td>\n",
       "      <td>2021-01-26</td>\n",
       "      <td>2021-01-26</td>\n",
       "      <td>INFORMES_DIGITALES</td>\n",
       "      <td>NEUTRO</td>\n",
       "      <td>LC  5596515</td>\n",
       "    </tr>\n",
       "    <tr>\n",
       "      <th>5319</th>\n",
       "      <td>LC  5634858</td>\n",
       "      <td>SALINAS,MARTA ISABEL</td>\n",
       "      <td>COTO_TARDIA</td>\n",
       "      <td>NO VISTO</td>\n",
       "      <td>2021-01-20</td>\n",
       "      <td>2021-01-26</td>\n",
       "      <td>2021-01-26</td>\n",
       "      <td>INFORMES_DIGITALES</td>\n",
       "      <td>NEUTRO</td>\n",
       "      <td>LC  5634858</td>\n",
       "    </tr>\n",
       "    <tr>\n",
       "      <th>5320</th>\n",
       "      <td>LE  7760858</td>\n",
       "      <td>HUESCA CARLOS ALBERTO</td>\n",
       "      <td>COTO_TARDIA</td>\n",
       "      <td>NO VISTO</td>\n",
       "      <td>2021-01-20</td>\n",
       "      <td>2021-01-26</td>\n",
       "      <td>2021-01-26</td>\n",
       "      <td>INFORMES_DIGITALES</td>\n",
       "      <td>NEUTRO</td>\n",
       "      <td>LE  7760858</td>\n",
       "    </tr>\n",
       "    <tr>\n",
       "      <th>5321</th>\n",
       "      <td>DNI 12469665</td>\n",
       "      <td>GUERRERO  JUAN CARLOS</td>\n",
       "      <td>COTO_TARDIA</td>\n",
       "      <td>INTERESADO</td>\n",
       "      <td>2021-01-20</td>\n",
       "      <td>2021-01-26</td>\n",
       "      <td>2021-01-26</td>\n",
       "      <td>INFORMES_DIGITALES</td>\n",
       "      <td>NEUTRO</td>\n",
       "      <td>DNI 12469665</td>\n",
       "    </tr>\n",
       "  </tbody>\n",
       "</table>\n",
       "</div>"
      ],
      "text/plain": [
       "                IDMOROSO                                    NOMBRE  \\\n",
       "5317  LC  4249078         SOTO ROSA ESTER                            \n",
       "5318  LC  5596515         DIAZ VICTORIA                              \n",
       "5319  LC  5634858         SALINAS,MARTA ISABEL                       \n",
       "5320  LE  7760858         HUESCA CARLOS ALBERTO                      \n",
       "5321  DNI 12469665        GUERRERO  JUAN CARLOS                      \n",
       "\n",
       "                 IDCLIENTE ESTADO_ANTERIOR FECHA_ENVIO_ENRIQUECIMIENTO  \\\n",
       "5317  COTO_TARDIA                 NO VISTO                  2021-01-20   \n",
       "5318  COTO_TARDIA                 NO VISTO                  2021-01-20   \n",
       "5319  COTO_TARDIA                 NO VISTO                  2021-01-20   \n",
       "5320  COTO_TARDIA                 NO VISTO                  2021-01-20   \n",
       "5321  COTO_TARDIA               INTERESADO                  2021-01-20   \n",
       "\n",
       "     FECHA_INSERCION_DATO FECHA_CAMBIO_ESTADO           PROVEEDOR CATEGORIA  \\\n",
       "5317           2021-01-26          2021-01-26  INFORMES_DIGITALES    NEUTRO   \n",
       "5318           2021-01-26          2021-01-26  INFORMES_DIGITALES    NEUTRO   \n",
       "5319           2021-01-26          2021-01-26  INFORMES_DIGITALES    NEUTRO   \n",
       "5320           2021-01-26          2021-01-26  INFORMES_DIGITALES    NEUTRO   \n",
       "5321           2021-01-26          2021-01-26  INFORMES_DIGITALES    NEUTRO   \n",
       "\n",
       "                 NRO_DOC  \n",
       "5317  LC  4249078         \n",
       "5318  LC  5596515         \n",
       "5319  LC  5634858         \n",
       "5320  LE  7760858         \n",
       "5321  DNI 12469665        "
      ]
     },
     "execution_count": 45,
     "metadata": {},
     "output_type": "execute_result"
    }
   ],
   "source": [
    "df_log.tail()"
   ]
  },
  {
   "cell_type": "markdown",
   "metadata": {},
   "source": [
    "## 12.2) DNI Cleaning"
   ]
  },
  {
   "cell_type": "markdown",
   "metadata": {},
   "source": [
    "Limpiamos el dataframe __df_pyp__, ya que dentro de DATO_A_ENVIAR tenemos 9 tipos de casos diferentes de datos:\n",
    "\n",
    "- DNI 12345678\n",
    "- DNI12345678\n",
    "- DNIE1234678\n",
    "- LC  1234567\n",
    "- LE  1234567\n",
    "- CUIT00123456780\n",
    "- 00123456780 --> Es un CUIT.\n",
    "- 00 12345678 0 --> Es un CUIT.\n",
    "- DNI 00123456780 --> Dice DNI pero es un CUIT de una persona __jurídica__ (TO DO)"
   ]
  },
  {
   "cell_type": "markdown",
   "metadata": {},
   "source": [
    "Para eso definimos 5 funciones:\n",
    "\n",
    "- __Tipo_DOC__: Se definen dos funciones para determinar el tipo de DNI. Una inicial, y otra para corregir sobre el dataframe resultante.\n",
    "- __Standard DNI__: Estandariza los DNI para 7 de los casos. Esta función debe ejecutarse en primer lugar.\n",
    "- __DNI Spaces__: Elimina los espacios.\n",
    "- __DNI Zero__: Elimina los ceros iniciales de ciertos CUITs para que coincidan con los DNI.\n",
    "- __Cuit__: Decisión sobre dejar un cuit o volverlo DNI"
   ]
  },
  {
   "cell_type": "code",
   "execution_count": 46,
   "metadata": {},
   "outputs": [],
   "source": [
    "def tipo_doc_1 (string_dni):\n",
    "    \n",
    "    if 'DNI' in string_dni:\n",
    "        tipo = 'DNI'\n",
    "    \n",
    "    elif 'LC' in string_dni:\n",
    "        tipo = 'LC'\n",
    "    \n",
    "    elif 'LE' in string_dni:\n",
    "        tipo = 'LE'\n",
    "    \n",
    "    elif 'DNIE' in string_dni:\n",
    "        tipo = 'DNIE'    \n",
    "    \n",
    "    elif ((string_dni.startswith(('CUIT30','CUIT33','CUIT34'))) & (len(string_dni)>8)):\n",
    "        tipo = 'CUIT'\n",
    "        \n",
    "    elif ((string_dni.startswith(('30','33','34'))) & (len(string_dni)>8)):\n",
    "        tipo = 'CUIT'\n",
    "\n",
    "    elif ((string_dni.startswith(('20','23','24','27'))) & (len(string_dni)>8)):\n",
    "        tipo = 'DNI'\n",
    "\n",
    "    elif ((string_dni.startswith(('CUIT20','CUIT23','CUIT24','CUIT27'))) & (len(string_dni)>8)):\n",
    "        tipo = 'DNI'\n",
    "        \n",
    "    else:\n",
    "        tipo = 'DNI'\n",
    "    \n",
    "    return tipo"
   ]
  },
  {
   "cell_type": "code",
   "execution_count": 47,
   "metadata": {},
   "outputs": [],
   "source": [
    "def tipo_doc_2 (string_dni, tipo_original):\n",
    "    \n",
    "    if (len(string_dni) > 8) & (tipo_original == 'DNI'):\n",
    "        tipo = 'CUIT'\n",
    "    else:\n",
    "        tipo = tipo_original\n",
    "    return tipo"
   ]
  },
  {
   "cell_type": "code",
   "execution_count": 48,
   "metadata": {},
   "outputs": [],
   "source": [
    "def standard_dni (string_dni):\n",
    "    \"\"\"DNI separation by each case.\n",
    "    \"\"\"\n",
    "    \n",
    "    if 'DNI ' in string_dni:\n",
    "        dni = string_dni.split('DNI ')[1]\n",
    "        \n",
    "    elif 'DNIE' in string_dni:\n",
    "        dni = string_dni.split('DNIE')[1]\n",
    "    \n",
    "    elif 'DNI' in string_dni:\n",
    "        dni = string_dni.split('DNI')[1]\n",
    "    \n",
    "    elif 'LC  ' in string_dni:\n",
    "        dni = string_dni.split('LC  ')[1]\n",
    "    \n",
    "    elif 'LE  ' in string_dni:\n",
    "        dni = string_dni.split('LE  ')[1]\n",
    "    \n",
    "    elif 'CUIT' in string_dni:\n",
    "        dni = string_dni.split('CUIT')[1]\n",
    "        \n",
    "    else:\n",
    "        dni = string_dni\n",
    "        \n",
    "    return dni"
   ]
  },
  {
   "cell_type": "code",
   "execution_count": 49,
   "metadata": {},
   "outputs": [],
   "source": [
    "def dni_characters (string_dni):\n",
    "    \n",
    "    if ' ' in string_dni:\n",
    "        dni = string_dni.replace(' ','')\n",
    "        \n",
    "    elif '-' in string_dni:\n",
    "        dni = string_dni.replace('-','')\n",
    "\n",
    "    else:\n",
    "        dni = string_dni\n",
    "    \n",
    "    return dni"
   ]
  },
  {
   "cell_type": "code",
   "execution_count": 50,
   "metadata": {},
   "outputs": [],
   "source": [
    "def cuit (string_dni):\n",
    "    \n",
    "    if ((string_dni.startswith('20')) & (len(string_dni)>8)):\n",
    "        cuit = string_dni [2:-1]\n",
    "        \n",
    "    elif ((string_dni.startswith('23')) & (len(string_dni)>8)):\n",
    "        cuit = string_dni [2:-1]\n",
    "        \n",
    "    elif ((string_dni.startswith('24')) & (len(string_dni)>8)):\n",
    "        cuit = string_dni [2:-1]\n",
    "\n",
    "    elif ((string_dni.startswith('27')) & (len(string_dni)>8)):\n",
    "        cuit = string_dni [2:-1]\n",
    "\n",
    "    else:\n",
    "        cuit = string_dni\n",
    "        \n",
    "    return cuit"
   ]
  },
  {
   "cell_type": "code",
   "execution_count": 51,
   "metadata": {},
   "outputs": [],
   "source": [
    "def dni_zero (string_dni):\n",
    "    \n",
    "    if string_dni.startswith('0'):\n",
    "        dni = string_dni [1:]\n",
    "\n",
    "    else:\n",
    "        dni = string_dni\n",
    "    \n",
    "    return dni"
   ]
  },
  {
   "cell_type": "markdown",
   "metadata": {},
   "source": [
    "En primer lugar, trimmeamos los espacios que sobran:"
   ]
  },
  {
   "cell_type": "code",
   "execution_count": 52,
   "metadata": {},
   "outputs": [],
   "source": [
    "df_log['NRO_DOC'] = [(str(df_log['NRO_DOC'][i]).strip()) for i in range (df_log['NRO_DOC'].count())]"
   ]
  },
  {
   "cell_type": "markdown",
   "metadata": {},
   "source": [
    "Se implementan estas funciones:"
   ]
  },
  {
   "cell_type": "markdown",
   "metadata": {},
   "source": [
    "Para determinar el __TIPO DE DOCUMENTO__ en primer lugar:"
   ]
  },
  {
   "cell_type": "code",
   "execution_count": 53,
   "metadata": {},
   "outputs": [],
   "source": [
    "df_log['TIPO_DOC'] = [tipo_doc_1(df_log['NRO_DOC'][i]) for i in range (df_log['NRO_DOC'].count())]"
   ]
  },
  {
   "cell_type": "markdown",
   "metadata": {},
   "source": [
    "Para la limpieza de DNIs:"
   ]
  },
  {
   "cell_type": "code",
   "execution_count": 54,
   "metadata": {},
   "outputs": [],
   "source": [
    "df_log['NRO_DOC'] = [standard_dni(df_log['NRO_DOC'][i]) for i in range (df_log['NRO_DOC'].count())]"
   ]
  },
  {
   "cell_type": "code",
   "execution_count": 55,
   "metadata": {},
   "outputs": [],
   "source": [
    "df_log['NRO_DOC'] = [dni_characters(df_log['NRO_DOC'][i]) for i in range (df_log['NRO_DOC'].count())]"
   ]
  },
  {
   "cell_type": "code",
   "execution_count": 56,
   "metadata": {},
   "outputs": [],
   "source": [
    "df_log['NRO_DOC'] = [cuit(df_log['NRO_DOC'][i]) for i in range (df_log['NRO_DOC'].count())]"
   ]
  },
  {
   "cell_type": "code",
   "execution_count": 57,
   "metadata": {},
   "outputs": [],
   "source": [
    "df_log['NRO_DOC'] = [dni_zero(df_log['NRO_DOC'][i]) for i in range (df_log['NRO_DOC'].count())]"
   ]
  },
  {
   "cell_type": "markdown",
   "metadata": {},
   "source": [
    "Para corregir el __TIPO DE DOCUMENTO__ sobre el dataframe resultante"
   ]
  },
  {
   "cell_type": "code",
   "execution_count": 58,
   "metadata": {},
   "outputs": [],
   "source": [
    "df_log['TIPO_DOC'] = [tipo_doc_2(df_log['NRO_DOC'][i],df_log['TIPO_DOC'][i]) for i in range (df_log['NRO_DOC'].count())]"
   ]
  },
  {
   "cell_type": "code",
   "execution_count": 59,
   "metadata": {
    "scrolled": false
   },
   "outputs": [
    {
     "data": {
      "text/html": [
       "<div>\n",
       "<style scoped>\n",
       "    .dataframe tbody tr th:only-of-type {\n",
       "        vertical-align: middle;\n",
       "    }\n",
       "\n",
       "    .dataframe tbody tr th {\n",
       "        vertical-align: top;\n",
       "    }\n",
       "\n",
       "    .dataframe thead th {\n",
       "        text-align: right;\n",
       "    }\n",
       "</style>\n",
       "<table border=\"1\" class=\"dataframe\">\n",
       "  <thead>\n",
       "    <tr style=\"text-align: right;\">\n",
       "      <th></th>\n",
       "      <th>IDMOROSO</th>\n",
       "      <th>NOMBRE</th>\n",
       "      <th>IDCLIENTE</th>\n",
       "      <th>ESTADO_ANTERIOR</th>\n",
       "      <th>FECHA_ENVIO_ENRIQUECIMIENTO</th>\n",
       "      <th>FECHA_INSERCION_DATO</th>\n",
       "      <th>FECHA_CAMBIO_ESTADO</th>\n",
       "      <th>PROVEEDOR</th>\n",
       "      <th>CATEGORIA</th>\n",
       "      <th>NRO_DOC</th>\n",
       "      <th>TIPO_DOC</th>\n",
       "    </tr>\n",
       "  </thead>\n",
       "  <tbody>\n",
       "    <tr>\n",
       "      <th>0</th>\n",
       "      <td>DNI 37966797</td>\n",
       "      <td>GARCIA DAIANA MARICEL</td>\n",
       "      <td>FRANCES_2012</td>\n",
       "      <td>ASIGNADO</td>\n",
       "      <td>2021-01-20</td>\n",
       "      <td>2021-01-26</td>\n",
       "      <td>2021-01-26</td>\n",
       "      <td>INFORMES_DIGITALES</td>\n",
       "      <td>NEUTRO</td>\n",
       "      <td>37966797</td>\n",
       "      <td>DNI</td>\n",
       "    </tr>\n",
       "    <tr>\n",
       "      <th>1</th>\n",
       "      <td>DNI 35170607</td>\n",
       "      <td>FERREYRA PABLO</td>\n",
       "      <td>FRANCES_2012</td>\n",
       "      <td>ASIGNADO</td>\n",
       "      <td>2021-01-20</td>\n",
       "      <td>2021-01-26</td>\n",
       "      <td>2021-01-26</td>\n",
       "      <td>INFORMES_DIGITALES</td>\n",
       "      <td>NEUTRO</td>\n",
       "      <td>35170607</td>\n",
       "      <td>DNI</td>\n",
       "    </tr>\n",
       "    <tr>\n",
       "      <th>2</th>\n",
       "      <td>DNI 41245032</td>\n",
       "      <td>MARTINEZ SOLANGE NATALI</td>\n",
       "      <td>FRANCES_2012</td>\n",
       "      <td>ASIGNADO</td>\n",
       "      <td>2021-01-20</td>\n",
       "      <td>2021-01-26</td>\n",
       "      <td>2021-01-26</td>\n",
       "      <td>INFORMES_DIGITALES</td>\n",
       "      <td>NEUTRO</td>\n",
       "      <td>41245032</td>\n",
       "      <td>DNI</td>\n",
       "    </tr>\n",
       "    <tr>\n",
       "      <th>3</th>\n",
       "      <td>DNI 41327214</td>\n",
       "      <td>SZKATULAK PAULA</td>\n",
       "      <td>FRANCES_2012</td>\n",
       "      <td>INTERESADO</td>\n",
       "      <td>2021-01-20</td>\n",
       "      <td>2021-01-26</td>\n",
       "      <td>2021-01-26</td>\n",
       "      <td>INFORMES_DIGITALES</td>\n",
       "      <td>NEUTRO</td>\n",
       "      <td>41327214</td>\n",
       "      <td>DNI</td>\n",
       "    </tr>\n",
       "    <tr>\n",
       "      <th>4</th>\n",
       "      <td>DNI 41546687</td>\n",
       "      <td>MENDEZ CARLOS ALBERTO</td>\n",
       "      <td>FRANCES_2012</td>\n",
       "      <td>ASIGNADO</td>\n",
       "      <td>2021-01-20</td>\n",
       "      <td>2021-01-26</td>\n",
       "      <td>2021-01-26</td>\n",
       "      <td>INFORMES_DIGITALES</td>\n",
       "      <td>NEUTRO</td>\n",
       "      <td>41546687</td>\n",
       "      <td>DNI</td>\n",
       "    </tr>\n",
       "  </tbody>\n",
       "</table>\n",
       "</div>"
      ],
      "text/plain": [
       "             IDMOROSO                                    NOMBRE  \\\n",
       "0  DNI 37966797        GARCIA DAIANA MARICEL                      \n",
       "1  DNI 35170607        FERREYRA PABLO                             \n",
       "2  DNI 41245032        MARTINEZ SOLANGE NATALI                    \n",
       "3  DNI 41327214        SZKATULAK PAULA                            \n",
       "4  DNI 41546687        MENDEZ CARLOS ALBERTO                      \n",
       "\n",
       "              IDCLIENTE ESTADO_ANTERIOR FECHA_ENVIO_ENRIQUECIMIENTO  \\\n",
       "0  FRANCES_2012                ASIGNADO                  2021-01-20   \n",
       "1  FRANCES_2012                ASIGNADO                  2021-01-20   \n",
       "2  FRANCES_2012                ASIGNADO                  2021-01-20   \n",
       "3  FRANCES_2012              INTERESADO                  2021-01-20   \n",
       "4  FRANCES_2012                ASIGNADO                  2021-01-20   \n",
       "\n",
       "  FECHA_INSERCION_DATO FECHA_CAMBIO_ESTADO           PROVEEDOR CATEGORIA  \\\n",
       "0           2021-01-26          2021-01-26  INFORMES_DIGITALES    NEUTRO   \n",
       "1           2021-01-26          2021-01-26  INFORMES_DIGITALES    NEUTRO   \n",
       "2           2021-01-26          2021-01-26  INFORMES_DIGITALES    NEUTRO   \n",
       "3           2021-01-26          2021-01-26  INFORMES_DIGITALES    NEUTRO   \n",
       "4           2021-01-26          2021-01-26  INFORMES_DIGITALES    NEUTRO   \n",
       "\n",
       "    NRO_DOC TIPO_DOC  \n",
       "0  37966797      DNI  \n",
       "1  35170607      DNI  \n",
       "2  41245032      DNI  \n",
       "3  41327214      DNI  \n",
       "4  41546687      DNI  "
      ]
     },
     "execution_count": 59,
     "metadata": {},
     "output_type": "execute_result"
    }
   ],
   "source": [
    "df_log.head()"
   ]
  },
  {
   "cell_type": "code",
   "execution_count": 60,
   "metadata": {},
   "outputs": [
    {
     "data": {
      "text/plain": [
       "(5322, 11)"
      ]
     },
     "execution_count": 60,
     "metadata": {},
     "output_type": "execute_result"
    }
   ],
   "source": [
    "df_log.shape"
   ]
  },
  {
   "cell_type": "markdown",
   "metadata": {},
   "source": [
    "# 13) Union de Dataframes"
   ]
  },
  {
   "cell_type": "markdown",
   "metadata": {},
   "source": [
    "Se unen ambos dataframes en la columna NRO_DOC"
   ]
  },
  {
   "cell_type": "markdown",
   "metadata": {},
   "source": [
    "Convertimos la columna NRO_DOC de objeto a INT para hacer la unión"
   ]
  },
  {
   "cell_type": "code",
   "execution_count": 61,
   "metadata": {},
   "outputs": [],
   "source": [
    "df_reduced = df_reduced.astype({'NRO_DOC': 'str'})"
   ]
  },
  {
   "cell_type": "code",
   "execution_count": 62,
   "metadata": {},
   "outputs": [],
   "source": [
    "df_union = pd.merge(df_log, df_reduced, on='NRO_DOC', how='inner')"
   ]
  },
  {
   "cell_type": "code",
   "execution_count": 63,
   "metadata": {},
   "outputs": [],
   "source": [
    "#df_union = pd.merge(df_log,df_reduced[['NRO_DOC']],on=['NRO_DOC'],how=\"outer\",indicator=True)\n",
    "#df_union = df_union[df_union['_merge']=='left_only']"
   ]
  },
  {
   "cell_type": "code",
   "execution_count": 64,
   "metadata": {
    "scrolled": true
   },
   "outputs": [
    {
     "data": {
      "text/plain": [
       "(32991, 12)"
      ]
     },
     "execution_count": 64,
     "metadata": {},
     "output_type": "execute_result"
    }
   ],
   "source": [
    "df_union.shape"
   ]
  },
  {
   "cell_type": "code",
   "execution_count": 65,
   "metadata": {
    "scrolled": false
   },
   "outputs": [
    {
     "data": {
      "text/html": [
       "<div>\n",
       "<style scoped>\n",
       "    .dataframe tbody tr th:only-of-type {\n",
       "        vertical-align: middle;\n",
       "    }\n",
       "\n",
       "    .dataframe tbody tr th {\n",
       "        vertical-align: top;\n",
       "    }\n",
       "\n",
       "    .dataframe thead th {\n",
       "        text-align: right;\n",
       "    }\n",
       "</style>\n",
       "<table border=\"1\" class=\"dataframe\">\n",
       "  <thead>\n",
       "    <tr style=\"text-align: right;\">\n",
       "      <th></th>\n",
       "      <th>IDMOROSO</th>\n",
       "      <th>NOMBRE</th>\n",
       "      <th>IDCLIENTE</th>\n",
       "      <th>ESTADO_ANTERIOR</th>\n",
       "      <th>FECHA_ENVIO_ENRIQUECIMIENTO</th>\n",
       "      <th>FECHA_INSERCION_DATO</th>\n",
       "      <th>FECHA_CAMBIO_ESTADO</th>\n",
       "      <th>PROVEEDOR</th>\n",
       "      <th>CATEGORIA</th>\n",
       "      <th>NRO_DOC</th>\n",
       "      <th>TIPO_DOC</th>\n",
       "      <th>CUIT_CUIL</th>\n",
       "    </tr>\n",
       "  </thead>\n",
       "  <tbody>\n",
       "    <tr>\n",
       "      <th>0</th>\n",
       "      <td>DNI 37966797</td>\n",
       "      <td>GARCIA DAIANA MARICEL</td>\n",
       "      <td>FRANCES_2012</td>\n",
       "      <td>ASIGNADO</td>\n",
       "      <td>2021-01-20</td>\n",
       "      <td>2021-01-26</td>\n",
       "      <td>2021-01-26</td>\n",
       "      <td>INFORMES_DIGITALES</td>\n",
       "      <td>NEUTRO</td>\n",
       "      <td>37966797</td>\n",
       "      <td>DNI</td>\n",
       "      <td>27379667975</td>\n",
       "    </tr>\n",
       "    <tr>\n",
       "      <th>1</th>\n",
       "      <td>DNI 37966797</td>\n",
       "      <td>GARCIA DAIANA MARICEL</td>\n",
       "      <td>FRANCES_2012</td>\n",
       "      <td>ASIGNADO</td>\n",
       "      <td>2021-01-20</td>\n",
       "      <td>2021-01-26</td>\n",
       "      <td>2021-01-26</td>\n",
       "      <td>INFORMES_DIGITALES</td>\n",
       "      <td>NEUTRO</td>\n",
       "      <td>37966797</td>\n",
       "      <td>DNI</td>\n",
       "      <td>27379667975</td>\n",
       "    </tr>\n",
       "    <tr>\n",
       "      <th>2</th>\n",
       "      <td>DNI 37966797</td>\n",
       "      <td>GARCIA DAIANA MARICEL</td>\n",
       "      <td>FRANCES_2012</td>\n",
       "      <td>ASIGNADO</td>\n",
       "      <td>2021-01-20</td>\n",
       "      <td>2021-01-26</td>\n",
       "      <td>2021-01-26</td>\n",
       "      <td>INFORMES_DIGITALES</td>\n",
       "      <td>NEUTRO</td>\n",
       "      <td>37966797</td>\n",
       "      <td>DNI</td>\n",
       "      <td>27379667975</td>\n",
       "    </tr>\n",
       "    <tr>\n",
       "      <th>3</th>\n",
       "      <td>DNI 35170607</td>\n",
       "      <td>FERREYRA PABLO</td>\n",
       "      <td>FRANCES_2012</td>\n",
       "      <td>ASIGNADO</td>\n",
       "      <td>2021-01-20</td>\n",
       "      <td>2021-01-26</td>\n",
       "      <td>2021-01-26</td>\n",
       "      <td>INFORMES_DIGITALES</td>\n",
       "      <td>NEUTRO</td>\n",
       "      <td>35170607</td>\n",
       "      <td>DNI</td>\n",
       "      <td>20351706075</td>\n",
       "    </tr>\n",
       "    <tr>\n",
       "      <th>4</th>\n",
       "      <td>DNI 35170607</td>\n",
       "      <td>FERREYRA PABLO</td>\n",
       "      <td>FRANCES_2012</td>\n",
       "      <td>ASIGNADO</td>\n",
       "      <td>2021-01-20</td>\n",
       "      <td>2021-01-26</td>\n",
       "      <td>2021-01-26</td>\n",
       "      <td>INFORMES_DIGITALES</td>\n",
       "      <td>NEUTRO</td>\n",
       "      <td>35170607</td>\n",
       "      <td>DNI</td>\n",
       "      <td>20351706075</td>\n",
       "    </tr>\n",
       "  </tbody>\n",
       "</table>\n",
       "</div>"
      ],
      "text/plain": [
       "             IDMOROSO                                    NOMBRE  \\\n",
       "0  DNI 37966797        GARCIA DAIANA MARICEL                      \n",
       "1  DNI 37966797        GARCIA DAIANA MARICEL                      \n",
       "2  DNI 37966797        GARCIA DAIANA MARICEL                      \n",
       "3  DNI 35170607        FERREYRA PABLO                             \n",
       "4  DNI 35170607        FERREYRA PABLO                             \n",
       "\n",
       "              IDCLIENTE ESTADO_ANTERIOR FECHA_ENVIO_ENRIQUECIMIENTO  \\\n",
       "0  FRANCES_2012                ASIGNADO                  2021-01-20   \n",
       "1  FRANCES_2012                ASIGNADO                  2021-01-20   \n",
       "2  FRANCES_2012                ASIGNADO                  2021-01-20   \n",
       "3  FRANCES_2012                ASIGNADO                  2021-01-20   \n",
       "4  FRANCES_2012                ASIGNADO                  2021-01-20   \n",
       "\n",
       "  FECHA_INSERCION_DATO FECHA_CAMBIO_ESTADO           PROVEEDOR CATEGORIA  \\\n",
       "0           2021-01-26          2021-01-26  INFORMES_DIGITALES    NEUTRO   \n",
       "1           2021-01-26          2021-01-26  INFORMES_DIGITALES    NEUTRO   \n",
       "2           2021-01-26          2021-01-26  INFORMES_DIGITALES    NEUTRO   \n",
       "3           2021-01-26          2021-01-26  INFORMES_DIGITALES    NEUTRO   \n",
       "4           2021-01-26          2021-01-26  INFORMES_DIGITALES    NEUTRO   \n",
       "\n",
       "    NRO_DOC TIPO_DOC    CUIT_CUIL  \n",
       "0  37966797      DNI  27379667975  \n",
       "1  37966797      DNI  27379667975  \n",
       "2  37966797      DNI  27379667975  \n",
       "3  35170607      DNI  20351706075  \n",
       "4  35170607      DNI  20351706075  "
      ]
     },
     "execution_count": 65,
     "metadata": {},
     "output_type": "execute_result"
    }
   ],
   "source": [
    "df_union.head()"
   ]
  },
  {
   "cell_type": "code",
   "execution_count": 66,
   "metadata": {},
   "outputs": [],
   "source": [
    "df_clean = df_union.drop_duplicates()"
   ]
  },
  {
   "cell_type": "code",
   "execution_count": 67,
   "metadata": {},
   "outputs": [
    {
     "data": {
      "text/plain": [
       "(6053, 12)"
      ]
     },
     "execution_count": 67,
     "metadata": {},
     "output_type": "execute_result"
    }
   ],
   "source": [
    "df_clean.shape"
   ]
  },
  {
   "cell_type": "code",
   "execution_count": 68,
   "metadata": {},
   "outputs": [
    {
     "data": {
      "text/html": [
       "<div>\n",
       "<style scoped>\n",
       "    .dataframe tbody tr th:only-of-type {\n",
       "        vertical-align: middle;\n",
       "    }\n",
       "\n",
       "    .dataframe tbody tr th {\n",
       "        vertical-align: top;\n",
       "    }\n",
       "\n",
       "    .dataframe thead th {\n",
       "        text-align: right;\n",
       "    }\n",
       "</style>\n",
       "<table border=\"1\" class=\"dataframe\">\n",
       "  <thead>\n",
       "    <tr style=\"text-align: right;\">\n",
       "      <th></th>\n",
       "      <th>IDMOROSO</th>\n",
       "      <th>NOMBRE</th>\n",
       "      <th>IDCLIENTE</th>\n",
       "      <th>ESTADO_ANTERIOR</th>\n",
       "      <th>FECHA_ENVIO_ENRIQUECIMIENTO</th>\n",
       "      <th>FECHA_INSERCION_DATO</th>\n",
       "      <th>FECHA_CAMBIO_ESTADO</th>\n",
       "      <th>PROVEEDOR</th>\n",
       "      <th>CATEGORIA</th>\n",
       "      <th>NRO_DOC</th>\n",
       "      <th>TIPO_DOC</th>\n",
       "      <th>CUIT_CUIL</th>\n",
       "    </tr>\n",
       "  </thead>\n",
       "  <tbody>\n",
       "  </tbody>\n",
       "</table>\n",
       "</div>"
      ],
      "text/plain": [
       "Empty DataFrame\n",
       "Columns: [IDMOROSO, NOMBRE, IDCLIENTE, ESTADO_ANTERIOR, FECHA_ENVIO_ENRIQUECIMIENTO, FECHA_INSERCION_DATO, FECHA_CAMBIO_ESTADO, PROVEEDOR, CATEGORIA, NRO_DOC, TIPO_DOC, CUIT_CUIL]\n",
       "Index: []"
      ]
     },
     "execution_count": 68,
     "metadata": {},
     "output_type": "execute_result"
    }
   ],
   "source": [
    "df_clean[df_clean.duplicated()]"
   ]
  },
  {
   "cell_type": "code",
   "execution_count": 69,
   "metadata": {},
   "outputs": [],
   "source": [
    "duplicateRowsDF = df_clean[df_clean.duplicated(subset=['IDMOROSO', 'IDCLIENTE'], keep=False)]"
   ]
  },
  {
   "cell_type": "code",
   "execution_count": 70,
   "metadata": {
    "scrolled": false
   },
   "outputs": [
    {
     "data": {
      "text/html": [
       "<div>\n",
       "<style scoped>\n",
       "    .dataframe tbody tr th:only-of-type {\n",
       "        vertical-align: middle;\n",
       "    }\n",
       "\n",
       "    .dataframe tbody tr th {\n",
       "        vertical-align: top;\n",
       "    }\n",
       "\n",
       "    .dataframe thead th {\n",
       "        text-align: right;\n",
       "    }\n",
       "</style>\n",
       "<table border=\"1\" class=\"dataframe\">\n",
       "  <thead>\n",
       "    <tr style=\"text-align: right;\">\n",
       "      <th></th>\n",
       "      <th>IDMOROSO</th>\n",
       "      <th>NOMBRE</th>\n",
       "      <th>IDCLIENTE</th>\n",
       "      <th>ESTADO_ANTERIOR</th>\n",
       "      <th>FECHA_ENVIO_ENRIQUECIMIENTO</th>\n",
       "      <th>FECHA_INSERCION_DATO</th>\n",
       "      <th>FECHA_CAMBIO_ESTADO</th>\n",
       "      <th>PROVEEDOR</th>\n",
       "      <th>CATEGORIA</th>\n",
       "      <th>NRO_DOC</th>\n",
       "      <th>TIPO_DOC</th>\n",
       "      <th>CUIT_CUIL</th>\n",
       "    </tr>\n",
       "  </thead>\n",
       "  <tbody>\n",
       "    <tr>\n",
       "      <th>23</th>\n",
       "      <td>DNI 42538841</td>\n",
       "      <td>MACHICOTE DELFINA</td>\n",
       "      <td>FRANCES_2012</td>\n",
       "      <td>ASIGNADO</td>\n",
       "      <td>2021-01-20</td>\n",
       "      <td>2021-01-26</td>\n",
       "      <td>2021-01-26</td>\n",
       "      <td>INFORMES_DIGITALES</td>\n",
       "      <td>NEUTRO</td>\n",
       "      <td>42538841</td>\n",
       "      <td>DNI</td>\n",
       "      <td>20425388410</td>\n",
       "    </tr>\n",
       "    <tr>\n",
       "      <th>24</th>\n",
       "      <td>DNI 42538841</td>\n",
       "      <td>MACHICOTE DELFINA</td>\n",
       "      <td>FRANCES_2012</td>\n",
       "      <td>ASIGNADO</td>\n",
       "      <td>2021-01-20</td>\n",
       "      <td>2021-01-26</td>\n",
       "      <td>2021-01-26</td>\n",
       "      <td>INFORMES_DIGITALES</td>\n",
       "      <td>NEUTRO</td>\n",
       "      <td>42538841</td>\n",
       "      <td>DNI</td>\n",
       "      <td>27425388415</td>\n",
       "    </tr>\n",
       "    <tr>\n",
       "      <th>43</th>\n",
       "      <td>DNI 44814019</td>\n",
       "      <td>CEBALLOS VERONICA LUCIA</td>\n",
       "      <td>FRANCES_2012</td>\n",
       "      <td>ASIGNADO</td>\n",
       "      <td>2021-01-20</td>\n",
       "      <td>2021-01-26</td>\n",
       "      <td>2021-01-26</td>\n",
       "      <td>INFORMES_DIGITALES</td>\n",
       "      <td>NEUTRO</td>\n",
       "      <td>44814019</td>\n",
       "      <td>DNI</td>\n",
       "      <td>23448140199</td>\n",
       "    </tr>\n",
       "    <tr>\n",
       "      <th>44</th>\n",
       "      <td>DNI 44814019</td>\n",
       "      <td>CEBALLOS VERONICA LUCIA</td>\n",
       "      <td>FRANCES_2012</td>\n",
       "      <td>ASIGNADO</td>\n",
       "      <td>2021-01-20</td>\n",
       "      <td>2021-01-26</td>\n",
       "      <td>2021-01-26</td>\n",
       "      <td>INFORMES_DIGITALES</td>\n",
       "      <td>NEUTRO</td>\n",
       "      <td>44814019</td>\n",
       "      <td>DNI</td>\n",
       "      <td>27448140194</td>\n",
       "    </tr>\n",
       "    <tr>\n",
       "      <th>279</th>\n",
       "      <td>DNI 16754438</td>\n",
       "      <td>MOYANO NESTOR OMAR</td>\n",
       "      <td>FRANCES_2012</td>\n",
       "      <td>INTERESADO</td>\n",
       "      <td>2021-01-20</td>\n",
       "      <td>2021-01-26</td>\n",
       "      <td>2021-01-26</td>\n",
       "      <td>INFORMES_DIGITALES</td>\n",
       "      <td>NEUTRO</td>\n",
       "      <td>16754438</td>\n",
       "      <td>DNI</td>\n",
       "      <td>20167544380</td>\n",
       "    </tr>\n",
       "    <tr>\n",
       "      <th>...</th>\n",
       "      <td>...</td>\n",
       "      <td>...</td>\n",
       "      <td>...</td>\n",
       "      <td>...</td>\n",
       "      <td>...</td>\n",
       "      <td>...</td>\n",
       "      <td>...</td>\n",
       "      <td>...</td>\n",
       "      <td>...</td>\n",
       "      <td>...</td>\n",
       "      <td>...</td>\n",
       "      <td>...</td>\n",
       "    </tr>\n",
       "    <tr>\n",
       "      <th>32899</th>\n",
       "      <td>LE  4075655</td>\n",
       "      <td>CORVALAN MANUEL WENCESLAO</td>\n",
       "      <td>COTO_TARDIA</td>\n",
       "      <td>NO VISTO</td>\n",
       "      <td>2021-01-20</td>\n",
       "      <td>2021-01-26</td>\n",
       "      <td>2021-01-26</td>\n",
       "      <td>INFORMES_DIGITALES</td>\n",
       "      <td>NEUTRO</td>\n",
       "      <td>4075655</td>\n",
       "      <td>LE</td>\n",
       "      <td>27040756553</td>\n",
       "    </tr>\n",
       "    <tr>\n",
       "      <th>32958</th>\n",
       "      <td>LC  4249078</td>\n",
       "      <td>SOTO ROSA ESTER</td>\n",
       "      <td>COTO_TARDIA</td>\n",
       "      <td>NO VISTO</td>\n",
       "      <td>2021-01-20</td>\n",
       "      <td>2021-01-26</td>\n",
       "      <td>2021-01-26</td>\n",
       "      <td>INFORMES_DIGITALES</td>\n",
       "      <td>NEUTRO</td>\n",
       "      <td>4249078</td>\n",
       "      <td>LC</td>\n",
       "      <td>20042490785</td>\n",
       "    </tr>\n",
       "    <tr>\n",
       "      <th>32962</th>\n",
       "      <td>LC  4249078</td>\n",
       "      <td>SOTO ROSA ESTER</td>\n",
       "      <td>COTO_TARDIA</td>\n",
       "      <td>NO VISTO</td>\n",
       "      <td>2021-01-20</td>\n",
       "      <td>2021-01-26</td>\n",
       "      <td>2021-01-26</td>\n",
       "      <td>INFORMES_DIGITALES</td>\n",
       "      <td>NEUTRO</td>\n",
       "      <td>4249078</td>\n",
       "      <td>LC</td>\n",
       "      <td>23042490784</td>\n",
       "    </tr>\n",
       "    <tr>\n",
       "      <th>32967</th>\n",
       "      <td>LC  5596515</td>\n",
       "      <td>DIAZ VICTORIA</td>\n",
       "      <td>COTO_TARDIA</td>\n",
       "      <td>NO VISTO</td>\n",
       "      <td>2021-01-20</td>\n",
       "      <td>2021-01-26</td>\n",
       "      <td>2021-01-26</td>\n",
       "      <td>INFORMES_DIGITALES</td>\n",
       "      <td>NEUTRO</td>\n",
       "      <td>5596515</td>\n",
       "      <td>LC</td>\n",
       "      <td>20055965154</td>\n",
       "    </tr>\n",
       "    <tr>\n",
       "      <th>32971</th>\n",
       "      <td>LC  5596515</td>\n",
       "      <td>DIAZ VICTORIA</td>\n",
       "      <td>COTO_TARDIA</td>\n",
       "      <td>NO VISTO</td>\n",
       "      <td>2021-01-20</td>\n",
       "      <td>2021-01-26</td>\n",
       "      <td>2021-01-26</td>\n",
       "      <td>INFORMES_DIGITALES</td>\n",
       "      <td>NEUTRO</td>\n",
       "      <td>5596515</td>\n",
       "      <td>LC</td>\n",
       "      <td>27055965159</td>\n",
       "    </tr>\n",
       "  </tbody>\n",
       "</table>\n",
       "<p>1454 rows × 12 columns</p>\n",
       "</div>"
      ],
      "text/plain": [
       "                 IDMOROSO                                    NOMBRE  \\\n",
       "23     DNI 42538841        MACHICOTE DELFINA                          \n",
       "24     DNI 42538841        MACHICOTE DELFINA                          \n",
       "43     DNI 44814019        CEBALLOS VERONICA LUCIA                    \n",
       "44     DNI 44814019        CEBALLOS VERONICA LUCIA                    \n",
       "279    DNI 16754438        MOYANO NESTOR OMAR                         \n",
       "...                   ...                                       ...   \n",
       "32899  LE  4075655         CORVALAN MANUEL WENCESLAO                  \n",
       "32958  LC  4249078         SOTO ROSA ESTER                            \n",
       "32962  LC  4249078         SOTO ROSA ESTER                            \n",
       "32967  LC  5596515         DIAZ VICTORIA                              \n",
       "32971  LC  5596515         DIAZ VICTORIA                              \n",
       "\n",
       "                  IDCLIENTE ESTADO_ANTERIOR FECHA_ENVIO_ENRIQUECIMIENTO  \\\n",
       "23     FRANCES_2012                ASIGNADO                  2021-01-20   \n",
       "24     FRANCES_2012                ASIGNADO                  2021-01-20   \n",
       "43     FRANCES_2012                ASIGNADO                  2021-01-20   \n",
       "44     FRANCES_2012                ASIGNADO                  2021-01-20   \n",
       "279    FRANCES_2012              INTERESADO                  2021-01-20   \n",
       "...                     ...             ...                         ...   \n",
       "32899  COTO_TARDIA                 NO VISTO                  2021-01-20   \n",
       "32958  COTO_TARDIA                 NO VISTO                  2021-01-20   \n",
       "32962  COTO_TARDIA                 NO VISTO                  2021-01-20   \n",
       "32967  COTO_TARDIA                 NO VISTO                  2021-01-20   \n",
       "32971  COTO_TARDIA                 NO VISTO                  2021-01-20   \n",
       "\n",
       "      FECHA_INSERCION_DATO FECHA_CAMBIO_ESTADO           PROVEEDOR CATEGORIA  \\\n",
       "23              2021-01-26          2021-01-26  INFORMES_DIGITALES    NEUTRO   \n",
       "24              2021-01-26          2021-01-26  INFORMES_DIGITALES    NEUTRO   \n",
       "43              2021-01-26          2021-01-26  INFORMES_DIGITALES    NEUTRO   \n",
       "44              2021-01-26          2021-01-26  INFORMES_DIGITALES    NEUTRO   \n",
       "279             2021-01-26          2021-01-26  INFORMES_DIGITALES    NEUTRO   \n",
       "...                    ...                 ...                 ...       ...   \n",
       "32899           2021-01-26          2021-01-26  INFORMES_DIGITALES    NEUTRO   \n",
       "32958           2021-01-26          2021-01-26  INFORMES_DIGITALES    NEUTRO   \n",
       "32962           2021-01-26          2021-01-26  INFORMES_DIGITALES    NEUTRO   \n",
       "32967           2021-01-26          2021-01-26  INFORMES_DIGITALES    NEUTRO   \n",
       "32971           2021-01-26          2021-01-26  INFORMES_DIGITALES    NEUTRO   \n",
       "\n",
       "        NRO_DOC TIPO_DOC    CUIT_CUIL  \n",
       "23     42538841      DNI  20425388410  \n",
       "24     42538841      DNI  27425388415  \n",
       "43     44814019      DNI  23448140199  \n",
       "44     44814019      DNI  27448140194  \n",
       "279    16754438      DNI  20167544380  \n",
       "...         ...      ...          ...  \n",
       "32899   4075655       LE  27040756553  \n",
       "32958   4249078       LC  20042490785  \n",
       "32962   4249078       LC  23042490784  \n",
       "32967   5596515       LC  20055965154  \n",
       "32971   5596515       LC  27055965159  \n",
       "\n",
       "[1454 rows x 12 columns]"
      ]
     },
     "execution_count": 70,
     "metadata": {},
     "output_type": "execute_result"
    }
   ],
   "source": [
    "duplicateRowsDF"
   ]
  },
  {
   "cell_type": "code",
   "execution_count": 71,
   "metadata": {},
   "outputs": [
    {
     "data": {
      "text/html": [
       "<div>\n",
       "<style scoped>\n",
       "    .dataframe tbody tr th:only-of-type {\n",
       "        vertical-align: middle;\n",
       "    }\n",
       "\n",
       "    .dataframe tbody tr th {\n",
       "        vertical-align: top;\n",
       "    }\n",
       "\n",
       "    .dataframe thead th {\n",
       "        text-align: right;\n",
       "    }\n",
       "</style>\n",
       "<table border=\"1\" class=\"dataframe\">\n",
       "  <thead>\n",
       "    <tr style=\"text-align: right;\">\n",
       "      <th></th>\n",
       "      <th>IDMOROSO</th>\n",
       "      <th>NOMBRE</th>\n",
       "      <th>IDCLIENTE</th>\n",
       "      <th>ESTADO_ANTERIOR</th>\n",
       "      <th>FECHA_ENVIO_ENRIQUECIMIENTO</th>\n",
       "      <th>FECHA_INSERCION_DATO</th>\n",
       "      <th>FECHA_CAMBIO_ESTADO</th>\n",
       "      <th>PROVEEDOR</th>\n",
       "      <th>CATEGORIA</th>\n",
       "      <th>NRO_DOC</th>\n",
       "      <th>TIPO_DOC</th>\n",
       "      <th>CUIT_CUIL</th>\n",
       "    </tr>\n",
       "  </thead>\n",
       "  <tbody>\n",
       "    <tr>\n",
       "      <th>23</th>\n",
       "      <td>DNI 42538841</td>\n",
       "      <td>MACHICOTE DELFINA</td>\n",
       "      <td>FRANCES_2012</td>\n",
       "      <td>ASIGNADO</td>\n",
       "      <td>2021-01-20</td>\n",
       "      <td>2021-01-26</td>\n",
       "      <td>2021-01-26</td>\n",
       "      <td>INFORMES_DIGITALES</td>\n",
       "      <td>NEUTRO</td>\n",
       "      <td>42538841</td>\n",
       "      <td>DNI</td>\n",
       "      <td>20425388410</td>\n",
       "    </tr>\n",
       "    <tr>\n",
       "      <th>24</th>\n",
       "      <td>DNI 42538841</td>\n",
       "      <td>MACHICOTE DELFINA</td>\n",
       "      <td>FRANCES_2012</td>\n",
       "      <td>ASIGNADO</td>\n",
       "      <td>2021-01-20</td>\n",
       "      <td>2021-01-26</td>\n",
       "      <td>2021-01-26</td>\n",
       "      <td>INFORMES_DIGITALES</td>\n",
       "      <td>NEUTRO</td>\n",
       "      <td>42538841</td>\n",
       "      <td>DNI</td>\n",
       "      <td>27425388415</td>\n",
       "    </tr>\n",
       "  </tbody>\n",
       "</table>\n",
       "</div>"
      ],
      "text/plain": [
       "              IDMOROSO                                    NOMBRE  \\\n",
       "23  DNI 42538841        MACHICOTE DELFINA                          \n",
       "24  DNI 42538841        MACHICOTE DELFINA                          \n",
       "\n",
       "               IDCLIENTE ESTADO_ANTERIOR FECHA_ENVIO_ENRIQUECIMIENTO  \\\n",
       "23  FRANCES_2012                ASIGNADO                  2021-01-20   \n",
       "24  FRANCES_2012                ASIGNADO                  2021-01-20   \n",
       "\n",
       "   FECHA_INSERCION_DATO FECHA_CAMBIO_ESTADO           PROVEEDOR CATEGORIA  \\\n",
       "23           2021-01-26          2021-01-26  INFORMES_DIGITALES    NEUTRO   \n",
       "24           2021-01-26          2021-01-26  INFORMES_DIGITALES    NEUTRO   \n",
       "\n",
       "     NRO_DOC TIPO_DOC    CUIT_CUIL  \n",
       "23  42538841      DNI  20425388410  \n",
       "24  42538841      DNI  27425388415  "
      ]
     },
     "execution_count": 71,
     "metadata": {},
     "output_type": "execute_result"
    }
   ],
   "source": [
    "df_clean[df_clean['IDMOROSO'] == 'DNI 42538841      ']"
   ]
  },
  {
   "cell_type": "markdown",
   "metadata": {},
   "source": [
    "El problema que se presenta es que al no enviar con género, desde Informes Digitales devuelven 2 cuits. Pueden existir errores en ese punto. No tenemos solución para determinar si es uno u otro."
   ]
  },
  {
   "cell_type": "code",
   "execution_count": 72,
   "metadata": {},
   "outputs": [],
   "source": [
    "df_clean = df_clean.drop_duplicates(subset=['IDMOROSO','IDCLIENTE'], keep= 'first')"
   ]
  },
  {
   "cell_type": "code",
   "execution_count": 73,
   "metadata": {},
   "outputs": [
    {
     "data": {
      "text/plain": [
       "(5319, 12)"
      ]
     },
     "execution_count": 73,
     "metadata": {},
     "output_type": "execute_result"
    }
   ],
   "source": [
    "df_clean.shape"
   ]
  },
  {
   "cell_type": "code",
   "execution_count": 74,
   "metadata": {
    "scrolled": true
   },
   "outputs": [
    {
     "data": {
      "text/html": [
       "<div>\n",
       "<style scoped>\n",
       "    .dataframe tbody tr th:only-of-type {\n",
       "        vertical-align: middle;\n",
       "    }\n",
       "\n",
       "    .dataframe tbody tr th {\n",
       "        vertical-align: top;\n",
       "    }\n",
       "\n",
       "    .dataframe thead th {\n",
       "        text-align: right;\n",
       "    }\n",
       "</style>\n",
       "<table border=\"1\" class=\"dataframe\">\n",
       "  <thead>\n",
       "    <tr style=\"text-align: right;\">\n",
       "      <th></th>\n",
       "      <th>IDMOROSO</th>\n",
       "      <th>NOMBRE</th>\n",
       "      <th>IDCLIENTE</th>\n",
       "      <th>ESTADO_ANTERIOR</th>\n",
       "      <th>FECHA_ENVIO_ENRIQUECIMIENTO</th>\n",
       "      <th>FECHA_INSERCION_DATO</th>\n",
       "      <th>FECHA_CAMBIO_ESTADO</th>\n",
       "      <th>PROVEEDOR</th>\n",
       "      <th>CATEGORIA</th>\n",
       "      <th>NRO_DOC</th>\n",
       "      <th>TIPO_DOC</th>\n",
       "      <th>CUIT_CUIL</th>\n",
       "    </tr>\n",
       "  </thead>\n",
       "  <tbody>\n",
       "    <tr>\n",
       "      <th>23</th>\n",
       "      <td>DNI 42538841</td>\n",
       "      <td>MACHICOTE DELFINA</td>\n",
       "      <td>FRANCES_2012</td>\n",
       "      <td>ASIGNADO</td>\n",
       "      <td>2021-01-20</td>\n",
       "      <td>2021-01-26</td>\n",
       "      <td>2021-01-26</td>\n",
       "      <td>INFORMES_DIGITALES</td>\n",
       "      <td>NEUTRO</td>\n",
       "      <td>42538841</td>\n",
       "      <td>DNI</td>\n",
       "      <td>20425388410</td>\n",
       "    </tr>\n",
       "  </tbody>\n",
       "</table>\n",
       "</div>"
      ],
      "text/plain": [
       "              IDMOROSO                                    NOMBRE  \\\n",
       "23  DNI 42538841        MACHICOTE DELFINA                          \n",
       "\n",
       "               IDCLIENTE ESTADO_ANTERIOR FECHA_ENVIO_ENRIQUECIMIENTO  \\\n",
       "23  FRANCES_2012                ASIGNADO                  2021-01-20   \n",
       "\n",
       "   FECHA_INSERCION_DATO FECHA_CAMBIO_ESTADO           PROVEEDOR CATEGORIA  \\\n",
       "23           2021-01-26          2021-01-26  INFORMES_DIGITALES    NEUTRO   \n",
       "\n",
       "     NRO_DOC TIPO_DOC    CUIT_CUIL  \n",
       "23  42538841      DNI  20425388410  "
      ]
     },
     "execution_count": 74,
     "metadata": {},
     "output_type": "execute_result"
    }
   ],
   "source": [
    "df_clean[df_clean['IDMOROSO'] == 'DNI 42538841      ']"
   ]
  },
  {
   "cell_type": "markdown",
   "metadata": {},
   "source": [
    "## Nuevo Estado"
   ]
  },
  {
   "cell_type": "markdown",
   "metadata": {
    "scrolled": true
   },
   "source": [
    "Como no se usaron nuevos estados, se deja en nulo"
   ]
  },
  {
   "cell_type": "code",
   "execution_count": 75,
   "metadata": {},
   "outputs": [],
   "source": [
    "df_clean = df_clean.assign(NUEVO_ESTADO=np.nan)"
   ]
  },
  {
   "cell_type": "markdown",
   "metadata": {},
   "source": [
    "## Enriquecido"
   ]
  },
  {
   "cell_type": "markdown",
   "metadata": {},
   "source": [
    "Nota: sólo estoy mirando los enriquecidos. Si no se enriqueció, no lo mando al LOG."
   ]
  },
  {
   "cell_type": "code",
   "execution_count": 76,
   "metadata": {},
   "outputs": [],
   "source": [
    "df_clean = df_clean.assign(ENRIQUECIDO=True)"
   ]
  },
  {
   "cell_type": "code",
   "execution_count": 77,
   "metadata": {},
   "outputs": [
    {
     "data": {
      "text/html": [
       "<div>\n",
       "<style scoped>\n",
       "    .dataframe tbody tr th:only-of-type {\n",
       "        vertical-align: middle;\n",
       "    }\n",
       "\n",
       "    .dataframe tbody tr th {\n",
       "        vertical-align: top;\n",
       "    }\n",
       "\n",
       "    .dataframe thead th {\n",
       "        text-align: right;\n",
       "    }\n",
       "</style>\n",
       "<table border=\"1\" class=\"dataframe\">\n",
       "  <thead>\n",
       "    <tr style=\"text-align: right;\">\n",
       "      <th></th>\n",
       "      <th>IDMOROSO</th>\n",
       "      <th>NOMBRE</th>\n",
       "      <th>IDCLIENTE</th>\n",
       "      <th>ESTADO_ANTERIOR</th>\n",
       "      <th>FECHA_ENVIO_ENRIQUECIMIENTO</th>\n",
       "      <th>FECHA_INSERCION_DATO</th>\n",
       "      <th>FECHA_CAMBIO_ESTADO</th>\n",
       "      <th>PROVEEDOR</th>\n",
       "      <th>CATEGORIA</th>\n",
       "      <th>NRO_DOC</th>\n",
       "      <th>TIPO_DOC</th>\n",
       "      <th>CUIT_CUIL</th>\n",
       "      <th>NUEVO_ESTADO</th>\n",
       "      <th>ENRIQUECIDO</th>\n",
       "    </tr>\n",
       "  </thead>\n",
       "  <tbody>\n",
       "    <tr>\n",
       "      <th>0</th>\n",
       "      <td>DNI 37966797</td>\n",
       "      <td>GARCIA DAIANA MARICEL</td>\n",
       "      <td>FRANCES_2012</td>\n",
       "      <td>ASIGNADO</td>\n",
       "      <td>2021-01-20</td>\n",
       "      <td>2021-01-26</td>\n",
       "      <td>2021-01-26</td>\n",
       "      <td>INFORMES_DIGITALES</td>\n",
       "      <td>NEUTRO</td>\n",
       "      <td>37966797</td>\n",
       "      <td>DNI</td>\n",
       "      <td>27379667975</td>\n",
       "      <td>NaN</td>\n",
       "      <td>True</td>\n",
       "    </tr>\n",
       "    <tr>\n",
       "      <th>3</th>\n",
       "      <td>DNI 35170607</td>\n",
       "      <td>FERREYRA PABLO</td>\n",
       "      <td>FRANCES_2012</td>\n",
       "      <td>ASIGNADO</td>\n",
       "      <td>2021-01-20</td>\n",
       "      <td>2021-01-26</td>\n",
       "      <td>2021-01-26</td>\n",
       "      <td>INFORMES_DIGITALES</td>\n",
       "      <td>NEUTRO</td>\n",
       "      <td>35170607</td>\n",
       "      <td>DNI</td>\n",
       "      <td>20351706075</td>\n",
       "      <td>NaN</td>\n",
       "      <td>True</td>\n",
       "    </tr>\n",
       "    <tr>\n",
       "      <th>6</th>\n",
       "      <td>DNI 41245032</td>\n",
       "      <td>MARTINEZ SOLANGE NATALI</td>\n",
       "      <td>FRANCES_2012</td>\n",
       "      <td>ASIGNADO</td>\n",
       "      <td>2021-01-20</td>\n",
       "      <td>2021-01-26</td>\n",
       "      <td>2021-01-26</td>\n",
       "      <td>INFORMES_DIGITALES</td>\n",
       "      <td>NEUTRO</td>\n",
       "      <td>41245032</td>\n",
       "      <td>DNI</td>\n",
       "      <td>27412450324</td>\n",
       "      <td>NaN</td>\n",
       "      <td>True</td>\n",
       "    </tr>\n",
       "    <tr>\n",
       "      <th>8</th>\n",
       "      <td>DNI 41327214</td>\n",
       "      <td>SZKATULAK PAULA</td>\n",
       "      <td>FRANCES_2012</td>\n",
       "      <td>INTERESADO</td>\n",
       "      <td>2021-01-20</td>\n",
       "      <td>2021-01-26</td>\n",
       "      <td>2021-01-26</td>\n",
       "      <td>INFORMES_DIGITALES</td>\n",
       "      <td>NEUTRO</td>\n",
       "      <td>41327214</td>\n",
       "      <td>DNI</td>\n",
       "      <td>27413272144</td>\n",
       "      <td>NaN</td>\n",
       "      <td>True</td>\n",
       "    </tr>\n",
       "    <tr>\n",
       "      <th>10</th>\n",
       "      <td>DNI 41546687</td>\n",
       "      <td>MENDEZ CARLOS ALBERTO</td>\n",
       "      <td>FRANCES_2012</td>\n",
       "      <td>ASIGNADO</td>\n",
       "      <td>2021-01-20</td>\n",
       "      <td>2021-01-26</td>\n",
       "      <td>2021-01-26</td>\n",
       "      <td>INFORMES_DIGITALES</td>\n",
       "      <td>NEUTRO</td>\n",
       "      <td>41546687</td>\n",
       "      <td>DNI</td>\n",
       "      <td>20415466871</td>\n",
       "      <td>NaN</td>\n",
       "      <td>True</td>\n",
       "    </tr>\n",
       "  </tbody>\n",
       "</table>\n",
       "</div>"
      ],
      "text/plain": [
       "              IDMOROSO                                    NOMBRE  \\\n",
       "0   DNI 37966797        GARCIA DAIANA MARICEL                      \n",
       "3   DNI 35170607        FERREYRA PABLO                             \n",
       "6   DNI 41245032        MARTINEZ SOLANGE NATALI                    \n",
       "8   DNI 41327214        SZKATULAK PAULA                            \n",
       "10  DNI 41546687        MENDEZ CARLOS ALBERTO                      \n",
       "\n",
       "               IDCLIENTE ESTADO_ANTERIOR FECHA_ENVIO_ENRIQUECIMIENTO  \\\n",
       "0   FRANCES_2012                ASIGNADO                  2021-01-20   \n",
       "3   FRANCES_2012                ASIGNADO                  2021-01-20   \n",
       "6   FRANCES_2012                ASIGNADO                  2021-01-20   \n",
       "8   FRANCES_2012              INTERESADO                  2021-01-20   \n",
       "10  FRANCES_2012                ASIGNADO                  2021-01-20   \n",
       "\n",
       "   FECHA_INSERCION_DATO FECHA_CAMBIO_ESTADO           PROVEEDOR CATEGORIA  \\\n",
       "0            2021-01-26          2021-01-26  INFORMES_DIGITALES    NEUTRO   \n",
       "3            2021-01-26          2021-01-26  INFORMES_DIGITALES    NEUTRO   \n",
       "6            2021-01-26          2021-01-26  INFORMES_DIGITALES    NEUTRO   \n",
       "8            2021-01-26          2021-01-26  INFORMES_DIGITALES    NEUTRO   \n",
       "10           2021-01-26          2021-01-26  INFORMES_DIGITALES    NEUTRO   \n",
       "\n",
       "     NRO_DOC TIPO_DOC    CUIT_CUIL  NUEVO_ESTADO  ENRIQUECIDO  \n",
       "0   37966797      DNI  27379667975           NaN         True  \n",
       "3   35170607      DNI  20351706075           NaN         True  \n",
       "6   41245032      DNI  27412450324           NaN         True  \n",
       "8   41327214      DNI  27413272144           NaN         True  \n",
       "10  41546687      DNI  20415466871           NaN         True  "
      ]
     },
     "execution_count": 77,
     "metadata": {},
     "output_type": "execute_result"
    }
   ],
   "source": [
    "df_clean.head()"
   ]
  },
  {
   "cell_type": "code",
   "execution_count": 78,
   "metadata": {},
   "outputs": [],
   "source": [
    "df_clean = df_clean [['IDMOROSO','IDCLIENTE','ESTADO_ANTERIOR','CATEGORIA','NUEVO_ESTADO','ENRIQUECIDO','FECHA_ENVIO_ENRIQUECIMIENTO','FECHA_INSERCION_DATO','FECHA_CAMBIO_ESTADO','PROVEEDOR']]"
   ]
  },
  {
   "cell_type": "code",
   "execution_count": 79,
   "metadata": {
    "scrolled": true
   },
   "outputs": [
    {
     "data": {
      "text/html": [
       "<div>\n",
       "<style scoped>\n",
       "    .dataframe tbody tr th:only-of-type {\n",
       "        vertical-align: middle;\n",
       "    }\n",
       "\n",
       "    .dataframe tbody tr th {\n",
       "        vertical-align: top;\n",
       "    }\n",
       "\n",
       "    .dataframe thead th {\n",
       "        text-align: right;\n",
       "    }\n",
       "</style>\n",
       "<table border=\"1\" class=\"dataframe\">\n",
       "  <thead>\n",
       "    <tr style=\"text-align: right;\">\n",
       "      <th></th>\n",
       "      <th>IDMOROSO</th>\n",
       "      <th>IDCLIENTE</th>\n",
       "      <th>ESTADO_ANTERIOR</th>\n",
       "      <th>CATEGORIA</th>\n",
       "      <th>NUEVO_ESTADO</th>\n",
       "      <th>ENRIQUECIDO</th>\n",
       "      <th>FECHA_ENVIO_ENRIQUECIMIENTO</th>\n",
       "      <th>FECHA_INSERCION_DATO</th>\n",
       "      <th>FECHA_CAMBIO_ESTADO</th>\n",
       "      <th>PROVEEDOR</th>\n",
       "    </tr>\n",
       "  </thead>\n",
       "  <tbody>\n",
       "    <tr>\n",
       "      <th>0</th>\n",
       "      <td>DNI 37966797</td>\n",
       "      <td>FRANCES_2012</td>\n",
       "      <td>ASIGNADO</td>\n",
       "      <td>NEUTRO</td>\n",
       "      <td>NaN</td>\n",
       "      <td>True</td>\n",
       "      <td>2021-01-20</td>\n",
       "      <td>2021-01-26</td>\n",
       "      <td>2021-01-26</td>\n",
       "      <td>INFORMES_DIGITALES</td>\n",
       "    </tr>\n",
       "    <tr>\n",
       "      <th>3</th>\n",
       "      <td>DNI 35170607</td>\n",
       "      <td>FRANCES_2012</td>\n",
       "      <td>ASIGNADO</td>\n",
       "      <td>NEUTRO</td>\n",
       "      <td>NaN</td>\n",
       "      <td>True</td>\n",
       "      <td>2021-01-20</td>\n",
       "      <td>2021-01-26</td>\n",
       "      <td>2021-01-26</td>\n",
       "      <td>INFORMES_DIGITALES</td>\n",
       "    </tr>\n",
       "    <tr>\n",
       "      <th>6</th>\n",
       "      <td>DNI 41245032</td>\n",
       "      <td>FRANCES_2012</td>\n",
       "      <td>ASIGNADO</td>\n",
       "      <td>NEUTRO</td>\n",
       "      <td>NaN</td>\n",
       "      <td>True</td>\n",
       "      <td>2021-01-20</td>\n",
       "      <td>2021-01-26</td>\n",
       "      <td>2021-01-26</td>\n",
       "      <td>INFORMES_DIGITALES</td>\n",
       "    </tr>\n",
       "    <tr>\n",
       "      <th>8</th>\n",
       "      <td>DNI 41327214</td>\n",
       "      <td>FRANCES_2012</td>\n",
       "      <td>INTERESADO</td>\n",
       "      <td>NEUTRO</td>\n",
       "      <td>NaN</td>\n",
       "      <td>True</td>\n",
       "      <td>2021-01-20</td>\n",
       "      <td>2021-01-26</td>\n",
       "      <td>2021-01-26</td>\n",
       "      <td>INFORMES_DIGITALES</td>\n",
       "    </tr>\n",
       "    <tr>\n",
       "      <th>10</th>\n",
       "      <td>DNI 41546687</td>\n",
       "      <td>FRANCES_2012</td>\n",
       "      <td>ASIGNADO</td>\n",
       "      <td>NEUTRO</td>\n",
       "      <td>NaN</td>\n",
       "      <td>True</td>\n",
       "      <td>2021-01-20</td>\n",
       "      <td>2021-01-26</td>\n",
       "      <td>2021-01-26</td>\n",
       "      <td>INFORMES_DIGITALES</td>\n",
       "    </tr>\n",
       "  </tbody>\n",
       "</table>\n",
       "</div>"
      ],
      "text/plain": [
       "              IDMOROSO             IDCLIENTE ESTADO_ANTERIOR CATEGORIA  \\\n",
       "0   DNI 37966797        FRANCES_2012                ASIGNADO    NEUTRO   \n",
       "3   DNI 35170607        FRANCES_2012                ASIGNADO    NEUTRO   \n",
       "6   DNI 41245032        FRANCES_2012                ASIGNADO    NEUTRO   \n",
       "8   DNI 41327214        FRANCES_2012              INTERESADO    NEUTRO   \n",
       "10  DNI 41546687        FRANCES_2012                ASIGNADO    NEUTRO   \n",
       "\n",
       "    NUEVO_ESTADO  ENRIQUECIDO FECHA_ENVIO_ENRIQUECIMIENTO  \\\n",
       "0            NaN         True                  2021-01-20   \n",
       "3            NaN         True                  2021-01-20   \n",
       "6            NaN         True                  2021-01-20   \n",
       "8            NaN         True                  2021-01-20   \n",
       "10           NaN         True                  2021-01-20   \n",
       "\n",
       "   FECHA_INSERCION_DATO FECHA_CAMBIO_ESTADO           PROVEEDOR  \n",
       "0            2021-01-26          2021-01-26  INFORMES_DIGITALES  \n",
       "3            2021-01-26          2021-01-26  INFORMES_DIGITALES  \n",
       "6            2021-01-26          2021-01-26  INFORMES_DIGITALES  \n",
       "8            2021-01-26          2021-01-26  INFORMES_DIGITALES  \n",
       "10           2021-01-26          2021-01-26  INFORMES_DIGITALES  "
      ]
     },
     "execution_count": 79,
     "metadata": {},
     "output_type": "execute_result"
    }
   ],
   "source": [
    "df_clean.head()"
   ]
  },
  {
   "cell_type": "code",
   "execution_count": 80,
   "metadata": {},
   "outputs": [
    {
     "data": {
      "text/plain": [
       "(5319, 10)"
      ]
     },
     "execution_count": 80,
     "metadata": {},
     "output_type": "execute_result"
    }
   ],
   "source": [
    "df_clean.shape"
   ]
  },
  {
   "cell_type": "markdown",
   "metadata": {},
   "source": [
    "# Export"
   ]
  },
  {
   "cell_type": "code",
   "execution_count": 81,
   "metadata": {},
   "outputs": [],
   "source": [
    "df_clean.to_csv('/mnt/c/Users/Dleg/Data/MOPC/MOPC/Enriquecimiento de Datos/Data Cleaning/Informes Digitales/Exports/DAM_LOG/InfDig_DAM_LOG_2601.csv',index=False)"
   ]
  },
  {
   "cell_type": "code",
   "execution_count": 83,
   "metadata": {},
   "outputs": [
    {
     "data": {
      "text/html": [
       "<div>\n",
       "<style scoped>\n",
       "    .dataframe tbody tr th:only-of-type {\n",
       "        vertical-align: middle;\n",
       "    }\n",
       "\n",
       "    .dataframe tbody tr th {\n",
       "        vertical-align: top;\n",
       "    }\n",
       "\n",
       "    .dataframe thead th {\n",
       "        text-align: right;\n",
       "    }\n",
       "</style>\n",
       "<table border=\"1\" class=\"dataframe\">\n",
       "  <thead>\n",
       "    <tr style=\"text-align: right;\">\n",
       "      <th></th>\n",
       "      <th>IDMOROSO</th>\n",
       "      <th>IDCLIENTE</th>\n",
       "      <th>ESTADO_ANTERIOR</th>\n",
       "      <th>CATEGORIA</th>\n",
       "      <th>NUEVO_ESTADO</th>\n",
       "      <th>ENRIQUECIDO</th>\n",
       "      <th>FECHA_ENVIO_ENRIQUECIMIENTO</th>\n",
       "      <th>FECHA_INSERCION_DATO</th>\n",
       "      <th>FECHA_CAMBIO_ESTADO</th>\n",
       "      <th>PROVEEDOR</th>\n",
       "    </tr>\n",
       "  </thead>\n",
       "  <tbody>\n",
       "  </tbody>\n",
       "</table>\n",
       "</div>"
      ],
      "text/plain": [
       "Empty DataFrame\n",
       "Columns: [IDMOROSO, IDCLIENTE, ESTADO_ANTERIOR, CATEGORIA, NUEVO_ESTADO, ENRIQUECIDO, FECHA_ENVIO_ENRIQUECIMIENTO, FECHA_INSERCION_DATO, FECHA_CAMBIO_ESTADO, PROVEEDOR]\n",
       "Index: []"
      ]
     },
     "execution_count": 83,
     "metadata": {},
     "output_type": "execute_result"
    }
   ],
   "source": [
    "df_clean[df_clean.duplicated(subset=['IDMOROSO'])]"
   ]
  },
  {
   "cell_type": "code",
   "execution_count": null,
   "metadata": {},
   "outputs": [],
   "source": []
  }
 ],
 "metadata": {
  "kernelspec": {
   "display_name": "Python 3",
   "language": "python",
   "name": "python3"
  },
  "language_info": {
   "codemirror_mode": {
    "name": "ipython",
    "version": 3
   },
   "file_extension": ".py",
   "mimetype": "text/x-python",
   "name": "python",
   "nbconvert_exporter": "python",
   "pygments_lexer": "ipython3",
   "version": "3.8.6"
  }
 },
 "nbformat": 4,
 "nbformat_minor": 4
}
