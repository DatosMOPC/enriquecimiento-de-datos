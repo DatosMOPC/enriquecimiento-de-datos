{
 "cells": [
  {
   "cell_type": "code",
   "execution_count": 1,
   "metadata": {},
   "outputs": [],
   "source": [
    "import pandas as pd\n",
    "import numpy as np"
   ]
  },
  {
   "cell_type": "markdown",
   "metadata": {},
   "source": [
    "# LOG"
   ]
  },
  {
   "cell_type": "markdown",
   "metadata": {},
   "source": [
    "# 1. Datos enviados"
   ]
  },
  {
   "cell_type": "code",
   "execution_count": 2,
   "metadata": {},
   "outputs": [],
   "source": [
    "df_log = pd.read_excel('/mnt/c/Users/Dleg/Data/MOPC/MOPC/Enriquecimiento de Datos/Data Cleaning/Informes Digitales/Datasets/Datos Enviados/0201-AMEX-BBVA.xlsx')"
   ]
  },
  {
   "cell_type": "code",
   "execution_count": 3,
   "metadata": {
    "scrolled": true
   },
   "outputs": [
    {
     "data": {
      "text/html": [
       "<div>\n",
       "<style scoped>\n",
       "    .dataframe tbody tr th:only-of-type {\n",
       "        vertical-align: middle;\n",
       "    }\n",
       "\n",
       "    .dataframe tbody tr th {\n",
       "        vertical-align: top;\n",
       "    }\n",
       "\n",
       "    .dataframe thead th {\n",
       "        text-align: right;\n",
       "    }\n",
       "</style>\n",
       "<table border=\"1\" class=\"dataframe\">\n",
       "  <thead>\n",
       "    <tr style=\"text-align: right;\">\n",
       "      <th></th>\n",
       "      <th>IDMOROSO</th>\n",
       "      <th>DNI</th>\n",
       "      <th>IDCLIENTE</th>\n",
       "      <th>ESTADO</th>\n",
       "    </tr>\n",
       "  </thead>\n",
       "  <tbody>\n",
       "    <tr>\n",
       "      <th>0</th>\n",
       "      <td>RMS376416100131006</td>\n",
       "      <td>23470018</td>\n",
       "      <td>AMEX_PARM</td>\n",
       "      <td>CANCELO</td>\n",
       "    </tr>\n",
       "    <tr>\n",
       "      <th>1</th>\n",
       "      <td>RMS376416830222000</td>\n",
       "      <td>14572108</td>\n",
       "      <td>AMEX_PARM</td>\n",
       "      <td>CANCELO</td>\n",
       "    </tr>\n",
       "    <tr>\n",
       "      <th>2</th>\n",
       "      <td>RMS376418146342001</td>\n",
       "      <td>10828195</td>\n",
       "      <td>AMEX_PARM</td>\n",
       "      <td>CANCELO FULL</td>\n",
       "    </tr>\n",
       "    <tr>\n",
       "      <th>3</th>\n",
       "      <td>RMS376418379981004</td>\n",
       "      <td>23453906</td>\n",
       "      <td>AMEX_PARM</td>\n",
       "      <td>CANCELO FULL</td>\n",
       "    </tr>\n",
       "    <tr>\n",
       "      <th>4</th>\n",
       "      <td>RMS376418471547000</td>\n",
       "      <td>29735377</td>\n",
       "      <td>AMEX_PARM</td>\n",
       "      <td>CANCELO FULL</td>\n",
       "    </tr>\n",
       "  </tbody>\n",
       "</table>\n",
       "</div>"
      ],
      "text/plain": [
       "             IDMOROSO       DNI             IDCLIENTE                ESTADO\n",
       "0  RMS376416100131006  23470018  AMEX_PARM             CANCELO             \n",
       "1  RMS376416830222000  14572108  AMEX_PARM             CANCELO             \n",
       "2  RMS376418146342001  10828195  AMEX_PARM             CANCELO FULL        \n",
       "3  RMS376418379981004  23453906  AMEX_PARM             CANCELO FULL        \n",
       "4  RMS376418471547000  29735377  AMEX_PARM             CANCELO FULL        "
      ]
     },
     "execution_count": 3,
     "metadata": {},
     "output_type": "execute_result"
    }
   ],
   "source": [
    "df_log.head()"
   ]
  },
  {
   "cell_type": "code",
   "execution_count": 4,
   "metadata": {},
   "outputs": [],
   "source": [
    "df_log = df_log.rename(columns={\"ESTADO\": \"ESTADO_ANTERIOR\"})"
   ]
  },
  {
   "cell_type": "code",
   "execution_count": 5,
   "metadata": {},
   "outputs": [],
   "source": [
    "#df_log = df_log [['IDMOROSO','IDCLIENTE','DATOADIC','ESTADO_ANTERIOR']]"
   ]
  },
  {
   "cell_type": "code",
   "execution_count": 6,
   "metadata": {},
   "outputs": [],
   "source": [
    "fecha_envio_log = '2021-01-28'"
   ]
  },
  {
   "cell_type": "code",
   "execution_count": 7,
   "metadata": {},
   "outputs": [],
   "source": [
    "fecha_insercion_log = '2021-02-01'"
   ]
  },
  {
   "cell_type": "code",
   "execution_count": 8,
   "metadata": {},
   "outputs": [],
   "source": [
    "fecha_estados_log = '2021-02-01'"
   ]
  },
  {
   "cell_type": "code",
   "execution_count": 9,
   "metadata": {},
   "outputs": [],
   "source": [
    "df_log = df_log.assign(FECHA_ENVIO_ENRIQUECIMIENTO=fecha_envio_log)"
   ]
  },
  {
   "cell_type": "code",
   "execution_count": 10,
   "metadata": {},
   "outputs": [],
   "source": [
    "df_log = df_log.assign(FECHA_INSERCION_DATO=fecha_insercion_log)"
   ]
  },
  {
   "cell_type": "code",
   "execution_count": 11,
   "metadata": {},
   "outputs": [],
   "source": [
    "df_log = df_log.assign(FECHA_CAMBIO_ESTADO=fecha_estados_log)"
   ]
  },
  {
   "cell_type": "code",
   "execution_count": 12,
   "metadata": {
    "scrolled": true
   },
   "outputs": [
    {
     "data": {
      "text/html": [
       "<div>\n",
       "<style scoped>\n",
       "    .dataframe tbody tr th:only-of-type {\n",
       "        vertical-align: middle;\n",
       "    }\n",
       "\n",
       "    .dataframe tbody tr th {\n",
       "        vertical-align: top;\n",
       "    }\n",
       "\n",
       "    .dataframe thead th {\n",
       "        text-align: right;\n",
       "    }\n",
       "</style>\n",
       "<table border=\"1\" class=\"dataframe\">\n",
       "  <thead>\n",
       "    <tr style=\"text-align: right;\">\n",
       "      <th></th>\n",
       "      <th>IDMOROSO</th>\n",
       "      <th>DNI</th>\n",
       "      <th>IDCLIENTE</th>\n",
       "      <th>ESTADO_ANTERIOR</th>\n",
       "      <th>FECHA_ENVIO_ENRIQUECIMIENTO</th>\n",
       "      <th>FECHA_INSERCION_DATO</th>\n",
       "      <th>FECHA_CAMBIO_ESTADO</th>\n",
       "    </tr>\n",
       "  </thead>\n",
       "  <tbody>\n",
       "    <tr>\n",
       "      <th>0</th>\n",
       "      <td>RMS376416100131006</td>\n",
       "      <td>23470018</td>\n",
       "      <td>AMEX_PARM</td>\n",
       "      <td>CANCELO</td>\n",
       "      <td>2021-01-28</td>\n",
       "      <td>2021-02-01</td>\n",
       "      <td>2021-02-01</td>\n",
       "    </tr>\n",
       "    <tr>\n",
       "      <th>1</th>\n",
       "      <td>RMS376416830222000</td>\n",
       "      <td>14572108</td>\n",
       "      <td>AMEX_PARM</td>\n",
       "      <td>CANCELO</td>\n",
       "      <td>2021-01-28</td>\n",
       "      <td>2021-02-01</td>\n",
       "      <td>2021-02-01</td>\n",
       "    </tr>\n",
       "    <tr>\n",
       "      <th>2</th>\n",
       "      <td>RMS376418146342001</td>\n",
       "      <td>10828195</td>\n",
       "      <td>AMEX_PARM</td>\n",
       "      <td>CANCELO FULL</td>\n",
       "      <td>2021-01-28</td>\n",
       "      <td>2021-02-01</td>\n",
       "      <td>2021-02-01</td>\n",
       "    </tr>\n",
       "    <tr>\n",
       "      <th>3</th>\n",
       "      <td>RMS376418379981004</td>\n",
       "      <td>23453906</td>\n",
       "      <td>AMEX_PARM</td>\n",
       "      <td>CANCELO FULL</td>\n",
       "      <td>2021-01-28</td>\n",
       "      <td>2021-02-01</td>\n",
       "      <td>2021-02-01</td>\n",
       "    </tr>\n",
       "    <tr>\n",
       "      <th>4</th>\n",
       "      <td>RMS376418471547000</td>\n",
       "      <td>29735377</td>\n",
       "      <td>AMEX_PARM</td>\n",
       "      <td>CANCELO FULL</td>\n",
       "      <td>2021-01-28</td>\n",
       "      <td>2021-02-01</td>\n",
       "      <td>2021-02-01</td>\n",
       "    </tr>\n",
       "  </tbody>\n",
       "</table>\n",
       "</div>"
      ],
      "text/plain": [
       "             IDMOROSO       DNI             IDCLIENTE       ESTADO_ANTERIOR  \\\n",
       "0  RMS376416100131006  23470018  AMEX_PARM             CANCELO                \n",
       "1  RMS376416830222000  14572108  AMEX_PARM             CANCELO                \n",
       "2  RMS376418146342001  10828195  AMEX_PARM             CANCELO FULL           \n",
       "3  RMS376418379981004  23453906  AMEX_PARM             CANCELO FULL           \n",
       "4  RMS376418471547000  29735377  AMEX_PARM             CANCELO FULL           \n",
       "\n",
       "  FECHA_ENVIO_ENRIQUECIMIENTO FECHA_INSERCION_DATO FECHA_CAMBIO_ESTADO  \n",
       "0                  2021-01-28           2021-02-01          2021-02-01  \n",
       "1                  2021-01-28           2021-02-01          2021-02-01  \n",
       "2                  2021-01-28           2021-02-01          2021-02-01  \n",
       "3                  2021-01-28           2021-02-01          2021-02-01  \n",
       "4                  2021-01-28           2021-02-01          2021-02-01  "
      ]
     },
     "execution_count": 12,
     "metadata": {},
     "output_type": "execute_result"
    }
   ],
   "source": [
    "df_log.head()"
   ]
  },
  {
   "cell_type": "code",
   "execution_count": 13,
   "metadata": {},
   "outputs": [],
   "source": [
    "df_log = df_log.assign(PROVEEDOR='INFORMES_DIGITALES')"
   ]
  },
  {
   "cell_type": "code",
   "execution_count": 14,
   "metadata": {},
   "outputs": [],
   "source": [
    "df_log['ESTADO_ANTERIOR'] = [(str(df_log['ESTADO_ANTERIOR'][i]).strip()) for i in range (df_log['ESTADO_ANTERIOR'].count())]"
   ]
  },
  {
   "cell_type": "code",
   "execution_count": 15,
   "metadata": {},
   "outputs": [],
   "source": [
    "df_log.loc[(df_log['ESTADO_ANTERIOR'] == 'INTERESADO') |\n",
    "           (df_log['ESTADO_ANTERIOR'] == 'NO VISTO') |\n",
    "           (df_log['ESTADO_ANTERIOR'] == 'EN GESTION') |\n",
    "           (df_log['ESTADO_ANTERIOR'] == 'ASIGNADO') |\n",
    "           (df_log['ESTADO_ANTERIOR'] == 'ROTACION') |\n",
    "           (df_log['ESTADO_ANTERIOR'] == 'ASIGNADO') |\n",
    "           (df_log['ESTADO_ANTERIOR'] == 'PLAN V') |\n",
    "           (df_log['ESTADO_ANTERIOR'] == 'NO INTERESADO') |\n",
    "           (df_log['ESTADO_ANTERIOR'] == 'ACUERDO CAIDO') |\n",
    "           (df_log['ESTADO_ANTERIOR'] == 'CANCELO_RECHAZADA') \n",
    "           , 'CATEGORIA'] = 'NEUTRO'"
   ]
  },
  {
   "cell_type": "code",
   "execution_count": 16,
   "metadata": {},
   "outputs": [],
   "source": [
    "df_log.loc[(df_log['ESTADO_ANTERIOR'] == 'NO UBICADO') | \n",
    "           (df_log['ESTADO_ANTERIOR'] == 'SKIP LEVEL') |\n",
    "           (df_log['ESTADO_ANTERIOR'] == 'SKIP LEVEL 1') |\n",
    "           (df_log['ESTADO_ANTERIOR'] == 'SKIP LEVEL 1 OK') |\n",
    "           (df_log['ESTADO_ANTERIOR'] == 'SKIP LEVEL 2') |\n",
    "           (df_log['ESTADO_ANTERIOR'] == 'SKIP LEVEL 3') |\n",
    "           (df_log['ESTADO_ANTERIOR'] == 'SKIP LEVEL 3 OK') |\n",
    "           (df_log['ESTADO_ANTERIOR'] == 'SKIP LEVEL3 OK') |\n",
    "           (df_log['ESTADO_ANTERIOR'] == 'SKIP LEVEL1 OK') |\n",
    "           (df_log['ESTADO_ANTERIOR'] == 'SKIP LEVEL1') |\n",
    "           (df_log['ESTADO_ANTERIOR'] == 'NO_VISTO_CONTACTABLE') |\n",
    "           (df_log['ESTADO_ANTERIOR'] == 'NO_VISTO_MASIVO') \n",
    "           , 'CATEGORIA'] = 'NEGATIVO POR CONTACTABILIDAD'"
   ]
  },
  {
   "cell_type": "code",
   "execution_count": 17,
   "metadata": {},
   "outputs": [],
   "source": [
    "df_log.loc[(df_log['ESTADO_ANTERIOR'] == 'PAGO PARCIAL') | \n",
    "           (df_log['ESTADO_ANTERIOR'] == 'PLAN DE PAGOS') |\n",
    "           (df_log['ESTADO_ANTERIOR'] == 'POSIBLE REFI') |\n",
    "           (df_log['ESTADO_ANTERIOR'] == 'REFINANCIACION') |\n",
    "           (df_log['ESTADO_ANTERIOR'] == 'PROPUESTA') |\n",
    "           (df_log['ESTADO_ANTERIOR'] == 'PROPUESTA OK') |\n",
    "           (df_log['ESTADO_ANTERIOR'] == 'COMPROMISO') |\n",
    "           (df_log['ESTADO_ANTERIOR'] == 'CANCELO') |\n",
    "           (df_log['ESTADO_ANTERIOR'] == 'CANCELO_DEVUELTO') |\n",
    "           (df_log['ESTADO_ANTERIOR'] == 'CANCELO DEVUELTO') |\n",
    "           (df_log['ESTADO_ANTERIOR'] == 'CANCELO FULL') |\n",
    "           (df_log['ESTADO_ANTERIOR'] == 'CANCELO SIN ACP') \n",
    "           , 'CATEGORIA'] = 'POSITIVO CON CAJA'"
   ]
  },
  {
   "cell_type": "code",
   "execution_count": 18,
   "metadata": {},
   "outputs": [],
   "source": [
    "df_log.loc[(df_log['ESTADO_ANTERIOR'] == 'CONVENIO') | \n",
    "           (df_log['ESTADO_ANTERIOR'] == 'CONVENIO QUITA') |\n",
    "           (df_log['ESTADO_ANTERIOR'] == 'NUEVOS CARGOS') |\n",
    "           (df_log['ESTADO_ANTERIOR'] == 'CONVENIO_QUITA') \n",
    "           , 'CATEGORIA'] = 'POSITIVO CON CAJA SOBRE COUTA'"
   ]
  },
  {
   "cell_type": "code",
   "execution_count": 19,
   "metadata": {},
   "outputs": [],
   "source": [
    "df_log.loc[(df_log['ESTADO_ANTERIOR'] == 'PROPUESTA REFI') | \n",
    "           (df_log['ESTADO_ANTERIOR'] == 'REFI ARMADA') |\n",
    "           (df_log['ESTADO_ANTERIOR'] == 'REFI EN TRAMITE') |\n",
    "           (df_log['ESTADO_ANTERIOR'] == 'REFI A LIQUIDAR') \n",
    "           , 'CATEGORIA'] = 'POSITIVO CON CAJA CON REFI PENDIENTE DE LIQUIDACIO'"
   ]
  },
  {
   "cell_type": "code",
   "execution_count": 20,
   "metadata": {},
   "outputs": [],
   "source": [
    "df_log.loc[(df_log['ESTADO_ANTERIOR'] == 'REFI APROBADA') | \n",
    "           (df_log['ESTADO_ANTERIOR'] == 'DEVUELTO/CANCELO CON COBRO DE HONORARIO PENDIENTE')\n",
    "           , 'CATEGORIA'] = 'POSITIVO CON CAJA CON REFI/CANCELACIÓN LIQUIDADA'"
   ]
  },
  {
   "cell_type": "code",
   "execution_count": 21,
   "metadata": {},
   "outputs": [],
   "source": [
    "df_log.loc[(df_log['ESTADO_ANTERIOR'] == 'DEVUELTO') | \n",
    "           (df_log['ESTADO_ANTERIOR'] == 'FALLECIDO') |\n",
    "           (df_log['ESTADO_ANTERIOR'] == 'PROBLEMA') |\n",
    "           (df_log['ESTADO_ANTERIOR'] == 'SALDO INSOLUTO') |\n",
    "           (df_log['ESTADO_ANTERIOR'] == 'NO GESTIONAR') \n",
    "           , 'CATEGORIA'] = 'INACTIVO'"
   ]
  },
  {
   "cell_type": "code",
   "execution_count": 22,
   "metadata": {
    "scrolled": true
   },
   "outputs": [
    {
     "data": {
      "text/plain": [
       "(471, 9)"
      ]
     },
     "execution_count": 22,
     "metadata": {},
     "output_type": "execute_result"
    }
   ],
   "source": [
    "df_log.shape"
   ]
  },
  {
   "cell_type": "code",
   "execution_count": 23,
   "metadata": {},
   "outputs": [
    {
     "data": {
      "text/html": [
       "<div>\n",
       "<style scoped>\n",
       "    .dataframe tbody tr th:only-of-type {\n",
       "        vertical-align: middle;\n",
       "    }\n",
       "\n",
       "    .dataframe tbody tr th {\n",
       "        vertical-align: top;\n",
       "    }\n",
       "\n",
       "    .dataframe thead th {\n",
       "        text-align: right;\n",
       "    }\n",
       "</style>\n",
       "<table border=\"1\" class=\"dataframe\">\n",
       "  <thead>\n",
       "    <tr style=\"text-align: right;\">\n",
       "      <th></th>\n",
       "      <th>IDMOROSO</th>\n",
       "      <th>DNI</th>\n",
       "      <th>IDCLIENTE</th>\n",
       "      <th>ESTADO_ANTERIOR</th>\n",
       "      <th>FECHA_ENVIO_ENRIQUECIMIENTO</th>\n",
       "      <th>FECHA_INSERCION_DATO</th>\n",
       "      <th>FECHA_CAMBIO_ESTADO</th>\n",
       "      <th>PROVEEDOR</th>\n",
       "      <th>CATEGORIA</th>\n",
       "    </tr>\n",
       "  </thead>\n",
       "  <tbody>\n",
       "    <tr>\n",
       "      <th>0</th>\n",
       "      <td>RMS376416100131006</td>\n",
       "      <td>23470018</td>\n",
       "      <td>AMEX_PARM</td>\n",
       "      <td>CANCELO</td>\n",
       "      <td>2021-01-28</td>\n",
       "      <td>2021-02-01</td>\n",
       "      <td>2021-02-01</td>\n",
       "      <td>INFORMES_DIGITALES</td>\n",
       "      <td>POSITIVO CON CAJA</td>\n",
       "    </tr>\n",
       "    <tr>\n",
       "      <th>1</th>\n",
       "      <td>RMS376416830222000</td>\n",
       "      <td>14572108</td>\n",
       "      <td>AMEX_PARM</td>\n",
       "      <td>CANCELO</td>\n",
       "      <td>2021-01-28</td>\n",
       "      <td>2021-02-01</td>\n",
       "      <td>2021-02-01</td>\n",
       "      <td>INFORMES_DIGITALES</td>\n",
       "      <td>POSITIVO CON CAJA</td>\n",
       "    </tr>\n",
       "    <tr>\n",
       "      <th>2</th>\n",
       "      <td>RMS376418146342001</td>\n",
       "      <td>10828195</td>\n",
       "      <td>AMEX_PARM</td>\n",
       "      <td>CANCELO FULL</td>\n",
       "      <td>2021-01-28</td>\n",
       "      <td>2021-02-01</td>\n",
       "      <td>2021-02-01</td>\n",
       "      <td>INFORMES_DIGITALES</td>\n",
       "      <td>POSITIVO CON CAJA</td>\n",
       "    </tr>\n",
       "    <tr>\n",
       "      <th>3</th>\n",
       "      <td>RMS376418379981004</td>\n",
       "      <td>23453906</td>\n",
       "      <td>AMEX_PARM</td>\n",
       "      <td>CANCELO FULL</td>\n",
       "      <td>2021-01-28</td>\n",
       "      <td>2021-02-01</td>\n",
       "      <td>2021-02-01</td>\n",
       "      <td>INFORMES_DIGITALES</td>\n",
       "      <td>POSITIVO CON CAJA</td>\n",
       "    </tr>\n",
       "    <tr>\n",
       "      <th>4</th>\n",
       "      <td>RMS376418471547000</td>\n",
       "      <td>29735377</td>\n",
       "      <td>AMEX_PARM</td>\n",
       "      <td>CANCELO FULL</td>\n",
       "      <td>2021-01-28</td>\n",
       "      <td>2021-02-01</td>\n",
       "      <td>2021-02-01</td>\n",
       "      <td>INFORMES_DIGITALES</td>\n",
       "      <td>POSITIVO CON CAJA</td>\n",
       "    </tr>\n",
       "  </tbody>\n",
       "</table>\n",
       "</div>"
      ],
      "text/plain": [
       "             IDMOROSO       DNI             IDCLIENTE ESTADO_ANTERIOR  \\\n",
       "0  RMS376416100131006  23470018  AMEX_PARM                    CANCELO   \n",
       "1  RMS376416830222000  14572108  AMEX_PARM                    CANCELO   \n",
       "2  RMS376418146342001  10828195  AMEX_PARM               CANCELO FULL   \n",
       "3  RMS376418379981004  23453906  AMEX_PARM               CANCELO FULL   \n",
       "4  RMS376418471547000  29735377  AMEX_PARM               CANCELO FULL   \n",
       "\n",
       "  FECHA_ENVIO_ENRIQUECIMIENTO FECHA_INSERCION_DATO FECHA_CAMBIO_ESTADO  \\\n",
       "0                  2021-01-28           2021-02-01          2021-02-01   \n",
       "1                  2021-01-28           2021-02-01          2021-02-01   \n",
       "2                  2021-01-28           2021-02-01          2021-02-01   \n",
       "3                  2021-01-28           2021-02-01          2021-02-01   \n",
       "4                  2021-01-28           2021-02-01          2021-02-01   \n",
       "\n",
       "            PROVEEDOR          CATEGORIA  \n",
       "0  INFORMES_DIGITALES  POSITIVO CON CAJA  \n",
       "1  INFORMES_DIGITALES  POSITIVO CON CAJA  \n",
       "2  INFORMES_DIGITALES  POSITIVO CON CAJA  \n",
       "3  INFORMES_DIGITALES  POSITIVO CON CAJA  \n",
       "4  INFORMES_DIGITALES  POSITIVO CON CAJA  "
      ]
     },
     "execution_count": 23,
     "metadata": {},
     "output_type": "execute_result"
    }
   ],
   "source": [
    "df_log.head()"
   ]
  },
  {
   "cell_type": "markdown",
   "metadata": {},
   "source": [
    "## 2. Devolución de Informes Digitales"
   ]
  },
  {
   "cell_type": "markdown",
   "metadata": {},
   "source": [
    "Levantamos los DNIs desde el archivo que devuelve Informes Digitales para cruzar contra los IDs y ver cuáles están enriquecidos."
   ]
  },
  {
   "cell_type": "code",
   "execution_count": 24,
   "metadata": {},
   "outputs": [],
   "source": [
    "df1 = pd.read_excel('/mnt/c/Users/Dleg/Data/MOPC/MOPC/Enriquecimiento de Datos/Data Cleaning/Informes Digitales/Datasets/Datos Recibidos/MOPC_INFORMES_DIGITALES_2801_1 - Copy.xlsx', header=1)"
   ]
  },
  {
   "cell_type": "code",
   "execution_count": 25,
   "metadata": {
    "scrolled": false
   },
   "outputs": [
    {
     "data": {
      "text/html": [
       "<div>\n",
       "<style scoped>\n",
       "    .dataframe tbody tr th:only-of-type {\n",
       "        vertical-align: middle;\n",
       "    }\n",
       "\n",
       "    .dataframe tbody tr th {\n",
       "        vertical-align: top;\n",
       "    }\n",
       "\n",
       "    .dataframe thead th {\n",
       "        text-align: right;\n",
       "    }\n",
       "</style>\n",
       "<table border=\"1\" class=\"dataframe\">\n",
       "  <thead>\n",
       "    <tr style=\"text-align: right;\">\n",
       "      <th></th>\n",
       "      <th>Orden</th>\n",
       "      <th>Tipo</th>\n",
       "      <th>DNI</th>\n",
       "      <th>Nombre</th>\n",
       "      <th>Cuit/Cuil</th>\n",
       "      <th>Genero</th>\n",
       "      <th>Edad</th>\n",
       "      <th>Observ.</th>\n",
       "      <th>Actividad</th>\n",
       "      <th>Unnamed: 9</th>\n",
       "      <th>...</th>\n",
       "      <th>Celular 1</th>\n",
       "      <th>Celular 2</th>\n",
       "      <th>Celular 3</th>\n",
       "      <th>Celular 4</th>\n",
       "      <th>Celular 5</th>\n",
       "      <th>Email</th>\n",
       "      <th>Unnamed: 78</th>\n",
       "      <th>Categoria_monotributo</th>\n",
       "      <th>Rubro_monotributo</th>\n",
       "      <th>Unnamed: 81</th>\n",
       "    </tr>\n",
       "  </thead>\n",
       "  <tbody>\n",
       "    <tr>\n",
       "      <th>0</th>\n",
       "      <td>1.01</td>\n",
       "      <td>DNI-EB</td>\n",
       "      <td>32.413.854</td>\n",
       "      <td>Marchesi Ana Paula</td>\n",
       "      <td>23-32413854-4</td>\n",
       "      <td>Fem.</td>\n",
       "      <td>34 Años (26/09/1986)</td>\n",
       "      <td>NaN</td>\n",
       "      <td>Servicios De Gestión Y Logística Para El Trans...</td>\n",
       "      <td>NaN</td>\n",
       "      <td>...</td>\n",
       "      <td>NaN</td>\n",
       "      <td>NaN</td>\n",
       "      <td>NaN</td>\n",
       "      <td>NaN</td>\n",
       "      <td>NaN</td>\n",
       "      <td>NaN</td>\n",
       "      <td>NaN</td>\n",
       "      <td>G</td>\n",
       "      <td>Locaciones De Servicio</td>\n",
       "      <td>NaN</td>\n",
       "    </tr>\n",
       "    <tr>\n",
       "      <th>1</th>\n",
       "      <td>1.02</td>\n",
       "      <td>DNI-EB</td>\n",
       "      <td>32.413.854</td>\n",
       "      <td>Marchesi Ana Paula</td>\n",
       "      <td>23-32413854-4</td>\n",
       "      <td>Fem.</td>\n",
       "      <td>34 Años (26/09/1986)</td>\n",
       "      <td>NaN</td>\n",
       "      <td>Servicios De Gestión Y Logística Para El Trans...</td>\n",
       "      <td>NaN</td>\n",
       "      <td>...</td>\n",
       "      <td>NaN</td>\n",
       "      <td>NaN</td>\n",
       "      <td>NaN</td>\n",
       "      <td>NaN</td>\n",
       "      <td>NaN</td>\n",
       "      <td>NaN</td>\n",
       "      <td>NaN</td>\n",
       "      <td>NaN</td>\n",
       "      <td>NaN</td>\n",
       "      <td>NaN</td>\n",
       "    </tr>\n",
       "    <tr>\n",
       "      <th>2</th>\n",
       "      <td>NaN</td>\n",
       "      <td>NaN</td>\n",
       "      <td>NaN</td>\n",
       "      <td>NaN</td>\n",
       "      <td>NaN</td>\n",
       "      <td>NaN</td>\n",
       "      <td>NaN</td>\n",
       "      <td>NaN</td>\n",
       "      <td>NaN</td>\n",
       "      <td>NaN</td>\n",
       "      <td>...</td>\n",
       "      <td>NaN</td>\n",
       "      <td>NaN</td>\n",
       "      <td>NaN</td>\n",
       "      <td>NaN</td>\n",
       "      <td>NaN</td>\n",
       "      <td>NaN</td>\n",
       "      <td>NaN</td>\n",
       "      <td>NaN</td>\n",
       "      <td>NaN</td>\n",
       "      <td>NaN</td>\n",
       "    </tr>\n",
       "    <tr>\n",
       "      <th>3</th>\n",
       "      <td>2.01</td>\n",
       "      <td>DNI-EC</td>\n",
       "      <td>35.179.685</td>\n",
       "      <td>Almada Medina Jonathan Emmanuel</td>\n",
       "      <td>20-35179685-6</td>\n",
       "      <td>Mas.</td>\n",
       "      <td>30 Años (22/04/1990)</td>\n",
       "      <td>NaN</td>\n",
       "      <td>Servicio De Transporte Automotor De Pasajeros ...</td>\n",
       "      <td>NaN</td>\n",
       "      <td>...</td>\n",
       "      <td>(11) 3368-7922</td>\n",
       "      <td>(11) 3368-7434</td>\n",
       "      <td>NaN</td>\n",
       "      <td>NaN</td>\n",
       "      <td>NaN</td>\n",
       "      <td>NaN</td>\n",
       "      <td>NaN</td>\n",
       "      <td>D</td>\n",
       "      <td>Locaciones De Servicio</td>\n",
       "      <td>NaN</td>\n",
       "    </tr>\n",
       "    <tr>\n",
       "      <th>4</th>\n",
       "      <td>2.02</td>\n",
       "      <td>DNI-EC</td>\n",
       "      <td>35.179.685</td>\n",
       "      <td>Almada Medina Jonathan Emmanuel</td>\n",
       "      <td>20-35179685-6</td>\n",
       "      <td>Mas.</td>\n",
       "      <td>30 Años (22/04/1990)</td>\n",
       "      <td>NaN</td>\n",
       "      <td>Servicio De Transporte Automotor De Pasajeros ...</td>\n",
       "      <td>NaN</td>\n",
       "      <td>...</td>\n",
       "      <td>NaN</td>\n",
       "      <td>NaN</td>\n",
       "      <td>NaN</td>\n",
       "      <td>NaN</td>\n",
       "      <td>NaN</td>\n",
       "      <td>NaN</td>\n",
       "      <td>NaN</td>\n",
       "      <td>NaN</td>\n",
       "      <td>NaN</td>\n",
       "      <td>NaN</td>\n",
       "    </tr>\n",
       "  </tbody>\n",
       "</table>\n",
       "<p>5 rows × 82 columns</p>\n",
       "</div>"
      ],
      "text/plain": [
       "   Orden    Tipo         DNI                           Nombre      Cuit/Cuil  \\\n",
       "0   1.01  DNI-EB  32.413.854               Marchesi Ana Paula  23-32413854-4   \n",
       "1   1.02  DNI-EB  32.413.854               Marchesi Ana Paula  23-32413854-4   \n",
       "2    NaN     NaN         NaN                              NaN            NaN   \n",
       "3   2.01  DNI-EC  35.179.685  Almada Medina Jonathan Emmanuel  20-35179685-6   \n",
       "4   2.02  DNI-EC  35.179.685  Almada Medina Jonathan Emmanuel  20-35179685-6   \n",
       "\n",
       "  Genero                  Edad Observ.  \\\n",
       "0   Fem.  34 Años (26/09/1986)     NaN   \n",
       "1   Fem.  34 Años (26/09/1986)     NaN   \n",
       "2    NaN                   NaN     NaN   \n",
       "3   Mas.  30 Años (22/04/1990)     NaN   \n",
       "4   Mas.  30 Años (22/04/1990)     NaN   \n",
       "\n",
       "                                           Actividad  Unnamed: 9  ...  \\\n",
       "0  Servicios De Gestión Y Logística Para El Trans...         NaN  ...   \n",
       "1  Servicios De Gestión Y Logística Para El Trans...         NaN  ...   \n",
       "2                                                NaN         NaN  ...   \n",
       "3  Servicio De Transporte Automotor De Pasajeros ...         NaN  ...   \n",
       "4  Servicio De Transporte Automotor De Pasajeros ...         NaN  ...   \n",
       "\n",
       "        Celular 1       Celular 2 Celular 3 Celular 4 Celular 5 Email  \\\n",
       "0             NaN             NaN       NaN       NaN       NaN   NaN   \n",
       "1             NaN             NaN       NaN       NaN       NaN   NaN   \n",
       "2             NaN             NaN       NaN       NaN       NaN   NaN   \n",
       "3  (11) 3368-7922  (11) 3368-7434       NaN       NaN       NaN   NaN   \n",
       "4             NaN             NaN       NaN       NaN       NaN   NaN   \n",
       "\n",
       "  Unnamed: 78  Categoria_monotributo       Rubro_monotributo Unnamed: 81  \n",
       "0         NaN                      G  Locaciones De Servicio         NaN  \n",
       "1         NaN                    NaN                     NaN         NaN  \n",
       "2         NaN                    NaN                     NaN         NaN  \n",
       "3         NaN                      D  Locaciones De Servicio         NaN  \n",
       "4         NaN                    NaN                     NaN         NaN  \n",
       "\n",
       "[5 rows x 82 columns]"
      ]
     },
     "execution_count": 25,
     "metadata": {},
     "output_type": "execute_result"
    }
   ],
   "source": [
    "df1.head()"
   ]
  },
  {
   "cell_type": "code",
   "execution_count": 26,
   "metadata": {
    "scrolled": false
   },
   "outputs": [
    {
     "data": {
      "text/plain": [
       "(1292, 82)"
      ]
     },
     "execution_count": 26,
     "metadata": {},
     "output_type": "execute_result"
    }
   ],
   "source": [
    "df1.shape"
   ]
  },
  {
   "cell_type": "code",
   "execution_count": 27,
   "metadata": {},
   "outputs": [],
   "source": [
    "df2 = pd.read_excel('/mnt/c/Users/Dleg/Data/MOPC/MOPC/Enriquecimiento de Datos/Data Cleaning/Informes Digitales/Datasets/Datos Recibidos/MOPC_INFORMES_DIGITALES_2801_2 - Copy.xlsx', header=1)"
   ]
  },
  {
   "cell_type": "code",
   "execution_count": 28,
   "metadata": {},
   "outputs": [
    {
     "data": {
      "text/plain": [
       "(5066, 82)"
      ]
     },
     "execution_count": 28,
     "metadata": {},
     "output_type": "execute_result"
    }
   ],
   "source": [
    "df2.shape"
   ]
  },
  {
   "cell_type": "code",
   "execution_count": 29,
   "metadata": {},
   "outputs": [
    {
     "data": {
      "text/html": [
       "<div>\n",
       "<style scoped>\n",
       "    .dataframe tbody tr th:only-of-type {\n",
       "        vertical-align: middle;\n",
       "    }\n",
       "\n",
       "    .dataframe tbody tr th {\n",
       "        vertical-align: top;\n",
       "    }\n",
       "\n",
       "    .dataframe thead th {\n",
       "        text-align: right;\n",
       "    }\n",
       "</style>\n",
       "<table border=\"1\" class=\"dataframe\">\n",
       "  <thead>\n",
       "    <tr style=\"text-align: right;\">\n",
       "      <th></th>\n",
       "      <th>Orden</th>\n",
       "      <th>Tipo</th>\n",
       "      <th>DNI</th>\n",
       "      <th>Nombre</th>\n",
       "      <th>Cuit/Cuil</th>\n",
       "      <th>Genero</th>\n",
       "      <th>Edad</th>\n",
       "      <th>Observ.</th>\n",
       "      <th>Actividad</th>\n",
       "      <th>Unnamed: 9</th>\n",
       "      <th>...</th>\n",
       "      <th>Celular 1</th>\n",
       "      <th>Celular 2</th>\n",
       "      <th>Celular 3</th>\n",
       "      <th>Celular 4</th>\n",
       "      <th>Celular 5</th>\n",
       "      <th>Email</th>\n",
       "      <th>Unnamed: 78</th>\n",
       "      <th>Categoria_monotributo</th>\n",
       "      <th>Rubro_monotributo</th>\n",
       "      <th>Unnamed: 81</th>\n",
       "    </tr>\n",
       "  </thead>\n",
       "  <tbody>\n",
       "    <tr>\n",
       "      <th>5061</th>\n",
       "      <td>255.05</td>\n",
       "      <td>DNI-EC</td>\n",
       "      <td>23.200.122</td>\n",
       "      <td>Morales Perla Andrea (Barrionuevo)</td>\n",
       "      <td>23-23200122-4</td>\n",
       "      <td>Fem.</td>\n",
       "      <td>48 Años (05/12/1972)</td>\n",
       "      <td>NaN</td>\n",
       "      <td>Venta Al Por Mayor En Comisión O Consignación ...</td>\n",
       "      <td>NaN</td>\n",
       "      <td>...</td>\n",
       "      <td>NaN</td>\n",
       "      <td>NaN</td>\n",
       "      <td>NaN</td>\n",
       "      <td>NaN</td>\n",
       "      <td>NaN</td>\n",
       "      <td>NaN</td>\n",
       "      <td>NaN</td>\n",
       "      <td>NaN</td>\n",
       "      <td>NaN</td>\n",
       "      <td>NaN</td>\n",
       "    </tr>\n",
       "    <tr>\n",
       "      <th>5062</th>\n",
       "      <td>255.06</td>\n",
       "      <td>DNI-EC</td>\n",
       "      <td>23.200.122</td>\n",
       "      <td>Morales Perla Andrea (Barrionuevo)</td>\n",
       "      <td>23-23200122-4</td>\n",
       "      <td>Fem.</td>\n",
       "      <td>48 Años (05/12/1972)</td>\n",
       "      <td>NaN</td>\n",
       "      <td>Venta Al Por Mayor En Comisión O Consignación ...</td>\n",
       "      <td>NaN</td>\n",
       "      <td>...</td>\n",
       "      <td>NaN</td>\n",
       "      <td>NaN</td>\n",
       "      <td>NaN</td>\n",
       "      <td>NaN</td>\n",
       "      <td>NaN</td>\n",
       "      <td>NaN</td>\n",
       "      <td>NaN</td>\n",
       "      <td>NaN</td>\n",
       "      <td>NaN</td>\n",
       "      <td>NaN</td>\n",
       "    </tr>\n",
       "    <tr>\n",
       "      <th>5063</th>\n",
       "      <td>255.07</td>\n",
       "      <td>DNI-EC</td>\n",
       "      <td>23.200.122</td>\n",
       "      <td>Morales Perla Andrea (Barrionuevo)</td>\n",
       "      <td>23-23200122-4</td>\n",
       "      <td>Fem.</td>\n",
       "      <td>48 Años (05/12/1972)</td>\n",
       "      <td>NaN</td>\n",
       "      <td>Venta Al Por Mayor En Comisión O Consignación ...</td>\n",
       "      <td>NaN</td>\n",
       "      <td>...</td>\n",
       "      <td>NaN</td>\n",
       "      <td>NaN</td>\n",
       "      <td>NaN</td>\n",
       "      <td>NaN</td>\n",
       "      <td>NaN</td>\n",
       "      <td>NaN</td>\n",
       "      <td>NaN</td>\n",
       "      <td>NaN</td>\n",
       "      <td>NaN</td>\n",
       "      <td>NaN</td>\n",
       "    </tr>\n",
       "    <tr>\n",
       "      <th>5064</th>\n",
       "      <td>255.08</td>\n",
       "      <td>DNI-EC</td>\n",
       "      <td>23.200.122</td>\n",
       "      <td>Morales Perla Andrea (Barrionuevo)</td>\n",
       "      <td>23-23200122-4</td>\n",
       "      <td>Fem.</td>\n",
       "      <td>48 Años (05/12/1972)</td>\n",
       "      <td>NaN</td>\n",
       "      <td>Venta Al Por Mayor En Comisión O Consignación ...</td>\n",
       "      <td>NaN</td>\n",
       "      <td>...</td>\n",
       "      <td>NaN</td>\n",
       "      <td>NaN</td>\n",
       "      <td>NaN</td>\n",
       "      <td>NaN</td>\n",
       "      <td>NaN</td>\n",
       "      <td>NaN</td>\n",
       "      <td>NaN</td>\n",
       "      <td>NaN</td>\n",
       "      <td>NaN</td>\n",
       "      <td>NaN</td>\n",
       "    </tr>\n",
       "    <tr>\n",
       "      <th>5065</th>\n",
       "      <td>NaN</td>\n",
       "      <td>NaN</td>\n",
       "      <td>NaN</td>\n",
       "      <td>NaN</td>\n",
       "      <td>NaN</td>\n",
       "      <td>NaN</td>\n",
       "      <td>NaN</td>\n",
       "      <td>NaN</td>\n",
       "      <td>NaN</td>\n",
       "      <td>NaN</td>\n",
       "      <td>...</td>\n",
       "      <td>NaN</td>\n",
       "      <td>NaN</td>\n",
       "      <td>NaN</td>\n",
       "      <td>NaN</td>\n",
       "      <td>NaN</td>\n",
       "      <td>NaN</td>\n",
       "      <td>NaN</td>\n",
       "      <td>NaN</td>\n",
       "      <td>NaN</td>\n",
       "      <td>NaN</td>\n",
       "    </tr>\n",
       "  </tbody>\n",
       "</table>\n",
       "<p>5 rows × 82 columns</p>\n",
       "</div>"
      ],
      "text/plain": [
       "       Orden    Tipo         DNI                              Nombre  \\\n",
       "5061  255.05  DNI-EC  23.200.122  Morales Perla Andrea (Barrionuevo)   \n",
       "5062  255.06  DNI-EC  23.200.122  Morales Perla Andrea (Barrionuevo)   \n",
       "5063  255.07  DNI-EC  23.200.122  Morales Perla Andrea (Barrionuevo)   \n",
       "5064  255.08  DNI-EC  23.200.122  Morales Perla Andrea (Barrionuevo)   \n",
       "5065     NaN     NaN         NaN                                 NaN   \n",
       "\n",
       "          Cuit/Cuil Genero                  Edad Observ.  \\\n",
       "5061  23-23200122-4   Fem.  48 Años (05/12/1972)     NaN   \n",
       "5062  23-23200122-4   Fem.  48 Años (05/12/1972)     NaN   \n",
       "5063  23-23200122-4   Fem.  48 Años (05/12/1972)     NaN   \n",
       "5064  23-23200122-4   Fem.  48 Años (05/12/1972)     NaN   \n",
       "5065            NaN    NaN                   NaN     NaN   \n",
       "\n",
       "                                              Actividad  Unnamed: 9  ...  \\\n",
       "5061  Venta Al Por Mayor En Comisión O Consignación ...         NaN  ...   \n",
       "5062  Venta Al Por Mayor En Comisión O Consignación ...         NaN  ...   \n",
       "5063  Venta Al Por Mayor En Comisión O Consignación ...         NaN  ...   \n",
       "5064  Venta Al Por Mayor En Comisión O Consignación ...         NaN  ...   \n",
       "5065                                                NaN         NaN  ...   \n",
       "\n",
       "     Celular 1 Celular 2 Celular 3 Celular 4 Celular 5 Email Unnamed: 78  \\\n",
       "5061       NaN       NaN       NaN       NaN       NaN   NaN         NaN   \n",
       "5062       NaN       NaN       NaN       NaN       NaN   NaN         NaN   \n",
       "5063       NaN       NaN       NaN       NaN       NaN   NaN         NaN   \n",
       "5064       NaN       NaN       NaN       NaN       NaN   NaN         NaN   \n",
       "5065       NaN       NaN       NaN       NaN       NaN   NaN         NaN   \n",
       "\n",
       "      Categoria_monotributo Rubro_monotributo Unnamed: 81  \n",
       "5061                    NaN               NaN         NaN  \n",
       "5062                    NaN               NaN         NaN  \n",
       "5063                    NaN               NaN         NaN  \n",
       "5064                    NaN               NaN         NaN  \n",
       "5065                    NaN               NaN         NaN  \n",
       "\n",
       "[5 rows x 82 columns]"
      ]
     },
     "execution_count": 29,
     "metadata": {},
     "output_type": "execute_result"
    }
   ],
   "source": [
    "df2.tail()"
   ]
  },
  {
   "cell_type": "markdown",
   "metadata": {},
   "source": [
    "## 1.1) Join de Datasets"
   ]
  },
  {
   "cell_type": "markdown",
   "metadata": {},
   "source": [
    "Vamos a unir los dos dataframes para trabajar sobre uno solo."
   ]
  },
  {
   "cell_type": "code",
   "execution_count": 30,
   "metadata": {},
   "outputs": [],
   "source": [
    "df = df1.append(df2, ignore_index = True)"
   ]
  },
  {
   "cell_type": "code",
   "execution_count": 31,
   "metadata": {},
   "outputs": [
    {
     "data": {
      "text/plain": [
       "(6358, 82)"
      ]
     },
     "execution_count": 31,
     "metadata": {},
     "output_type": "execute_result"
    }
   ],
   "source": [
    "df.shape"
   ]
  },
  {
   "cell_type": "code",
   "execution_count": 32,
   "metadata": {
    "scrolled": false
   },
   "outputs": [
    {
     "data": {
      "text/html": [
       "<div>\n",
       "<style scoped>\n",
       "    .dataframe tbody tr th:only-of-type {\n",
       "        vertical-align: middle;\n",
       "    }\n",
       "\n",
       "    .dataframe tbody tr th {\n",
       "        vertical-align: top;\n",
       "    }\n",
       "\n",
       "    .dataframe thead th {\n",
       "        text-align: right;\n",
       "    }\n",
       "</style>\n",
       "<table border=\"1\" class=\"dataframe\">\n",
       "  <thead>\n",
       "    <tr style=\"text-align: right;\">\n",
       "      <th></th>\n",
       "      <th>Orden</th>\n",
       "      <th>Tipo</th>\n",
       "      <th>DNI</th>\n",
       "      <th>Nombre</th>\n",
       "      <th>Cuit/Cuil</th>\n",
       "      <th>Genero</th>\n",
       "      <th>Edad</th>\n",
       "      <th>Observ.</th>\n",
       "      <th>Actividad</th>\n",
       "      <th>Unnamed: 9</th>\n",
       "      <th>...</th>\n",
       "      <th>Celular 1</th>\n",
       "      <th>Celular 2</th>\n",
       "      <th>Celular 3</th>\n",
       "      <th>Celular 4</th>\n",
       "      <th>Celular 5</th>\n",
       "      <th>Email</th>\n",
       "      <th>Unnamed: 78</th>\n",
       "      <th>Categoria_monotributo</th>\n",
       "      <th>Rubro_monotributo</th>\n",
       "      <th>Unnamed: 81</th>\n",
       "    </tr>\n",
       "  </thead>\n",
       "  <tbody>\n",
       "    <tr>\n",
       "      <th>6353</th>\n",
       "      <td>255.05</td>\n",
       "      <td>DNI-EC</td>\n",
       "      <td>23.200.122</td>\n",
       "      <td>Morales Perla Andrea (Barrionuevo)</td>\n",
       "      <td>23-23200122-4</td>\n",
       "      <td>Fem.</td>\n",
       "      <td>48 Años (05/12/1972)</td>\n",
       "      <td>NaN</td>\n",
       "      <td>Venta Al Por Mayor En Comisión O Consignación ...</td>\n",
       "      <td>NaN</td>\n",
       "      <td>...</td>\n",
       "      <td>NaN</td>\n",
       "      <td>NaN</td>\n",
       "      <td>NaN</td>\n",
       "      <td>NaN</td>\n",
       "      <td>NaN</td>\n",
       "      <td>NaN</td>\n",
       "      <td>NaN</td>\n",
       "      <td>NaN</td>\n",
       "      <td>NaN</td>\n",
       "      <td>NaN</td>\n",
       "    </tr>\n",
       "    <tr>\n",
       "      <th>6354</th>\n",
       "      <td>255.06</td>\n",
       "      <td>DNI-EC</td>\n",
       "      <td>23.200.122</td>\n",
       "      <td>Morales Perla Andrea (Barrionuevo)</td>\n",
       "      <td>23-23200122-4</td>\n",
       "      <td>Fem.</td>\n",
       "      <td>48 Años (05/12/1972)</td>\n",
       "      <td>NaN</td>\n",
       "      <td>Venta Al Por Mayor En Comisión O Consignación ...</td>\n",
       "      <td>NaN</td>\n",
       "      <td>...</td>\n",
       "      <td>NaN</td>\n",
       "      <td>NaN</td>\n",
       "      <td>NaN</td>\n",
       "      <td>NaN</td>\n",
       "      <td>NaN</td>\n",
       "      <td>NaN</td>\n",
       "      <td>NaN</td>\n",
       "      <td>NaN</td>\n",
       "      <td>NaN</td>\n",
       "      <td>NaN</td>\n",
       "    </tr>\n",
       "    <tr>\n",
       "      <th>6355</th>\n",
       "      <td>255.07</td>\n",
       "      <td>DNI-EC</td>\n",
       "      <td>23.200.122</td>\n",
       "      <td>Morales Perla Andrea (Barrionuevo)</td>\n",
       "      <td>23-23200122-4</td>\n",
       "      <td>Fem.</td>\n",
       "      <td>48 Años (05/12/1972)</td>\n",
       "      <td>NaN</td>\n",
       "      <td>Venta Al Por Mayor En Comisión O Consignación ...</td>\n",
       "      <td>NaN</td>\n",
       "      <td>...</td>\n",
       "      <td>NaN</td>\n",
       "      <td>NaN</td>\n",
       "      <td>NaN</td>\n",
       "      <td>NaN</td>\n",
       "      <td>NaN</td>\n",
       "      <td>NaN</td>\n",
       "      <td>NaN</td>\n",
       "      <td>NaN</td>\n",
       "      <td>NaN</td>\n",
       "      <td>NaN</td>\n",
       "    </tr>\n",
       "    <tr>\n",
       "      <th>6356</th>\n",
       "      <td>255.08</td>\n",
       "      <td>DNI-EC</td>\n",
       "      <td>23.200.122</td>\n",
       "      <td>Morales Perla Andrea (Barrionuevo)</td>\n",
       "      <td>23-23200122-4</td>\n",
       "      <td>Fem.</td>\n",
       "      <td>48 Años (05/12/1972)</td>\n",
       "      <td>NaN</td>\n",
       "      <td>Venta Al Por Mayor En Comisión O Consignación ...</td>\n",
       "      <td>NaN</td>\n",
       "      <td>...</td>\n",
       "      <td>NaN</td>\n",
       "      <td>NaN</td>\n",
       "      <td>NaN</td>\n",
       "      <td>NaN</td>\n",
       "      <td>NaN</td>\n",
       "      <td>NaN</td>\n",
       "      <td>NaN</td>\n",
       "      <td>NaN</td>\n",
       "      <td>NaN</td>\n",
       "      <td>NaN</td>\n",
       "    </tr>\n",
       "    <tr>\n",
       "      <th>6357</th>\n",
       "      <td>NaN</td>\n",
       "      <td>NaN</td>\n",
       "      <td>NaN</td>\n",
       "      <td>NaN</td>\n",
       "      <td>NaN</td>\n",
       "      <td>NaN</td>\n",
       "      <td>NaN</td>\n",
       "      <td>NaN</td>\n",
       "      <td>NaN</td>\n",
       "      <td>NaN</td>\n",
       "      <td>...</td>\n",
       "      <td>NaN</td>\n",
       "      <td>NaN</td>\n",
       "      <td>NaN</td>\n",
       "      <td>NaN</td>\n",
       "      <td>NaN</td>\n",
       "      <td>NaN</td>\n",
       "      <td>NaN</td>\n",
       "      <td>NaN</td>\n",
       "      <td>NaN</td>\n",
       "      <td>NaN</td>\n",
       "    </tr>\n",
       "  </tbody>\n",
       "</table>\n",
       "<p>5 rows × 82 columns</p>\n",
       "</div>"
      ],
      "text/plain": [
       "       Orden    Tipo         DNI                              Nombre  \\\n",
       "6353  255.05  DNI-EC  23.200.122  Morales Perla Andrea (Barrionuevo)   \n",
       "6354  255.06  DNI-EC  23.200.122  Morales Perla Andrea (Barrionuevo)   \n",
       "6355  255.07  DNI-EC  23.200.122  Morales Perla Andrea (Barrionuevo)   \n",
       "6356  255.08  DNI-EC  23.200.122  Morales Perla Andrea (Barrionuevo)   \n",
       "6357     NaN     NaN         NaN                                 NaN   \n",
       "\n",
       "          Cuit/Cuil Genero                  Edad Observ.  \\\n",
       "6353  23-23200122-4   Fem.  48 Años (05/12/1972)     NaN   \n",
       "6354  23-23200122-4   Fem.  48 Años (05/12/1972)     NaN   \n",
       "6355  23-23200122-4   Fem.  48 Años (05/12/1972)     NaN   \n",
       "6356  23-23200122-4   Fem.  48 Años (05/12/1972)     NaN   \n",
       "6357            NaN    NaN                   NaN     NaN   \n",
       "\n",
       "                                              Actividad  Unnamed: 9  ...  \\\n",
       "6353  Venta Al Por Mayor En Comisión O Consignación ...         NaN  ...   \n",
       "6354  Venta Al Por Mayor En Comisión O Consignación ...         NaN  ...   \n",
       "6355  Venta Al Por Mayor En Comisión O Consignación ...         NaN  ...   \n",
       "6356  Venta Al Por Mayor En Comisión O Consignación ...         NaN  ...   \n",
       "6357                                                NaN         NaN  ...   \n",
       "\n",
       "     Celular 1 Celular 2 Celular 3 Celular 4 Celular 5 Email Unnamed: 78  \\\n",
       "6353       NaN       NaN       NaN       NaN       NaN   NaN         NaN   \n",
       "6354       NaN       NaN       NaN       NaN       NaN   NaN         NaN   \n",
       "6355       NaN       NaN       NaN       NaN       NaN   NaN         NaN   \n",
       "6356       NaN       NaN       NaN       NaN       NaN   NaN         NaN   \n",
       "6357       NaN       NaN       NaN       NaN       NaN   NaN         NaN   \n",
       "\n",
       "      Categoria_monotributo Rubro_monotributo Unnamed: 81  \n",
       "6353                    NaN               NaN         NaN  \n",
       "6354                    NaN               NaN         NaN  \n",
       "6355                    NaN               NaN         NaN  \n",
       "6356                    NaN               NaN         NaN  \n",
       "6357                    NaN               NaN         NaN  \n",
       "\n",
       "[5 rows x 82 columns]"
      ]
     },
     "execution_count": 32,
     "metadata": {},
     "output_type": "execute_result"
    }
   ],
   "source": [
    "df.tail()"
   ]
  },
  {
   "cell_type": "code",
   "execution_count": 33,
   "metadata": {},
   "outputs": [],
   "source": [
    "df_reduced = df [['Cuit/Cuil','DNI']]"
   ]
  },
  {
   "cell_type": "code",
   "execution_count": 34,
   "metadata": {},
   "outputs": [
    {
     "data": {
      "text/html": [
       "<div>\n",
       "<style scoped>\n",
       "    .dataframe tbody tr th:only-of-type {\n",
       "        vertical-align: middle;\n",
       "    }\n",
       "\n",
       "    .dataframe tbody tr th {\n",
       "        vertical-align: top;\n",
       "    }\n",
       "\n",
       "    .dataframe thead th {\n",
       "        text-align: right;\n",
       "    }\n",
       "</style>\n",
       "<table border=\"1\" class=\"dataframe\">\n",
       "  <thead>\n",
       "    <tr style=\"text-align: right;\">\n",
       "      <th></th>\n",
       "      <th>Cuit/Cuil</th>\n",
       "      <th>DNI</th>\n",
       "    </tr>\n",
       "  </thead>\n",
       "  <tbody>\n",
       "    <tr>\n",
       "      <th>0</th>\n",
       "      <td>23-32413854-4</td>\n",
       "      <td>32.413.854</td>\n",
       "    </tr>\n",
       "    <tr>\n",
       "      <th>1</th>\n",
       "      <td>23-32413854-4</td>\n",
       "      <td>32.413.854</td>\n",
       "    </tr>\n",
       "    <tr>\n",
       "      <th>2</th>\n",
       "      <td>NaN</td>\n",
       "      <td>NaN</td>\n",
       "    </tr>\n",
       "    <tr>\n",
       "      <th>3</th>\n",
       "      <td>20-35179685-6</td>\n",
       "      <td>35.179.685</td>\n",
       "    </tr>\n",
       "    <tr>\n",
       "      <th>4</th>\n",
       "      <td>20-35179685-6</td>\n",
       "      <td>35.179.685</td>\n",
       "    </tr>\n",
       "  </tbody>\n",
       "</table>\n",
       "</div>"
      ],
      "text/plain": [
       "       Cuit/Cuil         DNI\n",
       "0  23-32413854-4  32.413.854\n",
       "1  23-32413854-4  32.413.854\n",
       "2            NaN         NaN\n",
       "3  20-35179685-6  35.179.685\n",
       "4  20-35179685-6  35.179.685"
      ]
     },
     "execution_count": 34,
     "metadata": {},
     "output_type": "execute_result"
    }
   ],
   "source": [
    "df_reduced.head()"
   ]
  },
  {
   "cell_type": "code",
   "execution_count": 35,
   "metadata": {},
   "outputs": [
    {
     "name": "stderr",
     "output_type": "stream",
     "text": [
      "<ipython-input-35-e0267c8d0486>:1: SettingWithCopyWarning: \n",
      "A value is trying to be set on a copy of a slice from a DataFrame.\n",
      "Try using .loc[row_indexer,col_indexer] = value instead\n",
      "\n",
      "See the caveats in the documentation: https://pandas.pydata.org/pandas-docs/stable/user_guide/indexing.html#returning-a-view-versus-a-copy\n",
      "  df_reduced['Cuit/Cuil'] = df_reduced['Cuit/Cuil'].str.replace('-','')\n"
     ]
    }
   ],
   "source": [
    "df_reduced['Cuit/Cuil'] = df_reduced['Cuit/Cuil'].str.replace('-','')"
   ]
  },
  {
   "cell_type": "code",
   "execution_count": 36,
   "metadata": {},
   "outputs": [
    {
     "name": "stderr",
     "output_type": "stream",
     "text": [
      "<ipython-input-36-36f4810210a5>:1: FutureWarning: The default value of regex will change from True to False in a future version. In addition, single character regular expressions will*not* be treated as literal strings when regex=True.\n",
      "  df_reduced['DNI'] = df_reduced['DNI'].str.replace('.','')\n",
      "<ipython-input-36-36f4810210a5>:1: SettingWithCopyWarning: \n",
      "A value is trying to be set on a copy of a slice from a DataFrame.\n",
      "Try using .loc[row_indexer,col_indexer] = value instead\n",
      "\n",
      "See the caveats in the documentation: https://pandas.pydata.org/pandas-docs/stable/user_guide/indexing.html#returning-a-view-versus-a-copy\n",
      "  df_reduced['DNI'] = df_reduced['DNI'].str.replace('.','')\n"
     ]
    }
   ],
   "source": [
    "df_reduced['DNI'] = df_reduced['DNI'].str.replace('.','')"
   ]
  },
  {
   "cell_type": "code",
   "execution_count": 37,
   "metadata": {},
   "outputs": [
    {
     "data": {
      "text/html": [
       "<div>\n",
       "<style scoped>\n",
       "    .dataframe tbody tr th:only-of-type {\n",
       "        vertical-align: middle;\n",
       "    }\n",
       "\n",
       "    .dataframe tbody tr th {\n",
       "        vertical-align: top;\n",
       "    }\n",
       "\n",
       "    .dataframe thead th {\n",
       "        text-align: right;\n",
       "    }\n",
       "</style>\n",
       "<table border=\"1\" class=\"dataframe\">\n",
       "  <thead>\n",
       "    <tr style=\"text-align: right;\">\n",
       "      <th></th>\n",
       "      <th>Cuit/Cuil</th>\n",
       "      <th>DNI</th>\n",
       "    </tr>\n",
       "  </thead>\n",
       "  <tbody>\n",
       "    <tr>\n",
       "      <th>0</th>\n",
       "      <td>23324138544</td>\n",
       "      <td>32413854</td>\n",
       "    </tr>\n",
       "    <tr>\n",
       "      <th>1</th>\n",
       "      <td>23324138544</td>\n",
       "      <td>32413854</td>\n",
       "    </tr>\n",
       "    <tr>\n",
       "      <th>2</th>\n",
       "      <td>NaN</td>\n",
       "      <td>NaN</td>\n",
       "    </tr>\n",
       "    <tr>\n",
       "      <th>3</th>\n",
       "      <td>20351796856</td>\n",
       "      <td>35179685</td>\n",
       "    </tr>\n",
       "    <tr>\n",
       "      <th>4</th>\n",
       "      <td>20351796856</td>\n",
       "      <td>35179685</td>\n",
       "    </tr>\n",
       "  </tbody>\n",
       "</table>\n",
       "</div>"
      ],
      "text/plain": [
       "     Cuit/Cuil       DNI\n",
       "0  23324138544  32413854\n",
       "1  23324138544  32413854\n",
       "2          NaN       NaN\n",
       "3  20351796856  35179685\n",
       "4  20351796856  35179685"
      ]
     },
     "execution_count": 37,
     "metadata": {},
     "output_type": "execute_result"
    }
   ],
   "source": [
    "df_reduced.head()"
   ]
  },
  {
   "cell_type": "code",
   "execution_count": 38,
   "metadata": {},
   "outputs": [
    {
     "data": {
      "text/plain": [
       "(6358, 2)"
      ]
     },
     "execution_count": 38,
     "metadata": {},
     "output_type": "execute_result"
    }
   ],
   "source": [
    "df_reduced.shape"
   ]
  },
  {
   "cell_type": "markdown",
   "metadata": {},
   "source": [
    "Eliminamos el multilevel de las columnas, y las renombramos:"
   ]
  },
  {
   "cell_type": "code",
   "execution_count": 39,
   "metadata": {},
   "outputs": [],
   "source": [
    "df_reduced = df_reduced.rename(columns={\"Cuit/Cuil\": \"CUIT_CUIL\", 'DNI': 'NRO_DOC'})"
   ]
  },
  {
   "cell_type": "code",
   "execution_count": 40,
   "metadata": {
    "scrolled": false
   },
   "outputs": [
    {
     "data": {
      "text/html": [
       "<div>\n",
       "<style scoped>\n",
       "    .dataframe tbody tr th:only-of-type {\n",
       "        vertical-align: middle;\n",
       "    }\n",
       "\n",
       "    .dataframe tbody tr th {\n",
       "        vertical-align: top;\n",
       "    }\n",
       "\n",
       "    .dataframe thead th {\n",
       "        text-align: right;\n",
       "    }\n",
       "</style>\n",
       "<table border=\"1\" class=\"dataframe\">\n",
       "  <thead>\n",
       "    <tr style=\"text-align: right;\">\n",
       "      <th></th>\n",
       "      <th>CUIT_CUIL</th>\n",
       "      <th>NRO_DOC</th>\n",
       "    </tr>\n",
       "  </thead>\n",
       "  <tbody>\n",
       "    <tr>\n",
       "      <th>0</th>\n",
       "      <td>23324138544</td>\n",
       "      <td>32413854</td>\n",
       "    </tr>\n",
       "    <tr>\n",
       "      <th>1</th>\n",
       "      <td>23324138544</td>\n",
       "      <td>32413854</td>\n",
       "    </tr>\n",
       "    <tr>\n",
       "      <th>2</th>\n",
       "      <td>NaN</td>\n",
       "      <td>NaN</td>\n",
       "    </tr>\n",
       "    <tr>\n",
       "      <th>3</th>\n",
       "      <td>20351796856</td>\n",
       "      <td>35179685</td>\n",
       "    </tr>\n",
       "    <tr>\n",
       "      <th>4</th>\n",
       "      <td>20351796856</td>\n",
       "      <td>35179685</td>\n",
       "    </tr>\n",
       "  </tbody>\n",
       "</table>\n",
       "</div>"
      ],
      "text/plain": [
       "     CUIT_CUIL   NRO_DOC\n",
       "0  23324138544  32413854\n",
       "1  23324138544  32413854\n",
       "2          NaN       NaN\n",
       "3  20351796856  35179685\n",
       "4  20351796856  35179685"
      ]
     },
     "execution_count": 40,
     "metadata": {},
     "output_type": "execute_result"
    }
   ],
   "source": [
    "df_reduced.head()"
   ]
  },
  {
   "cell_type": "code",
   "execution_count": 41,
   "metadata": {},
   "outputs": [
    {
     "data": {
      "text/plain": [
       "(6358, 2)"
      ]
     },
     "execution_count": 41,
     "metadata": {},
     "output_type": "execute_result"
    }
   ],
   "source": [
    "df_reduced.shape"
   ]
  },
  {
   "cell_type": "markdown",
   "metadata": {},
   "source": [
    "## NRO_DOC para union de dataframes"
   ]
  },
  {
   "cell_type": "markdown",
   "metadata": {},
   "source": [
    "Creamos una columna que contenga IDMOROSO + DATOADIC según corresponda"
   ]
  },
  {
   "cell_type": "code",
   "execution_count": 42,
   "metadata": {},
   "outputs": [],
   "source": [
    "#df_log.loc[(df_log['IDCLIENTE'].str.startswith('AMEX')) , 'NRO_DOC'] = df_log['DATOADIC']"
   ]
  },
  {
   "cell_type": "code",
   "execution_count": 43,
   "metadata": {},
   "outputs": [],
   "source": [
    "#df_log.loc[~(df_log['IDCLIENTE'].str.startswith('AMEX')) , 'NRO_DOC'] = df_log['IDMOROSO']"
   ]
  },
  {
   "cell_type": "code",
   "execution_count": 44,
   "metadata": {},
   "outputs": [],
   "source": [
    "df_log ['NRO_DOC'] = df_log['DNI']"
   ]
  },
  {
   "cell_type": "code",
   "execution_count": 45,
   "metadata": {
    "scrolled": true
   },
   "outputs": [
    {
     "data": {
      "text/html": [
       "<div>\n",
       "<style scoped>\n",
       "    .dataframe tbody tr th:only-of-type {\n",
       "        vertical-align: middle;\n",
       "    }\n",
       "\n",
       "    .dataframe tbody tr th {\n",
       "        vertical-align: top;\n",
       "    }\n",
       "\n",
       "    .dataframe thead th {\n",
       "        text-align: right;\n",
       "    }\n",
       "</style>\n",
       "<table border=\"1\" class=\"dataframe\">\n",
       "  <thead>\n",
       "    <tr style=\"text-align: right;\">\n",
       "      <th></th>\n",
       "      <th>IDMOROSO</th>\n",
       "      <th>DNI</th>\n",
       "      <th>IDCLIENTE</th>\n",
       "      <th>ESTADO_ANTERIOR</th>\n",
       "      <th>FECHA_ENVIO_ENRIQUECIMIENTO</th>\n",
       "      <th>FECHA_INSERCION_DATO</th>\n",
       "      <th>FECHA_CAMBIO_ESTADO</th>\n",
       "      <th>PROVEEDOR</th>\n",
       "      <th>CATEGORIA</th>\n",
       "      <th>NRO_DOC</th>\n",
       "    </tr>\n",
       "  </thead>\n",
       "  <tbody>\n",
       "    <tr>\n",
       "      <th>466</th>\n",
       "      <td>DNIE95910871</td>\n",
       "      <td>DNIE95910871</td>\n",
       "      <td>FRANCES_2012</td>\n",
       "      <td>NO GESTIONAR</td>\n",
       "      <td>2021-01-28</td>\n",
       "      <td>2021-02-01</td>\n",
       "      <td>2021-02-01</td>\n",
       "      <td>INFORMES_DIGITALES</td>\n",
       "      <td>INACTIVO</td>\n",
       "      <td>DNIE95910871</td>\n",
       "    </tr>\n",
       "    <tr>\n",
       "      <th>467</th>\n",
       "      <td>DNIE95925629</td>\n",
       "      <td>DNIE95925629</td>\n",
       "      <td>FRANCES_2012</td>\n",
       "      <td>ROTACION</td>\n",
       "      <td>2021-01-28</td>\n",
       "      <td>2021-02-01</td>\n",
       "      <td>2021-02-01</td>\n",
       "      <td>INFORMES_DIGITALES</td>\n",
       "      <td>NEUTRO</td>\n",
       "      <td>DNIE95925629</td>\n",
       "    </tr>\n",
       "    <tr>\n",
       "      <th>468</th>\n",
       "      <td>DNIE95963998</td>\n",
       "      <td>DNIE95963998</td>\n",
       "      <td>FRANCES_2012</td>\n",
       "      <td>POSIBLE REFI</td>\n",
       "      <td>2021-01-28</td>\n",
       "      <td>2021-02-01</td>\n",
       "      <td>2021-02-01</td>\n",
       "      <td>INFORMES_DIGITALES</td>\n",
       "      <td>POSITIVO CON CAJA</td>\n",
       "      <td>DNIE95963998</td>\n",
       "    </tr>\n",
       "    <tr>\n",
       "      <th>469</th>\n",
       "      <td>LC  6063215</td>\n",
       "      <td>LC  6063215</td>\n",
       "      <td>FRANCES_2012</td>\n",
       "      <td>ROTACION</td>\n",
       "      <td>2021-01-28</td>\n",
       "      <td>2021-02-01</td>\n",
       "      <td>2021-02-01</td>\n",
       "      <td>INFORMES_DIGITALES</td>\n",
       "      <td>NEUTRO</td>\n",
       "      <td>LC  6063215</td>\n",
       "    </tr>\n",
       "    <tr>\n",
       "      <th>470</th>\n",
       "      <td>LE  5404883</td>\n",
       "      <td>LE  5404883</td>\n",
       "      <td>FRANCES_2012</td>\n",
       "      <td>ROTACION</td>\n",
       "      <td>2021-01-28</td>\n",
       "      <td>2021-02-01</td>\n",
       "      <td>2021-02-01</td>\n",
       "      <td>INFORMES_DIGITALES</td>\n",
       "      <td>NEUTRO</td>\n",
       "      <td>LE  5404883</td>\n",
       "    </tr>\n",
       "  </tbody>\n",
       "</table>\n",
       "</div>"
      ],
      "text/plain": [
       "               IDMOROSO                 DNI             IDCLIENTE  \\\n",
       "466  DNIE95910871        DNIE95910871        FRANCES_2012           \n",
       "467  DNIE95925629        DNIE95925629        FRANCES_2012           \n",
       "468  DNIE95963998        DNIE95963998        FRANCES_2012           \n",
       "469  LC  6063215         LC  6063215         FRANCES_2012           \n",
       "470  LE  5404883         LE  5404883         FRANCES_2012           \n",
       "\n",
       "    ESTADO_ANTERIOR FECHA_ENVIO_ENRIQUECIMIENTO FECHA_INSERCION_DATO  \\\n",
       "466    NO GESTIONAR                  2021-01-28           2021-02-01   \n",
       "467        ROTACION                  2021-01-28           2021-02-01   \n",
       "468    POSIBLE REFI                  2021-01-28           2021-02-01   \n",
       "469        ROTACION                  2021-01-28           2021-02-01   \n",
       "470        ROTACION                  2021-01-28           2021-02-01   \n",
       "\n",
       "    FECHA_CAMBIO_ESTADO           PROVEEDOR          CATEGORIA  \\\n",
       "466          2021-02-01  INFORMES_DIGITALES           INACTIVO   \n",
       "467          2021-02-01  INFORMES_DIGITALES             NEUTRO   \n",
       "468          2021-02-01  INFORMES_DIGITALES  POSITIVO CON CAJA   \n",
       "469          2021-02-01  INFORMES_DIGITALES             NEUTRO   \n",
       "470          2021-02-01  INFORMES_DIGITALES             NEUTRO   \n",
       "\n",
       "                NRO_DOC  \n",
       "466  DNIE95910871        \n",
       "467  DNIE95925629        \n",
       "468  DNIE95963998        \n",
       "469  LC  6063215         \n",
       "470  LE  5404883         "
      ]
     },
     "execution_count": 45,
     "metadata": {},
     "output_type": "execute_result"
    }
   ],
   "source": [
    "df_log.tail()"
   ]
  },
  {
   "cell_type": "markdown",
   "metadata": {},
   "source": [
    "## 12.2) DNI Cleaning"
   ]
  },
  {
   "cell_type": "markdown",
   "metadata": {},
   "source": [
    "Limpiamos el dataframe __df_pyp__, ya que dentro de DATO_A_ENVIAR tenemos 9 tipos de casos diferentes de datos:\n",
    "\n",
    "- DNI 12345678\n",
    "- DNI12345678\n",
    "- DNIE1234678\n",
    "- LC  1234567\n",
    "- LE  1234567\n",
    "- CUIT00123456780\n",
    "- 00123456780 --> Es un CUIT.\n",
    "- 00 12345678 0 --> Es un CUIT.\n",
    "- DNI 00123456780 --> Dice DNI pero es un CUIT de una persona __jurídica__ (TO DO)"
   ]
  },
  {
   "cell_type": "markdown",
   "metadata": {},
   "source": [
    "Para eso definimos 5 funciones:\n",
    "\n",
    "- __Tipo_DOC__: Se definen dos funciones para determinar el tipo de DNI. Una inicial, y otra para corregir sobre el dataframe resultante.\n",
    "- __Standard DNI__: Estandariza los DNI para 7 de los casos. Esta función debe ejecutarse en primer lugar.\n",
    "- __DNI Spaces__: Elimina los espacios.\n",
    "- __DNI Zero__: Elimina los ceros iniciales de ciertos CUITs para que coincidan con los DNI.\n",
    "- __Cuit__: Decisión sobre dejar un cuit o volverlo DNI"
   ]
  },
  {
   "cell_type": "code",
   "execution_count": 46,
   "metadata": {},
   "outputs": [],
   "source": [
    "def tipo_doc_1 (string_dni):\n",
    "    \n",
    "    if 'DNI' in string_dni:\n",
    "        tipo = 'DNI'\n",
    "    \n",
    "    elif 'LC' in string_dni:\n",
    "        tipo = 'LC'\n",
    "    \n",
    "    elif 'LE' in string_dni:\n",
    "        tipo = 'LE'\n",
    "    \n",
    "    elif 'DNIE' in string_dni:\n",
    "        tipo = 'DNIE'    \n",
    "    \n",
    "    elif ((string_dni.startswith(('CUIT30','CUIT33','CUIT34'))) & (len(string_dni)>8)):\n",
    "        tipo = 'CUIT'\n",
    "        \n",
    "    elif ((string_dni.startswith(('30','33','34'))) & (len(string_dni)>8)):\n",
    "        tipo = 'CUIT'\n",
    "\n",
    "    elif ((string_dni.startswith(('20','23','24','27'))) & (len(string_dni)>8)):\n",
    "        tipo = 'DNI'\n",
    "\n",
    "    elif ((string_dni.startswith(('CUIT20','CUIT23','CUIT24','CUIT27'))) & (len(string_dni)>8)):\n",
    "        tipo = 'DNI'\n",
    "        \n",
    "    else:\n",
    "        tipo = 'DNI'\n",
    "    \n",
    "    return tipo"
   ]
  },
  {
   "cell_type": "code",
   "execution_count": 47,
   "metadata": {},
   "outputs": [],
   "source": [
    "def tipo_doc_2 (string_dni, tipo_original):\n",
    "    \n",
    "    if (len(string_dni) > 8) & (tipo_original == 'DNI'):\n",
    "        tipo = 'CUIT'\n",
    "    else:\n",
    "        tipo = tipo_original\n",
    "    return tipo"
   ]
  },
  {
   "cell_type": "code",
   "execution_count": 48,
   "metadata": {},
   "outputs": [],
   "source": [
    "def standard_dni (string_dni):\n",
    "    \"\"\"DNI separation by each case.\n",
    "    \"\"\"\n",
    "    \n",
    "    if 'DNI ' in string_dni:\n",
    "        dni = string_dni.split('DNI ')[1]\n",
    "        \n",
    "    elif 'DNIE' in string_dni:\n",
    "        dni = string_dni.split('DNIE')[1]\n",
    "    \n",
    "    elif 'DNI' in string_dni:\n",
    "        dni = string_dni.split('DNI')[1]\n",
    "    \n",
    "    elif 'LC  ' in string_dni:\n",
    "        dni = string_dni.split('LC  ')[1]\n",
    "    \n",
    "    elif 'LE  ' in string_dni:\n",
    "        dni = string_dni.split('LE  ')[1]\n",
    "    \n",
    "    elif 'CUIT' in string_dni:\n",
    "        dni = string_dni.split('CUIT')[1]\n",
    "        \n",
    "    else:\n",
    "        dni = string_dni\n",
    "        \n",
    "    return dni"
   ]
  },
  {
   "cell_type": "code",
   "execution_count": 49,
   "metadata": {},
   "outputs": [],
   "source": [
    "def dni_characters (string_dni):\n",
    "    \n",
    "    if ' ' in string_dni:\n",
    "        dni = string_dni.replace(' ','')\n",
    "        \n",
    "    elif '-' in string_dni:\n",
    "        dni = string_dni.replace('-','')\n",
    "\n",
    "    else:\n",
    "        dni = string_dni\n",
    "    \n",
    "    return dni"
   ]
  },
  {
   "cell_type": "code",
   "execution_count": 50,
   "metadata": {},
   "outputs": [],
   "source": [
    "def cuit (string_dni):\n",
    "    \n",
    "    if ((string_dni.startswith('20')) & (len(string_dni)>8)):\n",
    "        cuit = string_dni [2:-1]\n",
    "        \n",
    "    elif ((string_dni.startswith('23')) & (len(string_dni)>8)):\n",
    "        cuit = string_dni [2:-1]\n",
    "        \n",
    "    elif ((string_dni.startswith('24')) & (len(string_dni)>8)):\n",
    "        cuit = string_dni [2:-1]\n",
    "\n",
    "    elif ((string_dni.startswith('27')) & (len(string_dni)>8)):\n",
    "        cuit = string_dni [2:-1]\n",
    "\n",
    "    else:\n",
    "        cuit = string_dni\n",
    "        \n",
    "    return cuit"
   ]
  },
  {
   "cell_type": "code",
   "execution_count": 51,
   "metadata": {},
   "outputs": [],
   "source": [
    "def dni_zero (string_dni):\n",
    "    \n",
    "    if string_dni.startswith('0'):\n",
    "        dni = string_dni [1:]\n",
    "\n",
    "    else:\n",
    "        dni = string_dni\n",
    "    \n",
    "    return dni"
   ]
  },
  {
   "cell_type": "markdown",
   "metadata": {},
   "source": [
    "En primer lugar, trimmeamos los espacios que sobran:"
   ]
  },
  {
   "cell_type": "code",
   "execution_count": 52,
   "metadata": {},
   "outputs": [],
   "source": [
    "df_log['NRO_DOC'] = [(str(df_log['NRO_DOC'][i]).strip()) for i in range (df_log['NRO_DOC'].count())]"
   ]
  },
  {
   "cell_type": "markdown",
   "metadata": {},
   "source": [
    "Se implementan estas funciones:"
   ]
  },
  {
   "cell_type": "markdown",
   "metadata": {},
   "source": [
    "Para determinar el __TIPO DE DOCUMENTO__ en primer lugar:"
   ]
  },
  {
   "cell_type": "code",
   "execution_count": 53,
   "metadata": {},
   "outputs": [],
   "source": [
    "df_log['TIPO_DOC'] = [tipo_doc_1(df_log['NRO_DOC'][i]) for i in range (df_log['NRO_DOC'].count())]"
   ]
  },
  {
   "cell_type": "markdown",
   "metadata": {},
   "source": [
    "Para la limpieza de DNIs:"
   ]
  },
  {
   "cell_type": "code",
   "execution_count": 54,
   "metadata": {},
   "outputs": [],
   "source": [
    "df_log['NRO_DOC'] = [standard_dni(df_log['NRO_DOC'][i]) for i in range (df_log['NRO_DOC'].count())]"
   ]
  },
  {
   "cell_type": "code",
   "execution_count": 55,
   "metadata": {},
   "outputs": [],
   "source": [
    "df_log['NRO_DOC'] = [dni_characters(df_log['NRO_DOC'][i]) for i in range (df_log['NRO_DOC'].count())]"
   ]
  },
  {
   "cell_type": "code",
   "execution_count": 56,
   "metadata": {},
   "outputs": [],
   "source": [
    "df_log['NRO_DOC'] = [cuit(df_log['NRO_DOC'][i]) for i in range (df_log['NRO_DOC'].count())]"
   ]
  },
  {
   "cell_type": "code",
   "execution_count": 57,
   "metadata": {},
   "outputs": [],
   "source": [
    "df_log['NRO_DOC'] = [dni_zero(df_log['NRO_DOC'][i]) for i in range (df_log['NRO_DOC'].count())]"
   ]
  },
  {
   "cell_type": "markdown",
   "metadata": {},
   "source": [
    "Para corregir el __TIPO DE DOCUMENTO__ sobre el dataframe resultante"
   ]
  },
  {
   "cell_type": "code",
   "execution_count": 58,
   "metadata": {},
   "outputs": [],
   "source": [
    "df_log['TIPO_DOC'] = [tipo_doc_2(df_log['NRO_DOC'][i],df_log['TIPO_DOC'][i]) for i in range (df_log['NRO_DOC'].count())]"
   ]
  },
  {
   "cell_type": "code",
   "execution_count": 59,
   "metadata": {
    "scrolled": false
   },
   "outputs": [
    {
     "data": {
      "text/html": [
       "<div>\n",
       "<style scoped>\n",
       "    .dataframe tbody tr th:only-of-type {\n",
       "        vertical-align: middle;\n",
       "    }\n",
       "\n",
       "    .dataframe tbody tr th {\n",
       "        vertical-align: top;\n",
       "    }\n",
       "\n",
       "    .dataframe thead th {\n",
       "        text-align: right;\n",
       "    }\n",
       "</style>\n",
       "<table border=\"1\" class=\"dataframe\">\n",
       "  <thead>\n",
       "    <tr style=\"text-align: right;\">\n",
       "      <th></th>\n",
       "      <th>IDMOROSO</th>\n",
       "      <th>DNI</th>\n",
       "      <th>IDCLIENTE</th>\n",
       "      <th>ESTADO_ANTERIOR</th>\n",
       "      <th>FECHA_ENVIO_ENRIQUECIMIENTO</th>\n",
       "      <th>FECHA_INSERCION_DATO</th>\n",
       "      <th>FECHA_CAMBIO_ESTADO</th>\n",
       "      <th>PROVEEDOR</th>\n",
       "      <th>CATEGORIA</th>\n",
       "      <th>NRO_DOC</th>\n",
       "      <th>TIPO_DOC</th>\n",
       "    </tr>\n",
       "  </thead>\n",
       "  <tbody>\n",
       "    <tr>\n",
       "      <th>0</th>\n",
       "      <td>RMS376416100131006</td>\n",
       "      <td>23470018</td>\n",
       "      <td>AMEX_PARM</td>\n",
       "      <td>CANCELO</td>\n",
       "      <td>2021-01-28</td>\n",
       "      <td>2021-02-01</td>\n",
       "      <td>2021-02-01</td>\n",
       "      <td>INFORMES_DIGITALES</td>\n",
       "      <td>POSITIVO CON CAJA</td>\n",
       "      <td>23470018</td>\n",
       "      <td>DNI</td>\n",
       "    </tr>\n",
       "    <tr>\n",
       "      <th>1</th>\n",
       "      <td>RMS376416830222000</td>\n",
       "      <td>14572108</td>\n",
       "      <td>AMEX_PARM</td>\n",
       "      <td>CANCELO</td>\n",
       "      <td>2021-01-28</td>\n",
       "      <td>2021-02-01</td>\n",
       "      <td>2021-02-01</td>\n",
       "      <td>INFORMES_DIGITALES</td>\n",
       "      <td>POSITIVO CON CAJA</td>\n",
       "      <td>14572108</td>\n",
       "      <td>DNI</td>\n",
       "    </tr>\n",
       "    <tr>\n",
       "      <th>2</th>\n",
       "      <td>RMS376418146342001</td>\n",
       "      <td>10828195</td>\n",
       "      <td>AMEX_PARM</td>\n",
       "      <td>CANCELO FULL</td>\n",
       "      <td>2021-01-28</td>\n",
       "      <td>2021-02-01</td>\n",
       "      <td>2021-02-01</td>\n",
       "      <td>INFORMES_DIGITALES</td>\n",
       "      <td>POSITIVO CON CAJA</td>\n",
       "      <td>10828195</td>\n",
       "      <td>DNI</td>\n",
       "    </tr>\n",
       "    <tr>\n",
       "      <th>3</th>\n",
       "      <td>RMS376418379981004</td>\n",
       "      <td>23453906</td>\n",
       "      <td>AMEX_PARM</td>\n",
       "      <td>CANCELO FULL</td>\n",
       "      <td>2021-01-28</td>\n",
       "      <td>2021-02-01</td>\n",
       "      <td>2021-02-01</td>\n",
       "      <td>INFORMES_DIGITALES</td>\n",
       "      <td>POSITIVO CON CAJA</td>\n",
       "      <td>23453906</td>\n",
       "      <td>DNI</td>\n",
       "    </tr>\n",
       "    <tr>\n",
       "      <th>4</th>\n",
       "      <td>RMS376418471547000</td>\n",
       "      <td>29735377</td>\n",
       "      <td>AMEX_PARM</td>\n",
       "      <td>CANCELO FULL</td>\n",
       "      <td>2021-01-28</td>\n",
       "      <td>2021-02-01</td>\n",
       "      <td>2021-02-01</td>\n",
       "      <td>INFORMES_DIGITALES</td>\n",
       "      <td>POSITIVO CON CAJA</td>\n",
       "      <td>29735377</td>\n",
       "      <td>DNI</td>\n",
       "    </tr>\n",
       "  </tbody>\n",
       "</table>\n",
       "</div>"
      ],
      "text/plain": [
       "             IDMOROSO       DNI             IDCLIENTE ESTADO_ANTERIOR  \\\n",
       "0  RMS376416100131006  23470018  AMEX_PARM                    CANCELO   \n",
       "1  RMS376416830222000  14572108  AMEX_PARM                    CANCELO   \n",
       "2  RMS376418146342001  10828195  AMEX_PARM               CANCELO FULL   \n",
       "3  RMS376418379981004  23453906  AMEX_PARM               CANCELO FULL   \n",
       "4  RMS376418471547000  29735377  AMEX_PARM               CANCELO FULL   \n",
       "\n",
       "  FECHA_ENVIO_ENRIQUECIMIENTO FECHA_INSERCION_DATO FECHA_CAMBIO_ESTADO  \\\n",
       "0                  2021-01-28           2021-02-01          2021-02-01   \n",
       "1                  2021-01-28           2021-02-01          2021-02-01   \n",
       "2                  2021-01-28           2021-02-01          2021-02-01   \n",
       "3                  2021-01-28           2021-02-01          2021-02-01   \n",
       "4                  2021-01-28           2021-02-01          2021-02-01   \n",
       "\n",
       "            PROVEEDOR          CATEGORIA   NRO_DOC TIPO_DOC  \n",
       "0  INFORMES_DIGITALES  POSITIVO CON CAJA  23470018      DNI  \n",
       "1  INFORMES_DIGITALES  POSITIVO CON CAJA  14572108      DNI  \n",
       "2  INFORMES_DIGITALES  POSITIVO CON CAJA  10828195      DNI  \n",
       "3  INFORMES_DIGITALES  POSITIVO CON CAJA  23453906      DNI  \n",
       "4  INFORMES_DIGITALES  POSITIVO CON CAJA  29735377      DNI  "
      ]
     },
     "execution_count": 59,
     "metadata": {},
     "output_type": "execute_result"
    }
   ],
   "source": [
    "df_log.head()"
   ]
  },
  {
   "cell_type": "code",
   "execution_count": 60,
   "metadata": {},
   "outputs": [
    {
     "data": {
      "text/plain": [
       "(471, 11)"
      ]
     },
     "execution_count": 60,
     "metadata": {},
     "output_type": "execute_result"
    }
   ],
   "source": [
    "df_log.shape"
   ]
  },
  {
   "cell_type": "markdown",
   "metadata": {},
   "source": [
    "# 13) Union de Dataframes"
   ]
  },
  {
   "cell_type": "markdown",
   "metadata": {},
   "source": [
    "Se unen ambos dataframes en la columna NRO_DOC"
   ]
  },
  {
   "cell_type": "markdown",
   "metadata": {},
   "source": [
    "Convertimos la columna NRO_DOC de objeto a INT para hacer la unión"
   ]
  },
  {
   "cell_type": "code",
   "execution_count": 61,
   "metadata": {},
   "outputs": [],
   "source": [
    "df_reduced = df_reduced.astype({'NRO_DOC': 'str'})"
   ]
  },
  {
   "cell_type": "code",
   "execution_count": 62,
   "metadata": {},
   "outputs": [],
   "source": [
    "df_union = pd.merge(df_log, df_reduced, on='NRO_DOC', how='inner')"
   ]
  },
  {
   "cell_type": "code",
   "execution_count": 63,
   "metadata": {},
   "outputs": [],
   "source": [
    "#df_union = pd.merge(df_log,df_reduced[['NRO_DOC']],on=['NRO_DOC'],how=\"outer\",indicator=True)\n",
    "#df_union = df_union[df_union['_merge']=='left_only']"
   ]
  },
  {
   "cell_type": "code",
   "execution_count": 64,
   "metadata": {
    "scrolled": true
   },
   "outputs": [
    {
     "data": {
      "text/plain": [
       "(5981, 12)"
      ]
     },
     "execution_count": 64,
     "metadata": {},
     "output_type": "execute_result"
    }
   ],
   "source": [
    "df_union.shape"
   ]
  },
  {
   "cell_type": "code",
   "execution_count": 65,
   "metadata": {
    "scrolled": false
   },
   "outputs": [
    {
     "data": {
      "text/html": [
       "<div>\n",
       "<style scoped>\n",
       "    .dataframe tbody tr th:only-of-type {\n",
       "        vertical-align: middle;\n",
       "    }\n",
       "\n",
       "    .dataframe tbody tr th {\n",
       "        vertical-align: top;\n",
       "    }\n",
       "\n",
       "    .dataframe thead th {\n",
       "        text-align: right;\n",
       "    }\n",
       "</style>\n",
       "<table border=\"1\" class=\"dataframe\">\n",
       "  <thead>\n",
       "    <tr style=\"text-align: right;\">\n",
       "      <th></th>\n",
       "      <th>IDMOROSO</th>\n",
       "      <th>DNI</th>\n",
       "      <th>IDCLIENTE</th>\n",
       "      <th>ESTADO_ANTERIOR</th>\n",
       "      <th>FECHA_ENVIO_ENRIQUECIMIENTO</th>\n",
       "      <th>FECHA_INSERCION_DATO</th>\n",
       "      <th>FECHA_CAMBIO_ESTADO</th>\n",
       "      <th>PROVEEDOR</th>\n",
       "      <th>CATEGORIA</th>\n",
       "      <th>NRO_DOC</th>\n",
       "      <th>TIPO_DOC</th>\n",
       "      <th>CUIT_CUIL</th>\n",
       "    </tr>\n",
       "  </thead>\n",
       "  <tbody>\n",
       "    <tr>\n",
       "      <th>0</th>\n",
       "      <td>RMS376416100131006</td>\n",
       "      <td>23470018</td>\n",
       "      <td>AMEX_PARM</td>\n",
       "      <td>CANCELO</td>\n",
       "      <td>2021-01-28</td>\n",
       "      <td>2021-02-01</td>\n",
       "      <td>2021-02-01</td>\n",
       "      <td>INFORMES_DIGITALES</td>\n",
       "      <td>POSITIVO CON CAJA</td>\n",
       "      <td>23470018</td>\n",
       "      <td>DNI</td>\n",
       "      <td>23234700189</td>\n",
       "    </tr>\n",
       "    <tr>\n",
       "      <th>1</th>\n",
       "      <td>RMS376416100131006</td>\n",
       "      <td>23470018</td>\n",
       "      <td>AMEX_PARM</td>\n",
       "      <td>CANCELO</td>\n",
       "      <td>2021-01-28</td>\n",
       "      <td>2021-02-01</td>\n",
       "      <td>2021-02-01</td>\n",
       "      <td>INFORMES_DIGITALES</td>\n",
       "      <td>POSITIVO CON CAJA</td>\n",
       "      <td>23470018</td>\n",
       "      <td>DNI</td>\n",
       "      <td>23234700189</td>\n",
       "    </tr>\n",
       "    <tr>\n",
       "      <th>2</th>\n",
       "      <td>RMS376416100131006</td>\n",
       "      <td>23470018</td>\n",
       "      <td>AMEX_PARM</td>\n",
       "      <td>CANCELO</td>\n",
       "      <td>2021-01-28</td>\n",
       "      <td>2021-02-01</td>\n",
       "      <td>2021-02-01</td>\n",
       "      <td>INFORMES_DIGITALES</td>\n",
       "      <td>POSITIVO CON CAJA</td>\n",
       "      <td>23470018</td>\n",
       "      <td>DNI</td>\n",
       "      <td>23234700189</td>\n",
       "    </tr>\n",
       "    <tr>\n",
       "      <th>3</th>\n",
       "      <td>RMS376416100131006</td>\n",
       "      <td>23470018</td>\n",
       "      <td>AMEX_PARM</td>\n",
       "      <td>CANCELO</td>\n",
       "      <td>2021-01-28</td>\n",
       "      <td>2021-02-01</td>\n",
       "      <td>2021-02-01</td>\n",
       "      <td>INFORMES_DIGITALES</td>\n",
       "      <td>POSITIVO CON CAJA</td>\n",
       "      <td>23470018</td>\n",
       "      <td>DNI</td>\n",
       "      <td>23234700189</td>\n",
       "    </tr>\n",
       "    <tr>\n",
       "      <th>4</th>\n",
       "      <td>RMS376416100131006</td>\n",
       "      <td>23470018</td>\n",
       "      <td>AMEX_PARM</td>\n",
       "      <td>CANCELO</td>\n",
       "      <td>2021-01-28</td>\n",
       "      <td>2021-02-01</td>\n",
       "      <td>2021-02-01</td>\n",
       "      <td>INFORMES_DIGITALES</td>\n",
       "      <td>POSITIVO CON CAJA</td>\n",
       "      <td>23470018</td>\n",
       "      <td>DNI</td>\n",
       "      <td>23234700189</td>\n",
       "    </tr>\n",
       "  </tbody>\n",
       "</table>\n",
       "</div>"
      ],
      "text/plain": [
       "             IDMOROSO       DNI             IDCLIENTE ESTADO_ANTERIOR  \\\n",
       "0  RMS376416100131006  23470018  AMEX_PARM                    CANCELO   \n",
       "1  RMS376416100131006  23470018  AMEX_PARM                    CANCELO   \n",
       "2  RMS376416100131006  23470018  AMEX_PARM                    CANCELO   \n",
       "3  RMS376416100131006  23470018  AMEX_PARM                    CANCELO   \n",
       "4  RMS376416100131006  23470018  AMEX_PARM                    CANCELO   \n",
       "\n",
       "  FECHA_ENVIO_ENRIQUECIMIENTO FECHA_INSERCION_DATO FECHA_CAMBIO_ESTADO  \\\n",
       "0                  2021-01-28           2021-02-01          2021-02-01   \n",
       "1                  2021-01-28           2021-02-01          2021-02-01   \n",
       "2                  2021-01-28           2021-02-01          2021-02-01   \n",
       "3                  2021-01-28           2021-02-01          2021-02-01   \n",
       "4                  2021-01-28           2021-02-01          2021-02-01   \n",
       "\n",
       "            PROVEEDOR          CATEGORIA   NRO_DOC TIPO_DOC    CUIT_CUIL  \n",
       "0  INFORMES_DIGITALES  POSITIVO CON CAJA  23470018      DNI  23234700189  \n",
       "1  INFORMES_DIGITALES  POSITIVO CON CAJA  23470018      DNI  23234700189  \n",
       "2  INFORMES_DIGITALES  POSITIVO CON CAJA  23470018      DNI  23234700189  \n",
       "3  INFORMES_DIGITALES  POSITIVO CON CAJA  23470018      DNI  23234700189  \n",
       "4  INFORMES_DIGITALES  POSITIVO CON CAJA  23470018      DNI  23234700189  "
      ]
     },
     "execution_count": 65,
     "metadata": {},
     "output_type": "execute_result"
    }
   ],
   "source": [
    "df_union.head()"
   ]
  },
  {
   "cell_type": "code",
   "execution_count": 66,
   "metadata": {},
   "outputs": [],
   "source": [
    "df_clean = df_union.drop_duplicates()"
   ]
  },
  {
   "cell_type": "code",
   "execution_count": 67,
   "metadata": {},
   "outputs": [
    {
     "data": {
      "text/plain": [
       "(468, 12)"
      ]
     },
     "execution_count": 67,
     "metadata": {},
     "output_type": "execute_result"
    }
   ],
   "source": [
    "df_clean.shape"
   ]
  },
  {
   "cell_type": "code",
   "execution_count": 68,
   "metadata": {},
   "outputs": [
    {
     "data": {
      "text/html": [
       "<div>\n",
       "<style scoped>\n",
       "    .dataframe tbody tr th:only-of-type {\n",
       "        vertical-align: middle;\n",
       "    }\n",
       "\n",
       "    .dataframe tbody tr th {\n",
       "        vertical-align: top;\n",
       "    }\n",
       "\n",
       "    .dataframe thead th {\n",
       "        text-align: right;\n",
       "    }\n",
       "</style>\n",
       "<table border=\"1\" class=\"dataframe\">\n",
       "  <thead>\n",
       "    <tr style=\"text-align: right;\">\n",
       "      <th></th>\n",
       "      <th>IDMOROSO</th>\n",
       "      <th>DNI</th>\n",
       "      <th>IDCLIENTE</th>\n",
       "      <th>ESTADO_ANTERIOR</th>\n",
       "      <th>FECHA_ENVIO_ENRIQUECIMIENTO</th>\n",
       "      <th>FECHA_INSERCION_DATO</th>\n",
       "      <th>FECHA_CAMBIO_ESTADO</th>\n",
       "      <th>PROVEEDOR</th>\n",
       "      <th>CATEGORIA</th>\n",
       "      <th>NRO_DOC</th>\n",
       "      <th>TIPO_DOC</th>\n",
       "      <th>CUIT_CUIL</th>\n",
       "    </tr>\n",
       "  </thead>\n",
       "  <tbody>\n",
       "  </tbody>\n",
       "</table>\n",
       "</div>"
      ],
      "text/plain": [
       "Empty DataFrame\n",
       "Columns: [IDMOROSO, DNI, IDCLIENTE, ESTADO_ANTERIOR, FECHA_ENVIO_ENRIQUECIMIENTO, FECHA_INSERCION_DATO, FECHA_CAMBIO_ESTADO, PROVEEDOR, CATEGORIA, NRO_DOC, TIPO_DOC, CUIT_CUIL]\n",
       "Index: []"
      ]
     },
     "execution_count": 68,
     "metadata": {},
     "output_type": "execute_result"
    }
   ],
   "source": [
    "df_clean[df_clean.duplicated()]"
   ]
  },
  {
   "cell_type": "code",
   "execution_count": 69,
   "metadata": {},
   "outputs": [],
   "source": [
    "duplicateRowsDF = df_clean[df_clean.duplicated(subset=['IDMOROSO', 'IDCLIENTE'], keep=False)]"
   ]
  },
  {
   "cell_type": "code",
   "execution_count": 70,
   "metadata": {
    "scrolled": false
   },
   "outputs": [
    {
     "data": {
      "text/html": [
       "<div>\n",
       "<style scoped>\n",
       "    .dataframe tbody tr th:only-of-type {\n",
       "        vertical-align: middle;\n",
       "    }\n",
       "\n",
       "    .dataframe tbody tr th {\n",
       "        vertical-align: top;\n",
       "    }\n",
       "\n",
       "    .dataframe thead th {\n",
       "        text-align: right;\n",
       "    }\n",
       "</style>\n",
       "<table border=\"1\" class=\"dataframe\">\n",
       "  <thead>\n",
       "    <tr style=\"text-align: right;\">\n",
       "      <th></th>\n",
       "      <th>IDMOROSO</th>\n",
       "      <th>DNI</th>\n",
       "      <th>IDCLIENTE</th>\n",
       "      <th>ESTADO_ANTERIOR</th>\n",
       "      <th>FECHA_ENVIO_ENRIQUECIMIENTO</th>\n",
       "      <th>FECHA_INSERCION_DATO</th>\n",
       "      <th>FECHA_CAMBIO_ESTADO</th>\n",
       "      <th>PROVEEDOR</th>\n",
       "      <th>CATEGORIA</th>\n",
       "      <th>NRO_DOC</th>\n",
       "      <th>TIPO_DOC</th>\n",
       "      <th>CUIT_CUIL</th>\n",
       "    </tr>\n",
       "  </thead>\n",
       "  <tbody>\n",
       "    <tr>\n",
       "      <th>0</th>\n",
       "      <td>RMS376416100131006</td>\n",
       "      <td>23470018</td>\n",
       "      <td>AMEX_PARM</td>\n",
       "      <td>CANCELO</td>\n",
       "      <td>2021-01-28</td>\n",
       "      <td>2021-02-01</td>\n",
       "      <td>2021-02-01</td>\n",
       "      <td>INFORMES_DIGITALES</td>\n",
       "      <td>POSITIVO CON CAJA</td>\n",
       "      <td>23470018</td>\n",
       "      <td>DNI</td>\n",
       "      <td>23234700189</td>\n",
       "    </tr>\n",
       "    <tr>\n",
       "      <th>71</th>\n",
       "      <td>RMS376416100131006</td>\n",
       "      <td>23470018</td>\n",
       "      <td>AMEX_PARM</td>\n",
       "      <td>CANCELO</td>\n",
       "      <td>2021-01-28</td>\n",
       "      <td>2021-02-01</td>\n",
       "      <td>2021-02-01</td>\n",
       "      <td>INFORMES_DIGITALES</td>\n",
       "      <td>POSITIVO CON CAJA</td>\n",
       "      <td>23470018</td>\n",
       "      <td>DNI</td>\n",
       "      <td>27234700184</td>\n",
       "    </tr>\n",
       "    <tr>\n",
       "      <th>207</th>\n",
       "      <td>RMS376414762233004</td>\n",
       "      <td>6151331</td>\n",
       "      <td>AMEX_PARM</td>\n",
       "      <td>NO UBICADO</td>\n",
       "      <td>2021-01-28</td>\n",
       "      <td>2021-02-01</td>\n",
       "      <td>2021-02-01</td>\n",
       "      <td>INFORMES_DIGITALES</td>\n",
       "      <td>NEGATIVO POR CONTACTABILIDAD</td>\n",
       "      <td>6151331</td>\n",
       "      <td>DNI</td>\n",
       "      <td>20061513311</td>\n",
       "    </tr>\n",
       "    <tr>\n",
       "      <th>217</th>\n",
       "      <td>RMS376414762233004</td>\n",
       "      <td>6151331</td>\n",
       "      <td>AMEX_PARM</td>\n",
       "      <td>NO UBICADO</td>\n",
       "      <td>2021-01-28</td>\n",
       "      <td>2021-02-01</td>\n",
       "      <td>2021-02-01</td>\n",
       "      <td>INFORMES_DIGITALES</td>\n",
       "      <td>NEGATIVO POR CONTACTABILIDAD</td>\n",
       "      <td>6151331</td>\n",
       "      <td>DNI</td>\n",
       "      <td>27061513316</td>\n",
       "    </tr>\n",
       "    <tr>\n",
       "      <th>256</th>\n",
       "      <td>RMS376417431931007</td>\n",
       "      <td>4569178</td>\n",
       "      <td>AMEX_PARM</td>\n",
       "      <td>CANCELO DEVUELTO</td>\n",
       "      <td>2021-01-28</td>\n",
       "      <td>2021-02-01</td>\n",
       "      <td>2021-02-01</td>\n",
       "      <td>INFORMES_DIGITALES</td>\n",
       "      <td>POSITIVO CON CAJA</td>\n",
       "      <td>4569178</td>\n",
       "      <td>DNI</td>\n",
       "      <td>20045691781</td>\n",
       "    </tr>\n",
       "    <tr>\n",
       "      <th>...</th>\n",
       "      <td>...</td>\n",
       "      <td>...</td>\n",
       "      <td>...</td>\n",
       "      <td>...</td>\n",
       "      <td>...</td>\n",
       "      <td>...</td>\n",
       "      <td>...</td>\n",
       "      <td>...</td>\n",
       "      <td>...</td>\n",
       "      <td>...</td>\n",
       "      <td>...</td>\n",
       "      <td>...</td>\n",
       "    </tr>\n",
       "    <tr>\n",
       "      <th>5963</th>\n",
       "      <td>LC  6063215</td>\n",
       "      <td>LC  6063215</td>\n",
       "      <td>FRANCES_2012</td>\n",
       "      <td>ROTACION</td>\n",
       "      <td>2021-01-28</td>\n",
       "      <td>2021-02-01</td>\n",
       "      <td>2021-02-01</td>\n",
       "      <td>INFORMES_DIGITALES</td>\n",
       "      <td>NEUTRO</td>\n",
       "      <td>6063215</td>\n",
       "      <td>LC</td>\n",
       "      <td>20060632155</td>\n",
       "    </tr>\n",
       "    <tr>\n",
       "      <th>5964</th>\n",
       "      <td>LC  6063215</td>\n",
       "      <td>LC  6063215</td>\n",
       "      <td>FRANCES_2012</td>\n",
       "      <td>ROTACION</td>\n",
       "      <td>2021-01-28</td>\n",
       "      <td>2021-02-01</td>\n",
       "      <td>2021-02-01</td>\n",
       "      <td>INFORMES_DIGITALES</td>\n",
       "      <td>NEUTRO</td>\n",
       "      <td>6063215</td>\n",
       "      <td>LC</td>\n",
       "      <td>23060632154</td>\n",
       "    </tr>\n",
       "    <tr>\n",
       "      <th>5969</th>\n",
       "      <td>LE  5404883</td>\n",
       "      <td>LE  5404883</td>\n",
       "      <td>FRANCES_2012</td>\n",
       "      <td>ROTACION</td>\n",
       "      <td>2021-01-28</td>\n",
       "      <td>2021-02-01</td>\n",
       "      <td>2021-02-01</td>\n",
       "      <td>INFORMES_DIGITALES</td>\n",
       "      <td>NEUTRO</td>\n",
       "      <td>5404883</td>\n",
       "      <td>LE</td>\n",
       "      <td>20054048832</td>\n",
       "    </tr>\n",
       "    <tr>\n",
       "      <th>5975</th>\n",
       "      <td>LE  5404883</td>\n",
       "      <td>LE  5404883</td>\n",
       "      <td>FRANCES_2012</td>\n",
       "      <td>ROTACION</td>\n",
       "      <td>2021-01-28</td>\n",
       "      <td>2021-02-01</td>\n",
       "      <td>2021-02-01</td>\n",
       "      <td>INFORMES_DIGITALES</td>\n",
       "      <td>NEUTRO</td>\n",
       "      <td>5404883</td>\n",
       "      <td>LE</td>\n",
       "      <td>24054048838</td>\n",
       "    </tr>\n",
       "    <tr>\n",
       "      <th>5978</th>\n",
       "      <td>LE  5404883</td>\n",
       "      <td>LE  5404883</td>\n",
       "      <td>FRANCES_2012</td>\n",
       "      <td>ROTACION</td>\n",
       "      <td>2021-01-28</td>\n",
       "      <td>2021-02-01</td>\n",
       "      <td>2021-02-01</td>\n",
       "      <td>INFORMES_DIGITALES</td>\n",
       "      <td>NEUTRO</td>\n",
       "      <td>5404883</td>\n",
       "      <td>LE</td>\n",
       "      <td>27054048837</td>\n",
       "    </tr>\n",
       "  </tbody>\n",
       "</table>\n",
       "<p>80 rows × 12 columns</p>\n",
       "</div>"
      ],
      "text/plain": [
       "                IDMOROSO                 DNI             IDCLIENTE  \\\n",
       "0     RMS376416100131006            23470018  AMEX_PARM              \n",
       "71    RMS376416100131006            23470018  AMEX_PARM              \n",
       "207   RMS376414762233004             6151331  AMEX_PARM              \n",
       "217   RMS376414762233004             6151331  AMEX_PARM              \n",
       "256   RMS376417431931007             4569178  AMEX_PARM              \n",
       "...                  ...                 ...                   ...   \n",
       "5963  LC  6063215         LC  6063215         FRANCES_2012           \n",
       "5964  LC  6063215         LC  6063215         FRANCES_2012           \n",
       "5969  LE  5404883         LE  5404883         FRANCES_2012           \n",
       "5975  LE  5404883         LE  5404883         FRANCES_2012           \n",
       "5978  LE  5404883         LE  5404883         FRANCES_2012           \n",
       "\n",
       "       ESTADO_ANTERIOR FECHA_ENVIO_ENRIQUECIMIENTO FECHA_INSERCION_DATO  \\\n",
       "0              CANCELO                  2021-01-28           2021-02-01   \n",
       "71             CANCELO                  2021-01-28           2021-02-01   \n",
       "207         NO UBICADO                  2021-01-28           2021-02-01   \n",
       "217         NO UBICADO                  2021-01-28           2021-02-01   \n",
       "256   CANCELO DEVUELTO                  2021-01-28           2021-02-01   \n",
       "...                ...                         ...                  ...   \n",
       "5963          ROTACION                  2021-01-28           2021-02-01   \n",
       "5964          ROTACION                  2021-01-28           2021-02-01   \n",
       "5969          ROTACION                  2021-01-28           2021-02-01   \n",
       "5975          ROTACION                  2021-01-28           2021-02-01   \n",
       "5978          ROTACION                  2021-01-28           2021-02-01   \n",
       "\n",
       "     FECHA_CAMBIO_ESTADO           PROVEEDOR                     CATEGORIA  \\\n",
       "0             2021-02-01  INFORMES_DIGITALES             POSITIVO CON CAJA   \n",
       "71            2021-02-01  INFORMES_DIGITALES             POSITIVO CON CAJA   \n",
       "207           2021-02-01  INFORMES_DIGITALES  NEGATIVO POR CONTACTABILIDAD   \n",
       "217           2021-02-01  INFORMES_DIGITALES  NEGATIVO POR CONTACTABILIDAD   \n",
       "256           2021-02-01  INFORMES_DIGITALES             POSITIVO CON CAJA   \n",
       "...                  ...                 ...                           ...   \n",
       "5963          2021-02-01  INFORMES_DIGITALES                        NEUTRO   \n",
       "5964          2021-02-01  INFORMES_DIGITALES                        NEUTRO   \n",
       "5969          2021-02-01  INFORMES_DIGITALES                        NEUTRO   \n",
       "5975          2021-02-01  INFORMES_DIGITALES                        NEUTRO   \n",
       "5978          2021-02-01  INFORMES_DIGITALES                        NEUTRO   \n",
       "\n",
       "       NRO_DOC TIPO_DOC    CUIT_CUIL  \n",
       "0     23470018      DNI  23234700189  \n",
       "71    23470018      DNI  27234700184  \n",
       "207    6151331      DNI  20061513311  \n",
       "217    6151331      DNI  27061513316  \n",
       "256    4569178      DNI  20045691781  \n",
       "...        ...      ...          ...  \n",
       "5963   6063215       LC  20060632155  \n",
       "5964   6063215       LC  23060632154  \n",
       "5969   5404883       LE  20054048832  \n",
       "5975   5404883       LE  24054048838  \n",
       "5978   5404883       LE  27054048837  \n",
       "\n",
       "[80 rows x 12 columns]"
      ]
     },
     "execution_count": 70,
     "metadata": {},
     "output_type": "execute_result"
    }
   ],
   "source": [
    "duplicateRowsDF"
   ]
  },
  {
   "cell_type": "code",
   "execution_count": 71,
   "metadata": {},
   "outputs": [
    {
     "data": {
      "text/html": [
       "<div>\n",
       "<style scoped>\n",
       "    .dataframe tbody tr th:only-of-type {\n",
       "        vertical-align: middle;\n",
       "    }\n",
       "\n",
       "    .dataframe tbody tr th {\n",
       "        vertical-align: top;\n",
       "    }\n",
       "\n",
       "    .dataframe thead th {\n",
       "        text-align: right;\n",
       "    }\n",
       "</style>\n",
       "<table border=\"1\" class=\"dataframe\">\n",
       "  <thead>\n",
       "    <tr style=\"text-align: right;\">\n",
       "      <th></th>\n",
       "      <th>IDMOROSO</th>\n",
       "      <th>DNI</th>\n",
       "      <th>IDCLIENTE</th>\n",
       "      <th>ESTADO_ANTERIOR</th>\n",
       "      <th>FECHA_ENVIO_ENRIQUECIMIENTO</th>\n",
       "      <th>FECHA_INSERCION_DATO</th>\n",
       "      <th>FECHA_CAMBIO_ESTADO</th>\n",
       "      <th>PROVEEDOR</th>\n",
       "      <th>CATEGORIA</th>\n",
       "      <th>NRO_DOC</th>\n",
       "      <th>TIPO_DOC</th>\n",
       "      <th>CUIT_CUIL</th>\n",
       "    </tr>\n",
       "  </thead>\n",
       "  <tbody>\n",
       "  </tbody>\n",
       "</table>\n",
       "</div>"
      ],
      "text/plain": [
       "Empty DataFrame\n",
       "Columns: [IDMOROSO, DNI, IDCLIENTE, ESTADO_ANTERIOR, FECHA_ENVIO_ENRIQUECIMIENTO, FECHA_INSERCION_DATO, FECHA_CAMBIO_ESTADO, PROVEEDOR, CATEGORIA, NRO_DOC, TIPO_DOC, CUIT_CUIL]\n",
       "Index: []"
      ]
     },
     "execution_count": 71,
     "metadata": {},
     "output_type": "execute_result"
    }
   ],
   "source": [
    "df_clean[df_clean['IDMOROSO'] == 'DNI 42538841      ']"
   ]
  },
  {
   "cell_type": "markdown",
   "metadata": {},
   "source": [
    "El problema que se presenta es que al no enviar con género, desde Informes Digitales devuelven 2 cuits. Pueden existir errores en ese punto. No tenemos solución para determinar si es uno u otro."
   ]
  },
  {
   "cell_type": "code",
   "execution_count": 72,
   "metadata": {},
   "outputs": [],
   "source": [
    "df_clean = df_clean.drop_duplicates(subset=['IDMOROSO','IDCLIENTE'], keep= 'first')"
   ]
  },
  {
   "cell_type": "code",
   "execution_count": 73,
   "metadata": {},
   "outputs": [
    {
     "data": {
      "text/plain": [
       "(427, 12)"
      ]
     },
     "execution_count": 73,
     "metadata": {},
     "output_type": "execute_result"
    }
   ],
   "source": [
    "df_clean.shape"
   ]
  },
  {
   "cell_type": "code",
   "execution_count": 74,
   "metadata": {
    "scrolled": true
   },
   "outputs": [
    {
     "data": {
      "text/html": [
       "<div>\n",
       "<style scoped>\n",
       "    .dataframe tbody tr th:only-of-type {\n",
       "        vertical-align: middle;\n",
       "    }\n",
       "\n",
       "    .dataframe tbody tr th {\n",
       "        vertical-align: top;\n",
       "    }\n",
       "\n",
       "    .dataframe thead th {\n",
       "        text-align: right;\n",
       "    }\n",
       "</style>\n",
       "<table border=\"1\" class=\"dataframe\">\n",
       "  <thead>\n",
       "    <tr style=\"text-align: right;\">\n",
       "      <th></th>\n",
       "      <th>IDMOROSO</th>\n",
       "      <th>DNI</th>\n",
       "      <th>IDCLIENTE</th>\n",
       "      <th>ESTADO_ANTERIOR</th>\n",
       "      <th>FECHA_ENVIO_ENRIQUECIMIENTO</th>\n",
       "      <th>FECHA_INSERCION_DATO</th>\n",
       "      <th>FECHA_CAMBIO_ESTADO</th>\n",
       "      <th>PROVEEDOR</th>\n",
       "      <th>CATEGORIA</th>\n",
       "      <th>NRO_DOC</th>\n",
       "      <th>TIPO_DOC</th>\n",
       "      <th>CUIT_CUIL</th>\n",
       "    </tr>\n",
       "  </thead>\n",
       "  <tbody>\n",
       "  </tbody>\n",
       "</table>\n",
       "</div>"
      ],
      "text/plain": [
       "Empty DataFrame\n",
       "Columns: [IDMOROSO, DNI, IDCLIENTE, ESTADO_ANTERIOR, FECHA_ENVIO_ENRIQUECIMIENTO, FECHA_INSERCION_DATO, FECHA_CAMBIO_ESTADO, PROVEEDOR, CATEGORIA, NRO_DOC, TIPO_DOC, CUIT_CUIL]\n",
       "Index: []"
      ]
     },
     "execution_count": 74,
     "metadata": {},
     "output_type": "execute_result"
    }
   ],
   "source": [
    "df_clean[df_clean['IDMOROSO'] == 'DNI 42538841      ']"
   ]
  },
  {
   "cell_type": "markdown",
   "metadata": {},
   "source": [
    "## Nuevo Estado"
   ]
  },
  {
   "cell_type": "markdown",
   "metadata": {
    "scrolled": true
   },
   "source": [
    "Como no se usaron nuevos estados, se deja en nulo"
   ]
  },
  {
   "cell_type": "code",
   "execution_count": 75,
   "metadata": {},
   "outputs": [],
   "source": [
    "df_clean = df_clean.assign(NUEVO_ESTADO=np.nan)"
   ]
  },
  {
   "cell_type": "markdown",
   "metadata": {},
   "source": [
    "## Enriquecido"
   ]
  },
  {
   "cell_type": "markdown",
   "metadata": {},
   "source": [
    "Nota: sólo estoy mirando los enriquecidos. Si no se enriqueció, no lo mando al LOG."
   ]
  },
  {
   "cell_type": "code",
   "execution_count": 76,
   "metadata": {},
   "outputs": [],
   "source": [
    "df_clean = df_clean.assign(ENRIQUECIDO=True)"
   ]
  },
  {
   "cell_type": "code",
   "execution_count": 77,
   "metadata": {},
   "outputs": [
    {
     "data": {
      "text/html": [
       "<div>\n",
       "<style scoped>\n",
       "    .dataframe tbody tr th:only-of-type {\n",
       "        vertical-align: middle;\n",
       "    }\n",
       "\n",
       "    .dataframe tbody tr th {\n",
       "        vertical-align: top;\n",
       "    }\n",
       "\n",
       "    .dataframe thead th {\n",
       "        text-align: right;\n",
       "    }\n",
       "</style>\n",
       "<table border=\"1\" class=\"dataframe\">\n",
       "  <thead>\n",
       "    <tr style=\"text-align: right;\">\n",
       "      <th></th>\n",
       "      <th>IDMOROSO</th>\n",
       "      <th>DNI</th>\n",
       "      <th>IDCLIENTE</th>\n",
       "      <th>ESTADO_ANTERIOR</th>\n",
       "      <th>FECHA_ENVIO_ENRIQUECIMIENTO</th>\n",
       "      <th>FECHA_INSERCION_DATO</th>\n",
       "      <th>FECHA_CAMBIO_ESTADO</th>\n",
       "      <th>PROVEEDOR</th>\n",
       "      <th>CATEGORIA</th>\n",
       "      <th>NRO_DOC</th>\n",
       "      <th>TIPO_DOC</th>\n",
       "      <th>CUIT_CUIL</th>\n",
       "      <th>NUEVO_ESTADO</th>\n",
       "      <th>ENRIQUECIDO</th>\n",
       "    </tr>\n",
       "  </thead>\n",
       "  <tbody>\n",
       "    <tr>\n",
       "      <th>0</th>\n",
       "      <td>RMS376416100131006</td>\n",
       "      <td>23470018</td>\n",
       "      <td>AMEX_PARM</td>\n",
       "      <td>CANCELO</td>\n",
       "      <td>2021-01-28</td>\n",
       "      <td>2021-02-01</td>\n",
       "      <td>2021-02-01</td>\n",
       "      <td>INFORMES_DIGITALES</td>\n",
       "      <td>POSITIVO CON CAJA</td>\n",
       "      <td>23470018</td>\n",
       "      <td>DNI</td>\n",
       "      <td>23234700189</td>\n",
       "      <td>NaN</td>\n",
       "      <td>True</td>\n",
       "    </tr>\n",
       "    <tr>\n",
       "      <th>75</th>\n",
       "      <td>RMS376416830222000</td>\n",
       "      <td>14572108</td>\n",
       "      <td>AMEX_PARM</td>\n",
       "      <td>CANCELO</td>\n",
       "      <td>2021-01-28</td>\n",
       "      <td>2021-02-01</td>\n",
       "      <td>2021-02-01</td>\n",
       "      <td>INFORMES_DIGITALES</td>\n",
       "      <td>POSITIVO CON CAJA</td>\n",
       "      <td>14572108</td>\n",
       "      <td>DNI</td>\n",
       "      <td>20145721084</td>\n",
       "      <td>NaN</td>\n",
       "      <td>True</td>\n",
       "    </tr>\n",
       "    <tr>\n",
       "      <th>118</th>\n",
       "      <td>RMS376418146342001</td>\n",
       "      <td>10828195</td>\n",
       "      <td>AMEX_PARM</td>\n",
       "      <td>CANCELO FULL</td>\n",
       "      <td>2021-01-28</td>\n",
       "      <td>2021-02-01</td>\n",
       "      <td>2021-02-01</td>\n",
       "      <td>INFORMES_DIGITALES</td>\n",
       "      <td>POSITIVO CON CAJA</td>\n",
       "      <td>10828195</td>\n",
       "      <td>DNI</td>\n",
       "      <td>27108281958</td>\n",
       "      <td>NaN</td>\n",
       "      <td>True</td>\n",
       "    </tr>\n",
       "    <tr>\n",
       "      <th>129</th>\n",
       "      <td>RMS376418379981004</td>\n",
       "      <td>23453906</td>\n",
       "      <td>AMEX_PARM</td>\n",
       "      <td>CANCELO FULL</td>\n",
       "      <td>2021-01-28</td>\n",
       "      <td>2021-02-01</td>\n",
       "      <td>2021-02-01</td>\n",
       "      <td>INFORMES_DIGITALES</td>\n",
       "      <td>POSITIVO CON CAJA</td>\n",
       "      <td>23453906</td>\n",
       "      <td>DNI</td>\n",
       "      <td>20234539060</td>\n",
       "      <td>NaN</td>\n",
       "      <td>True</td>\n",
       "    </tr>\n",
       "    <tr>\n",
       "      <th>135</th>\n",
       "      <td>RMS376418471547000</td>\n",
       "      <td>29735377</td>\n",
       "      <td>AMEX_PARM</td>\n",
       "      <td>CANCELO FULL</td>\n",
       "      <td>2021-01-28</td>\n",
       "      <td>2021-02-01</td>\n",
       "      <td>2021-02-01</td>\n",
       "      <td>INFORMES_DIGITALES</td>\n",
       "      <td>POSITIVO CON CAJA</td>\n",
       "      <td>29735377</td>\n",
       "      <td>DNI</td>\n",
       "      <td>20297353773</td>\n",
       "      <td>NaN</td>\n",
       "      <td>True</td>\n",
       "    </tr>\n",
       "  </tbody>\n",
       "</table>\n",
       "</div>"
      ],
      "text/plain": [
       "               IDMOROSO       DNI             IDCLIENTE ESTADO_ANTERIOR  \\\n",
       "0    RMS376416100131006  23470018  AMEX_PARM                    CANCELO   \n",
       "75   RMS376416830222000  14572108  AMEX_PARM                    CANCELO   \n",
       "118  RMS376418146342001  10828195  AMEX_PARM               CANCELO FULL   \n",
       "129  RMS376418379981004  23453906  AMEX_PARM               CANCELO FULL   \n",
       "135  RMS376418471547000  29735377  AMEX_PARM               CANCELO FULL   \n",
       "\n",
       "    FECHA_ENVIO_ENRIQUECIMIENTO FECHA_INSERCION_DATO FECHA_CAMBIO_ESTADO  \\\n",
       "0                    2021-01-28           2021-02-01          2021-02-01   \n",
       "75                   2021-01-28           2021-02-01          2021-02-01   \n",
       "118                  2021-01-28           2021-02-01          2021-02-01   \n",
       "129                  2021-01-28           2021-02-01          2021-02-01   \n",
       "135                  2021-01-28           2021-02-01          2021-02-01   \n",
       "\n",
       "              PROVEEDOR          CATEGORIA   NRO_DOC TIPO_DOC    CUIT_CUIL  \\\n",
       "0    INFORMES_DIGITALES  POSITIVO CON CAJA  23470018      DNI  23234700189   \n",
       "75   INFORMES_DIGITALES  POSITIVO CON CAJA  14572108      DNI  20145721084   \n",
       "118  INFORMES_DIGITALES  POSITIVO CON CAJA  10828195      DNI  27108281958   \n",
       "129  INFORMES_DIGITALES  POSITIVO CON CAJA  23453906      DNI  20234539060   \n",
       "135  INFORMES_DIGITALES  POSITIVO CON CAJA  29735377      DNI  20297353773   \n",
       "\n",
       "     NUEVO_ESTADO  ENRIQUECIDO  \n",
       "0             NaN         True  \n",
       "75            NaN         True  \n",
       "118           NaN         True  \n",
       "129           NaN         True  \n",
       "135           NaN         True  "
      ]
     },
     "execution_count": 77,
     "metadata": {},
     "output_type": "execute_result"
    }
   ],
   "source": [
    "df_clean.head()"
   ]
  },
  {
   "cell_type": "code",
   "execution_count": 78,
   "metadata": {},
   "outputs": [],
   "source": [
    "df_clean = df_clean [['IDMOROSO','IDCLIENTE','ESTADO_ANTERIOR','CATEGORIA','NUEVO_ESTADO','ENRIQUECIDO','FECHA_ENVIO_ENRIQUECIMIENTO','FECHA_INSERCION_DATO','FECHA_CAMBIO_ESTADO','PROVEEDOR']]"
   ]
  },
  {
   "cell_type": "code",
   "execution_count": 79,
   "metadata": {
    "scrolled": true
   },
   "outputs": [
    {
     "data": {
      "text/html": [
       "<div>\n",
       "<style scoped>\n",
       "    .dataframe tbody tr th:only-of-type {\n",
       "        vertical-align: middle;\n",
       "    }\n",
       "\n",
       "    .dataframe tbody tr th {\n",
       "        vertical-align: top;\n",
       "    }\n",
       "\n",
       "    .dataframe thead th {\n",
       "        text-align: right;\n",
       "    }\n",
       "</style>\n",
       "<table border=\"1\" class=\"dataframe\">\n",
       "  <thead>\n",
       "    <tr style=\"text-align: right;\">\n",
       "      <th></th>\n",
       "      <th>IDMOROSO</th>\n",
       "      <th>IDCLIENTE</th>\n",
       "      <th>ESTADO_ANTERIOR</th>\n",
       "      <th>CATEGORIA</th>\n",
       "      <th>NUEVO_ESTADO</th>\n",
       "      <th>ENRIQUECIDO</th>\n",
       "      <th>FECHA_ENVIO_ENRIQUECIMIENTO</th>\n",
       "      <th>FECHA_INSERCION_DATO</th>\n",
       "      <th>FECHA_CAMBIO_ESTADO</th>\n",
       "      <th>PROVEEDOR</th>\n",
       "    </tr>\n",
       "  </thead>\n",
       "  <tbody>\n",
       "    <tr>\n",
       "      <th>0</th>\n",
       "      <td>RMS376416100131006</td>\n",
       "      <td>AMEX_PARM</td>\n",
       "      <td>CANCELO</td>\n",
       "      <td>POSITIVO CON CAJA</td>\n",
       "      <td>NaN</td>\n",
       "      <td>True</td>\n",
       "      <td>2021-01-28</td>\n",
       "      <td>2021-02-01</td>\n",
       "      <td>2021-02-01</td>\n",
       "      <td>INFORMES_DIGITALES</td>\n",
       "    </tr>\n",
       "    <tr>\n",
       "      <th>75</th>\n",
       "      <td>RMS376416830222000</td>\n",
       "      <td>AMEX_PARM</td>\n",
       "      <td>CANCELO</td>\n",
       "      <td>POSITIVO CON CAJA</td>\n",
       "      <td>NaN</td>\n",
       "      <td>True</td>\n",
       "      <td>2021-01-28</td>\n",
       "      <td>2021-02-01</td>\n",
       "      <td>2021-02-01</td>\n",
       "      <td>INFORMES_DIGITALES</td>\n",
       "    </tr>\n",
       "    <tr>\n",
       "      <th>118</th>\n",
       "      <td>RMS376418146342001</td>\n",
       "      <td>AMEX_PARM</td>\n",
       "      <td>CANCELO FULL</td>\n",
       "      <td>POSITIVO CON CAJA</td>\n",
       "      <td>NaN</td>\n",
       "      <td>True</td>\n",
       "      <td>2021-01-28</td>\n",
       "      <td>2021-02-01</td>\n",
       "      <td>2021-02-01</td>\n",
       "      <td>INFORMES_DIGITALES</td>\n",
       "    </tr>\n",
       "    <tr>\n",
       "      <th>129</th>\n",
       "      <td>RMS376418379981004</td>\n",
       "      <td>AMEX_PARM</td>\n",
       "      <td>CANCELO FULL</td>\n",
       "      <td>POSITIVO CON CAJA</td>\n",
       "      <td>NaN</td>\n",
       "      <td>True</td>\n",
       "      <td>2021-01-28</td>\n",
       "      <td>2021-02-01</td>\n",
       "      <td>2021-02-01</td>\n",
       "      <td>INFORMES_DIGITALES</td>\n",
       "    </tr>\n",
       "    <tr>\n",
       "      <th>135</th>\n",
       "      <td>RMS376418471547000</td>\n",
       "      <td>AMEX_PARM</td>\n",
       "      <td>CANCELO FULL</td>\n",
       "      <td>POSITIVO CON CAJA</td>\n",
       "      <td>NaN</td>\n",
       "      <td>True</td>\n",
       "      <td>2021-01-28</td>\n",
       "      <td>2021-02-01</td>\n",
       "      <td>2021-02-01</td>\n",
       "      <td>INFORMES_DIGITALES</td>\n",
       "    </tr>\n",
       "  </tbody>\n",
       "</table>\n",
       "</div>"
      ],
      "text/plain": [
       "               IDMOROSO             IDCLIENTE ESTADO_ANTERIOR  \\\n",
       "0    RMS376416100131006  AMEX_PARM                    CANCELO   \n",
       "75   RMS376416830222000  AMEX_PARM                    CANCELO   \n",
       "118  RMS376418146342001  AMEX_PARM               CANCELO FULL   \n",
       "129  RMS376418379981004  AMEX_PARM               CANCELO FULL   \n",
       "135  RMS376418471547000  AMEX_PARM               CANCELO FULL   \n",
       "\n",
       "             CATEGORIA  NUEVO_ESTADO  ENRIQUECIDO FECHA_ENVIO_ENRIQUECIMIENTO  \\\n",
       "0    POSITIVO CON CAJA           NaN         True                  2021-01-28   \n",
       "75   POSITIVO CON CAJA           NaN         True                  2021-01-28   \n",
       "118  POSITIVO CON CAJA           NaN         True                  2021-01-28   \n",
       "129  POSITIVO CON CAJA           NaN         True                  2021-01-28   \n",
       "135  POSITIVO CON CAJA           NaN         True                  2021-01-28   \n",
       "\n",
       "    FECHA_INSERCION_DATO FECHA_CAMBIO_ESTADO           PROVEEDOR  \n",
       "0             2021-02-01          2021-02-01  INFORMES_DIGITALES  \n",
       "75            2021-02-01          2021-02-01  INFORMES_DIGITALES  \n",
       "118           2021-02-01          2021-02-01  INFORMES_DIGITALES  \n",
       "129           2021-02-01          2021-02-01  INFORMES_DIGITALES  \n",
       "135           2021-02-01          2021-02-01  INFORMES_DIGITALES  "
      ]
     },
     "execution_count": 79,
     "metadata": {},
     "output_type": "execute_result"
    }
   ],
   "source": [
    "df_clean.head()"
   ]
  },
  {
   "cell_type": "code",
   "execution_count": 80,
   "metadata": {},
   "outputs": [
    {
     "data": {
      "text/plain": [
       "(427, 10)"
      ]
     },
     "execution_count": 80,
     "metadata": {},
     "output_type": "execute_result"
    }
   ],
   "source": [
    "df_clean.shape"
   ]
  },
  {
   "cell_type": "markdown",
   "metadata": {},
   "source": [
    "# Export"
   ]
  },
  {
   "cell_type": "code",
   "execution_count": 81,
   "metadata": {},
   "outputs": [],
   "source": [
    "df_clean.to_csv('/mnt/c/Users/Dleg/Data/MOPC/MOPC/Enriquecimiento de Datos/Data Cleaning/Informes Digitales/Exports/DAM_LOG/InfDig_DAM_LOG_0402.csv',index=False)"
   ]
  },
  {
   "cell_type": "code",
   "execution_count": 82,
   "metadata": {},
   "outputs": [
    {
     "data": {
      "text/html": [
       "<div>\n",
       "<style scoped>\n",
       "    .dataframe tbody tr th:only-of-type {\n",
       "        vertical-align: middle;\n",
       "    }\n",
       "\n",
       "    .dataframe tbody tr th {\n",
       "        vertical-align: top;\n",
       "    }\n",
       "\n",
       "    .dataframe thead th {\n",
       "        text-align: right;\n",
       "    }\n",
       "</style>\n",
       "<table border=\"1\" class=\"dataframe\">\n",
       "  <thead>\n",
       "    <tr style=\"text-align: right;\">\n",
       "      <th></th>\n",
       "      <th>IDMOROSO</th>\n",
       "      <th>IDCLIENTE</th>\n",
       "      <th>ESTADO_ANTERIOR</th>\n",
       "      <th>CATEGORIA</th>\n",
       "      <th>NUEVO_ESTADO</th>\n",
       "      <th>ENRIQUECIDO</th>\n",
       "      <th>FECHA_ENVIO_ENRIQUECIMIENTO</th>\n",
       "      <th>FECHA_INSERCION_DATO</th>\n",
       "      <th>FECHA_CAMBIO_ESTADO</th>\n",
       "      <th>PROVEEDOR</th>\n",
       "    </tr>\n",
       "  </thead>\n",
       "  <tbody>\n",
       "  </tbody>\n",
       "</table>\n",
       "</div>"
      ],
      "text/plain": [
       "Empty DataFrame\n",
       "Columns: [IDMOROSO, IDCLIENTE, ESTADO_ANTERIOR, CATEGORIA, NUEVO_ESTADO, ENRIQUECIDO, FECHA_ENVIO_ENRIQUECIMIENTO, FECHA_INSERCION_DATO, FECHA_CAMBIO_ESTADO, PROVEEDOR]\n",
       "Index: []"
      ]
     },
     "execution_count": 82,
     "metadata": {},
     "output_type": "execute_result"
    }
   ],
   "source": [
    "df_clean[df_clean.duplicated(subset=['IDMOROSO'])]"
   ]
  },
  {
   "cell_type": "code",
   "execution_count": null,
   "metadata": {},
   "outputs": [],
   "source": []
  }
 ],
 "metadata": {
  "kernelspec": {
   "display_name": "Python 3",
   "language": "python",
   "name": "python3"
  },
  "language_info": {
   "codemirror_mode": {
    "name": "ipython",
    "version": 3
   },
   "file_extension": ".py",
   "mimetype": "text/x-python",
   "name": "python",
   "nbconvert_exporter": "python",
   "pygments_lexer": "ipython3",
   "version": "3.8.6"
  }
 },
 "nbformat": 4,
 "nbformat_minor": 4
}
